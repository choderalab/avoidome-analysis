{
 "cells": [
  {
   "cell_type": "code",
   "execution_count": null,
   "id": "initial_id",
   "metadata": {
    "collapsed": true
   },
   "outputs": [],
   "source": [
    "import numpy as np\n",
    "import pandas as pd\n",
    "import requests, sys\n",
    "from pydantic import BaseModel, Field\n",
    "\n",
    "requestURL = \"https://www.ebi.ac.uk/proteins/api/proteins/P08183\"\n",
    "\n",
    "r = requests.get(requestURL, headers={ \"Accept\" : \"application/json\"})\n",
    "\n",
    "if not r.ok:\n",
    "  r.raise_for_status()\n",
    "  sys.exit()\n",
    "\n",
    "responseBody = r.text\n",
    "uniprot_dict = r.json()"
   ]
  },
  {
   "cell_type": "code",
   "outputs": [],
   "source": [
    "import yaml\n",
    "yaml.safe_dump(uniprot_dict, open('P08183.yaml', 'w'))"
   ],
   "metadata": {
    "collapsed": false
   },
   "id": "695caa32975275f6",
   "execution_count": null
  },
  {
   "cell_type": "code",
   "outputs": [],
   "source": [
    "'pdb' in r.text"
   ],
   "metadata": {
    "collapsed": false
   },
   "id": "f94b50776c6e6f4e",
   "execution_count": null
  },
  {
   "cell_type": "code",
   "outputs": [],
   "source": [
    "def request_alphafold(uniprot_id):\n",
    "    \"\"\"\n",
    "    A function to request a protein entry from the UniProt API\n",
    "    \"\"\"\n",
    "    requestURL = f\"https://alphafold.ebi.ac.uk/api/uniprot/summary/{uniprot_id}.json\"\n",
    "    r = requests.get(requestURL)\n",
    "    if not r.ok:\n",
    "        r.raise_for_status()\n",
    "        sys.exit()\n",
    "    return r.json()"
   ],
   "metadata": {
    "collapsed": false
   },
   "id": "3e39c322725a0224",
   "execution_count": null
  },
  {
   "cell_type": "code",
   "outputs": [],
   "source": [
    "def request_uniprot(uniprot_id):\n",
    "    \"\"\"\n",
    "    A function to request a protein entry from the UniProt API\n",
    "    \"\"\"\n",
    "    requestURL = f\"https://www.ebi.ac.uk/proteins/api/proteins/{uniprot_id}\"\n",
    "    r = requests.get(requestURL, headers={ \"Accept\" : \"application/json\"})\n",
    "    if not r.ok:\n",
    "        r.raise_for_status()\n",
    "        sys.exit()\n",
    "    return r.json()"
   ],
   "metadata": {
    "collapsed": false
   },
   "id": "5262dc1030b5657b",
   "execution_count": null
  },
  {
   "cell_type": "code",
   "outputs": [],
   "source": [
    "def parse_resolved_chains(chain_str):\n",
    "    \"\"\"\n",
    "    A function to parse resolved chains for a particular uniprot id from a Uniprot string\n",
    "    \"\"\"\n",
    "    chain_letters = chain_str.split('=')[0].split('/')\n",
    "    start, end = chain_str.split('=')[1].split('-')\n",
    "    \n",
    "    resolved_chains = []\n",
    "    for chain in chain_letters:\n",
    "        resolved_chains.append(ResolvedChain(chain_id=chain, start=int(start), end=int(end)))\n",
    "    return resolved_chains"
   ],
   "metadata": {
    "collapsed": false
   },
   "id": "909e5c79d68cdde2",
   "execution_count": null
  },
  {
   "cell_type": "code",
   "outputs": [],
   "source": [
    "class StructureEntry(BaseModel):\n",
    "    \"\"\"\n",
    "    A class to represent a structure entry\n",
    "    \"\"\"\n",
    "    uniprot_id: str = Field(..., title=\"The UniProt ID of the protein\")"
   ],
   "metadata": {
    "collapsed": false
   },
   "id": "bd5f56c58d007c94",
   "execution_count": null
  },
  {
   "cell_type": "code",
   "outputs": [],
   "source": [
    "class ResolvedChain(BaseModel):\n",
    "    \"\"\"\n",
    "    A class to represent a resolved chain\n",
    "    \"\"\"\n",
    "    chain_id: str = Field(..., title=\"The chain ID\")\n",
    "    start: int = Field(..., title=\"The start position of the chain\")\n",
    "    end: int = Field(..., title=\"The end position of the chain\")\n",
    "    \n",
    "    @property\n",
    "    def length(self) -> int:\n",
    "        return self.end - self.start"
   ],
   "metadata": {
    "collapsed": false
   },
   "id": "f5ed0f332a6619bb",
   "execution_count": null
  },
  {
   "cell_type": "code",
   "outputs": [],
   "source": [
    "class ExperimentalStructure(StructureEntry):\n",
    "    \"\"\"\n",
    "    A class to represent an experimental structure entry\n",
    "    \"\"\"\n",
    "    pdb_id: str = Field(..., title=\"The PDB ID of the structure\")\n",
    "    method: str = Field(..., title=\"The method used to determine the structure\")\n",
    "    resolution: str = Field(..., title=\"The resolution (å) of the structure\")\n",
    "    resolved_chains: list[ResolvedChain] = Field(..., title=\"A list of resolved chains\")\n",
    "    \n",
    "    @property\n",
    "    def sequence_coverage(self):\n",
    "        return np.mean([c.length for c in self.resolved_chains])"
   ],
   "metadata": {
    "collapsed": false
   },
   "id": "534b1a74f54a73be",
   "execution_count": null
  },
  {
   "cell_type": "code",
   "outputs": [],
   "source": [
    "class PredictedStructure(StructureEntry):\n",
    "    \"\"\"\n",
    "    A class to represent a predicted structure entry\n",
    "    \"\"\"\n",
    "    af_id: str = Field(..., title=\"The AlphaFold DB ID of the structure\")\n",
    "    uniprot_start: int = Field(..., title=\"The start position of the structure\")\n",
    "    uniprot_end: int = Field(..., title=\"The end position of the structure\")\n",
    "    confidence: float = Field(..., title=\"The confidence of the structure\")"
   ],
   "metadata": {
    "collapsed": false
   },
   "id": "3ef7c500408c6c04",
   "execution_count": null
  },
  {
   "cell_type": "code",
   "outputs": [],
   "source": [
    "class Target(BaseModel):\n",
    "    \"\"\"\n",
    "    A class to represent a protein target\n",
    "    \"\"\"\n",
    "    name: str = Field(..., title=\"The name of the protein\")\n",
    "    uniprot_id: str = Field(..., title=\"The UniProt ID of the protein\")\n",
    "    sequence: str = Field(..., title=\"The protein sequence\")\n",
    "    structures: list[StructureEntry] = Field(..., title=\"A list of structure entries\")\n",
    "    \n",
    "    @property\n",
    "    def sequence_length(self) -> int:\n",
    "        return len(self.sequence)\n",
    "    \n",
    "    @property\n",
    "    def experimental_structures(self):\n",
    "        return [s for s in self.structures if isinstance(s, ExperimentalStructure)]\n",
    "    \n",
    "    @property\n",
    "    def predicted_structures(self):\n",
    "        return [s for s in self.structures if isinstance(s, PredictedStructure)]\n",
    "    \n",
    "    @property\n",
    "    def average_coverage(self):\n",
    "        return np.mean(np.array([s.sequence_coverage for s in self.experimental_structures]) / self.sequence_length)\n",
    "    \n",
    "    @property\n",
    "    def average_confidence(self):\n",
    "        return np.mean(np.array([s.confidence for s in self.predicted_structures]))\n",
    "    \n",
    "    @property\n",
    "    def n_experimental_structures(self):\n",
    "        return len([s for s in self.structures if isinstance(s, ExperimentalStructure)])\n",
    "    \n",
    "    @property\n",
    "    def n_predicted_structures(self):\n",
    "        return len([s for s in self.structures if isinstance(s, PredictedStructure)])"
   ],
   "metadata": {
    "collapsed": false
   },
   "id": "b7d35ae4e5d8dbce",
   "execution_count": null
  },
  {
   "cell_type": "code",
   "outputs": [],
   "source": [
    "def parse_uniprot_accession(target_name:str, uniprot_id: str, uniprot_dict:dict) -> Target:\n",
    "    \"\"\"\n",
    "    A function to parse the UniProt accession from a UniProt API response\n",
    "    \"\"\"\n",
    "    pdb_ids = [ref for ref in uniprot_dict['dbReferences'] if ref['type'] == 'PDB']\n",
    "    af_ids = [ref for ref in uniprot_dict['dbReferences'] if ref['type'] == 'AlphaFoldDB']\n",
    "    \n",
    "    refs = []\n",
    "    for ref in pdb_ids:\n",
    "        properties = ref['properties']\n",
    "        refs.append(ExperimentalStructure(\n",
    "            uniprot_id=uniprot_id,\n",
    "            pdb_id=ref['id'],\n",
    "            method=properties['method'],\n",
    "            resolution=properties['resolution'].split(' ')[0],\n",
    "            resolved_chains=parse_resolved_chains(properties['chains'])\n",
    "        ))\n",
    "    for ref in af_ids:\n",
    "        r = request_alphafold(uniprot_id)\n",
    "        summary_data = r['structures'][0]['summary']\n",
    "        refs.append(PredictedStructure(\n",
    "            uniprot_id=uniprot_id,\n",
    "            af_id=summary_data['model_identifier'],\n",
    "            uniprot_start=summary_data['uniprot_start'],\n",
    "            uniprot_end=summary_data['uniprot_end'],\n",
    "            confidence=summary_data['confidence_avg_local_score']\n",
    "            \n",
    "        ))\n",
    "    return Target(\n",
    "        name=target_name,\n",
    "        uniprot_id=uniprot_id,\n",
    "        sequence=uniprot_dict['sequence']['sequence'],\n",
    "        structures=refs\n",
    "    )"
   ],
   "metadata": {
    "collapsed": false
   },
   "id": "f550e3c642625938",
   "execution_count": null
  },
  {
   "cell_type": "markdown",
   "source": [
    "# Load the UniProt data"
   ],
   "metadata": {
    "collapsed": false
   },
   "id": "b2491ccfe4e47c47"
  },
  {
   "cell_type": "code",
   "outputs": [],
   "source": [
    "import yaml\n",
    "from pathlib import Path"
   ],
   "metadata": {
    "collapsed": false
   },
   "id": "6a880257243a0dd0",
   "execution_count": null
  },
  {
   "cell_type": "code",
   "outputs": [],
   "source": [
    "uniprot_data = yaml.safe_load(open(Path('transporter_names.yml')))"
   ],
   "metadata": {
    "collapsed": false
   },
   "id": "5eee24cba85d85ce",
   "execution_count": null
  },
  {
   "cell_type": "code",
   "outputs": [],
   "source": [
    "uniprot_data"
   ],
   "metadata": {
    "collapsed": false
   },
   "id": "f50bbbe9e8616611",
   "execution_count": null
  },
  {
   "cell_type": "code",
   "outputs": [],
   "source": [
    "targets = []\n",
    "for info in uniprot_data:\n",
    "    name = info['name']\n",
    "    uniprot_id = info['uniprot']\n",
    "    targets.append(parse_uniprot_accession(info['name'], uniprot_id, request_uniprot(uniprot_id)))"
   ],
   "metadata": {
    "collapsed": false
   },
   "id": "c81f63272a067f3c",
   "execution_count": null
  },
  {
   "cell_type": "code",
   "outputs": [],
   "source": [
    "for target in targets:\n",
    "    print(f\"{target.name} ({target.uniprot_id}) has {target.n_experimental_structures} experimental structures with an average sequence coverage of {target.average_coverage:.2f} and {target.n_predicted_structures} with an average confidence of {target.average_confidence:.2f}\")"
   ],
   "metadata": {
    "collapsed": false
   },
   "id": "18b0ba1353b22b8c",
   "execution_count": null
  },
  {
   "cell_type": "code",
   "outputs": [],
   "source": [
    "import pandas as pd\n",
    "df = pd.DataFrame({\n",
    "    \"Name\": [t.name for t in targets],\n",
    "    \"UniProt ID\": [t.uniprot_id for t in targets],\n",
    "    \"Sequence Length\": [t.sequence_length for t in targets],\n",
    "    \"Number of Experimental Structures\": [t.n_experimental_structures for t in targets],\n",
    "    \"Average Sequence Coverage\": [t.average_coverage for t in targets],\n",
    "    \"Number of Predicted Structures\": [t.n_predicted_structures for t in targets],\n",
    "    \"Average Confidence\": [t.average_confidence for t in targets]\n",
    "})"
   ],
   "metadata": {
    "collapsed": false
   },
   "id": "d4d77d6ed6ee76d1",
   "execution_count": null
  },
  {
   "cell_type": "code",
   "outputs": [],
   "source": [
    "import plotly.express as px"
   ],
   "metadata": {
    "collapsed": false
   },
   "id": "aa2203e59a55cd0d",
   "execution_count": null
  },
  {
   "cell_type": "code",
   "outputs": [],
   "source": [
    "for y in [\"Number of Experimental Structures\", \"Average Sequence Coverage\", \"Average Confidence\"]:\n",
    "    fig = px.bar(df, x=\"Name\", y=y, title=y, template=\"simple_white\")\n",
    "    fig.write_image(f\"{y}.png\")"
   ],
   "metadata": {
    "collapsed": false
   },
   "id": "1fb45b8822c58363",
   "execution_count": null
  },
  {
   "cell_type": "code",
   "outputs": [],
   "source": [],
   "metadata": {
    "collapsed": false
   },
   "id": "714cf3993b2efb1",
   "execution_count": null
  }
 ],
 "metadata": {
  "kernelspec": {
   "display_name": "Python 3",
   "language": "python",
   "name": "python3"
  },
  "language_info": {
   "codemirror_mode": {
    "name": "ipython",
    "version": 2
   },
   "file_extension": ".py",
   "mimetype": "text/x-python",
   "name": "python",
   "nbconvert_exporter": "python",
   "pygments_lexer": "ipython2",
   "version": "2.7.6"
  }
 },
 "nbformat": 4,
 "nbformat_minor": 5
}
