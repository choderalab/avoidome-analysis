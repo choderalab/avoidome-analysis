{
 "cells": [
  {
   "cell_type": "code",
   "outputs": [],
   "source": [
    "from pathlib import Path\n",
    "import yaml\n",
    "from tqdm import tqdm\n",
    "import avoidome.uniprot as uniprot\n",
    "import avoidome.schema as schema\n",
    "from importlib import reload"
   ],
   "metadata": {
    "collapsed": false,
    "ExecuteTime": {
     "end_time": "2024-02-21T19:51:35.697207Z",
     "start_time": "2024-02-21T19:51:35.672482Z"
    }
   },
   "id": "36832d2df695415b",
   "execution_count": 4
  },
  {
   "cell_type": "markdown",
   "source": [
    "# Download"
   ],
   "metadata": {
    "collapsed": false
   },
   "id": "bda07ac731f1ad0e"
  },
  {
   "cell_type": "code",
   "outputs": [],
   "source": [
    "data_dir = Path('../data')\n",
    "fig_dir = Path('../figures')\n",
    "uniprot_dir = data_dir / 'uniprot_downloads'\n",
    "af_dir = data_dir / 'alphafold_downloads'"
   ],
   "metadata": {
    "collapsed": false,
    "ExecuteTime": {
     "end_time": "2024-02-21T20:09:43.368861Z",
     "start_time": "2024-02-21T20:09:43.336177Z"
    }
   },
   "id": "f5db180a4d9f06ff",
   "execution_count": 61
  },
  {
   "cell_type": "markdown",
   "source": [
    "## use curated data this time"
   ],
   "metadata": {
    "collapsed": false
   },
   "id": "e46331ebfbc360e"
  },
  {
   "cell_type": "code",
   "outputs": [],
   "source": [
    "with open(data_dir / 'admet_names_curated.yml') as f:\n",
    "    adme_names = yaml.safe_load(f)"
   ],
   "metadata": {
    "collapsed": false,
    "ExecuteTime": {
     "end_time": "2024-02-21T19:51:37.299302Z",
     "start_time": "2024-02-21T19:51:37.265437Z"
    }
   },
   "id": "2f53257fc18e498e",
   "execution_count": 6
  },
  {
   "cell_type": "code",
   "outputs": [
    {
     "name": "stderr",
     "output_type": "stream",
     "text": [
      "100%|██████████| 57/57 [00:44<00:00,  1.28it/s]\n"
     ]
    }
   ],
   "source": [
    "exp_structure_dict = {}\n",
    "failed = []\n",
    "success = []\n",
    "for protein in tqdm(adme_names):\n",
    "    uniprot_id = protein['uniprot']\n",
    "    ue = uniprot.UniprotEntry.from_uniprot_id(uniprot_id)\n",
    "    try:\n",
    "        exp_structure_dict[ue.name] = ue.get_experimental_structures()\n",
    "        success.append(ue)\n",
    "    except:\n",
    "        failed.append(ue)"
   ],
   "metadata": {
    "collapsed": false,
    "ExecuteTime": {
     "end_time": "2024-02-21T18:28:12.960862Z",
     "start_time": "2024-02-21T18:27:28.467305Z"
    }
   },
   "id": "b40e306c5e2519c9",
   "execution_count": 8
  },
  {
   "cell_type": "code",
   "outputs": [
    {
     "data": {
      "text/plain": "0"
     },
     "execution_count": 9,
     "metadata": {},
     "output_type": "execute_result"
    }
   ],
   "source": [
    "len(failed)"
   ],
   "metadata": {
    "collapsed": false,
    "ExecuteTime": {
     "end_time": "2024-02-21T18:28:12.973032Z",
     "start_time": "2024-02-21T18:28:12.962733Z"
    }
   },
   "id": "3a24f11a4669886b",
   "execution_count": 9
  },
  {
   "cell_type": "code",
   "outputs": [
    {
     "data": {
      "text/plain": "57"
     },
     "execution_count": 10,
     "metadata": {},
     "output_type": "execute_result"
    }
   ],
   "source": [
    "len(success)"
   ],
   "metadata": {
    "collapsed": false,
    "ExecuteTime": {
     "end_time": "2024-02-21T18:28:12.979290Z",
     "start_time": "2024-02-21T18:28:12.970404Z"
    }
   },
   "id": "eb2c1e80d26fc7e0",
   "execution_count": 10
  },
  {
   "cell_type": "code",
   "outputs": [
    {
     "name": "stderr",
     "output_type": "stream",
     "text": [
      "\n",
      "  0%|          | 0/57 [00:00<?, ?it/s]\u001B[A\n",
      "  2%|▏         | 1/57 [00:00<00:19,  2.83it/s]\u001B[A\n",
      "  4%|▎         | 2/57 [00:00<00:16,  3.25it/s]\u001B[A\n",
      "  5%|▌         | 3/57 [00:01<00:22,  2.42it/s]\u001B[A\n",
      "  7%|▋         | 4/57 [00:01<00:18,  2.90it/s]\u001B[A\n",
      "  9%|▉         | 5/57 [00:01<00:17,  3.06it/s]\u001B[A\n",
      " 11%|█         | 6/57 [00:02<00:25,  2.03it/s]\u001B[A\n",
      " 12%|█▏        | 7/57 [00:02<00:20,  2.43it/s]\u001B[A\n",
      " 14%|█▍        | 8/57 [00:02<00:16,  2.92it/s]\u001B[A\n",
      " 16%|█▌        | 9/57 [00:03<00:13,  3.47it/s]\u001B[A\n",
      " 18%|█▊        | 10/57 [00:03<00:12,  3.86it/s]\u001B[A\n",
      " 19%|█▉        | 11/57 [00:03<00:12,  3.73it/s]\u001B[A\n",
      " 21%|██        | 12/57 [00:03<00:09,  4.54it/s]\u001B[A\n",
      " 23%|██▎       | 13/57 [00:03<00:09,  4.46it/s]\u001B[A\n",
      " 26%|██▋       | 15/57 [00:04<00:06,  6.49it/s]\u001B[A\n",
      " 28%|██▊       | 16/57 [00:04<00:06,  6.42it/s]\u001B[A\n",
      " 30%|██▉       | 17/57 [00:04<00:05,  6.92it/s]\u001B[A\n",
      " 32%|███▏      | 18/57 [00:04<00:05,  6.81it/s]\u001B[A\n",
      " 33%|███▎      | 19/57 [00:04<00:05,  6.70it/s]\u001B[A\n",
      " 35%|███▌      | 20/57 [00:04<00:05,  6.93it/s]\u001B[A\n",
      " 39%|███▊      | 22/57 [00:05<00:04,  7.88it/s]\u001B[A\n",
      " 40%|████      | 23/57 [00:05<00:07,  4.26it/s]\u001B[A\n",
      " 42%|████▏     | 24/57 [00:06<00:14,  2.33it/s]\u001B[A\n",
      " 44%|████▍     | 25/57 [00:06<00:11,  2.86it/s]\u001B[A\n",
      " 46%|████▌     | 26/57 [00:07<00:12,  2.48it/s]\u001B[A\n",
      " 47%|████▋     | 27/57 [00:07<00:10,  2.92it/s]\u001B[A\n",
      " 49%|████▉     | 28/57 [00:07<00:09,  3.21it/s]\u001B[A\n",
      " 51%|█████     | 29/57 [00:07<00:07,  3.83it/s]\u001B[A\n",
      " 53%|█████▎    | 30/57 [00:07<00:06,  4.50it/s]\u001B[A\n",
      " 54%|█████▍    | 31/57 [00:08<00:05,  4.99it/s]\u001B[A\n",
      " 56%|█████▌    | 32/57 [00:08<00:05,  4.68it/s]\u001B[A\n",
      " 58%|█████▊    | 33/57 [00:08<00:04,  5.49it/s]\u001B[A\n",
      " 60%|█████▉    | 34/57 [00:08<00:04,  5.16it/s]\u001B[A\n",
      " 61%|██████▏   | 35/57 [00:08<00:04,  5.46it/s]\u001B[A\n",
      " 63%|██████▎   | 36/57 [00:08<00:03,  6.06it/s]\u001B[A\n",
      " 65%|██████▍   | 37/57 [00:09<00:03,  6.66it/s]\u001B[A\n",
      " 67%|██████▋   | 38/57 [00:09<00:02,  7.05it/s]\u001B[A\n",
      " 68%|██████▊   | 39/57 [00:09<00:02,  7.35it/s]\u001B[A\n",
      " 72%|███████▏  | 41/57 [00:09<00:01,  9.91it/s]\u001B[A\n",
      " 75%|███████▌  | 43/57 [00:09<00:01,  8.85it/s]\u001B[A\n",
      " 79%|███████▉  | 45/57 [00:09<00:01,  9.93it/s]\u001B[A\n",
      " 82%|████████▏ | 47/57 [00:10<00:01,  7.77it/s]\u001B[A\n",
      " 84%|████████▍ | 48/57 [00:10<00:01,  5.96it/s]\u001B[A\n",
      " 86%|████████▌ | 49/57 [00:10<00:01,  4.92it/s]\u001B[A\n",
      " 88%|████████▊ | 50/57 [00:11<00:01,  4.50it/s]\u001B[A\n",
      " 89%|████████▉ | 51/57 [00:11<00:01,  3.64it/s]\u001B[A\n",
      " 91%|█████████ | 52/57 [00:11<00:01,  4.06it/s]\u001B[A\n",
      " 93%|█████████▎| 53/57 [00:11<00:00,  4.44it/s]\u001B[A\n",
      " 95%|█████████▍| 54/57 [00:12<00:00,  4.61it/s]\u001B[A\n",
      " 96%|█████████▋| 55/57 [00:12<00:00,  5.04it/s]\u001B[A\n",
      " 98%|█████████▊| 56/57 [00:12<00:00,  5.21it/s]\u001B[A\n",
      "100%|██████████| 57/57 [00:12<00:00,  4.52it/s]\u001B[A\n"
     ]
    }
   ],
   "source": [
    "for ue in tqdm(success):\n",
    "    yaml.safe_dump(ue.dict(), open(f\"{uniprot_dir / ue.data['id']}.yml\", 'w'))"
   ],
   "metadata": {
    "collapsed": false,
    "ExecuteTime": {
     "end_time": "2024-02-21T18:31:23.330832Z",
     "start_time": "2024-02-21T18:31:10.712382Z"
    }
   },
   "id": "b84e45ca9255ce92",
   "execution_count": 15
  },
  {
   "cell_type": "markdown",
   "source": [
    "# Reload"
   ],
   "metadata": {
    "collapsed": false
   },
   "id": "9fb724eb90983b7b"
  },
  {
   "cell_type": "code",
   "outputs": [
    {
     "name": "stderr",
     "output_type": "stream",
     "text": [
      "100%|██████████| 57/57 [00:22<00:00,  2.57it/s]\n"
     ]
    }
   ],
   "source": [
    "entries = list(uniprot_dir.glob('*.yml'))\n",
    "uniprot_entries = [uniprot.UniprotEntry.from_dict(yaml.safe_load(open(file, 'r'))) for file in tqdm(entries)]"
   ],
   "metadata": {
    "collapsed": false,
    "ExecuteTime": {
     "end_time": "2024-02-21T19:52:05.478923Z",
     "start_time": "2024-02-21T19:51:43.288393Z"
    }
   },
   "id": "256ee51ebb113b30",
   "execution_count": 7
  },
  {
   "cell_type": "markdown",
   "source": [
    "# Get AlphaFold Structures"
   ],
   "metadata": {
    "collapsed": false
   },
   "id": "13898a7e3e7ba37b"
  },
  {
   "cell_type": "code",
   "outputs": [
    {
     "name": "stderr",
     "output_type": "stream",
     "text": [
      "100%|██████████| 57/57 [00:08<00:00,  6.87it/s]\n"
     ]
    }
   ],
   "source": [
    "# i've made this return a list but it's only ever going to be one\n",
    "af_structures = [u.get_alphafold_structures()[0] for u in tqdm(uniprot_entries)]"
   ],
   "metadata": {
    "collapsed": false,
    "ExecuteTime": {
     "end_time": "2024-02-21T22:31:08.037167Z",
     "start_time": "2024-02-21T22:30:59.727519Z"
    }
   },
   "id": "10f7ba645a6fe281",
   "execution_count": 294
  },
  {
   "cell_type": "markdown",
   "source": [
    "## Download the structures"
   ],
   "metadata": {
    "collapsed": false
   },
   "id": "f12d5fd2a75a8022"
  },
  {
   "cell_type": "code",
   "outputs": [],
   "source": [
    "from asapdiscovery.data.utils import download_file"
   ],
   "metadata": {
    "collapsed": false,
    "ExecuteTime": {
     "end_time": "2024-02-21T18:58:06.491503Z",
     "start_time": "2024-02-21T18:58:05.892497Z"
    }
   },
   "id": "fdb82d6b72f68ec9",
   "execution_count": 5
  },
  {
   "cell_type": "code",
   "outputs": [],
   "source": [
    "for p in af_structures:\n",
    "    if not (af_dir / f\"{p.af_id}.cif\").exists():\n",
    "        download_file(p.model_url, af_dir / f\"{p.af_id}.cif\")"
   ],
   "metadata": {
    "collapsed": false,
    "ExecuteTime": {
     "end_time": "2024-02-21T18:58:06.500958Z",
     "start_time": "2024-02-21T18:58:06.493905Z"
    }
   },
   "id": "19914cd49e0d7fc",
   "execution_count": 6
  },
  {
   "cell_type": "markdown",
   "source": [
    "# Calculate the pLDDT"
   ],
   "metadata": {
    "collapsed": false
   },
   "id": "48a7c9452a9f4b3c"
  },
  {
   "cell_type": "code",
   "outputs": [],
   "source": [
    "from asapdiscovery.data.openeye import load_openeye_cif, oechem\n",
    "import numpy as np"
   ],
   "metadata": {
    "collapsed": false,
    "ExecuteTime": {
     "end_time": "2024-02-21T22:32:15.821443Z",
     "start_time": "2024-02-21T22:32:15.754085Z"
    }
   },
   "id": "4fda2697dbfe7f35",
   "execution_count": 295
  },
  {
   "cell_type": "code",
   "outputs": [],
   "source": [
    "def calculate_high_confidence(af_id, af_dir, cutoff=90):\n",
    "    \"\"\"\n",
    "    Load the downloaded model with openeye, get the residues.\n",
    "    Get the bfactor of each residue (which is the pLDDT score for this case)\n",
    "    Calculate the number of residues with high confidence (>90)\n",
    "    :param af_id: \n",
    "    :return: \n",
    "    \"\"\"\n",
    "    mol = load_openeye_cif(af_dir / f\"{af_id}.cif\")\n",
    "    residues = {oechem.OEAtomGetResidue(atom) for atom in mol.GetAtoms() if oechem.OEHasResidue(atom)}\n",
    "    bfactors = np.array([res.GetBFactor() for res in residues])\n",
    "    return sum(bfactors > cutoff)"
   ],
   "metadata": {
    "collapsed": false,
    "ExecuteTime": {
     "end_time": "2024-02-21T22:32:16.027911Z",
     "start_time": "2024-02-21T22:32:15.983700Z"
    }
   },
   "id": "1958e183a5e6ea50",
   "execution_count": 296
  },
  {
   "cell_type": "code",
   "outputs": [
    {
     "name": "stderr",
     "output_type": "stream",
     "text": [
      "100%|██████████| 57/57 [00:05<00:00,  9.90it/s]\n"
     ]
    }
   ],
   "source": [
    "confidence_dict = {p.components[0].name: calculate_high_confidence(p.af_id, af_dir, 90) / p.components[0].length  for p in tqdm(af_structures)}"
   ],
   "metadata": {
    "collapsed": false,
    "ExecuteTime": {
     "end_time": "2024-02-21T22:32:23.230419Z",
     "start_time": "2024-02-21T22:32:17.467770Z"
    }
   },
   "id": "24db9e4c7a2ab4eb",
   "execution_count": 297
  },
  {
   "cell_type": "markdown",
   "source": [
    "# Plot"
   ],
   "metadata": {
    "collapsed": false
   },
   "id": "9f41ac8d626035b1"
  },
  {
   "cell_type": "markdown",
   "source": [
    "## construct plotly df"
   ],
   "metadata": {
    "collapsed": false
   },
   "id": "887f902f1ffe4d7f"
  },
  {
   "cell_type": "code",
   "outputs": [],
   "source": [
    "category_dict = {e['uniprot']: e['admet_category'] for e in adme_names}"
   ],
   "metadata": {
    "collapsed": false,
    "ExecuteTime": {
     "end_time": "2024-02-21T20:09:50.242025Z",
     "start_time": "2024-02-21T20:09:50.232414Z"
    }
   },
   "id": "4d4d91e4568486b2",
   "execution_count": 62
  },
  {
   "cell_type": "code",
   "outputs": [],
   "source": [
    "import pandas as pd"
   ],
   "metadata": {
    "collapsed": false,
    "ExecuteTime": {
     "end_time": "2024-02-21T20:09:51.471362Z",
     "start_time": "2024-02-21T20:09:51.461100Z"
    }
   },
   "id": "ab9f31484c7c300b",
   "execution_count": 63
  },
  {
   "cell_type": "code",
   "outputs": [
    {
     "ename": "NameError",
     "evalue": "name 'confidence_dict' is not defined",
     "output_type": "error",
     "traceback": [
      "\u001B[0;31m---------------------------------------------------------------------------\u001B[0m",
      "\u001B[0;31mNameError\u001B[0m                                 Traceback (most recent call last)",
      "Cell \u001B[0;32mIn[64], line 1\u001B[0m\n\u001B[0;32m----> 1\u001B[0m \u001B[43mconfidence_dict\u001B[49m\u001B[38;5;241m.\u001B[39mkeys()\n",
      "\u001B[0;31mNameError\u001B[0m: name 'confidence_dict' is not defined"
     ]
    }
   ],
   "source": [
    "confidence_dict.keys()"
   ],
   "metadata": {
    "collapsed": false,
    "ExecuteTime": {
     "end_time": "2024-02-21T20:09:51.983825Z",
     "start_time": "2024-02-21T20:09:51.969709Z"
    }
   },
   "id": "27ce955847551730",
   "execution_count": 64
  },
  {
   "cell_type": "code",
   "outputs": [],
   "source": [
    "name_to_uniprot = {af.components[0].name: af.components[0].uniprot_id for af in af_structures}\n",
    "uniprot_to_name = {v: k for k, v in name_to_uniprot.items()}"
   ],
   "metadata": {
    "collapsed": false,
    "ExecuteTime": {
     "end_time": "2024-02-21T22:39:20.475995Z",
     "start_time": "2024-02-21T22:39:20.426649Z"
    }
   },
   "id": "8d921c324874cf2a",
   "execution_count": 303
  },
  {
   "cell_type": "code",
   "outputs": [],
   "source": [
    "confidence_df = pd.DataFrame({'Protein Name': list(confidence_dict.keys()), \n",
    "                              'Fraction': list(confidence_dict.values()), \n",
    "                              'Category': [category_dict[name_to_uniprot[k]] for k in confidence_dict.keys()]})"
   ],
   "metadata": {
    "collapsed": false,
    "ExecuteTime": {
     "end_time": "2024-02-21T19:06:18.995453Z",
     "start_time": "2024-02-21T19:06:18.987353Z"
    }
   },
   "id": "b9cf1231472bcb25",
   "execution_count": 37
  },
  {
   "cell_type": "code",
   "outputs": [],
   "source": [
    "confidence_df.sort_values('Protein Name', inplace=True)"
   ],
   "metadata": {
    "collapsed": false,
    "ExecuteTime": {
     "end_time": "2024-02-21T19:13:30.191471Z",
     "start_time": "2024-02-21T19:13:30.156413Z"
    }
   },
   "id": "802d3f6a06a24a5b",
   "execution_count": 56
  },
  {
   "cell_type": "code",
   "outputs": [],
   "source": [
    "import plotly.express as px"
   ],
   "metadata": {
    "collapsed": false,
    "ExecuteTime": {
     "end_time": "2024-02-21T20:01:33.400433Z",
     "start_time": "2024-02-21T20:01:33.240696Z"
    }
   },
   "id": "21af9caaf895ba7b",
   "execution_count": 41
  },
  {
   "cell_type": "code",
   "outputs": [],
   "source": [
    "color_sequence = [\"#00bf7d\", \"#00b4c5\", \"#c44601\", \"#2546f0\", \"#5928ed\"] "
   ],
   "metadata": {
    "collapsed": false,
    "ExecuteTime": {
     "end_time": "2024-02-21T19:14:25.976997Z",
     "start_time": "2024-02-21T19:14:25.935395Z"
    }
   },
   "id": "3cd5a82a7df8057b",
   "execution_count": 61
  },
  {
   "cell_type": "code",
   "outputs": [
    {
     "name": "stderr",
     "output_type": "stream",
     "text": [
      "/Users/alexpayne/miniforge-pypy3/envs/asapdiscovery/lib/python3.10/site-packages/plotly/express/_core.py:2065: FutureWarning:\n",
      "\n",
      "When grouping with a length-1 list-like, you will need to pass a length-1 tuple to get_group in a future version of pandas. Pass `(name,)` instead of `name` to silence this warning.\n",
      "\n"
     ]
    }
   ],
   "source": [
    "fig = px.bar(confidence_df,\n",
    "             x='Protein Name',\n",
    "                y='Fraction',\n",
    "             labels={'x': 'Protein', 'y': 'Fraction'}, \n",
    "             title='Fraction of Sequence Modeled with Very High Confidence (pLDDT > 90)', \n",
    "             template='simple_white',\n",
    "             width=1200,\n",
    "             height=600,\n",
    "             category_orders={'Category': ['metabolism_redox', 'metabolism', 'absorption', 'drug_transporter', 'toxicity']},\n",
    "             color=\"Category\",\n",
    "             color_discrete_sequence=color_sequence,\n",
    "             )"
   ],
   "metadata": {
    "collapsed": false,
    "ExecuteTime": {
     "end_time": "2024-02-21T19:14:26.268763Z",
     "start_time": "2024-02-21T19:14:26.253255Z"
    }
   },
   "id": "86f3a3dd84b8fdc3",
   "execution_count": 62
  },
  {
   "cell_type": "code",
   "outputs": [
    {
     "data": {
      "application/vnd.plotly.v1+json": {
       "data": [
        {
         "alignmentgroup": "True",
         "hovertemplate": "Category=metabolism_redox<br>Protein Name=%{x}<br>Fraction=%{y}<extra></extra>",
         "legendgroup": "metabolism_redox",
         "marker": {
          "color": "#00bf7d",
          "pattern": {
           "shape": ""
          }
         },
         "name": "metabolism_redox",
         "offsetgroup": "metabolism_redox",
         "orientation": "v",
         "showlegend": true,
         "textposition": "auto",
         "x": [
          "ADH1A_HUMAN",
          "AL1A1_HUMAN",
          "AOFA_HUMAN",
          "AOFB_HUMAN",
          "AOXA_HUMAN",
          "ARK73_HUMAN",
          "CP1A2_HUMAN",
          "CP2B6_HUMAN",
          "CP2C9_HUMAN",
          "CP2CJ_HUMAN",
          "CP2D6_HUMAN",
          "CP3A4_HUMAN",
          "DHI1_HUMAN",
          "FMO1_HUMAN",
          "XDH_HUMAN"
         ],
         "xaxis": "x",
         "y": [
          0.9973262032085561,
          0.98,
          0.9695817490494296,
          0.9171483622350675,
          0.9214659685863874,
          0.9606060606060606,
          0.916504854368932,
          0.9040816326530612,
          0.787321063394683,
          0.8609406952965235,
          0.8568548387096774,
          0.8147410358565738,
          0.8694158075601375,
          0.8606403013182674,
          0.9346846846846847
         ],
         "yaxis": "y",
         "type": "bar"
        },
        {
         "alignmentgroup": "True",
         "hovertemplate": "Category=metabolism<br>Protein Name=%{x}<br>Fraction=%{y}<extra></extra>",
         "legendgroup": "metabolism",
         "marker": {
          "color": "#00b4c5",
          "pattern": {
           "shape": ""
          }
         },
         "name": "metabolism",
         "offsetgroup": "metabolism",
         "orientation": "v",
         "showlegend": true,
         "textposition": "auto",
         "x": [
          "AHR_HUMAN",
          "GSTA1_HUMAN",
          "NR1I2_HUMAN",
          "NR1I3_HUMAN",
          "ST1A1_HUMAN"
         ],
         "xaxis": "x",
         "y": [
          0.21251475796930341,
          0.9773755656108597,
          0.6859122401847575,
          0.7293447293447294,
          0.9761904761904762
         ],
         "yaxis": "y",
         "type": "bar"
        },
        {
         "alignmentgroup": "True",
         "hovertemplate": "Category=absorption<br>Protein Name=%{x}<br>Fraction=%{y}<extra></extra>",
         "legendgroup": "absorption",
         "marker": {
          "color": "#c44601",
          "pattern": {
           "shape": ""
          }
         },
         "name": "absorption",
         "offsetgroup": "absorption",
         "orientation": "v",
         "showlegend": true,
         "textposition": "auto",
         "x": [
          "A1AG1_HUMAN",
          "OXA1L_HUMAN"
         ],
         "xaxis": "x",
         "y": [
          0.72,
          0.35944700460829493
         ],
         "yaxis": "y",
         "type": "bar"
        },
        {
         "alignmentgroup": "True",
         "hovertemplate": "Category=drug_transporter<br>Protein Name=%{x}<br>Fraction=%{y}<extra></extra>",
         "legendgroup": "drug_transporter",
         "marker": {
          "color": "#2546f0",
          "pattern": {
           "shape": ""
          }
         },
         "name": "drug_transporter",
         "offsetgroup": "drug_transporter",
         "orientation": "v",
         "showlegend": true,
         "textposition": "auto",
         "x": [
          "ABCBB_HUMAN",
          "ABCG2_HUMAN",
          "MDR1_HUMAN",
          "MRP1_HUMAN",
          "S15A1_HUMAN",
          "S22A6_HUMAN",
          "S22A8_HUMAN",
          "S47A1_HUMAN",
          "SO1B1_HUMAN",
          "SO1B3_HUMAN"
         ],
         "xaxis": "x",
         "y": [
          0.47954545454545455,
          0.6498470948012233,
          0.5504300234558248,
          0.4071895424836601,
          0.5190947666195191,
          0.39679715302491103,
          0.5138632162661737,
          0.7873462214411248,
          0.5173913043478261,
          0.4964336661911555
         ],
         "yaxis": "y",
         "type": "bar"
        },
        {
         "alignmentgroup": "True",
         "hovertemplate": "Category=toxicity<br>Protein Name=%{x}<br>Fraction=%{y}<extra></extra>",
         "legendgroup": "toxicity",
         "marker": {
          "color": "#5928ed",
          "pattern": {
           "shape": ""
          }
         },
         "name": "toxicity",
         "offsetgroup": "toxicity",
         "orientation": "v",
         "showlegend": true,
         "textposition": "auto",
         "x": [
          "5HT2B_HUMAN",
          "ACH10_HUMAN",
          "ACHA3_HUMAN",
          "ACHA5_HUMAN",
          "ACHA7_HUMAN",
          "ACHA9_HUMAN",
          "ACM1_HUMAN",
          "ACM2_HUMAN",
          "ACM3_HUMAN",
          "ADA1A_HUMAN",
          "ADA2A_HUMAN",
          "ADRB1_HUMAN",
          "ADRB2_HUMAN",
          "ASM3A_HUMAN",
          "CAC1C_HUMAN",
          "CACB1_HUMAN",
          "CNR1_HUMAN",
          "CNR2_HUMAN",
          "GBRA1_HUMAN",
          "HRH1_HUMAN",
          "KCNH2_HUMAN",
          "SC6A2_HUMAN",
          "SC6A3_HUMAN",
          "SC6A4_HUMAN",
          "SCN5A_HUMAN"
         ],
         "xaxis": "x",
         "y": [
          0.38125,
          0.5033407572383074,
          0.6011904761904762,
          0.4518201284796574,
          0.3772455089820359,
          0.45188284518828453,
          0.5054466230936819,
          0.5118279569892473,
          0.32088285229202035,
          0.4236559139784946,
          0.47413793103448276,
          0.4831932773109244,
          0.587378640776699,
          0.9048672566371682,
          0.09684684684684684,
          0.4221105527638191,
          0.46284501061571126,
          0.637883008356546,
          0.6505494505494506,
          0.3991769547325103,
          0.25734024179620035,
          0.7386363636363636,
          0.7382875605815832,
          0.7567567567567568,
          0.11017369727047147
         ],
         "yaxis": "y",
         "type": "bar"
        }
       ],
       "layout": {
        "template": {
         "data": {
          "barpolar": [
           {
            "marker": {
             "line": {
              "color": "white",
              "width": 0.5
             },
             "pattern": {
              "fillmode": "overlay",
              "size": 10,
              "solidity": 0.2
             }
            },
            "type": "barpolar"
           }
          ],
          "bar": [
           {
            "error_x": {
             "color": "rgb(36,36,36)"
            },
            "error_y": {
             "color": "rgb(36,36,36)"
            },
            "marker": {
             "line": {
              "color": "white",
              "width": 0.5
             },
             "pattern": {
              "fillmode": "overlay",
              "size": 10,
              "solidity": 0.2
             }
            },
            "type": "bar"
           }
          ],
          "carpet": [
           {
            "aaxis": {
             "endlinecolor": "rgb(36,36,36)",
             "gridcolor": "white",
             "linecolor": "white",
             "minorgridcolor": "white",
             "startlinecolor": "rgb(36,36,36)"
            },
            "baxis": {
             "endlinecolor": "rgb(36,36,36)",
             "gridcolor": "white",
             "linecolor": "white",
             "minorgridcolor": "white",
             "startlinecolor": "rgb(36,36,36)"
            },
            "type": "carpet"
           }
          ],
          "choropleth": [
           {
            "colorbar": {
             "outlinewidth": 1,
             "tickcolor": "rgb(36,36,36)",
             "ticks": "outside"
            },
            "type": "choropleth"
           }
          ],
          "contourcarpet": [
           {
            "colorbar": {
             "outlinewidth": 1,
             "tickcolor": "rgb(36,36,36)",
             "ticks": "outside"
            },
            "type": "contourcarpet"
           }
          ],
          "contour": [
           {
            "colorbar": {
             "outlinewidth": 1,
             "tickcolor": "rgb(36,36,36)",
             "ticks": "outside"
            },
            "colorscale": [
             [
              0.0,
              "#440154"
             ],
             [
              0.1111111111111111,
              "#482878"
             ],
             [
              0.2222222222222222,
              "#3e4989"
             ],
             [
              0.3333333333333333,
              "#31688e"
             ],
             [
              0.4444444444444444,
              "#26828e"
             ],
             [
              0.5555555555555556,
              "#1f9e89"
             ],
             [
              0.6666666666666666,
              "#35b779"
             ],
             [
              0.7777777777777778,
              "#6ece58"
             ],
             [
              0.8888888888888888,
              "#b5de2b"
             ],
             [
              1.0,
              "#fde725"
             ]
            ],
            "type": "contour"
           }
          ],
          "heatmapgl": [
           {
            "colorbar": {
             "outlinewidth": 1,
             "tickcolor": "rgb(36,36,36)",
             "ticks": "outside"
            },
            "colorscale": [
             [
              0.0,
              "#440154"
             ],
             [
              0.1111111111111111,
              "#482878"
             ],
             [
              0.2222222222222222,
              "#3e4989"
             ],
             [
              0.3333333333333333,
              "#31688e"
             ],
             [
              0.4444444444444444,
              "#26828e"
             ],
             [
              0.5555555555555556,
              "#1f9e89"
             ],
             [
              0.6666666666666666,
              "#35b779"
             ],
             [
              0.7777777777777778,
              "#6ece58"
             ],
             [
              0.8888888888888888,
              "#b5de2b"
             ],
             [
              1.0,
              "#fde725"
             ]
            ],
            "type": "heatmapgl"
           }
          ],
          "heatmap": [
           {
            "colorbar": {
             "outlinewidth": 1,
             "tickcolor": "rgb(36,36,36)",
             "ticks": "outside"
            },
            "colorscale": [
             [
              0.0,
              "#440154"
             ],
             [
              0.1111111111111111,
              "#482878"
             ],
             [
              0.2222222222222222,
              "#3e4989"
             ],
             [
              0.3333333333333333,
              "#31688e"
             ],
             [
              0.4444444444444444,
              "#26828e"
             ],
             [
              0.5555555555555556,
              "#1f9e89"
             ],
             [
              0.6666666666666666,
              "#35b779"
             ],
             [
              0.7777777777777778,
              "#6ece58"
             ],
             [
              0.8888888888888888,
              "#b5de2b"
             ],
             [
              1.0,
              "#fde725"
             ]
            ],
            "type": "heatmap"
           }
          ],
          "histogram2dcontour": [
           {
            "colorbar": {
             "outlinewidth": 1,
             "tickcolor": "rgb(36,36,36)",
             "ticks": "outside"
            },
            "colorscale": [
             [
              0.0,
              "#440154"
             ],
             [
              0.1111111111111111,
              "#482878"
             ],
             [
              0.2222222222222222,
              "#3e4989"
             ],
             [
              0.3333333333333333,
              "#31688e"
             ],
             [
              0.4444444444444444,
              "#26828e"
             ],
             [
              0.5555555555555556,
              "#1f9e89"
             ],
             [
              0.6666666666666666,
              "#35b779"
             ],
             [
              0.7777777777777778,
              "#6ece58"
             ],
             [
              0.8888888888888888,
              "#b5de2b"
             ],
             [
              1.0,
              "#fde725"
             ]
            ],
            "type": "histogram2dcontour"
           }
          ],
          "histogram2d": [
           {
            "colorbar": {
             "outlinewidth": 1,
             "tickcolor": "rgb(36,36,36)",
             "ticks": "outside"
            },
            "colorscale": [
             [
              0.0,
              "#440154"
             ],
             [
              0.1111111111111111,
              "#482878"
             ],
             [
              0.2222222222222222,
              "#3e4989"
             ],
             [
              0.3333333333333333,
              "#31688e"
             ],
             [
              0.4444444444444444,
              "#26828e"
             ],
             [
              0.5555555555555556,
              "#1f9e89"
             ],
             [
              0.6666666666666666,
              "#35b779"
             ],
             [
              0.7777777777777778,
              "#6ece58"
             ],
             [
              0.8888888888888888,
              "#b5de2b"
             ],
             [
              1.0,
              "#fde725"
             ]
            ],
            "type": "histogram2d"
           }
          ],
          "histogram": [
           {
            "marker": {
             "line": {
              "color": "white",
              "width": 0.6
             }
            },
            "type": "histogram"
           }
          ],
          "mesh3d": [
           {
            "colorbar": {
             "outlinewidth": 1,
             "tickcolor": "rgb(36,36,36)",
             "ticks": "outside"
            },
            "type": "mesh3d"
           }
          ],
          "parcoords": [
           {
            "line": {
             "colorbar": {
              "outlinewidth": 1,
              "tickcolor": "rgb(36,36,36)",
              "ticks": "outside"
             }
            },
            "type": "parcoords"
           }
          ],
          "pie": [
           {
            "automargin": true,
            "type": "pie"
           }
          ],
          "scatter3d": [
           {
            "line": {
             "colorbar": {
              "outlinewidth": 1,
              "tickcolor": "rgb(36,36,36)",
              "ticks": "outside"
             }
            },
            "marker": {
             "colorbar": {
              "outlinewidth": 1,
              "tickcolor": "rgb(36,36,36)",
              "ticks": "outside"
             }
            },
            "type": "scatter3d"
           }
          ],
          "scattercarpet": [
           {
            "marker": {
             "colorbar": {
              "outlinewidth": 1,
              "tickcolor": "rgb(36,36,36)",
              "ticks": "outside"
             }
            },
            "type": "scattercarpet"
           }
          ],
          "scattergeo": [
           {
            "marker": {
             "colorbar": {
              "outlinewidth": 1,
              "tickcolor": "rgb(36,36,36)",
              "ticks": "outside"
             }
            },
            "type": "scattergeo"
           }
          ],
          "scattergl": [
           {
            "marker": {
             "colorbar": {
              "outlinewidth": 1,
              "tickcolor": "rgb(36,36,36)",
              "ticks": "outside"
             }
            },
            "type": "scattergl"
           }
          ],
          "scattermapbox": [
           {
            "marker": {
             "colorbar": {
              "outlinewidth": 1,
              "tickcolor": "rgb(36,36,36)",
              "ticks": "outside"
             }
            },
            "type": "scattermapbox"
           }
          ],
          "scatterpolargl": [
           {
            "marker": {
             "colorbar": {
              "outlinewidth": 1,
              "tickcolor": "rgb(36,36,36)",
              "ticks": "outside"
             }
            },
            "type": "scatterpolargl"
           }
          ],
          "scatterpolar": [
           {
            "marker": {
             "colorbar": {
              "outlinewidth": 1,
              "tickcolor": "rgb(36,36,36)",
              "ticks": "outside"
             }
            },
            "type": "scatterpolar"
           }
          ],
          "scatter": [
           {
            "fillpattern": {
             "fillmode": "overlay",
             "size": 10,
             "solidity": 0.2
            },
            "type": "scatter"
           }
          ],
          "scatterternary": [
           {
            "marker": {
             "colorbar": {
              "outlinewidth": 1,
              "tickcolor": "rgb(36,36,36)",
              "ticks": "outside"
             }
            },
            "type": "scatterternary"
           }
          ],
          "surface": [
           {
            "colorbar": {
             "outlinewidth": 1,
             "tickcolor": "rgb(36,36,36)",
             "ticks": "outside"
            },
            "colorscale": [
             [
              0.0,
              "#440154"
             ],
             [
              0.1111111111111111,
              "#482878"
             ],
             [
              0.2222222222222222,
              "#3e4989"
             ],
             [
              0.3333333333333333,
              "#31688e"
             ],
             [
              0.4444444444444444,
              "#26828e"
             ],
             [
              0.5555555555555556,
              "#1f9e89"
             ],
             [
              0.6666666666666666,
              "#35b779"
             ],
             [
              0.7777777777777778,
              "#6ece58"
             ],
             [
              0.8888888888888888,
              "#b5de2b"
             ],
             [
              1.0,
              "#fde725"
             ]
            ],
            "type": "surface"
           }
          ],
          "table": [
           {
            "cells": {
             "fill": {
              "color": "rgb(237,237,237)"
             },
             "line": {
              "color": "white"
             }
            },
            "header": {
             "fill": {
              "color": "rgb(217,217,217)"
             },
             "line": {
              "color": "white"
             }
            },
            "type": "table"
           }
          ]
         },
         "layout": {
          "annotationdefaults": {
           "arrowhead": 0,
           "arrowwidth": 1
          },
          "autotypenumbers": "strict",
          "coloraxis": {
           "colorbar": {
            "outlinewidth": 1,
            "tickcolor": "rgb(36,36,36)",
            "ticks": "outside"
           }
          },
          "colorscale": {
           "diverging": [
            [
             0.0,
             "rgb(103,0,31)"
            ],
            [
             0.1,
             "rgb(178,24,43)"
            ],
            [
             0.2,
             "rgb(214,96,77)"
            ],
            [
             0.3,
             "rgb(244,165,130)"
            ],
            [
             0.4,
             "rgb(253,219,199)"
            ],
            [
             0.5,
             "rgb(247,247,247)"
            ],
            [
             0.6,
             "rgb(209,229,240)"
            ],
            [
             0.7,
             "rgb(146,197,222)"
            ],
            [
             0.8,
             "rgb(67,147,195)"
            ],
            [
             0.9,
             "rgb(33,102,172)"
            ],
            [
             1.0,
             "rgb(5,48,97)"
            ]
           ],
           "sequential": [
            [
             0.0,
             "#440154"
            ],
            [
             0.1111111111111111,
             "#482878"
            ],
            [
             0.2222222222222222,
             "#3e4989"
            ],
            [
             0.3333333333333333,
             "#31688e"
            ],
            [
             0.4444444444444444,
             "#26828e"
            ],
            [
             0.5555555555555556,
             "#1f9e89"
            ],
            [
             0.6666666666666666,
             "#35b779"
            ],
            [
             0.7777777777777778,
             "#6ece58"
            ],
            [
             0.8888888888888888,
             "#b5de2b"
            ],
            [
             1.0,
             "#fde725"
            ]
           ],
           "sequentialminus": [
            [
             0.0,
             "#440154"
            ],
            [
             0.1111111111111111,
             "#482878"
            ],
            [
             0.2222222222222222,
             "#3e4989"
            ],
            [
             0.3333333333333333,
             "#31688e"
            ],
            [
             0.4444444444444444,
             "#26828e"
            ],
            [
             0.5555555555555556,
             "#1f9e89"
            ],
            [
             0.6666666666666666,
             "#35b779"
            ],
            [
             0.7777777777777778,
             "#6ece58"
            ],
            [
             0.8888888888888888,
             "#b5de2b"
            ],
            [
             1.0,
             "#fde725"
            ]
           ]
          },
          "colorway": [
           "#1F77B4",
           "#FF7F0E",
           "#2CA02C",
           "#D62728",
           "#9467BD",
           "#8C564B",
           "#E377C2",
           "#7F7F7F",
           "#BCBD22",
           "#17BECF"
          ],
          "font": {
           "color": "rgb(36,36,36)"
          },
          "geo": {
           "bgcolor": "white",
           "lakecolor": "white",
           "landcolor": "white",
           "showlakes": true,
           "showland": true,
           "subunitcolor": "white"
          },
          "hoverlabel": {
           "align": "left"
          },
          "hovermode": "closest",
          "mapbox": {
           "style": "light"
          },
          "paper_bgcolor": "white",
          "plot_bgcolor": "white",
          "polar": {
           "angularaxis": {
            "gridcolor": "rgb(232,232,232)",
            "linecolor": "rgb(36,36,36)",
            "showgrid": false,
            "showline": true,
            "ticks": "outside"
           },
           "bgcolor": "white",
           "radialaxis": {
            "gridcolor": "rgb(232,232,232)",
            "linecolor": "rgb(36,36,36)",
            "showgrid": false,
            "showline": true,
            "ticks": "outside"
           }
          },
          "scene": {
           "xaxis": {
            "backgroundcolor": "white",
            "gridcolor": "rgb(232,232,232)",
            "gridwidth": 2,
            "linecolor": "rgb(36,36,36)",
            "showbackground": true,
            "showgrid": false,
            "showline": true,
            "ticks": "outside",
            "zeroline": false,
            "zerolinecolor": "rgb(36,36,36)"
           },
           "yaxis": {
            "backgroundcolor": "white",
            "gridcolor": "rgb(232,232,232)",
            "gridwidth": 2,
            "linecolor": "rgb(36,36,36)",
            "showbackground": true,
            "showgrid": false,
            "showline": true,
            "ticks": "outside",
            "zeroline": false,
            "zerolinecolor": "rgb(36,36,36)"
           },
           "zaxis": {
            "backgroundcolor": "white",
            "gridcolor": "rgb(232,232,232)",
            "gridwidth": 2,
            "linecolor": "rgb(36,36,36)",
            "showbackground": true,
            "showgrid": false,
            "showline": true,
            "ticks": "outside",
            "zeroline": false,
            "zerolinecolor": "rgb(36,36,36)"
           }
          },
          "shapedefaults": {
           "fillcolor": "black",
           "line": {
            "width": 0
           },
           "opacity": 0.3
          },
          "ternary": {
           "aaxis": {
            "gridcolor": "rgb(232,232,232)",
            "linecolor": "rgb(36,36,36)",
            "showgrid": false,
            "showline": true,
            "ticks": "outside"
           },
           "baxis": {
            "gridcolor": "rgb(232,232,232)",
            "linecolor": "rgb(36,36,36)",
            "showgrid": false,
            "showline": true,
            "ticks": "outside"
           },
           "bgcolor": "white",
           "caxis": {
            "gridcolor": "rgb(232,232,232)",
            "linecolor": "rgb(36,36,36)",
            "showgrid": false,
            "showline": true,
            "ticks": "outside"
           }
          },
          "title": {
           "x": 0.05
          },
          "xaxis": {
           "automargin": true,
           "gridcolor": "rgb(232,232,232)",
           "linecolor": "rgb(36,36,36)",
           "showgrid": false,
           "showline": true,
           "ticks": "outside",
           "title": {
            "standoff": 15
           },
           "zeroline": false,
           "zerolinecolor": "rgb(36,36,36)"
          },
          "yaxis": {
           "automargin": true,
           "gridcolor": "rgb(232,232,232)",
           "linecolor": "rgb(36,36,36)",
           "showgrid": false,
           "showline": true,
           "ticks": "outside",
           "title": {
            "standoff": 15
           },
           "zeroline": false,
           "zerolinecolor": "rgb(36,36,36)"
          }
         }
        },
        "xaxis": {
         "anchor": "y",
         "domain": [
          0.0,
          1.0
         ],
         "title": {
          "text": "Protein Name"
         }
        },
        "yaxis": {
         "anchor": "x",
         "domain": [
          0.0,
          1.0
         ],
         "title": {
          "text": "Fraction"
         }
        },
        "legend": {
         "title": {
          "text": "Category"
         },
         "tracegroupgap": 0
        },
        "title": {
         "text": "Fraction of Sequence Modeled with Very High Confidence (pLDDT > 90)"
        },
        "barmode": "relative",
        "height": 600,
        "width": 1200
       },
       "config": {
        "plotlyServerURL": "https://plot.ly"
       }
      },
      "text/html": "<div>                            <div id=\"b0ca0ebf-f8b6-475a-8c70-6ffaaf590e46\" class=\"plotly-graph-div\" style=\"height:600px; width:1200px;\"></div>            <script type=\"text/javascript\">                require([\"plotly\"], function(Plotly) {                    window.PLOTLYENV=window.PLOTLYENV || {};                                    if (document.getElementById(\"b0ca0ebf-f8b6-475a-8c70-6ffaaf590e46\")) {                    Plotly.newPlot(                        \"b0ca0ebf-f8b6-475a-8c70-6ffaaf590e46\",                        [{\"alignmentgroup\":\"True\",\"hovertemplate\":\"Category=metabolism_redox\\u003cbr\\u003eProtein Name=%{x}\\u003cbr\\u003eFraction=%{y}\\u003cextra\\u003e\\u003c\\u002fextra\\u003e\",\"legendgroup\":\"metabolism_redox\",\"marker\":{\"color\":\"#00bf7d\",\"pattern\":{\"shape\":\"\"}},\"name\":\"metabolism_redox\",\"offsetgroup\":\"metabolism_redox\",\"orientation\":\"v\",\"showlegend\":true,\"textposition\":\"auto\",\"x\":[\"ADH1A_HUMAN\",\"AL1A1_HUMAN\",\"AOFA_HUMAN\",\"AOFB_HUMAN\",\"AOXA_HUMAN\",\"ARK73_HUMAN\",\"CP1A2_HUMAN\",\"CP2B6_HUMAN\",\"CP2C9_HUMAN\",\"CP2CJ_HUMAN\",\"CP2D6_HUMAN\",\"CP3A4_HUMAN\",\"DHI1_HUMAN\",\"FMO1_HUMAN\",\"XDH_HUMAN\"],\"xaxis\":\"x\",\"y\":[0.9973262032085561,0.98,0.9695817490494296,0.9171483622350675,0.9214659685863874,0.9606060606060606,0.916504854368932,0.9040816326530612,0.787321063394683,0.8609406952965235,0.8568548387096774,0.8147410358565738,0.8694158075601375,0.8606403013182674,0.9346846846846847],\"yaxis\":\"y\",\"type\":\"bar\"},{\"alignmentgroup\":\"True\",\"hovertemplate\":\"Category=metabolism\\u003cbr\\u003eProtein Name=%{x}\\u003cbr\\u003eFraction=%{y}\\u003cextra\\u003e\\u003c\\u002fextra\\u003e\",\"legendgroup\":\"metabolism\",\"marker\":{\"color\":\"#00b4c5\",\"pattern\":{\"shape\":\"\"}},\"name\":\"metabolism\",\"offsetgroup\":\"metabolism\",\"orientation\":\"v\",\"showlegend\":true,\"textposition\":\"auto\",\"x\":[\"AHR_HUMAN\",\"GSTA1_HUMAN\",\"NR1I2_HUMAN\",\"NR1I3_HUMAN\",\"ST1A1_HUMAN\"],\"xaxis\":\"x\",\"y\":[0.21251475796930341,0.9773755656108597,0.6859122401847575,0.7293447293447294,0.9761904761904762],\"yaxis\":\"y\",\"type\":\"bar\"},{\"alignmentgroup\":\"True\",\"hovertemplate\":\"Category=absorption\\u003cbr\\u003eProtein Name=%{x}\\u003cbr\\u003eFraction=%{y}\\u003cextra\\u003e\\u003c\\u002fextra\\u003e\",\"legendgroup\":\"absorption\",\"marker\":{\"color\":\"#c44601\",\"pattern\":{\"shape\":\"\"}},\"name\":\"absorption\",\"offsetgroup\":\"absorption\",\"orientation\":\"v\",\"showlegend\":true,\"textposition\":\"auto\",\"x\":[\"A1AG1_HUMAN\",\"OXA1L_HUMAN\"],\"xaxis\":\"x\",\"y\":[0.72,0.35944700460829493],\"yaxis\":\"y\",\"type\":\"bar\"},{\"alignmentgroup\":\"True\",\"hovertemplate\":\"Category=drug_transporter\\u003cbr\\u003eProtein Name=%{x}\\u003cbr\\u003eFraction=%{y}\\u003cextra\\u003e\\u003c\\u002fextra\\u003e\",\"legendgroup\":\"drug_transporter\",\"marker\":{\"color\":\"#2546f0\",\"pattern\":{\"shape\":\"\"}},\"name\":\"drug_transporter\",\"offsetgroup\":\"drug_transporter\",\"orientation\":\"v\",\"showlegend\":true,\"textposition\":\"auto\",\"x\":[\"ABCBB_HUMAN\",\"ABCG2_HUMAN\",\"MDR1_HUMAN\",\"MRP1_HUMAN\",\"S15A1_HUMAN\",\"S22A6_HUMAN\",\"S22A8_HUMAN\",\"S47A1_HUMAN\",\"SO1B1_HUMAN\",\"SO1B3_HUMAN\"],\"xaxis\":\"x\",\"y\":[0.47954545454545455,0.6498470948012233,0.5504300234558248,0.4071895424836601,0.5190947666195191,0.39679715302491103,0.5138632162661737,0.7873462214411248,0.5173913043478261,0.4964336661911555],\"yaxis\":\"y\",\"type\":\"bar\"},{\"alignmentgroup\":\"True\",\"hovertemplate\":\"Category=toxicity\\u003cbr\\u003eProtein Name=%{x}\\u003cbr\\u003eFraction=%{y}\\u003cextra\\u003e\\u003c\\u002fextra\\u003e\",\"legendgroup\":\"toxicity\",\"marker\":{\"color\":\"#5928ed\",\"pattern\":{\"shape\":\"\"}},\"name\":\"toxicity\",\"offsetgroup\":\"toxicity\",\"orientation\":\"v\",\"showlegend\":true,\"textposition\":\"auto\",\"x\":[\"5HT2B_HUMAN\",\"ACH10_HUMAN\",\"ACHA3_HUMAN\",\"ACHA5_HUMAN\",\"ACHA7_HUMAN\",\"ACHA9_HUMAN\",\"ACM1_HUMAN\",\"ACM2_HUMAN\",\"ACM3_HUMAN\",\"ADA1A_HUMAN\",\"ADA2A_HUMAN\",\"ADRB1_HUMAN\",\"ADRB2_HUMAN\",\"ASM3A_HUMAN\",\"CAC1C_HUMAN\",\"CACB1_HUMAN\",\"CNR1_HUMAN\",\"CNR2_HUMAN\",\"GBRA1_HUMAN\",\"HRH1_HUMAN\",\"KCNH2_HUMAN\",\"SC6A2_HUMAN\",\"SC6A3_HUMAN\",\"SC6A4_HUMAN\",\"SCN5A_HUMAN\"],\"xaxis\":\"x\",\"y\":[0.38125,0.5033407572383074,0.6011904761904762,0.4518201284796574,0.3772455089820359,0.45188284518828453,0.5054466230936819,0.5118279569892473,0.32088285229202035,0.4236559139784946,0.47413793103448276,0.4831932773109244,0.587378640776699,0.9048672566371682,0.09684684684684684,0.4221105527638191,0.46284501061571126,0.637883008356546,0.6505494505494506,0.3991769547325103,0.25734024179620035,0.7386363636363636,0.7382875605815832,0.7567567567567568,0.11017369727047147],\"yaxis\":\"y\",\"type\":\"bar\"}],                        {\"template\":{\"data\":{\"barpolar\":[{\"marker\":{\"line\":{\"color\":\"white\",\"width\":0.5},\"pattern\":{\"fillmode\":\"overlay\",\"size\":10,\"solidity\":0.2}},\"type\":\"barpolar\"}],\"bar\":[{\"error_x\":{\"color\":\"rgb(36,36,36)\"},\"error_y\":{\"color\":\"rgb(36,36,36)\"},\"marker\":{\"line\":{\"color\":\"white\",\"width\":0.5},\"pattern\":{\"fillmode\":\"overlay\",\"size\":10,\"solidity\":0.2}},\"type\":\"bar\"}],\"carpet\":[{\"aaxis\":{\"endlinecolor\":\"rgb(36,36,36)\",\"gridcolor\":\"white\",\"linecolor\":\"white\",\"minorgridcolor\":\"white\",\"startlinecolor\":\"rgb(36,36,36)\"},\"baxis\":{\"endlinecolor\":\"rgb(36,36,36)\",\"gridcolor\":\"white\",\"linecolor\":\"white\",\"minorgridcolor\":\"white\",\"startlinecolor\":\"rgb(36,36,36)\"},\"type\":\"carpet\"}],\"choropleth\":[{\"colorbar\":{\"outlinewidth\":1,\"tickcolor\":\"rgb(36,36,36)\",\"ticks\":\"outside\"},\"type\":\"choropleth\"}],\"contourcarpet\":[{\"colorbar\":{\"outlinewidth\":1,\"tickcolor\":\"rgb(36,36,36)\",\"ticks\":\"outside\"},\"type\":\"contourcarpet\"}],\"contour\":[{\"colorbar\":{\"outlinewidth\":1,\"tickcolor\":\"rgb(36,36,36)\",\"ticks\":\"outside\"},\"colorscale\":[[0.0,\"#440154\"],[0.1111111111111111,\"#482878\"],[0.2222222222222222,\"#3e4989\"],[0.3333333333333333,\"#31688e\"],[0.4444444444444444,\"#26828e\"],[0.5555555555555556,\"#1f9e89\"],[0.6666666666666666,\"#35b779\"],[0.7777777777777778,\"#6ece58\"],[0.8888888888888888,\"#b5de2b\"],[1.0,\"#fde725\"]],\"type\":\"contour\"}],\"heatmapgl\":[{\"colorbar\":{\"outlinewidth\":1,\"tickcolor\":\"rgb(36,36,36)\",\"ticks\":\"outside\"},\"colorscale\":[[0.0,\"#440154\"],[0.1111111111111111,\"#482878\"],[0.2222222222222222,\"#3e4989\"],[0.3333333333333333,\"#31688e\"],[0.4444444444444444,\"#26828e\"],[0.5555555555555556,\"#1f9e89\"],[0.6666666666666666,\"#35b779\"],[0.7777777777777778,\"#6ece58\"],[0.8888888888888888,\"#b5de2b\"],[1.0,\"#fde725\"]],\"type\":\"heatmapgl\"}],\"heatmap\":[{\"colorbar\":{\"outlinewidth\":1,\"tickcolor\":\"rgb(36,36,36)\",\"ticks\":\"outside\"},\"colorscale\":[[0.0,\"#440154\"],[0.1111111111111111,\"#482878\"],[0.2222222222222222,\"#3e4989\"],[0.3333333333333333,\"#31688e\"],[0.4444444444444444,\"#26828e\"],[0.5555555555555556,\"#1f9e89\"],[0.6666666666666666,\"#35b779\"],[0.7777777777777778,\"#6ece58\"],[0.8888888888888888,\"#b5de2b\"],[1.0,\"#fde725\"]],\"type\":\"heatmap\"}],\"histogram2dcontour\":[{\"colorbar\":{\"outlinewidth\":1,\"tickcolor\":\"rgb(36,36,36)\",\"ticks\":\"outside\"},\"colorscale\":[[0.0,\"#440154\"],[0.1111111111111111,\"#482878\"],[0.2222222222222222,\"#3e4989\"],[0.3333333333333333,\"#31688e\"],[0.4444444444444444,\"#26828e\"],[0.5555555555555556,\"#1f9e89\"],[0.6666666666666666,\"#35b779\"],[0.7777777777777778,\"#6ece58\"],[0.8888888888888888,\"#b5de2b\"],[1.0,\"#fde725\"]],\"type\":\"histogram2dcontour\"}],\"histogram2d\":[{\"colorbar\":{\"outlinewidth\":1,\"tickcolor\":\"rgb(36,36,36)\",\"ticks\":\"outside\"},\"colorscale\":[[0.0,\"#440154\"],[0.1111111111111111,\"#482878\"],[0.2222222222222222,\"#3e4989\"],[0.3333333333333333,\"#31688e\"],[0.4444444444444444,\"#26828e\"],[0.5555555555555556,\"#1f9e89\"],[0.6666666666666666,\"#35b779\"],[0.7777777777777778,\"#6ece58\"],[0.8888888888888888,\"#b5de2b\"],[1.0,\"#fde725\"]],\"type\":\"histogram2d\"}],\"histogram\":[{\"marker\":{\"line\":{\"color\":\"white\",\"width\":0.6}},\"type\":\"histogram\"}],\"mesh3d\":[{\"colorbar\":{\"outlinewidth\":1,\"tickcolor\":\"rgb(36,36,36)\",\"ticks\":\"outside\"},\"type\":\"mesh3d\"}],\"parcoords\":[{\"line\":{\"colorbar\":{\"outlinewidth\":1,\"tickcolor\":\"rgb(36,36,36)\",\"ticks\":\"outside\"}},\"type\":\"parcoords\"}],\"pie\":[{\"automargin\":true,\"type\":\"pie\"}],\"scatter3d\":[{\"line\":{\"colorbar\":{\"outlinewidth\":1,\"tickcolor\":\"rgb(36,36,36)\",\"ticks\":\"outside\"}},\"marker\":{\"colorbar\":{\"outlinewidth\":1,\"tickcolor\":\"rgb(36,36,36)\",\"ticks\":\"outside\"}},\"type\":\"scatter3d\"}],\"scattercarpet\":[{\"marker\":{\"colorbar\":{\"outlinewidth\":1,\"tickcolor\":\"rgb(36,36,36)\",\"ticks\":\"outside\"}},\"type\":\"scattercarpet\"}],\"scattergeo\":[{\"marker\":{\"colorbar\":{\"outlinewidth\":1,\"tickcolor\":\"rgb(36,36,36)\",\"ticks\":\"outside\"}},\"type\":\"scattergeo\"}],\"scattergl\":[{\"marker\":{\"colorbar\":{\"outlinewidth\":1,\"tickcolor\":\"rgb(36,36,36)\",\"ticks\":\"outside\"}},\"type\":\"scattergl\"}],\"scattermapbox\":[{\"marker\":{\"colorbar\":{\"outlinewidth\":1,\"tickcolor\":\"rgb(36,36,36)\",\"ticks\":\"outside\"}},\"type\":\"scattermapbox\"}],\"scatterpolargl\":[{\"marker\":{\"colorbar\":{\"outlinewidth\":1,\"tickcolor\":\"rgb(36,36,36)\",\"ticks\":\"outside\"}},\"type\":\"scatterpolargl\"}],\"scatterpolar\":[{\"marker\":{\"colorbar\":{\"outlinewidth\":1,\"tickcolor\":\"rgb(36,36,36)\",\"ticks\":\"outside\"}},\"type\":\"scatterpolar\"}],\"scatter\":[{\"fillpattern\":{\"fillmode\":\"overlay\",\"size\":10,\"solidity\":0.2},\"type\":\"scatter\"}],\"scatterternary\":[{\"marker\":{\"colorbar\":{\"outlinewidth\":1,\"tickcolor\":\"rgb(36,36,36)\",\"ticks\":\"outside\"}},\"type\":\"scatterternary\"}],\"surface\":[{\"colorbar\":{\"outlinewidth\":1,\"tickcolor\":\"rgb(36,36,36)\",\"ticks\":\"outside\"},\"colorscale\":[[0.0,\"#440154\"],[0.1111111111111111,\"#482878\"],[0.2222222222222222,\"#3e4989\"],[0.3333333333333333,\"#31688e\"],[0.4444444444444444,\"#26828e\"],[0.5555555555555556,\"#1f9e89\"],[0.6666666666666666,\"#35b779\"],[0.7777777777777778,\"#6ece58\"],[0.8888888888888888,\"#b5de2b\"],[1.0,\"#fde725\"]],\"type\":\"surface\"}],\"table\":[{\"cells\":{\"fill\":{\"color\":\"rgb(237,237,237)\"},\"line\":{\"color\":\"white\"}},\"header\":{\"fill\":{\"color\":\"rgb(217,217,217)\"},\"line\":{\"color\":\"white\"}},\"type\":\"table\"}]},\"layout\":{\"annotationdefaults\":{\"arrowhead\":0,\"arrowwidth\":1},\"autotypenumbers\":\"strict\",\"coloraxis\":{\"colorbar\":{\"outlinewidth\":1,\"tickcolor\":\"rgb(36,36,36)\",\"ticks\":\"outside\"}},\"colorscale\":{\"diverging\":[[0.0,\"rgb(103,0,31)\"],[0.1,\"rgb(178,24,43)\"],[0.2,\"rgb(214,96,77)\"],[0.3,\"rgb(244,165,130)\"],[0.4,\"rgb(253,219,199)\"],[0.5,\"rgb(247,247,247)\"],[0.6,\"rgb(209,229,240)\"],[0.7,\"rgb(146,197,222)\"],[0.8,\"rgb(67,147,195)\"],[0.9,\"rgb(33,102,172)\"],[1.0,\"rgb(5,48,97)\"]],\"sequential\":[[0.0,\"#440154\"],[0.1111111111111111,\"#482878\"],[0.2222222222222222,\"#3e4989\"],[0.3333333333333333,\"#31688e\"],[0.4444444444444444,\"#26828e\"],[0.5555555555555556,\"#1f9e89\"],[0.6666666666666666,\"#35b779\"],[0.7777777777777778,\"#6ece58\"],[0.8888888888888888,\"#b5de2b\"],[1.0,\"#fde725\"]],\"sequentialminus\":[[0.0,\"#440154\"],[0.1111111111111111,\"#482878\"],[0.2222222222222222,\"#3e4989\"],[0.3333333333333333,\"#31688e\"],[0.4444444444444444,\"#26828e\"],[0.5555555555555556,\"#1f9e89\"],[0.6666666666666666,\"#35b779\"],[0.7777777777777778,\"#6ece58\"],[0.8888888888888888,\"#b5de2b\"],[1.0,\"#fde725\"]]},\"colorway\":[\"#1F77B4\",\"#FF7F0E\",\"#2CA02C\",\"#D62728\",\"#9467BD\",\"#8C564B\",\"#E377C2\",\"#7F7F7F\",\"#BCBD22\",\"#17BECF\"],\"font\":{\"color\":\"rgb(36,36,36)\"},\"geo\":{\"bgcolor\":\"white\",\"lakecolor\":\"white\",\"landcolor\":\"white\",\"showlakes\":true,\"showland\":true,\"subunitcolor\":\"white\"},\"hoverlabel\":{\"align\":\"left\"},\"hovermode\":\"closest\",\"mapbox\":{\"style\":\"light\"},\"paper_bgcolor\":\"white\",\"plot_bgcolor\":\"white\",\"polar\":{\"angularaxis\":{\"gridcolor\":\"rgb(232,232,232)\",\"linecolor\":\"rgb(36,36,36)\",\"showgrid\":false,\"showline\":true,\"ticks\":\"outside\"},\"bgcolor\":\"white\",\"radialaxis\":{\"gridcolor\":\"rgb(232,232,232)\",\"linecolor\":\"rgb(36,36,36)\",\"showgrid\":false,\"showline\":true,\"ticks\":\"outside\"}},\"scene\":{\"xaxis\":{\"backgroundcolor\":\"white\",\"gridcolor\":\"rgb(232,232,232)\",\"gridwidth\":2,\"linecolor\":\"rgb(36,36,36)\",\"showbackground\":true,\"showgrid\":false,\"showline\":true,\"ticks\":\"outside\",\"zeroline\":false,\"zerolinecolor\":\"rgb(36,36,36)\"},\"yaxis\":{\"backgroundcolor\":\"white\",\"gridcolor\":\"rgb(232,232,232)\",\"gridwidth\":2,\"linecolor\":\"rgb(36,36,36)\",\"showbackground\":true,\"showgrid\":false,\"showline\":true,\"ticks\":\"outside\",\"zeroline\":false,\"zerolinecolor\":\"rgb(36,36,36)\"},\"zaxis\":{\"backgroundcolor\":\"white\",\"gridcolor\":\"rgb(232,232,232)\",\"gridwidth\":2,\"linecolor\":\"rgb(36,36,36)\",\"showbackground\":true,\"showgrid\":false,\"showline\":true,\"ticks\":\"outside\",\"zeroline\":false,\"zerolinecolor\":\"rgb(36,36,36)\"}},\"shapedefaults\":{\"fillcolor\":\"black\",\"line\":{\"width\":0},\"opacity\":0.3},\"ternary\":{\"aaxis\":{\"gridcolor\":\"rgb(232,232,232)\",\"linecolor\":\"rgb(36,36,36)\",\"showgrid\":false,\"showline\":true,\"ticks\":\"outside\"},\"baxis\":{\"gridcolor\":\"rgb(232,232,232)\",\"linecolor\":\"rgb(36,36,36)\",\"showgrid\":false,\"showline\":true,\"ticks\":\"outside\"},\"bgcolor\":\"white\",\"caxis\":{\"gridcolor\":\"rgb(232,232,232)\",\"linecolor\":\"rgb(36,36,36)\",\"showgrid\":false,\"showline\":true,\"ticks\":\"outside\"}},\"title\":{\"x\":0.05},\"xaxis\":{\"automargin\":true,\"gridcolor\":\"rgb(232,232,232)\",\"linecolor\":\"rgb(36,36,36)\",\"showgrid\":false,\"showline\":true,\"ticks\":\"outside\",\"title\":{\"standoff\":15},\"zeroline\":false,\"zerolinecolor\":\"rgb(36,36,36)\"},\"yaxis\":{\"automargin\":true,\"gridcolor\":\"rgb(232,232,232)\",\"linecolor\":\"rgb(36,36,36)\",\"showgrid\":false,\"showline\":true,\"ticks\":\"outside\",\"title\":{\"standoff\":15},\"zeroline\":false,\"zerolinecolor\":\"rgb(36,36,36)\"}}},\"xaxis\":{\"anchor\":\"y\",\"domain\":[0.0,1.0],\"title\":{\"text\":\"Protein Name\"}},\"yaxis\":{\"anchor\":\"x\",\"domain\":[0.0,1.0],\"title\":{\"text\":\"Fraction\"}},\"legend\":{\"title\":{\"text\":\"Category\"},\"tracegroupgap\":0},\"title\":{\"text\":\"Fraction of Sequence Modeled with Very High Confidence (pLDDT \\u003e 90)\"},\"barmode\":\"relative\",\"height\":600,\"width\":1200},                        {\"responsive\": true}                    ).then(function(){\n                            \nvar gd = document.getElementById('b0ca0ebf-f8b6-475a-8c70-6ffaaf590e46');\nvar x = new MutationObserver(function (mutations, observer) {{\n        var display = window.getComputedStyle(gd).display;\n        if (!display || display === 'none') {{\n            console.log([gd, 'removed!']);\n            Plotly.purge(gd);\n            observer.disconnect();\n        }}\n}});\n\n// Listen for the removal of the full notebook cells\nvar notebookContainer = gd.closest('#notebook-container');\nif (notebookContainer) {{\n    x.observe(notebookContainer, {childList: true});\n}}\n\n// Listen for the clearing of the current output cell\nvar outputEl = gd.closest('.output');\nif (outputEl) {{\n    x.observe(outputEl, {childList: true});\n}}\n\n                        })                };                });            </script>        </div>"
     },
     "metadata": {},
     "output_type": "display_data"
    }
   ],
   "source": [
    "fig.show()"
   ],
   "metadata": {
    "collapsed": false,
    "ExecuteTime": {
     "end_time": "2024-02-21T19:14:26.742292Z",
     "start_time": "2024-02-21T19:14:26.726107Z"
    }
   },
   "id": "c866f08d914ec541",
   "execution_count": 63
  },
  {
   "cell_type": "code",
   "outputs": [],
   "source": [
    "fig.write_image(Path('..') / 'figures' / 'alphafold_confidence.png')"
   ],
   "metadata": {
    "collapsed": false,
    "ExecuteTime": {
     "end_time": "2024-02-21T19:14:59.947837Z",
     "start_time": "2024-02-21T19:14:58.660118Z"
    }
   },
   "id": "3e3c59c981eadc19",
   "execution_count": 64
  },
  {
   "cell_type": "code",
   "outputs": [
    {
     "data": {
      "text/plain": "57"
     },
     "execution_count": 65,
     "metadata": {},
     "output_type": "execute_result"
    }
   ],
   "source": [
    "len(confidence_dict)"
   ],
   "metadata": {
    "collapsed": false,
    "ExecuteTime": {
     "end_time": "2024-02-21T19:14:59.973118Z",
     "start_time": "2024-02-21T19:14:59.951210Z"
    }
   },
   "id": "2eaa5d7e31548fce",
   "execution_count": 65
  },
  {
   "cell_type": "markdown",
   "source": [
    "# Combine info"
   ],
   "metadata": {
    "collapsed": false
   },
   "id": "d281869d41d518f7"
  },
  {
   "cell_type": "code",
   "outputs": [],
   "source": [
    "data_dict = {af.components[0].name: af for af in af_structures}"
   ],
   "metadata": {
    "collapsed": false,
    "ExecuteTime": {
     "end_time": "2024-02-21T19:15:02.231078Z",
     "start_time": "2024-02-21T19:15:02.209302Z"
    }
   },
   "id": "f6b8ba8c664ab315",
   "execution_count": 66
  },
  {
   "cell_type": "code",
   "outputs": [
    {
     "data": {
      "text/plain": "57"
     },
     "execution_count": 67,
     "metadata": {},
     "output_type": "execute_result"
    }
   ],
   "source": [
    "len(data_dict)"
   ],
   "metadata": {
    "collapsed": false,
    "ExecuteTime": {
     "end_time": "2024-02-21T19:15:02.675176Z",
     "start_time": "2024-02-21T19:15:02.638348Z"
    }
   },
   "id": "1c5ccbda62291c0",
   "execution_count": 67
  },
  {
   "cell_type": "markdown",
   "source": [
    "# Analyze Experimental Structures"
   ],
   "metadata": {
    "collapsed": false
   },
   "id": "69f85610f85fd454"
  },
  {
   "cell_type": "code",
   "outputs": [
    {
     "data": {
      "text/plain": "<module 'avoidome.target' from '/Users/alexpayne/Scientific_Projects/avoidome-analysis/avoidome/target.py'>"
     },
     "execution_count": 47,
     "metadata": {},
     "output_type": "execute_result"
    }
   ],
   "source": [
    "import avoidome.target as target\n",
    "reload(target)"
   ],
   "metadata": {
    "collapsed": false,
    "ExecuteTime": {
     "end_time": "2024-02-21T20:07:40.478713Z",
     "start_time": "2024-02-21T20:07:40.449747Z"
    }
   },
   "id": "c5865a0b4af05091",
   "execution_count": 47
  },
  {
   "cell_type": "code",
   "outputs": [
    {
     "name": "stderr",
     "output_type": "stream",
     "text": [
      "100%|██████████| 57/57 [00:07<00:00,  7.15it/s]\n"
     ]
    }
   ],
   "source": [
    "tsds = [target.TargetStructureData.from_uniprot_entry(ue) for ue in tqdm(uniprot_entries)]"
   ],
   "metadata": {
    "collapsed": false,
    "ExecuteTime": {
     "end_time": "2024-02-21T20:07:48.979641Z",
     "start_time": "2024-02-21T20:07:40.995885Z"
    }
   },
   "id": "69abd50b9ec82c05",
   "execution_count": 48
  },
  {
   "cell_type": "code",
   "outputs": [
    {
     "data": {
      "text/plain": "57"
     },
     "execution_count": 49,
     "metadata": {},
     "output_type": "execute_result"
    }
   ],
   "source": [
    "len(tsds)"
   ],
   "metadata": {
    "collapsed": false,
    "ExecuteTime": {
     "end_time": "2024-02-21T20:07:48.991138Z",
     "start_time": "2024-02-21T20:07:48.979717Z"
    }
   },
   "id": "6916933b39c15d9c",
   "execution_count": 49
  },
  {
   "cell_type": "code",
   "outputs": [],
   "source": [
    "tsd = tsds[0]"
   ],
   "metadata": {
    "collapsed": false,
    "ExecuteTime": {
     "end_time": "2024-02-21T20:07:48.993135Z",
     "start_time": "2024-02-21T20:07:48.984248Z"
    }
   },
   "id": "d22edd9d663b6cbc",
   "execution_count": 50
  },
  {
   "cell_type": "code",
   "outputs": [
    {
     "data": {
      "text/plain": "'NR1I2_HUMAN'"
     },
     "execution_count": 51,
     "metadata": {},
     "output_type": "execute_result"
    }
   ],
   "source": [
    "tsd.target_name"
   ],
   "metadata": {
    "collapsed": false,
    "ExecuteTime": {
     "end_time": "2024-02-21T20:07:49.029484Z",
     "start_time": "2024-02-21T20:07:48.994001Z"
    }
   },
   "id": "99c9155d60076f6c",
   "execution_count": 51
  },
  {
   "cell_type": "code",
   "outputs": [
    {
     "data": {
      "text/plain": "53"
     },
     "execution_count": 52,
     "metadata": {},
     "output_type": "execute_result"
    }
   ],
   "source": [
    "tsd.n_experimental_structures"
   ],
   "metadata": {
    "collapsed": false,
    "ExecuteTime": {
     "end_time": "2024-02-21T20:07:49.032153Z",
     "start_time": "2024-02-21T20:07:48.998729Z"
    }
   },
   "id": "6a98d60eb597428",
   "execution_count": 52
  },
  {
   "cell_type": "code",
   "outputs": [
    {
     "data": {
      "text/plain": "1"
     },
     "execution_count": 53,
     "metadata": {},
     "output_type": "execute_result"
    }
   ],
   "source": [
    "tsd.n_predicted_structures"
   ],
   "metadata": {
    "collapsed": false,
    "ExecuteTime": {
     "end_time": "2024-02-21T20:07:49.044493Z",
     "start_time": "2024-02-21T20:07:49.006170Z"
    }
   },
   "id": "f335c1276e2d046",
   "execution_count": 53
  },
  {
   "cell_type": "code",
   "outputs": [
    {
     "data": {
      "text/plain": "0.6972437179375708"
     },
     "execution_count": 54,
     "metadata": {},
     "output_type": "execute_result"
    }
   ],
   "source": [
    "tsd.average_coverage"
   ],
   "metadata": {
    "collapsed": false,
    "ExecuteTime": {
     "end_time": "2024-02-21T20:07:49.046671Z",
     "start_time": "2024-02-21T20:07:49.013623Z"
    }
   },
   "id": "fc673df4902c3606",
   "execution_count": 54
  },
  {
   "cell_type": "code",
   "outputs": [
    {
     "data": {
      "text/plain": "85.43"
     },
     "execution_count": 55,
     "metadata": {},
     "output_type": "execute_result"
    }
   ],
   "source": [
    "tsd.average_confidence"
   ],
   "metadata": {
    "collapsed": false,
    "ExecuteTime": {
     "end_time": "2024-02-21T20:07:49.048654Z",
     "start_time": "2024-02-21T20:07:49.019743Z"
    }
   },
   "id": "256ef885ac25dafa",
   "execution_count": 55
  },
  {
   "cell_type": "code",
   "outputs": [],
   "source": [
    "coverages = [exp_struc.sequence_coverage for exp_struc in tsd.experimental_structures]"
   ],
   "metadata": {
    "collapsed": false,
    "ExecuteTime": {
     "end_time": "2024-02-21T20:07:49.131918Z",
     "start_time": "2024-02-21T20:07:49.023349Z"
    }
   },
   "id": "2c6b62a89e05f892",
   "execution_count": 56
  },
  {
   "cell_type": "code",
   "outputs": [
    {
     "data": {
      "application/vnd.plotly.v1+json": {
       "data": [
        {
         "alignmentgroup": "True",
         "bingroup": "x",
         "hovertemplate": "variable=0<br>value=%{x}<br>count=%{y}<extra></extra>",
         "legendgroup": "0",
         "marker": {
          "color": "#636efa",
          "pattern": {
           "shape": ""
          }
         },
         "name": "0",
         "offsetgroup": "0",
         "orientation": "v",
         "showlegend": true,
         "x": [
          304.0,
          304.0,
          304.0,
          304.0,
          301.0,
          292.0,
          304.0,
          304.0,
          304.0,
          304.0,
          304.0,
          304.0,
          289.0,
          304.0,
          304.0,
          304.0,
          304.0,
          304.0,
          304.0,
          302.0,
          304.0,
          304.0,
          296.0,
          304.0,
          305.0,
          304.0,
          304.0,
          296.0,
          305.0,
          304.0,
          304.0,
          304.0,
          304.0,
          304.0,
          304.0,
          304.0,
          304.0,
          304.0,
          304.0,
          304.0,
          304.0,
          304.0,
          304.0,
          304.0,
          297.0,
          297.0,
          297.0,
          297.0,
          304.0,
          304.0,
          304.0,
          304.0,
          304.0
         ],
         "xaxis": "x",
         "yaxis": "y",
         "type": "histogram"
        }
       ],
       "layout": {
        "template": {
         "data": {
          "histogram2dcontour": [
           {
            "type": "histogram2dcontour",
            "colorbar": {
             "outlinewidth": 0,
             "ticks": ""
            },
            "colorscale": [
             [
              0.0,
              "#0d0887"
             ],
             [
              0.1111111111111111,
              "#46039f"
             ],
             [
              0.2222222222222222,
              "#7201a8"
             ],
             [
              0.3333333333333333,
              "#9c179e"
             ],
             [
              0.4444444444444444,
              "#bd3786"
             ],
             [
              0.5555555555555556,
              "#d8576b"
             ],
             [
              0.6666666666666666,
              "#ed7953"
             ],
             [
              0.7777777777777778,
              "#fb9f3a"
             ],
             [
              0.8888888888888888,
              "#fdca26"
             ],
             [
              1.0,
              "#f0f921"
             ]
            ]
           }
          ],
          "choropleth": [
           {
            "type": "choropleth",
            "colorbar": {
             "outlinewidth": 0,
             "ticks": ""
            }
           }
          ],
          "histogram2d": [
           {
            "type": "histogram2d",
            "colorbar": {
             "outlinewidth": 0,
             "ticks": ""
            },
            "colorscale": [
             [
              0.0,
              "#0d0887"
             ],
             [
              0.1111111111111111,
              "#46039f"
             ],
             [
              0.2222222222222222,
              "#7201a8"
             ],
             [
              0.3333333333333333,
              "#9c179e"
             ],
             [
              0.4444444444444444,
              "#bd3786"
             ],
             [
              0.5555555555555556,
              "#d8576b"
             ],
             [
              0.6666666666666666,
              "#ed7953"
             ],
             [
              0.7777777777777778,
              "#fb9f3a"
             ],
             [
              0.8888888888888888,
              "#fdca26"
             ],
             [
              1.0,
              "#f0f921"
             ]
            ]
           }
          ],
          "heatmap": [
           {
            "type": "heatmap",
            "colorbar": {
             "outlinewidth": 0,
             "ticks": ""
            },
            "colorscale": [
             [
              0.0,
              "#0d0887"
             ],
             [
              0.1111111111111111,
              "#46039f"
             ],
             [
              0.2222222222222222,
              "#7201a8"
             ],
             [
              0.3333333333333333,
              "#9c179e"
             ],
             [
              0.4444444444444444,
              "#bd3786"
             ],
             [
              0.5555555555555556,
              "#d8576b"
             ],
             [
              0.6666666666666666,
              "#ed7953"
             ],
             [
              0.7777777777777778,
              "#fb9f3a"
             ],
             [
              0.8888888888888888,
              "#fdca26"
             ],
             [
              1.0,
              "#f0f921"
             ]
            ]
           }
          ],
          "heatmapgl": [
           {
            "type": "heatmapgl",
            "colorbar": {
             "outlinewidth": 0,
             "ticks": ""
            },
            "colorscale": [
             [
              0.0,
              "#0d0887"
             ],
             [
              0.1111111111111111,
              "#46039f"
             ],
             [
              0.2222222222222222,
              "#7201a8"
             ],
             [
              0.3333333333333333,
              "#9c179e"
             ],
             [
              0.4444444444444444,
              "#bd3786"
             ],
             [
              0.5555555555555556,
              "#d8576b"
             ],
             [
              0.6666666666666666,
              "#ed7953"
             ],
             [
              0.7777777777777778,
              "#fb9f3a"
             ],
             [
              0.8888888888888888,
              "#fdca26"
             ],
             [
              1.0,
              "#f0f921"
             ]
            ]
           }
          ],
          "contourcarpet": [
           {
            "type": "contourcarpet",
            "colorbar": {
             "outlinewidth": 0,
             "ticks": ""
            }
           }
          ],
          "contour": [
           {
            "type": "contour",
            "colorbar": {
             "outlinewidth": 0,
             "ticks": ""
            },
            "colorscale": [
             [
              0.0,
              "#0d0887"
             ],
             [
              0.1111111111111111,
              "#46039f"
             ],
             [
              0.2222222222222222,
              "#7201a8"
             ],
             [
              0.3333333333333333,
              "#9c179e"
             ],
             [
              0.4444444444444444,
              "#bd3786"
             ],
             [
              0.5555555555555556,
              "#d8576b"
             ],
             [
              0.6666666666666666,
              "#ed7953"
             ],
             [
              0.7777777777777778,
              "#fb9f3a"
             ],
             [
              0.8888888888888888,
              "#fdca26"
             ],
             [
              1.0,
              "#f0f921"
             ]
            ]
           }
          ],
          "surface": [
           {
            "type": "surface",
            "colorbar": {
             "outlinewidth": 0,
             "ticks": ""
            },
            "colorscale": [
             [
              0.0,
              "#0d0887"
             ],
             [
              0.1111111111111111,
              "#46039f"
             ],
             [
              0.2222222222222222,
              "#7201a8"
             ],
             [
              0.3333333333333333,
              "#9c179e"
             ],
             [
              0.4444444444444444,
              "#bd3786"
             ],
             [
              0.5555555555555556,
              "#d8576b"
             ],
             [
              0.6666666666666666,
              "#ed7953"
             ],
             [
              0.7777777777777778,
              "#fb9f3a"
             ],
             [
              0.8888888888888888,
              "#fdca26"
             ],
             [
              1.0,
              "#f0f921"
             ]
            ]
           }
          ],
          "mesh3d": [
           {
            "type": "mesh3d",
            "colorbar": {
             "outlinewidth": 0,
             "ticks": ""
            }
           }
          ],
          "scatter": [
           {
            "marker": {
             "line": {
              "color": "#283442"
             }
            },
            "type": "scatter"
           }
          ],
          "parcoords": [
           {
            "type": "parcoords",
            "line": {
             "colorbar": {
              "outlinewidth": 0,
              "ticks": ""
             }
            }
           }
          ],
          "scatterpolargl": [
           {
            "type": "scatterpolargl",
            "marker": {
             "colorbar": {
              "outlinewidth": 0,
              "ticks": ""
             }
            }
           }
          ],
          "bar": [
           {
            "error_x": {
             "color": "#f2f5fa"
            },
            "error_y": {
             "color": "#f2f5fa"
            },
            "marker": {
             "line": {
              "color": "rgb(17,17,17)",
              "width": 0.5
             },
             "pattern": {
              "fillmode": "overlay",
              "size": 10,
              "solidity": 0.2
             }
            },
            "type": "bar"
           }
          ],
          "scattergeo": [
           {
            "type": "scattergeo",
            "marker": {
             "colorbar": {
              "outlinewidth": 0,
              "ticks": ""
             }
            }
           }
          ],
          "scatterpolar": [
           {
            "type": "scatterpolar",
            "marker": {
             "colorbar": {
              "outlinewidth": 0,
              "ticks": ""
             }
            }
           }
          ],
          "histogram": [
           {
            "marker": {
             "pattern": {
              "fillmode": "overlay",
              "size": 10,
              "solidity": 0.2
             }
            },
            "type": "histogram"
           }
          ],
          "scattergl": [
           {
            "marker": {
             "line": {
              "color": "#283442"
             }
            },
            "type": "scattergl"
           }
          ],
          "scatter3d": [
           {
            "type": "scatter3d",
            "line": {
             "colorbar": {
              "outlinewidth": 0,
              "ticks": ""
             }
            },
            "marker": {
             "colorbar": {
              "outlinewidth": 0,
              "ticks": ""
             }
            }
           }
          ],
          "scattermapbox": [
           {
            "type": "scattermapbox",
            "marker": {
             "colorbar": {
              "outlinewidth": 0,
              "ticks": ""
             }
            }
           }
          ],
          "scatterternary": [
           {
            "type": "scatterternary",
            "marker": {
             "colorbar": {
              "outlinewidth": 0,
              "ticks": ""
             }
            }
           }
          ],
          "scattercarpet": [
           {
            "type": "scattercarpet",
            "marker": {
             "colorbar": {
              "outlinewidth": 0,
              "ticks": ""
             }
            }
           }
          ],
          "carpet": [
           {
            "aaxis": {
             "endlinecolor": "#A2B1C6",
             "gridcolor": "#506784",
             "linecolor": "#506784",
             "minorgridcolor": "#506784",
             "startlinecolor": "#A2B1C6"
            },
            "baxis": {
             "endlinecolor": "#A2B1C6",
             "gridcolor": "#506784",
             "linecolor": "#506784",
             "minorgridcolor": "#506784",
             "startlinecolor": "#A2B1C6"
            },
            "type": "carpet"
           }
          ],
          "table": [
           {
            "cells": {
             "fill": {
              "color": "#506784"
             },
             "line": {
              "color": "rgb(17,17,17)"
             }
            },
            "header": {
             "fill": {
              "color": "#2a3f5f"
             },
             "line": {
              "color": "rgb(17,17,17)"
             }
            },
            "type": "table"
           }
          ],
          "barpolar": [
           {
            "marker": {
             "line": {
              "color": "rgb(17,17,17)",
              "width": 0.5
             },
             "pattern": {
              "fillmode": "overlay",
              "size": 10,
              "solidity": 0.2
             }
            },
            "type": "barpolar"
           }
          ],
          "pie": [
           {
            "automargin": true,
            "type": "pie"
           }
          ]
         },
         "layout": {
          "autotypenumbers": "strict",
          "colorway": [
           "#636efa",
           "#EF553B",
           "#00cc96",
           "#ab63fa",
           "#FFA15A",
           "#19d3f3",
           "#FF6692",
           "#B6E880",
           "#FF97FF",
           "#FECB52"
          ],
          "font": {
           "color": "#f2f5fa"
          },
          "hovermode": "closest",
          "hoverlabel": {
           "align": "left"
          },
          "paper_bgcolor": "rgb(17,17,17)",
          "plot_bgcolor": "rgb(17,17,17)",
          "polar": {
           "bgcolor": "rgb(17,17,17)",
           "angularaxis": {
            "gridcolor": "#506784",
            "linecolor": "#506784",
            "ticks": ""
           },
           "radialaxis": {
            "gridcolor": "#506784",
            "linecolor": "#506784",
            "ticks": ""
           }
          },
          "ternary": {
           "bgcolor": "rgb(17,17,17)",
           "aaxis": {
            "gridcolor": "#506784",
            "linecolor": "#506784",
            "ticks": ""
           },
           "baxis": {
            "gridcolor": "#506784",
            "linecolor": "#506784",
            "ticks": ""
           },
           "caxis": {
            "gridcolor": "#506784",
            "linecolor": "#506784",
            "ticks": ""
           }
          },
          "coloraxis": {
           "colorbar": {
            "outlinewidth": 0,
            "ticks": ""
           }
          },
          "colorscale": {
           "sequential": [
            [
             0.0,
             "#0d0887"
            ],
            [
             0.1111111111111111,
             "#46039f"
            ],
            [
             0.2222222222222222,
             "#7201a8"
            ],
            [
             0.3333333333333333,
             "#9c179e"
            ],
            [
             0.4444444444444444,
             "#bd3786"
            ],
            [
             0.5555555555555556,
             "#d8576b"
            ],
            [
             0.6666666666666666,
             "#ed7953"
            ],
            [
             0.7777777777777778,
             "#fb9f3a"
            ],
            [
             0.8888888888888888,
             "#fdca26"
            ],
            [
             1.0,
             "#f0f921"
            ]
           ],
           "sequentialminus": [
            [
             0.0,
             "#0d0887"
            ],
            [
             0.1111111111111111,
             "#46039f"
            ],
            [
             0.2222222222222222,
             "#7201a8"
            ],
            [
             0.3333333333333333,
             "#9c179e"
            ],
            [
             0.4444444444444444,
             "#bd3786"
            ],
            [
             0.5555555555555556,
             "#d8576b"
            ],
            [
             0.6666666666666666,
             "#ed7953"
            ],
            [
             0.7777777777777778,
             "#fb9f3a"
            ],
            [
             0.8888888888888888,
             "#fdca26"
            ],
            [
             1.0,
             "#f0f921"
            ]
           ],
           "diverging": [
            [
             0,
             "#8e0152"
            ],
            [
             0.1,
             "#c51b7d"
            ],
            [
             0.2,
             "#de77ae"
            ],
            [
             0.3,
             "#f1b6da"
            ],
            [
             0.4,
             "#fde0ef"
            ],
            [
             0.5,
             "#f7f7f7"
            ],
            [
             0.6,
             "#e6f5d0"
            ],
            [
             0.7,
             "#b8e186"
            ],
            [
             0.8,
             "#7fbc41"
            ],
            [
             0.9,
             "#4d9221"
            ],
            [
             1,
             "#276419"
            ]
           ]
          },
          "xaxis": {
           "gridcolor": "#283442",
           "linecolor": "#506784",
           "ticks": "",
           "title": {
            "standoff": 15
           },
           "zerolinecolor": "#283442",
           "automargin": true,
           "zerolinewidth": 2
          },
          "yaxis": {
           "gridcolor": "#283442",
           "linecolor": "#506784",
           "ticks": "",
           "title": {
            "standoff": 15
           },
           "zerolinecolor": "#283442",
           "automargin": true,
           "zerolinewidth": 2
          },
          "scene": {
           "xaxis": {
            "backgroundcolor": "rgb(17,17,17)",
            "gridcolor": "#506784",
            "linecolor": "#506784",
            "showbackground": true,
            "ticks": "",
            "zerolinecolor": "#C8D4E3",
            "gridwidth": 2
           },
           "yaxis": {
            "backgroundcolor": "rgb(17,17,17)",
            "gridcolor": "#506784",
            "linecolor": "#506784",
            "showbackground": true,
            "ticks": "",
            "zerolinecolor": "#C8D4E3",
            "gridwidth": 2
           },
           "zaxis": {
            "backgroundcolor": "rgb(17,17,17)",
            "gridcolor": "#506784",
            "linecolor": "#506784",
            "showbackground": true,
            "ticks": "",
            "zerolinecolor": "#C8D4E3",
            "gridwidth": 2
           }
          },
          "shapedefaults": {
           "line": {
            "color": "#f2f5fa"
           }
          },
          "annotationdefaults": {
           "arrowcolor": "#f2f5fa",
           "arrowhead": 0,
           "arrowwidth": 1
          },
          "geo": {
           "bgcolor": "rgb(17,17,17)",
           "landcolor": "rgb(17,17,17)",
           "subunitcolor": "#506784",
           "showland": true,
           "showlakes": true,
           "lakecolor": "rgb(17,17,17)"
          },
          "title": {
           "x": 0.05
          },
          "updatemenudefaults": {
           "bgcolor": "#506784",
           "borderwidth": 0
          },
          "sliderdefaults": {
           "bgcolor": "#C8D4E3",
           "borderwidth": 1,
           "bordercolor": "rgb(17,17,17)",
           "tickwidth": 0
          },
          "mapbox": {
           "style": "dark"
          }
         }
        },
        "xaxis": {
         "anchor": "y",
         "domain": [
          0.0,
          1.0
         ],
         "title": {
          "text": "value"
         }
        },
        "yaxis": {
         "anchor": "x",
         "domain": [
          0.0,
          1.0
         ],
         "title": {
          "text": "count"
         }
        },
        "legend": {
         "title": {
          "text": "variable"
         },
         "tracegroupgap": 0
        },
        "margin": {
         "t": 60
        },
        "barmode": "relative"
       },
       "config": {
        "plotlyServerURL": "https://plot.ly"
       }
      },
      "text/html": "<div>                            <div id=\"5b5398b5-c04a-4848-a8b4-c57006793db0\" class=\"plotly-graph-div\" style=\"height:525px; width:100%;\"></div>            <script type=\"text/javascript\">                require([\"plotly\"], function(Plotly) {                    window.PLOTLYENV=window.PLOTLYENV || {};                                    if (document.getElementById(\"5b5398b5-c04a-4848-a8b4-c57006793db0\")) {                    Plotly.newPlot(                        \"5b5398b5-c04a-4848-a8b4-c57006793db0\",                        [{\"alignmentgroup\":\"True\",\"bingroup\":\"x\",\"hovertemplate\":\"variable=0\\u003cbr\\u003evalue=%{x}\\u003cbr\\u003ecount=%{y}\\u003cextra\\u003e\\u003c\\u002fextra\\u003e\",\"legendgroup\":\"0\",\"marker\":{\"color\":\"#636efa\",\"pattern\":{\"shape\":\"\"}},\"name\":\"0\",\"offsetgroup\":\"0\",\"orientation\":\"v\",\"showlegend\":true,\"x\":[304.0,304.0,304.0,304.0,301.0,292.0,304.0,304.0,304.0,304.0,304.0,304.0,289.0,304.0,304.0,304.0,304.0,304.0,304.0,302.0,304.0,304.0,296.0,304.0,305.0,304.0,304.0,296.0,305.0,304.0,304.0,304.0,304.0,304.0,304.0,304.0,304.0,304.0,304.0,304.0,304.0,304.0,304.0,304.0,297.0,297.0,297.0,297.0,304.0,304.0,304.0,304.0,304.0],\"xaxis\":\"x\",\"yaxis\":\"y\",\"type\":\"histogram\"}],                        {\"template\":{\"data\":{\"histogram2dcontour\":[{\"type\":\"histogram2dcontour\",\"colorbar\":{\"outlinewidth\":0,\"ticks\":\"\"},\"colorscale\":[[0.0,\"#0d0887\"],[0.1111111111111111,\"#46039f\"],[0.2222222222222222,\"#7201a8\"],[0.3333333333333333,\"#9c179e\"],[0.4444444444444444,\"#bd3786\"],[0.5555555555555556,\"#d8576b\"],[0.6666666666666666,\"#ed7953\"],[0.7777777777777778,\"#fb9f3a\"],[0.8888888888888888,\"#fdca26\"],[1.0,\"#f0f921\"]]}],\"choropleth\":[{\"type\":\"choropleth\",\"colorbar\":{\"outlinewidth\":0,\"ticks\":\"\"}}],\"histogram2d\":[{\"type\":\"histogram2d\",\"colorbar\":{\"outlinewidth\":0,\"ticks\":\"\"},\"colorscale\":[[0.0,\"#0d0887\"],[0.1111111111111111,\"#46039f\"],[0.2222222222222222,\"#7201a8\"],[0.3333333333333333,\"#9c179e\"],[0.4444444444444444,\"#bd3786\"],[0.5555555555555556,\"#d8576b\"],[0.6666666666666666,\"#ed7953\"],[0.7777777777777778,\"#fb9f3a\"],[0.8888888888888888,\"#fdca26\"],[1.0,\"#f0f921\"]]}],\"heatmap\":[{\"type\":\"heatmap\",\"colorbar\":{\"outlinewidth\":0,\"ticks\":\"\"},\"colorscale\":[[0.0,\"#0d0887\"],[0.1111111111111111,\"#46039f\"],[0.2222222222222222,\"#7201a8\"],[0.3333333333333333,\"#9c179e\"],[0.4444444444444444,\"#bd3786\"],[0.5555555555555556,\"#d8576b\"],[0.6666666666666666,\"#ed7953\"],[0.7777777777777778,\"#fb9f3a\"],[0.8888888888888888,\"#fdca26\"],[1.0,\"#f0f921\"]]}],\"heatmapgl\":[{\"type\":\"heatmapgl\",\"colorbar\":{\"outlinewidth\":0,\"ticks\":\"\"},\"colorscale\":[[0.0,\"#0d0887\"],[0.1111111111111111,\"#46039f\"],[0.2222222222222222,\"#7201a8\"],[0.3333333333333333,\"#9c179e\"],[0.4444444444444444,\"#bd3786\"],[0.5555555555555556,\"#d8576b\"],[0.6666666666666666,\"#ed7953\"],[0.7777777777777778,\"#fb9f3a\"],[0.8888888888888888,\"#fdca26\"],[1.0,\"#f0f921\"]]}],\"contourcarpet\":[{\"type\":\"contourcarpet\",\"colorbar\":{\"outlinewidth\":0,\"ticks\":\"\"}}],\"contour\":[{\"type\":\"contour\",\"colorbar\":{\"outlinewidth\":0,\"ticks\":\"\"},\"colorscale\":[[0.0,\"#0d0887\"],[0.1111111111111111,\"#46039f\"],[0.2222222222222222,\"#7201a8\"],[0.3333333333333333,\"#9c179e\"],[0.4444444444444444,\"#bd3786\"],[0.5555555555555556,\"#d8576b\"],[0.6666666666666666,\"#ed7953\"],[0.7777777777777778,\"#fb9f3a\"],[0.8888888888888888,\"#fdca26\"],[1.0,\"#f0f921\"]]}],\"surface\":[{\"type\":\"surface\",\"colorbar\":{\"outlinewidth\":0,\"ticks\":\"\"},\"colorscale\":[[0.0,\"#0d0887\"],[0.1111111111111111,\"#46039f\"],[0.2222222222222222,\"#7201a8\"],[0.3333333333333333,\"#9c179e\"],[0.4444444444444444,\"#bd3786\"],[0.5555555555555556,\"#d8576b\"],[0.6666666666666666,\"#ed7953\"],[0.7777777777777778,\"#fb9f3a\"],[0.8888888888888888,\"#fdca26\"],[1.0,\"#f0f921\"]]}],\"mesh3d\":[{\"type\":\"mesh3d\",\"colorbar\":{\"outlinewidth\":0,\"ticks\":\"\"}}],\"scatter\":[{\"marker\":{\"line\":{\"color\":\"#283442\"}},\"type\":\"scatter\"}],\"parcoords\":[{\"type\":\"parcoords\",\"line\":{\"colorbar\":{\"outlinewidth\":0,\"ticks\":\"\"}}}],\"scatterpolargl\":[{\"type\":\"scatterpolargl\",\"marker\":{\"colorbar\":{\"outlinewidth\":0,\"ticks\":\"\"}}}],\"bar\":[{\"error_x\":{\"color\":\"#f2f5fa\"},\"error_y\":{\"color\":\"#f2f5fa\"},\"marker\":{\"line\":{\"color\":\"rgb(17,17,17)\",\"width\":0.5},\"pattern\":{\"fillmode\":\"overlay\",\"size\":10,\"solidity\":0.2}},\"type\":\"bar\"}],\"scattergeo\":[{\"type\":\"scattergeo\",\"marker\":{\"colorbar\":{\"outlinewidth\":0,\"ticks\":\"\"}}}],\"scatterpolar\":[{\"type\":\"scatterpolar\",\"marker\":{\"colorbar\":{\"outlinewidth\":0,\"ticks\":\"\"}}}],\"histogram\":[{\"marker\":{\"pattern\":{\"fillmode\":\"overlay\",\"size\":10,\"solidity\":0.2}},\"type\":\"histogram\"}],\"scattergl\":[{\"marker\":{\"line\":{\"color\":\"#283442\"}},\"type\":\"scattergl\"}],\"scatter3d\":[{\"type\":\"scatter3d\",\"line\":{\"colorbar\":{\"outlinewidth\":0,\"ticks\":\"\"}},\"marker\":{\"colorbar\":{\"outlinewidth\":0,\"ticks\":\"\"}}}],\"scattermapbox\":[{\"type\":\"scattermapbox\",\"marker\":{\"colorbar\":{\"outlinewidth\":0,\"ticks\":\"\"}}}],\"scatterternary\":[{\"type\":\"scatterternary\",\"marker\":{\"colorbar\":{\"outlinewidth\":0,\"ticks\":\"\"}}}],\"scattercarpet\":[{\"type\":\"scattercarpet\",\"marker\":{\"colorbar\":{\"outlinewidth\":0,\"ticks\":\"\"}}}],\"carpet\":[{\"aaxis\":{\"endlinecolor\":\"#A2B1C6\",\"gridcolor\":\"#506784\",\"linecolor\":\"#506784\",\"minorgridcolor\":\"#506784\",\"startlinecolor\":\"#A2B1C6\"},\"baxis\":{\"endlinecolor\":\"#A2B1C6\",\"gridcolor\":\"#506784\",\"linecolor\":\"#506784\",\"minorgridcolor\":\"#506784\",\"startlinecolor\":\"#A2B1C6\"},\"type\":\"carpet\"}],\"table\":[{\"cells\":{\"fill\":{\"color\":\"#506784\"},\"line\":{\"color\":\"rgb(17,17,17)\"}},\"header\":{\"fill\":{\"color\":\"#2a3f5f\"},\"line\":{\"color\":\"rgb(17,17,17)\"}},\"type\":\"table\"}],\"barpolar\":[{\"marker\":{\"line\":{\"color\":\"rgb(17,17,17)\",\"width\":0.5},\"pattern\":{\"fillmode\":\"overlay\",\"size\":10,\"solidity\":0.2}},\"type\":\"barpolar\"}],\"pie\":[{\"automargin\":true,\"type\":\"pie\"}]},\"layout\":{\"autotypenumbers\":\"strict\",\"colorway\":[\"#636efa\",\"#EF553B\",\"#00cc96\",\"#ab63fa\",\"#FFA15A\",\"#19d3f3\",\"#FF6692\",\"#B6E880\",\"#FF97FF\",\"#FECB52\"],\"font\":{\"color\":\"#f2f5fa\"},\"hovermode\":\"closest\",\"hoverlabel\":{\"align\":\"left\"},\"paper_bgcolor\":\"rgb(17,17,17)\",\"plot_bgcolor\":\"rgb(17,17,17)\",\"polar\":{\"bgcolor\":\"rgb(17,17,17)\",\"angularaxis\":{\"gridcolor\":\"#506784\",\"linecolor\":\"#506784\",\"ticks\":\"\"},\"radialaxis\":{\"gridcolor\":\"#506784\",\"linecolor\":\"#506784\",\"ticks\":\"\"}},\"ternary\":{\"bgcolor\":\"rgb(17,17,17)\",\"aaxis\":{\"gridcolor\":\"#506784\",\"linecolor\":\"#506784\",\"ticks\":\"\"},\"baxis\":{\"gridcolor\":\"#506784\",\"linecolor\":\"#506784\",\"ticks\":\"\"},\"caxis\":{\"gridcolor\":\"#506784\",\"linecolor\":\"#506784\",\"ticks\":\"\"}},\"coloraxis\":{\"colorbar\":{\"outlinewidth\":0,\"ticks\":\"\"}},\"colorscale\":{\"sequential\":[[0.0,\"#0d0887\"],[0.1111111111111111,\"#46039f\"],[0.2222222222222222,\"#7201a8\"],[0.3333333333333333,\"#9c179e\"],[0.4444444444444444,\"#bd3786\"],[0.5555555555555556,\"#d8576b\"],[0.6666666666666666,\"#ed7953\"],[0.7777777777777778,\"#fb9f3a\"],[0.8888888888888888,\"#fdca26\"],[1.0,\"#f0f921\"]],\"sequentialminus\":[[0.0,\"#0d0887\"],[0.1111111111111111,\"#46039f\"],[0.2222222222222222,\"#7201a8\"],[0.3333333333333333,\"#9c179e\"],[0.4444444444444444,\"#bd3786\"],[0.5555555555555556,\"#d8576b\"],[0.6666666666666666,\"#ed7953\"],[0.7777777777777778,\"#fb9f3a\"],[0.8888888888888888,\"#fdca26\"],[1.0,\"#f0f921\"]],\"diverging\":[[0,\"#8e0152\"],[0.1,\"#c51b7d\"],[0.2,\"#de77ae\"],[0.3,\"#f1b6da\"],[0.4,\"#fde0ef\"],[0.5,\"#f7f7f7\"],[0.6,\"#e6f5d0\"],[0.7,\"#b8e186\"],[0.8,\"#7fbc41\"],[0.9,\"#4d9221\"],[1,\"#276419\"]]},\"xaxis\":{\"gridcolor\":\"#283442\",\"linecolor\":\"#506784\",\"ticks\":\"\",\"title\":{\"standoff\":15},\"zerolinecolor\":\"#283442\",\"automargin\":true,\"zerolinewidth\":2},\"yaxis\":{\"gridcolor\":\"#283442\",\"linecolor\":\"#506784\",\"ticks\":\"\",\"title\":{\"standoff\":15},\"zerolinecolor\":\"#283442\",\"automargin\":true,\"zerolinewidth\":2},\"scene\":{\"xaxis\":{\"backgroundcolor\":\"rgb(17,17,17)\",\"gridcolor\":\"#506784\",\"linecolor\":\"#506784\",\"showbackground\":true,\"ticks\":\"\",\"zerolinecolor\":\"#C8D4E3\",\"gridwidth\":2},\"yaxis\":{\"backgroundcolor\":\"rgb(17,17,17)\",\"gridcolor\":\"#506784\",\"linecolor\":\"#506784\",\"showbackground\":true,\"ticks\":\"\",\"zerolinecolor\":\"#C8D4E3\",\"gridwidth\":2},\"zaxis\":{\"backgroundcolor\":\"rgb(17,17,17)\",\"gridcolor\":\"#506784\",\"linecolor\":\"#506784\",\"showbackground\":true,\"ticks\":\"\",\"zerolinecolor\":\"#C8D4E3\",\"gridwidth\":2}},\"shapedefaults\":{\"line\":{\"color\":\"#f2f5fa\"}},\"annotationdefaults\":{\"arrowcolor\":\"#f2f5fa\",\"arrowhead\":0,\"arrowwidth\":1},\"geo\":{\"bgcolor\":\"rgb(17,17,17)\",\"landcolor\":\"rgb(17,17,17)\",\"subunitcolor\":\"#506784\",\"showland\":true,\"showlakes\":true,\"lakecolor\":\"rgb(17,17,17)\"},\"title\":{\"x\":0.05},\"updatemenudefaults\":{\"bgcolor\":\"#506784\",\"borderwidth\":0},\"sliderdefaults\":{\"bgcolor\":\"#C8D4E3\",\"borderwidth\":1,\"bordercolor\":\"rgb(17,17,17)\",\"tickwidth\":0},\"mapbox\":{\"style\":\"dark\"}}},\"xaxis\":{\"anchor\":\"y\",\"domain\":[0.0,1.0],\"title\":{\"text\":\"value\"}},\"yaxis\":{\"anchor\":\"x\",\"domain\":[0.0,1.0],\"title\":{\"text\":\"count\"}},\"legend\":{\"title\":{\"text\":\"variable\"},\"tracegroupgap\":0},\"margin\":{\"t\":60},\"barmode\":\"relative\"},                        {\"responsive\": true}                    ).then(function(){\n                            \nvar gd = document.getElementById('5b5398b5-c04a-4848-a8b4-c57006793db0');\nvar x = new MutationObserver(function (mutations, observer) {{\n        var display = window.getComputedStyle(gd).display;\n        if (!display || display === 'none') {{\n            console.log([gd, 'removed!']);\n            Plotly.purge(gd);\n            observer.disconnect();\n        }}\n}});\n\n// Listen for the removal of the full notebook cells\nvar notebookContainer = gd.closest('#notebook-container');\nif (notebookContainer) {{\n    x.observe(notebookContainer, {childList: true});\n}}\n\n// Listen for the clearing of the current output cell\nvar outputEl = gd.closest('.output');\nif (outputEl) {{\n    x.observe(outputEl, {childList: true});\n}}\n\n                        })                };                });            </script>        </div>"
     },
     "metadata": {},
     "output_type": "display_data"
    }
   ],
   "source": [
    "px.histogram(coverages)"
   ],
   "metadata": {
    "collapsed": false,
    "ExecuteTime": {
     "end_time": "2024-02-21T20:07:49.175035Z",
     "start_time": "2024-02-21T20:07:49.040724Z"
    }
   },
   "id": "d7b602203b975024",
   "execution_count": 57
  },
  {
   "cell_type": "code",
   "outputs": [
    {
     "data": {
      "text/plain": "434"
     },
     "execution_count": 58,
     "metadata": {},
     "output_type": "execute_result"
    }
   ],
   "source": [
    "tsd.sequence_length"
   ],
   "metadata": {
    "collapsed": false,
    "ExecuteTime": {
     "end_time": "2024-02-21T20:07:49.177080Z",
     "start_time": "2024-02-21T20:07:49.086965Z"
    }
   },
   "id": "c55c9ceaca449fa1",
   "execution_count": 58
  },
  {
   "cell_type": "markdown",
   "source": [
    "# Plot Experimental Structures"
   ],
   "metadata": {
    "collapsed": false
   },
   "id": "bda0222b022fa793"
  },
  {
   "cell_type": "markdown",
   "source": [
    "1) violin plot with dots only\n",
    "2) color by category\n",
    "2) size is the % sequence coverage"
   ],
   "metadata": {
    "collapsed": false
   },
   "id": "1c42925ce2f294c5"
  },
  {
   "cell_type": "markdown",
   "source": [],
   "metadata": {
    "collapsed": false
   },
   "id": "3b182fea98345d94"
  },
  {
   "cell_type": "markdown",
   "source": [
    "## make tidy dataframe"
   ],
   "metadata": {
    "collapsed": false
   },
   "id": "70877585d0460c5a"
  },
  {
   "cell_type": "code",
   "outputs": [
    {
     "name": "stderr",
     "output_type": "stream",
     "text": [
      "/Users/alexpayne/miniforge-pypy3/envs/asapdiscovery/lib/python3.10/site-packages/numpy/core/fromnumeric.py:3432: RuntimeWarning:\n",
      "\n",
      "Mean of empty slice.\n",
      "\n",
      "/Users/alexpayne/miniforge-pypy3/envs/asapdiscovery/lib/python3.10/site-packages/numpy/core/_methods.py:190: RuntimeWarning:\n",
      "\n",
      "invalid value encountered in double_scalars\n",
      "\n"
     ]
    }
   ],
   "source": [
    "import avoidome.structures as structures\n",
    "import pandas as pd\n",
    "df = pd.concat([pd.DataFrame({'Uniprot ID': tsd.uniprot_id,\n",
    "    'Protein Name': [f'{tsd.target_name.split(\"_\")[0]} ({tsd.uniprot_id})' for exp_struc in tsd.structures],\n",
    "                   'Category': [category_dict[tsd.uniprot_id] for exp_struc in tsd.structures],\n",
    "                   'Average Sequence Coverage': tsd.average_coverage,\n",
    "                              \"Sequence Coverage\": [exp_struc.sequence_coverage / tsd.sequence_length for exp_struc in tsd.experimental_structures] + [tsd.average_coverage],\n",
    "                   'Number of Experimental Structures': [tsd.n_experimental_structures for exp_struc in tsd.structures],\n",
    "                  \"Sequence Length\": [tsd.sequence_length for exp_struc in tsd.structures],\n",
    "                          \"Resolution (A)\": [exp_struc.resolution for exp_struc in tsd.experimental_structures] + [2],\n",
    "                                    \"Method\": [exp_struc.method for exp_struc in tsd.experimental_structures] + ['AlphaFold'],\n",
    "                   }) for tsd in tsds]) "
   ],
   "metadata": {
    "collapsed": false,
    "ExecuteTime": {
     "end_time": "2024-02-21T22:38:21.805838Z",
     "start_time": "2024-02-21T22:38:21.706574Z"
    }
   },
   "id": "5622fcbb7c0e884f",
   "execution_count": 301
  },
  {
   "cell_type": "code",
   "outputs": [],
   "source": [
    "tsd_dict = {f'{tsd.target_name.split(\"_\")[0]} ({tsd.uniprot_id})': tsd for tsd in tsds}\n",
    "symbols = {'X-ray': 'diamond-tall', 'EM': 'circle', 'AlphaFold': 'circle-open'}\n",
    "colors = {'metabolism_redox': '#d07c09', 'metabolism': '#ffb418', 'absorption': '#11efb7', 'drug_transporter': '#9553ff', 'toxicity': '#5e2bcb'}\n",
    "category_list = sorted(list(colors.keys()))\n",
    "\n",
    "# Map Protein Name to numerical values\n",
    "df.sort_values(['Category', 'Protein Name'], inplace=True)\n",
    "protein_names = df['Protein Name'].unique()\n",
    "protein_name_mapping = {name: i for i, name in enumerate(protein_names)}\n",
    "jitter_amount = 0.2"
   ],
   "metadata": {
    "collapsed": false,
    "ExecuteTime": {
     "end_time": "2024-02-21T22:40:38.512730Z",
     "start_time": "2024-02-21T22:40:38.423786Z"
    }
   },
   "id": "cae561a06cc09eb1",
   "execution_count": 314
  },
  {
   "cell_type": "code",
   "outputs": [
    {
     "data": {
      "application/vnd.plotly.v1+json": {
       "data": [
        {
         "marker": {
          "color": "#11efb7",
          "line": {
           "color": "black",
           "width": 1
          },
          "size": 10,
          "symbol": "diamond-tall"
         },
         "mode": "markers",
         "name": "absorption (X-ray)",
         "opacity": 1,
         "showlegend": true,
         "x": [
          -0.10824585601886967
         ],
         "y": [
          1.8
         ],
         "type": "scatter"
        },
        {
         "marker": {
          "color": "#11efb7",
          "line": {
           "color": "black",
           "width": 1
          },
          "size": 10,
          "symbol": "circle-open"
         },
         "mode": "markers",
         "name": "absorption (AlphaFold)",
         "opacity": 0,
         "showlegend": false,
         "x": [
          0,
          1
         ],
         "y": [
          2.0,
          2.0
         ],
         "type": "scatter"
        },
        {
         "marker": {
          "color": "#11efb7",
          "line": {
           "color": "black",
           "width": 2
          },
          "size": 10,
          "symbol": "circle"
         },
         "mode": "markers",
         "name": "absorption (EM)",
         "opacity": 1,
         "showlegend": true,
         "x": [
          1.1787331471343854,
          1.162257868602768
         ],
         "y": [
          2.89,
          3.7
         ],
         "type": "scatter"
        },
        {
         "marker": {
          "color": "#9553ff",
          "line": {
           "color": "black",
           "width": 1
          },
          "size": 10,
          "symbol": "diamond-tall"
         },
         "mode": "markers",
         "name": "drug_transporter (X-ray)",
         "opacity": 1,
         "showlegend": true,
         "x": [
          5.006248653108747,
          5.1520056445105284
         ],
         "y": [
          1.5,
          2.1
         ],
         "type": "scatter"
        },
        {
         "marker": {
          "color": "#9553ff",
          "line": {
           "color": "black",
           "width": 1
          },
          "size": 10,
          "symbol": "circle-open"
         },
         "mode": "markers",
         "name": "drug_transporter (AlphaFold)",
         "opacity": 0,
         "showlegend": false,
         "x": [
          2,
          3,
          4,
          5,
          6,
          7,
          8,
          9,
          10,
          11
         ],
         "y": [
          2.0,
          2.0,
          2.0,
          2.0,
          2.0,
          2.0,
          2.0,
          2.0,
          2.0,
          2.0
         ],
         "type": "scatter"
        },
        {
         "marker": {
          "color": "#9553ff",
          "line": {
           "color": "black",
           "width": 2
          },
          "size": 10,
          "symbol": "circle"
         },
         "mode": "markers",
         "name": "drug_transporter (EM)",
         "opacity": 1,
         "showlegend": true,
         "x": [
          1.9204592367111006,
          2.1100417488999756,
          1.8830985444196184,
          3.166375895702502,
          3.132962653235923,
          2.89309925123484,
          2.8226345758415023,
          3.0958139442604726,
          3.0077741463866747,
          2.8557465316586756,
          2.8247673640564903,
          3.0439286545623205,
          3.0191097164678693,
          3.083856858013113,
          2.9140330638457246,
          3.127425734467718,
          2.895394342346936,
          3.0069625380757112,
          3.111251567856545,
          2.805161252498051,
          2.892307721438729,
          3.167318182956135,
          3.153278957478099,
          2.9798539851595622,
          2.9238312872870806,
          2.913725795259741,
          3.1148476594118284,
          3.960027794751336,
          4.012258016867807,
          3.8118066468097616,
          3.953063131912057,
          3.9519384879984236,
          3.9382568445987585,
          4.075428624794115,
          4.104932912360491,
          3.8942518004110833,
          3.8609180495763433,
          5.867204827125566,
          6.073572802916979,
          5.904777111972849,
          10.184717635675034,
          9.852354425381442,
          10.14171671336152,
          10.142280508598407,
          10.051317834635007,
          9.844010084940276,
          10.849274787290295
         ],
         "y": [
          3.5,
          3.7,
          3.66,
          3.78,
          3.78,
          3.1,
          3.6,
          3.56,
          3.09,
          3.58,
          3.56,
          3.09,
          3.5,
          4.0,
          3.7,
          4.1,
          3.12,
          3.39,
          3.51,
          3.4,
          3.1,
          3.4,
          3.1,
          3.2,
          3.04,
          3.2,
          3.49,
          3.4,
          3.58,
          4.14,
          3.6,
          3.9,
          3.2,
          3.6,
          3.6,
          3.5,
          3.5,
          4.1,
          3.5,
          3.9,
          3.53,
          3.73,
          3.19,
          3.73,
          2.92,
          3.6,
          2.97
         ],
         "type": "scatter"
        },
        {
         "marker": {
          "color": "#ffb418",
          "line": {
           "color": "black",
           "width": 1
          },
          "size": 10,
          "symbol": "diamond-tall"
         },
         "mode": "markers",
         "name": "metabolism (X-ray)",
         "opacity": 1,
         "showlegend": true,
         "x": [
          12.16311060616997,
          13.159656727088755,
          13.07710429148398,
          13.073875890019321,
          13.166670452270402,
          12.91136698856924,
          12.874001905407036,
          13.102796870410822,
          12.857123661394091,
          12.853413762672897,
          13.059896738321088,
          12.922530708492918,
          12.818619713466358,
          12.84677350085656,
          13.032096660394503,
          12.986429518881067,
          12.919805307323744,
          13.003331670248881,
          13.085319520845466,
          13.183147012203243,
          12.918457098906297,
          12.941867047246976,
          13.102890944452474,
          13.125539270922953,
          12.982065456198997,
          12.942654121015295,
          13.079802050460213,
          12.889923869745582,
          12.918472079622921,
          13.07022557361147,
          12.990083168945596,
          12.915617345695388,
          12.90517460004516,
          13.175416584669408,
          13.169341718813378,
          13.098633917149945,
          13.07984303554095,
          13.033536810525048,
          13.04091230075139,
          12.93737173748557,
          14.110771566242322,
          13.826987846674356,
          14.084384951232192,
          13.928574665735237,
          14.011392363961546,
          13.86731409813421,
          13.825505764864952,
          14.107533150753083,
          13.93013332858402,
          13.943991836613291,
          13.889861150970646,
          14.106626160869332,
          14.033521348816063,
          13.944089560530255,
          14.188915785435514,
          14.036714681532699,
          14.102108784454057,
          13.994481616821524,
          14.061976421833002,
          13.817871366907594,
          13.83223768510476,
          14.021297965605752,
          13.831857235709574,
          13.927431458947718,
          14.024574705745543,
          14.097934691580338,
          13.844956291370206,
          14.184313755390239,
          13.936045554246457,
          13.859979319060022,
          13.9049281568161,
          13.940877892552054,
          14.190269908952947,
          14.004634063166737,
          13.845498552810044,
          14.006296087207042,
          14.096766913934703,
          13.917147245161848,
          14.012441277109872,
          13.951354597073847,
          14.057947002913807,
          14.129365457516148,
          14.178775141604598,
          14.068151285728595,
          14.02142227500675,
          13.868016114715815,
          13.899555537495159,
          13.864867306647492,
          13.862606056959539,
          13.885702773162539,
          14.106848770259118,
          14.167687559238345,
          13.907643695285739,
          14.941311094885364,
          14.949975885568671,
          15.823637539706178,
          16.14634116554927,
          16.00549894874172,
          16.167714711317213,
          16.1115201035451,
          16.0953166104975,
          15.953247494287307,
          16.14060661442625,
          16.10952548234121,
          15.922661009631947,
          16.129345981575515
         ],
         "y": [
          3.3,
          2.5,
          2.0,
          2.7,
          2.6,
          1.5,
          1.8,
          1.3,
          1.86,
          2.0,
          2.1,
          1.75,
          1.8,
          2.07,
          1.85,
          1.95,
          1.8,
          2.51,
          2.38,
          1.98,
          2.2,
          1.75,
          2.13,
          1.79,
          2.2,
          1.86,
          1.88,
          2.1,
          1.93,
          2.33,
          1.6,
          1.55,
          1.7,
          2.0,
          1.29,
          2.19,
          2.03,
          2.46,
          1.56,
          1.87,
          2.52,
          2.76,
          2.15,
          2.0,
          2.8,
          2.8,
          2.8,
          2.0,
          2.1,
          2.8,
          2.8,
          2.8,
          2.8,
          2.8,
          3.14,
          2.0,
          2.25,
          2.58,
          2.4,
          2.25,
          2.67,
          2.56,
          2.3,
          2.28,
          2.22,
          2.27,
          2.3,
          2.7,
          1.85,
          2.27,
          2.15,
          2.25,
          2.26,
          2.55,
          2.05,
          2.65,
          1.9,
          2.45,
          2.7,
          2.55,
          2.15,
          2.3,
          2.0,
          2.5,
          2.26,
          2.48,
          2.05,
          2.2,
          2.1,
          2.25,
          2.37,
          2.3,
          2.2,
          2.7,
          2.6,
          1.9,
          2.3,
          2.3,
          2.5,
          2.35,
          2.7,
          2.36,
          2.3,
          2.0,
          2.36,
          2.56
         ],
         "type": "scatter"
        },
        {
         "marker": {
          "color": "#ffb418",
          "line": {
           "color": "black",
           "width": 1
          },
          "size": 10,
          "symbol": "circle-open"
         },
         "mode": "markers",
         "name": "metabolism (AlphaFold)",
         "opacity": 0,
         "showlegend": false,
         "x": [
          12,
          13,
          14,
          15,
          16
         ],
         "y": [
          2.0,
          2.0,
          2.0,
          2.0,
          2.0
         ],
         "type": "scatter"
        },
        {
         "marker": {
          "color": "#ffb418",
          "line": {
           "color": "black",
           "width": 2
          },
          "size": 10,
          "symbol": "circle"
         },
         "mode": "markers",
         "name": "metabolism (EM)",
         "opacity": 1,
         "showlegend": true,
         "x": [
          11.851044986562849
         ],
         "y": [
          2.85
         ],
         "type": "scatter"
        },
        {
         "marker": {
          "color": "#d07c09",
          "line": {
           "color": "black",
           "width": 1
          },
          "size": 10,
          "symbol": "diamond-tall"
         },
         "mode": "markers",
         "name": "metabolism_redox (X-ray)",
         "opacity": 1,
         "showlegend": true,
         "x": [
          17.02501182922225,
          17.007472589963125,
          17.814622220169415,
          17.816344695641398,
          17.92463868906507,
          18.042388954471082,
          17.84862580083238,
          17.886658088873354,
          18.059789139105,
          18.06309234903015,
          18.08084231654963,
          17.942310447587623,
          17.880595228289703,
          17.96627128219157,
          18.18402044838597,
          17.938987490443864,
          18.00734504918706,
          17.95293395536294,
          17.8644332787026,
          18.82131006439297,
          18.83524492824713,
          19.178899294875627,
          18.823652642111806,
          20.180528990961413,
          20.044414194059513,
          20.174774207849325,
          19.92683602273054,
          19.922033463249115,
          19.81038065389614,
          19.99608975298843,
          20.11601291354631,
          19.974066876266892,
          20.14296695681922,
          19.962641438572838,
          19.99439119339089,
          20.118209714046248,
          19.813910488361376,
          20.09191982721421,
          19.86844029068059,
          19.92945353743832,
          20.073091081864856,
          19.855929911731316,
          19.850946176737303,
          19.8565082406211,
          19.853207449732295,
          19.90300809769261,
          20.180225611982806,
          19.863024691250068,
          19.89578618390633,
          20.16801053433458,
          20.0969091987816,
          20.03459502822649,
          19.883301381269874,
          19.934521434917492,
          20.176788030142337,
          19.82448681120079,
          19.80665314698893,
          19.8751868071262,
          19.9136430222309,
          19.945271862419304,
          19.890321081562583,
          20.150309296612583,
          19.847865864373674,
          20.140552066114374,
          19.887163988900674,
          19.882269105073746,
          20.160501240808067,
          20.10376498903291,
          19.82154845056106,
          19.831769128576603,
          19.800486064986394,
          19.835354619751435,
          20.165744916475767,
          19.821108383272076,
          20.017626736595737,
          20.84044895201448,
          21.13041610474845,
          21.12175942316738,
          20.996360644001115,
          21.125570939690963,
          20.98210440554,
          21.848299280877352,
          22.950668671784843,
          23.98186596470119,
          23.948467915708633,
          24.07728793871102,
          24.021981985744006,
          24.097898202817916,
          23.99835802328532,
          23.828668791597565,
          23.99761512485095,
          24.186681554213102,
          24.158854975513503,
          24.007493051015043,
          23.88251766784847,
          23.97569040582903,
          24.925461150873087,
          25.088755461993657,
          24.938014556672613,
          24.94832177979142,
          24.838408212650098,
          24.865667241265605,
          25.173364532985428,
          24.823063865291374,
          24.967621272217617,
          24.961442060206465,
          25.066793737005746,
          24.842649339254812,
          25.120669671861844,
          25.87870176654269,
          27.145097751308157,
          27.04064669332824,
          26.97508504896779,
          26.92784575476464,
          26.91015746780409,
          27.12048149068399,
          26.959820191498277,
          27.09360510700246,
          27.05932193301155,
          26.930858980278867,
          27.0097014721403,
          26.93083370196596,
          26.80286310912911,
          26.93394930790006,
          28.035012227729105,
          28.14061035626304,
          28.07812105928283,
          27.904020557803513,
          28.071250943663102,
          27.813287147163365,
          28.03838116405187,
          27.93040154430144,
          28.06842706331754,
          28.08233578648553,
          28.19587200739324,
          27.839892977107425,
          28.008086440003687,
          27.84260490370943,
          28.030651584815278,
          27.863622659935345,
          27.951900840700507,
          27.949393186216664,
          28.176859623461016,
          27.99230224004163,
          28.09613549981478,
          28.05495221012758,
          27.944053433177228,
          28.097515006317604,
          27.829135816266696,
          28.044173481129015,
          28.00394890938652,
          27.994544270892845,
          27.900783996120328,
          28.04535962308699,
          27.931746541465003,
          27.99062567198759,
          27.94501764731972,
          28.04730477042308,
          28.155973938322614,
          27.839169909416192,
          28.083820635975435,
          28.14061378223219,
          27.92545616324955,
          27.86273249195928,
          27.974198417925685,
          27.911266430992185,
          27.932925055101368,
          27.804610135623147,
          28.106139769163136,
          27.849226917248945,
          27.921200945942935,
          28.032544666930626,
          27.819284634202894,
          28.052486122413654,
          28.155764664179085,
          28.171818465616354,
          28.10847897313642,
          27.836432983101705,
          28.145414716553617,
          27.86566454969112,
          27.938522414349453,
          27.88931191062249,
          28.105358994058772,
          27.981451777116185,
          27.98448783425326,
          28.064371963820342,
          27.997101252451337,
          27.81664722981075,
          27.800116814228527,
          27.917344694224653,
          27.989109513154762,
          28.152420725456377,
          27.952031800406925,
          27.969900054221224,
          28.003659454346373,
          27.802857774726203,
          28.153909822077445,
          27.950016030554433,
          28.068940850707957,
          27.937435824644478,
          28.179197314170334,
          28.197867465974575,
          28.94611193715086,
          29.0565543697772,
          28.833427271141826,
          29.043173868757037,
          28.948615842086983,
          28.895505563120164,
          29.07103281204287,
          29.002990330626062,
          29.18806803308434,
          28.811946370489853,
          28.839426099066404,
          28.91346651984323,
          28.861699652357505,
          28.998912660023592,
          28.83223928401639,
          29.064526064182427,
          29.131456582330664,
          28.941352543690822,
          28.974212047851072,
          29.168441218290965,
          29.07647275996963,
          29.038071578385285,
          29.105628226211113,
          28.818186113675896,
          28.880464700791762,
          28.912410893184923,
          28.888931114972557,
          29.10487838186274,
          28.927147041389343,
          28.957300789035852,
          29.08006910234059,
          28.878804339404404,
          29.194333004471318,
          28.981385235973605,
          28.89850140029497,
          28.931200211550262,
          29.172532668022523,
          29.11266658486593,
          29.186143557366734,
          28.890441692238316,
          31.029891319066447,
          30.906902853273674
         ],
         "y": [
          2.5,
          2.49,
          2.07,
          1.74,
          1.8,
          1.95,
          1.85,
          1.85,
          1.7,
          1.7,
          2.05,
          2.1,
          2.0,
          1.6,
          1.8,
          1.9,
          1.6,
          1.6,
          1.8,
          3.0,
          3.15,
          2.2,
          2.17,
          3.0,
          2.3,
          1.7,
          2.4,
          3.1,
          2.07,
          2.12,
          1.65,
          1.6,
          1.8,
          1.9,
          1.83,
          2.2,
          2.2,
          1.7,
          2.5,
          1.7,
          2.06,
          2.0,
          2.2,
          1.7,
          1.7,
          1.6,
          2.0,
          1.7,
          2.4,
          2.3,
          2.3,
          1.9,
          1.6,
          2.1,
          1.66,
          2.2,
          2.2,
          1.8,
          2.2,
          1.89,
          1.7,
          1.8,
          2.42,
          1.8,
          1.6,
          1.7,
          2.3,
          1.7,
          2.3,
          1.8,
          2.3,
          2.1,
          2.3,
          2.1,
          2.0,
          2.6,
          2.7,
          3.39,
          3.1,
          2.6,
          2.7,
          3.0,
          1.95,
          2.0,
          2.1,
          2.8,
          2.8,
          2.0,
          2.1,
          2.2,
          2.24,
          2.03,
          1.93,
          2.27,
          1.76,
          2.99,
          2.6,
          2.55,
          2.0,
          2.45,
          2.0,
          2.9,
          2.3,
          2.0,
          2.0,
          2.48,
          2.3,
          3.12,
          2.23,
          2.87,
          3.0,
          2.85,
          2.1,
          2.67,
          2.6,
          2.26,
          2.35,
          3.3,
          2.5,
          2.4,
          2.71,
          2.75,
          2.39,
          2.39,
          2.05,
          2.8,
          2.65,
          2.74,
          2.75,
          2.8,
          2.0,
          2.25,
          2.15,
          1.93,
          2.25,
          2.8,
          2.76,
          2.6,
          2.72,
          2.9,
          2.5,
          2.85,
          2.6,
          2.4,
          2.76,
          2.95,
          2.5,
          2.45,
          2.6,
          2.7,
          2.7,
          1.7,
          1.95,
          2.2,
          2.2,
          2.23,
          2.5,
          2.5,
          2.42,
          2.38,
          2.25,
          2.57,
          2.67,
          2.6,
          2.25,
          2.52,
          2.2,
          2.5,
          2.5,
          2.79,
          2.55,
          2.65,
          2.55,
          2.75,
          2.7,
          2.65,
          2.75,
          2.75,
          2.5,
          2.75,
          2.78,
          2.65,
          2.45,
          2.5,
          2.25,
          2.35,
          2.9,
          2.4,
          2.7,
          2.4,
          2.2,
          2.3,
          2.35,
          2.3,
          2.1,
          2.4,
          2.25,
          2.2,
          2.15,
          2.05,
          2.05,
          2.15,
          1.8,
          1.55,
          2.11,
          2.3,
          3.1,
          1.9,
          2.69,
          2.25,
          2.35,
          2.35,
          2.6,
          2.5,
          2.55,
          3.0,
          2.65,
          2.3,
          2.19,
          2.3,
          2.6,
          2.3,
          2.72,
          1.8,
          2.2,
          2.55,
          2.16,
          1.91,
          2.73,
          2.19,
          2.35,
          2.35,
          2.35,
          1.96,
          2.8,
          3.2,
          2.35,
          2.35,
          2.37,
          2.5,
          2.07,
          2.45,
          3.59,
          2.6
         ],
         "type": "scatter"
        },
        {
         "marker": {
          "color": "#d07c09",
          "line": {
           "color": "black",
           "width": 1
          },
          "size": 10,
          "symbol": "circle-open"
         },
         "mode": "markers",
         "name": "metabolism_redox (AlphaFold)",
         "opacity": 0,
         "showlegend": false,
         "x": [
          17,
          18,
          19,
          20,
          21,
          22,
          23,
          24,
          25,
          26,
          27,
          28,
          29,
          30,
          31
         ],
         "y": [
          2.0,
          2.0,
          2.0,
          2.0,
          2.0,
          2.0,
          2.0,
          2.0,
          2.0,
          2.0,
          2.0,
          2.0,
          2.0,
          2.0,
          2.0
         ],
         "type": "scatter"
        },
        {
         "marker": {
          "color": "#d07c09",
          "line": {
           "color": "black",
           "width": 2
          },
          "size": 10,
          "symbol": "circle"
         },
         "mode": "markers",
         "name": "metabolism_redox (EM)",
         "opacity": 1,
         "showlegend": true,
         "x": [
          18.0379911699687,
          18.057848484736397,
          17.904985061452532,
          21.035630291155957
         ],
         "y": [
          2.84,
          3.4,
          2.64,
          2.92
         ],
         "type": "scatter"
        },
        {
         "marker": {
          "color": "#5e2bcb",
          "line": {
           "color": "black",
           "width": 1
          },
          "size": 10,
          "symbol": "diamond-tall"
         },
         "mode": "markers",
         "name": "toxicity (X-ray)",
         "opacity": 1,
         "showlegend": true,
         "x": [
          31.90683695019088,
          32.01581103282557,
          31.81607751697094,
          31.82381777949563,
          32.09199686161863,
          32.02058237870895,
          32.0334414812976,
          31.87549221098954,
          33.85177283913613,
          33.98395036981618,
          34.15848316007962,
          35.80362380503961,
          35.993093976917955,
          36.10771418902109,
          35.825637731762725,
          36.02643182545515,
          36.02729494998937,
          37.14914793691195,
          37.05362945374696,
          37.14123084246205,
          37.037014408072224,
          38.02240948778576,
          37.92034423532266,
          38.01704346930033,
          37.883668376596745,
          38.15738541816954,
          39.09357078147774,
          39.14024878047343,
          39.02835165749094,
          38.93570960394627,
          38.99620397003397,
          39.01671358832593,
          38.875108597935835,
          38.970171178005465,
          42.1044831133645,
          42.16477190688242,
          43.12677765102512,
          42.85145685758011,
          42.93076030077099,
          42.92682250670521,
          43.823421291848234,
          44.066193768970656,
          44.1790772370851,
          43.92053480094079,
          43.83911372030006,
          43.976581674831586,
          43.97780423942428,
          43.86359725838994,
          44.02052889305273,
          43.82704930939902,
          43.84455298333791,
          43.94671486134665,
          43.98591726920882,
          43.92582537717724,
          44.07372008413819,
          44.198997388492415,
          43.95785947933248,
          43.80102971117434,
          44.05350269626748,
          43.946819795213926,
          44.10090063677833,
          44.00934619815829,
          43.82198824442332,
          44.11759275855036,
          44.13528735815523,
          44.048249411073115,
          44.06699960706763,
          44.033241719852434,
          44.07367682517701,
          43.94776293918036,
          44.09951112830369,
          44.02996892632447,
          43.846501297720025,
          43.862552280749576,
          43.81438968363964,
          44.15024032275793,
          45.000144650682756,
          45.077506980811464,
          46.05365905308518,
          46.18452877663728,
          45.9043246797471,
          45.801680006720936,
          45.84744532034288,
          46.08272698369316,
          45.90044944274165,
          46.158234961586984,
          45.976652934418986,
          45.8230755399876,
          46.128787945265906,
          45.98773843116635,
          46.16077619361431,
          46.07247340923042,
          46.0337546023867,
          47.82930998370501,
          48.089011586878804,
          48.03886518679015,
          47.81340907120213,
          47.953813439776376,
          48.06865405733629,
          48.105041223553556,
          49.059112299879196,
          49.143598095190164,
          50.19157844137457,
          50.184190876473394,
          50.89806718750339,
          51.867696464539854,
          51.934737211580895,
          51.964874515484524,
          51.95930558008847,
          54.80218766129417,
          54.805406280168626,
          54.880103937295544,
          55.1964869236921,
          55.16700235252126,
          55.189152265559315,
          54.81761817796788,
          55.11041041703854,
          54.828538336477585,
          54.90756608841461,
          54.998800686712265,
          54.920508936885184,
          56.125628470874304,
          56.031420447082375,
          55.80148456031343,
          56.139052103989606,
          56.062983956692214,
          55.97085587638381
         ],
         "y": [
          2.7,
          2.8,
          3.0,
          2.9,
          3.1,
          2.92,
          3.1,
          3.19,
          1.9,
          2.0,
          1.93,
          2.4,
          2.2,
          2.38,
          2.38,
          2.85,
          2.15,
          1.8,
          1.71,
          2.7,
          2.26,
          2.7,
          2.55,
          2.17,
          2.33,
          2.5,
          3.0,
          3.5,
          3.7,
          2.5,
          2.6,
          3.0,
          2.95,
          2.3,
          2.7,
          3.2,
          3.13,
          2.7,
          2.6,
          2.5,
          1.9,
          3.4,
          3.4,
          2.4,
          2.8,
          3.4,
          2.84,
          2.84,
          3.16,
          3.5,
          3.5,
          3.2,
          3.99,
          2.79,
          3.1,
          3.2,
          3.3,
          2.48,
          3.8,
          3.2,
          3.2,
          2.7,
          3.7,
          2.96,
          3.2,
          3.1,
          2.8,
          3.4,
          3.2,
          2.4,
          2.5,
          2.6,
          2.9,
          2.7,
          3.4,
          3.1,
          2.6,
          3.0,
          2.0,
          2.0,
          1.45,
          1.6,
          2.1,
          2.55,
          2.0,
          1.7,
          1.65,
          2.0,
          2.4,
          2.4,
          1.65,
          1.7,
          1.75,
          2.8,
          2.6,
          2.95,
          2.8,
          3.25,
          2.7,
          3.29,
          2.8,
          3.2,
          3.45,
          3.2,
          3.1,
          2.6,
          2.12,
          1.96,
          1.5,
          3.14,
          4.53,
          3.15,
          3.24,
          3.4,
          3.49,
          3.62,
          3.53,
          3.8,
          4.05,
          4.7,
          6.3,
          2.2,
          1.35,
          3.84,
          2.8,
          2.25,
          2.69
         ],
         "type": "scatter"
        },
        {
         "marker": {
          "color": "#5e2bcb",
          "line": {
           "color": "black",
           "width": 1
          },
          "size": 10,
          "symbol": "circle-open"
         },
         "mode": "markers",
         "name": "toxicity (AlphaFold)",
         "opacity": 0,
         "showlegend": false,
         "x": [
          32,
          33,
          34,
          35,
          36,
          37,
          38,
          39,
          40,
          41,
          42,
          43,
          44,
          45,
          46,
          47,
          48,
          49,
          50,
          51,
          52,
          53,
          54,
          55,
          56
         ],
         "y": [
          2.0,
          2.0,
          2.0,
          2.0,
          2.0,
          2.0,
          2.0,
          2.0,
          2.0,
          2.0,
          2.0,
          2.0,
          2.0,
          2.0,
          2.0,
          2.0,
          2.0,
          2.0,
          2.0,
          2.0,
          2.0,
          2.0,
          2.0,
          2.0,
          2.0
         ],
         "type": "scatter"
        },
        {
         "marker": {
          "color": "#5e2bcb",
          "line": {
           "color": "black",
           "width": 2
          },
          "size": 10,
          "symbol": "circle"
         },
         "mode": "markers",
         "name": "toxicity (EM)",
         "opacity": 1,
         "showlegend": true,
         "x": [
          32.08825556840454,
          32.19775224401677,
          32.02957910632966,
          33.847713871994245,
          33.906018641463085,
          36.126884972766,
          36.177064018893546,
          35.83478659476115,
          35.91915655090373,
          36.17105739571677,
          36.11674703192579,
          36.18065859597144,
          35.872483227315136,
          36.101598020729064,
          36.11241118081177,
          35.94226148421559,
          37.924837156512034,
          38.92808970911535,
          38.93946150146485,
          39.02791370203747,
          39.031471759063365,
          38.86899347657622,
          39.07171702682869,
          39.917319517005595,
          40.001286131926456,
          40.08024767290522,
          39.9153833125014,
          41.078138160154,
          40.994955009552314,
          41.902900334173204,
          42.03283008634364,
          41.97105311502254,
          42.11008018344899,
          41.87318263086028,
          41.94667407838093,
          41.85339984053107,
          43.86559366471103,
          44.08612466287245,
          43.864652105049586,
          44.153190535442036,
          44.10980260702237,
          43.98198842089944,
          45.96383419492553,
          46.02706229293407,
          46.94588696511537,
          46.96136227933127,
          47.049423058766955,
          47.02673865458095,
          46.85903658882181,
          47.9396533466268,
          48.08674216396982,
          48.099113463834335,
          48.09968818436891,
          49.03487560836262,
          49.0796221841018,
          48.80839467603372,
          48.91271825662505,
          49.06683417167162,
          48.812112187720366,
          49.90037571532609,
          49.95953579810081,
          50.146853482328346,
          49.932892575682985,
          50.02877865664512,
          50.02184111360108,
          50.16757648430829,
          50.09063970677833,
          50.181075156794144,
          49.82359651747518,
          49.828180814494324,
          50.02161522337812,
          49.87207483882279,
          49.8043199858487,
          49.913013377931385,
          50.06198454644858,
          50.01470221814987,
          49.972048364261326,
          49.8770295782817,
          49.98251643082086,
          50.1958737389474,
          50.17139182994507,
          50.075019461324736,
          49.81394737782023,
          49.86135403372624,
          50.041406075360854,
          50.03570580758797,
          51.155211291640896,
          52.071756933050224,
          52.06516130535785,
          51.972174992811894,
          54.94369221184695,
          55.1125932484715,
          54.820256768609724,
          54.93341229207267,
          55.15921596408327,
          55.18344576918539,
          55.08470175861031,
          54.81740161234308,
          54.93103259180993,
          54.99142347821238,
          55.105894558715555,
          55.10892022923509,
          55.199633368868575,
          55.19765974394179,
          54.91145179369262,
          56.07966567069427,
          56.02818723019461
         ],
         "y": [
          2.7,
          2.9,
          3.3,
          3.34,
          3.87,
          3.18,
          2.85,
          3.02,
          3.0,
          3.6,
          2.7,
          2.3,
          3.4,
          2.7,
          2.8,
          4.4,
          3.3,
          3.6,
          4.0,
          3.21,
          3.32,
          3.16,
          3.22,
          2.69,
          2.79,
          2.69,
          2.56,
          2.6,
          3.1,
          4.1,
          3.2,
          3.0,
          3.6,
          3.4,
          3.47,
          3.4,
          3.8,
          3.82,
          3.26,
          3.8,
          3.2,
          3.4,
          3.4,
          3.1,
          2.8,
          3.0,
          3.0,
          3.3,
          3.1,
          3.0,
          3.0,
          3.36,
          2.8,
          2.9,
          3.2,
          3.08,
          2.84,
          2.97,
          2.98,
          3.8,
          3.8,
          3.1,
          3.04,
          3.69,
          3.26,
          3.58,
          3.2,
          3.12,
          2.55,
          3.49,
          3.5,
          3.3,
          2.92,
          3.23,
          2.86,
          3.04,
          2.79,
          3.0,
          2.7,
          3.0,
          3.0,
          2.9,
          2.9,
          2.65,
          2.98,
          2.71,
          3.3,
          3.7,
          3.8,
          4.0,
          4.2,
          4.3,
          4.1,
          3.6,
          3.3,
          4.1,
          3.8,
          3.5,
          4.1,
          3.9,
          3.9,
          3.3,
          3.65,
          3.5,
          3.0,
          3.3,
          3.3
         ],
         "type": "scatter"
        }
       ],
       "layout": {
        "height": 600,
        "template": {
         "data": {
          "barpolar": [
           {
            "marker": {
             "line": {
              "color": "white",
              "width": 0.5
             },
             "pattern": {
              "fillmode": "overlay",
              "size": 10,
              "solidity": 0.2
             }
            },
            "type": "barpolar"
           }
          ],
          "bar": [
           {
            "error_x": {
             "color": "rgb(36,36,36)"
            },
            "error_y": {
             "color": "rgb(36,36,36)"
            },
            "marker": {
             "line": {
              "color": "white",
              "width": 0.5
             },
             "pattern": {
              "fillmode": "overlay",
              "size": 10,
              "solidity": 0.2
             }
            },
            "type": "bar"
           }
          ],
          "carpet": [
           {
            "aaxis": {
             "endlinecolor": "rgb(36,36,36)",
             "gridcolor": "white",
             "linecolor": "white",
             "minorgridcolor": "white",
             "startlinecolor": "rgb(36,36,36)"
            },
            "baxis": {
             "endlinecolor": "rgb(36,36,36)",
             "gridcolor": "white",
             "linecolor": "white",
             "minorgridcolor": "white",
             "startlinecolor": "rgb(36,36,36)"
            },
            "type": "carpet"
           }
          ],
          "choropleth": [
           {
            "colorbar": {
             "outlinewidth": 1,
             "tickcolor": "rgb(36,36,36)",
             "ticks": "outside"
            },
            "type": "choropleth"
           }
          ],
          "contourcarpet": [
           {
            "colorbar": {
             "outlinewidth": 1,
             "tickcolor": "rgb(36,36,36)",
             "ticks": "outside"
            },
            "type": "contourcarpet"
           }
          ],
          "contour": [
           {
            "colorbar": {
             "outlinewidth": 1,
             "tickcolor": "rgb(36,36,36)",
             "ticks": "outside"
            },
            "colorscale": [
             [
              0.0,
              "#440154"
             ],
             [
              0.1111111111111111,
              "#482878"
             ],
             [
              0.2222222222222222,
              "#3e4989"
             ],
             [
              0.3333333333333333,
              "#31688e"
             ],
             [
              0.4444444444444444,
              "#26828e"
             ],
             [
              0.5555555555555556,
              "#1f9e89"
             ],
             [
              0.6666666666666666,
              "#35b779"
             ],
             [
              0.7777777777777778,
              "#6ece58"
             ],
             [
              0.8888888888888888,
              "#b5de2b"
             ],
             [
              1.0,
              "#fde725"
             ]
            ],
            "type": "contour"
           }
          ],
          "heatmapgl": [
           {
            "colorbar": {
             "outlinewidth": 1,
             "tickcolor": "rgb(36,36,36)",
             "ticks": "outside"
            },
            "colorscale": [
             [
              0.0,
              "#440154"
             ],
             [
              0.1111111111111111,
              "#482878"
             ],
             [
              0.2222222222222222,
              "#3e4989"
             ],
             [
              0.3333333333333333,
              "#31688e"
             ],
             [
              0.4444444444444444,
              "#26828e"
             ],
             [
              0.5555555555555556,
              "#1f9e89"
             ],
             [
              0.6666666666666666,
              "#35b779"
             ],
             [
              0.7777777777777778,
              "#6ece58"
             ],
             [
              0.8888888888888888,
              "#b5de2b"
             ],
             [
              1.0,
              "#fde725"
             ]
            ],
            "type": "heatmapgl"
           }
          ],
          "heatmap": [
           {
            "colorbar": {
             "outlinewidth": 1,
             "tickcolor": "rgb(36,36,36)",
             "ticks": "outside"
            },
            "colorscale": [
             [
              0.0,
              "#440154"
             ],
             [
              0.1111111111111111,
              "#482878"
             ],
             [
              0.2222222222222222,
              "#3e4989"
             ],
             [
              0.3333333333333333,
              "#31688e"
             ],
             [
              0.4444444444444444,
              "#26828e"
             ],
             [
              0.5555555555555556,
              "#1f9e89"
             ],
             [
              0.6666666666666666,
              "#35b779"
             ],
             [
              0.7777777777777778,
              "#6ece58"
             ],
             [
              0.8888888888888888,
              "#b5de2b"
             ],
             [
              1.0,
              "#fde725"
             ]
            ],
            "type": "heatmap"
           }
          ],
          "histogram2dcontour": [
           {
            "colorbar": {
             "outlinewidth": 1,
             "tickcolor": "rgb(36,36,36)",
             "ticks": "outside"
            },
            "colorscale": [
             [
              0.0,
              "#440154"
             ],
             [
              0.1111111111111111,
              "#482878"
             ],
             [
              0.2222222222222222,
              "#3e4989"
             ],
             [
              0.3333333333333333,
              "#31688e"
             ],
             [
              0.4444444444444444,
              "#26828e"
             ],
             [
              0.5555555555555556,
              "#1f9e89"
             ],
             [
              0.6666666666666666,
              "#35b779"
             ],
             [
              0.7777777777777778,
              "#6ece58"
             ],
             [
              0.8888888888888888,
              "#b5de2b"
             ],
             [
              1.0,
              "#fde725"
             ]
            ],
            "type": "histogram2dcontour"
           }
          ],
          "histogram2d": [
           {
            "colorbar": {
             "outlinewidth": 1,
             "tickcolor": "rgb(36,36,36)",
             "ticks": "outside"
            },
            "colorscale": [
             [
              0.0,
              "#440154"
             ],
             [
              0.1111111111111111,
              "#482878"
             ],
             [
              0.2222222222222222,
              "#3e4989"
             ],
             [
              0.3333333333333333,
              "#31688e"
             ],
             [
              0.4444444444444444,
              "#26828e"
             ],
             [
              0.5555555555555556,
              "#1f9e89"
             ],
             [
              0.6666666666666666,
              "#35b779"
             ],
             [
              0.7777777777777778,
              "#6ece58"
             ],
             [
              0.8888888888888888,
              "#b5de2b"
             ],
             [
              1.0,
              "#fde725"
             ]
            ],
            "type": "histogram2d"
           }
          ],
          "histogram": [
           {
            "marker": {
             "line": {
              "color": "white",
              "width": 0.6
             }
            },
            "type": "histogram"
           }
          ],
          "mesh3d": [
           {
            "colorbar": {
             "outlinewidth": 1,
             "tickcolor": "rgb(36,36,36)",
             "ticks": "outside"
            },
            "type": "mesh3d"
           }
          ],
          "parcoords": [
           {
            "line": {
             "colorbar": {
              "outlinewidth": 1,
              "tickcolor": "rgb(36,36,36)",
              "ticks": "outside"
             }
            },
            "type": "parcoords"
           }
          ],
          "pie": [
           {
            "automargin": true,
            "type": "pie"
           }
          ],
          "scatter3d": [
           {
            "line": {
             "colorbar": {
              "outlinewidth": 1,
              "tickcolor": "rgb(36,36,36)",
              "ticks": "outside"
             }
            },
            "marker": {
             "colorbar": {
              "outlinewidth": 1,
              "tickcolor": "rgb(36,36,36)",
              "ticks": "outside"
             }
            },
            "type": "scatter3d"
           }
          ],
          "scattercarpet": [
           {
            "marker": {
             "colorbar": {
              "outlinewidth": 1,
              "tickcolor": "rgb(36,36,36)",
              "ticks": "outside"
             }
            },
            "type": "scattercarpet"
           }
          ],
          "scattergeo": [
           {
            "marker": {
             "colorbar": {
              "outlinewidth": 1,
              "tickcolor": "rgb(36,36,36)",
              "ticks": "outside"
             }
            },
            "type": "scattergeo"
           }
          ],
          "scattergl": [
           {
            "marker": {
             "colorbar": {
              "outlinewidth": 1,
              "tickcolor": "rgb(36,36,36)",
              "ticks": "outside"
             }
            },
            "type": "scattergl"
           }
          ],
          "scattermapbox": [
           {
            "marker": {
             "colorbar": {
              "outlinewidth": 1,
              "tickcolor": "rgb(36,36,36)",
              "ticks": "outside"
             }
            },
            "type": "scattermapbox"
           }
          ],
          "scatterpolargl": [
           {
            "marker": {
             "colorbar": {
              "outlinewidth": 1,
              "tickcolor": "rgb(36,36,36)",
              "ticks": "outside"
             }
            },
            "type": "scatterpolargl"
           }
          ],
          "scatterpolar": [
           {
            "marker": {
             "colorbar": {
              "outlinewidth": 1,
              "tickcolor": "rgb(36,36,36)",
              "ticks": "outside"
             }
            },
            "type": "scatterpolar"
           }
          ],
          "scatter": [
           {
            "fillpattern": {
             "fillmode": "overlay",
             "size": 10,
             "solidity": 0.2
            },
            "type": "scatter"
           }
          ],
          "scatterternary": [
           {
            "marker": {
             "colorbar": {
              "outlinewidth": 1,
              "tickcolor": "rgb(36,36,36)",
              "ticks": "outside"
             }
            },
            "type": "scatterternary"
           }
          ],
          "surface": [
           {
            "colorbar": {
             "outlinewidth": 1,
             "tickcolor": "rgb(36,36,36)",
             "ticks": "outside"
            },
            "colorscale": [
             [
              0.0,
              "#440154"
             ],
             [
              0.1111111111111111,
              "#482878"
             ],
             [
              0.2222222222222222,
              "#3e4989"
             ],
             [
              0.3333333333333333,
              "#31688e"
             ],
             [
              0.4444444444444444,
              "#26828e"
             ],
             [
              0.5555555555555556,
              "#1f9e89"
             ],
             [
              0.6666666666666666,
              "#35b779"
             ],
             [
              0.7777777777777778,
              "#6ece58"
             ],
             [
              0.8888888888888888,
              "#b5de2b"
             ],
             [
              1.0,
              "#fde725"
             ]
            ],
            "type": "surface"
           }
          ],
          "table": [
           {
            "cells": {
             "fill": {
              "color": "rgb(237,237,237)"
             },
             "line": {
              "color": "white"
             }
            },
            "header": {
             "fill": {
              "color": "rgb(217,217,217)"
             },
             "line": {
              "color": "white"
             }
            },
            "type": "table"
           }
          ]
         },
         "layout": {
          "annotationdefaults": {
           "arrowhead": 0,
           "arrowwidth": 1
          },
          "autotypenumbers": "strict",
          "coloraxis": {
           "colorbar": {
            "outlinewidth": 1,
            "tickcolor": "rgb(36,36,36)",
            "ticks": "outside"
           }
          },
          "colorscale": {
           "diverging": [
            [
             0.0,
             "rgb(103,0,31)"
            ],
            [
             0.1,
             "rgb(178,24,43)"
            ],
            [
             0.2,
             "rgb(214,96,77)"
            ],
            [
             0.3,
             "rgb(244,165,130)"
            ],
            [
             0.4,
             "rgb(253,219,199)"
            ],
            [
             0.5,
             "rgb(247,247,247)"
            ],
            [
             0.6,
             "rgb(209,229,240)"
            ],
            [
             0.7,
             "rgb(146,197,222)"
            ],
            [
             0.8,
             "rgb(67,147,195)"
            ],
            [
             0.9,
             "rgb(33,102,172)"
            ],
            [
             1.0,
             "rgb(5,48,97)"
            ]
           ],
           "sequential": [
            [
             0.0,
             "#440154"
            ],
            [
             0.1111111111111111,
             "#482878"
            ],
            [
             0.2222222222222222,
             "#3e4989"
            ],
            [
             0.3333333333333333,
             "#31688e"
            ],
            [
             0.4444444444444444,
             "#26828e"
            ],
            [
             0.5555555555555556,
             "#1f9e89"
            ],
            [
             0.6666666666666666,
             "#35b779"
            ],
            [
             0.7777777777777778,
             "#6ece58"
            ],
            [
             0.8888888888888888,
             "#b5de2b"
            ],
            [
             1.0,
             "#fde725"
            ]
           ],
           "sequentialminus": [
            [
             0.0,
             "#440154"
            ],
            [
             0.1111111111111111,
             "#482878"
            ],
            [
             0.2222222222222222,
             "#3e4989"
            ],
            [
             0.3333333333333333,
             "#31688e"
            ],
            [
             0.4444444444444444,
             "#26828e"
            ],
            [
             0.5555555555555556,
             "#1f9e89"
            ],
            [
             0.6666666666666666,
             "#35b779"
            ],
            [
             0.7777777777777778,
             "#6ece58"
            ],
            [
             0.8888888888888888,
             "#b5de2b"
            ],
            [
             1.0,
             "#fde725"
            ]
           ]
          },
          "colorway": [
           "#1F77B4",
           "#FF7F0E",
           "#2CA02C",
           "#D62728",
           "#9467BD",
           "#8C564B",
           "#E377C2",
           "#7F7F7F",
           "#BCBD22",
           "#17BECF"
          ],
          "font": {
           "color": "rgb(36,36,36)"
          },
          "geo": {
           "bgcolor": "white",
           "lakecolor": "white",
           "landcolor": "white",
           "showlakes": true,
           "showland": true,
           "subunitcolor": "white"
          },
          "hoverlabel": {
           "align": "left"
          },
          "hovermode": "closest",
          "mapbox": {
           "style": "light"
          },
          "paper_bgcolor": "white",
          "plot_bgcolor": "white",
          "polar": {
           "angularaxis": {
            "gridcolor": "rgb(232,232,232)",
            "linecolor": "rgb(36,36,36)",
            "showgrid": false,
            "showline": true,
            "ticks": "outside"
           },
           "bgcolor": "white",
           "radialaxis": {
            "gridcolor": "rgb(232,232,232)",
            "linecolor": "rgb(36,36,36)",
            "showgrid": false,
            "showline": true,
            "ticks": "outside"
           }
          },
          "scene": {
           "xaxis": {
            "backgroundcolor": "white",
            "gridcolor": "rgb(232,232,232)",
            "gridwidth": 2,
            "linecolor": "rgb(36,36,36)",
            "showbackground": true,
            "showgrid": false,
            "showline": true,
            "ticks": "outside",
            "zeroline": false,
            "zerolinecolor": "rgb(36,36,36)"
           },
           "yaxis": {
            "backgroundcolor": "white",
            "gridcolor": "rgb(232,232,232)",
            "gridwidth": 2,
            "linecolor": "rgb(36,36,36)",
            "showbackground": true,
            "showgrid": false,
            "showline": true,
            "ticks": "outside",
            "zeroline": false,
            "zerolinecolor": "rgb(36,36,36)"
           },
           "zaxis": {
            "backgroundcolor": "white",
            "gridcolor": "rgb(232,232,232)",
            "gridwidth": 2,
            "linecolor": "rgb(36,36,36)",
            "showbackground": true,
            "showgrid": false,
            "showline": true,
            "ticks": "outside",
            "zeroline": false,
            "zerolinecolor": "rgb(36,36,36)"
           }
          },
          "shapedefaults": {
           "fillcolor": "black",
           "line": {
            "width": 0
           },
           "opacity": 0.3
          },
          "ternary": {
           "aaxis": {
            "gridcolor": "rgb(232,232,232)",
            "linecolor": "rgb(36,36,36)",
            "showgrid": false,
            "showline": true,
            "ticks": "outside"
           },
           "baxis": {
            "gridcolor": "rgb(232,232,232)",
            "linecolor": "rgb(36,36,36)",
            "showgrid": false,
            "showline": true,
            "ticks": "outside"
           },
           "bgcolor": "white",
           "caxis": {
            "gridcolor": "rgb(232,232,232)",
            "linecolor": "rgb(36,36,36)",
            "showgrid": false,
            "showline": true,
            "ticks": "outside"
           }
          },
          "title": {
           "x": 0.05
          },
          "xaxis": {
           "automargin": true,
           "gridcolor": "rgb(232,232,232)",
           "linecolor": "rgb(36,36,36)",
           "showgrid": false,
           "showline": true,
           "ticks": "outside",
           "title": {
            "standoff": 15
           },
           "zeroline": false,
           "zerolinecolor": "rgb(36,36,36)"
          },
          "yaxis": {
           "automargin": true,
           "gridcolor": "rgb(232,232,232)",
           "linecolor": "rgb(36,36,36)",
           "showgrid": false,
           "showline": true,
           "ticks": "outside",
           "title": {
            "standoff": 15
           },
           "zeroline": false,
           "zerolinecolor": "rgb(36,36,36)"
          }
         }
        },
        "title": {
         "text": "Analysis of Experimental Structure Quality for ADMET Targets"
        },
        "width": 1600,
        "xaxis": {
         "range": [
          -0.5,
          57.5
         ],
         "ticktext": [
          "A1AG1 (P02763)",
          "OXA1L (Q15070)",
          "ABCBB (O95342)",
          "ABCG2 (Q9UNQ0)",
          "MDR1 (P08183)",
          "MRP1 (P33527)",
          "S15A1 (P46059)",
          "S22A6 (Q4U2R8)",
          "S22A8 (Q8TCC7)",
          "S47A1 (Q96FL8)",
          "SO1B1 (Q9Y6L6)",
          "SO1B3 (Q9NPD5)",
          "AHR (P35869)",
          "GSTA1 (P08263)",
          "NR1I2 (O75469)",
          "NR1I3 (Q14994)",
          "ST1A1 (P50225)",
          "ADH1A (P07327)",
          "AL1A1 (P00352)",
          "AOFA (P21397)",
          "AOFB (P27338)",
          "AOXA (Q06278)",
          "ARK73 (O95154)",
          "CP1A2 (P05177)",
          "CP2B6 (P20813)",
          "CP2C9 (P11712)",
          "CP2CJ (P33261)",
          "CP2D6 (P10635)",
          "CP3A4 (P08684)",
          "DHI1 (P28845)",
          "FMO1 (Q01740)",
          "XDH (P47989)",
          "5HT2B (P41595)",
          "ACH10 (Q9GZZ6)",
          "ACHA3 (P32297)",
          "ACHA5 (P30532)",
          "ACHA7 (P36544)",
          "ACHA9 (Q9UGM1)",
          "ACM1 (P11229)",
          "ACM2 (P08172)",
          "ACM3 (P20309)",
          "ADA1A (P35348)",
          "ADA2A (P08913)",
          "ADRB1 (P08588)",
          "ADRB2 (P07550)",
          "ASM3A (Q92484)",
          "CAC1C (Q13936)",
          "CACB1 (Q02641)",
          "CNR1 (P21554)",
          "CNR2 (P34972)",
          "GBRA1 (P14867)",
          "HRH1 (P35367)",
          "KCNH2 (Q12809)",
          "SC6A2 (P23975)",
          "SC6A3 (Q01959)",
          "SC6A4 (P31645)",
          "SCN5A (Q14524)"
         ],
         "tickvals": [
          0,
          1,
          2,
          3,
          4,
          5,
          6,
          7,
          8,
          9,
          10,
          11,
          12,
          13,
          14,
          15,
          16,
          17,
          18,
          19,
          20,
          21,
          22,
          23,
          24,
          25,
          26,
          27,
          28,
          29,
          30,
          31,
          32,
          33,
          34,
          35,
          36,
          37,
          38,
          39,
          40,
          41,
          42,
          43,
          44,
          45,
          46,
          47,
          48,
          49,
          50,
          51,
          52,
          53,
          54,
          55,
          56
         ],
         "title": {
          "text": "Protein Name (Uniprot ID)"
         }
        },
        "yaxis": {
         "title": {
          "text": "Resolution(A)"
         }
        }
       },
       "config": {
        "plotlyServerURL": "https://plot.ly"
       }
      },
      "text/html": "<div>                            <div id=\"b1b7b12f-fc33-4baa-9f58-cc3303cb12f3\" class=\"plotly-graph-div\" style=\"height:600px; width:1600px;\"></div>            <script type=\"text/javascript\">                require([\"plotly\"], function(Plotly) {                    window.PLOTLYENV=window.PLOTLYENV || {};                                    if (document.getElementById(\"b1b7b12f-fc33-4baa-9f58-cc3303cb12f3\")) {                    Plotly.newPlot(                        \"b1b7b12f-fc33-4baa-9f58-cc3303cb12f3\",                        [{\"marker\":{\"color\":\"#11efb7\",\"line\":{\"color\":\"black\",\"width\":1},\"size\":10,\"symbol\":\"diamond-tall\"},\"mode\":\"markers\",\"name\":\"absorption (X-ray)\",\"opacity\":1,\"showlegend\":true,\"x\":[-0.10824585601886967],\"y\":[1.8],\"type\":\"scatter\"},{\"marker\":{\"color\":\"#11efb7\",\"line\":{\"color\":\"black\",\"width\":1},\"size\":10,\"symbol\":\"circle-open\"},\"mode\":\"markers\",\"name\":\"absorption (AlphaFold)\",\"opacity\":0,\"showlegend\":false,\"x\":[0,1],\"y\":[2.0,2.0],\"type\":\"scatter\"},{\"marker\":{\"color\":\"#11efb7\",\"line\":{\"color\":\"black\",\"width\":2},\"size\":10,\"symbol\":\"circle\"},\"mode\":\"markers\",\"name\":\"absorption (EM)\",\"opacity\":1,\"showlegend\":true,\"x\":[1.1787331471343854,1.162257868602768],\"y\":[2.89,3.7],\"type\":\"scatter\"},{\"marker\":{\"color\":\"#9553ff\",\"line\":{\"color\":\"black\",\"width\":1},\"size\":10,\"symbol\":\"diamond-tall\"},\"mode\":\"markers\",\"name\":\"drug_transporter (X-ray)\",\"opacity\":1,\"showlegend\":true,\"x\":[5.006248653108747,5.1520056445105284],\"y\":[1.5,2.1],\"type\":\"scatter\"},{\"marker\":{\"color\":\"#9553ff\",\"line\":{\"color\":\"black\",\"width\":1},\"size\":10,\"symbol\":\"circle-open\"},\"mode\":\"markers\",\"name\":\"drug_transporter (AlphaFold)\",\"opacity\":0,\"showlegend\":false,\"x\":[2,3,4,5,6,7,8,9,10,11],\"y\":[2.0,2.0,2.0,2.0,2.0,2.0,2.0,2.0,2.0,2.0],\"type\":\"scatter\"},{\"marker\":{\"color\":\"#9553ff\",\"line\":{\"color\":\"black\",\"width\":2},\"size\":10,\"symbol\":\"circle\"},\"mode\":\"markers\",\"name\":\"drug_transporter (EM)\",\"opacity\":1,\"showlegend\":true,\"x\":[1.9204592367111006,2.1100417488999756,1.8830985444196184,3.166375895702502,3.132962653235923,2.89309925123484,2.8226345758415023,3.0958139442604726,3.0077741463866747,2.8557465316586756,2.8247673640564903,3.0439286545623205,3.0191097164678693,3.083856858013113,2.9140330638457246,3.127425734467718,2.895394342346936,3.0069625380757112,3.111251567856545,2.805161252498051,2.892307721438729,3.167318182956135,3.153278957478099,2.9798539851595622,2.9238312872870806,2.913725795259741,3.1148476594118284,3.960027794751336,4.012258016867807,3.8118066468097616,3.953063131912057,3.9519384879984236,3.9382568445987585,4.075428624794115,4.104932912360491,3.8942518004110833,3.8609180495763433,5.867204827125566,6.073572802916979,5.904777111972849,10.184717635675034,9.852354425381442,10.14171671336152,10.142280508598407,10.051317834635007,9.844010084940276,10.849274787290295],\"y\":[3.5,3.7,3.66,3.78,3.78,3.1,3.6,3.56,3.09,3.58,3.56,3.09,3.5,4.0,3.7,4.1,3.12,3.39,3.51,3.4,3.1,3.4,3.1,3.2,3.04,3.2,3.49,3.4,3.58,4.14,3.6,3.9,3.2,3.6,3.6,3.5,3.5,4.1,3.5,3.9,3.53,3.73,3.19,3.73,2.92,3.6,2.97],\"type\":\"scatter\"},{\"marker\":{\"color\":\"#ffb418\",\"line\":{\"color\":\"black\",\"width\":1},\"size\":10,\"symbol\":\"diamond-tall\"},\"mode\":\"markers\",\"name\":\"metabolism (X-ray)\",\"opacity\":1,\"showlegend\":true,\"x\":[12.16311060616997,13.159656727088755,13.07710429148398,13.073875890019321,13.166670452270402,12.91136698856924,12.874001905407036,13.102796870410822,12.857123661394091,12.853413762672897,13.059896738321088,12.922530708492918,12.818619713466358,12.84677350085656,13.032096660394503,12.986429518881067,12.919805307323744,13.003331670248881,13.085319520845466,13.183147012203243,12.918457098906297,12.941867047246976,13.102890944452474,13.125539270922953,12.982065456198997,12.942654121015295,13.079802050460213,12.889923869745582,12.918472079622921,13.07022557361147,12.990083168945596,12.915617345695388,12.90517460004516,13.175416584669408,13.169341718813378,13.098633917149945,13.07984303554095,13.033536810525048,13.04091230075139,12.93737173748557,14.110771566242322,13.826987846674356,14.084384951232192,13.928574665735237,14.011392363961546,13.86731409813421,13.825505764864952,14.107533150753083,13.93013332858402,13.943991836613291,13.889861150970646,14.106626160869332,14.033521348816063,13.944089560530255,14.188915785435514,14.036714681532699,14.102108784454057,13.994481616821524,14.061976421833002,13.817871366907594,13.83223768510476,14.021297965605752,13.831857235709574,13.927431458947718,14.024574705745543,14.097934691580338,13.844956291370206,14.184313755390239,13.936045554246457,13.859979319060022,13.9049281568161,13.940877892552054,14.190269908952947,14.004634063166737,13.845498552810044,14.006296087207042,14.096766913934703,13.917147245161848,14.012441277109872,13.951354597073847,14.057947002913807,14.129365457516148,14.178775141604598,14.068151285728595,14.02142227500675,13.868016114715815,13.899555537495159,13.864867306647492,13.862606056959539,13.885702773162539,14.106848770259118,14.167687559238345,13.907643695285739,14.941311094885364,14.949975885568671,15.823637539706178,16.14634116554927,16.00549894874172,16.167714711317213,16.1115201035451,16.0953166104975,15.953247494287307,16.14060661442625,16.10952548234121,15.922661009631947,16.129345981575515],\"y\":[3.3,2.5,2.0,2.7,2.6,1.5,1.8,1.3,1.86,2.0,2.1,1.75,1.8,2.07,1.85,1.95,1.8,2.51,2.38,1.98,2.2,1.75,2.13,1.79,2.2,1.86,1.88,2.1,1.93,2.33,1.6,1.55,1.7,2.0,1.29,2.19,2.03,2.46,1.56,1.87,2.52,2.76,2.15,2.0,2.8,2.8,2.8,2.0,2.1,2.8,2.8,2.8,2.8,2.8,3.14,2.0,2.25,2.58,2.4,2.25,2.67,2.56,2.3,2.28,2.22,2.27,2.3,2.7,1.85,2.27,2.15,2.25,2.26,2.55,2.05,2.65,1.9,2.45,2.7,2.55,2.15,2.3,2.0,2.5,2.26,2.48,2.05,2.2,2.1,2.25,2.37,2.3,2.2,2.7,2.6,1.9,2.3,2.3,2.5,2.35,2.7,2.36,2.3,2.0,2.36,2.56],\"type\":\"scatter\"},{\"marker\":{\"color\":\"#ffb418\",\"line\":{\"color\":\"black\",\"width\":1},\"size\":10,\"symbol\":\"circle-open\"},\"mode\":\"markers\",\"name\":\"metabolism (AlphaFold)\",\"opacity\":0,\"showlegend\":false,\"x\":[12,13,14,15,16],\"y\":[2.0,2.0,2.0,2.0,2.0],\"type\":\"scatter\"},{\"marker\":{\"color\":\"#ffb418\",\"line\":{\"color\":\"black\",\"width\":2},\"size\":10,\"symbol\":\"circle\"},\"mode\":\"markers\",\"name\":\"metabolism (EM)\",\"opacity\":1,\"showlegend\":true,\"x\":[11.851044986562849],\"y\":[2.85],\"type\":\"scatter\"},{\"marker\":{\"color\":\"#d07c09\",\"line\":{\"color\":\"black\",\"width\":1},\"size\":10,\"symbol\":\"diamond-tall\"},\"mode\":\"markers\",\"name\":\"metabolism_redox (X-ray)\",\"opacity\":1,\"showlegend\":true,\"x\":[17.02501182922225,17.007472589963125,17.814622220169415,17.816344695641398,17.92463868906507,18.042388954471082,17.84862580083238,17.886658088873354,18.059789139105,18.06309234903015,18.08084231654963,17.942310447587623,17.880595228289703,17.96627128219157,18.18402044838597,17.938987490443864,18.00734504918706,17.95293395536294,17.8644332787026,18.82131006439297,18.83524492824713,19.178899294875627,18.823652642111806,20.180528990961413,20.044414194059513,20.174774207849325,19.92683602273054,19.922033463249115,19.81038065389614,19.99608975298843,20.11601291354631,19.974066876266892,20.14296695681922,19.962641438572838,19.99439119339089,20.118209714046248,19.813910488361376,20.09191982721421,19.86844029068059,19.92945353743832,20.073091081864856,19.855929911731316,19.850946176737303,19.8565082406211,19.853207449732295,19.90300809769261,20.180225611982806,19.863024691250068,19.89578618390633,20.16801053433458,20.0969091987816,20.03459502822649,19.883301381269874,19.934521434917492,20.176788030142337,19.82448681120079,19.80665314698893,19.8751868071262,19.9136430222309,19.945271862419304,19.890321081562583,20.150309296612583,19.847865864373674,20.140552066114374,19.887163988900674,19.882269105073746,20.160501240808067,20.10376498903291,19.82154845056106,19.831769128576603,19.800486064986394,19.835354619751435,20.165744916475767,19.821108383272076,20.017626736595737,20.84044895201448,21.13041610474845,21.12175942316738,20.996360644001115,21.125570939690963,20.98210440554,21.848299280877352,22.950668671784843,23.98186596470119,23.948467915708633,24.07728793871102,24.021981985744006,24.097898202817916,23.99835802328532,23.828668791597565,23.99761512485095,24.186681554213102,24.158854975513503,24.007493051015043,23.88251766784847,23.97569040582903,24.925461150873087,25.088755461993657,24.938014556672613,24.94832177979142,24.838408212650098,24.865667241265605,25.173364532985428,24.823063865291374,24.967621272217617,24.961442060206465,25.066793737005746,24.842649339254812,25.120669671861844,25.87870176654269,27.145097751308157,27.04064669332824,26.97508504896779,26.92784575476464,26.91015746780409,27.12048149068399,26.959820191498277,27.09360510700246,27.05932193301155,26.930858980278867,27.0097014721403,26.93083370196596,26.80286310912911,26.93394930790006,28.035012227729105,28.14061035626304,28.07812105928283,27.904020557803513,28.071250943663102,27.813287147163365,28.03838116405187,27.93040154430144,28.06842706331754,28.08233578648553,28.19587200739324,27.839892977107425,28.008086440003687,27.84260490370943,28.030651584815278,27.863622659935345,27.951900840700507,27.949393186216664,28.176859623461016,27.99230224004163,28.09613549981478,28.05495221012758,27.944053433177228,28.097515006317604,27.829135816266696,28.044173481129015,28.00394890938652,27.994544270892845,27.900783996120328,28.04535962308699,27.931746541465003,27.99062567198759,27.94501764731972,28.04730477042308,28.155973938322614,27.839169909416192,28.083820635975435,28.14061378223219,27.92545616324955,27.86273249195928,27.974198417925685,27.911266430992185,27.932925055101368,27.804610135623147,28.106139769163136,27.849226917248945,27.921200945942935,28.032544666930626,27.819284634202894,28.052486122413654,28.155764664179085,28.171818465616354,28.10847897313642,27.836432983101705,28.145414716553617,27.86566454969112,27.938522414349453,27.88931191062249,28.105358994058772,27.981451777116185,27.98448783425326,28.064371963820342,27.997101252451337,27.81664722981075,27.800116814228527,27.917344694224653,27.989109513154762,28.152420725456377,27.952031800406925,27.969900054221224,28.003659454346373,27.802857774726203,28.153909822077445,27.950016030554433,28.068940850707957,27.937435824644478,28.179197314170334,28.197867465974575,28.94611193715086,29.0565543697772,28.833427271141826,29.043173868757037,28.948615842086983,28.895505563120164,29.07103281204287,29.002990330626062,29.18806803308434,28.811946370489853,28.839426099066404,28.91346651984323,28.861699652357505,28.998912660023592,28.83223928401639,29.064526064182427,29.131456582330664,28.941352543690822,28.974212047851072,29.168441218290965,29.07647275996963,29.038071578385285,29.105628226211113,28.818186113675896,28.880464700791762,28.912410893184923,28.888931114972557,29.10487838186274,28.927147041389343,28.957300789035852,29.08006910234059,28.878804339404404,29.194333004471318,28.981385235973605,28.89850140029497,28.931200211550262,29.172532668022523,29.11266658486593,29.186143557366734,28.890441692238316,31.029891319066447,30.906902853273674],\"y\":[2.5,2.49,2.07,1.74,1.8,1.95,1.85,1.85,1.7,1.7,2.05,2.1,2.0,1.6,1.8,1.9,1.6,1.6,1.8,3.0,3.15,2.2,2.17,3.0,2.3,1.7,2.4,3.1,2.07,2.12,1.65,1.6,1.8,1.9,1.83,2.2,2.2,1.7,2.5,1.7,2.06,2.0,2.2,1.7,1.7,1.6,2.0,1.7,2.4,2.3,2.3,1.9,1.6,2.1,1.66,2.2,2.2,1.8,2.2,1.89,1.7,1.8,2.42,1.8,1.6,1.7,2.3,1.7,2.3,1.8,2.3,2.1,2.3,2.1,2.0,2.6,2.7,3.39,3.1,2.6,2.7,3.0,1.95,2.0,2.1,2.8,2.8,2.0,2.1,2.2,2.24,2.03,1.93,2.27,1.76,2.99,2.6,2.55,2.0,2.45,2.0,2.9,2.3,2.0,2.0,2.48,2.3,3.12,2.23,2.87,3.0,2.85,2.1,2.67,2.6,2.26,2.35,3.3,2.5,2.4,2.71,2.75,2.39,2.39,2.05,2.8,2.65,2.74,2.75,2.8,2.0,2.25,2.15,1.93,2.25,2.8,2.76,2.6,2.72,2.9,2.5,2.85,2.6,2.4,2.76,2.95,2.5,2.45,2.6,2.7,2.7,1.7,1.95,2.2,2.2,2.23,2.5,2.5,2.42,2.38,2.25,2.57,2.67,2.6,2.25,2.52,2.2,2.5,2.5,2.79,2.55,2.65,2.55,2.75,2.7,2.65,2.75,2.75,2.5,2.75,2.78,2.65,2.45,2.5,2.25,2.35,2.9,2.4,2.7,2.4,2.2,2.3,2.35,2.3,2.1,2.4,2.25,2.2,2.15,2.05,2.05,2.15,1.8,1.55,2.11,2.3,3.1,1.9,2.69,2.25,2.35,2.35,2.6,2.5,2.55,3.0,2.65,2.3,2.19,2.3,2.6,2.3,2.72,1.8,2.2,2.55,2.16,1.91,2.73,2.19,2.35,2.35,2.35,1.96,2.8,3.2,2.35,2.35,2.37,2.5,2.07,2.45,3.59,2.6],\"type\":\"scatter\"},{\"marker\":{\"color\":\"#d07c09\",\"line\":{\"color\":\"black\",\"width\":1},\"size\":10,\"symbol\":\"circle-open\"},\"mode\":\"markers\",\"name\":\"metabolism_redox (AlphaFold)\",\"opacity\":0,\"showlegend\":false,\"x\":[17,18,19,20,21,22,23,24,25,26,27,28,29,30,31],\"y\":[2.0,2.0,2.0,2.0,2.0,2.0,2.0,2.0,2.0,2.0,2.0,2.0,2.0,2.0,2.0],\"type\":\"scatter\"},{\"marker\":{\"color\":\"#d07c09\",\"line\":{\"color\":\"black\",\"width\":2},\"size\":10,\"symbol\":\"circle\"},\"mode\":\"markers\",\"name\":\"metabolism_redox (EM)\",\"opacity\":1,\"showlegend\":true,\"x\":[18.0379911699687,18.057848484736397,17.904985061452532,21.035630291155957],\"y\":[2.84,3.4,2.64,2.92],\"type\":\"scatter\"},{\"marker\":{\"color\":\"#5e2bcb\",\"line\":{\"color\":\"black\",\"width\":1},\"size\":10,\"symbol\":\"diamond-tall\"},\"mode\":\"markers\",\"name\":\"toxicity (X-ray)\",\"opacity\":1,\"showlegend\":true,\"x\":[31.90683695019088,32.01581103282557,31.81607751697094,31.82381777949563,32.09199686161863,32.02058237870895,32.0334414812976,31.87549221098954,33.85177283913613,33.98395036981618,34.15848316007962,35.80362380503961,35.993093976917955,36.10771418902109,35.825637731762725,36.02643182545515,36.02729494998937,37.14914793691195,37.05362945374696,37.14123084246205,37.037014408072224,38.02240948778576,37.92034423532266,38.01704346930033,37.883668376596745,38.15738541816954,39.09357078147774,39.14024878047343,39.02835165749094,38.93570960394627,38.99620397003397,39.01671358832593,38.875108597935835,38.970171178005465,42.1044831133645,42.16477190688242,43.12677765102512,42.85145685758011,42.93076030077099,42.92682250670521,43.823421291848234,44.066193768970656,44.1790772370851,43.92053480094079,43.83911372030006,43.976581674831586,43.97780423942428,43.86359725838994,44.02052889305273,43.82704930939902,43.84455298333791,43.94671486134665,43.98591726920882,43.92582537717724,44.07372008413819,44.198997388492415,43.95785947933248,43.80102971117434,44.05350269626748,43.946819795213926,44.10090063677833,44.00934619815829,43.82198824442332,44.11759275855036,44.13528735815523,44.048249411073115,44.06699960706763,44.033241719852434,44.07367682517701,43.94776293918036,44.09951112830369,44.02996892632447,43.846501297720025,43.862552280749576,43.81438968363964,44.15024032275793,45.000144650682756,45.077506980811464,46.05365905308518,46.18452877663728,45.9043246797471,45.801680006720936,45.84744532034288,46.08272698369316,45.90044944274165,46.158234961586984,45.976652934418986,45.8230755399876,46.128787945265906,45.98773843116635,46.16077619361431,46.07247340923042,46.0337546023867,47.82930998370501,48.089011586878804,48.03886518679015,47.81340907120213,47.953813439776376,48.06865405733629,48.105041223553556,49.059112299879196,49.143598095190164,50.19157844137457,50.184190876473394,50.89806718750339,51.867696464539854,51.934737211580895,51.964874515484524,51.95930558008847,54.80218766129417,54.805406280168626,54.880103937295544,55.1964869236921,55.16700235252126,55.189152265559315,54.81761817796788,55.11041041703854,54.828538336477585,54.90756608841461,54.998800686712265,54.920508936885184,56.125628470874304,56.031420447082375,55.80148456031343,56.139052103989606,56.062983956692214,55.97085587638381],\"y\":[2.7,2.8,3.0,2.9,3.1,2.92,3.1,3.19,1.9,2.0,1.93,2.4,2.2,2.38,2.38,2.85,2.15,1.8,1.71,2.7,2.26,2.7,2.55,2.17,2.33,2.5,3.0,3.5,3.7,2.5,2.6,3.0,2.95,2.3,2.7,3.2,3.13,2.7,2.6,2.5,1.9,3.4,3.4,2.4,2.8,3.4,2.84,2.84,3.16,3.5,3.5,3.2,3.99,2.79,3.1,3.2,3.3,2.48,3.8,3.2,3.2,2.7,3.7,2.96,3.2,3.1,2.8,3.4,3.2,2.4,2.5,2.6,2.9,2.7,3.4,3.1,2.6,3.0,2.0,2.0,1.45,1.6,2.1,2.55,2.0,1.7,1.65,2.0,2.4,2.4,1.65,1.7,1.75,2.8,2.6,2.95,2.8,3.25,2.7,3.29,2.8,3.2,3.45,3.2,3.1,2.6,2.12,1.96,1.5,3.14,4.53,3.15,3.24,3.4,3.49,3.62,3.53,3.8,4.05,4.7,6.3,2.2,1.35,3.84,2.8,2.25,2.69],\"type\":\"scatter\"},{\"marker\":{\"color\":\"#5e2bcb\",\"line\":{\"color\":\"black\",\"width\":1},\"size\":10,\"symbol\":\"circle-open\"},\"mode\":\"markers\",\"name\":\"toxicity (AlphaFold)\",\"opacity\":0,\"showlegend\":false,\"x\":[32,33,34,35,36,37,38,39,40,41,42,43,44,45,46,47,48,49,50,51,52,53,54,55,56],\"y\":[2.0,2.0,2.0,2.0,2.0,2.0,2.0,2.0,2.0,2.0,2.0,2.0,2.0,2.0,2.0,2.0,2.0,2.0,2.0,2.0,2.0,2.0,2.0,2.0,2.0],\"type\":\"scatter\"},{\"marker\":{\"color\":\"#5e2bcb\",\"line\":{\"color\":\"black\",\"width\":2},\"size\":10,\"symbol\":\"circle\"},\"mode\":\"markers\",\"name\":\"toxicity (EM)\",\"opacity\":1,\"showlegend\":true,\"x\":[32.08825556840454,32.19775224401677,32.02957910632966,33.847713871994245,33.906018641463085,36.126884972766,36.177064018893546,35.83478659476115,35.91915655090373,36.17105739571677,36.11674703192579,36.18065859597144,35.872483227315136,36.101598020729064,36.11241118081177,35.94226148421559,37.924837156512034,38.92808970911535,38.93946150146485,39.02791370203747,39.031471759063365,38.86899347657622,39.07171702682869,39.917319517005595,40.001286131926456,40.08024767290522,39.9153833125014,41.078138160154,40.994955009552314,41.902900334173204,42.03283008634364,41.97105311502254,42.11008018344899,41.87318263086028,41.94667407838093,41.85339984053107,43.86559366471103,44.08612466287245,43.864652105049586,44.153190535442036,44.10980260702237,43.98198842089944,45.96383419492553,46.02706229293407,46.94588696511537,46.96136227933127,47.049423058766955,47.02673865458095,46.85903658882181,47.9396533466268,48.08674216396982,48.099113463834335,48.09968818436891,49.03487560836262,49.0796221841018,48.80839467603372,48.91271825662505,49.06683417167162,48.812112187720366,49.90037571532609,49.95953579810081,50.146853482328346,49.932892575682985,50.02877865664512,50.02184111360108,50.16757648430829,50.09063970677833,50.181075156794144,49.82359651747518,49.828180814494324,50.02161522337812,49.87207483882279,49.8043199858487,49.913013377931385,50.06198454644858,50.01470221814987,49.972048364261326,49.8770295782817,49.98251643082086,50.1958737389474,50.17139182994507,50.075019461324736,49.81394737782023,49.86135403372624,50.041406075360854,50.03570580758797,51.155211291640896,52.071756933050224,52.06516130535785,51.972174992811894,54.94369221184695,55.1125932484715,54.820256768609724,54.93341229207267,55.15921596408327,55.18344576918539,55.08470175861031,54.81740161234308,54.93103259180993,54.99142347821238,55.105894558715555,55.10892022923509,55.199633368868575,55.19765974394179,54.91145179369262,56.07966567069427,56.02818723019461],\"y\":[2.7,2.9,3.3,3.34,3.87,3.18,2.85,3.02,3.0,3.6,2.7,2.3,3.4,2.7,2.8,4.4,3.3,3.6,4.0,3.21,3.32,3.16,3.22,2.69,2.79,2.69,2.56,2.6,3.1,4.1,3.2,3.0,3.6,3.4,3.47,3.4,3.8,3.82,3.26,3.8,3.2,3.4,3.4,3.1,2.8,3.0,3.0,3.3,3.1,3.0,3.0,3.36,2.8,2.9,3.2,3.08,2.84,2.97,2.98,3.8,3.8,3.1,3.04,3.69,3.26,3.58,3.2,3.12,2.55,3.49,3.5,3.3,2.92,3.23,2.86,3.04,2.79,3.0,2.7,3.0,3.0,2.9,2.9,2.65,2.98,2.71,3.3,3.7,3.8,4.0,4.2,4.3,4.1,3.6,3.3,4.1,3.8,3.5,4.1,3.9,3.9,3.3,3.65,3.5,3.0,3.3,3.3],\"type\":\"scatter\"}],                        {\"height\":600,\"template\":{\"data\":{\"barpolar\":[{\"marker\":{\"line\":{\"color\":\"white\",\"width\":0.5},\"pattern\":{\"fillmode\":\"overlay\",\"size\":10,\"solidity\":0.2}},\"type\":\"barpolar\"}],\"bar\":[{\"error_x\":{\"color\":\"rgb(36,36,36)\"},\"error_y\":{\"color\":\"rgb(36,36,36)\"},\"marker\":{\"line\":{\"color\":\"white\",\"width\":0.5},\"pattern\":{\"fillmode\":\"overlay\",\"size\":10,\"solidity\":0.2}},\"type\":\"bar\"}],\"carpet\":[{\"aaxis\":{\"endlinecolor\":\"rgb(36,36,36)\",\"gridcolor\":\"white\",\"linecolor\":\"white\",\"minorgridcolor\":\"white\",\"startlinecolor\":\"rgb(36,36,36)\"},\"baxis\":{\"endlinecolor\":\"rgb(36,36,36)\",\"gridcolor\":\"white\",\"linecolor\":\"white\",\"minorgridcolor\":\"white\",\"startlinecolor\":\"rgb(36,36,36)\"},\"type\":\"carpet\"}],\"choropleth\":[{\"colorbar\":{\"outlinewidth\":1,\"tickcolor\":\"rgb(36,36,36)\",\"ticks\":\"outside\"},\"type\":\"choropleth\"}],\"contourcarpet\":[{\"colorbar\":{\"outlinewidth\":1,\"tickcolor\":\"rgb(36,36,36)\",\"ticks\":\"outside\"},\"type\":\"contourcarpet\"}],\"contour\":[{\"colorbar\":{\"outlinewidth\":1,\"tickcolor\":\"rgb(36,36,36)\",\"ticks\":\"outside\"},\"colorscale\":[[0.0,\"#440154\"],[0.1111111111111111,\"#482878\"],[0.2222222222222222,\"#3e4989\"],[0.3333333333333333,\"#31688e\"],[0.4444444444444444,\"#26828e\"],[0.5555555555555556,\"#1f9e89\"],[0.6666666666666666,\"#35b779\"],[0.7777777777777778,\"#6ece58\"],[0.8888888888888888,\"#b5de2b\"],[1.0,\"#fde725\"]],\"type\":\"contour\"}],\"heatmapgl\":[{\"colorbar\":{\"outlinewidth\":1,\"tickcolor\":\"rgb(36,36,36)\",\"ticks\":\"outside\"},\"colorscale\":[[0.0,\"#440154\"],[0.1111111111111111,\"#482878\"],[0.2222222222222222,\"#3e4989\"],[0.3333333333333333,\"#31688e\"],[0.4444444444444444,\"#26828e\"],[0.5555555555555556,\"#1f9e89\"],[0.6666666666666666,\"#35b779\"],[0.7777777777777778,\"#6ece58\"],[0.8888888888888888,\"#b5de2b\"],[1.0,\"#fde725\"]],\"type\":\"heatmapgl\"}],\"heatmap\":[{\"colorbar\":{\"outlinewidth\":1,\"tickcolor\":\"rgb(36,36,36)\",\"ticks\":\"outside\"},\"colorscale\":[[0.0,\"#440154\"],[0.1111111111111111,\"#482878\"],[0.2222222222222222,\"#3e4989\"],[0.3333333333333333,\"#31688e\"],[0.4444444444444444,\"#26828e\"],[0.5555555555555556,\"#1f9e89\"],[0.6666666666666666,\"#35b779\"],[0.7777777777777778,\"#6ece58\"],[0.8888888888888888,\"#b5de2b\"],[1.0,\"#fde725\"]],\"type\":\"heatmap\"}],\"histogram2dcontour\":[{\"colorbar\":{\"outlinewidth\":1,\"tickcolor\":\"rgb(36,36,36)\",\"ticks\":\"outside\"},\"colorscale\":[[0.0,\"#440154\"],[0.1111111111111111,\"#482878\"],[0.2222222222222222,\"#3e4989\"],[0.3333333333333333,\"#31688e\"],[0.4444444444444444,\"#26828e\"],[0.5555555555555556,\"#1f9e89\"],[0.6666666666666666,\"#35b779\"],[0.7777777777777778,\"#6ece58\"],[0.8888888888888888,\"#b5de2b\"],[1.0,\"#fde725\"]],\"type\":\"histogram2dcontour\"}],\"histogram2d\":[{\"colorbar\":{\"outlinewidth\":1,\"tickcolor\":\"rgb(36,36,36)\",\"ticks\":\"outside\"},\"colorscale\":[[0.0,\"#440154\"],[0.1111111111111111,\"#482878\"],[0.2222222222222222,\"#3e4989\"],[0.3333333333333333,\"#31688e\"],[0.4444444444444444,\"#26828e\"],[0.5555555555555556,\"#1f9e89\"],[0.6666666666666666,\"#35b779\"],[0.7777777777777778,\"#6ece58\"],[0.8888888888888888,\"#b5de2b\"],[1.0,\"#fde725\"]],\"type\":\"histogram2d\"}],\"histogram\":[{\"marker\":{\"line\":{\"color\":\"white\",\"width\":0.6}},\"type\":\"histogram\"}],\"mesh3d\":[{\"colorbar\":{\"outlinewidth\":1,\"tickcolor\":\"rgb(36,36,36)\",\"ticks\":\"outside\"},\"type\":\"mesh3d\"}],\"parcoords\":[{\"line\":{\"colorbar\":{\"outlinewidth\":1,\"tickcolor\":\"rgb(36,36,36)\",\"ticks\":\"outside\"}},\"type\":\"parcoords\"}],\"pie\":[{\"automargin\":true,\"type\":\"pie\"}],\"scatter3d\":[{\"line\":{\"colorbar\":{\"outlinewidth\":1,\"tickcolor\":\"rgb(36,36,36)\",\"ticks\":\"outside\"}},\"marker\":{\"colorbar\":{\"outlinewidth\":1,\"tickcolor\":\"rgb(36,36,36)\",\"ticks\":\"outside\"}},\"type\":\"scatter3d\"}],\"scattercarpet\":[{\"marker\":{\"colorbar\":{\"outlinewidth\":1,\"tickcolor\":\"rgb(36,36,36)\",\"ticks\":\"outside\"}},\"type\":\"scattercarpet\"}],\"scattergeo\":[{\"marker\":{\"colorbar\":{\"outlinewidth\":1,\"tickcolor\":\"rgb(36,36,36)\",\"ticks\":\"outside\"}},\"type\":\"scattergeo\"}],\"scattergl\":[{\"marker\":{\"colorbar\":{\"outlinewidth\":1,\"tickcolor\":\"rgb(36,36,36)\",\"ticks\":\"outside\"}},\"type\":\"scattergl\"}],\"scattermapbox\":[{\"marker\":{\"colorbar\":{\"outlinewidth\":1,\"tickcolor\":\"rgb(36,36,36)\",\"ticks\":\"outside\"}},\"type\":\"scattermapbox\"}],\"scatterpolargl\":[{\"marker\":{\"colorbar\":{\"outlinewidth\":1,\"tickcolor\":\"rgb(36,36,36)\",\"ticks\":\"outside\"}},\"type\":\"scatterpolargl\"}],\"scatterpolar\":[{\"marker\":{\"colorbar\":{\"outlinewidth\":1,\"tickcolor\":\"rgb(36,36,36)\",\"ticks\":\"outside\"}},\"type\":\"scatterpolar\"}],\"scatter\":[{\"fillpattern\":{\"fillmode\":\"overlay\",\"size\":10,\"solidity\":0.2},\"type\":\"scatter\"}],\"scatterternary\":[{\"marker\":{\"colorbar\":{\"outlinewidth\":1,\"tickcolor\":\"rgb(36,36,36)\",\"ticks\":\"outside\"}},\"type\":\"scatterternary\"}],\"surface\":[{\"colorbar\":{\"outlinewidth\":1,\"tickcolor\":\"rgb(36,36,36)\",\"ticks\":\"outside\"},\"colorscale\":[[0.0,\"#440154\"],[0.1111111111111111,\"#482878\"],[0.2222222222222222,\"#3e4989\"],[0.3333333333333333,\"#31688e\"],[0.4444444444444444,\"#26828e\"],[0.5555555555555556,\"#1f9e89\"],[0.6666666666666666,\"#35b779\"],[0.7777777777777778,\"#6ece58\"],[0.8888888888888888,\"#b5de2b\"],[1.0,\"#fde725\"]],\"type\":\"surface\"}],\"table\":[{\"cells\":{\"fill\":{\"color\":\"rgb(237,237,237)\"},\"line\":{\"color\":\"white\"}},\"header\":{\"fill\":{\"color\":\"rgb(217,217,217)\"},\"line\":{\"color\":\"white\"}},\"type\":\"table\"}]},\"layout\":{\"annotationdefaults\":{\"arrowhead\":0,\"arrowwidth\":1},\"autotypenumbers\":\"strict\",\"coloraxis\":{\"colorbar\":{\"outlinewidth\":1,\"tickcolor\":\"rgb(36,36,36)\",\"ticks\":\"outside\"}},\"colorscale\":{\"diverging\":[[0.0,\"rgb(103,0,31)\"],[0.1,\"rgb(178,24,43)\"],[0.2,\"rgb(214,96,77)\"],[0.3,\"rgb(244,165,130)\"],[0.4,\"rgb(253,219,199)\"],[0.5,\"rgb(247,247,247)\"],[0.6,\"rgb(209,229,240)\"],[0.7,\"rgb(146,197,222)\"],[0.8,\"rgb(67,147,195)\"],[0.9,\"rgb(33,102,172)\"],[1.0,\"rgb(5,48,97)\"]],\"sequential\":[[0.0,\"#440154\"],[0.1111111111111111,\"#482878\"],[0.2222222222222222,\"#3e4989\"],[0.3333333333333333,\"#31688e\"],[0.4444444444444444,\"#26828e\"],[0.5555555555555556,\"#1f9e89\"],[0.6666666666666666,\"#35b779\"],[0.7777777777777778,\"#6ece58\"],[0.8888888888888888,\"#b5de2b\"],[1.0,\"#fde725\"]],\"sequentialminus\":[[0.0,\"#440154\"],[0.1111111111111111,\"#482878\"],[0.2222222222222222,\"#3e4989\"],[0.3333333333333333,\"#31688e\"],[0.4444444444444444,\"#26828e\"],[0.5555555555555556,\"#1f9e89\"],[0.6666666666666666,\"#35b779\"],[0.7777777777777778,\"#6ece58\"],[0.8888888888888888,\"#b5de2b\"],[1.0,\"#fde725\"]]},\"colorway\":[\"#1F77B4\",\"#FF7F0E\",\"#2CA02C\",\"#D62728\",\"#9467BD\",\"#8C564B\",\"#E377C2\",\"#7F7F7F\",\"#BCBD22\",\"#17BECF\"],\"font\":{\"color\":\"rgb(36,36,36)\"},\"geo\":{\"bgcolor\":\"white\",\"lakecolor\":\"white\",\"landcolor\":\"white\",\"showlakes\":true,\"showland\":true,\"subunitcolor\":\"white\"},\"hoverlabel\":{\"align\":\"left\"},\"hovermode\":\"closest\",\"mapbox\":{\"style\":\"light\"},\"paper_bgcolor\":\"white\",\"plot_bgcolor\":\"white\",\"polar\":{\"angularaxis\":{\"gridcolor\":\"rgb(232,232,232)\",\"linecolor\":\"rgb(36,36,36)\",\"showgrid\":false,\"showline\":true,\"ticks\":\"outside\"},\"bgcolor\":\"white\",\"radialaxis\":{\"gridcolor\":\"rgb(232,232,232)\",\"linecolor\":\"rgb(36,36,36)\",\"showgrid\":false,\"showline\":true,\"ticks\":\"outside\"}},\"scene\":{\"xaxis\":{\"backgroundcolor\":\"white\",\"gridcolor\":\"rgb(232,232,232)\",\"gridwidth\":2,\"linecolor\":\"rgb(36,36,36)\",\"showbackground\":true,\"showgrid\":false,\"showline\":true,\"ticks\":\"outside\",\"zeroline\":false,\"zerolinecolor\":\"rgb(36,36,36)\"},\"yaxis\":{\"backgroundcolor\":\"white\",\"gridcolor\":\"rgb(232,232,232)\",\"gridwidth\":2,\"linecolor\":\"rgb(36,36,36)\",\"showbackground\":true,\"showgrid\":false,\"showline\":true,\"ticks\":\"outside\",\"zeroline\":false,\"zerolinecolor\":\"rgb(36,36,36)\"},\"zaxis\":{\"backgroundcolor\":\"white\",\"gridcolor\":\"rgb(232,232,232)\",\"gridwidth\":2,\"linecolor\":\"rgb(36,36,36)\",\"showbackground\":true,\"showgrid\":false,\"showline\":true,\"ticks\":\"outside\",\"zeroline\":false,\"zerolinecolor\":\"rgb(36,36,36)\"}},\"shapedefaults\":{\"fillcolor\":\"black\",\"line\":{\"width\":0},\"opacity\":0.3},\"ternary\":{\"aaxis\":{\"gridcolor\":\"rgb(232,232,232)\",\"linecolor\":\"rgb(36,36,36)\",\"showgrid\":false,\"showline\":true,\"ticks\":\"outside\"},\"baxis\":{\"gridcolor\":\"rgb(232,232,232)\",\"linecolor\":\"rgb(36,36,36)\",\"showgrid\":false,\"showline\":true,\"ticks\":\"outside\"},\"bgcolor\":\"white\",\"caxis\":{\"gridcolor\":\"rgb(232,232,232)\",\"linecolor\":\"rgb(36,36,36)\",\"showgrid\":false,\"showline\":true,\"ticks\":\"outside\"}},\"title\":{\"x\":0.05},\"xaxis\":{\"automargin\":true,\"gridcolor\":\"rgb(232,232,232)\",\"linecolor\":\"rgb(36,36,36)\",\"showgrid\":false,\"showline\":true,\"ticks\":\"outside\",\"title\":{\"standoff\":15},\"zeroline\":false,\"zerolinecolor\":\"rgb(36,36,36)\"},\"yaxis\":{\"automargin\":true,\"gridcolor\":\"rgb(232,232,232)\",\"linecolor\":\"rgb(36,36,36)\",\"showgrid\":false,\"showline\":true,\"ticks\":\"outside\",\"title\":{\"standoff\":15},\"zeroline\":false,\"zerolinecolor\":\"rgb(36,36,36)\"}}},\"title\":{\"text\":\"Analysis of Experimental Structure Quality for ADMET Targets\"},\"width\":1600,\"xaxis\":{\"range\":[-0.5,57.5],\"ticktext\":[\"A1AG1 (P02763)\",\"OXA1L (Q15070)\",\"ABCBB (O95342)\",\"ABCG2 (Q9UNQ0)\",\"MDR1 (P08183)\",\"MRP1 (P33527)\",\"S15A1 (P46059)\",\"S22A6 (Q4U2R8)\",\"S22A8 (Q8TCC7)\",\"S47A1 (Q96FL8)\",\"SO1B1 (Q9Y6L6)\",\"SO1B3 (Q9NPD5)\",\"AHR (P35869)\",\"GSTA1 (P08263)\",\"NR1I2 (O75469)\",\"NR1I3 (Q14994)\",\"ST1A1 (P50225)\",\"ADH1A (P07327)\",\"AL1A1 (P00352)\",\"AOFA (P21397)\",\"AOFB (P27338)\",\"AOXA (Q06278)\",\"ARK73 (O95154)\",\"CP1A2 (P05177)\",\"CP2B6 (P20813)\",\"CP2C9 (P11712)\",\"CP2CJ (P33261)\",\"CP2D6 (P10635)\",\"CP3A4 (P08684)\",\"DHI1 (P28845)\",\"FMO1 (Q01740)\",\"XDH (P47989)\",\"5HT2B (P41595)\",\"ACH10 (Q9GZZ6)\",\"ACHA3 (P32297)\",\"ACHA5 (P30532)\",\"ACHA7 (P36544)\",\"ACHA9 (Q9UGM1)\",\"ACM1 (P11229)\",\"ACM2 (P08172)\",\"ACM3 (P20309)\",\"ADA1A (P35348)\",\"ADA2A (P08913)\",\"ADRB1 (P08588)\",\"ADRB2 (P07550)\",\"ASM3A (Q92484)\",\"CAC1C (Q13936)\",\"CACB1 (Q02641)\",\"CNR1 (P21554)\",\"CNR2 (P34972)\",\"GBRA1 (P14867)\",\"HRH1 (P35367)\",\"KCNH2 (Q12809)\",\"SC6A2 (P23975)\",\"SC6A3 (Q01959)\",\"SC6A4 (P31645)\",\"SCN5A (Q14524)\"],\"tickvals\":[0,1,2,3,4,5,6,7,8,9,10,11,12,13,14,15,16,17,18,19,20,21,22,23,24,25,26,27,28,29,30,31,32,33,34,35,36,37,38,39,40,41,42,43,44,45,46,47,48,49,50,51,52,53,54,55,56],\"title\":{\"text\":\"Protein Name (Uniprot ID)\"}},\"yaxis\":{\"title\":{\"text\":\"Resolution(A)\"}}},                        {\"responsive\": true}                    ).then(function(){\n                            \nvar gd = document.getElementById('b1b7b12f-fc33-4baa-9f58-cc3303cb12f3');\nvar x = new MutationObserver(function (mutations, observer) {{\n        var display = window.getComputedStyle(gd).display;\n        if (!display || display === 'none') {{\n            console.log([gd, 'removed!']);\n            Plotly.purge(gd);\n            observer.disconnect();\n        }}\n}});\n\n// Listen for the removal of the full notebook cells\nvar notebookContainer = gd.closest('#notebook-container');\nif (notebookContainer) {{\n    x.observe(notebookContainer, {childList: true});\n}}\n\n// Listen for the clearing of the current output cell\nvar outputEl = gd.closest('.output');\nif (outputEl) {{\n    x.observe(outputEl, {childList: true});\n}}\n\n                        })                };                });            </script>        </div>"
     },
     "metadata": {},
     "output_type": "display_data"
    }
   ],
   "source": [
    "import plotly.graph_objects as go\n",
    "import numpy as np\n",
    "# Create traces for each unique value in 'Method'\n",
    "resolution_traces = []\n",
    "\n",
    "for category in category_list:\n",
    "    for method in df['Method'].unique():\n",
    "        df_subset = df[(df['Method'] == method) & (df['Category'] == category)]\n",
    "        \n",
    "        # marker_size = df_subset[\"Average Sequence Coverage\"].apply(lambda x: x * 16 if not np.isnan(x) else 10)\n",
    "        \n",
    "        # Add random jitter to the x-axis values\n",
    "        if method == 'AlphaFold':\n",
    "            x_values = [protein_name_mapping[name] for name in df_subset['Protein Name']]\n",
    "        else:\n",
    "            jitter = np.random.uniform(low=-jitter_amount, high=jitter_amount, size=len(df_subset))\n",
    "            x_values = [protein_name_mapping[name] + jitter[i] for i, name in enumerate(df_subset['Protein Name'])]\n",
    "        trace = go.Scatter(\n",
    "            x=x_values,\n",
    "            y=df_subset['Resolution (A)'],\n",
    "            mode='markers',\n",
    "            name=f\"{category} ({method})\",\n",
    "            marker=dict(size=10, color=colors[category], symbol=symbols[method], line_width=2 if method==\"EM\" else 1, line_color='black'),\n",
    "            showlegend=False if method == 'AlphaFold' else True,\n",
    "            opacity=0 if method == 'AlphaFold' else 1,\n",
    "        )\n",
    "        resolution_traces.append(trace)\n",
    "\n",
    "# Create layout\n",
    "layout = go.Layout(\n",
    "    title=\"Analysis of Experimental Structure Quality for ADMET Targets\",\n",
    "    xaxis=dict(title='Protein Name (Uniprot ID)',\n",
    "               range=[-0.5, len(protein_name_mapping) + 0.5],\n",
    "               tickvals=list(protein_name_mapping.values()), \n",
    "               ticktext=protein_names),\n",
    "    yaxis=dict(title='Resolution(A)'),\n",
    "    template='simple_white',\n",
    "    width=1600,\n",
    "    height=600\n",
    ")\n",
    "\n",
    "# Create figure\n",
    "fig = go.Figure(data=resolution_traces, layout=layout)\n",
    "\n",
    "# Show plot\n",
    "fig.show()"
   ],
   "metadata": {
    "collapsed": false,
    "ExecuteTime": {
     "end_time": "2024-02-21T22:18:39.675040Z",
     "start_time": "2024-02-21T22:18:39.584468Z"
    }
   },
   "id": "74abbe1841059fa1",
   "execution_count": 269
  },
  {
   "cell_type": "code",
   "outputs": [],
   "source": [
    "fig.write_image(fig_dir / 'experimental_structure_analysis.png')\n",
    "fig.write_image(fig_dir / 'experimental_structure_analysis.svg')"
   ],
   "metadata": {
    "collapsed": false,
    "ExecuteTime": {
     "end_time": "2024-02-21T22:18:41.270262Z",
     "start_time": "2024-02-21T22:18:40.380417Z"
    }
   },
   "id": "973db30c96756fc3",
   "execution_count": 270
  },
  {
   "cell_type": "markdown",
   "source": [
    "# Make similar plot for coverage"
   ],
   "metadata": {
    "collapsed": false
   },
   "id": "6107ed8dbf4eeb2b"
  },
  {
   "cell_type": "code",
   "outputs": [
    {
     "data": {
      "application/vnd.plotly.v1+json": {
       "data": [
        {
         "marker": {
          "color": "#11efb7",
          "line": {
           "color": "black",
           "width": 1
          },
          "size": 10,
          "symbol": "diamond-tall"
         },
         "mode": "markers",
         "name": "absorption (X-ray)",
         "opacity": 1,
         "showlegend": true,
         "x": [
          -0.001390486763490767
         ],
         "y": [
          0.9054726368159204
         ],
         "type": "scatter"
        },
        {
         "marker": {
          "color": "#11efb7",
          "line": {
           "color": "black",
           "width": 1
          },
          "size": 10,
          "symbol": "circle-open"
         },
         "mode": "markers",
         "name": "absorption (AlphaFold)",
         "opacity": 0,
         "showlegend": false,
         "x": [
          0,
          1
         ],
         "y": [
          0.9054726368159204,
          0.9977011494252873
         ],
         "type": "scatter"
        },
        {
         "marker": {
          "color": "#11efb7",
          "line": {
           "color": "black",
           "width": 2
          },
          "size": 10,
          "symbol": "circle"
         },
         "mode": "markers",
         "name": "absorption (EM)",
         "opacity": 1,
         "showlegend": true,
         "x": [
          1.0897553998670273,
          0.9553812952403429
         ],
         "y": [
          0.9977011494252873,
          0.9977011494252873
         ],
         "type": "scatter"
        },
        {
         "marker": {
          "color": "#9553ff",
          "line": {
           "color": "black",
           "width": 1
          },
          "size": 10,
          "symbol": "diamond-tall"
         },
         "mode": "markers",
         "name": "drug_transporter (X-ray)",
         "opacity": 1,
         "showlegend": true,
         "x": [
          5.164702917449037,
          4.935901564393668
         ],
         "y": [
          0.1495754408883083,
          0.16525146962769433
         ],
         "type": "scatter"
        },
        {
         "marker": {
          "color": "#9553ff",
          "line": {
           "color": "black",
           "width": 1
          },
          "size": 10,
          "symbol": "circle-open"
         },
         "mode": "markers",
         "name": "drug_transporter (AlphaFold)",
         "opacity": 0,
         "showlegend": false,
         "x": [
          2,
          3,
          4,
          5,
          6,
          7,
          8,
          9,
          10,
          11
         ],
         "y": [
          0.9863739591218774,
          0.9979007633587788,
          0.9966406250000002,
          0.15741345525800132,
          0.998587570621469,
          null,
          null,
          null,
          0.9985528219971055,
          0.9985754985754985
         ],
         "type": "scatter"
        },
        {
         "marker": {
          "color": "#9553ff",
          "line": {
           "color": "black",
           "width": 2
          },
          "size": 10,
          "symbol": "circle"
         },
         "mode": "markers",
         "name": "drug_transporter (EM)",
         "opacity": 1,
         "showlegend": true,
         "x": [
          2.140612206448954,
          2.0621508741982355,
          2.09752322036071,
          2.9678202492968406,
          2.9284161256682566,
          3.1908856514864166,
          2.8042861420059166,
          3.1440426499735423,
          2.9559868824910587,
          2.821145728777659,
          3.0774918722832236,
          3.0281031784835286,
          3.0364638103721573,
          2.8271764178410743,
          3.1097181990722556,
          3.193304574791636,
          3.0485649985313485,
          3.114250707335755,
          3.0624852405413976,
          3.018609488899203,
          3.0737541586700186,
          3.064733989217848,
          2.927393366684694,
          3.05991256080337,
          3.0222517598228724,
          2.8663097705931704,
          2.870360810171314,
          3.9013975012953805,
          4.151587908300168,
          3.822549611423518,
          4.163638835096575,
          4.052776486011233,
          4.087862569958457,
          3.8899286069105026,
          3.976618825871089,
          3.810725556551539,
          3.8834967000306655,
          6.060671431619214,
          5.900029217507686,
          6.0645644318447305,
          10.02767507733631,
          9.988466191118127,
          10.121577489997955,
          9.985181554704816,
          9.820912917562017,
          10.173176005741128,
          11.091847817500502
         ],
         "y": [
          0.9992429977289932,
          0.9606358819076457,
          0.9992429977289932,
          0.9969465648854962,
          0.9969465648854962,
          0.9984732824427481,
          0.9984732824427481,
          0.9969465648854962,
          0.9984732824427481,
          0.9969465648854962,
          0.9984732824427481,
          0.9984732824427481,
          0.9984732824427481,
          0.9984732824427481,
          0.9984732824427481,
          0.9984732824427481,
          0.9984732824427481,
          0.9984732824427481,
          0.9984732824427481,
          0.9969465648854962,
          0.9969465648854962,
          0.9969465648854962,
          0.9969465648854962,
          0.9969465648854962,
          0.9984732824427481,
          0.9984732824427481,
          0.9984732824427481,
          0.99921875,
          0.97421875,
          0.9984375,
          0.99921875,
          0.99921875,
          0.99921875,
          0.99921875,
          0.99921875,
          0.99921875,
          0.99921875,
          0.998587570621469,
          0.998587570621469,
          0.998587570621469,
          0.9985528219971056,
          0.9985528219971056,
          0.9985528219971056,
          0.9985528219971056,
          0.9985528219971056,
          0.9985528219971056,
          0.9985754985754985
         ],
         "type": "scatter"
        },
        {
         "marker": {
          "color": "#ffb418",
          "line": {
           "color": "black",
           "width": 1
          },
          "size": 10,
          "symbol": "diamond-tall"
         },
         "mode": "markers",
         "name": "metabolism (X-ray)",
         "opacity": 1,
         "showlegend": true,
         "x": [
          11.868437400615221,
          12.847374697164884,
          12.837041754591363,
          13.112363903516975,
          13.05387014513245,
          12.906378296853962,
          12.80625760144277,
          12.843258965479407,
          12.81783808924862,
          12.824771714978699,
          13.126431577534515,
          13.032437226786703,
          12.802071921740119,
          13.028426227014963,
          13.064732458876321,
          12.967638039661459,
          13.086062438955148,
          13.186196506411319,
          13.084005736185562,
          13.023644126348962,
          12.88855017389812,
          12.844900071287102,
          12.852860707690215,
          12.844072176282147,
          12.807306881153854,
          12.957226701772008,
          12.959055454566386,
          13.138287673874833,
          12.80227520300669,
          12.844457798285898,
          13.088748137782598,
          12.900479764205379,
          13.188029160125554,
          12.818999042222503,
          12.804584882203164,
          13.08524651112565,
          13.018231225983266,
          13.168141484858081,
          13.007745506748345,
          12.992036532968278,
          13.947040313736618,
          13.981988565894689,
          13.90422112873362,
          13.984418291695945,
          14.040361458672036,
          13.930374746613198,
          13.948423062565357,
          13.871818237619571,
          13.981771503648773,
          14.119529292571283,
          13.947235578189018,
          14.13655831882884,
          14.064039913528648,
          13.937452859560592,
          13.811727276248146,
          14.195121679292924,
          14.088534181275321,
          14.163580599899813,
          14.104441895297146,
          13.85404455305023,
          14.022253235974317,
          13.995241168223657,
          13.998448512507014,
          13.81014116088161,
          13.843468397530511,
          13.855194331353049,
          14.120745464545958,
          13.84009791297861,
          13.946918996674604,
          13.871978347832385,
          14.050935358181047,
          13.813440286983495,
          14.071903643152377,
          13.860779241148485,
          14.075957923156697,
          14.117903841805697,
          14.166407078886019,
          14.145677016429282,
          14.010623159817058,
          14.164689560735667,
          14.140800992353158,
          13.84425741998474,
          13.819131285582664,
          13.917503646233154,
          14.041893484426673,
          14.121174521576204,
          13.82750987919728,
          14.119178656183855,
          13.866422288336677,
          14.004055398879869,
          14.07787629659608,
          14.08517096608017,
          14.025124351994673,
          15.080586229806123,
          14.949200136989022,
          15.944899854467879,
          15.99837625559862,
          16.180713991071915,
          15.992628728714042,
          16.030216759631426,
          15.964463050237653,
          16.057325376904743,
          15.98972736098343,
          15.864321232971154,
          16.137341481631875,
          16.079398636368282
         ],
         "y": [
          0.294811320754717,
          0.990990990990991,
          0.990990990990991,
          0.990990990990991,
          0.990990990990991,
          0.990990990990991,
          0.990990990990991,
          0.990990990990991,
          0.02252252252252252,
          0.9954954954954955,
          0.9954954954954955,
          0.9954954954954955,
          0.9954954954954955,
          0.990990990990991,
          0.990990990990991,
          0.9954954954954955,
          0.9954954954954955,
          0.9954954954954955,
          0.9954954954954955,
          0.9954954954954955,
          0.9954954954954955,
          0.990990990990991,
          0.9954954954954955,
          0.990990990990991,
          0.9954954954954955,
          0.9954954954954955,
          0.9954954954954955,
          0.972972972972973,
          0.990990990990991,
          0.2702702702702703,
          0.2072072072072072,
          0.990990990990991,
          0.990990990990991,
          0.990990990990991,
          0.990990990990991,
          0.9954954954954955,
          0.9954954954954955,
          0.9954954954954955,
          0.9954954954954955,
          0.9954954954954955,
          0.7004608294930875,
          0.7004608294930875,
          0.7004608294930875,
          0.7004608294930875,
          0.6935483870967742,
          0.6728110599078341,
          0.7004608294930875,
          0.7004608294930875,
          0.7004608294930875,
          0.7004608294930875,
          0.7004608294930875,
          0.7004608294930875,
          0.6658986175115207,
          0.7004608294930875,
          0.7004608294930875,
          0.7004608294930875,
          0.7004608294930875,
          0.7004608294930875,
          0.7004608294930875,
          0.695852534562212,
          0.7004608294930875,
          0.7004608294930875,
          0.6820276497695853,
          0.7004608294930875,
          0.7027649769585254,
          0.7004608294930875,
          0.7004608294930875,
          0.6820276497695853,
          0.7027649769585254,
          0.7004608294930875,
          0.7004608294930875,
          0.7004608294930875,
          0.7004608294930875,
          0.7004608294930875,
          0.7004608294930875,
          0.7004608294930875,
          0.7004608294930875,
          0.7004608294930875,
          0.7004608294930875,
          0.7004608294930875,
          0.7004608294930875,
          0.7004608294930875,
          0.7004608294930875,
          0.7004608294930875,
          0.684331797235023,
          0.684331797235023,
          0.684331797235023,
          0.684331797235023,
          0.7004608294930875,
          0.7004608294930875,
          0.7004608294930875,
          0.7004608294930875,
          0.7004608294930875,
          0.7073863636363636,
          0.7073863636363636,
          0.9966101694915255,
          0.9966101694915255,
          0.9966101694915255,
          0.9966101694915255,
          0.9966101694915255,
          0.9932203389830508,
          0.9966101694915255,
          0.9966101694915255,
          0.9966101694915255,
          0.9966101694915255,
          0.9966101694915255
         ],
         "type": "scatter"
        },
        {
         "marker": {
          "color": "#ffb418",
          "line": {
           "color": "black",
           "width": 1
          },
          "size": 10,
          "symbol": "circle-open"
         },
         "mode": "markers",
         "name": "metabolism (AlphaFold)",
         "opacity": 0,
         "showlegend": false,
         "x": [
          12,
          13,
          14,
          15,
          16
         ],
         "y": [
          0.40448113207547176,
          0.9293139293139294,
          0.6972437179375708,
          0.7073863636363636,
          0.9963020030816641
         ],
         "type": "scatter"
        },
        {
         "marker": {
          "color": "#ffb418",
          "line": {
           "color": "black",
           "width": 2
          },
          "size": 10,
          "symbol": "circle"
         },
         "mode": "markers",
         "name": "metabolism (EM)",
         "opacity": 1,
         "showlegend": true,
         "x": [
          12.080357403651933
         ],
         "y": [
          0.5141509433962265
         ],
         "type": "scatter"
        },
        {
         "marker": {
          "color": "#d07c09",
          "line": {
           "color": "black",
           "width": 1
          },
          "size": 10,
          "symbol": "diamond-tall"
         },
         "mode": "markers",
         "name": "metabolism_redox (X-ray)",
         "opacity": 1,
         "showlegend": true,
         "x": [
          16.94596805594322,
          16.871419718344786,
          17.81167171772931,
          17.98795891900713,
          17.919937682683717,
          17.80836146506146,
          18.18578693503905,
          17.991550213243613,
          17.977922543225773,
          17.861803450096996,
          18.090861920387777,
          18.018820865468463,
          17.980605411228368,
          17.986593920733217,
          17.89247011898645,
          17.917952854109238,
          17.849588852844906,
          18.1176432251613,
          18.124686188823258,
          18.869758105001747,
          19.090148487685383,
          18.895190254139706,
          19.071302380863145,
          20.122466073992364,
          19.86857747645398,
          20.051745291018342,
          19.952644126015187,
          20.03378371446875,
          20.11294884971016,
          19.966855825949697,
          20.014080791791628,
          19.863572469639344,
          19.98562949243334,
          20.0801374083214,
          20.075127835519684,
          19.99758180589956,
          20.067679609212608,
          20.19798104719738,
          20.16081840585791,
          20.093241356701267,
          20.001238356981876,
          20.06481524641707,
          20.068386148153987,
          19.972646303763767,
          20.174978991836127,
          20.19722878873114,
          19.88963190281203,
          19.951192321032316,
          20.16364033445308,
          19.85380288398592,
          20.0539756277134,
          19.840579256613545,
          20.14711093792602,
          20.032850661825215,
          19.930769133794698,
          19.956670311209574,
          20.173583687509453,
          20.065069731962247,
          20.09281442196703,
          20.168947009346702,
          20.034024663743903,
          20.04838364607527,
          19.82022662978766,
          19.81565422595618,
          20.04307836610332,
          20.060404159755752,
          19.92371054769349,
          19.982570996532598,
          20.060157215391673,
          20.126362099911606,
          20.01000315777936,
          20.082163504966452,
          20.083213221283014,
          19.902880111987688,
          20.0400646642882,
          20.968795329813002,
          20.955876840544317,
          20.994732485100723,
          20.985345081494234,
          20.945860646347363,
          20.85892853373498,
          22.181804643860172,
          23.04515555665776,
          23.892119532324315,
          23.882617594966728,
          23.986282333078936,
          24.16879517062778,
          24.075859297116843,
          23.825525795471567,
          23.800088255080546,
          24.02281278022949,
          23.837831024068347,
          23.87347527965852,
          23.815602945817133,
          23.974993047690283,
          24.088594771203688,
          25.182779515483208,
          24.96200713999625,
          25.09981364512676,
          24.892487856038965,
          24.938731355288144,
          25.07260302559695,
          24.9531162811143,
          25.038192376512598,
          25.15942784680262,
          24.80021562187909,
          25.012097705958045,
          25.01577989895895,
          24.853755912754533,
          25.832136104814566,
          26.9814874830767,
          26.936173490249246,
          27.032293290075195,
          26.98986430046445,
          26.87959175515701,
          26.84002725956167,
          27.118989408565877,
          27.071688804204488,
          27.087163124621878,
          26.863368166607273,
          26.929273521803925,
          27.173290126860593,
          26.85606344501313,
          27.082306550227056,
          28.179148491909643,
          28.021834374884815,
          27.875103817600582,
          27.880738922811332,
          27.812978807348276,
          27.855809823155266,
          28.18344044560827,
          27.873597657019182,
          28.010297927986375,
          27.830724340100485,
          28.060066446259352,
          27.913117405953532,
          28.053502735303383,
          27.84770877220925,
          27.92937293206514,
          28.05835173737859,
          27.835830561261957,
          28.146810743106002,
          28.170282026084717,
          28.140960194424256,
          27.856317570829468,
          28.099674759665778,
          27.937437711233773,
          28.160702437118264,
          28.12427780872159,
          28.04095522442482,
          27.90229289910212,
          28.062367043722936,
          28.11136970613917,
          27.944145794263395,
          28.07543285080405,
          27.98256221921281,
          27.923949752026964,
          28.13973957936265,
          27.88318601911816,
          28.185073765207644,
          28.099135360126184,
          27.902776318896812,
          27.94769518263982,
          27.81171667733339,
          28.09794979447005,
          28.167300072325133,
          27.916654627821195,
          27.929846946281906,
          27.872561058259535,
          27.911024910486056,
          27.852013383224314,
          27.933846835904443,
          27.958745456351632,
          28.060394485344155,
          28.002128373556793,
          28.180105179995255,
          27.843766069334034,
          28.07198370048892,
          27.926567729784956,
          28.184069190193348,
          27.842477581928833,
          27.924383728573485,
          28.18427433938252,
          28.03166984368697,
          28.12355512816919,
          28.03499505591948,
          27.91785084616247,
          27.961504090243142,
          28.11273397579053,
          28.098288778152842,
          28.068305266893024,
          28.19585175588516,
          28.07373583801519,
          27.80881264339077,
          28.10811179531818,
          28.105859674467027,
          28.070240919631317,
          28.153064200871313,
          27.8993685744879,
          27.882241313488795,
          28.11139778161246,
          27.946451578513056,
          29.0889065245902,
          28.97114431663579,
          29.080128885031424,
          28.920133224281813,
          28.834484334718212,
          28.932372837280532,
          28.89912197761064,
          29.144748848196155,
          29.169290860271847,
          28.865539943429866,
          28.924443218172975,
          29.097224070599495,
          28.976538302907148,
          29.021339494953875,
          28.987710929781212,
          28.95478859074897,
          29.11424031129152,
          29.137700461451065,
          29.051258675921506,
          29.009374348894166,
          29.15750386899838,
          28.985042339605275,
          29.06910872787385,
          29.143955067719247,
          29.06748070157982,
          29.059257502353468,
          29.133828526926848,
          29.008779105844397,
          29.081546395948692,
          29.036125983956396,
          28.857383134227106,
          29.118680196492907,
          28.984103150326742,
          29.142386656822737,
          28.977161609984375,
          29.047570190735822,
          28.8079003252734,
          28.972054769926974,
          28.800129409057238,
          28.88868237767256,
          30.94202643290451,
          31.091989114499523
         ],
         "y": [
          0.9946666666666667,
          0.9946666666666667,
          0.998003992015968,
          0.998003992015968,
          0.998003992015968,
          0.998003992015968,
          0.998003992015968,
          0.998003992015968,
          0.998003992015968,
          0.998003992015968,
          0.998003992015968,
          0.998003992015968,
          0.998003992015968,
          0.998003992015968,
          0.998003992015968,
          0.998003992015968,
          0.998003992015968,
          0.998003992015968,
          0.998003992015968,
          0.9981024667931688,
          0.9981024667931688,
          0.9715370018975332,
          0.9715370018975332,
          0.9961538461538462,
          0.9961538461538462,
          0.9961538461538462,
          0.9961538461538462,
          0.9961538461538462,
          0.9980769230769231,
          0.9980769230769231,
          0.9980769230769231,
          0.9980769230769231,
          0.9961538461538462,
          0.9961538461538462,
          0.9980769230769231,
          0.9961538461538462,
          0.9961538461538462,
          0.9961538461538462,
          0.9961538461538462,
          0.9961538461538462,
          0.9961538461538462,
          0.9961538461538462,
          0.9961538461538462,
          0.9961538461538462,
          0.9961538461538462,
          0.9961538461538462,
          0.9961538461538462,
          0.9961538461538462,
          0.9980769230769231,
          0.9980769230769231,
          0.9980769230769231,
          0.9980769230769231,
          0.9980769230769231,
          0.9980769230769231,
          0.9980769230769231,
          0.9980769230769231,
          0.9961538461538462,
          0.9980769230769231,
          0.9961538461538462,
          0.9980769230769231,
          0.9980769230769231,
          0.9980769230769231,
          0.9980769230769231,
          0.9980769230769231,
          0.9980769230769231,
          0.9980769230769231,
          0.9980769230769231,
          0.9980769230769231,
          0.9980769230769231,
          0.9961538461538462,
          0.9980769230769231,
          0.9980769230769231,
          0.9980769230769231,
          0.9980769230769231,
          0.9980769230769231,
          0.9992526158445441,
          0.9992526158445441,
          0.9992526158445441,
          0.9992526158445441,
          0.9992526158445441,
          0.9992526158445441,
          0.9758308157099698,
          0.9476744186046512,
          0.9389002036659878,
          0.945010183299389,
          0.945010183299389,
          0.945010183299389,
          0.945010183299389,
          0.945010183299389,
          0.945010183299389,
          0.9389002036659878,
          0.9592668024439919,
          0.9592668024439919,
          0.9592668024439919,
          0.9592668024439919,
          0.9592668024439919,
          0.9387755102040817,
          0.9387755102040817,
          0.963265306122449,
          0.9387755102040817,
          0.9510204081632653,
          0.9510204081632653,
          0.9510204081632653,
          0.9612244897959183,
          0.9612244897959183,
          0.9612244897959183,
          0.9408163265306122,
          0.9612244897959183,
          0.9510204081632653,
          0.9510204081632653,
          0.93158953722334,
          0.93158953722334,
          0.93158953722334,
          0.93158953722334,
          0.93158953722334,
          0.93158953722334,
          0.903420523138833,
          0.93158953722334,
          0.93158953722334,
          0.93158953722334,
          0.93158953722334,
          0.93158953722334,
          0.93158953722334,
          0.93158953722334,
          0.952286282306163,
          0.9502982107355865,
          0.9502982107355865,
          0.9502982107355865,
          0.9502982107355865,
          0.9502982107355865,
          0.9502982107355865,
          0.9542743538767395,
          0.9542743538767395,
          0.9542743538767395,
          0.9542743538767395,
          0.9542743538767395,
          0.9542743538767395,
          0.9542743538767395,
          0.9542743538767395,
          0.9542743538767395,
          0.9542743538767395,
          0.9542743538767395,
          0.9542743538767395,
          0.9542743538767395,
          0.9542743538767395,
          0.9502982107355865,
          0.9542743538767395,
          0.9542743538767395,
          0.9582504970178927,
          0.9542743538767395,
          0.9582504970178927,
          0.9582504970178927,
          0.9582504970178927,
          0.9582504970178927,
          0.9582504970178927,
          0.9582504970178927,
          0.9582504970178927,
          0.9582504970178927,
          0.9582504970178927,
          0.9582504970178927,
          0.9582504970178927,
          0.9582504970178927,
          0.9582504970178927,
          0.9582504970178927,
          0.9582504970178927,
          0.9582504970178927,
          0.9582504970178927,
          0.9582504970178927,
          0.9582504970178927,
          0.9582504970178927,
          0.9582504970178927,
          0.9582504970178927,
          0.9582504970178927,
          0.9582504970178927,
          0.9582504970178927,
          0.9582504970178927,
          0.9582504970178927,
          0.9582504970178927,
          0.9582504970178927,
          0.9542743538767395,
          0.9582504970178927,
          0.9582504970178927,
          0.9582504970178927,
          0.9582504970178927,
          0.9582504970178927,
          0.9582504970178927,
          0.9582504970178927,
          0.9582504970178927,
          0.9582504970178927,
          0.9582504970178927,
          0.9582504970178927,
          0.9582504970178927,
          0.9582504970178927,
          0.9582504970178927,
          0.9582504970178927,
          0.9582504970178927,
          0.9582504970178927,
          0.9582504970178927,
          0.9582504970178927,
          0.9582504970178927,
          0.9582504970178927,
          0.9582504970178927,
          0.9178082191780822,
          0.9178082191780822,
          0.8835616438356164,
          0.8938356164383562,
          0.9006849315068494,
          0.9143835616438356,
          0.9143835616438356,
          0.9178082191780822,
          0.9178082191780822,
          0.9178082191780822,
          0.9178082191780822,
          0.9178082191780822,
          0.9178082191780822,
          0.9143835616438356,
          0.9143835616438356,
          0.9178082191780822,
          0.9178082191780822,
          0.9178082191780822,
          0.9178082191780822,
          0.9178082191780822,
          0.9178082191780822,
          0.9178082191780822,
          0.9965753424657534,
          0.9965753424657534,
          0.9178082191780822,
          0.9178082191780822,
          0.9178082191780822,
          0.9178082191780822,
          0.9178082191780822,
          0.9178082191780822,
          0.9178082191780822,
          0.9178082191780822,
          0.9041095890410958,
          0.8835616438356164,
          0.9178082191780822,
          0.9178082191780822,
          0.9178082191780822,
          0.9178082191780822,
          0.9178082191780822,
          0.9178082191780822,
          0.9984996249062266,
          0.9992498124531133
         ],
         "type": "scatter"
        },
        {
         "marker": {
          "color": "#d07c09",
          "line": {
           "color": "black",
           "width": 1
          },
          "size": 10,
          "symbol": "circle-open"
         },
         "mode": "markers",
         "name": "metabolism_redox (AlphaFold)",
         "opacity": 0,
         "showlegend": false,
         "x": [
          17,
          18,
          19,
          20,
          21,
          22,
          23,
          24,
          25,
          26,
          27,
          28,
          29,
          30,
          31
         ],
         "y": [
          0.9946666666666667,
          0.9980039920159678,
          0.9848197343453511,
          0.9972263313609466,
          0.9992526158445438,
          0.9758308157099698,
          0.9476744186046512,
          0.9495535014883283,
          0.95149136577708,
          0.9510204081632653,
          0.9295774647887324,
          0.9565427945149612,
          0.9183219178082191,
          null,
          0.9988747186796699
         ],
         "type": "scatter"
        },
        {
         "marker": {
          "color": "#d07c09",
          "line": {
           "color": "black",
           "width": 2
          },
          "size": 10,
          "symbol": "circle"
         },
         "mode": "markers",
         "name": "metabolism_redox (EM)",
         "opacity": 1,
         "showlegend": true,
         "x": [
          17.844148826498188,
          18.164072558220173,
          17.93691404676156,
          20.893320057025168
         ],
         "y": [
          0.998003992015968,
          0.998003992015968,
          0.998003992015968,
          0.9992526158445441
         ],
         "type": "scatter"
        },
        {
         "marker": {
          "color": "#5e2bcb",
          "line": {
           "color": "black",
           "width": 1
          },
          "size": 10,
          "symbol": "diamond-tall"
         },
         "mode": "markers",
         "name": "toxicity (X-ray)",
         "opacity": 1,
         "showlegend": true,
         "x": [
          32.155894235680826,
          32.02111775607337,
          31.930775095052475,
          31.882587358630378,
          31.92129875902765,
          32.058188514441305,
          31.862334857708124,
          32.04777420373676,
          33.86808502324193,
          34.16014395828195,
          33.91432467902023,
          36.199933272323605,
          35.89051892686857,
          35.803035010391554,
          35.929480800946386,
          35.90034455036617,
          35.889591603144055,
          36.84243317887488,
          37.08139420385082,
          37.172917847232256,
          37.044642420226715,
          37.80233303181901,
          38.126595747710425,
          37.9067713460045,
          37.843221050376954,
          37.89391787845546,
          38.85528896328909,
          38.824862227845976,
          39.09657674893024,
          38.83253381383432,
          38.93301431651044,
          38.844959729342804,
          38.948022665549615,
          39.0144725405813,
          41.909298269491195,
          41.84509629060832,
          42.85084935502192,
          42.863773500989794,
          42.822599865236796,
          42.90822452879868,
          43.91765074026406,
          43.88613922838348,
          44.16257189401603,
          43.82977660700172,
          43.935054102038904,
          44.102455382435295,
          44.19847793053233,
          43.96482910608868,
          43.947026626927546,
          44.035198594978304,
          43.99386921259666,
          43.89901924228046,
          44.01001879356559,
          44.012940794725296,
          43.815866242138526,
          43.824836271388754,
          44.19595788594573,
          43.97101367876251,
          43.992494068443165,
          43.876455487336266,
          44.044847801779454,
          44.16002996249031,
          44.02301672597752,
          43.94814976688052,
          43.82692061611605,
          44.16581461971838,
          43.827930054663426,
          43.94876025630157,
          44.04519731743824,
          43.94465176213619,
          44.04327833777294,
          44.15352821327109,
          43.90133885084441,
          44.19845580895648,
          44.13501799703317,
          44.09028075834871,
          44.91796905015211,
          45.18647689335847,
          46.08229822470025,
          45.99463233332423,
          45.97442890979051,
          46.08372199752444,
          45.83590693614281,
          45.83679676581375,
          46.09124879681715,
          46.087325348544326,
          46.061820429694514,
          45.83120446859699,
          46.09306078823141,
          45.99087789711024,
          45.822535858301805,
          45.8689291646464,
          45.915465868142135,
          48.11305805870526,
          48.01014086315492,
          47.92875202284815,
          47.83659007374786,
          47.94684655022509,
          48.079088994749206,
          47.818631360669144,
          48.81331818981178,
          48.88971104149662,
          50.06099571986179,
          49.811615922474175,
          50.85650054948905,
          51.894761737976474,
          52.04521563243119,
          52.10429689790619,
          51.967513843630606,
          55.121738009132976,
          55.12861594953641,
          55.12269523481,
          55.11689984570258,
          55.19810812917561,
          55.15917443054264,
          55.15788091330343,
          55.1798195552244,
          54.98223586955098,
          54.98364950099477,
          55.056257524228336,
          55.16903637570286,
          56.083538263726666,
          55.95476777170152,
          56.19798561197579,
          55.9837272227847,
          55.99043625036028,
          55.92193935509501
         ],
         "y": [
          0.31496881496881496,
          0.31496881496881496,
          0.31496881496881496,
          0.30561330561330563,
          0.31392931392931395,
          0.31496881496881496,
          0.31496881496881496,
          0.31392931392931395,
          0.0297029702970297,
          0.0297029702970297,
          0.0297029702970297,
          0.4063745019920319,
          0.4063745019920319,
          0.4063745019920319,
          0.4063745019920319,
          0.4063745019920319,
          0.4063745019920319,
          0.4405010438413361,
          0.4405010438413361,
          0.4405010438413361,
          0.4405010438413361,
          0.34891304347826085,
          0.34891304347826085,
          0.29891304347826086,
          0.29891304347826086,
          0.29891304347826086,
          0.3272532188841202,
          0.9978540772532188,
          0.9978540772532188,
          0.9785407725321889,
          0.9785407725321889,
          0.9785407725321889,
          0.9785407725321889,
          0.9785407725321889,
          0.9139784946236559,
          0.9139784946236559,
          0.7232704402515723,
          0.7232704402515723,
          0.7232704402515723,
          0.7232704402515723,
          0.009685230024213076,
          0.8813559322033898,
          0.8256658595641646,
          0.400726392251816,
          0.3801452784503632,
          0.8789346246973365,
          0.3801452784503632,
          0.3801452784503632,
          0.3801452784503632,
          0.400726392251816,
          0.3498789346246973,
          0.8135593220338984,
          0.8135593220338984,
          0.7723970944309927,
          0.7723970944309927,
          0.7723970944309927,
          0.7723970944309927,
          0.400726392251816,
          0.400726392251816,
          0.3910411622276029,
          0.7699757869249395,
          0.39951573849878935,
          0.39709443099273606,
          0.8135593220338984,
          0.7723970944309927,
          0.39951573849878935,
          0.3789346246973366,
          0.3789346246973366,
          0.3789346246973366,
          0.3789346246973366,
          0.3789346246973366,
          0.3789346246973366,
          0.3789346246973366,
          0.3789346246973366,
          0.7723970944309927,
          0.7723970944309927,
          0.9028697571743929,
          0.9161147902869757,
          0.00765420981539847,
          0.014858171994597028,
          0.009004952723998198,
          0.009004952723998198,
          0.03286807744259343,
          0.034218820351193155,
          0.00810445745159838,
          0.00810445745159838,
          0.014858171994597028,
          0.014858171994597028,
          0.014858171994597028,
          0.014858171994597028,
          0.014858171994597028,
          0.014858171994597028,
          0.014858171994597028,
          0.3061440677966102,
          0.3167372881355932,
          0.3061440677966102,
          0.3061440677966102,
          0.3029661016949153,
          0.3305084745762712,
          0.298728813559322,
          0.4041666666666667,
          0.4041666666666667,
          0.13157894736842105,
          0.13157894736842105,
          0.29055441478439425,
          0.09404659188955997,
          0.10785159620362382,
          0.11561691113028473,
          0.11216566005176877,
          0.8603174603174604,
          0.8603174603174604,
          0.8603174603174604,
          0.8603174603174604,
          0.8603174603174604,
          0.8603174603174604,
          0.8603174603174604,
          0.8603174603174604,
          0.8603174603174604,
          0.8603174603174604,
          0.8603174603174604,
          0.8603174603174604,
          0.08283730158730158,
          0.015376984126984126,
          0.08283730158730158,
          0.07738095238095238,
          0.022817460317460316,
          0.06746031746031746
         ],
         "type": "scatter"
        },
        {
         "marker": {
          "color": "#5e2bcb",
          "line": {
           "color": "black",
           "width": 1
          },
          "size": 10,
          "symbol": "circle-open"
         },
         "mode": "markers",
         "name": "toxicity (AlphaFold)",
         "opacity": 0,
         "showlegend": false,
         "x": [
          32,
          33,
          34,
          35,
          36,
          37,
          38,
          39,
          40,
          41,
          42,
          43,
          44,
          45,
          46,
          47,
          48,
          49,
          50,
          51,
          52,
          53,
          54,
          55,
          56
         ],
         "y": [
          0.4484029484029484,
          null,
          0.18297029702970297,
          null,
          0.5399578157956411,
          0.4405010438413361,
          0.4317028985507246,
          0.7574340895156348,
          0.9220338983050848,
          0.7188841201716738,
          0.8700119474313023,
          0.7232704402515723,
          0.5635881471232561,
          0.9094922737306843,
          0.09931933151468601,
          0.9983277591973245,
          0.5373651771956857,
          0.842013888888889,
          0.5310798548094374,
          0.6442505133470227,
          0.4895846172809072,
          null,
          null,
          0.8725455614344504,
          0.29346478174603174
         ],
         "type": "scatter"
        },
        {
         "marker": {
          "color": "#5e2bcb",
          "line": {
           "color": "black",
           "width": 2
          },
          "size": 10,
          "symbol": "circle"
         },
         "mode": "markers",
         "name": "toxicity (EM)",
         "opacity": 1,
         "showlegend": true,
         "x": [
          32.057731588509355,
          32.09522768306981,
          32.04161120918415,
          34.11251105622382,
          33.847901332805904,
          36.04767496435236,
          36.056285226977444,
          36.042577470519745,
          35.8770119252825,
          35.951021421863395,
          35.95028646485094,
          36.06766463998397,
          35.93823268368342,
          35.903222661482936,
          35.98176192292894,
          36.072186641996595,
          38.01611535322944,
          39.018821640747014,
          39.170421675355094,
          39.07559832895004,
          39.09867344888373,
          38.82675751471776,
          39.17539610202553,
          39.80777012304463,
          40.06656665787748,
          39.867935660233975,
          40.05877475271417,
          40.944178394049835,
          41.15582925035972,
          41.8386368861669,
          41.80265627530286,
          41.987874782866484,
          42.02794392430371,
          41.90601634586514,
          41.86958664152423,
          41.83073867677068,
          44.0335911696742,
          43.88056283264554,
          43.92135628869232,
          43.894475100060774,
          44.12616475789697,
          44.01667339979349,
          45.96389681738439,
          46.08231875732469,
          47.105671594870216,
          46.99233460254985,
          47.10756849195983,
          47.12909039336868,
          47.18933313091298,
          48.107663585200804,
          47.907071023876384,
          47.83106223062786,
          48.0824412595863,
          48.81132110034542,
          48.978510963969704,
          49.15368194000266,
          49.03965696288049,
          48.882403765546805,
          49.13886611510586,
          50.1212717103565,
          49.936845345226835,
          49.87088434285458,
          49.89264849989051,
          50.04143785943457,
          50.091253600486674,
          49.825694894332635,
          50.17015994195277,
          50.07270566300953,
          49.99016655583514,
          49.98698504908001,
          50.10096997997846,
          49.967754956441716,
          50.06632103580983,
          49.989871489350364,
          49.84040010067989,
          49.88304307416559,
          49.96623735177019,
          50.14453120139504,
          50.089308131453954,
          50.05437757074004,
          50.09055567962275,
          50.00258162076378,
          49.809475960096904,
          49.89414426028773,
          50.11812996135864,
          50.15799053147977,
          50.89518737078887,
          51.89255384331611,
          51.940031387760264,
          51.91430252614186,
          55.03431502769735,
          55.109487335097576,
          54.96436334060568,
          54.8542443871749,
          55.03569400766417,
          54.92410056275504,
          54.995897052597904,
          55.129914092445475,
          54.93122155169329,
          55.02351104915688,
          55.00040215623361,
          54.96467075471343,
          55.17835946081235,
          55.08973433461724,
          55.05121082230821,
          55.93060583130794,
          56.15042950769018
         ],
         "y": [
          0.7671517671517671,
          0.7671517671517671,
          0.8898128898128899,
          0.41287128712871285,
          0.41287128712871285,
          0.99800796812749,
          0.99800796812749,
          0.99800796812749,
          0.4402390438247012,
          0.4402390438247012,
          0.4402390438247012,
          0.36852589641434264,
          0.952191235059761,
          0.36852589641434264,
          0.36852589641434264,
          0.36852589641434264,
          0.9956521739130435,
          0.9935622317596566,
          0.9957081545064378,
          0.3497854077253219,
          0.3497854077253219,
          0.3497854077253219,
          0.3497854077253219,
          0.9220338983050848,
          0.9220338983050848,
          0.9220338983050848,
          0.9220338983050848,
          0.7188841201716738,
          0.7188841201716738,
          0.015053763440860216,
          0.9978494623655914,
          0.9978494623655914,
          0.9978494623655914,
          0.9978494623655914,
          0.9978494623655914,
          0.9978494623655914,
          0.7554479418886199,
          0.8401937046004843,
          0.8401937046004843,
          0.8401937046004843,
          0.3365617433414044,
          0.7530266343825666,
          0.6974335884736605,
          0.7631697433588474,
          0.9983277591973244,
          0.9983277591973244,
          0.9983277591973244,
          0.9983277591973244,
          0.9983277591973244,
          0.75,
          0.9978813559322034,
          0.9978813559322034,
          0.9978813559322034,
          0.9972222222222222,
          0.9972222222222222,
          0.9972222222222222,
          0.9972222222222222,
          0.9972222222222222,
          0.9416666666666667,
          0.3826754385964912,
          0.3826754385964912,
          0.9385964912280702,
          0.9978070175438597,
          0.9978070175438597,
          0.9978070175438597,
          0.9978070175438597,
          0.9978070175438597,
          0.3826754385964912,
          0.3815789473684211,
          0.3815789473684211,
          0.3826754385964912,
          0.3826754385964912,
          0.3826754385964912,
          0.3826754385964912,
          0.3826754385964912,
          0.3782894736842105,
          0.3782894736842105,
          0.3782894736842105,
          0.9978070175438597,
          0.3706140350877193,
          0.3706140350877193,
          0.6820175438596491,
          0.6820175438596491,
          0.3826754385964912,
          0.3826754385964912,
          0.3826754385964912,
          0.997946611909651,
          0.999137187230371,
          0.999137187230371,
          0.999137187230371,
          0.8507936507936508,
          0.8507936507936508,
          0.8507936507936508,
          0.8555555555555555,
          0.9984126984126984,
          0.9984126984126984,
          0.9984126984126984,
          0.8539682539682539,
          0.8507936507936508,
          0.8539682539682539,
          0.8539682539682539,
          0.8539682539682539,
          0.8571428571428571,
          0.8507936507936508,
          0.8571428571428571,
          0.9995039682539683,
          0.9995039682539683
         ],
         "type": "scatter"
        }
       ],
       "layout": {
        "height": 600,
        "template": {
         "data": {
          "barpolar": [
           {
            "marker": {
             "line": {
              "color": "white",
              "width": 0.5
             },
             "pattern": {
              "fillmode": "overlay",
              "size": 10,
              "solidity": 0.2
             }
            },
            "type": "barpolar"
           }
          ],
          "bar": [
           {
            "error_x": {
             "color": "rgb(36,36,36)"
            },
            "error_y": {
             "color": "rgb(36,36,36)"
            },
            "marker": {
             "line": {
              "color": "white",
              "width": 0.5
             },
             "pattern": {
              "fillmode": "overlay",
              "size": 10,
              "solidity": 0.2
             }
            },
            "type": "bar"
           }
          ],
          "carpet": [
           {
            "aaxis": {
             "endlinecolor": "rgb(36,36,36)",
             "gridcolor": "white",
             "linecolor": "white",
             "minorgridcolor": "white",
             "startlinecolor": "rgb(36,36,36)"
            },
            "baxis": {
             "endlinecolor": "rgb(36,36,36)",
             "gridcolor": "white",
             "linecolor": "white",
             "minorgridcolor": "white",
             "startlinecolor": "rgb(36,36,36)"
            },
            "type": "carpet"
           }
          ],
          "choropleth": [
           {
            "colorbar": {
             "outlinewidth": 1,
             "tickcolor": "rgb(36,36,36)",
             "ticks": "outside"
            },
            "type": "choropleth"
           }
          ],
          "contourcarpet": [
           {
            "colorbar": {
             "outlinewidth": 1,
             "tickcolor": "rgb(36,36,36)",
             "ticks": "outside"
            },
            "type": "contourcarpet"
           }
          ],
          "contour": [
           {
            "colorbar": {
             "outlinewidth": 1,
             "tickcolor": "rgb(36,36,36)",
             "ticks": "outside"
            },
            "colorscale": [
             [
              0.0,
              "#440154"
             ],
             [
              0.1111111111111111,
              "#482878"
             ],
             [
              0.2222222222222222,
              "#3e4989"
             ],
             [
              0.3333333333333333,
              "#31688e"
             ],
             [
              0.4444444444444444,
              "#26828e"
             ],
             [
              0.5555555555555556,
              "#1f9e89"
             ],
             [
              0.6666666666666666,
              "#35b779"
             ],
             [
              0.7777777777777778,
              "#6ece58"
             ],
             [
              0.8888888888888888,
              "#b5de2b"
             ],
             [
              1.0,
              "#fde725"
             ]
            ],
            "type": "contour"
           }
          ],
          "heatmapgl": [
           {
            "colorbar": {
             "outlinewidth": 1,
             "tickcolor": "rgb(36,36,36)",
             "ticks": "outside"
            },
            "colorscale": [
             [
              0.0,
              "#440154"
             ],
             [
              0.1111111111111111,
              "#482878"
             ],
             [
              0.2222222222222222,
              "#3e4989"
             ],
             [
              0.3333333333333333,
              "#31688e"
             ],
             [
              0.4444444444444444,
              "#26828e"
             ],
             [
              0.5555555555555556,
              "#1f9e89"
             ],
             [
              0.6666666666666666,
              "#35b779"
             ],
             [
              0.7777777777777778,
              "#6ece58"
             ],
             [
              0.8888888888888888,
              "#b5de2b"
             ],
             [
              1.0,
              "#fde725"
             ]
            ],
            "type": "heatmapgl"
           }
          ],
          "heatmap": [
           {
            "colorbar": {
             "outlinewidth": 1,
             "tickcolor": "rgb(36,36,36)",
             "ticks": "outside"
            },
            "colorscale": [
             [
              0.0,
              "#440154"
             ],
             [
              0.1111111111111111,
              "#482878"
             ],
             [
              0.2222222222222222,
              "#3e4989"
             ],
             [
              0.3333333333333333,
              "#31688e"
             ],
             [
              0.4444444444444444,
              "#26828e"
             ],
             [
              0.5555555555555556,
              "#1f9e89"
             ],
             [
              0.6666666666666666,
              "#35b779"
             ],
             [
              0.7777777777777778,
              "#6ece58"
             ],
             [
              0.8888888888888888,
              "#b5de2b"
             ],
             [
              1.0,
              "#fde725"
             ]
            ],
            "type": "heatmap"
           }
          ],
          "histogram2dcontour": [
           {
            "colorbar": {
             "outlinewidth": 1,
             "tickcolor": "rgb(36,36,36)",
             "ticks": "outside"
            },
            "colorscale": [
             [
              0.0,
              "#440154"
             ],
             [
              0.1111111111111111,
              "#482878"
             ],
             [
              0.2222222222222222,
              "#3e4989"
             ],
             [
              0.3333333333333333,
              "#31688e"
             ],
             [
              0.4444444444444444,
              "#26828e"
             ],
             [
              0.5555555555555556,
              "#1f9e89"
             ],
             [
              0.6666666666666666,
              "#35b779"
             ],
             [
              0.7777777777777778,
              "#6ece58"
             ],
             [
              0.8888888888888888,
              "#b5de2b"
             ],
             [
              1.0,
              "#fde725"
             ]
            ],
            "type": "histogram2dcontour"
           }
          ],
          "histogram2d": [
           {
            "colorbar": {
             "outlinewidth": 1,
             "tickcolor": "rgb(36,36,36)",
             "ticks": "outside"
            },
            "colorscale": [
             [
              0.0,
              "#440154"
             ],
             [
              0.1111111111111111,
              "#482878"
             ],
             [
              0.2222222222222222,
              "#3e4989"
             ],
             [
              0.3333333333333333,
              "#31688e"
             ],
             [
              0.4444444444444444,
              "#26828e"
             ],
             [
              0.5555555555555556,
              "#1f9e89"
             ],
             [
              0.6666666666666666,
              "#35b779"
             ],
             [
              0.7777777777777778,
              "#6ece58"
             ],
             [
              0.8888888888888888,
              "#b5de2b"
             ],
             [
              1.0,
              "#fde725"
             ]
            ],
            "type": "histogram2d"
           }
          ],
          "histogram": [
           {
            "marker": {
             "line": {
              "color": "white",
              "width": 0.6
             }
            },
            "type": "histogram"
           }
          ],
          "mesh3d": [
           {
            "colorbar": {
             "outlinewidth": 1,
             "tickcolor": "rgb(36,36,36)",
             "ticks": "outside"
            },
            "type": "mesh3d"
           }
          ],
          "parcoords": [
           {
            "line": {
             "colorbar": {
              "outlinewidth": 1,
              "tickcolor": "rgb(36,36,36)",
              "ticks": "outside"
             }
            },
            "type": "parcoords"
           }
          ],
          "pie": [
           {
            "automargin": true,
            "type": "pie"
           }
          ],
          "scatter3d": [
           {
            "line": {
             "colorbar": {
              "outlinewidth": 1,
              "tickcolor": "rgb(36,36,36)",
              "ticks": "outside"
             }
            },
            "marker": {
             "colorbar": {
              "outlinewidth": 1,
              "tickcolor": "rgb(36,36,36)",
              "ticks": "outside"
             }
            },
            "type": "scatter3d"
           }
          ],
          "scattercarpet": [
           {
            "marker": {
             "colorbar": {
              "outlinewidth": 1,
              "tickcolor": "rgb(36,36,36)",
              "ticks": "outside"
             }
            },
            "type": "scattercarpet"
           }
          ],
          "scattergeo": [
           {
            "marker": {
             "colorbar": {
              "outlinewidth": 1,
              "tickcolor": "rgb(36,36,36)",
              "ticks": "outside"
             }
            },
            "type": "scattergeo"
           }
          ],
          "scattergl": [
           {
            "marker": {
             "colorbar": {
              "outlinewidth": 1,
              "tickcolor": "rgb(36,36,36)",
              "ticks": "outside"
             }
            },
            "type": "scattergl"
           }
          ],
          "scattermapbox": [
           {
            "marker": {
             "colorbar": {
              "outlinewidth": 1,
              "tickcolor": "rgb(36,36,36)",
              "ticks": "outside"
             }
            },
            "type": "scattermapbox"
           }
          ],
          "scatterpolargl": [
           {
            "marker": {
             "colorbar": {
              "outlinewidth": 1,
              "tickcolor": "rgb(36,36,36)",
              "ticks": "outside"
             }
            },
            "type": "scatterpolargl"
           }
          ],
          "scatterpolar": [
           {
            "marker": {
             "colorbar": {
              "outlinewidth": 1,
              "tickcolor": "rgb(36,36,36)",
              "ticks": "outside"
             }
            },
            "type": "scatterpolar"
           }
          ],
          "scatter": [
           {
            "fillpattern": {
             "fillmode": "overlay",
             "size": 10,
             "solidity": 0.2
            },
            "type": "scatter"
           }
          ],
          "scatterternary": [
           {
            "marker": {
             "colorbar": {
              "outlinewidth": 1,
              "tickcolor": "rgb(36,36,36)",
              "ticks": "outside"
             }
            },
            "type": "scatterternary"
           }
          ],
          "surface": [
           {
            "colorbar": {
             "outlinewidth": 1,
             "tickcolor": "rgb(36,36,36)",
             "ticks": "outside"
            },
            "colorscale": [
             [
              0.0,
              "#440154"
             ],
             [
              0.1111111111111111,
              "#482878"
             ],
             [
              0.2222222222222222,
              "#3e4989"
             ],
             [
              0.3333333333333333,
              "#31688e"
             ],
             [
              0.4444444444444444,
              "#26828e"
             ],
             [
              0.5555555555555556,
              "#1f9e89"
             ],
             [
              0.6666666666666666,
              "#35b779"
             ],
             [
              0.7777777777777778,
              "#6ece58"
             ],
             [
              0.8888888888888888,
              "#b5de2b"
             ],
             [
              1.0,
              "#fde725"
             ]
            ],
            "type": "surface"
           }
          ],
          "table": [
           {
            "cells": {
             "fill": {
              "color": "rgb(237,237,237)"
             },
             "line": {
              "color": "white"
             }
            },
            "header": {
             "fill": {
              "color": "rgb(217,217,217)"
             },
             "line": {
              "color": "white"
             }
            },
            "type": "table"
           }
          ]
         },
         "layout": {
          "annotationdefaults": {
           "arrowhead": 0,
           "arrowwidth": 1
          },
          "autotypenumbers": "strict",
          "coloraxis": {
           "colorbar": {
            "outlinewidth": 1,
            "tickcolor": "rgb(36,36,36)",
            "ticks": "outside"
           }
          },
          "colorscale": {
           "diverging": [
            [
             0.0,
             "rgb(103,0,31)"
            ],
            [
             0.1,
             "rgb(178,24,43)"
            ],
            [
             0.2,
             "rgb(214,96,77)"
            ],
            [
             0.3,
             "rgb(244,165,130)"
            ],
            [
             0.4,
             "rgb(253,219,199)"
            ],
            [
             0.5,
             "rgb(247,247,247)"
            ],
            [
             0.6,
             "rgb(209,229,240)"
            ],
            [
             0.7,
             "rgb(146,197,222)"
            ],
            [
             0.8,
             "rgb(67,147,195)"
            ],
            [
             0.9,
             "rgb(33,102,172)"
            ],
            [
             1.0,
             "rgb(5,48,97)"
            ]
           ],
           "sequential": [
            [
             0.0,
             "#440154"
            ],
            [
             0.1111111111111111,
             "#482878"
            ],
            [
             0.2222222222222222,
             "#3e4989"
            ],
            [
             0.3333333333333333,
             "#31688e"
            ],
            [
             0.4444444444444444,
             "#26828e"
            ],
            [
             0.5555555555555556,
             "#1f9e89"
            ],
            [
             0.6666666666666666,
             "#35b779"
            ],
            [
             0.7777777777777778,
             "#6ece58"
            ],
            [
             0.8888888888888888,
             "#b5de2b"
            ],
            [
             1.0,
             "#fde725"
            ]
           ],
           "sequentialminus": [
            [
             0.0,
             "#440154"
            ],
            [
             0.1111111111111111,
             "#482878"
            ],
            [
             0.2222222222222222,
             "#3e4989"
            ],
            [
             0.3333333333333333,
             "#31688e"
            ],
            [
             0.4444444444444444,
             "#26828e"
            ],
            [
             0.5555555555555556,
             "#1f9e89"
            ],
            [
             0.6666666666666666,
             "#35b779"
            ],
            [
             0.7777777777777778,
             "#6ece58"
            ],
            [
             0.8888888888888888,
             "#b5de2b"
            ],
            [
             1.0,
             "#fde725"
            ]
           ]
          },
          "colorway": [
           "#1F77B4",
           "#FF7F0E",
           "#2CA02C",
           "#D62728",
           "#9467BD",
           "#8C564B",
           "#E377C2",
           "#7F7F7F",
           "#BCBD22",
           "#17BECF"
          ],
          "font": {
           "color": "rgb(36,36,36)"
          },
          "geo": {
           "bgcolor": "white",
           "lakecolor": "white",
           "landcolor": "white",
           "showlakes": true,
           "showland": true,
           "subunitcolor": "white"
          },
          "hoverlabel": {
           "align": "left"
          },
          "hovermode": "closest",
          "mapbox": {
           "style": "light"
          },
          "paper_bgcolor": "white",
          "plot_bgcolor": "white",
          "polar": {
           "angularaxis": {
            "gridcolor": "rgb(232,232,232)",
            "linecolor": "rgb(36,36,36)",
            "showgrid": false,
            "showline": true,
            "ticks": "outside"
           },
           "bgcolor": "white",
           "radialaxis": {
            "gridcolor": "rgb(232,232,232)",
            "linecolor": "rgb(36,36,36)",
            "showgrid": false,
            "showline": true,
            "ticks": "outside"
           }
          },
          "scene": {
           "xaxis": {
            "backgroundcolor": "white",
            "gridcolor": "rgb(232,232,232)",
            "gridwidth": 2,
            "linecolor": "rgb(36,36,36)",
            "showbackground": true,
            "showgrid": false,
            "showline": true,
            "ticks": "outside",
            "zeroline": false,
            "zerolinecolor": "rgb(36,36,36)"
           },
           "yaxis": {
            "backgroundcolor": "white",
            "gridcolor": "rgb(232,232,232)",
            "gridwidth": 2,
            "linecolor": "rgb(36,36,36)",
            "showbackground": true,
            "showgrid": false,
            "showline": true,
            "ticks": "outside",
            "zeroline": false,
            "zerolinecolor": "rgb(36,36,36)"
           },
           "zaxis": {
            "backgroundcolor": "white",
            "gridcolor": "rgb(232,232,232)",
            "gridwidth": 2,
            "linecolor": "rgb(36,36,36)",
            "showbackground": true,
            "showgrid": false,
            "showline": true,
            "ticks": "outside",
            "zeroline": false,
            "zerolinecolor": "rgb(36,36,36)"
           }
          },
          "shapedefaults": {
           "fillcolor": "black",
           "line": {
            "width": 0
           },
           "opacity": 0.3
          },
          "ternary": {
           "aaxis": {
            "gridcolor": "rgb(232,232,232)",
            "linecolor": "rgb(36,36,36)",
            "showgrid": false,
            "showline": true,
            "ticks": "outside"
           },
           "baxis": {
            "gridcolor": "rgb(232,232,232)",
            "linecolor": "rgb(36,36,36)",
            "showgrid": false,
            "showline": true,
            "ticks": "outside"
           },
           "bgcolor": "white",
           "caxis": {
            "gridcolor": "rgb(232,232,232)",
            "linecolor": "rgb(36,36,36)",
            "showgrid": false,
            "showline": true,
            "ticks": "outside"
           }
          },
          "title": {
           "x": 0.05
          },
          "xaxis": {
           "automargin": true,
           "gridcolor": "rgb(232,232,232)",
           "linecolor": "rgb(36,36,36)",
           "showgrid": false,
           "showline": true,
           "ticks": "outside",
           "title": {
            "standoff": 15
           },
           "zeroline": false,
           "zerolinecolor": "rgb(36,36,36)"
          },
          "yaxis": {
           "automargin": true,
           "gridcolor": "rgb(232,232,232)",
           "linecolor": "rgb(36,36,36)",
           "showgrid": false,
           "showline": true,
           "ticks": "outside",
           "title": {
            "standoff": 15
           },
           "zeroline": false,
           "zerolinecolor": "rgb(36,36,36)"
          }
         }
        },
        "title": {
         "text": "Analysis of Experimental Structure Quality for ADMET Targets"
        },
        "width": 1600,
        "xaxis": {
         "range": [
          -0.5,
          57.5
         ],
         "ticktext": [
          "A1AG1 (P02763)",
          "OXA1L (Q15070)",
          "ABCBB (O95342)",
          "ABCG2 (Q9UNQ0)",
          "MDR1 (P08183)",
          "MRP1 (P33527)",
          "S15A1 (P46059)",
          "S22A6 (Q4U2R8)",
          "S22A8 (Q8TCC7)",
          "S47A1 (Q96FL8)",
          "SO1B1 (Q9Y6L6)",
          "SO1B3 (Q9NPD5)",
          "AHR (P35869)",
          "GSTA1 (P08263)",
          "NR1I2 (O75469)",
          "NR1I3 (Q14994)",
          "ST1A1 (P50225)",
          "ADH1A (P07327)",
          "AL1A1 (P00352)",
          "AOFA (P21397)",
          "AOFB (P27338)",
          "AOXA (Q06278)",
          "ARK73 (O95154)",
          "CP1A2 (P05177)",
          "CP2B6 (P20813)",
          "CP2C9 (P11712)",
          "CP2CJ (P33261)",
          "CP2D6 (P10635)",
          "CP3A4 (P08684)",
          "DHI1 (P28845)",
          "FMO1 (Q01740)",
          "XDH (P47989)",
          "5HT2B (P41595)",
          "ACH10 (Q9GZZ6)",
          "ACHA3 (P32297)",
          "ACHA5 (P30532)",
          "ACHA7 (P36544)",
          "ACHA9 (Q9UGM1)",
          "ACM1 (P11229)",
          "ACM2 (P08172)",
          "ACM3 (P20309)",
          "ADA1A (P35348)",
          "ADA2A (P08913)",
          "ADRB1 (P08588)",
          "ADRB2 (P07550)",
          "ASM3A (Q92484)",
          "CAC1C (Q13936)",
          "CACB1 (Q02641)",
          "CNR1 (P21554)",
          "CNR2 (P34972)",
          "GBRA1 (P14867)",
          "HRH1 (P35367)",
          "KCNH2 (Q12809)",
          "SC6A2 (P23975)",
          "SC6A3 (Q01959)",
          "SC6A4 (P31645)",
          "SCN5A (Q14524)"
         ],
         "tickvals": [
          0,
          1,
          2,
          3,
          4,
          5,
          6,
          7,
          8,
          9,
          10,
          11,
          12,
          13,
          14,
          15,
          16,
          17,
          18,
          19,
          20,
          21,
          22,
          23,
          24,
          25,
          26,
          27,
          28,
          29,
          30,
          31,
          32,
          33,
          34,
          35,
          36,
          37,
          38,
          39,
          40,
          41,
          42,
          43,
          44,
          45,
          46,
          47,
          48,
          49,
          50,
          51,
          52,
          53,
          54,
          55,
          56
         ],
         "title": {
          "text": "Protein Name (Uniprot ID)"
         }
        },
        "yaxis": {
         "title": {
          "text": "Sequence Coverage"
         }
        }
       },
       "config": {
        "plotlyServerURL": "https://plot.ly"
       }
      },
      "text/html": "<div>                            <div id=\"67217dc7-3061-420c-af5d-07b4e3e26717\" class=\"plotly-graph-div\" style=\"height:600px; width:1600px;\"></div>            <script type=\"text/javascript\">                require([\"plotly\"], function(Plotly) {                    window.PLOTLYENV=window.PLOTLYENV || {};                                    if (document.getElementById(\"67217dc7-3061-420c-af5d-07b4e3e26717\")) {                    Plotly.newPlot(                        \"67217dc7-3061-420c-af5d-07b4e3e26717\",                        [{\"marker\":{\"color\":\"#11efb7\",\"line\":{\"color\":\"black\",\"width\":1},\"size\":10,\"symbol\":\"diamond-tall\"},\"mode\":\"markers\",\"name\":\"absorption (X-ray)\",\"opacity\":1,\"showlegend\":true,\"x\":[-0.001390486763490767],\"y\":[0.9054726368159204],\"type\":\"scatter\"},{\"marker\":{\"color\":\"#11efb7\",\"line\":{\"color\":\"black\",\"width\":1},\"size\":10,\"symbol\":\"circle-open\"},\"mode\":\"markers\",\"name\":\"absorption (AlphaFold)\",\"opacity\":0,\"showlegend\":false,\"x\":[0,1],\"y\":[0.9054726368159204,0.9977011494252873],\"type\":\"scatter\"},{\"marker\":{\"color\":\"#11efb7\",\"line\":{\"color\":\"black\",\"width\":2},\"size\":10,\"symbol\":\"circle\"},\"mode\":\"markers\",\"name\":\"absorption (EM)\",\"opacity\":1,\"showlegend\":true,\"x\":[1.0897553998670273,0.9553812952403429],\"y\":[0.9977011494252873,0.9977011494252873],\"type\":\"scatter\"},{\"marker\":{\"color\":\"#9553ff\",\"line\":{\"color\":\"black\",\"width\":1},\"size\":10,\"symbol\":\"diamond-tall\"},\"mode\":\"markers\",\"name\":\"drug_transporter (X-ray)\",\"opacity\":1,\"showlegend\":true,\"x\":[5.164702917449037,4.935901564393668],\"y\":[0.1495754408883083,0.16525146962769433],\"type\":\"scatter\"},{\"marker\":{\"color\":\"#9553ff\",\"line\":{\"color\":\"black\",\"width\":1},\"size\":10,\"symbol\":\"circle-open\"},\"mode\":\"markers\",\"name\":\"drug_transporter (AlphaFold)\",\"opacity\":0,\"showlegend\":false,\"x\":[2,3,4,5,6,7,8,9,10,11],\"y\":[0.9863739591218774,0.9979007633587788,0.9966406250000002,0.15741345525800132,0.998587570621469,null,null,null,0.9985528219971055,0.9985754985754985],\"type\":\"scatter\"},{\"marker\":{\"color\":\"#9553ff\",\"line\":{\"color\":\"black\",\"width\":2},\"size\":10,\"symbol\":\"circle\"},\"mode\":\"markers\",\"name\":\"drug_transporter (EM)\",\"opacity\":1,\"showlegend\":true,\"x\":[2.140612206448954,2.0621508741982355,2.09752322036071,2.9678202492968406,2.9284161256682566,3.1908856514864166,2.8042861420059166,3.1440426499735423,2.9559868824910587,2.821145728777659,3.0774918722832236,3.0281031784835286,3.0364638103721573,2.8271764178410743,3.1097181990722556,3.193304574791636,3.0485649985313485,3.114250707335755,3.0624852405413976,3.018609488899203,3.0737541586700186,3.064733989217848,2.927393366684694,3.05991256080337,3.0222517598228724,2.8663097705931704,2.870360810171314,3.9013975012953805,4.151587908300168,3.822549611423518,4.163638835096575,4.052776486011233,4.087862569958457,3.8899286069105026,3.976618825871089,3.810725556551539,3.8834967000306655,6.060671431619214,5.900029217507686,6.0645644318447305,10.02767507733631,9.988466191118127,10.121577489997955,9.985181554704816,9.820912917562017,10.173176005741128,11.091847817500502],\"y\":[0.9992429977289932,0.9606358819076457,0.9992429977289932,0.9969465648854962,0.9969465648854962,0.9984732824427481,0.9984732824427481,0.9969465648854962,0.9984732824427481,0.9969465648854962,0.9984732824427481,0.9984732824427481,0.9984732824427481,0.9984732824427481,0.9984732824427481,0.9984732824427481,0.9984732824427481,0.9984732824427481,0.9984732824427481,0.9969465648854962,0.9969465648854962,0.9969465648854962,0.9969465648854962,0.9969465648854962,0.9984732824427481,0.9984732824427481,0.9984732824427481,0.99921875,0.97421875,0.9984375,0.99921875,0.99921875,0.99921875,0.99921875,0.99921875,0.99921875,0.99921875,0.998587570621469,0.998587570621469,0.998587570621469,0.9985528219971056,0.9985528219971056,0.9985528219971056,0.9985528219971056,0.9985528219971056,0.9985528219971056,0.9985754985754985],\"type\":\"scatter\"},{\"marker\":{\"color\":\"#ffb418\",\"line\":{\"color\":\"black\",\"width\":1},\"size\":10,\"symbol\":\"diamond-tall\"},\"mode\":\"markers\",\"name\":\"metabolism (X-ray)\",\"opacity\":1,\"showlegend\":true,\"x\":[11.868437400615221,12.847374697164884,12.837041754591363,13.112363903516975,13.05387014513245,12.906378296853962,12.80625760144277,12.843258965479407,12.81783808924862,12.824771714978699,13.126431577534515,13.032437226786703,12.802071921740119,13.028426227014963,13.064732458876321,12.967638039661459,13.086062438955148,13.186196506411319,13.084005736185562,13.023644126348962,12.88855017389812,12.844900071287102,12.852860707690215,12.844072176282147,12.807306881153854,12.957226701772008,12.959055454566386,13.138287673874833,12.80227520300669,12.844457798285898,13.088748137782598,12.900479764205379,13.188029160125554,12.818999042222503,12.804584882203164,13.08524651112565,13.018231225983266,13.168141484858081,13.007745506748345,12.992036532968278,13.947040313736618,13.981988565894689,13.90422112873362,13.984418291695945,14.040361458672036,13.930374746613198,13.948423062565357,13.871818237619571,13.981771503648773,14.119529292571283,13.947235578189018,14.13655831882884,14.064039913528648,13.937452859560592,13.811727276248146,14.195121679292924,14.088534181275321,14.163580599899813,14.104441895297146,13.85404455305023,14.022253235974317,13.995241168223657,13.998448512507014,13.81014116088161,13.843468397530511,13.855194331353049,14.120745464545958,13.84009791297861,13.946918996674604,13.871978347832385,14.050935358181047,13.813440286983495,14.071903643152377,13.860779241148485,14.075957923156697,14.117903841805697,14.166407078886019,14.145677016429282,14.010623159817058,14.164689560735667,14.140800992353158,13.84425741998474,13.819131285582664,13.917503646233154,14.041893484426673,14.121174521576204,13.82750987919728,14.119178656183855,13.866422288336677,14.004055398879869,14.07787629659608,14.08517096608017,14.025124351994673,15.080586229806123,14.949200136989022,15.944899854467879,15.99837625559862,16.180713991071915,15.992628728714042,16.030216759631426,15.964463050237653,16.057325376904743,15.98972736098343,15.864321232971154,16.137341481631875,16.079398636368282],\"y\":[0.294811320754717,0.990990990990991,0.990990990990991,0.990990990990991,0.990990990990991,0.990990990990991,0.990990990990991,0.990990990990991,0.02252252252252252,0.9954954954954955,0.9954954954954955,0.9954954954954955,0.9954954954954955,0.990990990990991,0.990990990990991,0.9954954954954955,0.9954954954954955,0.9954954954954955,0.9954954954954955,0.9954954954954955,0.9954954954954955,0.990990990990991,0.9954954954954955,0.990990990990991,0.9954954954954955,0.9954954954954955,0.9954954954954955,0.972972972972973,0.990990990990991,0.2702702702702703,0.2072072072072072,0.990990990990991,0.990990990990991,0.990990990990991,0.990990990990991,0.9954954954954955,0.9954954954954955,0.9954954954954955,0.9954954954954955,0.9954954954954955,0.7004608294930875,0.7004608294930875,0.7004608294930875,0.7004608294930875,0.6935483870967742,0.6728110599078341,0.7004608294930875,0.7004608294930875,0.7004608294930875,0.7004608294930875,0.7004608294930875,0.7004608294930875,0.6658986175115207,0.7004608294930875,0.7004608294930875,0.7004608294930875,0.7004608294930875,0.7004608294930875,0.7004608294930875,0.695852534562212,0.7004608294930875,0.7004608294930875,0.6820276497695853,0.7004608294930875,0.7027649769585254,0.7004608294930875,0.7004608294930875,0.6820276497695853,0.7027649769585254,0.7004608294930875,0.7004608294930875,0.7004608294930875,0.7004608294930875,0.7004608294930875,0.7004608294930875,0.7004608294930875,0.7004608294930875,0.7004608294930875,0.7004608294930875,0.7004608294930875,0.7004608294930875,0.7004608294930875,0.7004608294930875,0.7004608294930875,0.684331797235023,0.684331797235023,0.684331797235023,0.684331797235023,0.7004608294930875,0.7004608294930875,0.7004608294930875,0.7004608294930875,0.7004608294930875,0.7073863636363636,0.7073863636363636,0.9966101694915255,0.9966101694915255,0.9966101694915255,0.9966101694915255,0.9966101694915255,0.9932203389830508,0.9966101694915255,0.9966101694915255,0.9966101694915255,0.9966101694915255,0.9966101694915255],\"type\":\"scatter\"},{\"marker\":{\"color\":\"#ffb418\",\"line\":{\"color\":\"black\",\"width\":1},\"size\":10,\"symbol\":\"circle-open\"},\"mode\":\"markers\",\"name\":\"metabolism (AlphaFold)\",\"opacity\":0,\"showlegend\":false,\"x\":[12,13,14,15,16],\"y\":[0.40448113207547176,0.9293139293139294,0.6972437179375708,0.7073863636363636,0.9963020030816641],\"type\":\"scatter\"},{\"marker\":{\"color\":\"#ffb418\",\"line\":{\"color\":\"black\",\"width\":2},\"size\":10,\"symbol\":\"circle\"},\"mode\":\"markers\",\"name\":\"metabolism (EM)\",\"opacity\":1,\"showlegend\":true,\"x\":[12.080357403651933],\"y\":[0.5141509433962265],\"type\":\"scatter\"},{\"marker\":{\"color\":\"#d07c09\",\"line\":{\"color\":\"black\",\"width\":1},\"size\":10,\"symbol\":\"diamond-tall\"},\"mode\":\"markers\",\"name\":\"metabolism_redox (X-ray)\",\"opacity\":1,\"showlegend\":true,\"x\":[16.94596805594322,16.871419718344786,17.81167171772931,17.98795891900713,17.919937682683717,17.80836146506146,18.18578693503905,17.991550213243613,17.977922543225773,17.861803450096996,18.090861920387777,18.018820865468463,17.980605411228368,17.986593920733217,17.89247011898645,17.917952854109238,17.849588852844906,18.1176432251613,18.124686188823258,18.869758105001747,19.090148487685383,18.895190254139706,19.071302380863145,20.122466073992364,19.86857747645398,20.051745291018342,19.952644126015187,20.03378371446875,20.11294884971016,19.966855825949697,20.014080791791628,19.863572469639344,19.98562949243334,20.0801374083214,20.075127835519684,19.99758180589956,20.067679609212608,20.19798104719738,20.16081840585791,20.093241356701267,20.001238356981876,20.06481524641707,20.068386148153987,19.972646303763767,20.174978991836127,20.19722878873114,19.88963190281203,19.951192321032316,20.16364033445308,19.85380288398592,20.0539756277134,19.840579256613545,20.14711093792602,20.032850661825215,19.930769133794698,19.956670311209574,20.173583687509453,20.065069731962247,20.09281442196703,20.168947009346702,20.034024663743903,20.04838364607527,19.82022662978766,19.81565422595618,20.04307836610332,20.060404159755752,19.92371054769349,19.982570996532598,20.060157215391673,20.126362099911606,20.01000315777936,20.082163504966452,20.083213221283014,19.902880111987688,20.0400646642882,20.968795329813002,20.955876840544317,20.994732485100723,20.985345081494234,20.945860646347363,20.85892853373498,22.181804643860172,23.04515555665776,23.892119532324315,23.882617594966728,23.986282333078936,24.16879517062778,24.075859297116843,23.825525795471567,23.800088255080546,24.02281278022949,23.837831024068347,23.87347527965852,23.815602945817133,23.974993047690283,24.088594771203688,25.182779515483208,24.96200713999625,25.09981364512676,24.892487856038965,24.938731355288144,25.07260302559695,24.9531162811143,25.038192376512598,25.15942784680262,24.80021562187909,25.012097705958045,25.01577989895895,24.853755912754533,25.832136104814566,26.9814874830767,26.936173490249246,27.032293290075195,26.98986430046445,26.87959175515701,26.84002725956167,27.118989408565877,27.071688804204488,27.087163124621878,26.863368166607273,26.929273521803925,27.173290126860593,26.85606344501313,27.082306550227056,28.179148491909643,28.021834374884815,27.875103817600582,27.880738922811332,27.812978807348276,27.855809823155266,28.18344044560827,27.873597657019182,28.010297927986375,27.830724340100485,28.060066446259352,27.913117405953532,28.053502735303383,27.84770877220925,27.92937293206514,28.05835173737859,27.835830561261957,28.146810743106002,28.170282026084717,28.140960194424256,27.856317570829468,28.099674759665778,27.937437711233773,28.160702437118264,28.12427780872159,28.04095522442482,27.90229289910212,28.062367043722936,28.11136970613917,27.944145794263395,28.07543285080405,27.98256221921281,27.923949752026964,28.13973957936265,27.88318601911816,28.185073765207644,28.099135360126184,27.902776318896812,27.94769518263982,27.81171667733339,28.09794979447005,28.167300072325133,27.916654627821195,27.929846946281906,27.872561058259535,27.911024910486056,27.852013383224314,27.933846835904443,27.958745456351632,28.060394485344155,28.002128373556793,28.180105179995255,27.843766069334034,28.07198370048892,27.926567729784956,28.184069190193348,27.842477581928833,27.924383728573485,28.18427433938252,28.03166984368697,28.12355512816919,28.03499505591948,27.91785084616247,27.961504090243142,28.11273397579053,28.098288778152842,28.068305266893024,28.19585175588516,28.07373583801519,27.80881264339077,28.10811179531818,28.105859674467027,28.070240919631317,28.153064200871313,27.8993685744879,27.882241313488795,28.11139778161246,27.946451578513056,29.0889065245902,28.97114431663579,29.080128885031424,28.920133224281813,28.834484334718212,28.932372837280532,28.89912197761064,29.144748848196155,29.169290860271847,28.865539943429866,28.924443218172975,29.097224070599495,28.976538302907148,29.021339494953875,28.987710929781212,28.95478859074897,29.11424031129152,29.137700461451065,29.051258675921506,29.009374348894166,29.15750386899838,28.985042339605275,29.06910872787385,29.143955067719247,29.06748070157982,29.059257502353468,29.133828526926848,29.008779105844397,29.081546395948692,29.036125983956396,28.857383134227106,29.118680196492907,28.984103150326742,29.142386656822737,28.977161609984375,29.047570190735822,28.8079003252734,28.972054769926974,28.800129409057238,28.88868237767256,30.94202643290451,31.091989114499523],\"y\":[0.9946666666666667,0.9946666666666667,0.998003992015968,0.998003992015968,0.998003992015968,0.998003992015968,0.998003992015968,0.998003992015968,0.998003992015968,0.998003992015968,0.998003992015968,0.998003992015968,0.998003992015968,0.998003992015968,0.998003992015968,0.998003992015968,0.998003992015968,0.998003992015968,0.998003992015968,0.9981024667931688,0.9981024667931688,0.9715370018975332,0.9715370018975332,0.9961538461538462,0.9961538461538462,0.9961538461538462,0.9961538461538462,0.9961538461538462,0.9980769230769231,0.9980769230769231,0.9980769230769231,0.9980769230769231,0.9961538461538462,0.9961538461538462,0.9980769230769231,0.9961538461538462,0.9961538461538462,0.9961538461538462,0.9961538461538462,0.9961538461538462,0.9961538461538462,0.9961538461538462,0.9961538461538462,0.9961538461538462,0.9961538461538462,0.9961538461538462,0.9961538461538462,0.9961538461538462,0.9980769230769231,0.9980769230769231,0.9980769230769231,0.9980769230769231,0.9980769230769231,0.9980769230769231,0.9980769230769231,0.9980769230769231,0.9961538461538462,0.9980769230769231,0.9961538461538462,0.9980769230769231,0.9980769230769231,0.9980769230769231,0.9980769230769231,0.9980769230769231,0.9980769230769231,0.9980769230769231,0.9980769230769231,0.9980769230769231,0.9980769230769231,0.9961538461538462,0.9980769230769231,0.9980769230769231,0.9980769230769231,0.9980769230769231,0.9980769230769231,0.9992526158445441,0.9992526158445441,0.9992526158445441,0.9992526158445441,0.9992526158445441,0.9992526158445441,0.9758308157099698,0.9476744186046512,0.9389002036659878,0.945010183299389,0.945010183299389,0.945010183299389,0.945010183299389,0.945010183299389,0.945010183299389,0.9389002036659878,0.9592668024439919,0.9592668024439919,0.9592668024439919,0.9592668024439919,0.9592668024439919,0.9387755102040817,0.9387755102040817,0.963265306122449,0.9387755102040817,0.9510204081632653,0.9510204081632653,0.9510204081632653,0.9612244897959183,0.9612244897959183,0.9612244897959183,0.9408163265306122,0.9612244897959183,0.9510204081632653,0.9510204081632653,0.93158953722334,0.93158953722334,0.93158953722334,0.93158953722334,0.93158953722334,0.93158953722334,0.903420523138833,0.93158953722334,0.93158953722334,0.93158953722334,0.93158953722334,0.93158953722334,0.93158953722334,0.93158953722334,0.952286282306163,0.9502982107355865,0.9502982107355865,0.9502982107355865,0.9502982107355865,0.9502982107355865,0.9502982107355865,0.9542743538767395,0.9542743538767395,0.9542743538767395,0.9542743538767395,0.9542743538767395,0.9542743538767395,0.9542743538767395,0.9542743538767395,0.9542743538767395,0.9542743538767395,0.9542743538767395,0.9542743538767395,0.9542743538767395,0.9542743538767395,0.9502982107355865,0.9542743538767395,0.9542743538767395,0.9582504970178927,0.9542743538767395,0.9582504970178927,0.9582504970178927,0.9582504970178927,0.9582504970178927,0.9582504970178927,0.9582504970178927,0.9582504970178927,0.9582504970178927,0.9582504970178927,0.9582504970178927,0.9582504970178927,0.9582504970178927,0.9582504970178927,0.9582504970178927,0.9582504970178927,0.9582504970178927,0.9582504970178927,0.9582504970178927,0.9582504970178927,0.9582504970178927,0.9582504970178927,0.9582504970178927,0.9582504970178927,0.9582504970178927,0.9582504970178927,0.9582504970178927,0.9582504970178927,0.9582504970178927,0.9582504970178927,0.9542743538767395,0.9582504970178927,0.9582504970178927,0.9582504970178927,0.9582504970178927,0.9582504970178927,0.9582504970178927,0.9582504970178927,0.9582504970178927,0.9582504970178927,0.9582504970178927,0.9582504970178927,0.9582504970178927,0.9582504970178927,0.9582504970178927,0.9582504970178927,0.9582504970178927,0.9582504970178927,0.9582504970178927,0.9582504970178927,0.9582504970178927,0.9582504970178927,0.9582504970178927,0.9178082191780822,0.9178082191780822,0.8835616438356164,0.8938356164383562,0.9006849315068494,0.9143835616438356,0.9143835616438356,0.9178082191780822,0.9178082191780822,0.9178082191780822,0.9178082191780822,0.9178082191780822,0.9178082191780822,0.9143835616438356,0.9143835616438356,0.9178082191780822,0.9178082191780822,0.9178082191780822,0.9178082191780822,0.9178082191780822,0.9178082191780822,0.9178082191780822,0.9965753424657534,0.9965753424657534,0.9178082191780822,0.9178082191780822,0.9178082191780822,0.9178082191780822,0.9178082191780822,0.9178082191780822,0.9178082191780822,0.9178082191780822,0.9041095890410958,0.8835616438356164,0.9178082191780822,0.9178082191780822,0.9178082191780822,0.9178082191780822,0.9178082191780822,0.9178082191780822,0.9984996249062266,0.9992498124531133],\"type\":\"scatter\"},{\"marker\":{\"color\":\"#d07c09\",\"line\":{\"color\":\"black\",\"width\":1},\"size\":10,\"symbol\":\"circle-open\"},\"mode\":\"markers\",\"name\":\"metabolism_redox (AlphaFold)\",\"opacity\":0,\"showlegend\":false,\"x\":[17,18,19,20,21,22,23,24,25,26,27,28,29,30,31],\"y\":[0.9946666666666667,0.9980039920159678,0.9848197343453511,0.9972263313609466,0.9992526158445438,0.9758308157099698,0.9476744186046512,0.9495535014883283,0.95149136577708,0.9510204081632653,0.9295774647887324,0.9565427945149612,0.9183219178082191,null,0.9988747186796699],\"type\":\"scatter\"},{\"marker\":{\"color\":\"#d07c09\",\"line\":{\"color\":\"black\",\"width\":2},\"size\":10,\"symbol\":\"circle\"},\"mode\":\"markers\",\"name\":\"metabolism_redox (EM)\",\"opacity\":1,\"showlegend\":true,\"x\":[17.844148826498188,18.164072558220173,17.93691404676156,20.893320057025168],\"y\":[0.998003992015968,0.998003992015968,0.998003992015968,0.9992526158445441],\"type\":\"scatter\"},{\"marker\":{\"color\":\"#5e2bcb\",\"line\":{\"color\":\"black\",\"width\":1},\"size\":10,\"symbol\":\"diamond-tall\"},\"mode\":\"markers\",\"name\":\"toxicity (X-ray)\",\"opacity\":1,\"showlegend\":true,\"x\":[32.155894235680826,32.02111775607337,31.930775095052475,31.882587358630378,31.92129875902765,32.058188514441305,31.862334857708124,32.04777420373676,33.86808502324193,34.16014395828195,33.91432467902023,36.199933272323605,35.89051892686857,35.803035010391554,35.929480800946386,35.90034455036617,35.889591603144055,36.84243317887488,37.08139420385082,37.172917847232256,37.044642420226715,37.80233303181901,38.126595747710425,37.9067713460045,37.843221050376954,37.89391787845546,38.85528896328909,38.824862227845976,39.09657674893024,38.83253381383432,38.93301431651044,38.844959729342804,38.948022665549615,39.0144725405813,41.909298269491195,41.84509629060832,42.85084935502192,42.863773500989794,42.822599865236796,42.90822452879868,43.91765074026406,43.88613922838348,44.16257189401603,43.82977660700172,43.935054102038904,44.102455382435295,44.19847793053233,43.96482910608868,43.947026626927546,44.035198594978304,43.99386921259666,43.89901924228046,44.01001879356559,44.012940794725296,43.815866242138526,43.824836271388754,44.19595788594573,43.97101367876251,43.992494068443165,43.876455487336266,44.044847801779454,44.16002996249031,44.02301672597752,43.94814976688052,43.82692061611605,44.16581461971838,43.827930054663426,43.94876025630157,44.04519731743824,43.94465176213619,44.04327833777294,44.15352821327109,43.90133885084441,44.19845580895648,44.13501799703317,44.09028075834871,44.91796905015211,45.18647689335847,46.08229822470025,45.99463233332423,45.97442890979051,46.08372199752444,45.83590693614281,45.83679676581375,46.09124879681715,46.087325348544326,46.061820429694514,45.83120446859699,46.09306078823141,45.99087789711024,45.822535858301805,45.8689291646464,45.915465868142135,48.11305805870526,48.01014086315492,47.92875202284815,47.83659007374786,47.94684655022509,48.079088994749206,47.818631360669144,48.81331818981178,48.88971104149662,50.06099571986179,49.811615922474175,50.85650054948905,51.894761737976474,52.04521563243119,52.10429689790619,51.967513843630606,55.121738009132976,55.12861594953641,55.12269523481,55.11689984570258,55.19810812917561,55.15917443054264,55.15788091330343,55.1798195552244,54.98223586955098,54.98364950099477,55.056257524228336,55.16903637570286,56.083538263726666,55.95476777170152,56.19798561197579,55.9837272227847,55.99043625036028,55.92193935509501],\"y\":[0.31496881496881496,0.31496881496881496,0.31496881496881496,0.30561330561330563,0.31392931392931395,0.31496881496881496,0.31496881496881496,0.31392931392931395,0.0297029702970297,0.0297029702970297,0.0297029702970297,0.4063745019920319,0.4063745019920319,0.4063745019920319,0.4063745019920319,0.4063745019920319,0.4063745019920319,0.4405010438413361,0.4405010438413361,0.4405010438413361,0.4405010438413361,0.34891304347826085,0.34891304347826085,0.29891304347826086,0.29891304347826086,0.29891304347826086,0.3272532188841202,0.9978540772532188,0.9978540772532188,0.9785407725321889,0.9785407725321889,0.9785407725321889,0.9785407725321889,0.9785407725321889,0.9139784946236559,0.9139784946236559,0.7232704402515723,0.7232704402515723,0.7232704402515723,0.7232704402515723,0.009685230024213076,0.8813559322033898,0.8256658595641646,0.400726392251816,0.3801452784503632,0.8789346246973365,0.3801452784503632,0.3801452784503632,0.3801452784503632,0.400726392251816,0.3498789346246973,0.8135593220338984,0.8135593220338984,0.7723970944309927,0.7723970944309927,0.7723970944309927,0.7723970944309927,0.400726392251816,0.400726392251816,0.3910411622276029,0.7699757869249395,0.39951573849878935,0.39709443099273606,0.8135593220338984,0.7723970944309927,0.39951573849878935,0.3789346246973366,0.3789346246973366,0.3789346246973366,0.3789346246973366,0.3789346246973366,0.3789346246973366,0.3789346246973366,0.3789346246973366,0.7723970944309927,0.7723970944309927,0.9028697571743929,0.9161147902869757,0.00765420981539847,0.014858171994597028,0.009004952723998198,0.009004952723998198,0.03286807744259343,0.034218820351193155,0.00810445745159838,0.00810445745159838,0.014858171994597028,0.014858171994597028,0.014858171994597028,0.014858171994597028,0.014858171994597028,0.014858171994597028,0.014858171994597028,0.3061440677966102,0.3167372881355932,0.3061440677966102,0.3061440677966102,0.3029661016949153,0.3305084745762712,0.298728813559322,0.4041666666666667,0.4041666666666667,0.13157894736842105,0.13157894736842105,0.29055441478439425,0.09404659188955997,0.10785159620362382,0.11561691113028473,0.11216566005176877,0.8603174603174604,0.8603174603174604,0.8603174603174604,0.8603174603174604,0.8603174603174604,0.8603174603174604,0.8603174603174604,0.8603174603174604,0.8603174603174604,0.8603174603174604,0.8603174603174604,0.8603174603174604,0.08283730158730158,0.015376984126984126,0.08283730158730158,0.07738095238095238,0.022817460317460316,0.06746031746031746],\"type\":\"scatter\"},{\"marker\":{\"color\":\"#5e2bcb\",\"line\":{\"color\":\"black\",\"width\":1},\"size\":10,\"symbol\":\"circle-open\"},\"mode\":\"markers\",\"name\":\"toxicity (AlphaFold)\",\"opacity\":0,\"showlegend\":false,\"x\":[32,33,34,35,36,37,38,39,40,41,42,43,44,45,46,47,48,49,50,51,52,53,54,55,56],\"y\":[0.4484029484029484,null,0.18297029702970297,null,0.5399578157956411,0.4405010438413361,0.4317028985507246,0.7574340895156348,0.9220338983050848,0.7188841201716738,0.8700119474313023,0.7232704402515723,0.5635881471232561,0.9094922737306843,0.09931933151468601,0.9983277591973245,0.5373651771956857,0.842013888888889,0.5310798548094374,0.6442505133470227,0.4895846172809072,null,null,0.8725455614344504,0.29346478174603174],\"type\":\"scatter\"},{\"marker\":{\"color\":\"#5e2bcb\",\"line\":{\"color\":\"black\",\"width\":2},\"size\":10,\"symbol\":\"circle\"},\"mode\":\"markers\",\"name\":\"toxicity (EM)\",\"opacity\":1,\"showlegend\":true,\"x\":[32.057731588509355,32.09522768306981,32.04161120918415,34.11251105622382,33.847901332805904,36.04767496435236,36.056285226977444,36.042577470519745,35.8770119252825,35.951021421863395,35.95028646485094,36.06766463998397,35.93823268368342,35.903222661482936,35.98176192292894,36.072186641996595,38.01611535322944,39.018821640747014,39.170421675355094,39.07559832895004,39.09867344888373,38.82675751471776,39.17539610202553,39.80777012304463,40.06656665787748,39.867935660233975,40.05877475271417,40.944178394049835,41.15582925035972,41.8386368861669,41.80265627530286,41.987874782866484,42.02794392430371,41.90601634586514,41.86958664152423,41.83073867677068,44.0335911696742,43.88056283264554,43.92135628869232,43.894475100060774,44.12616475789697,44.01667339979349,45.96389681738439,46.08231875732469,47.105671594870216,46.99233460254985,47.10756849195983,47.12909039336868,47.18933313091298,48.107663585200804,47.907071023876384,47.83106223062786,48.0824412595863,48.81132110034542,48.978510963969704,49.15368194000266,49.03965696288049,48.882403765546805,49.13886611510586,50.1212717103565,49.936845345226835,49.87088434285458,49.89264849989051,50.04143785943457,50.091253600486674,49.825694894332635,50.17015994195277,50.07270566300953,49.99016655583514,49.98698504908001,50.10096997997846,49.967754956441716,50.06632103580983,49.989871489350364,49.84040010067989,49.88304307416559,49.96623735177019,50.14453120139504,50.089308131453954,50.05437757074004,50.09055567962275,50.00258162076378,49.809475960096904,49.89414426028773,50.11812996135864,50.15799053147977,50.89518737078887,51.89255384331611,51.940031387760264,51.91430252614186,55.03431502769735,55.109487335097576,54.96436334060568,54.8542443871749,55.03569400766417,54.92410056275504,54.995897052597904,55.129914092445475,54.93122155169329,55.02351104915688,55.00040215623361,54.96467075471343,55.17835946081235,55.08973433461724,55.05121082230821,55.93060583130794,56.15042950769018],\"y\":[0.7671517671517671,0.7671517671517671,0.8898128898128899,0.41287128712871285,0.41287128712871285,0.99800796812749,0.99800796812749,0.99800796812749,0.4402390438247012,0.4402390438247012,0.4402390438247012,0.36852589641434264,0.952191235059761,0.36852589641434264,0.36852589641434264,0.36852589641434264,0.9956521739130435,0.9935622317596566,0.9957081545064378,0.3497854077253219,0.3497854077253219,0.3497854077253219,0.3497854077253219,0.9220338983050848,0.9220338983050848,0.9220338983050848,0.9220338983050848,0.7188841201716738,0.7188841201716738,0.015053763440860216,0.9978494623655914,0.9978494623655914,0.9978494623655914,0.9978494623655914,0.9978494623655914,0.9978494623655914,0.7554479418886199,0.8401937046004843,0.8401937046004843,0.8401937046004843,0.3365617433414044,0.7530266343825666,0.6974335884736605,0.7631697433588474,0.9983277591973244,0.9983277591973244,0.9983277591973244,0.9983277591973244,0.9983277591973244,0.75,0.9978813559322034,0.9978813559322034,0.9978813559322034,0.9972222222222222,0.9972222222222222,0.9972222222222222,0.9972222222222222,0.9972222222222222,0.9416666666666667,0.3826754385964912,0.3826754385964912,0.9385964912280702,0.9978070175438597,0.9978070175438597,0.9978070175438597,0.9978070175438597,0.9978070175438597,0.3826754385964912,0.3815789473684211,0.3815789473684211,0.3826754385964912,0.3826754385964912,0.3826754385964912,0.3826754385964912,0.3826754385964912,0.3782894736842105,0.3782894736842105,0.3782894736842105,0.9978070175438597,0.3706140350877193,0.3706140350877193,0.6820175438596491,0.6820175438596491,0.3826754385964912,0.3826754385964912,0.3826754385964912,0.997946611909651,0.999137187230371,0.999137187230371,0.999137187230371,0.8507936507936508,0.8507936507936508,0.8507936507936508,0.8555555555555555,0.9984126984126984,0.9984126984126984,0.9984126984126984,0.8539682539682539,0.8507936507936508,0.8539682539682539,0.8539682539682539,0.8539682539682539,0.8571428571428571,0.8507936507936508,0.8571428571428571,0.9995039682539683,0.9995039682539683],\"type\":\"scatter\"}],                        {\"height\":600,\"template\":{\"data\":{\"barpolar\":[{\"marker\":{\"line\":{\"color\":\"white\",\"width\":0.5},\"pattern\":{\"fillmode\":\"overlay\",\"size\":10,\"solidity\":0.2}},\"type\":\"barpolar\"}],\"bar\":[{\"error_x\":{\"color\":\"rgb(36,36,36)\"},\"error_y\":{\"color\":\"rgb(36,36,36)\"},\"marker\":{\"line\":{\"color\":\"white\",\"width\":0.5},\"pattern\":{\"fillmode\":\"overlay\",\"size\":10,\"solidity\":0.2}},\"type\":\"bar\"}],\"carpet\":[{\"aaxis\":{\"endlinecolor\":\"rgb(36,36,36)\",\"gridcolor\":\"white\",\"linecolor\":\"white\",\"minorgridcolor\":\"white\",\"startlinecolor\":\"rgb(36,36,36)\"},\"baxis\":{\"endlinecolor\":\"rgb(36,36,36)\",\"gridcolor\":\"white\",\"linecolor\":\"white\",\"minorgridcolor\":\"white\",\"startlinecolor\":\"rgb(36,36,36)\"},\"type\":\"carpet\"}],\"choropleth\":[{\"colorbar\":{\"outlinewidth\":1,\"tickcolor\":\"rgb(36,36,36)\",\"ticks\":\"outside\"},\"type\":\"choropleth\"}],\"contourcarpet\":[{\"colorbar\":{\"outlinewidth\":1,\"tickcolor\":\"rgb(36,36,36)\",\"ticks\":\"outside\"},\"type\":\"contourcarpet\"}],\"contour\":[{\"colorbar\":{\"outlinewidth\":1,\"tickcolor\":\"rgb(36,36,36)\",\"ticks\":\"outside\"},\"colorscale\":[[0.0,\"#440154\"],[0.1111111111111111,\"#482878\"],[0.2222222222222222,\"#3e4989\"],[0.3333333333333333,\"#31688e\"],[0.4444444444444444,\"#26828e\"],[0.5555555555555556,\"#1f9e89\"],[0.6666666666666666,\"#35b779\"],[0.7777777777777778,\"#6ece58\"],[0.8888888888888888,\"#b5de2b\"],[1.0,\"#fde725\"]],\"type\":\"contour\"}],\"heatmapgl\":[{\"colorbar\":{\"outlinewidth\":1,\"tickcolor\":\"rgb(36,36,36)\",\"ticks\":\"outside\"},\"colorscale\":[[0.0,\"#440154\"],[0.1111111111111111,\"#482878\"],[0.2222222222222222,\"#3e4989\"],[0.3333333333333333,\"#31688e\"],[0.4444444444444444,\"#26828e\"],[0.5555555555555556,\"#1f9e89\"],[0.6666666666666666,\"#35b779\"],[0.7777777777777778,\"#6ece58\"],[0.8888888888888888,\"#b5de2b\"],[1.0,\"#fde725\"]],\"type\":\"heatmapgl\"}],\"heatmap\":[{\"colorbar\":{\"outlinewidth\":1,\"tickcolor\":\"rgb(36,36,36)\",\"ticks\":\"outside\"},\"colorscale\":[[0.0,\"#440154\"],[0.1111111111111111,\"#482878\"],[0.2222222222222222,\"#3e4989\"],[0.3333333333333333,\"#31688e\"],[0.4444444444444444,\"#26828e\"],[0.5555555555555556,\"#1f9e89\"],[0.6666666666666666,\"#35b779\"],[0.7777777777777778,\"#6ece58\"],[0.8888888888888888,\"#b5de2b\"],[1.0,\"#fde725\"]],\"type\":\"heatmap\"}],\"histogram2dcontour\":[{\"colorbar\":{\"outlinewidth\":1,\"tickcolor\":\"rgb(36,36,36)\",\"ticks\":\"outside\"},\"colorscale\":[[0.0,\"#440154\"],[0.1111111111111111,\"#482878\"],[0.2222222222222222,\"#3e4989\"],[0.3333333333333333,\"#31688e\"],[0.4444444444444444,\"#26828e\"],[0.5555555555555556,\"#1f9e89\"],[0.6666666666666666,\"#35b779\"],[0.7777777777777778,\"#6ece58\"],[0.8888888888888888,\"#b5de2b\"],[1.0,\"#fde725\"]],\"type\":\"histogram2dcontour\"}],\"histogram2d\":[{\"colorbar\":{\"outlinewidth\":1,\"tickcolor\":\"rgb(36,36,36)\",\"ticks\":\"outside\"},\"colorscale\":[[0.0,\"#440154\"],[0.1111111111111111,\"#482878\"],[0.2222222222222222,\"#3e4989\"],[0.3333333333333333,\"#31688e\"],[0.4444444444444444,\"#26828e\"],[0.5555555555555556,\"#1f9e89\"],[0.6666666666666666,\"#35b779\"],[0.7777777777777778,\"#6ece58\"],[0.8888888888888888,\"#b5de2b\"],[1.0,\"#fde725\"]],\"type\":\"histogram2d\"}],\"histogram\":[{\"marker\":{\"line\":{\"color\":\"white\",\"width\":0.6}},\"type\":\"histogram\"}],\"mesh3d\":[{\"colorbar\":{\"outlinewidth\":1,\"tickcolor\":\"rgb(36,36,36)\",\"ticks\":\"outside\"},\"type\":\"mesh3d\"}],\"parcoords\":[{\"line\":{\"colorbar\":{\"outlinewidth\":1,\"tickcolor\":\"rgb(36,36,36)\",\"ticks\":\"outside\"}},\"type\":\"parcoords\"}],\"pie\":[{\"automargin\":true,\"type\":\"pie\"}],\"scatter3d\":[{\"line\":{\"colorbar\":{\"outlinewidth\":1,\"tickcolor\":\"rgb(36,36,36)\",\"ticks\":\"outside\"}},\"marker\":{\"colorbar\":{\"outlinewidth\":1,\"tickcolor\":\"rgb(36,36,36)\",\"ticks\":\"outside\"}},\"type\":\"scatter3d\"}],\"scattercarpet\":[{\"marker\":{\"colorbar\":{\"outlinewidth\":1,\"tickcolor\":\"rgb(36,36,36)\",\"ticks\":\"outside\"}},\"type\":\"scattercarpet\"}],\"scattergeo\":[{\"marker\":{\"colorbar\":{\"outlinewidth\":1,\"tickcolor\":\"rgb(36,36,36)\",\"ticks\":\"outside\"}},\"type\":\"scattergeo\"}],\"scattergl\":[{\"marker\":{\"colorbar\":{\"outlinewidth\":1,\"tickcolor\":\"rgb(36,36,36)\",\"ticks\":\"outside\"}},\"type\":\"scattergl\"}],\"scattermapbox\":[{\"marker\":{\"colorbar\":{\"outlinewidth\":1,\"tickcolor\":\"rgb(36,36,36)\",\"ticks\":\"outside\"}},\"type\":\"scattermapbox\"}],\"scatterpolargl\":[{\"marker\":{\"colorbar\":{\"outlinewidth\":1,\"tickcolor\":\"rgb(36,36,36)\",\"ticks\":\"outside\"}},\"type\":\"scatterpolargl\"}],\"scatterpolar\":[{\"marker\":{\"colorbar\":{\"outlinewidth\":1,\"tickcolor\":\"rgb(36,36,36)\",\"ticks\":\"outside\"}},\"type\":\"scatterpolar\"}],\"scatter\":[{\"fillpattern\":{\"fillmode\":\"overlay\",\"size\":10,\"solidity\":0.2},\"type\":\"scatter\"}],\"scatterternary\":[{\"marker\":{\"colorbar\":{\"outlinewidth\":1,\"tickcolor\":\"rgb(36,36,36)\",\"ticks\":\"outside\"}},\"type\":\"scatterternary\"}],\"surface\":[{\"colorbar\":{\"outlinewidth\":1,\"tickcolor\":\"rgb(36,36,36)\",\"ticks\":\"outside\"},\"colorscale\":[[0.0,\"#440154\"],[0.1111111111111111,\"#482878\"],[0.2222222222222222,\"#3e4989\"],[0.3333333333333333,\"#31688e\"],[0.4444444444444444,\"#26828e\"],[0.5555555555555556,\"#1f9e89\"],[0.6666666666666666,\"#35b779\"],[0.7777777777777778,\"#6ece58\"],[0.8888888888888888,\"#b5de2b\"],[1.0,\"#fde725\"]],\"type\":\"surface\"}],\"table\":[{\"cells\":{\"fill\":{\"color\":\"rgb(237,237,237)\"},\"line\":{\"color\":\"white\"}},\"header\":{\"fill\":{\"color\":\"rgb(217,217,217)\"},\"line\":{\"color\":\"white\"}},\"type\":\"table\"}]},\"layout\":{\"annotationdefaults\":{\"arrowhead\":0,\"arrowwidth\":1},\"autotypenumbers\":\"strict\",\"coloraxis\":{\"colorbar\":{\"outlinewidth\":1,\"tickcolor\":\"rgb(36,36,36)\",\"ticks\":\"outside\"}},\"colorscale\":{\"diverging\":[[0.0,\"rgb(103,0,31)\"],[0.1,\"rgb(178,24,43)\"],[0.2,\"rgb(214,96,77)\"],[0.3,\"rgb(244,165,130)\"],[0.4,\"rgb(253,219,199)\"],[0.5,\"rgb(247,247,247)\"],[0.6,\"rgb(209,229,240)\"],[0.7,\"rgb(146,197,222)\"],[0.8,\"rgb(67,147,195)\"],[0.9,\"rgb(33,102,172)\"],[1.0,\"rgb(5,48,97)\"]],\"sequential\":[[0.0,\"#440154\"],[0.1111111111111111,\"#482878\"],[0.2222222222222222,\"#3e4989\"],[0.3333333333333333,\"#31688e\"],[0.4444444444444444,\"#26828e\"],[0.5555555555555556,\"#1f9e89\"],[0.6666666666666666,\"#35b779\"],[0.7777777777777778,\"#6ece58\"],[0.8888888888888888,\"#b5de2b\"],[1.0,\"#fde725\"]],\"sequentialminus\":[[0.0,\"#440154\"],[0.1111111111111111,\"#482878\"],[0.2222222222222222,\"#3e4989\"],[0.3333333333333333,\"#31688e\"],[0.4444444444444444,\"#26828e\"],[0.5555555555555556,\"#1f9e89\"],[0.6666666666666666,\"#35b779\"],[0.7777777777777778,\"#6ece58\"],[0.8888888888888888,\"#b5de2b\"],[1.0,\"#fde725\"]]},\"colorway\":[\"#1F77B4\",\"#FF7F0E\",\"#2CA02C\",\"#D62728\",\"#9467BD\",\"#8C564B\",\"#E377C2\",\"#7F7F7F\",\"#BCBD22\",\"#17BECF\"],\"font\":{\"color\":\"rgb(36,36,36)\"},\"geo\":{\"bgcolor\":\"white\",\"lakecolor\":\"white\",\"landcolor\":\"white\",\"showlakes\":true,\"showland\":true,\"subunitcolor\":\"white\"},\"hoverlabel\":{\"align\":\"left\"},\"hovermode\":\"closest\",\"mapbox\":{\"style\":\"light\"},\"paper_bgcolor\":\"white\",\"plot_bgcolor\":\"white\",\"polar\":{\"angularaxis\":{\"gridcolor\":\"rgb(232,232,232)\",\"linecolor\":\"rgb(36,36,36)\",\"showgrid\":false,\"showline\":true,\"ticks\":\"outside\"},\"bgcolor\":\"white\",\"radialaxis\":{\"gridcolor\":\"rgb(232,232,232)\",\"linecolor\":\"rgb(36,36,36)\",\"showgrid\":false,\"showline\":true,\"ticks\":\"outside\"}},\"scene\":{\"xaxis\":{\"backgroundcolor\":\"white\",\"gridcolor\":\"rgb(232,232,232)\",\"gridwidth\":2,\"linecolor\":\"rgb(36,36,36)\",\"showbackground\":true,\"showgrid\":false,\"showline\":true,\"ticks\":\"outside\",\"zeroline\":false,\"zerolinecolor\":\"rgb(36,36,36)\"},\"yaxis\":{\"backgroundcolor\":\"white\",\"gridcolor\":\"rgb(232,232,232)\",\"gridwidth\":2,\"linecolor\":\"rgb(36,36,36)\",\"showbackground\":true,\"showgrid\":false,\"showline\":true,\"ticks\":\"outside\",\"zeroline\":false,\"zerolinecolor\":\"rgb(36,36,36)\"},\"zaxis\":{\"backgroundcolor\":\"white\",\"gridcolor\":\"rgb(232,232,232)\",\"gridwidth\":2,\"linecolor\":\"rgb(36,36,36)\",\"showbackground\":true,\"showgrid\":false,\"showline\":true,\"ticks\":\"outside\",\"zeroline\":false,\"zerolinecolor\":\"rgb(36,36,36)\"}},\"shapedefaults\":{\"fillcolor\":\"black\",\"line\":{\"width\":0},\"opacity\":0.3},\"ternary\":{\"aaxis\":{\"gridcolor\":\"rgb(232,232,232)\",\"linecolor\":\"rgb(36,36,36)\",\"showgrid\":false,\"showline\":true,\"ticks\":\"outside\"},\"baxis\":{\"gridcolor\":\"rgb(232,232,232)\",\"linecolor\":\"rgb(36,36,36)\",\"showgrid\":false,\"showline\":true,\"ticks\":\"outside\"},\"bgcolor\":\"white\",\"caxis\":{\"gridcolor\":\"rgb(232,232,232)\",\"linecolor\":\"rgb(36,36,36)\",\"showgrid\":false,\"showline\":true,\"ticks\":\"outside\"}},\"title\":{\"x\":0.05},\"xaxis\":{\"automargin\":true,\"gridcolor\":\"rgb(232,232,232)\",\"linecolor\":\"rgb(36,36,36)\",\"showgrid\":false,\"showline\":true,\"ticks\":\"outside\",\"title\":{\"standoff\":15},\"zeroline\":false,\"zerolinecolor\":\"rgb(36,36,36)\"},\"yaxis\":{\"automargin\":true,\"gridcolor\":\"rgb(232,232,232)\",\"linecolor\":\"rgb(36,36,36)\",\"showgrid\":false,\"showline\":true,\"ticks\":\"outside\",\"title\":{\"standoff\":15},\"zeroline\":false,\"zerolinecolor\":\"rgb(36,36,36)\"}}},\"title\":{\"text\":\"Analysis of Experimental Structure Quality for ADMET Targets\"},\"width\":1600,\"xaxis\":{\"range\":[-0.5,57.5],\"ticktext\":[\"A1AG1 (P02763)\",\"OXA1L (Q15070)\",\"ABCBB (O95342)\",\"ABCG2 (Q9UNQ0)\",\"MDR1 (P08183)\",\"MRP1 (P33527)\",\"S15A1 (P46059)\",\"S22A6 (Q4U2R8)\",\"S22A8 (Q8TCC7)\",\"S47A1 (Q96FL8)\",\"SO1B1 (Q9Y6L6)\",\"SO1B3 (Q9NPD5)\",\"AHR (P35869)\",\"GSTA1 (P08263)\",\"NR1I2 (O75469)\",\"NR1I3 (Q14994)\",\"ST1A1 (P50225)\",\"ADH1A (P07327)\",\"AL1A1 (P00352)\",\"AOFA (P21397)\",\"AOFB (P27338)\",\"AOXA (Q06278)\",\"ARK73 (O95154)\",\"CP1A2 (P05177)\",\"CP2B6 (P20813)\",\"CP2C9 (P11712)\",\"CP2CJ (P33261)\",\"CP2D6 (P10635)\",\"CP3A4 (P08684)\",\"DHI1 (P28845)\",\"FMO1 (Q01740)\",\"XDH (P47989)\",\"5HT2B (P41595)\",\"ACH10 (Q9GZZ6)\",\"ACHA3 (P32297)\",\"ACHA5 (P30532)\",\"ACHA7 (P36544)\",\"ACHA9 (Q9UGM1)\",\"ACM1 (P11229)\",\"ACM2 (P08172)\",\"ACM3 (P20309)\",\"ADA1A (P35348)\",\"ADA2A (P08913)\",\"ADRB1 (P08588)\",\"ADRB2 (P07550)\",\"ASM3A (Q92484)\",\"CAC1C (Q13936)\",\"CACB1 (Q02641)\",\"CNR1 (P21554)\",\"CNR2 (P34972)\",\"GBRA1 (P14867)\",\"HRH1 (P35367)\",\"KCNH2 (Q12809)\",\"SC6A2 (P23975)\",\"SC6A3 (Q01959)\",\"SC6A4 (P31645)\",\"SCN5A (Q14524)\"],\"tickvals\":[0,1,2,3,4,5,6,7,8,9,10,11,12,13,14,15,16,17,18,19,20,21,22,23,24,25,26,27,28,29,30,31,32,33,34,35,36,37,38,39,40,41,42,43,44,45,46,47,48,49,50,51,52,53,54,55,56],\"title\":{\"text\":\"Protein Name (Uniprot ID)\"}},\"yaxis\":{\"title\":{\"text\":\"Sequence Coverage\"}}},                        {\"responsive\": true}                    ).then(function(){\n                            \nvar gd = document.getElementById('67217dc7-3061-420c-af5d-07b4e3e26717');\nvar x = new MutationObserver(function (mutations, observer) {{\n        var display = window.getComputedStyle(gd).display;\n        if (!display || display === 'none') {{\n            console.log([gd, 'removed!']);\n            Plotly.purge(gd);\n            observer.disconnect();\n        }}\n}});\n\n// Listen for the removal of the full notebook cells\nvar notebookContainer = gd.closest('#notebook-container');\nif (notebookContainer) {{\n    x.observe(notebookContainer, {childList: true});\n}}\n\n// Listen for the clearing of the current output cell\nvar outputEl = gd.closest('.output');\nif (outputEl) {{\n    x.observe(outputEl, {childList: true});\n}}\n\n                        })                };                });            </script>        </div>"
     },
     "metadata": {},
     "output_type": "display_data"
    }
   ],
   "source": [
    "# Create traces for each unique value in 'Method'\n",
    "coverage_traces = []\n",
    "\n",
    "for category in category_list:\n",
    "    for method in df['Method'].unique():\n",
    "        df_subset = df[(df['Method'] == method) & (df['Category'] == category)]\n",
    "        \n",
    "        # marker_size = df_subset[\"Average Sequence Coverage\"].apply(lambda x: x * 16 if not np.isnan(x) else 10)\n",
    "        \n",
    "        # Add random jitter to the x-axis values\n",
    "        if method == 'AlphaFold':\n",
    "            x_values = [protein_name_mapping[name] for name in df_subset['Protein Name']]\n",
    "        else:\n",
    "            jitter = np.random.uniform(low=-jitter_amount, high=jitter_amount, size=len(df_subset))\n",
    "            x_values = [protein_name_mapping[name] + jitter[i] for i, name in enumerate(df_subset['Protein Name'])]\n",
    "        trace = go.Scatter(\n",
    "            x=x_values,\n",
    "            y=df_subset['Sequence Coverage'],\n",
    "            mode='markers',\n",
    "            name=f\"{category} ({method})\",\n",
    "            marker=dict(size=10, color=colors[category], symbol=symbols[method], line_width=2 if method==\"EM\" else 1, line_color='black'),\n",
    "            showlegend=False if method == 'AlphaFold' else True,\n",
    "            opacity=0 if method == 'AlphaFold' else 1,\n",
    "        )\n",
    "        coverage_traces.append(trace)\n",
    "\n",
    "# Create layout\n",
    "layout = go.Layout(\n",
    "    title=\"Analysis of Experimental Structure Quality for ADMET Targets\",\n",
    "    xaxis=dict(title='Protein Name (Uniprot ID)',\n",
    "               range=[-0.5, len(protein_name_mapping) + 0.5],\n",
    "               tickvals=list(protein_name_mapping.values()), \n",
    "               ticktext=protein_names),\n",
    "    yaxis=dict(title='Sequence Coverage'),\n",
    "    template='simple_white',\n",
    "    width=1600,\n",
    "    height=600\n",
    ")\n",
    "\n",
    "# Create figure\n",
    "fig = go.Figure(data=coverage_traces, layout=layout)\n",
    "\n",
    "# Show plot\n",
    "fig.show()"
   ],
   "metadata": {
    "collapsed": false,
    "ExecuteTime": {
     "end_time": "2024-02-21T22:18:41.606216Z",
     "start_time": "2024-02-21T22:18:41.516815Z"
    }
   },
   "id": "9ef46f9e1076268c",
   "execution_count": 271
  },
  {
   "cell_type": "markdown",
   "source": [
    "# Make Combined Figure"
   ],
   "metadata": {
    "collapsed": false
   },
   "id": "e765125348ed1de2"
  },
  {
   "cell_type": "code",
   "outputs": [],
   "source": [
    "# Create traces for each unique value in 'Method'\n",
    "coverage_traces = []\n",
    "resolution_traces = []\n",
    "confidence_trace = []\n",
    "for category in category_list:\n",
    "    for method in df['Method'].unique():\n",
    "        df_subset = df[(df['Method'] == method) & (df['Category'] == category)]\n",
    "        \n",
    "        # marker_size = df_subset[\"Average Sequence Coverage\"].apply(lambda x: x * 16 if not np.isnan(x) else 10)\n",
    "        \n",
    "        # Add random jitter to the x-axis values\n",
    "        if method == 'AlphaFold':\n",
    "            x_values = [protein_name_mapping[name] for name in df_subset['Protein Name']]\n",
    "            af_confidence = [confidence_dict[uniprot_to_name[uniprot]] for uniprot in df_subset['Uniprot ID']]\n",
    "        else:\n",
    "            jitter = np.random.uniform(low=-jitter_amount, high=jitter_amount, size=len(df_subset))\n",
    "            x_values = [protein_name_mapping[name] + jitter[i] for i, name in enumerate(df_subset['Protein Name'])]\n",
    "        \n",
    "        name = f\"{category} ({method})\"\n",
    "        marker_dict = dict(size=10, color=colors[category], symbol=symbols[method], line_width=2 if method==\"EM\" else 1, line_color='black')\n",
    "        if not method == 'AlphaFold':\n",
    "            trace = go.Scatter(\n",
    "                x=x_values,\n",
    "                y=df_subset['Resolution (A)'],\n",
    "                mode='markers',\n",
    "                name=category,\n",
    "                marker=marker_dict,\n",
    "                showlegend=True if method == 'X-ray' else False,\n",
    "                opacity=1,\n",
    "                legendgroup=category,\n",
    "                legendgrouptitle=dict(text=\"ADMET Category (Color)\") if category == category_list[0] else None,\n",
    "            )\n",
    "            resolution_traces.append(trace)\n",
    "            \n",
    "            trace = go.Scatter(\n",
    "                x=x_values,\n",
    "                y=df_subset['Sequence Coverage'],\n",
    "                mode='markers',\n",
    "                name=method,\n",
    "                marker=marker_dict,\n",
    "                showlegend=True if category == category_list[-1] else False,\n",
    "                opacity=1,\n",
    "                legendgroup=method,\n",
    "                legendgrouptitle=dict(text=\"Method (Symbol)\") if method == 'X-ray' else None,\n",
    "            )\n",
    "            coverage_traces.append(trace)\n",
    "        \n",
    "        elif method == 'AlphaFold':\n",
    "            trace = go.Scatter(\n",
    "                x=x_values,\n",
    "                y=af_confidence,\n",
    "                mode='markers',\n",
    "                name=method,\n",
    "                marker=marker_dict,\n",
    "                showlegend=True if category == category_list[-1] else False,\n",
    "                legendgroup=method,\n",
    "            )\n",
    "            confidence_trace.append(trace)\n",
    "        "
   ],
   "metadata": {
    "collapsed": false,
    "ExecuteTime": {
     "end_time": "2024-02-21T23:26:12.991051Z",
     "start_time": "2024-02-21T23:26:12.946792Z"
    }
   },
   "id": "da7305103326588f",
   "execution_count": 472
  },
  {
   "cell_type": "code",
   "outputs": [],
   "source": [
    "from plotly.subplots import make_subplots"
   ],
   "metadata": {
    "collapsed": false,
    "ExecuteTime": {
     "end_time": "2024-02-21T23:26:13.179963Z",
     "start_time": "2024-02-21T23:26:13.135102Z"
    }
   },
   "id": "3e8d2e0664abc5ab",
   "execution_count": 473
  },
  {
   "cell_type": "code",
   "outputs": [],
   "source": [
    "# Create subplot figure with two rows and one column\n",
    "fig = make_subplots(rows=3, cols=1, shared_xaxes=True, vertical_spacing=0.01, row_heights=[0.4, 0.3, 0.3])"
   ],
   "metadata": {
    "collapsed": false,
    "ExecuteTime": {
     "end_time": "2024-02-21T23:33:00.450479Z",
     "start_time": "2024-02-21T23:33:00.406521Z"
    }
   },
   "id": "9be68b9e22f711fa",
   "execution_count": 484
  },
  {
   "cell_type": "code",
   "outputs": [],
   "source": [
    "for trace in resolution_traces:\n",
    "    fig.add_trace(trace, row=1, col=1)\n",
    "for trace in coverage_traces:\n",
    "    fig.add_trace(trace, row=2, col=1)\n",
    "for trace in confidence_trace:\n",
    "    fig.add_trace(trace, row=3, col=1)"
   ],
   "metadata": {
    "collapsed": false,
    "ExecuteTime": {
     "end_time": "2024-02-21T23:33:00.695217Z",
     "start_time": "2024-02-21T23:33:00.641755Z"
    }
   },
   "id": "835d8be140f35688",
   "execution_count": 485
  },
  {
   "cell_type": "code",
   "outputs": [
    {
     "data": {
      "application/vnd.plotly.v1+json": {
       "data": [
        {
         "legendgroup": "absorption",
         "legendgrouptitle": {
          "text": "ADMET Category (Color)"
         },
         "marker": {
          "color": "#11efb7",
          "line": {
           "color": "black",
           "width": 1
          },
          "size": 10,
          "symbol": "diamond-tall"
         },
         "mode": "markers",
         "name": "absorption",
         "opacity": 1,
         "showlegend": true,
         "x": [
          -0.19745084325780768
         ],
         "y": [
          1.8
         ],
         "type": "scatter",
         "xaxis": "x",
         "yaxis": "y"
        },
        {
         "legendgroup": "absorption",
         "legendgrouptitle": {
          "text": "ADMET Category (Color)"
         },
         "marker": {
          "color": "#11efb7",
          "line": {
           "color": "black",
           "width": 2
          },
          "size": 10,
          "symbol": "circle"
         },
         "mode": "markers",
         "name": "absorption",
         "opacity": 1,
         "showlegend": false,
         "x": [
          1.103698093961028,
          0.8089131013582395
         ],
         "y": [
          2.89,
          3.7
         ],
         "type": "scatter",
         "xaxis": "x",
         "yaxis": "y"
        },
        {
         "legendgroup": "drug_transporter",
         "marker": {
          "color": "#9553ff",
          "line": {
           "color": "black",
           "width": 1
          },
          "size": 10,
          "symbol": "diamond-tall"
         },
         "mode": "markers",
         "name": "drug_transporter",
         "opacity": 1,
         "showlegend": true,
         "x": [
          4.9315040322678945,
          5.037631371491542
         ],
         "y": [
          1.5,
          2.1
         ],
         "type": "scatter",
         "xaxis": "x",
         "yaxis": "y"
        },
        {
         "legendgroup": "drug_transporter",
         "marker": {
          "color": "#9553ff",
          "line": {
           "color": "black",
           "width": 2
          },
          "size": 10,
          "symbol": "circle"
         },
         "mode": "markers",
         "name": "drug_transporter",
         "opacity": 1,
         "showlegend": false,
         "x": [
          1.9369975571420937,
          1.8715264201917368,
          2.162488822165296,
          2.834151314839852,
          2.8056261154917497,
          2.8378961198412527,
          2.8738222622848437,
          3.150299889185333,
          3.1353024792630713,
          3.0396280827442523,
          2.9715170279054215,
          3.1501978484621036,
          3.072855896091998,
          3.0183270262352,
          2.8773522754571124,
          2.983607473940702,
          2.818603196087719,
          3.1929883018275884,
          3.0928066440459716,
          2.812725579407232,
          3.174351303440258,
          3.1276312247831437,
          2.9548689121311145,
          2.8920553898921892,
          3.0985260947406275,
          3.106462976609557,
          2.850759048306076,
          4.036572312690106,
          3.9140134476413397,
          3.959879606340322,
          3.945558817615884,
          4.040955591323396,
          3.88928976498556,
          4.033843750177643,
          3.8379982307530716,
          3.8013484953545125,
          4.151513948372586,
          5.951528170530977,
          6.039768695811101,
          6.035812447939253,
          10.118475353902529,
          10.058552245422764,
          10.040371930104982,
          9.922573945961425,
          9.854151874576711,
          9.997298964185417,
          11.16375016761838
         ],
         "y": [
          3.5,
          3.7,
          3.66,
          3.78,
          3.78,
          3.1,
          3.6,
          3.56,
          3.09,
          3.58,
          3.56,
          3.09,
          3.5,
          4.0,
          3.7,
          4.1,
          3.12,
          3.39,
          3.51,
          3.4,
          3.1,
          3.4,
          3.1,
          3.2,
          3.04,
          3.2,
          3.49,
          3.4,
          3.58,
          4.14,
          3.6,
          3.9,
          3.2,
          3.6,
          3.6,
          3.5,
          3.5,
          4.1,
          3.5,
          3.9,
          3.53,
          3.73,
          3.19,
          3.73,
          2.92,
          3.6,
          2.97
         ],
         "type": "scatter",
         "xaxis": "x",
         "yaxis": "y"
        },
        {
         "legendgroup": "metabolism",
         "marker": {
          "color": "#ffb418",
          "line": {
           "color": "black",
           "width": 1
          },
          "size": 10,
          "symbol": "diamond-tall"
         },
         "mode": "markers",
         "name": "metabolism",
         "opacity": 1,
         "showlegend": true,
         "x": [
          12.167136517157076,
          13.017718258962324,
          12.869563864161362,
          12.808834756671347,
          13.153013098456075,
          13.188590686639145,
          12.856704932471942,
          12.956804919751448,
          12.878755689564626,
          13.113163640374479,
          13.134237747179787,
          13.018237713821852,
          12.823017191819458,
          13.165063037921477,
          13.048334541009096,
          13.00584798128505,
          12.980932189437118,
          13.003882670592414,
          13.164384498838245,
          12.800382262440456,
          12.810832274126897,
          12.844180115312666,
          13.182116184370969,
          12.840496067634733,
          12.92865051772895,
          12.88192666426383,
          12.903623679748595,
          13.036875103304114,
          13.188421412123233,
          13.104465268637181,
          12.97152919087765,
          13.000891077284106,
          13.098965995786822,
          13.150569546915072,
          12.945084737869399,
          13.164826000413914,
          12.815933432112182,
          13.129402051477866,
          12.925386313857938,
          13.054808842510916,
          14.190356248040022,
          14.116125296349043,
          14.130962094590554,
          13.949678810660858,
          13.860267662499773,
          14.006145083110127,
          13.862297874167924,
          13.918147940392426,
          14.119015911235302,
          14.008237875062699,
          13.812180194453642,
          14.183853431220351,
          13.850091323145623,
          14.161534312941452,
          14.160810775677948,
          14.08312059013677,
          13.998884704531795,
          14.182254768096188,
          14.17875593062694,
          13.953314496473839,
          13.88829935218717,
          14.158490313396,
          13.920180935756491,
          13.814299197696645,
          13.853557778680047,
          14.041762914046652,
          13.802694522794155,
          14.12081035971986,
          14.016840448366553,
          14.193665342861864,
          13.81730422194186,
          13.856716842635288,
          14.007402114470347,
          14.040416983998886,
          14.028416543452849,
          14.070813520804622,
          14.035881035772347,
          13.829670585153734,
          13.949990740600072,
          14.031413900337807,
          13.911053399383475,
          14.042030411497716,
          14.049420680039393,
          14.0738749783929,
          13.809551714490997,
          14.097821282876787,
          13.970346958931502,
          13.869253175319653,
          14.16890944823323,
          13.888372700586265,
          14.184713006633716,
          13.845489274969575,
          13.911505501502933,
          14.944691957164423,
          14.9458001084857,
          15.95295516668157,
          15.915130551999365,
          15.827894357311726,
          15.941323812586482,
          15.851057471116485,
          16.01717278736372,
          16.15607727153752,
          16.133206116465743,
          15.830904346377906,
          16.179584716853356,
          16.17980376255324
         ],
         "y": [
          3.3,
          2.5,
          2.0,
          2.7,
          2.6,
          1.5,
          1.8,
          1.3,
          1.86,
          2.0,
          2.1,
          1.75,
          1.8,
          2.07,
          1.85,
          1.95,
          1.8,
          2.51,
          2.38,
          1.98,
          2.2,
          1.75,
          2.13,
          1.79,
          2.2,
          1.86,
          1.88,
          2.1,
          1.93,
          2.33,
          1.6,
          1.55,
          1.7,
          2.0,
          1.29,
          2.19,
          2.03,
          2.46,
          1.56,
          1.87,
          2.52,
          2.76,
          2.15,
          2.0,
          2.8,
          2.8,
          2.8,
          2.0,
          2.1,
          2.8,
          2.8,
          2.8,
          2.8,
          2.8,
          3.14,
          2.0,
          2.25,
          2.58,
          2.4,
          2.25,
          2.67,
          2.56,
          2.3,
          2.28,
          2.22,
          2.27,
          2.3,
          2.7,
          1.85,
          2.27,
          2.15,
          2.25,
          2.26,
          2.55,
          2.05,
          2.65,
          1.9,
          2.45,
          2.7,
          2.55,
          2.15,
          2.3,
          2.0,
          2.5,
          2.26,
          2.48,
          2.05,
          2.2,
          2.1,
          2.25,
          2.37,
          2.3,
          2.2,
          2.7,
          2.6,
          1.9,
          2.3,
          2.3,
          2.5,
          2.35,
          2.7,
          2.36,
          2.3,
          2.0,
          2.36,
          2.56
         ],
         "type": "scatter",
         "xaxis": "x",
         "yaxis": "y"
        },
        {
         "legendgroup": "metabolism",
         "marker": {
          "color": "#ffb418",
          "line": {
           "color": "black",
           "width": 2
          },
          "size": 10,
          "symbol": "circle"
         },
         "mode": "markers",
         "name": "metabolism",
         "opacity": 1,
         "showlegend": false,
         "x": [
          12.0617822787251
         ],
         "y": [
          2.85
         ],
         "type": "scatter",
         "xaxis": "x",
         "yaxis": "y"
        },
        {
         "legendgroup": "metabolism_redox",
         "marker": {
          "color": "#d07c09",
          "line": {
           "color": "black",
           "width": 1
          },
          "size": 10,
          "symbol": "diamond-tall"
         },
         "mode": "markers",
         "name": "metabolism_redox",
         "opacity": 1,
         "showlegend": true,
         "x": [
          17.094961378264436,
          16.92166505048839,
          18.025988514507993,
          17.830020115955687,
          17.84120377332393,
          17.93569778998718,
          18.124927903139252,
          17.822506237084113,
          17.908564936888627,
          17.866091676896875,
          17.878618855197626,
          17.853325560283064,
          17.98920523658552,
          18.119675520990143,
          17.837938781633916,
          17.98250494264698,
          17.818168974756677,
          18.020263422837893,
          18.01568954816451,
          18.938665054942195,
          19.0598247478565,
          18.876337458016074,
          18.828238366900997,
          19.896488970272006,
          19.815060825983863,
          20.163094067235416,
          19.828725534078384,
          19.91699427583865,
          20.09535520089931,
          20.03898052952106,
          19.98092570730694,
          20.001629128548764,
          19.829461742928757,
          19.828606778277607,
          20.026940089388866,
          19.890397155410152,
          19.833509011730726,
          19.94019725987349,
          20.11263049208866,
          19.97662088771791,
          20.01389475931284,
          19.989471095033316,
          19.861396137744283,
          19.95302600954488,
          20.016235205795294,
          20.01138817665549,
          20.14284640179673,
          20.134996130669077,
          20.14360353756313,
          19.94135805736814,
          20.091752150694624,
          20.066587895288663,
          20.13350831405274,
          19.98432776602631,
          19.912893363779208,
          20.19036406071005,
          20.130891425987244,
          20.114337688278326,
          20.023403453779455,
          19.98407251028773,
          19.813800375869096,
          20.11524005621378,
          19.93956860775035,
          19.8939541166629,
          19.985458214334148,
          19.86517316404709,
          19.90649078217162,
          20.175372238603348,
          19.971337578408313,
          20.098590689987166,
          20.099562200301808,
          19.911695934566684,
          19.985134579217195,
          20.104404050632922,
          19.800451541856567,
          20.836341883621813,
          20.921987084500458,
          20.803617335689975,
          20.926744028658177,
          21.06098461950359,
          20.863223192519047,
          21.87785807101745,
          23.1999765255817,
          24.04267792321391,
          24.07886736625592,
          24.182262971035982,
          24.078023217556694,
          23.802045165092327,
          23.920819852361394,
          24.138674915551757,
          23.903846142475334,
          23.98395108708092,
          23.850313994478068,
          23.980381539849073,
          24.103737013085457,
          23.897644300927208,
          25.02772154835423,
          25.171770664526644,
          25.005321259866893,
          24.880433105906846,
          24.91904610176491,
          25.12600541814398,
          24.937971290537135,
          24.862830871381707,
          24.993505767924347,
          25.090688212761815,
          24.840567861454037,
          24.837286979239025,
          25.008605471957285,
          25.82002234980069,
          27.077943382961596,
          27.192886752696644,
          26.833774083702043,
          27.10716732897939,
          26.813567634771868,
          26.88051925210455,
          26.856872139781743,
          27.07372654281819,
          27.096807425050073,
          26.913242130431513,
          27.000875432765937,
          26.95438498334184,
          26.910402307170337,
          26.928400446044943,
          28.08113036202602,
          27.977267853900642,
          28.110342762525143,
          28.16414285893025,
          27.954831685876645,
          28.020467322883718,
          28.07967824683268,
          27.88146364592119,
          28.14289242911983,
          28.029139029427704,
          27.947231887627392,
          27.80741287959708,
          27.98514508357623,
          27.933520473439522,
          28.036984494675764,
          28.159580538697067,
          28.06754755420694,
          28.197111290699965,
          27.944270213855656,
          28.092559682318015,
          28.093467909237905,
          27.87420249552369,
          28.11371559792979,
          28.12367940707445,
          27.913236257996385,
          27.89647764374522,
          27.978111141642202,
          28.079332490602194,
          27.970150384608864,
          27.957396444480988,
          27.810080387663113,
          27.88292492862703,
          28.005190139712443,
          28.142485816263406,
          28.029649980342874,
          27.934835400134435,
          27.901350138434797,
          27.977270981205574,
          27.927572601078445,
          28.051840524855724,
          27.87117276238699,
          27.84420661713676,
          28.00558543452875,
          27.971458641832708,
          27.89961978396313,
          28.199552127831247,
          27.819243912511727,
          27.978471301357494,
          28.124946393493417,
          28.073159465092296,
          27.9018151665742,
          28.08204732460988,
          27.880556236830376,
          27.833398170877295,
          27.813260302091063,
          27.94785573936567,
          28.058384714689137,
          28.04336763015993,
          27.983430481881072,
          28.147285683594674,
          27.95083623255889,
          28.09301630798193,
          27.98843982160623,
          27.804280450219505,
          27.982953741289826,
          27.873199364746906,
          27.83379358887696,
          28.007773355115386,
          28.055118064110488,
          28.035236384821008,
          27.805476397452843,
          27.827509062496727,
          27.821115089590318,
          28.16845725766356,
          27.86934139808694,
          27.9372181423814,
          28.032909196641985,
          28.100154826105385,
          28.85854059057453,
          28.96443078957695,
          29.17039906841991,
          29.160922559254626,
          28.958854259813773,
          29.106317933961485,
          28.956327243985548,
          29.05021259410071,
          28.887474066318525,
          28.92915166025488,
          28.99511980975749,
          29.098370016720423,
          28.95980138681067,
          29.149117150396055,
          29.000661175822405,
          29.17869783823942,
          28.819494073447007,
          29.18268055764817,
          29.011646572488683,
          29.053432189964607,
          28.870439156474337,
          29.119549456676758,
          28.984756004424778,
          29.131848174279813,
          28.948091116540812,
          28.872376880774087,
          29.06637155532553,
          29.17636744615668,
          28.917180126135523,
          28.931394840087744,
          28.81401055008455,
          29.14390256120607,
          29.049668725016588,
          29.040800729792927,
          29.176560123272424,
          29.062748712746497,
          29.058073619082254,
          28.878878427483617,
          29.18476793116573,
          29.194742864682834,
          30.976695645333315,
          31.090018760493784
         ],
         "y": [
          2.5,
          2.49,
          2.07,
          1.74,
          1.8,
          1.95,
          1.85,
          1.85,
          1.7,
          1.7,
          2.05,
          2.1,
          2.0,
          1.6,
          1.8,
          1.9,
          1.6,
          1.6,
          1.8,
          3.0,
          3.15,
          2.2,
          2.17,
          3.0,
          2.3,
          1.7,
          2.4,
          3.1,
          2.07,
          2.12,
          1.65,
          1.6,
          1.8,
          1.9,
          1.83,
          2.2,
          2.2,
          1.7,
          2.5,
          1.7,
          2.06,
          2.0,
          2.2,
          1.7,
          1.7,
          1.6,
          2.0,
          1.7,
          2.4,
          2.3,
          2.3,
          1.9,
          1.6,
          2.1,
          1.66,
          2.2,
          2.2,
          1.8,
          2.2,
          1.89,
          1.7,
          1.8,
          2.42,
          1.8,
          1.6,
          1.7,
          2.3,
          1.7,
          2.3,
          1.8,
          2.3,
          2.1,
          2.3,
          2.1,
          2.0,
          2.6,
          2.7,
          3.39,
          3.1,
          2.6,
          2.7,
          3.0,
          1.95,
          2.0,
          2.1,
          2.8,
          2.8,
          2.0,
          2.1,
          2.2,
          2.24,
          2.03,
          1.93,
          2.27,
          1.76,
          2.99,
          2.6,
          2.55,
          2.0,
          2.45,
          2.0,
          2.9,
          2.3,
          2.0,
          2.0,
          2.48,
          2.3,
          3.12,
          2.23,
          2.87,
          3.0,
          2.85,
          2.1,
          2.67,
          2.6,
          2.26,
          2.35,
          3.3,
          2.5,
          2.4,
          2.71,
          2.75,
          2.39,
          2.39,
          2.05,
          2.8,
          2.65,
          2.74,
          2.75,
          2.8,
          2.0,
          2.25,
          2.15,
          1.93,
          2.25,
          2.8,
          2.76,
          2.6,
          2.72,
          2.9,
          2.5,
          2.85,
          2.6,
          2.4,
          2.76,
          2.95,
          2.5,
          2.45,
          2.6,
          2.7,
          2.7,
          1.7,
          1.95,
          2.2,
          2.2,
          2.23,
          2.5,
          2.5,
          2.42,
          2.38,
          2.25,
          2.57,
          2.67,
          2.6,
          2.25,
          2.52,
          2.2,
          2.5,
          2.5,
          2.79,
          2.55,
          2.65,
          2.55,
          2.75,
          2.7,
          2.65,
          2.75,
          2.75,
          2.5,
          2.75,
          2.78,
          2.65,
          2.45,
          2.5,
          2.25,
          2.35,
          2.9,
          2.4,
          2.7,
          2.4,
          2.2,
          2.3,
          2.35,
          2.3,
          2.1,
          2.4,
          2.25,
          2.2,
          2.15,
          2.05,
          2.05,
          2.15,
          1.8,
          1.55,
          2.11,
          2.3,
          3.1,
          1.9,
          2.69,
          2.25,
          2.35,
          2.35,
          2.6,
          2.5,
          2.55,
          3.0,
          2.65,
          2.3,
          2.19,
          2.3,
          2.6,
          2.3,
          2.72,
          1.8,
          2.2,
          2.55,
          2.16,
          1.91,
          2.73,
          2.19,
          2.35,
          2.35,
          2.35,
          1.96,
          2.8,
          3.2,
          2.35,
          2.35,
          2.37,
          2.5,
          2.07,
          2.45,
          3.59,
          2.6
         ],
         "type": "scatter",
         "xaxis": "x",
         "yaxis": "y"
        },
        {
         "legendgroup": "metabolism_redox",
         "marker": {
          "color": "#d07c09",
          "line": {
           "color": "black",
           "width": 2
          },
          "size": 10,
          "symbol": "circle"
         },
         "mode": "markers",
         "name": "metabolism_redox",
         "opacity": 1,
         "showlegend": false,
         "x": [
          17.897532833205954,
          17.9311868535382,
          18.15537780712236,
          20.816345567825934
         ],
         "y": [
          2.84,
          3.4,
          2.64,
          2.92
         ],
         "type": "scatter",
         "xaxis": "x",
         "yaxis": "y"
        },
        {
         "legendgroup": "toxicity",
         "marker": {
          "color": "#5e2bcb",
          "line": {
           "color": "black",
           "width": 1
          },
          "size": 10,
          "symbol": "diamond-tall"
         },
         "mode": "markers",
         "name": "toxicity",
         "opacity": 1,
         "showlegend": true,
         "x": [
          32.11607838617901,
          31.976061368580346,
          32.09247423474748,
          32.15203848485177,
          32.038922311465534,
          32.09605053176691,
          32.00878779842793,
          32.12204235651951,
          34.03409674846419,
          33.96023335671199,
          34.092558826888514,
          35.82478456254536,
          36.00877898163113,
          35.95748940555236,
          35.901036378041994,
          35.88482503462956,
          36.09224208855163,
          36.96615567171744,
          37.172659421213204,
          36.86576302543079,
          37.0232603638513,
          38.16321615496186,
          37.82596947541644,
          38.187509325135636,
          37.99330506815721,
          38.08049211372319,
          39.08149748627802,
          39.13758778032999,
          39.16927825353681,
          39.116332404435546,
          39.13841294302274,
          39.10866170649795,
          39.051229305715665,
          38.952101095957865,
          42.18490804384486,
          42.089422065906774,
          42.86922598608889,
          43.17267158547681,
          43.08304557162924,
          43.076971009054624,
          44.033618572036985,
          44.13451561803836,
          44.1711644058777,
          43.86153327042607,
          43.92533490196828,
          44.14241096398054,
          44.133261777151574,
          43.83721691588983,
          44.13916917250481,
          44.13624041329252,
          43.92597089098285,
          44.09953885319537,
          44.11142134631571,
          44.14923047550415,
          43.88691394234593,
          43.83747834820641,
          44.13402743834838,
          44.06250413058429,
          43.81370223244852,
          43.90420971462271,
          44.14383578393587,
          44.163807911660115,
          44.009750513677254,
          43.86486616643817,
          43.912733978872225,
          44.05113392431438,
          43.80630798022643,
          44.119811973103666,
          44.00681217809587,
          43.90905471474701,
          44.000383480967024,
          44.14462581431281,
          44.06322214809731,
          44.089355656932746,
          43.84028883887992,
          44.12019156739822,
          44.88247108846608,
          45.12956554663583,
          46.15413697227344,
          46.065633059090196,
          45.970723611004104,
          46.128511895130416,
          45.92624107518436,
          46.00375230541013,
          46.12801935625038,
          46.147753985881835,
          46.19943506113793,
          46.01360907481902,
          46.10162232766196,
          45.97965410232049,
          45.87860486004936,
          45.924946871801495,
          46.180649247113536,
          48.1321524887212,
          47.81621560679526,
          48.04724484867956,
          48.015040895059414,
          47.91098201038876,
          47.96029846261234,
          48.03750652026591,
          49.06112124187563,
          49.1799929018616,
          49.957125849954565,
          50.08363978131599,
          50.86796327153013,
          51.969277288210954,
          52.145603261870185,
          52.030839569507066,
          51.92459183750743,
          54.81439488388511,
          54.950837718652195,
          54.95334395570226,
          55.191631502780496,
          54.87204614199972,
          55.1068633490624,
          54.82617231519414,
          54.86496679511971,
          55.14801121900582,
          55.19232211574276,
          55.19052078710071,
          54.811115118384535,
          56.18034597602617,
          55.81848303805827,
          55.88929608351851,
          56.164853459128246,
          56.14478350394851,
          56.003904894219815
         ],
         "y": [
          2.7,
          2.8,
          3.0,
          2.9,
          3.1,
          2.92,
          3.1,
          3.19,
          1.9,
          2.0,
          1.93,
          2.4,
          2.2,
          2.38,
          2.38,
          2.85,
          2.15,
          1.8,
          1.71,
          2.7,
          2.26,
          2.7,
          2.55,
          2.17,
          2.33,
          2.5,
          3.0,
          3.5,
          3.7,
          2.5,
          2.6,
          3.0,
          2.95,
          2.3,
          2.7,
          3.2,
          3.13,
          2.7,
          2.6,
          2.5,
          1.9,
          3.4,
          3.4,
          2.4,
          2.8,
          3.4,
          2.84,
          2.84,
          3.16,
          3.5,
          3.5,
          3.2,
          3.99,
          2.79,
          3.1,
          3.2,
          3.3,
          2.48,
          3.8,
          3.2,
          3.2,
          2.7,
          3.7,
          2.96,
          3.2,
          3.1,
          2.8,
          3.4,
          3.2,
          2.4,
          2.5,
          2.6,
          2.9,
          2.7,
          3.4,
          3.1,
          2.6,
          3.0,
          2.0,
          2.0,
          1.45,
          1.6,
          2.1,
          2.55,
          2.0,
          1.7,
          1.65,
          2.0,
          2.4,
          2.4,
          1.65,
          1.7,
          1.75,
          2.8,
          2.6,
          2.95,
          2.8,
          3.25,
          2.7,
          3.29,
          2.8,
          3.2,
          3.45,
          3.2,
          3.1,
          2.6,
          2.12,
          1.96,
          1.5,
          3.14,
          4.53,
          3.15,
          3.24,
          3.4,
          3.49,
          3.62,
          3.53,
          3.8,
          4.05,
          4.7,
          6.3,
          2.2,
          1.35,
          3.84,
          2.8,
          2.25,
          2.69
         ],
         "type": "scatter",
         "xaxis": "x",
         "yaxis": "y"
        },
        {
         "legendgroup": "toxicity",
         "marker": {
          "color": "#5e2bcb",
          "line": {
           "color": "black",
           "width": 2
          },
          "size": 10,
          "symbol": "circle"
         },
         "mode": "markers",
         "name": "toxicity",
         "opacity": 1,
         "showlegend": false,
         "x": [
          31.838717207993863,
          32.17517906989153,
          32.006417371309794,
          34.02867351428566,
          34.056957948834366,
          36.02519196619969,
          35.96852693230153,
          35.86654325974679,
          35.94752918792747,
          36.06546786058343,
          35.82788589545419,
          36.04026507996913,
          36.16771289281962,
          36.19246593437165,
          36.173145908778636,
          35.97403800364075,
          38.011215950910014,
          39.0831467685869,
          39.05123783826241,
          39.187856817154426,
          39.08867153836349,
          39.0728491840477,
          38.85897161343917,
          40.02303935144427,
          40.14367531339142,
          40.04871741508035,
          39.96990285252568,
          40.87060357115177,
          41.14982465176998,
          42.1214386840157,
          41.89007089995499,
          41.97202169976959,
          41.90456722231936,
          42.02860278626562,
          42.024878248756075,
          41.80437094399032,
          44.12726675192418,
          44.1953005630683,
          43.91018047378122,
          44.05820765862471,
          43.99836985961592,
          43.89603332477005,
          45.846266472691966,
          46.099639618822266,
          46.83528733404851,
          47.14362216834084,
          46.962897754707,
          46.87866146875063,
          46.95961331627834,
          47.80482144945565,
          48.166409536180225,
          48.12545062736699,
          47.88744623448693,
          48.971927179166485,
          48.94877291701175,
          49.12229048063749,
          49.19282635115349,
          48.929272395310356,
          48.80767425853491,
          50.06768872462858,
          49.87626919190566,
          49.80264038888994,
          50.147242262860395,
          50.12093328417561,
          50.15112277119799,
          49.84985123376105,
          49.83254699002113,
          50.04432912152918,
          50.05485591807727,
          49.87090502148338,
          50.16620809748373,
          49.84969108526448,
          50.18102357193131,
          49.935702981282844,
          49.838693829655384,
          49.9343946518497,
          49.99949839587096,
          50.002374039882454,
          49.99025752377055,
          50.032554444837864,
          50.14584494023311,
          49.85731877993347,
          50.12246997423841,
          49.98755146284897,
          50.0492653942806,
          50.107019915360056,
          50.81672862959618,
          51.83895011007446,
          52.105354336045345,
          52.143776204864785,
          54.83524042234765,
          55.0124091608615,
          54.92374243303441,
          55.180217538087135,
          54.90383395897594,
          55.029792930346076,
          54.923234778676076,
          55.14791430003236,
          54.881202980650166,
          55.125028079371745,
          55.05063543657021,
          54.93194365656797,
          55.10010100896378,
          55.087802574008876,
          55.12066556311732,
          55.848877592915684,
          56.13270064121199
         ],
         "y": [
          2.7,
          2.9,
          3.3,
          3.34,
          3.87,
          3.18,
          2.85,
          3.02,
          3.0,
          3.6,
          2.7,
          2.3,
          3.4,
          2.7,
          2.8,
          4.4,
          3.3,
          3.6,
          4.0,
          3.21,
          3.32,
          3.16,
          3.22,
          2.69,
          2.79,
          2.69,
          2.56,
          2.6,
          3.1,
          4.1,
          3.2,
          3.0,
          3.6,
          3.4,
          3.47,
          3.4,
          3.8,
          3.82,
          3.26,
          3.8,
          3.2,
          3.4,
          3.4,
          3.1,
          2.8,
          3.0,
          3.0,
          3.3,
          3.1,
          3.0,
          3.0,
          3.36,
          2.8,
          2.9,
          3.2,
          3.08,
          2.84,
          2.97,
          2.98,
          3.8,
          3.8,
          3.1,
          3.04,
          3.69,
          3.26,
          3.58,
          3.2,
          3.12,
          2.55,
          3.49,
          3.5,
          3.3,
          2.92,
          3.23,
          2.86,
          3.04,
          2.79,
          3.0,
          2.7,
          3.0,
          3.0,
          2.9,
          2.9,
          2.65,
          2.98,
          2.71,
          3.3,
          3.7,
          3.8,
          4.0,
          4.2,
          4.3,
          4.1,
          3.6,
          3.3,
          4.1,
          3.8,
          3.5,
          4.1,
          3.9,
          3.9,
          3.3,
          3.65,
          3.5,
          3.0,
          3.3,
          3.3
         ],
         "type": "scatter",
         "xaxis": "x",
         "yaxis": "y"
        },
        {
         "legendgroup": "X-ray",
         "legendgrouptitle": {
          "text": "Method (Symbol)"
         },
         "marker": {
          "color": "#11efb7",
          "line": {
           "color": "black",
           "width": 1
          },
          "size": 10,
          "symbol": "diamond-tall"
         },
         "mode": "markers",
         "name": "X-ray",
         "opacity": 1,
         "showlegend": false,
         "x": [
          -0.19745084325780768
         ],
         "y": [
          0.9054726368159204
         ],
         "type": "scatter",
         "xaxis": "x2",
         "yaxis": "y2"
        },
        {
         "legendgroup": "EM",
         "marker": {
          "color": "#11efb7",
          "line": {
           "color": "black",
           "width": 2
          },
          "size": 10,
          "symbol": "circle"
         },
         "mode": "markers",
         "name": "EM",
         "opacity": 1,
         "showlegend": false,
         "x": [
          1.103698093961028,
          0.8089131013582395
         ],
         "y": [
          0.9977011494252873,
          0.9977011494252873
         ],
         "type": "scatter",
         "xaxis": "x2",
         "yaxis": "y2"
        },
        {
         "legendgroup": "X-ray",
         "legendgrouptitle": {
          "text": "Method (Symbol)"
         },
         "marker": {
          "color": "#9553ff",
          "line": {
           "color": "black",
           "width": 1
          },
          "size": 10,
          "symbol": "diamond-tall"
         },
         "mode": "markers",
         "name": "X-ray",
         "opacity": 1,
         "showlegend": false,
         "x": [
          4.9315040322678945,
          5.037631371491542
         ],
         "y": [
          0.1495754408883083,
          0.16525146962769433
         ],
         "type": "scatter",
         "xaxis": "x2",
         "yaxis": "y2"
        },
        {
         "legendgroup": "EM",
         "marker": {
          "color": "#9553ff",
          "line": {
           "color": "black",
           "width": 2
          },
          "size": 10,
          "symbol": "circle"
         },
         "mode": "markers",
         "name": "EM",
         "opacity": 1,
         "showlegend": false,
         "x": [
          1.9369975571420937,
          1.8715264201917368,
          2.162488822165296,
          2.834151314839852,
          2.8056261154917497,
          2.8378961198412527,
          2.8738222622848437,
          3.150299889185333,
          3.1353024792630713,
          3.0396280827442523,
          2.9715170279054215,
          3.1501978484621036,
          3.072855896091998,
          3.0183270262352,
          2.8773522754571124,
          2.983607473940702,
          2.818603196087719,
          3.1929883018275884,
          3.0928066440459716,
          2.812725579407232,
          3.174351303440258,
          3.1276312247831437,
          2.9548689121311145,
          2.8920553898921892,
          3.0985260947406275,
          3.106462976609557,
          2.850759048306076,
          4.036572312690106,
          3.9140134476413397,
          3.959879606340322,
          3.945558817615884,
          4.040955591323396,
          3.88928976498556,
          4.033843750177643,
          3.8379982307530716,
          3.8013484953545125,
          4.151513948372586,
          5.951528170530977,
          6.039768695811101,
          6.035812447939253,
          10.118475353902529,
          10.058552245422764,
          10.040371930104982,
          9.922573945961425,
          9.854151874576711,
          9.997298964185417,
          11.16375016761838
         ],
         "y": [
          0.9992429977289932,
          0.9606358819076457,
          0.9992429977289932,
          0.9969465648854962,
          0.9969465648854962,
          0.9984732824427481,
          0.9984732824427481,
          0.9969465648854962,
          0.9984732824427481,
          0.9969465648854962,
          0.9984732824427481,
          0.9984732824427481,
          0.9984732824427481,
          0.9984732824427481,
          0.9984732824427481,
          0.9984732824427481,
          0.9984732824427481,
          0.9984732824427481,
          0.9984732824427481,
          0.9969465648854962,
          0.9969465648854962,
          0.9969465648854962,
          0.9969465648854962,
          0.9969465648854962,
          0.9984732824427481,
          0.9984732824427481,
          0.9984732824427481,
          0.99921875,
          0.97421875,
          0.9984375,
          0.99921875,
          0.99921875,
          0.99921875,
          0.99921875,
          0.99921875,
          0.99921875,
          0.99921875,
          0.998587570621469,
          0.998587570621469,
          0.998587570621469,
          0.9985528219971056,
          0.9985528219971056,
          0.9985528219971056,
          0.9985528219971056,
          0.9985528219971056,
          0.9985528219971056,
          0.9985754985754985
         ],
         "type": "scatter",
         "xaxis": "x2",
         "yaxis": "y2"
        },
        {
         "legendgroup": "X-ray",
         "legendgrouptitle": {
          "text": "Method (Symbol)"
         },
         "marker": {
          "color": "#ffb418",
          "line": {
           "color": "black",
           "width": 1
          },
          "size": 10,
          "symbol": "diamond-tall"
         },
         "mode": "markers",
         "name": "X-ray",
         "opacity": 1,
         "showlegend": false,
         "x": [
          12.167136517157076,
          13.017718258962324,
          12.869563864161362,
          12.808834756671347,
          13.153013098456075,
          13.188590686639145,
          12.856704932471942,
          12.956804919751448,
          12.878755689564626,
          13.113163640374479,
          13.134237747179787,
          13.018237713821852,
          12.823017191819458,
          13.165063037921477,
          13.048334541009096,
          13.00584798128505,
          12.980932189437118,
          13.003882670592414,
          13.164384498838245,
          12.800382262440456,
          12.810832274126897,
          12.844180115312666,
          13.182116184370969,
          12.840496067634733,
          12.92865051772895,
          12.88192666426383,
          12.903623679748595,
          13.036875103304114,
          13.188421412123233,
          13.104465268637181,
          12.97152919087765,
          13.000891077284106,
          13.098965995786822,
          13.150569546915072,
          12.945084737869399,
          13.164826000413914,
          12.815933432112182,
          13.129402051477866,
          12.925386313857938,
          13.054808842510916,
          14.190356248040022,
          14.116125296349043,
          14.130962094590554,
          13.949678810660858,
          13.860267662499773,
          14.006145083110127,
          13.862297874167924,
          13.918147940392426,
          14.119015911235302,
          14.008237875062699,
          13.812180194453642,
          14.183853431220351,
          13.850091323145623,
          14.161534312941452,
          14.160810775677948,
          14.08312059013677,
          13.998884704531795,
          14.182254768096188,
          14.17875593062694,
          13.953314496473839,
          13.88829935218717,
          14.158490313396,
          13.920180935756491,
          13.814299197696645,
          13.853557778680047,
          14.041762914046652,
          13.802694522794155,
          14.12081035971986,
          14.016840448366553,
          14.193665342861864,
          13.81730422194186,
          13.856716842635288,
          14.007402114470347,
          14.040416983998886,
          14.028416543452849,
          14.070813520804622,
          14.035881035772347,
          13.829670585153734,
          13.949990740600072,
          14.031413900337807,
          13.911053399383475,
          14.042030411497716,
          14.049420680039393,
          14.0738749783929,
          13.809551714490997,
          14.097821282876787,
          13.970346958931502,
          13.869253175319653,
          14.16890944823323,
          13.888372700586265,
          14.184713006633716,
          13.845489274969575,
          13.911505501502933,
          14.944691957164423,
          14.9458001084857,
          15.95295516668157,
          15.915130551999365,
          15.827894357311726,
          15.941323812586482,
          15.851057471116485,
          16.01717278736372,
          16.15607727153752,
          16.133206116465743,
          15.830904346377906,
          16.179584716853356,
          16.17980376255324
         ],
         "y": [
          0.294811320754717,
          0.990990990990991,
          0.990990990990991,
          0.990990990990991,
          0.990990990990991,
          0.990990990990991,
          0.990990990990991,
          0.990990990990991,
          0.02252252252252252,
          0.9954954954954955,
          0.9954954954954955,
          0.9954954954954955,
          0.9954954954954955,
          0.990990990990991,
          0.990990990990991,
          0.9954954954954955,
          0.9954954954954955,
          0.9954954954954955,
          0.9954954954954955,
          0.9954954954954955,
          0.9954954954954955,
          0.990990990990991,
          0.9954954954954955,
          0.990990990990991,
          0.9954954954954955,
          0.9954954954954955,
          0.9954954954954955,
          0.972972972972973,
          0.990990990990991,
          0.2702702702702703,
          0.2072072072072072,
          0.990990990990991,
          0.990990990990991,
          0.990990990990991,
          0.990990990990991,
          0.9954954954954955,
          0.9954954954954955,
          0.9954954954954955,
          0.9954954954954955,
          0.9954954954954955,
          0.7004608294930875,
          0.7004608294930875,
          0.7004608294930875,
          0.7004608294930875,
          0.6935483870967742,
          0.6728110599078341,
          0.7004608294930875,
          0.7004608294930875,
          0.7004608294930875,
          0.7004608294930875,
          0.7004608294930875,
          0.7004608294930875,
          0.6658986175115207,
          0.7004608294930875,
          0.7004608294930875,
          0.7004608294930875,
          0.7004608294930875,
          0.7004608294930875,
          0.7004608294930875,
          0.695852534562212,
          0.7004608294930875,
          0.7004608294930875,
          0.6820276497695853,
          0.7004608294930875,
          0.7027649769585254,
          0.7004608294930875,
          0.7004608294930875,
          0.6820276497695853,
          0.7027649769585254,
          0.7004608294930875,
          0.7004608294930875,
          0.7004608294930875,
          0.7004608294930875,
          0.7004608294930875,
          0.7004608294930875,
          0.7004608294930875,
          0.7004608294930875,
          0.7004608294930875,
          0.7004608294930875,
          0.7004608294930875,
          0.7004608294930875,
          0.7004608294930875,
          0.7004608294930875,
          0.7004608294930875,
          0.684331797235023,
          0.684331797235023,
          0.684331797235023,
          0.684331797235023,
          0.7004608294930875,
          0.7004608294930875,
          0.7004608294930875,
          0.7004608294930875,
          0.7004608294930875,
          0.7073863636363636,
          0.7073863636363636,
          0.9966101694915255,
          0.9966101694915255,
          0.9966101694915255,
          0.9966101694915255,
          0.9966101694915255,
          0.9932203389830508,
          0.9966101694915255,
          0.9966101694915255,
          0.9966101694915255,
          0.9966101694915255,
          0.9966101694915255
         ],
         "type": "scatter",
         "xaxis": "x2",
         "yaxis": "y2"
        },
        {
         "legendgroup": "EM",
         "marker": {
          "color": "#ffb418",
          "line": {
           "color": "black",
           "width": 2
          },
          "size": 10,
          "symbol": "circle"
         },
         "mode": "markers",
         "name": "EM",
         "opacity": 1,
         "showlegend": false,
         "x": [
          12.0617822787251
         ],
         "y": [
          0.5141509433962265
         ],
         "type": "scatter",
         "xaxis": "x2",
         "yaxis": "y2"
        },
        {
         "legendgroup": "X-ray",
         "legendgrouptitle": {
          "text": "Method (Symbol)"
         },
         "marker": {
          "color": "#d07c09",
          "line": {
           "color": "black",
           "width": 1
          },
          "size": 10,
          "symbol": "diamond-tall"
         },
         "mode": "markers",
         "name": "X-ray",
         "opacity": 1,
         "showlegend": false,
         "x": [
          17.094961378264436,
          16.92166505048839,
          18.025988514507993,
          17.830020115955687,
          17.84120377332393,
          17.93569778998718,
          18.124927903139252,
          17.822506237084113,
          17.908564936888627,
          17.866091676896875,
          17.878618855197626,
          17.853325560283064,
          17.98920523658552,
          18.119675520990143,
          17.837938781633916,
          17.98250494264698,
          17.818168974756677,
          18.020263422837893,
          18.01568954816451,
          18.938665054942195,
          19.0598247478565,
          18.876337458016074,
          18.828238366900997,
          19.896488970272006,
          19.815060825983863,
          20.163094067235416,
          19.828725534078384,
          19.91699427583865,
          20.09535520089931,
          20.03898052952106,
          19.98092570730694,
          20.001629128548764,
          19.829461742928757,
          19.828606778277607,
          20.026940089388866,
          19.890397155410152,
          19.833509011730726,
          19.94019725987349,
          20.11263049208866,
          19.97662088771791,
          20.01389475931284,
          19.989471095033316,
          19.861396137744283,
          19.95302600954488,
          20.016235205795294,
          20.01138817665549,
          20.14284640179673,
          20.134996130669077,
          20.14360353756313,
          19.94135805736814,
          20.091752150694624,
          20.066587895288663,
          20.13350831405274,
          19.98432776602631,
          19.912893363779208,
          20.19036406071005,
          20.130891425987244,
          20.114337688278326,
          20.023403453779455,
          19.98407251028773,
          19.813800375869096,
          20.11524005621378,
          19.93956860775035,
          19.8939541166629,
          19.985458214334148,
          19.86517316404709,
          19.90649078217162,
          20.175372238603348,
          19.971337578408313,
          20.098590689987166,
          20.099562200301808,
          19.911695934566684,
          19.985134579217195,
          20.104404050632922,
          19.800451541856567,
          20.836341883621813,
          20.921987084500458,
          20.803617335689975,
          20.926744028658177,
          21.06098461950359,
          20.863223192519047,
          21.87785807101745,
          23.1999765255817,
          24.04267792321391,
          24.07886736625592,
          24.182262971035982,
          24.078023217556694,
          23.802045165092327,
          23.920819852361394,
          24.138674915551757,
          23.903846142475334,
          23.98395108708092,
          23.850313994478068,
          23.980381539849073,
          24.103737013085457,
          23.897644300927208,
          25.02772154835423,
          25.171770664526644,
          25.005321259866893,
          24.880433105906846,
          24.91904610176491,
          25.12600541814398,
          24.937971290537135,
          24.862830871381707,
          24.993505767924347,
          25.090688212761815,
          24.840567861454037,
          24.837286979239025,
          25.008605471957285,
          25.82002234980069,
          27.077943382961596,
          27.192886752696644,
          26.833774083702043,
          27.10716732897939,
          26.813567634771868,
          26.88051925210455,
          26.856872139781743,
          27.07372654281819,
          27.096807425050073,
          26.913242130431513,
          27.000875432765937,
          26.95438498334184,
          26.910402307170337,
          26.928400446044943,
          28.08113036202602,
          27.977267853900642,
          28.110342762525143,
          28.16414285893025,
          27.954831685876645,
          28.020467322883718,
          28.07967824683268,
          27.88146364592119,
          28.14289242911983,
          28.029139029427704,
          27.947231887627392,
          27.80741287959708,
          27.98514508357623,
          27.933520473439522,
          28.036984494675764,
          28.159580538697067,
          28.06754755420694,
          28.197111290699965,
          27.944270213855656,
          28.092559682318015,
          28.093467909237905,
          27.87420249552369,
          28.11371559792979,
          28.12367940707445,
          27.913236257996385,
          27.89647764374522,
          27.978111141642202,
          28.079332490602194,
          27.970150384608864,
          27.957396444480988,
          27.810080387663113,
          27.88292492862703,
          28.005190139712443,
          28.142485816263406,
          28.029649980342874,
          27.934835400134435,
          27.901350138434797,
          27.977270981205574,
          27.927572601078445,
          28.051840524855724,
          27.87117276238699,
          27.84420661713676,
          28.00558543452875,
          27.971458641832708,
          27.89961978396313,
          28.199552127831247,
          27.819243912511727,
          27.978471301357494,
          28.124946393493417,
          28.073159465092296,
          27.9018151665742,
          28.08204732460988,
          27.880556236830376,
          27.833398170877295,
          27.813260302091063,
          27.94785573936567,
          28.058384714689137,
          28.04336763015993,
          27.983430481881072,
          28.147285683594674,
          27.95083623255889,
          28.09301630798193,
          27.98843982160623,
          27.804280450219505,
          27.982953741289826,
          27.873199364746906,
          27.83379358887696,
          28.007773355115386,
          28.055118064110488,
          28.035236384821008,
          27.805476397452843,
          27.827509062496727,
          27.821115089590318,
          28.16845725766356,
          27.86934139808694,
          27.9372181423814,
          28.032909196641985,
          28.100154826105385,
          28.85854059057453,
          28.96443078957695,
          29.17039906841991,
          29.160922559254626,
          28.958854259813773,
          29.106317933961485,
          28.956327243985548,
          29.05021259410071,
          28.887474066318525,
          28.92915166025488,
          28.99511980975749,
          29.098370016720423,
          28.95980138681067,
          29.149117150396055,
          29.000661175822405,
          29.17869783823942,
          28.819494073447007,
          29.18268055764817,
          29.011646572488683,
          29.053432189964607,
          28.870439156474337,
          29.119549456676758,
          28.984756004424778,
          29.131848174279813,
          28.948091116540812,
          28.872376880774087,
          29.06637155532553,
          29.17636744615668,
          28.917180126135523,
          28.931394840087744,
          28.81401055008455,
          29.14390256120607,
          29.049668725016588,
          29.040800729792927,
          29.176560123272424,
          29.062748712746497,
          29.058073619082254,
          28.878878427483617,
          29.18476793116573,
          29.194742864682834,
          30.976695645333315,
          31.090018760493784
         ],
         "y": [
          0.9946666666666667,
          0.9946666666666667,
          0.998003992015968,
          0.998003992015968,
          0.998003992015968,
          0.998003992015968,
          0.998003992015968,
          0.998003992015968,
          0.998003992015968,
          0.998003992015968,
          0.998003992015968,
          0.998003992015968,
          0.998003992015968,
          0.998003992015968,
          0.998003992015968,
          0.998003992015968,
          0.998003992015968,
          0.998003992015968,
          0.998003992015968,
          0.9981024667931688,
          0.9981024667931688,
          0.9715370018975332,
          0.9715370018975332,
          0.9961538461538462,
          0.9961538461538462,
          0.9961538461538462,
          0.9961538461538462,
          0.9961538461538462,
          0.9980769230769231,
          0.9980769230769231,
          0.9980769230769231,
          0.9980769230769231,
          0.9961538461538462,
          0.9961538461538462,
          0.9980769230769231,
          0.9961538461538462,
          0.9961538461538462,
          0.9961538461538462,
          0.9961538461538462,
          0.9961538461538462,
          0.9961538461538462,
          0.9961538461538462,
          0.9961538461538462,
          0.9961538461538462,
          0.9961538461538462,
          0.9961538461538462,
          0.9961538461538462,
          0.9961538461538462,
          0.9980769230769231,
          0.9980769230769231,
          0.9980769230769231,
          0.9980769230769231,
          0.9980769230769231,
          0.9980769230769231,
          0.9980769230769231,
          0.9980769230769231,
          0.9961538461538462,
          0.9980769230769231,
          0.9961538461538462,
          0.9980769230769231,
          0.9980769230769231,
          0.9980769230769231,
          0.9980769230769231,
          0.9980769230769231,
          0.9980769230769231,
          0.9980769230769231,
          0.9980769230769231,
          0.9980769230769231,
          0.9980769230769231,
          0.9961538461538462,
          0.9980769230769231,
          0.9980769230769231,
          0.9980769230769231,
          0.9980769230769231,
          0.9980769230769231,
          0.9992526158445441,
          0.9992526158445441,
          0.9992526158445441,
          0.9992526158445441,
          0.9992526158445441,
          0.9992526158445441,
          0.9758308157099698,
          0.9476744186046512,
          0.9389002036659878,
          0.945010183299389,
          0.945010183299389,
          0.945010183299389,
          0.945010183299389,
          0.945010183299389,
          0.945010183299389,
          0.9389002036659878,
          0.9592668024439919,
          0.9592668024439919,
          0.9592668024439919,
          0.9592668024439919,
          0.9592668024439919,
          0.9387755102040817,
          0.9387755102040817,
          0.963265306122449,
          0.9387755102040817,
          0.9510204081632653,
          0.9510204081632653,
          0.9510204081632653,
          0.9612244897959183,
          0.9612244897959183,
          0.9612244897959183,
          0.9408163265306122,
          0.9612244897959183,
          0.9510204081632653,
          0.9510204081632653,
          0.93158953722334,
          0.93158953722334,
          0.93158953722334,
          0.93158953722334,
          0.93158953722334,
          0.93158953722334,
          0.903420523138833,
          0.93158953722334,
          0.93158953722334,
          0.93158953722334,
          0.93158953722334,
          0.93158953722334,
          0.93158953722334,
          0.93158953722334,
          0.952286282306163,
          0.9502982107355865,
          0.9502982107355865,
          0.9502982107355865,
          0.9502982107355865,
          0.9502982107355865,
          0.9502982107355865,
          0.9542743538767395,
          0.9542743538767395,
          0.9542743538767395,
          0.9542743538767395,
          0.9542743538767395,
          0.9542743538767395,
          0.9542743538767395,
          0.9542743538767395,
          0.9542743538767395,
          0.9542743538767395,
          0.9542743538767395,
          0.9542743538767395,
          0.9542743538767395,
          0.9542743538767395,
          0.9502982107355865,
          0.9542743538767395,
          0.9542743538767395,
          0.9582504970178927,
          0.9542743538767395,
          0.9582504970178927,
          0.9582504970178927,
          0.9582504970178927,
          0.9582504970178927,
          0.9582504970178927,
          0.9582504970178927,
          0.9582504970178927,
          0.9582504970178927,
          0.9582504970178927,
          0.9582504970178927,
          0.9582504970178927,
          0.9582504970178927,
          0.9582504970178927,
          0.9582504970178927,
          0.9582504970178927,
          0.9582504970178927,
          0.9582504970178927,
          0.9582504970178927,
          0.9582504970178927,
          0.9582504970178927,
          0.9582504970178927,
          0.9582504970178927,
          0.9582504970178927,
          0.9582504970178927,
          0.9582504970178927,
          0.9582504970178927,
          0.9582504970178927,
          0.9582504970178927,
          0.9582504970178927,
          0.9542743538767395,
          0.9582504970178927,
          0.9582504970178927,
          0.9582504970178927,
          0.9582504970178927,
          0.9582504970178927,
          0.9582504970178927,
          0.9582504970178927,
          0.9582504970178927,
          0.9582504970178927,
          0.9582504970178927,
          0.9582504970178927,
          0.9582504970178927,
          0.9582504970178927,
          0.9582504970178927,
          0.9582504970178927,
          0.9582504970178927,
          0.9582504970178927,
          0.9582504970178927,
          0.9582504970178927,
          0.9582504970178927,
          0.9582504970178927,
          0.9582504970178927,
          0.9178082191780822,
          0.9178082191780822,
          0.8835616438356164,
          0.8938356164383562,
          0.9006849315068494,
          0.9143835616438356,
          0.9143835616438356,
          0.9178082191780822,
          0.9178082191780822,
          0.9178082191780822,
          0.9178082191780822,
          0.9178082191780822,
          0.9178082191780822,
          0.9143835616438356,
          0.9143835616438356,
          0.9178082191780822,
          0.9178082191780822,
          0.9178082191780822,
          0.9178082191780822,
          0.9178082191780822,
          0.9178082191780822,
          0.9178082191780822,
          0.9965753424657534,
          0.9965753424657534,
          0.9178082191780822,
          0.9178082191780822,
          0.9178082191780822,
          0.9178082191780822,
          0.9178082191780822,
          0.9178082191780822,
          0.9178082191780822,
          0.9178082191780822,
          0.9041095890410958,
          0.8835616438356164,
          0.9178082191780822,
          0.9178082191780822,
          0.9178082191780822,
          0.9178082191780822,
          0.9178082191780822,
          0.9178082191780822,
          0.9984996249062266,
          0.9992498124531133
         ],
         "type": "scatter",
         "xaxis": "x2",
         "yaxis": "y2"
        },
        {
         "legendgroup": "EM",
         "marker": {
          "color": "#d07c09",
          "line": {
           "color": "black",
           "width": 2
          },
          "size": 10,
          "symbol": "circle"
         },
         "mode": "markers",
         "name": "EM",
         "opacity": 1,
         "showlegend": false,
         "x": [
          17.897532833205954,
          17.9311868535382,
          18.15537780712236,
          20.816345567825934
         ],
         "y": [
          0.998003992015968,
          0.998003992015968,
          0.998003992015968,
          0.9992526158445441
         ],
         "type": "scatter",
         "xaxis": "x2",
         "yaxis": "y2"
        },
        {
         "legendgroup": "X-ray",
         "legendgrouptitle": {
          "text": "Method (Symbol)"
         },
         "marker": {
          "color": "#5e2bcb",
          "line": {
           "color": "black",
           "width": 1
          },
          "size": 10,
          "symbol": "diamond-tall"
         },
         "mode": "markers",
         "name": "X-ray",
         "opacity": 1,
         "showlegend": true,
         "x": [
          32.11607838617901,
          31.976061368580346,
          32.09247423474748,
          32.15203848485177,
          32.038922311465534,
          32.09605053176691,
          32.00878779842793,
          32.12204235651951,
          34.03409674846419,
          33.96023335671199,
          34.092558826888514,
          35.82478456254536,
          36.00877898163113,
          35.95748940555236,
          35.901036378041994,
          35.88482503462956,
          36.09224208855163,
          36.96615567171744,
          37.172659421213204,
          36.86576302543079,
          37.0232603638513,
          38.16321615496186,
          37.82596947541644,
          38.187509325135636,
          37.99330506815721,
          38.08049211372319,
          39.08149748627802,
          39.13758778032999,
          39.16927825353681,
          39.116332404435546,
          39.13841294302274,
          39.10866170649795,
          39.051229305715665,
          38.952101095957865,
          42.18490804384486,
          42.089422065906774,
          42.86922598608889,
          43.17267158547681,
          43.08304557162924,
          43.076971009054624,
          44.033618572036985,
          44.13451561803836,
          44.1711644058777,
          43.86153327042607,
          43.92533490196828,
          44.14241096398054,
          44.133261777151574,
          43.83721691588983,
          44.13916917250481,
          44.13624041329252,
          43.92597089098285,
          44.09953885319537,
          44.11142134631571,
          44.14923047550415,
          43.88691394234593,
          43.83747834820641,
          44.13402743834838,
          44.06250413058429,
          43.81370223244852,
          43.90420971462271,
          44.14383578393587,
          44.163807911660115,
          44.009750513677254,
          43.86486616643817,
          43.912733978872225,
          44.05113392431438,
          43.80630798022643,
          44.119811973103666,
          44.00681217809587,
          43.90905471474701,
          44.000383480967024,
          44.14462581431281,
          44.06322214809731,
          44.089355656932746,
          43.84028883887992,
          44.12019156739822,
          44.88247108846608,
          45.12956554663583,
          46.15413697227344,
          46.065633059090196,
          45.970723611004104,
          46.128511895130416,
          45.92624107518436,
          46.00375230541013,
          46.12801935625038,
          46.147753985881835,
          46.19943506113793,
          46.01360907481902,
          46.10162232766196,
          45.97965410232049,
          45.87860486004936,
          45.924946871801495,
          46.180649247113536,
          48.1321524887212,
          47.81621560679526,
          48.04724484867956,
          48.015040895059414,
          47.91098201038876,
          47.96029846261234,
          48.03750652026591,
          49.06112124187563,
          49.1799929018616,
          49.957125849954565,
          50.08363978131599,
          50.86796327153013,
          51.969277288210954,
          52.145603261870185,
          52.030839569507066,
          51.92459183750743,
          54.81439488388511,
          54.950837718652195,
          54.95334395570226,
          55.191631502780496,
          54.87204614199972,
          55.1068633490624,
          54.82617231519414,
          54.86496679511971,
          55.14801121900582,
          55.19232211574276,
          55.19052078710071,
          54.811115118384535,
          56.18034597602617,
          55.81848303805827,
          55.88929608351851,
          56.164853459128246,
          56.14478350394851,
          56.003904894219815
         ],
         "y": [
          0.31496881496881496,
          0.31496881496881496,
          0.31496881496881496,
          0.30561330561330563,
          0.31392931392931395,
          0.31496881496881496,
          0.31496881496881496,
          0.31392931392931395,
          0.0297029702970297,
          0.0297029702970297,
          0.0297029702970297,
          0.4063745019920319,
          0.4063745019920319,
          0.4063745019920319,
          0.4063745019920319,
          0.4063745019920319,
          0.4063745019920319,
          0.4405010438413361,
          0.4405010438413361,
          0.4405010438413361,
          0.4405010438413361,
          0.34891304347826085,
          0.34891304347826085,
          0.29891304347826086,
          0.29891304347826086,
          0.29891304347826086,
          0.3272532188841202,
          0.9978540772532188,
          0.9978540772532188,
          0.9785407725321889,
          0.9785407725321889,
          0.9785407725321889,
          0.9785407725321889,
          0.9785407725321889,
          0.9139784946236559,
          0.9139784946236559,
          0.7232704402515723,
          0.7232704402515723,
          0.7232704402515723,
          0.7232704402515723,
          0.009685230024213076,
          0.8813559322033898,
          0.8256658595641646,
          0.400726392251816,
          0.3801452784503632,
          0.8789346246973365,
          0.3801452784503632,
          0.3801452784503632,
          0.3801452784503632,
          0.400726392251816,
          0.3498789346246973,
          0.8135593220338984,
          0.8135593220338984,
          0.7723970944309927,
          0.7723970944309927,
          0.7723970944309927,
          0.7723970944309927,
          0.400726392251816,
          0.400726392251816,
          0.3910411622276029,
          0.7699757869249395,
          0.39951573849878935,
          0.39709443099273606,
          0.8135593220338984,
          0.7723970944309927,
          0.39951573849878935,
          0.3789346246973366,
          0.3789346246973366,
          0.3789346246973366,
          0.3789346246973366,
          0.3789346246973366,
          0.3789346246973366,
          0.3789346246973366,
          0.3789346246973366,
          0.7723970944309927,
          0.7723970944309927,
          0.9028697571743929,
          0.9161147902869757,
          0.00765420981539847,
          0.014858171994597028,
          0.009004952723998198,
          0.009004952723998198,
          0.03286807744259343,
          0.034218820351193155,
          0.00810445745159838,
          0.00810445745159838,
          0.014858171994597028,
          0.014858171994597028,
          0.014858171994597028,
          0.014858171994597028,
          0.014858171994597028,
          0.014858171994597028,
          0.014858171994597028,
          0.3061440677966102,
          0.3167372881355932,
          0.3061440677966102,
          0.3061440677966102,
          0.3029661016949153,
          0.3305084745762712,
          0.298728813559322,
          0.4041666666666667,
          0.4041666666666667,
          0.13157894736842105,
          0.13157894736842105,
          0.29055441478439425,
          0.09404659188955997,
          0.10785159620362382,
          0.11561691113028473,
          0.11216566005176877,
          0.8603174603174604,
          0.8603174603174604,
          0.8603174603174604,
          0.8603174603174604,
          0.8603174603174604,
          0.8603174603174604,
          0.8603174603174604,
          0.8603174603174604,
          0.8603174603174604,
          0.8603174603174604,
          0.8603174603174604,
          0.8603174603174604,
          0.08283730158730158,
          0.015376984126984126,
          0.08283730158730158,
          0.07738095238095238,
          0.022817460317460316,
          0.06746031746031746
         ],
         "type": "scatter",
         "xaxis": "x2",
         "yaxis": "y2"
        },
        {
         "legendgroup": "EM",
         "marker": {
          "color": "#5e2bcb",
          "line": {
           "color": "black",
           "width": 2
          },
          "size": 10,
          "symbol": "circle"
         },
         "mode": "markers",
         "name": "EM",
         "opacity": 1,
         "showlegend": true,
         "x": [
          31.838717207993863,
          32.17517906989153,
          32.006417371309794,
          34.02867351428566,
          34.056957948834366,
          36.02519196619969,
          35.96852693230153,
          35.86654325974679,
          35.94752918792747,
          36.06546786058343,
          35.82788589545419,
          36.04026507996913,
          36.16771289281962,
          36.19246593437165,
          36.173145908778636,
          35.97403800364075,
          38.011215950910014,
          39.0831467685869,
          39.05123783826241,
          39.187856817154426,
          39.08867153836349,
          39.0728491840477,
          38.85897161343917,
          40.02303935144427,
          40.14367531339142,
          40.04871741508035,
          39.96990285252568,
          40.87060357115177,
          41.14982465176998,
          42.1214386840157,
          41.89007089995499,
          41.97202169976959,
          41.90456722231936,
          42.02860278626562,
          42.024878248756075,
          41.80437094399032,
          44.12726675192418,
          44.1953005630683,
          43.91018047378122,
          44.05820765862471,
          43.99836985961592,
          43.89603332477005,
          45.846266472691966,
          46.099639618822266,
          46.83528733404851,
          47.14362216834084,
          46.962897754707,
          46.87866146875063,
          46.95961331627834,
          47.80482144945565,
          48.166409536180225,
          48.12545062736699,
          47.88744623448693,
          48.971927179166485,
          48.94877291701175,
          49.12229048063749,
          49.19282635115349,
          48.929272395310356,
          48.80767425853491,
          50.06768872462858,
          49.87626919190566,
          49.80264038888994,
          50.147242262860395,
          50.12093328417561,
          50.15112277119799,
          49.84985123376105,
          49.83254699002113,
          50.04432912152918,
          50.05485591807727,
          49.87090502148338,
          50.16620809748373,
          49.84969108526448,
          50.18102357193131,
          49.935702981282844,
          49.838693829655384,
          49.9343946518497,
          49.99949839587096,
          50.002374039882454,
          49.99025752377055,
          50.032554444837864,
          50.14584494023311,
          49.85731877993347,
          50.12246997423841,
          49.98755146284897,
          50.0492653942806,
          50.107019915360056,
          50.81672862959618,
          51.83895011007446,
          52.105354336045345,
          52.143776204864785,
          54.83524042234765,
          55.0124091608615,
          54.92374243303441,
          55.180217538087135,
          54.90383395897594,
          55.029792930346076,
          54.923234778676076,
          55.14791430003236,
          54.881202980650166,
          55.125028079371745,
          55.05063543657021,
          54.93194365656797,
          55.10010100896378,
          55.087802574008876,
          55.12066556311732,
          55.848877592915684,
          56.13270064121199
         ],
         "y": [
          0.7671517671517671,
          0.7671517671517671,
          0.8898128898128899,
          0.41287128712871285,
          0.41287128712871285,
          0.99800796812749,
          0.99800796812749,
          0.99800796812749,
          0.4402390438247012,
          0.4402390438247012,
          0.4402390438247012,
          0.36852589641434264,
          0.952191235059761,
          0.36852589641434264,
          0.36852589641434264,
          0.36852589641434264,
          0.9956521739130435,
          0.9935622317596566,
          0.9957081545064378,
          0.3497854077253219,
          0.3497854077253219,
          0.3497854077253219,
          0.3497854077253219,
          0.9220338983050848,
          0.9220338983050848,
          0.9220338983050848,
          0.9220338983050848,
          0.7188841201716738,
          0.7188841201716738,
          0.015053763440860216,
          0.9978494623655914,
          0.9978494623655914,
          0.9978494623655914,
          0.9978494623655914,
          0.9978494623655914,
          0.9978494623655914,
          0.7554479418886199,
          0.8401937046004843,
          0.8401937046004843,
          0.8401937046004843,
          0.3365617433414044,
          0.7530266343825666,
          0.6974335884736605,
          0.7631697433588474,
          0.9983277591973244,
          0.9983277591973244,
          0.9983277591973244,
          0.9983277591973244,
          0.9983277591973244,
          0.75,
          0.9978813559322034,
          0.9978813559322034,
          0.9978813559322034,
          0.9972222222222222,
          0.9972222222222222,
          0.9972222222222222,
          0.9972222222222222,
          0.9972222222222222,
          0.9416666666666667,
          0.3826754385964912,
          0.3826754385964912,
          0.9385964912280702,
          0.9978070175438597,
          0.9978070175438597,
          0.9978070175438597,
          0.9978070175438597,
          0.9978070175438597,
          0.3826754385964912,
          0.3815789473684211,
          0.3815789473684211,
          0.3826754385964912,
          0.3826754385964912,
          0.3826754385964912,
          0.3826754385964912,
          0.3826754385964912,
          0.3782894736842105,
          0.3782894736842105,
          0.3782894736842105,
          0.9978070175438597,
          0.3706140350877193,
          0.3706140350877193,
          0.6820175438596491,
          0.6820175438596491,
          0.3826754385964912,
          0.3826754385964912,
          0.3826754385964912,
          0.997946611909651,
          0.999137187230371,
          0.999137187230371,
          0.999137187230371,
          0.8507936507936508,
          0.8507936507936508,
          0.8507936507936508,
          0.8555555555555555,
          0.9984126984126984,
          0.9984126984126984,
          0.9984126984126984,
          0.8539682539682539,
          0.8507936507936508,
          0.8539682539682539,
          0.8539682539682539,
          0.8539682539682539,
          0.8571428571428571,
          0.8507936507936508,
          0.8571428571428571,
          0.9995039682539683,
          0.9995039682539683
         ],
         "type": "scatter",
         "xaxis": "x2",
         "yaxis": "y2"
        },
        {
         "legendgroup": "AlphaFold",
         "marker": {
          "color": "#11efb7",
          "line": {
           "color": "black",
           "width": 1
          },
          "size": 10,
          "symbol": "circle-open"
         },
         "mode": "markers",
         "name": "AlphaFold",
         "showlegend": false,
         "x": [
          0,
          1
         ],
         "y": [
          0.72,
          0.35944700460829493
         ],
         "type": "scatter",
         "xaxis": "x3",
         "yaxis": "y3"
        },
        {
         "legendgroup": "AlphaFold",
         "marker": {
          "color": "#9553ff",
          "line": {
           "color": "black",
           "width": 1
          },
          "size": 10,
          "symbol": "circle-open"
         },
         "mode": "markers",
         "name": "AlphaFold",
         "showlegend": false,
         "x": [
          2,
          3,
          4,
          5,
          6,
          7,
          8,
          9,
          10,
          11
         ],
         "y": [
          0.47954545454545455,
          0.6498470948012233,
          0.5504300234558248,
          0.4071895424836601,
          0.5190947666195191,
          0.39679715302491103,
          0.5138632162661737,
          0.7873462214411248,
          0.5173913043478261,
          0.4964336661911555
         ],
         "type": "scatter",
         "xaxis": "x3",
         "yaxis": "y3"
        },
        {
         "legendgroup": "AlphaFold",
         "marker": {
          "color": "#ffb418",
          "line": {
           "color": "black",
           "width": 1
          },
          "size": 10,
          "symbol": "circle-open"
         },
         "mode": "markers",
         "name": "AlphaFold",
         "showlegend": false,
         "x": [
          12,
          13,
          14,
          15,
          16
         ],
         "y": [
          0.21251475796930341,
          0.9773755656108597,
          0.6859122401847575,
          0.7293447293447294,
          0.9761904761904762
         ],
         "type": "scatter",
         "xaxis": "x3",
         "yaxis": "y3"
        },
        {
         "legendgroup": "AlphaFold",
         "marker": {
          "color": "#d07c09",
          "line": {
           "color": "black",
           "width": 1
          },
          "size": 10,
          "symbol": "circle-open"
         },
         "mode": "markers",
         "name": "AlphaFold",
         "showlegend": false,
         "x": [
          17,
          18,
          19,
          20,
          21,
          22,
          23,
          24,
          25,
          26,
          27,
          28,
          29,
          30,
          31
         ],
         "y": [
          0.9973262032085561,
          0.98,
          0.9695817490494296,
          0.9171483622350675,
          0.9214659685863874,
          0.9606060606060606,
          0.916504854368932,
          0.9040816326530612,
          0.787321063394683,
          0.8609406952965235,
          0.8568548387096774,
          0.8147410358565738,
          0.8694158075601375,
          0.8606403013182674,
          0.9346846846846847
         ],
         "type": "scatter",
         "xaxis": "x3",
         "yaxis": "y3"
        },
        {
         "legendgroup": "AlphaFold",
         "marker": {
          "color": "#5e2bcb",
          "line": {
           "color": "black",
           "width": 1
          },
          "size": 10,
          "symbol": "circle-open"
         },
         "mode": "markers",
         "name": "AlphaFold",
         "showlegend": true,
         "x": [
          32,
          33,
          34,
          35,
          36,
          37,
          38,
          39,
          40,
          41,
          42,
          43,
          44,
          45,
          46,
          47,
          48,
          49,
          50,
          51,
          52,
          53,
          54,
          55,
          56
         ],
         "y": [
          0.38125,
          0.5033407572383074,
          0.6011904761904762,
          0.4518201284796574,
          0.3772455089820359,
          0.45188284518828453,
          0.5054466230936819,
          0.5118279569892473,
          0.32088285229202035,
          0.4236559139784946,
          0.47413793103448276,
          0.4831932773109244,
          0.587378640776699,
          0.9048672566371682,
          0.09684684684684684,
          0.4221105527638191,
          0.46284501061571126,
          0.637883008356546,
          0.6505494505494506,
          0.3991769547325103,
          0.25734024179620035,
          0.7386363636363636,
          0.7382875605815832,
          0.7567567567567568,
          0.11017369727047147
         ],
         "type": "scatter",
         "xaxis": "x3",
         "yaxis": "y3"
        }
       ],
       "layout": {
        "template": {
         "data": {
          "histogram2dcontour": [
           {
            "type": "histogram2dcontour",
            "colorbar": {
             "outlinewidth": 1,
             "ticks": "outside",
             "tickcolor": "rgb(36,36,36)"
            },
            "colorscale": [
             [
              0.0,
              "#440154"
             ],
             [
              0.1111111111111111,
              "#482878"
             ],
             [
              0.2222222222222222,
              "#3e4989"
             ],
             [
              0.3333333333333333,
              "#31688e"
             ],
             [
              0.4444444444444444,
              "#26828e"
             ],
             [
              0.5555555555555556,
              "#1f9e89"
             ],
             [
              0.6666666666666666,
              "#35b779"
             ],
             [
              0.7777777777777778,
              "#6ece58"
             ],
             [
              0.8888888888888888,
              "#b5de2b"
             ],
             [
              1.0,
              "#fde725"
             ]
            ]
           }
          ],
          "choropleth": [
           {
            "type": "choropleth",
            "colorbar": {
             "outlinewidth": 1,
             "ticks": "outside",
             "tickcolor": "rgb(36,36,36)"
            }
           }
          ],
          "histogram2d": [
           {
            "type": "histogram2d",
            "colorbar": {
             "outlinewidth": 1,
             "ticks": "outside",
             "tickcolor": "rgb(36,36,36)"
            },
            "colorscale": [
             [
              0.0,
              "#440154"
             ],
             [
              0.1111111111111111,
              "#482878"
             ],
             [
              0.2222222222222222,
              "#3e4989"
             ],
             [
              0.3333333333333333,
              "#31688e"
             ],
             [
              0.4444444444444444,
              "#26828e"
             ],
             [
              0.5555555555555556,
              "#1f9e89"
             ],
             [
              0.6666666666666666,
              "#35b779"
             ],
             [
              0.7777777777777778,
              "#6ece58"
             ],
             [
              0.8888888888888888,
              "#b5de2b"
             ],
             [
              1.0,
              "#fde725"
             ]
            ]
           }
          ],
          "heatmap": [
           {
            "type": "heatmap",
            "colorbar": {
             "outlinewidth": 1,
             "ticks": "outside",
             "tickcolor": "rgb(36,36,36)"
            },
            "colorscale": [
             [
              0.0,
              "#440154"
             ],
             [
              0.1111111111111111,
              "#482878"
             ],
             [
              0.2222222222222222,
              "#3e4989"
             ],
             [
              0.3333333333333333,
              "#31688e"
             ],
             [
              0.4444444444444444,
              "#26828e"
             ],
             [
              0.5555555555555556,
              "#1f9e89"
             ],
             [
              0.6666666666666666,
              "#35b779"
             ],
             [
              0.7777777777777778,
              "#6ece58"
             ],
             [
              0.8888888888888888,
              "#b5de2b"
             ],
             [
              1.0,
              "#fde725"
             ]
            ]
           }
          ],
          "heatmapgl": [
           {
            "type": "heatmapgl",
            "colorbar": {
             "outlinewidth": 1,
             "ticks": "outside",
             "tickcolor": "rgb(36,36,36)"
            },
            "colorscale": [
             [
              0.0,
              "#440154"
             ],
             [
              0.1111111111111111,
              "#482878"
             ],
             [
              0.2222222222222222,
              "#3e4989"
             ],
             [
              0.3333333333333333,
              "#31688e"
             ],
             [
              0.4444444444444444,
              "#26828e"
             ],
             [
              0.5555555555555556,
              "#1f9e89"
             ],
             [
              0.6666666666666666,
              "#35b779"
             ],
             [
              0.7777777777777778,
              "#6ece58"
             ],
             [
              0.8888888888888888,
              "#b5de2b"
             ],
             [
              1.0,
              "#fde725"
             ]
            ]
           }
          ],
          "contourcarpet": [
           {
            "type": "contourcarpet",
            "colorbar": {
             "outlinewidth": 1,
             "ticks": "outside",
             "tickcolor": "rgb(36,36,36)"
            }
           }
          ],
          "contour": [
           {
            "type": "contour",
            "colorbar": {
             "outlinewidth": 1,
             "ticks": "outside",
             "tickcolor": "rgb(36,36,36)"
            },
            "colorscale": [
             [
              0.0,
              "#440154"
             ],
             [
              0.1111111111111111,
              "#482878"
             ],
             [
              0.2222222222222222,
              "#3e4989"
             ],
             [
              0.3333333333333333,
              "#31688e"
             ],
             [
              0.4444444444444444,
              "#26828e"
             ],
             [
              0.5555555555555556,
              "#1f9e89"
             ],
             [
              0.6666666666666666,
              "#35b779"
             ],
             [
              0.7777777777777778,
              "#6ece58"
             ],
             [
              0.8888888888888888,
              "#b5de2b"
             ],
             [
              1.0,
              "#fde725"
             ]
            ]
           }
          ],
          "surface": [
           {
            "type": "surface",
            "colorbar": {
             "outlinewidth": 1,
             "ticks": "outside",
             "tickcolor": "rgb(36,36,36)"
            },
            "colorscale": [
             [
              0.0,
              "#440154"
             ],
             [
              0.1111111111111111,
              "#482878"
             ],
             [
              0.2222222222222222,
              "#3e4989"
             ],
             [
              0.3333333333333333,
              "#31688e"
             ],
             [
              0.4444444444444444,
              "#26828e"
             ],
             [
              0.5555555555555556,
              "#1f9e89"
             ],
             [
              0.6666666666666666,
              "#35b779"
             ],
             [
              0.7777777777777778,
              "#6ece58"
             ],
             [
              0.8888888888888888,
              "#b5de2b"
             ],
             [
              1.0,
              "#fde725"
             ]
            ]
           }
          ],
          "mesh3d": [
           {
            "type": "mesh3d",
            "colorbar": {
             "outlinewidth": 1,
             "ticks": "outside",
             "tickcolor": "rgb(36,36,36)"
            }
           }
          ],
          "scatter": [
           {
            "marker": {
             "line": {
              "color": "#283442"
             }
            },
            "type": "scatter",
            "fillpattern": {
             "fillmode": "overlay",
             "size": 10,
             "solidity": 0.2
            }
           }
          ],
          "parcoords": [
           {
            "type": "parcoords",
            "line": {
             "colorbar": {
              "outlinewidth": 1,
              "ticks": "outside",
              "tickcolor": "rgb(36,36,36)"
             }
            }
           }
          ],
          "scatterpolargl": [
           {
            "type": "scatterpolargl",
            "marker": {
             "colorbar": {
              "outlinewidth": 1,
              "ticks": "outside",
              "tickcolor": "rgb(36,36,36)"
             }
            }
           }
          ],
          "bar": [
           {
            "error_x": {
             "color": "rgb(36,36,36)"
            },
            "error_y": {
             "color": "rgb(36,36,36)"
            },
            "marker": {
             "line": {
              "color": "white",
              "width": 0.5
             },
             "pattern": {
              "fillmode": "overlay",
              "size": 10,
              "solidity": 0.2
             }
            },
            "type": "bar"
           }
          ],
          "scattergeo": [
           {
            "type": "scattergeo",
            "marker": {
             "colorbar": {
              "outlinewidth": 1,
              "ticks": "outside",
              "tickcolor": "rgb(36,36,36)"
             }
            }
           }
          ],
          "scatterpolar": [
           {
            "type": "scatterpolar",
            "marker": {
             "colorbar": {
              "outlinewidth": 1,
              "ticks": "outside",
              "tickcolor": "rgb(36,36,36)"
             }
            }
           }
          ],
          "histogram": [
           {
            "marker": {
             "pattern": {
              "fillmode": "overlay",
              "size": 10,
              "solidity": 0.2
             },
             "line": {
              "color": "white",
              "width": 0.6
             }
            },
            "type": "histogram"
           }
          ],
          "scattergl": [
           {
            "marker": {
             "line": {
              "color": "#283442"
             },
             "colorbar": {
              "outlinewidth": 1,
              "tickcolor": "rgb(36,36,36)",
              "ticks": "outside"
             }
            },
            "type": "scattergl"
           }
          ],
          "scatter3d": [
           {
            "type": "scatter3d",
            "line": {
             "colorbar": {
              "outlinewidth": 1,
              "ticks": "outside",
              "tickcolor": "rgb(36,36,36)"
             }
            },
            "marker": {
             "colorbar": {
              "outlinewidth": 1,
              "ticks": "outside",
              "tickcolor": "rgb(36,36,36)"
             }
            }
           }
          ],
          "scattermapbox": [
           {
            "type": "scattermapbox",
            "marker": {
             "colorbar": {
              "outlinewidth": 1,
              "ticks": "outside",
              "tickcolor": "rgb(36,36,36)"
             }
            }
           }
          ],
          "scatterternary": [
           {
            "type": "scatterternary",
            "marker": {
             "colorbar": {
              "outlinewidth": 1,
              "ticks": "outside",
              "tickcolor": "rgb(36,36,36)"
             }
            }
           }
          ],
          "scattercarpet": [
           {
            "type": "scattercarpet",
            "marker": {
             "colorbar": {
              "outlinewidth": 1,
              "ticks": "outside",
              "tickcolor": "rgb(36,36,36)"
             }
            }
           }
          ],
          "carpet": [
           {
            "aaxis": {
             "endlinecolor": "rgb(36,36,36)",
             "gridcolor": "white",
             "linecolor": "white",
             "minorgridcolor": "white",
             "startlinecolor": "rgb(36,36,36)"
            },
            "baxis": {
             "endlinecolor": "rgb(36,36,36)",
             "gridcolor": "white",
             "linecolor": "white",
             "minorgridcolor": "white",
             "startlinecolor": "rgb(36,36,36)"
            },
            "type": "carpet"
           }
          ],
          "table": [
           {
            "cells": {
             "fill": {
              "color": "rgb(237,237,237)"
             },
             "line": {
              "color": "white"
             }
            },
            "header": {
             "fill": {
              "color": "rgb(217,217,217)"
             },
             "line": {
              "color": "white"
             }
            },
            "type": "table"
           }
          ],
          "barpolar": [
           {
            "marker": {
             "line": {
              "color": "white",
              "width": 0.5
             },
             "pattern": {
              "fillmode": "overlay",
              "size": 10,
              "solidity": 0.2
             }
            },
            "type": "barpolar"
           }
          ],
          "pie": [
           {
            "automargin": true,
            "type": "pie"
           }
          ]
         },
         "layout": {
          "autotypenumbers": "strict",
          "colorway": [
           "#1F77B4",
           "#FF7F0E",
           "#2CA02C",
           "#D62728",
           "#9467BD",
           "#8C564B",
           "#E377C2",
           "#7F7F7F",
           "#BCBD22",
           "#17BECF"
          ],
          "font": {
           "color": "rgb(36,36,36)"
          },
          "hovermode": "closest",
          "hoverlabel": {
           "align": "left"
          },
          "paper_bgcolor": "white",
          "plot_bgcolor": "white",
          "polar": {
           "bgcolor": "white",
           "angularaxis": {
            "gridcolor": "rgb(232,232,232)",
            "linecolor": "rgb(36,36,36)",
            "ticks": "outside",
            "showgrid": false,
            "showline": true
           },
           "radialaxis": {
            "gridcolor": "rgb(232,232,232)",
            "linecolor": "rgb(36,36,36)",
            "ticks": "outside",
            "showgrid": false,
            "showline": true
           }
          },
          "ternary": {
           "bgcolor": "white",
           "aaxis": {
            "gridcolor": "rgb(232,232,232)",
            "linecolor": "rgb(36,36,36)",
            "ticks": "outside",
            "showgrid": false,
            "showline": true
           },
           "baxis": {
            "gridcolor": "rgb(232,232,232)",
            "linecolor": "rgb(36,36,36)",
            "ticks": "outside",
            "showgrid": false,
            "showline": true
           },
           "caxis": {
            "gridcolor": "rgb(232,232,232)",
            "linecolor": "rgb(36,36,36)",
            "ticks": "outside",
            "showgrid": false,
            "showline": true
           }
          },
          "coloraxis": {
           "colorbar": {
            "outlinewidth": 1,
            "ticks": "outside",
            "tickcolor": "rgb(36,36,36)"
           }
          },
          "colorscale": {
           "sequential": [
            [
             0.0,
             "#440154"
            ],
            [
             0.1111111111111111,
             "#482878"
            ],
            [
             0.2222222222222222,
             "#3e4989"
            ],
            [
             0.3333333333333333,
             "#31688e"
            ],
            [
             0.4444444444444444,
             "#26828e"
            ],
            [
             0.5555555555555556,
             "#1f9e89"
            ],
            [
             0.6666666666666666,
             "#35b779"
            ],
            [
             0.7777777777777778,
             "#6ece58"
            ],
            [
             0.8888888888888888,
             "#b5de2b"
            ],
            [
             1.0,
             "#fde725"
            ]
           ],
           "sequentialminus": [
            [
             0.0,
             "#440154"
            ],
            [
             0.1111111111111111,
             "#482878"
            ],
            [
             0.2222222222222222,
             "#3e4989"
            ],
            [
             0.3333333333333333,
             "#31688e"
            ],
            [
             0.4444444444444444,
             "#26828e"
            ],
            [
             0.5555555555555556,
             "#1f9e89"
            ],
            [
             0.6666666666666666,
             "#35b779"
            ],
            [
             0.7777777777777778,
             "#6ece58"
            ],
            [
             0.8888888888888888,
             "#b5de2b"
            ],
            [
             1.0,
             "#fde725"
            ]
           ],
           "diverging": [
            [
             0.0,
             "rgb(103,0,31)"
            ],
            [
             0.1,
             "rgb(178,24,43)"
            ],
            [
             0.2,
             "rgb(214,96,77)"
            ],
            [
             0.3,
             "rgb(244,165,130)"
            ],
            [
             0.4,
             "rgb(253,219,199)"
            ],
            [
             0.5,
             "rgb(247,247,247)"
            ],
            [
             0.6,
             "rgb(209,229,240)"
            ],
            [
             0.7,
             "rgb(146,197,222)"
            ],
            [
             0.8,
             "rgb(67,147,195)"
            ],
            [
             0.9,
             "rgb(33,102,172)"
            ],
            [
             1.0,
             "rgb(5,48,97)"
            ]
           ]
          },
          "xaxis": {
           "gridcolor": "rgb(232,232,232)",
           "linecolor": "rgb(36,36,36)",
           "ticks": "outside",
           "title": {
            "standoff": 15
           },
           "zerolinecolor": "rgb(36,36,36)",
           "automargin": true,
           "zerolinewidth": 2,
           "showgrid": false,
           "showline": true,
           "zeroline": false
          },
          "yaxis": {
           "gridcolor": "rgb(232,232,232)",
           "linecolor": "rgb(36,36,36)",
           "ticks": "outside",
           "title": {
            "standoff": 15
           },
           "zerolinecolor": "rgb(36,36,36)",
           "automargin": true,
           "zerolinewidth": 2,
           "showgrid": false,
           "showline": true,
           "zeroline": false
          },
          "scene": {
           "xaxis": {
            "backgroundcolor": "white",
            "gridcolor": "rgb(232,232,232)",
            "linecolor": "rgb(36,36,36)",
            "showbackground": true,
            "ticks": "outside",
            "zerolinecolor": "rgb(36,36,36)",
            "gridwidth": 2,
            "showgrid": false,
            "showline": true,
            "zeroline": false
           },
           "yaxis": {
            "backgroundcolor": "white",
            "gridcolor": "rgb(232,232,232)",
            "linecolor": "rgb(36,36,36)",
            "showbackground": true,
            "ticks": "outside",
            "zerolinecolor": "rgb(36,36,36)",
            "gridwidth": 2,
            "showgrid": false,
            "showline": true,
            "zeroline": false
           },
           "zaxis": {
            "backgroundcolor": "white",
            "gridcolor": "rgb(232,232,232)",
            "linecolor": "rgb(36,36,36)",
            "showbackground": true,
            "ticks": "outside",
            "zerolinecolor": "rgb(36,36,36)",
            "gridwidth": 2,
            "showgrid": false,
            "showline": true,
            "zeroline": false
           }
          },
          "shapedefaults": {
           "line": {
            "color": "#f2f5fa",
            "width": 0
           },
           "fillcolor": "black",
           "opacity": 0.3
          },
          "annotationdefaults": {
           "arrowcolor": "#f2f5fa",
           "arrowhead": 0,
           "arrowwidth": 1
          },
          "geo": {
           "bgcolor": "white",
           "landcolor": "white",
           "subunitcolor": "white",
           "showland": true,
           "showlakes": true,
           "lakecolor": "white"
          },
          "title": {
           "x": 0.05
          },
          "updatemenudefaults": {
           "bgcolor": "#506784",
           "borderwidth": 0
          },
          "sliderdefaults": {
           "bgcolor": "#C8D4E3",
           "borderwidth": 1,
           "bordercolor": "rgb(17,17,17)",
           "tickwidth": 0
          },
          "mapbox": {
           "style": "light"
          }
         }
        },
        "xaxis": {
         "anchor": "y",
         "domain": [
          0.0,
          1.0
         ],
         "matches": "x3",
         "showticklabels": false
        },
        "yaxis": {
         "anchor": "x",
         "domain": [
          0.608,
          1.0
         ],
         "title": {
          "text": "Resolution (A)"
         }
        },
        "xaxis2": {
         "anchor": "y2",
         "domain": [
          0.0,
          1.0
         ],
         "matches": "x3",
         "showticklabels": false
        },
        "yaxis2": {
         "anchor": "x2",
         "domain": [
          0.304,
          0.598
         ],
         "title": {
          "text": "Fraction of Sequence <br> Covered by Structure"
         }
        },
        "xaxis3": {
         "anchor": "y3",
         "domain": [
          0.0,
          1.0
         ],
         "title": {
          "text": "Protein Name (Uniprot ID)"
         },
         "range": [
          -0.5,
          57.5
         ],
         "ticktext": [
          "A1AG1 (P02763)",
          "OXA1L (Q15070)",
          "ABCBB (O95342)",
          "ABCG2 (Q9UNQ0)",
          "MDR1 (P08183)",
          "MRP1 (P33527)",
          "S15A1 (P46059)",
          "S22A6 (Q4U2R8)",
          "S22A8 (Q8TCC7)",
          "S47A1 (Q96FL8)",
          "SO1B1 (Q9Y6L6)",
          "SO1B3 (Q9NPD5)",
          "AHR (P35869)",
          "GSTA1 (P08263)",
          "NR1I2 (O75469)",
          "NR1I3 (Q14994)",
          "ST1A1 (P50225)",
          "ADH1A (P07327)",
          "AL1A1 (P00352)",
          "AOFA (P21397)",
          "AOFB (P27338)",
          "AOXA (Q06278)",
          "ARK73 (O95154)",
          "CP1A2 (P05177)",
          "CP2B6 (P20813)",
          "CP2C9 (P11712)",
          "CP2CJ (P33261)",
          "CP2D6 (P10635)",
          "CP3A4 (P08684)",
          "DHI1 (P28845)",
          "FMO1 (Q01740)",
          "XDH (P47989)",
          "5HT2B (P41595)",
          "ACH10 (Q9GZZ6)",
          "ACHA3 (P32297)",
          "ACHA5 (P30532)",
          "ACHA7 (P36544)",
          "ACHA9 (Q9UGM1)",
          "ACM1 (P11229)",
          "ACM2 (P08172)",
          "ACM3 (P20309)",
          "ADA1A (P35348)",
          "ADA2A (P08913)",
          "ADRB1 (P08588)",
          "ADRB2 (P07550)",
          "ASM3A (Q92484)",
          "CAC1C (Q13936)",
          "CACB1 (Q02641)",
          "CNR1 (P21554)",
          "CNR2 (P34972)",
          "GBRA1 (P14867)",
          "HRH1 (P35367)",
          "KCNH2 (Q12809)",
          "SC6A2 (P23975)",
          "SC6A3 (Q01959)",
          "SC6A4 (P31645)",
          "SCN5A (Q14524)"
         ],
         "tickvals": [
          0,
          1,
          2,
          3,
          4,
          5,
          6,
          7,
          8,
          9,
          10,
          11,
          12,
          13,
          14,
          15,
          16,
          17,
          18,
          19,
          20,
          21,
          22,
          23,
          24,
          25,
          26,
          27,
          28,
          29,
          30,
          31,
          32,
          33,
          34,
          35,
          36,
          37,
          38,
          39,
          40,
          41,
          42,
          43,
          44,
          45,
          46,
          47,
          48,
          49,
          50,
          51,
          52,
          53,
          54,
          55,
          56
         ]
        },
        "yaxis3": {
         "anchor": "x3",
         "domain": [
          0.0,
          0.294
         ],
         "title": {
          "text": "Fraction Modeled with <br> Very High Confidence <br> (pLDDT > 90)"
         }
        },
        "title": {
         "text": "Analysis of Experimental Structure Quality for ADMET Targets"
        },
        "height": 800,
        "width": 1600
       },
       "config": {
        "plotlyServerURL": "https://plot.ly"
       }
      },
      "text/html": "<div>                            <div id=\"545c10ed-93fe-439d-9483-91d5416c0fd1\" class=\"plotly-graph-div\" style=\"height:800px; width:1600px;\"></div>            <script type=\"text/javascript\">                require([\"plotly\"], function(Plotly) {                    window.PLOTLYENV=window.PLOTLYENV || {};                                    if (document.getElementById(\"545c10ed-93fe-439d-9483-91d5416c0fd1\")) {                    Plotly.newPlot(                        \"545c10ed-93fe-439d-9483-91d5416c0fd1\",                        [{\"legendgroup\":\"absorption\",\"legendgrouptitle\":{\"text\":\"ADMET Category (Color)\"},\"marker\":{\"color\":\"#11efb7\",\"line\":{\"color\":\"black\",\"width\":1},\"size\":10,\"symbol\":\"diamond-tall\"},\"mode\":\"markers\",\"name\":\"absorption\",\"opacity\":1,\"showlegend\":true,\"x\":[-0.19745084325780768],\"y\":[1.8],\"type\":\"scatter\",\"xaxis\":\"x\",\"yaxis\":\"y\"},{\"legendgroup\":\"absorption\",\"legendgrouptitle\":{\"text\":\"ADMET Category (Color)\"},\"marker\":{\"color\":\"#11efb7\",\"line\":{\"color\":\"black\",\"width\":2},\"size\":10,\"symbol\":\"circle\"},\"mode\":\"markers\",\"name\":\"absorption\",\"opacity\":1,\"showlegend\":false,\"x\":[1.103698093961028,0.8089131013582395],\"y\":[2.89,3.7],\"type\":\"scatter\",\"xaxis\":\"x\",\"yaxis\":\"y\"},{\"legendgroup\":\"drug_transporter\",\"marker\":{\"color\":\"#9553ff\",\"line\":{\"color\":\"black\",\"width\":1},\"size\":10,\"symbol\":\"diamond-tall\"},\"mode\":\"markers\",\"name\":\"drug_transporter\",\"opacity\":1,\"showlegend\":true,\"x\":[4.9315040322678945,5.037631371491542],\"y\":[1.5,2.1],\"type\":\"scatter\",\"xaxis\":\"x\",\"yaxis\":\"y\"},{\"legendgroup\":\"drug_transporter\",\"marker\":{\"color\":\"#9553ff\",\"line\":{\"color\":\"black\",\"width\":2},\"size\":10,\"symbol\":\"circle\"},\"mode\":\"markers\",\"name\":\"drug_transporter\",\"opacity\":1,\"showlegend\":false,\"x\":[1.9369975571420937,1.8715264201917368,2.162488822165296,2.834151314839852,2.8056261154917497,2.8378961198412527,2.8738222622848437,3.150299889185333,3.1353024792630713,3.0396280827442523,2.9715170279054215,3.1501978484621036,3.072855896091998,3.0183270262352,2.8773522754571124,2.983607473940702,2.818603196087719,3.1929883018275884,3.0928066440459716,2.812725579407232,3.174351303440258,3.1276312247831437,2.9548689121311145,2.8920553898921892,3.0985260947406275,3.106462976609557,2.850759048306076,4.036572312690106,3.9140134476413397,3.959879606340322,3.945558817615884,4.040955591323396,3.88928976498556,4.033843750177643,3.8379982307530716,3.8013484953545125,4.151513948372586,5.951528170530977,6.039768695811101,6.035812447939253,10.118475353902529,10.058552245422764,10.040371930104982,9.922573945961425,9.854151874576711,9.997298964185417,11.16375016761838],\"y\":[3.5,3.7,3.66,3.78,3.78,3.1,3.6,3.56,3.09,3.58,3.56,3.09,3.5,4.0,3.7,4.1,3.12,3.39,3.51,3.4,3.1,3.4,3.1,3.2,3.04,3.2,3.49,3.4,3.58,4.14,3.6,3.9,3.2,3.6,3.6,3.5,3.5,4.1,3.5,3.9,3.53,3.73,3.19,3.73,2.92,3.6,2.97],\"type\":\"scatter\",\"xaxis\":\"x\",\"yaxis\":\"y\"},{\"legendgroup\":\"metabolism\",\"marker\":{\"color\":\"#ffb418\",\"line\":{\"color\":\"black\",\"width\":1},\"size\":10,\"symbol\":\"diamond-tall\"},\"mode\":\"markers\",\"name\":\"metabolism\",\"opacity\":1,\"showlegend\":true,\"x\":[12.167136517157076,13.017718258962324,12.869563864161362,12.808834756671347,13.153013098456075,13.188590686639145,12.856704932471942,12.956804919751448,12.878755689564626,13.113163640374479,13.134237747179787,13.018237713821852,12.823017191819458,13.165063037921477,13.048334541009096,13.00584798128505,12.980932189437118,13.003882670592414,13.164384498838245,12.800382262440456,12.810832274126897,12.844180115312666,13.182116184370969,12.840496067634733,12.92865051772895,12.88192666426383,12.903623679748595,13.036875103304114,13.188421412123233,13.104465268637181,12.97152919087765,13.000891077284106,13.098965995786822,13.150569546915072,12.945084737869399,13.164826000413914,12.815933432112182,13.129402051477866,12.925386313857938,13.054808842510916,14.190356248040022,14.116125296349043,14.130962094590554,13.949678810660858,13.860267662499773,14.006145083110127,13.862297874167924,13.918147940392426,14.119015911235302,14.008237875062699,13.812180194453642,14.183853431220351,13.850091323145623,14.161534312941452,14.160810775677948,14.08312059013677,13.998884704531795,14.182254768096188,14.17875593062694,13.953314496473839,13.88829935218717,14.158490313396,13.920180935756491,13.814299197696645,13.853557778680047,14.041762914046652,13.802694522794155,14.12081035971986,14.016840448366553,14.193665342861864,13.81730422194186,13.856716842635288,14.007402114470347,14.040416983998886,14.028416543452849,14.070813520804622,14.035881035772347,13.829670585153734,13.949990740600072,14.031413900337807,13.911053399383475,14.042030411497716,14.049420680039393,14.0738749783929,13.809551714490997,14.097821282876787,13.970346958931502,13.869253175319653,14.16890944823323,13.888372700586265,14.184713006633716,13.845489274969575,13.911505501502933,14.944691957164423,14.9458001084857,15.95295516668157,15.915130551999365,15.827894357311726,15.941323812586482,15.851057471116485,16.01717278736372,16.15607727153752,16.133206116465743,15.830904346377906,16.179584716853356,16.17980376255324],\"y\":[3.3,2.5,2.0,2.7,2.6,1.5,1.8,1.3,1.86,2.0,2.1,1.75,1.8,2.07,1.85,1.95,1.8,2.51,2.38,1.98,2.2,1.75,2.13,1.79,2.2,1.86,1.88,2.1,1.93,2.33,1.6,1.55,1.7,2.0,1.29,2.19,2.03,2.46,1.56,1.87,2.52,2.76,2.15,2.0,2.8,2.8,2.8,2.0,2.1,2.8,2.8,2.8,2.8,2.8,3.14,2.0,2.25,2.58,2.4,2.25,2.67,2.56,2.3,2.28,2.22,2.27,2.3,2.7,1.85,2.27,2.15,2.25,2.26,2.55,2.05,2.65,1.9,2.45,2.7,2.55,2.15,2.3,2.0,2.5,2.26,2.48,2.05,2.2,2.1,2.25,2.37,2.3,2.2,2.7,2.6,1.9,2.3,2.3,2.5,2.35,2.7,2.36,2.3,2.0,2.36,2.56],\"type\":\"scatter\",\"xaxis\":\"x\",\"yaxis\":\"y\"},{\"legendgroup\":\"metabolism\",\"marker\":{\"color\":\"#ffb418\",\"line\":{\"color\":\"black\",\"width\":2},\"size\":10,\"symbol\":\"circle\"},\"mode\":\"markers\",\"name\":\"metabolism\",\"opacity\":1,\"showlegend\":false,\"x\":[12.0617822787251],\"y\":[2.85],\"type\":\"scatter\",\"xaxis\":\"x\",\"yaxis\":\"y\"},{\"legendgroup\":\"metabolism_redox\",\"marker\":{\"color\":\"#d07c09\",\"line\":{\"color\":\"black\",\"width\":1},\"size\":10,\"symbol\":\"diamond-tall\"},\"mode\":\"markers\",\"name\":\"metabolism_redox\",\"opacity\":1,\"showlegend\":true,\"x\":[17.094961378264436,16.92166505048839,18.025988514507993,17.830020115955687,17.84120377332393,17.93569778998718,18.124927903139252,17.822506237084113,17.908564936888627,17.866091676896875,17.878618855197626,17.853325560283064,17.98920523658552,18.119675520990143,17.837938781633916,17.98250494264698,17.818168974756677,18.020263422837893,18.01568954816451,18.938665054942195,19.0598247478565,18.876337458016074,18.828238366900997,19.896488970272006,19.815060825983863,20.163094067235416,19.828725534078384,19.91699427583865,20.09535520089931,20.03898052952106,19.98092570730694,20.001629128548764,19.829461742928757,19.828606778277607,20.026940089388866,19.890397155410152,19.833509011730726,19.94019725987349,20.11263049208866,19.97662088771791,20.01389475931284,19.989471095033316,19.861396137744283,19.95302600954488,20.016235205795294,20.01138817665549,20.14284640179673,20.134996130669077,20.14360353756313,19.94135805736814,20.091752150694624,20.066587895288663,20.13350831405274,19.98432776602631,19.912893363779208,20.19036406071005,20.130891425987244,20.114337688278326,20.023403453779455,19.98407251028773,19.813800375869096,20.11524005621378,19.93956860775035,19.8939541166629,19.985458214334148,19.86517316404709,19.90649078217162,20.175372238603348,19.971337578408313,20.098590689987166,20.099562200301808,19.911695934566684,19.985134579217195,20.104404050632922,19.800451541856567,20.836341883621813,20.921987084500458,20.803617335689975,20.926744028658177,21.06098461950359,20.863223192519047,21.87785807101745,23.1999765255817,24.04267792321391,24.07886736625592,24.182262971035982,24.078023217556694,23.802045165092327,23.920819852361394,24.138674915551757,23.903846142475334,23.98395108708092,23.850313994478068,23.980381539849073,24.103737013085457,23.897644300927208,25.02772154835423,25.171770664526644,25.005321259866893,24.880433105906846,24.91904610176491,25.12600541814398,24.937971290537135,24.862830871381707,24.993505767924347,25.090688212761815,24.840567861454037,24.837286979239025,25.008605471957285,25.82002234980069,27.077943382961596,27.192886752696644,26.833774083702043,27.10716732897939,26.813567634771868,26.88051925210455,26.856872139781743,27.07372654281819,27.096807425050073,26.913242130431513,27.000875432765937,26.95438498334184,26.910402307170337,26.928400446044943,28.08113036202602,27.977267853900642,28.110342762525143,28.16414285893025,27.954831685876645,28.020467322883718,28.07967824683268,27.88146364592119,28.14289242911983,28.029139029427704,27.947231887627392,27.80741287959708,27.98514508357623,27.933520473439522,28.036984494675764,28.159580538697067,28.06754755420694,28.197111290699965,27.944270213855656,28.092559682318015,28.093467909237905,27.87420249552369,28.11371559792979,28.12367940707445,27.913236257996385,27.89647764374522,27.978111141642202,28.079332490602194,27.970150384608864,27.957396444480988,27.810080387663113,27.88292492862703,28.005190139712443,28.142485816263406,28.029649980342874,27.934835400134435,27.901350138434797,27.977270981205574,27.927572601078445,28.051840524855724,27.87117276238699,27.84420661713676,28.00558543452875,27.971458641832708,27.89961978396313,28.199552127831247,27.819243912511727,27.978471301357494,28.124946393493417,28.073159465092296,27.9018151665742,28.08204732460988,27.880556236830376,27.833398170877295,27.813260302091063,27.94785573936567,28.058384714689137,28.04336763015993,27.983430481881072,28.147285683594674,27.95083623255889,28.09301630798193,27.98843982160623,27.804280450219505,27.982953741289826,27.873199364746906,27.83379358887696,28.007773355115386,28.055118064110488,28.035236384821008,27.805476397452843,27.827509062496727,27.821115089590318,28.16845725766356,27.86934139808694,27.9372181423814,28.032909196641985,28.100154826105385,28.85854059057453,28.96443078957695,29.17039906841991,29.160922559254626,28.958854259813773,29.106317933961485,28.956327243985548,29.05021259410071,28.887474066318525,28.92915166025488,28.99511980975749,29.098370016720423,28.95980138681067,29.149117150396055,29.000661175822405,29.17869783823942,28.819494073447007,29.18268055764817,29.011646572488683,29.053432189964607,28.870439156474337,29.119549456676758,28.984756004424778,29.131848174279813,28.948091116540812,28.872376880774087,29.06637155532553,29.17636744615668,28.917180126135523,28.931394840087744,28.81401055008455,29.14390256120607,29.049668725016588,29.040800729792927,29.176560123272424,29.062748712746497,29.058073619082254,28.878878427483617,29.18476793116573,29.194742864682834,30.976695645333315,31.090018760493784],\"y\":[2.5,2.49,2.07,1.74,1.8,1.95,1.85,1.85,1.7,1.7,2.05,2.1,2.0,1.6,1.8,1.9,1.6,1.6,1.8,3.0,3.15,2.2,2.17,3.0,2.3,1.7,2.4,3.1,2.07,2.12,1.65,1.6,1.8,1.9,1.83,2.2,2.2,1.7,2.5,1.7,2.06,2.0,2.2,1.7,1.7,1.6,2.0,1.7,2.4,2.3,2.3,1.9,1.6,2.1,1.66,2.2,2.2,1.8,2.2,1.89,1.7,1.8,2.42,1.8,1.6,1.7,2.3,1.7,2.3,1.8,2.3,2.1,2.3,2.1,2.0,2.6,2.7,3.39,3.1,2.6,2.7,3.0,1.95,2.0,2.1,2.8,2.8,2.0,2.1,2.2,2.24,2.03,1.93,2.27,1.76,2.99,2.6,2.55,2.0,2.45,2.0,2.9,2.3,2.0,2.0,2.48,2.3,3.12,2.23,2.87,3.0,2.85,2.1,2.67,2.6,2.26,2.35,3.3,2.5,2.4,2.71,2.75,2.39,2.39,2.05,2.8,2.65,2.74,2.75,2.8,2.0,2.25,2.15,1.93,2.25,2.8,2.76,2.6,2.72,2.9,2.5,2.85,2.6,2.4,2.76,2.95,2.5,2.45,2.6,2.7,2.7,1.7,1.95,2.2,2.2,2.23,2.5,2.5,2.42,2.38,2.25,2.57,2.67,2.6,2.25,2.52,2.2,2.5,2.5,2.79,2.55,2.65,2.55,2.75,2.7,2.65,2.75,2.75,2.5,2.75,2.78,2.65,2.45,2.5,2.25,2.35,2.9,2.4,2.7,2.4,2.2,2.3,2.35,2.3,2.1,2.4,2.25,2.2,2.15,2.05,2.05,2.15,1.8,1.55,2.11,2.3,3.1,1.9,2.69,2.25,2.35,2.35,2.6,2.5,2.55,3.0,2.65,2.3,2.19,2.3,2.6,2.3,2.72,1.8,2.2,2.55,2.16,1.91,2.73,2.19,2.35,2.35,2.35,1.96,2.8,3.2,2.35,2.35,2.37,2.5,2.07,2.45,3.59,2.6],\"type\":\"scatter\",\"xaxis\":\"x\",\"yaxis\":\"y\"},{\"legendgroup\":\"metabolism_redox\",\"marker\":{\"color\":\"#d07c09\",\"line\":{\"color\":\"black\",\"width\":2},\"size\":10,\"symbol\":\"circle\"},\"mode\":\"markers\",\"name\":\"metabolism_redox\",\"opacity\":1,\"showlegend\":false,\"x\":[17.897532833205954,17.9311868535382,18.15537780712236,20.816345567825934],\"y\":[2.84,3.4,2.64,2.92],\"type\":\"scatter\",\"xaxis\":\"x\",\"yaxis\":\"y\"},{\"legendgroup\":\"toxicity\",\"marker\":{\"color\":\"#5e2bcb\",\"line\":{\"color\":\"black\",\"width\":1},\"size\":10,\"symbol\":\"diamond-tall\"},\"mode\":\"markers\",\"name\":\"toxicity\",\"opacity\":1,\"showlegend\":true,\"x\":[32.11607838617901,31.976061368580346,32.09247423474748,32.15203848485177,32.038922311465534,32.09605053176691,32.00878779842793,32.12204235651951,34.03409674846419,33.96023335671199,34.092558826888514,35.82478456254536,36.00877898163113,35.95748940555236,35.901036378041994,35.88482503462956,36.09224208855163,36.96615567171744,37.172659421213204,36.86576302543079,37.0232603638513,38.16321615496186,37.82596947541644,38.187509325135636,37.99330506815721,38.08049211372319,39.08149748627802,39.13758778032999,39.16927825353681,39.116332404435546,39.13841294302274,39.10866170649795,39.051229305715665,38.952101095957865,42.18490804384486,42.089422065906774,42.86922598608889,43.17267158547681,43.08304557162924,43.076971009054624,44.033618572036985,44.13451561803836,44.1711644058777,43.86153327042607,43.92533490196828,44.14241096398054,44.133261777151574,43.83721691588983,44.13916917250481,44.13624041329252,43.92597089098285,44.09953885319537,44.11142134631571,44.14923047550415,43.88691394234593,43.83747834820641,44.13402743834838,44.06250413058429,43.81370223244852,43.90420971462271,44.14383578393587,44.163807911660115,44.009750513677254,43.86486616643817,43.912733978872225,44.05113392431438,43.80630798022643,44.119811973103666,44.00681217809587,43.90905471474701,44.000383480967024,44.14462581431281,44.06322214809731,44.089355656932746,43.84028883887992,44.12019156739822,44.88247108846608,45.12956554663583,46.15413697227344,46.065633059090196,45.970723611004104,46.128511895130416,45.92624107518436,46.00375230541013,46.12801935625038,46.147753985881835,46.19943506113793,46.01360907481902,46.10162232766196,45.97965410232049,45.87860486004936,45.924946871801495,46.180649247113536,48.1321524887212,47.81621560679526,48.04724484867956,48.015040895059414,47.91098201038876,47.96029846261234,48.03750652026591,49.06112124187563,49.1799929018616,49.957125849954565,50.08363978131599,50.86796327153013,51.969277288210954,52.145603261870185,52.030839569507066,51.92459183750743,54.81439488388511,54.950837718652195,54.95334395570226,55.191631502780496,54.87204614199972,55.1068633490624,54.82617231519414,54.86496679511971,55.14801121900582,55.19232211574276,55.19052078710071,54.811115118384535,56.18034597602617,55.81848303805827,55.88929608351851,56.164853459128246,56.14478350394851,56.003904894219815],\"y\":[2.7,2.8,3.0,2.9,3.1,2.92,3.1,3.19,1.9,2.0,1.93,2.4,2.2,2.38,2.38,2.85,2.15,1.8,1.71,2.7,2.26,2.7,2.55,2.17,2.33,2.5,3.0,3.5,3.7,2.5,2.6,3.0,2.95,2.3,2.7,3.2,3.13,2.7,2.6,2.5,1.9,3.4,3.4,2.4,2.8,3.4,2.84,2.84,3.16,3.5,3.5,3.2,3.99,2.79,3.1,3.2,3.3,2.48,3.8,3.2,3.2,2.7,3.7,2.96,3.2,3.1,2.8,3.4,3.2,2.4,2.5,2.6,2.9,2.7,3.4,3.1,2.6,3.0,2.0,2.0,1.45,1.6,2.1,2.55,2.0,1.7,1.65,2.0,2.4,2.4,1.65,1.7,1.75,2.8,2.6,2.95,2.8,3.25,2.7,3.29,2.8,3.2,3.45,3.2,3.1,2.6,2.12,1.96,1.5,3.14,4.53,3.15,3.24,3.4,3.49,3.62,3.53,3.8,4.05,4.7,6.3,2.2,1.35,3.84,2.8,2.25,2.69],\"type\":\"scatter\",\"xaxis\":\"x\",\"yaxis\":\"y\"},{\"legendgroup\":\"toxicity\",\"marker\":{\"color\":\"#5e2bcb\",\"line\":{\"color\":\"black\",\"width\":2},\"size\":10,\"symbol\":\"circle\"},\"mode\":\"markers\",\"name\":\"toxicity\",\"opacity\":1,\"showlegend\":false,\"x\":[31.838717207993863,32.17517906989153,32.006417371309794,34.02867351428566,34.056957948834366,36.02519196619969,35.96852693230153,35.86654325974679,35.94752918792747,36.06546786058343,35.82788589545419,36.04026507996913,36.16771289281962,36.19246593437165,36.173145908778636,35.97403800364075,38.011215950910014,39.0831467685869,39.05123783826241,39.187856817154426,39.08867153836349,39.0728491840477,38.85897161343917,40.02303935144427,40.14367531339142,40.04871741508035,39.96990285252568,40.87060357115177,41.14982465176998,42.1214386840157,41.89007089995499,41.97202169976959,41.90456722231936,42.02860278626562,42.024878248756075,41.80437094399032,44.12726675192418,44.1953005630683,43.91018047378122,44.05820765862471,43.99836985961592,43.89603332477005,45.846266472691966,46.099639618822266,46.83528733404851,47.14362216834084,46.962897754707,46.87866146875063,46.95961331627834,47.80482144945565,48.166409536180225,48.12545062736699,47.88744623448693,48.971927179166485,48.94877291701175,49.12229048063749,49.19282635115349,48.929272395310356,48.80767425853491,50.06768872462858,49.87626919190566,49.80264038888994,50.147242262860395,50.12093328417561,50.15112277119799,49.84985123376105,49.83254699002113,50.04432912152918,50.05485591807727,49.87090502148338,50.16620809748373,49.84969108526448,50.18102357193131,49.935702981282844,49.838693829655384,49.9343946518497,49.99949839587096,50.002374039882454,49.99025752377055,50.032554444837864,50.14584494023311,49.85731877993347,50.12246997423841,49.98755146284897,50.0492653942806,50.107019915360056,50.81672862959618,51.83895011007446,52.105354336045345,52.143776204864785,54.83524042234765,55.0124091608615,54.92374243303441,55.180217538087135,54.90383395897594,55.029792930346076,54.923234778676076,55.14791430003236,54.881202980650166,55.125028079371745,55.05063543657021,54.93194365656797,55.10010100896378,55.087802574008876,55.12066556311732,55.848877592915684,56.13270064121199],\"y\":[2.7,2.9,3.3,3.34,3.87,3.18,2.85,3.02,3.0,3.6,2.7,2.3,3.4,2.7,2.8,4.4,3.3,3.6,4.0,3.21,3.32,3.16,3.22,2.69,2.79,2.69,2.56,2.6,3.1,4.1,3.2,3.0,3.6,3.4,3.47,3.4,3.8,3.82,3.26,3.8,3.2,3.4,3.4,3.1,2.8,3.0,3.0,3.3,3.1,3.0,3.0,3.36,2.8,2.9,3.2,3.08,2.84,2.97,2.98,3.8,3.8,3.1,3.04,3.69,3.26,3.58,3.2,3.12,2.55,3.49,3.5,3.3,2.92,3.23,2.86,3.04,2.79,3.0,2.7,3.0,3.0,2.9,2.9,2.65,2.98,2.71,3.3,3.7,3.8,4.0,4.2,4.3,4.1,3.6,3.3,4.1,3.8,3.5,4.1,3.9,3.9,3.3,3.65,3.5,3.0,3.3,3.3],\"type\":\"scatter\",\"xaxis\":\"x\",\"yaxis\":\"y\"},{\"legendgroup\":\"X-ray\",\"legendgrouptitle\":{\"text\":\"Method (Symbol)\"},\"marker\":{\"color\":\"#11efb7\",\"line\":{\"color\":\"black\",\"width\":1},\"size\":10,\"symbol\":\"diamond-tall\"},\"mode\":\"markers\",\"name\":\"X-ray\",\"opacity\":1,\"showlegend\":false,\"x\":[-0.19745084325780768],\"y\":[0.9054726368159204],\"type\":\"scatter\",\"xaxis\":\"x2\",\"yaxis\":\"y2\"},{\"legendgroup\":\"EM\",\"marker\":{\"color\":\"#11efb7\",\"line\":{\"color\":\"black\",\"width\":2},\"size\":10,\"symbol\":\"circle\"},\"mode\":\"markers\",\"name\":\"EM\",\"opacity\":1,\"showlegend\":false,\"x\":[1.103698093961028,0.8089131013582395],\"y\":[0.9977011494252873,0.9977011494252873],\"type\":\"scatter\",\"xaxis\":\"x2\",\"yaxis\":\"y2\"},{\"legendgroup\":\"X-ray\",\"legendgrouptitle\":{\"text\":\"Method (Symbol)\"},\"marker\":{\"color\":\"#9553ff\",\"line\":{\"color\":\"black\",\"width\":1},\"size\":10,\"symbol\":\"diamond-tall\"},\"mode\":\"markers\",\"name\":\"X-ray\",\"opacity\":1,\"showlegend\":false,\"x\":[4.9315040322678945,5.037631371491542],\"y\":[0.1495754408883083,0.16525146962769433],\"type\":\"scatter\",\"xaxis\":\"x2\",\"yaxis\":\"y2\"},{\"legendgroup\":\"EM\",\"marker\":{\"color\":\"#9553ff\",\"line\":{\"color\":\"black\",\"width\":2},\"size\":10,\"symbol\":\"circle\"},\"mode\":\"markers\",\"name\":\"EM\",\"opacity\":1,\"showlegend\":false,\"x\":[1.9369975571420937,1.8715264201917368,2.162488822165296,2.834151314839852,2.8056261154917497,2.8378961198412527,2.8738222622848437,3.150299889185333,3.1353024792630713,3.0396280827442523,2.9715170279054215,3.1501978484621036,3.072855896091998,3.0183270262352,2.8773522754571124,2.983607473940702,2.818603196087719,3.1929883018275884,3.0928066440459716,2.812725579407232,3.174351303440258,3.1276312247831437,2.9548689121311145,2.8920553898921892,3.0985260947406275,3.106462976609557,2.850759048306076,4.036572312690106,3.9140134476413397,3.959879606340322,3.945558817615884,4.040955591323396,3.88928976498556,4.033843750177643,3.8379982307530716,3.8013484953545125,4.151513948372586,5.951528170530977,6.039768695811101,6.035812447939253,10.118475353902529,10.058552245422764,10.040371930104982,9.922573945961425,9.854151874576711,9.997298964185417,11.16375016761838],\"y\":[0.9992429977289932,0.9606358819076457,0.9992429977289932,0.9969465648854962,0.9969465648854962,0.9984732824427481,0.9984732824427481,0.9969465648854962,0.9984732824427481,0.9969465648854962,0.9984732824427481,0.9984732824427481,0.9984732824427481,0.9984732824427481,0.9984732824427481,0.9984732824427481,0.9984732824427481,0.9984732824427481,0.9984732824427481,0.9969465648854962,0.9969465648854962,0.9969465648854962,0.9969465648854962,0.9969465648854962,0.9984732824427481,0.9984732824427481,0.9984732824427481,0.99921875,0.97421875,0.9984375,0.99921875,0.99921875,0.99921875,0.99921875,0.99921875,0.99921875,0.99921875,0.998587570621469,0.998587570621469,0.998587570621469,0.9985528219971056,0.9985528219971056,0.9985528219971056,0.9985528219971056,0.9985528219971056,0.9985528219971056,0.9985754985754985],\"type\":\"scatter\",\"xaxis\":\"x2\",\"yaxis\":\"y2\"},{\"legendgroup\":\"X-ray\",\"legendgrouptitle\":{\"text\":\"Method (Symbol)\"},\"marker\":{\"color\":\"#ffb418\",\"line\":{\"color\":\"black\",\"width\":1},\"size\":10,\"symbol\":\"diamond-tall\"},\"mode\":\"markers\",\"name\":\"X-ray\",\"opacity\":1,\"showlegend\":false,\"x\":[12.167136517157076,13.017718258962324,12.869563864161362,12.808834756671347,13.153013098456075,13.188590686639145,12.856704932471942,12.956804919751448,12.878755689564626,13.113163640374479,13.134237747179787,13.018237713821852,12.823017191819458,13.165063037921477,13.048334541009096,13.00584798128505,12.980932189437118,13.003882670592414,13.164384498838245,12.800382262440456,12.810832274126897,12.844180115312666,13.182116184370969,12.840496067634733,12.92865051772895,12.88192666426383,12.903623679748595,13.036875103304114,13.188421412123233,13.104465268637181,12.97152919087765,13.000891077284106,13.098965995786822,13.150569546915072,12.945084737869399,13.164826000413914,12.815933432112182,13.129402051477866,12.925386313857938,13.054808842510916,14.190356248040022,14.116125296349043,14.130962094590554,13.949678810660858,13.860267662499773,14.006145083110127,13.862297874167924,13.918147940392426,14.119015911235302,14.008237875062699,13.812180194453642,14.183853431220351,13.850091323145623,14.161534312941452,14.160810775677948,14.08312059013677,13.998884704531795,14.182254768096188,14.17875593062694,13.953314496473839,13.88829935218717,14.158490313396,13.920180935756491,13.814299197696645,13.853557778680047,14.041762914046652,13.802694522794155,14.12081035971986,14.016840448366553,14.193665342861864,13.81730422194186,13.856716842635288,14.007402114470347,14.040416983998886,14.028416543452849,14.070813520804622,14.035881035772347,13.829670585153734,13.949990740600072,14.031413900337807,13.911053399383475,14.042030411497716,14.049420680039393,14.0738749783929,13.809551714490997,14.097821282876787,13.970346958931502,13.869253175319653,14.16890944823323,13.888372700586265,14.184713006633716,13.845489274969575,13.911505501502933,14.944691957164423,14.9458001084857,15.95295516668157,15.915130551999365,15.827894357311726,15.941323812586482,15.851057471116485,16.01717278736372,16.15607727153752,16.133206116465743,15.830904346377906,16.179584716853356,16.17980376255324],\"y\":[0.294811320754717,0.990990990990991,0.990990990990991,0.990990990990991,0.990990990990991,0.990990990990991,0.990990990990991,0.990990990990991,0.02252252252252252,0.9954954954954955,0.9954954954954955,0.9954954954954955,0.9954954954954955,0.990990990990991,0.990990990990991,0.9954954954954955,0.9954954954954955,0.9954954954954955,0.9954954954954955,0.9954954954954955,0.9954954954954955,0.990990990990991,0.9954954954954955,0.990990990990991,0.9954954954954955,0.9954954954954955,0.9954954954954955,0.972972972972973,0.990990990990991,0.2702702702702703,0.2072072072072072,0.990990990990991,0.990990990990991,0.990990990990991,0.990990990990991,0.9954954954954955,0.9954954954954955,0.9954954954954955,0.9954954954954955,0.9954954954954955,0.7004608294930875,0.7004608294930875,0.7004608294930875,0.7004608294930875,0.6935483870967742,0.6728110599078341,0.7004608294930875,0.7004608294930875,0.7004608294930875,0.7004608294930875,0.7004608294930875,0.7004608294930875,0.6658986175115207,0.7004608294930875,0.7004608294930875,0.7004608294930875,0.7004608294930875,0.7004608294930875,0.7004608294930875,0.695852534562212,0.7004608294930875,0.7004608294930875,0.6820276497695853,0.7004608294930875,0.7027649769585254,0.7004608294930875,0.7004608294930875,0.6820276497695853,0.7027649769585254,0.7004608294930875,0.7004608294930875,0.7004608294930875,0.7004608294930875,0.7004608294930875,0.7004608294930875,0.7004608294930875,0.7004608294930875,0.7004608294930875,0.7004608294930875,0.7004608294930875,0.7004608294930875,0.7004608294930875,0.7004608294930875,0.7004608294930875,0.684331797235023,0.684331797235023,0.684331797235023,0.684331797235023,0.7004608294930875,0.7004608294930875,0.7004608294930875,0.7004608294930875,0.7004608294930875,0.7073863636363636,0.7073863636363636,0.9966101694915255,0.9966101694915255,0.9966101694915255,0.9966101694915255,0.9966101694915255,0.9932203389830508,0.9966101694915255,0.9966101694915255,0.9966101694915255,0.9966101694915255,0.9966101694915255],\"type\":\"scatter\",\"xaxis\":\"x2\",\"yaxis\":\"y2\"},{\"legendgroup\":\"EM\",\"marker\":{\"color\":\"#ffb418\",\"line\":{\"color\":\"black\",\"width\":2},\"size\":10,\"symbol\":\"circle\"},\"mode\":\"markers\",\"name\":\"EM\",\"opacity\":1,\"showlegend\":false,\"x\":[12.0617822787251],\"y\":[0.5141509433962265],\"type\":\"scatter\",\"xaxis\":\"x2\",\"yaxis\":\"y2\"},{\"legendgroup\":\"X-ray\",\"legendgrouptitle\":{\"text\":\"Method (Symbol)\"},\"marker\":{\"color\":\"#d07c09\",\"line\":{\"color\":\"black\",\"width\":1},\"size\":10,\"symbol\":\"diamond-tall\"},\"mode\":\"markers\",\"name\":\"X-ray\",\"opacity\":1,\"showlegend\":false,\"x\":[17.094961378264436,16.92166505048839,18.025988514507993,17.830020115955687,17.84120377332393,17.93569778998718,18.124927903139252,17.822506237084113,17.908564936888627,17.866091676896875,17.878618855197626,17.853325560283064,17.98920523658552,18.119675520990143,17.837938781633916,17.98250494264698,17.818168974756677,18.020263422837893,18.01568954816451,18.938665054942195,19.0598247478565,18.876337458016074,18.828238366900997,19.896488970272006,19.815060825983863,20.163094067235416,19.828725534078384,19.91699427583865,20.09535520089931,20.03898052952106,19.98092570730694,20.001629128548764,19.829461742928757,19.828606778277607,20.026940089388866,19.890397155410152,19.833509011730726,19.94019725987349,20.11263049208866,19.97662088771791,20.01389475931284,19.989471095033316,19.861396137744283,19.95302600954488,20.016235205795294,20.01138817665549,20.14284640179673,20.134996130669077,20.14360353756313,19.94135805736814,20.091752150694624,20.066587895288663,20.13350831405274,19.98432776602631,19.912893363779208,20.19036406071005,20.130891425987244,20.114337688278326,20.023403453779455,19.98407251028773,19.813800375869096,20.11524005621378,19.93956860775035,19.8939541166629,19.985458214334148,19.86517316404709,19.90649078217162,20.175372238603348,19.971337578408313,20.098590689987166,20.099562200301808,19.911695934566684,19.985134579217195,20.104404050632922,19.800451541856567,20.836341883621813,20.921987084500458,20.803617335689975,20.926744028658177,21.06098461950359,20.863223192519047,21.87785807101745,23.1999765255817,24.04267792321391,24.07886736625592,24.182262971035982,24.078023217556694,23.802045165092327,23.920819852361394,24.138674915551757,23.903846142475334,23.98395108708092,23.850313994478068,23.980381539849073,24.103737013085457,23.897644300927208,25.02772154835423,25.171770664526644,25.005321259866893,24.880433105906846,24.91904610176491,25.12600541814398,24.937971290537135,24.862830871381707,24.993505767924347,25.090688212761815,24.840567861454037,24.837286979239025,25.008605471957285,25.82002234980069,27.077943382961596,27.192886752696644,26.833774083702043,27.10716732897939,26.813567634771868,26.88051925210455,26.856872139781743,27.07372654281819,27.096807425050073,26.913242130431513,27.000875432765937,26.95438498334184,26.910402307170337,26.928400446044943,28.08113036202602,27.977267853900642,28.110342762525143,28.16414285893025,27.954831685876645,28.020467322883718,28.07967824683268,27.88146364592119,28.14289242911983,28.029139029427704,27.947231887627392,27.80741287959708,27.98514508357623,27.933520473439522,28.036984494675764,28.159580538697067,28.06754755420694,28.197111290699965,27.944270213855656,28.092559682318015,28.093467909237905,27.87420249552369,28.11371559792979,28.12367940707445,27.913236257996385,27.89647764374522,27.978111141642202,28.079332490602194,27.970150384608864,27.957396444480988,27.810080387663113,27.88292492862703,28.005190139712443,28.142485816263406,28.029649980342874,27.934835400134435,27.901350138434797,27.977270981205574,27.927572601078445,28.051840524855724,27.87117276238699,27.84420661713676,28.00558543452875,27.971458641832708,27.89961978396313,28.199552127831247,27.819243912511727,27.978471301357494,28.124946393493417,28.073159465092296,27.9018151665742,28.08204732460988,27.880556236830376,27.833398170877295,27.813260302091063,27.94785573936567,28.058384714689137,28.04336763015993,27.983430481881072,28.147285683594674,27.95083623255889,28.09301630798193,27.98843982160623,27.804280450219505,27.982953741289826,27.873199364746906,27.83379358887696,28.007773355115386,28.055118064110488,28.035236384821008,27.805476397452843,27.827509062496727,27.821115089590318,28.16845725766356,27.86934139808694,27.9372181423814,28.032909196641985,28.100154826105385,28.85854059057453,28.96443078957695,29.17039906841991,29.160922559254626,28.958854259813773,29.106317933961485,28.956327243985548,29.05021259410071,28.887474066318525,28.92915166025488,28.99511980975749,29.098370016720423,28.95980138681067,29.149117150396055,29.000661175822405,29.17869783823942,28.819494073447007,29.18268055764817,29.011646572488683,29.053432189964607,28.870439156474337,29.119549456676758,28.984756004424778,29.131848174279813,28.948091116540812,28.872376880774087,29.06637155532553,29.17636744615668,28.917180126135523,28.931394840087744,28.81401055008455,29.14390256120607,29.049668725016588,29.040800729792927,29.176560123272424,29.062748712746497,29.058073619082254,28.878878427483617,29.18476793116573,29.194742864682834,30.976695645333315,31.090018760493784],\"y\":[0.9946666666666667,0.9946666666666667,0.998003992015968,0.998003992015968,0.998003992015968,0.998003992015968,0.998003992015968,0.998003992015968,0.998003992015968,0.998003992015968,0.998003992015968,0.998003992015968,0.998003992015968,0.998003992015968,0.998003992015968,0.998003992015968,0.998003992015968,0.998003992015968,0.998003992015968,0.9981024667931688,0.9981024667931688,0.9715370018975332,0.9715370018975332,0.9961538461538462,0.9961538461538462,0.9961538461538462,0.9961538461538462,0.9961538461538462,0.9980769230769231,0.9980769230769231,0.9980769230769231,0.9980769230769231,0.9961538461538462,0.9961538461538462,0.9980769230769231,0.9961538461538462,0.9961538461538462,0.9961538461538462,0.9961538461538462,0.9961538461538462,0.9961538461538462,0.9961538461538462,0.9961538461538462,0.9961538461538462,0.9961538461538462,0.9961538461538462,0.9961538461538462,0.9961538461538462,0.9980769230769231,0.9980769230769231,0.9980769230769231,0.9980769230769231,0.9980769230769231,0.9980769230769231,0.9980769230769231,0.9980769230769231,0.9961538461538462,0.9980769230769231,0.9961538461538462,0.9980769230769231,0.9980769230769231,0.9980769230769231,0.9980769230769231,0.9980769230769231,0.9980769230769231,0.9980769230769231,0.9980769230769231,0.9980769230769231,0.9980769230769231,0.9961538461538462,0.9980769230769231,0.9980769230769231,0.9980769230769231,0.9980769230769231,0.9980769230769231,0.9992526158445441,0.9992526158445441,0.9992526158445441,0.9992526158445441,0.9992526158445441,0.9992526158445441,0.9758308157099698,0.9476744186046512,0.9389002036659878,0.945010183299389,0.945010183299389,0.945010183299389,0.945010183299389,0.945010183299389,0.945010183299389,0.9389002036659878,0.9592668024439919,0.9592668024439919,0.9592668024439919,0.9592668024439919,0.9592668024439919,0.9387755102040817,0.9387755102040817,0.963265306122449,0.9387755102040817,0.9510204081632653,0.9510204081632653,0.9510204081632653,0.9612244897959183,0.9612244897959183,0.9612244897959183,0.9408163265306122,0.9612244897959183,0.9510204081632653,0.9510204081632653,0.93158953722334,0.93158953722334,0.93158953722334,0.93158953722334,0.93158953722334,0.93158953722334,0.903420523138833,0.93158953722334,0.93158953722334,0.93158953722334,0.93158953722334,0.93158953722334,0.93158953722334,0.93158953722334,0.952286282306163,0.9502982107355865,0.9502982107355865,0.9502982107355865,0.9502982107355865,0.9502982107355865,0.9502982107355865,0.9542743538767395,0.9542743538767395,0.9542743538767395,0.9542743538767395,0.9542743538767395,0.9542743538767395,0.9542743538767395,0.9542743538767395,0.9542743538767395,0.9542743538767395,0.9542743538767395,0.9542743538767395,0.9542743538767395,0.9542743538767395,0.9502982107355865,0.9542743538767395,0.9542743538767395,0.9582504970178927,0.9542743538767395,0.9582504970178927,0.9582504970178927,0.9582504970178927,0.9582504970178927,0.9582504970178927,0.9582504970178927,0.9582504970178927,0.9582504970178927,0.9582504970178927,0.9582504970178927,0.9582504970178927,0.9582504970178927,0.9582504970178927,0.9582504970178927,0.9582504970178927,0.9582504970178927,0.9582504970178927,0.9582504970178927,0.9582504970178927,0.9582504970178927,0.9582504970178927,0.9582504970178927,0.9582504970178927,0.9582504970178927,0.9582504970178927,0.9582504970178927,0.9582504970178927,0.9582504970178927,0.9582504970178927,0.9542743538767395,0.9582504970178927,0.9582504970178927,0.9582504970178927,0.9582504970178927,0.9582504970178927,0.9582504970178927,0.9582504970178927,0.9582504970178927,0.9582504970178927,0.9582504970178927,0.9582504970178927,0.9582504970178927,0.9582504970178927,0.9582504970178927,0.9582504970178927,0.9582504970178927,0.9582504970178927,0.9582504970178927,0.9582504970178927,0.9582504970178927,0.9582504970178927,0.9582504970178927,0.9178082191780822,0.9178082191780822,0.8835616438356164,0.8938356164383562,0.9006849315068494,0.9143835616438356,0.9143835616438356,0.9178082191780822,0.9178082191780822,0.9178082191780822,0.9178082191780822,0.9178082191780822,0.9178082191780822,0.9143835616438356,0.9143835616438356,0.9178082191780822,0.9178082191780822,0.9178082191780822,0.9178082191780822,0.9178082191780822,0.9178082191780822,0.9178082191780822,0.9965753424657534,0.9965753424657534,0.9178082191780822,0.9178082191780822,0.9178082191780822,0.9178082191780822,0.9178082191780822,0.9178082191780822,0.9178082191780822,0.9178082191780822,0.9041095890410958,0.8835616438356164,0.9178082191780822,0.9178082191780822,0.9178082191780822,0.9178082191780822,0.9178082191780822,0.9178082191780822,0.9984996249062266,0.9992498124531133],\"type\":\"scatter\",\"xaxis\":\"x2\",\"yaxis\":\"y2\"},{\"legendgroup\":\"EM\",\"marker\":{\"color\":\"#d07c09\",\"line\":{\"color\":\"black\",\"width\":2},\"size\":10,\"symbol\":\"circle\"},\"mode\":\"markers\",\"name\":\"EM\",\"opacity\":1,\"showlegend\":false,\"x\":[17.897532833205954,17.9311868535382,18.15537780712236,20.816345567825934],\"y\":[0.998003992015968,0.998003992015968,0.998003992015968,0.9992526158445441],\"type\":\"scatter\",\"xaxis\":\"x2\",\"yaxis\":\"y2\"},{\"legendgroup\":\"X-ray\",\"legendgrouptitle\":{\"text\":\"Method (Symbol)\"},\"marker\":{\"color\":\"#5e2bcb\",\"line\":{\"color\":\"black\",\"width\":1},\"size\":10,\"symbol\":\"diamond-tall\"},\"mode\":\"markers\",\"name\":\"X-ray\",\"opacity\":1,\"showlegend\":true,\"x\":[32.11607838617901,31.976061368580346,32.09247423474748,32.15203848485177,32.038922311465534,32.09605053176691,32.00878779842793,32.12204235651951,34.03409674846419,33.96023335671199,34.092558826888514,35.82478456254536,36.00877898163113,35.95748940555236,35.901036378041994,35.88482503462956,36.09224208855163,36.96615567171744,37.172659421213204,36.86576302543079,37.0232603638513,38.16321615496186,37.82596947541644,38.187509325135636,37.99330506815721,38.08049211372319,39.08149748627802,39.13758778032999,39.16927825353681,39.116332404435546,39.13841294302274,39.10866170649795,39.051229305715665,38.952101095957865,42.18490804384486,42.089422065906774,42.86922598608889,43.17267158547681,43.08304557162924,43.076971009054624,44.033618572036985,44.13451561803836,44.1711644058777,43.86153327042607,43.92533490196828,44.14241096398054,44.133261777151574,43.83721691588983,44.13916917250481,44.13624041329252,43.92597089098285,44.09953885319537,44.11142134631571,44.14923047550415,43.88691394234593,43.83747834820641,44.13402743834838,44.06250413058429,43.81370223244852,43.90420971462271,44.14383578393587,44.163807911660115,44.009750513677254,43.86486616643817,43.912733978872225,44.05113392431438,43.80630798022643,44.119811973103666,44.00681217809587,43.90905471474701,44.000383480967024,44.14462581431281,44.06322214809731,44.089355656932746,43.84028883887992,44.12019156739822,44.88247108846608,45.12956554663583,46.15413697227344,46.065633059090196,45.970723611004104,46.128511895130416,45.92624107518436,46.00375230541013,46.12801935625038,46.147753985881835,46.19943506113793,46.01360907481902,46.10162232766196,45.97965410232049,45.87860486004936,45.924946871801495,46.180649247113536,48.1321524887212,47.81621560679526,48.04724484867956,48.015040895059414,47.91098201038876,47.96029846261234,48.03750652026591,49.06112124187563,49.1799929018616,49.957125849954565,50.08363978131599,50.86796327153013,51.969277288210954,52.145603261870185,52.030839569507066,51.92459183750743,54.81439488388511,54.950837718652195,54.95334395570226,55.191631502780496,54.87204614199972,55.1068633490624,54.82617231519414,54.86496679511971,55.14801121900582,55.19232211574276,55.19052078710071,54.811115118384535,56.18034597602617,55.81848303805827,55.88929608351851,56.164853459128246,56.14478350394851,56.003904894219815],\"y\":[0.31496881496881496,0.31496881496881496,0.31496881496881496,0.30561330561330563,0.31392931392931395,0.31496881496881496,0.31496881496881496,0.31392931392931395,0.0297029702970297,0.0297029702970297,0.0297029702970297,0.4063745019920319,0.4063745019920319,0.4063745019920319,0.4063745019920319,0.4063745019920319,0.4063745019920319,0.4405010438413361,0.4405010438413361,0.4405010438413361,0.4405010438413361,0.34891304347826085,0.34891304347826085,0.29891304347826086,0.29891304347826086,0.29891304347826086,0.3272532188841202,0.9978540772532188,0.9978540772532188,0.9785407725321889,0.9785407725321889,0.9785407725321889,0.9785407725321889,0.9785407725321889,0.9139784946236559,0.9139784946236559,0.7232704402515723,0.7232704402515723,0.7232704402515723,0.7232704402515723,0.009685230024213076,0.8813559322033898,0.8256658595641646,0.400726392251816,0.3801452784503632,0.8789346246973365,0.3801452784503632,0.3801452784503632,0.3801452784503632,0.400726392251816,0.3498789346246973,0.8135593220338984,0.8135593220338984,0.7723970944309927,0.7723970944309927,0.7723970944309927,0.7723970944309927,0.400726392251816,0.400726392251816,0.3910411622276029,0.7699757869249395,0.39951573849878935,0.39709443099273606,0.8135593220338984,0.7723970944309927,0.39951573849878935,0.3789346246973366,0.3789346246973366,0.3789346246973366,0.3789346246973366,0.3789346246973366,0.3789346246973366,0.3789346246973366,0.3789346246973366,0.7723970944309927,0.7723970944309927,0.9028697571743929,0.9161147902869757,0.00765420981539847,0.014858171994597028,0.009004952723998198,0.009004952723998198,0.03286807744259343,0.034218820351193155,0.00810445745159838,0.00810445745159838,0.014858171994597028,0.014858171994597028,0.014858171994597028,0.014858171994597028,0.014858171994597028,0.014858171994597028,0.014858171994597028,0.3061440677966102,0.3167372881355932,0.3061440677966102,0.3061440677966102,0.3029661016949153,0.3305084745762712,0.298728813559322,0.4041666666666667,0.4041666666666667,0.13157894736842105,0.13157894736842105,0.29055441478439425,0.09404659188955997,0.10785159620362382,0.11561691113028473,0.11216566005176877,0.8603174603174604,0.8603174603174604,0.8603174603174604,0.8603174603174604,0.8603174603174604,0.8603174603174604,0.8603174603174604,0.8603174603174604,0.8603174603174604,0.8603174603174604,0.8603174603174604,0.8603174603174604,0.08283730158730158,0.015376984126984126,0.08283730158730158,0.07738095238095238,0.022817460317460316,0.06746031746031746],\"type\":\"scatter\",\"xaxis\":\"x2\",\"yaxis\":\"y2\"},{\"legendgroup\":\"EM\",\"marker\":{\"color\":\"#5e2bcb\",\"line\":{\"color\":\"black\",\"width\":2},\"size\":10,\"symbol\":\"circle\"},\"mode\":\"markers\",\"name\":\"EM\",\"opacity\":1,\"showlegend\":true,\"x\":[31.838717207993863,32.17517906989153,32.006417371309794,34.02867351428566,34.056957948834366,36.02519196619969,35.96852693230153,35.86654325974679,35.94752918792747,36.06546786058343,35.82788589545419,36.04026507996913,36.16771289281962,36.19246593437165,36.173145908778636,35.97403800364075,38.011215950910014,39.0831467685869,39.05123783826241,39.187856817154426,39.08867153836349,39.0728491840477,38.85897161343917,40.02303935144427,40.14367531339142,40.04871741508035,39.96990285252568,40.87060357115177,41.14982465176998,42.1214386840157,41.89007089995499,41.97202169976959,41.90456722231936,42.02860278626562,42.024878248756075,41.80437094399032,44.12726675192418,44.1953005630683,43.91018047378122,44.05820765862471,43.99836985961592,43.89603332477005,45.846266472691966,46.099639618822266,46.83528733404851,47.14362216834084,46.962897754707,46.87866146875063,46.95961331627834,47.80482144945565,48.166409536180225,48.12545062736699,47.88744623448693,48.971927179166485,48.94877291701175,49.12229048063749,49.19282635115349,48.929272395310356,48.80767425853491,50.06768872462858,49.87626919190566,49.80264038888994,50.147242262860395,50.12093328417561,50.15112277119799,49.84985123376105,49.83254699002113,50.04432912152918,50.05485591807727,49.87090502148338,50.16620809748373,49.84969108526448,50.18102357193131,49.935702981282844,49.838693829655384,49.9343946518497,49.99949839587096,50.002374039882454,49.99025752377055,50.032554444837864,50.14584494023311,49.85731877993347,50.12246997423841,49.98755146284897,50.0492653942806,50.107019915360056,50.81672862959618,51.83895011007446,52.105354336045345,52.143776204864785,54.83524042234765,55.0124091608615,54.92374243303441,55.180217538087135,54.90383395897594,55.029792930346076,54.923234778676076,55.14791430003236,54.881202980650166,55.125028079371745,55.05063543657021,54.93194365656797,55.10010100896378,55.087802574008876,55.12066556311732,55.848877592915684,56.13270064121199],\"y\":[0.7671517671517671,0.7671517671517671,0.8898128898128899,0.41287128712871285,0.41287128712871285,0.99800796812749,0.99800796812749,0.99800796812749,0.4402390438247012,0.4402390438247012,0.4402390438247012,0.36852589641434264,0.952191235059761,0.36852589641434264,0.36852589641434264,0.36852589641434264,0.9956521739130435,0.9935622317596566,0.9957081545064378,0.3497854077253219,0.3497854077253219,0.3497854077253219,0.3497854077253219,0.9220338983050848,0.9220338983050848,0.9220338983050848,0.9220338983050848,0.7188841201716738,0.7188841201716738,0.015053763440860216,0.9978494623655914,0.9978494623655914,0.9978494623655914,0.9978494623655914,0.9978494623655914,0.9978494623655914,0.7554479418886199,0.8401937046004843,0.8401937046004843,0.8401937046004843,0.3365617433414044,0.7530266343825666,0.6974335884736605,0.7631697433588474,0.9983277591973244,0.9983277591973244,0.9983277591973244,0.9983277591973244,0.9983277591973244,0.75,0.9978813559322034,0.9978813559322034,0.9978813559322034,0.9972222222222222,0.9972222222222222,0.9972222222222222,0.9972222222222222,0.9972222222222222,0.9416666666666667,0.3826754385964912,0.3826754385964912,0.9385964912280702,0.9978070175438597,0.9978070175438597,0.9978070175438597,0.9978070175438597,0.9978070175438597,0.3826754385964912,0.3815789473684211,0.3815789473684211,0.3826754385964912,0.3826754385964912,0.3826754385964912,0.3826754385964912,0.3826754385964912,0.3782894736842105,0.3782894736842105,0.3782894736842105,0.9978070175438597,0.3706140350877193,0.3706140350877193,0.6820175438596491,0.6820175438596491,0.3826754385964912,0.3826754385964912,0.3826754385964912,0.997946611909651,0.999137187230371,0.999137187230371,0.999137187230371,0.8507936507936508,0.8507936507936508,0.8507936507936508,0.8555555555555555,0.9984126984126984,0.9984126984126984,0.9984126984126984,0.8539682539682539,0.8507936507936508,0.8539682539682539,0.8539682539682539,0.8539682539682539,0.8571428571428571,0.8507936507936508,0.8571428571428571,0.9995039682539683,0.9995039682539683],\"type\":\"scatter\",\"xaxis\":\"x2\",\"yaxis\":\"y2\"},{\"legendgroup\":\"AlphaFold\",\"marker\":{\"color\":\"#11efb7\",\"line\":{\"color\":\"black\",\"width\":1},\"size\":10,\"symbol\":\"circle-open\"},\"mode\":\"markers\",\"name\":\"AlphaFold\",\"showlegend\":false,\"x\":[0,1],\"y\":[0.72,0.35944700460829493],\"type\":\"scatter\",\"xaxis\":\"x3\",\"yaxis\":\"y3\"},{\"legendgroup\":\"AlphaFold\",\"marker\":{\"color\":\"#9553ff\",\"line\":{\"color\":\"black\",\"width\":1},\"size\":10,\"symbol\":\"circle-open\"},\"mode\":\"markers\",\"name\":\"AlphaFold\",\"showlegend\":false,\"x\":[2,3,4,5,6,7,8,9,10,11],\"y\":[0.47954545454545455,0.6498470948012233,0.5504300234558248,0.4071895424836601,0.5190947666195191,0.39679715302491103,0.5138632162661737,0.7873462214411248,0.5173913043478261,0.4964336661911555],\"type\":\"scatter\",\"xaxis\":\"x3\",\"yaxis\":\"y3\"},{\"legendgroup\":\"AlphaFold\",\"marker\":{\"color\":\"#ffb418\",\"line\":{\"color\":\"black\",\"width\":1},\"size\":10,\"symbol\":\"circle-open\"},\"mode\":\"markers\",\"name\":\"AlphaFold\",\"showlegend\":false,\"x\":[12,13,14,15,16],\"y\":[0.21251475796930341,0.9773755656108597,0.6859122401847575,0.7293447293447294,0.9761904761904762],\"type\":\"scatter\",\"xaxis\":\"x3\",\"yaxis\":\"y3\"},{\"legendgroup\":\"AlphaFold\",\"marker\":{\"color\":\"#d07c09\",\"line\":{\"color\":\"black\",\"width\":1},\"size\":10,\"symbol\":\"circle-open\"},\"mode\":\"markers\",\"name\":\"AlphaFold\",\"showlegend\":false,\"x\":[17,18,19,20,21,22,23,24,25,26,27,28,29,30,31],\"y\":[0.9973262032085561,0.98,0.9695817490494296,0.9171483622350675,0.9214659685863874,0.9606060606060606,0.916504854368932,0.9040816326530612,0.787321063394683,0.8609406952965235,0.8568548387096774,0.8147410358565738,0.8694158075601375,0.8606403013182674,0.9346846846846847],\"type\":\"scatter\",\"xaxis\":\"x3\",\"yaxis\":\"y3\"},{\"legendgroup\":\"AlphaFold\",\"marker\":{\"color\":\"#5e2bcb\",\"line\":{\"color\":\"black\",\"width\":1},\"size\":10,\"symbol\":\"circle-open\"},\"mode\":\"markers\",\"name\":\"AlphaFold\",\"showlegend\":true,\"x\":[32,33,34,35,36,37,38,39,40,41,42,43,44,45,46,47,48,49,50,51,52,53,54,55,56],\"y\":[0.38125,0.5033407572383074,0.6011904761904762,0.4518201284796574,0.3772455089820359,0.45188284518828453,0.5054466230936819,0.5118279569892473,0.32088285229202035,0.4236559139784946,0.47413793103448276,0.4831932773109244,0.587378640776699,0.9048672566371682,0.09684684684684684,0.4221105527638191,0.46284501061571126,0.637883008356546,0.6505494505494506,0.3991769547325103,0.25734024179620035,0.7386363636363636,0.7382875605815832,0.7567567567567568,0.11017369727047147],\"type\":\"scatter\",\"xaxis\":\"x3\",\"yaxis\":\"y3\"}],                        {\"template\":{\"data\":{\"histogram2dcontour\":[{\"type\":\"histogram2dcontour\",\"colorbar\":{\"outlinewidth\":1,\"ticks\":\"outside\",\"tickcolor\":\"rgb(36,36,36)\"},\"colorscale\":[[0.0,\"#440154\"],[0.1111111111111111,\"#482878\"],[0.2222222222222222,\"#3e4989\"],[0.3333333333333333,\"#31688e\"],[0.4444444444444444,\"#26828e\"],[0.5555555555555556,\"#1f9e89\"],[0.6666666666666666,\"#35b779\"],[0.7777777777777778,\"#6ece58\"],[0.8888888888888888,\"#b5de2b\"],[1.0,\"#fde725\"]]}],\"choropleth\":[{\"type\":\"choropleth\",\"colorbar\":{\"outlinewidth\":1,\"ticks\":\"outside\",\"tickcolor\":\"rgb(36,36,36)\"}}],\"histogram2d\":[{\"type\":\"histogram2d\",\"colorbar\":{\"outlinewidth\":1,\"ticks\":\"outside\",\"tickcolor\":\"rgb(36,36,36)\"},\"colorscale\":[[0.0,\"#440154\"],[0.1111111111111111,\"#482878\"],[0.2222222222222222,\"#3e4989\"],[0.3333333333333333,\"#31688e\"],[0.4444444444444444,\"#26828e\"],[0.5555555555555556,\"#1f9e89\"],[0.6666666666666666,\"#35b779\"],[0.7777777777777778,\"#6ece58\"],[0.8888888888888888,\"#b5de2b\"],[1.0,\"#fde725\"]]}],\"heatmap\":[{\"type\":\"heatmap\",\"colorbar\":{\"outlinewidth\":1,\"ticks\":\"outside\",\"tickcolor\":\"rgb(36,36,36)\"},\"colorscale\":[[0.0,\"#440154\"],[0.1111111111111111,\"#482878\"],[0.2222222222222222,\"#3e4989\"],[0.3333333333333333,\"#31688e\"],[0.4444444444444444,\"#26828e\"],[0.5555555555555556,\"#1f9e89\"],[0.6666666666666666,\"#35b779\"],[0.7777777777777778,\"#6ece58\"],[0.8888888888888888,\"#b5de2b\"],[1.0,\"#fde725\"]]}],\"heatmapgl\":[{\"type\":\"heatmapgl\",\"colorbar\":{\"outlinewidth\":1,\"ticks\":\"outside\",\"tickcolor\":\"rgb(36,36,36)\"},\"colorscale\":[[0.0,\"#440154\"],[0.1111111111111111,\"#482878\"],[0.2222222222222222,\"#3e4989\"],[0.3333333333333333,\"#31688e\"],[0.4444444444444444,\"#26828e\"],[0.5555555555555556,\"#1f9e89\"],[0.6666666666666666,\"#35b779\"],[0.7777777777777778,\"#6ece58\"],[0.8888888888888888,\"#b5de2b\"],[1.0,\"#fde725\"]]}],\"contourcarpet\":[{\"type\":\"contourcarpet\",\"colorbar\":{\"outlinewidth\":1,\"ticks\":\"outside\",\"tickcolor\":\"rgb(36,36,36)\"}}],\"contour\":[{\"type\":\"contour\",\"colorbar\":{\"outlinewidth\":1,\"ticks\":\"outside\",\"tickcolor\":\"rgb(36,36,36)\"},\"colorscale\":[[0.0,\"#440154\"],[0.1111111111111111,\"#482878\"],[0.2222222222222222,\"#3e4989\"],[0.3333333333333333,\"#31688e\"],[0.4444444444444444,\"#26828e\"],[0.5555555555555556,\"#1f9e89\"],[0.6666666666666666,\"#35b779\"],[0.7777777777777778,\"#6ece58\"],[0.8888888888888888,\"#b5de2b\"],[1.0,\"#fde725\"]]}],\"surface\":[{\"type\":\"surface\",\"colorbar\":{\"outlinewidth\":1,\"ticks\":\"outside\",\"tickcolor\":\"rgb(36,36,36)\"},\"colorscale\":[[0.0,\"#440154\"],[0.1111111111111111,\"#482878\"],[0.2222222222222222,\"#3e4989\"],[0.3333333333333333,\"#31688e\"],[0.4444444444444444,\"#26828e\"],[0.5555555555555556,\"#1f9e89\"],[0.6666666666666666,\"#35b779\"],[0.7777777777777778,\"#6ece58\"],[0.8888888888888888,\"#b5de2b\"],[1.0,\"#fde725\"]]}],\"mesh3d\":[{\"type\":\"mesh3d\",\"colorbar\":{\"outlinewidth\":1,\"ticks\":\"outside\",\"tickcolor\":\"rgb(36,36,36)\"}}],\"scatter\":[{\"marker\":{\"line\":{\"color\":\"#283442\"}},\"type\":\"scatter\",\"fillpattern\":{\"fillmode\":\"overlay\",\"size\":10,\"solidity\":0.2}}],\"parcoords\":[{\"type\":\"parcoords\",\"line\":{\"colorbar\":{\"outlinewidth\":1,\"ticks\":\"outside\",\"tickcolor\":\"rgb(36,36,36)\"}}}],\"scatterpolargl\":[{\"type\":\"scatterpolargl\",\"marker\":{\"colorbar\":{\"outlinewidth\":1,\"ticks\":\"outside\",\"tickcolor\":\"rgb(36,36,36)\"}}}],\"bar\":[{\"error_x\":{\"color\":\"rgb(36,36,36)\"},\"error_y\":{\"color\":\"rgb(36,36,36)\"},\"marker\":{\"line\":{\"color\":\"white\",\"width\":0.5},\"pattern\":{\"fillmode\":\"overlay\",\"size\":10,\"solidity\":0.2}},\"type\":\"bar\"}],\"scattergeo\":[{\"type\":\"scattergeo\",\"marker\":{\"colorbar\":{\"outlinewidth\":1,\"ticks\":\"outside\",\"tickcolor\":\"rgb(36,36,36)\"}}}],\"scatterpolar\":[{\"type\":\"scatterpolar\",\"marker\":{\"colorbar\":{\"outlinewidth\":1,\"ticks\":\"outside\",\"tickcolor\":\"rgb(36,36,36)\"}}}],\"histogram\":[{\"marker\":{\"pattern\":{\"fillmode\":\"overlay\",\"size\":10,\"solidity\":0.2},\"line\":{\"color\":\"white\",\"width\":0.6}},\"type\":\"histogram\"}],\"scattergl\":[{\"marker\":{\"line\":{\"color\":\"#283442\"},\"colorbar\":{\"outlinewidth\":1,\"tickcolor\":\"rgb(36,36,36)\",\"ticks\":\"outside\"}},\"type\":\"scattergl\"}],\"scatter3d\":[{\"type\":\"scatter3d\",\"line\":{\"colorbar\":{\"outlinewidth\":1,\"ticks\":\"outside\",\"tickcolor\":\"rgb(36,36,36)\"}},\"marker\":{\"colorbar\":{\"outlinewidth\":1,\"ticks\":\"outside\",\"tickcolor\":\"rgb(36,36,36)\"}}}],\"scattermapbox\":[{\"type\":\"scattermapbox\",\"marker\":{\"colorbar\":{\"outlinewidth\":1,\"ticks\":\"outside\",\"tickcolor\":\"rgb(36,36,36)\"}}}],\"scatterternary\":[{\"type\":\"scatterternary\",\"marker\":{\"colorbar\":{\"outlinewidth\":1,\"ticks\":\"outside\",\"tickcolor\":\"rgb(36,36,36)\"}}}],\"scattercarpet\":[{\"type\":\"scattercarpet\",\"marker\":{\"colorbar\":{\"outlinewidth\":1,\"ticks\":\"outside\",\"tickcolor\":\"rgb(36,36,36)\"}}}],\"carpet\":[{\"aaxis\":{\"endlinecolor\":\"rgb(36,36,36)\",\"gridcolor\":\"white\",\"linecolor\":\"white\",\"minorgridcolor\":\"white\",\"startlinecolor\":\"rgb(36,36,36)\"},\"baxis\":{\"endlinecolor\":\"rgb(36,36,36)\",\"gridcolor\":\"white\",\"linecolor\":\"white\",\"minorgridcolor\":\"white\",\"startlinecolor\":\"rgb(36,36,36)\"},\"type\":\"carpet\"}],\"table\":[{\"cells\":{\"fill\":{\"color\":\"rgb(237,237,237)\"},\"line\":{\"color\":\"white\"}},\"header\":{\"fill\":{\"color\":\"rgb(217,217,217)\"},\"line\":{\"color\":\"white\"}},\"type\":\"table\"}],\"barpolar\":[{\"marker\":{\"line\":{\"color\":\"white\",\"width\":0.5},\"pattern\":{\"fillmode\":\"overlay\",\"size\":10,\"solidity\":0.2}},\"type\":\"barpolar\"}],\"pie\":[{\"automargin\":true,\"type\":\"pie\"}]},\"layout\":{\"autotypenumbers\":\"strict\",\"colorway\":[\"#1F77B4\",\"#FF7F0E\",\"#2CA02C\",\"#D62728\",\"#9467BD\",\"#8C564B\",\"#E377C2\",\"#7F7F7F\",\"#BCBD22\",\"#17BECF\"],\"font\":{\"color\":\"rgb(36,36,36)\"},\"hovermode\":\"closest\",\"hoverlabel\":{\"align\":\"left\"},\"paper_bgcolor\":\"white\",\"plot_bgcolor\":\"white\",\"polar\":{\"bgcolor\":\"white\",\"angularaxis\":{\"gridcolor\":\"rgb(232,232,232)\",\"linecolor\":\"rgb(36,36,36)\",\"ticks\":\"outside\",\"showgrid\":false,\"showline\":true},\"radialaxis\":{\"gridcolor\":\"rgb(232,232,232)\",\"linecolor\":\"rgb(36,36,36)\",\"ticks\":\"outside\",\"showgrid\":false,\"showline\":true}},\"ternary\":{\"bgcolor\":\"white\",\"aaxis\":{\"gridcolor\":\"rgb(232,232,232)\",\"linecolor\":\"rgb(36,36,36)\",\"ticks\":\"outside\",\"showgrid\":false,\"showline\":true},\"baxis\":{\"gridcolor\":\"rgb(232,232,232)\",\"linecolor\":\"rgb(36,36,36)\",\"ticks\":\"outside\",\"showgrid\":false,\"showline\":true},\"caxis\":{\"gridcolor\":\"rgb(232,232,232)\",\"linecolor\":\"rgb(36,36,36)\",\"ticks\":\"outside\",\"showgrid\":false,\"showline\":true}},\"coloraxis\":{\"colorbar\":{\"outlinewidth\":1,\"ticks\":\"outside\",\"tickcolor\":\"rgb(36,36,36)\"}},\"colorscale\":{\"sequential\":[[0.0,\"#440154\"],[0.1111111111111111,\"#482878\"],[0.2222222222222222,\"#3e4989\"],[0.3333333333333333,\"#31688e\"],[0.4444444444444444,\"#26828e\"],[0.5555555555555556,\"#1f9e89\"],[0.6666666666666666,\"#35b779\"],[0.7777777777777778,\"#6ece58\"],[0.8888888888888888,\"#b5de2b\"],[1.0,\"#fde725\"]],\"sequentialminus\":[[0.0,\"#440154\"],[0.1111111111111111,\"#482878\"],[0.2222222222222222,\"#3e4989\"],[0.3333333333333333,\"#31688e\"],[0.4444444444444444,\"#26828e\"],[0.5555555555555556,\"#1f9e89\"],[0.6666666666666666,\"#35b779\"],[0.7777777777777778,\"#6ece58\"],[0.8888888888888888,\"#b5de2b\"],[1.0,\"#fde725\"]],\"diverging\":[[0.0,\"rgb(103,0,31)\"],[0.1,\"rgb(178,24,43)\"],[0.2,\"rgb(214,96,77)\"],[0.3,\"rgb(244,165,130)\"],[0.4,\"rgb(253,219,199)\"],[0.5,\"rgb(247,247,247)\"],[0.6,\"rgb(209,229,240)\"],[0.7,\"rgb(146,197,222)\"],[0.8,\"rgb(67,147,195)\"],[0.9,\"rgb(33,102,172)\"],[1.0,\"rgb(5,48,97)\"]]},\"xaxis\":{\"gridcolor\":\"rgb(232,232,232)\",\"linecolor\":\"rgb(36,36,36)\",\"ticks\":\"outside\",\"title\":{\"standoff\":15},\"zerolinecolor\":\"rgb(36,36,36)\",\"automargin\":true,\"zerolinewidth\":2,\"showgrid\":false,\"showline\":true,\"zeroline\":false},\"yaxis\":{\"gridcolor\":\"rgb(232,232,232)\",\"linecolor\":\"rgb(36,36,36)\",\"ticks\":\"outside\",\"title\":{\"standoff\":15},\"zerolinecolor\":\"rgb(36,36,36)\",\"automargin\":true,\"zerolinewidth\":2,\"showgrid\":false,\"showline\":true,\"zeroline\":false},\"scene\":{\"xaxis\":{\"backgroundcolor\":\"white\",\"gridcolor\":\"rgb(232,232,232)\",\"linecolor\":\"rgb(36,36,36)\",\"showbackground\":true,\"ticks\":\"outside\",\"zerolinecolor\":\"rgb(36,36,36)\",\"gridwidth\":2,\"showgrid\":false,\"showline\":true,\"zeroline\":false},\"yaxis\":{\"backgroundcolor\":\"white\",\"gridcolor\":\"rgb(232,232,232)\",\"linecolor\":\"rgb(36,36,36)\",\"showbackground\":true,\"ticks\":\"outside\",\"zerolinecolor\":\"rgb(36,36,36)\",\"gridwidth\":2,\"showgrid\":false,\"showline\":true,\"zeroline\":false},\"zaxis\":{\"backgroundcolor\":\"white\",\"gridcolor\":\"rgb(232,232,232)\",\"linecolor\":\"rgb(36,36,36)\",\"showbackground\":true,\"ticks\":\"outside\",\"zerolinecolor\":\"rgb(36,36,36)\",\"gridwidth\":2,\"showgrid\":false,\"showline\":true,\"zeroline\":false}},\"shapedefaults\":{\"line\":{\"color\":\"#f2f5fa\",\"width\":0},\"fillcolor\":\"black\",\"opacity\":0.3},\"annotationdefaults\":{\"arrowcolor\":\"#f2f5fa\",\"arrowhead\":0,\"arrowwidth\":1},\"geo\":{\"bgcolor\":\"white\",\"landcolor\":\"white\",\"subunitcolor\":\"white\",\"showland\":true,\"showlakes\":true,\"lakecolor\":\"white\"},\"title\":{\"x\":0.05},\"updatemenudefaults\":{\"bgcolor\":\"#506784\",\"borderwidth\":0},\"sliderdefaults\":{\"bgcolor\":\"#C8D4E3\",\"borderwidth\":1,\"bordercolor\":\"rgb(17,17,17)\",\"tickwidth\":0},\"mapbox\":{\"style\":\"light\"}}},\"xaxis\":{\"anchor\":\"y\",\"domain\":[0.0,1.0],\"matches\":\"x3\",\"showticklabels\":false},\"yaxis\":{\"anchor\":\"x\",\"domain\":[0.608,1.0],\"title\":{\"text\":\"Resolution (A)\"}},\"xaxis2\":{\"anchor\":\"y2\",\"domain\":[0.0,1.0],\"matches\":\"x3\",\"showticklabels\":false},\"yaxis2\":{\"anchor\":\"x2\",\"domain\":[0.304,0.598],\"title\":{\"text\":\"Fraction of Sequence \\u003cbr\\u003e Covered by Structure\"}},\"xaxis3\":{\"anchor\":\"y3\",\"domain\":[0.0,1.0],\"title\":{\"text\":\"Protein Name (Uniprot ID)\"},\"range\":[-0.5,57.5],\"ticktext\":[\"A1AG1 (P02763)\",\"OXA1L (Q15070)\",\"ABCBB (O95342)\",\"ABCG2 (Q9UNQ0)\",\"MDR1 (P08183)\",\"MRP1 (P33527)\",\"S15A1 (P46059)\",\"S22A6 (Q4U2R8)\",\"S22A8 (Q8TCC7)\",\"S47A1 (Q96FL8)\",\"SO1B1 (Q9Y6L6)\",\"SO1B3 (Q9NPD5)\",\"AHR (P35869)\",\"GSTA1 (P08263)\",\"NR1I2 (O75469)\",\"NR1I3 (Q14994)\",\"ST1A1 (P50225)\",\"ADH1A (P07327)\",\"AL1A1 (P00352)\",\"AOFA (P21397)\",\"AOFB (P27338)\",\"AOXA (Q06278)\",\"ARK73 (O95154)\",\"CP1A2 (P05177)\",\"CP2B6 (P20813)\",\"CP2C9 (P11712)\",\"CP2CJ (P33261)\",\"CP2D6 (P10635)\",\"CP3A4 (P08684)\",\"DHI1 (P28845)\",\"FMO1 (Q01740)\",\"XDH (P47989)\",\"5HT2B (P41595)\",\"ACH10 (Q9GZZ6)\",\"ACHA3 (P32297)\",\"ACHA5 (P30532)\",\"ACHA7 (P36544)\",\"ACHA9 (Q9UGM1)\",\"ACM1 (P11229)\",\"ACM2 (P08172)\",\"ACM3 (P20309)\",\"ADA1A (P35348)\",\"ADA2A (P08913)\",\"ADRB1 (P08588)\",\"ADRB2 (P07550)\",\"ASM3A (Q92484)\",\"CAC1C (Q13936)\",\"CACB1 (Q02641)\",\"CNR1 (P21554)\",\"CNR2 (P34972)\",\"GBRA1 (P14867)\",\"HRH1 (P35367)\",\"KCNH2 (Q12809)\",\"SC6A2 (P23975)\",\"SC6A3 (Q01959)\",\"SC6A4 (P31645)\",\"SCN5A (Q14524)\"],\"tickvals\":[0,1,2,3,4,5,6,7,8,9,10,11,12,13,14,15,16,17,18,19,20,21,22,23,24,25,26,27,28,29,30,31,32,33,34,35,36,37,38,39,40,41,42,43,44,45,46,47,48,49,50,51,52,53,54,55,56]},\"yaxis3\":{\"anchor\":\"x3\",\"domain\":[0.0,0.294],\"title\":{\"text\":\"Fraction Modeled with \\u003cbr\\u003e Very High Confidence \\u003cbr\\u003e (pLDDT \\u003e 90)\"}},\"title\":{\"text\":\"Analysis of Experimental Structure Quality for ADMET Targets\"},\"height\":800,\"width\":1600},                        {\"responsive\": true}                    ).then(function(){\n                            \nvar gd = document.getElementById('545c10ed-93fe-439d-9483-91d5416c0fd1');\nvar x = new MutationObserver(function (mutations, observer) {{\n        var display = window.getComputedStyle(gd).display;\n        if (!display || display === 'none') {{\n            console.log([gd, 'removed!']);\n            Plotly.purge(gd);\n            observer.disconnect();\n        }}\n}});\n\n// Listen for the removal of the full notebook cells\nvar notebookContainer = gd.closest('#notebook-container');\nif (notebookContainer) {{\n    x.observe(notebookContainer, {childList: true});\n}}\n\n// Listen for the clearing of the current output cell\nvar outputEl = gd.closest('.output');\nif (outputEl) {{\n    x.observe(outputEl, {childList: true});\n}}\n\n                        })                };                });            </script>        </div>"
     },
     "metadata": {},
     "output_type": "display_data"
    }
   ],
   "source": [
    "# Create layout\n",
    "layout = go.Layout(\n",
    "    title=\"Analysis of Experimental Structure Quality for ADMET Targets\",\n",
    "    xaxis3=dict(title='Protein Name (Uniprot ID)',\n",
    "               range=[-0.5, len(protein_name_mapping) + 0.5],\n",
    "               tickvals=list(protein_name_mapping.values()), \n",
    "               ticktext=protein_names),\n",
    "    yaxis=dict(title='Resolution (A)'),\n",
    "    yaxis2=dict(title='Fraction of Sequence <br> Covered by Structure'),\n",
    "    yaxis3=dict(title='Fraction Modeled with <br> Very High Confidence <br> (pLDDT > 90)'),\n",
    "    template='simple_white',\n",
    "    width=1600,\n",
    "    height=800\n",
    ")\n",
    "fig.update_layout(layout)\n",
    "fig.show()"
   ],
   "metadata": {
    "collapsed": false,
    "ExecuteTime": {
     "end_time": "2024-02-21T23:33:01.954863Z",
     "start_time": "2024-02-21T23:33:00.883740Z"
    }
   },
   "id": "2f0a184d607f42b6",
   "execution_count": 486
  },
  {
   "cell_type": "code",
   "outputs": [],
   "source": [
    "fig.write_image(fig_dir / 'combined_structure_analysis.png')\n",
    "fig.write_image(fig_dir / 'combined_structure_analysis.svg')"
   ],
   "metadata": {
    "collapsed": false,
    "ExecuteTime": {
     "end_time": "2024-02-21T23:33:03.540907Z",
     "start_time": "2024-02-21T23:33:01.939472Z"
    }
   },
   "id": "c98a0830bf540a40",
   "execution_count": 487
  },
  {
   "cell_type": "code",
   "outputs": [],
   "source": [],
   "metadata": {
    "collapsed": false
   },
   "id": "5928e00a69061dff"
  }
 ],
 "metadata": {
  "kernelspec": {
   "display_name": "Python 3",
   "language": "python",
   "name": "python3"
  },
  "language_info": {
   "codemirror_mode": {
    "name": "ipython",
    "version": 2
   },
   "file_extension": ".py",
   "mimetype": "text/x-python",
   "name": "python",
   "nbconvert_exporter": "python",
   "pygments_lexer": "ipython2",
   "version": "2.7.6"
  }
 },
 "nbformat": 4,
 "nbformat_minor": 5
}
