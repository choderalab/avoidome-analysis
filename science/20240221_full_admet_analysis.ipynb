{
 "cells": [
  {
   "cell_type": "code",
   "outputs": [],
   "source": [
    "from pathlib import Path\n",
    "import yaml\n",
    "from tqdm import tqdm\n",
    "import avoidome.uniprot as uniprot\n",
    "import avoidome.schema as schema\n",
    "from importlib import reload"
   ],
   "metadata": {
    "collapsed": false,
    "ExecuteTime": {
     "end_time": "2024-02-21T19:51:35.697207Z",
     "start_time": "2024-02-21T19:51:35.672482Z"
    }
   },
   "id": "36832d2df695415b",
   "execution_count": 4
  },
  {
   "cell_type": "markdown",
   "source": [
    "# Download"
   ],
   "metadata": {
    "collapsed": false
   },
   "id": "bda07ac731f1ad0e"
  },
  {
   "cell_type": "code",
   "outputs": [],
   "source": [
    "data_dir = Path('../data')\n",
    "fig_dir = Path('../figures')\n",
    "uniprot_dir = data_dir / 'uniprot_downloads'\n",
    "af_dir = data_dir / 'alphafold_downloads'"
   ],
   "metadata": {
    "collapsed": false,
    "ExecuteTime": {
     "end_time": "2024-02-21T20:09:43.368861Z",
     "start_time": "2024-02-21T20:09:43.336177Z"
    }
   },
   "id": "f5db180a4d9f06ff",
   "execution_count": 61
  },
  {
   "cell_type": "markdown",
   "source": [
    "## use curated data this time"
   ],
   "metadata": {
    "collapsed": false
   },
   "id": "e46331ebfbc360e"
  },
  {
   "cell_type": "code",
   "outputs": [],
   "source": [
    "with open(data_dir / 'admet_names_curated.yml') as f:\n",
    "    adme_names = yaml.safe_load(f)"
   ],
   "metadata": {
    "collapsed": false,
    "ExecuteTime": {
     "end_time": "2024-02-21T19:51:37.299302Z",
     "start_time": "2024-02-21T19:51:37.265437Z"
    }
   },
   "id": "2f53257fc18e498e",
   "execution_count": 6
  },
  {
   "cell_type": "code",
   "outputs": [
    {
     "name": "stderr",
     "output_type": "stream",
     "text": [
      "100%|██████████| 57/57 [00:44<00:00,  1.28it/s]\n"
     ]
    }
   ],
   "source": [
    "exp_structure_dict = {}\n",
    "failed = []\n",
    "success = []\n",
    "for protein in tqdm(adme_names):\n",
    "    uniprot_id = protein['uniprot']\n",
    "    ue = uniprot.UniprotEntry.from_uniprot_id(uniprot_id)\n",
    "    try:\n",
    "        exp_structure_dict[ue.name] = ue.get_experimental_structures()\n",
    "        success.append(ue)\n",
    "    except:\n",
    "        failed.append(ue)"
   ],
   "metadata": {
    "collapsed": false,
    "ExecuteTime": {
     "end_time": "2024-02-21T18:28:12.960862Z",
     "start_time": "2024-02-21T18:27:28.467305Z"
    }
   },
   "id": "b40e306c5e2519c9",
   "execution_count": 8
  },
  {
   "cell_type": "code",
   "outputs": [
    {
     "data": {
      "text/plain": "0"
     },
     "execution_count": 9,
     "metadata": {},
     "output_type": "execute_result"
    }
   ],
   "source": [
    "len(failed)"
   ],
   "metadata": {
    "collapsed": false,
    "ExecuteTime": {
     "end_time": "2024-02-21T18:28:12.973032Z",
     "start_time": "2024-02-21T18:28:12.962733Z"
    }
   },
   "id": "3a24f11a4669886b",
   "execution_count": 9
  },
  {
   "cell_type": "code",
   "outputs": [
    {
     "data": {
      "text/plain": "57"
     },
     "execution_count": 10,
     "metadata": {},
     "output_type": "execute_result"
    }
   ],
   "source": [
    "len(success)"
   ],
   "metadata": {
    "collapsed": false,
    "ExecuteTime": {
     "end_time": "2024-02-21T18:28:12.979290Z",
     "start_time": "2024-02-21T18:28:12.970404Z"
    }
   },
   "id": "eb2c1e80d26fc7e0",
   "execution_count": 10
  },
  {
   "cell_type": "code",
   "outputs": [
    {
     "name": "stderr",
     "output_type": "stream",
     "text": [
      "\n",
      "  0%|          | 0/57 [00:00<?, ?it/s]\u001B[A\n",
      "  2%|▏         | 1/57 [00:00<00:19,  2.83it/s]\u001B[A\n",
      "  4%|▎         | 2/57 [00:00<00:16,  3.25it/s]\u001B[A\n",
      "  5%|▌         | 3/57 [00:01<00:22,  2.42it/s]\u001B[A\n",
      "  7%|▋         | 4/57 [00:01<00:18,  2.90it/s]\u001B[A\n",
      "  9%|▉         | 5/57 [00:01<00:17,  3.06it/s]\u001B[A\n",
      " 11%|█         | 6/57 [00:02<00:25,  2.03it/s]\u001B[A\n",
      " 12%|█▏        | 7/57 [00:02<00:20,  2.43it/s]\u001B[A\n",
      " 14%|█▍        | 8/57 [00:02<00:16,  2.92it/s]\u001B[A\n",
      " 16%|█▌        | 9/57 [00:03<00:13,  3.47it/s]\u001B[A\n",
      " 18%|█▊        | 10/57 [00:03<00:12,  3.86it/s]\u001B[A\n",
      " 19%|█▉        | 11/57 [00:03<00:12,  3.73it/s]\u001B[A\n",
      " 21%|██        | 12/57 [00:03<00:09,  4.54it/s]\u001B[A\n",
      " 23%|██▎       | 13/57 [00:03<00:09,  4.46it/s]\u001B[A\n",
      " 26%|██▋       | 15/57 [00:04<00:06,  6.49it/s]\u001B[A\n",
      " 28%|██▊       | 16/57 [00:04<00:06,  6.42it/s]\u001B[A\n",
      " 30%|██▉       | 17/57 [00:04<00:05,  6.92it/s]\u001B[A\n",
      " 32%|███▏      | 18/57 [00:04<00:05,  6.81it/s]\u001B[A\n",
      " 33%|███▎      | 19/57 [00:04<00:05,  6.70it/s]\u001B[A\n",
      " 35%|███▌      | 20/57 [00:04<00:05,  6.93it/s]\u001B[A\n",
      " 39%|███▊      | 22/57 [00:05<00:04,  7.88it/s]\u001B[A\n",
      " 40%|████      | 23/57 [00:05<00:07,  4.26it/s]\u001B[A\n",
      " 42%|████▏     | 24/57 [00:06<00:14,  2.33it/s]\u001B[A\n",
      " 44%|████▍     | 25/57 [00:06<00:11,  2.86it/s]\u001B[A\n",
      " 46%|████▌     | 26/57 [00:07<00:12,  2.48it/s]\u001B[A\n",
      " 47%|████▋     | 27/57 [00:07<00:10,  2.92it/s]\u001B[A\n",
      " 49%|████▉     | 28/57 [00:07<00:09,  3.21it/s]\u001B[A\n",
      " 51%|█████     | 29/57 [00:07<00:07,  3.83it/s]\u001B[A\n",
      " 53%|█████▎    | 30/57 [00:07<00:06,  4.50it/s]\u001B[A\n",
      " 54%|█████▍    | 31/57 [00:08<00:05,  4.99it/s]\u001B[A\n",
      " 56%|█████▌    | 32/57 [00:08<00:05,  4.68it/s]\u001B[A\n",
      " 58%|█████▊    | 33/57 [00:08<00:04,  5.49it/s]\u001B[A\n",
      " 60%|█████▉    | 34/57 [00:08<00:04,  5.16it/s]\u001B[A\n",
      " 61%|██████▏   | 35/57 [00:08<00:04,  5.46it/s]\u001B[A\n",
      " 63%|██████▎   | 36/57 [00:08<00:03,  6.06it/s]\u001B[A\n",
      " 65%|██████▍   | 37/57 [00:09<00:03,  6.66it/s]\u001B[A\n",
      " 67%|██████▋   | 38/57 [00:09<00:02,  7.05it/s]\u001B[A\n",
      " 68%|██████▊   | 39/57 [00:09<00:02,  7.35it/s]\u001B[A\n",
      " 72%|███████▏  | 41/57 [00:09<00:01,  9.91it/s]\u001B[A\n",
      " 75%|███████▌  | 43/57 [00:09<00:01,  8.85it/s]\u001B[A\n",
      " 79%|███████▉  | 45/57 [00:09<00:01,  9.93it/s]\u001B[A\n",
      " 82%|████████▏ | 47/57 [00:10<00:01,  7.77it/s]\u001B[A\n",
      " 84%|████████▍ | 48/57 [00:10<00:01,  5.96it/s]\u001B[A\n",
      " 86%|████████▌ | 49/57 [00:10<00:01,  4.92it/s]\u001B[A\n",
      " 88%|████████▊ | 50/57 [00:11<00:01,  4.50it/s]\u001B[A\n",
      " 89%|████████▉ | 51/57 [00:11<00:01,  3.64it/s]\u001B[A\n",
      " 91%|█████████ | 52/57 [00:11<00:01,  4.06it/s]\u001B[A\n",
      " 93%|█████████▎| 53/57 [00:11<00:00,  4.44it/s]\u001B[A\n",
      " 95%|█████████▍| 54/57 [00:12<00:00,  4.61it/s]\u001B[A\n",
      " 96%|█████████▋| 55/57 [00:12<00:00,  5.04it/s]\u001B[A\n",
      " 98%|█████████▊| 56/57 [00:12<00:00,  5.21it/s]\u001B[A\n",
      "100%|██████████| 57/57 [00:12<00:00,  4.52it/s]\u001B[A\n"
     ]
    }
   ],
   "source": [
    "for ue in tqdm(success):\n",
    "    yaml.safe_dump(ue.dict(), open(f\"{uniprot_dir / ue.data['id']}.yml\", 'w'))"
   ],
   "metadata": {
    "collapsed": false,
    "ExecuteTime": {
     "end_time": "2024-02-21T18:31:23.330832Z",
     "start_time": "2024-02-21T18:31:10.712382Z"
    }
   },
   "id": "b84e45ca9255ce92",
   "execution_count": 15
  },
  {
   "cell_type": "markdown",
   "source": [
    "# Reload"
   ],
   "metadata": {
    "collapsed": false
   },
   "id": "9fb724eb90983b7b"
  },
  {
   "cell_type": "code",
   "outputs": [
    {
     "name": "stderr",
     "output_type": "stream",
     "text": [
      "100%|██████████| 57/57 [00:22<00:00,  2.57it/s]\n"
     ]
    }
   ],
   "source": [
    "entries = list(uniprot_dir.glob('*.yml'))\n",
    "uniprot_entries = [uniprot.UniprotEntry.from_dict(yaml.safe_load(open(file, 'r'))) for file in tqdm(entries)]"
   ],
   "metadata": {
    "collapsed": false,
    "ExecuteTime": {
     "end_time": "2024-02-21T19:52:05.478923Z",
     "start_time": "2024-02-21T19:51:43.288393Z"
    }
   },
   "id": "256ee51ebb113b30",
   "execution_count": 7
  },
  {
   "cell_type": "markdown",
   "source": [
    "# Get AlphaFold Structures"
   ],
   "metadata": {
    "collapsed": false
   },
   "id": "13898a7e3e7ba37b"
  },
  {
   "cell_type": "code",
   "outputs": [
    {
     "name": "stderr",
     "output_type": "stream",
     "text": [
      "100%|██████████| 57/57 [00:07<00:00,  7.33it/s]\n"
     ]
    }
   ],
   "source": [
    "# i've made this return a list but it's only ever going to be one\n",
    "af_structures = [u.get_alphafold_structures()[0] for u in tqdm(uniprot_entries)]"
   ],
   "metadata": {
    "collapsed": false,
    "ExecuteTime": {
     "end_time": "2024-02-21T18:58:05.898290Z",
     "start_time": "2024-02-21T18:57:58.115115Z"
    }
   },
   "id": "10f7ba645a6fe281",
   "execution_count": 4
  },
  {
   "cell_type": "markdown",
   "source": [
    "## Download the structures"
   ],
   "metadata": {
    "collapsed": false
   },
   "id": "f12d5fd2a75a8022"
  },
  {
   "cell_type": "code",
   "outputs": [],
   "source": [
    "from asapdiscovery.data.utils import download_file"
   ],
   "metadata": {
    "collapsed": false,
    "ExecuteTime": {
     "end_time": "2024-02-21T18:58:06.491503Z",
     "start_time": "2024-02-21T18:58:05.892497Z"
    }
   },
   "id": "fdb82d6b72f68ec9",
   "execution_count": 5
  },
  {
   "cell_type": "code",
   "outputs": [],
   "source": [
    "for p in af_structures:\n",
    "    if not (af_dir / f\"{p.af_id}.cif\").exists():\n",
    "        download_file(p.model_url, af_dir / f\"{p.af_id}.cif\")"
   ],
   "metadata": {
    "collapsed": false,
    "ExecuteTime": {
     "end_time": "2024-02-21T18:58:06.500958Z",
     "start_time": "2024-02-21T18:58:06.493905Z"
    }
   },
   "id": "19914cd49e0d7fc",
   "execution_count": 6
  },
  {
   "cell_type": "markdown",
   "source": [
    "# Calculate the pLDDT"
   ],
   "metadata": {
    "collapsed": false
   },
   "id": "48a7c9452a9f4b3c"
  },
  {
   "cell_type": "code",
   "outputs": [],
   "source": [
    "from asapdiscovery.data.openeye import load_openeye_cif, oechem\n",
    "import numpy as np"
   ],
   "metadata": {
    "collapsed": false,
    "ExecuteTime": {
     "end_time": "2024-02-21T18:58:06.510741Z",
     "start_time": "2024-02-21T18:58:06.499830Z"
    }
   },
   "id": "4fda2697dbfe7f35",
   "execution_count": 7
  },
  {
   "cell_type": "code",
   "outputs": [],
   "source": [
    "def calculate_high_confidence(af_id):\n",
    "    \"\"\"\n",
    "    Load the downloaded model with openeye, get the residues.\n",
    "    Get the bfactor of each residue (which is the pLDDT score for this case)\n",
    "    Calculate the number of residues with high confidence (>90)\n",
    "    :param af_id: \n",
    "    :return: \n",
    "    \"\"\"\n",
    "    mol = load_openeye_cif(af_dir / f\"{af_id}.cif\")\n",
    "    residues = {oechem.OEAtomGetResidue(atom) for atom in mol.GetAtoms() if oechem.OEHasResidue(atom)}\n",
    "    bfactors = np.array([res.GetBFactor() for res in residues])\n",
    "    return sum(bfactors > 90)"
   ],
   "metadata": {
    "collapsed": false,
    "ExecuteTime": {
     "end_time": "2024-02-21T18:58:06.511689Z",
     "start_time": "2024-02-21T18:58:06.504820Z"
    }
   },
   "id": "1958e183a5e6ea50",
   "execution_count": 8
  },
  {
   "cell_type": "code",
   "outputs": [
    {
     "name": "stderr",
     "output_type": "stream",
     "text": [
      "100%|██████████| 57/57 [00:04<00:00, 12.40it/s]\n"
     ]
    }
   ],
   "source": [
    "confidence_dict = {p.components[0].name: calculate_high_confidence(p.af_id) / p.components[0].length  for p in tqdm(af_structures)}"
   ],
   "metadata": {
    "collapsed": false,
    "ExecuteTime": {
     "end_time": "2024-02-21T18:58:11.119239Z",
     "start_time": "2024-02-21T18:58:06.511447Z"
    }
   },
   "id": "24db9e4c7a2ab4eb",
   "execution_count": 9
  },
  {
   "cell_type": "markdown",
   "source": [
    "# Plot"
   ],
   "metadata": {
    "collapsed": false
   },
   "id": "9f41ac8d626035b1"
  },
  {
   "cell_type": "markdown",
   "source": [
    "## construct plotly df"
   ],
   "metadata": {
    "collapsed": false
   },
   "id": "887f902f1ffe4d7f"
  },
  {
   "cell_type": "code",
   "outputs": [],
   "source": [
    "category_dict = {e['uniprot']: e['admet_category'] for e in adme_names}"
   ],
   "metadata": {
    "collapsed": false,
    "ExecuteTime": {
     "end_time": "2024-02-21T20:09:50.242025Z",
     "start_time": "2024-02-21T20:09:50.232414Z"
    }
   },
   "id": "4d4d91e4568486b2",
   "execution_count": 62
  },
  {
   "cell_type": "code",
   "outputs": [],
   "source": [
    "import pandas as pd"
   ],
   "metadata": {
    "collapsed": false,
    "ExecuteTime": {
     "end_time": "2024-02-21T20:09:51.471362Z",
     "start_time": "2024-02-21T20:09:51.461100Z"
    }
   },
   "id": "ab9f31484c7c300b",
   "execution_count": 63
  },
  {
   "cell_type": "code",
   "outputs": [
    {
     "ename": "NameError",
     "evalue": "name 'confidence_dict' is not defined",
     "output_type": "error",
     "traceback": [
      "\u001B[0;31m---------------------------------------------------------------------------\u001B[0m",
      "\u001B[0;31mNameError\u001B[0m                                 Traceback (most recent call last)",
      "Cell \u001B[0;32mIn[64], line 1\u001B[0m\n\u001B[0;32m----> 1\u001B[0m \u001B[43mconfidence_dict\u001B[49m\u001B[38;5;241m.\u001B[39mkeys()\n",
      "\u001B[0;31mNameError\u001B[0m: name 'confidence_dict' is not defined"
     ]
    }
   ],
   "source": [
    "confidence_dict.keys()"
   ],
   "metadata": {
    "collapsed": false,
    "ExecuteTime": {
     "end_time": "2024-02-21T20:09:51.983825Z",
     "start_time": "2024-02-21T20:09:51.969709Z"
    }
   },
   "id": "27ce955847551730",
   "execution_count": 64
  },
  {
   "cell_type": "code",
   "outputs": [],
   "source": [
    "name_to_uniprot = {af.components[0].name: af.components[0].uniprot_id for af in af_structures}\n",
    "uniprot_to_name = {v: k for k, v in name_to_uniprot.items()}"
   ],
   "metadata": {
    "collapsed": false,
    "ExecuteTime": {
     "end_time": "2024-02-21T19:05:17.601287Z",
     "start_time": "2024-02-21T19:05:17.548490Z"
    }
   },
   "id": "8d921c324874cf2a",
   "execution_count": 30
  },
  {
   "cell_type": "code",
   "outputs": [],
   "source": [
    "confidence_df = pd.DataFrame({'Protein Name': list(confidence_dict.keys()), \n",
    "                              'Fraction': list(confidence_dict.values()), \n",
    "                              'Category': [category_dict[name_to_uniprot[k]] for k in confidence_dict.keys()]})"
   ],
   "metadata": {
    "collapsed": false,
    "ExecuteTime": {
     "end_time": "2024-02-21T19:06:18.995453Z",
     "start_time": "2024-02-21T19:06:18.987353Z"
    }
   },
   "id": "b9cf1231472bcb25",
   "execution_count": 37
  },
  {
   "cell_type": "code",
   "outputs": [],
   "source": [
    "confidence_df.sort_values('Protein Name', inplace=True)"
   ],
   "metadata": {
    "collapsed": false,
    "ExecuteTime": {
     "end_time": "2024-02-21T19:13:30.191471Z",
     "start_time": "2024-02-21T19:13:30.156413Z"
    }
   },
   "id": "802d3f6a06a24a5b",
   "execution_count": 56
  },
  {
   "cell_type": "code",
   "outputs": [],
   "source": [
    "import plotly.express as px"
   ],
   "metadata": {
    "collapsed": false,
    "ExecuteTime": {
     "end_time": "2024-02-21T20:01:33.400433Z",
     "start_time": "2024-02-21T20:01:33.240696Z"
    }
   },
   "id": "21af9caaf895ba7b",
   "execution_count": 41
  },
  {
   "cell_type": "code",
   "outputs": [],
   "source": [
    "color_sequence = [\"#00bf7d\", \"#00b4c5\", \"#c44601\", \"#2546f0\", \"#5928ed\"] "
   ],
   "metadata": {
    "collapsed": false,
    "ExecuteTime": {
     "end_time": "2024-02-21T19:14:25.976997Z",
     "start_time": "2024-02-21T19:14:25.935395Z"
    }
   },
   "id": "3cd5a82a7df8057b",
   "execution_count": 61
  },
  {
   "cell_type": "code",
   "outputs": [
    {
     "name": "stderr",
     "output_type": "stream",
     "text": [
      "/Users/alexpayne/miniforge-pypy3/envs/asapdiscovery/lib/python3.10/site-packages/plotly/express/_core.py:2065: FutureWarning:\n",
      "\n",
      "When grouping with a length-1 list-like, you will need to pass a length-1 tuple to get_group in a future version of pandas. Pass `(name,)` instead of `name` to silence this warning.\n",
      "\n"
     ]
    }
   ],
   "source": [
    "fig = px.bar(confidence_df,\n",
    "             x='Protein Name',\n",
    "                y='Fraction',\n",
    "             labels={'x': 'Protein', 'y': 'Fraction'}, \n",
    "             title='Fraction of Sequence Modeled with Very High Confidence (pLDDT > 90)', \n",
    "             template='simple_white',\n",
    "             width=1200,\n",
    "             height=600,\n",
    "             category_orders={'Category': ['metabolism_redox', 'metabolism', 'absorption', 'drug_transporter', 'toxicity']},\n",
    "             color=\"Category\",\n",
    "             color_discrete_sequence=color_sequence,\n",
    "             )"
   ],
   "metadata": {
    "collapsed": false,
    "ExecuteTime": {
     "end_time": "2024-02-21T19:14:26.268763Z",
     "start_time": "2024-02-21T19:14:26.253255Z"
    }
   },
   "id": "86f3a3dd84b8fdc3",
   "execution_count": 62
  },
  {
   "cell_type": "code",
   "outputs": [
    {
     "data": {
      "application/vnd.plotly.v1+json": {
       "data": [
        {
         "alignmentgroup": "True",
         "hovertemplate": "Category=metabolism_redox<br>Protein Name=%{x}<br>Fraction=%{y}<extra></extra>",
         "legendgroup": "metabolism_redox",
         "marker": {
          "color": "#00bf7d",
          "pattern": {
           "shape": ""
          }
         },
         "name": "metabolism_redox",
         "offsetgroup": "metabolism_redox",
         "orientation": "v",
         "showlegend": true,
         "textposition": "auto",
         "x": [
          "ADH1A_HUMAN",
          "AL1A1_HUMAN",
          "AOFA_HUMAN",
          "AOFB_HUMAN",
          "AOXA_HUMAN",
          "ARK73_HUMAN",
          "CP1A2_HUMAN",
          "CP2B6_HUMAN",
          "CP2C9_HUMAN",
          "CP2CJ_HUMAN",
          "CP2D6_HUMAN",
          "CP3A4_HUMAN",
          "DHI1_HUMAN",
          "FMO1_HUMAN",
          "XDH_HUMAN"
         ],
         "xaxis": "x",
         "y": [
          0.9973262032085561,
          0.98,
          0.9695817490494296,
          0.9171483622350675,
          0.9214659685863874,
          0.9606060606060606,
          0.916504854368932,
          0.9040816326530612,
          0.787321063394683,
          0.8609406952965235,
          0.8568548387096774,
          0.8147410358565738,
          0.8694158075601375,
          0.8606403013182674,
          0.9346846846846847
         ],
         "yaxis": "y",
         "type": "bar"
        },
        {
         "alignmentgroup": "True",
         "hovertemplate": "Category=metabolism<br>Protein Name=%{x}<br>Fraction=%{y}<extra></extra>",
         "legendgroup": "metabolism",
         "marker": {
          "color": "#00b4c5",
          "pattern": {
           "shape": ""
          }
         },
         "name": "metabolism",
         "offsetgroup": "metabolism",
         "orientation": "v",
         "showlegend": true,
         "textposition": "auto",
         "x": [
          "AHR_HUMAN",
          "GSTA1_HUMAN",
          "NR1I2_HUMAN",
          "NR1I3_HUMAN",
          "ST1A1_HUMAN"
         ],
         "xaxis": "x",
         "y": [
          0.21251475796930341,
          0.9773755656108597,
          0.6859122401847575,
          0.7293447293447294,
          0.9761904761904762
         ],
         "yaxis": "y",
         "type": "bar"
        },
        {
         "alignmentgroup": "True",
         "hovertemplate": "Category=absorption<br>Protein Name=%{x}<br>Fraction=%{y}<extra></extra>",
         "legendgroup": "absorption",
         "marker": {
          "color": "#c44601",
          "pattern": {
           "shape": ""
          }
         },
         "name": "absorption",
         "offsetgroup": "absorption",
         "orientation": "v",
         "showlegend": true,
         "textposition": "auto",
         "x": [
          "A1AG1_HUMAN",
          "OXA1L_HUMAN"
         ],
         "xaxis": "x",
         "y": [
          0.72,
          0.35944700460829493
         ],
         "yaxis": "y",
         "type": "bar"
        },
        {
         "alignmentgroup": "True",
         "hovertemplate": "Category=drug_transporter<br>Protein Name=%{x}<br>Fraction=%{y}<extra></extra>",
         "legendgroup": "drug_transporter",
         "marker": {
          "color": "#2546f0",
          "pattern": {
           "shape": ""
          }
         },
         "name": "drug_transporter",
         "offsetgroup": "drug_transporter",
         "orientation": "v",
         "showlegend": true,
         "textposition": "auto",
         "x": [
          "ABCBB_HUMAN",
          "ABCG2_HUMAN",
          "MDR1_HUMAN",
          "MRP1_HUMAN",
          "S15A1_HUMAN",
          "S22A6_HUMAN",
          "S22A8_HUMAN",
          "S47A1_HUMAN",
          "SO1B1_HUMAN",
          "SO1B3_HUMAN"
         ],
         "xaxis": "x",
         "y": [
          0.47954545454545455,
          0.6498470948012233,
          0.5504300234558248,
          0.4071895424836601,
          0.5190947666195191,
          0.39679715302491103,
          0.5138632162661737,
          0.7873462214411248,
          0.5173913043478261,
          0.4964336661911555
         ],
         "yaxis": "y",
         "type": "bar"
        },
        {
         "alignmentgroup": "True",
         "hovertemplate": "Category=toxicity<br>Protein Name=%{x}<br>Fraction=%{y}<extra></extra>",
         "legendgroup": "toxicity",
         "marker": {
          "color": "#5928ed",
          "pattern": {
           "shape": ""
          }
         },
         "name": "toxicity",
         "offsetgroup": "toxicity",
         "orientation": "v",
         "showlegend": true,
         "textposition": "auto",
         "x": [
          "5HT2B_HUMAN",
          "ACH10_HUMAN",
          "ACHA3_HUMAN",
          "ACHA5_HUMAN",
          "ACHA7_HUMAN",
          "ACHA9_HUMAN",
          "ACM1_HUMAN",
          "ACM2_HUMAN",
          "ACM3_HUMAN",
          "ADA1A_HUMAN",
          "ADA2A_HUMAN",
          "ADRB1_HUMAN",
          "ADRB2_HUMAN",
          "ASM3A_HUMAN",
          "CAC1C_HUMAN",
          "CACB1_HUMAN",
          "CNR1_HUMAN",
          "CNR2_HUMAN",
          "GBRA1_HUMAN",
          "HRH1_HUMAN",
          "KCNH2_HUMAN",
          "SC6A2_HUMAN",
          "SC6A3_HUMAN",
          "SC6A4_HUMAN",
          "SCN5A_HUMAN"
         ],
         "xaxis": "x",
         "y": [
          0.38125,
          0.5033407572383074,
          0.6011904761904762,
          0.4518201284796574,
          0.3772455089820359,
          0.45188284518828453,
          0.5054466230936819,
          0.5118279569892473,
          0.32088285229202035,
          0.4236559139784946,
          0.47413793103448276,
          0.4831932773109244,
          0.587378640776699,
          0.9048672566371682,
          0.09684684684684684,
          0.4221105527638191,
          0.46284501061571126,
          0.637883008356546,
          0.6505494505494506,
          0.3991769547325103,
          0.25734024179620035,
          0.7386363636363636,
          0.7382875605815832,
          0.7567567567567568,
          0.11017369727047147
         ],
         "yaxis": "y",
         "type": "bar"
        }
       ],
       "layout": {
        "template": {
         "data": {
          "barpolar": [
           {
            "marker": {
             "line": {
              "color": "white",
              "width": 0.5
             },
             "pattern": {
              "fillmode": "overlay",
              "size": 10,
              "solidity": 0.2
             }
            },
            "type": "barpolar"
           }
          ],
          "bar": [
           {
            "error_x": {
             "color": "rgb(36,36,36)"
            },
            "error_y": {
             "color": "rgb(36,36,36)"
            },
            "marker": {
             "line": {
              "color": "white",
              "width": 0.5
             },
             "pattern": {
              "fillmode": "overlay",
              "size": 10,
              "solidity": 0.2
             }
            },
            "type": "bar"
           }
          ],
          "carpet": [
           {
            "aaxis": {
             "endlinecolor": "rgb(36,36,36)",
             "gridcolor": "white",
             "linecolor": "white",
             "minorgridcolor": "white",
             "startlinecolor": "rgb(36,36,36)"
            },
            "baxis": {
             "endlinecolor": "rgb(36,36,36)",
             "gridcolor": "white",
             "linecolor": "white",
             "minorgridcolor": "white",
             "startlinecolor": "rgb(36,36,36)"
            },
            "type": "carpet"
           }
          ],
          "choropleth": [
           {
            "colorbar": {
             "outlinewidth": 1,
             "tickcolor": "rgb(36,36,36)",
             "ticks": "outside"
            },
            "type": "choropleth"
           }
          ],
          "contourcarpet": [
           {
            "colorbar": {
             "outlinewidth": 1,
             "tickcolor": "rgb(36,36,36)",
             "ticks": "outside"
            },
            "type": "contourcarpet"
           }
          ],
          "contour": [
           {
            "colorbar": {
             "outlinewidth": 1,
             "tickcolor": "rgb(36,36,36)",
             "ticks": "outside"
            },
            "colorscale": [
             [
              0.0,
              "#440154"
             ],
             [
              0.1111111111111111,
              "#482878"
             ],
             [
              0.2222222222222222,
              "#3e4989"
             ],
             [
              0.3333333333333333,
              "#31688e"
             ],
             [
              0.4444444444444444,
              "#26828e"
             ],
             [
              0.5555555555555556,
              "#1f9e89"
             ],
             [
              0.6666666666666666,
              "#35b779"
             ],
             [
              0.7777777777777778,
              "#6ece58"
             ],
             [
              0.8888888888888888,
              "#b5de2b"
             ],
             [
              1.0,
              "#fde725"
             ]
            ],
            "type": "contour"
           }
          ],
          "heatmapgl": [
           {
            "colorbar": {
             "outlinewidth": 1,
             "tickcolor": "rgb(36,36,36)",
             "ticks": "outside"
            },
            "colorscale": [
             [
              0.0,
              "#440154"
             ],
             [
              0.1111111111111111,
              "#482878"
             ],
             [
              0.2222222222222222,
              "#3e4989"
             ],
             [
              0.3333333333333333,
              "#31688e"
             ],
             [
              0.4444444444444444,
              "#26828e"
             ],
             [
              0.5555555555555556,
              "#1f9e89"
             ],
             [
              0.6666666666666666,
              "#35b779"
             ],
             [
              0.7777777777777778,
              "#6ece58"
             ],
             [
              0.8888888888888888,
              "#b5de2b"
             ],
             [
              1.0,
              "#fde725"
             ]
            ],
            "type": "heatmapgl"
           }
          ],
          "heatmap": [
           {
            "colorbar": {
             "outlinewidth": 1,
             "tickcolor": "rgb(36,36,36)",
             "ticks": "outside"
            },
            "colorscale": [
             [
              0.0,
              "#440154"
             ],
             [
              0.1111111111111111,
              "#482878"
             ],
             [
              0.2222222222222222,
              "#3e4989"
             ],
             [
              0.3333333333333333,
              "#31688e"
             ],
             [
              0.4444444444444444,
              "#26828e"
             ],
             [
              0.5555555555555556,
              "#1f9e89"
             ],
             [
              0.6666666666666666,
              "#35b779"
             ],
             [
              0.7777777777777778,
              "#6ece58"
             ],
             [
              0.8888888888888888,
              "#b5de2b"
             ],
             [
              1.0,
              "#fde725"
             ]
            ],
            "type": "heatmap"
           }
          ],
          "histogram2dcontour": [
           {
            "colorbar": {
             "outlinewidth": 1,
             "tickcolor": "rgb(36,36,36)",
             "ticks": "outside"
            },
            "colorscale": [
             [
              0.0,
              "#440154"
             ],
             [
              0.1111111111111111,
              "#482878"
             ],
             [
              0.2222222222222222,
              "#3e4989"
             ],
             [
              0.3333333333333333,
              "#31688e"
             ],
             [
              0.4444444444444444,
              "#26828e"
             ],
             [
              0.5555555555555556,
              "#1f9e89"
             ],
             [
              0.6666666666666666,
              "#35b779"
             ],
             [
              0.7777777777777778,
              "#6ece58"
             ],
             [
              0.8888888888888888,
              "#b5de2b"
             ],
             [
              1.0,
              "#fde725"
             ]
            ],
            "type": "histogram2dcontour"
           }
          ],
          "histogram2d": [
           {
            "colorbar": {
             "outlinewidth": 1,
             "tickcolor": "rgb(36,36,36)",
             "ticks": "outside"
            },
            "colorscale": [
             [
              0.0,
              "#440154"
             ],
             [
              0.1111111111111111,
              "#482878"
             ],
             [
              0.2222222222222222,
              "#3e4989"
             ],
             [
              0.3333333333333333,
              "#31688e"
             ],
             [
              0.4444444444444444,
              "#26828e"
             ],
             [
              0.5555555555555556,
              "#1f9e89"
             ],
             [
              0.6666666666666666,
              "#35b779"
             ],
             [
              0.7777777777777778,
              "#6ece58"
             ],
             [
              0.8888888888888888,
              "#b5de2b"
             ],
             [
              1.0,
              "#fde725"
             ]
            ],
            "type": "histogram2d"
           }
          ],
          "histogram": [
           {
            "marker": {
             "line": {
              "color": "white",
              "width": 0.6
             }
            },
            "type": "histogram"
           }
          ],
          "mesh3d": [
           {
            "colorbar": {
             "outlinewidth": 1,
             "tickcolor": "rgb(36,36,36)",
             "ticks": "outside"
            },
            "type": "mesh3d"
           }
          ],
          "parcoords": [
           {
            "line": {
             "colorbar": {
              "outlinewidth": 1,
              "tickcolor": "rgb(36,36,36)",
              "ticks": "outside"
             }
            },
            "type": "parcoords"
           }
          ],
          "pie": [
           {
            "automargin": true,
            "type": "pie"
           }
          ],
          "scatter3d": [
           {
            "line": {
             "colorbar": {
              "outlinewidth": 1,
              "tickcolor": "rgb(36,36,36)",
              "ticks": "outside"
             }
            },
            "marker": {
             "colorbar": {
              "outlinewidth": 1,
              "tickcolor": "rgb(36,36,36)",
              "ticks": "outside"
             }
            },
            "type": "scatter3d"
           }
          ],
          "scattercarpet": [
           {
            "marker": {
             "colorbar": {
              "outlinewidth": 1,
              "tickcolor": "rgb(36,36,36)",
              "ticks": "outside"
             }
            },
            "type": "scattercarpet"
           }
          ],
          "scattergeo": [
           {
            "marker": {
             "colorbar": {
              "outlinewidth": 1,
              "tickcolor": "rgb(36,36,36)",
              "ticks": "outside"
             }
            },
            "type": "scattergeo"
           }
          ],
          "scattergl": [
           {
            "marker": {
             "colorbar": {
              "outlinewidth": 1,
              "tickcolor": "rgb(36,36,36)",
              "ticks": "outside"
             }
            },
            "type": "scattergl"
           }
          ],
          "scattermapbox": [
           {
            "marker": {
             "colorbar": {
              "outlinewidth": 1,
              "tickcolor": "rgb(36,36,36)",
              "ticks": "outside"
             }
            },
            "type": "scattermapbox"
           }
          ],
          "scatterpolargl": [
           {
            "marker": {
             "colorbar": {
              "outlinewidth": 1,
              "tickcolor": "rgb(36,36,36)",
              "ticks": "outside"
             }
            },
            "type": "scatterpolargl"
           }
          ],
          "scatterpolar": [
           {
            "marker": {
             "colorbar": {
              "outlinewidth": 1,
              "tickcolor": "rgb(36,36,36)",
              "ticks": "outside"
             }
            },
            "type": "scatterpolar"
           }
          ],
          "scatter": [
           {
            "fillpattern": {
             "fillmode": "overlay",
             "size": 10,
             "solidity": 0.2
            },
            "type": "scatter"
           }
          ],
          "scatterternary": [
           {
            "marker": {
             "colorbar": {
              "outlinewidth": 1,
              "tickcolor": "rgb(36,36,36)",
              "ticks": "outside"
             }
            },
            "type": "scatterternary"
           }
          ],
          "surface": [
           {
            "colorbar": {
             "outlinewidth": 1,
             "tickcolor": "rgb(36,36,36)",
             "ticks": "outside"
            },
            "colorscale": [
             [
              0.0,
              "#440154"
             ],
             [
              0.1111111111111111,
              "#482878"
             ],
             [
              0.2222222222222222,
              "#3e4989"
             ],
             [
              0.3333333333333333,
              "#31688e"
             ],
             [
              0.4444444444444444,
              "#26828e"
             ],
             [
              0.5555555555555556,
              "#1f9e89"
             ],
             [
              0.6666666666666666,
              "#35b779"
             ],
             [
              0.7777777777777778,
              "#6ece58"
             ],
             [
              0.8888888888888888,
              "#b5de2b"
             ],
             [
              1.0,
              "#fde725"
             ]
            ],
            "type": "surface"
           }
          ],
          "table": [
           {
            "cells": {
             "fill": {
              "color": "rgb(237,237,237)"
             },
             "line": {
              "color": "white"
             }
            },
            "header": {
             "fill": {
              "color": "rgb(217,217,217)"
             },
             "line": {
              "color": "white"
             }
            },
            "type": "table"
           }
          ]
         },
         "layout": {
          "annotationdefaults": {
           "arrowhead": 0,
           "arrowwidth": 1
          },
          "autotypenumbers": "strict",
          "coloraxis": {
           "colorbar": {
            "outlinewidth": 1,
            "tickcolor": "rgb(36,36,36)",
            "ticks": "outside"
           }
          },
          "colorscale": {
           "diverging": [
            [
             0.0,
             "rgb(103,0,31)"
            ],
            [
             0.1,
             "rgb(178,24,43)"
            ],
            [
             0.2,
             "rgb(214,96,77)"
            ],
            [
             0.3,
             "rgb(244,165,130)"
            ],
            [
             0.4,
             "rgb(253,219,199)"
            ],
            [
             0.5,
             "rgb(247,247,247)"
            ],
            [
             0.6,
             "rgb(209,229,240)"
            ],
            [
             0.7,
             "rgb(146,197,222)"
            ],
            [
             0.8,
             "rgb(67,147,195)"
            ],
            [
             0.9,
             "rgb(33,102,172)"
            ],
            [
             1.0,
             "rgb(5,48,97)"
            ]
           ],
           "sequential": [
            [
             0.0,
             "#440154"
            ],
            [
             0.1111111111111111,
             "#482878"
            ],
            [
             0.2222222222222222,
             "#3e4989"
            ],
            [
             0.3333333333333333,
             "#31688e"
            ],
            [
             0.4444444444444444,
             "#26828e"
            ],
            [
             0.5555555555555556,
             "#1f9e89"
            ],
            [
             0.6666666666666666,
             "#35b779"
            ],
            [
             0.7777777777777778,
             "#6ece58"
            ],
            [
             0.8888888888888888,
             "#b5de2b"
            ],
            [
             1.0,
             "#fde725"
            ]
           ],
           "sequentialminus": [
            [
             0.0,
             "#440154"
            ],
            [
             0.1111111111111111,
             "#482878"
            ],
            [
             0.2222222222222222,
             "#3e4989"
            ],
            [
             0.3333333333333333,
             "#31688e"
            ],
            [
             0.4444444444444444,
             "#26828e"
            ],
            [
             0.5555555555555556,
             "#1f9e89"
            ],
            [
             0.6666666666666666,
             "#35b779"
            ],
            [
             0.7777777777777778,
             "#6ece58"
            ],
            [
             0.8888888888888888,
             "#b5de2b"
            ],
            [
             1.0,
             "#fde725"
            ]
           ]
          },
          "colorway": [
           "#1F77B4",
           "#FF7F0E",
           "#2CA02C",
           "#D62728",
           "#9467BD",
           "#8C564B",
           "#E377C2",
           "#7F7F7F",
           "#BCBD22",
           "#17BECF"
          ],
          "font": {
           "color": "rgb(36,36,36)"
          },
          "geo": {
           "bgcolor": "white",
           "lakecolor": "white",
           "landcolor": "white",
           "showlakes": true,
           "showland": true,
           "subunitcolor": "white"
          },
          "hoverlabel": {
           "align": "left"
          },
          "hovermode": "closest",
          "mapbox": {
           "style": "light"
          },
          "paper_bgcolor": "white",
          "plot_bgcolor": "white",
          "polar": {
           "angularaxis": {
            "gridcolor": "rgb(232,232,232)",
            "linecolor": "rgb(36,36,36)",
            "showgrid": false,
            "showline": true,
            "ticks": "outside"
           },
           "bgcolor": "white",
           "radialaxis": {
            "gridcolor": "rgb(232,232,232)",
            "linecolor": "rgb(36,36,36)",
            "showgrid": false,
            "showline": true,
            "ticks": "outside"
           }
          },
          "scene": {
           "xaxis": {
            "backgroundcolor": "white",
            "gridcolor": "rgb(232,232,232)",
            "gridwidth": 2,
            "linecolor": "rgb(36,36,36)",
            "showbackground": true,
            "showgrid": false,
            "showline": true,
            "ticks": "outside",
            "zeroline": false,
            "zerolinecolor": "rgb(36,36,36)"
           },
           "yaxis": {
            "backgroundcolor": "white",
            "gridcolor": "rgb(232,232,232)",
            "gridwidth": 2,
            "linecolor": "rgb(36,36,36)",
            "showbackground": true,
            "showgrid": false,
            "showline": true,
            "ticks": "outside",
            "zeroline": false,
            "zerolinecolor": "rgb(36,36,36)"
           },
           "zaxis": {
            "backgroundcolor": "white",
            "gridcolor": "rgb(232,232,232)",
            "gridwidth": 2,
            "linecolor": "rgb(36,36,36)",
            "showbackground": true,
            "showgrid": false,
            "showline": true,
            "ticks": "outside",
            "zeroline": false,
            "zerolinecolor": "rgb(36,36,36)"
           }
          },
          "shapedefaults": {
           "fillcolor": "black",
           "line": {
            "width": 0
           },
           "opacity": 0.3
          },
          "ternary": {
           "aaxis": {
            "gridcolor": "rgb(232,232,232)",
            "linecolor": "rgb(36,36,36)",
            "showgrid": false,
            "showline": true,
            "ticks": "outside"
           },
           "baxis": {
            "gridcolor": "rgb(232,232,232)",
            "linecolor": "rgb(36,36,36)",
            "showgrid": false,
            "showline": true,
            "ticks": "outside"
           },
           "bgcolor": "white",
           "caxis": {
            "gridcolor": "rgb(232,232,232)",
            "linecolor": "rgb(36,36,36)",
            "showgrid": false,
            "showline": true,
            "ticks": "outside"
           }
          },
          "title": {
           "x": 0.05
          },
          "xaxis": {
           "automargin": true,
           "gridcolor": "rgb(232,232,232)",
           "linecolor": "rgb(36,36,36)",
           "showgrid": false,
           "showline": true,
           "ticks": "outside",
           "title": {
            "standoff": 15
           },
           "zeroline": false,
           "zerolinecolor": "rgb(36,36,36)"
          },
          "yaxis": {
           "automargin": true,
           "gridcolor": "rgb(232,232,232)",
           "linecolor": "rgb(36,36,36)",
           "showgrid": false,
           "showline": true,
           "ticks": "outside",
           "title": {
            "standoff": 15
           },
           "zeroline": false,
           "zerolinecolor": "rgb(36,36,36)"
          }
         }
        },
        "xaxis": {
         "anchor": "y",
         "domain": [
          0.0,
          1.0
         ],
         "title": {
          "text": "Protein Name"
         }
        },
        "yaxis": {
         "anchor": "x",
         "domain": [
          0.0,
          1.0
         ],
         "title": {
          "text": "Fraction"
         }
        },
        "legend": {
         "title": {
          "text": "Category"
         },
         "tracegroupgap": 0
        },
        "title": {
         "text": "Fraction of Sequence Modeled with Very High Confidence (pLDDT > 90)"
        },
        "barmode": "relative",
        "height": 600,
        "width": 1200
       },
       "config": {
        "plotlyServerURL": "https://plot.ly"
       }
      },
      "text/html": "<div>                            <div id=\"b0ca0ebf-f8b6-475a-8c70-6ffaaf590e46\" class=\"plotly-graph-div\" style=\"height:600px; width:1200px;\"></div>            <script type=\"text/javascript\">                require([\"plotly\"], function(Plotly) {                    window.PLOTLYENV=window.PLOTLYENV || {};                                    if (document.getElementById(\"b0ca0ebf-f8b6-475a-8c70-6ffaaf590e46\")) {                    Plotly.newPlot(                        \"b0ca0ebf-f8b6-475a-8c70-6ffaaf590e46\",                        [{\"alignmentgroup\":\"True\",\"hovertemplate\":\"Category=metabolism_redox\\u003cbr\\u003eProtein Name=%{x}\\u003cbr\\u003eFraction=%{y}\\u003cextra\\u003e\\u003c\\u002fextra\\u003e\",\"legendgroup\":\"metabolism_redox\",\"marker\":{\"color\":\"#00bf7d\",\"pattern\":{\"shape\":\"\"}},\"name\":\"metabolism_redox\",\"offsetgroup\":\"metabolism_redox\",\"orientation\":\"v\",\"showlegend\":true,\"textposition\":\"auto\",\"x\":[\"ADH1A_HUMAN\",\"AL1A1_HUMAN\",\"AOFA_HUMAN\",\"AOFB_HUMAN\",\"AOXA_HUMAN\",\"ARK73_HUMAN\",\"CP1A2_HUMAN\",\"CP2B6_HUMAN\",\"CP2C9_HUMAN\",\"CP2CJ_HUMAN\",\"CP2D6_HUMAN\",\"CP3A4_HUMAN\",\"DHI1_HUMAN\",\"FMO1_HUMAN\",\"XDH_HUMAN\"],\"xaxis\":\"x\",\"y\":[0.9973262032085561,0.98,0.9695817490494296,0.9171483622350675,0.9214659685863874,0.9606060606060606,0.916504854368932,0.9040816326530612,0.787321063394683,0.8609406952965235,0.8568548387096774,0.8147410358565738,0.8694158075601375,0.8606403013182674,0.9346846846846847],\"yaxis\":\"y\",\"type\":\"bar\"},{\"alignmentgroup\":\"True\",\"hovertemplate\":\"Category=metabolism\\u003cbr\\u003eProtein Name=%{x}\\u003cbr\\u003eFraction=%{y}\\u003cextra\\u003e\\u003c\\u002fextra\\u003e\",\"legendgroup\":\"metabolism\",\"marker\":{\"color\":\"#00b4c5\",\"pattern\":{\"shape\":\"\"}},\"name\":\"metabolism\",\"offsetgroup\":\"metabolism\",\"orientation\":\"v\",\"showlegend\":true,\"textposition\":\"auto\",\"x\":[\"AHR_HUMAN\",\"GSTA1_HUMAN\",\"NR1I2_HUMAN\",\"NR1I3_HUMAN\",\"ST1A1_HUMAN\"],\"xaxis\":\"x\",\"y\":[0.21251475796930341,0.9773755656108597,0.6859122401847575,0.7293447293447294,0.9761904761904762],\"yaxis\":\"y\",\"type\":\"bar\"},{\"alignmentgroup\":\"True\",\"hovertemplate\":\"Category=absorption\\u003cbr\\u003eProtein Name=%{x}\\u003cbr\\u003eFraction=%{y}\\u003cextra\\u003e\\u003c\\u002fextra\\u003e\",\"legendgroup\":\"absorption\",\"marker\":{\"color\":\"#c44601\",\"pattern\":{\"shape\":\"\"}},\"name\":\"absorption\",\"offsetgroup\":\"absorption\",\"orientation\":\"v\",\"showlegend\":true,\"textposition\":\"auto\",\"x\":[\"A1AG1_HUMAN\",\"OXA1L_HUMAN\"],\"xaxis\":\"x\",\"y\":[0.72,0.35944700460829493],\"yaxis\":\"y\",\"type\":\"bar\"},{\"alignmentgroup\":\"True\",\"hovertemplate\":\"Category=drug_transporter\\u003cbr\\u003eProtein Name=%{x}\\u003cbr\\u003eFraction=%{y}\\u003cextra\\u003e\\u003c\\u002fextra\\u003e\",\"legendgroup\":\"drug_transporter\",\"marker\":{\"color\":\"#2546f0\",\"pattern\":{\"shape\":\"\"}},\"name\":\"drug_transporter\",\"offsetgroup\":\"drug_transporter\",\"orientation\":\"v\",\"showlegend\":true,\"textposition\":\"auto\",\"x\":[\"ABCBB_HUMAN\",\"ABCG2_HUMAN\",\"MDR1_HUMAN\",\"MRP1_HUMAN\",\"S15A1_HUMAN\",\"S22A6_HUMAN\",\"S22A8_HUMAN\",\"S47A1_HUMAN\",\"SO1B1_HUMAN\",\"SO1B3_HUMAN\"],\"xaxis\":\"x\",\"y\":[0.47954545454545455,0.6498470948012233,0.5504300234558248,0.4071895424836601,0.5190947666195191,0.39679715302491103,0.5138632162661737,0.7873462214411248,0.5173913043478261,0.4964336661911555],\"yaxis\":\"y\",\"type\":\"bar\"},{\"alignmentgroup\":\"True\",\"hovertemplate\":\"Category=toxicity\\u003cbr\\u003eProtein Name=%{x}\\u003cbr\\u003eFraction=%{y}\\u003cextra\\u003e\\u003c\\u002fextra\\u003e\",\"legendgroup\":\"toxicity\",\"marker\":{\"color\":\"#5928ed\",\"pattern\":{\"shape\":\"\"}},\"name\":\"toxicity\",\"offsetgroup\":\"toxicity\",\"orientation\":\"v\",\"showlegend\":true,\"textposition\":\"auto\",\"x\":[\"5HT2B_HUMAN\",\"ACH10_HUMAN\",\"ACHA3_HUMAN\",\"ACHA5_HUMAN\",\"ACHA7_HUMAN\",\"ACHA9_HUMAN\",\"ACM1_HUMAN\",\"ACM2_HUMAN\",\"ACM3_HUMAN\",\"ADA1A_HUMAN\",\"ADA2A_HUMAN\",\"ADRB1_HUMAN\",\"ADRB2_HUMAN\",\"ASM3A_HUMAN\",\"CAC1C_HUMAN\",\"CACB1_HUMAN\",\"CNR1_HUMAN\",\"CNR2_HUMAN\",\"GBRA1_HUMAN\",\"HRH1_HUMAN\",\"KCNH2_HUMAN\",\"SC6A2_HUMAN\",\"SC6A3_HUMAN\",\"SC6A4_HUMAN\",\"SCN5A_HUMAN\"],\"xaxis\":\"x\",\"y\":[0.38125,0.5033407572383074,0.6011904761904762,0.4518201284796574,0.3772455089820359,0.45188284518828453,0.5054466230936819,0.5118279569892473,0.32088285229202035,0.4236559139784946,0.47413793103448276,0.4831932773109244,0.587378640776699,0.9048672566371682,0.09684684684684684,0.4221105527638191,0.46284501061571126,0.637883008356546,0.6505494505494506,0.3991769547325103,0.25734024179620035,0.7386363636363636,0.7382875605815832,0.7567567567567568,0.11017369727047147],\"yaxis\":\"y\",\"type\":\"bar\"}],                        {\"template\":{\"data\":{\"barpolar\":[{\"marker\":{\"line\":{\"color\":\"white\",\"width\":0.5},\"pattern\":{\"fillmode\":\"overlay\",\"size\":10,\"solidity\":0.2}},\"type\":\"barpolar\"}],\"bar\":[{\"error_x\":{\"color\":\"rgb(36,36,36)\"},\"error_y\":{\"color\":\"rgb(36,36,36)\"},\"marker\":{\"line\":{\"color\":\"white\",\"width\":0.5},\"pattern\":{\"fillmode\":\"overlay\",\"size\":10,\"solidity\":0.2}},\"type\":\"bar\"}],\"carpet\":[{\"aaxis\":{\"endlinecolor\":\"rgb(36,36,36)\",\"gridcolor\":\"white\",\"linecolor\":\"white\",\"minorgridcolor\":\"white\",\"startlinecolor\":\"rgb(36,36,36)\"},\"baxis\":{\"endlinecolor\":\"rgb(36,36,36)\",\"gridcolor\":\"white\",\"linecolor\":\"white\",\"minorgridcolor\":\"white\",\"startlinecolor\":\"rgb(36,36,36)\"},\"type\":\"carpet\"}],\"choropleth\":[{\"colorbar\":{\"outlinewidth\":1,\"tickcolor\":\"rgb(36,36,36)\",\"ticks\":\"outside\"},\"type\":\"choropleth\"}],\"contourcarpet\":[{\"colorbar\":{\"outlinewidth\":1,\"tickcolor\":\"rgb(36,36,36)\",\"ticks\":\"outside\"},\"type\":\"contourcarpet\"}],\"contour\":[{\"colorbar\":{\"outlinewidth\":1,\"tickcolor\":\"rgb(36,36,36)\",\"ticks\":\"outside\"},\"colorscale\":[[0.0,\"#440154\"],[0.1111111111111111,\"#482878\"],[0.2222222222222222,\"#3e4989\"],[0.3333333333333333,\"#31688e\"],[0.4444444444444444,\"#26828e\"],[0.5555555555555556,\"#1f9e89\"],[0.6666666666666666,\"#35b779\"],[0.7777777777777778,\"#6ece58\"],[0.8888888888888888,\"#b5de2b\"],[1.0,\"#fde725\"]],\"type\":\"contour\"}],\"heatmapgl\":[{\"colorbar\":{\"outlinewidth\":1,\"tickcolor\":\"rgb(36,36,36)\",\"ticks\":\"outside\"},\"colorscale\":[[0.0,\"#440154\"],[0.1111111111111111,\"#482878\"],[0.2222222222222222,\"#3e4989\"],[0.3333333333333333,\"#31688e\"],[0.4444444444444444,\"#26828e\"],[0.5555555555555556,\"#1f9e89\"],[0.6666666666666666,\"#35b779\"],[0.7777777777777778,\"#6ece58\"],[0.8888888888888888,\"#b5de2b\"],[1.0,\"#fde725\"]],\"type\":\"heatmapgl\"}],\"heatmap\":[{\"colorbar\":{\"outlinewidth\":1,\"tickcolor\":\"rgb(36,36,36)\",\"ticks\":\"outside\"},\"colorscale\":[[0.0,\"#440154\"],[0.1111111111111111,\"#482878\"],[0.2222222222222222,\"#3e4989\"],[0.3333333333333333,\"#31688e\"],[0.4444444444444444,\"#26828e\"],[0.5555555555555556,\"#1f9e89\"],[0.6666666666666666,\"#35b779\"],[0.7777777777777778,\"#6ece58\"],[0.8888888888888888,\"#b5de2b\"],[1.0,\"#fde725\"]],\"type\":\"heatmap\"}],\"histogram2dcontour\":[{\"colorbar\":{\"outlinewidth\":1,\"tickcolor\":\"rgb(36,36,36)\",\"ticks\":\"outside\"},\"colorscale\":[[0.0,\"#440154\"],[0.1111111111111111,\"#482878\"],[0.2222222222222222,\"#3e4989\"],[0.3333333333333333,\"#31688e\"],[0.4444444444444444,\"#26828e\"],[0.5555555555555556,\"#1f9e89\"],[0.6666666666666666,\"#35b779\"],[0.7777777777777778,\"#6ece58\"],[0.8888888888888888,\"#b5de2b\"],[1.0,\"#fde725\"]],\"type\":\"histogram2dcontour\"}],\"histogram2d\":[{\"colorbar\":{\"outlinewidth\":1,\"tickcolor\":\"rgb(36,36,36)\",\"ticks\":\"outside\"},\"colorscale\":[[0.0,\"#440154\"],[0.1111111111111111,\"#482878\"],[0.2222222222222222,\"#3e4989\"],[0.3333333333333333,\"#31688e\"],[0.4444444444444444,\"#26828e\"],[0.5555555555555556,\"#1f9e89\"],[0.6666666666666666,\"#35b779\"],[0.7777777777777778,\"#6ece58\"],[0.8888888888888888,\"#b5de2b\"],[1.0,\"#fde725\"]],\"type\":\"histogram2d\"}],\"histogram\":[{\"marker\":{\"line\":{\"color\":\"white\",\"width\":0.6}},\"type\":\"histogram\"}],\"mesh3d\":[{\"colorbar\":{\"outlinewidth\":1,\"tickcolor\":\"rgb(36,36,36)\",\"ticks\":\"outside\"},\"type\":\"mesh3d\"}],\"parcoords\":[{\"line\":{\"colorbar\":{\"outlinewidth\":1,\"tickcolor\":\"rgb(36,36,36)\",\"ticks\":\"outside\"}},\"type\":\"parcoords\"}],\"pie\":[{\"automargin\":true,\"type\":\"pie\"}],\"scatter3d\":[{\"line\":{\"colorbar\":{\"outlinewidth\":1,\"tickcolor\":\"rgb(36,36,36)\",\"ticks\":\"outside\"}},\"marker\":{\"colorbar\":{\"outlinewidth\":1,\"tickcolor\":\"rgb(36,36,36)\",\"ticks\":\"outside\"}},\"type\":\"scatter3d\"}],\"scattercarpet\":[{\"marker\":{\"colorbar\":{\"outlinewidth\":1,\"tickcolor\":\"rgb(36,36,36)\",\"ticks\":\"outside\"}},\"type\":\"scattercarpet\"}],\"scattergeo\":[{\"marker\":{\"colorbar\":{\"outlinewidth\":1,\"tickcolor\":\"rgb(36,36,36)\",\"ticks\":\"outside\"}},\"type\":\"scattergeo\"}],\"scattergl\":[{\"marker\":{\"colorbar\":{\"outlinewidth\":1,\"tickcolor\":\"rgb(36,36,36)\",\"ticks\":\"outside\"}},\"type\":\"scattergl\"}],\"scattermapbox\":[{\"marker\":{\"colorbar\":{\"outlinewidth\":1,\"tickcolor\":\"rgb(36,36,36)\",\"ticks\":\"outside\"}},\"type\":\"scattermapbox\"}],\"scatterpolargl\":[{\"marker\":{\"colorbar\":{\"outlinewidth\":1,\"tickcolor\":\"rgb(36,36,36)\",\"ticks\":\"outside\"}},\"type\":\"scatterpolargl\"}],\"scatterpolar\":[{\"marker\":{\"colorbar\":{\"outlinewidth\":1,\"tickcolor\":\"rgb(36,36,36)\",\"ticks\":\"outside\"}},\"type\":\"scatterpolar\"}],\"scatter\":[{\"fillpattern\":{\"fillmode\":\"overlay\",\"size\":10,\"solidity\":0.2},\"type\":\"scatter\"}],\"scatterternary\":[{\"marker\":{\"colorbar\":{\"outlinewidth\":1,\"tickcolor\":\"rgb(36,36,36)\",\"ticks\":\"outside\"}},\"type\":\"scatterternary\"}],\"surface\":[{\"colorbar\":{\"outlinewidth\":1,\"tickcolor\":\"rgb(36,36,36)\",\"ticks\":\"outside\"},\"colorscale\":[[0.0,\"#440154\"],[0.1111111111111111,\"#482878\"],[0.2222222222222222,\"#3e4989\"],[0.3333333333333333,\"#31688e\"],[0.4444444444444444,\"#26828e\"],[0.5555555555555556,\"#1f9e89\"],[0.6666666666666666,\"#35b779\"],[0.7777777777777778,\"#6ece58\"],[0.8888888888888888,\"#b5de2b\"],[1.0,\"#fde725\"]],\"type\":\"surface\"}],\"table\":[{\"cells\":{\"fill\":{\"color\":\"rgb(237,237,237)\"},\"line\":{\"color\":\"white\"}},\"header\":{\"fill\":{\"color\":\"rgb(217,217,217)\"},\"line\":{\"color\":\"white\"}},\"type\":\"table\"}]},\"layout\":{\"annotationdefaults\":{\"arrowhead\":0,\"arrowwidth\":1},\"autotypenumbers\":\"strict\",\"coloraxis\":{\"colorbar\":{\"outlinewidth\":1,\"tickcolor\":\"rgb(36,36,36)\",\"ticks\":\"outside\"}},\"colorscale\":{\"diverging\":[[0.0,\"rgb(103,0,31)\"],[0.1,\"rgb(178,24,43)\"],[0.2,\"rgb(214,96,77)\"],[0.3,\"rgb(244,165,130)\"],[0.4,\"rgb(253,219,199)\"],[0.5,\"rgb(247,247,247)\"],[0.6,\"rgb(209,229,240)\"],[0.7,\"rgb(146,197,222)\"],[0.8,\"rgb(67,147,195)\"],[0.9,\"rgb(33,102,172)\"],[1.0,\"rgb(5,48,97)\"]],\"sequential\":[[0.0,\"#440154\"],[0.1111111111111111,\"#482878\"],[0.2222222222222222,\"#3e4989\"],[0.3333333333333333,\"#31688e\"],[0.4444444444444444,\"#26828e\"],[0.5555555555555556,\"#1f9e89\"],[0.6666666666666666,\"#35b779\"],[0.7777777777777778,\"#6ece58\"],[0.8888888888888888,\"#b5de2b\"],[1.0,\"#fde725\"]],\"sequentialminus\":[[0.0,\"#440154\"],[0.1111111111111111,\"#482878\"],[0.2222222222222222,\"#3e4989\"],[0.3333333333333333,\"#31688e\"],[0.4444444444444444,\"#26828e\"],[0.5555555555555556,\"#1f9e89\"],[0.6666666666666666,\"#35b779\"],[0.7777777777777778,\"#6ece58\"],[0.8888888888888888,\"#b5de2b\"],[1.0,\"#fde725\"]]},\"colorway\":[\"#1F77B4\",\"#FF7F0E\",\"#2CA02C\",\"#D62728\",\"#9467BD\",\"#8C564B\",\"#E377C2\",\"#7F7F7F\",\"#BCBD22\",\"#17BECF\"],\"font\":{\"color\":\"rgb(36,36,36)\"},\"geo\":{\"bgcolor\":\"white\",\"lakecolor\":\"white\",\"landcolor\":\"white\",\"showlakes\":true,\"showland\":true,\"subunitcolor\":\"white\"},\"hoverlabel\":{\"align\":\"left\"},\"hovermode\":\"closest\",\"mapbox\":{\"style\":\"light\"},\"paper_bgcolor\":\"white\",\"plot_bgcolor\":\"white\",\"polar\":{\"angularaxis\":{\"gridcolor\":\"rgb(232,232,232)\",\"linecolor\":\"rgb(36,36,36)\",\"showgrid\":false,\"showline\":true,\"ticks\":\"outside\"},\"bgcolor\":\"white\",\"radialaxis\":{\"gridcolor\":\"rgb(232,232,232)\",\"linecolor\":\"rgb(36,36,36)\",\"showgrid\":false,\"showline\":true,\"ticks\":\"outside\"}},\"scene\":{\"xaxis\":{\"backgroundcolor\":\"white\",\"gridcolor\":\"rgb(232,232,232)\",\"gridwidth\":2,\"linecolor\":\"rgb(36,36,36)\",\"showbackground\":true,\"showgrid\":false,\"showline\":true,\"ticks\":\"outside\",\"zeroline\":false,\"zerolinecolor\":\"rgb(36,36,36)\"},\"yaxis\":{\"backgroundcolor\":\"white\",\"gridcolor\":\"rgb(232,232,232)\",\"gridwidth\":2,\"linecolor\":\"rgb(36,36,36)\",\"showbackground\":true,\"showgrid\":false,\"showline\":true,\"ticks\":\"outside\",\"zeroline\":false,\"zerolinecolor\":\"rgb(36,36,36)\"},\"zaxis\":{\"backgroundcolor\":\"white\",\"gridcolor\":\"rgb(232,232,232)\",\"gridwidth\":2,\"linecolor\":\"rgb(36,36,36)\",\"showbackground\":true,\"showgrid\":false,\"showline\":true,\"ticks\":\"outside\",\"zeroline\":false,\"zerolinecolor\":\"rgb(36,36,36)\"}},\"shapedefaults\":{\"fillcolor\":\"black\",\"line\":{\"width\":0},\"opacity\":0.3},\"ternary\":{\"aaxis\":{\"gridcolor\":\"rgb(232,232,232)\",\"linecolor\":\"rgb(36,36,36)\",\"showgrid\":false,\"showline\":true,\"ticks\":\"outside\"},\"baxis\":{\"gridcolor\":\"rgb(232,232,232)\",\"linecolor\":\"rgb(36,36,36)\",\"showgrid\":false,\"showline\":true,\"ticks\":\"outside\"},\"bgcolor\":\"white\",\"caxis\":{\"gridcolor\":\"rgb(232,232,232)\",\"linecolor\":\"rgb(36,36,36)\",\"showgrid\":false,\"showline\":true,\"ticks\":\"outside\"}},\"title\":{\"x\":0.05},\"xaxis\":{\"automargin\":true,\"gridcolor\":\"rgb(232,232,232)\",\"linecolor\":\"rgb(36,36,36)\",\"showgrid\":false,\"showline\":true,\"ticks\":\"outside\",\"title\":{\"standoff\":15},\"zeroline\":false,\"zerolinecolor\":\"rgb(36,36,36)\"},\"yaxis\":{\"automargin\":true,\"gridcolor\":\"rgb(232,232,232)\",\"linecolor\":\"rgb(36,36,36)\",\"showgrid\":false,\"showline\":true,\"ticks\":\"outside\",\"title\":{\"standoff\":15},\"zeroline\":false,\"zerolinecolor\":\"rgb(36,36,36)\"}}},\"xaxis\":{\"anchor\":\"y\",\"domain\":[0.0,1.0],\"title\":{\"text\":\"Protein Name\"}},\"yaxis\":{\"anchor\":\"x\",\"domain\":[0.0,1.0],\"title\":{\"text\":\"Fraction\"}},\"legend\":{\"title\":{\"text\":\"Category\"},\"tracegroupgap\":0},\"title\":{\"text\":\"Fraction of Sequence Modeled with Very High Confidence (pLDDT \\u003e 90)\"},\"barmode\":\"relative\",\"height\":600,\"width\":1200},                        {\"responsive\": true}                    ).then(function(){\n                            \nvar gd = document.getElementById('b0ca0ebf-f8b6-475a-8c70-6ffaaf590e46');\nvar x = new MutationObserver(function (mutations, observer) {{\n        var display = window.getComputedStyle(gd).display;\n        if (!display || display === 'none') {{\n            console.log([gd, 'removed!']);\n            Plotly.purge(gd);\n            observer.disconnect();\n        }}\n}});\n\n// Listen for the removal of the full notebook cells\nvar notebookContainer = gd.closest('#notebook-container');\nif (notebookContainer) {{\n    x.observe(notebookContainer, {childList: true});\n}}\n\n// Listen for the clearing of the current output cell\nvar outputEl = gd.closest('.output');\nif (outputEl) {{\n    x.observe(outputEl, {childList: true});\n}}\n\n                        })                };                });            </script>        </div>"
     },
     "metadata": {},
     "output_type": "display_data"
    }
   ],
   "source": [
    "fig.show()"
   ],
   "metadata": {
    "collapsed": false,
    "ExecuteTime": {
     "end_time": "2024-02-21T19:14:26.742292Z",
     "start_time": "2024-02-21T19:14:26.726107Z"
    }
   },
   "id": "c866f08d914ec541",
   "execution_count": 63
  },
  {
   "cell_type": "code",
   "outputs": [],
   "source": [
    "fig.write_image(Path('..') / 'figures' / 'alphafold_confidence.png')"
   ],
   "metadata": {
    "collapsed": false,
    "ExecuteTime": {
     "end_time": "2024-02-21T19:14:59.947837Z",
     "start_time": "2024-02-21T19:14:58.660118Z"
    }
   },
   "id": "3e3c59c981eadc19",
   "execution_count": 64
  },
  {
   "cell_type": "code",
   "outputs": [
    {
     "data": {
      "text/plain": "57"
     },
     "execution_count": 65,
     "metadata": {},
     "output_type": "execute_result"
    }
   ],
   "source": [
    "len(confidence_dict)"
   ],
   "metadata": {
    "collapsed": false,
    "ExecuteTime": {
     "end_time": "2024-02-21T19:14:59.973118Z",
     "start_time": "2024-02-21T19:14:59.951210Z"
    }
   },
   "id": "2eaa5d7e31548fce",
   "execution_count": 65
  },
  {
   "cell_type": "markdown",
   "source": [
    "# Combine info"
   ],
   "metadata": {
    "collapsed": false
   },
   "id": "d281869d41d518f7"
  },
  {
   "cell_type": "code",
   "outputs": [],
   "source": [
    "data_dict = {af.components[0].name: af for af in af_structures}"
   ],
   "metadata": {
    "collapsed": false,
    "ExecuteTime": {
     "end_time": "2024-02-21T19:15:02.231078Z",
     "start_time": "2024-02-21T19:15:02.209302Z"
    }
   },
   "id": "f6b8ba8c664ab315",
   "execution_count": 66
  },
  {
   "cell_type": "code",
   "outputs": [
    {
     "data": {
      "text/plain": "57"
     },
     "execution_count": 67,
     "metadata": {},
     "output_type": "execute_result"
    }
   ],
   "source": [
    "len(data_dict)"
   ],
   "metadata": {
    "collapsed": false,
    "ExecuteTime": {
     "end_time": "2024-02-21T19:15:02.675176Z",
     "start_time": "2024-02-21T19:15:02.638348Z"
    }
   },
   "id": "1c5ccbda62291c0",
   "execution_count": 67
  },
  {
   "cell_type": "markdown",
   "source": [
    "# Analyze Experimental Structures"
   ],
   "metadata": {
    "collapsed": false
   },
   "id": "69f85610f85fd454"
  },
  {
   "cell_type": "code",
   "outputs": [
    {
     "data": {
      "text/plain": "<module 'avoidome.target' from '/Users/alexpayne/Scientific_Projects/avoidome-analysis/avoidome/target.py'>"
     },
     "execution_count": 47,
     "metadata": {},
     "output_type": "execute_result"
    }
   ],
   "source": [
    "import avoidome.target as target\n",
    "reload(target)"
   ],
   "metadata": {
    "collapsed": false,
    "ExecuteTime": {
     "end_time": "2024-02-21T20:07:40.478713Z",
     "start_time": "2024-02-21T20:07:40.449747Z"
    }
   },
   "id": "c5865a0b4af05091",
   "execution_count": 47
  },
  {
   "cell_type": "code",
   "outputs": [
    {
     "name": "stderr",
     "output_type": "stream",
     "text": [
      "100%|██████████| 57/57 [00:07<00:00,  7.15it/s]\n"
     ]
    }
   ],
   "source": [
    "tsds = [target.TargetStructureData.from_uniprot_entry(ue) for ue in tqdm(uniprot_entries)]"
   ],
   "metadata": {
    "collapsed": false,
    "ExecuteTime": {
     "end_time": "2024-02-21T20:07:48.979641Z",
     "start_time": "2024-02-21T20:07:40.995885Z"
    }
   },
   "id": "69abd50b9ec82c05",
   "execution_count": 48
  },
  {
   "cell_type": "code",
   "outputs": [
    {
     "data": {
      "text/plain": "57"
     },
     "execution_count": 49,
     "metadata": {},
     "output_type": "execute_result"
    }
   ],
   "source": [
    "len(tsds)"
   ],
   "metadata": {
    "collapsed": false,
    "ExecuteTime": {
     "end_time": "2024-02-21T20:07:48.991138Z",
     "start_time": "2024-02-21T20:07:48.979717Z"
    }
   },
   "id": "6916933b39c15d9c",
   "execution_count": 49
  },
  {
   "cell_type": "code",
   "outputs": [],
   "source": [
    "tsd = tsds[0]"
   ],
   "metadata": {
    "collapsed": false,
    "ExecuteTime": {
     "end_time": "2024-02-21T20:07:48.993135Z",
     "start_time": "2024-02-21T20:07:48.984248Z"
    }
   },
   "id": "d22edd9d663b6cbc",
   "execution_count": 50
  },
  {
   "cell_type": "code",
   "outputs": [
    {
     "data": {
      "text/plain": "'NR1I2_HUMAN'"
     },
     "execution_count": 51,
     "metadata": {},
     "output_type": "execute_result"
    }
   ],
   "source": [
    "tsd.target_name"
   ],
   "metadata": {
    "collapsed": false,
    "ExecuteTime": {
     "end_time": "2024-02-21T20:07:49.029484Z",
     "start_time": "2024-02-21T20:07:48.994001Z"
    }
   },
   "id": "99c9155d60076f6c",
   "execution_count": 51
  },
  {
   "cell_type": "code",
   "outputs": [
    {
     "data": {
      "text/plain": "53"
     },
     "execution_count": 52,
     "metadata": {},
     "output_type": "execute_result"
    }
   ],
   "source": [
    "tsd.n_experimental_structures"
   ],
   "metadata": {
    "collapsed": false,
    "ExecuteTime": {
     "end_time": "2024-02-21T20:07:49.032153Z",
     "start_time": "2024-02-21T20:07:48.998729Z"
    }
   },
   "id": "6a98d60eb597428",
   "execution_count": 52
  },
  {
   "cell_type": "code",
   "outputs": [
    {
     "data": {
      "text/plain": "1"
     },
     "execution_count": 53,
     "metadata": {},
     "output_type": "execute_result"
    }
   ],
   "source": [
    "tsd.n_predicted_structures"
   ],
   "metadata": {
    "collapsed": false,
    "ExecuteTime": {
     "end_time": "2024-02-21T20:07:49.044493Z",
     "start_time": "2024-02-21T20:07:49.006170Z"
    }
   },
   "id": "f335c1276e2d046",
   "execution_count": 53
  },
  {
   "cell_type": "code",
   "outputs": [
    {
     "data": {
      "text/plain": "0.6972437179375708"
     },
     "execution_count": 54,
     "metadata": {},
     "output_type": "execute_result"
    }
   ],
   "source": [
    "tsd.average_coverage"
   ],
   "metadata": {
    "collapsed": false,
    "ExecuteTime": {
     "end_time": "2024-02-21T20:07:49.046671Z",
     "start_time": "2024-02-21T20:07:49.013623Z"
    }
   },
   "id": "fc673df4902c3606",
   "execution_count": 54
  },
  {
   "cell_type": "code",
   "outputs": [
    {
     "data": {
      "text/plain": "85.43"
     },
     "execution_count": 55,
     "metadata": {},
     "output_type": "execute_result"
    }
   ],
   "source": [
    "tsd.average_confidence"
   ],
   "metadata": {
    "collapsed": false,
    "ExecuteTime": {
     "end_time": "2024-02-21T20:07:49.048654Z",
     "start_time": "2024-02-21T20:07:49.019743Z"
    }
   },
   "id": "256ef885ac25dafa",
   "execution_count": 55
  },
  {
   "cell_type": "code",
   "outputs": [],
   "source": [
    "coverages = [exp_struc.sequence_coverage for exp_struc in tsd.experimental_structures]"
   ],
   "metadata": {
    "collapsed": false,
    "ExecuteTime": {
     "end_time": "2024-02-21T20:07:49.131918Z",
     "start_time": "2024-02-21T20:07:49.023349Z"
    }
   },
   "id": "2c6b62a89e05f892",
   "execution_count": 56
  },
  {
   "cell_type": "code",
   "outputs": [
    {
     "data": {
      "application/vnd.plotly.v1+json": {
       "data": [
        {
         "alignmentgroup": "True",
         "bingroup": "x",
         "hovertemplate": "variable=0<br>value=%{x}<br>count=%{y}<extra></extra>",
         "legendgroup": "0",
         "marker": {
          "color": "#636efa",
          "pattern": {
           "shape": ""
          }
         },
         "name": "0",
         "offsetgroup": "0",
         "orientation": "v",
         "showlegend": true,
         "x": [
          304.0,
          304.0,
          304.0,
          304.0,
          301.0,
          292.0,
          304.0,
          304.0,
          304.0,
          304.0,
          304.0,
          304.0,
          289.0,
          304.0,
          304.0,
          304.0,
          304.0,
          304.0,
          304.0,
          302.0,
          304.0,
          304.0,
          296.0,
          304.0,
          305.0,
          304.0,
          304.0,
          296.0,
          305.0,
          304.0,
          304.0,
          304.0,
          304.0,
          304.0,
          304.0,
          304.0,
          304.0,
          304.0,
          304.0,
          304.0,
          304.0,
          304.0,
          304.0,
          304.0,
          297.0,
          297.0,
          297.0,
          297.0,
          304.0,
          304.0,
          304.0,
          304.0,
          304.0
         ],
         "xaxis": "x",
         "yaxis": "y",
         "type": "histogram"
        }
       ],
       "layout": {
        "template": {
         "data": {
          "histogram2dcontour": [
           {
            "type": "histogram2dcontour",
            "colorbar": {
             "outlinewidth": 0,
             "ticks": ""
            },
            "colorscale": [
             [
              0.0,
              "#0d0887"
             ],
             [
              0.1111111111111111,
              "#46039f"
             ],
             [
              0.2222222222222222,
              "#7201a8"
             ],
             [
              0.3333333333333333,
              "#9c179e"
             ],
             [
              0.4444444444444444,
              "#bd3786"
             ],
             [
              0.5555555555555556,
              "#d8576b"
             ],
             [
              0.6666666666666666,
              "#ed7953"
             ],
             [
              0.7777777777777778,
              "#fb9f3a"
             ],
             [
              0.8888888888888888,
              "#fdca26"
             ],
             [
              1.0,
              "#f0f921"
             ]
            ]
           }
          ],
          "choropleth": [
           {
            "type": "choropleth",
            "colorbar": {
             "outlinewidth": 0,
             "ticks": ""
            }
           }
          ],
          "histogram2d": [
           {
            "type": "histogram2d",
            "colorbar": {
             "outlinewidth": 0,
             "ticks": ""
            },
            "colorscale": [
             [
              0.0,
              "#0d0887"
             ],
             [
              0.1111111111111111,
              "#46039f"
             ],
             [
              0.2222222222222222,
              "#7201a8"
             ],
             [
              0.3333333333333333,
              "#9c179e"
             ],
             [
              0.4444444444444444,
              "#bd3786"
             ],
             [
              0.5555555555555556,
              "#d8576b"
             ],
             [
              0.6666666666666666,
              "#ed7953"
             ],
             [
              0.7777777777777778,
              "#fb9f3a"
             ],
             [
              0.8888888888888888,
              "#fdca26"
             ],
             [
              1.0,
              "#f0f921"
             ]
            ]
           }
          ],
          "heatmap": [
           {
            "type": "heatmap",
            "colorbar": {
             "outlinewidth": 0,
             "ticks": ""
            },
            "colorscale": [
             [
              0.0,
              "#0d0887"
             ],
             [
              0.1111111111111111,
              "#46039f"
             ],
             [
              0.2222222222222222,
              "#7201a8"
             ],
             [
              0.3333333333333333,
              "#9c179e"
             ],
             [
              0.4444444444444444,
              "#bd3786"
             ],
             [
              0.5555555555555556,
              "#d8576b"
             ],
             [
              0.6666666666666666,
              "#ed7953"
             ],
             [
              0.7777777777777778,
              "#fb9f3a"
             ],
             [
              0.8888888888888888,
              "#fdca26"
             ],
             [
              1.0,
              "#f0f921"
             ]
            ]
           }
          ],
          "heatmapgl": [
           {
            "type": "heatmapgl",
            "colorbar": {
             "outlinewidth": 0,
             "ticks": ""
            },
            "colorscale": [
             [
              0.0,
              "#0d0887"
             ],
             [
              0.1111111111111111,
              "#46039f"
             ],
             [
              0.2222222222222222,
              "#7201a8"
             ],
             [
              0.3333333333333333,
              "#9c179e"
             ],
             [
              0.4444444444444444,
              "#bd3786"
             ],
             [
              0.5555555555555556,
              "#d8576b"
             ],
             [
              0.6666666666666666,
              "#ed7953"
             ],
             [
              0.7777777777777778,
              "#fb9f3a"
             ],
             [
              0.8888888888888888,
              "#fdca26"
             ],
             [
              1.0,
              "#f0f921"
             ]
            ]
           }
          ],
          "contourcarpet": [
           {
            "type": "contourcarpet",
            "colorbar": {
             "outlinewidth": 0,
             "ticks": ""
            }
           }
          ],
          "contour": [
           {
            "type": "contour",
            "colorbar": {
             "outlinewidth": 0,
             "ticks": ""
            },
            "colorscale": [
             [
              0.0,
              "#0d0887"
             ],
             [
              0.1111111111111111,
              "#46039f"
             ],
             [
              0.2222222222222222,
              "#7201a8"
             ],
             [
              0.3333333333333333,
              "#9c179e"
             ],
             [
              0.4444444444444444,
              "#bd3786"
             ],
             [
              0.5555555555555556,
              "#d8576b"
             ],
             [
              0.6666666666666666,
              "#ed7953"
             ],
             [
              0.7777777777777778,
              "#fb9f3a"
             ],
             [
              0.8888888888888888,
              "#fdca26"
             ],
             [
              1.0,
              "#f0f921"
             ]
            ]
           }
          ],
          "surface": [
           {
            "type": "surface",
            "colorbar": {
             "outlinewidth": 0,
             "ticks": ""
            },
            "colorscale": [
             [
              0.0,
              "#0d0887"
             ],
             [
              0.1111111111111111,
              "#46039f"
             ],
             [
              0.2222222222222222,
              "#7201a8"
             ],
             [
              0.3333333333333333,
              "#9c179e"
             ],
             [
              0.4444444444444444,
              "#bd3786"
             ],
             [
              0.5555555555555556,
              "#d8576b"
             ],
             [
              0.6666666666666666,
              "#ed7953"
             ],
             [
              0.7777777777777778,
              "#fb9f3a"
             ],
             [
              0.8888888888888888,
              "#fdca26"
             ],
             [
              1.0,
              "#f0f921"
             ]
            ]
           }
          ],
          "mesh3d": [
           {
            "type": "mesh3d",
            "colorbar": {
             "outlinewidth": 0,
             "ticks": ""
            }
           }
          ],
          "scatter": [
           {
            "marker": {
             "line": {
              "color": "#283442"
             }
            },
            "type": "scatter"
           }
          ],
          "parcoords": [
           {
            "type": "parcoords",
            "line": {
             "colorbar": {
              "outlinewidth": 0,
              "ticks": ""
             }
            }
           }
          ],
          "scatterpolargl": [
           {
            "type": "scatterpolargl",
            "marker": {
             "colorbar": {
              "outlinewidth": 0,
              "ticks": ""
             }
            }
           }
          ],
          "bar": [
           {
            "error_x": {
             "color": "#f2f5fa"
            },
            "error_y": {
             "color": "#f2f5fa"
            },
            "marker": {
             "line": {
              "color": "rgb(17,17,17)",
              "width": 0.5
             },
             "pattern": {
              "fillmode": "overlay",
              "size": 10,
              "solidity": 0.2
             }
            },
            "type": "bar"
           }
          ],
          "scattergeo": [
           {
            "type": "scattergeo",
            "marker": {
             "colorbar": {
              "outlinewidth": 0,
              "ticks": ""
             }
            }
           }
          ],
          "scatterpolar": [
           {
            "type": "scatterpolar",
            "marker": {
             "colorbar": {
              "outlinewidth": 0,
              "ticks": ""
             }
            }
           }
          ],
          "histogram": [
           {
            "marker": {
             "pattern": {
              "fillmode": "overlay",
              "size": 10,
              "solidity": 0.2
             }
            },
            "type": "histogram"
           }
          ],
          "scattergl": [
           {
            "marker": {
             "line": {
              "color": "#283442"
             }
            },
            "type": "scattergl"
           }
          ],
          "scatter3d": [
           {
            "type": "scatter3d",
            "line": {
             "colorbar": {
              "outlinewidth": 0,
              "ticks": ""
             }
            },
            "marker": {
             "colorbar": {
              "outlinewidth": 0,
              "ticks": ""
             }
            }
           }
          ],
          "scattermapbox": [
           {
            "type": "scattermapbox",
            "marker": {
             "colorbar": {
              "outlinewidth": 0,
              "ticks": ""
             }
            }
           }
          ],
          "scatterternary": [
           {
            "type": "scatterternary",
            "marker": {
             "colorbar": {
              "outlinewidth": 0,
              "ticks": ""
             }
            }
           }
          ],
          "scattercarpet": [
           {
            "type": "scattercarpet",
            "marker": {
             "colorbar": {
              "outlinewidth": 0,
              "ticks": ""
             }
            }
           }
          ],
          "carpet": [
           {
            "aaxis": {
             "endlinecolor": "#A2B1C6",
             "gridcolor": "#506784",
             "linecolor": "#506784",
             "minorgridcolor": "#506784",
             "startlinecolor": "#A2B1C6"
            },
            "baxis": {
             "endlinecolor": "#A2B1C6",
             "gridcolor": "#506784",
             "linecolor": "#506784",
             "minorgridcolor": "#506784",
             "startlinecolor": "#A2B1C6"
            },
            "type": "carpet"
           }
          ],
          "table": [
           {
            "cells": {
             "fill": {
              "color": "#506784"
             },
             "line": {
              "color": "rgb(17,17,17)"
             }
            },
            "header": {
             "fill": {
              "color": "#2a3f5f"
             },
             "line": {
              "color": "rgb(17,17,17)"
             }
            },
            "type": "table"
           }
          ],
          "barpolar": [
           {
            "marker": {
             "line": {
              "color": "rgb(17,17,17)",
              "width": 0.5
             },
             "pattern": {
              "fillmode": "overlay",
              "size": 10,
              "solidity": 0.2
             }
            },
            "type": "barpolar"
           }
          ],
          "pie": [
           {
            "automargin": true,
            "type": "pie"
           }
          ]
         },
         "layout": {
          "autotypenumbers": "strict",
          "colorway": [
           "#636efa",
           "#EF553B",
           "#00cc96",
           "#ab63fa",
           "#FFA15A",
           "#19d3f3",
           "#FF6692",
           "#B6E880",
           "#FF97FF",
           "#FECB52"
          ],
          "font": {
           "color": "#f2f5fa"
          },
          "hovermode": "closest",
          "hoverlabel": {
           "align": "left"
          },
          "paper_bgcolor": "rgb(17,17,17)",
          "plot_bgcolor": "rgb(17,17,17)",
          "polar": {
           "bgcolor": "rgb(17,17,17)",
           "angularaxis": {
            "gridcolor": "#506784",
            "linecolor": "#506784",
            "ticks": ""
           },
           "radialaxis": {
            "gridcolor": "#506784",
            "linecolor": "#506784",
            "ticks": ""
           }
          },
          "ternary": {
           "bgcolor": "rgb(17,17,17)",
           "aaxis": {
            "gridcolor": "#506784",
            "linecolor": "#506784",
            "ticks": ""
           },
           "baxis": {
            "gridcolor": "#506784",
            "linecolor": "#506784",
            "ticks": ""
           },
           "caxis": {
            "gridcolor": "#506784",
            "linecolor": "#506784",
            "ticks": ""
           }
          },
          "coloraxis": {
           "colorbar": {
            "outlinewidth": 0,
            "ticks": ""
           }
          },
          "colorscale": {
           "sequential": [
            [
             0.0,
             "#0d0887"
            ],
            [
             0.1111111111111111,
             "#46039f"
            ],
            [
             0.2222222222222222,
             "#7201a8"
            ],
            [
             0.3333333333333333,
             "#9c179e"
            ],
            [
             0.4444444444444444,
             "#bd3786"
            ],
            [
             0.5555555555555556,
             "#d8576b"
            ],
            [
             0.6666666666666666,
             "#ed7953"
            ],
            [
             0.7777777777777778,
             "#fb9f3a"
            ],
            [
             0.8888888888888888,
             "#fdca26"
            ],
            [
             1.0,
             "#f0f921"
            ]
           ],
           "sequentialminus": [
            [
             0.0,
             "#0d0887"
            ],
            [
             0.1111111111111111,
             "#46039f"
            ],
            [
             0.2222222222222222,
             "#7201a8"
            ],
            [
             0.3333333333333333,
             "#9c179e"
            ],
            [
             0.4444444444444444,
             "#bd3786"
            ],
            [
             0.5555555555555556,
             "#d8576b"
            ],
            [
             0.6666666666666666,
             "#ed7953"
            ],
            [
             0.7777777777777778,
             "#fb9f3a"
            ],
            [
             0.8888888888888888,
             "#fdca26"
            ],
            [
             1.0,
             "#f0f921"
            ]
           ],
           "diverging": [
            [
             0,
             "#8e0152"
            ],
            [
             0.1,
             "#c51b7d"
            ],
            [
             0.2,
             "#de77ae"
            ],
            [
             0.3,
             "#f1b6da"
            ],
            [
             0.4,
             "#fde0ef"
            ],
            [
             0.5,
             "#f7f7f7"
            ],
            [
             0.6,
             "#e6f5d0"
            ],
            [
             0.7,
             "#b8e186"
            ],
            [
             0.8,
             "#7fbc41"
            ],
            [
             0.9,
             "#4d9221"
            ],
            [
             1,
             "#276419"
            ]
           ]
          },
          "xaxis": {
           "gridcolor": "#283442",
           "linecolor": "#506784",
           "ticks": "",
           "title": {
            "standoff": 15
           },
           "zerolinecolor": "#283442",
           "automargin": true,
           "zerolinewidth": 2
          },
          "yaxis": {
           "gridcolor": "#283442",
           "linecolor": "#506784",
           "ticks": "",
           "title": {
            "standoff": 15
           },
           "zerolinecolor": "#283442",
           "automargin": true,
           "zerolinewidth": 2
          },
          "scene": {
           "xaxis": {
            "backgroundcolor": "rgb(17,17,17)",
            "gridcolor": "#506784",
            "linecolor": "#506784",
            "showbackground": true,
            "ticks": "",
            "zerolinecolor": "#C8D4E3",
            "gridwidth": 2
           },
           "yaxis": {
            "backgroundcolor": "rgb(17,17,17)",
            "gridcolor": "#506784",
            "linecolor": "#506784",
            "showbackground": true,
            "ticks": "",
            "zerolinecolor": "#C8D4E3",
            "gridwidth": 2
           },
           "zaxis": {
            "backgroundcolor": "rgb(17,17,17)",
            "gridcolor": "#506784",
            "linecolor": "#506784",
            "showbackground": true,
            "ticks": "",
            "zerolinecolor": "#C8D4E3",
            "gridwidth": 2
           }
          },
          "shapedefaults": {
           "line": {
            "color": "#f2f5fa"
           }
          },
          "annotationdefaults": {
           "arrowcolor": "#f2f5fa",
           "arrowhead": 0,
           "arrowwidth": 1
          },
          "geo": {
           "bgcolor": "rgb(17,17,17)",
           "landcolor": "rgb(17,17,17)",
           "subunitcolor": "#506784",
           "showland": true,
           "showlakes": true,
           "lakecolor": "rgb(17,17,17)"
          },
          "title": {
           "x": 0.05
          },
          "updatemenudefaults": {
           "bgcolor": "#506784",
           "borderwidth": 0
          },
          "sliderdefaults": {
           "bgcolor": "#C8D4E3",
           "borderwidth": 1,
           "bordercolor": "rgb(17,17,17)",
           "tickwidth": 0
          },
          "mapbox": {
           "style": "dark"
          }
         }
        },
        "xaxis": {
         "anchor": "y",
         "domain": [
          0.0,
          1.0
         ],
         "title": {
          "text": "value"
         }
        },
        "yaxis": {
         "anchor": "x",
         "domain": [
          0.0,
          1.0
         ],
         "title": {
          "text": "count"
         }
        },
        "legend": {
         "title": {
          "text": "variable"
         },
         "tracegroupgap": 0
        },
        "margin": {
         "t": 60
        },
        "barmode": "relative"
       },
       "config": {
        "plotlyServerURL": "https://plot.ly"
       }
      },
      "text/html": "<div>                            <div id=\"5b5398b5-c04a-4848-a8b4-c57006793db0\" class=\"plotly-graph-div\" style=\"height:525px; width:100%;\"></div>            <script type=\"text/javascript\">                require([\"plotly\"], function(Plotly) {                    window.PLOTLYENV=window.PLOTLYENV || {};                                    if (document.getElementById(\"5b5398b5-c04a-4848-a8b4-c57006793db0\")) {                    Plotly.newPlot(                        \"5b5398b5-c04a-4848-a8b4-c57006793db0\",                        [{\"alignmentgroup\":\"True\",\"bingroup\":\"x\",\"hovertemplate\":\"variable=0\\u003cbr\\u003evalue=%{x}\\u003cbr\\u003ecount=%{y}\\u003cextra\\u003e\\u003c\\u002fextra\\u003e\",\"legendgroup\":\"0\",\"marker\":{\"color\":\"#636efa\",\"pattern\":{\"shape\":\"\"}},\"name\":\"0\",\"offsetgroup\":\"0\",\"orientation\":\"v\",\"showlegend\":true,\"x\":[304.0,304.0,304.0,304.0,301.0,292.0,304.0,304.0,304.0,304.0,304.0,304.0,289.0,304.0,304.0,304.0,304.0,304.0,304.0,302.0,304.0,304.0,296.0,304.0,305.0,304.0,304.0,296.0,305.0,304.0,304.0,304.0,304.0,304.0,304.0,304.0,304.0,304.0,304.0,304.0,304.0,304.0,304.0,304.0,297.0,297.0,297.0,297.0,304.0,304.0,304.0,304.0,304.0],\"xaxis\":\"x\",\"yaxis\":\"y\",\"type\":\"histogram\"}],                        {\"template\":{\"data\":{\"histogram2dcontour\":[{\"type\":\"histogram2dcontour\",\"colorbar\":{\"outlinewidth\":0,\"ticks\":\"\"},\"colorscale\":[[0.0,\"#0d0887\"],[0.1111111111111111,\"#46039f\"],[0.2222222222222222,\"#7201a8\"],[0.3333333333333333,\"#9c179e\"],[0.4444444444444444,\"#bd3786\"],[0.5555555555555556,\"#d8576b\"],[0.6666666666666666,\"#ed7953\"],[0.7777777777777778,\"#fb9f3a\"],[0.8888888888888888,\"#fdca26\"],[1.0,\"#f0f921\"]]}],\"choropleth\":[{\"type\":\"choropleth\",\"colorbar\":{\"outlinewidth\":0,\"ticks\":\"\"}}],\"histogram2d\":[{\"type\":\"histogram2d\",\"colorbar\":{\"outlinewidth\":0,\"ticks\":\"\"},\"colorscale\":[[0.0,\"#0d0887\"],[0.1111111111111111,\"#46039f\"],[0.2222222222222222,\"#7201a8\"],[0.3333333333333333,\"#9c179e\"],[0.4444444444444444,\"#bd3786\"],[0.5555555555555556,\"#d8576b\"],[0.6666666666666666,\"#ed7953\"],[0.7777777777777778,\"#fb9f3a\"],[0.8888888888888888,\"#fdca26\"],[1.0,\"#f0f921\"]]}],\"heatmap\":[{\"type\":\"heatmap\",\"colorbar\":{\"outlinewidth\":0,\"ticks\":\"\"},\"colorscale\":[[0.0,\"#0d0887\"],[0.1111111111111111,\"#46039f\"],[0.2222222222222222,\"#7201a8\"],[0.3333333333333333,\"#9c179e\"],[0.4444444444444444,\"#bd3786\"],[0.5555555555555556,\"#d8576b\"],[0.6666666666666666,\"#ed7953\"],[0.7777777777777778,\"#fb9f3a\"],[0.8888888888888888,\"#fdca26\"],[1.0,\"#f0f921\"]]}],\"heatmapgl\":[{\"type\":\"heatmapgl\",\"colorbar\":{\"outlinewidth\":0,\"ticks\":\"\"},\"colorscale\":[[0.0,\"#0d0887\"],[0.1111111111111111,\"#46039f\"],[0.2222222222222222,\"#7201a8\"],[0.3333333333333333,\"#9c179e\"],[0.4444444444444444,\"#bd3786\"],[0.5555555555555556,\"#d8576b\"],[0.6666666666666666,\"#ed7953\"],[0.7777777777777778,\"#fb9f3a\"],[0.8888888888888888,\"#fdca26\"],[1.0,\"#f0f921\"]]}],\"contourcarpet\":[{\"type\":\"contourcarpet\",\"colorbar\":{\"outlinewidth\":0,\"ticks\":\"\"}}],\"contour\":[{\"type\":\"contour\",\"colorbar\":{\"outlinewidth\":0,\"ticks\":\"\"},\"colorscale\":[[0.0,\"#0d0887\"],[0.1111111111111111,\"#46039f\"],[0.2222222222222222,\"#7201a8\"],[0.3333333333333333,\"#9c179e\"],[0.4444444444444444,\"#bd3786\"],[0.5555555555555556,\"#d8576b\"],[0.6666666666666666,\"#ed7953\"],[0.7777777777777778,\"#fb9f3a\"],[0.8888888888888888,\"#fdca26\"],[1.0,\"#f0f921\"]]}],\"surface\":[{\"type\":\"surface\",\"colorbar\":{\"outlinewidth\":0,\"ticks\":\"\"},\"colorscale\":[[0.0,\"#0d0887\"],[0.1111111111111111,\"#46039f\"],[0.2222222222222222,\"#7201a8\"],[0.3333333333333333,\"#9c179e\"],[0.4444444444444444,\"#bd3786\"],[0.5555555555555556,\"#d8576b\"],[0.6666666666666666,\"#ed7953\"],[0.7777777777777778,\"#fb9f3a\"],[0.8888888888888888,\"#fdca26\"],[1.0,\"#f0f921\"]]}],\"mesh3d\":[{\"type\":\"mesh3d\",\"colorbar\":{\"outlinewidth\":0,\"ticks\":\"\"}}],\"scatter\":[{\"marker\":{\"line\":{\"color\":\"#283442\"}},\"type\":\"scatter\"}],\"parcoords\":[{\"type\":\"parcoords\",\"line\":{\"colorbar\":{\"outlinewidth\":0,\"ticks\":\"\"}}}],\"scatterpolargl\":[{\"type\":\"scatterpolargl\",\"marker\":{\"colorbar\":{\"outlinewidth\":0,\"ticks\":\"\"}}}],\"bar\":[{\"error_x\":{\"color\":\"#f2f5fa\"},\"error_y\":{\"color\":\"#f2f5fa\"},\"marker\":{\"line\":{\"color\":\"rgb(17,17,17)\",\"width\":0.5},\"pattern\":{\"fillmode\":\"overlay\",\"size\":10,\"solidity\":0.2}},\"type\":\"bar\"}],\"scattergeo\":[{\"type\":\"scattergeo\",\"marker\":{\"colorbar\":{\"outlinewidth\":0,\"ticks\":\"\"}}}],\"scatterpolar\":[{\"type\":\"scatterpolar\",\"marker\":{\"colorbar\":{\"outlinewidth\":0,\"ticks\":\"\"}}}],\"histogram\":[{\"marker\":{\"pattern\":{\"fillmode\":\"overlay\",\"size\":10,\"solidity\":0.2}},\"type\":\"histogram\"}],\"scattergl\":[{\"marker\":{\"line\":{\"color\":\"#283442\"}},\"type\":\"scattergl\"}],\"scatter3d\":[{\"type\":\"scatter3d\",\"line\":{\"colorbar\":{\"outlinewidth\":0,\"ticks\":\"\"}},\"marker\":{\"colorbar\":{\"outlinewidth\":0,\"ticks\":\"\"}}}],\"scattermapbox\":[{\"type\":\"scattermapbox\",\"marker\":{\"colorbar\":{\"outlinewidth\":0,\"ticks\":\"\"}}}],\"scatterternary\":[{\"type\":\"scatterternary\",\"marker\":{\"colorbar\":{\"outlinewidth\":0,\"ticks\":\"\"}}}],\"scattercarpet\":[{\"type\":\"scattercarpet\",\"marker\":{\"colorbar\":{\"outlinewidth\":0,\"ticks\":\"\"}}}],\"carpet\":[{\"aaxis\":{\"endlinecolor\":\"#A2B1C6\",\"gridcolor\":\"#506784\",\"linecolor\":\"#506784\",\"minorgridcolor\":\"#506784\",\"startlinecolor\":\"#A2B1C6\"},\"baxis\":{\"endlinecolor\":\"#A2B1C6\",\"gridcolor\":\"#506784\",\"linecolor\":\"#506784\",\"minorgridcolor\":\"#506784\",\"startlinecolor\":\"#A2B1C6\"},\"type\":\"carpet\"}],\"table\":[{\"cells\":{\"fill\":{\"color\":\"#506784\"},\"line\":{\"color\":\"rgb(17,17,17)\"}},\"header\":{\"fill\":{\"color\":\"#2a3f5f\"},\"line\":{\"color\":\"rgb(17,17,17)\"}},\"type\":\"table\"}],\"barpolar\":[{\"marker\":{\"line\":{\"color\":\"rgb(17,17,17)\",\"width\":0.5},\"pattern\":{\"fillmode\":\"overlay\",\"size\":10,\"solidity\":0.2}},\"type\":\"barpolar\"}],\"pie\":[{\"automargin\":true,\"type\":\"pie\"}]},\"layout\":{\"autotypenumbers\":\"strict\",\"colorway\":[\"#636efa\",\"#EF553B\",\"#00cc96\",\"#ab63fa\",\"#FFA15A\",\"#19d3f3\",\"#FF6692\",\"#B6E880\",\"#FF97FF\",\"#FECB52\"],\"font\":{\"color\":\"#f2f5fa\"},\"hovermode\":\"closest\",\"hoverlabel\":{\"align\":\"left\"},\"paper_bgcolor\":\"rgb(17,17,17)\",\"plot_bgcolor\":\"rgb(17,17,17)\",\"polar\":{\"bgcolor\":\"rgb(17,17,17)\",\"angularaxis\":{\"gridcolor\":\"#506784\",\"linecolor\":\"#506784\",\"ticks\":\"\"},\"radialaxis\":{\"gridcolor\":\"#506784\",\"linecolor\":\"#506784\",\"ticks\":\"\"}},\"ternary\":{\"bgcolor\":\"rgb(17,17,17)\",\"aaxis\":{\"gridcolor\":\"#506784\",\"linecolor\":\"#506784\",\"ticks\":\"\"},\"baxis\":{\"gridcolor\":\"#506784\",\"linecolor\":\"#506784\",\"ticks\":\"\"},\"caxis\":{\"gridcolor\":\"#506784\",\"linecolor\":\"#506784\",\"ticks\":\"\"}},\"coloraxis\":{\"colorbar\":{\"outlinewidth\":0,\"ticks\":\"\"}},\"colorscale\":{\"sequential\":[[0.0,\"#0d0887\"],[0.1111111111111111,\"#46039f\"],[0.2222222222222222,\"#7201a8\"],[0.3333333333333333,\"#9c179e\"],[0.4444444444444444,\"#bd3786\"],[0.5555555555555556,\"#d8576b\"],[0.6666666666666666,\"#ed7953\"],[0.7777777777777778,\"#fb9f3a\"],[0.8888888888888888,\"#fdca26\"],[1.0,\"#f0f921\"]],\"sequentialminus\":[[0.0,\"#0d0887\"],[0.1111111111111111,\"#46039f\"],[0.2222222222222222,\"#7201a8\"],[0.3333333333333333,\"#9c179e\"],[0.4444444444444444,\"#bd3786\"],[0.5555555555555556,\"#d8576b\"],[0.6666666666666666,\"#ed7953\"],[0.7777777777777778,\"#fb9f3a\"],[0.8888888888888888,\"#fdca26\"],[1.0,\"#f0f921\"]],\"diverging\":[[0,\"#8e0152\"],[0.1,\"#c51b7d\"],[0.2,\"#de77ae\"],[0.3,\"#f1b6da\"],[0.4,\"#fde0ef\"],[0.5,\"#f7f7f7\"],[0.6,\"#e6f5d0\"],[0.7,\"#b8e186\"],[0.8,\"#7fbc41\"],[0.9,\"#4d9221\"],[1,\"#276419\"]]},\"xaxis\":{\"gridcolor\":\"#283442\",\"linecolor\":\"#506784\",\"ticks\":\"\",\"title\":{\"standoff\":15},\"zerolinecolor\":\"#283442\",\"automargin\":true,\"zerolinewidth\":2},\"yaxis\":{\"gridcolor\":\"#283442\",\"linecolor\":\"#506784\",\"ticks\":\"\",\"title\":{\"standoff\":15},\"zerolinecolor\":\"#283442\",\"automargin\":true,\"zerolinewidth\":2},\"scene\":{\"xaxis\":{\"backgroundcolor\":\"rgb(17,17,17)\",\"gridcolor\":\"#506784\",\"linecolor\":\"#506784\",\"showbackground\":true,\"ticks\":\"\",\"zerolinecolor\":\"#C8D4E3\",\"gridwidth\":2},\"yaxis\":{\"backgroundcolor\":\"rgb(17,17,17)\",\"gridcolor\":\"#506784\",\"linecolor\":\"#506784\",\"showbackground\":true,\"ticks\":\"\",\"zerolinecolor\":\"#C8D4E3\",\"gridwidth\":2},\"zaxis\":{\"backgroundcolor\":\"rgb(17,17,17)\",\"gridcolor\":\"#506784\",\"linecolor\":\"#506784\",\"showbackground\":true,\"ticks\":\"\",\"zerolinecolor\":\"#C8D4E3\",\"gridwidth\":2}},\"shapedefaults\":{\"line\":{\"color\":\"#f2f5fa\"}},\"annotationdefaults\":{\"arrowcolor\":\"#f2f5fa\",\"arrowhead\":0,\"arrowwidth\":1},\"geo\":{\"bgcolor\":\"rgb(17,17,17)\",\"landcolor\":\"rgb(17,17,17)\",\"subunitcolor\":\"#506784\",\"showland\":true,\"showlakes\":true,\"lakecolor\":\"rgb(17,17,17)\"},\"title\":{\"x\":0.05},\"updatemenudefaults\":{\"bgcolor\":\"#506784\",\"borderwidth\":0},\"sliderdefaults\":{\"bgcolor\":\"#C8D4E3\",\"borderwidth\":1,\"bordercolor\":\"rgb(17,17,17)\",\"tickwidth\":0},\"mapbox\":{\"style\":\"dark\"}}},\"xaxis\":{\"anchor\":\"y\",\"domain\":[0.0,1.0],\"title\":{\"text\":\"value\"}},\"yaxis\":{\"anchor\":\"x\",\"domain\":[0.0,1.0],\"title\":{\"text\":\"count\"}},\"legend\":{\"title\":{\"text\":\"variable\"},\"tracegroupgap\":0},\"margin\":{\"t\":60},\"barmode\":\"relative\"},                        {\"responsive\": true}                    ).then(function(){\n                            \nvar gd = document.getElementById('5b5398b5-c04a-4848-a8b4-c57006793db0');\nvar x = new MutationObserver(function (mutations, observer) {{\n        var display = window.getComputedStyle(gd).display;\n        if (!display || display === 'none') {{\n            console.log([gd, 'removed!']);\n            Plotly.purge(gd);\n            observer.disconnect();\n        }}\n}});\n\n// Listen for the removal of the full notebook cells\nvar notebookContainer = gd.closest('#notebook-container');\nif (notebookContainer) {{\n    x.observe(notebookContainer, {childList: true});\n}}\n\n// Listen for the clearing of the current output cell\nvar outputEl = gd.closest('.output');\nif (outputEl) {{\n    x.observe(outputEl, {childList: true});\n}}\n\n                        })                };                });            </script>        </div>"
     },
     "metadata": {},
     "output_type": "display_data"
    }
   ],
   "source": [
    "px.histogram(coverages)"
   ],
   "metadata": {
    "collapsed": false,
    "ExecuteTime": {
     "end_time": "2024-02-21T20:07:49.175035Z",
     "start_time": "2024-02-21T20:07:49.040724Z"
    }
   },
   "id": "d7b602203b975024",
   "execution_count": 57
  },
  {
   "cell_type": "code",
   "outputs": [
    {
     "data": {
      "text/plain": "434"
     },
     "execution_count": 58,
     "metadata": {},
     "output_type": "execute_result"
    }
   ],
   "source": [
    "tsd.sequence_length"
   ],
   "metadata": {
    "collapsed": false,
    "ExecuteTime": {
     "end_time": "2024-02-21T20:07:49.177080Z",
     "start_time": "2024-02-21T20:07:49.086965Z"
    }
   },
   "id": "c55c9ceaca449fa1",
   "execution_count": 58
  },
  {
   "cell_type": "markdown",
   "source": [
    "# Plot Experimental Structures"
   ],
   "metadata": {
    "collapsed": false
   },
   "id": "bda0222b022fa793"
  },
  {
   "cell_type": "markdown",
   "source": [
    "1) violin plot with dots only\n",
    "2) color by category\n",
    "2) size is the % sequence coverage"
   ],
   "metadata": {
    "collapsed": false
   },
   "id": "1c42925ce2f294c5"
  },
  {
   "cell_type": "markdown",
   "source": [],
   "metadata": {
    "collapsed": false
   },
   "id": "3b182fea98345d94"
  },
  {
   "cell_type": "markdown",
   "source": [
    "## make tidy dataframe"
   ],
   "metadata": {
    "collapsed": false
   },
   "id": "70877585d0460c5a"
  },
  {
   "cell_type": "code",
   "outputs": [
    {
     "name": "stderr",
     "output_type": "stream",
     "text": [
      "/Users/alexpayne/miniforge-pypy3/envs/asapdiscovery/lib/python3.10/site-packages/numpy/core/fromnumeric.py:3432: RuntimeWarning:\n",
      "\n",
      "Mean of empty slice.\n",
      "\n",
      "/Users/alexpayne/miniforge-pypy3/envs/asapdiscovery/lib/python3.10/site-packages/numpy/core/_methods.py:190: RuntimeWarning:\n",
      "\n",
      "invalid value encountered in double_scalars\n",
      "\n"
     ]
    }
   ],
   "source": [
    "import avoidome.structures as structures\n",
    "import pandas as pd\n",
    "df = pd.concat([pd.DataFrame({'Protein Name': [f'{tsd.target_name.split(\"_\")[0]} ({tsd.uniprot_id})' for exp_struc in tsd.structures],\n",
    "                   'Category': [category_dict[tsd.uniprot_id] for exp_struc in tsd.structures],\n",
    "                   'Average Sequence Coverage': tsd.average_coverage,\n",
    "                   'Number of Experimental Structures': [tsd.n_experimental_structures for exp_struc in tsd.structures],\n",
    "                  \"Sequence Length\": [tsd.sequence_length for exp_struc in tsd.structures],\n",
    "                          \"Resolution (A)\": [exp_struc.resolution for exp_struc in tsd.experimental_structures] + [2],\n",
    "                                    \"Method\": [exp_struc.method for exp_struc in tsd.experimental_structures] + ['AlphaFold'],\n",
    "                   }) for tsd in tsds]) "
   ],
   "metadata": {
    "collapsed": false,
    "ExecuteTime": {
     "end_time": "2024-02-21T21:05:25.349255Z",
     "start_time": "2024-02-21T21:05:25.319542Z"
    }
   },
   "id": "5622fcbb7c0e884f",
   "execution_count": 144
  },
  {
   "cell_type": "code",
   "outputs": [],
   "source": [
    "tsd_dict = {f'{tsd.target_name.split(\"_\")[0]} ({tsd.uniprot_id})': tsd for tsd in tsds}\n",
    "symbols = {'X-ray': 'diamond-tall-open', 'EM': 'circle', 'AlphaFold': 'asterisk'}\n",
    "colors = {'metabolism_redox': '#d07c09', 'metabolism': '#ffb418', 'absorption': '#11efb7', 'drug_transporter': '#9553ff', 'toxicity': '#5e2bcb'}\n",
    "category_list = sorted(list(colors.keys()))\n",
    "\n",
    "# Map Protein Name to numerical values\n",
    "df.sort_values(['Category', 'Protein Name'], inplace=True)\n",
    "protein_names = df['Protein Name'].unique()\n",
    "protein_name_mapping = {name: i for i, name in enumerate(protein_names)}\n",
    "jitter_amount = 0.2"
   ],
   "metadata": {
    "collapsed": false,
    "ExecuteTime": {
     "end_time": "2024-02-21T22:00:15.257100Z",
     "start_time": "2024-02-21T22:00:15.232203Z"
    }
   },
   "id": "cae561a06cc09eb1",
   "execution_count": 247
  },
  {
   "cell_type": "code",
   "outputs": [
    {
     "name": "stderr",
     "output_type": "stream",
     "text": [
      "/Users/alexpayne/miniforge-pypy3/envs/asapdiscovery/lib/python3.10/site-packages/numpy/core/fromnumeric.py:3432: RuntimeWarning:\n",
      "\n",
      "Mean of empty slice.\n",
      "\n",
      "/Users/alexpayne/miniforge-pypy3/envs/asapdiscovery/lib/python3.10/site-packages/numpy/core/_methods.py:190: RuntimeWarning:\n",
      "\n",
      "invalid value encountered in double_scalars\n",
      "\n"
     ]
    },
    {
     "data": {
      "application/vnd.plotly.v1+json": {
       "data": [
        {
         "marker": {
          "color": "#11efb7",
          "line": {
           "color": "black",
           "width": 2
          },
          "size": 10,
          "symbol": "diamond-tall-open"
         },
         "mode": "markers",
         "name": "absorption (X-ray)",
         "opacity": 1,
         "showlegend": true,
         "x": [
          0.13897034460526697
         ],
         "y": [
          1.8
         ],
         "type": "scatter"
        },
        {
         "marker": {
          "color": "#11efb7",
          "line": {
           "color": "black",
           "width": 2
          },
          "size": 10,
          "symbol": "asterisk"
         },
         "mode": "markers",
         "name": "absorption (AlphaFold)",
         "opacity": 0,
         "showlegend": false,
         "x": [
          0,
          1
         ],
         "y": [
          2.0,
          2.0
         ],
         "type": "scatter"
        },
        {
         "marker": {
          "color": "#11efb7",
          "line": {
           "color": "black",
           "width": 2
          },
          "size": 10,
          "symbol": "circle"
         },
         "mode": "markers",
         "name": "absorption (EM)",
         "opacity": 1,
         "showlegend": true,
         "x": [
          1.1322103602840716,
          1.001897492192273
         ],
         "y": [
          2.89,
          3.7
         ],
         "type": "scatter"
        },
        {
         "marker": {
          "color": "#9553ff",
          "line": {
           "color": "black",
           "width": 2
          },
          "size": 10,
          "symbol": "diamond-tall-open"
         },
         "mode": "markers",
         "name": "drug_transporter (X-ray)",
         "opacity": 1,
         "showlegend": true,
         "x": [
          4.993246120566772,
          4.928324978119969
         ],
         "y": [
          1.5,
          2.1
         ],
         "type": "scatter"
        },
        {
         "marker": {
          "color": "#9553ff",
          "line": {
           "color": "black",
           "width": 2
          },
          "size": 10,
          "symbol": "asterisk"
         },
         "mode": "markers",
         "name": "drug_transporter (AlphaFold)",
         "opacity": 0,
         "showlegend": false,
         "x": [
          2,
          3,
          4,
          5,
          6,
          7,
          8,
          9,
          10,
          11
         ],
         "y": [
          2.0,
          2.0,
          2.0,
          2.0,
          2.0,
          2.0,
          2.0,
          2.0,
          2.0,
          2.0
         ],
         "type": "scatter"
        },
        {
         "marker": {
          "color": "#9553ff",
          "line": {
           "color": "black",
           "width": 2
          },
          "size": 10,
          "symbol": "circle"
         },
         "mode": "markers",
         "name": "drug_transporter (EM)",
         "opacity": 1,
         "showlegend": true,
         "x": [
          2.115692892288223,
          1.917758540806545,
          1.8361468381232853,
          2.9672257032739395,
          2.8478220911027385,
          2.8738456538876664,
          2.959923988157159,
          3.0951554067474074,
          3.1393830222586603,
          2.8129092664981137,
          3.1522388179084526,
          2.972295570608834,
          3.03114903129343,
          2.8930668411256653,
          2.9747409216823404,
          3.0988281422027035,
          2.984349983631328,
          3.103782693768019,
          2.844927225877294,
          3.1579340641151457,
          2.929608123458895,
          2.806644039214693,
          2.8345382888709385,
          2.805808516800662,
          2.808387248931007,
          2.9149404075712226,
          2.934042321787147,
          4.131452455745531,
          4.083672070060379,
          3.845066927298517,
          4.01304953346101,
          4.020941010445746,
          4.094645836813624,
          4.1281697467701495,
          3.8272242429631964,
          4.049277443309502,
          4.170280559689852,
          5.896360661943354,
          5.998714823842161,
          5.941314687975196,
          9.863902667441476,
          9.941173703129461,
          10.096145032837331,
          9.970708985672223,
          9.866738872240871,
          9.965388458977284,
          10.930247826687586
         ],
         "y": [
          3.66,
          3.7,
          3.5,
          3.1,
          3.04,
          3.1,
          3.4,
          3.2,
          3.4,
          3.7,
          3.39,
          3.12,
          4.1,
          3.2,
          3.58,
          4.0,
          3.5,
          3.51,
          3.49,
          3.56,
          3.09,
          3.56,
          3.6,
          3.1,
          3.78,
          3.78,
          3.09,
          3.58,
          4.14,
          3.6,
          3.9,
          3.2,
          3.6,
          3.5,
          3.5,
          3.4,
          3.6,
          3.5,
          3.9,
          4.1,
          3.19,
          3.73,
          2.92,
          3.53,
          3.73,
          3.6,
          2.97
         ],
         "type": "scatter"
        },
        {
         "marker": {
          "color": "#ffb418",
          "line": {
           "color": "black",
           "width": 2
          },
          "size": 10,
          "symbol": "diamond-tall-open"
         },
         "mode": "markers",
         "name": "metabolism (X-ray)",
         "opacity": 1,
         "showlegend": true,
         "x": [
          12.192705375923182,
          12.940433270899883,
          12.941085820399262,
          12.939789535404293,
          13.166256520022033,
          13.18533235316314,
          13.160540831025907,
          12.908415037338036,
          13.109130042360958,
          12.971837427643134,
          13.170596780024988,
          12.870719621851931,
          13.065899137065625,
          12.976254712399959,
          12.887530283436003,
          12.99433337956562,
          13.073122691813419,
          12.849019601773012,
          12.895051662697652,
          12.824245275857377,
          13.004605896546483,
          12.830184865283938,
          13.03969599212309,
          13.186047606644816,
          13.198605227282682,
          12.846054204057218,
          13.14525534842262,
          13.064123218297281,
          12.868713036737267,
          12.871169493858796,
          13.032129705912805,
          12.954652533388463,
          12.857726324476166,
          13.016624644848758,
          13.081267331151546,
          13.172394210024954,
          12.914350679110653,
          13.047641109067554,
          13.072293948172602,
          12.825513901601827,
          14.04736988670729,
          14.161166337225472,
          13.934114545357343,
          13.971277390598583,
          14.098747687410006,
          13.943339253369919,
          13.998640723480667,
          13.964221786802975,
          14.052256033883559,
          14.036979781798093,
          14.047383053668707,
          13.890638150745996,
          13.929276461974839,
          14.008520738933422,
          13.85718837321898,
          14.00498305358249,
          14.060547098545676,
          13.831105687696802,
          14.136675132465312,
          13.932329973856747,
          13.999830502561244,
          13.843064738506751,
          13.959703700296592,
          14.107026323671835,
          13.811291388208586,
          13.935859767601947,
          13.863908994528742,
          14.045463678297976,
          13.842731281162527,
          13.971859227116886,
          13.800528578891408,
          13.888975717463767,
          14.119801687878269,
          13.929712498597322,
          14.156198846608467,
          14.000663855468094,
          14.015920562729075,
          13.816678428451963,
          13.855698680995935,
          13.845481996408052,
          14.195247928488245,
          14.066149407120847,
          14.185377538570775,
          14.162292684530982,
          13.94551662821627,
          13.900214084449821,
          14.095475277317071,
          14.183579603358798,
          13.814692495933924,
          14.193598098351602,
          14.010015891716472,
          14.04539391926982,
          13.838266498143316,
          14.812500150138744,
          15.023063075262618,
          15.877667491954288,
          15.915704280206587,
          16.182179805212908,
          16.047593170444546,
          15.932103807330263,
          16.195227522941416,
          16.165306773237184,
          15.854405314185714,
          16.17560975428715,
          15.886021174911043,
          15.976470196739962
         ],
         "y": [
          3.3,
          2.33,
          1.6,
          1.55,
          1.7,
          2.0,
          1.29,
          2.46,
          2.03,
          1.56,
          2.1,
          1.93,
          2.19,
          1.87,
          1.88,
          2.0,
          2.6,
          1.5,
          1.8,
          1.3,
          1.86,
          2.0,
          2.1,
          1.75,
          1.8,
          2.07,
          1.85,
          1.95,
          1.8,
          2.51,
          2.38,
          1.98,
          2.2,
          1.75,
          2.13,
          2.7,
          1.79,
          2.2,
          1.86,
          2.5,
          2.15,
          2.3,
          2.0,
          2.5,
          2.26,
          2.48,
          2.05,
          2.2,
          2.1,
          2.25,
          2.76,
          2.2,
          2.8,
          2.8,
          3.14,
          2.0,
          2.25,
          2.58,
          2.4,
          2.25,
          2.3,
          2.3,
          2.37,
          2.55,
          2.7,
          2.15,
          2.0,
          2.8,
          2.67,
          2.8,
          2.8,
          2.0,
          2.1,
          2.8,
          2.8,
          2.22,
          2.27,
          2.3,
          2.7,
          1.85,
          2.27,
          2.15,
          2.25,
          2.8,
          2.26,
          2.55,
          2.05,
          2.65,
          1.9,
          2.45,
          2.28,
          2.56,
          2.52,
          2.6,
          2.7,
          2.36,
          2.56,
          2.36,
          2.3,
          2.7,
          2.35,
          2.5,
          1.9,
          2.3,
          2.3,
          2.0
         ],
         "type": "scatter"
        },
        {
         "marker": {
          "color": "#ffb418",
          "line": {
           "color": "black",
           "width": 2
          },
          "size": 10,
          "symbol": "asterisk"
         },
         "mode": "markers",
         "name": "metabolism (AlphaFold)",
         "opacity": 0,
         "showlegend": false,
         "x": [
          12,
          13,
          14,
          15,
          16
         ],
         "y": [
          2.0,
          2.0,
          2.0,
          2.0,
          2.0
         ],
         "type": "scatter"
        },
        {
         "marker": {
          "color": "#ffb418",
          "line": {
           "color": "black",
           "width": 2
          },
          "size": 10,
          "symbol": "circle"
         },
         "mode": "markers",
         "name": "metabolism (EM)",
         "opacity": 1,
         "showlegend": true,
         "x": [
          11.844018131896377
         ],
         "y": [
          2.85
         ],
         "type": "scatter"
        },
        {
         "marker": {
          "color": "#d07c09",
          "line": {
           "color": "black",
           "width": 2
          },
          "size": 10,
          "symbol": "diamond-tall-open"
         },
         "mode": "markers",
         "name": "metabolism_redox (X-ray)",
         "opacity": 1,
         "showlegend": true,
         "x": [
          17.01065936205705,
          17.17927535645111,
          18.1318151118847,
          17.872331321869083,
          18.15433198199017,
          17.900966895633438,
          18.14899281850318,
          18.128260003051896,
          18.139806055909098,
          17.80758894540314,
          17.818498125042346,
          17.99306064009844,
          18.104322816181043,
          17.96548721114957,
          17.800068137427886,
          18.013243888514133,
          18.043155780388233,
          18.04157483077779,
          17.942490251311018,
          19.075749536486562,
          19.11793849279961,
          19.156962096741573,
          19.086119337237644,
          20.11839973281168,
          20.116930397372272,
          19.817379062613924,
          20.086076441247055,
          19.98594204951446,
          19.847729641640324,
          20.049981902025305,
          19.830640748493764,
          19.915287320479997,
          19.853134287390414,
          20.194661363923032,
          20.167211775038023,
          20.022104233496776,
          19.816238254533967,
          19.953852051517433,
          20.07684732861332,
          20.11028586749669,
          20.093735784889834,
          19.872069151010308,
          20.175637060770708,
          20.13347711807256,
          19.967845649473873,
          19.93353571126364,
          19.812212580606506,
          20.1625543014741,
          19.830157674653883,
          20.1251211676487,
          19.836523405300067,
          19.981857741606834,
          19.87476934283583,
          20.015717121767203,
          20.022264754273785,
          20.08948447586099,
          20.064554695158247,
          20.091268923873336,
          20.14127286151524,
          19.9293505029636,
          20.127966339712543,
          20.022810779147264,
          20.087069685441286,
          19.927937187349336,
          20.109457315499363,
          20.167606752560122,
          20.061478044648144,
          20.12834987669441,
          20.065321383346678,
          20.001725462718348,
          19.981488619653152,
          20.121769383347136,
          19.963453908485622,
          20.090265936484766,
          19.815943664646543,
          20.889082702908325,
          21.036923994893563,
          21.069049242753564,
          21.085220019114022,
          20.836205904961037,
          21.120669939437626,
          21.807224289617597,
          22.97979391355432,
          23.86146773170527,
          24.052050092409072,
          24.13472727831634,
          23.878239357253044,
          23.998003008167593,
          24.026716695495583,
          23.844134738135093,
          23.936298077487994,
          23.973773206020123,
          24.099677491470814,
          24.171829480765954,
          24.189930076532026,
          23.94374434113918,
          25.076250965860186,
          24.928930909242837,
          25.14513831037852,
          25.059552044858176,
          25.168937503546783,
          25.040267946076085,
          24.80451617258253,
          24.99545209570566,
          25.12619252047105,
          24.920041822244592,
          25.159966546602977,
          25.11885777197425,
          25.128145463005126,
          25.94472923820158,
          26.895777497173526,
          26.94830023048582,
          27.01110246857915,
          27.04860457783803,
          27.131331069820362,
          27.111471748257454,
          26.961743977051686,
          26.948267014925193,
          26.940817128108176,
          27.18826192735599,
          27.13470983603726,
          26.873632830370948,
          27.064672215830516,
          27.0632018035147,
          28.18783812791248,
          28.14778142287973,
          28.17946847595254,
          28.169320525321858,
          27.95865987911754,
          27.97811874614223,
          27.88323388180341,
          27.822153316804975,
          28.160822685502602,
          27.95061123671689,
          28.0481668161107,
          27.99091163519233,
          28.07035913650611,
          27.972316071667034,
          27.813278642338666,
          27.964549457986507,
          28.041553673651173,
          28.09979145750673,
          27.929739406564856,
          28.165264018510637,
          28.19749789716673,
          28.18794801721937,
          28.17501714449321,
          28.09643273957434,
          27.821926513769434,
          28.15629468114687,
          28.150379332101224,
          27.92274920213448,
          27.885233815086192,
          27.895037360893568,
          27.8482931268324,
          28.111591571749315,
          28.028499750156236,
          27.96720176446833,
          28.16854935392725,
          27.946443291254784,
          28.041340795562892,
          27.848309050934972,
          28.07194043504363,
          28.06571346566701,
          28.062729568474364,
          28.130597432092095,
          27.842230665221276,
          27.909998570682657,
          28.18450849789001,
          28.074018107660933,
          27.99502951499106,
          28.144092189719515,
          27.82201038291858,
          27.84541318385192,
          28.030833512483976,
          28.1984410080912,
          27.83840811470829,
          27.81629055035037,
          28.113456735035296,
          27.967112890909156,
          27.940523163593024,
          27.954598498443698,
          28.139670783288903,
          27.928231287570906,
          27.874011668405778,
          27.99407139910434,
          28.161644436164707,
          28.02936717703553,
          27.84197830073398,
          27.86797812671632,
          28.08910732740381,
          28.103487076503093,
          27.927827532063933,
          27.871015796352935,
          28.15703686296968,
          28.09072796650671,
          28.156773597436857,
          28.054796001440845,
          28.137261739141124,
          28.151799720711505,
          28.040583398737567,
          28.058425084690544,
          29.119713072893845,
          28.82605396923492,
          28.9033003220582,
          29.120362695964722,
          29.115970308331075,
          29.02273603741166,
          29.189391235199448,
          29.036677927746183,
          29.044684440903705,
          29.002047672012104,
          29.138684329887255,
          28.98477404325432,
          29.139923264904382,
          28.818133292766802,
          29.10292570123373,
          29.057918102414142,
          29.019622019069715,
          29.07551195542967,
          28.89374151174228,
          29.120048210686818,
          29.16893533821545,
          29.17362780941219,
          28.961393995399735,
          29.165047643269908,
          28.990600475668195,
          29.19648457427252,
          28.864874459707277,
          29.16240258372632,
          29.153947735170515,
          29.036624278170194,
          28.82626699494947,
          29.050188471566358,
          29.007088038887606,
          29.08403759709519,
          29.162043422869335,
          29.19823871017295,
          28.83816880917408,
          28.884824252301257,
          28.806261121970724,
          29.055625062832345,
          31.128861279016917,
          31.088995529139215
         ],
         "y": [
          2.49,
          2.5,
          1.8,
          1.6,
          1.6,
          1.8,
          2.07,
          1.74,
          1.8,
          1.9,
          1.85,
          1.85,
          1.95,
          1.7,
          2.05,
          2.1,
          2.0,
          1.6,
          1.7,
          2.2,
          3.0,
          3.15,
          2.17,
          2.0,
          2.2,
          1.83,
          1.9,
          1.8,
          1.6,
          1.65,
          2.12,
          2.07,
          3.1,
          2.4,
          1.7,
          2.3,
          3.0,
          2.3,
          1.89,
          1.8,
          2.42,
          1.8,
          1.8,
          1.6,
          1.7,
          2.3,
          1.7,
          2.3,
          1.8,
          2.3,
          2.1,
          1.7,
          2.2,
          2.1,
          1.7,
          2.5,
          1.7,
          2.06,
          2.0,
          2.2,
          1.7,
          1.7,
          1.6,
          1.7,
          2.0,
          2.3,
          2.3,
          1.9,
          1.6,
          2.1,
          1.66,
          2.2,
          2.2,
          2.4,
          2.2,
          2.7,
          2.6,
          3.39,
          2.7,
          3.1,
          2.6,
          3.0,
          1.95,
          2.1,
          2.0,
          2.8,
          2.24,
          2.0,
          2.2,
          1.93,
          2.27,
          2.8,
          1.76,
          2.1,
          2.03,
          2.99,
          2.6,
          2.23,
          3.12,
          2.3,
          2.48,
          2.0,
          2.3,
          2.0,
          2.45,
          2.0,
          2.55,
          2.0,
          2.9,
          2.87,
          2.67,
          2.39,
          3.0,
          2.85,
          2.6,
          2.26,
          2.35,
          2.1,
          2.5,
          2.4,
          2.71,
          2.75,
          2.39,
          3.3,
          2.4,
          2.15,
          2.05,
          2.05,
          2.15,
          2.2,
          2.25,
          2.1,
          2.65,
          2.35,
          2.2,
          2.2,
          1.95,
          1.7,
          2.7,
          2.7,
          2.6,
          2.45,
          2.5,
          2.95,
          2.76,
          2.4,
          2.6,
          2.85,
          2.5,
          2.9,
          2.72,
          2.3,
          2.05,
          2.8,
          2.65,
          2.74,
          2.75,
          2.23,
          2.8,
          2.25,
          2.15,
          1.93,
          2.25,
          2.8,
          2.76,
          2.0,
          2.5,
          2.6,
          2.42,
          2.75,
          2.5,
          2.75,
          2.78,
          2.45,
          2.25,
          2.75,
          2.35,
          2.5,
          2.9,
          2.4,
          2.7,
          2.4,
          2.2,
          2.3,
          2.65,
          2.5,
          2.75,
          2.25,
          2.57,
          2.7,
          2.52,
          2.25,
          2.38,
          2.67,
          2.2,
          2.6,
          2.5,
          2.79,
          2.55,
          2.65,
          2.55,
          2.5,
          2.55,
          1.91,
          2.73,
          2.2,
          2.16,
          1.96,
          2.35,
          2.35,
          2.35,
          3.2,
          2.35,
          2.35,
          2.37,
          2.5,
          1.8,
          2.07,
          2.19,
          2.72,
          2.35,
          2.6,
          2.45,
          1.8,
          1.55,
          2.11,
          2.3,
          3.1,
          1.9,
          2.69,
          2.3,
          2.25,
          2.6,
          2.5,
          2.55,
          3.0,
          2.65,
          2.3,
          2.19,
          2.3,
          2.35,
          2.8,
          2.6,
          3.59
         ],
         "type": "scatter"
        },
        {
         "marker": {
          "color": "#d07c09",
          "line": {
           "color": "black",
           "width": 2
          },
          "size": 10,
          "symbol": "asterisk"
         },
         "mode": "markers",
         "name": "metabolism_redox (AlphaFold)",
         "opacity": 0,
         "showlegend": false,
         "x": [
          17,
          18,
          19,
          20,
          21,
          22,
          23,
          24,
          25,
          26,
          27,
          28,
          29,
          30,
          31
         ],
         "y": [
          2.0,
          2.0,
          2.0,
          2.0,
          2.0,
          2.0,
          2.0,
          2.0,
          2.0,
          2.0,
          2.0,
          2.0,
          2.0,
          2.0,
          2.0
         ],
         "type": "scatter"
        },
        {
         "marker": {
          "color": "#d07c09",
          "line": {
           "color": "black",
           "width": 2
          },
          "size": 10,
          "symbol": "circle"
         },
         "mode": "markers",
         "name": "metabolism_redox (EM)",
         "opacity": 1,
         "showlegend": true,
         "x": [
          18.0425385548498,
          18.043219798090522,
          18.164913888550952,
          20.988723975236653
         ],
         "y": [
          2.64,
          3.4,
          2.84,
          2.92
         ],
         "type": "scatter"
        },
        {
         "marker": {
          "color": "#5e2bcb",
          "line": {
           "color": "black",
           "width": 2
          },
          "size": 10,
          "symbol": "diamond-tall-open"
         },
         "mode": "markers",
         "name": "toxicity (X-ray)",
         "opacity": 1,
         "showlegend": true,
         "x": [
          32.10607453293855,
          31.947744773868095,
          31.89825396541023,
          32.184468579558114,
          32.147721550639474,
          32.04739365060081,
          31.84056799265803,
          31.93236489029737,
          33.88216971426699,
          33.97663233430907,
          34.05737346492414,
          36.08924289706619,
          35.82600125202351,
          35.96941991738055,
          36.03915408577372,
          35.868666953210344,
          35.868267663474334,
          37.11372623016448,
          36.930886086885394,
          37.09168307221026,
          37.086715727968205,
          38.19401934811052,
          37.83317849053639,
          37.814428687934296,
          37.91290002422809,
          38.153845481554725,
          38.83470584885965,
          39.160433996583045,
          38.8978500788272,
          38.86088373571671,
          39.18202987037931,
          39.045535344875695,
          39.126338075555395,
          39.10743843883543,
          42.04237685849079,
          42.11301508748331,
          42.964072495540655,
          42.80917598429613,
          43.02633400773981,
          43.11594381358943,
          44.13563412324801,
          43.89612287409577,
          44.017949064262275,
          44.103190749432294,
          44.15282542030618,
          43.95812058828624,
          44.13602584620042,
          43.84783163742789,
          44.068660276681115,
          44.03907985578253,
          43.924172540623566,
          44.038981167678564,
          44.06232858645983,
          43.93244619590042,
          44.146908813589235,
          44.12963426492331,
          43.809336062604174,
          43.96364686098694,
          43.97353654764056,
          43.92733715474191,
          44.12375429602557,
          44.15963345545404,
          44.046665029628535,
          43.90045909247712,
          44.16033132241347,
          43.81004988072731,
          43.94063751558396,
          44.15567359526959,
          44.0345286086296,
          43.961509574591894,
          43.94091516304161,
          44.154131840941034,
          44.03157356678258,
          44.174040939504366,
          44.07814827055668,
          44.13993962818728,
          44.91358314409518,
          44.85676993305924,
          46.1427651618659,
          46.10633157605978,
          46.10077791072109,
          45.93798341458453,
          45.94799079058151,
          46.174143941536954,
          46.099580360232935,
          46.051403270199636,
          46.17425983405401,
          45.915568021140494,
          46.1054823979154,
          46.16959847755121,
          46.15523939136782,
          45.93404462501429,
          46.152357642235756,
          47.820645211799636,
          48.13212460870371,
          47.91799884040659,
          47.993052656296406,
          48.015837812957145,
          47.82817483934611,
          48.19995878820077,
          48.96272882182539,
          49.00661606444194,
          50.19877460814039,
          49.97239561166397,
          51.13949906501013,
          51.92055678977195,
          51.966176657021364,
          52.155319205214504,
          52.01438851064249,
          55.194317310881466,
          55.11542181908927,
          55.008247555712785,
          54.87776116048483,
          55.09935650399948,
          55.10961611411476,
          54.95774494781835,
          54.837039622918226,
          55.07498150500879,
          54.834961617671915,
          54.95695064686288,
          54.997640121047354,
          56.18282658028857,
          55.91444706737808,
          56.08664969367808,
          55.83833631197195,
          55.81855881156282,
          56.159616149906505
         ],
         "y": [
          3.19,
          2.92,
          3.1,
          2.9,
          3.0,
          2.8,
          2.7,
          3.1,
          1.9,
          1.93,
          2.0,
          2.15,
          2.85,
          2.4,
          2.2,
          2.38,
          2.38,
          1.8,
          1.71,
          2.7,
          2.26,
          2.33,
          2.5,
          2.17,
          2.55,
          2.7,
          3.5,
          3.7,
          2.3,
          2.95,
          3.0,
          2.6,
          2.5,
          3.0,
          3.2,
          2.7,
          3.13,
          2.5,
          2.6,
          2.7,
          3.2,
          2.7,
          3.2,
          3.2,
          3.8,
          2.48,
          3.3,
          2.4,
          3.1,
          3.99,
          2.8,
          3.4,
          2.84,
          2.84,
          3.16,
          3.5,
          3.5,
          3.2,
          2.79,
          3.1,
          1.9,
          3.4,
          3.4,
          2.7,
          2.6,
          2.5,
          2.4,
          2.9,
          3.4,
          2.8,
          3.1,
          3.2,
          2.96,
          3.7,
          3.2,
          3.4,
          3.0,
          2.6,
          2.0,
          2.0,
          1.45,
          1.6,
          2.1,
          2.55,
          1.65,
          2.0,
          2.4,
          2.4,
          1.65,
          1.7,
          1.75,
          1.7,
          2.0,
          2.95,
          2.8,
          2.7,
          2.8,
          3.25,
          2.6,
          3.29,
          2.8,
          3.2,
          3.45,
          3.2,
          3.1,
          1.5,
          1.96,
          2.12,
          2.6,
          3.4,
          3.62,
          3.49,
          3.15,
          3.14,
          3.53,
          4.53,
          3.8,
          3.24,
          4.05,
          6.3,
          4.7,
          2.69,
          2.25,
          2.8,
          3.84,
          1.35,
          2.2
         ],
         "type": "scatter"
        },
        {
         "marker": {
          "color": "#5e2bcb",
          "line": {
           "color": "black",
           "width": 2
          },
          "size": 10,
          "symbol": "asterisk"
         },
         "mode": "markers",
         "name": "toxicity (AlphaFold)",
         "opacity": 0,
         "showlegend": false,
         "x": [
          32,
          33,
          34,
          35,
          36,
          37,
          38,
          39,
          40,
          41,
          42,
          43,
          44,
          45,
          46,
          47,
          48,
          49,
          50,
          51,
          52,
          53,
          54,
          55,
          56
         ],
         "y": [
          2.0,
          2.0,
          2.0,
          2.0,
          2.0,
          2.0,
          2.0,
          2.0,
          2.0,
          2.0,
          2.0,
          2.0,
          2.0,
          2.0,
          2.0,
          2.0,
          2.0,
          2.0,
          2.0,
          2.0,
          2.0,
          2.0,
          2.0,
          2.0,
          2.0
         ],
         "type": "scatter"
        },
        {
         "marker": {
          "color": "#5e2bcb",
          "line": {
           "color": "black",
           "width": 2
          },
          "size": 10,
          "symbol": "circle"
         },
         "mode": "markers",
         "name": "toxicity (EM)",
         "opacity": 1,
         "showlegend": true,
         "x": [
          32.16115447446954,
          32.01952282715602,
          32.0561683620835,
          33.92637543181279,
          33.96802977343591,
          36.15656145309078,
          36.096974972282325,
          35.944156963737704,
          36.045841494319646,
          35.9372092128749,
          36.187768224418136,
          35.81645047828947,
          36.101785050222624,
          36.11929265034755,
          36.00117876181724,
          35.991725770445875,
          37.91312460170344,
          38.88132512602505,
          38.94836270662976,
          39.0581713732453,
          39.05308890831674,
          38.800332833493876,
          39.06932892907981,
          39.994564843466534,
          39.87224039612982,
          39.8602811597956,
          39.82103453816763,
          40.902887224077496,
          41.14051140952366,
          42.05317727815582,
          41.93872664628384,
          42.155700682614,
          41.81048506467279,
          42.1376923809313,
          41.93136315613425,
          41.85967192592922,
          44.18053187306028,
          43.978448435005035,
          44.029425384069334,
          43.822387646245915,
          44.07387412402362,
          44.1887869795175,
          45.90989676840586,
          46.09609816491745,
          46.946612500445354,
          47.172274730415104,
          46.92054283382632,
          46.822365150231775,
          47.08075703830332,
          48.04218071528896,
          48.19855076752568,
          48.14402540705335,
          47.82468671919148,
          49.18105631621909,
          48.80685775655431,
          49.0162635911662,
          49.1972860488658,
          49.05998514552391,
          49.15921637075627,
          49.87550457341259,
          50.170964779417666,
          49.95630963158913,
          49.83255422163243,
          50.17598266457583,
          49.86248348534096,
          50.13659644039238,
          49.811607861833515,
          50.04145529119761,
          50.06178167839421,
          49.85273477690644,
          50.18029845064064,
          49.92934921501398,
          49.84918930475501,
          50.03211537017503,
          49.945869481539475,
          49.80367527637322,
          49.86109000016582,
          49.94256714625184,
          49.8524017831459,
          50.0893523099596,
          49.91917873688235,
          49.92280072447316,
          50.14328971944294,
          49.99216183358602,
          50.115719247817275,
          50.14196495581414,
          51.04076382196706,
          52.00382944213825,
          52.08744655612843,
          52.11768831422664,
          54.87425547706548,
          54.97892723009974,
          55.1087262738522,
          55.01467263874681,
          54.98259188827892,
          54.97143759934661,
          54.93897960987396,
          55.12082052156568,
          55.11167113187445,
          54.946654512713245,
          55.155586151784355,
          55.18107235220804,
          54.84396532609048,
          54.95061441855968,
          54.9214104672686,
          55.909348768222436,
          55.96135080852347
         ],
         "y": [
          2.9,
          3.3,
          2.7,
          3.34,
          3.87,
          2.3,
          3.4,
          3.02,
          4.4,
          2.8,
          2.7,
          3.6,
          3.0,
          2.85,
          3.18,
          2.7,
          3.3,
          3.22,
          3.32,
          3.6,
          3.21,
          4.0,
          3.16,
          2.79,
          2.69,
          2.56,
          2.69,
          3.1,
          2.6,
          3.4,
          3.0,
          3.2,
          4.1,
          3.47,
          3.4,
          3.6,
          3.4,
          3.8,
          3.26,
          3.82,
          3.2,
          3.8,
          3.4,
          3.1,
          2.8,
          3.1,
          3.3,
          3.0,
          3.0,
          3.0,
          2.8,
          3.36,
          3.0,
          2.97,
          2.84,
          3.08,
          2.9,
          2.98,
          3.2,
          3.8,
          3.8,
          3.1,
          3.04,
          3.69,
          3.26,
          3.58,
          3.2,
          2.55,
          3.49,
          3.5,
          2.92,
          3.23,
          3.3,
          3.04,
          2.86,
          2.71,
          2.98,
          2.65,
          2.9,
          3.12,
          3.0,
          3.0,
          2.7,
          3.0,
          2.79,
          2.9,
          3.3,
          4.0,
          3.8,
          3.7,
          3.5,
          3.65,
          4.2,
          3.0,
          3.3,
          3.9,
          3.9,
          3.5,
          4.1,
          3.8,
          4.1,
          3.3,
          3.6,
          4.1,
          4.3,
          3.3,
          3.3
         ],
         "type": "scatter"
        }
       ],
       "layout": {
        "annotations": [
         {
          "arrowhead": 7,
          "ax": 20,
          "ay": -10,
          "showarrow": true,
          "text": "90.55%",
          "x": 0,
          "y": -0.5
         },
         {
          "arrowhead": 7,
          "ax": 20,
          "ay": -30,
          "showarrow": true,
          "text": "99.77%",
          "x": 1,
          "y": -0.5
         },
         {
          "arrowhead": 7,
          "ax": 20,
          "ay": -50,
          "showarrow": true,
          "text": "98.64%",
          "x": 2,
          "y": -0.5
         },
         {
          "arrowhead": 7,
          "ax": 20,
          "ay": -70,
          "showarrow": true,
          "text": "99.79%",
          "x": 3,
          "y": -0.5
         },
         {
          "arrowhead": 7,
          "ax": 20,
          "ay": -90,
          "showarrow": true,
          "text": "99.66%",
          "x": 4,
          "y": -0.5
         },
         {
          "arrowhead": 7,
          "ax": 20,
          "ay": -10,
          "showarrow": true,
          "text": "15.74%",
          "x": 5,
          "y": -0.5
         },
         {
          "arrowhead": 7,
          "ax": 20,
          "ay": -30,
          "showarrow": true,
          "text": "99.86%",
          "x": 6,
          "y": -0.5
         },
         {
          "arrowhead": 7,
          "ax": 20,
          "ay": -50,
          "showarrow": true,
          "text": "99.86%",
          "x": 10,
          "y": -0.5
         },
         {
          "arrowhead": 7,
          "ax": 20,
          "ay": -70,
          "showarrow": true,
          "text": "99.86%",
          "x": 11,
          "y": -0.5
         },
         {
          "arrowhead": 7,
          "ax": 20,
          "ay": -90,
          "showarrow": true,
          "text": "40.45%",
          "x": 12,
          "y": -0.5
         },
         {
          "arrowhead": 7,
          "ax": 20,
          "ay": -10,
          "showarrow": true,
          "text": "92.93%",
          "x": 13,
          "y": -0.5
         },
         {
          "arrowhead": 7,
          "ax": 20,
          "ay": -30,
          "showarrow": true,
          "text": "69.72%",
          "x": 14,
          "y": -0.5
         },
         {
          "arrowhead": 7,
          "ax": 20,
          "ay": -50,
          "showarrow": true,
          "text": "70.74%",
          "x": 15,
          "y": -0.5
         },
         {
          "arrowhead": 7,
          "ax": 20,
          "ay": -70,
          "showarrow": true,
          "text": "99.63%",
          "x": 16,
          "y": -0.5
         },
         {
          "arrowhead": 7,
          "ax": 20,
          "ay": -90,
          "showarrow": true,
          "text": "99.47%",
          "x": 17,
          "y": -0.5
         },
         {
          "arrowhead": 7,
          "ax": 20,
          "ay": -10,
          "showarrow": true,
          "text": "99.80%",
          "x": 18,
          "y": -0.5
         },
         {
          "arrowhead": 7,
          "ax": 20,
          "ay": -30,
          "showarrow": true,
          "text": "98.48%",
          "x": 19,
          "y": -0.5
         },
         {
          "arrowhead": 7,
          "ax": 20,
          "ay": -50,
          "showarrow": true,
          "text": "99.72%",
          "x": 20,
          "y": -0.5
         },
         {
          "arrowhead": 7,
          "ax": 20,
          "ay": -70,
          "showarrow": true,
          "text": "99.93%",
          "x": 21,
          "y": -0.5
         },
         {
          "arrowhead": 7,
          "ax": 20,
          "ay": -90,
          "showarrow": true,
          "text": "97.58%",
          "x": 22,
          "y": -0.5
         },
         {
          "arrowhead": 7,
          "ax": 20,
          "ay": -10,
          "showarrow": true,
          "text": "94.77%",
          "x": 23,
          "y": -0.5
         },
         {
          "arrowhead": 7,
          "ax": 20,
          "ay": -30,
          "showarrow": true,
          "text": "94.96%",
          "x": 24,
          "y": -0.5
         },
         {
          "arrowhead": 7,
          "ax": 20,
          "ay": -50,
          "showarrow": true,
          "text": "95.15%",
          "x": 25,
          "y": -0.5
         },
         {
          "arrowhead": 7,
          "ax": 20,
          "ay": -70,
          "showarrow": true,
          "text": "95.10%",
          "x": 26,
          "y": -0.5
         },
         {
          "arrowhead": 7,
          "ax": 20,
          "ay": -90,
          "showarrow": true,
          "text": "92.96%",
          "x": 27,
          "y": -0.5
         },
         {
          "arrowhead": 7,
          "ax": 20,
          "ay": -10,
          "showarrow": true,
          "text": "95.65%",
          "x": 28,
          "y": -0.5
         },
         {
          "arrowhead": 7,
          "ax": 20,
          "ay": -30,
          "showarrow": true,
          "text": "91.83%",
          "x": 29,
          "y": -0.5
         },
         {
          "arrowhead": 7,
          "ax": 20,
          "ay": -50,
          "showarrow": true,
          "text": "99.89%",
          "x": 31,
          "y": -0.5
         },
         {
          "arrowhead": 7,
          "ax": 20,
          "ay": -70,
          "showarrow": true,
          "text": "44.84%",
          "x": 32,
          "y": -0.5
         },
         {
          "arrowhead": 7,
          "ax": 20,
          "ay": -90,
          "showarrow": true,
          "text": "18.30%",
          "x": 34,
          "y": -0.5
         },
         {
          "arrowhead": 7,
          "ax": 20,
          "ay": -10,
          "showarrow": true,
          "text": "54.00%",
          "x": 36,
          "y": -0.5
         },
         {
          "arrowhead": 7,
          "ax": 20,
          "ay": -30,
          "showarrow": true,
          "text": "44.05%",
          "x": 37,
          "y": -0.5
         },
         {
          "arrowhead": 7,
          "ax": 20,
          "ay": -50,
          "showarrow": true,
          "text": "43.17%",
          "x": 38,
          "y": -0.5
         },
         {
          "arrowhead": 7,
          "ax": 20,
          "ay": -70,
          "showarrow": true,
          "text": "75.74%",
          "x": 39,
          "y": -0.5
         },
         {
          "arrowhead": 7,
          "ax": 20,
          "ay": -90,
          "showarrow": true,
          "text": "92.20%",
          "x": 40,
          "y": -0.5
         },
         {
          "arrowhead": 7,
          "ax": 20,
          "ay": -10,
          "showarrow": true,
          "text": "71.89%",
          "x": 41,
          "y": -0.5
         },
         {
          "arrowhead": 7,
          "ax": 20,
          "ay": -30,
          "showarrow": true,
          "text": "87.00%",
          "x": 42,
          "y": -0.5
         },
         {
          "arrowhead": 7,
          "ax": 20,
          "ay": -50,
          "showarrow": true,
          "text": "72.33%",
          "x": 43,
          "y": -0.5
         },
         {
          "arrowhead": 7,
          "ax": 20,
          "ay": -70,
          "showarrow": true,
          "text": "56.36%",
          "x": 44,
          "y": -0.5
         },
         {
          "arrowhead": 7,
          "ax": 20,
          "ay": -90,
          "showarrow": true,
          "text": "90.95%",
          "x": 45,
          "y": -0.5
         },
         {
          "arrowhead": 7,
          "ax": 20,
          "ay": -10,
          "showarrow": true,
          "text": "9.93%",
          "x": 46,
          "y": -0.5
         },
         {
          "arrowhead": 7,
          "ax": 20,
          "ay": -30,
          "showarrow": true,
          "text": "99.83%",
          "x": 47,
          "y": -0.5
         },
         {
          "arrowhead": 7,
          "ax": 20,
          "ay": -50,
          "showarrow": true,
          "text": "53.74%",
          "x": 48,
          "y": -0.5
         },
         {
          "arrowhead": 7,
          "ax": 20,
          "ay": -70,
          "showarrow": true,
          "text": "84.20%",
          "x": 49,
          "y": -0.5
         },
         {
          "arrowhead": 7,
          "ax": 20,
          "ay": -90,
          "showarrow": true,
          "text": "53.11%",
          "x": 50,
          "y": -0.5
         },
         {
          "arrowhead": 7,
          "ax": 20,
          "ay": -10,
          "showarrow": true,
          "text": "64.43%",
          "x": 51,
          "y": -0.5
         },
         {
          "arrowhead": 7,
          "ax": 20,
          "ay": -30,
          "showarrow": true,
          "text": "48.96%",
          "x": 52,
          "y": -0.5
         },
         {
          "arrowhead": 7,
          "ax": 20,
          "ay": -50,
          "showarrow": true,
          "text": "87.25%",
          "x": 55,
          "y": -0.5
         },
         {
          "arrowhead": 7,
          "ax": 20,
          "ay": -70,
          "showarrow": true,
          "text": "29.35%",
          "x": 56,
          "y": -0.5
         }
        ],
        "height": 600,
        "template": {
         "data": {
          "barpolar": [
           {
            "marker": {
             "line": {
              "color": "white",
              "width": 0.5
             },
             "pattern": {
              "fillmode": "overlay",
              "size": 10,
              "solidity": 0.2
             }
            },
            "type": "barpolar"
           }
          ],
          "bar": [
           {
            "error_x": {
             "color": "rgb(36,36,36)"
            },
            "error_y": {
             "color": "rgb(36,36,36)"
            },
            "marker": {
             "line": {
              "color": "white",
              "width": 0.5
             },
             "pattern": {
              "fillmode": "overlay",
              "size": 10,
              "solidity": 0.2
             }
            },
            "type": "bar"
           }
          ],
          "carpet": [
           {
            "aaxis": {
             "endlinecolor": "rgb(36,36,36)",
             "gridcolor": "white",
             "linecolor": "white",
             "minorgridcolor": "white",
             "startlinecolor": "rgb(36,36,36)"
            },
            "baxis": {
             "endlinecolor": "rgb(36,36,36)",
             "gridcolor": "white",
             "linecolor": "white",
             "minorgridcolor": "white",
             "startlinecolor": "rgb(36,36,36)"
            },
            "type": "carpet"
           }
          ],
          "choropleth": [
           {
            "colorbar": {
             "outlinewidth": 1,
             "tickcolor": "rgb(36,36,36)",
             "ticks": "outside"
            },
            "type": "choropleth"
           }
          ],
          "contourcarpet": [
           {
            "colorbar": {
             "outlinewidth": 1,
             "tickcolor": "rgb(36,36,36)",
             "ticks": "outside"
            },
            "type": "contourcarpet"
           }
          ],
          "contour": [
           {
            "colorbar": {
             "outlinewidth": 1,
             "tickcolor": "rgb(36,36,36)",
             "ticks": "outside"
            },
            "colorscale": [
             [
              0.0,
              "#440154"
             ],
             [
              0.1111111111111111,
              "#482878"
             ],
             [
              0.2222222222222222,
              "#3e4989"
             ],
             [
              0.3333333333333333,
              "#31688e"
             ],
             [
              0.4444444444444444,
              "#26828e"
             ],
             [
              0.5555555555555556,
              "#1f9e89"
             ],
             [
              0.6666666666666666,
              "#35b779"
             ],
             [
              0.7777777777777778,
              "#6ece58"
             ],
             [
              0.8888888888888888,
              "#b5de2b"
             ],
             [
              1.0,
              "#fde725"
             ]
            ],
            "type": "contour"
           }
          ],
          "heatmapgl": [
           {
            "colorbar": {
             "outlinewidth": 1,
             "tickcolor": "rgb(36,36,36)",
             "ticks": "outside"
            },
            "colorscale": [
             [
              0.0,
              "#440154"
             ],
             [
              0.1111111111111111,
              "#482878"
             ],
             [
              0.2222222222222222,
              "#3e4989"
             ],
             [
              0.3333333333333333,
              "#31688e"
             ],
             [
              0.4444444444444444,
              "#26828e"
             ],
             [
              0.5555555555555556,
              "#1f9e89"
             ],
             [
              0.6666666666666666,
              "#35b779"
             ],
             [
              0.7777777777777778,
              "#6ece58"
             ],
             [
              0.8888888888888888,
              "#b5de2b"
             ],
             [
              1.0,
              "#fde725"
             ]
            ],
            "type": "heatmapgl"
           }
          ],
          "heatmap": [
           {
            "colorbar": {
             "outlinewidth": 1,
             "tickcolor": "rgb(36,36,36)",
             "ticks": "outside"
            },
            "colorscale": [
             [
              0.0,
              "#440154"
             ],
             [
              0.1111111111111111,
              "#482878"
             ],
             [
              0.2222222222222222,
              "#3e4989"
             ],
             [
              0.3333333333333333,
              "#31688e"
             ],
             [
              0.4444444444444444,
              "#26828e"
             ],
             [
              0.5555555555555556,
              "#1f9e89"
             ],
             [
              0.6666666666666666,
              "#35b779"
             ],
             [
              0.7777777777777778,
              "#6ece58"
             ],
             [
              0.8888888888888888,
              "#b5de2b"
             ],
             [
              1.0,
              "#fde725"
             ]
            ],
            "type": "heatmap"
           }
          ],
          "histogram2dcontour": [
           {
            "colorbar": {
             "outlinewidth": 1,
             "tickcolor": "rgb(36,36,36)",
             "ticks": "outside"
            },
            "colorscale": [
             [
              0.0,
              "#440154"
             ],
             [
              0.1111111111111111,
              "#482878"
             ],
             [
              0.2222222222222222,
              "#3e4989"
             ],
             [
              0.3333333333333333,
              "#31688e"
             ],
             [
              0.4444444444444444,
              "#26828e"
             ],
             [
              0.5555555555555556,
              "#1f9e89"
             ],
             [
              0.6666666666666666,
              "#35b779"
             ],
             [
              0.7777777777777778,
              "#6ece58"
             ],
             [
              0.8888888888888888,
              "#b5de2b"
             ],
             [
              1.0,
              "#fde725"
             ]
            ],
            "type": "histogram2dcontour"
           }
          ],
          "histogram2d": [
           {
            "colorbar": {
             "outlinewidth": 1,
             "tickcolor": "rgb(36,36,36)",
             "ticks": "outside"
            },
            "colorscale": [
             [
              0.0,
              "#440154"
             ],
             [
              0.1111111111111111,
              "#482878"
             ],
             [
              0.2222222222222222,
              "#3e4989"
             ],
             [
              0.3333333333333333,
              "#31688e"
             ],
             [
              0.4444444444444444,
              "#26828e"
             ],
             [
              0.5555555555555556,
              "#1f9e89"
             ],
             [
              0.6666666666666666,
              "#35b779"
             ],
             [
              0.7777777777777778,
              "#6ece58"
             ],
             [
              0.8888888888888888,
              "#b5de2b"
             ],
             [
              1.0,
              "#fde725"
             ]
            ],
            "type": "histogram2d"
           }
          ],
          "histogram": [
           {
            "marker": {
             "line": {
              "color": "white",
              "width": 0.6
             }
            },
            "type": "histogram"
           }
          ],
          "mesh3d": [
           {
            "colorbar": {
             "outlinewidth": 1,
             "tickcolor": "rgb(36,36,36)",
             "ticks": "outside"
            },
            "type": "mesh3d"
           }
          ],
          "parcoords": [
           {
            "line": {
             "colorbar": {
              "outlinewidth": 1,
              "tickcolor": "rgb(36,36,36)",
              "ticks": "outside"
             }
            },
            "type": "parcoords"
           }
          ],
          "pie": [
           {
            "automargin": true,
            "type": "pie"
           }
          ],
          "scatter3d": [
           {
            "line": {
             "colorbar": {
              "outlinewidth": 1,
              "tickcolor": "rgb(36,36,36)",
              "ticks": "outside"
             }
            },
            "marker": {
             "colorbar": {
              "outlinewidth": 1,
              "tickcolor": "rgb(36,36,36)",
              "ticks": "outside"
             }
            },
            "type": "scatter3d"
           }
          ],
          "scattercarpet": [
           {
            "marker": {
             "colorbar": {
              "outlinewidth": 1,
              "tickcolor": "rgb(36,36,36)",
              "ticks": "outside"
             }
            },
            "type": "scattercarpet"
           }
          ],
          "scattergeo": [
           {
            "marker": {
             "colorbar": {
              "outlinewidth": 1,
              "tickcolor": "rgb(36,36,36)",
              "ticks": "outside"
             }
            },
            "type": "scattergeo"
           }
          ],
          "scattergl": [
           {
            "marker": {
             "colorbar": {
              "outlinewidth": 1,
              "tickcolor": "rgb(36,36,36)",
              "ticks": "outside"
             }
            },
            "type": "scattergl"
           }
          ],
          "scattermapbox": [
           {
            "marker": {
             "colorbar": {
              "outlinewidth": 1,
              "tickcolor": "rgb(36,36,36)",
              "ticks": "outside"
             }
            },
            "type": "scattermapbox"
           }
          ],
          "scatterpolargl": [
           {
            "marker": {
             "colorbar": {
              "outlinewidth": 1,
              "tickcolor": "rgb(36,36,36)",
              "ticks": "outside"
             }
            },
            "type": "scatterpolargl"
           }
          ],
          "scatterpolar": [
           {
            "marker": {
             "colorbar": {
              "outlinewidth": 1,
              "tickcolor": "rgb(36,36,36)",
              "ticks": "outside"
             }
            },
            "type": "scatterpolar"
           }
          ],
          "scatter": [
           {
            "fillpattern": {
             "fillmode": "overlay",
             "size": 10,
             "solidity": 0.2
            },
            "type": "scatter"
           }
          ],
          "scatterternary": [
           {
            "marker": {
             "colorbar": {
              "outlinewidth": 1,
              "tickcolor": "rgb(36,36,36)",
              "ticks": "outside"
             }
            },
            "type": "scatterternary"
           }
          ],
          "surface": [
           {
            "colorbar": {
             "outlinewidth": 1,
             "tickcolor": "rgb(36,36,36)",
             "ticks": "outside"
            },
            "colorscale": [
             [
              0.0,
              "#440154"
             ],
             [
              0.1111111111111111,
              "#482878"
             ],
             [
              0.2222222222222222,
              "#3e4989"
             ],
             [
              0.3333333333333333,
              "#31688e"
             ],
             [
              0.4444444444444444,
              "#26828e"
             ],
             [
              0.5555555555555556,
              "#1f9e89"
             ],
             [
              0.6666666666666666,
              "#35b779"
             ],
             [
              0.7777777777777778,
              "#6ece58"
             ],
             [
              0.8888888888888888,
              "#b5de2b"
             ],
             [
              1.0,
              "#fde725"
             ]
            ],
            "type": "surface"
           }
          ],
          "table": [
           {
            "cells": {
             "fill": {
              "color": "rgb(237,237,237)"
             },
             "line": {
              "color": "white"
             }
            },
            "header": {
             "fill": {
              "color": "rgb(217,217,217)"
             },
             "line": {
              "color": "white"
             }
            },
            "type": "table"
           }
          ]
         },
         "layout": {
          "annotationdefaults": {
           "arrowhead": 0,
           "arrowwidth": 1
          },
          "autotypenumbers": "strict",
          "coloraxis": {
           "colorbar": {
            "outlinewidth": 1,
            "tickcolor": "rgb(36,36,36)",
            "ticks": "outside"
           }
          },
          "colorscale": {
           "diverging": [
            [
             0.0,
             "rgb(103,0,31)"
            ],
            [
             0.1,
             "rgb(178,24,43)"
            ],
            [
             0.2,
             "rgb(214,96,77)"
            ],
            [
             0.3,
             "rgb(244,165,130)"
            ],
            [
             0.4,
             "rgb(253,219,199)"
            ],
            [
             0.5,
             "rgb(247,247,247)"
            ],
            [
             0.6,
             "rgb(209,229,240)"
            ],
            [
             0.7,
             "rgb(146,197,222)"
            ],
            [
             0.8,
             "rgb(67,147,195)"
            ],
            [
             0.9,
             "rgb(33,102,172)"
            ],
            [
             1.0,
             "rgb(5,48,97)"
            ]
           ],
           "sequential": [
            [
             0.0,
             "#440154"
            ],
            [
             0.1111111111111111,
             "#482878"
            ],
            [
             0.2222222222222222,
             "#3e4989"
            ],
            [
             0.3333333333333333,
             "#31688e"
            ],
            [
             0.4444444444444444,
             "#26828e"
            ],
            [
             0.5555555555555556,
             "#1f9e89"
            ],
            [
             0.6666666666666666,
             "#35b779"
            ],
            [
             0.7777777777777778,
             "#6ece58"
            ],
            [
             0.8888888888888888,
             "#b5de2b"
            ],
            [
             1.0,
             "#fde725"
            ]
           ],
           "sequentialminus": [
            [
             0.0,
             "#440154"
            ],
            [
             0.1111111111111111,
             "#482878"
            ],
            [
             0.2222222222222222,
             "#3e4989"
            ],
            [
             0.3333333333333333,
             "#31688e"
            ],
            [
             0.4444444444444444,
             "#26828e"
            ],
            [
             0.5555555555555556,
             "#1f9e89"
            ],
            [
             0.6666666666666666,
             "#35b779"
            ],
            [
             0.7777777777777778,
             "#6ece58"
            ],
            [
             0.8888888888888888,
             "#b5de2b"
            ],
            [
             1.0,
             "#fde725"
            ]
           ]
          },
          "colorway": [
           "#1F77B4",
           "#FF7F0E",
           "#2CA02C",
           "#D62728",
           "#9467BD",
           "#8C564B",
           "#E377C2",
           "#7F7F7F",
           "#BCBD22",
           "#17BECF"
          ],
          "font": {
           "color": "rgb(36,36,36)"
          },
          "geo": {
           "bgcolor": "white",
           "lakecolor": "white",
           "landcolor": "white",
           "showlakes": true,
           "showland": true,
           "subunitcolor": "white"
          },
          "hoverlabel": {
           "align": "left"
          },
          "hovermode": "closest",
          "mapbox": {
           "style": "light"
          },
          "paper_bgcolor": "white",
          "plot_bgcolor": "white",
          "polar": {
           "angularaxis": {
            "gridcolor": "rgb(232,232,232)",
            "linecolor": "rgb(36,36,36)",
            "showgrid": false,
            "showline": true,
            "ticks": "outside"
           },
           "bgcolor": "white",
           "radialaxis": {
            "gridcolor": "rgb(232,232,232)",
            "linecolor": "rgb(36,36,36)",
            "showgrid": false,
            "showline": true,
            "ticks": "outside"
           }
          },
          "scene": {
           "xaxis": {
            "backgroundcolor": "white",
            "gridcolor": "rgb(232,232,232)",
            "gridwidth": 2,
            "linecolor": "rgb(36,36,36)",
            "showbackground": true,
            "showgrid": false,
            "showline": true,
            "ticks": "outside",
            "zeroline": false,
            "zerolinecolor": "rgb(36,36,36)"
           },
           "yaxis": {
            "backgroundcolor": "white",
            "gridcolor": "rgb(232,232,232)",
            "gridwidth": 2,
            "linecolor": "rgb(36,36,36)",
            "showbackground": true,
            "showgrid": false,
            "showline": true,
            "ticks": "outside",
            "zeroline": false,
            "zerolinecolor": "rgb(36,36,36)"
           },
           "zaxis": {
            "backgroundcolor": "white",
            "gridcolor": "rgb(232,232,232)",
            "gridwidth": 2,
            "linecolor": "rgb(36,36,36)",
            "showbackground": true,
            "showgrid": false,
            "showline": true,
            "ticks": "outside",
            "zeroline": false,
            "zerolinecolor": "rgb(36,36,36)"
           }
          },
          "shapedefaults": {
           "fillcolor": "black",
           "line": {
            "width": 0
           },
           "opacity": 0.3
          },
          "ternary": {
           "aaxis": {
            "gridcolor": "rgb(232,232,232)",
            "linecolor": "rgb(36,36,36)",
            "showgrid": false,
            "showline": true,
            "ticks": "outside"
           },
           "baxis": {
            "gridcolor": "rgb(232,232,232)",
            "linecolor": "rgb(36,36,36)",
            "showgrid": false,
            "showline": true,
            "ticks": "outside"
           },
           "bgcolor": "white",
           "caxis": {
            "gridcolor": "rgb(232,232,232)",
            "linecolor": "rgb(36,36,36)",
            "showgrid": false,
            "showline": true,
            "ticks": "outside"
           }
          },
          "title": {
           "x": 0.05
          },
          "xaxis": {
           "automargin": true,
           "gridcolor": "rgb(232,232,232)",
           "linecolor": "rgb(36,36,36)",
           "showgrid": false,
           "showline": true,
           "ticks": "outside",
           "title": {
            "standoff": 15
           },
           "zeroline": false,
           "zerolinecolor": "rgb(36,36,36)"
          },
          "yaxis": {
           "automargin": true,
           "gridcolor": "rgb(232,232,232)",
           "linecolor": "rgb(36,36,36)",
           "showgrid": false,
           "showline": true,
           "ticks": "outside",
           "title": {
            "standoff": 15
           },
           "zeroline": false,
           "zerolinecolor": "rgb(36,36,36)"
          }
         }
        },
        "title": {
         "text": "Protein Analysis"
        },
        "width": 1600,
        "xaxis": {
         "range": [
          -0.5,
          57.5
         ],
         "ticktext": [
          "A1AG1 (P02763)",
          "OXA1L (Q15070)",
          "ABCBB (O95342)",
          "ABCG2 (Q9UNQ0)",
          "MDR1 (P08183)",
          "MRP1 (P33527)",
          "S15A1 (P46059)",
          "S22A6 (Q4U2R8)",
          "S22A8 (Q8TCC7)",
          "S47A1 (Q96FL8)",
          "SO1B1 (Q9Y6L6)",
          "SO1B3 (Q9NPD5)",
          "AHR (P35869)",
          "GSTA1 (P08263)",
          "NR1I2 (O75469)",
          "NR1I3 (Q14994)",
          "ST1A1 (P50225)",
          "ADH1A (P07327)",
          "AL1A1 (P00352)",
          "AOFA (P21397)",
          "AOFB (P27338)",
          "AOXA (Q06278)",
          "ARK73 (O95154)",
          "CP1A2 (P05177)",
          "CP2B6 (P20813)",
          "CP2C9 (P11712)",
          "CP2CJ (P33261)",
          "CP2D6 (P10635)",
          "CP3A4 (P08684)",
          "DHI1 (P28845)",
          "FMO1 (Q01740)",
          "XDH (P47989)",
          "5HT2B (P41595)",
          "ACH10 (Q9GZZ6)",
          "ACHA3 (P32297)",
          "ACHA5 (P30532)",
          "ACHA7 (P36544)",
          "ACHA9 (Q9UGM1)",
          "ACM1 (P11229)",
          "ACM2 (P08172)",
          "ACM3 (P20309)",
          "ADA1A (P35348)",
          "ADA2A (P08913)",
          "ADRB1 (P08588)",
          "ADRB2 (P07550)",
          "ASM3A (Q92484)",
          "CAC1C (Q13936)",
          "CACB1 (Q02641)",
          "CNR1 (P21554)",
          "CNR2 (P34972)",
          "GBRA1 (P14867)",
          "HRH1 (P35367)",
          "KCNH2 (Q12809)",
          "SC6A2 (P23975)",
          "SC6A3 (Q01959)",
          "SC6A4 (P31645)",
          "SCN5A (Q14524)"
         ],
         "tickvals": [
          0,
          1,
          2,
          3,
          4,
          5,
          6,
          7,
          8,
          9,
          10,
          11,
          12,
          13,
          14,
          15,
          16,
          17,
          18,
          19,
          20,
          21,
          22,
          23,
          24,
          25,
          26,
          27,
          28,
          29,
          30,
          31,
          32,
          33,
          34,
          35,
          36,
          37,
          38,
          39,
          40,
          41,
          42,
          43,
          44,
          45,
          46,
          47,
          48,
          49,
          50,
          51,
          52,
          53,
          54,
          55,
          56
         ],
         "title": {
          "text": "Protein Name"
         }
        },
        "yaxis": {
         "title": {
          "text": "Resolution(A)"
         }
        }
       },
       "config": {
        "plotlyServerURL": "https://plot.ly"
       }
      },
      "text/html": "<div>                            <div id=\"2330d1ec-40e4-48ef-8b86-2efe6f976f2b\" class=\"plotly-graph-div\" style=\"height:600px; width:1600px;\"></div>            <script type=\"text/javascript\">                require([\"plotly\"], function(Plotly) {                    window.PLOTLYENV=window.PLOTLYENV || {};                                    if (document.getElementById(\"2330d1ec-40e4-48ef-8b86-2efe6f976f2b\")) {                    Plotly.newPlot(                        \"2330d1ec-40e4-48ef-8b86-2efe6f976f2b\",                        [{\"marker\":{\"color\":\"#11efb7\",\"line\":{\"color\":\"black\",\"width\":2},\"size\":10,\"symbol\":\"diamond-tall-open\"},\"mode\":\"markers\",\"name\":\"absorption (X-ray)\",\"opacity\":1,\"showlegend\":true,\"x\":[0.13897034460526697],\"y\":[1.8],\"type\":\"scatter\"},{\"marker\":{\"color\":\"#11efb7\",\"line\":{\"color\":\"black\",\"width\":2},\"size\":10,\"symbol\":\"asterisk\"},\"mode\":\"markers\",\"name\":\"absorption (AlphaFold)\",\"opacity\":0,\"showlegend\":false,\"x\":[0,1],\"y\":[2.0,2.0],\"type\":\"scatter\"},{\"marker\":{\"color\":\"#11efb7\",\"line\":{\"color\":\"black\",\"width\":2},\"size\":10,\"symbol\":\"circle\"},\"mode\":\"markers\",\"name\":\"absorption (EM)\",\"opacity\":1,\"showlegend\":true,\"x\":[1.1322103602840716,1.001897492192273],\"y\":[2.89,3.7],\"type\":\"scatter\"},{\"marker\":{\"color\":\"#9553ff\",\"line\":{\"color\":\"black\",\"width\":2},\"size\":10,\"symbol\":\"diamond-tall-open\"},\"mode\":\"markers\",\"name\":\"drug_transporter (X-ray)\",\"opacity\":1,\"showlegend\":true,\"x\":[4.993246120566772,4.928324978119969],\"y\":[1.5,2.1],\"type\":\"scatter\"},{\"marker\":{\"color\":\"#9553ff\",\"line\":{\"color\":\"black\",\"width\":2},\"size\":10,\"symbol\":\"asterisk\"},\"mode\":\"markers\",\"name\":\"drug_transporter (AlphaFold)\",\"opacity\":0,\"showlegend\":false,\"x\":[2,3,4,5,6,7,8,9,10,11],\"y\":[2.0,2.0,2.0,2.0,2.0,2.0,2.0,2.0,2.0,2.0],\"type\":\"scatter\"},{\"marker\":{\"color\":\"#9553ff\",\"line\":{\"color\":\"black\",\"width\":2},\"size\":10,\"symbol\":\"circle\"},\"mode\":\"markers\",\"name\":\"drug_transporter (EM)\",\"opacity\":1,\"showlegend\":true,\"x\":[2.115692892288223,1.917758540806545,1.8361468381232853,2.9672257032739395,2.8478220911027385,2.8738456538876664,2.959923988157159,3.0951554067474074,3.1393830222586603,2.8129092664981137,3.1522388179084526,2.972295570608834,3.03114903129343,2.8930668411256653,2.9747409216823404,3.0988281422027035,2.984349983631328,3.103782693768019,2.844927225877294,3.1579340641151457,2.929608123458895,2.806644039214693,2.8345382888709385,2.805808516800662,2.808387248931007,2.9149404075712226,2.934042321787147,4.131452455745531,4.083672070060379,3.845066927298517,4.01304953346101,4.020941010445746,4.094645836813624,4.1281697467701495,3.8272242429631964,4.049277443309502,4.170280559689852,5.896360661943354,5.998714823842161,5.941314687975196,9.863902667441476,9.941173703129461,10.096145032837331,9.970708985672223,9.866738872240871,9.965388458977284,10.930247826687586],\"y\":[3.66,3.7,3.5,3.1,3.04,3.1,3.4,3.2,3.4,3.7,3.39,3.12,4.1,3.2,3.58,4.0,3.5,3.51,3.49,3.56,3.09,3.56,3.6,3.1,3.78,3.78,3.09,3.58,4.14,3.6,3.9,3.2,3.6,3.5,3.5,3.4,3.6,3.5,3.9,4.1,3.19,3.73,2.92,3.53,3.73,3.6,2.97],\"type\":\"scatter\"},{\"marker\":{\"color\":\"#ffb418\",\"line\":{\"color\":\"black\",\"width\":2},\"size\":10,\"symbol\":\"diamond-tall-open\"},\"mode\":\"markers\",\"name\":\"metabolism (X-ray)\",\"opacity\":1,\"showlegend\":true,\"x\":[12.192705375923182,12.940433270899883,12.941085820399262,12.939789535404293,13.166256520022033,13.18533235316314,13.160540831025907,12.908415037338036,13.109130042360958,12.971837427643134,13.170596780024988,12.870719621851931,13.065899137065625,12.976254712399959,12.887530283436003,12.99433337956562,13.073122691813419,12.849019601773012,12.895051662697652,12.824245275857377,13.004605896546483,12.830184865283938,13.03969599212309,13.186047606644816,13.198605227282682,12.846054204057218,13.14525534842262,13.064123218297281,12.868713036737267,12.871169493858796,13.032129705912805,12.954652533388463,12.857726324476166,13.016624644848758,13.081267331151546,13.172394210024954,12.914350679110653,13.047641109067554,13.072293948172602,12.825513901601827,14.04736988670729,14.161166337225472,13.934114545357343,13.971277390598583,14.098747687410006,13.943339253369919,13.998640723480667,13.964221786802975,14.052256033883559,14.036979781798093,14.047383053668707,13.890638150745996,13.929276461974839,14.008520738933422,13.85718837321898,14.00498305358249,14.060547098545676,13.831105687696802,14.136675132465312,13.932329973856747,13.999830502561244,13.843064738506751,13.959703700296592,14.107026323671835,13.811291388208586,13.935859767601947,13.863908994528742,14.045463678297976,13.842731281162527,13.971859227116886,13.800528578891408,13.888975717463767,14.119801687878269,13.929712498597322,14.156198846608467,14.000663855468094,14.015920562729075,13.816678428451963,13.855698680995935,13.845481996408052,14.195247928488245,14.066149407120847,14.185377538570775,14.162292684530982,13.94551662821627,13.900214084449821,14.095475277317071,14.183579603358798,13.814692495933924,14.193598098351602,14.010015891716472,14.04539391926982,13.838266498143316,14.812500150138744,15.023063075262618,15.877667491954288,15.915704280206587,16.182179805212908,16.047593170444546,15.932103807330263,16.195227522941416,16.165306773237184,15.854405314185714,16.17560975428715,15.886021174911043,15.976470196739962],\"y\":[3.3,2.33,1.6,1.55,1.7,2.0,1.29,2.46,2.03,1.56,2.1,1.93,2.19,1.87,1.88,2.0,2.6,1.5,1.8,1.3,1.86,2.0,2.1,1.75,1.8,2.07,1.85,1.95,1.8,2.51,2.38,1.98,2.2,1.75,2.13,2.7,1.79,2.2,1.86,2.5,2.15,2.3,2.0,2.5,2.26,2.48,2.05,2.2,2.1,2.25,2.76,2.2,2.8,2.8,3.14,2.0,2.25,2.58,2.4,2.25,2.3,2.3,2.37,2.55,2.7,2.15,2.0,2.8,2.67,2.8,2.8,2.0,2.1,2.8,2.8,2.22,2.27,2.3,2.7,1.85,2.27,2.15,2.25,2.8,2.26,2.55,2.05,2.65,1.9,2.45,2.28,2.56,2.52,2.6,2.7,2.36,2.56,2.36,2.3,2.7,2.35,2.5,1.9,2.3,2.3,2.0],\"type\":\"scatter\"},{\"marker\":{\"color\":\"#ffb418\",\"line\":{\"color\":\"black\",\"width\":2},\"size\":10,\"symbol\":\"asterisk\"},\"mode\":\"markers\",\"name\":\"metabolism (AlphaFold)\",\"opacity\":0,\"showlegend\":false,\"x\":[12,13,14,15,16],\"y\":[2.0,2.0,2.0,2.0,2.0],\"type\":\"scatter\"},{\"marker\":{\"color\":\"#ffb418\",\"line\":{\"color\":\"black\",\"width\":2},\"size\":10,\"symbol\":\"circle\"},\"mode\":\"markers\",\"name\":\"metabolism (EM)\",\"opacity\":1,\"showlegend\":true,\"x\":[11.844018131896377],\"y\":[2.85],\"type\":\"scatter\"},{\"marker\":{\"color\":\"#d07c09\",\"line\":{\"color\":\"black\",\"width\":2},\"size\":10,\"symbol\":\"diamond-tall-open\"},\"mode\":\"markers\",\"name\":\"metabolism_redox (X-ray)\",\"opacity\":1,\"showlegend\":true,\"x\":[17.01065936205705,17.17927535645111,18.1318151118847,17.872331321869083,18.15433198199017,17.900966895633438,18.14899281850318,18.128260003051896,18.139806055909098,17.80758894540314,17.818498125042346,17.99306064009844,18.104322816181043,17.96548721114957,17.800068137427886,18.013243888514133,18.043155780388233,18.04157483077779,17.942490251311018,19.075749536486562,19.11793849279961,19.156962096741573,19.086119337237644,20.11839973281168,20.116930397372272,19.817379062613924,20.086076441247055,19.98594204951446,19.847729641640324,20.049981902025305,19.830640748493764,19.915287320479997,19.853134287390414,20.194661363923032,20.167211775038023,20.022104233496776,19.816238254533967,19.953852051517433,20.07684732861332,20.11028586749669,20.093735784889834,19.872069151010308,20.175637060770708,20.13347711807256,19.967845649473873,19.93353571126364,19.812212580606506,20.1625543014741,19.830157674653883,20.1251211676487,19.836523405300067,19.981857741606834,19.87476934283583,20.015717121767203,20.022264754273785,20.08948447586099,20.064554695158247,20.091268923873336,20.14127286151524,19.9293505029636,20.127966339712543,20.022810779147264,20.087069685441286,19.927937187349336,20.109457315499363,20.167606752560122,20.061478044648144,20.12834987669441,20.065321383346678,20.001725462718348,19.981488619653152,20.121769383347136,19.963453908485622,20.090265936484766,19.815943664646543,20.889082702908325,21.036923994893563,21.069049242753564,21.085220019114022,20.836205904961037,21.120669939437626,21.807224289617597,22.97979391355432,23.86146773170527,24.052050092409072,24.13472727831634,23.878239357253044,23.998003008167593,24.026716695495583,23.844134738135093,23.936298077487994,23.973773206020123,24.099677491470814,24.171829480765954,24.189930076532026,23.94374434113918,25.076250965860186,24.928930909242837,25.14513831037852,25.059552044858176,25.168937503546783,25.040267946076085,24.80451617258253,24.99545209570566,25.12619252047105,24.920041822244592,25.159966546602977,25.11885777197425,25.128145463005126,25.94472923820158,26.895777497173526,26.94830023048582,27.01110246857915,27.04860457783803,27.131331069820362,27.111471748257454,26.961743977051686,26.948267014925193,26.940817128108176,27.18826192735599,27.13470983603726,26.873632830370948,27.064672215830516,27.0632018035147,28.18783812791248,28.14778142287973,28.17946847595254,28.169320525321858,27.95865987911754,27.97811874614223,27.88323388180341,27.822153316804975,28.160822685502602,27.95061123671689,28.0481668161107,27.99091163519233,28.07035913650611,27.972316071667034,27.813278642338666,27.964549457986507,28.041553673651173,28.09979145750673,27.929739406564856,28.165264018510637,28.19749789716673,28.18794801721937,28.17501714449321,28.09643273957434,27.821926513769434,28.15629468114687,28.150379332101224,27.92274920213448,27.885233815086192,27.895037360893568,27.8482931268324,28.111591571749315,28.028499750156236,27.96720176446833,28.16854935392725,27.946443291254784,28.041340795562892,27.848309050934972,28.07194043504363,28.06571346566701,28.062729568474364,28.130597432092095,27.842230665221276,27.909998570682657,28.18450849789001,28.074018107660933,27.99502951499106,28.144092189719515,27.82201038291858,27.84541318385192,28.030833512483976,28.1984410080912,27.83840811470829,27.81629055035037,28.113456735035296,27.967112890909156,27.940523163593024,27.954598498443698,28.139670783288903,27.928231287570906,27.874011668405778,27.99407139910434,28.161644436164707,28.02936717703553,27.84197830073398,27.86797812671632,28.08910732740381,28.103487076503093,27.927827532063933,27.871015796352935,28.15703686296968,28.09072796650671,28.156773597436857,28.054796001440845,28.137261739141124,28.151799720711505,28.040583398737567,28.058425084690544,29.119713072893845,28.82605396923492,28.9033003220582,29.120362695964722,29.115970308331075,29.02273603741166,29.189391235199448,29.036677927746183,29.044684440903705,29.002047672012104,29.138684329887255,28.98477404325432,29.139923264904382,28.818133292766802,29.10292570123373,29.057918102414142,29.019622019069715,29.07551195542967,28.89374151174228,29.120048210686818,29.16893533821545,29.17362780941219,28.961393995399735,29.165047643269908,28.990600475668195,29.19648457427252,28.864874459707277,29.16240258372632,29.153947735170515,29.036624278170194,28.82626699494947,29.050188471566358,29.007088038887606,29.08403759709519,29.162043422869335,29.19823871017295,28.83816880917408,28.884824252301257,28.806261121970724,29.055625062832345,31.128861279016917,31.088995529139215],\"y\":[2.49,2.5,1.8,1.6,1.6,1.8,2.07,1.74,1.8,1.9,1.85,1.85,1.95,1.7,2.05,2.1,2.0,1.6,1.7,2.2,3.0,3.15,2.17,2.0,2.2,1.83,1.9,1.8,1.6,1.65,2.12,2.07,3.1,2.4,1.7,2.3,3.0,2.3,1.89,1.8,2.42,1.8,1.8,1.6,1.7,2.3,1.7,2.3,1.8,2.3,2.1,1.7,2.2,2.1,1.7,2.5,1.7,2.06,2.0,2.2,1.7,1.7,1.6,1.7,2.0,2.3,2.3,1.9,1.6,2.1,1.66,2.2,2.2,2.4,2.2,2.7,2.6,3.39,2.7,3.1,2.6,3.0,1.95,2.1,2.0,2.8,2.24,2.0,2.2,1.93,2.27,2.8,1.76,2.1,2.03,2.99,2.6,2.23,3.12,2.3,2.48,2.0,2.3,2.0,2.45,2.0,2.55,2.0,2.9,2.87,2.67,2.39,3.0,2.85,2.6,2.26,2.35,2.1,2.5,2.4,2.71,2.75,2.39,3.3,2.4,2.15,2.05,2.05,2.15,2.2,2.25,2.1,2.65,2.35,2.2,2.2,1.95,1.7,2.7,2.7,2.6,2.45,2.5,2.95,2.76,2.4,2.6,2.85,2.5,2.9,2.72,2.3,2.05,2.8,2.65,2.74,2.75,2.23,2.8,2.25,2.15,1.93,2.25,2.8,2.76,2.0,2.5,2.6,2.42,2.75,2.5,2.75,2.78,2.45,2.25,2.75,2.35,2.5,2.9,2.4,2.7,2.4,2.2,2.3,2.65,2.5,2.75,2.25,2.57,2.7,2.52,2.25,2.38,2.67,2.2,2.6,2.5,2.79,2.55,2.65,2.55,2.5,2.55,1.91,2.73,2.2,2.16,1.96,2.35,2.35,2.35,3.2,2.35,2.35,2.37,2.5,1.8,2.07,2.19,2.72,2.35,2.6,2.45,1.8,1.55,2.11,2.3,3.1,1.9,2.69,2.3,2.25,2.6,2.5,2.55,3.0,2.65,2.3,2.19,2.3,2.35,2.8,2.6,3.59],\"type\":\"scatter\"},{\"marker\":{\"color\":\"#d07c09\",\"line\":{\"color\":\"black\",\"width\":2},\"size\":10,\"symbol\":\"asterisk\"},\"mode\":\"markers\",\"name\":\"metabolism_redox (AlphaFold)\",\"opacity\":0,\"showlegend\":false,\"x\":[17,18,19,20,21,22,23,24,25,26,27,28,29,30,31],\"y\":[2.0,2.0,2.0,2.0,2.0,2.0,2.0,2.0,2.0,2.0,2.0,2.0,2.0,2.0,2.0],\"type\":\"scatter\"},{\"marker\":{\"color\":\"#d07c09\",\"line\":{\"color\":\"black\",\"width\":2},\"size\":10,\"symbol\":\"circle\"},\"mode\":\"markers\",\"name\":\"metabolism_redox (EM)\",\"opacity\":1,\"showlegend\":true,\"x\":[18.0425385548498,18.043219798090522,18.164913888550952,20.988723975236653],\"y\":[2.64,3.4,2.84,2.92],\"type\":\"scatter\"},{\"marker\":{\"color\":\"#5e2bcb\",\"line\":{\"color\":\"black\",\"width\":2},\"size\":10,\"symbol\":\"diamond-tall-open\"},\"mode\":\"markers\",\"name\":\"toxicity (X-ray)\",\"opacity\":1,\"showlegend\":true,\"x\":[32.10607453293855,31.947744773868095,31.89825396541023,32.184468579558114,32.147721550639474,32.04739365060081,31.84056799265803,31.93236489029737,33.88216971426699,33.97663233430907,34.05737346492414,36.08924289706619,35.82600125202351,35.96941991738055,36.03915408577372,35.868666953210344,35.868267663474334,37.11372623016448,36.930886086885394,37.09168307221026,37.086715727968205,38.19401934811052,37.83317849053639,37.814428687934296,37.91290002422809,38.153845481554725,38.83470584885965,39.160433996583045,38.8978500788272,38.86088373571671,39.18202987037931,39.045535344875695,39.126338075555395,39.10743843883543,42.04237685849079,42.11301508748331,42.964072495540655,42.80917598429613,43.02633400773981,43.11594381358943,44.13563412324801,43.89612287409577,44.017949064262275,44.103190749432294,44.15282542030618,43.95812058828624,44.13602584620042,43.84783163742789,44.068660276681115,44.03907985578253,43.924172540623566,44.038981167678564,44.06232858645983,43.93244619590042,44.146908813589235,44.12963426492331,43.809336062604174,43.96364686098694,43.97353654764056,43.92733715474191,44.12375429602557,44.15963345545404,44.046665029628535,43.90045909247712,44.16033132241347,43.81004988072731,43.94063751558396,44.15567359526959,44.0345286086296,43.961509574591894,43.94091516304161,44.154131840941034,44.03157356678258,44.174040939504366,44.07814827055668,44.13993962818728,44.91358314409518,44.85676993305924,46.1427651618659,46.10633157605978,46.10077791072109,45.93798341458453,45.94799079058151,46.174143941536954,46.099580360232935,46.051403270199636,46.17425983405401,45.915568021140494,46.1054823979154,46.16959847755121,46.15523939136782,45.93404462501429,46.152357642235756,47.820645211799636,48.13212460870371,47.91799884040659,47.993052656296406,48.015837812957145,47.82817483934611,48.19995878820077,48.96272882182539,49.00661606444194,50.19877460814039,49.97239561166397,51.13949906501013,51.92055678977195,51.966176657021364,52.155319205214504,52.01438851064249,55.194317310881466,55.11542181908927,55.008247555712785,54.87776116048483,55.09935650399948,55.10961611411476,54.95774494781835,54.837039622918226,55.07498150500879,54.834961617671915,54.95695064686288,54.997640121047354,56.18282658028857,55.91444706737808,56.08664969367808,55.83833631197195,55.81855881156282,56.159616149906505],\"y\":[3.19,2.92,3.1,2.9,3.0,2.8,2.7,3.1,1.9,1.93,2.0,2.15,2.85,2.4,2.2,2.38,2.38,1.8,1.71,2.7,2.26,2.33,2.5,2.17,2.55,2.7,3.5,3.7,2.3,2.95,3.0,2.6,2.5,3.0,3.2,2.7,3.13,2.5,2.6,2.7,3.2,2.7,3.2,3.2,3.8,2.48,3.3,2.4,3.1,3.99,2.8,3.4,2.84,2.84,3.16,3.5,3.5,3.2,2.79,3.1,1.9,3.4,3.4,2.7,2.6,2.5,2.4,2.9,3.4,2.8,3.1,3.2,2.96,3.7,3.2,3.4,3.0,2.6,2.0,2.0,1.45,1.6,2.1,2.55,1.65,2.0,2.4,2.4,1.65,1.7,1.75,1.7,2.0,2.95,2.8,2.7,2.8,3.25,2.6,3.29,2.8,3.2,3.45,3.2,3.1,1.5,1.96,2.12,2.6,3.4,3.62,3.49,3.15,3.14,3.53,4.53,3.8,3.24,4.05,6.3,4.7,2.69,2.25,2.8,3.84,1.35,2.2],\"type\":\"scatter\"},{\"marker\":{\"color\":\"#5e2bcb\",\"line\":{\"color\":\"black\",\"width\":2},\"size\":10,\"symbol\":\"asterisk\"},\"mode\":\"markers\",\"name\":\"toxicity (AlphaFold)\",\"opacity\":0,\"showlegend\":false,\"x\":[32,33,34,35,36,37,38,39,40,41,42,43,44,45,46,47,48,49,50,51,52,53,54,55,56],\"y\":[2.0,2.0,2.0,2.0,2.0,2.0,2.0,2.0,2.0,2.0,2.0,2.0,2.0,2.0,2.0,2.0,2.0,2.0,2.0,2.0,2.0,2.0,2.0,2.0,2.0],\"type\":\"scatter\"},{\"marker\":{\"color\":\"#5e2bcb\",\"line\":{\"color\":\"black\",\"width\":2},\"size\":10,\"symbol\":\"circle\"},\"mode\":\"markers\",\"name\":\"toxicity (EM)\",\"opacity\":1,\"showlegend\":true,\"x\":[32.16115447446954,32.01952282715602,32.0561683620835,33.92637543181279,33.96802977343591,36.15656145309078,36.096974972282325,35.944156963737704,36.045841494319646,35.9372092128749,36.187768224418136,35.81645047828947,36.101785050222624,36.11929265034755,36.00117876181724,35.991725770445875,37.91312460170344,38.88132512602505,38.94836270662976,39.0581713732453,39.05308890831674,38.800332833493876,39.06932892907981,39.994564843466534,39.87224039612982,39.8602811597956,39.82103453816763,40.902887224077496,41.14051140952366,42.05317727815582,41.93872664628384,42.155700682614,41.81048506467279,42.1376923809313,41.93136315613425,41.85967192592922,44.18053187306028,43.978448435005035,44.029425384069334,43.822387646245915,44.07387412402362,44.1887869795175,45.90989676840586,46.09609816491745,46.946612500445354,47.172274730415104,46.92054283382632,46.822365150231775,47.08075703830332,48.04218071528896,48.19855076752568,48.14402540705335,47.82468671919148,49.18105631621909,48.80685775655431,49.0162635911662,49.1972860488658,49.05998514552391,49.15921637075627,49.87550457341259,50.170964779417666,49.95630963158913,49.83255422163243,50.17598266457583,49.86248348534096,50.13659644039238,49.811607861833515,50.04145529119761,50.06178167839421,49.85273477690644,50.18029845064064,49.92934921501398,49.84918930475501,50.03211537017503,49.945869481539475,49.80367527637322,49.86109000016582,49.94256714625184,49.8524017831459,50.0893523099596,49.91917873688235,49.92280072447316,50.14328971944294,49.99216183358602,50.115719247817275,50.14196495581414,51.04076382196706,52.00382944213825,52.08744655612843,52.11768831422664,54.87425547706548,54.97892723009974,55.1087262738522,55.01467263874681,54.98259188827892,54.97143759934661,54.93897960987396,55.12082052156568,55.11167113187445,54.946654512713245,55.155586151784355,55.18107235220804,54.84396532609048,54.95061441855968,54.9214104672686,55.909348768222436,55.96135080852347],\"y\":[2.9,3.3,2.7,3.34,3.87,2.3,3.4,3.02,4.4,2.8,2.7,3.6,3.0,2.85,3.18,2.7,3.3,3.22,3.32,3.6,3.21,4.0,3.16,2.79,2.69,2.56,2.69,3.1,2.6,3.4,3.0,3.2,4.1,3.47,3.4,3.6,3.4,3.8,3.26,3.82,3.2,3.8,3.4,3.1,2.8,3.1,3.3,3.0,3.0,3.0,2.8,3.36,3.0,2.97,2.84,3.08,2.9,2.98,3.2,3.8,3.8,3.1,3.04,3.69,3.26,3.58,3.2,2.55,3.49,3.5,2.92,3.23,3.3,3.04,2.86,2.71,2.98,2.65,2.9,3.12,3.0,3.0,2.7,3.0,2.79,2.9,3.3,4.0,3.8,3.7,3.5,3.65,4.2,3.0,3.3,3.9,3.9,3.5,4.1,3.8,4.1,3.3,3.6,4.1,4.3,3.3,3.3],\"type\":\"scatter\"}],                        {\"annotations\":[{\"arrowhead\":7,\"ax\":20,\"ay\":-10,\"showarrow\":true,\"text\":\"90.55%\",\"x\":0,\"y\":-0.5},{\"arrowhead\":7,\"ax\":20,\"ay\":-30,\"showarrow\":true,\"text\":\"99.77%\",\"x\":1,\"y\":-0.5},{\"arrowhead\":7,\"ax\":20,\"ay\":-50,\"showarrow\":true,\"text\":\"98.64%\",\"x\":2,\"y\":-0.5},{\"arrowhead\":7,\"ax\":20,\"ay\":-70,\"showarrow\":true,\"text\":\"99.79%\",\"x\":3,\"y\":-0.5},{\"arrowhead\":7,\"ax\":20,\"ay\":-90,\"showarrow\":true,\"text\":\"99.66%\",\"x\":4,\"y\":-0.5},{\"arrowhead\":7,\"ax\":20,\"ay\":-10,\"showarrow\":true,\"text\":\"15.74%\",\"x\":5,\"y\":-0.5},{\"arrowhead\":7,\"ax\":20,\"ay\":-30,\"showarrow\":true,\"text\":\"99.86%\",\"x\":6,\"y\":-0.5},{\"arrowhead\":7,\"ax\":20,\"ay\":-50,\"showarrow\":true,\"text\":\"99.86%\",\"x\":10,\"y\":-0.5},{\"arrowhead\":7,\"ax\":20,\"ay\":-70,\"showarrow\":true,\"text\":\"99.86%\",\"x\":11,\"y\":-0.5},{\"arrowhead\":7,\"ax\":20,\"ay\":-90,\"showarrow\":true,\"text\":\"40.45%\",\"x\":12,\"y\":-0.5},{\"arrowhead\":7,\"ax\":20,\"ay\":-10,\"showarrow\":true,\"text\":\"92.93%\",\"x\":13,\"y\":-0.5},{\"arrowhead\":7,\"ax\":20,\"ay\":-30,\"showarrow\":true,\"text\":\"69.72%\",\"x\":14,\"y\":-0.5},{\"arrowhead\":7,\"ax\":20,\"ay\":-50,\"showarrow\":true,\"text\":\"70.74%\",\"x\":15,\"y\":-0.5},{\"arrowhead\":7,\"ax\":20,\"ay\":-70,\"showarrow\":true,\"text\":\"99.63%\",\"x\":16,\"y\":-0.5},{\"arrowhead\":7,\"ax\":20,\"ay\":-90,\"showarrow\":true,\"text\":\"99.47%\",\"x\":17,\"y\":-0.5},{\"arrowhead\":7,\"ax\":20,\"ay\":-10,\"showarrow\":true,\"text\":\"99.80%\",\"x\":18,\"y\":-0.5},{\"arrowhead\":7,\"ax\":20,\"ay\":-30,\"showarrow\":true,\"text\":\"98.48%\",\"x\":19,\"y\":-0.5},{\"arrowhead\":7,\"ax\":20,\"ay\":-50,\"showarrow\":true,\"text\":\"99.72%\",\"x\":20,\"y\":-0.5},{\"arrowhead\":7,\"ax\":20,\"ay\":-70,\"showarrow\":true,\"text\":\"99.93%\",\"x\":21,\"y\":-0.5},{\"arrowhead\":7,\"ax\":20,\"ay\":-90,\"showarrow\":true,\"text\":\"97.58%\",\"x\":22,\"y\":-0.5},{\"arrowhead\":7,\"ax\":20,\"ay\":-10,\"showarrow\":true,\"text\":\"94.77%\",\"x\":23,\"y\":-0.5},{\"arrowhead\":7,\"ax\":20,\"ay\":-30,\"showarrow\":true,\"text\":\"94.96%\",\"x\":24,\"y\":-0.5},{\"arrowhead\":7,\"ax\":20,\"ay\":-50,\"showarrow\":true,\"text\":\"95.15%\",\"x\":25,\"y\":-0.5},{\"arrowhead\":7,\"ax\":20,\"ay\":-70,\"showarrow\":true,\"text\":\"95.10%\",\"x\":26,\"y\":-0.5},{\"arrowhead\":7,\"ax\":20,\"ay\":-90,\"showarrow\":true,\"text\":\"92.96%\",\"x\":27,\"y\":-0.5},{\"arrowhead\":7,\"ax\":20,\"ay\":-10,\"showarrow\":true,\"text\":\"95.65%\",\"x\":28,\"y\":-0.5},{\"arrowhead\":7,\"ax\":20,\"ay\":-30,\"showarrow\":true,\"text\":\"91.83%\",\"x\":29,\"y\":-0.5},{\"arrowhead\":7,\"ax\":20,\"ay\":-50,\"showarrow\":true,\"text\":\"99.89%\",\"x\":31,\"y\":-0.5},{\"arrowhead\":7,\"ax\":20,\"ay\":-70,\"showarrow\":true,\"text\":\"44.84%\",\"x\":32,\"y\":-0.5},{\"arrowhead\":7,\"ax\":20,\"ay\":-90,\"showarrow\":true,\"text\":\"18.30%\",\"x\":34,\"y\":-0.5},{\"arrowhead\":7,\"ax\":20,\"ay\":-10,\"showarrow\":true,\"text\":\"54.00%\",\"x\":36,\"y\":-0.5},{\"arrowhead\":7,\"ax\":20,\"ay\":-30,\"showarrow\":true,\"text\":\"44.05%\",\"x\":37,\"y\":-0.5},{\"arrowhead\":7,\"ax\":20,\"ay\":-50,\"showarrow\":true,\"text\":\"43.17%\",\"x\":38,\"y\":-0.5},{\"arrowhead\":7,\"ax\":20,\"ay\":-70,\"showarrow\":true,\"text\":\"75.74%\",\"x\":39,\"y\":-0.5},{\"arrowhead\":7,\"ax\":20,\"ay\":-90,\"showarrow\":true,\"text\":\"92.20%\",\"x\":40,\"y\":-0.5},{\"arrowhead\":7,\"ax\":20,\"ay\":-10,\"showarrow\":true,\"text\":\"71.89%\",\"x\":41,\"y\":-0.5},{\"arrowhead\":7,\"ax\":20,\"ay\":-30,\"showarrow\":true,\"text\":\"87.00%\",\"x\":42,\"y\":-0.5},{\"arrowhead\":7,\"ax\":20,\"ay\":-50,\"showarrow\":true,\"text\":\"72.33%\",\"x\":43,\"y\":-0.5},{\"arrowhead\":7,\"ax\":20,\"ay\":-70,\"showarrow\":true,\"text\":\"56.36%\",\"x\":44,\"y\":-0.5},{\"arrowhead\":7,\"ax\":20,\"ay\":-90,\"showarrow\":true,\"text\":\"90.95%\",\"x\":45,\"y\":-0.5},{\"arrowhead\":7,\"ax\":20,\"ay\":-10,\"showarrow\":true,\"text\":\"9.93%\",\"x\":46,\"y\":-0.5},{\"arrowhead\":7,\"ax\":20,\"ay\":-30,\"showarrow\":true,\"text\":\"99.83%\",\"x\":47,\"y\":-0.5},{\"arrowhead\":7,\"ax\":20,\"ay\":-50,\"showarrow\":true,\"text\":\"53.74%\",\"x\":48,\"y\":-0.5},{\"arrowhead\":7,\"ax\":20,\"ay\":-70,\"showarrow\":true,\"text\":\"84.20%\",\"x\":49,\"y\":-0.5},{\"arrowhead\":7,\"ax\":20,\"ay\":-90,\"showarrow\":true,\"text\":\"53.11%\",\"x\":50,\"y\":-0.5},{\"arrowhead\":7,\"ax\":20,\"ay\":-10,\"showarrow\":true,\"text\":\"64.43%\",\"x\":51,\"y\":-0.5},{\"arrowhead\":7,\"ax\":20,\"ay\":-30,\"showarrow\":true,\"text\":\"48.96%\",\"x\":52,\"y\":-0.5},{\"arrowhead\":7,\"ax\":20,\"ay\":-50,\"showarrow\":true,\"text\":\"87.25%\",\"x\":55,\"y\":-0.5},{\"arrowhead\":7,\"ax\":20,\"ay\":-70,\"showarrow\":true,\"text\":\"29.35%\",\"x\":56,\"y\":-0.5}],\"height\":600,\"template\":{\"data\":{\"barpolar\":[{\"marker\":{\"line\":{\"color\":\"white\",\"width\":0.5},\"pattern\":{\"fillmode\":\"overlay\",\"size\":10,\"solidity\":0.2}},\"type\":\"barpolar\"}],\"bar\":[{\"error_x\":{\"color\":\"rgb(36,36,36)\"},\"error_y\":{\"color\":\"rgb(36,36,36)\"},\"marker\":{\"line\":{\"color\":\"white\",\"width\":0.5},\"pattern\":{\"fillmode\":\"overlay\",\"size\":10,\"solidity\":0.2}},\"type\":\"bar\"}],\"carpet\":[{\"aaxis\":{\"endlinecolor\":\"rgb(36,36,36)\",\"gridcolor\":\"white\",\"linecolor\":\"white\",\"minorgridcolor\":\"white\",\"startlinecolor\":\"rgb(36,36,36)\"},\"baxis\":{\"endlinecolor\":\"rgb(36,36,36)\",\"gridcolor\":\"white\",\"linecolor\":\"white\",\"minorgridcolor\":\"white\",\"startlinecolor\":\"rgb(36,36,36)\"},\"type\":\"carpet\"}],\"choropleth\":[{\"colorbar\":{\"outlinewidth\":1,\"tickcolor\":\"rgb(36,36,36)\",\"ticks\":\"outside\"},\"type\":\"choropleth\"}],\"contourcarpet\":[{\"colorbar\":{\"outlinewidth\":1,\"tickcolor\":\"rgb(36,36,36)\",\"ticks\":\"outside\"},\"type\":\"contourcarpet\"}],\"contour\":[{\"colorbar\":{\"outlinewidth\":1,\"tickcolor\":\"rgb(36,36,36)\",\"ticks\":\"outside\"},\"colorscale\":[[0.0,\"#440154\"],[0.1111111111111111,\"#482878\"],[0.2222222222222222,\"#3e4989\"],[0.3333333333333333,\"#31688e\"],[0.4444444444444444,\"#26828e\"],[0.5555555555555556,\"#1f9e89\"],[0.6666666666666666,\"#35b779\"],[0.7777777777777778,\"#6ece58\"],[0.8888888888888888,\"#b5de2b\"],[1.0,\"#fde725\"]],\"type\":\"contour\"}],\"heatmapgl\":[{\"colorbar\":{\"outlinewidth\":1,\"tickcolor\":\"rgb(36,36,36)\",\"ticks\":\"outside\"},\"colorscale\":[[0.0,\"#440154\"],[0.1111111111111111,\"#482878\"],[0.2222222222222222,\"#3e4989\"],[0.3333333333333333,\"#31688e\"],[0.4444444444444444,\"#26828e\"],[0.5555555555555556,\"#1f9e89\"],[0.6666666666666666,\"#35b779\"],[0.7777777777777778,\"#6ece58\"],[0.8888888888888888,\"#b5de2b\"],[1.0,\"#fde725\"]],\"type\":\"heatmapgl\"}],\"heatmap\":[{\"colorbar\":{\"outlinewidth\":1,\"tickcolor\":\"rgb(36,36,36)\",\"ticks\":\"outside\"},\"colorscale\":[[0.0,\"#440154\"],[0.1111111111111111,\"#482878\"],[0.2222222222222222,\"#3e4989\"],[0.3333333333333333,\"#31688e\"],[0.4444444444444444,\"#26828e\"],[0.5555555555555556,\"#1f9e89\"],[0.6666666666666666,\"#35b779\"],[0.7777777777777778,\"#6ece58\"],[0.8888888888888888,\"#b5de2b\"],[1.0,\"#fde725\"]],\"type\":\"heatmap\"}],\"histogram2dcontour\":[{\"colorbar\":{\"outlinewidth\":1,\"tickcolor\":\"rgb(36,36,36)\",\"ticks\":\"outside\"},\"colorscale\":[[0.0,\"#440154\"],[0.1111111111111111,\"#482878\"],[0.2222222222222222,\"#3e4989\"],[0.3333333333333333,\"#31688e\"],[0.4444444444444444,\"#26828e\"],[0.5555555555555556,\"#1f9e89\"],[0.6666666666666666,\"#35b779\"],[0.7777777777777778,\"#6ece58\"],[0.8888888888888888,\"#b5de2b\"],[1.0,\"#fde725\"]],\"type\":\"histogram2dcontour\"}],\"histogram2d\":[{\"colorbar\":{\"outlinewidth\":1,\"tickcolor\":\"rgb(36,36,36)\",\"ticks\":\"outside\"},\"colorscale\":[[0.0,\"#440154\"],[0.1111111111111111,\"#482878\"],[0.2222222222222222,\"#3e4989\"],[0.3333333333333333,\"#31688e\"],[0.4444444444444444,\"#26828e\"],[0.5555555555555556,\"#1f9e89\"],[0.6666666666666666,\"#35b779\"],[0.7777777777777778,\"#6ece58\"],[0.8888888888888888,\"#b5de2b\"],[1.0,\"#fde725\"]],\"type\":\"histogram2d\"}],\"histogram\":[{\"marker\":{\"line\":{\"color\":\"white\",\"width\":0.6}},\"type\":\"histogram\"}],\"mesh3d\":[{\"colorbar\":{\"outlinewidth\":1,\"tickcolor\":\"rgb(36,36,36)\",\"ticks\":\"outside\"},\"type\":\"mesh3d\"}],\"parcoords\":[{\"line\":{\"colorbar\":{\"outlinewidth\":1,\"tickcolor\":\"rgb(36,36,36)\",\"ticks\":\"outside\"}},\"type\":\"parcoords\"}],\"pie\":[{\"automargin\":true,\"type\":\"pie\"}],\"scatter3d\":[{\"line\":{\"colorbar\":{\"outlinewidth\":1,\"tickcolor\":\"rgb(36,36,36)\",\"ticks\":\"outside\"}},\"marker\":{\"colorbar\":{\"outlinewidth\":1,\"tickcolor\":\"rgb(36,36,36)\",\"ticks\":\"outside\"}},\"type\":\"scatter3d\"}],\"scattercarpet\":[{\"marker\":{\"colorbar\":{\"outlinewidth\":1,\"tickcolor\":\"rgb(36,36,36)\",\"ticks\":\"outside\"}},\"type\":\"scattercarpet\"}],\"scattergeo\":[{\"marker\":{\"colorbar\":{\"outlinewidth\":1,\"tickcolor\":\"rgb(36,36,36)\",\"ticks\":\"outside\"}},\"type\":\"scattergeo\"}],\"scattergl\":[{\"marker\":{\"colorbar\":{\"outlinewidth\":1,\"tickcolor\":\"rgb(36,36,36)\",\"ticks\":\"outside\"}},\"type\":\"scattergl\"}],\"scattermapbox\":[{\"marker\":{\"colorbar\":{\"outlinewidth\":1,\"tickcolor\":\"rgb(36,36,36)\",\"ticks\":\"outside\"}},\"type\":\"scattermapbox\"}],\"scatterpolargl\":[{\"marker\":{\"colorbar\":{\"outlinewidth\":1,\"tickcolor\":\"rgb(36,36,36)\",\"ticks\":\"outside\"}},\"type\":\"scatterpolargl\"}],\"scatterpolar\":[{\"marker\":{\"colorbar\":{\"outlinewidth\":1,\"tickcolor\":\"rgb(36,36,36)\",\"ticks\":\"outside\"}},\"type\":\"scatterpolar\"}],\"scatter\":[{\"fillpattern\":{\"fillmode\":\"overlay\",\"size\":10,\"solidity\":0.2},\"type\":\"scatter\"}],\"scatterternary\":[{\"marker\":{\"colorbar\":{\"outlinewidth\":1,\"tickcolor\":\"rgb(36,36,36)\",\"ticks\":\"outside\"}},\"type\":\"scatterternary\"}],\"surface\":[{\"colorbar\":{\"outlinewidth\":1,\"tickcolor\":\"rgb(36,36,36)\",\"ticks\":\"outside\"},\"colorscale\":[[0.0,\"#440154\"],[0.1111111111111111,\"#482878\"],[0.2222222222222222,\"#3e4989\"],[0.3333333333333333,\"#31688e\"],[0.4444444444444444,\"#26828e\"],[0.5555555555555556,\"#1f9e89\"],[0.6666666666666666,\"#35b779\"],[0.7777777777777778,\"#6ece58\"],[0.8888888888888888,\"#b5de2b\"],[1.0,\"#fde725\"]],\"type\":\"surface\"}],\"table\":[{\"cells\":{\"fill\":{\"color\":\"rgb(237,237,237)\"},\"line\":{\"color\":\"white\"}},\"header\":{\"fill\":{\"color\":\"rgb(217,217,217)\"},\"line\":{\"color\":\"white\"}},\"type\":\"table\"}]},\"layout\":{\"annotationdefaults\":{\"arrowhead\":0,\"arrowwidth\":1},\"autotypenumbers\":\"strict\",\"coloraxis\":{\"colorbar\":{\"outlinewidth\":1,\"tickcolor\":\"rgb(36,36,36)\",\"ticks\":\"outside\"}},\"colorscale\":{\"diverging\":[[0.0,\"rgb(103,0,31)\"],[0.1,\"rgb(178,24,43)\"],[0.2,\"rgb(214,96,77)\"],[0.3,\"rgb(244,165,130)\"],[0.4,\"rgb(253,219,199)\"],[0.5,\"rgb(247,247,247)\"],[0.6,\"rgb(209,229,240)\"],[0.7,\"rgb(146,197,222)\"],[0.8,\"rgb(67,147,195)\"],[0.9,\"rgb(33,102,172)\"],[1.0,\"rgb(5,48,97)\"]],\"sequential\":[[0.0,\"#440154\"],[0.1111111111111111,\"#482878\"],[0.2222222222222222,\"#3e4989\"],[0.3333333333333333,\"#31688e\"],[0.4444444444444444,\"#26828e\"],[0.5555555555555556,\"#1f9e89\"],[0.6666666666666666,\"#35b779\"],[0.7777777777777778,\"#6ece58\"],[0.8888888888888888,\"#b5de2b\"],[1.0,\"#fde725\"]],\"sequentialminus\":[[0.0,\"#440154\"],[0.1111111111111111,\"#482878\"],[0.2222222222222222,\"#3e4989\"],[0.3333333333333333,\"#31688e\"],[0.4444444444444444,\"#26828e\"],[0.5555555555555556,\"#1f9e89\"],[0.6666666666666666,\"#35b779\"],[0.7777777777777778,\"#6ece58\"],[0.8888888888888888,\"#b5de2b\"],[1.0,\"#fde725\"]]},\"colorway\":[\"#1F77B4\",\"#FF7F0E\",\"#2CA02C\",\"#D62728\",\"#9467BD\",\"#8C564B\",\"#E377C2\",\"#7F7F7F\",\"#BCBD22\",\"#17BECF\"],\"font\":{\"color\":\"rgb(36,36,36)\"},\"geo\":{\"bgcolor\":\"white\",\"lakecolor\":\"white\",\"landcolor\":\"white\",\"showlakes\":true,\"showland\":true,\"subunitcolor\":\"white\"},\"hoverlabel\":{\"align\":\"left\"},\"hovermode\":\"closest\",\"mapbox\":{\"style\":\"light\"},\"paper_bgcolor\":\"white\",\"plot_bgcolor\":\"white\",\"polar\":{\"angularaxis\":{\"gridcolor\":\"rgb(232,232,232)\",\"linecolor\":\"rgb(36,36,36)\",\"showgrid\":false,\"showline\":true,\"ticks\":\"outside\"},\"bgcolor\":\"white\",\"radialaxis\":{\"gridcolor\":\"rgb(232,232,232)\",\"linecolor\":\"rgb(36,36,36)\",\"showgrid\":false,\"showline\":true,\"ticks\":\"outside\"}},\"scene\":{\"xaxis\":{\"backgroundcolor\":\"white\",\"gridcolor\":\"rgb(232,232,232)\",\"gridwidth\":2,\"linecolor\":\"rgb(36,36,36)\",\"showbackground\":true,\"showgrid\":false,\"showline\":true,\"ticks\":\"outside\",\"zeroline\":false,\"zerolinecolor\":\"rgb(36,36,36)\"},\"yaxis\":{\"backgroundcolor\":\"white\",\"gridcolor\":\"rgb(232,232,232)\",\"gridwidth\":2,\"linecolor\":\"rgb(36,36,36)\",\"showbackground\":true,\"showgrid\":false,\"showline\":true,\"ticks\":\"outside\",\"zeroline\":false,\"zerolinecolor\":\"rgb(36,36,36)\"},\"zaxis\":{\"backgroundcolor\":\"white\",\"gridcolor\":\"rgb(232,232,232)\",\"gridwidth\":2,\"linecolor\":\"rgb(36,36,36)\",\"showbackground\":true,\"showgrid\":false,\"showline\":true,\"ticks\":\"outside\",\"zeroline\":false,\"zerolinecolor\":\"rgb(36,36,36)\"}},\"shapedefaults\":{\"fillcolor\":\"black\",\"line\":{\"width\":0},\"opacity\":0.3},\"ternary\":{\"aaxis\":{\"gridcolor\":\"rgb(232,232,232)\",\"linecolor\":\"rgb(36,36,36)\",\"showgrid\":false,\"showline\":true,\"ticks\":\"outside\"},\"baxis\":{\"gridcolor\":\"rgb(232,232,232)\",\"linecolor\":\"rgb(36,36,36)\",\"showgrid\":false,\"showline\":true,\"ticks\":\"outside\"},\"bgcolor\":\"white\",\"caxis\":{\"gridcolor\":\"rgb(232,232,232)\",\"linecolor\":\"rgb(36,36,36)\",\"showgrid\":false,\"showline\":true,\"ticks\":\"outside\"}},\"title\":{\"x\":0.05},\"xaxis\":{\"automargin\":true,\"gridcolor\":\"rgb(232,232,232)\",\"linecolor\":\"rgb(36,36,36)\",\"showgrid\":false,\"showline\":true,\"ticks\":\"outside\",\"title\":{\"standoff\":15},\"zeroline\":false,\"zerolinecolor\":\"rgb(36,36,36)\"},\"yaxis\":{\"automargin\":true,\"gridcolor\":\"rgb(232,232,232)\",\"linecolor\":\"rgb(36,36,36)\",\"showgrid\":false,\"showline\":true,\"ticks\":\"outside\",\"title\":{\"standoff\":15},\"zeroline\":false,\"zerolinecolor\":\"rgb(36,36,36)\"}}},\"title\":{\"text\":\"Protein Analysis\"},\"width\":1600,\"xaxis\":{\"range\":[-0.5,57.5],\"ticktext\":[\"A1AG1 (P02763)\",\"OXA1L (Q15070)\",\"ABCBB (O95342)\",\"ABCG2 (Q9UNQ0)\",\"MDR1 (P08183)\",\"MRP1 (P33527)\",\"S15A1 (P46059)\",\"S22A6 (Q4U2R8)\",\"S22A8 (Q8TCC7)\",\"S47A1 (Q96FL8)\",\"SO1B1 (Q9Y6L6)\",\"SO1B3 (Q9NPD5)\",\"AHR (P35869)\",\"GSTA1 (P08263)\",\"NR1I2 (O75469)\",\"NR1I3 (Q14994)\",\"ST1A1 (P50225)\",\"ADH1A (P07327)\",\"AL1A1 (P00352)\",\"AOFA (P21397)\",\"AOFB (P27338)\",\"AOXA (Q06278)\",\"ARK73 (O95154)\",\"CP1A2 (P05177)\",\"CP2B6 (P20813)\",\"CP2C9 (P11712)\",\"CP2CJ (P33261)\",\"CP2D6 (P10635)\",\"CP3A4 (P08684)\",\"DHI1 (P28845)\",\"FMO1 (Q01740)\",\"XDH (P47989)\",\"5HT2B (P41595)\",\"ACH10 (Q9GZZ6)\",\"ACHA3 (P32297)\",\"ACHA5 (P30532)\",\"ACHA7 (P36544)\",\"ACHA9 (Q9UGM1)\",\"ACM1 (P11229)\",\"ACM2 (P08172)\",\"ACM3 (P20309)\",\"ADA1A (P35348)\",\"ADA2A (P08913)\",\"ADRB1 (P08588)\",\"ADRB2 (P07550)\",\"ASM3A (Q92484)\",\"CAC1C (Q13936)\",\"CACB1 (Q02641)\",\"CNR1 (P21554)\",\"CNR2 (P34972)\",\"GBRA1 (P14867)\",\"HRH1 (P35367)\",\"KCNH2 (Q12809)\",\"SC6A2 (P23975)\",\"SC6A3 (Q01959)\",\"SC6A4 (P31645)\",\"SCN5A (Q14524)\"],\"tickvals\":[0,1,2,3,4,5,6,7,8,9,10,11,12,13,14,15,16,17,18,19,20,21,22,23,24,25,26,27,28,29,30,31,32,33,34,35,36,37,38,39,40,41,42,43,44,45,46,47,48,49,50,51,52,53,54,55,56],\"title\":{\"text\":\"Protein Name\"}},\"yaxis\":{\"title\":{\"text\":\"Resolution(A)\"}}},                        {\"responsive\": true}                    ).then(function(){\n                            \nvar gd = document.getElementById('2330d1ec-40e4-48ef-8b86-2efe6f976f2b');\nvar x = new MutationObserver(function (mutations, observer) {{\n        var display = window.getComputedStyle(gd).display;\n        if (!display || display === 'none') {{\n            console.log([gd, 'removed!']);\n            Plotly.purge(gd);\n            observer.disconnect();\n        }}\n}});\n\n// Listen for the removal of the full notebook cells\nvar notebookContainer = gd.closest('#notebook-container');\nif (notebookContainer) {{\n    x.observe(notebookContainer, {childList: true});\n}}\n\n// Listen for the clearing of the current output cell\nvar outputEl = gd.closest('.output');\nif (outputEl) {{\n    x.observe(outputEl, {childList: true});\n}}\n\n                        })                };                });            </script>        </div>"
     },
     "metadata": {},
     "output_type": "display_data"
    }
   ],
   "source": [
    "import plotly.graph_objects as go\n",
    "import numpy as np\n",
    "# Create traces for each unique value in 'Method'\n",
    "traces = []\n",
    "\n",
    "for category in category_list:\n",
    "    for method in df['Method'].unique():\n",
    "        df_subset = df[(df['Method'] == method) & (df['Category'] == category)]\n",
    "        \n",
    "        # marker_size = df_subset[\"Average Sequence Coverage\"].apply(lambda x: x * 16 if not np.isnan(x) else 10)\n",
    "        \n",
    "        # Add random jitter to the x-axis values\n",
    "        if method == 'AlphaFold':\n",
    "            x_values = [protein_name_mapping[name] for name in df_subset['Protein Name']]\n",
    "        else:\n",
    "            jitter = np.random.uniform(low=-jitter_amount, high=jitter_amount, size=len(df_subset))\n",
    "            x_values = [protein_name_mapping[name] + jitter[i] for i, name in enumerate(df_subset['Protein Name'])]\n",
    "        trace = go.Scatter(\n",
    "            x=x_values,\n",
    "            y=df_subset['Resolution (A)'],\n",
    "            mode='markers',\n",
    "            name=f\"{category} ({method})\",\n",
    "            marker=dict(size=10, color=colors[category], symbol=symbols[method], line_width=2, line_color='black'),\n",
    "            showlegend=False if method == 'AlphaFold' else True,\n",
    "            opacity=0 if method == 'AlphaFold' else 1,\n",
    "        )\n",
    "        traces.append(trace)\n",
    "        \n",
    "# Add text annotations for average sequence coverage\n",
    "annotations = []\n",
    "i = 0\n",
    "for protein_name in protein_names:\n",
    "    tsd = tsd_dict[protein_name]\n",
    "    if not np.isnan(tsd.average_coverage):\n",
    "        y_height = - 20 * (i % 5) - 10\n",
    "        annotations.append(\n",
    "            dict(\n",
    "                x=protein_name_mapping[f'{tsd.target_name.split(\"_\")[0]} ({tsd.uniprot_id})'],\n",
    "                y=-0.5,\n",
    "                text=f\"{tsd.average_coverage:.2%}\",\n",
    "                showarrow=True,\n",
    "                arrowhead=7,\n",
    "                ax=20,\n",
    "                ay=y_height,\n",
    "            )\n",
    "        )\n",
    "        i += 1\n",
    "\n",
    "# Create layout\n",
    "layout = go.Layout(\n",
    "    title=\"Protein Analysis\",\n",
    "    xaxis=dict(title='Protein Name',\n",
    "               range=[-0.5, len(protein_name_mapping) + 0.5],\n",
    "               tickvals=list(protein_name_mapping.values()), \n",
    "               ticktext=protein_names),\n",
    "    yaxis=dict(title='Resolution(A)'),\n",
    "    template='simple_white',\n",
    "    width=1600,\n",
    "    height=600,\n",
    "    annotations=annotations\n",
    ")\n",
    "\n",
    "# Create figure\n",
    "fig = go.Figure(data=traces, layout=layout)\n",
    "\n",
    "# Show plot\n",
    "fig.show()"
   ],
   "metadata": {
    "collapsed": false,
    "ExecuteTime": {
     "end_time": "2024-02-21T22:01:35.647020Z",
     "start_time": "2024-02-21T22:01:35.448003Z"
    }
   },
   "id": "74abbe1841059fa1",
   "execution_count": 249
  },
  {
   "cell_type": "code",
   "outputs": [],
   "source": [
    "fig.write_image(fig_dir / 'experimental_structure_analysis.png')\n",
    "fig.write_image(fig_dir / 'experimental_structure_analysis.svg')"
   ],
   "metadata": {
    "collapsed": false,
    "ExecuteTime": {
     "end_time": "2024-02-21T21:17:50.919609Z",
     "start_time": "2024-02-21T21:17:49.975858Z"
    }
   },
   "id": "973db30c96756fc3",
   "execution_count": 163
  },
  {
   "cell_type": "code",
   "outputs": [
    {
     "data": {
      "text/plain": "     Protein Name          Category  Average Sequence Coverage  \\\n3  ABCBB (O95342)  drug_transporter                   0.986374   \n2  ABCBB (O95342)  drug_transporter                   0.986374   \n1  ABCBB (O95342)  drug_transporter                   0.986374   \n0  ABCBB (O95342)  drug_transporter                   0.986374   \n\n   Number of Experimental Structures  Sequence Length  Resolution (A)  \\\n3                                  3             1321            2.00   \n2                                  3             1321            3.66   \n1                                  3             1321            3.70   \n0                                  3             1321            3.50   \n\n      Method  \n3  AlphaFold  \n2         EM  \n1         EM  \n0         EM  ",
      "text/html": "<div>\n<style scoped>\n    .dataframe tbody tr th:only-of-type {\n        vertical-align: middle;\n    }\n\n    .dataframe tbody tr th {\n        vertical-align: top;\n    }\n\n    .dataframe thead th {\n        text-align: right;\n    }\n</style>\n<table border=\"1\" class=\"dataframe\">\n  <thead>\n    <tr style=\"text-align: right;\">\n      <th></th>\n      <th>Protein Name</th>\n      <th>Category</th>\n      <th>Average Sequence Coverage</th>\n      <th>Number of Experimental Structures</th>\n      <th>Sequence Length</th>\n      <th>Resolution (A)</th>\n      <th>Method</th>\n    </tr>\n  </thead>\n  <tbody>\n    <tr>\n      <th>3</th>\n      <td>ABCBB (O95342)</td>\n      <td>drug_transporter</td>\n      <td>0.986374</td>\n      <td>3</td>\n      <td>1321</td>\n      <td>2.00</td>\n      <td>AlphaFold</td>\n    </tr>\n    <tr>\n      <th>2</th>\n      <td>ABCBB (O95342)</td>\n      <td>drug_transporter</td>\n      <td>0.986374</td>\n      <td>3</td>\n      <td>1321</td>\n      <td>3.66</td>\n      <td>EM</td>\n    </tr>\n    <tr>\n      <th>1</th>\n      <td>ABCBB (O95342)</td>\n      <td>drug_transporter</td>\n      <td>0.986374</td>\n      <td>3</td>\n      <td>1321</td>\n      <td>3.70</td>\n      <td>EM</td>\n    </tr>\n    <tr>\n      <th>0</th>\n      <td>ABCBB (O95342)</td>\n      <td>drug_transporter</td>\n      <td>0.986374</td>\n      <td>3</td>\n      <td>1321</td>\n      <td>3.50</td>\n      <td>EM</td>\n    </tr>\n  </tbody>\n</table>\n</div>"
     },
     "execution_count": 189,
     "metadata": {},
     "output_type": "execute_result"
    }
   ],
   "source": [
    "df[df[\"Protein Name\"] == \"ABCBB (O95342)\"]"
   ],
   "metadata": {
    "collapsed": false,
    "ExecuteTime": {
     "end_time": "2024-02-21T21:37:49.789429Z",
     "start_time": "2024-02-21T21:37:49.722482Z"
    }
   },
   "id": "d0aeeb69f72019b9",
   "execution_count": 189
  },
  {
   "cell_type": "code",
   "outputs": [],
   "source": [],
   "metadata": {
    "collapsed": false
   },
   "id": "9a484bff9ac47038"
  }
 ],
 "metadata": {
  "kernelspec": {
   "display_name": "Python 3",
   "language": "python",
   "name": "python3"
  },
  "language_info": {
   "codemirror_mode": {
    "name": "ipython",
    "version": 2
   },
   "file_extension": ".py",
   "mimetype": "text/x-python",
   "name": "python",
   "nbconvert_exporter": "python",
   "pygments_lexer": "ipython2",
   "version": "2.7.6"
  }
 },
 "nbformat": 4,
 "nbformat_minor": 5
}
