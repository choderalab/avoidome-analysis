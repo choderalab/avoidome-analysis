{
 "cells": [
  {
   "cell_type": "code",
   "outputs": [],
   "source": [
    "from pathlib import Path\n",
    "import yaml\n",
    "from tqdm import tqdm\n",
    "import avoidome.uniprot as uniprot\n",
    "import avoidome.schema as schema\n",
    "from importlib import reload"
   ],
   "metadata": {
    "collapsed": false,
    "ExecuteTime": {
     "end_time": "2024-02-21T19:51:35.697207Z",
     "start_time": "2024-02-21T19:51:35.672482Z"
    }
   },
   "id": "36832d2df695415b",
   "execution_count": 4
  },
  {
   "cell_type": "markdown",
   "source": [
    "# Download"
   ],
   "metadata": {
    "collapsed": false
   },
   "id": "bda07ac731f1ad0e"
  },
  {
   "cell_type": "code",
   "outputs": [],
   "source": [
    "data_dir = Path('../data')\n",
    "fig_dir = Path('../figures')\n",
    "uniprot_dir = data_dir / 'uniprot_downloads'\n",
    "af_dir = data_dir / 'alphafold_downloads'"
   ],
   "metadata": {
    "collapsed": false,
    "ExecuteTime": {
     "end_time": "2024-02-21T20:09:43.368861Z",
     "start_time": "2024-02-21T20:09:43.336177Z"
    }
   },
   "id": "f5db180a4d9f06ff",
   "execution_count": 61
  },
  {
   "cell_type": "markdown",
   "source": [
    "## use curated data this time"
   ],
   "metadata": {
    "collapsed": false
   },
   "id": "e46331ebfbc360e"
  },
  {
   "cell_type": "code",
   "outputs": [],
   "source": [
    "with open(data_dir / 'admet_names_curated.yml') as f:\n",
    "    adme_names = yaml.safe_load(f)"
   ],
   "metadata": {
    "collapsed": false,
    "ExecuteTime": {
     "end_time": "2024-02-21T19:51:37.299302Z",
     "start_time": "2024-02-21T19:51:37.265437Z"
    }
   },
   "id": "2f53257fc18e498e",
   "execution_count": 6
  },
  {
   "cell_type": "code",
   "outputs": [
    {
     "name": "stderr",
     "output_type": "stream",
     "text": [
      "100%|██████████| 57/57 [00:44<00:00,  1.28it/s]\n"
     ]
    }
   ],
   "source": [
    "exp_structure_dict = {}\n",
    "failed = []\n",
    "success = []\n",
    "for protein in tqdm(adme_names):\n",
    "    uniprot_id = protein['uniprot']\n",
    "    ue = uniprot.UniprotEntry.from_uniprot_id(uniprot_id)\n",
    "    try:\n",
    "        exp_structure_dict[ue.name] = ue.get_experimental_structures()\n",
    "        success.append(ue)\n",
    "    except:\n",
    "        failed.append(ue)"
   ],
   "metadata": {
    "collapsed": false,
    "ExecuteTime": {
     "end_time": "2024-02-21T18:28:12.960862Z",
     "start_time": "2024-02-21T18:27:28.467305Z"
    }
   },
   "id": "b40e306c5e2519c9",
   "execution_count": 8
  },
  {
   "cell_type": "code",
   "outputs": [
    {
     "data": {
      "text/plain": "0"
     },
     "execution_count": 9,
     "metadata": {},
     "output_type": "execute_result"
    }
   ],
   "source": [
    "len(failed)"
   ],
   "metadata": {
    "collapsed": false,
    "ExecuteTime": {
     "end_time": "2024-02-21T18:28:12.973032Z",
     "start_time": "2024-02-21T18:28:12.962733Z"
    }
   },
   "id": "3a24f11a4669886b",
   "execution_count": 9
  },
  {
   "cell_type": "code",
   "outputs": [
    {
     "data": {
      "text/plain": "57"
     },
     "execution_count": 10,
     "metadata": {},
     "output_type": "execute_result"
    }
   ],
   "source": [
    "len(success)"
   ],
   "metadata": {
    "collapsed": false,
    "ExecuteTime": {
     "end_time": "2024-02-21T18:28:12.979290Z",
     "start_time": "2024-02-21T18:28:12.970404Z"
    }
   },
   "id": "eb2c1e80d26fc7e0",
   "execution_count": 10
  },
  {
   "cell_type": "code",
   "outputs": [
    {
     "name": "stderr",
     "output_type": "stream",
     "text": [
      "\n",
      "  0%|          | 0/57 [00:00<?, ?it/s]\u001B[A\n",
      "  2%|▏         | 1/57 [00:00<00:19,  2.83it/s]\u001B[A\n",
      "  4%|▎         | 2/57 [00:00<00:16,  3.25it/s]\u001B[A\n",
      "  5%|▌         | 3/57 [00:01<00:22,  2.42it/s]\u001B[A\n",
      "  7%|▋         | 4/57 [00:01<00:18,  2.90it/s]\u001B[A\n",
      "  9%|▉         | 5/57 [00:01<00:17,  3.06it/s]\u001B[A\n",
      " 11%|█         | 6/57 [00:02<00:25,  2.03it/s]\u001B[A\n",
      " 12%|█▏        | 7/57 [00:02<00:20,  2.43it/s]\u001B[A\n",
      " 14%|█▍        | 8/57 [00:02<00:16,  2.92it/s]\u001B[A\n",
      " 16%|█▌        | 9/57 [00:03<00:13,  3.47it/s]\u001B[A\n",
      " 18%|█▊        | 10/57 [00:03<00:12,  3.86it/s]\u001B[A\n",
      " 19%|█▉        | 11/57 [00:03<00:12,  3.73it/s]\u001B[A\n",
      " 21%|██        | 12/57 [00:03<00:09,  4.54it/s]\u001B[A\n",
      " 23%|██▎       | 13/57 [00:03<00:09,  4.46it/s]\u001B[A\n",
      " 26%|██▋       | 15/57 [00:04<00:06,  6.49it/s]\u001B[A\n",
      " 28%|██▊       | 16/57 [00:04<00:06,  6.42it/s]\u001B[A\n",
      " 30%|██▉       | 17/57 [00:04<00:05,  6.92it/s]\u001B[A\n",
      " 32%|███▏      | 18/57 [00:04<00:05,  6.81it/s]\u001B[A\n",
      " 33%|███▎      | 19/57 [00:04<00:05,  6.70it/s]\u001B[A\n",
      " 35%|███▌      | 20/57 [00:04<00:05,  6.93it/s]\u001B[A\n",
      " 39%|███▊      | 22/57 [00:05<00:04,  7.88it/s]\u001B[A\n",
      " 40%|████      | 23/57 [00:05<00:07,  4.26it/s]\u001B[A\n",
      " 42%|████▏     | 24/57 [00:06<00:14,  2.33it/s]\u001B[A\n",
      " 44%|████▍     | 25/57 [00:06<00:11,  2.86it/s]\u001B[A\n",
      " 46%|████▌     | 26/57 [00:07<00:12,  2.48it/s]\u001B[A\n",
      " 47%|████▋     | 27/57 [00:07<00:10,  2.92it/s]\u001B[A\n",
      " 49%|████▉     | 28/57 [00:07<00:09,  3.21it/s]\u001B[A\n",
      " 51%|█████     | 29/57 [00:07<00:07,  3.83it/s]\u001B[A\n",
      " 53%|█████▎    | 30/57 [00:07<00:06,  4.50it/s]\u001B[A\n",
      " 54%|█████▍    | 31/57 [00:08<00:05,  4.99it/s]\u001B[A\n",
      " 56%|█████▌    | 32/57 [00:08<00:05,  4.68it/s]\u001B[A\n",
      " 58%|█████▊    | 33/57 [00:08<00:04,  5.49it/s]\u001B[A\n",
      " 60%|█████▉    | 34/57 [00:08<00:04,  5.16it/s]\u001B[A\n",
      " 61%|██████▏   | 35/57 [00:08<00:04,  5.46it/s]\u001B[A\n",
      " 63%|██████▎   | 36/57 [00:08<00:03,  6.06it/s]\u001B[A\n",
      " 65%|██████▍   | 37/57 [00:09<00:03,  6.66it/s]\u001B[A\n",
      " 67%|██████▋   | 38/57 [00:09<00:02,  7.05it/s]\u001B[A\n",
      " 68%|██████▊   | 39/57 [00:09<00:02,  7.35it/s]\u001B[A\n",
      " 72%|███████▏  | 41/57 [00:09<00:01,  9.91it/s]\u001B[A\n",
      " 75%|███████▌  | 43/57 [00:09<00:01,  8.85it/s]\u001B[A\n",
      " 79%|███████▉  | 45/57 [00:09<00:01,  9.93it/s]\u001B[A\n",
      " 82%|████████▏ | 47/57 [00:10<00:01,  7.77it/s]\u001B[A\n",
      " 84%|████████▍ | 48/57 [00:10<00:01,  5.96it/s]\u001B[A\n",
      " 86%|████████▌ | 49/57 [00:10<00:01,  4.92it/s]\u001B[A\n",
      " 88%|████████▊ | 50/57 [00:11<00:01,  4.50it/s]\u001B[A\n",
      " 89%|████████▉ | 51/57 [00:11<00:01,  3.64it/s]\u001B[A\n",
      " 91%|█████████ | 52/57 [00:11<00:01,  4.06it/s]\u001B[A\n",
      " 93%|█████████▎| 53/57 [00:11<00:00,  4.44it/s]\u001B[A\n",
      " 95%|█████████▍| 54/57 [00:12<00:00,  4.61it/s]\u001B[A\n",
      " 96%|█████████▋| 55/57 [00:12<00:00,  5.04it/s]\u001B[A\n",
      " 98%|█████████▊| 56/57 [00:12<00:00,  5.21it/s]\u001B[A\n",
      "100%|██████████| 57/57 [00:12<00:00,  4.52it/s]\u001B[A\n"
     ]
    }
   ],
   "source": [
    "for ue in tqdm(success):\n",
    "    yaml.safe_dump(ue.dict(), open(f\"{uniprot_dir / ue.data['id']}.yml\", 'w'))"
   ],
   "metadata": {
    "collapsed": false,
    "ExecuteTime": {
     "end_time": "2024-02-21T18:31:23.330832Z",
     "start_time": "2024-02-21T18:31:10.712382Z"
    }
   },
   "id": "b84e45ca9255ce92",
   "execution_count": 15
  },
  {
   "cell_type": "markdown",
   "source": [
    "# Reload"
   ],
   "metadata": {
    "collapsed": false
   },
   "id": "9fb724eb90983b7b"
  },
  {
   "cell_type": "code",
   "outputs": [
    {
     "name": "stderr",
     "output_type": "stream",
     "text": [
      "100%|██████████| 57/57 [00:22<00:00,  2.57it/s]\n"
     ]
    }
   ],
   "source": [
    "entries = list(uniprot_dir.glob('*.yml'))\n",
    "uniprot_entries = [uniprot.UniprotEntry.from_dict(yaml.safe_load(open(file, 'r'))) for file in tqdm(entries)]"
   ],
   "metadata": {
    "collapsed": false,
    "ExecuteTime": {
     "end_time": "2024-02-21T19:52:05.478923Z",
     "start_time": "2024-02-21T19:51:43.288393Z"
    }
   },
   "id": "256ee51ebb113b30",
   "execution_count": 7
  },
  {
   "cell_type": "markdown",
   "source": [
    "# Get AlphaFold Structures"
   ],
   "metadata": {
    "collapsed": false
   },
   "id": "13898a7e3e7ba37b"
  },
  {
   "cell_type": "code",
   "outputs": [
    {
     "name": "stderr",
     "output_type": "stream",
     "text": [
      "100%|██████████| 57/57 [00:07<00:00,  7.33it/s]\n"
     ]
    }
   ],
   "source": [
    "# i've made this return a list but it's only ever going to be one\n",
    "af_structures = [u.get_alphafold_structures()[0] for u in tqdm(uniprot_entries)]"
   ],
   "metadata": {
    "collapsed": false,
    "ExecuteTime": {
     "end_time": "2024-02-21T18:58:05.898290Z",
     "start_time": "2024-02-21T18:57:58.115115Z"
    }
   },
   "id": "10f7ba645a6fe281",
   "execution_count": 4
  },
  {
   "cell_type": "markdown",
   "source": [
    "## Download the structures"
   ],
   "metadata": {
    "collapsed": false
   },
   "id": "f12d5fd2a75a8022"
  },
  {
   "cell_type": "code",
   "outputs": [],
   "source": [
    "from asapdiscovery.data.utils import download_file"
   ],
   "metadata": {
    "collapsed": false,
    "ExecuteTime": {
     "end_time": "2024-02-21T18:58:06.491503Z",
     "start_time": "2024-02-21T18:58:05.892497Z"
    }
   },
   "id": "fdb82d6b72f68ec9",
   "execution_count": 5
  },
  {
   "cell_type": "code",
   "outputs": [],
   "source": [
    "for p in af_structures:\n",
    "    if not (af_dir / f\"{p.af_id}.cif\").exists():\n",
    "        download_file(p.model_url, af_dir / f\"{p.af_id}.cif\")"
   ],
   "metadata": {
    "collapsed": false,
    "ExecuteTime": {
     "end_time": "2024-02-21T18:58:06.500958Z",
     "start_time": "2024-02-21T18:58:06.493905Z"
    }
   },
   "id": "19914cd49e0d7fc",
   "execution_count": 6
  },
  {
   "cell_type": "markdown",
   "source": [
    "# Calculate the pLDDT"
   ],
   "metadata": {
    "collapsed": false
   },
   "id": "48a7c9452a9f4b3c"
  },
  {
   "cell_type": "code",
   "outputs": [],
   "source": [
    "from asapdiscovery.data.openeye import load_openeye_cif, oechem\n",
    "import numpy as np"
   ],
   "metadata": {
    "collapsed": false,
    "ExecuteTime": {
     "end_time": "2024-02-21T18:58:06.510741Z",
     "start_time": "2024-02-21T18:58:06.499830Z"
    }
   },
   "id": "4fda2697dbfe7f35",
   "execution_count": 7
  },
  {
   "cell_type": "code",
   "outputs": [],
   "source": [
    "def calculate_high_confidence(af_id):\n",
    "    \"\"\"\n",
    "    Load the downloaded model with openeye, get the residues.\n",
    "    Get the bfactor of each residue (which is the pLDDT score for this case)\n",
    "    Calculate the number of residues with high confidence (>90)\n",
    "    :param af_id: \n",
    "    :return: \n",
    "    \"\"\"\n",
    "    mol = load_openeye_cif(af_dir / f\"{af_id}.cif\")\n",
    "    residues = {oechem.OEAtomGetResidue(atom) for atom in mol.GetAtoms() if oechem.OEHasResidue(atom)}\n",
    "    bfactors = np.array([res.GetBFactor() for res in residues])\n",
    "    return sum(bfactors > 90)"
   ],
   "metadata": {
    "collapsed": false,
    "ExecuteTime": {
     "end_time": "2024-02-21T18:58:06.511689Z",
     "start_time": "2024-02-21T18:58:06.504820Z"
    }
   },
   "id": "1958e183a5e6ea50",
   "execution_count": 8
  },
  {
   "cell_type": "code",
   "outputs": [
    {
     "name": "stderr",
     "output_type": "stream",
     "text": [
      "100%|██████████| 57/57 [00:04<00:00, 12.40it/s]\n"
     ]
    }
   ],
   "source": [
    "confidence_dict = {p.components[0].name: calculate_high_confidence(p.af_id) / p.components[0].length  for p in tqdm(af_structures)}"
   ],
   "metadata": {
    "collapsed": false,
    "ExecuteTime": {
     "end_time": "2024-02-21T18:58:11.119239Z",
     "start_time": "2024-02-21T18:58:06.511447Z"
    }
   },
   "id": "24db9e4c7a2ab4eb",
   "execution_count": 9
  },
  {
   "cell_type": "markdown",
   "source": [
    "# Plot"
   ],
   "metadata": {
    "collapsed": false
   },
   "id": "9f41ac8d626035b1"
  },
  {
   "cell_type": "markdown",
   "source": [
    "## construct plotly df"
   ],
   "metadata": {
    "collapsed": false
   },
   "id": "887f902f1ffe4d7f"
  },
  {
   "cell_type": "code",
   "outputs": [],
   "source": [
    "category_dict = {e['uniprot']: e['admet_category'] for e in adme_names}"
   ],
   "metadata": {
    "collapsed": false,
    "ExecuteTime": {
     "end_time": "2024-02-21T20:09:50.242025Z",
     "start_time": "2024-02-21T20:09:50.232414Z"
    }
   },
   "id": "4d4d91e4568486b2",
   "execution_count": 62
  },
  {
   "cell_type": "code",
   "outputs": [],
   "source": [
    "import pandas as pd"
   ],
   "metadata": {
    "collapsed": false,
    "ExecuteTime": {
     "end_time": "2024-02-21T20:09:51.471362Z",
     "start_time": "2024-02-21T20:09:51.461100Z"
    }
   },
   "id": "ab9f31484c7c300b",
   "execution_count": 63
  },
  {
   "cell_type": "code",
   "outputs": [
    {
     "ename": "NameError",
     "evalue": "name 'confidence_dict' is not defined",
     "output_type": "error",
     "traceback": [
      "\u001B[0;31m---------------------------------------------------------------------------\u001B[0m",
      "\u001B[0;31mNameError\u001B[0m                                 Traceback (most recent call last)",
      "Cell \u001B[0;32mIn[64], line 1\u001B[0m\n\u001B[0;32m----> 1\u001B[0m \u001B[43mconfidence_dict\u001B[49m\u001B[38;5;241m.\u001B[39mkeys()\n",
      "\u001B[0;31mNameError\u001B[0m: name 'confidence_dict' is not defined"
     ]
    }
   ],
   "source": [
    "confidence_dict.keys()"
   ],
   "metadata": {
    "collapsed": false,
    "ExecuteTime": {
     "end_time": "2024-02-21T20:09:51.983825Z",
     "start_time": "2024-02-21T20:09:51.969709Z"
    }
   },
   "id": "27ce955847551730",
   "execution_count": 64
  },
  {
   "cell_type": "code",
   "outputs": [],
   "source": [
    "name_to_uniprot = {af.components[0].name: af.components[0].uniprot_id for af in af_structures}\n",
    "uniprot_to_name = {v: k for k, v in name_to_uniprot.items()}"
   ],
   "metadata": {
    "collapsed": false,
    "ExecuteTime": {
     "end_time": "2024-02-21T19:05:17.601287Z",
     "start_time": "2024-02-21T19:05:17.548490Z"
    }
   },
   "id": "8d921c324874cf2a",
   "execution_count": 30
  },
  {
   "cell_type": "code",
   "outputs": [],
   "source": [
    "confidence_df = pd.DataFrame({'Protein Name': list(confidence_dict.keys()), \n",
    "                              'Fraction': list(confidence_dict.values()), \n",
    "                              'Category': [category_dict[name_to_uniprot[k]] for k in confidence_dict.keys()]})"
   ],
   "metadata": {
    "collapsed": false,
    "ExecuteTime": {
     "end_time": "2024-02-21T19:06:18.995453Z",
     "start_time": "2024-02-21T19:06:18.987353Z"
    }
   },
   "id": "b9cf1231472bcb25",
   "execution_count": 37
  },
  {
   "cell_type": "code",
   "outputs": [],
   "source": [
    "confidence_df.sort_values('Protein Name', inplace=True)"
   ],
   "metadata": {
    "collapsed": false,
    "ExecuteTime": {
     "end_time": "2024-02-21T19:13:30.191471Z",
     "start_time": "2024-02-21T19:13:30.156413Z"
    }
   },
   "id": "802d3f6a06a24a5b",
   "execution_count": 56
  },
  {
   "cell_type": "code",
   "outputs": [],
   "source": [
    "import plotly.express as px"
   ],
   "metadata": {
    "collapsed": false,
    "ExecuteTime": {
     "end_time": "2024-02-21T20:01:33.400433Z",
     "start_time": "2024-02-21T20:01:33.240696Z"
    }
   },
   "id": "21af9caaf895ba7b",
   "execution_count": 41
  },
  {
   "cell_type": "code",
   "outputs": [],
   "source": [
    "color_sequence = [\"#00bf7d\", \"#00b4c5\", \"#c44601\", \"#2546f0\", \"#5928ed\"] "
   ],
   "metadata": {
    "collapsed": false,
    "ExecuteTime": {
     "end_time": "2024-02-21T19:14:25.976997Z",
     "start_time": "2024-02-21T19:14:25.935395Z"
    }
   },
   "id": "3cd5a82a7df8057b",
   "execution_count": 61
  },
  {
   "cell_type": "code",
   "outputs": [
    {
     "name": "stderr",
     "output_type": "stream",
     "text": [
      "/Users/alexpayne/miniforge-pypy3/envs/asapdiscovery/lib/python3.10/site-packages/plotly/express/_core.py:2065: FutureWarning:\n",
      "\n",
      "When grouping with a length-1 list-like, you will need to pass a length-1 tuple to get_group in a future version of pandas. Pass `(name,)` instead of `name` to silence this warning.\n",
      "\n"
     ]
    }
   ],
   "source": [
    "fig = px.bar(confidence_df,\n",
    "             x='Protein Name',\n",
    "                y='Fraction',\n",
    "             labels={'x': 'Protein', 'y': 'Fraction'}, \n",
    "             title='Fraction of Sequence Modeled with Very High Confidence (pLDDT > 90)', \n",
    "             template='simple_white',\n",
    "             width=1200,\n",
    "             height=600,\n",
    "             category_orders={'Category': ['metabolism_redox', 'metabolism', 'absorption', 'drug_transporter', 'toxicity']},\n",
    "             color=\"Category\",\n",
    "             color_discrete_sequence=color_sequence,\n",
    "             )"
   ],
   "metadata": {
    "collapsed": false,
    "ExecuteTime": {
     "end_time": "2024-02-21T19:14:26.268763Z",
     "start_time": "2024-02-21T19:14:26.253255Z"
    }
   },
   "id": "86f3a3dd84b8fdc3",
   "execution_count": 62
  },
  {
   "cell_type": "code",
   "outputs": [
    {
     "data": {
      "application/vnd.plotly.v1+json": {
       "data": [
        {
         "alignmentgroup": "True",
         "hovertemplate": "Category=metabolism_redox<br>Protein Name=%{x}<br>Fraction=%{y}<extra></extra>",
         "legendgroup": "metabolism_redox",
         "marker": {
          "color": "#00bf7d",
          "pattern": {
           "shape": ""
          }
         },
         "name": "metabolism_redox",
         "offsetgroup": "metabolism_redox",
         "orientation": "v",
         "showlegend": true,
         "textposition": "auto",
         "x": [
          "ADH1A_HUMAN",
          "AL1A1_HUMAN",
          "AOFA_HUMAN",
          "AOFB_HUMAN",
          "AOXA_HUMAN",
          "ARK73_HUMAN",
          "CP1A2_HUMAN",
          "CP2B6_HUMAN",
          "CP2C9_HUMAN",
          "CP2CJ_HUMAN",
          "CP2D6_HUMAN",
          "CP3A4_HUMAN",
          "DHI1_HUMAN",
          "FMO1_HUMAN",
          "XDH_HUMAN"
         ],
         "xaxis": "x",
         "y": [
          0.9973262032085561,
          0.98,
          0.9695817490494296,
          0.9171483622350675,
          0.9214659685863874,
          0.9606060606060606,
          0.916504854368932,
          0.9040816326530612,
          0.787321063394683,
          0.8609406952965235,
          0.8568548387096774,
          0.8147410358565738,
          0.8694158075601375,
          0.8606403013182674,
          0.9346846846846847
         ],
         "yaxis": "y",
         "type": "bar"
        },
        {
         "alignmentgroup": "True",
         "hovertemplate": "Category=metabolism<br>Protein Name=%{x}<br>Fraction=%{y}<extra></extra>",
         "legendgroup": "metabolism",
         "marker": {
          "color": "#00b4c5",
          "pattern": {
           "shape": ""
          }
         },
         "name": "metabolism",
         "offsetgroup": "metabolism",
         "orientation": "v",
         "showlegend": true,
         "textposition": "auto",
         "x": [
          "AHR_HUMAN",
          "GSTA1_HUMAN",
          "NR1I2_HUMAN",
          "NR1I3_HUMAN",
          "ST1A1_HUMAN"
         ],
         "xaxis": "x",
         "y": [
          0.21251475796930341,
          0.9773755656108597,
          0.6859122401847575,
          0.7293447293447294,
          0.9761904761904762
         ],
         "yaxis": "y",
         "type": "bar"
        },
        {
         "alignmentgroup": "True",
         "hovertemplate": "Category=absorption<br>Protein Name=%{x}<br>Fraction=%{y}<extra></extra>",
         "legendgroup": "absorption",
         "marker": {
          "color": "#c44601",
          "pattern": {
           "shape": ""
          }
         },
         "name": "absorption",
         "offsetgroup": "absorption",
         "orientation": "v",
         "showlegend": true,
         "textposition": "auto",
         "x": [
          "A1AG1_HUMAN",
          "OXA1L_HUMAN"
         ],
         "xaxis": "x",
         "y": [
          0.72,
          0.35944700460829493
         ],
         "yaxis": "y",
         "type": "bar"
        },
        {
         "alignmentgroup": "True",
         "hovertemplate": "Category=drug_transporter<br>Protein Name=%{x}<br>Fraction=%{y}<extra></extra>",
         "legendgroup": "drug_transporter",
         "marker": {
          "color": "#2546f0",
          "pattern": {
           "shape": ""
          }
         },
         "name": "drug_transporter",
         "offsetgroup": "drug_transporter",
         "orientation": "v",
         "showlegend": true,
         "textposition": "auto",
         "x": [
          "ABCBB_HUMAN",
          "ABCG2_HUMAN",
          "MDR1_HUMAN",
          "MRP1_HUMAN",
          "S15A1_HUMAN",
          "S22A6_HUMAN",
          "S22A8_HUMAN",
          "S47A1_HUMAN",
          "SO1B1_HUMAN",
          "SO1B3_HUMAN"
         ],
         "xaxis": "x",
         "y": [
          0.47954545454545455,
          0.6498470948012233,
          0.5504300234558248,
          0.4071895424836601,
          0.5190947666195191,
          0.39679715302491103,
          0.5138632162661737,
          0.7873462214411248,
          0.5173913043478261,
          0.4964336661911555
         ],
         "yaxis": "y",
         "type": "bar"
        },
        {
         "alignmentgroup": "True",
         "hovertemplate": "Category=toxicity<br>Protein Name=%{x}<br>Fraction=%{y}<extra></extra>",
         "legendgroup": "toxicity",
         "marker": {
          "color": "#5928ed",
          "pattern": {
           "shape": ""
          }
         },
         "name": "toxicity",
         "offsetgroup": "toxicity",
         "orientation": "v",
         "showlegend": true,
         "textposition": "auto",
         "x": [
          "5HT2B_HUMAN",
          "ACH10_HUMAN",
          "ACHA3_HUMAN",
          "ACHA5_HUMAN",
          "ACHA7_HUMAN",
          "ACHA9_HUMAN",
          "ACM1_HUMAN",
          "ACM2_HUMAN",
          "ACM3_HUMAN",
          "ADA1A_HUMAN",
          "ADA2A_HUMAN",
          "ADRB1_HUMAN",
          "ADRB2_HUMAN",
          "ASM3A_HUMAN",
          "CAC1C_HUMAN",
          "CACB1_HUMAN",
          "CNR1_HUMAN",
          "CNR2_HUMAN",
          "GBRA1_HUMAN",
          "HRH1_HUMAN",
          "KCNH2_HUMAN",
          "SC6A2_HUMAN",
          "SC6A3_HUMAN",
          "SC6A4_HUMAN",
          "SCN5A_HUMAN"
         ],
         "xaxis": "x",
         "y": [
          0.38125,
          0.5033407572383074,
          0.6011904761904762,
          0.4518201284796574,
          0.3772455089820359,
          0.45188284518828453,
          0.5054466230936819,
          0.5118279569892473,
          0.32088285229202035,
          0.4236559139784946,
          0.47413793103448276,
          0.4831932773109244,
          0.587378640776699,
          0.9048672566371682,
          0.09684684684684684,
          0.4221105527638191,
          0.46284501061571126,
          0.637883008356546,
          0.6505494505494506,
          0.3991769547325103,
          0.25734024179620035,
          0.7386363636363636,
          0.7382875605815832,
          0.7567567567567568,
          0.11017369727047147
         ],
         "yaxis": "y",
         "type": "bar"
        }
       ],
       "layout": {
        "template": {
         "data": {
          "barpolar": [
           {
            "marker": {
             "line": {
              "color": "white",
              "width": 0.5
             },
             "pattern": {
              "fillmode": "overlay",
              "size": 10,
              "solidity": 0.2
             }
            },
            "type": "barpolar"
           }
          ],
          "bar": [
           {
            "error_x": {
             "color": "rgb(36,36,36)"
            },
            "error_y": {
             "color": "rgb(36,36,36)"
            },
            "marker": {
             "line": {
              "color": "white",
              "width": 0.5
             },
             "pattern": {
              "fillmode": "overlay",
              "size": 10,
              "solidity": 0.2
             }
            },
            "type": "bar"
           }
          ],
          "carpet": [
           {
            "aaxis": {
             "endlinecolor": "rgb(36,36,36)",
             "gridcolor": "white",
             "linecolor": "white",
             "minorgridcolor": "white",
             "startlinecolor": "rgb(36,36,36)"
            },
            "baxis": {
             "endlinecolor": "rgb(36,36,36)",
             "gridcolor": "white",
             "linecolor": "white",
             "minorgridcolor": "white",
             "startlinecolor": "rgb(36,36,36)"
            },
            "type": "carpet"
           }
          ],
          "choropleth": [
           {
            "colorbar": {
             "outlinewidth": 1,
             "tickcolor": "rgb(36,36,36)",
             "ticks": "outside"
            },
            "type": "choropleth"
           }
          ],
          "contourcarpet": [
           {
            "colorbar": {
             "outlinewidth": 1,
             "tickcolor": "rgb(36,36,36)",
             "ticks": "outside"
            },
            "type": "contourcarpet"
           }
          ],
          "contour": [
           {
            "colorbar": {
             "outlinewidth": 1,
             "tickcolor": "rgb(36,36,36)",
             "ticks": "outside"
            },
            "colorscale": [
             [
              0.0,
              "#440154"
             ],
             [
              0.1111111111111111,
              "#482878"
             ],
             [
              0.2222222222222222,
              "#3e4989"
             ],
             [
              0.3333333333333333,
              "#31688e"
             ],
             [
              0.4444444444444444,
              "#26828e"
             ],
             [
              0.5555555555555556,
              "#1f9e89"
             ],
             [
              0.6666666666666666,
              "#35b779"
             ],
             [
              0.7777777777777778,
              "#6ece58"
             ],
             [
              0.8888888888888888,
              "#b5de2b"
             ],
             [
              1.0,
              "#fde725"
             ]
            ],
            "type": "contour"
           }
          ],
          "heatmapgl": [
           {
            "colorbar": {
             "outlinewidth": 1,
             "tickcolor": "rgb(36,36,36)",
             "ticks": "outside"
            },
            "colorscale": [
             [
              0.0,
              "#440154"
             ],
             [
              0.1111111111111111,
              "#482878"
             ],
             [
              0.2222222222222222,
              "#3e4989"
             ],
             [
              0.3333333333333333,
              "#31688e"
             ],
             [
              0.4444444444444444,
              "#26828e"
             ],
             [
              0.5555555555555556,
              "#1f9e89"
             ],
             [
              0.6666666666666666,
              "#35b779"
             ],
             [
              0.7777777777777778,
              "#6ece58"
             ],
             [
              0.8888888888888888,
              "#b5de2b"
             ],
             [
              1.0,
              "#fde725"
             ]
            ],
            "type": "heatmapgl"
           }
          ],
          "heatmap": [
           {
            "colorbar": {
             "outlinewidth": 1,
             "tickcolor": "rgb(36,36,36)",
             "ticks": "outside"
            },
            "colorscale": [
             [
              0.0,
              "#440154"
             ],
             [
              0.1111111111111111,
              "#482878"
             ],
             [
              0.2222222222222222,
              "#3e4989"
             ],
             [
              0.3333333333333333,
              "#31688e"
             ],
             [
              0.4444444444444444,
              "#26828e"
             ],
             [
              0.5555555555555556,
              "#1f9e89"
             ],
             [
              0.6666666666666666,
              "#35b779"
             ],
             [
              0.7777777777777778,
              "#6ece58"
             ],
             [
              0.8888888888888888,
              "#b5de2b"
             ],
             [
              1.0,
              "#fde725"
             ]
            ],
            "type": "heatmap"
           }
          ],
          "histogram2dcontour": [
           {
            "colorbar": {
             "outlinewidth": 1,
             "tickcolor": "rgb(36,36,36)",
             "ticks": "outside"
            },
            "colorscale": [
             [
              0.0,
              "#440154"
             ],
             [
              0.1111111111111111,
              "#482878"
             ],
             [
              0.2222222222222222,
              "#3e4989"
             ],
             [
              0.3333333333333333,
              "#31688e"
             ],
             [
              0.4444444444444444,
              "#26828e"
             ],
             [
              0.5555555555555556,
              "#1f9e89"
             ],
             [
              0.6666666666666666,
              "#35b779"
             ],
             [
              0.7777777777777778,
              "#6ece58"
             ],
             [
              0.8888888888888888,
              "#b5de2b"
             ],
             [
              1.0,
              "#fde725"
             ]
            ],
            "type": "histogram2dcontour"
           }
          ],
          "histogram2d": [
           {
            "colorbar": {
             "outlinewidth": 1,
             "tickcolor": "rgb(36,36,36)",
             "ticks": "outside"
            },
            "colorscale": [
             [
              0.0,
              "#440154"
             ],
             [
              0.1111111111111111,
              "#482878"
             ],
             [
              0.2222222222222222,
              "#3e4989"
             ],
             [
              0.3333333333333333,
              "#31688e"
             ],
             [
              0.4444444444444444,
              "#26828e"
             ],
             [
              0.5555555555555556,
              "#1f9e89"
             ],
             [
              0.6666666666666666,
              "#35b779"
             ],
             [
              0.7777777777777778,
              "#6ece58"
             ],
             [
              0.8888888888888888,
              "#b5de2b"
             ],
             [
              1.0,
              "#fde725"
             ]
            ],
            "type": "histogram2d"
           }
          ],
          "histogram": [
           {
            "marker": {
             "line": {
              "color": "white",
              "width": 0.6
             }
            },
            "type": "histogram"
           }
          ],
          "mesh3d": [
           {
            "colorbar": {
             "outlinewidth": 1,
             "tickcolor": "rgb(36,36,36)",
             "ticks": "outside"
            },
            "type": "mesh3d"
           }
          ],
          "parcoords": [
           {
            "line": {
             "colorbar": {
              "outlinewidth": 1,
              "tickcolor": "rgb(36,36,36)",
              "ticks": "outside"
             }
            },
            "type": "parcoords"
           }
          ],
          "pie": [
           {
            "automargin": true,
            "type": "pie"
           }
          ],
          "scatter3d": [
           {
            "line": {
             "colorbar": {
              "outlinewidth": 1,
              "tickcolor": "rgb(36,36,36)",
              "ticks": "outside"
             }
            },
            "marker": {
             "colorbar": {
              "outlinewidth": 1,
              "tickcolor": "rgb(36,36,36)",
              "ticks": "outside"
             }
            },
            "type": "scatter3d"
           }
          ],
          "scattercarpet": [
           {
            "marker": {
             "colorbar": {
              "outlinewidth": 1,
              "tickcolor": "rgb(36,36,36)",
              "ticks": "outside"
             }
            },
            "type": "scattercarpet"
           }
          ],
          "scattergeo": [
           {
            "marker": {
             "colorbar": {
              "outlinewidth": 1,
              "tickcolor": "rgb(36,36,36)",
              "ticks": "outside"
             }
            },
            "type": "scattergeo"
           }
          ],
          "scattergl": [
           {
            "marker": {
             "colorbar": {
              "outlinewidth": 1,
              "tickcolor": "rgb(36,36,36)",
              "ticks": "outside"
             }
            },
            "type": "scattergl"
           }
          ],
          "scattermapbox": [
           {
            "marker": {
             "colorbar": {
              "outlinewidth": 1,
              "tickcolor": "rgb(36,36,36)",
              "ticks": "outside"
             }
            },
            "type": "scattermapbox"
           }
          ],
          "scatterpolargl": [
           {
            "marker": {
             "colorbar": {
              "outlinewidth": 1,
              "tickcolor": "rgb(36,36,36)",
              "ticks": "outside"
             }
            },
            "type": "scatterpolargl"
           }
          ],
          "scatterpolar": [
           {
            "marker": {
             "colorbar": {
              "outlinewidth": 1,
              "tickcolor": "rgb(36,36,36)",
              "ticks": "outside"
             }
            },
            "type": "scatterpolar"
           }
          ],
          "scatter": [
           {
            "fillpattern": {
             "fillmode": "overlay",
             "size": 10,
             "solidity": 0.2
            },
            "type": "scatter"
           }
          ],
          "scatterternary": [
           {
            "marker": {
             "colorbar": {
              "outlinewidth": 1,
              "tickcolor": "rgb(36,36,36)",
              "ticks": "outside"
             }
            },
            "type": "scatterternary"
           }
          ],
          "surface": [
           {
            "colorbar": {
             "outlinewidth": 1,
             "tickcolor": "rgb(36,36,36)",
             "ticks": "outside"
            },
            "colorscale": [
             [
              0.0,
              "#440154"
             ],
             [
              0.1111111111111111,
              "#482878"
             ],
             [
              0.2222222222222222,
              "#3e4989"
             ],
             [
              0.3333333333333333,
              "#31688e"
             ],
             [
              0.4444444444444444,
              "#26828e"
             ],
             [
              0.5555555555555556,
              "#1f9e89"
             ],
             [
              0.6666666666666666,
              "#35b779"
             ],
             [
              0.7777777777777778,
              "#6ece58"
             ],
             [
              0.8888888888888888,
              "#b5de2b"
             ],
             [
              1.0,
              "#fde725"
             ]
            ],
            "type": "surface"
           }
          ],
          "table": [
           {
            "cells": {
             "fill": {
              "color": "rgb(237,237,237)"
             },
             "line": {
              "color": "white"
             }
            },
            "header": {
             "fill": {
              "color": "rgb(217,217,217)"
             },
             "line": {
              "color": "white"
             }
            },
            "type": "table"
           }
          ]
         },
         "layout": {
          "annotationdefaults": {
           "arrowhead": 0,
           "arrowwidth": 1
          },
          "autotypenumbers": "strict",
          "coloraxis": {
           "colorbar": {
            "outlinewidth": 1,
            "tickcolor": "rgb(36,36,36)",
            "ticks": "outside"
           }
          },
          "colorscale": {
           "diverging": [
            [
             0.0,
             "rgb(103,0,31)"
            ],
            [
             0.1,
             "rgb(178,24,43)"
            ],
            [
             0.2,
             "rgb(214,96,77)"
            ],
            [
             0.3,
             "rgb(244,165,130)"
            ],
            [
             0.4,
             "rgb(253,219,199)"
            ],
            [
             0.5,
             "rgb(247,247,247)"
            ],
            [
             0.6,
             "rgb(209,229,240)"
            ],
            [
             0.7,
             "rgb(146,197,222)"
            ],
            [
             0.8,
             "rgb(67,147,195)"
            ],
            [
             0.9,
             "rgb(33,102,172)"
            ],
            [
             1.0,
             "rgb(5,48,97)"
            ]
           ],
           "sequential": [
            [
             0.0,
             "#440154"
            ],
            [
             0.1111111111111111,
             "#482878"
            ],
            [
             0.2222222222222222,
             "#3e4989"
            ],
            [
             0.3333333333333333,
             "#31688e"
            ],
            [
             0.4444444444444444,
             "#26828e"
            ],
            [
             0.5555555555555556,
             "#1f9e89"
            ],
            [
             0.6666666666666666,
             "#35b779"
            ],
            [
             0.7777777777777778,
             "#6ece58"
            ],
            [
             0.8888888888888888,
             "#b5de2b"
            ],
            [
             1.0,
             "#fde725"
            ]
           ],
           "sequentialminus": [
            [
             0.0,
             "#440154"
            ],
            [
             0.1111111111111111,
             "#482878"
            ],
            [
             0.2222222222222222,
             "#3e4989"
            ],
            [
             0.3333333333333333,
             "#31688e"
            ],
            [
             0.4444444444444444,
             "#26828e"
            ],
            [
             0.5555555555555556,
             "#1f9e89"
            ],
            [
             0.6666666666666666,
             "#35b779"
            ],
            [
             0.7777777777777778,
             "#6ece58"
            ],
            [
             0.8888888888888888,
             "#b5de2b"
            ],
            [
             1.0,
             "#fde725"
            ]
           ]
          },
          "colorway": [
           "#1F77B4",
           "#FF7F0E",
           "#2CA02C",
           "#D62728",
           "#9467BD",
           "#8C564B",
           "#E377C2",
           "#7F7F7F",
           "#BCBD22",
           "#17BECF"
          ],
          "font": {
           "color": "rgb(36,36,36)"
          },
          "geo": {
           "bgcolor": "white",
           "lakecolor": "white",
           "landcolor": "white",
           "showlakes": true,
           "showland": true,
           "subunitcolor": "white"
          },
          "hoverlabel": {
           "align": "left"
          },
          "hovermode": "closest",
          "mapbox": {
           "style": "light"
          },
          "paper_bgcolor": "white",
          "plot_bgcolor": "white",
          "polar": {
           "angularaxis": {
            "gridcolor": "rgb(232,232,232)",
            "linecolor": "rgb(36,36,36)",
            "showgrid": false,
            "showline": true,
            "ticks": "outside"
           },
           "bgcolor": "white",
           "radialaxis": {
            "gridcolor": "rgb(232,232,232)",
            "linecolor": "rgb(36,36,36)",
            "showgrid": false,
            "showline": true,
            "ticks": "outside"
           }
          },
          "scene": {
           "xaxis": {
            "backgroundcolor": "white",
            "gridcolor": "rgb(232,232,232)",
            "gridwidth": 2,
            "linecolor": "rgb(36,36,36)",
            "showbackground": true,
            "showgrid": false,
            "showline": true,
            "ticks": "outside",
            "zeroline": false,
            "zerolinecolor": "rgb(36,36,36)"
           },
           "yaxis": {
            "backgroundcolor": "white",
            "gridcolor": "rgb(232,232,232)",
            "gridwidth": 2,
            "linecolor": "rgb(36,36,36)",
            "showbackground": true,
            "showgrid": false,
            "showline": true,
            "ticks": "outside",
            "zeroline": false,
            "zerolinecolor": "rgb(36,36,36)"
           },
           "zaxis": {
            "backgroundcolor": "white",
            "gridcolor": "rgb(232,232,232)",
            "gridwidth": 2,
            "linecolor": "rgb(36,36,36)",
            "showbackground": true,
            "showgrid": false,
            "showline": true,
            "ticks": "outside",
            "zeroline": false,
            "zerolinecolor": "rgb(36,36,36)"
           }
          },
          "shapedefaults": {
           "fillcolor": "black",
           "line": {
            "width": 0
           },
           "opacity": 0.3
          },
          "ternary": {
           "aaxis": {
            "gridcolor": "rgb(232,232,232)",
            "linecolor": "rgb(36,36,36)",
            "showgrid": false,
            "showline": true,
            "ticks": "outside"
           },
           "baxis": {
            "gridcolor": "rgb(232,232,232)",
            "linecolor": "rgb(36,36,36)",
            "showgrid": false,
            "showline": true,
            "ticks": "outside"
           },
           "bgcolor": "white",
           "caxis": {
            "gridcolor": "rgb(232,232,232)",
            "linecolor": "rgb(36,36,36)",
            "showgrid": false,
            "showline": true,
            "ticks": "outside"
           }
          },
          "title": {
           "x": 0.05
          },
          "xaxis": {
           "automargin": true,
           "gridcolor": "rgb(232,232,232)",
           "linecolor": "rgb(36,36,36)",
           "showgrid": false,
           "showline": true,
           "ticks": "outside",
           "title": {
            "standoff": 15
           },
           "zeroline": false,
           "zerolinecolor": "rgb(36,36,36)"
          },
          "yaxis": {
           "automargin": true,
           "gridcolor": "rgb(232,232,232)",
           "linecolor": "rgb(36,36,36)",
           "showgrid": false,
           "showline": true,
           "ticks": "outside",
           "title": {
            "standoff": 15
           },
           "zeroline": false,
           "zerolinecolor": "rgb(36,36,36)"
          }
         }
        },
        "xaxis": {
         "anchor": "y",
         "domain": [
          0.0,
          1.0
         ],
         "title": {
          "text": "Protein Name"
         }
        },
        "yaxis": {
         "anchor": "x",
         "domain": [
          0.0,
          1.0
         ],
         "title": {
          "text": "Fraction"
         }
        },
        "legend": {
         "title": {
          "text": "Category"
         },
         "tracegroupgap": 0
        },
        "title": {
         "text": "Fraction of Sequence Modeled with Very High Confidence (pLDDT > 90)"
        },
        "barmode": "relative",
        "height": 600,
        "width": 1200
       },
       "config": {
        "plotlyServerURL": "https://plot.ly"
       }
      },
      "text/html": "<div>                            <div id=\"b0ca0ebf-f8b6-475a-8c70-6ffaaf590e46\" class=\"plotly-graph-div\" style=\"height:600px; width:1200px;\"></div>            <script type=\"text/javascript\">                require([\"plotly\"], function(Plotly) {                    window.PLOTLYENV=window.PLOTLYENV || {};                                    if (document.getElementById(\"b0ca0ebf-f8b6-475a-8c70-6ffaaf590e46\")) {                    Plotly.newPlot(                        \"b0ca0ebf-f8b6-475a-8c70-6ffaaf590e46\",                        [{\"alignmentgroup\":\"True\",\"hovertemplate\":\"Category=metabolism_redox\\u003cbr\\u003eProtein Name=%{x}\\u003cbr\\u003eFraction=%{y}\\u003cextra\\u003e\\u003c\\u002fextra\\u003e\",\"legendgroup\":\"metabolism_redox\",\"marker\":{\"color\":\"#00bf7d\",\"pattern\":{\"shape\":\"\"}},\"name\":\"metabolism_redox\",\"offsetgroup\":\"metabolism_redox\",\"orientation\":\"v\",\"showlegend\":true,\"textposition\":\"auto\",\"x\":[\"ADH1A_HUMAN\",\"AL1A1_HUMAN\",\"AOFA_HUMAN\",\"AOFB_HUMAN\",\"AOXA_HUMAN\",\"ARK73_HUMAN\",\"CP1A2_HUMAN\",\"CP2B6_HUMAN\",\"CP2C9_HUMAN\",\"CP2CJ_HUMAN\",\"CP2D6_HUMAN\",\"CP3A4_HUMAN\",\"DHI1_HUMAN\",\"FMO1_HUMAN\",\"XDH_HUMAN\"],\"xaxis\":\"x\",\"y\":[0.9973262032085561,0.98,0.9695817490494296,0.9171483622350675,0.9214659685863874,0.9606060606060606,0.916504854368932,0.9040816326530612,0.787321063394683,0.8609406952965235,0.8568548387096774,0.8147410358565738,0.8694158075601375,0.8606403013182674,0.9346846846846847],\"yaxis\":\"y\",\"type\":\"bar\"},{\"alignmentgroup\":\"True\",\"hovertemplate\":\"Category=metabolism\\u003cbr\\u003eProtein Name=%{x}\\u003cbr\\u003eFraction=%{y}\\u003cextra\\u003e\\u003c\\u002fextra\\u003e\",\"legendgroup\":\"metabolism\",\"marker\":{\"color\":\"#00b4c5\",\"pattern\":{\"shape\":\"\"}},\"name\":\"metabolism\",\"offsetgroup\":\"metabolism\",\"orientation\":\"v\",\"showlegend\":true,\"textposition\":\"auto\",\"x\":[\"AHR_HUMAN\",\"GSTA1_HUMAN\",\"NR1I2_HUMAN\",\"NR1I3_HUMAN\",\"ST1A1_HUMAN\"],\"xaxis\":\"x\",\"y\":[0.21251475796930341,0.9773755656108597,0.6859122401847575,0.7293447293447294,0.9761904761904762],\"yaxis\":\"y\",\"type\":\"bar\"},{\"alignmentgroup\":\"True\",\"hovertemplate\":\"Category=absorption\\u003cbr\\u003eProtein Name=%{x}\\u003cbr\\u003eFraction=%{y}\\u003cextra\\u003e\\u003c\\u002fextra\\u003e\",\"legendgroup\":\"absorption\",\"marker\":{\"color\":\"#c44601\",\"pattern\":{\"shape\":\"\"}},\"name\":\"absorption\",\"offsetgroup\":\"absorption\",\"orientation\":\"v\",\"showlegend\":true,\"textposition\":\"auto\",\"x\":[\"A1AG1_HUMAN\",\"OXA1L_HUMAN\"],\"xaxis\":\"x\",\"y\":[0.72,0.35944700460829493],\"yaxis\":\"y\",\"type\":\"bar\"},{\"alignmentgroup\":\"True\",\"hovertemplate\":\"Category=drug_transporter\\u003cbr\\u003eProtein Name=%{x}\\u003cbr\\u003eFraction=%{y}\\u003cextra\\u003e\\u003c\\u002fextra\\u003e\",\"legendgroup\":\"drug_transporter\",\"marker\":{\"color\":\"#2546f0\",\"pattern\":{\"shape\":\"\"}},\"name\":\"drug_transporter\",\"offsetgroup\":\"drug_transporter\",\"orientation\":\"v\",\"showlegend\":true,\"textposition\":\"auto\",\"x\":[\"ABCBB_HUMAN\",\"ABCG2_HUMAN\",\"MDR1_HUMAN\",\"MRP1_HUMAN\",\"S15A1_HUMAN\",\"S22A6_HUMAN\",\"S22A8_HUMAN\",\"S47A1_HUMAN\",\"SO1B1_HUMAN\",\"SO1B3_HUMAN\"],\"xaxis\":\"x\",\"y\":[0.47954545454545455,0.6498470948012233,0.5504300234558248,0.4071895424836601,0.5190947666195191,0.39679715302491103,0.5138632162661737,0.7873462214411248,0.5173913043478261,0.4964336661911555],\"yaxis\":\"y\",\"type\":\"bar\"},{\"alignmentgroup\":\"True\",\"hovertemplate\":\"Category=toxicity\\u003cbr\\u003eProtein Name=%{x}\\u003cbr\\u003eFraction=%{y}\\u003cextra\\u003e\\u003c\\u002fextra\\u003e\",\"legendgroup\":\"toxicity\",\"marker\":{\"color\":\"#5928ed\",\"pattern\":{\"shape\":\"\"}},\"name\":\"toxicity\",\"offsetgroup\":\"toxicity\",\"orientation\":\"v\",\"showlegend\":true,\"textposition\":\"auto\",\"x\":[\"5HT2B_HUMAN\",\"ACH10_HUMAN\",\"ACHA3_HUMAN\",\"ACHA5_HUMAN\",\"ACHA7_HUMAN\",\"ACHA9_HUMAN\",\"ACM1_HUMAN\",\"ACM2_HUMAN\",\"ACM3_HUMAN\",\"ADA1A_HUMAN\",\"ADA2A_HUMAN\",\"ADRB1_HUMAN\",\"ADRB2_HUMAN\",\"ASM3A_HUMAN\",\"CAC1C_HUMAN\",\"CACB1_HUMAN\",\"CNR1_HUMAN\",\"CNR2_HUMAN\",\"GBRA1_HUMAN\",\"HRH1_HUMAN\",\"KCNH2_HUMAN\",\"SC6A2_HUMAN\",\"SC6A3_HUMAN\",\"SC6A4_HUMAN\",\"SCN5A_HUMAN\"],\"xaxis\":\"x\",\"y\":[0.38125,0.5033407572383074,0.6011904761904762,0.4518201284796574,0.3772455089820359,0.45188284518828453,0.5054466230936819,0.5118279569892473,0.32088285229202035,0.4236559139784946,0.47413793103448276,0.4831932773109244,0.587378640776699,0.9048672566371682,0.09684684684684684,0.4221105527638191,0.46284501061571126,0.637883008356546,0.6505494505494506,0.3991769547325103,0.25734024179620035,0.7386363636363636,0.7382875605815832,0.7567567567567568,0.11017369727047147],\"yaxis\":\"y\",\"type\":\"bar\"}],                        {\"template\":{\"data\":{\"barpolar\":[{\"marker\":{\"line\":{\"color\":\"white\",\"width\":0.5},\"pattern\":{\"fillmode\":\"overlay\",\"size\":10,\"solidity\":0.2}},\"type\":\"barpolar\"}],\"bar\":[{\"error_x\":{\"color\":\"rgb(36,36,36)\"},\"error_y\":{\"color\":\"rgb(36,36,36)\"},\"marker\":{\"line\":{\"color\":\"white\",\"width\":0.5},\"pattern\":{\"fillmode\":\"overlay\",\"size\":10,\"solidity\":0.2}},\"type\":\"bar\"}],\"carpet\":[{\"aaxis\":{\"endlinecolor\":\"rgb(36,36,36)\",\"gridcolor\":\"white\",\"linecolor\":\"white\",\"minorgridcolor\":\"white\",\"startlinecolor\":\"rgb(36,36,36)\"},\"baxis\":{\"endlinecolor\":\"rgb(36,36,36)\",\"gridcolor\":\"white\",\"linecolor\":\"white\",\"minorgridcolor\":\"white\",\"startlinecolor\":\"rgb(36,36,36)\"},\"type\":\"carpet\"}],\"choropleth\":[{\"colorbar\":{\"outlinewidth\":1,\"tickcolor\":\"rgb(36,36,36)\",\"ticks\":\"outside\"},\"type\":\"choropleth\"}],\"contourcarpet\":[{\"colorbar\":{\"outlinewidth\":1,\"tickcolor\":\"rgb(36,36,36)\",\"ticks\":\"outside\"},\"type\":\"contourcarpet\"}],\"contour\":[{\"colorbar\":{\"outlinewidth\":1,\"tickcolor\":\"rgb(36,36,36)\",\"ticks\":\"outside\"},\"colorscale\":[[0.0,\"#440154\"],[0.1111111111111111,\"#482878\"],[0.2222222222222222,\"#3e4989\"],[0.3333333333333333,\"#31688e\"],[0.4444444444444444,\"#26828e\"],[0.5555555555555556,\"#1f9e89\"],[0.6666666666666666,\"#35b779\"],[0.7777777777777778,\"#6ece58\"],[0.8888888888888888,\"#b5de2b\"],[1.0,\"#fde725\"]],\"type\":\"contour\"}],\"heatmapgl\":[{\"colorbar\":{\"outlinewidth\":1,\"tickcolor\":\"rgb(36,36,36)\",\"ticks\":\"outside\"},\"colorscale\":[[0.0,\"#440154\"],[0.1111111111111111,\"#482878\"],[0.2222222222222222,\"#3e4989\"],[0.3333333333333333,\"#31688e\"],[0.4444444444444444,\"#26828e\"],[0.5555555555555556,\"#1f9e89\"],[0.6666666666666666,\"#35b779\"],[0.7777777777777778,\"#6ece58\"],[0.8888888888888888,\"#b5de2b\"],[1.0,\"#fde725\"]],\"type\":\"heatmapgl\"}],\"heatmap\":[{\"colorbar\":{\"outlinewidth\":1,\"tickcolor\":\"rgb(36,36,36)\",\"ticks\":\"outside\"},\"colorscale\":[[0.0,\"#440154\"],[0.1111111111111111,\"#482878\"],[0.2222222222222222,\"#3e4989\"],[0.3333333333333333,\"#31688e\"],[0.4444444444444444,\"#26828e\"],[0.5555555555555556,\"#1f9e89\"],[0.6666666666666666,\"#35b779\"],[0.7777777777777778,\"#6ece58\"],[0.8888888888888888,\"#b5de2b\"],[1.0,\"#fde725\"]],\"type\":\"heatmap\"}],\"histogram2dcontour\":[{\"colorbar\":{\"outlinewidth\":1,\"tickcolor\":\"rgb(36,36,36)\",\"ticks\":\"outside\"},\"colorscale\":[[0.0,\"#440154\"],[0.1111111111111111,\"#482878\"],[0.2222222222222222,\"#3e4989\"],[0.3333333333333333,\"#31688e\"],[0.4444444444444444,\"#26828e\"],[0.5555555555555556,\"#1f9e89\"],[0.6666666666666666,\"#35b779\"],[0.7777777777777778,\"#6ece58\"],[0.8888888888888888,\"#b5de2b\"],[1.0,\"#fde725\"]],\"type\":\"histogram2dcontour\"}],\"histogram2d\":[{\"colorbar\":{\"outlinewidth\":1,\"tickcolor\":\"rgb(36,36,36)\",\"ticks\":\"outside\"},\"colorscale\":[[0.0,\"#440154\"],[0.1111111111111111,\"#482878\"],[0.2222222222222222,\"#3e4989\"],[0.3333333333333333,\"#31688e\"],[0.4444444444444444,\"#26828e\"],[0.5555555555555556,\"#1f9e89\"],[0.6666666666666666,\"#35b779\"],[0.7777777777777778,\"#6ece58\"],[0.8888888888888888,\"#b5de2b\"],[1.0,\"#fde725\"]],\"type\":\"histogram2d\"}],\"histogram\":[{\"marker\":{\"line\":{\"color\":\"white\",\"width\":0.6}},\"type\":\"histogram\"}],\"mesh3d\":[{\"colorbar\":{\"outlinewidth\":1,\"tickcolor\":\"rgb(36,36,36)\",\"ticks\":\"outside\"},\"type\":\"mesh3d\"}],\"parcoords\":[{\"line\":{\"colorbar\":{\"outlinewidth\":1,\"tickcolor\":\"rgb(36,36,36)\",\"ticks\":\"outside\"}},\"type\":\"parcoords\"}],\"pie\":[{\"automargin\":true,\"type\":\"pie\"}],\"scatter3d\":[{\"line\":{\"colorbar\":{\"outlinewidth\":1,\"tickcolor\":\"rgb(36,36,36)\",\"ticks\":\"outside\"}},\"marker\":{\"colorbar\":{\"outlinewidth\":1,\"tickcolor\":\"rgb(36,36,36)\",\"ticks\":\"outside\"}},\"type\":\"scatter3d\"}],\"scattercarpet\":[{\"marker\":{\"colorbar\":{\"outlinewidth\":1,\"tickcolor\":\"rgb(36,36,36)\",\"ticks\":\"outside\"}},\"type\":\"scattercarpet\"}],\"scattergeo\":[{\"marker\":{\"colorbar\":{\"outlinewidth\":1,\"tickcolor\":\"rgb(36,36,36)\",\"ticks\":\"outside\"}},\"type\":\"scattergeo\"}],\"scattergl\":[{\"marker\":{\"colorbar\":{\"outlinewidth\":1,\"tickcolor\":\"rgb(36,36,36)\",\"ticks\":\"outside\"}},\"type\":\"scattergl\"}],\"scattermapbox\":[{\"marker\":{\"colorbar\":{\"outlinewidth\":1,\"tickcolor\":\"rgb(36,36,36)\",\"ticks\":\"outside\"}},\"type\":\"scattermapbox\"}],\"scatterpolargl\":[{\"marker\":{\"colorbar\":{\"outlinewidth\":1,\"tickcolor\":\"rgb(36,36,36)\",\"ticks\":\"outside\"}},\"type\":\"scatterpolargl\"}],\"scatterpolar\":[{\"marker\":{\"colorbar\":{\"outlinewidth\":1,\"tickcolor\":\"rgb(36,36,36)\",\"ticks\":\"outside\"}},\"type\":\"scatterpolar\"}],\"scatter\":[{\"fillpattern\":{\"fillmode\":\"overlay\",\"size\":10,\"solidity\":0.2},\"type\":\"scatter\"}],\"scatterternary\":[{\"marker\":{\"colorbar\":{\"outlinewidth\":1,\"tickcolor\":\"rgb(36,36,36)\",\"ticks\":\"outside\"}},\"type\":\"scatterternary\"}],\"surface\":[{\"colorbar\":{\"outlinewidth\":1,\"tickcolor\":\"rgb(36,36,36)\",\"ticks\":\"outside\"},\"colorscale\":[[0.0,\"#440154\"],[0.1111111111111111,\"#482878\"],[0.2222222222222222,\"#3e4989\"],[0.3333333333333333,\"#31688e\"],[0.4444444444444444,\"#26828e\"],[0.5555555555555556,\"#1f9e89\"],[0.6666666666666666,\"#35b779\"],[0.7777777777777778,\"#6ece58\"],[0.8888888888888888,\"#b5de2b\"],[1.0,\"#fde725\"]],\"type\":\"surface\"}],\"table\":[{\"cells\":{\"fill\":{\"color\":\"rgb(237,237,237)\"},\"line\":{\"color\":\"white\"}},\"header\":{\"fill\":{\"color\":\"rgb(217,217,217)\"},\"line\":{\"color\":\"white\"}},\"type\":\"table\"}]},\"layout\":{\"annotationdefaults\":{\"arrowhead\":0,\"arrowwidth\":1},\"autotypenumbers\":\"strict\",\"coloraxis\":{\"colorbar\":{\"outlinewidth\":1,\"tickcolor\":\"rgb(36,36,36)\",\"ticks\":\"outside\"}},\"colorscale\":{\"diverging\":[[0.0,\"rgb(103,0,31)\"],[0.1,\"rgb(178,24,43)\"],[0.2,\"rgb(214,96,77)\"],[0.3,\"rgb(244,165,130)\"],[0.4,\"rgb(253,219,199)\"],[0.5,\"rgb(247,247,247)\"],[0.6,\"rgb(209,229,240)\"],[0.7,\"rgb(146,197,222)\"],[0.8,\"rgb(67,147,195)\"],[0.9,\"rgb(33,102,172)\"],[1.0,\"rgb(5,48,97)\"]],\"sequential\":[[0.0,\"#440154\"],[0.1111111111111111,\"#482878\"],[0.2222222222222222,\"#3e4989\"],[0.3333333333333333,\"#31688e\"],[0.4444444444444444,\"#26828e\"],[0.5555555555555556,\"#1f9e89\"],[0.6666666666666666,\"#35b779\"],[0.7777777777777778,\"#6ece58\"],[0.8888888888888888,\"#b5de2b\"],[1.0,\"#fde725\"]],\"sequentialminus\":[[0.0,\"#440154\"],[0.1111111111111111,\"#482878\"],[0.2222222222222222,\"#3e4989\"],[0.3333333333333333,\"#31688e\"],[0.4444444444444444,\"#26828e\"],[0.5555555555555556,\"#1f9e89\"],[0.6666666666666666,\"#35b779\"],[0.7777777777777778,\"#6ece58\"],[0.8888888888888888,\"#b5de2b\"],[1.0,\"#fde725\"]]},\"colorway\":[\"#1F77B4\",\"#FF7F0E\",\"#2CA02C\",\"#D62728\",\"#9467BD\",\"#8C564B\",\"#E377C2\",\"#7F7F7F\",\"#BCBD22\",\"#17BECF\"],\"font\":{\"color\":\"rgb(36,36,36)\"},\"geo\":{\"bgcolor\":\"white\",\"lakecolor\":\"white\",\"landcolor\":\"white\",\"showlakes\":true,\"showland\":true,\"subunitcolor\":\"white\"},\"hoverlabel\":{\"align\":\"left\"},\"hovermode\":\"closest\",\"mapbox\":{\"style\":\"light\"},\"paper_bgcolor\":\"white\",\"plot_bgcolor\":\"white\",\"polar\":{\"angularaxis\":{\"gridcolor\":\"rgb(232,232,232)\",\"linecolor\":\"rgb(36,36,36)\",\"showgrid\":false,\"showline\":true,\"ticks\":\"outside\"},\"bgcolor\":\"white\",\"radialaxis\":{\"gridcolor\":\"rgb(232,232,232)\",\"linecolor\":\"rgb(36,36,36)\",\"showgrid\":false,\"showline\":true,\"ticks\":\"outside\"}},\"scene\":{\"xaxis\":{\"backgroundcolor\":\"white\",\"gridcolor\":\"rgb(232,232,232)\",\"gridwidth\":2,\"linecolor\":\"rgb(36,36,36)\",\"showbackground\":true,\"showgrid\":false,\"showline\":true,\"ticks\":\"outside\",\"zeroline\":false,\"zerolinecolor\":\"rgb(36,36,36)\"},\"yaxis\":{\"backgroundcolor\":\"white\",\"gridcolor\":\"rgb(232,232,232)\",\"gridwidth\":2,\"linecolor\":\"rgb(36,36,36)\",\"showbackground\":true,\"showgrid\":false,\"showline\":true,\"ticks\":\"outside\",\"zeroline\":false,\"zerolinecolor\":\"rgb(36,36,36)\"},\"zaxis\":{\"backgroundcolor\":\"white\",\"gridcolor\":\"rgb(232,232,232)\",\"gridwidth\":2,\"linecolor\":\"rgb(36,36,36)\",\"showbackground\":true,\"showgrid\":false,\"showline\":true,\"ticks\":\"outside\",\"zeroline\":false,\"zerolinecolor\":\"rgb(36,36,36)\"}},\"shapedefaults\":{\"fillcolor\":\"black\",\"line\":{\"width\":0},\"opacity\":0.3},\"ternary\":{\"aaxis\":{\"gridcolor\":\"rgb(232,232,232)\",\"linecolor\":\"rgb(36,36,36)\",\"showgrid\":false,\"showline\":true,\"ticks\":\"outside\"},\"baxis\":{\"gridcolor\":\"rgb(232,232,232)\",\"linecolor\":\"rgb(36,36,36)\",\"showgrid\":false,\"showline\":true,\"ticks\":\"outside\"},\"bgcolor\":\"white\",\"caxis\":{\"gridcolor\":\"rgb(232,232,232)\",\"linecolor\":\"rgb(36,36,36)\",\"showgrid\":false,\"showline\":true,\"ticks\":\"outside\"}},\"title\":{\"x\":0.05},\"xaxis\":{\"automargin\":true,\"gridcolor\":\"rgb(232,232,232)\",\"linecolor\":\"rgb(36,36,36)\",\"showgrid\":false,\"showline\":true,\"ticks\":\"outside\",\"title\":{\"standoff\":15},\"zeroline\":false,\"zerolinecolor\":\"rgb(36,36,36)\"},\"yaxis\":{\"automargin\":true,\"gridcolor\":\"rgb(232,232,232)\",\"linecolor\":\"rgb(36,36,36)\",\"showgrid\":false,\"showline\":true,\"ticks\":\"outside\",\"title\":{\"standoff\":15},\"zeroline\":false,\"zerolinecolor\":\"rgb(36,36,36)\"}}},\"xaxis\":{\"anchor\":\"y\",\"domain\":[0.0,1.0],\"title\":{\"text\":\"Protein Name\"}},\"yaxis\":{\"anchor\":\"x\",\"domain\":[0.0,1.0],\"title\":{\"text\":\"Fraction\"}},\"legend\":{\"title\":{\"text\":\"Category\"},\"tracegroupgap\":0},\"title\":{\"text\":\"Fraction of Sequence Modeled with Very High Confidence (pLDDT \\u003e 90)\"},\"barmode\":\"relative\",\"height\":600,\"width\":1200},                        {\"responsive\": true}                    ).then(function(){\n                            \nvar gd = document.getElementById('b0ca0ebf-f8b6-475a-8c70-6ffaaf590e46');\nvar x = new MutationObserver(function (mutations, observer) {{\n        var display = window.getComputedStyle(gd).display;\n        if (!display || display === 'none') {{\n            console.log([gd, 'removed!']);\n            Plotly.purge(gd);\n            observer.disconnect();\n        }}\n}});\n\n// Listen for the removal of the full notebook cells\nvar notebookContainer = gd.closest('#notebook-container');\nif (notebookContainer) {{\n    x.observe(notebookContainer, {childList: true});\n}}\n\n// Listen for the clearing of the current output cell\nvar outputEl = gd.closest('.output');\nif (outputEl) {{\n    x.observe(outputEl, {childList: true});\n}}\n\n                        })                };                });            </script>        </div>"
     },
     "metadata": {},
     "output_type": "display_data"
    }
   ],
   "source": [
    "fig.show()"
   ],
   "metadata": {
    "collapsed": false,
    "ExecuteTime": {
     "end_time": "2024-02-21T19:14:26.742292Z",
     "start_time": "2024-02-21T19:14:26.726107Z"
    }
   },
   "id": "c866f08d914ec541",
   "execution_count": 63
  },
  {
   "cell_type": "code",
   "outputs": [],
   "source": [
    "fig.write_image(Path('..') / 'figures' / 'alphafold_confidence.png')"
   ],
   "metadata": {
    "collapsed": false,
    "ExecuteTime": {
     "end_time": "2024-02-21T19:14:59.947837Z",
     "start_time": "2024-02-21T19:14:58.660118Z"
    }
   },
   "id": "3e3c59c981eadc19",
   "execution_count": 64
  },
  {
   "cell_type": "code",
   "outputs": [
    {
     "data": {
      "text/plain": "57"
     },
     "execution_count": 65,
     "metadata": {},
     "output_type": "execute_result"
    }
   ],
   "source": [
    "len(confidence_dict)"
   ],
   "metadata": {
    "collapsed": false,
    "ExecuteTime": {
     "end_time": "2024-02-21T19:14:59.973118Z",
     "start_time": "2024-02-21T19:14:59.951210Z"
    }
   },
   "id": "2eaa5d7e31548fce",
   "execution_count": 65
  },
  {
   "cell_type": "markdown",
   "source": [
    "# Combine info"
   ],
   "metadata": {
    "collapsed": false
   },
   "id": "d281869d41d518f7"
  },
  {
   "cell_type": "code",
   "outputs": [],
   "source": [
    "data_dict = {af.components[0].name: af for af in af_structures}"
   ],
   "metadata": {
    "collapsed": false,
    "ExecuteTime": {
     "end_time": "2024-02-21T19:15:02.231078Z",
     "start_time": "2024-02-21T19:15:02.209302Z"
    }
   },
   "id": "f6b8ba8c664ab315",
   "execution_count": 66
  },
  {
   "cell_type": "code",
   "outputs": [
    {
     "data": {
      "text/plain": "57"
     },
     "execution_count": 67,
     "metadata": {},
     "output_type": "execute_result"
    }
   ],
   "source": [
    "len(data_dict)"
   ],
   "metadata": {
    "collapsed": false,
    "ExecuteTime": {
     "end_time": "2024-02-21T19:15:02.675176Z",
     "start_time": "2024-02-21T19:15:02.638348Z"
    }
   },
   "id": "1c5ccbda62291c0",
   "execution_count": 67
  },
  {
   "cell_type": "markdown",
   "source": [
    "# Analyze Experimental Structures"
   ],
   "metadata": {
    "collapsed": false
   },
   "id": "69f85610f85fd454"
  },
  {
   "cell_type": "code",
   "outputs": [
    {
     "data": {
      "text/plain": "<module 'avoidome.target' from '/Users/alexpayne/Scientific_Projects/avoidome-analysis/avoidome/target.py'>"
     },
     "execution_count": 47,
     "metadata": {},
     "output_type": "execute_result"
    }
   ],
   "source": [
    "import avoidome.target as target\n",
    "reload(target)"
   ],
   "metadata": {
    "collapsed": false,
    "ExecuteTime": {
     "end_time": "2024-02-21T20:07:40.478713Z",
     "start_time": "2024-02-21T20:07:40.449747Z"
    }
   },
   "id": "c5865a0b4af05091",
   "execution_count": 47
  },
  {
   "cell_type": "code",
   "outputs": [
    {
     "name": "stderr",
     "output_type": "stream",
     "text": [
      "100%|██████████| 57/57 [00:07<00:00,  7.15it/s]\n"
     ]
    }
   ],
   "source": [
    "tsds = [target.TargetStructureData.from_uniprot_entry(ue) for ue in tqdm(uniprot_entries)]"
   ],
   "metadata": {
    "collapsed": false,
    "ExecuteTime": {
     "end_time": "2024-02-21T20:07:48.979641Z",
     "start_time": "2024-02-21T20:07:40.995885Z"
    }
   },
   "id": "69abd50b9ec82c05",
   "execution_count": 48
  },
  {
   "cell_type": "code",
   "outputs": [
    {
     "data": {
      "text/plain": "57"
     },
     "execution_count": 49,
     "metadata": {},
     "output_type": "execute_result"
    }
   ],
   "source": [
    "len(tsds)"
   ],
   "metadata": {
    "collapsed": false,
    "ExecuteTime": {
     "end_time": "2024-02-21T20:07:48.991138Z",
     "start_time": "2024-02-21T20:07:48.979717Z"
    }
   },
   "id": "6916933b39c15d9c",
   "execution_count": 49
  },
  {
   "cell_type": "code",
   "outputs": [],
   "source": [
    "tsd = tsds[0]"
   ],
   "metadata": {
    "collapsed": false,
    "ExecuteTime": {
     "end_time": "2024-02-21T20:07:48.993135Z",
     "start_time": "2024-02-21T20:07:48.984248Z"
    }
   },
   "id": "d22edd9d663b6cbc",
   "execution_count": 50
  },
  {
   "cell_type": "code",
   "outputs": [
    {
     "data": {
      "text/plain": "'NR1I2_HUMAN'"
     },
     "execution_count": 51,
     "metadata": {},
     "output_type": "execute_result"
    }
   ],
   "source": [
    "tsd.target_name"
   ],
   "metadata": {
    "collapsed": false,
    "ExecuteTime": {
     "end_time": "2024-02-21T20:07:49.029484Z",
     "start_time": "2024-02-21T20:07:48.994001Z"
    }
   },
   "id": "99c9155d60076f6c",
   "execution_count": 51
  },
  {
   "cell_type": "code",
   "outputs": [
    {
     "data": {
      "text/plain": "53"
     },
     "execution_count": 52,
     "metadata": {},
     "output_type": "execute_result"
    }
   ],
   "source": [
    "tsd.n_experimental_structures"
   ],
   "metadata": {
    "collapsed": false,
    "ExecuteTime": {
     "end_time": "2024-02-21T20:07:49.032153Z",
     "start_time": "2024-02-21T20:07:48.998729Z"
    }
   },
   "id": "6a98d60eb597428",
   "execution_count": 52
  },
  {
   "cell_type": "code",
   "outputs": [
    {
     "data": {
      "text/plain": "1"
     },
     "execution_count": 53,
     "metadata": {},
     "output_type": "execute_result"
    }
   ],
   "source": [
    "tsd.n_predicted_structures"
   ],
   "metadata": {
    "collapsed": false,
    "ExecuteTime": {
     "end_time": "2024-02-21T20:07:49.044493Z",
     "start_time": "2024-02-21T20:07:49.006170Z"
    }
   },
   "id": "f335c1276e2d046",
   "execution_count": 53
  },
  {
   "cell_type": "code",
   "outputs": [
    {
     "data": {
      "text/plain": "0.6972437179375708"
     },
     "execution_count": 54,
     "metadata": {},
     "output_type": "execute_result"
    }
   ],
   "source": [
    "tsd.average_coverage"
   ],
   "metadata": {
    "collapsed": false,
    "ExecuteTime": {
     "end_time": "2024-02-21T20:07:49.046671Z",
     "start_time": "2024-02-21T20:07:49.013623Z"
    }
   },
   "id": "fc673df4902c3606",
   "execution_count": 54
  },
  {
   "cell_type": "code",
   "outputs": [
    {
     "data": {
      "text/plain": "85.43"
     },
     "execution_count": 55,
     "metadata": {},
     "output_type": "execute_result"
    }
   ],
   "source": [
    "tsd.average_confidence"
   ],
   "metadata": {
    "collapsed": false,
    "ExecuteTime": {
     "end_time": "2024-02-21T20:07:49.048654Z",
     "start_time": "2024-02-21T20:07:49.019743Z"
    }
   },
   "id": "256ef885ac25dafa",
   "execution_count": 55
  },
  {
   "cell_type": "code",
   "outputs": [],
   "source": [
    "coverages = [exp_struc.sequence_coverage for exp_struc in tsd.experimental_structures]"
   ],
   "metadata": {
    "collapsed": false,
    "ExecuteTime": {
     "end_time": "2024-02-21T20:07:49.131918Z",
     "start_time": "2024-02-21T20:07:49.023349Z"
    }
   },
   "id": "2c6b62a89e05f892",
   "execution_count": 56
  },
  {
   "cell_type": "code",
   "outputs": [
    {
     "data": {
      "application/vnd.plotly.v1+json": {
       "data": [
        {
         "alignmentgroup": "True",
         "bingroup": "x",
         "hovertemplate": "variable=0<br>value=%{x}<br>count=%{y}<extra></extra>",
         "legendgroup": "0",
         "marker": {
          "color": "#636efa",
          "pattern": {
           "shape": ""
          }
         },
         "name": "0",
         "offsetgroup": "0",
         "orientation": "v",
         "showlegend": true,
         "x": [
          304.0,
          304.0,
          304.0,
          304.0,
          301.0,
          292.0,
          304.0,
          304.0,
          304.0,
          304.0,
          304.0,
          304.0,
          289.0,
          304.0,
          304.0,
          304.0,
          304.0,
          304.0,
          304.0,
          302.0,
          304.0,
          304.0,
          296.0,
          304.0,
          305.0,
          304.0,
          304.0,
          296.0,
          305.0,
          304.0,
          304.0,
          304.0,
          304.0,
          304.0,
          304.0,
          304.0,
          304.0,
          304.0,
          304.0,
          304.0,
          304.0,
          304.0,
          304.0,
          304.0,
          297.0,
          297.0,
          297.0,
          297.0,
          304.0,
          304.0,
          304.0,
          304.0,
          304.0
         ],
         "xaxis": "x",
         "yaxis": "y",
         "type": "histogram"
        }
       ],
       "layout": {
        "template": {
         "data": {
          "histogram2dcontour": [
           {
            "type": "histogram2dcontour",
            "colorbar": {
             "outlinewidth": 0,
             "ticks": ""
            },
            "colorscale": [
             [
              0.0,
              "#0d0887"
             ],
             [
              0.1111111111111111,
              "#46039f"
             ],
             [
              0.2222222222222222,
              "#7201a8"
             ],
             [
              0.3333333333333333,
              "#9c179e"
             ],
             [
              0.4444444444444444,
              "#bd3786"
             ],
             [
              0.5555555555555556,
              "#d8576b"
             ],
             [
              0.6666666666666666,
              "#ed7953"
             ],
             [
              0.7777777777777778,
              "#fb9f3a"
             ],
             [
              0.8888888888888888,
              "#fdca26"
             ],
             [
              1.0,
              "#f0f921"
             ]
            ]
           }
          ],
          "choropleth": [
           {
            "type": "choropleth",
            "colorbar": {
             "outlinewidth": 0,
             "ticks": ""
            }
           }
          ],
          "histogram2d": [
           {
            "type": "histogram2d",
            "colorbar": {
             "outlinewidth": 0,
             "ticks": ""
            },
            "colorscale": [
             [
              0.0,
              "#0d0887"
             ],
             [
              0.1111111111111111,
              "#46039f"
             ],
             [
              0.2222222222222222,
              "#7201a8"
             ],
             [
              0.3333333333333333,
              "#9c179e"
             ],
             [
              0.4444444444444444,
              "#bd3786"
             ],
             [
              0.5555555555555556,
              "#d8576b"
             ],
             [
              0.6666666666666666,
              "#ed7953"
             ],
             [
              0.7777777777777778,
              "#fb9f3a"
             ],
             [
              0.8888888888888888,
              "#fdca26"
             ],
             [
              1.0,
              "#f0f921"
             ]
            ]
           }
          ],
          "heatmap": [
           {
            "type": "heatmap",
            "colorbar": {
             "outlinewidth": 0,
             "ticks": ""
            },
            "colorscale": [
             [
              0.0,
              "#0d0887"
             ],
             [
              0.1111111111111111,
              "#46039f"
             ],
             [
              0.2222222222222222,
              "#7201a8"
             ],
             [
              0.3333333333333333,
              "#9c179e"
             ],
             [
              0.4444444444444444,
              "#bd3786"
             ],
             [
              0.5555555555555556,
              "#d8576b"
             ],
             [
              0.6666666666666666,
              "#ed7953"
             ],
             [
              0.7777777777777778,
              "#fb9f3a"
             ],
             [
              0.8888888888888888,
              "#fdca26"
             ],
             [
              1.0,
              "#f0f921"
             ]
            ]
           }
          ],
          "heatmapgl": [
           {
            "type": "heatmapgl",
            "colorbar": {
             "outlinewidth": 0,
             "ticks": ""
            },
            "colorscale": [
             [
              0.0,
              "#0d0887"
             ],
             [
              0.1111111111111111,
              "#46039f"
             ],
             [
              0.2222222222222222,
              "#7201a8"
             ],
             [
              0.3333333333333333,
              "#9c179e"
             ],
             [
              0.4444444444444444,
              "#bd3786"
             ],
             [
              0.5555555555555556,
              "#d8576b"
             ],
             [
              0.6666666666666666,
              "#ed7953"
             ],
             [
              0.7777777777777778,
              "#fb9f3a"
             ],
             [
              0.8888888888888888,
              "#fdca26"
             ],
             [
              1.0,
              "#f0f921"
             ]
            ]
           }
          ],
          "contourcarpet": [
           {
            "type": "contourcarpet",
            "colorbar": {
             "outlinewidth": 0,
             "ticks": ""
            }
           }
          ],
          "contour": [
           {
            "type": "contour",
            "colorbar": {
             "outlinewidth": 0,
             "ticks": ""
            },
            "colorscale": [
             [
              0.0,
              "#0d0887"
             ],
             [
              0.1111111111111111,
              "#46039f"
             ],
             [
              0.2222222222222222,
              "#7201a8"
             ],
             [
              0.3333333333333333,
              "#9c179e"
             ],
             [
              0.4444444444444444,
              "#bd3786"
             ],
             [
              0.5555555555555556,
              "#d8576b"
             ],
             [
              0.6666666666666666,
              "#ed7953"
             ],
             [
              0.7777777777777778,
              "#fb9f3a"
             ],
             [
              0.8888888888888888,
              "#fdca26"
             ],
             [
              1.0,
              "#f0f921"
             ]
            ]
           }
          ],
          "surface": [
           {
            "type": "surface",
            "colorbar": {
             "outlinewidth": 0,
             "ticks": ""
            },
            "colorscale": [
             [
              0.0,
              "#0d0887"
             ],
             [
              0.1111111111111111,
              "#46039f"
             ],
             [
              0.2222222222222222,
              "#7201a8"
             ],
             [
              0.3333333333333333,
              "#9c179e"
             ],
             [
              0.4444444444444444,
              "#bd3786"
             ],
             [
              0.5555555555555556,
              "#d8576b"
             ],
             [
              0.6666666666666666,
              "#ed7953"
             ],
             [
              0.7777777777777778,
              "#fb9f3a"
             ],
             [
              0.8888888888888888,
              "#fdca26"
             ],
             [
              1.0,
              "#f0f921"
             ]
            ]
           }
          ],
          "mesh3d": [
           {
            "type": "mesh3d",
            "colorbar": {
             "outlinewidth": 0,
             "ticks": ""
            }
           }
          ],
          "scatter": [
           {
            "marker": {
             "line": {
              "color": "#283442"
             }
            },
            "type": "scatter"
           }
          ],
          "parcoords": [
           {
            "type": "parcoords",
            "line": {
             "colorbar": {
              "outlinewidth": 0,
              "ticks": ""
             }
            }
           }
          ],
          "scatterpolargl": [
           {
            "type": "scatterpolargl",
            "marker": {
             "colorbar": {
              "outlinewidth": 0,
              "ticks": ""
             }
            }
           }
          ],
          "bar": [
           {
            "error_x": {
             "color": "#f2f5fa"
            },
            "error_y": {
             "color": "#f2f5fa"
            },
            "marker": {
             "line": {
              "color": "rgb(17,17,17)",
              "width": 0.5
             },
             "pattern": {
              "fillmode": "overlay",
              "size": 10,
              "solidity": 0.2
             }
            },
            "type": "bar"
           }
          ],
          "scattergeo": [
           {
            "type": "scattergeo",
            "marker": {
             "colorbar": {
              "outlinewidth": 0,
              "ticks": ""
             }
            }
           }
          ],
          "scatterpolar": [
           {
            "type": "scatterpolar",
            "marker": {
             "colorbar": {
              "outlinewidth": 0,
              "ticks": ""
             }
            }
           }
          ],
          "histogram": [
           {
            "marker": {
             "pattern": {
              "fillmode": "overlay",
              "size": 10,
              "solidity": 0.2
             }
            },
            "type": "histogram"
           }
          ],
          "scattergl": [
           {
            "marker": {
             "line": {
              "color": "#283442"
             }
            },
            "type": "scattergl"
           }
          ],
          "scatter3d": [
           {
            "type": "scatter3d",
            "line": {
             "colorbar": {
              "outlinewidth": 0,
              "ticks": ""
             }
            },
            "marker": {
             "colorbar": {
              "outlinewidth": 0,
              "ticks": ""
             }
            }
           }
          ],
          "scattermapbox": [
           {
            "type": "scattermapbox",
            "marker": {
             "colorbar": {
              "outlinewidth": 0,
              "ticks": ""
             }
            }
           }
          ],
          "scatterternary": [
           {
            "type": "scatterternary",
            "marker": {
             "colorbar": {
              "outlinewidth": 0,
              "ticks": ""
             }
            }
           }
          ],
          "scattercarpet": [
           {
            "type": "scattercarpet",
            "marker": {
             "colorbar": {
              "outlinewidth": 0,
              "ticks": ""
             }
            }
           }
          ],
          "carpet": [
           {
            "aaxis": {
             "endlinecolor": "#A2B1C6",
             "gridcolor": "#506784",
             "linecolor": "#506784",
             "minorgridcolor": "#506784",
             "startlinecolor": "#A2B1C6"
            },
            "baxis": {
             "endlinecolor": "#A2B1C6",
             "gridcolor": "#506784",
             "linecolor": "#506784",
             "minorgridcolor": "#506784",
             "startlinecolor": "#A2B1C6"
            },
            "type": "carpet"
           }
          ],
          "table": [
           {
            "cells": {
             "fill": {
              "color": "#506784"
             },
             "line": {
              "color": "rgb(17,17,17)"
             }
            },
            "header": {
             "fill": {
              "color": "#2a3f5f"
             },
             "line": {
              "color": "rgb(17,17,17)"
             }
            },
            "type": "table"
           }
          ],
          "barpolar": [
           {
            "marker": {
             "line": {
              "color": "rgb(17,17,17)",
              "width": 0.5
             },
             "pattern": {
              "fillmode": "overlay",
              "size": 10,
              "solidity": 0.2
             }
            },
            "type": "barpolar"
           }
          ],
          "pie": [
           {
            "automargin": true,
            "type": "pie"
           }
          ]
         },
         "layout": {
          "autotypenumbers": "strict",
          "colorway": [
           "#636efa",
           "#EF553B",
           "#00cc96",
           "#ab63fa",
           "#FFA15A",
           "#19d3f3",
           "#FF6692",
           "#B6E880",
           "#FF97FF",
           "#FECB52"
          ],
          "font": {
           "color": "#f2f5fa"
          },
          "hovermode": "closest",
          "hoverlabel": {
           "align": "left"
          },
          "paper_bgcolor": "rgb(17,17,17)",
          "plot_bgcolor": "rgb(17,17,17)",
          "polar": {
           "bgcolor": "rgb(17,17,17)",
           "angularaxis": {
            "gridcolor": "#506784",
            "linecolor": "#506784",
            "ticks": ""
           },
           "radialaxis": {
            "gridcolor": "#506784",
            "linecolor": "#506784",
            "ticks": ""
           }
          },
          "ternary": {
           "bgcolor": "rgb(17,17,17)",
           "aaxis": {
            "gridcolor": "#506784",
            "linecolor": "#506784",
            "ticks": ""
           },
           "baxis": {
            "gridcolor": "#506784",
            "linecolor": "#506784",
            "ticks": ""
           },
           "caxis": {
            "gridcolor": "#506784",
            "linecolor": "#506784",
            "ticks": ""
           }
          },
          "coloraxis": {
           "colorbar": {
            "outlinewidth": 0,
            "ticks": ""
           }
          },
          "colorscale": {
           "sequential": [
            [
             0.0,
             "#0d0887"
            ],
            [
             0.1111111111111111,
             "#46039f"
            ],
            [
             0.2222222222222222,
             "#7201a8"
            ],
            [
             0.3333333333333333,
             "#9c179e"
            ],
            [
             0.4444444444444444,
             "#bd3786"
            ],
            [
             0.5555555555555556,
             "#d8576b"
            ],
            [
             0.6666666666666666,
             "#ed7953"
            ],
            [
             0.7777777777777778,
             "#fb9f3a"
            ],
            [
             0.8888888888888888,
             "#fdca26"
            ],
            [
             1.0,
             "#f0f921"
            ]
           ],
           "sequentialminus": [
            [
             0.0,
             "#0d0887"
            ],
            [
             0.1111111111111111,
             "#46039f"
            ],
            [
             0.2222222222222222,
             "#7201a8"
            ],
            [
             0.3333333333333333,
             "#9c179e"
            ],
            [
             0.4444444444444444,
             "#bd3786"
            ],
            [
             0.5555555555555556,
             "#d8576b"
            ],
            [
             0.6666666666666666,
             "#ed7953"
            ],
            [
             0.7777777777777778,
             "#fb9f3a"
            ],
            [
             0.8888888888888888,
             "#fdca26"
            ],
            [
             1.0,
             "#f0f921"
            ]
           ],
           "diverging": [
            [
             0,
             "#8e0152"
            ],
            [
             0.1,
             "#c51b7d"
            ],
            [
             0.2,
             "#de77ae"
            ],
            [
             0.3,
             "#f1b6da"
            ],
            [
             0.4,
             "#fde0ef"
            ],
            [
             0.5,
             "#f7f7f7"
            ],
            [
             0.6,
             "#e6f5d0"
            ],
            [
             0.7,
             "#b8e186"
            ],
            [
             0.8,
             "#7fbc41"
            ],
            [
             0.9,
             "#4d9221"
            ],
            [
             1,
             "#276419"
            ]
           ]
          },
          "xaxis": {
           "gridcolor": "#283442",
           "linecolor": "#506784",
           "ticks": "",
           "title": {
            "standoff": 15
           },
           "zerolinecolor": "#283442",
           "automargin": true,
           "zerolinewidth": 2
          },
          "yaxis": {
           "gridcolor": "#283442",
           "linecolor": "#506784",
           "ticks": "",
           "title": {
            "standoff": 15
           },
           "zerolinecolor": "#283442",
           "automargin": true,
           "zerolinewidth": 2
          },
          "scene": {
           "xaxis": {
            "backgroundcolor": "rgb(17,17,17)",
            "gridcolor": "#506784",
            "linecolor": "#506784",
            "showbackground": true,
            "ticks": "",
            "zerolinecolor": "#C8D4E3",
            "gridwidth": 2
           },
           "yaxis": {
            "backgroundcolor": "rgb(17,17,17)",
            "gridcolor": "#506784",
            "linecolor": "#506784",
            "showbackground": true,
            "ticks": "",
            "zerolinecolor": "#C8D4E3",
            "gridwidth": 2
           },
           "zaxis": {
            "backgroundcolor": "rgb(17,17,17)",
            "gridcolor": "#506784",
            "linecolor": "#506784",
            "showbackground": true,
            "ticks": "",
            "zerolinecolor": "#C8D4E3",
            "gridwidth": 2
           }
          },
          "shapedefaults": {
           "line": {
            "color": "#f2f5fa"
           }
          },
          "annotationdefaults": {
           "arrowcolor": "#f2f5fa",
           "arrowhead": 0,
           "arrowwidth": 1
          },
          "geo": {
           "bgcolor": "rgb(17,17,17)",
           "landcolor": "rgb(17,17,17)",
           "subunitcolor": "#506784",
           "showland": true,
           "showlakes": true,
           "lakecolor": "rgb(17,17,17)"
          },
          "title": {
           "x": 0.05
          },
          "updatemenudefaults": {
           "bgcolor": "#506784",
           "borderwidth": 0
          },
          "sliderdefaults": {
           "bgcolor": "#C8D4E3",
           "borderwidth": 1,
           "bordercolor": "rgb(17,17,17)",
           "tickwidth": 0
          },
          "mapbox": {
           "style": "dark"
          }
         }
        },
        "xaxis": {
         "anchor": "y",
         "domain": [
          0.0,
          1.0
         ],
         "title": {
          "text": "value"
         }
        },
        "yaxis": {
         "anchor": "x",
         "domain": [
          0.0,
          1.0
         ],
         "title": {
          "text": "count"
         }
        },
        "legend": {
         "title": {
          "text": "variable"
         },
         "tracegroupgap": 0
        },
        "margin": {
         "t": 60
        },
        "barmode": "relative"
       },
       "config": {
        "plotlyServerURL": "https://plot.ly"
       }
      },
      "text/html": "<div>                            <div id=\"5b5398b5-c04a-4848-a8b4-c57006793db0\" class=\"plotly-graph-div\" style=\"height:525px; width:100%;\"></div>            <script type=\"text/javascript\">                require([\"plotly\"], function(Plotly) {                    window.PLOTLYENV=window.PLOTLYENV || {};                                    if (document.getElementById(\"5b5398b5-c04a-4848-a8b4-c57006793db0\")) {                    Plotly.newPlot(                        \"5b5398b5-c04a-4848-a8b4-c57006793db0\",                        [{\"alignmentgroup\":\"True\",\"bingroup\":\"x\",\"hovertemplate\":\"variable=0\\u003cbr\\u003evalue=%{x}\\u003cbr\\u003ecount=%{y}\\u003cextra\\u003e\\u003c\\u002fextra\\u003e\",\"legendgroup\":\"0\",\"marker\":{\"color\":\"#636efa\",\"pattern\":{\"shape\":\"\"}},\"name\":\"0\",\"offsetgroup\":\"0\",\"orientation\":\"v\",\"showlegend\":true,\"x\":[304.0,304.0,304.0,304.0,301.0,292.0,304.0,304.0,304.0,304.0,304.0,304.0,289.0,304.0,304.0,304.0,304.0,304.0,304.0,302.0,304.0,304.0,296.0,304.0,305.0,304.0,304.0,296.0,305.0,304.0,304.0,304.0,304.0,304.0,304.0,304.0,304.0,304.0,304.0,304.0,304.0,304.0,304.0,304.0,297.0,297.0,297.0,297.0,304.0,304.0,304.0,304.0,304.0],\"xaxis\":\"x\",\"yaxis\":\"y\",\"type\":\"histogram\"}],                        {\"template\":{\"data\":{\"histogram2dcontour\":[{\"type\":\"histogram2dcontour\",\"colorbar\":{\"outlinewidth\":0,\"ticks\":\"\"},\"colorscale\":[[0.0,\"#0d0887\"],[0.1111111111111111,\"#46039f\"],[0.2222222222222222,\"#7201a8\"],[0.3333333333333333,\"#9c179e\"],[0.4444444444444444,\"#bd3786\"],[0.5555555555555556,\"#d8576b\"],[0.6666666666666666,\"#ed7953\"],[0.7777777777777778,\"#fb9f3a\"],[0.8888888888888888,\"#fdca26\"],[1.0,\"#f0f921\"]]}],\"choropleth\":[{\"type\":\"choropleth\",\"colorbar\":{\"outlinewidth\":0,\"ticks\":\"\"}}],\"histogram2d\":[{\"type\":\"histogram2d\",\"colorbar\":{\"outlinewidth\":0,\"ticks\":\"\"},\"colorscale\":[[0.0,\"#0d0887\"],[0.1111111111111111,\"#46039f\"],[0.2222222222222222,\"#7201a8\"],[0.3333333333333333,\"#9c179e\"],[0.4444444444444444,\"#bd3786\"],[0.5555555555555556,\"#d8576b\"],[0.6666666666666666,\"#ed7953\"],[0.7777777777777778,\"#fb9f3a\"],[0.8888888888888888,\"#fdca26\"],[1.0,\"#f0f921\"]]}],\"heatmap\":[{\"type\":\"heatmap\",\"colorbar\":{\"outlinewidth\":0,\"ticks\":\"\"},\"colorscale\":[[0.0,\"#0d0887\"],[0.1111111111111111,\"#46039f\"],[0.2222222222222222,\"#7201a8\"],[0.3333333333333333,\"#9c179e\"],[0.4444444444444444,\"#bd3786\"],[0.5555555555555556,\"#d8576b\"],[0.6666666666666666,\"#ed7953\"],[0.7777777777777778,\"#fb9f3a\"],[0.8888888888888888,\"#fdca26\"],[1.0,\"#f0f921\"]]}],\"heatmapgl\":[{\"type\":\"heatmapgl\",\"colorbar\":{\"outlinewidth\":0,\"ticks\":\"\"},\"colorscale\":[[0.0,\"#0d0887\"],[0.1111111111111111,\"#46039f\"],[0.2222222222222222,\"#7201a8\"],[0.3333333333333333,\"#9c179e\"],[0.4444444444444444,\"#bd3786\"],[0.5555555555555556,\"#d8576b\"],[0.6666666666666666,\"#ed7953\"],[0.7777777777777778,\"#fb9f3a\"],[0.8888888888888888,\"#fdca26\"],[1.0,\"#f0f921\"]]}],\"contourcarpet\":[{\"type\":\"contourcarpet\",\"colorbar\":{\"outlinewidth\":0,\"ticks\":\"\"}}],\"contour\":[{\"type\":\"contour\",\"colorbar\":{\"outlinewidth\":0,\"ticks\":\"\"},\"colorscale\":[[0.0,\"#0d0887\"],[0.1111111111111111,\"#46039f\"],[0.2222222222222222,\"#7201a8\"],[0.3333333333333333,\"#9c179e\"],[0.4444444444444444,\"#bd3786\"],[0.5555555555555556,\"#d8576b\"],[0.6666666666666666,\"#ed7953\"],[0.7777777777777778,\"#fb9f3a\"],[0.8888888888888888,\"#fdca26\"],[1.0,\"#f0f921\"]]}],\"surface\":[{\"type\":\"surface\",\"colorbar\":{\"outlinewidth\":0,\"ticks\":\"\"},\"colorscale\":[[0.0,\"#0d0887\"],[0.1111111111111111,\"#46039f\"],[0.2222222222222222,\"#7201a8\"],[0.3333333333333333,\"#9c179e\"],[0.4444444444444444,\"#bd3786\"],[0.5555555555555556,\"#d8576b\"],[0.6666666666666666,\"#ed7953\"],[0.7777777777777778,\"#fb9f3a\"],[0.8888888888888888,\"#fdca26\"],[1.0,\"#f0f921\"]]}],\"mesh3d\":[{\"type\":\"mesh3d\",\"colorbar\":{\"outlinewidth\":0,\"ticks\":\"\"}}],\"scatter\":[{\"marker\":{\"line\":{\"color\":\"#283442\"}},\"type\":\"scatter\"}],\"parcoords\":[{\"type\":\"parcoords\",\"line\":{\"colorbar\":{\"outlinewidth\":0,\"ticks\":\"\"}}}],\"scatterpolargl\":[{\"type\":\"scatterpolargl\",\"marker\":{\"colorbar\":{\"outlinewidth\":0,\"ticks\":\"\"}}}],\"bar\":[{\"error_x\":{\"color\":\"#f2f5fa\"},\"error_y\":{\"color\":\"#f2f5fa\"},\"marker\":{\"line\":{\"color\":\"rgb(17,17,17)\",\"width\":0.5},\"pattern\":{\"fillmode\":\"overlay\",\"size\":10,\"solidity\":0.2}},\"type\":\"bar\"}],\"scattergeo\":[{\"type\":\"scattergeo\",\"marker\":{\"colorbar\":{\"outlinewidth\":0,\"ticks\":\"\"}}}],\"scatterpolar\":[{\"type\":\"scatterpolar\",\"marker\":{\"colorbar\":{\"outlinewidth\":0,\"ticks\":\"\"}}}],\"histogram\":[{\"marker\":{\"pattern\":{\"fillmode\":\"overlay\",\"size\":10,\"solidity\":0.2}},\"type\":\"histogram\"}],\"scattergl\":[{\"marker\":{\"line\":{\"color\":\"#283442\"}},\"type\":\"scattergl\"}],\"scatter3d\":[{\"type\":\"scatter3d\",\"line\":{\"colorbar\":{\"outlinewidth\":0,\"ticks\":\"\"}},\"marker\":{\"colorbar\":{\"outlinewidth\":0,\"ticks\":\"\"}}}],\"scattermapbox\":[{\"type\":\"scattermapbox\",\"marker\":{\"colorbar\":{\"outlinewidth\":0,\"ticks\":\"\"}}}],\"scatterternary\":[{\"type\":\"scatterternary\",\"marker\":{\"colorbar\":{\"outlinewidth\":0,\"ticks\":\"\"}}}],\"scattercarpet\":[{\"type\":\"scattercarpet\",\"marker\":{\"colorbar\":{\"outlinewidth\":0,\"ticks\":\"\"}}}],\"carpet\":[{\"aaxis\":{\"endlinecolor\":\"#A2B1C6\",\"gridcolor\":\"#506784\",\"linecolor\":\"#506784\",\"minorgridcolor\":\"#506784\",\"startlinecolor\":\"#A2B1C6\"},\"baxis\":{\"endlinecolor\":\"#A2B1C6\",\"gridcolor\":\"#506784\",\"linecolor\":\"#506784\",\"minorgridcolor\":\"#506784\",\"startlinecolor\":\"#A2B1C6\"},\"type\":\"carpet\"}],\"table\":[{\"cells\":{\"fill\":{\"color\":\"#506784\"},\"line\":{\"color\":\"rgb(17,17,17)\"}},\"header\":{\"fill\":{\"color\":\"#2a3f5f\"},\"line\":{\"color\":\"rgb(17,17,17)\"}},\"type\":\"table\"}],\"barpolar\":[{\"marker\":{\"line\":{\"color\":\"rgb(17,17,17)\",\"width\":0.5},\"pattern\":{\"fillmode\":\"overlay\",\"size\":10,\"solidity\":0.2}},\"type\":\"barpolar\"}],\"pie\":[{\"automargin\":true,\"type\":\"pie\"}]},\"layout\":{\"autotypenumbers\":\"strict\",\"colorway\":[\"#636efa\",\"#EF553B\",\"#00cc96\",\"#ab63fa\",\"#FFA15A\",\"#19d3f3\",\"#FF6692\",\"#B6E880\",\"#FF97FF\",\"#FECB52\"],\"font\":{\"color\":\"#f2f5fa\"},\"hovermode\":\"closest\",\"hoverlabel\":{\"align\":\"left\"},\"paper_bgcolor\":\"rgb(17,17,17)\",\"plot_bgcolor\":\"rgb(17,17,17)\",\"polar\":{\"bgcolor\":\"rgb(17,17,17)\",\"angularaxis\":{\"gridcolor\":\"#506784\",\"linecolor\":\"#506784\",\"ticks\":\"\"},\"radialaxis\":{\"gridcolor\":\"#506784\",\"linecolor\":\"#506784\",\"ticks\":\"\"}},\"ternary\":{\"bgcolor\":\"rgb(17,17,17)\",\"aaxis\":{\"gridcolor\":\"#506784\",\"linecolor\":\"#506784\",\"ticks\":\"\"},\"baxis\":{\"gridcolor\":\"#506784\",\"linecolor\":\"#506784\",\"ticks\":\"\"},\"caxis\":{\"gridcolor\":\"#506784\",\"linecolor\":\"#506784\",\"ticks\":\"\"}},\"coloraxis\":{\"colorbar\":{\"outlinewidth\":0,\"ticks\":\"\"}},\"colorscale\":{\"sequential\":[[0.0,\"#0d0887\"],[0.1111111111111111,\"#46039f\"],[0.2222222222222222,\"#7201a8\"],[0.3333333333333333,\"#9c179e\"],[0.4444444444444444,\"#bd3786\"],[0.5555555555555556,\"#d8576b\"],[0.6666666666666666,\"#ed7953\"],[0.7777777777777778,\"#fb9f3a\"],[0.8888888888888888,\"#fdca26\"],[1.0,\"#f0f921\"]],\"sequentialminus\":[[0.0,\"#0d0887\"],[0.1111111111111111,\"#46039f\"],[0.2222222222222222,\"#7201a8\"],[0.3333333333333333,\"#9c179e\"],[0.4444444444444444,\"#bd3786\"],[0.5555555555555556,\"#d8576b\"],[0.6666666666666666,\"#ed7953\"],[0.7777777777777778,\"#fb9f3a\"],[0.8888888888888888,\"#fdca26\"],[1.0,\"#f0f921\"]],\"diverging\":[[0,\"#8e0152\"],[0.1,\"#c51b7d\"],[0.2,\"#de77ae\"],[0.3,\"#f1b6da\"],[0.4,\"#fde0ef\"],[0.5,\"#f7f7f7\"],[0.6,\"#e6f5d0\"],[0.7,\"#b8e186\"],[0.8,\"#7fbc41\"],[0.9,\"#4d9221\"],[1,\"#276419\"]]},\"xaxis\":{\"gridcolor\":\"#283442\",\"linecolor\":\"#506784\",\"ticks\":\"\",\"title\":{\"standoff\":15},\"zerolinecolor\":\"#283442\",\"automargin\":true,\"zerolinewidth\":2},\"yaxis\":{\"gridcolor\":\"#283442\",\"linecolor\":\"#506784\",\"ticks\":\"\",\"title\":{\"standoff\":15},\"zerolinecolor\":\"#283442\",\"automargin\":true,\"zerolinewidth\":2},\"scene\":{\"xaxis\":{\"backgroundcolor\":\"rgb(17,17,17)\",\"gridcolor\":\"#506784\",\"linecolor\":\"#506784\",\"showbackground\":true,\"ticks\":\"\",\"zerolinecolor\":\"#C8D4E3\",\"gridwidth\":2},\"yaxis\":{\"backgroundcolor\":\"rgb(17,17,17)\",\"gridcolor\":\"#506784\",\"linecolor\":\"#506784\",\"showbackground\":true,\"ticks\":\"\",\"zerolinecolor\":\"#C8D4E3\",\"gridwidth\":2},\"zaxis\":{\"backgroundcolor\":\"rgb(17,17,17)\",\"gridcolor\":\"#506784\",\"linecolor\":\"#506784\",\"showbackground\":true,\"ticks\":\"\",\"zerolinecolor\":\"#C8D4E3\",\"gridwidth\":2}},\"shapedefaults\":{\"line\":{\"color\":\"#f2f5fa\"}},\"annotationdefaults\":{\"arrowcolor\":\"#f2f5fa\",\"arrowhead\":0,\"arrowwidth\":1},\"geo\":{\"bgcolor\":\"rgb(17,17,17)\",\"landcolor\":\"rgb(17,17,17)\",\"subunitcolor\":\"#506784\",\"showland\":true,\"showlakes\":true,\"lakecolor\":\"rgb(17,17,17)\"},\"title\":{\"x\":0.05},\"updatemenudefaults\":{\"bgcolor\":\"#506784\",\"borderwidth\":0},\"sliderdefaults\":{\"bgcolor\":\"#C8D4E3\",\"borderwidth\":1,\"bordercolor\":\"rgb(17,17,17)\",\"tickwidth\":0},\"mapbox\":{\"style\":\"dark\"}}},\"xaxis\":{\"anchor\":\"y\",\"domain\":[0.0,1.0],\"title\":{\"text\":\"value\"}},\"yaxis\":{\"anchor\":\"x\",\"domain\":[0.0,1.0],\"title\":{\"text\":\"count\"}},\"legend\":{\"title\":{\"text\":\"variable\"},\"tracegroupgap\":0},\"margin\":{\"t\":60},\"barmode\":\"relative\"},                        {\"responsive\": true}                    ).then(function(){\n                            \nvar gd = document.getElementById('5b5398b5-c04a-4848-a8b4-c57006793db0');\nvar x = new MutationObserver(function (mutations, observer) {{\n        var display = window.getComputedStyle(gd).display;\n        if (!display || display === 'none') {{\n            console.log([gd, 'removed!']);\n            Plotly.purge(gd);\n            observer.disconnect();\n        }}\n}});\n\n// Listen for the removal of the full notebook cells\nvar notebookContainer = gd.closest('#notebook-container');\nif (notebookContainer) {{\n    x.observe(notebookContainer, {childList: true});\n}}\n\n// Listen for the clearing of the current output cell\nvar outputEl = gd.closest('.output');\nif (outputEl) {{\n    x.observe(outputEl, {childList: true});\n}}\n\n                        })                };                });            </script>        </div>"
     },
     "metadata": {},
     "output_type": "display_data"
    }
   ],
   "source": [
    "px.histogram(coverages)"
   ],
   "metadata": {
    "collapsed": false,
    "ExecuteTime": {
     "end_time": "2024-02-21T20:07:49.175035Z",
     "start_time": "2024-02-21T20:07:49.040724Z"
    }
   },
   "id": "d7b602203b975024",
   "execution_count": 57
  },
  {
   "cell_type": "code",
   "outputs": [
    {
     "data": {
      "text/plain": "434"
     },
     "execution_count": 58,
     "metadata": {},
     "output_type": "execute_result"
    }
   ],
   "source": [
    "tsd.sequence_length"
   ],
   "metadata": {
    "collapsed": false,
    "ExecuteTime": {
     "end_time": "2024-02-21T20:07:49.177080Z",
     "start_time": "2024-02-21T20:07:49.086965Z"
    }
   },
   "id": "c55c9ceaca449fa1",
   "execution_count": 58
  },
  {
   "cell_type": "markdown",
   "source": [
    "# Plot Experimental Structures"
   ],
   "metadata": {
    "collapsed": false
   },
   "id": "bda0222b022fa793"
  },
  {
   "cell_type": "markdown",
   "source": [
    "1) violin plot with dots only\n",
    "2) color by category\n",
    "2) size is the % sequence coverage"
   ],
   "metadata": {
    "collapsed": false
   },
   "id": "1c42925ce2f294c5"
  },
  {
   "cell_type": "markdown",
   "source": [],
   "metadata": {
    "collapsed": false
   },
   "id": "3b182fea98345d94"
  },
  {
   "cell_type": "markdown",
   "source": [
    "## make tidy dataframe"
   ],
   "metadata": {
    "collapsed": false
   },
   "id": "70877585d0460c5a"
  },
  {
   "cell_type": "code",
   "outputs": [
    {
     "name": "stderr",
     "output_type": "stream",
     "text": [
      "/Users/alexpayne/miniforge-pypy3/envs/asapdiscovery/lib/python3.10/site-packages/numpy/core/fromnumeric.py:3432: RuntimeWarning:\n",
      "\n",
      "Mean of empty slice.\n",
      "\n",
      "/Users/alexpayne/miniforge-pypy3/envs/asapdiscovery/lib/python3.10/site-packages/numpy/core/_methods.py:190: RuntimeWarning:\n",
      "\n",
      "invalid value encountered in double_scalars\n",
      "\n"
     ]
    }
   ],
   "source": [
    "import avoidome.structures as structures\n",
    "import pandas as pd\n",
    "df = pd.concat([pd.DataFrame({'Protein Name': [f'{tsd.target_name.split(\"_\")[0]} ({tsd.uniprot_id})' for exp_struc in tsd.structures],\n",
    "                   'Category': [category_dict[tsd.uniprot_id] for exp_struc in tsd.structures],\n",
    "                   'Average Sequence Coverage': tsd.average_coverage,\n",
    "                   'Number of Experimental Structures': [tsd.n_experimental_structures for exp_struc in tsd.structures],\n",
    "                  \"Sequence Length\": [tsd.sequence_length for exp_struc in tsd.structures],\n",
    "                          \"Resolution (A)\": [exp_struc.resolution for exp_struc in tsd.experimental_structures] + [2],\n",
    "                                    \"Method\": [exp_struc.method for exp_struc in tsd.experimental_structures] + ['AlphaFold'],\n",
    "                   }) for tsd in tsds]) "
   ],
   "metadata": {
    "collapsed": false,
    "ExecuteTime": {
     "end_time": "2024-02-21T21:05:25.349255Z",
     "start_time": "2024-02-21T21:05:25.319542Z"
    }
   },
   "id": "5622fcbb7c0e884f",
   "execution_count": 144
  },
  {
   "cell_type": "code",
   "outputs": [],
   "source": [
    "tsd_dict = {f'{tsd.target_name.split(\"_\")[0]} ({tsd.uniprot_id})': tsd for tsd in tsds}\n",
    "symbols = {'X-ray': 'diamond-tall', 'EM': 'circle', 'AlphaFold': 'circle-open'}\n",
    "colors = {'metabolism_redox': '#d07c09', 'metabolism': '#ffb418', 'absorption': '#11efb7', 'drug_transporter': '#9553ff', 'toxicity': '#5e2bcb'}\n",
    "category_list = sorted(list(colors.keys()))\n",
    "\n",
    "# Map Protein Name to numerical values\n",
    "df.sort_values(['Category', 'Protein Name'], inplace=True)\n",
    "protein_names = df['Protein Name'].unique()\n",
    "protein_name_mapping = {name: i for i, name in enumerate(protein_names)}\n",
    "jitter_amount = 0.2"
   ],
   "metadata": {
    "collapsed": false,
    "ExecuteTime": {
     "end_time": "2024-02-21T22:05:03.345768Z",
     "start_time": "2024-02-21T22:05:03.320466Z"
    }
   },
   "id": "cae561a06cc09eb1",
   "execution_count": 252
  },
  {
   "cell_type": "code",
   "outputs": [
    {
     "data": {
      "application/vnd.plotly.v1+json": {
       "data": [
        {
         "marker": {
          "color": "#11efb7",
          "line": {
           "color": "black",
           "width": 1
          },
          "size": 10,
          "symbol": "diamond-tall"
         },
         "mode": "markers",
         "name": "absorption (X-ray)",
         "opacity": 1,
         "showlegend": true,
         "x": [
          -0.1261580829955246
         ],
         "y": [
          1.8
         ],
         "type": "scatter"
        },
        {
         "marker": {
          "color": "#11efb7",
          "line": {
           "color": "black",
           "width": 1
          },
          "size": 10,
          "symbol": "circle-open"
         },
         "mode": "markers",
         "name": "absorption (AlphaFold)",
         "opacity": 0,
         "showlegend": false,
         "x": [
          0,
          1
         ],
         "y": [
          2.0,
          2.0
         ],
         "type": "scatter"
        },
        {
         "marker": {
          "color": "#11efb7",
          "line": {
           "color": "black",
           "width": 2
          },
          "size": 10,
          "symbol": "circle"
         },
         "mode": "markers",
         "name": "absorption (EM)",
         "opacity": 1,
         "showlegend": true,
         "x": [
          0.9777311665107935,
          1.0880794718670777
         ],
         "y": [
          2.89,
          3.7
         ],
         "type": "scatter"
        },
        {
         "marker": {
          "color": "#9553ff",
          "line": {
           "color": "black",
           "width": 1
          },
          "size": 10,
          "symbol": "diamond-tall"
         },
         "mode": "markers",
         "name": "drug_transporter (X-ray)",
         "opacity": 1,
         "showlegend": true,
         "x": [
          4.850775151457391,
          5.183943459719478
         ],
         "y": [
          1.5,
          2.1
         ],
         "type": "scatter"
        },
        {
         "marker": {
          "color": "#9553ff",
          "line": {
           "color": "black",
           "width": 1
          },
          "size": 10,
          "symbol": "circle-open"
         },
         "mode": "markers",
         "name": "drug_transporter (AlphaFold)",
         "opacity": 0,
         "showlegend": false,
         "x": [
          2,
          3,
          4,
          5,
          6,
          7,
          8,
          9,
          10,
          11
         ],
         "y": [
          2.0,
          2.0,
          2.0,
          2.0,
          2.0,
          2.0,
          2.0,
          2.0,
          2.0,
          2.0
         ],
         "type": "scatter"
        },
        {
         "marker": {
          "color": "#9553ff",
          "line": {
           "color": "black",
           "width": 2
          },
          "size": 10,
          "symbol": "circle"
         },
         "mode": "markers",
         "name": "drug_transporter (EM)",
         "opacity": 1,
         "showlegend": true,
         "x": [
          2.124710019844328,
          2.0515053830936374,
          2.1538171951383225,
          3.0864129824528908,
          3.1877653977699616,
          3.132009153064655,
          2.8663145430973453,
          2.9918337442823617,
          3.1577558000802948,
          3.1981520067130016,
          2.825975135912204,
          2.8085627703593965,
          3.0771304544531293,
          3.1094137441337564,
          2.976667111256704,
          3.0536327974292408,
          3.098702319154104,
          2.990847688615216,
          2.942211955047456,
          3.0652538108911807,
          2.905688051586069,
          3.13604276935363,
          2.8509407044975497,
          3.160017889415712,
          3.0608256522559945,
          2.8820402376849423,
          3.1634351759468653,
          3.8221413569744542,
          4.129673294725944,
          3.962440930053349,
          3.8475703457673225,
          4.153888354498087,
          3.9644472417658645,
          4.136274287935005,
          3.8492055006954593,
          3.9179325699499907,
          3.8421582632372275,
          6.181963749629299,
          5.991049546241193,
          5.8466021430150334,
          9.86493315506694,
          9.945434822822405,
          9.901829007907747,
          9.987121036687697,
          10.142303568761022,
          10.021601534988335,
          10.807836036451597
         ],
         "y": [
          3.66,
          3.7,
          3.5,
          3.1,
          3.04,
          3.1,
          3.4,
          3.2,
          3.4,
          3.7,
          3.39,
          3.12,
          4.1,
          3.2,
          3.58,
          4.0,
          3.5,
          3.51,
          3.49,
          3.56,
          3.09,
          3.56,
          3.6,
          3.1,
          3.78,
          3.78,
          3.09,
          3.58,
          4.14,
          3.6,
          3.9,
          3.2,
          3.6,
          3.5,
          3.5,
          3.4,
          3.6,
          3.5,
          3.9,
          4.1,
          3.19,
          3.73,
          2.92,
          3.53,
          3.73,
          3.6,
          2.97
         ],
         "type": "scatter"
        },
        {
         "marker": {
          "color": "#ffb418",
          "line": {
           "color": "black",
           "width": 1
          },
          "size": 10,
          "symbol": "diamond-tall"
         },
         "mode": "markers",
         "name": "metabolism (X-ray)",
         "opacity": 1,
         "showlegend": true,
         "x": [
          11.981600980296722,
          12.93863912266392,
          12.81121265325204,
          13.188451018267799,
          12.954193777454481,
          12.964974577301081,
          12.805104087899718,
          12.917697201122834,
          12.905707574865968,
          12.949850896767199,
          12.999982218011498,
          12.969509951317633,
          12.909838169714764,
          12.902271963716016,
          12.906325135820733,
          13.14354368370457,
          12.957753662260417,
          13.170592322617637,
          13.174006668072721,
          12.83426162309625,
          12.915827957674482,
          13.144707142428691,
          13.194490323040869,
          12.866645429605002,
          13.07026064799835,
          12.892562605495488,
          12.829712045785282,
          12.96768922185452,
          13.179060309876354,
          12.977017137145582,
          12.83166597240097,
          12.82904418953782,
          13.159086103872303,
          12.868185658142773,
          12.905797536252031,
          12.841198082027589,
          12.987851650031105,
          12.992369083891793,
          12.928527648827428,
          12.89161681999302,
          13.926196565252999,
          13.807603822680068,
          13.884820637741594,
          13.83115981254823,
          13.861692039917967,
          13.865024266467747,
          14.036644478095885,
          14.023490272077133,
          14.021552334155729,
          13.848256370129162,
          13.97687320240528,
          14.009158529988223,
          14.164395070215077,
          13.85902004153871,
          13.923610441419662,
          13.998849142435683,
          14.121243432728908,
          14.140046481526802,
          14.124584045360114,
          13.885804288135102,
          13.894961573125492,
          13.864825331003793,
          13.979461511967587,
          14.008144221514637,
          13.953928808905507,
          14.17776667081479,
          13.887906829987143,
          13.99847964696168,
          13.914123945064295,
          14.162649265446854,
          13.971408689134075,
          13.817198616940045,
          13.87968286261376,
          13.944694987994831,
          14.059427402394618,
          13.995701087995855,
          13.983118161373719,
          14.065287261926384,
          13.812905935950731,
          13.835758208858591,
          14.077390533521429,
          13.853411859631295,
          14.103039981194295,
          14.139243720589882,
          14.13360530551205,
          13.995850231117771,
          13.885758374038744,
          13.814865847555994,
          13.984605695752201,
          13.849309059046007,
          13.881798660602378,
          13.91362111631265,
          13.822879374586716,
          15.131598568623996,
          14.841413954301112,
          16.16520807277795,
          16.18404696768208,
          16.012632022176504,
          16.07031306266793,
          16.146581516097676,
          15.914178567015348,
          15.83866539215935,
          15.938196186235231,
          15.933201432192183,
          16.031879754112058,
          16.107550633169765
         ],
         "y": [
          3.3,
          2.33,
          1.6,
          1.55,
          1.7,
          2.0,
          1.29,
          2.46,
          2.03,
          1.56,
          2.1,
          1.93,
          2.19,
          1.87,
          1.88,
          2.0,
          2.6,
          1.5,
          1.8,
          1.3,
          1.86,
          2.0,
          2.1,
          1.75,
          1.8,
          2.07,
          1.85,
          1.95,
          1.8,
          2.51,
          2.38,
          1.98,
          2.2,
          1.75,
          2.13,
          2.7,
          1.79,
          2.2,
          1.86,
          2.5,
          2.15,
          2.3,
          2.0,
          2.5,
          2.26,
          2.48,
          2.05,
          2.2,
          2.1,
          2.25,
          2.76,
          2.2,
          2.8,
          2.8,
          3.14,
          2.0,
          2.25,
          2.58,
          2.4,
          2.25,
          2.3,
          2.3,
          2.37,
          2.55,
          2.7,
          2.15,
          2.0,
          2.8,
          2.67,
          2.8,
          2.8,
          2.0,
          2.1,
          2.8,
          2.8,
          2.22,
          2.27,
          2.3,
          2.7,
          1.85,
          2.27,
          2.15,
          2.25,
          2.8,
          2.26,
          2.55,
          2.05,
          2.65,
          1.9,
          2.45,
          2.28,
          2.56,
          2.52,
          2.6,
          2.7,
          2.36,
          2.56,
          2.36,
          2.3,
          2.7,
          2.35,
          2.5,
          1.9,
          2.3,
          2.3,
          2.0
         ],
         "type": "scatter"
        },
        {
         "marker": {
          "color": "#ffb418",
          "line": {
           "color": "black",
           "width": 1
          },
          "size": 10,
          "symbol": "circle-open"
         },
         "mode": "markers",
         "name": "metabolism (AlphaFold)",
         "opacity": 0,
         "showlegend": false,
         "x": [
          12,
          13,
          14,
          15,
          16
         ],
         "y": [
          2.0,
          2.0,
          2.0,
          2.0,
          2.0
         ],
         "type": "scatter"
        },
        {
         "marker": {
          "color": "#ffb418",
          "line": {
           "color": "black",
           "width": 2
          },
          "size": 10,
          "symbol": "circle"
         },
         "mode": "markers",
         "name": "metabolism (EM)",
         "opacity": 1,
         "showlegend": true,
         "x": [
          11.840021397387744
         ],
         "y": [
          2.85
         ],
         "type": "scatter"
        },
        {
         "marker": {
          "color": "#d07c09",
          "line": {
           "color": "black",
           "width": 1
          },
          "size": 10,
          "symbol": "diamond-tall"
         },
         "mode": "markers",
         "name": "metabolism_redox (X-ray)",
         "opacity": 1,
         "showlegend": true,
         "x": [
          16.91035365772788,
          16.91573514007566,
          18.05717326825003,
          18.135456719405312,
          18.07222356546512,
          18.130869363983507,
          17.83407159892529,
          17.848851835930528,
          18.084190395810122,
          18.162934019977616,
          17.870888330208892,
          17.811360335686675,
          18.084040908485125,
          18.093534669651994,
          18.066776890071168,
          17.954773961853792,
          17.808709156227874,
          18.060035289214078,
          17.893299866362465,
          19.19401826967587,
          18.84404964204565,
          18.937686744633446,
          18.860132343060048,
          20.195432478562378,
          19.934872757853427,
          20.035846373601668,
          19.86613099441914,
          19.914991239594123,
          19.93341218615628,
          20.03684306531052,
          19.854516286923925,
          19.902410628579972,
          19.911991959382206,
          19.925649548557665,
          20.113137684950367,
          20.05445266697742,
          20.152884301259785,
          20.155210455410696,
          20.030629986470544,
          20.010953553917084,
          20.15267230997893,
          19.967275007059694,
          20.141027217570517,
          19.952592539702096,
          20.06187766086521,
          20.173841662911002,
          20.008840875332243,
          19.985327199307307,
          20.12299356183213,
          19.820474537700743,
          20.076160179409637,
          20.039815502252726,
          20.158505510877806,
          20.127340624055496,
          20.166522685248456,
          20.1843616854996,
          19.999127990141737,
          19.82923347822414,
          19.995645665766506,
          19.961722045194634,
          20.193712946799472,
          20.164684536486956,
          20.167647812436336,
          19.805455476962628,
          19.999746010534672,
          19.97970034656606,
          20.19342815999112,
          19.896613042086273,
          19.915802884251978,
          19.81303091667386,
          19.816934641591377,
          19.86965171702774,
          20.113087319111404,
          20.05067005511381,
          20.096394814285922,
          21.16605564696233,
          20.905279873050002,
          21.13279691499277,
          21.078510397090678,
          21.19734196139287,
          21.169243708335976,
          21.97157212547136,
          22.910567644004974,
          23.923512046644294,
          24.155381816590317,
          24.053167711514703,
          23.837475527745102,
          23.93508752023561,
          24.1976239815677,
          23.902887832754473,
          24.107213303821823,
          23.832388133610788,
          24.154913024196077,
          24.169932258406522,
          24.09560020643171,
          23.947405979568387,
          24.81837796033637,
          25.0633508465477,
          25.148722641594777,
          25.08593932531218,
          24.849636651604946,
          24.997643562455195,
          25.05534209151245,
          24.956025350215516,
          24.865331602366275,
          25.18570836831649,
          24.856011764565867,
          25.11478158556298,
          24.873946996496752,
          25.915365653991984,
          26.9438649015314,
          26.995649448310555,
          26.8100948827416,
          27.113992629819816,
          27.01435137900832,
          26.92911184768248,
          26.92621040758886,
          27.011384594346897,
          27.190630310101373,
          26.82738938977021,
          27.158680543537198,
          26.938085693718936,
          26.864200914689764,
          26.805473636294522,
          27.99293880622609,
          27.85054192625724,
          28.028097620388053,
          28.05141365621608,
          28.05398832933097,
          27.933044407505704,
          28.098163375528003,
          28.19131957787304,
          27.80672391110735,
          28.15128395299389,
          28.042157457196073,
          27.8454036617457,
          28.110084045993126,
          28.186346957768095,
          27.936616627045886,
          27.857501462740608,
          28.12362878294329,
          27.99875009136516,
          27.967460431351252,
          28.08102452706901,
          28.146221109470872,
          28.12965710453992,
          27.821681459454055,
          27.892977855325846,
          27.988735513760254,
          27.898655628147072,
          28.16617253336753,
          28.124057918419886,
          28.179647927409214,
          27.84352176903044,
          27.852917299232796,
          28.1794503974809,
          28.15304079449331,
          28.04243231093873,
          28.145081077234785,
          28.196619352749174,
          27.849302293944348,
          28.07385154608722,
          27.884337072396484,
          28.127418843050243,
          28.09697221986042,
          27.98868435354443,
          28.121897573056415,
          28.049845998607903,
          28.159138095324852,
          27.94157178624755,
          27.800810524752603,
          28.149480272934976,
          27.813181253946556,
          27.929187254960084,
          27.973228773192936,
          27.834462628016578,
          27.991763673941747,
          27.81991387573105,
          27.848202538649712,
          28.14507467936589,
          27.82592669995151,
          28.17093571768053,
          27.902235108737745,
          28.070455686749018,
          28.107686203923574,
          27.997254635091707,
          28.158499584803103,
          27.938806584695694,
          28.116532961944102,
          27.921431630485497,
          28.06722697841752,
          27.921299632030998,
          27.999746671682832,
          27.81242073805698,
          28.046562765339665,
          27.888991244444302,
          28.114105256939123,
          28.035603423983325,
          27.900441655670164,
          27.83449357586928,
          27.865079755386365,
          28.182213768480782,
          28.885315926421303,
          28.905929573278534,
          28.976881228647212,
          28.911432890696673,
          28.94317316425869,
          28.9351888255524,
          28.890396043577447,
          28.93136180184802,
          29.05588767997299,
          29.194364882328614,
          29.097484554684954,
          29.180434468737023,
          29.150799469153878,
          28.850024241105675,
          29.152994765569265,
          28.97748142556467,
          29.195160912825457,
          28.885429078925522,
          28.989108972572218,
          29.153079117885227,
          28.912142224905317,
          29.07050768542198,
          29.085928939127935,
          28.958560395232585,
          29.025793521226294,
          28.99777455695133,
          29.00831948927614,
          29.13539837127608,
          28.826645476042323,
          29.072369303547728,
          28.96668730808889,
          29.17652643096289,
          28.950940544014298,
          28.92768567580363,
          28.80723210295186,
          29.197380927819562,
          28.970644913654958,
          29.01918605681565,
          28.887321255499625,
          29.04658035090608,
          31.182659330002124,
          30.899620484084444
         ],
         "y": [
          2.49,
          2.5,
          1.8,
          1.6,
          1.6,
          1.8,
          2.07,
          1.74,
          1.8,
          1.9,
          1.85,
          1.85,
          1.95,
          1.7,
          2.05,
          2.1,
          2.0,
          1.6,
          1.7,
          2.2,
          3.0,
          3.15,
          2.17,
          2.0,
          2.2,
          1.83,
          1.9,
          1.8,
          1.6,
          1.65,
          2.12,
          2.07,
          3.1,
          2.4,
          1.7,
          2.3,
          3.0,
          2.3,
          1.89,
          1.8,
          2.42,
          1.8,
          1.8,
          1.6,
          1.7,
          2.3,
          1.7,
          2.3,
          1.8,
          2.3,
          2.1,
          1.7,
          2.2,
          2.1,
          1.7,
          2.5,
          1.7,
          2.06,
          2.0,
          2.2,
          1.7,
          1.7,
          1.6,
          1.7,
          2.0,
          2.3,
          2.3,
          1.9,
          1.6,
          2.1,
          1.66,
          2.2,
          2.2,
          2.4,
          2.2,
          2.7,
          2.6,
          3.39,
          2.7,
          3.1,
          2.6,
          3.0,
          1.95,
          2.1,
          2.0,
          2.8,
          2.24,
          2.0,
          2.2,
          1.93,
          2.27,
          2.8,
          1.76,
          2.1,
          2.03,
          2.99,
          2.6,
          2.23,
          3.12,
          2.3,
          2.48,
          2.0,
          2.3,
          2.0,
          2.45,
          2.0,
          2.55,
          2.0,
          2.9,
          2.87,
          2.67,
          2.39,
          3.0,
          2.85,
          2.6,
          2.26,
          2.35,
          2.1,
          2.5,
          2.4,
          2.71,
          2.75,
          2.39,
          3.3,
          2.4,
          2.15,
          2.05,
          2.05,
          2.15,
          2.2,
          2.25,
          2.1,
          2.65,
          2.35,
          2.2,
          2.2,
          1.95,
          1.7,
          2.7,
          2.7,
          2.6,
          2.45,
          2.5,
          2.95,
          2.76,
          2.4,
          2.6,
          2.85,
          2.5,
          2.9,
          2.72,
          2.3,
          2.05,
          2.8,
          2.65,
          2.74,
          2.75,
          2.23,
          2.8,
          2.25,
          2.15,
          1.93,
          2.25,
          2.8,
          2.76,
          2.0,
          2.5,
          2.6,
          2.42,
          2.75,
          2.5,
          2.75,
          2.78,
          2.45,
          2.25,
          2.75,
          2.35,
          2.5,
          2.9,
          2.4,
          2.7,
          2.4,
          2.2,
          2.3,
          2.65,
          2.5,
          2.75,
          2.25,
          2.57,
          2.7,
          2.52,
          2.25,
          2.38,
          2.67,
          2.2,
          2.6,
          2.5,
          2.79,
          2.55,
          2.65,
          2.55,
          2.5,
          2.55,
          1.91,
          2.73,
          2.2,
          2.16,
          1.96,
          2.35,
          2.35,
          2.35,
          3.2,
          2.35,
          2.35,
          2.37,
          2.5,
          1.8,
          2.07,
          2.19,
          2.72,
          2.35,
          2.6,
          2.45,
          1.8,
          1.55,
          2.11,
          2.3,
          3.1,
          1.9,
          2.69,
          2.3,
          2.25,
          2.6,
          2.5,
          2.55,
          3.0,
          2.65,
          2.3,
          2.19,
          2.3,
          2.35,
          2.8,
          2.6,
          3.59
         ],
         "type": "scatter"
        },
        {
         "marker": {
          "color": "#d07c09",
          "line": {
           "color": "black",
           "width": 1
          },
          "size": 10,
          "symbol": "circle-open"
         },
         "mode": "markers",
         "name": "metabolism_redox (AlphaFold)",
         "opacity": 0,
         "showlegend": false,
         "x": [
          17,
          18,
          19,
          20,
          21,
          22,
          23,
          24,
          25,
          26,
          27,
          28,
          29,
          30,
          31
         ],
         "y": [
          2.0,
          2.0,
          2.0,
          2.0,
          2.0,
          2.0,
          2.0,
          2.0,
          2.0,
          2.0,
          2.0,
          2.0,
          2.0,
          2.0,
          2.0
         ],
         "type": "scatter"
        },
        {
         "marker": {
          "color": "#d07c09",
          "line": {
           "color": "black",
           "width": 2
          },
          "size": 10,
          "symbol": "circle"
         },
         "mode": "markers",
         "name": "metabolism_redox (EM)",
         "opacity": 1,
         "showlegend": true,
         "x": [
          17.956345230454065,
          18.169767616568187,
          18.186606255739477,
          20.954057723306235
         ],
         "y": [
          2.64,
          3.4,
          2.84,
          2.92
         ],
         "type": "scatter"
        },
        {
         "marker": {
          "color": "#5e2bcb",
          "line": {
           "color": "black",
           "width": 1
          },
          "size": 10,
          "symbol": "diamond-tall"
         },
         "mode": "markers",
         "name": "toxicity (X-ray)",
         "opacity": 1,
         "showlegend": true,
         "x": [
          32.04046493716338,
          32.14666990998111,
          32.026369686155036,
          32.07867123705968,
          31.952098679006706,
          31.82601262349839,
          31.978783870210883,
          32.076068593402226,
          33.93305017641816,
          34.17736565958348,
          33.99086210083495,
          36.12077436089008,
          35.929325857836126,
          35.921693363093866,
          36.1692128585081,
          35.96704180553761,
          36.093296075643494,
          36.93010365504216,
          36.84590636099407,
          36.96753726445322,
          36.88078646035574,
          38.16615379314397,
          37.80072102745498,
          38.01983146220439,
          38.19135564657761,
          37.821600714586765,
          38.96524664166,
          38.87554536844722,
          39.056478582803344,
          39.0437406192257,
          38.97929121950249,
          39.0018829903754,
          38.964514527512144,
          39.09738549020324,
          42.08506948708698,
          41.876554510184704,
          43.025428648924745,
          42.87476738448667,
          43.03056047513737,
          43.029817139579755,
          43.805461799858186,
          43.815881410992056,
          43.993844982546875,
          43.890757711333904,
          44.18391943348203,
          43.921432515110986,
          43.93256440359393,
          43.85314245806132,
          43.86921883588623,
          44.19564480325418,
          44.10853891025799,
          44.19360204256066,
          43.93392368535188,
          43.956409851048264,
          43.86300259695005,
          43.903584407637986,
          43.89224953765079,
          43.848124826195814,
          44.15307568826351,
          44.07440708788707,
          43.80916088293492,
          44.071876358153766,
          44.03825023014877,
          44.170279295730886,
          43.995953548432,
          43.93006608210596,
          44.06044147387569,
          44.106604633820886,
          43.87565357618572,
          43.995247473184115,
          43.925487649718676,
          43.99229688941183,
          44.0259644947504,
          43.96927926461776,
          43.878456798319206,
          43.877132622134475,
          44.992584309410624,
          45.047871138150505,
          46.06659285769104,
          46.12441234170569,
          46.155873147394026,
          45.82303551674505,
          46.00413027336671,
          46.177744924499585,
          45.89487125715219,
          45.91930050964127,
          46.05751152338136,
          46.14092432894607,
          45.857247018703276,
          45.85317612031239,
          45.87093604944413,
          46.06986917185838,
          46.06458463194962,
          47.90177532759944,
          48.01393907366257,
          48.051011973616724,
          47.83920963615511,
          48.04320807825201,
          47.95847790575786,
          47.820381600987396,
          48.8976352911915,
          48.891114827465564,
          49.902003751466076,
          49.82066890122848,
          50.88604540449376,
          51.986456713662555,
          52.05529912613683,
          52.056690692748084,
          52.10037338547887,
          55.14309319328297,
          54.99441602052666,
          54.835078260284206,
          55.010098610119165,
          54.84838154730863,
          55.05917209252031,
          55.024528537039345,
          54.94122190238968,
          55.01510756535868,
          55.05575568745007,
          55.00753113632024,
          54.97051491278452,
          55.94323679199914,
          55.81717137837875,
          56.010099543182776,
          55.82508226422736,
          56.19336350225931,
          56.088899312256544
         ],
         "y": [
          3.19,
          2.92,
          3.1,
          2.9,
          3.0,
          2.8,
          2.7,
          3.1,
          1.9,
          1.93,
          2.0,
          2.15,
          2.85,
          2.4,
          2.2,
          2.38,
          2.38,
          1.8,
          1.71,
          2.7,
          2.26,
          2.33,
          2.5,
          2.17,
          2.55,
          2.7,
          3.5,
          3.7,
          2.3,
          2.95,
          3.0,
          2.6,
          2.5,
          3.0,
          3.2,
          2.7,
          3.13,
          2.5,
          2.6,
          2.7,
          3.2,
          2.7,
          3.2,
          3.2,
          3.8,
          2.48,
          3.3,
          2.4,
          3.1,
          3.99,
          2.8,
          3.4,
          2.84,
          2.84,
          3.16,
          3.5,
          3.5,
          3.2,
          2.79,
          3.1,
          1.9,
          3.4,
          3.4,
          2.7,
          2.6,
          2.5,
          2.4,
          2.9,
          3.4,
          2.8,
          3.1,
          3.2,
          2.96,
          3.7,
          3.2,
          3.4,
          3.0,
          2.6,
          2.0,
          2.0,
          1.45,
          1.6,
          2.1,
          2.55,
          1.65,
          2.0,
          2.4,
          2.4,
          1.65,
          1.7,
          1.75,
          1.7,
          2.0,
          2.95,
          2.8,
          2.7,
          2.8,
          3.25,
          2.6,
          3.29,
          2.8,
          3.2,
          3.45,
          3.2,
          3.1,
          1.5,
          1.96,
          2.12,
          2.6,
          3.4,
          3.62,
          3.49,
          3.15,
          3.14,
          3.53,
          4.53,
          3.8,
          3.24,
          4.05,
          6.3,
          4.7,
          2.69,
          2.25,
          2.8,
          3.84,
          1.35,
          2.2
         ],
         "type": "scatter"
        },
        {
         "marker": {
          "color": "#5e2bcb",
          "line": {
           "color": "black",
           "width": 1
          },
          "size": 10,
          "symbol": "circle-open"
         },
         "mode": "markers",
         "name": "toxicity (AlphaFold)",
         "opacity": 0,
         "showlegend": false,
         "x": [
          32,
          33,
          34,
          35,
          36,
          37,
          38,
          39,
          40,
          41,
          42,
          43,
          44,
          45,
          46,
          47,
          48,
          49,
          50,
          51,
          52,
          53,
          54,
          55,
          56
         ],
         "y": [
          2.0,
          2.0,
          2.0,
          2.0,
          2.0,
          2.0,
          2.0,
          2.0,
          2.0,
          2.0,
          2.0,
          2.0,
          2.0,
          2.0,
          2.0,
          2.0,
          2.0,
          2.0,
          2.0,
          2.0,
          2.0,
          2.0,
          2.0,
          2.0,
          2.0
         ],
         "type": "scatter"
        },
        {
         "marker": {
          "color": "#5e2bcb",
          "line": {
           "color": "black",
           "width": 2
          },
          "size": 10,
          "symbol": "circle"
         },
         "mode": "markers",
         "name": "toxicity (EM)",
         "opacity": 1,
         "showlegend": true,
         "x": [
          32.16192505201882,
          32.07074110781704,
          32.19612544611661,
          34.162792842396414,
          34.16835855765386,
          36.07027064092291,
          35.991696493235004,
          35.97783508807305,
          36.13850857781278,
          35.89039134402623,
          36.0317279879881,
          36.12810066236454,
          36.02326106059732,
          36.196512903883,
          35.83201697389508,
          35.881276982160585,
          38.19360188966728,
          39.18799779185389,
          38.879638002583505,
          39.12858472385642,
          38.92215975033149,
          38.89668544172808,
          38.82893707186799,
          39.860235422868605,
          39.964141833486565,
          40.12194488400899,
          39.97540304699706,
          40.858125598409664,
          41.05152102593681,
          41.85090745448822,
          42.0729047728203,
          42.16938777121739,
          42.012213914311324,
          41.99216963865687,
          42.17973334923997,
          42.18127487722562,
          43.99553058371428,
          44.07175741799821,
          44.12558648060744,
          44.11487088842796,
          43.849702879720674,
          44.12529281980235,
          46.08578261302105,
          46.007349591166616,
          46.85919028152841,
          47.18483437399887,
          46.952360831016335,
          47.180137794178194,
          46.81555718593337,
          47.94406687317694,
          47.839180339417375,
          48.13393033385785,
          48.11570791244784,
          49.022874403709785,
          49.00035087940466,
          48.854391691350344,
          48.97090139540726,
          48.847088148051654,
          49.10255388927593,
          49.80760147943733,
          50.056446597652034,
          50.16210459513082,
          50.05010187206088,
          50.164277934121884,
          50.01253131281528,
          49.898855159609866,
          49.95996247650812,
          50.19402467318746,
          49.8957105743693,
          50.18975002045375,
          49.854741311845615,
          49.88313526809608,
          50.19493676450741,
          50.1604771881722,
          49.92132846296423,
          50.003590515205964,
          49.858401670422936,
          49.93586844356691,
          50.10070746025842,
          49.87211656935513,
          49.80405810451409,
          50.14018513821557,
          50.086655441656625,
          49.90194748559965,
          49.9317345039138,
          49.975561557730046,
          50.964183343441846,
          52.10044469592335,
          52.13236315015763,
          52.04830150709997,
          54.934932802083026,
          54.83132095613255,
          55.17629716980563,
          54.85118177152067,
          54.98381835379441,
          55.05997476058699,
          55.01485277556519,
          55.02240156086074,
          55.018216193734155,
          54.80343214896396,
          55.01213627632987,
          55.1802578604402,
          54.87631200603549,
          54.98464862599159,
          54.961455761700684,
          55.93542541300899,
          55.829406353099515
         ],
         "y": [
          2.9,
          3.3,
          2.7,
          3.34,
          3.87,
          2.3,
          3.4,
          3.02,
          4.4,
          2.8,
          2.7,
          3.6,
          3.0,
          2.85,
          3.18,
          2.7,
          3.3,
          3.22,
          3.32,
          3.6,
          3.21,
          4.0,
          3.16,
          2.79,
          2.69,
          2.56,
          2.69,
          3.1,
          2.6,
          3.4,
          3.0,
          3.2,
          4.1,
          3.47,
          3.4,
          3.6,
          3.4,
          3.8,
          3.26,
          3.82,
          3.2,
          3.8,
          3.4,
          3.1,
          2.8,
          3.1,
          3.3,
          3.0,
          3.0,
          3.0,
          2.8,
          3.36,
          3.0,
          2.97,
          2.84,
          3.08,
          2.9,
          2.98,
          3.2,
          3.8,
          3.8,
          3.1,
          3.04,
          3.69,
          3.26,
          3.58,
          3.2,
          2.55,
          3.49,
          3.5,
          2.92,
          3.23,
          3.3,
          3.04,
          2.86,
          2.71,
          2.98,
          2.65,
          2.9,
          3.12,
          3.0,
          3.0,
          2.7,
          3.0,
          2.79,
          2.9,
          3.3,
          4.0,
          3.8,
          3.7,
          3.5,
          3.65,
          4.2,
          3.0,
          3.3,
          3.9,
          3.9,
          3.5,
          4.1,
          3.8,
          4.1,
          3.3,
          3.6,
          4.1,
          4.3,
          3.3,
          3.3
         ],
         "type": "scatter"
        }
       ],
       "layout": {
        "height": 600,
        "template": {
         "data": {
          "barpolar": [
           {
            "marker": {
             "line": {
              "color": "white",
              "width": 0.5
             },
             "pattern": {
              "fillmode": "overlay",
              "size": 10,
              "solidity": 0.2
             }
            },
            "type": "barpolar"
           }
          ],
          "bar": [
           {
            "error_x": {
             "color": "rgb(36,36,36)"
            },
            "error_y": {
             "color": "rgb(36,36,36)"
            },
            "marker": {
             "line": {
              "color": "white",
              "width": 0.5
             },
             "pattern": {
              "fillmode": "overlay",
              "size": 10,
              "solidity": 0.2
             }
            },
            "type": "bar"
           }
          ],
          "carpet": [
           {
            "aaxis": {
             "endlinecolor": "rgb(36,36,36)",
             "gridcolor": "white",
             "linecolor": "white",
             "minorgridcolor": "white",
             "startlinecolor": "rgb(36,36,36)"
            },
            "baxis": {
             "endlinecolor": "rgb(36,36,36)",
             "gridcolor": "white",
             "linecolor": "white",
             "minorgridcolor": "white",
             "startlinecolor": "rgb(36,36,36)"
            },
            "type": "carpet"
           }
          ],
          "choropleth": [
           {
            "colorbar": {
             "outlinewidth": 1,
             "tickcolor": "rgb(36,36,36)",
             "ticks": "outside"
            },
            "type": "choropleth"
           }
          ],
          "contourcarpet": [
           {
            "colorbar": {
             "outlinewidth": 1,
             "tickcolor": "rgb(36,36,36)",
             "ticks": "outside"
            },
            "type": "contourcarpet"
           }
          ],
          "contour": [
           {
            "colorbar": {
             "outlinewidth": 1,
             "tickcolor": "rgb(36,36,36)",
             "ticks": "outside"
            },
            "colorscale": [
             [
              0.0,
              "#440154"
             ],
             [
              0.1111111111111111,
              "#482878"
             ],
             [
              0.2222222222222222,
              "#3e4989"
             ],
             [
              0.3333333333333333,
              "#31688e"
             ],
             [
              0.4444444444444444,
              "#26828e"
             ],
             [
              0.5555555555555556,
              "#1f9e89"
             ],
             [
              0.6666666666666666,
              "#35b779"
             ],
             [
              0.7777777777777778,
              "#6ece58"
             ],
             [
              0.8888888888888888,
              "#b5de2b"
             ],
             [
              1.0,
              "#fde725"
             ]
            ],
            "type": "contour"
           }
          ],
          "heatmapgl": [
           {
            "colorbar": {
             "outlinewidth": 1,
             "tickcolor": "rgb(36,36,36)",
             "ticks": "outside"
            },
            "colorscale": [
             [
              0.0,
              "#440154"
             ],
             [
              0.1111111111111111,
              "#482878"
             ],
             [
              0.2222222222222222,
              "#3e4989"
             ],
             [
              0.3333333333333333,
              "#31688e"
             ],
             [
              0.4444444444444444,
              "#26828e"
             ],
             [
              0.5555555555555556,
              "#1f9e89"
             ],
             [
              0.6666666666666666,
              "#35b779"
             ],
             [
              0.7777777777777778,
              "#6ece58"
             ],
             [
              0.8888888888888888,
              "#b5de2b"
             ],
             [
              1.0,
              "#fde725"
             ]
            ],
            "type": "heatmapgl"
           }
          ],
          "heatmap": [
           {
            "colorbar": {
             "outlinewidth": 1,
             "tickcolor": "rgb(36,36,36)",
             "ticks": "outside"
            },
            "colorscale": [
             [
              0.0,
              "#440154"
             ],
             [
              0.1111111111111111,
              "#482878"
             ],
             [
              0.2222222222222222,
              "#3e4989"
             ],
             [
              0.3333333333333333,
              "#31688e"
             ],
             [
              0.4444444444444444,
              "#26828e"
             ],
             [
              0.5555555555555556,
              "#1f9e89"
             ],
             [
              0.6666666666666666,
              "#35b779"
             ],
             [
              0.7777777777777778,
              "#6ece58"
             ],
             [
              0.8888888888888888,
              "#b5de2b"
             ],
             [
              1.0,
              "#fde725"
             ]
            ],
            "type": "heatmap"
           }
          ],
          "histogram2dcontour": [
           {
            "colorbar": {
             "outlinewidth": 1,
             "tickcolor": "rgb(36,36,36)",
             "ticks": "outside"
            },
            "colorscale": [
             [
              0.0,
              "#440154"
             ],
             [
              0.1111111111111111,
              "#482878"
             ],
             [
              0.2222222222222222,
              "#3e4989"
             ],
             [
              0.3333333333333333,
              "#31688e"
             ],
             [
              0.4444444444444444,
              "#26828e"
             ],
             [
              0.5555555555555556,
              "#1f9e89"
             ],
             [
              0.6666666666666666,
              "#35b779"
             ],
             [
              0.7777777777777778,
              "#6ece58"
             ],
             [
              0.8888888888888888,
              "#b5de2b"
             ],
             [
              1.0,
              "#fde725"
             ]
            ],
            "type": "histogram2dcontour"
           }
          ],
          "histogram2d": [
           {
            "colorbar": {
             "outlinewidth": 1,
             "tickcolor": "rgb(36,36,36)",
             "ticks": "outside"
            },
            "colorscale": [
             [
              0.0,
              "#440154"
             ],
             [
              0.1111111111111111,
              "#482878"
             ],
             [
              0.2222222222222222,
              "#3e4989"
             ],
             [
              0.3333333333333333,
              "#31688e"
             ],
             [
              0.4444444444444444,
              "#26828e"
             ],
             [
              0.5555555555555556,
              "#1f9e89"
             ],
             [
              0.6666666666666666,
              "#35b779"
             ],
             [
              0.7777777777777778,
              "#6ece58"
             ],
             [
              0.8888888888888888,
              "#b5de2b"
             ],
             [
              1.0,
              "#fde725"
             ]
            ],
            "type": "histogram2d"
           }
          ],
          "histogram": [
           {
            "marker": {
             "line": {
              "color": "white",
              "width": 0.6
             }
            },
            "type": "histogram"
           }
          ],
          "mesh3d": [
           {
            "colorbar": {
             "outlinewidth": 1,
             "tickcolor": "rgb(36,36,36)",
             "ticks": "outside"
            },
            "type": "mesh3d"
           }
          ],
          "parcoords": [
           {
            "line": {
             "colorbar": {
              "outlinewidth": 1,
              "tickcolor": "rgb(36,36,36)",
              "ticks": "outside"
             }
            },
            "type": "parcoords"
           }
          ],
          "pie": [
           {
            "automargin": true,
            "type": "pie"
           }
          ],
          "scatter3d": [
           {
            "line": {
             "colorbar": {
              "outlinewidth": 1,
              "tickcolor": "rgb(36,36,36)",
              "ticks": "outside"
             }
            },
            "marker": {
             "colorbar": {
              "outlinewidth": 1,
              "tickcolor": "rgb(36,36,36)",
              "ticks": "outside"
             }
            },
            "type": "scatter3d"
           }
          ],
          "scattercarpet": [
           {
            "marker": {
             "colorbar": {
              "outlinewidth": 1,
              "tickcolor": "rgb(36,36,36)",
              "ticks": "outside"
             }
            },
            "type": "scattercarpet"
           }
          ],
          "scattergeo": [
           {
            "marker": {
             "colorbar": {
              "outlinewidth": 1,
              "tickcolor": "rgb(36,36,36)",
              "ticks": "outside"
             }
            },
            "type": "scattergeo"
           }
          ],
          "scattergl": [
           {
            "marker": {
             "colorbar": {
              "outlinewidth": 1,
              "tickcolor": "rgb(36,36,36)",
              "ticks": "outside"
             }
            },
            "type": "scattergl"
           }
          ],
          "scattermapbox": [
           {
            "marker": {
             "colorbar": {
              "outlinewidth": 1,
              "tickcolor": "rgb(36,36,36)",
              "ticks": "outside"
             }
            },
            "type": "scattermapbox"
           }
          ],
          "scatterpolargl": [
           {
            "marker": {
             "colorbar": {
              "outlinewidth": 1,
              "tickcolor": "rgb(36,36,36)",
              "ticks": "outside"
             }
            },
            "type": "scatterpolargl"
           }
          ],
          "scatterpolar": [
           {
            "marker": {
             "colorbar": {
              "outlinewidth": 1,
              "tickcolor": "rgb(36,36,36)",
              "ticks": "outside"
             }
            },
            "type": "scatterpolar"
           }
          ],
          "scatter": [
           {
            "fillpattern": {
             "fillmode": "overlay",
             "size": 10,
             "solidity": 0.2
            },
            "type": "scatter"
           }
          ],
          "scatterternary": [
           {
            "marker": {
             "colorbar": {
              "outlinewidth": 1,
              "tickcolor": "rgb(36,36,36)",
              "ticks": "outside"
             }
            },
            "type": "scatterternary"
           }
          ],
          "surface": [
           {
            "colorbar": {
             "outlinewidth": 1,
             "tickcolor": "rgb(36,36,36)",
             "ticks": "outside"
            },
            "colorscale": [
             [
              0.0,
              "#440154"
             ],
             [
              0.1111111111111111,
              "#482878"
             ],
             [
              0.2222222222222222,
              "#3e4989"
             ],
             [
              0.3333333333333333,
              "#31688e"
             ],
             [
              0.4444444444444444,
              "#26828e"
             ],
             [
              0.5555555555555556,
              "#1f9e89"
             ],
             [
              0.6666666666666666,
              "#35b779"
             ],
             [
              0.7777777777777778,
              "#6ece58"
             ],
             [
              0.8888888888888888,
              "#b5de2b"
             ],
             [
              1.0,
              "#fde725"
             ]
            ],
            "type": "surface"
           }
          ],
          "table": [
           {
            "cells": {
             "fill": {
              "color": "rgb(237,237,237)"
             },
             "line": {
              "color": "white"
             }
            },
            "header": {
             "fill": {
              "color": "rgb(217,217,217)"
             },
             "line": {
              "color": "white"
             }
            },
            "type": "table"
           }
          ]
         },
         "layout": {
          "annotationdefaults": {
           "arrowhead": 0,
           "arrowwidth": 1
          },
          "autotypenumbers": "strict",
          "coloraxis": {
           "colorbar": {
            "outlinewidth": 1,
            "tickcolor": "rgb(36,36,36)",
            "ticks": "outside"
           }
          },
          "colorscale": {
           "diverging": [
            [
             0.0,
             "rgb(103,0,31)"
            ],
            [
             0.1,
             "rgb(178,24,43)"
            ],
            [
             0.2,
             "rgb(214,96,77)"
            ],
            [
             0.3,
             "rgb(244,165,130)"
            ],
            [
             0.4,
             "rgb(253,219,199)"
            ],
            [
             0.5,
             "rgb(247,247,247)"
            ],
            [
             0.6,
             "rgb(209,229,240)"
            ],
            [
             0.7,
             "rgb(146,197,222)"
            ],
            [
             0.8,
             "rgb(67,147,195)"
            ],
            [
             0.9,
             "rgb(33,102,172)"
            ],
            [
             1.0,
             "rgb(5,48,97)"
            ]
           ],
           "sequential": [
            [
             0.0,
             "#440154"
            ],
            [
             0.1111111111111111,
             "#482878"
            ],
            [
             0.2222222222222222,
             "#3e4989"
            ],
            [
             0.3333333333333333,
             "#31688e"
            ],
            [
             0.4444444444444444,
             "#26828e"
            ],
            [
             0.5555555555555556,
             "#1f9e89"
            ],
            [
             0.6666666666666666,
             "#35b779"
            ],
            [
             0.7777777777777778,
             "#6ece58"
            ],
            [
             0.8888888888888888,
             "#b5de2b"
            ],
            [
             1.0,
             "#fde725"
            ]
           ],
           "sequentialminus": [
            [
             0.0,
             "#440154"
            ],
            [
             0.1111111111111111,
             "#482878"
            ],
            [
             0.2222222222222222,
             "#3e4989"
            ],
            [
             0.3333333333333333,
             "#31688e"
            ],
            [
             0.4444444444444444,
             "#26828e"
            ],
            [
             0.5555555555555556,
             "#1f9e89"
            ],
            [
             0.6666666666666666,
             "#35b779"
            ],
            [
             0.7777777777777778,
             "#6ece58"
            ],
            [
             0.8888888888888888,
             "#b5de2b"
            ],
            [
             1.0,
             "#fde725"
            ]
           ]
          },
          "colorway": [
           "#1F77B4",
           "#FF7F0E",
           "#2CA02C",
           "#D62728",
           "#9467BD",
           "#8C564B",
           "#E377C2",
           "#7F7F7F",
           "#BCBD22",
           "#17BECF"
          ],
          "font": {
           "color": "rgb(36,36,36)"
          },
          "geo": {
           "bgcolor": "white",
           "lakecolor": "white",
           "landcolor": "white",
           "showlakes": true,
           "showland": true,
           "subunitcolor": "white"
          },
          "hoverlabel": {
           "align": "left"
          },
          "hovermode": "closest",
          "mapbox": {
           "style": "light"
          },
          "paper_bgcolor": "white",
          "plot_bgcolor": "white",
          "polar": {
           "angularaxis": {
            "gridcolor": "rgb(232,232,232)",
            "linecolor": "rgb(36,36,36)",
            "showgrid": false,
            "showline": true,
            "ticks": "outside"
           },
           "bgcolor": "white",
           "radialaxis": {
            "gridcolor": "rgb(232,232,232)",
            "linecolor": "rgb(36,36,36)",
            "showgrid": false,
            "showline": true,
            "ticks": "outside"
           }
          },
          "scene": {
           "xaxis": {
            "backgroundcolor": "white",
            "gridcolor": "rgb(232,232,232)",
            "gridwidth": 2,
            "linecolor": "rgb(36,36,36)",
            "showbackground": true,
            "showgrid": false,
            "showline": true,
            "ticks": "outside",
            "zeroline": false,
            "zerolinecolor": "rgb(36,36,36)"
           },
           "yaxis": {
            "backgroundcolor": "white",
            "gridcolor": "rgb(232,232,232)",
            "gridwidth": 2,
            "linecolor": "rgb(36,36,36)",
            "showbackground": true,
            "showgrid": false,
            "showline": true,
            "ticks": "outside",
            "zeroline": false,
            "zerolinecolor": "rgb(36,36,36)"
           },
           "zaxis": {
            "backgroundcolor": "white",
            "gridcolor": "rgb(232,232,232)",
            "gridwidth": 2,
            "linecolor": "rgb(36,36,36)",
            "showbackground": true,
            "showgrid": false,
            "showline": true,
            "ticks": "outside",
            "zeroline": false,
            "zerolinecolor": "rgb(36,36,36)"
           }
          },
          "shapedefaults": {
           "fillcolor": "black",
           "line": {
            "width": 0
           },
           "opacity": 0.3
          },
          "ternary": {
           "aaxis": {
            "gridcolor": "rgb(232,232,232)",
            "linecolor": "rgb(36,36,36)",
            "showgrid": false,
            "showline": true,
            "ticks": "outside"
           },
           "baxis": {
            "gridcolor": "rgb(232,232,232)",
            "linecolor": "rgb(36,36,36)",
            "showgrid": false,
            "showline": true,
            "ticks": "outside"
           },
           "bgcolor": "white",
           "caxis": {
            "gridcolor": "rgb(232,232,232)",
            "linecolor": "rgb(36,36,36)",
            "showgrid": false,
            "showline": true,
            "ticks": "outside"
           }
          },
          "title": {
           "x": 0.05
          },
          "xaxis": {
           "automargin": true,
           "gridcolor": "rgb(232,232,232)",
           "linecolor": "rgb(36,36,36)",
           "showgrid": false,
           "showline": true,
           "ticks": "outside",
           "title": {
            "standoff": 15
           },
           "zeroline": false,
           "zerolinecolor": "rgb(36,36,36)"
          },
          "yaxis": {
           "automargin": true,
           "gridcolor": "rgb(232,232,232)",
           "linecolor": "rgb(36,36,36)",
           "showgrid": false,
           "showline": true,
           "ticks": "outside",
           "title": {
            "standoff": 15
           },
           "zeroline": false,
           "zerolinecolor": "rgb(36,36,36)"
          }
         }
        },
        "title": {
         "text": "Analysis of Experimental Structure Quality for ADMET Targets"
        },
        "width": 1600,
        "xaxis": {
         "range": [
          -0.5,
          57.5
         ],
         "ticktext": [
          "A1AG1 (P02763)",
          "OXA1L (Q15070)",
          "ABCBB (O95342)",
          "ABCG2 (Q9UNQ0)",
          "MDR1 (P08183)",
          "MRP1 (P33527)",
          "S15A1 (P46059)",
          "S22A6 (Q4U2R8)",
          "S22A8 (Q8TCC7)",
          "S47A1 (Q96FL8)",
          "SO1B1 (Q9Y6L6)",
          "SO1B3 (Q9NPD5)",
          "AHR (P35869)",
          "GSTA1 (P08263)",
          "NR1I2 (O75469)",
          "NR1I3 (Q14994)",
          "ST1A1 (P50225)",
          "ADH1A (P07327)",
          "AL1A1 (P00352)",
          "AOFA (P21397)",
          "AOFB (P27338)",
          "AOXA (Q06278)",
          "ARK73 (O95154)",
          "CP1A2 (P05177)",
          "CP2B6 (P20813)",
          "CP2C9 (P11712)",
          "CP2CJ (P33261)",
          "CP2D6 (P10635)",
          "CP3A4 (P08684)",
          "DHI1 (P28845)",
          "FMO1 (Q01740)",
          "XDH (P47989)",
          "5HT2B (P41595)",
          "ACH10 (Q9GZZ6)",
          "ACHA3 (P32297)",
          "ACHA5 (P30532)",
          "ACHA7 (P36544)",
          "ACHA9 (Q9UGM1)",
          "ACM1 (P11229)",
          "ACM2 (P08172)",
          "ACM3 (P20309)",
          "ADA1A (P35348)",
          "ADA2A (P08913)",
          "ADRB1 (P08588)",
          "ADRB2 (P07550)",
          "ASM3A (Q92484)",
          "CAC1C (Q13936)",
          "CACB1 (Q02641)",
          "CNR1 (P21554)",
          "CNR2 (P34972)",
          "GBRA1 (P14867)",
          "HRH1 (P35367)",
          "KCNH2 (Q12809)",
          "SC6A2 (P23975)",
          "SC6A3 (Q01959)",
          "SC6A4 (P31645)",
          "SCN5A (Q14524)"
         ],
         "tickvals": [
          0,
          1,
          2,
          3,
          4,
          5,
          6,
          7,
          8,
          9,
          10,
          11,
          12,
          13,
          14,
          15,
          16,
          17,
          18,
          19,
          20,
          21,
          22,
          23,
          24,
          25,
          26,
          27,
          28,
          29,
          30,
          31,
          32,
          33,
          34,
          35,
          36,
          37,
          38,
          39,
          40,
          41,
          42,
          43,
          44,
          45,
          46,
          47,
          48,
          49,
          50,
          51,
          52,
          53,
          54,
          55,
          56
         ],
         "title": {
          "text": "Protein Name (Uniprot ID)"
         }
        },
        "yaxis": {
         "title": {
          "text": "Resolution(A)"
         }
        }
       },
       "config": {
        "plotlyServerURL": "https://plot.ly"
       }
      },
      "text/html": "<div>                            <div id=\"7d4a052b-33fd-4068-bc21-3220eecbf644\" class=\"plotly-graph-div\" style=\"height:600px; width:1600px;\"></div>            <script type=\"text/javascript\">                require([\"plotly\"], function(Plotly) {                    window.PLOTLYENV=window.PLOTLYENV || {};                                    if (document.getElementById(\"7d4a052b-33fd-4068-bc21-3220eecbf644\")) {                    Plotly.newPlot(                        \"7d4a052b-33fd-4068-bc21-3220eecbf644\",                        [{\"marker\":{\"color\":\"#11efb7\",\"line\":{\"color\":\"black\",\"width\":1},\"size\":10,\"symbol\":\"diamond-tall\"},\"mode\":\"markers\",\"name\":\"absorption (X-ray)\",\"opacity\":1,\"showlegend\":true,\"x\":[-0.1261580829955246],\"y\":[1.8],\"type\":\"scatter\"},{\"marker\":{\"color\":\"#11efb7\",\"line\":{\"color\":\"black\",\"width\":1},\"size\":10,\"symbol\":\"circle-open\"},\"mode\":\"markers\",\"name\":\"absorption (AlphaFold)\",\"opacity\":0,\"showlegend\":false,\"x\":[0,1],\"y\":[2.0,2.0],\"type\":\"scatter\"},{\"marker\":{\"color\":\"#11efb7\",\"line\":{\"color\":\"black\",\"width\":2},\"size\":10,\"symbol\":\"circle\"},\"mode\":\"markers\",\"name\":\"absorption (EM)\",\"opacity\":1,\"showlegend\":true,\"x\":[0.9777311665107935,1.0880794718670777],\"y\":[2.89,3.7],\"type\":\"scatter\"},{\"marker\":{\"color\":\"#9553ff\",\"line\":{\"color\":\"black\",\"width\":1},\"size\":10,\"symbol\":\"diamond-tall\"},\"mode\":\"markers\",\"name\":\"drug_transporter (X-ray)\",\"opacity\":1,\"showlegend\":true,\"x\":[4.850775151457391,5.183943459719478],\"y\":[1.5,2.1],\"type\":\"scatter\"},{\"marker\":{\"color\":\"#9553ff\",\"line\":{\"color\":\"black\",\"width\":1},\"size\":10,\"symbol\":\"circle-open\"},\"mode\":\"markers\",\"name\":\"drug_transporter (AlphaFold)\",\"opacity\":0,\"showlegend\":false,\"x\":[2,3,4,5,6,7,8,9,10,11],\"y\":[2.0,2.0,2.0,2.0,2.0,2.0,2.0,2.0,2.0,2.0],\"type\":\"scatter\"},{\"marker\":{\"color\":\"#9553ff\",\"line\":{\"color\":\"black\",\"width\":2},\"size\":10,\"symbol\":\"circle\"},\"mode\":\"markers\",\"name\":\"drug_transporter (EM)\",\"opacity\":1,\"showlegend\":true,\"x\":[2.124710019844328,2.0515053830936374,2.1538171951383225,3.0864129824528908,3.1877653977699616,3.132009153064655,2.8663145430973453,2.9918337442823617,3.1577558000802948,3.1981520067130016,2.825975135912204,2.8085627703593965,3.0771304544531293,3.1094137441337564,2.976667111256704,3.0536327974292408,3.098702319154104,2.990847688615216,2.942211955047456,3.0652538108911807,2.905688051586069,3.13604276935363,2.8509407044975497,3.160017889415712,3.0608256522559945,2.8820402376849423,3.1634351759468653,3.8221413569744542,4.129673294725944,3.962440930053349,3.8475703457673225,4.153888354498087,3.9644472417658645,4.136274287935005,3.8492055006954593,3.9179325699499907,3.8421582632372275,6.181963749629299,5.991049546241193,5.8466021430150334,9.86493315506694,9.945434822822405,9.901829007907747,9.987121036687697,10.142303568761022,10.021601534988335,10.807836036451597],\"y\":[3.66,3.7,3.5,3.1,3.04,3.1,3.4,3.2,3.4,3.7,3.39,3.12,4.1,3.2,3.58,4.0,3.5,3.51,3.49,3.56,3.09,3.56,3.6,3.1,3.78,3.78,3.09,3.58,4.14,3.6,3.9,3.2,3.6,3.5,3.5,3.4,3.6,3.5,3.9,4.1,3.19,3.73,2.92,3.53,3.73,3.6,2.97],\"type\":\"scatter\"},{\"marker\":{\"color\":\"#ffb418\",\"line\":{\"color\":\"black\",\"width\":1},\"size\":10,\"symbol\":\"diamond-tall\"},\"mode\":\"markers\",\"name\":\"metabolism (X-ray)\",\"opacity\":1,\"showlegend\":true,\"x\":[11.981600980296722,12.93863912266392,12.81121265325204,13.188451018267799,12.954193777454481,12.964974577301081,12.805104087899718,12.917697201122834,12.905707574865968,12.949850896767199,12.999982218011498,12.969509951317633,12.909838169714764,12.902271963716016,12.906325135820733,13.14354368370457,12.957753662260417,13.170592322617637,13.174006668072721,12.83426162309625,12.915827957674482,13.144707142428691,13.194490323040869,12.866645429605002,13.07026064799835,12.892562605495488,12.829712045785282,12.96768922185452,13.179060309876354,12.977017137145582,12.83166597240097,12.82904418953782,13.159086103872303,12.868185658142773,12.905797536252031,12.841198082027589,12.987851650031105,12.992369083891793,12.928527648827428,12.89161681999302,13.926196565252999,13.807603822680068,13.884820637741594,13.83115981254823,13.861692039917967,13.865024266467747,14.036644478095885,14.023490272077133,14.021552334155729,13.848256370129162,13.97687320240528,14.009158529988223,14.164395070215077,13.85902004153871,13.923610441419662,13.998849142435683,14.121243432728908,14.140046481526802,14.124584045360114,13.885804288135102,13.894961573125492,13.864825331003793,13.979461511967587,14.008144221514637,13.953928808905507,14.17776667081479,13.887906829987143,13.99847964696168,13.914123945064295,14.162649265446854,13.971408689134075,13.817198616940045,13.87968286261376,13.944694987994831,14.059427402394618,13.995701087995855,13.983118161373719,14.065287261926384,13.812905935950731,13.835758208858591,14.077390533521429,13.853411859631295,14.103039981194295,14.139243720589882,14.13360530551205,13.995850231117771,13.885758374038744,13.814865847555994,13.984605695752201,13.849309059046007,13.881798660602378,13.91362111631265,13.822879374586716,15.131598568623996,14.841413954301112,16.16520807277795,16.18404696768208,16.012632022176504,16.07031306266793,16.146581516097676,15.914178567015348,15.83866539215935,15.938196186235231,15.933201432192183,16.031879754112058,16.107550633169765],\"y\":[3.3,2.33,1.6,1.55,1.7,2.0,1.29,2.46,2.03,1.56,2.1,1.93,2.19,1.87,1.88,2.0,2.6,1.5,1.8,1.3,1.86,2.0,2.1,1.75,1.8,2.07,1.85,1.95,1.8,2.51,2.38,1.98,2.2,1.75,2.13,2.7,1.79,2.2,1.86,2.5,2.15,2.3,2.0,2.5,2.26,2.48,2.05,2.2,2.1,2.25,2.76,2.2,2.8,2.8,3.14,2.0,2.25,2.58,2.4,2.25,2.3,2.3,2.37,2.55,2.7,2.15,2.0,2.8,2.67,2.8,2.8,2.0,2.1,2.8,2.8,2.22,2.27,2.3,2.7,1.85,2.27,2.15,2.25,2.8,2.26,2.55,2.05,2.65,1.9,2.45,2.28,2.56,2.52,2.6,2.7,2.36,2.56,2.36,2.3,2.7,2.35,2.5,1.9,2.3,2.3,2.0],\"type\":\"scatter\"},{\"marker\":{\"color\":\"#ffb418\",\"line\":{\"color\":\"black\",\"width\":1},\"size\":10,\"symbol\":\"circle-open\"},\"mode\":\"markers\",\"name\":\"metabolism (AlphaFold)\",\"opacity\":0,\"showlegend\":false,\"x\":[12,13,14,15,16],\"y\":[2.0,2.0,2.0,2.0,2.0],\"type\":\"scatter\"},{\"marker\":{\"color\":\"#ffb418\",\"line\":{\"color\":\"black\",\"width\":2},\"size\":10,\"symbol\":\"circle\"},\"mode\":\"markers\",\"name\":\"metabolism (EM)\",\"opacity\":1,\"showlegend\":true,\"x\":[11.840021397387744],\"y\":[2.85],\"type\":\"scatter\"},{\"marker\":{\"color\":\"#d07c09\",\"line\":{\"color\":\"black\",\"width\":1},\"size\":10,\"symbol\":\"diamond-tall\"},\"mode\":\"markers\",\"name\":\"metabolism_redox (X-ray)\",\"opacity\":1,\"showlegend\":true,\"x\":[16.91035365772788,16.91573514007566,18.05717326825003,18.135456719405312,18.07222356546512,18.130869363983507,17.83407159892529,17.848851835930528,18.084190395810122,18.162934019977616,17.870888330208892,17.811360335686675,18.084040908485125,18.093534669651994,18.066776890071168,17.954773961853792,17.808709156227874,18.060035289214078,17.893299866362465,19.19401826967587,18.84404964204565,18.937686744633446,18.860132343060048,20.195432478562378,19.934872757853427,20.035846373601668,19.86613099441914,19.914991239594123,19.93341218615628,20.03684306531052,19.854516286923925,19.902410628579972,19.911991959382206,19.925649548557665,20.113137684950367,20.05445266697742,20.152884301259785,20.155210455410696,20.030629986470544,20.010953553917084,20.15267230997893,19.967275007059694,20.141027217570517,19.952592539702096,20.06187766086521,20.173841662911002,20.008840875332243,19.985327199307307,20.12299356183213,19.820474537700743,20.076160179409637,20.039815502252726,20.158505510877806,20.127340624055496,20.166522685248456,20.1843616854996,19.999127990141737,19.82923347822414,19.995645665766506,19.961722045194634,20.193712946799472,20.164684536486956,20.167647812436336,19.805455476962628,19.999746010534672,19.97970034656606,20.19342815999112,19.896613042086273,19.915802884251978,19.81303091667386,19.816934641591377,19.86965171702774,20.113087319111404,20.05067005511381,20.096394814285922,21.16605564696233,20.905279873050002,21.13279691499277,21.078510397090678,21.19734196139287,21.169243708335976,21.97157212547136,22.910567644004974,23.923512046644294,24.155381816590317,24.053167711514703,23.837475527745102,23.93508752023561,24.1976239815677,23.902887832754473,24.107213303821823,23.832388133610788,24.154913024196077,24.169932258406522,24.09560020643171,23.947405979568387,24.81837796033637,25.0633508465477,25.148722641594777,25.08593932531218,24.849636651604946,24.997643562455195,25.05534209151245,24.956025350215516,24.865331602366275,25.18570836831649,24.856011764565867,25.11478158556298,24.873946996496752,25.915365653991984,26.9438649015314,26.995649448310555,26.8100948827416,27.113992629819816,27.01435137900832,26.92911184768248,26.92621040758886,27.011384594346897,27.190630310101373,26.82738938977021,27.158680543537198,26.938085693718936,26.864200914689764,26.805473636294522,27.99293880622609,27.85054192625724,28.028097620388053,28.05141365621608,28.05398832933097,27.933044407505704,28.098163375528003,28.19131957787304,27.80672391110735,28.15128395299389,28.042157457196073,27.8454036617457,28.110084045993126,28.186346957768095,27.936616627045886,27.857501462740608,28.12362878294329,27.99875009136516,27.967460431351252,28.08102452706901,28.146221109470872,28.12965710453992,27.821681459454055,27.892977855325846,27.988735513760254,27.898655628147072,28.16617253336753,28.124057918419886,28.179647927409214,27.84352176903044,27.852917299232796,28.1794503974809,28.15304079449331,28.04243231093873,28.145081077234785,28.196619352749174,27.849302293944348,28.07385154608722,27.884337072396484,28.127418843050243,28.09697221986042,27.98868435354443,28.121897573056415,28.049845998607903,28.159138095324852,27.94157178624755,27.800810524752603,28.149480272934976,27.813181253946556,27.929187254960084,27.973228773192936,27.834462628016578,27.991763673941747,27.81991387573105,27.848202538649712,28.14507467936589,27.82592669995151,28.17093571768053,27.902235108737745,28.070455686749018,28.107686203923574,27.997254635091707,28.158499584803103,27.938806584695694,28.116532961944102,27.921431630485497,28.06722697841752,27.921299632030998,27.999746671682832,27.81242073805698,28.046562765339665,27.888991244444302,28.114105256939123,28.035603423983325,27.900441655670164,27.83449357586928,27.865079755386365,28.182213768480782,28.885315926421303,28.905929573278534,28.976881228647212,28.911432890696673,28.94317316425869,28.9351888255524,28.890396043577447,28.93136180184802,29.05588767997299,29.194364882328614,29.097484554684954,29.180434468737023,29.150799469153878,28.850024241105675,29.152994765569265,28.97748142556467,29.195160912825457,28.885429078925522,28.989108972572218,29.153079117885227,28.912142224905317,29.07050768542198,29.085928939127935,28.958560395232585,29.025793521226294,28.99777455695133,29.00831948927614,29.13539837127608,28.826645476042323,29.072369303547728,28.96668730808889,29.17652643096289,28.950940544014298,28.92768567580363,28.80723210295186,29.197380927819562,28.970644913654958,29.01918605681565,28.887321255499625,29.04658035090608,31.182659330002124,30.899620484084444],\"y\":[2.49,2.5,1.8,1.6,1.6,1.8,2.07,1.74,1.8,1.9,1.85,1.85,1.95,1.7,2.05,2.1,2.0,1.6,1.7,2.2,3.0,3.15,2.17,2.0,2.2,1.83,1.9,1.8,1.6,1.65,2.12,2.07,3.1,2.4,1.7,2.3,3.0,2.3,1.89,1.8,2.42,1.8,1.8,1.6,1.7,2.3,1.7,2.3,1.8,2.3,2.1,1.7,2.2,2.1,1.7,2.5,1.7,2.06,2.0,2.2,1.7,1.7,1.6,1.7,2.0,2.3,2.3,1.9,1.6,2.1,1.66,2.2,2.2,2.4,2.2,2.7,2.6,3.39,2.7,3.1,2.6,3.0,1.95,2.1,2.0,2.8,2.24,2.0,2.2,1.93,2.27,2.8,1.76,2.1,2.03,2.99,2.6,2.23,3.12,2.3,2.48,2.0,2.3,2.0,2.45,2.0,2.55,2.0,2.9,2.87,2.67,2.39,3.0,2.85,2.6,2.26,2.35,2.1,2.5,2.4,2.71,2.75,2.39,3.3,2.4,2.15,2.05,2.05,2.15,2.2,2.25,2.1,2.65,2.35,2.2,2.2,1.95,1.7,2.7,2.7,2.6,2.45,2.5,2.95,2.76,2.4,2.6,2.85,2.5,2.9,2.72,2.3,2.05,2.8,2.65,2.74,2.75,2.23,2.8,2.25,2.15,1.93,2.25,2.8,2.76,2.0,2.5,2.6,2.42,2.75,2.5,2.75,2.78,2.45,2.25,2.75,2.35,2.5,2.9,2.4,2.7,2.4,2.2,2.3,2.65,2.5,2.75,2.25,2.57,2.7,2.52,2.25,2.38,2.67,2.2,2.6,2.5,2.79,2.55,2.65,2.55,2.5,2.55,1.91,2.73,2.2,2.16,1.96,2.35,2.35,2.35,3.2,2.35,2.35,2.37,2.5,1.8,2.07,2.19,2.72,2.35,2.6,2.45,1.8,1.55,2.11,2.3,3.1,1.9,2.69,2.3,2.25,2.6,2.5,2.55,3.0,2.65,2.3,2.19,2.3,2.35,2.8,2.6,3.59],\"type\":\"scatter\"},{\"marker\":{\"color\":\"#d07c09\",\"line\":{\"color\":\"black\",\"width\":1},\"size\":10,\"symbol\":\"circle-open\"},\"mode\":\"markers\",\"name\":\"metabolism_redox (AlphaFold)\",\"opacity\":0,\"showlegend\":false,\"x\":[17,18,19,20,21,22,23,24,25,26,27,28,29,30,31],\"y\":[2.0,2.0,2.0,2.0,2.0,2.0,2.0,2.0,2.0,2.0,2.0,2.0,2.0,2.0,2.0],\"type\":\"scatter\"},{\"marker\":{\"color\":\"#d07c09\",\"line\":{\"color\":\"black\",\"width\":2},\"size\":10,\"symbol\":\"circle\"},\"mode\":\"markers\",\"name\":\"metabolism_redox (EM)\",\"opacity\":1,\"showlegend\":true,\"x\":[17.956345230454065,18.169767616568187,18.186606255739477,20.954057723306235],\"y\":[2.64,3.4,2.84,2.92],\"type\":\"scatter\"},{\"marker\":{\"color\":\"#5e2bcb\",\"line\":{\"color\":\"black\",\"width\":1},\"size\":10,\"symbol\":\"diamond-tall\"},\"mode\":\"markers\",\"name\":\"toxicity (X-ray)\",\"opacity\":1,\"showlegend\":true,\"x\":[32.04046493716338,32.14666990998111,32.026369686155036,32.07867123705968,31.952098679006706,31.82601262349839,31.978783870210883,32.076068593402226,33.93305017641816,34.17736565958348,33.99086210083495,36.12077436089008,35.929325857836126,35.921693363093866,36.1692128585081,35.96704180553761,36.093296075643494,36.93010365504216,36.84590636099407,36.96753726445322,36.88078646035574,38.16615379314397,37.80072102745498,38.01983146220439,38.19135564657761,37.821600714586765,38.96524664166,38.87554536844722,39.056478582803344,39.0437406192257,38.97929121950249,39.0018829903754,38.964514527512144,39.09738549020324,42.08506948708698,41.876554510184704,43.025428648924745,42.87476738448667,43.03056047513737,43.029817139579755,43.805461799858186,43.815881410992056,43.993844982546875,43.890757711333904,44.18391943348203,43.921432515110986,43.93256440359393,43.85314245806132,43.86921883588623,44.19564480325418,44.10853891025799,44.19360204256066,43.93392368535188,43.956409851048264,43.86300259695005,43.903584407637986,43.89224953765079,43.848124826195814,44.15307568826351,44.07440708788707,43.80916088293492,44.071876358153766,44.03825023014877,44.170279295730886,43.995953548432,43.93006608210596,44.06044147387569,44.106604633820886,43.87565357618572,43.995247473184115,43.925487649718676,43.99229688941183,44.0259644947504,43.96927926461776,43.878456798319206,43.877132622134475,44.992584309410624,45.047871138150505,46.06659285769104,46.12441234170569,46.155873147394026,45.82303551674505,46.00413027336671,46.177744924499585,45.89487125715219,45.91930050964127,46.05751152338136,46.14092432894607,45.857247018703276,45.85317612031239,45.87093604944413,46.06986917185838,46.06458463194962,47.90177532759944,48.01393907366257,48.051011973616724,47.83920963615511,48.04320807825201,47.95847790575786,47.820381600987396,48.8976352911915,48.891114827465564,49.902003751466076,49.82066890122848,50.88604540449376,51.986456713662555,52.05529912613683,52.056690692748084,52.10037338547887,55.14309319328297,54.99441602052666,54.835078260284206,55.010098610119165,54.84838154730863,55.05917209252031,55.024528537039345,54.94122190238968,55.01510756535868,55.05575568745007,55.00753113632024,54.97051491278452,55.94323679199914,55.81717137837875,56.010099543182776,55.82508226422736,56.19336350225931,56.088899312256544],\"y\":[3.19,2.92,3.1,2.9,3.0,2.8,2.7,3.1,1.9,1.93,2.0,2.15,2.85,2.4,2.2,2.38,2.38,1.8,1.71,2.7,2.26,2.33,2.5,2.17,2.55,2.7,3.5,3.7,2.3,2.95,3.0,2.6,2.5,3.0,3.2,2.7,3.13,2.5,2.6,2.7,3.2,2.7,3.2,3.2,3.8,2.48,3.3,2.4,3.1,3.99,2.8,3.4,2.84,2.84,3.16,3.5,3.5,3.2,2.79,3.1,1.9,3.4,3.4,2.7,2.6,2.5,2.4,2.9,3.4,2.8,3.1,3.2,2.96,3.7,3.2,3.4,3.0,2.6,2.0,2.0,1.45,1.6,2.1,2.55,1.65,2.0,2.4,2.4,1.65,1.7,1.75,1.7,2.0,2.95,2.8,2.7,2.8,3.25,2.6,3.29,2.8,3.2,3.45,3.2,3.1,1.5,1.96,2.12,2.6,3.4,3.62,3.49,3.15,3.14,3.53,4.53,3.8,3.24,4.05,6.3,4.7,2.69,2.25,2.8,3.84,1.35,2.2],\"type\":\"scatter\"},{\"marker\":{\"color\":\"#5e2bcb\",\"line\":{\"color\":\"black\",\"width\":1},\"size\":10,\"symbol\":\"circle-open\"},\"mode\":\"markers\",\"name\":\"toxicity (AlphaFold)\",\"opacity\":0,\"showlegend\":false,\"x\":[32,33,34,35,36,37,38,39,40,41,42,43,44,45,46,47,48,49,50,51,52,53,54,55,56],\"y\":[2.0,2.0,2.0,2.0,2.0,2.0,2.0,2.0,2.0,2.0,2.0,2.0,2.0,2.0,2.0,2.0,2.0,2.0,2.0,2.0,2.0,2.0,2.0,2.0,2.0],\"type\":\"scatter\"},{\"marker\":{\"color\":\"#5e2bcb\",\"line\":{\"color\":\"black\",\"width\":2},\"size\":10,\"symbol\":\"circle\"},\"mode\":\"markers\",\"name\":\"toxicity (EM)\",\"opacity\":1,\"showlegend\":true,\"x\":[32.16192505201882,32.07074110781704,32.19612544611661,34.162792842396414,34.16835855765386,36.07027064092291,35.991696493235004,35.97783508807305,36.13850857781278,35.89039134402623,36.0317279879881,36.12810066236454,36.02326106059732,36.196512903883,35.83201697389508,35.881276982160585,38.19360188966728,39.18799779185389,38.879638002583505,39.12858472385642,38.92215975033149,38.89668544172808,38.82893707186799,39.860235422868605,39.964141833486565,40.12194488400899,39.97540304699706,40.858125598409664,41.05152102593681,41.85090745448822,42.0729047728203,42.16938777121739,42.012213914311324,41.99216963865687,42.17973334923997,42.18127487722562,43.99553058371428,44.07175741799821,44.12558648060744,44.11487088842796,43.849702879720674,44.12529281980235,46.08578261302105,46.007349591166616,46.85919028152841,47.18483437399887,46.952360831016335,47.180137794178194,46.81555718593337,47.94406687317694,47.839180339417375,48.13393033385785,48.11570791244784,49.022874403709785,49.00035087940466,48.854391691350344,48.97090139540726,48.847088148051654,49.10255388927593,49.80760147943733,50.056446597652034,50.16210459513082,50.05010187206088,50.164277934121884,50.01253131281528,49.898855159609866,49.95996247650812,50.19402467318746,49.8957105743693,50.18975002045375,49.854741311845615,49.88313526809608,50.19493676450741,50.1604771881722,49.92132846296423,50.003590515205964,49.858401670422936,49.93586844356691,50.10070746025842,49.87211656935513,49.80405810451409,50.14018513821557,50.086655441656625,49.90194748559965,49.9317345039138,49.975561557730046,50.964183343441846,52.10044469592335,52.13236315015763,52.04830150709997,54.934932802083026,54.83132095613255,55.17629716980563,54.85118177152067,54.98381835379441,55.05997476058699,55.01485277556519,55.02240156086074,55.018216193734155,54.80343214896396,55.01213627632987,55.1802578604402,54.87631200603549,54.98464862599159,54.961455761700684,55.93542541300899,55.829406353099515],\"y\":[2.9,3.3,2.7,3.34,3.87,2.3,3.4,3.02,4.4,2.8,2.7,3.6,3.0,2.85,3.18,2.7,3.3,3.22,3.32,3.6,3.21,4.0,3.16,2.79,2.69,2.56,2.69,3.1,2.6,3.4,3.0,3.2,4.1,3.47,3.4,3.6,3.4,3.8,3.26,3.82,3.2,3.8,3.4,3.1,2.8,3.1,3.3,3.0,3.0,3.0,2.8,3.36,3.0,2.97,2.84,3.08,2.9,2.98,3.2,3.8,3.8,3.1,3.04,3.69,3.26,3.58,3.2,2.55,3.49,3.5,2.92,3.23,3.3,3.04,2.86,2.71,2.98,2.65,2.9,3.12,3.0,3.0,2.7,3.0,2.79,2.9,3.3,4.0,3.8,3.7,3.5,3.65,4.2,3.0,3.3,3.9,3.9,3.5,4.1,3.8,4.1,3.3,3.6,4.1,4.3,3.3,3.3],\"type\":\"scatter\"}],                        {\"height\":600,\"template\":{\"data\":{\"barpolar\":[{\"marker\":{\"line\":{\"color\":\"white\",\"width\":0.5},\"pattern\":{\"fillmode\":\"overlay\",\"size\":10,\"solidity\":0.2}},\"type\":\"barpolar\"}],\"bar\":[{\"error_x\":{\"color\":\"rgb(36,36,36)\"},\"error_y\":{\"color\":\"rgb(36,36,36)\"},\"marker\":{\"line\":{\"color\":\"white\",\"width\":0.5},\"pattern\":{\"fillmode\":\"overlay\",\"size\":10,\"solidity\":0.2}},\"type\":\"bar\"}],\"carpet\":[{\"aaxis\":{\"endlinecolor\":\"rgb(36,36,36)\",\"gridcolor\":\"white\",\"linecolor\":\"white\",\"minorgridcolor\":\"white\",\"startlinecolor\":\"rgb(36,36,36)\"},\"baxis\":{\"endlinecolor\":\"rgb(36,36,36)\",\"gridcolor\":\"white\",\"linecolor\":\"white\",\"minorgridcolor\":\"white\",\"startlinecolor\":\"rgb(36,36,36)\"},\"type\":\"carpet\"}],\"choropleth\":[{\"colorbar\":{\"outlinewidth\":1,\"tickcolor\":\"rgb(36,36,36)\",\"ticks\":\"outside\"},\"type\":\"choropleth\"}],\"contourcarpet\":[{\"colorbar\":{\"outlinewidth\":1,\"tickcolor\":\"rgb(36,36,36)\",\"ticks\":\"outside\"},\"type\":\"contourcarpet\"}],\"contour\":[{\"colorbar\":{\"outlinewidth\":1,\"tickcolor\":\"rgb(36,36,36)\",\"ticks\":\"outside\"},\"colorscale\":[[0.0,\"#440154\"],[0.1111111111111111,\"#482878\"],[0.2222222222222222,\"#3e4989\"],[0.3333333333333333,\"#31688e\"],[0.4444444444444444,\"#26828e\"],[0.5555555555555556,\"#1f9e89\"],[0.6666666666666666,\"#35b779\"],[0.7777777777777778,\"#6ece58\"],[0.8888888888888888,\"#b5de2b\"],[1.0,\"#fde725\"]],\"type\":\"contour\"}],\"heatmapgl\":[{\"colorbar\":{\"outlinewidth\":1,\"tickcolor\":\"rgb(36,36,36)\",\"ticks\":\"outside\"},\"colorscale\":[[0.0,\"#440154\"],[0.1111111111111111,\"#482878\"],[0.2222222222222222,\"#3e4989\"],[0.3333333333333333,\"#31688e\"],[0.4444444444444444,\"#26828e\"],[0.5555555555555556,\"#1f9e89\"],[0.6666666666666666,\"#35b779\"],[0.7777777777777778,\"#6ece58\"],[0.8888888888888888,\"#b5de2b\"],[1.0,\"#fde725\"]],\"type\":\"heatmapgl\"}],\"heatmap\":[{\"colorbar\":{\"outlinewidth\":1,\"tickcolor\":\"rgb(36,36,36)\",\"ticks\":\"outside\"},\"colorscale\":[[0.0,\"#440154\"],[0.1111111111111111,\"#482878\"],[0.2222222222222222,\"#3e4989\"],[0.3333333333333333,\"#31688e\"],[0.4444444444444444,\"#26828e\"],[0.5555555555555556,\"#1f9e89\"],[0.6666666666666666,\"#35b779\"],[0.7777777777777778,\"#6ece58\"],[0.8888888888888888,\"#b5de2b\"],[1.0,\"#fde725\"]],\"type\":\"heatmap\"}],\"histogram2dcontour\":[{\"colorbar\":{\"outlinewidth\":1,\"tickcolor\":\"rgb(36,36,36)\",\"ticks\":\"outside\"},\"colorscale\":[[0.0,\"#440154\"],[0.1111111111111111,\"#482878\"],[0.2222222222222222,\"#3e4989\"],[0.3333333333333333,\"#31688e\"],[0.4444444444444444,\"#26828e\"],[0.5555555555555556,\"#1f9e89\"],[0.6666666666666666,\"#35b779\"],[0.7777777777777778,\"#6ece58\"],[0.8888888888888888,\"#b5de2b\"],[1.0,\"#fde725\"]],\"type\":\"histogram2dcontour\"}],\"histogram2d\":[{\"colorbar\":{\"outlinewidth\":1,\"tickcolor\":\"rgb(36,36,36)\",\"ticks\":\"outside\"},\"colorscale\":[[0.0,\"#440154\"],[0.1111111111111111,\"#482878\"],[0.2222222222222222,\"#3e4989\"],[0.3333333333333333,\"#31688e\"],[0.4444444444444444,\"#26828e\"],[0.5555555555555556,\"#1f9e89\"],[0.6666666666666666,\"#35b779\"],[0.7777777777777778,\"#6ece58\"],[0.8888888888888888,\"#b5de2b\"],[1.0,\"#fde725\"]],\"type\":\"histogram2d\"}],\"histogram\":[{\"marker\":{\"line\":{\"color\":\"white\",\"width\":0.6}},\"type\":\"histogram\"}],\"mesh3d\":[{\"colorbar\":{\"outlinewidth\":1,\"tickcolor\":\"rgb(36,36,36)\",\"ticks\":\"outside\"},\"type\":\"mesh3d\"}],\"parcoords\":[{\"line\":{\"colorbar\":{\"outlinewidth\":1,\"tickcolor\":\"rgb(36,36,36)\",\"ticks\":\"outside\"}},\"type\":\"parcoords\"}],\"pie\":[{\"automargin\":true,\"type\":\"pie\"}],\"scatter3d\":[{\"line\":{\"colorbar\":{\"outlinewidth\":1,\"tickcolor\":\"rgb(36,36,36)\",\"ticks\":\"outside\"}},\"marker\":{\"colorbar\":{\"outlinewidth\":1,\"tickcolor\":\"rgb(36,36,36)\",\"ticks\":\"outside\"}},\"type\":\"scatter3d\"}],\"scattercarpet\":[{\"marker\":{\"colorbar\":{\"outlinewidth\":1,\"tickcolor\":\"rgb(36,36,36)\",\"ticks\":\"outside\"}},\"type\":\"scattercarpet\"}],\"scattergeo\":[{\"marker\":{\"colorbar\":{\"outlinewidth\":1,\"tickcolor\":\"rgb(36,36,36)\",\"ticks\":\"outside\"}},\"type\":\"scattergeo\"}],\"scattergl\":[{\"marker\":{\"colorbar\":{\"outlinewidth\":1,\"tickcolor\":\"rgb(36,36,36)\",\"ticks\":\"outside\"}},\"type\":\"scattergl\"}],\"scattermapbox\":[{\"marker\":{\"colorbar\":{\"outlinewidth\":1,\"tickcolor\":\"rgb(36,36,36)\",\"ticks\":\"outside\"}},\"type\":\"scattermapbox\"}],\"scatterpolargl\":[{\"marker\":{\"colorbar\":{\"outlinewidth\":1,\"tickcolor\":\"rgb(36,36,36)\",\"ticks\":\"outside\"}},\"type\":\"scatterpolargl\"}],\"scatterpolar\":[{\"marker\":{\"colorbar\":{\"outlinewidth\":1,\"tickcolor\":\"rgb(36,36,36)\",\"ticks\":\"outside\"}},\"type\":\"scatterpolar\"}],\"scatter\":[{\"fillpattern\":{\"fillmode\":\"overlay\",\"size\":10,\"solidity\":0.2},\"type\":\"scatter\"}],\"scatterternary\":[{\"marker\":{\"colorbar\":{\"outlinewidth\":1,\"tickcolor\":\"rgb(36,36,36)\",\"ticks\":\"outside\"}},\"type\":\"scatterternary\"}],\"surface\":[{\"colorbar\":{\"outlinewidth\":1,\"tickcolor\":\"rgb(36,36,36)\",\"ticks\":\"outside\"},\"colorscale\":[[0.0,\"#440154\"],[0.1111111111111111,\"#482878\"],[0.2222222222222222,\"#3e4989\"],[0.3333333333333333,\"#31688e\"],[0.4444444444444444,\"#26828e\"],[0.5555555555555556,\"#1f9e89\"],[0.6666666666666666,\"#35b779\"],[0.7777777777777778,\"#6ece58\"],[0.8888888888888888,\"#b5de2b\"],[1.0,\"#fde725\"]],\"type\":\"surface\"}],\"table\":[{\"cells\":{\"fill\":{\"color\":\"rgb(237,237,237)\"},\"line\":{\"color\":\"white\"}},\"header\":{\"fill\":{\"color\":\"rgb(217,217,217)\"},\"line\":{\"color\":\"white\"}},\"type\":\"table\"}]},\"layout\":{\"annotationdefaults\":{\"arrowhead\":0,\"arrowwidth\":1},\"autotypenumbers\":\"strict\",\"coloraxis\":{\"colorbar\":{\"outlinewidth\":1,\"tickcolor\":\"rgb(36,36,36)\",\"ticks\":\"outside\"}},\"colorscale\":{\"diverging\":[[0.0,\"rgb(103,0,31)\"],[0.1,\"rgb(178,24,43)\"],[0.2,\"rgb(214,96,77)\"],[0.3,\"rgb(244,165,130)\"],[0.4,\"rgb(253,219,199)\"],[0.5,\"rgb(247,247,247)\"],[0.6,\"rgb(209,229,240)\"],[0.7,\"rgb(146,197,222)\"],[0.8,\"rgb(67,147,195)\"],[0.9,\"rgb(33,102,172)\"],[1.0,\"rgb(5,48,97)\"]],\"sequential\":[[0.0,\"#440154\"],[0.1111111111111111,\"#482878\"],[0.2222222222222222,\"#3e4989\"],[0.3333333333333333,\"#31688e\"],[0.4444444444444444,\"#26828e\"],[0.5555555555555556,\"#1f9e89\"],[0.6666666666666666,\"#35b779\"],[0.7777777777777778,\"#6ece58\"],[0.8888888888888888,\"#b5de2b\"],[1.0,\"#fde725\"]],\"sequentialminus\":[[0.0,\"#440154\"],[0.1111111111111111,\"#482878\"],[0.2222222222222222,\"#3e4989\"],[0.3333333333333333,\"#31688e\"],[0.4444444444444444,\"#26828e\"],[0.5555555555555556,\"#1f9e89\"],[0.6666666666666666,\"#35b779\"],[0.7777777777777778,\"#6ece58\"],[0.8888888888888888,\"#b5de2b\"],[1.0,\"#fde725\"]]},\"colorway\":[\"#1F77B4\",\"#FF7F0E\",\"#2CA02C\",\"#D62728\",\"#9467BD\",\"#8C564B\",\"#E377C2\",\"#7F7F7F\",\"#BCBD22\",\"#17BECF\"],\"font\":{\"color\":\"rgb(36,36,36)\"},\"geo\":{\"bgcolor\":\"white\",\"lakecolor\":\"white\",\"landcolor\":\"white\",\"showlakes\":true,\"showland\":true,\"subunitcolor\":\"white\"},\"hoverlabel\":{\"align\":\"left\"},\"hovermode\":\"closest\",\"mapbox\":{\"style\":\"light\"},\"paper_bgcolor\":\"white\",\"plot_bgcolor\":\"white\",\"polar\":{\"angularaxis\":{\"gridcolor\":\"rgb(232,232,232)\",\"linecolor\":\"rgb(36,36,36)\",\"showgrid\":false,\"showline\":true,\"ticks\":\"outside\"},\"bgcolor\":\"white\",\"radialaxis\":{\"gridcolor\":\"rgb(232,232,232)\",\"linecolor\":\"rgb(36,36,36)\",\"showgrid\":false,\"showline\":true,\"ticks\":\"outside\"}},\"scene\":{\"xaxis\":{\"backgroundcolor\":\"white\",\"gridcolor\":\"rgb(232,232,232)\",\"gridwidth\":2,\"linecolor\":\"rgb(36,36,36)\",\"showbackground\":true,\"showgrid\":false,\"showline\":true,\"ticks\":\"outside\",\"zeroline\":false,\"zerolinecolor\":\"rgb(36,36,36)\"},\"yaxis\":{\"backgroundcolor\":\"white\",\"gridcolor\":\"rgb(232,232,232)\",\"gridwidth\":2,\"linecolor\":\"rgb(36,36,36)\",\"showbackground\":true,\"showgrid\":false,\"showline\":true,\"ticks\":\"outside\",\"zeroline\":false,\"zerolinecolor\":\"rgb(36,36,36)\"},\"zaxis\":{\"backgroundcolor\":\"white\",\"gridcolor\":\"rgb(232,232,232)\",\"gridwidth\":2,\"linecolor\":\"rgb(36,36,36)\",\"showbackground\":true,\"showgrid\":false,\"showline\":true,\"ticks\":\"outside\",\"zeroline\":false,\"zerolinecolor\":\"rgb(36,36,36)\"}},\"shapedefaults\":{\"fillcolor\":\"black\",\"line\":{\"width\":0},\"opacity\":0.3},\"ternary\":{\"aaxis\":{\"gridcolor\":\"rgb(232,232,232)\",\"linecolor\":\"rgb(36,36,36)\",\"showgrid\":false,\"showline\":true,\"ticks\":\"outside\"},\"baxis\":{\"gridcolor\":\"rgb(232,232,232)\",\"linecolor\":\"rgb(36,36,36)\",\"showgrid\":false,\"showline\":true,\"ticks\":\"outside\"},\"bgcolor\":\"white\",\"caxis\":{\"gridcolor\":\"rgb(232,232,232)\",\"linecolor\":\"rgb(36,36,36)\",\"showgrid\":false,\"showline\":true,\"ticks\":\"outside\"}},\"title\":{\"x\":0.05},\"xaxis\":{\"automargin\":true,\"gridcolor\":\"rgb(232,232,232)\",\"linecolor\":\"rgb(36,36,36)\",\"showgrid\":false,\"showline\":true,\"ticks\":\"outside\",\"title\":{\"standoff\":15},\"zeroline\":false,\"zerolinecolor\":\"rgb(36,36,36)\"},\"yaxis\":{\"automargin\":true,\"gridcolor\":\"rgb(232,232,232)\",\"linecolor\":\"rgb(36,36,36)\",\"showgrid\":false,\"showline\":true,\"ticks\":\"outside\",\"title\":{\"standoff\":15},\"zeroline\":false,\"zerolinecolor\":\"rgb(36,36,36)\"}}},\"title\":{\"text\":\"Analysis of Experimental Structure Quality for ADMET Targets\"},\"width\":1600,\"xaxis\":{\"range\":[-0.5,57.5],\"ticktext\":[\"A1AG1 (P02763)\",\"OXA1L (Q15070)\",\"ABCBB (O95342)\",\"ABCG2 (Q9UNQ0)\",\"MDR1 (P08183)\",\"MRP1 (P33527)\",\"S15A1 (P46059)\",\"S22A6 (Q4U2R8)\",\"S22A8 (Q8TCC7)\",\"S47A1 (Q96FL8)\",\"SO1B1 (Q9Y6L6)\",\"SO1B3 (Q9NPD5)\",\"AHR (P35869)\",\"GSTA1 (P08263)\",\"NR1I2 (O75469)\",\"NR1I3 (Q14994)\",\"ST1A1 (P50225)\",\"ADH1A (P07327)\",\"AL1A1 (P00352)\",\"AOFA (P21397)\",\"AOFB (P27338)\",\"AOXA (Q06278)\",\"ARK73 (O95154)\",\"CP1A2 (P05177)\",\"CP2B6 (P20813)\",\"CP2C9 (P11712)\",\"CP2CJ (P33261)\",\"CP2D6 (P10635)\",\"CP3A4 (P08684)\",\"DHI1 (P28845)\",\"FMO1 (Q01740)\",\"XDH (P47989)\",\"5HT2B (P41595)\",\"ACH10 (Q9GZZ6)\",\"ACHA3 (P32297)\",\"ACHA5 (P30532)\",\"ACHA7 (P36544)\",\"ACHA9 (Q9UGM1)\",\"ACM1 (P11229)\",\"ACM2 (P08172)\",\"ACM3 (P20309)\",\"ADA1A (P35348)\",\"ADA2A (P08913)\",\"ADRB1 (P08588)\",\"ADRB2 (P07550)\",\"ASM3A (Q92484)\",\"CAC1C (Q13936)\",\"CACB1 (Q02641)\",\"CNR1 (P21554)\",\"CNR2 (P34972)\",\"GBRA1 (P14867)\",\"HRH1 (P35367)\",\"KCNH2 (Q12809)\",\"SC6A2 (P23975)\",\"SC6A3 (Q01959)\",\"SC6A4 (P31645)\",\"SCN5A (Q14524)\"],\"tickvals\":[0,1,2,3,4,5,6,7,8,9,10,11,12,13,14,15,16,17,18,19,20,21,22,23,24,25,26,27,28,29,30,31,32,33,34,35,36,37,38,39,40,41,42,43,44,45,46,47,48,49,50,51,52,53,54,55,56],\"title\":{\"text\":\"Protein Name (Uniprot ID)\"}},\"yaxis\":{\"title\":{\"text\":\"Resolution(A)\"}}},                        {\"responsive\": true}                    ).then(function(){\n                            \nvar gd = document.getElementById('7d4a052b-33fd-4068-bc21-3220eecbf644');\nvar x = new MutationObserver(function (mutations, observer) {{\n        var display = window.getComputedStyle(gd).display;\n        if (!display || display === 'none') {{\n            console.log([gd, 'removed!']);\n            Plotly.purge(gd);\n            observer.disconnect();\n        }}\n}});\n\n// Listen for the removal of the full notebook cells\nvar notebookContainer = gd.closest('#notebook-container');\nif (notebookContainer) {{\n    x.observe(notebookContainer, {childList: true});\n}}\n\n// Listen for the clearing of the current output cell\nvar outputEl = gd.closest('.output');\nif (outputEl) {{\n    x.observe(outputEl, {childList: true});\n}}\n\n                        })                };                });            </script>        </div>"
     },
     "metadata": {},
     "output_type": "display_data"
    }
   ],
   "source": [
    "import plotly.graph_objects as go\n",
    "import numpy as np\n",
    "# Create traces for each unique value in 'Method'\n",
    "traces = []\n",
    "\n",
    "for category in category_list:\n",
    "    for method in df['Method'].unique():\n",
    "        df_subset = df[(df['Method'] == method) & (df['Category'] == category)]\n",
    "        \n",
    "        # marker_size = df_subset[\"Average Sequence Coverage\"].apply(lambda x: x * 16 if not np.isnan(x) else 10)\n",
    "        \n",
    "        # Add random jitter to the x-axis values\n",
    "        if method == 'AlphaFold':\n",
    "            x_values = [protein_name_mapping[name] for name in df_subset['Protein Name']]\n",
    "        else:\n",
    "            jitter = np.random.uniform(low=-jitter_amount, high=jitter_amount, size=len(df_subset))\n",
    "            x_values = [protein_name_mapping[name] + jitter[i] for i, name in enumerate(df_subset['Protein Name'])]\n",
    "        trace = go.Scatter(\n",
    "            x=x_values,\n",
    "            y=df_subset['Resolution (A)'],\n",
    "            mode='markers',\n",
    "            name=f\"{category} ({method})\",\n",
    "            marker=dict(size=10, color=colors[category], symbol=symbols[method], line_width=2 if method==\"EM\" else 1, line_color='black'),\n",
    "            showlegend=False if method == 'AlphaFold' else True,\n",
    "            opacity=0 if method == 'AlphaFold' else 1,\n",
    "        )\n",
    "        traces.append(trace)\n",
    "\n",
    "# Create layout\n",
    "layout = go.Layout(\n",
    "    title=\"Analysis of Experimental Structure Quality for ADMET Targets\",\n",
    "    xaxis=dict(title='Protein Name (Uniprot ID)',\n",
    "               range=[-0.5, len(protein_name_mapping) + 0.5],\n",
    "               tickvals=list(protein_name_mapping.values()), \n",
    "               ticktext=protein_names),\n",
    "    yaxis=dict(title='Resolution(A)'),\n",
    "    template='simple_white',\n",
    "    width=1600,\n",
    "    height=600\n",
    ")\n",
    "\n",
    "# Create figure\n",
    "fig = go.Figure(data=traces, layout=layout)\n",
    "\n",
    "# Show plot\n",
    "fig.show()"
   ],
   "metadata": {
    "collapsed": false,
    "ExecuteTime": {
     "end_time": "2024-02-21T22:07:19.974513Z",
     "start_time": "2024-02-21T22:07:19.844881Z"
    }
   },
   "id": "74abbe1841059fa1",
   "execution_count": 257
  },
  {
   "cell_type": "code",
   "outputs": [],
   "source": [
    "fig.write_image(fig_dir / 'experimental_structure_analysis.png')\n",
    "fig.write_image(fig_dir / 'experimental_structure_analysis.svg')"
   ],
   "metadata": {
    "collapsed": false,
    "ExecuteTime": {
     "end_time": "2024-02-21T22:07:49.932394Z",
     "start_time": "2024-02-21T22:07:48.727858Z"
    }
   },
   "id": "973db30c96756fc3",
   "execution_count": 258
  },
  {
   "cell_type": "code",
   "outputs": [],
   "source": [],
   "metadata": {
    "collapsed": false
   },
   "id": "9a484bff9ac47038"
  }
 ],
 "metadata": {
  "kernelspec": {
   "display_name": "Python 3",
   "language": "python",
   "name": "python3"
  },
  "language_info": {
   "codemirror_mode": {
    "name": "ipython",
    "version": 2
   },
   "file_extension": ".py",
   "mimetype": "text/x-python",
   "name": "python",
   "nbconvert_exporter": "python",
   "pygments_lexer": "ipython2",
   "version": "2.7.6"
  }
 },
 "nbformat": 4,
 "nbformat_minor": 5
}
