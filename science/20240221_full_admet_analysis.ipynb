{
 "cells": [
  {
   "cell_type": "code",
   "outputs": [],
   "source": [
    "from pathlib import Path\n",
    "import yaml\n",
    "from tqdm import tqdm\n",
    "import avoidome.uniprot as uniprot\n",
    "import avoidome.schema as schema\n",
    "from importlib import reload"
   ],
   "metadata": {
    "collapsed": false
   },
   "id": "36832d2df695415b",
   "execution_count": null
  },
  {
   "cell_type": "markdown",
   "source": [
    "# Download"
   ],
   "metadata": {
    "collapsed": false
   },
   "id": "bda07ac731f1ad0e"
  },
  {
   "cell_type": "code",
   "outputs": [],
   "source": [
    "data_dir = Path('../data')\n",
    "fig_dir = Path('../figures')\n",
    "uniprot_dir = data_dir / 'uniprot_downloads'\n",
    "af_dir = data_dir / 'alphafold_downloads'"
   ],
   "metadata": {
    "collapsed": false
   },
   "id": "f5db180a4d9f06ff",
   "execution_count": null
  },
  {
   "cell_type": "markdown",
   "source": [
    "## use curated data this time"
   ],
   "metadata": {
    "collapsed": false
   },
   "id": "e46331ebfbc360e"
  },
  {
   "cell_type": "code",
   "outputs": [],
   "source": [
    "with open(data_dir / 'admet_names_curated.yml') as f:\n",
    "    adme_names = yaml.safe_load(f)"
   ],
   "metadata": {
    "collapsed": false
   },
   "id": "2f53257fc18e498e",
   "execution_count": null
  },
  {
   "cell_type": "code",
   "outputs": [],
   "source": [
    "exp_structure_dict = {}\n",
    "failed = []\n",
    "success = []\n",
    "for protein in tqdm(adme_names):\n",
    "    uniprot_id = protein['uniprot']\n",
    "    ue = uniprot.UniprotEntry.from_uniprot_id(uniprot_id)\n",
    "    try:\n",
    "        exp_structure_dict[ue.name] = ue.get_experimental_structures()\n",
    "        success.append(ue)\n",
    "    except:\n",
    "        failed.append(ue)"
   ],
   "metadata": {
    "collapsed": false
   },
   "id": "b40e306c5e2519c9",
   "execution_count": null
  },
  {
   "cell_type": "code",
   "outputs": [],
   "source": [
    "len(failed)"
   ],
   "metadata": {
    "collapsed": false
   },
   "id": "3a24f11a4669886b",
   "execution_count": null
  },
  {
   "cell_type": "code",
   "outputs": [],
   "source": [
    "len(success)"
   ],
   "metadata": {
    "collapsed": false
   },
   "id": "eb2c1e80d26fc7e0",
   "execution_count": null
  },
  {
   "cell_type": "code",
   "outputs": [],
   "source": [
    "for ue in tqdm(success):\n",
    "    yaml.safe_dump(ue.dict(), open(f\"{uniprot_dir / ue.data['id']}.yml\", 'w'))"
   ],
   "metadata": {
    "collapsed": false
   },
   "id": "b84e45ca9255ce92",
   "execution_count": null
  },
  {
   "cell_type": "markdown",
   "source": [
    "# Reload"
   ],
   "metadata": {
    "collapsed": false
   },
   "id": "9fb724eb90983b7b"
  },
  {
   "cell_type": "code",
   "outputs": [],
   "source": [
    "entries = list(uniprot_dir.glob('*.yml'))\n",
    "uniprot_entries = [uniprot.UniprotEntry.from_dict(yaml.safe_load(open(file, 'r'))) for file in tqdm(entries)]"
   ],
   "metadata": {
    "collapsed": false
   },
   "id": "256ee51ebb113b30",
   "execution_count": null
  },
  {
   "cell_type": "markdown",
   "source": [
    "# Get AlphaFold Structures"
   ],
   "metadata": {
    "collapsed": false
   },
   "id": "13898a7e3e7ba37b"
  },
  {
   "cell_type": "code",
   "outputs": [],
   "source": [
    "# i've made this return a list but it's only ever going to be one\n",
    "af_structures = [u.get_alphafold_structures()[0] for u in tqdm(uniprot_entries)]"
   ],
   "metadata": {
    "collapsed": false
   },
   "id": "10f7ba645a6fe281",
   "execution_count": null
  },
  {
   "cell_type": "markdown",
   "source": [
    "## Download the structures"
   ],
   "metadata": {
    "collapsed": false
   },
   "id": "f12d5fd2a75a8022"
  },
  {
   "cell_type": "code",
   "outputs": [],
   "source": [
    "from asapdiscovery.data.utils import download_file"
   ],
   "metadata": {
    "collapsed": false
   },
   "id": "fdb82d6b72f68ec9",
   "execution_count": null
  },
  {
   "cell_type": "code",
   "outputs": [],
   "source": [
    "for p in af_structures:\n",
    "    if not (af_dir / f\"{p.af_id}.cif\").exists():\n",
    "        download_file(p.model_url, af_dir / f\"{p.af_id}.cif\")"
   ],
   "metadata": {
    "collapsed": false
   },
   "id": "19914cd49e0d7fc",
   "execution_count": null
  },
  {
   "cell_type": "markdown",
   "source": [
    "# Calculate the pLDDT"
   ],
   "metadata": {
    "collapsed": false
   },
   "id": "48a7c9452a9f4b3c"
  },
  {
   "cell_type": "code",
   "outputs": [],
   "source": [
    "from asapdiscovery.data.openeye import load_openeye_cif, oechem\n",
    "import numpy as np"
   ],
   "metadata": {
    "collapsed": false
   },
   "id": "4fda2697dbfe7f35",
   "execution_count": null
  },
  {
   "cell_type": "code",
   "outputs": [],
   "source": [
    "def calculate_high_confidence(af_id, af_dir, cutoff=90):\n",
    "    \"\"\"\n",
    "    Load the downloaded model with openeye, get the residues.\n",
    "    Get the bfactor of each residue (which is the pLDDT score for this case)\n",
    "    Calculate the number of residues with high confidence (>90)\n",
    "    :param af_id: \n",
    "    :return: \n",
    "    \"\"\"\n",
    "    mol = load_openeye_cif(af_dir / f\"{af_id}.cif\")\n",
    "    residues = {oechem.OEAtomGetResidue(atom) for atom in mol.GetAtoms() if oechem.OEHasResidue(atom)}\n",
    "    bfactors = np.array([res.GetBFactor() for res in residues])\n",
    "    return sum(bfactors > cutoff)"
   ],
   "metadata": {
    "collapsed": false
   },
   "id": "1958e183a5e6ea50",
   "execution_count": null
  },
  {
   "cell_type": "code",
   "outputs": [],
   "source": [
    "confidence_dict = {p.components[0].name: calculate_high_confidence(p.af_id, af_dir, 90) / p.components[0].length  for p in tqdm(af_structures)}"
   ],
   "metadata": {
    "collapsed": false
   },
   "id": "24db9e4c7a2ab4eb",
   "execution_count": null
  },
  {
   "cell_type": "markdown",
   "source": [
    "# Plot"
   ],
   "metadata": {
    "collapsed": false
   },
   "id": "9f41ac8d626035b1"
  },
  {
   "cell_type": "markdown",
   "source": [
    "## construct plotly df"
   ],
   "metadata": {
    "collapsed": false
   },
   "id": "887f902f1ffe4d7f"
  },
  {
   "cell_type": "code",
   "outputs": [],
   "source": [
    "category_dict = {e['uniprot']: e['admet_category'] for e in adme_names}"
   ],
   "metadata": {
    "collapsed": false
   },
   "id": "4d4d91e4568486b2",
   "execution_count": null
  },
  {
   "cell_type": "code",
   "outputs": [],
   "source": [
    "import pandas as pd"
   ],
   "metadata": {
    "collapsed": false
   },
   "id": "ab9f31484c7c300b",
   "execution_count": null
  },
  {
   "cell_type": "code",
   "outputs": [],
   "source": [
    "confidence_dict.keys()"
   ],
   "metadata": {
    "collapsed": false
   },
   "id": "27ce955847551730",
   "execution_count": null
  },
  {
   "cell_type": "code",
   "outputs": [],
   "source": [
    "name_to_uniprot = {af.components[0].name: af.components[0].uniprot_id for af in af_structures}\n",
    "uniprot_to_name = {v: k for k, v in name_to_uniprot.items()}"
   ],
   "metadata": {
    "collapsed": false
   },
   "id": "8d921c324874cf2a",
   "execution_count": null
  },
  {
   "cell_type": "code",
   "outputs": [],
   "source": [
    "confidence_df = pd.DataFrame({'Protein Name': list(confidence_dict.keys()), \n",
    "                              'Fraction': list(confidence_dict.values()), \n",
    "                              'Category': [category_dict[name_to_uniprot[k]] for k in confidence_dict.keys()]})"
   ],
   "metadata": {
    "collapsed": false
   },
   "id": "b9cf1231472bcb25",
   "execution_count": null
  },
  {
   "cell_type": "code",
   "outputs": [],
   "source": [
    "confidence_df.sort_values('Protein Name', inplace=True)"
   ],
   "metadata": {
    "collapsed": false
   },
   "id": "802d3f6a06a24a5b",
   "execution_count": null
  },
  {
   "cell_type": "code",
   "outputs": [],
   "source": [
    "import plotly.express as px"
   ],
   "metadata": {
    "collapsed": false
   },
   "id": "21af9caaf895ba7b",
   "execution_count": null
  },
  {
   "cell_type": "code",
   "outputs": [],
   "source": [
    "color_sequence = [\"#00bf7d\", \"#00b4c5\", \"#c44601\", \"#2546f0\", \"#5928ed\"] "
   ],
   "metadata": {
    "collapsed": false
   },
   "id": "3cd5a82a7df8057b",
   "execution_count": null
  },
  {
   "cell_type": "code",
   "outputs": [],
   "source": [
    "fig = px.bar(confidence_df,\n",
    "             x='Protein Name',\n",
    "                y='Fraction',\n",
    "             labels={'x': 'Protein', 'y': 'Fraction'}, \n",
    "             title='Fraction of Sequence Modeled with Very High Confidence (pLDDT > 90)', \n",
    "             template='simple_white',\n",
    "             width=1200,\n",
    "             height=600,\n",
    "             category_orders={'Category': ['metabolism', 'distribution', 'transporters', 'toxicity']},\n",
    "             color=\"Category\",\n",
    "             color_discrete_sequence=color_sequence,\n",
    "             )"
   ],
   "metadata": {
    "collapsed": false
   },
   "id": "86f3a3dd84b8fdc3",
   "execution_count": null
  },
  {
   "cell_type": "code",
   "outputs": [],
   "source": [
    "fig.show()"
   ],
   "metadata": {
    "collapsed": false
   },
   "id": "c866f08d914ec541",
   "execution_count": null
  },
  {
   "cell_type": "code",
   "outputs": [],
   "source": [
    "fig.write_image(Path('..') / 'figures' / 'alphafold_confidence.png')"
   ],
   "metadata": {
    "collapsed": false
   },
   "id": "3e3c59c981eadc19",
   "execution_count": null
  },
  {
   "cell_type": "code",
   "outputs": [],
   "source": [
    "len(confidence_dict)"
   ],
   "metadata": {
    "collapsed": false
   },
   "id": "2eaa5d7e31548fce",
   "execution_count": null
  },
  {
   "cell_type": "markdown",
   "source": [
    "# Combine info"
   ],
   "metadata": {
    "collapsed": false
   },
   "id": "d281869d41d518f7"
  },
  {
   "cell_type": "code",
   "outputs": [],
   "source": [
    "data_dict = {af.components[0].name: af for af in af_structures}"
   ],
   "metadata": {
    "collapsed": false
   },
   "id": "f6b8ba8c664ab315",
   "execution_count": null
  },
  {
   "cell_type": "code",
   "outputs": [],
   "source": [
    "len(data_dict)"
   ],
   "metadata": {
    "collapsed": false
   },
   "id": "1c5ccbda62291c0",
   "execution_count": null
  },
  {
   "cell_type": "markdown",
   "source": [
    "# Analyze Experimental Structures"
   ],
   "metadata": {
    "collapsed": false
   },
   "id": "69f85610f85fd454"
  },
  {
   "cell_type": "code",
   "outputs": [],
   "source": [
    "import avoidome.target as target\n",
    "reload(target)"
   ],
   "metadata": {
    "collapsed": false
   },
   "id": "c5865a0b4af05091",
   "execution_count": null
  },
  {
   "cell_type": "code",
   "outputs": [],
   "source": [
    "tsds = [target.TargetStructureData.from_uniprot_entry(ue) for ue in tqdm(uniprot_entries)]"
   ],
   "metadata": {
    "collapsed": false
   },
   "id": "69abd50b9ec82c05",
   "execution_count": null
  },
  {
   "cell_type": "code",
   "outputs": [],
   "source": [
    "len(tsds)"
   ],
   "metadata": {
    "collapsed": false
   },
   "id": "6916933b39c15d9c",
   "execution_count": null
  },
  {
   "cell_type": "code",
   "outputs": [],
   "source": [
    "tsd = tsds[0]"
   ],
   "metadata": {
    "collapsed": false
   },
   "id": "d22edd9d663b6cbc",
   "execution_count": null
  },
  {
   "cell_type": "code",
   "outputs": [],
   "source": [
    "tsd.target_name"
   ],
   "metadata": {
    "collapsed": false
   },
   "id": "99c9155d60076f6c",
   "execution_count": null
  },
  {
   "cell_type": "code",
   "outputs": [],
   "source": [
    "tsd.n_experimental_structures"
   ],
   "metadata": {
    "collapsed": false
   },
   "id": "6a98d60eb597428",
   "execution_count": null
  },
  {
   "cell_type": "code",
   "outputs": [],
   "source": [
    "tsd.n_predicted_structures"
   ],
   "metadata": {
    "collapsed": false
   },
   "id": "f335c1276e2d046",
   "execution_count": null
  },
  {
   "cell_type": "code",
   "outputs": [],
   "source": [
    "tsd.average_coverage"
   ],
   "metadata": {
    "collapsed": false
   },
   "id": "fc673df4902c3606",
   "execution_count": null
  },
  {
   "cell_type": "code",
   "outputs": [],
   "source": [
    "tsd.average_confidence"
   ],
   "metadata": {
    "collapsed": false
   },
   "id": "256ef885ac25dafa",
   "execution_count": null
  },
  {
   "cell_type": "code",
   "outputs": [],
   "source": [
    "coverages = [exp_struc.sequence_coverage for exp_struc in tsd.experimental_structures]"
   ],
   "metadata": {
    "collapsed": false
   },
   "id": "2c6b62a89e05f892",
   "execution_count": null
  },
  {
   "cell_type": "code",
   "outputs": [],
   "source": [
    "px.histogram(coverages)"
   ],
   "metadata": {
    "collapsed": false
   },
   "id": "d7b602203b975024",
   "execution_count": null
  },
  {
   "cell_type": "code",
   "outputs": [],
   "source": [
    "tsd.sequence_length"
   ],
   "metadata": {
    "collapsed": false
   },
   "id": "c55c9ceaca449fa1",
   "execution_count": null
  },
  {
   "cell_type": "markdown",
   "source": [
    "# Plot Experimental Structures"
   ],
   "metadata": {
    "collapsed": false
   },
   "id": "bda0222b022fa793"
  },
  {
   "cell_type": "markdown",
   "source": [
    "1) violin plot with dots only\n",
    "2) color by category\n",
    "2) size is the % sequence coverage"
   ],
   "metadata": {
    "collapsed": false
   },
   "id": "1c42925ce2f294c5"
  },
  {
   "cell_type": "markdown",
   "source": [],
   "metadata": {
    "collapsed": false
   },
   "id": "3b182fea98345d94"
  },
  {
   "cell_type": "markdown",
   "source": [
    "## make tidy dataframe"
   ],
   "metadata": {
    "collapsed": false
   },
   "id": "70877585d0460c5a"
  },
  {
   "cell_type": "code",
   "outputs": [
    {
     "ename": "NameError",
     "evalue": "name 'tsds' is not defined",
     "output_type": "error",
     "traceback": [
      "\u001B[0;31m---------------------------------------------------------------------------\u001B[0m",
      "\u001B[0;31mNameError\u001B[0m                                 Traceback (most recent call last)",
      "Cell \u001B[0;32mIn[1], line 38\u001B[0m\n\u001B[1;32m      1\u001B[0m \u001B[38;5;28;01mimport\u001B[39;00m \u001B[38;5;21;01mavoidome\u001B[39;00m\u001B[38;5;21;01m.\u001B[39;00m\u001B[38;5;21;01mstructures\u001B[39;00m \u001B[38;5;28;01mas\u001B[39;00m \u001B[38;5;21;01mstructures\u001B[39;00m\n\u001B[1;32m      2\u001B[0m \u001B[38;5;28;01mimport\u001B[39;00m \u001B[38;5;21;01mpandas\u001B[39;00m \u001B[38;5;28;01mas\u001B[39;00m \u001B[38;5;21;01mpd\u001B[39;00m\n\u001B[1;32m      4\u001B[0m df \u001B[38;5;241m=\u001B[39m pd\u001B[38;5;241m.\u001B[39mconcat(\n\u001B[1;32m      5\u001B[0m     [\n\u001B[1;32m      6\u001B[0m         pd\u001B[38;5;241m.\u001B[39mDataFrame(\n\u001B[1;32m      7\u001B[0m             {\n\u001B[1;32m      8\u001B[0m                 \u001B[38;5;124m\"\u001B[39m\u001B[38;5;124mUniprot ID\u001B[39m\u001B[38;5;124m\"\u001B[39m: tsd\u001B[38;5;241m.\u001B[39muniprot_id,\n\u001B[1;32m      9\u001B[0m                 \u001B[38;5;124m\"\u001B[39m\u001B[38;5;124mProtein Name\u001B[39m\u001B[38;5;124m\"\u001B[39m: [\n\u001B[1;32m     10\u001B[0m                     \u001B[38;5;124mf\u001B[39m\u001B[38;5;124m'\u001B[39m\u001B[38;5;132;01m{\u001B[39;00mtsd\u001B[38;5;241m.\u001B[39mtarget_name\u001B[38;5;241m.\u001B[39msplit(\u001B[38;5;124m\"\u001B[39m\u001B[38;5;124m_\u001B[39m\u001B[38;5;124m\"\u001B[39m)[\u001B[38;5;241m0\u001B[39m]\u001B[38;5;132;01m}\u001B[39;00m\u001B[38;5;124m (\u001B[39m\u001B[38;5;132;01m{\u001B[39;00mtsd\u001B[38;5;241m.\u001B[39muniprot_id\u001B[38;5;132;01m}\u001B[39;00m\u001B[38;5;124m)\u001B[39m\u001B[38;5;124m'\u001B[39m\n\u001B[1;32m     11\u001B[0m                     \u001B[38;5;28;01mfor\u001B[39;00m exp_struc \u001B[38;5;129;01min\u001B[39;00m tsd\u001B[38;5;241m.\u001B[39mstructures\n\u001B[1;32m     12\u001B[0m                 ],\n\u001B[1;32m     13\u001B[0m                 \u001B[38;5;124m\"\u001B[39m\u001B[38;5;124mCategory\u001B[39m\u001B[38;5;124m\"\u001B[39m: [\n\u001B[1;32m     14\u001B[0m                     category_dict[tsd\u001B[38;5;241m.\u001B[39muniprot_id] \u001B[38;5;28;01mfor\u001B[39;00m exp_struc \u001B[38;5;129;01min\u001B[39;00m tsd\u001B[38;5;241m.\u001B[39mstructures\n\u001B[1;32m     15\u001B[0m                 ],\n\u001B[1;32m     16\u001B[0m                 \u001B[38;5;124m\"\u001B[39m\u001B[38;5;124mAverage Sequence Coverage\u001B[39m\u001B[38;5;124m\"\u001B[39m: tsd\u001B[38;5;241m.\u001B[39maverage_coverage,\n\u001B[1;32m     17\u001B[0m                 \u001B[38;5;124m\"\u001B[39m\u001B[38;5;124mSequence Coverage\u001B[39m\u001B[38;5;124m\"\u001B[39m: [\n\u001B[1;32m     18\u001B[0m                     exp_struc\u001B[38;5;241m.\u001B[39msequence_coverage \u001B[38;5;241m/\u001B[39m tsd\u001B[38;5;241m.\u001B[39msequence_length\n\u001B[1;32m     19\u001B[0m                     \u001B[38;5;28;01mfor\u001B[39;00m exp_struc \u001B[38;5;129;01min\u001B[39;00m tsd\u001B[38;5;241m.\u001B[39mexperimental_structures\n\u001B[1;32m     20\u001B[0m                 ]\n\u001B[1;32m     21\u001B[0m                 \u001B[38;5;241m+\u001B[39m [tsd\u001B[38;5;241m.\u001B[39maverage_coverage],\n\u001B[1;32m     22\u001B[0m                 \u001B[38;5;124m\"\u001B[39m\u001B[38;5;124mNumber of Experimental Structures\u001B[39m\u001B[38;5;124m\"\u001B[39m: [\n\u001B[1;32m     23\u001B[0m                     tsd\u001B[38;5;241m.\u001B[39mn_experimental_structures \u001B[38;5;28;01mfor\u001B[39;00m exp_struc \u001B[38;5;129;01min\u001B[39;00m tsd\u001B[38;5;241m.\u001B[39mstructures\n\u001B[1;32m     24\u001B[0m                 ],\n\u001B[1;32m     25\u001B[0m                 \u001B[38;5;124m\"\u001B[39m\u001B[38;5;124mSequence Length\u001B[39m\u001B[38;5;124m\"\u001B[39m: [\n\u001B[1;32m     26\u001B[0m                     tsd\u001B[38;5;241m.\u001B[39msequence_length \u001B[38;5;28;01mfor\u001B[39;00m exp_struc \u001B[38;5;129;01min\u001B[39;00m tsd\u001B[38;5;241m.\u001B[39mstructures\n\u001B[1;32m     27\u001B[0m                 ],\n\u001B[1;32m     28\u001B[0m                 \u001B[38;5;124m\"\u001B[39m\u001B[38;5;124mResolution (A)\u001B[39m\u001B[38;5;124m\"\u001B[39m: [\n\u001B[1;32m     29\u001B[0m                     exp_struc\u001B[38;5;241m.\u001B[39mresolution \u001B[38;5;28;01mfor\u001B[39;00m exp_struc \u001B[38;5;129;01min\u001B[39;00m tsd\u001B[38;5;241m.\u001B[39mexperimental_structures\n\u001B[1;32m     30\u001B[0m                 ]\n\u001B[1;32m     31\u001B[0m                 \u001B[38;5;241m+\u001B[39m [\u001B[38;5;241m2\u001B[39m],\n\u001B[1;32m     32\u001B[0m                 \u001B[38;5;124m\"\u001B[39m\u001B[38;5;124mMethod\u001B[39m\u001B[38;5;124m\"\u001B[39m: [\n\u001B[1;32m     33\u001B[0m                     exp_struc\u001B[38;5;241m.\u001B[39mmethod \u001B[38;5;28;01mfor\u001B[39;00m exp_struc \u001B[38;5;129;01min\u001B[39;00m tsd\u001B[38;5;241m.\u001B[39mexperimental_structures\n\u001B[1;32m     34\u001B[0m                 ]\n\u001B[1;32m     35\u001B[0m                 \u001B[38;5;241m+\u001B[39m [\u001B[38;5;124m\"\u001B[39m\u001B[38;5;124mAlphaFold\u001B[39m\u001B[38;5;124m\"\u001B[39m],\n\u001B[1;32m     36\u001B[0m             }\n\u001B[1;32m     37\u001B[0m         )\n\u001B[0;32m---> 38\u001B[0m         \u001B[38;5;28;01mfor\u001B[39;00m tsd \u001B[38;5;129;01min\u001B[39;00m \u001B[43mtsds\u001B[49m\n\u001B[1;32m     39\u001B[0m     ]\n\u001B[1;32m     40\u001B[0m ) \n",
      "\u001B[0;31mNameError\u001B[0m: name 'tsds' is not defined"
     ]
    }
   ],
   "source": [
    "import avoidome.structures as structures\n",
    "import pandas as pd\n",
    "df = pd.concat([pd.DataFrame({'Uniprot ID': tsd.uniprot_id,\n",
    "    'Protein Name': [f'{tsd.target_name.split(\"_\")[0]} ({tsd.uniprot_id})' for exp_struc in tsd.structures],\n",
    "                   'Category': [category_dict[tsd.uniprot_id] for exp_struc in tsd.structures],\n",
    "                   'Average Sequence Coverage': tsd.average_coverage,\n",
    "                              \"Sequence Coverage\": [exp_struc.sequence_coverage / tsd.sequence_length for exp_struc in tsd.experimental_structures] + [tsd.average_coverage],\n",
    "                   'Number of Experimental Structures': [tsd.n_experimental_structures for exp_struc in tsd.structures],\n",
    "                  \"Sequence Length\": [tsd.sequence_length for exp_struc in tsd.structures],\n",
    "                          \"Resolution (A)\": [exp_struc.resolution for exp_struc in tsd.experimental_structures] + [2],\n",
    "                                    \"Method\": [exp_struc.method for exp_struc in tsd.experimental_structures] + ['AlphaFold'],\n",
    "                   }) for tsd in tsds]) "
   ],
   "metadata": {
    "collapsed": false,
    "ExecuteTime": {
     "end_time": "2024-02-26T21:03:40.001466Z",
     "start_time": "2024-02-26T21:03:37.192404Z"
    }
   },
   "id": "5622fcbb7c0e884f",
   "execution_count": 1
  },
  {
   "cell_type": "code",
   "outputs": [],
   "source": [
    "tsd_dict = {f'{tsd.target_name.split(\"_\")[0]} ({tsd.uniprot_id})': tsd for tsd in tsds}\n",
    "symbols = {'X-ray': 'diamond-tall', 'EM': 'circle', 'AlphaFold': 'circle-open'}\n",
    "# colors = {'metabolism_redox': '#d07c09', 'metabolism': '#ffb418', 'absorption': '#11efb7', 'drug_transporter': '#9553ff', 'toxicity': '#5e2bcb'}\n",
    "colors = {'metabolism': '#ffb418', 'distribution': '#11efb7', 'transporters': '#d07c09', 'toxicity': '#5e2bcb'}\n",
    "category_list = sorted(list(colors.keys()))\n",
    "\n",
    "# Map Protein Name to numerical values\n",
    "df.sort_values(['Category', 'Protein Name'], inplace=True)\n",
    "protein_names = df['Protein Name'].unique()\n",
    "protein_name_mapping = {name: i for i, name in enumerate(protein_names)}\n",
    "jitter_amount = 0.2"
   ],
   "metadata": {
    "collapsed": false
   },
   "id": "cae561a06cc09eb1",
   "execution_count": null
  },
  {
   "cell_type": "code",
   "outputs": [],
   "source": [
    "import plotly.graph_objects as go\n",
    "import numpy as np\n",
    "# Create traces for each unique value in 'Method'\n",
    "resolution_traces = []\n",
    "\n",
    "for category in category_list:\n",
    "    for method in df['Method'].unique():\n",
    "        df_subset = df[(df['Method'] == method) & (df['Category'] == category)]\n",
    "        \n",
    "        # marker_size = df_subset[\"Average Sequence Coverage\"].apply(lambda x: x * 16 if not np.isnan(x) else 10)\n",
    "        \n",
    "        # Add random jitter to the x-axis values\n",
    "        if method == 'AlphaFold':\n",
    "            x_values = [protein_name_mapping[name] for name in df_subset['Protein Name']]\n",
    "        else:\n",
    "            jitter = np.random.uniform(low=-jitter_amount, high=jitter_amount, size=len(df_subset))\n",
    "            x_values = [protein_name_mapping[name] + jitter[i] for i, name in enumerate(df_subset['Protein Name'])]\n",
    "        trace = go.Scatter(\n",
    "            x=x_values,\n",
    "            y=df_subset['Resolution (A)'],\n",
    "            mode='markers',\n",
    "            name=f\"{category} ({method})\",\n",
    "            marker=dict(size=10, color=colors[category], symbol=symbols[method], line_width=2 if method==\"EM\" else 1, line_color='black'),\n",
    "            showlegend=False if method == 'AlphaFold' else True,\n",
    "            opacity=0 if method == 'AlphaFold' else 1,\n",
    "        )\n",
    "        resolution_traces.append(trace)\n",
    "\n",
    "# Create layout\n",
    "layout = go.Layout(\n",
    "    title=\"Analysis of Experimental Structure Quality for ADMET Targets\",\n",
    "    xaxis=dict(title='Protein Name (Uniprot ID)',\n",
    "               range=[-0.5, len(protein_name_mapping) + 0.5],\n",
    "               tickvals=list(protein_name_mapping.values()), \n",
    "               ticktext=protein_names),\n",
    "    yaxis=dict(title='Resolution(A)'),\n",
    "    template='simple_white',\n",
    "    width=1600,\n",
    "    height=600\n",
    ")\n",
    "\n",
    "# Create figure\n",
    "fig = go.Figure(data=resolution_traces, layout=layout)\n",
    "\n",
    "# Show plot\n",
    "fig.show()"
   ],
   "metadata": {
    "collapsed": false
   },
   "id": "74abbe1841059fa1",
   "execution_count": null
  },
  {
   "cell_type": "code",
   "outputs": [],
   "source": [
    "fig.write_image(fig_dir / 'experimental_structure_analysis.png')\n",
    "fig.write_image(fig_dir / 'experimental_structure_analysis.svg')"
   ],
   "metadata": {
    "collapsed": false
   },
   "id": "973db30c96756fc3",
   "execution_count": null
  },
  {
   "cell_type": "markdown",
   "source": [
    "# Make similar plot for coverage"
   ],
   "metadata": {
    "collapsed": false
   },
   "id": "6107ed8dbf4eeb2b"
  },
  {
   "cell_type": "code",
   "outputs": [],
   "source": [
    "# Create traces for each unique value in 'Method'\n",
    "coverage_traces = []\n",
    "\n",
    "for category in category_list:\n",
    "    for method in df['Method'].unique():\n",
    "        df_subset = df[(df['Method'] == method) & (df['Category'] == category)]\n",
    "        \n",
    "        # marker_size = df_subset[\"Average Sequence Coverage\"].apply(lambda x: x * 16 if not np.isnan(x) else 10)\n",
    "        \n",
    "        # Add random jitter to the x-axis values\n",
    "        if method == 'AlphaFold':\n",
    "            x_values = [protein_name_mapping[name] for name in df_subset['Protein Name']]\n",
    "        else:\n",
    "            jitter = np.random.uniform(low=-jitter_amount, high=jitter_amount, size=len(df_subset))\n",
    "            x_values = [protein_name_mapping[name] + jitter[i] for i, name in enumerate(df_subset['Protein Name'])]\n",
    "        trace = go.Scatter(\n",
    "            x=x_values,\n",
    "            y=df_subset['Sequence Coverage'],\n",
    "            mode='markers',\n",
    "            name=f\"{category} ({method})\",\n",
    "            marker=dict(size=10, color=colors[category], symbol=symbols[method], line_width=2 if method==\"EM\" else 1, line_color='black'),\n",
    "            showlegend=False if method == 'AlphaFold' else True,\n",
    "            opacity=0 if method == 'AlphaFold' else 1,\n",
    "        )\n",
    "        coverage_traces.append(trace)\n",
    "\n",
    "# Create layout\n",
    "layout = go.Layout(\n",
    "    title=\"Analysis of Experimental Structure Quality for ADMET Targets\",\n",
    "    xaxis=dict(title='Protein Name (Uniprot ID)',\n",
    "               range=[-0.5, len(protein_name_mapping) + 0.5],\n",
    "               tickvals=list(protein_name_mapping.values()), \n",
    "               ticktext=protein_names),\n",
    "    yaxis=dict(title='Sequence Coverage'),\n",
    "    template='simple_white',\n",
    "    width=1600,\n",
    "    height=600\n",
    ")\n",
    "\n",
    "# Create figure\n",
    "fig = go.Figure(data=coverage_traces, layout=layout)\n",
    "\n",
    "# Show plot\n",
    "fig.show()"
   ],
   "metadata": {
    "collapsed": false
   },
   "id": "9ef46f9e1076268c",
   "execution_count": null
  },
  {
   "cell_type": "markdown",
   "source": [
    "# Make Combined Figure"
   ],
   "metadata": {
    "collapsed": false
   },
   "id": "e765125348ed1de2"
  },
  {
   "cell_type": "code",
   "outputs": [],
   "source": [
    "# Create traces for each unique value in 'Method'\n",
    "coverage_traces = []\n",
    "resolution_traces = []\n",
    "confidence_trace = []\n",
    "for category in category_list:\n",
    "    for method in df['Method'].unique():\n",
    "        df_subset = df[(df['Method'] == method) & (df['Category'] == category)]\n",
    "        \n",
    "        # marker_size = df_subset[\"Average Sequence Coverage\"].apply(lambda x: x * 16 if not np.isnan(x) else 10)\n",
    "        \n",
    "        # Add random jitter to the x-axis values\n",
    "        if method == 'AlphaFold':\n",
    "            x_values = [protein_name_mapping[name] for name in df_subset['Protein Name']]\n",
    "            af_confidence = [confidence_dict[uniprot_to_name[uniprot]] for uniprot in df_subset['Uniprot ID']]\n",
    "        else:\n",
    "            jitter = np.random.uniform(low=-jitter_amount, high=jitter_amount, size=len(df_subset))\n",
    "            x_values = [protein_name_mapping[name] + jitter[i] for i, name in enumerate(df_subset['Protein Name'])]\n",
    "        \n",
    "        name = f\"{category} ({method})\"\n",
    "        marker_dict = dict(size=10, color=colors[category], symbol=symbols[method], line_width=2 if method==\"EM\" else 1, line_color='black')\n",
    "        if not method == 'AlphaFold':\n",
    "            trace = go.Scatter(\n",
    "                x=x_values,\n",
    "                y=df_subset['Resolution (A)'],\n",
    "                mode='markers',\n",
    "                name=category,\n",
    "                marker=marker_dict,\n",
    "                showlegend=True if method == 'X-ray' else False,\n",
    "                opacity=1,\n",
    "                legendgroup=category,\n",
    "                legendgrouptitle=dict(text=\"ADMET Category (Color)\") if category == category_list[0] else None,\n",
    "            )\n",
    "            resolution_traces.append(trace)\n",
    "            \n",
    "            trace = go.Scatter(\n",
    "                x=x_values,\n",
    "                y=df_subset['Sequence Coverage'],\n",
    "                mode='markers',\n",
    "                name=method,\n",
    "                marker=marker_dict,\n",
    "                showlegend=True if category == category_list[-1] else False,\n",
    "                opacity=1,\n",
    "                legendgroup=method,\n",
    "                legendgrouptitle=dict(text=\"Method (Symbol)\") if method == 'X-ray' else None,\n",
    "            )\n",
    "            coverage_traces.append(trace)\n",
    "        \n",
    "        elif method == 'AlphaFold':\n",
    "            trace = go.Scatter(\n",
    "                x=x_values,\n",
    "                y=af_confidence,\n",
    "                mode='markers',\n",
    "                name=method,\n",
    "                marker=marker_dict,\n",
    "                showlegend=True if category == category_list[-1] else False,\n",
    "                legendgroup=method,\n",
    "            )\n",
    "            confidence_trace.append(trace)\n",
    "        "
   ],
   "metadata": {
    "collapsed": false
   },
   "id": "da7305103326588f",
   "execution_count": null
  },
  {
   "cell_type": "code",
   "outputs": [],
   "source": [
    "from plotly.subplots import make_subplots"
   ],
   "metadata": {
    "collapsed": false
   },
   "id": "3e8d2e0664abc5ab",
   "execution_count": null
  },
  {
   "cell_type": "code",
   "outputs": [],
   "source": [
    "# Create subplot figure with two rows and one column\n",
    "fig = make_subplots(rows=3, cols=1, shared_xaxes=True, vertical_spacing=0.01, row_heights=[0.4, 0.3, 0.3])"
   ],
   "metadata": {
    "collapsed": false
   },
   "id": "9be68b9e22f711fa",
   "execution_count": null
  },
  {
   "cell_type": "code",
   "outputs": [],
   "source": [
    "for trace in resolution_traces:\n",
    "    fig.add_trace(trace, row=1, col=1)\n",
    "for trace in coverage_traces:\n",
    "    fig.add_trace(trace, row=2, col=1)\n",
    "for trace in confidence_trace:\n",
    "    fig.add_trace(trace, row=3, col=1)"
   ],
   "metadata": {
    "collapsed": false
   },
   "id": "835d8be140f35688",
   "execution_count": null
  },
  {
   "cell_type": "markdown",
   "source": [
    "# get correct protein names"
   ],
   "metadata": {
    "collapsed": false
   },
   "id": "e801570be9e4a65b"
  },
  {
   "cell_type": "code",
   "outputs": [],
   "source": [
    "uniprot_to_grant_name = {}\n",
    "for ref in adme_names:\n",
    "    uniprot_to_grant_name[ref['uniprot']] = ref['grant_name']"
   ],
   "metadata": {
    "collapsed": false
   },
   "id": "3e73f58561ac26c7",
   "execution_count": null
  },
  {
   "cell_type": "code",
   "outputs": [],
   "source": [
    "# Create layout\n",
    "layout = go.Layout(\n",
    "    title=\"Analysis of Structural Data for ADMET Targets\",\n",
    "    xaxis3=dict(title='Protein Name (Uniprot ID)',\n",
    "               range=[-0.5, len(protein_name_mapping) + 0.5],\n",
    "               tickvals=list(protein_name_mapping.values()), \n",
    "               ticktext=[uniprot_to_grant_name[protein_name] for protein_name in df['Uniprot ID'].unique()]),\n",
    "    yaxis=dict(title='Resolution (A)'),\n",
    "    yaxis2=dict(title='Fraction of Sequence <br> Covered by Structure'),\n",
    "    yaxis3=dict(title='Fraction Modeled with <br> Very High Confidence <br> (pLDDT > 90)'),\n",
    "    template='simple_white',\n",
    "    width=1600,\n",
    "    height=800,\n",
    ")\n",
    "fig.update_layout(layout)\n",
    "fig.show()"
   ],
   "metadata": {
    "collapsed": false
   },
   "id": "2f0a184d607f42b6",
   "execution_count": null
  },
  {
   "cell_type": "code",
   "outputs": [],
   "source": [
    "fig.write_image(fig_dir / 'combined_structure_analysis.png')\n",
    "fig.write_image(fig_dir / 'combined_structure_analysis.svg')"
   ],
   "metadata": {
    "collapsed": false
   },
   "id": "c98a0830bf540a40",
   "execution_count": null
  },
  {
   "cell_type": "code",
   "outputs": [],
   "source": [],
   "metadata": {
    "collapsed": false
   },
   "id": "5928e00a69061dff",
   "execution_count": null
  }
 ],
 "metadata": {
  "kernelspec": {
   "display_name": "Python 3",
   "language": "python",
   "name": "python3"
  },
  "language_info": {
   "codemirror_mode": {
    "name": "ipython",
    "version": 2
   },
   "file_extension": ".py",
   "mimetype": "text/x-python",
   "name": "python",
   "nbconvert_exporter": "python",
   "pygments_lexer": "ipython2",
   "version": "2.7.6"
  }
 },
 "nbformat": 4,
 "nbformat_minor": 5
}
