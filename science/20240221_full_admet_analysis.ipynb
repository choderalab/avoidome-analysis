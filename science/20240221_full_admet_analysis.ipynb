{
 "cells": [
  {
   "cell_type": "code",
   "outputs": [],
   "source": [
    "from pathlib import Path\n",
    "import yaml\n",
    "from tqdm import tqdm\n",
    "import avoidome.uniprot as uniprot\n",
    "import avoidome.schema as schema\n",
    "from importlib import reload"
   ],
   "metadata": {
    "collapsed": false,
    "ExecuteTime": {
     "end_time": "2024-02-21T18:57:21.008047Z",
     "start_time": "2024-02-21T18:57:19.148891Z"
    }
   },
   "id": "36832d2df695415b",
   "execution_count": 1
  },
  {
   "cell_type": "markdown",
   "source": [
    "# Download"
   ],
   "metadata": {
    "collapsed": false
   },
   "id": "bda07ac731f1ad0e"
  },
  {
   "cell_type": "code",
   "outputs": [],
   "source": [
    "data_dir = Path('../data')\n",
    "fig_dir = Path('../figures')\n",
    "uniprot_dir = data_dir / 'uniprot_downloads'\n",
    "af_dir = data_dir / 'alphafold_downloads'"
   ],
   "metadata": {
    "collapsed": false,
    "ExecuteTime": {
     "end_time": "2024-02-21T18:57:21.008844Z",
     "start_time": "2024-02-21T18:57:20.945657Z"
    }
   },
   "id": "f5db180a4d9f06ff",
   "execution_count": 2
  },
  {
   "cell_type": "markdown",
   "source": [
    "## use curated data this time"
   ],
   "metadata": {
    "collapsed": false
   },
   "id": "e46331ebfbc360e"
  },
  {
   "cell_type": "code",
   "outputs": [],
   "source": [
    "with open(data_dir / 'admet_names_curated.yml') as f:\n",
    "    adme_names = yaml.safe_load(f)"
   ],
   "metadata": {
    "collapsed": false,
    "ExecuteTime": {
     "end_time": "2024-02-21T19:00:52.181870Z",
     "start_time": "2024-02-21T19:00:52.149702Z"
    }
   },
   "id": "2f53257fc18e498e",
   "execution_count": 18
  },
  {
   "cell_type": "code",
   "outputs": [
    {
     "name": "stderr",
     "output_type": "stream",
     "text": [
      "100%|██████████| 57/57 [00:44<00:00,  1.28it/s]\n"
     ]
    }
   ],
   "source": [
    "exp_structure_dict = {}\n",
    "failed = []\n",
    "success = []\n",
    "for protein in tqdm(adme_names):\n",
    "    uniprot_id = protein['uniprot']\n",
    "    ue = uniprot.UniprotEntry.from_uniprot_id(uniprot_id)\n",
    "    try:\n",
    "        exp_structure_dict[ue.name] = ue.get_experimental_structures()\n",
    "        success.append(ue)\n",
    "    except:\n",
    "        failed.append(ue)"
   ],
   "metadata": {
    "collapsed": false,
    "ExecuteTime": {
     "end_time": "2024-02-21T18:28:12.960862Z",
     "start_time": "2024-02-21T18:27:28.467305Z"
    }
   },
   "id": "b40e306c5e2519c9",
   "execution_count": 8
  },
  {
   "cell_type": "code",
   "outputs": [
    {
     "data": {
      "text/plain": "0"
     },
     "execution_count": 9,
     "metadata": {},
     "output_type": "execute_result"
    }
   ],
   "source": [
    "len(failed)"
   ],
   "metadata": {
    "collapsed": false,
    "ExecuteTime": {
     "end_time": "2024-02-21T18:28:12.973032Z",
     "start_time": "2024-02-21T18:28:12.962733Z"
    }
   },
   "id": "3a24f11a4669886b",
   "execution_count": 9
  },
  {
   "cell_type": "code",
   "outputs": [
    {
     "data": {
      "text/plain": "57"
     },
     "execution_count": 10,
     "metadata": {},
     "output_type": "execute_result"
    }
   ],
   "source": [
    "len(success)"
   ],
   "metadata": {
    "collapsed": false,
    "ExecuteTime": {
     "end_time": "2024-02-21T18:28:12.979290Z",
     "start_time": "2024-02-21T18:28:12.970404Z"
    }
   },
   "id": "eb2c1e80d26fc7e0",
   "execution_count": 10
  },
  {
   "cell_type": "code",
   "outputs": [
    {
     "name": "stderr",
     "output_type": "stream",
     "text": [
      "\n",
      "  0%|          | 0/57 [00:00<?, ?it/s]\u001B[A\n",
      "  2%|▏         | 1/57 [00:00<00:19,  2.83it/s]\u001B[A\n",
      "  4%|▎         | 2/57 [00:00<00:16,  3.25it/s]\u001B[A\n",
      "  5%|▌         | 3/57 [00:01<00:22,  2.42it/s]\u001B[A\n",
      "  7%|▋         | 4/57 [00:01<00:18,  2.90it/s]\u001B[A\n",
      "  9%|▉         | 5/57 [00:01<00:17,  3.06it/s]\u001B[A\n",
      " 11%|█         | 6/57 [00:02<00:25,  2.03it/s]\u001B[A\n",
      " 12%|█▏        | 7/57 [00:02<00:20,  2.43it/s]\u001B[A\n",
      " 14%|█▍        | 8/57 [00:02<00:16,  2.92it/s]\u001B[A\n",
      " 16%|█▌        | 9/57 [00:03<00:13,  3.47it/s]\u001B[A\n",
      " 18%|█▊        | 10/57 [00:03<00:12,  3.86it/s]\u001B[A\n",
      " 19%|█▉        | 11/57 [00:03<00:12,  3.73it/s]\u001B[A\n",
      " 21%|██        | 12/57 [00:03<00:09,  4.54it/s]\u001B[A\n",
      " 23%|██▎       | 13/57 [00:03<00:09,  4.46it/s]\u001B[A\n",
      " 26%|██▋       | 15/57 [00:04<00:06,  6.49it/s]\u001B[A\n",
      " 28%|██▊       | 16/57 [00:04<00:06,  6.42it/s]\u001B[A\n",
      " 30%|██▉       | 17/57 [00:04<00:05,  6.92it/s]\u001B[A\n",
      " 32%|███▏      | 18/57 [00:04<00:05,  6.81it/s]\u001B[A\n",
      " 33%|███▎      | 19/57 [00:04<00:05,  6.70it/s]\u001B[A\n",
      " 35%|███▌      | 20/57 [00:04<00:05,  6.93it/s]\u001B[A\n",
      " 39%|███▊      | 22/57 [00:05<00:04,  7.88it/s]\u001B[A\n",
      " 40%|████      | 23/57 [00:05<00:07,  4.26it/s]\u001B[A\n",
      " 42%|████▏     | 24/57 [00:06<00:14,  2.33it/s]\u001B[A\n",
      " 44%|████▍     | 25/57 [00:06<00:11,  2.86it/s]\u001B[A\n",
      " 46%|████▌     | 26/57 [00:07<00:12,  2.48it/s]\u001B[A\n",
      " 47%|████▋     | 27/57 [00:07<00:10,  2.92it/s]\u001B[A\n",
      " 49%|████▉     | 28/57 [00:07<00:09,  3.21it/s]\u001B[A\n",
      " 51%|█████     | 29/57 [00:07<00:07,  3.83it/s]\u001B[A\n",
      " 53%|█████▎    | 30/57 [00:07<00:06,  4.50it/s]\u001B[A\n",
      " 54%|█████▍    | 31/57 [00:08<00:05,  4.99it/s]\u001B[A\n",
      " 56%|█████▌    | 32/57 [00:08<00:05,  4.68it/s]\u001B[A\n",
      " 58%|█████▊    | 33/57 [00:08<00:04,  5.49it/s]\u001B[A\n",
      " 60%|█████▉    | 34/57 [00:08<00:04,  5.16it/s]\u001B[A\n",
      " 61%|██████▏   | 35/57 [00:08<00:04,  5.46it/s]\u001B[A\n",
      " 63%|██████▎   | 36/57 [00:08<00:03,  6.06it/s]\u001B[A\n",
      " 65%|██████▍   | 37/57 [00:09<00:03,  6.66it/s]\u001B[A\n",
      " 67%|██████▋   | 38/57 [00:09<00:02,  7.05it/s]\u001B[A\n",
      " 68%|██████▊   | 39/57 [00:09<00:02,  7.35it/s]\u001B[A\n",
      " 72%|███████▏  | 41/57 [00:09<00:01,  9.91it/s]\u001B[A\n",
      " 75%|███████▌  | 43/57 [00:09<00:01,  8.85it/s]\u001B[A\n",
      " 79%|███████▉  | 45/57 [00:09<00:01,  9.93it/s]\u001B[A\n",
      " 82%|████████▏ | 47/57 [00:10<00:01,  7.77it/s]\u001B[A\n",
      " 84%|████████▍ | 48/57 [00:10<00:01,  5.96it/s]\u001B[A\n",
      " 86%|████████▌ | 49/57 [00:10<00:01,  4.92it/s]\u001B[A\n",
      " 88%|████████▊ | 50/57 [00:11<00:01,  4.50it/s]\u001B[A\n",
      " 89%|████████▉ | 51/57 [00:11<00:01,  3.64it/s]\u001B[A\n",
      " 91%|█████████ | 52/57 [00:11<00:01,  4.06it/s]\u001B[A\n",
      " 93%|█████████▎| 53/57 [00:11<00:00,  4.44it/s]\u001B[A\n",
      " 95%|█████████▍| 54/57 [00:12<00:00,  4.61it/s]\u001B[A\n",
      " 96%|█████████▋| 55/57 [00:12<00:00,  5.04it/s]\u001B[A\n",
      " 98%|█████████▊| 56/57 [00:12<00:00,  5.21it/s]\u001B[A\n",
      "100%|██████████| 57/57 [00:12<00:00,  4.52it/s]\u001B[A\n"
     ]
    }
   ],
   "source": [
    "for ue in tqdm(success):\n",
    "    yaml.safe_dump(ue.dict(), open(f\"{uniprot_dir / ue.data['id']}.yml\", 'w'))"
   ],
   "metadata": {
    "collapsed": false,
    "ExecuteTime": {
     "end_time": "2024-02-21T18:31:23.330832Z",
     "start_time": "2024-02-21T18:31:10.712382Z"
    }
   },
   "id": "b84e45ca9255ce92",
   "execution_count": 15
  },
  {
   "cell_type": "markdown",
   "source": [
    "# Reload"
   ],
   "metadata": {
    "collapsed": false
   },
   "id": "9fb724eb90983b7b"
  },
  {
   "cell_type": "code",
   "outputs": [
    {
     "name": "stderr",
     "output_type": "stream",
     "text": [
      "100%|██████████| 57/57 [00:22<00:00,  2.53it/s]\n"
     ]
    }
   ],
   "source": [
    "entries = list(uniprot_dir.glob('*.yml'))\n",
    "uniprot_entries = [uniprot.UniprotEntry.from_dict(yaml.safe_load(open(file, 'r'))) for file in tqdm(entries)]"
   ],
   "metadata": {
    "collapsed": false,
    "ExecuteTime": {
     "end_time": "2024-02-21T18:57:58.119846Z",
     "start_time": "2024-02-21T18:57:35.523511Z"
    }
   },
   "id": "256ee51ebb113b30",
   "execution_count": 3
  },
  {
   "cell_type": "markdown",
   "source": [
    "# Get AlphaFold Structures"
   ],
   "metadata": {
    "collapsed": false
   },
   "id": "13898a7e3e7ba37b"
  },
  {
   "cell_type": "code",
   "outputs": [
    {
     "name": "stderr",
     "output_type": "stream",
     "text": [
      "100%|██████████| 57/57 [00:07<00:00,  7.33it/s]\n"
     ]
    }
   ],
   "source": [
    "# i've made this return a list but it's only ever going to be one\n",
    "af_structures = [u.get_alphafold_structures()[0] for u in tqdm(uniprot_entries)]"
   ],
   "metadata": {
    "collapsed": false,
    "ExecuteTime": {
     "end_time": "2024-02-21T18:58:05.898290Z",
     "start_time": "2024-02-21T18:57:58.115115Z"
    }
   },
   "id": "10f7ba645a6fe281",
   "execution_count": 4
  },
  {
   "cell_type": "markdown",
   "source": [
    "## Download the structures"
   ],
   "metadata": {
    "collapsed": false
   },
   "id": "f12d5fd2a75a8022"
  },
  {
   "cell_type": "code",
   "outputs": [],
   "source": [
    "from asapdiscovery.data.utils import download_file"
   ],
   "metadata": {
    "collapsed": false,
    "ExecuteTime": {
     "end_time": "2024-02-21T18:58:06.491503Z",
     "start_time": "2024-02-21T18:58:05.892497Z"
    }
   },
   "id": "fdb82d6b72f68ec9",
   "execution_count": 5
  },
  {
   "cell_type": "code",
   "outputs": [],
   "source": [
    "for p in af_structures:\n",
    "    if not (af_dir / f\"{p.af_id}.cif\").exists():\n",
    "        download_file(p.model_url, af_dir / f\"{p.af_id}.cif\")"
   ],
   "metadata": {
    "collapsed": false,
    "ExecuteTime": {
     "end_time": "2024-02-21T18:58:06.500958Z",
     "start_time": "2024-02-21T18:58:06.493905Z"
    }
   },
   "id": "19914cd49e0d7fc",
   "execution_count": 6
  },
  {
   "cell_type": "markdown",
   "source": [
    "# Calculate the pLDDT"
   ],
   "metadata": {
    "collapsed": false
   },
   "id": "48a7c9452a9f4b3c"
  },
  {
   "cell_type": "code",
   "outputs": [],
   "source": [
    "from asapdiscovery.data.openeye import load_openeye_cif, oechem\n",
    "import numpy as np"
   ],
   "metadata": {
    "collapsed": false,
    "ExecuteTime": {
     "end_time": "2024-02-21T18:58:06.510741Z",
     "start_time": "2024-02-21T18:58:06.499830Z"
    }
   },
   "id": "4fda2697dbfe7f35",
   "execution_count": 7
  },
  {
   "cell_type": "code",
   "outputs": [],
   "source": [
    "def calculate_high_confidence(af_id):\n",
    "    \"\"\"\n",
    "    Load the downloaded model with openeye, get the residues.\n",
    "    Get the bfactor of each residue (which is the pLDDT score for this case)\n",
    "    Calculate the number of residues with high confidence (>90)\n",
    "    :param af_id: \n",
    "    :return: \n",
    "    \"\"\"\n",
    "    mol = load_openeye_cif(af_dir / f\"{af_id}.cif\")\n",
    "    residues = {oechem.OEAtomGetResidue(atom) for atom in mol.GetAtoms() if oechem.OEHasResidue(atom)}\n",
    "    bfactors = np.array([res.GetBFactor() for res in residues])\n",
    "    return sum(bfactors > 90)"
   ],
   "metadata": {
    "collapsed": false,
    "ExecuteTime": {
     "end_time": "2024-02-21T18:58:06.511689Z",
     "start_time": "2024-02-21T18:58:06.504820Z"
    }
   },
   "id": "1958e183a5e6ea50",
   "execution_count": 8
  },
  {
   "cell_type": "code",
   "outputs": [
    {
     "name": "stderr",
     "output_type": "stream",
     "text": [
      "100%|██████████| 57/57 [00:04<00:00, 12.40it/s]\n"
     ]
    }
   ],
   "source": [
    "confidence_dict = {p.components[0].name: calculate_high_confidence(p.af_id) / p.components[0].length  for p in tqdm(af_structures)}"
   ],
   "metadata": {
    "collapsed": false,
    "ExecuteTime": {
     "end_time": "2024-02-21T18:58:11.119239Z",
     "start_time": "2024-02-21T18:58:06.511447Z"
    }
   },
   "id": "24db9e4c7a2ab4eb",
   "execution_count": 9
  },
  {
   "cell_type": "markdown",
   "source": [
    "# Plot"
   ],
   "metadata": {
    "collapsed": false
   },
   "id": "9f41ac8d626035b1"
  },
  {
   "cell_type": "markdown",
   "source": [
    "## construct plotly df"
   ],
   "metadata": {
    "collapsed": false
   },
   "id": "887f902f1ffe4d7f"
  },
  {
   "cell_type": "code",
   "outputs": [],
   "source": [
    "category_dict = {e['uniprot']: e['admet_category'] for e in adme_names}"
   ],
   "metadata": {
    "collapsed": false,
    "ExecuteTime": {
     "end_time": "2024-02-21T19:01:04.896939Z",
     "start_time": "2024-02-21T19:01:04.837040Z"
    }
   },
   "id": "4d4d91e4568486b2",
   "execution_count": 19
  },
  {
   "cell_type": "code",
   "outputs": [],
   "source": [
    "import pandas as pd"
   ],
   "metadata": {
    "collapsed": false,
    "ExecuteTime": {
     "end_time": "2024-02-21T19:01:20.316218Z",
     "start_time": "2024-02-21T19:01:20.239334Z"
    }
   },
   "id": "ab9f31484c7c300b",
   "execution_count": 21
  },
  {
   "cell_type": "code",
   "outputs": [
    {
     "data": {
      "text/plain": "dict_keys(['NR1I2_HUMAN', 'ACM3_HUMAN', 'ARK73_HUMAN', 'CP2CJ_HUMAN', 'KCNH2_HUMAN', 'DHI1_HUMAN', 'FMO1_HUMAN', 'A1AG1_HUMAN', 'AOFA_HUMAN', 'ASM3A_HUMAN', 'SCN5A_HUMAN', 'AOXA_HUMAN', 'ADA2A_HUMAN', 'NR1I3_HUMAN', 'SO1B1_HUMAN', 'AL1A1_HUMAN', 'ACHA7_HUMAN', 'GSTA1_HUMAN', 'ACM2_HUMAN', 'CNR1_HUMAN', 'CACB1_HUMAN', 'OXA1L_HUMAN', 'CP2D6_HUMAN', 'S22A8_HUMAN', 'CP3A4_HUMAN', '5HT2B_HUMAN', 'ADRB2_HUMAN', 'ST1A1_HUMAN', 'CP1A2_HUMAN', 'ACM1_HUMAN', 'MDR1_HUMAN', 'SC6A3_HUMAN', 'ABCG2_HUMAN', 'CP2C9_HUMAN', 'ACHA9_HUMAN', 'XDH_HUMAN', 'CNR2_HUMAN', 'CAC1C_HUMAN', 'GBRA1_HUMAN', 'CP2B6_HUMAN', 'ADRB1_HUMAN', 'S22A6_HUMAN', 'ADH1A_HUMAN', 'SO1B3_HUMAN', 'ACHA5_HUMAN', 'S47A1_HUMAN', 'SC6A2_HUMAN', 'ADA1A_HUMAN', 'MRP1_HUMAN', 'ACH10_HUMAN', 'SC6A4_HUMAN', 'ABCBB_HUMAN', 'S15A1_HUMAN', 'HRH1_HUMAN', 'ACHA3_HUMAN', 'AHR_HUMAN', 'AOFB_HUMAN'])"
     },
     "execution_count": 22,
     "metadata": {},
     "output_type": "execute_result"
    }
   ],
   "source": [
    "confidence_dict.keys()"
   ],
   "metadata": {
    "collapsed": false,
    "ExecuteTime": {
     "end_time": "2024-02-21T19:01:53.819251Z",
     "start_time": "2024-02-21T19:01:53.709505Z"
    }
   },
   "id": "27ce955847551730",
   "execution_count": 22
  },
  {
   "cell_type": "code",
   "outputs": [],
   "source": [
    "name_to_uniprot = {af.components[0].name: af.components[0].uniprot_id for af in af_structures}\n",
    "uniprot_to_name = {v: k for k, v in name_to_uniprot.items()}"
   ],
   "metadata": {
    "collapsed": false,
    "ExecuteTime": {
     "end_time": "2024-02-21T19:05:17.601287Z",
     "start_time": "2024-02-21T19:05:17.548490Z"
    }
   },
   "id": "8d921c324874cf2a",
   "execution_count": 30
  },
  {
   "cell_type": "code",
   "outputs": [],
   "source": [
    "confidence_df = pd.DataFrame({'Protein Name': list(confidence_dict.keys()), \n",
    "                              'Fraction': list(confidence_dict.values()), \n",
    "                              'Category': [category_dict[name_to_uniprot[k]] for k in confidence_dict.keys()]})"
   ],
   "metadata": {
    "collapsed": false,
    "ExecuteTime": {
     "end_time": "2024-02-21T19:06:18.995453Z",
     "start_time": "2024-02-21T19:06:18.987353Z"
    }
   },
   "id": "b9cf1231472bcb25",
   "execution_count": 37
  },
  {
   "cell_type": "code",
   "outputs": [],
   "source": [
    "confidence_df.sort_values('Protein Name', inplace=True)"
   ],
   "metadata": {
    "collapsed": false,
    "ExecuteTime": {
     "end_time": "2024-02-21T19:13:30.191471Z",
     "start_time": "2024-02-21T19:13:30.156413Z"
    }
   },
   "id": "802d3f6a06a24a5b",
   "execution_count": 56
  },
  {
   "cell_type": "code",
   "outputs": [],
   "source": [
    "import plotly.express as px"
   ],
   "metadata": {
    "collapsed": false,
    "ExecuteTime": {
     "end_time": "2024-02-21T19:13:31.975622Z",
     "start_time": "2024-02-21T19:13:31.965487Z"
    }
   },
   "id": "21af9caaf895ba7b",
   "execution_count": 57
  },
  {
   "cell_type": "code",
   "outputs": [],
   "source": [
    "color_sequence = [\"#00bf7d\", \"#00b4c5\", \"#c44601\", \"#2546f0\", \"#5928ed\"] "
   ],
   "metadata": {
    "collapsed": false,
    "ExecuteTime": {
     "end_time": "2024-02-21T19:14:25.976997Z",
     "start_time": "2024-02-21T19:14:25.935395Z"
    }
   },
   "id": "3cd5a82a7df8057b",
   "execution_count": 61
  },
  {
   "cell_type": "code",
   "outputs": [
    {
     "name": "stderr",
     "output_type": "stream",
     "text": [
      "/Users/alexpayne/miniforge-pypy3/envs/asapdiscovery/lib/python3.10/site-packages/plotly/express/_core.py:2065: FutureWarning:\n",
      "\n",
      "When grouping with a length-1 list-like, you will need to pass a length-1 tuple to get_group in a future version of pandas. Pass `(name,)` instead of `name` to silence this warning.\n",
      "\n"
     ]
    }
   ],
   "source": [
    "fig = px.bar(confidence_df,\n",
    "             x='Protein Name',\n",
    "                y='Fraction',\n",
    "             labels={'x': 'Protein', 'y': 'Fraction'}, \n",
    "             title='Fraction of Sequence Modeled with Very High Confidence (pLDDT > 90)', \n",
    "             template='simple_white',\n",
    "             width=1200,\n",
    "             height=600,\n",
    "             category_orders={'Category': ['metabolism_redox', 'metabolism', 'absorption', 'drug_transporter', 'toxicity']},\n",
    "             color=\"Category\",\n",
    "             color_discrete_sequence=color_sequence,\n",
    "             )"
   ],
   "metadata": {
    "collapsed": false,
    "ExecuteTime": {
     "end_time": "2024-02-21T19:14:26.268763Z",
     "start_time": "2024-02-21T19:14:26.253255Z"
    }
   },
   "id": "86f3a3dd84b8fdc3",
   "execution_count": 62
  },
  {
   "cell_type": "code",
   "outputs": [
    {
     "data": {
      "application/vnd.plotly.v1+json": {
       "data": [
        {
         "alignmentgroup": "True",
         "hovertemplate": "Category=metabolism_redox<br>Protein Name=%{x}<br>Fraction=%{y}<extra></extra>",
         "legendgroup": "metabolism_redox",
         "marker": {
          "color": "#00bf7d",
          "pattern": {
           "shape": ""
          }
         },
         "name": "metabolism_redox",
         "offsetgroup": "metabolism_redox",
         "orientation": "v",
         "showlegend": true,
         "textposition": "auto",
         "x": [
          "ADH1A_HUMAN",
          "AL1A1_HUMAN",
          "AOFA_HUMAN",
          "AOFB_HUMAN",
          "AOXA_HUMAN",
          "ARK73_HUMAN",
          "CP1A2_HUMAN",
          "CP2B6_HUMAN",
          "CP2C9_HUMAN",
          "CP2CJ_HUMAN",
          "CP2D6_HUMAN",
          "CP3A4_HUMAN",
          "DHI1_HUMAN",
          "FMO1_HUMAN",
          "XDH_HUMAN"
         ],
         "xaxis": "x",
         "y": [
          0.9973262032085561,
          0.98,
          0.9695817490494296,
          0.9171483622350675,
          0.9214659685863874,
          0.9606060606060606,
          0.916504854368932,
          0.9040816326530612,
          0.787321063394683,
          0.8609406952965235,
          0.8568548387096774,
          0.8147410358565738,
          0.8694158075601375,
          0.8606403013182674,
          0.9346846846846847
         ],
         "yaxis": "y",
         "type": "bar"
        },
        {
         "alignmentgroup": "True",
         "hovertemplate": "Category=metabolism<br>Protein Name=%{x}<br>Fraction=%{y}<extra></extra>",
         "legendgroup": "metabolism",
         "marker": {
          "color": "#00b4c5",
          "pattern": {
           "shape": ""
          }
         },
         "name": "metabolism",
         "offsetgroup": "metabolism",
         "orientation": "v",
         "showlegend": true,
         "textposition": "auto",
         "x": [
          "AHR_HUMAN",
          "GSTA1_HUMAN",
          "NR1I2_HUMAN",
          "NR1I3_HUMAN",
          "ST1A1_HUMAN"
         ],
         "xaxis": "x",
         "y": [
          0.21251475796930341,
          0.9773755656108597,
          0.6859122401847575,
          0.7293447293447294,
          0.9761904761904762
         ],
         "yaxis": "y",
         "type": "bar"
        },
        {
         "alignmentgroup": "True",
         "hovertemplate": "Category=absorption<br>Protein Name=%{x}<br>Fraction=%{y}<extra></extra>",
         "legendgroup": "absorption",
         "marker": {
          "color": "#c44601",
          "pattern": {
           "shape": ""
          }
         },
         "name": "absorption",
         "offsetgroup": "absorption",
         "orientation": "v",
         "showlegend": true,
         "textposition": "auto",
         "x": [
          "A1AG1_HUMAN",
          "OXA1L_HUMAN"
         ],
         "xaxis": "x",
         "y": [
          0.72,
          0.35944700460829493
         ],
         "yaxis": "y",
         "type": "bar"
        },
        {
         "alignmentgroup": "True",
         "hovertemplate": "Category=drug_transporter<br>Protein Name=%{x}<br>Fraction=%{y}<extra></extra>",
         "legendgroup": "drug_transporter",
         "marker": {
          "color": "#2546f0",
          "pattern": {
           "shape": ""
          }
         },
         "name": "drug_transporter",
         "offsetgroup": "drug_transporter",
         "orientation": "v",
         "showlegend": true,
         "textposition": "auto",
         "x": [
          "ABCBB_HUMAN",
          "ABCG2_HUMAN",
          "MDR1_HUMAN",
          "MRP1_HUMAN",
          "S15A1_HUMAN",
          "S22A6_HUMAN",
          "S22A8_HUMAN",
          "S47A1_HUMAN",
          "SO1B1_HUMAN",
          "SO1B3_HUMAN"
         ],
         "xaxis": "x",
         "y": [
          0.47954545454545455,
          0.6498470948012233,
          0.5504300234558248,
          0.4071895424836601,
          0.5190947666195191,
          0.39679715302491103,
          0.5138632162661737,
          0.7873462214411248,
          0.5173913043478261,
          0.4964336661911555
         ],
         "yaxis": "y",
         "type": "bar"
        },
        {
         "alignmentgroup": "True",
         "hovertemplate": "Category=toxicity<br>Protein Name=%{x}<br>Fraction=%{y}<extra></extra>",
         "legendgroup": "toxicity",
         "marker": {
          "color": "#5928ed",
          "pattern": {
           "shape": ""
          }
         },
         "name": "toxicity",
         "offsetgroup": "toxicity",
         "orientation": "v",
         "showlegend": true,
         "textposition": "auto",
         "x": [
          "5HT2B_HUMAN",
          "ACH10_HUMAN",
          "ACHA3_HUMAN",
          "ACHA5_HUMAN",
          "ACHA7_HUMAN",
          "ACHA9_HUMAN",
          "ACM1_HUMAN",
          "ACM2_HUMAN",
          "ACM3_HUMAN",
          "ADA1A_HUMAN",
          "ADA2A_HUMAN",
          "ADRB1_HUMAN",
          "ADRB2_HUMAN",
          "ASM3A_HUMAN",
          "CAC1C_HUMAN",
          "CACB1_HUMAN",
          "CNR1_HUMAN",
          "CNR2_HUMAN",
          "GBRA1_HUMAN",
          "HRH1_HUMAN",
          "KCNH2_HUMAN",
          "SC6A2_HUMAN",
          "SC6A3_HUMAN",
          "SC6A4_HUMAN",
          "SCN5A_HUMAN"
         ],
         "xaxis": "x",
         "y": [
          0.38125,
          0.5033407572383074,
          0.6011904761904762,
          0.4518201284796574,
          0.3772455089820359,
          0.45188284518828453,
          0.5054466230936819,
          0.5118279569892473,
          0.32088285229202035,
          0.4236559139784946,
          0.47413793103448276,
          0.4831932773109244,
          0.587378640776699,
          0.9048672566371682,
          0.09684684684684684,
          0.4221105527638191,
          0.46284501061571126,
          0.637883008356546,
          0.6505494505494506,
          0.3991769547325103,
          0.25734024179620035,
          0.7386363636363636,
          0.7382875605815832,
          0.7567567567567568,
          0.11017369727047147
         ],
         "yaxis": "y",
         "type": "bar"
        }
       ],
       "layout": {
        "template": {
         "data": {
          "barpolar": [
           {
            "marker": {
             "line": {
              "color": "white",
              "width": 0.5
             },
             "pattern": {
              "fillmode": "overlay",
              "size": 10,
              "solidity": 0.2
             }
            },
            "type": "barpolar"
           }
          ],
          "bar": [
           {
            "error_x": {
             "color": "rgb(36,36,36)"
            },
            "error_y": {
             "color": "rgb(36,36,36)"
            },
            "marker": {
             "line": {
              "color": "white",
              "width": 0.5
             },
             "pattern": {
              "fillmode": "overlay",
              "size": 10,
              "solidity": 0.2
             }
            },
            "type": "bar"
           }
          ],
          "carpet": [
           {
            "aaxis": {
             "endlinecolor": "rgb(36,36,36)",
             "gridcolor": "white",
             "linecolor": "white",
             "minorgridcolor": "white",
             "startlinecolor": "rgb(36,36,36)"
            },
            "baxis": {
             "endlinecolor": "rgb(36,36,36)",
             "gridcolor": "white",
             "linecolor": "white",
             "minorgridcolor": "white",
             "startlinecolor": "rgb(36,36,36)"
            },
            "type": "carpet"
           }
          ],
          "choropleth": [
           {
            "colorbar": {
             "outlinewidth": 1,
             "tickcolor": "rgb(36,36,36)",
             "ticks": "outside"
            },
            "type": "choropleth"
           }
          ],
          "contourcarpet": [
           {
            "colorbar": {
             "outlinewidth": 1,
             "tickcolor": "rgb(36,36,36)",
             "ticks": "outside"
            },
            "type": "contourcarpet"
           }
          ],
          "contour": [
           {
            "colorbar": {
             "outlinewidth": 1,
             "tickcolor": "rgb(36,36,36)",
             "ticks": "outside"
            },
            "colorscale": [
             [
              0.0,
              "#440154"
             ],
             [
              0.1111111111111111,
              "#482878"
             ],
             [
              0.2222222222222222,
              "#3e4989"
             ],
             [
              0.3333333333333333,
              "#31688e"
             ],
             [
              0.4444444444444444,
              "#26828e"
             ],
             [
              0.5555555555555556,
              "#1f9e89"
             ],
             [
              0.6666666666666666,
              "#35b779"
             ],
             [
              0.7777777777777778,
              "#6ece58"
             ],
             [
              0.8888888888888888,
              "#b5de2b"
             ],
             [
              1.0,
              "#fde725"
             ]
            ],
            "type": "contour"
           }
          ],
          "heatmapgl": [
           {
            "colorbar": {
             "outlinewidth": 1,
             "tickcolor": "rgb(36,36,36)",
             "ticks": "outside"
            },
            "colorscale": [
             [
              0.0,
              "#440154"
             ],
             [
              0.1111111111111111,
              "#482878"
             ],
             [
              0.2222222222222222,
              "#3e4989"
             ],
             [
              0.3333333333333333,
              "#31688e"
             ],
             [
              0.4444444444444444,
              "#26828e"
             ],
             [
              0.5555555555555556,
              "#1f9e89"
             ],
             [
              0.6666666666666666,
              "#35b779"
             ],
             [
              0.7777777777777778,
              "#6ece58"
             ],
             [
              0.8888888888888888,
              "#b5de2b"
             ],
             [
              1.0,
              "#fde725"
             ]
            ],
            "type": "heatmapgl"
           }
          ],
          "heatmap": [
           {
            "colorbar": {
             "outlinewidth": 1,
             "tickcolor": "rgb(36,36,36)",
             "ticks": "outside"
            },
            "colorscale": [
             [
              0.0,
              "#440154"
             ],
             [
              0.1111111111111111,
              "#482878"
             ],
             [
              0.2222222222222222,
              "#3e4989"
             ],
             [
              0.3333333333333333,
              "#31688e"
             ],
             [
              0.4444444444444444,
              "#26828e"
             ],
             [
              0.5555555555555556,
              "#1f9e89"
             ],
             [
              0.6666666666666666,
              "#35b779"
             ],
             [
              0.7777777777777778,
              "#6ece58"
             ],
             [
              0.8888888888888888,
              "#b5de2b"
             ],
             [
              1.0,
              "#fde725"
             ]
            ],
            "type": "heatmap"
           }
          ],
          "histogram2dcontour": [
           {
            "colorbar": {
             "outlinewidth": 1,
             "tickcolor": "rgb(36,36,36)",
             "ticks": "outside"
            },
            "colorscale": [
             [
              0.0,
              "#440154"
             ],
             [
              0.1111111111111111,
              "#482878"
             ],
             [
              0.2222222222222222,
              "#3e4989"
             ],
             [
              0.3333333333333333,
              "#31688e"
             ],
             [
              0.4444444444444444,
              "#26828e"
             ],
             [
              0.5555555555555556,
              "#1f9e89"
             ],
             [
              0.6666666666666666,
              "#35b779"
             ],
             [
              0.7777777777777778,
              "#6ece58"
             ],
             [
              0.8888888888888888,
              "#b5de2b"
             ],
             [
              1.0,
              "#fde725"
             ]
            ],
            "type": "histogram2dcontour"
           }
          ],
          "histogram2d": [
           {
            "colorbar": {
             "outlinewidth": 1,
             "tickcolor": "rgb(36,36,36)",
             "ticks": "outside"
            },
            "colorscale": [
             [
              0.0,
              "#440154"
             ],
             [
              0.1111111111111111,
              "#482878"
             ],
             [
              0.2222222222222222,
              "#3e4989"
             ],
             [
              0.3333333333333333,
              "#31688e"
             ],
             [
              0.4444444444444444,
              "#26828e"
             ],
             [
              0.5555555555555556,
              "#1f9e89"
             ],
             [
              0.6666666666666666,
              "#35b779"
             ],
             [
              0.7777777777777778,
              "#6ece58"
             ],
             [
              0.8888888888888888,
              "#b5de2b"
             ],
             [
              1.0,
              "#fde725"
             ]
            ],
            "type": "histogram2d"
           }
          ],
          "histogram": [
           {
            "marker": {
             "line": {
              "color": "white",
              "width": 0.6
             }
            },
            "type": "histogram"
           }
          ],
          "mesh3d": [
           {
            "colorbar": {
             "outlinewidth": 1,
             "tickcolor": "rgb(36,36,36)",
             "ticks": "outside"
            },
            "type": "mesh3d"
           }
          ],
          "parcoords": [
           {
            "line": {
             "colorbar": {
              "outlinewidth": 1,
              "tickcolor": "rgb(36,36,36)",
              "ticks": "outside"
             }
            },
            "type": "parcoords"
           }
          ],
          "pie": [
           {
            "automargin": true,
            "type": "pie"
           }
          ],
          "scatter3d": [
           {
            "line": {
             "colorbar": {
              "outlinewidth": 1,
              "tickcolor": "rgb(36,36,36)",
              "ticks": "outside"
             }
            },
            "marker": {
             "colorbar": {
              "outlinewidth": 1,
              "tickcolor": "rgb(36,36,36)",
              "ticks": "outside"
             }
            },
            "type": "scatter3d"
           }
          ],
          "scattercarpet": [
           {
            "marker": {
             "colorbar": {
              "outlinewidth": 1,
              "tickcolor": "rgb(36,36,36)",
              "ticks": "outside"
             }
            },
            "type": "scattercarpet"
           }
          ],
          "scattergeo": [
           {
            "marker": {
             "colorbar": {
              "outlinewidth": 1,
              "tickcolor": "rgb(36,36,36)",
              "ticks": "outside"
             }
            },
            "type": "scattergeo"
           }
          ],
          "scattergl": [
           {
            "marker": {
             "colorbar": {
              "outlinewidth": 1,
              "tickcolor": "rgb(36,36,36)",
              "ticks": "outside"
             }
            },
            "type": "scattergl"
           }
          ],
          "scattermapbox": [
           {
            "marker": {
             "colorbar": {
              "outlinewidth": 1,
              "tickcolor": "rgb(36,36,36)",
              "ticks": "outside"
             }
            },
            "type": "scattermapbox"
           }
          ],
          "scatterpolargl": [
           {
            "marker": {
             "colorbar": {
              "outlinewidth": 1,
              "tickcolor": "rgb(36,36,36)",
              "ticks": "outside"
             }
            },
            "type": "scatterpolargl"
           }
          ],
          "scatterpolar": [
           {
            "marker": {
             "colorbar": {
              "outlinewidth": 1,
              "tickcolor": "rgb(36,36,36)",
              "ticks": "outside"
             }
            },
            "type": "scatterpolar"
           }
          ],
          "scatter": [
           {
            "fillpattern": {
             "fillmode": "overlay",
             "size": 10,
             "solidity": 0.2
            },
            "type": "scatter"
           }
          ],
          "scatterternary": [
           {
            "marker": {
             "colorbar": {
              "outlinewidth": 1,
              "tickcolor": "rgb(36,36,36)",
              "ticks": "outside"
             }
            },
            "type": "scatterternary"
           }
          ],
          "surface": [
           {
            "colorbar": {
             "outlinewidth": 1,
             "tickcolor": "rgb(36,36,36)",
             "ticks": "outside"
            },
            "colorscale": [
             [
              0.0,
              "#440154"
             ],
             [
              0.1111111111111111,
              "#482878"
             ],
             [
              0.2222222222222222,
              "#3e4989"
             ],
             [
              0.3333333333333333,
              "#31688e"
             ],
             [
              0.4444444444444444,
              "#26828e"
             ],
             [
              0.5555555555555556,
              "#1f9e89"
             ],
             [
              0.6666666666666666,
              "#35b779"
             ],
             [
              0.7777777777777778,
              "#6ece58"
             ],
             [
              0.8888888888888888,
              "#b5de2b"
             ],
             [
              1.0,
              "#fde725"
             ]
            ],
            "type": "surface"
           }
          ],
          "table": [
           {
            "cells": {
             "fill": {
              "color": "rgb(237,237,237)"
             },
             "line": {
              "color": "white"
             }
            },
            "header": {
             "fill": {
              "color": "rgb(217,217,217)"
             },
             "line": {
              "color": "white"
             }
            },
            "type": "table"
           }
          ]
         },
         "layout": {
          "annotationdefaults": {
           "arrowhead": 0,
           "arrowwidth": 1
          },
          "autotypenumbers": "strict",
          "coloraxis": {
           "colorbar": {
            "outlinewidth": 1,
            "tickcolor": "rgb(36,36,36)",
            "ticks": "outside"
           }
          },
          "colorscale": {
           "diverging": [
            [
             0.0,
             "rgb(103,0,31)"
            ],
            [
             0.1,
             "rgb(178,24,43)"
            ],
            [
             0.2,
             "rgb(214,96,77)"
            ],
            [
             0.3,
             "rgb(244,165,130)"
            ],
            [
             0.4,
             "rgb(253,219,199)"
            ],
            [
             0.5,
             "rgb(247,247,247)"
            ],
            [
             0.6,
             "rgb(209,229,240)"
            ],
            [
             0.7,
             "rgb(146,197,222)"
            ],
            [
             0.8,
             "rgb(67,147,195)"
            ],
            [
             0.9,
             "rgb(33,102,172)"
            ],
            [
             1.0,
             "rgb(5,48,97)"
            ]
           ],
           "sequential": [
            [
             0.0,
             "#440154"
            ],
            [
             0.1111111111111111,
             "#482878"
            ],
            [
             0.2222222222222222,
             "#3e4989"
            ],
            [
             0.3333333333333333,
             "#31688e"
            ],
            [
             0.4444444444444444,
             "#26828e"
            ],
            [
             0.5555555555555556,
             "#1f9e89"
            ],
            [
             0.6666666666666666,
             "#35b779"
            ],
            [
             0.7777777777777778,
             "#6ece58"
            ],
            [
             0.8888888888888888,
             "#b5de2b"
            ],
            [
             1.0,
             "#fde725"
            ]
           ],
           "sequentialminus": [
            [
             0.0,
             "#440154"
            ],
            [
             0.1111111111111111,
             "#482878"
            ],
            [
             0.2222222222222222,
             "#3e4989"
            ],
            [
             0.3333333333333333,
             "#31688e"
            ],
            [
             0.4444444444444444,
             "#26828e"
            ],
            [
             0.5555555555555556,
             "#1f9e89"
            ],
            [
             0.6666666666666666,
             "#35b779"
            ],
            [
             0.7777777777777778,
             "#6ece58"
            ],
            [
             0.8888888888888888,
             "#b5de2b"
            ],
            [
             1.0,
             "#fde725"
            ]
           ]
          },
          "colorway": [
           "#1F77B4",
           "#FF7F0E",
           "#2CA02C",
           "#D62728",
           "#9467BD",
           "#8C564B",
           "#E377C2",
           "#7F7F7F",
           "#BCBD22",
           "#17BECF"
          ],
          "font": {
           "color": "rgb(36,36,36)"
          },
          "geo": {
           "bgcolor": "white",
           "lakecolor": "white",
           "landcolor": "white",
           "showlakes": true,
           "showland": true,
           "subunitcolor": "white"
          },
          "hoverlabel": {
           "align": "left"
          },
          "hovermode": "closest",
          "mapbox": {
           "style": "light"
          },
          "paper_bgcolor": "white",
          "plot_bgcolor": "white",
          "polar": {
           "angularaxis": {
            "gridcolor": "rgb(232,232,232)",
            "linecolor": "rgb(36,36,36)",
            "showgrid": false,
            "showline": true,
            "ticks": "outside"
           },
           "bgcolor": "white",
           "radialaxis": {
            "gridcolor": "rgb(232,232,232)",
            "linecolor": "rgb(36,36,36)",
            "showgrid": false,
            "showline": true,
            "ticks": "outside"
           }
          },
          "scene": {
           "xaxis": {
            "backgroundcolor": "white",
            "gridcolor": "rgb(232,232,232)",
            "gridwidth": 2,
            "linecolor": "rgb(36,36,36)",
            "showbackground": true,
            "showgrid": false,
            "showline": true,
            "ticks": "outside",
            "zeroline": false,
            "zerolinecolor": "rgb(36,36,36)"
           },
           "yaxis": {
            "backgroundcolor": "white",
            "gridcolor": "rgb(232,232,232)",
            "gridwidth": 2,
            "linecolor": "rgb(36,36,36)",
            "showbackground": true,
            "showgrid": false,
            "showline": true,
            "ticks": "outside",
            "zeroline": false,
            "zerolinecolor": "rgb(36,36,36)"
           },
           "zaxis": {
            "backgroundcolor": "white",
            "gridcolor": "rgb(232,232,232)",
            "gridwidth": 2,
            "linecolor": "rgb(36,36,36)",
            "showbackground": true,
            "showgrid": false,
            "showline": true,
            "ticks": "outside",
            "zeroline": false,
            "zerolinecolor": "rgb(36,36,36)"
           }
          },
          "shapedefaults": {
           "fillcolor": "black",
           "line": {
            "width": 0
           },
           "opacity": 0.3
          },
          "ternary": {
           "aaxis": {
            "gridcolor": "rgb(232,232,232)",
            "linecolor": "rgb(36,36,36)",
            "showgrid": false,
            "showline": true,
            "ticks": "outside"
           },
           "baxis": {
            "gridcolor": "rgb(232,232,232)",
            "linecolor": "rgb(36,36,36)",
            "showgrid": false,
            "showline": true,
            "ticks": "outside"
           },
           "bgcolor": "white",
           "caxis": {
            "gridcolor": "rgb(232,232,232)",
            "linecolor": "rgb(36,36,36)",
            "showgrid": false,
            "showline": true,
            "ticks": "outside"
           }
          },
          "title": {
           "x": 0.05
          },
          "xaxis": {
           "automargin": true,
           "gridcolor": "rgb(232,232,232)",
           "linecolor": "rgb(36,36,36)",
           "showgrid": false,
           "showline": true,
           "ticks": "outside",
           "title": {
            "standoff": 15
           },
           "zeroline": false,
           "zerolinecolor": "rgb(36,36,36)"
          },
          "yaxis": {
           "automargin": true,
           "gridcolor": "rgb(232,232,232)",
           "linecolor": "rgb(36,36,36)",
           "showgrid": false,
           "showline": true,
           "ticks": "outside",
           "title": {
            "standoff": 15
           },
           "zeroline": false,
           "zerolinecolor": "rgb(36,36,36)"
          }
         }
        },
        "xaxis": {
         "anchor": "y",
         "domain": [
          0.0,
          1.0
         ],
         "title": {
          "text": "Protein Name"
         }
        },
        "yaxis": {
         "anchor": "x",
         "domain": [
          0.0,
          1.0
         ],
         "title": {
          "text": "Fraction"
         }
        },
        "legend": {
         "title": {
          "text": "Category"
         },
         "tracegroupgap": 0
        },
        "title": {
         "text": "Fraction of Sequence Modeled with Very High Confidence (pLDDT > 90)"
        },
        "barmode": "relative",
        "height": 600,
        "width": 1200
       },
       "config": {
        "plotlyServerURL": "https://plot.ly"
       }
      },
      "text/html": "<div>                            <div id=\"b0ca0ebf-f8b6-475a-8c70-6ffaaf590e46\" class=\"plotly-graph-div\" style=\"height:600px; width:1200px;\"></div>            <script type=\"text/javascript\">                require([\"plotly\"], function(Plotly) {                    window.PLOTLYENV=window.PLOTLYENV || {};                                    if (document.getElementById(\"b0ca0ebf-f8b6-475a-8c70-6ffaaf590e46\")) {                    Plotly.newPlot(                        \"b0ca0ebf-f8b6-475a-8c70-6ffaaf590e46\",                        [{\"alignmentgroup\":\"True\",\"hovertemplate\":\"Category=metabolism_redox\\u003cbr\\u003eProtein Name=%{x}\\u003cbr\\u003eFraction=%{y}\\u003cextra\\u003e\\u003c\\u002fextra\\u003e\",\"legendgroup\":\"metabolism_redox\",\"marker\":{\"color\":\"#00bf7d\",\"pattern\":{\"shape\":\"\"}},\"name\":\"metabolism_redox\",\"offsetgroup\":\"metabolism_redox\",\"orientation\":\"v\",\"showlegend\":true,\"textposition\":\"auto\",\"x\":[\"ADH1A_HUMAN\",\"AL1A1_HUMAN\",\"AOFA_HUMAN\",\"AOFB_HUMAN\",\"AOXA_HUMAN\",\"ARK73_HUMAN\",\"CP1A2_HUMAN\",\"CP2B6_HUMAN\",\"CP2C9_HUMAN\",\"CP2CJ_HUMAN\",\"CP2D6_HUMAN\",\"CP3A4_HUMAN\",\"DHI1_HUMAN\",\"FMO1_HUMAN\",\"XDH_HUMAN\"],\"xaxis\":\"x\",\"y\":[0.9973262032085561,0.98,0.9695817490494296,0.9171483622350675,0.9214659685863874,0.9606060606060606,0.916504854368932,0.9040816326530612,0.787321063394683,0.8609406952965235,0.8568548387096774,0.8147410358565738,0.8694158075601375,0.8606403013182674,0.9346846846846847],\"yaxis\":\"y\",\"type\":\"bar\"},{\"alignmentgroup\":\"True\",\"hovertemplate\":\"Category=metabolism\\u003cbr\\u003eProtein Name=%{x}\\u003cbr\\u003eFraction=%{y}\\u003cextra\\u003e\\u003c\\u002fextra\\u003e\",\"legendgroup\":\"metabolism\",\"marker\":{\"color\":\"#00b4c5\",\"pattern\":{\"shape\":\"\"}},\"name\":\"metabolism\",\"offsetgroup\":\"metabolism\",\"orientation\":\"v\",\"showlegend\":true,\"textposition\":\"auto\",\"x\":[\"AHR_HUMAN\",\"GSTA1_HUMAN\",\"NR1I2_HUMAN\",\"NR1I3_HUMAN\",\"ST1A1_HUMAN\"],\"xaxis\":\"x\",\"y\":[0.21251475796930341,0.9773755656108597,0.6859122401847575,0.7293447293447294,0.9761904761904762],\"yaxis\":\"y\",\"type\":\"bar\"},{\"alignmentgroup\":\"True\",\"hovertemplate\":\"Category=absorption\\u003cbr\\u003eProtein Name=%{x}\\u003cbr\\u003eFraction=%{y}\\u003cextra\\u003e\\u003c\\u002fextra\\u003e\",\"legendgroup\":\"absorption\",\"marker\":{\"color\":\"#c44601\",\"pattern\":{\"shape\":\"\"}},\"name\":\"absorption\",\"offsetgroup\":\"absorption\",\"orientation\":\"v\",\"showlegend\":true,\"textposition\":\"auto\",\"x\":[\"A1AG1_HUMAN\",\"OXA1L_HUMAN\"],\"xaxis\":\"x\",\"y\":[0.72,0.35944700460829493],\"yaxis\":\"y\",\"type\":\"bar\"},{\"alignmentgroup\":\"True\",\"hovertemplate\":\"Category=drug_transporter\\u003cbr\\u003eProtein Name=%{x}\\u003cbr\\u003eFraction=%{y}\\u003cextra\\u003e\\u003c\\u002fextra\\u003e\",\"legendgroup\":\"drug_transporter\",\"marker\":{\"color\":\"#2546f0\",\"pattern\":{\"shape\":\"\"}},\"name\":\"drug_transporter\",\"offsetgroup\":\"drug_transporter\",\"orientation\":\"v\",\"showlegend\":true,\"textposition\":\"auto\",\"x\":[\"ABCBB_HUMAN\",\"ABCG2_HUMAN\",\"MDR1_HUMAN\",\"MRP1_HUMAN\",\"S15A1_HUMAN\",\"S22A6_HUMAN\",\"S22A8_HUMAN\",\"S47A1_HUMAN\",\"SO1B1_HUMAN\",\"SO1B3_HUMAN\"],\"xaxis\":\"x\",\"y\":[0.47954545454545455,0.6498470948012233,0.5504300234558248,0.4071895424836601,0.5190947666195191,0.39679715302491103,0.5138632162661737,0.7873462214411248,0.5173913043478261,0.4964336661911555],\"yaxis\":\"y\",\"type\":\"bar\"},{\"alignmentgroup\":\"True\",\"hovertemplate\":\"Category=toxicity\\u003cbr\\u003eProtein Name=%{x}\\u003cbr\\u003eFraction=%{y}\\u003cextra\\u003e\\u003c\\u002fextra\\u003e\",\"legendgroup\":\"toxicity\",\"marker\":{\"color\":\"#5928ed\",\"pattern\":{\"shape\":\"\"}},\"name\":\"toxicity\",\"offsetgroup\":\"toxicity\",\"orientation\":\"v\",\"showlegend\":true,\"textposition\":\"auto\",\"x\":[\"5HT2B_HUMAN\",\"ACH10_HUMAN\",\"ACHA3_HUMAN\",\"ACHA5_HUMAN\",\"ACHA7_HUMAN\",\"ACHA9_HUMAN\",\"ACM1_HUMAN\",\"ACM2_HUMAN\",\"ACM3_HUMAN\",\"ADA1A_HUMAN\",\"ADA2A_HUMAN\",\"ADRB1_HUMAN\",\"ADRB2_HUMAN\",\"ASM3A_HUMAN\",\"CAC1C_HUMAN\",\"CACB1_HUMAN\",\"CNR1_HUMAN\",\"CNR2_HUMAN\",\"GBRA1_HUMAN\",\"HRH1_HUMAN\",\"KCNH2_HUMAN\",\"SC6A2_HUMAN\",\"SC6A3_HUMAN\",\"SC6A4_HUMAN\",\"SCN5A_HUMAN\"],\"xaxis\":\"x\",\"y\":[0.38125,0.5033407572383074,0.6011904761904762,0.4518201284796574,0.3772455089820359,0.45188284518828453,0.5054466230936819,0.5118279569892473,0.32088285229202035,0.4236559139784946,0.47413793103448276,0.4831932773109244,0.587378640776699,0.9048672566371682,0.09684684684684684,0.4221105527638191,0.46284501061571126,0.637883008356546,0.6505494505494506,0.3991769547325103,0.25734024179620035,0.7386363636363636,0.7382875605815832,0.7567567567567568,0.11017369727047147],\"yaxis\":\"y\",\"type\":\"bar\"}],                        {\"template\":{\"data\":{\"barpolar\":[{\"marker\":{\"line\":{\"color\":\"white\",\"width\":0.5},\"pattern\":{\"fillmode\":\"overlay\",\"size\":10,\"solidity\":0.2}},\"type\":\"barpolar\"}],\"bar\":[{\"error_x\":{\"color\":\"rgb(36,36,36)\"},\"error_y\":{\"color\":\"rgb(36,36,36)\"},\"marker\":{\"line\":{\"color\":\"white\",\"width\":0.5},\"pattern\":{\"fillmode\":\"overlay\",\"size\":10,\"solidity\":0.2}},\"type\":\"bar\"}],\"carpet\":[{\"aaxis\":{\"endlinecolor\":\"rgb(36,36,36)\",\"gridcolor\":\"white\",\"linecolor\":\"white\",\"minorgridcolor\":\"white\",\"startlinecolor\":\"rgb(36,36,36)\"},\"baxis\":{\"endlinecolor\":\"rgb(36,36,36)\",\"gridcolor\":\"white\",\"linecolor\":\"white\",\"minorgridcolor\":\"white\",\"startlinecolor\":\"rgb(36,36,36)\"},\"type\":\"carpet\"}],\"choropleth\":[{\"colorbar\":{\"outlinewidth\":1,\"tickcolor\":\"rgb(36,36,36)\",\"ticks\":\"outside\"},\"type\":\"choropleth\"}],\"contourcarpet\":[{\"colorbar\":{\"outlinewidth\":1,\"tickcolor\":\"rgb(36,36,36)\",\"ticks\":\"outside\"},\"type\":\"contourcarpet\"}],\"contour\":[{\"colorbar\":{\"outlinewidth\":1,\"tickcolor\":\"rgb(36,36,36)\",\"ticks\":\"outside\"},\"colorscale\":[[0.0,\"#440154\"],[0.1111111111111111,\"#482878\"],[0.2222222222222222,\"#3e4989\"],[0.3333333333333333,\"#31688e\"],[0.4444444444444444,\"#26828e\"],[0.5555555555555556,\"#1f9e89\"],[0.6666666666666666,\"#35b779\"],[0.7777777777777778,\"#6ece58\"],[0.8888888888888888,\"#b5de2b\"],[1.0,\"#fde725\"]],\"type\":\"contour\"}],\"heatmapgl\":[{\"colorbar\":{\"outlinewidth\":1,\"tickcolor\":\"rgb(36,36,36)\",\"ticks\":\"outside\"},\"colorscale\":[[0.0,\"#440154\"],[0.1111111111111111,\"#482878\"],[0.2222222222222222,\"#3e4989\"],[0.3333333333333333,\"#31688e\"],[0.4444444444444444,\"#26828e\"],[0.5555555555555556,\"#1f9e89\"],[0.6666666666666666,\"#35b779\"],[0.7777777777777778,\"#6ece58\"],[0.8888888888888888,\"#b5de2b\"],[1.0,\"#fde725\"]],\"type\":\"heatmapgl\"}],\"heatmap\":[{\"colorbar\":{\"outlinewidth\":1,\"tickcolor\":\"rgb(36,36,36)\",\"ticks\":\"outside\"},\"colorscale\":[[0.0,\"#440154\"],[0.1111111111111111,\"#482878\"],[0.2222222222222222,\"#3e4989\"],[0.3333333333333333,\"#31688e\"],[0.4444444444444444,\"#26828e\"],[0.5555555555555556,\"#1f9e89\"],[0.6666666666666666,\"#35b779\"],[0.7777777777777778,\"#6ece58\"],[0.8888888888888888,\"#b5de2b\"],[1.0,\"#fde725\"]],\"type\":\"heatmap\"}],\"histogram2dcontour\":[{\"colorbar\":{\"outlinewidth\":1,\"tickcolor\":\"rgb(36,36,36)\",\"ticks\":\"outside\"},\"colorscale\":[[0.0,\"#440154\"],[0.1111111111111111,\"#482878\"],[0.2222222222222222,\"#3e4989\"],[0.3333333333333333,\"#31688e\"],[0.4444444444444444,\"#26828e\"],[0.5555555555555556,\"#1f9e89\"],[0.6666666666666666,\"#35b779\"],[0.7777777777777778,\"#6ece58\"],[0.8888888888888888,\"#b5de2b\"],[1.0,\"#fde725\"]],\"type\":\"histogram2dcontour\"}],\"histogram2d\":[{\"colorbar\":{\"outlinewidth\":1,\"tickcolor\":\"rgb(36,36,36)\",\"ticks\":\"outside\"},\"colorscale\":[[0.0,\"#440154\"],[0.1111111111111111,\"#482878\"],[0.2222222222222222,\"#3e4989\"],[0.3333333333333333,\"#31688e\"],[0.4444444444444444,\"#26828e\"],[0.5555555555555556,\"#1f9e89\"],[0.6666666666666666,\"#35b779\"],[0.7777777777777778,\"#6ece58\"],[0.8888888888888888,\"#b5de2b\"],[1.0,\"#fde725\"]],\"type\":\"histogram2d\"}],\"histogram\":[{\"marker\":{\"line\":{\"color\":\"white\",\"width\":0.6}},\"type\":\"histogram\"}],\"mesh3d\":[{\"colorbar\":{\"outlinewidth\":1,\"tickcolor\":\"rgb(36,36,36)\",\"ticks\":\"outside\"},\"type\":\"mesh3d\"}],\"parcoords\":[{\"line\":{\"colorbar\":{\"outlinewidth\":1,\"tickcolor\":\"rgb(36,36,36)\",\"ticks\":\"outside\"}},\"type\":\"parcoords\"}],\"pie\":[{\"automargin\":true,\"type\":\"pie\"}],\"scatter3d\":[{\"line\":{\"colorbar\":{\"outlinewidth\":1,\"tickcolor\":\"rgb(36,36,36)\",\"ticks\":\"outside\"}},\"marker\":{\"colorbar\":{\"outlinewidth\":1,\"tickcolor\":\"rgb(36,36,36)\",\"ticks\":\"outside\"}},\"type\":\"scatter3d\"}],\"scattercarpet\":[{\"marker\":{\"colorbar\":{\"outlinewidth\":1,\"tickcolor\":\"rgb(36,36,36)\",\"ticks\":\"outside\"}},\"type\":\"scattercarpet\"}],\"scattergeo\":[{\"marker\":{\"colorbar\":{\"outlinewidth\":1,\"tickcolor\":\"rgb(36,36,36)\",\"ticks\":\"outside\"}},\"type\":\"scattergeo\"}],\"scattergl\":[{\"marker\":{\"colorbar\":{\"outlinewidth\":1,\"tickcolor\":\"rgb(36,36,36)\",\"ticks\":\"outside\"}},\"type\":\"scattergl\"}],\"scattermapbox\":[{\"marker\":{\"colorbar\":{\"outlinewidth\":1,\"tickcolor\":\"rgb(36,36,36)\",\"ticks\":\"outside\"}},\"type\":\"scattermapbox\"}],\"scatterpolargl\":[{\"marker\":{\"colorbar\":{\"outlinewidth\":1,\"tickcolor\":\"rgb(36,36,36)\",\"ticks\":\"outside\"}},\"type\":\"scatterpolargl\"}],\"scatterpolar\":[{\"marker\":{\"colorbar\":{\"outlinewidth\":1,\"tickcolor\":\"rgb(36,36,36)\",\"ticks\":\"outside\"}},\"type\":\"scatterpolar\"}],\"scatter\":[{\"fillpattern\":{\"fillmode\":\"overlay\",\"size\":10,\"solidity\":0.2},\"type\":\"scatter\"}],\"scatterternary\":[{\"marker\":{\"colorbar\":{\"outlinewidth\":1,\"tickcolor\":\"rgb(36,36,36)\",\"ticks\":\"outside\"}},\"type\":\"scatterternary\"}],\"surface\":[{\"colorbar\":{\"outlinewidth\":1,\"tickcolor\":\"rgb(36,36,36)\",\"ticks\":\"outside\"},\"colorscale\":[[0.0,\"#440154\"],[0.1111111111111111,\"#482878\"],[0.2222222222222222,\"#3e4989\"],[0.3333333333333333,\"#31688e\"],[0.4444444444444444,\"#26828e\"],[0.5555555555555556,\"#1f9e89\"],[0.6666666666666666,\"#35b779\"],[0.7777777777777778,\"#6ece58\"],[0.8888888888888888,\"#b5de2b\"],[1.0,\"#fde725\"]],\"type\":\"surface\"}],\"table\":[{\"cells\":{\"fill\":{\"color\":\"rgb(237,237,237)\"},\"line\":{\"color\":\"white\"}},\"header\":{\"fill\":{\"color\":\"rgb(217,217,217)\"},\"line\":{\"color\":\"white\"}},\"type\":\"table\"}]},\"layout\":{\"annotationdefaults\":{\"arrowhead\":0,\"arrowwidth\":1},\"autotypenumbers\":\"strict\",\"coloraxis\":{\"colorbar\":{\"outlinewidth\":1,\"tickcolor\":\"rgb(36,36,36)\",\"ticks\":\"outside\"}},\"colorscale\":{\"diverging\":[[0.0,\"rgb(103,0,31)\"],[0.1,\"rgb(178,24,43)\"],[0.2,\"rgb(214,96,77)\"],[0.3,\"rgb(244,165,130)\"],[0.4,\"rgb(253,219,199)\"],[0.5,\"rgb(247,247,247)\"],[0.6,\"rgb(209,229,240)\"],[0.7,\"rgb(146,197,222)\"],[0.8,\"rgb(67,147,195)\"],[0.9,\"rgb(33,102,172)\"],[1.0,\"rgb(5,48,97)\"]],\"sequential\":[[0.0,\"#440154\"],[0.1111111111111111,\"#482878\"],[0.2222222222222222,\"#3e4989\"],[0.3333333333333333,\"#31688e\"],[0.4444444444444444,\"#26828e\"],[0.5555555555555556,\"#1f9e89\"],[0.6666666666666666,\"#35b779\"],[0.7777777777777778,\"#6ece58\"],[0.8888888888888888,\"#b5de2b\"],[1.0,\"#fde725\"]],\"sequentialminus\":[[0.0,\"#440154\"],[0.1111111111111111,\"#482878\"],[0.2222222222222222,\"#3e4989\"],[0.3333333333333333,\"#31688e\"],[0.4444444444444444,\"#26828e\"],[0.5555555555555556,\"#1f9e89\"],[0.6666666666666666,\"#35b779\"],[0.7777777777777778,\"#6ece58\"],[0.8888888888888888,\"#b5de2b\"],[1.0,\"#fde725\"]]},\"colorway\":[\"#1F77B4\",\"#FF7F0E\",\"#2CA02C\",\"#D62728\",\"#9467BD\",\"#8C564B\",\"#E377C2\",\"#7F7F7F\",\"#BCBD22\",\"#17BECF\"],\"font\":{\"color\":\"rgb(36,36,36)\"},\"geo\":{\"bgcolor\":\"white\",\"lakecolor\":\"white\",\"landcolor\":\"white\",\"showlakes\":true,\"showland\":true,\"subunitcolor\":\"white\"},\"hoverlabel\":{\"align\":\"left\"},\"hovermode\":\"closest\",\"mapbox\":{\"style\":\"light\"},\"paper_bgcolor\":\"white\",\"plot_bgcolor\":\"white\",\"polar\":{\"angularaxis\":{\"gridcolor\":\"rgb(232,232,232)\",\"linecolor\":\"rgb(36,36,36)\",\"showgrid\":false,\"showline\":true,\"ticks\":\"outside\"},\"bgcolor\":\"white\",\"radialaxis\":{\"gridcolor\":\"rgb(232,232,232)\",\"linecolor\":\"rgb(36,36,36)\",\"showgrid\":false,\"showline\":true,\"ticks\":\"outside\"}},\"scene\":{\"xaxis\":{\"backgroundcolor\":\"white\",\"gridcolor\":\"rgb(232,232,232)\",\"gridwidth\":2,\"linecolor\":\"rgb(36,36,36)\",\"showbackground\":true,\"showgrid\":false,\"showline\":true,\"ticks\":\"outside\",\"zeroline\":false,\"zerolinecolor\":\"rgb(36,36,36)\"},\"yaxis\":{\"backgroundcolor\":\"white\",\"gridcolor\":\"rgb(232,232,232)\",\"gridwidth\":2,\"linecolor\":\"rgb(36,36,36)\",\"showbackground\":true,\"showgrid\":false,\"showline\":true,\"ticks\":\"outside\",\"zeroline\":false,\"zerolinecolor\":\"rgb(36,36,36)\"},\"zaxis\":{\"backgroundcolor\":\"white\",\"gridcolor\":\"rgb(232,232,232)\",\"gridwidth\":2,\"linecolor\":\"rgb(36,36,36)\",\"showbackground\":true,\"showgrid\":false,\"showline\":true,\"ticks\":\"outside\",\"zeroline\":false,\"zerolinecolor\":\"rgb(36,36,36)\"}},\"shapedefaults\":{\"fillcolor\":\"black\",\"line\":{\"width\":0},\"opacity\":0.3},\"ternary\":{\"aaxis\":{\"gridcolor\":\"rgb(232,232,232)\",\"linecolor\":\"rgb(36,36,36)\",\"showgrid\":false,\"showline\":true,\"ticks\":\"outside\"},\"baxis\":{\"gridcolor\":\"rgb(232,232,232)\",\"linecolor\":\"rgb(36,36,36)\",\"showgrid\":false,\"showline\":true,\"ticks\":\"outside\"},\"bgcolor\":\"white\",\"caxis\":{\"gridcolor\":\"rgb(232,232,232)\",\"linecolor\":\"rgb(36,36,36)\",\"showgrid\":false,\"showline\":true,\"ticks\":\"outside\"}},\"title\":{\"x\":0.05},\"xaxis\":{\"automargin\":true,\"gridcolor\":\"rgb(232,232,232)\",\"linecolor\":\"rgb(36,36,36)\",\"showgrid\":false,\"showline\":true,\"ticks\":\"outside\",\"title\":{\"standoff\":15},\"zeroline\":false,\"zerolinecolor\":\"rgb(36,36,36)\"},\"yaxis\":{\"automargin\":true,\"gridcolor\":\"rgb(232,232,232)\",\"linecolor\":\"rgb(36,36,36)\",\"showgrid\":false,\"showline\":true,\"ticks\":\"outside\",\"title\":{\"standoff\":15},\"zeroline\":false,\"zerolinecolor\":\"rgb(36,36,36)\"}}},\"xaxis\":{\"anchor\":\"y\",\"domain\":[0.0,1.0],\"title\":{\"text\":\"Protein Name\"}},\"yaxis\":{\"anchor\":\"x\",\"domain\":[0.0,1.0],\"title\":{\"text\":\"Fraction\"}},\"legend\":{\"title\":{\"text\":\"Category\"},\"tracegroupgap\":0},\"title\":{\"text\":\"Fraction of Sequence Modeled with Very High Confidence (pLDDT \\u003e 90)\"},\"barmode\":\"relative\",\"height\":600,\"width\":1200},                        {\"responsive\": true}                    ).then(function(){\n                            \nvar gd = document.getElementById('b0ca0ebf-f8b6-475a-8c70-6ffaaf590e46');\nvar x = new MutationObserver(function (mutations, observer) {{\n        var display = window.getComputedStyle(gd).display;\n        if (!display || display === 'none') {{\n            console.log([gd, 'removed!']);\n            Plotly.purge(gd);\n            observer.disconnect();\n        }}\n}});\n\n// Listen for the removal of the full notebook cells\nvar notebookContainer = gd.closest('#notebook-container');\nif (notebookContainer) {{\n    x.observe(notebookContainer, {childList: true});\n}}\n\n// Listen for the clearing of the current output cell\nvar outputEl = gd.closest('.output');\nif (outputEl) {{\n    x.observe(outputEl, {childList: true});\n}}\n\n                        })                };                });            </script>        </div>"
     },
     "metadata": {},
     "output_type": "display_data"
    }
   ],
   "source": [
    "fig.show()"
   ],
   "metadata": {
    "collapsed": false,
    "ExecuteTime": {
     "end_time": "2024-02-21T19:14:26.742292Z",
     "start_time": "2024-02-21T19:14:26.726107Z"
    }
   },
   "id": "c866f08d914ec541",
   "execution_count": 63
  },
  {
   "cell_type": "code",
   "outputs": [],
   "source": [
    "fig.write_image(Path('..') / 'figures' / 'alphafold_confidence.png')"
   ],
   "metadata": {
    "collapsed": false,
    "ExecuteTime": {
     "end_time": "2024-02-21T19:14:59.947837Z",
     "start_time": "2024-02-21T19:14:58.660118Z"
    }
   },
   "id": "3e3c59c981eadc19",
   "execution_count": 64
  },
  {
   "cell_type": "code",
   "outputs": [
    {
     "data": {
      "text/plain": "57"
     },
     "execution_count": 65,
     "metadata": {},
     "output_type": "execute_result"
    }
   ],
   "source": [
    "len(confidence_dict)"
   ],
   "metadata": {
    "collapsed": false,
    "ExecuteTime": {
     "end_time": "2024-02-21T19:14:59.973118Z",
     "start_time": "2024-02-21T19:14:59.951210Z"
    }
   },
   "id": "2eaa5d7e31548fce",
   "execution_count": 65
  },
  {
   "cell_type": "markdown",
   "source": [
    "# Combine info"
   ],
   "metadata": {
    "collapsed": false
   },
   "id": "d281869d41d518f7"
  },
  {
   "cell_type": "code",
   "outputs": [],
   "source": [
    "data_dict = {af.components[0].name: af for af in af_structures}"
   ],
   "metadata": {
    "collapsed": false,
    "ExecuteTime": {
     "end_time": "2024-02-21T19:15:02.231078Z",
     "start_time": "2024-02-21T19:15:02.209302Z"
    }
   },
   "id": "f6b8ba8c664ab315",
   "execution_count": 66
  },
  {
   "cell_type": "code",
   "outputs": [
    {
     "data": {
      "text/plain": "57"
     },
     "execution_count": 67,
     "metadata": {},
     "output_type": "execute_result"
    }
   ],
   "source": [
    "len(data_dict)"
   ],
   "metadata": {
    "collapsed": false,
    "ExecuteTime": {
     "end_time": "2024-02-21T19:15:02.675176Z",
     "start_time": "2024-02-21T19:15:02.638348Z"
    }
   },
   "id": "1c5ccbda62291c0",
   "execution_count": 67
  },
  {
   "cell_type": "markdown",
   "source": [
    "# Analyze Experimental Structures"
   ],
   "metadata": {
    "collapsed": false
   },
   "id": "69f85610f85fd454"
  },
  {
   "cell_type": "code",
   "outputs": [],
   "source": [],
   "metadata": {
    "collapsed": false
   },
   "id": "c5865a0b4af05091"
  }
 ],
 "metadata": {
  "kernelspec": {
   "display_name": "Python 3",
   "language": "python",
   "name": "python3"
  },
  "language_info": {
   "codemirror_mode": {
    "name": "ipython",
    "version": 2
   },
   "file_extension": ".py",
   "mimetype": "text/x-python",
   "name": "python",
   "nbconvert_exporter": "python",
   "pygments_lexer": "ipython2",
   "version": "2.7.6"
  }
 },
 "nbformat": 4,
 "nbformat_minor": 5
}
