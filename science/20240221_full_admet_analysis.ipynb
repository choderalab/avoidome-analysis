{
 "cells": [
  {
   "cell_type": "code",
   "outputs": [],
   "source": [
    "from pathlib import Path\n",
    "import yaml\n",
    "from tqdm import tqdm\n",
    "import avoidome.uniprot as uniprot\n",
    "import avoidome.schema as schema\n",
    "from importlib import reload"
   ],
   "metadata": {
    "collapsed": false,
    "ExecuteTime": {
     "end_time": "2024-02-21T19:51:35.697207Z",
     "start_time": "2024-02-21T19:51:35.672482Z"
    }
   },
   "id": "36832d2df695415b",
   "execution_count": 4
  },
  {
   "cell_type": "markdown",
   "source": [
    "# Download"
   ],
   "metadata": {
    "collapsed": false
   },
   "id": "bda07ac731f1ad0e"
  },
  {
   "cell_type": "code",
   "outputs": [],
   "source": [
    "data_dir = Path('../data')\n",
    "fig_dir = Path('../figures')\n",
    "uniprot_dir = data_dir / 'uniprot_downloads'\n",
    "af_dir = data_dir / 'alphafold_downloads'"
   ],
   "metadata": {
    "collapsed": false,
    "ExecuteTime": {
     "end_time": "2024-02-21T20:09:43.368861Z",
     "start_time": "2024-02-21T20:09:43.336177Z"
    }
   },
   "id": "f5db180a4d9f06ff",
   "execution_count": 61
  },
  {
   "cell_type": "markdown",
   "source": [
    "## use curated data this time"
   ],
   "metadata": {
    "collapsed": false
   },
   "id": "e46331ebfbc360e"
  },
  {
   "cell_type": "code",
   "outputs": [],
   "source": [
    "with open(data_dir / 'admet_names_curated.yml') as f:\n",
    "    adme_names = yaml.safe_load(f)"
   ],
   "metadata": {
    "collapsed": false,
    "ExecuteTime": {
     "end_time": "2024-02-21T19:51:37.299302Z",
     "start_time": "2024-02-21T19:51:37.265437Z"
    }
   },
   "id": "2f53257fc18e498e",
   "execution_count": 6
  },
  {
   "cell_type": "code",
   "outputs": [
    {
     "name": "stderr",
     "output_type": "stream",
     "text": [
      "100%|██████████| 57/57 [00:44<00:00,  1.28it/s]\n"
     ]
    }
   ],
   "source": [
    "exp_structure_dict = {}\n",
    "failed = []\n",
    "success = []\n",
    "for protein in tqdm(adme_names):\n",
    "    uniprot_id = protein['uniprot']\n",
    "    ue = uniprot.UniprotEntry.from_uniprot_id(uniprot_id)\n",
    "    try:\n",
    "        exp_structure_dict[ue.name] = ue.get_experimental_structures()\n",
    "        success.append(ue)\n",
    "    except:\n",
    "        failed.append(ue)"
   ],
   "metadata": {
    "collapsed": false,
    "ExecuteTime": {
     "end_time": "2024-02-21T18:28:12.960862Z",
     "start_time": "2024-02-21T18:27:28.467305Z"
    }
   },
   "id": "b40e306c5e2519c9",
   "execution_count": 8
  },
  {
   "cell_type": "code",
   "outputs": [
    {
     "data": {
      "text/plain": "0"
     },
     "execution_count": 9,
     "metadata": {},
     "output_type": "execute_result"
    }
   ],
   "source": [
    "len(failed)"
   ],
   "metadata": {
    "collapsed": false,
    "ExecuteTime": {
     "end_time": "2024-02-21T18:28:12.973032Z",
     "start_time": "2024-02-21T18:28:12.962733Z"
    }
   },
   "id": "3a24f11a4669886b",
   "execution_count": 9
  },
  {
   "cell_type": "code",
   "outputs": [
    {
     "data": {
      "text/plain": "57"
     },
     "execution_count": 10,
     "metadata": {},
     "output_type": "execute_result"
    }
   ],
   "source": [
    "len(success)"
   ],
   "metadata": {
    "collapsed": false,
    "ExecuteTime": {
     "end_time": "2024-02-21T18:28:12.979290Z",
     "start_time": "2024-02-21T18:28:12.970404Z"
    }
   },
   "id": "eb2c1e80d26fc7e0",
   "execution_count": 10
  },
  {
   "cell_type": "code",
   "outputs": [
    {
     "name": "stderr",
     "output_type": "stream",
     "text": [
      "\n",
      "  0%|          | 0/57 [00:00<?, ?it/s]\u001B[A\n",
      "  2%|▏         | 1/57 [00:00<00:19,  2.83it/s]\u001B[A\n",
      "  4%|▎         | 2/57 [00:00<00:16,  3.25it/s]\u001B[A\n",
      "  5%|▌         | 3/57 [00:01<00:22,  2.42it/s]\u001B[A\n",
      "  7%|▋         | 4/57 [00:01<00:18,  2.90it/s]\u001B[A\n",
      "  9%|▉         | 5/57 [00:01<00:17,  3.06it/s]\u001B[A\n",
      " 11%|█         | 6/57 [00:02<00:25,  2.03it/s]\u001B[A\n",
      " 12%|█▏        | 7/57 [00:02<00:20,  2.43it/s]\u001B[A\n",
      " 14%|█▍        | 8/57 [00:02<00:16,  2.92it/s]\u001B[A\n",
      " 16%|█▌        | 9/57 [00:03<00:13,  3.47it/s]\u001B[A\n",
      " 18%|█▊        | 10/57 [00:03<00:12,  3.86it/s]\u001B[A\n",
      " 19%|█▉        | 11/57 [00:03<00:12,  3.73it/s]\u001B[A\n",
      " 21%|██        | 12/57 [00:03<00:09,  4.54it/s]\u001B[A\n",
      " 23%|██▎       | 13/57 [00:03<00:09,  4.46it/s]\u001B[A\n",
      " 26%|██▋       | 15/57 [00:04<00:06,  6.49it/s]\u001B[A\n",
      " 28%|██▊       | 16/57 [00:04<00:06,  6.42it/s]\u001B[A\n",
      " 30%|██▉       | 17/57 [00:04<00:05,  6.92it/s]\u001B[A\n",
      " 32%|███▏      | 18/57 [00:04<00:05,  6.81it/s]\u001B[A\n",
      " 33%|███▎      | 19/57 [00:04<00:05,  6.70it/s]\u001B[A\n",
      " 35%|███▌      | 20/57 [00:04<00:05,  6.93it/s]\u001B[A\n",
      " 39%|███▊      | 22/57 [00:05<00:04,  7.88it/s]\u001B[A\n",
      " 40%|████      | 23/57 [00:05<00:07,  4.26it/s]\u001B[A\n",
      " 42%|████▏     | 24/57 [00:06<00:14,  2.33it/s]\u001B[A\n",
      " 44%|████▍     | 25/57 [00:06<00:11,  2.86it/s]\u001B[A\n",
      " 46%|████▌     | 26/57 [00:07<00:12,  2.48it/s]\u001B[A\n",
      " 47%|████▋     | 27/57 [00:07<00:10,  2.92it/s]\u001B[A\n",
      " 49%|████▉     | 28/57 [00:07<00:09,  3.21it/s]\u001B[A\n",
      " 51%|█████     | 29/57 [00:07<00:07,  3.83it/s]\u001B[A\n",
      " 53%|█████▎    | 30/57 [00:07<00:06,  4.50it/s]\u001B[A\n",
      " 54%|█████▍    | 31/57 [00:08<00:05,  4.99it/s]\u001B[A\n",
      " 56%|█████▌    | 32/57 [00:08<00:05,  4.68it/s]\u001B[A\n",
      " 58%|█████▊    | 33/57 [00:08<00:04,  5.49it/s]\u001B[A\n",
      " 60%|█████▉    | 34/57 [00:08<00:04,  5.16it/s]\u001B[A\n",
      " 61%|██████▏   | 35/57 [00:08<00:04,  5.46it/s]\u001B[A\n",
      " 63%|██████▎   | 36/57 [00:08<00:03,  6.06it/s]\u001B[A\n",
      " 65%|██████▍   | 37/57 [00:09<00:03,  6.66it/s]\u001B[A\n",
      " 67%|██████▋   | 38/57 [00:09<00:02,  7.05it/s]\u001B[A\n",
      " 68%|██████▊   | 39/57 [00:09<00:02,  7.35it/s]\u001B[A\n",
      " 72%|███████▏  | 41/57 [00:09<00:01,  9.91it/s]\u001B[A\n",
      " 75%|███████▌  | 43/57 [00:09<00:01,  8.85it/s]\u001B[A\n",
      " 79%|███████▉  | 45/57 [00:09<00:01,  9.93it/s]\u001B[A\n",
      " 82%|████████▏ | 47/57 [00:10<00:01,  7.77it/s]\u001B[A\n",
      " 84%|████████▍ | 48/57 [00:10<00:01,  5.96it/s]\u001B[A\n",
      " 86%|████████▌ | 49/57 [00:10<00:01,  4.92it/s]\u001B[A\n",
      " 88%|████████▊ | 50/57 [00:11<00:01,  4.50it/s]\u001B[A\n",
      " 89%|████████▉ | 51/57 [00:11<00:01,  3.64it/s]\u001B[A\n",
      " 91%|█████████ | 52/57 [00:11<00:01,  4.06it/s]\u001B[A\n",
      " 93%|█████████▎| 53/57 [00:11<00:00,  4.44it/s]\u001B[A\n",
      " 95%|█████████▍| 54/57 [00:12<00:00,  4.61it/s]\u001B[A\n",
      " 96%|█████████▋| 55/57 [00:12<00:00,  5.04it/s]\u001B[A\n",
      " 98%|█████████▊| 56/57 [00:12<00:00,  5.21it/s]\u001B[A\n",
      "100%|██████████| 57/57 [00:12<00:00,  4.52it/s]\u001B[A\n"
     ]
    }
   ],
   "source": [
    "for ue in tqdm(success):\n",
    "    yaml.safe_dump(ue.dict(), open(f\"{uniprot_dir / ue.data['id']}.yml\", 'w'))"
   ],
   "metadata": {
    "collapsed": false,
    "ExecuteTime": {
     "end_time": "2024-02-21T18:31:23.330832Z",
     "start_time": "2024-02-21T18:31:10.712382Z"
    }
   },
   "id": "b84e45ca9255ce92",
   "execution_count": 15
  },
  {
   "cell_type": "markdown",
   "source": [
    "# Reload"
   ],
   "metadata": {
    "collapsed": false
   },
   "id": "9fb724eb90983b7b"
  },
  {
   "cell_type": "code",
   "outputs": [
    {
     "name": "stderr",
     "output_type": "stream",
     "text": [
      "100%|██████████| 57/57 [00:22<00:00,  2.57it/s]\n"
     ]
    }
   ],
   "source": [
    "entries = list(uniprot_dir.glob('*.yml'))\n",
    "uniprot_entries = [uniprot.UniprotEntry.from_dict(yaml.safe_load(open(file, 'r'))) for file in tqdm(entries)]"
   ],
   "metadata": {
    "collapsed": false,
    "ExecuteTime": {
     "end_time": "2024-02-21T19:52:05.478923Z",
     "start_time": "2024-02-21T19:51:43.288393Z"
    }
   },
   "id": "256ee51ebb113b30",
   "execution_count": 7
  },
  {
   "cell_type": "markdown",
   "source": [
    "# Get AlphaFold Structures"
   ],
   "metadata": {
    "collapsed": false
   },
   "id": "13898a7e3e7ba37b"
  },
  {
   "cell_type": "code",
   "outputs": [
    {
     "name": "stderr",
     "output_type": "stream",
     "text": [
      "100%|██████████| 57/57 [00:07<00:00,  7.33it/s]\n"
     ]
    }
   ],
   "source": [
    "# i've made this return a list but it's only ever going to be one\n",
    "af_structures = [u.get_alphafold_structures()[0] for u in tqdm(uniprot_entries)]"
   ],
   "metadata": {
    "collapsed": false,
    "ExecuteTime": {
     "end_time": "2024-02-21T18:58:05.898290Z",
     "start_time": "2024-02-21T18:57:58.115115Z"
    }
   },
   "id": "10f7ba645a6fe281",
   "execution_count": 4
  },
  {
   "cell_type": "markdown",
   "source": [
    "## Download the structures"
   ],
   "metadata": {
    "collapsed": false
   },
   "id": "f12d5fd2a75a8022"
  },
  {
   "cell_type": "code",
   "outputs": [],
   "source": [
    "from asapdiscovery.data.utils import download_file"
   ],
   "metadata": {
    "collapsed": false,
    "ExecuteTime": {
     "end_time": "2024-02-21T18:58:06.491503Z",
     "start_time": "2024-02-21T18:58:05.892497Z"
    }
   },
   "id": "fdb82d6b72f68ec9",
   "execution_count": 5
  },
  {
   "cell_type": "code",
   "outputs": [],
   "source": [
    "for p in af_structures:\n",
    "    if not (af_dir / f\"{p.af_id}.cif\").exists():\n",
    "        download_file(p.model_url, af_dir / f\"{p.af_id}.cif\")"
   ],
   "metadata": {
    "collapsed": false,
    "ExecuteTime": {
     "end_time": "2024-02-21T18:58:06.500958Z",
     "start_time": "2024-02-21T18:58:06.493905Z"
    }
   },
   "id": "19914cd49e0d7fc",
   "execution_count": 6
  },
  {
   "cell_type": "markdown",
   "source": [
    "# Calculate the pLDDT"
   ],
   "metadata": {
    "collapsed": false
   },
   "id": "48a7c9452a9f4b3c"
  },
  {
   "cell_type": "code",
   "outputs": [],
   "source": [
    "from asapdiscovery.data.openeye import load_openeye_cif, oechem\n",
    "import numpy as np"
   ],
   "metadata": {
    "collapsed": false,
    "ExecuteTime": {
     "end_time": "2024-02-21T18:58:06.510741Z",
     "start_time": "2024-02-21T18:58:06.499830Z"
    }
   },
   "id": "4fda2697dbfe7f35",
   "execution_count": 7
  },
  {
   "cell_type": "code",
   "outputs": [],
   "source": [
    "def calculate_high_confidence(af_id):\n",
    "    \"\"\"\n",
    "    Load the downloaded model with openeye, get the residues.\n",
    "    Get the bfactor of each residue (which is the pLDDT score for this case)\n",
    "    Calculate the number of residues with high confidence (>90)\n",
    "    :param af_id: \n",
    "    :return: \n",
    "    \"\"\"\n",
    "    mol = load_openeye_cif(af_dir / f\"{af_id}.cif\")\n",
    "    residues = {oechem.OEAtomGetResidue(atom) for atom in mol.GetAtoms() if oechem.OEHasResidue(atom)}\n",
    "    bfactors = np.array([res.GetBFactor() for res in residues])\n",
    "    return sum(bfactors > 90)"
   ],
   "metadata": {
    "collapsed": false,
    "ExecuteTime": {
     "end_time": "2024-02-21T18:58:06.511689Z",
     "start_time": "2024-02-21T18:58:06.504820Z"
    }
   },
   "id": "1958e183a5e6ea50",
   "execution_count": 8
  },
  {
   "cell_type": "code",
   "outputs": [
    {
     "name": "stderr",
     "output_type": "stream",
     "text": [
      "100%|██████████| 57/57 [00:04<00:00, 12.40it/s]\n"
     ]
    }
   ],
   "source": [
    "confidence_dict = {p.components[0].name: calculate_high_confidence(p.af_id) / p.components[0].length  for p in tqdm(af_structures)}"
   ],
   "metadata": {
    "collapsed": false,
    "ExecuteTime": {
     "end_time": "2024-02-21T18:58:11.119239Z",
     "start_time": "2024-02-21T18:58:06.511447Z"
    }
   },
   "id": "24db9e4c7a2ab4eb",
   "execution_count": 9
  },
  {
   "cell_type": "markdown",
   "source": [
    "# Plot"
   ],
   "metadata": {
    "collapsed": false
   },
   "id": "9f41ac8d626035b1"
  },
  {
   "cell_type": "markdown",
   "source": [
    "## construct plotly df"
   ],
   "metadata": {
    "collapsed": false
   },
   "id": "887f902f1ffe4d7f"
  },
  {
   "cell_type": "code",
   "outputs": [],
   "source": [
    "category_dict = {e['uniprot']: e['admet_category'] for e in adme_names}"
   ],
   "metadata": {
    "collapsed": false,
    "ExecuteTime": {
     "end_time": "2024-02-21T20:09:50.242025Z",
     "start_time": "2024-02-21T20:09:50.232414Z"
    }
   },
   "id": "4d4d91e4568486b2",
   "execution_count": 62
  },
  {
   "cell_type": "code",
   "outputs": [],
   "source": [
    "import pandas as pd"
   ],
   "metadata": {
    "collapsed": false,
    "ExecuteTime": {
     "end_time": "2024-02-21T20:09:51.471362Z",
     "start_time": "2024-02-21T20:09:51.461100Z"
    }
   },
   "id": "ab9f31484c7c300b",
   "execution_count": 63
  },
  {
   "cell_type": "code",
   "outputs": [
    {
     "ename": "NameError",
     "evalue": "name 'confidence_dict' is not defined",
     "output_type": "error",
     "traceback": [
      "\u001B[0;31m---------------------------------------------------------------------------\u001B[0m",
      "\u001B[0;31mNameError\u001B[0m                                 Traceback (most recent call last)",
      "Cell \u001B[0;32mIn[64], line 1\u001B[0m\n\u001B[0;32m----> 1\u001B[0m \u001B[43mconfidence_dict\u001B[49m\u001B[38;5;241m.\u001B[39mkeys()\n",
      "\u001B[0;31mNameError\u001B[0m: name 'confidence_dict' is not defined"
     ]
    }
   ],
   "source": [
    "confidence_dict.keys()"
   ],
   "metadata": {
    "collapsed": false,
    "ExecuteTime": {
     "end_time": "2024-02-21T20:09:51.983825Z",
     "start_time": "2024-02-21T20:09:51.969709Z"
    }
   },
   "id": "27ce955847551730",
   "execution_count": 64
  },
  {
   "cell_type": "code",
   "outputs": [],
   "source": [
    "name_to_uniprot = {af.components[0].name: af.components[0].uniprot_id for af in af_structures}\n",
    "uniprot_to_name = {v: k for k, v in name_to_uniprot.items()}"
   ],
   "metadata": {
    "collapsed": false,
    "ExecuteTime": {
     "end_time": "2024-02-21T19:05:17.601287Z",
     "start_time": "2024-02-21T19:05:17.548490Z"
    }
   },
   "id": "8d921c324874cf2a",
   "execution_count": 30
  },
  {
   "cell_type": "code",
   "outputs": [],
   "source": [
    "confidence_df = pd.DataFrame({'Protein Name': list(confidence_dict.keys()), \n",
    "                              'Fraction': list(confidence_dict.values()), \n",
    "                              'Category': [category_dict[name_to_uniprot[k]] for k in confidence_dict.keys()]})"
   ],
   "metadata": {
    "collapsed": false,
    "ExecuteTime": {
     "end_time": "2024-02-21T19:06:18.995453Z",
     "start_time": "2024-02-21T19:06:18.987353Z"
    }
   },
   "id": "b9cf1231472bcb25",
   "execution_count": 37
  },
  {
   "cell_type": "code",
   "outputs": [],
   "source": [
    "confidence_df.sort_values('Protein Name', inplace=True)"
   ],
   "metadata": {
    "collapsed": false,
    "ExecuteTime": {
     "end_time": "2024-02-21T19:13:30.191471Z",
     "start_time": "2024-02-21T19:13:30.156413Z"
    }
   },
   "id": "802d3f6a06a24a5b",
   "execution_count": 56
  },
  {
   "cell_type": "code",
   "outputs": [],
   "source": [
    "import plotly.express as px"
   ],
   "metadata": {
    "collapsed": false,
    "ExecuteTime": {
     "end_time": "2024-02-21T20:01:33.400433Z",
     "start_time": "2024-02-21T20:01:33.240696Z"
    }
   },
   "id": "21af9caaf895ba7b",
   "execution_count": 41
  },
  {
   "cell_type": "code",
   "outputs": [],
   "source": [
    "color_sequence = [\"#00bf7d\", \"#00b4c5\", \"#c44601\", \"#2546f0\", \"#5928ed\"] "
   ],
   "metadata": {
    "collapsed": false,
    "ExecuteTime": {
     "end_time": "2024-02-21T19:14:25.976997Z",
     "start_time": "2024-02-21T19:14:25.935395Z"
    }
   },
   "id": "3cd5a82a7df8057b",
   "execution_count": 61
  },
  {
   "cell_type": "code",
   "outputs": [
    {
     "name": "stderr",
     "output_type": "stream",
     "text": [
      "/Users/alexpayne/miniforge-pypy3/envs/asapdiscovery/lib/python3.10/site-packages/plotly/express/_core.py:2065: FutureWarning:\n",
      "\n",
      "When grouping with a length-1 list-like, you will need to pass a length-1 tuple to get_group in a future version of pandas. Pass `(name,)` instead of `name` to silence this warning.\n",
      "\n"
     ]
    }
   ],
   "source": [
    "fig = px.bar(confidence_df,\n",
    "             x='Protein Name',\n",
    "                y='Fraction',\n",
    "             labels={'x': 'Protein', 'y': 'Fraction'}, \n",
    "             title='Fraction of Sequence Modeled with Very High Confidence (pLDDT > 90)', \n",
    "             template='simple_white',\n",
    "             width=1200,\n",
    "             height=600,\n",
    "             category_orders={'Category': ['metabolism_redox', 'metabolism', 'absorption', 'drug_transporter', 'toxicity']},\n",
    "             color=\"Category\",\n",
    "             color_discrete_sequence=color_sequence,\n",
    "             )"
   ],
   "metadata": {
    "collapsed": false,
    "ExecuteTime": {
     "end_time": "2024-02-21T19:14:26.268763Z",
     "start_time": "2024-02-21T19:14:26.253255Z"
    }
   },
   "id": "86f3a3dd84b8fdc3",
   "execution_count": 62
  },
  {
   "cell_type": "code",
   "outputs": [
    {
     "data": {
      "application/vnd.plotly.v1+json": {
       "data": [
        {
         "alignmentgroup": "True",
         "hovertemplate": "Category=metabolism_redox<br>Protein Name=%{x}<br>Fraction=%{y}<extra></extra>",
         "legendgroup": "metabolism_redox",
         "marker": {
          "color": "#00bf7d",
          "pattern": {
           "shape": ""
          }
         },
         "name": "metabolism_redox",
         "offsetgroup": "metabolism_redox",
         "orientation": "v",
         "showlegend": true,
         "textposition": "auto",
         "x": [
          "ADH1A_HUMAN",
          "AL1A1_HUMAN",
          "AOFA_HUMAN",
          "AOFB_HUMAN",
          "AOXA_HUMAN",
          "ARK73_HUMAN",
          "CP1A2_HUMAN",
          "CP2B6_HUMAN",
          "CP2C9_HUMAN",
          "CP2CJ_HUMAN",
          "CP2D6_HUMAN",
          "CP3A4_HUMAN",
          "DHI1_HUMAN",
          "FMO1_HUMAN",
          "XDH_HUMAN"
         ],
         "xaxis": "x",
         "y": [
          0.9973262032085561,
          0.98,
          0.9695817490494296,
          0.9171483622350675,
          0.9214659685863874,
          0.9606060606060606,
          0.916504854368932,
          0.9040816326530612,
          0.787321063394683,
          0.8609406952965235,
          0.8568548387096774,
          0.8147410358565738,
          0.8694158075601375,
          0.8606403013182674,
          0.9346846846846847
         ],
         "yaxis": "y",
         "type": "bar"
        },
        {
         "alignmentgroup": "True",
         "hovertemplate": "Category=metabolism<br>Protein Name=%{x}<br>Fraction=%{y}<extra></extra>",
         "legendgroup": "metabolism",
         "marker": {
          "color": "#00b4c5",
          "pattern": {
           "shape": ""
          }
         },
         "name": "metabolism",
         "offsetgroup": "metabolism",
         "orientation": "v",
         "showlegend": true,
         "textposition": "auto",
         "x": [
          "AHR_HUMAN",
          "GSTA1_HUMAN",
          "NR1I2_HUMAN",
          "NR1I3_HUMAN",
          "ST1A1_HUMAN"
         ],
         "xaxis": "x",
         "y": [
          0.21251475796930341,
          0.9773755656108597,
          0.6859122401847575,
          0.7293447293447294,
          0.9761904761904762
         ],
         "yaxis": "y",
         "type": "bar"
        },
        {
         "alignmentgroup": "True",
         "hovertemplate": "Category=absorption<br>Protein Name=%{x}<br>Fraction=%{y}<extra></extra>",
         "legendgroup": "absorption",
         "marker": {
          "color": "#c44601",
          "pattern": {
           "shape": ""
          }
         },
         "name": "absorption",
         "offsetgroup": "absorption",
         "orientation": "v",
         "showlegend": true,
         "textposition": "auto",
         "x": [
          "A1AG1_HUMAN",
          "OXA1L_HUMAN"
         ],
         "xaxis": "x",
         "y": [
          0.72,
          0.35944700460829493
         ],
         "yaxis": "y",
         "type": "bar"
        },
        {
         "alignmentgroup": "True",
         "hovertemplate": "Category=drug_transporter<br>Protein Name=%{x}<br>Fraction=%{y}<extra></extra>",
         "legendgroup": "drug_transporter",
         "marker": {
          "color": "#2546f0",
          "pattern": {
           "shape": ""
          }
         },
         "name": "drug_transporter",
         "offsetgroup": "drug_transporter",
         "orientation": "v",
         "showlegend": true,
         "textposition": "auto",
         "x": [
          "ABCBB_HUMAN",
          "ABCG2_HUMAN",
          "MDR1_HUMAN",
          "MRP1_HUMAN",
          "S15A1_HUMAN",
          "S22A6_HUMAN",
          "S22A8_HUMAN",
          "S47A1_HUMAN",
          "SO1B1_HUMAN",
          "SO1B3_HUMAN"
         ],
         "xaxis": "x",
         "y": [
          0.47954545454545455,
          0.6498470948012233,
          0.5504300234558248,
          0.4071895424836601,
          0.5190947666195191,
          0.39679715302491103,
          0.5138632162661737,
          0.7873462214411248,
          0.5173913043478261,
          0.4964336661911555
         ],
         "yaxis": "y",
         "type": "bar"
        },
        {
         "alignmentgroup": "True",
         "hovertemplate": "Category=toxicity<br>Protein Name=%{x}<br>Fraction=%{y}<extra></extra>",
         "legendgroup": "toxicity",
         "marker": {
          "color": "#5928ed",
          "pattern": {
           "shape": ""
          }
         },
         "name": "toxicity",
         "offsetgroup": "toxicity",
         "orientation": "v",
         "showlegend": true,
         "textposition": "auto",
         "x": [
          "5HT2B_HUMAN",
          "ACH10_HUMAN",
          "ACHA3_HUMAN",
          "ACHA5_HUMAN",
          "ACHA7_HUMAN",
          "ACHA9_HUMAN",
          "ACM1_HUMAN",
          "ACM2_HUMAN",
          "ACM3_HUMAN",
          "ADA1A_HUMAN",
          "ADA2A_HUMAN",
          "ADRB1_HUMAN",
          "ADRB2_HUMAN",
          "ASM3A_HUMAN",
          "CAC1C_HUMAN",
          "CACB1_HUMAN",
          "CNR1_HUMAN",
          "CNR2_HUMAN",
          "GBRA1_HUMAN",
          "HRH1_HUMAN",
          "KCNH2_HUMAN",
          "SC6A2_HUMAN",
          "SC6A3_HUMAN",
          "SC6A4_HUMAN",
          "SCN5A_HUMAN"
         ],
         "xaxis": "x",
         "y": [
          0.38125,
          0.5033407572383074,
          0.6011904761904762,
          0.4518201284796574,
          0.3772455089820359,
          0.45188284518828453,
          0.5054466230936819,
          0.5118279569892473,
          0.32088285229202035,
          0.4236559139784946,
          0.47413793103448276,
          0.4831932773109244,
          0.587378640776699,
          0.9048672566371682,
          0.09684684684684684,
          0.4221105527638191,
          0.46284501061571126,
          0.637883008356546,
          0.6505494505494506,
          0.3991769547325103,
          0.25734024179620035,
          0.7386363636363636,
          0.7382875605815832,
          0.7567567567567568,
          0.11017369727047147
         ],
         "yaxis": "y",
         "type": "bar"
        }
       ],
       "layout": {
        "template": {
         "data": {
          "barpolar": [
           {
            "marker": {
             "line": {
              "color": "white",
              "width": 0.5
             },
             "pattern": {
              "fillmode": "overlay",
              "size": 10,
              "solidity": 0.2
             }
            },
            "type": "barpolar"
           }
          ],
          "bar": [
           {
            "error_x": {
             "color": "rgb(36,36,36)"
            },
            "error_y": {
             "color": "rgb(36,36,36)"
            },
            "marker": {
             "line": {
              "color": "white",
              "width": 0.5
             },
             "pattern": {
              "fillmode": "overlay",
              "size": 10,
              "solidity": 0.2
             }
            },
            "type": "bar"
           }
          ],
          "carpet": [
           {
            "aaxis": {
             "endlinecolor": "rgb(36,36,36)",
             "gridcolor": "white",
             "linecolor": "white",
             "minorgridcolor": "white",
             "startlinecolor": "rgb(36,36,36)"
            },
            "baxis": {
             "endlinecolor": "rgb(36,36,36)",
             "gridcolor": "white",
             "linecolor": "white",
             "minorgridcolor": "white",
             "startlinecolor": "rgb(36,36,36)"
            },
            "type": "carpet"
           }
          ],
          "choropleth": [
           {
            "colorbar": {
             "outlinewidth": 1,
             "tickcolor": "rgb(36,36,36)",
             "ticks": "outside"
            },
            "type": "choropleth"
           }
          ],
          "contourcarpet": [
           {
            "colorbar": {
             "outlinewidth": 1,
             "tickcolor": "rgb(36,36,36)",
             "ticks": "outside"
            },
            "type": "contourcarpet"
           }
          ],
          "contour": [
           {
            "colorbar": {
             "outlinewidth": 1,
             "tickcolor": "rgb(36,36,36)",
             "ticks": "outside"
            },
            "colorscale": [
             [
              0.0,
              "#440154"
             ],
             [
              0.1111111111111111,
              "#482878"
             ],
             [
              0.2222222222222222,
              "#3e4989"
             ],
             [
              0.3333333333333333,
              "#31688e"
             ],
             [
              0.4444444444444444,
              "#26828e"
             ],
             [
              0.5555555555555556,
              "#1f9e89"
             ],
             [
              0.6666666666666666,
              "#35b779"
             ],
             [
              0.7777777777777778,
              "#6ece58"
             ],
             [
              0.8888888888888888,
              "#b5de2b"
             ],
             [
              1.0,
              "#fde725"
             ]
            ],
            "type": "contour"
           }
          ],
          "heatmapgl": [
           {
            "colorbar": {
             "outlinewidth": 1,
             "tickcolor": "rgb(36,36,36)",
             "ticks": "outside"
            },
            "colorscale": [
             [
              0.0,
              "#440154"
             ],
             [
              0.1111111111111111,
              "#482878"
             ],
             [
              0.2222222222222222,
              "#3e4989"
             ],
             [
              0.3333333333333333,
              "#31688e"
             ],
             [
              0.4444444444444444,
              "#26828e"
             ],
             [
              0.5555555555555556,
              "#1f9e89"
             ],
             [
              0.6666666666666666,
              "#35b779"
             ],
             [
              0.7777777777777778,
              "#6ece58"
             ],
             [
              0.8888888888888888,
              "#b5de2b"
             ],
             [
              1.0,
              "#fde725"
             ]
            ],
            "type": "heatmapgl"
           }
          ],
          "heatmap": [
           {
            "colorbar": {
             "outlinewidth": 1,
             "tickcolor": "rgb(36,36,36)",
             "ticks": "outside"
            },
            "colorscale": [
             [
              0.0,
              "#440154"
             ],
             [
              0.1111111111111111,
              "#482878"
             ],
             [
              0.2222222222222222,
              "#3e4989"
             ],
             [
              0.3333333333333333,
              "#31688e"
             ],
             [
              0.4444444444444444,
              "#26828e"
             ],
             [
              0.5555555555555556,
              "#1f9e89"
             ],
             [
              0.6666666666666666,
              "#35b779"
             ],
             [
              0.7777777777777778,
              "#6ece58"
             ],
             [
              0.8888888888888888,
              "#b5de2b"
             ],
             [
              1.0,
              "#fde725"
             ]
            ],
            "type": "heatmap"
           }
          ],
          "histogram2dcontour": [
           {
            "colorbar": {
             "outlinewidth": 1,
             "tickcolor": "rgb(36,36,36)",
             "ticks": "outside"
            },
            "colorscale": [
             [
              0.0,
              "#440154"
             ],
             [
              0.1111111111111111,
              "#482878"
             ],
             [
              0.2222222222222222,
              "#3e4989"
             ],
             [
              0.3333333333333333,
              "#31688e"
             ],
             [
              0.4444444444444444,
              "#26828e"
             ],
             [
              0.5555555555555556,
              "#1f9e89"
             ],
             [
              0.6666666666666666,
              "#35b779"
             ],
             [
              0.7777777777777778,
              "#6ece58"
             ],
             [
              0.8888888888888888,
              "#b5de2b"
             ],
             [
              1.0,
              "#fde725"
             ]
            ],
            "type": "histogram2dcontour"
           }
          ],
          "histogram2d": [
           {
            "colorbar": {
             "outlinewidth": 1,
             "tickcolor": "rgb(36,36,36)",
             "ticks": "outside"
            },
            "colorscale": [
             [
              0.0,
              "#440154"
             ],
             [
              0.1111111111111111,
              "#482878"
             ],
             [
              0.2222222222222222,
              "#3e4989"
             ],
             [
              0.3333333333333333,
              "#31688e"
             ],
             [
              0.4444444444444444,
              "#26828e"
             ],
             [
              0.5555555555555556,
              "#1f9e89"
             ],
             [
              0.6666666666666666,
              "#35b779"
             ],
             [
              0.7777777777777778,
              "#6ece58"
             ],
             [
              0.8888888888888888,
              "#b5de2b"
             ],
             [
              1.0,
              "#fde725"
             ]
            ],
            "type": "histogram2d"
           }
          ],
          "histogram": [
           {
            "marker": {
             "line": {
              "color": "white",
              "width": 0.6
             }
            },
            "type": "histogram"
           }
          ],
          "mesh3d": [
           {
            "colorbar": {
             "outlinewidth": 1,
             "tickcolor": "rgb(36,36,36)",
             "ticks": "outside"
            },
            "type": "mesh3d"
           }
          ],
          "parcoords": [
           {
            "line": {
             "colorbar": {
              "outlinewidth": 1,
              "tickcolor": "rgb(36,36,36)",
              "ticks": "outside"
             }
            },
            "type": "parcoords"
           }
          ],
          "pie": [
           {
            "automargin": true,
            "type": "pie"
           }
          ],
          "scatter3d": [
           {
            "line": {
             "colorbar": {
              "outlinewidth": 1,
              "tickcolor": "rgb(36,36,36)",
              "ticks": "outside"
             }
            },
            "marker": {
             "colorbar": {
              "outlinewidth": 1,
              "tickcolor": "rgb(36,36,36)",
              "ticks": "outside"
             }
            },
            "type": "scatter3d"
           }
          ],
          "scattercarpet": [
           {
            "marker": {
             "colorbar": {
              "outlinewidth": 1,
              "tickcolor": "rgb(36,36,36)",
              "ticks": "outside"
             }
            },
            "type": "scattercarpet"
           }
          ],
          "scattergeo": [
           {
            "marker": {
             "colorbar": {
              "outlinewidth": 1,
              "tickcolor": "rgb(36,36,36)",
              "ticks": "outside"
             }
            },
            "type": "scattergeo"
           }
          ],
          "scattergl": [
           {
            "marker": {
             "colorbar": {
              "outlinewidth": 1,
              "tickcolor": "rgb(36,36,36)",
              "ticks": "outside"
             }
            },
            "type": "scattergl"
           }
          ],
          "scattermapbox": [
           {
            "marker": {
             "colorbar": {
              "outlinewidth": 1,
              "tickcolor": "rgb(36,36,36)",
              "ticks": "outside"
             }
            },
            "type": "scattermapbox"
           }
          ],
          "scatterpolargl": [
           {
            "marker": {
             "colorbar": {
              "outlinewidth": 1,
              "tickcolor": "rgb(36,36,36)",
              "ticks": "outside"
             }
            },
            "type": "scatterpolargl"
           }
          ],
          "scatterpolar": [
           {
            "marker": {
             "colorbar": {
              "outlinewidth": 1,
              "tickcolor": "rgb(36,36,36)",
              "ticks": "outside"
             }
            },
            "type": "scatterpolar"
           }
          ],
          "scatter": [
           {
            "fillpattern": {
             "fillmode": "overlay",
             "size": 10,
             "solidity": 0.2
            },
            "type": "scatter"
           }
          ],
          "scatterternary": [
           {
            "marker": {
             "colorbar": {
              "outlinewidth": 1,
              "tickcolor": "rgb(36,36,36)",
              "ticks": "outside"
             }
            },
            "type": "scatterternary"
           }
          ],
          "surface": [
           {
            "colorbar": {
             "outlinewidth": 1,
             "tickcolor": "rgb(36,36,36)",
             "ticks": "outside"
            },
            "colorscale": [
             [
              0.0,
              "#440154"
             ],
             [
              0.1111111111111111,
              "#482878"
             ],
             [
              0.2222222222222222,
              "#3e4989"
             ],
             [
              0.3333333333333333,
              "#31688e"
             ],
             [
              0.4444444444444444,
              "#26828e"
             ],
             [
              0.5555555555555556,
              "#1f9e89"
             ],
             [
              0.6666666666666666,
              "#35b779"
             ],
             [
              0.7777777777777778,
              "#6ece58"
             ],
             [
              0.8888888888888888,
              "#b5de2b"
             ],
             [
              1.0,
              "#fde725"
             ]
            ],
            "type": "surface"
           }
          ],
          "table": [
           {
            "cells": {
             "fill": {
              "color": "rgb(237,237,237)"
             },
             "line": {
              "color": "white"
             }
            },
            "header": {
             "fill": {
              "color": "rgb(217,217,217)"
             },
             "line": {
              "color": "white"
             }
            },
            "type": "table"
           }
          ]
         },
         "layout": {
          "annotationdefaults": {
           "arrowhead": 0,
           "arrowwidth": 1
          },
          "autotypenumbers": "strict",
          "coloraxis": {
           "colorbar": {
            "outlinewidth": 1,
            "tickcolor": "rgb(36,36,36)",
            "ticks": "outside"
           }
          },
          "colorscale": {
           "diverging": [
            [
             0.0,
             "rgb(103,0,31)"
            ],
            [
             0.1,
             "rgb(178,24,43)"
            ],
            [
             0.2,
             "rgb(214,96,77)"
            ],
            [
             0.3,
             "rgb(244,165,130)"
            ],
            [
             0.4,
             "rgb(253,219,199)"
            ],
            [
             0.5,
             "rgb(247,247,247)"
            ],
            [
             0.6,
             "rgb(209,229,240)"
            ],
            [
             0.7,
             "rgb(146,197,222)"
            ],
            [
             0.8,
             "rgb(67,147,195)"
            ],
            [
             0.9,
             "rgb(33,102,172)"
            ],
            [
             1.0,
             "rgb(5,48,97)"
            ]
           ],
           "sequential": [
            [
             0.0,
             "#440154"
            ],
            [
             0.1111111111111111,
             "#482878"
            ],
            [
             0.2222222222222222,
             "#3e4989"
            ],
            [
             0.3333333333333333,
             "#31688e"
            ],
            [
             0.4444444444444444,
             "#26828e"
            ],
            [
             0.5555555555555556,
             "#1f9e89"
            ],
            [
             0.6666666666666666,
             "#35b779"
            ],
            [
             0.7777777777777778,
             "#6ece58"
            ],
            [
             0.8888888888888888,
             "#b5de2b"
            ],
            [
             1.0,
             "#fde725"
            ]
           ],
           "sequentialminus": [
            [
             0.0,
             "#440154"
            ],
            [
             0.1111111111111111,
             "#482878"
            ],
            [
             0.2222222222222222,
             "#3e4989"
            ],
            [
             0.3333333333333333,
             "#31688e"
            ],
            [
             0.4444444444444444,
             "#26828e"
            ],
            [
             0.5555555555555556,
             "#1f9e89"
            ],
            [
             0.6666666666666666,
             "#35b779"
            ],
            [
             0.7777777777777778,
             "#6ece58"
            ],
            [
             0.8888888888888888,
             "#b5de2b"
            ],
            [
             1.0,
             "#fde725"
            ]
           ]
          },
          "colorway": [
           "#1F77B4",
           "#FF7F0E",
           "#2CA02C",
           "#D62728",
           "#9467BD",
           "#8C564B",
           "#E377C2",
           "#7F7F7F",
           "#BCBD22",
           "#17BECF"
          ],
          "font": {
           "color": "rgb(36,36,36)"
          },
          "geo": {
           "bgcolor": "white",
           "lakecolor": "white",
           "landcolor": "white",
           "showlakes": true,
           "showland": true,
           "subunitcolor": "white"
          },
          "hoverlabel": {
           "align": "left"
          },
          "hovermode": "closest",
          "mapbox": {
           "style": "light"
          },
          "paper_bgcolor": "white",
          "plot_bgcolor": "white",
          "polar": {
           "angularaxis": {
            "gridcolor": "rgb(232,232,232)",
            "linecolor": "rgb(36,36,36)",
            "showgrid": false,
            "showline": true,
            "ticks": "outside"
           },
           "bgcolor": "white",
           "radialaxis": {
            "gridcolor": "rgb(232,232,232)",
            "linecolor": "rgb(36,36,36)",
            "showgrid": false,
            "showline": true,
            "ticks": "outside"
           }
          },
          "scene": {
           "xaxis": {
            "backgroundcolor": "white",
            "gridcolor": "rgb(232,232,232)",
            "gridwidth": 2,
            "linecolor": "rgb(36,36,36)",
            "showbackground": true,
            "showgrid": false,
            "showline": true,
            "ticks": "outside",
            "zeroline": false,
            "zerolinecolor": "rgb(36,36,36)"
           },
           "yaxis": {
            "backgroundcolor": "white",
            "gridcolor": "rgb(232,232,232)",
            "gridwidth": 2,
            "linecolor": "rgb(36,36,36)",
            "showbackground": true,
            "showgrid": false,
            "showline": true,
            "ticks": "outside",
            "zeroline": false,
            "zerolinecolor": "rgb(36,36,36)"
           },
           "zaxis": {
            "backgroundcolor": "white",
            "gridcolor": "rgb(232,232,232)",
            "gridwidth": 2,
            "linecolor": "rgb(36,36,36)",
            "showbackground": true,
            "showgrid": false,
            "showline": true,
            "ticks": "outside",
            "zeroline": false,
            "zerolinecolor": "rgb(36,36,36)"
           }
          },
          "shapedefaults": {
           "fillcolor": "black",
           "line": {
            "width": 0
           },
           "opacity": 0.3
          },
          "ternary": {
           "aaxis": {
            "gridcolor": "rgb(232,232,232)",
            "linecolor": "rgb(36,36,36)",
            "showgrid": false,
            "showline": true,
            "ticks": "outside"
           },
           "baxis": {
            "gridcolor": "rgb(232,232,232)",
            "linecolor": "rgb(36,36,36)",
            "showgrid": false,
            "showline": true,
            "ticks": "outside"
           },
           "bgcolor": "white",
           "caxis": {
            "gridcolor": "rgb(232,232,232)",
            "linecolor": "rgb(36,36,36)",
            "showgrid": false,
            "showline": true,
            "ticks": "outside"
           }
          },
          "title": {
           "x": 0.05
          },
          "xaxis": {
           "automargin": true,
           "gridcolor": "rgb(232,232,232)",
           "linecolor": "rgb(36,36,36)",
           "showgrid": false,
           "showline": true,
           "ticks": "outside",
           "title": {
            "standoff": 15
           },
           "zeroline": false,
           "zerolinecolor": "rgb(36,36,36)"
          },
          "yaxis": {
           "automargin": true,
           "gridcolor": "rgb(232,232,232)",
           "linecolor": "rgb(36,36,36)",
           "showgrid": false,
           "showline": true,
           "ticks": "outside",
           "title": {
            "standoff": 15
           },
           "zeroline": false,
           "zerolinecolor": "rgb(36,36,36)"
          }
         }
        },
        "xaxis": {
         "anchor": "y",
         "domain": [
          0.0,
          1.0
         ],
         "title": {
          "text": "Protein Name"
         }
        },
        "yaxis": {
         "anchor": "x",
         "domain": [
          0.0,
          1.0
         ],
         "title": {
          "text": "Fraction"
         }
        },
        "legend": {
         "title": {
          "text": "Category"
         },
         "tracegroupgap": 0
        },
        "title": {
         "text": "Fraction of Sequence Modeled with Very High Confidence (pLDDT > 90)"
        },
        "barmode": "relative",
        "height": 600,
        "width": 1200
       },
       "config": {
        "plotlyServerURL": "https://plot.ly"
       }
      },
      "text/html": "<div>                            <div id=\"b0ca0ebf-f8b6-475a-8c70-6ffaaf590e46\" class=\"plotly-graph-div\" style=\"height:600px; width:1200px;\"></div>            <script type=\"text/javascript\">                require([\"plotly\"], function(Plotly) {                    window.PLOTLYENV=window.PLOTLYENV || {};                                    if (document.getElementById(\"b0ca0ebf-f8b6-475a-8c70-6ffaaf590e46\")) {                    Plotly.newPlot(                        \"b0ca0ebf-f8b6-475a-8c70-6ffaaf590e46\",                        [{\"alignmentgroup\":\"True\",\"hovertemplate\":\"Category=metabolism_redox\\u003cbr\\u003eProtein Name=%{x}\\u003cbr\\u003eFraction=%{y}\\u003cextra\\u003e\\u003c\\u002fextra\\u003e\",\"legendgroup\":\"metabolism_redox\",\"marker\":{\"color\":\"#00bf7d\",\"pattern\":{\"shape\":\"\"}},\"name\":\"metabolism_redox\",\"offsetgroup\":\"metabolism_redox\",\"orientation\":\"v\",\"showlegend\":true,\"textposition\":\"auto\",\"x\":[\"ADH1A_HUMAN\",\"AL1A1_HUMAN\",\"AOFA_HUMAN\",\"AOFB_HUMAN\",\"AOXA_HUMAN\",\"ARK73_HUMAN\",\"CP1A2_HUMAN\",\"CP2B6_HUMAN\",\"CP2C9_HUMAN\",\"CP2CJ_HUMAN\",\"CP2D6_HUMAN\",\"CP3A4_HUMAN\",\"DHI1_HUMAN\",\"FMO1_HUMAN\",\"XDH_HUMAN\"],\"xaxis\":\"x\",\"y\":[0.9973262032085561,0.98,0.9695817490494296,0.9171483622350675,0.9214659685863874,0.9606060606060606,0.916504854368932,0.9040816326530612,0.787321063394683,0.8609406952965235,0.8568548387096774,0.8147410358565738,0.8694158075601375,0.8606403013182674,0.9346846846846847],\"yaxis\":\"y\",\"type\":\"bar\"},{\"alignmentgroup\":\"True\",\"hovertemplate\":\"Category=metabolism\\u003cbr\\u003eProtein Name=%{x}\\u003cbr\\u003eFraction=%{y}\\u003cextra\\u003e\\u003c\\u002fextra\\u003e\",\"legendgroup\":\"metabolism\",\"marker\":{\"color\":\"#00b4c5\",\"pattern\":{\"shape\":\"\"}},\"name\":\"metabolism\",\"offsetgroup\":\"metabolism\",\"orientation\":\"v\",\"showlegend\":true,\"textposition\":\"auto\",\"x\":[\"AHR_HUMAN\",\"GSTA1_HUMAN\",\"NR1I2_HUMAN\",\"NR1I3_HUMAN\",\"ST1A1_HUMAN\"],\"xaxis\":\"x\",\"y\":[0.21251475796930341,0.9773755656108597,0.6859122401847575,0.7293447293447294,0.9761904761904762],\"yaxis\":\"y\",\"type\":\"bar\"},{\"alignmentgroup\":\"True\",\"hovertemplate\":\"Category=absorption\\u003cbr\\u003eProtein Name=%{x}\\u003cbr\\u003eFraction=%{y}\\u003cextra\\u003e\\u003c\\u002fextra\\u003e\",\"legendgroup\":\"absorption\",\"marker\":{\"color\":\"#c44601\",\"pattern\":{\"shape\":\"\"}},\"name\":\"absorption\",\"offsetgroup\":\"absorption\",\"orientation\":\"v\",\"showlegend\":true,\"textposition\":\"auto\",\"x\":[\"A1AG1_HUMAN\",\"OXA1L_HUMAN\"],\"xaxis\":\"x\",\"y\":[0.72,0.35944700460829493],\"yaxis\":\"y\",\"type\":\"bar\"},{\"alignmentgroup\":\"True\",\"hovertemplate\":\"Category=drug_transporter\\u003cbr\\u003eProtein Name=%{x}\\u003cbr\\u003eFraction=%{y}\\u003cextra\\u003e\\u003c\\u002fextra\\u003e\",\"legendgroup\":\"drug_transporter\",\"marker\":{\"color\":\"#2546f0\",\"pattern\":{\"shape\":\"\"}},\"name\":\"drug_transporter\",\"offsetgroup\":\"drug_transporter\",\"orientation\":\"v\",\"showlegend\":true,\"textposition\":\"auto\",\"x\":[\"ABCBB_HUMAN\",\"ABCG2_HUMAN\",\"MDR1_HUMAN\",\"MRP1_HUMAN\",\"S15A1_HUMAN\",\"S22A6_HUMAN\",\"S22A8_HUMAN\",\"S47A1_HUMAN\",\"SO1B1_HUMAN\",\"SO1B3_HUMAN\"],\"xaxis\":\"x\",\"y\":[0.47954545454545455,0.6498470948012233,0.5504300234558248,0.4071895424836601,0.5190947666195191,0.39679715302491103,0.5138632162661737,0.7873462214411248,0.5173913043478261,0.4964336661911555],\"yaxis\":\"y\",\"type\":\"bar\"},{\"alignmentgroup\":\"True\",\"hovertemplate\":\"Category=toxicity\\u003cbr\\u003eProtein Name=%{x}\\u003cbr\\u003eFraction=%{y}\\u003cextra\\u003e\\u003c\\u002fextra\\u003e\",\"legendgroup\":\"toxicity\",\"marker\":{\"color\":\"#5928ed\",\"pattern\":{\"shape\":\"\"}},\"name\":\"toxicity\",\"offsetgroup\":\"toxicity\",\"orientation\":\"v\",\"showlegend\":true,\"textposition\":\"auto\",\"x\":[\"5HT2B_HUMAN\",\"ACH10_HUMAN\",\"ACHA3_HUMAN\",\"ACHA5_HUMAN\",\"ACHA7_HUMAN\",\"ACHA9_HUMAN\",\"ACM1_HUMAN\",\"ACM2_HUMAN\",\"ACM3_HUMAN\",\"ADA1A_HUMAN\",\"ADA2A_HUMAN\",\"ADRB1_HUMAN\",\"ADRB2_HUMAN\",\"ASM3A_HUMAN\",\"CAC1C_HUMAN\",\"CACB1_HUMAN\",\"CNR1_HUMAN\",\"CNR2_HUMAN\",\"GBRA1_HUMAN\",\"HRH1_HUMAN\",\"KCNH2_HUMAN\",\"SC6A2_HUMAN\",\"SC6A3_HUMAN\",\"SC6A4_HUMAN\",\"SCN5A_HUMAN\"],\"xaxis\":\"x\",\"y\":[0.38125,0.5033407572383074,0.6011904761904762,0.4518201284796574,0.3772455089820359,0.45188284518828453,0.5054466230936819,0.5118279569892473,0.32088285229202035,0.4236559139784946,0.47413793103448276,0.4831932773109244,0.587378640776699,0.9048672566371682,0.09684684684684684,0.4221105527638191,0.46284501061571126,0.637883008356546,0.6505494505494506,0.3991769547325103,0.25734024179620035,0.7386363636363636,0.7382875605815832,0.7567567567567568,0.11017369727047147],\"yaxis\":\"y\",\"type\":\"bar\"}],                        {\"template\":{\"data\":{\"barpolar\":[{\"marker\":{\"line\":{\"color\":\"white\",\"width\":0.5},\"pattern\":{\"fillmode\":\"overlay\",\"size\":10,\"solidity\":0.2}},\"type\":\"barpolar\"}],\"bar\":[{\"error_x\":{\"color\":\"rgb(36,36,36)\"},\"error_y\":{\"color\":\"rgb(36,36,36)\"},\"marker\":{\"line\":{\"color\":\"white\",\"width\":0.5},\"pattern\":{\"fillmode\":\"overlay\",\"size\":10,\"solidity\":0.2}},\"type\":\"bar\"}],\"carpet\":[{\"aaxis\":{\"endlinecolor\":\"rgb(36,36,36)\",\"gridcolor\":\"white\",\"linecolor\":\"white\",\"minorgridcolor\":\"white\",\"startlinecolor\":\"rgb(36,36,36)\"},\"baxis\":{\"endlinecolor\":\"rgb(36,36,36)\",\"gridcolor\":\"white\",\"linecolor\":\"white\",\"minorgridcolor\":\"white\",\"startlinecolor\":\"rgb(36,36,36)\"},\"type\":\"carpet\"}],\"choropleth\":[{\"colorbar\":{\"outlinewidth\":1,\"tickcolor\":\"rgb(36,36,36)\",\"ticks\":\"outside\"},\"type\":\"choropleth\"}],\"contourcarpet\":[{\"colorbar\":{\"outlinewidth\":1,\"tickcolor\":\"rgb(36,36,36)\",\"ticks\":\"outside\"},\"type\":\"contourcarpet\"}],\"contour\":[{\"colorbar\":{\"outlinewidth\":1,\"tickcolor\":\"rgb(36,36,36)\",\"ticks\":\"outside\"},\"colorscale\":[[0.0,\"#440154\"],[0.1111111111111111,\"#482878\"],[0.2222222222222222,\"#3e4989\"],[0.3333333333333333,\"#31688e\"],[0.4444444444444444,\"#26828e\"],[0.5555555555555556,\"#1f9e89\"],[0.6666666666666666,\"#35b779\"],[0.7777777777777778,\"#6ece58\"],[0.8888888888888888,\"#b5de2b\"],[1.0,\"#fde725\"]],\"type\":\"contour\"}],\"heatmapgl\":[{\"colorbar\":{\"outlinewidth\":1,\"tickcolor\":\"rgb(36,36,36)\",\"ticks\":\"outside\"},\"colorscale\":[[0.0,\"#440154\"],[0.1111111111111111,\"#482878\"],[0.2222222222222222,\"#3e4989\"],[0.3333333333333333,\"#31688e\"],[0.4444444444444444,\"#26828e\"],[0.5555555555555556,\"#1f9e89\"],[0.6666666666666666,\"#35b779\"],[0.7777777777777778,\"#6ece58\"],[0.8888888888888888,\"#b5de2b\"],[1.0,\"#fde725\"]],\"type\":\"heatmapgl\"}],\"heatmap\":[{\"colorbar\":{\"outlinewidth\":1,\"tickcolor\":\"rgb(36,36,36)\",\"ticks\":\"outside\"},\"colorscale\":[[0.0,\"#440154\"],[0.1111111111111111,\"#482878\"],[0.2222222222222222,\"#3e4989\"],[0.3333333333333333,\"#31688e\"],[0.4444444444444444,\"#26828e\"],[0.5555555555555556,\"#1f9e89\"],[0.6666666666666666,\"#35b779\"],[0.7777777777777778,\"#6ece58\"],[0.8888888888888888,\"#b5de2b\"],[1.0,\"#fde725\"]],\"type\":\"heatmap\"}],\"histogram2dcontour\":[{\"colorbar\":{\"outlinewidth\":1,\"tickcolor\":\"rgb(36,36,36)\",\"ticks\":\"outside\"},\"colorscale\":[[0.0,\"#440154\"],[0.1111111111111111,\"#482878\"],[0.2222222222222222,\"#3e4989\"],[0.3333333333333333,\"#31688e\"],[0.4444444444444444,\"#26828e\"],[0.5555555555555556,\"#1f9e89\"],[0.6666666666666666,\"#35b779\"],[0.7777777777777778,\"#6ece58\"],[0.8888888888888888,\"#b5de2b\"],[1.0,\"#fde725\"]],\"type\":\"histogram2dcontour\"}],\"histogram2d\":[{\"colorbar\":{\"outlinewidth\":1,\"tickcolor\":\"rgb(36,36,36)\",\"ticks\":\"outside\"},\"colorscale\":[[0.0,\"#440154\"],[0.1111111111111111,\"#482878\"],[0.2222222222222222,\"#3e4989\"],[0.3333333333333333,\"#31688e\"],[0.4444444444444444,\"#26828e\"],[0.5555555555555556,\"#1f9e89\"],[0.6666666666666666,\"#35b779\"],[0.7777777777777778,\"#6ece58\"],[0.8888888888888888,\"#b5de2b\"],[1.0,\"#fde725\"]],\"type\":\"histogram2d\"}],\"histogram\":[{\"marker\":{\"line\":{\"color\":\"white\",\"width\":0.6}},\"type\":\"histogram\"}],\"mesh3d\":[{\"colorbar\":{\"outlinewidth\":1,\"tickcolor\":\"rgb(36,36,36)\",\"ticks\":\"outside\"},\"type\":\"mesh3d\"}],\"parcoords\":[{\"line\":{\"colorbar\":{\"outlinewidth\":1,\"tickcolor\":\"rgb(36,36,36)\",\"ticks\":\"outside\"}},\"type\":\"parcoords\"}],\"pie\":[{\"automargin\":true,\"type\":\"pie\"}],\"scatter3d\":[{\"line\":{\"colorbar\":{\"outlinewidth\":1,\"tickcolor\":\"rgb(36,36,36)\",\"ticks\":\"outside\"}},\"marker\":{\"colorbar\":{\"outlinewidth\":1,\"tickcolor\":\"rgb(36,36,36)\",\"ticks\":\"outside\"}},\"type\":\"scatter3d\"}],\"scattercarpet\":[{\"marker\":{\"colorbar\":{\"outlinewidth\":1,\"tickcolor\":\"rgb(36,36,36)\",\"ticks\":\"outside\"}},\"type\":\"scattercarpet\"}],\"scattergeo\":[{\"marker\":{\"colorbar\":{\"outlinewidth\":1,\"tickcolor\":\"rgb(36,36,36)\",\"ticks\":\"outside\"}},\"type\":\"scattergeo\"}],\"scattergl\":[{\"marker\":{\"colorbar\":{\"outlinewidth\":1,\"tickcolor\":\"rgb(36,36,36)\",\"ticks\":\"outside\"}},\"type\":\"scattergl\"}],\"scattermapbox\":[{\"marker\":{\"colorbar\":{\"outlinewidth\":1,\"tickcolor\":\"rgb(36,36,36)\",\"ticks\":\"outside\"}},\"type\":\"scattermapbox\"}],\"scatterpolargl\":[{\"marker\":{\"colorbar\":{\"outlinewidth\":1,\"tickcolor\":\"rgb(36,36,36)\",\"ticks\":\"outside\"}},\"type\":\"scatterpolargl\"}],\"scatterpolar\":[{\"marker\":{\"colorbar\":{\"outlinewidth\":1,\"tickcolor\":\"rgb(36,36,36)\",\"ticks\":\"outside\"}},\"type\":\"scatterpolar\"}],\"scatter\":[{\"fillpattern\":{\"fillmode\":\"overlay\",\"size\":10,\"solidity\":0.2},\"type\":\"scatter\"}],\"scatterternary\":[{\"marker\":{\"colorbar\":{\"outlinewidth\":1,\"tickcolor\":\"rgb(36,36,36)\",\"ticks\":\"outside\"}},\"type\":\"scatterternary\"}],\"surface\":[{\"colorbar\":{\"outlinewidth\":1,\"tickcolor\":\"rgb(36,36,36)\",\"ticks\":\"outside\"},\"colorscale\":[[0.0,\"#440154\"],[0.1111111111111111,\"#482878\"],[0.2222222222222222,\"#3e4989\"],[0.3333333333333333,\"#31688e\"],[0.4444444444444444,\"#26828e\"],[0.5555555555555556,\"#1f9e89\"],[0.6666666666666666,\"#35b779\"],[0.7777777777777778,\"#6ece58\"],[0.8888888888888888,\"#b5de2b\"],[1.0,\"#fde725\"]],\"type\":\"surface\"}],\"table\":[{\"cells\":{\"fill\":{\"color\":\"rgb(237,237,237)\"},\"line\":{\"color\":\"white\"}},\"header\":{\"fill\":{\"color\":\"rgb(217,217,217)\"},\"line\":{\"color\":\"white\"}},\"type\":\"table\"}]},\"layout\":{\"annotationdefaults\":{\"arrowhead\":0,\"arrowwidth\":1},\"autotypenumbers\":\"strict\",\"coloraxis\":{\"colorbar\":{\"outlinewidth\":1,\"tickcolor\":\"rgb(36,36,36)\",\"ticks\":\"outside\"}},\"colorscale\":{\"diverging\":[[0.0,\"rgb(103,0,31)\"],[0.1,\"rgb(178,24,43)\"],[0.2,\"rgb(214,96,77)\"],[0.3,\"rgb(244,165,130)\"],[0.4,\"rgb(253,219,199)\"],[0.5,\"rgb(247,247,247)\"],[0.6,\"rgb(209,229,240)\"],[0.7,\"rgb(146,197,222)\"],[0.8,\"rgb(67,147,195)\"],[0.9,\"rgb(33,102,172)\"],[1.0,\"rgb(5,48,97)\"]],\"sequential\":[[0.0,\"#440154\"],[0.1111111111111111,\"#482878\"],[0.2222222222222222,\"#3e4989\"],[0.3333333333333333,\"#31688e\"],[0.4444444444444444,\"#26828e\"],[0.5555555555555556,\"#1f9e89\"],[0.6666666666666666,\"#35b779\"],[0.7777777777777778,\"#6ece58\"],[0.8888888888888888,\"#b5de2b\"],[1.0,\"#fde725\"]],\"sequentialminus\":[[0.0,\"#440154\"],[0.1111111111111111,\"#482878\"],[0.2222222222222222,\"#3e4989\"],[0.3333333333333333,\"#31688e\"],[0.4444444444444444,\"#26828e\"],[0.5555555555555556,\"#1f9e89\"],[0.6666666666666666,\"#35b779\"],[0.7777777777777778,\"#6ece58\"],[0.8888888888888888,\"#b5de2b\"],[1.0,\"#fde725\"]]},\"colorway\":[\"#1F77B4\",\"#FF7F0E\",\"#2CA02C\",\"#D62728\",\"#9467BD\",\"#8C564B\",\"#E377C2\",\"#7F7F7F\",\"#BCBD22\",\"#17BECF\"],\"font\":{\"color\":\"rgb(36,36,36)\"},\"geo\":{\"bgcolor\":\"white\",\"lakecolor\":\"white\",\"landcolor\":\"white\",\"showlakes\":true,\"showland\":true,\"subunitcolor\":\"white\"},\"hoverlabel\":{\"align\":\"left\"},\"hovermode\":\"closest\",\"mapbox\":{\"style\":\"light\"},\"paper_bgcolor\":\"white\",\"plot_bgcolor\":\"white\",\"polar\":{\"angularaxis\":{\"gridcolor\":\"rgb(232,232,232)\",\"linecolor\":\"rgb(36,36,36)\",\"showgrid\":false,\"showline\":true,\"ticks\":\"outside\"},\"bgcolor\":\"white\",\"radialaxis\":{\"gridcolor\":\"rgb(232,232,232)\",\"linecolor\":\"rgb(36,36,36)\",\"showgrid\":false,\"showline\":true,\"ticks\":\"outside\"}},\"scene\":{\"xaxis\":{\"backgroundcolor\":\"white\",\"gridcolor\":\"rgb(232,232,232)\",\"gridwidth\":2,\"linecolor\":\"rgb(36,36,36)\",\"showbackground\":true,\"showgrid\":false,\"showline\":true,\"ticks\":\"outside\",\"zeroline\":false,\"zerolinecolor\":\"rgb(36,36,36)\"},\"yaxis\":{\"backgroundcolor\":\"white\",\"gridcolor\":\"rgb(232,232,232)\",\"gridwidth\":2,\"linecolor\":\"rgb(36,36,36)\",\"showbackground\":true,\"showgrid\":false,\"showline\":true,\"ticks\":\"outside\",\"zeroline\":false,\"zerolinecolor\":\"rgb(36,36,36)\"},\"zaxis\":{\"backgroundcolor\":\"white\",\"gridcolor\":\"rgb(232,232,232)\",\"gridwidth\":2,\"linecolor\":\"rgb(36,36,36)\",\"showbackground\":true,\"showgrid\":false,\"showline\":true,\"ticks\":\"outside\",\"zeroline\":false,\"zerolinecolor\":\"rgb(36,36,36)\"}},\"shapedefaults\":{\"fillcolor\":\"black\",\"line\":{\"width\":0},\"opacity\":0.3},\"ternary\":{\"aaxis\":{\"gridcolor\":\"rgb(232,232,232)\",\"linecolor\":\"rgb(36,36,36)\",\"showgrid\":false,\"showline\":true,\"ticks\":\"outside\"},\"baxis\":{\"gridcolor\":\"rgb(232,232,232)\",\"linecolor\":\"rgb(36,36,36)\",\"showgrid\":false,\"showline\":true,\"ticks\":\"outside\"},\"bgcolor\":\"white\",\"caxis\":{\"gridcolor\":\"rgb(232,232,232)\",\"linecolor\":\"rgb(36,36,36)\",\"showgrid\":false,\"showline\":true,\"ticks\":\"outside\"}},\"title\":{\"x\":0.05},\"xaxis\":{\"automargin\":true,\"gridcolor\":\"rgb(232,232,232)\",\"linecolor\":\"rgb(36,36,36)\",\"showgrid\":false,\"showline\":true,\"ticks\":\"outside\",\"title\":{\"standoff\":15},\"zeroline\":false,\"zerolinecolor\":\"rgb(36,36,36)\"},\"yaxis\":{\"automargin\":true,\"gridcolor\":\"rgb(232,232,232)\",\"linecolor\":\"rgb(36,36,36)\",\"showgrid\":false,\"showline\":true,\"ticks\":\"outside\",\"title\":{\"standoff\":15},\"zeroline\":false,\"zerolinecolor\":\"rgb(36,36,36)\"}}},\"xaxis\":{\"anchor\":\"y\",\"domain\":[0.0,1.0],\"title\":{\"text\":\"Protein Name\"}},\"yaxis\":{\"anchor\":\"x\",\"domain\":[0.0,1.0],\"title\":{\"text\":\"Fraction\"}},\"legend\":{\"title\":{\"text\":\"Category\"},\"tracegroupgap\":0},\"title\":{\"text\":\"Fraction of Sequence Modeled with Very High Confidence (pLDDT \\u003e 90)\"},\"barmode\":\"relative\",\"height\":600,\"width\":1200},                        {\"responsive\": true}                    ).then(function(){\n                            \nvar gd = document.getElementById('b0ca0ebf-f8b6-475a-8c70-6ffaaf590e46');\nvar x = new MutationObserver(function (mutations, observer) {{\n        var display = window.getComputedStyle(gd).display;\n        if (!display || display === 'none') {{\n            console.log([gd, 'removed!']);\n            Plotly.purge(gd);\n            observer.disconnect();\n        }}\n}});\n\n// Listen for the removal of the full notebook cells\nvar notebookContainer = gd.closest('#notebook-container');\nif (notebookContainer) {{\n    x.observe(notebookContainer, {childList: true});\n}}\n\n// Listen for the clearing of the current output cell\nvar outputEl = gd.closest('.output');\nif (outputEl) {{\n    x.observe(outputEl, {childList: true});\n}}\n\n                        })                };                });            </script>        </div>"
     },
     "metadata": {},
     "output_type": "display_data"
    }
   ],
   "source": [
    "fig.show()"
   ],
   "metadata": {
    "collapsed": false,
    "ExecuteTime": {
     "end_time": "2024-02-21T19:14:26.742292Z",
     "start_time": "2024-02-21T19:14:26.726107Z"
    }
   },
   "id": "c866f08d914ec541",
   "execution_count": 63
  },
  {
   "cell_type": "code",
   "outputs": [],
   "source": [
    "fig.write_image(Path('..') / 'figures' / 'alphafold_confidence.png')"
   ],
   "metadata": {
    "collapsed": false,
    "ExecuteTime": {
     "end_time": "2024-02-21T19:14:59.947837Z",
     "start_time": "2024-02-21T19:14:58.660118Z"
    }
   },
   "id": "3e3c59c981eadc19",
   "execution_count": 64
  },
  {
   "cell_type": "code",
   "outputs": [
    {
     "data": {
      "text/plain": "57"
     },
     "execution_count": 65,
     "metadata": {},
     "output_type": "execute_result"
    }
   ],
   "source": [
    "len(confidence_dict)"
   ],
   "metadata": {
    "collapsed": false,
    "ExecuteTime": {
     "end_time": "2024-02-21T19:14:59.973118Z",
     "start_time": "2024-02-21T19:14:59.951210Z"
    }
   },
   "id": "2eaa5d7e31548fce",
   "execution_count": 65
  },
  {
   "cell_type": "markdown",
   "source": [
    "# Combine info"
   ],
   "metadata": {
    "collapsed": false
   },
   "id": "d281869d41d518f7"
  },
  {
   "cell_type": "code",
   "outputs": [],
   "source": [
    "data_dict = {af.components[0].name: af for af in af_structures}"
   ],
   "metadata": {
    "collapsed": false,
    "ExecuteTime": {
     "end_time": "2024-02-21T19:15:02.231078Z",
     "start_time": "2024-02-21T19:15:02.209302Z"
    }
   },
   "id": "f6b8ba8c664ab315",
   "execution_count": 66
  },
  {
   "cell_type": "code",
   "outputs": [
    {
     "data": {
      "text/plain": "57"
     },
     "execution_count": 67,
     "metadata": {},
     "output_type": "execute_result"
    }
   ],
   "source": [
    "len(data_dict)"
   ],
   "metadata": {
    "collapsed": false,
    "ExecuteTime": {
     "end_time": "2024-02-21T19:15:02.675176Z",
     "start_time": "2024-02-21T19:15:02.638348Z"
    }
   },
   "id": "1c5ccbda62291c0",
   "execution_count": 67
  },
  {
   "cell_type": "markdown",
   "source": [
    "# Analyze Experimental Structures"
   ],
   "metadata": {
    "collapsed": false
   },
   "id": "69f85610f85fd454"
  },
  {
   "cell_type": "code",
   "outputs": [
    {
     "data": {
      "text/plain": "<module 'avoidome.target' from '/Users/alexpayne/Scientific_Projects/avoidome-analysis/avoidome/target.py'>"
     },
     "execution_count": 47,
     "metadata": {},
     "output_type": "execute_result"
    }
   ],
   "source": [
    "import avoidome.target as target\n",
    "reload(target)"
   ],
   "metadata": {
    "collapsed": false,
    "ExecuteTime": {
     "end_time": "2024-02-21T20:07:40.478713Z",
     "start_time": "2024-02-21T20:07:40.449747Z"
    }
   },
   "id": "c5865a0b4af05091",
   "execution_count": 47
  },
  {
   "cell_type": "code",
   "outputs": [
    {
     "name": "stderr",
     "output_type": "stream",
     "text": [
      "100%|██████████| 57/57 [00:07<00:00,  7.15it/s]\n"
     ]
    }
   ],
   "source": [
    "tsds = [target.TargetStructureData.from_uniprot_entry(ue) for ue in tqdm(uniprot_entries)]"
   ],
   "metadata": {
    "collapsed": false,
    "ExecuteTime": {
     "end_time": "2024-02-21T20:07:48.979641Z",
     "start_time": "2024-02-21T20:07:40.995885Z"
    }
   },
   "id": "69abd50b9ec82c05",
   "execution_count": 48
  },
  {
   "cell_type": "code",
   "outputs": [
    {
     "data": {
      "text/plain": "57"
     },
     "execution_count": 49,
     "metadata": {},
     "output_type": "execute_result"
    }
   ],
   "source": [
    "len(tsds)"
   ],
   "metadata": {
    "collapsed": false,
    "ExecuteTime": {
     "end_time": "2024-02-21T20:07:48.991138Z",
     "start_time": "2024-02-21T20:07:48.979717Z"
    }
   },
   "id": "6916933b39c15d9c",
   "execution_count": 49
  },
  {
   "cell_type": "code",
   "outputs": [],
   "source": [
    "tsd = tsds[0]"
   ],
   "metadata": {
    "collapsed": false,
    "ExecuteTime": {
     "end_time": "2024-02-21T20:07:48.993135Z",
     "start_time": "2024-02-21T20:07:48.984248Z"
    }
   },
   "id": "d22edd9d663b6cbc",
   "execution_count": 50
  },
  {
   "cell_type": "code",
   "outputs": [
    {
     "data": {
      "text/plain": "'NR1I2_HUMAN'"
     },
     "execution_count": 51,
     "metadata": {},
     "output_type": "execute_result"
    }
   ],
   "source": [
    "tsd.target_name"
   ],
   "metadata": {
    "collapsed": false,
    "ExecuteTime": {
     "end_time": "2024-02-21T20:07:49.029484Z",
     "start_time": "2024-02-21T20:07:48.994001Z"
    }
   },
   "id": "99c9155d60076f6c",
   "execution_count": 51
  },
  {
   "cell_type": "code",
   "outputs": [
    {
     "data": {
      "text/plain": "53"
     },
     "execution_count": 52,
     "metadata": {},
     "output_type": "execute_result"
    }
   ],
   "source": [
    "tsd.n_experimental_structures"
   ],
   "metadata": {
    "collapsed": false,
    "ExecuteTime": {
     "end_time": "2024-02-21T20:07:49.032153Z",
     "start_time": "2024-02-21T20:07:48.998729Z"
    }
   },
   "id": "6a98d60eb597428",
   "execution_count": 52
  },
  {
   "cell_type": "code",
   "outputs": [
    {
     "data": {
      "text/plain": "1"
     },
     "execution_count": 53,
     "metadata": {},
     "output_type": "execute_result"
    }
   ],
   "source": [
    "tsd.n_predicted_structures"
   ],
   "metadata": {
    "collapsed": false,
    "ExecuteTime": {
     "end_time": "2024-02-21T20:07:49.044493Z",
     "start_time": "2024-02-21T20:07:49.006170Z"
    }
   },
   "id": "f335c1276e2d046",
   "execution_count": 53
  },
  {
   "cell_type": "code",
   "outputs": [
    {
     "data": {
      "text/plain": "0.6972437179375708"
     },
     "execution_count": 54,
     "metadata": {},
     "output_type": "execute_result"
    }
   ],
   "source": [
    "tsd.average_coverage"
   ],
   "metadata": {
    "collapsed": false,
    "ExecuteTime": {
     "end_time": "2024-02-21T20:07:49.046671Z",
     "start_time": "2024-02-21T20:07:49.013623Z"
    }
   },
   "id": "fc673df4902c3606",
   "execution_count": 54
  },
  {
   "cell_type": "code",
   "outputs": [
    {
     "data": {
      "text/plain": "85.43"
     },
     "execution_count": 55,
     "metadata": {},
     "output_type": "execute_result"
    }
   ],
   "source": [
    "tsd.average_confidence"
   ],
   "metadata": {
    "collapsed": false,
    "ExecuteTime": {
     "end_time": "2024-02-21T20:07:49.048654Z",
     "start_time": "2024-02-21T20:07:49.019743Z"
    }
   },
   "id": "256ef885ac25dafa",
   "execution_count": 55
  },
  {
   "cell_type": "code",
   "outputs": [],
   "source": [
    "coverages = [exp_struc.sequence_coverage for exp_struc in tsd.experimental_structures]"
   ],
   "metadata": {
    "collapsed": false,
    "ExecuteTime": {
     "end_time": "2024-02-21T20:07:49.131918Z",
     "start_time": "2024-02-21T20:07:49.023349Z"
    }
   },
   "id": "2c6b62a89e05f892",
   "execution_count": 56
  },
  {
   "cell_type": "code",
   "outputs": [
    {
     "data": {
      "application/vnd.plotly.v1+json": {
       "data": [
        {
         "alignmentgroup": "True",
         "bingroup": "x",
         "hovertemplate": "variable=0<br>value=%{x}<br>count=%{y}<extra></extra>",
         "legendgroup": "0",
         "marker": {
          "color": "#636efa",
          "pattern": {
           "shape": ""
          }
         },
         "name": "0",
         "offsetgroup": "0",
         "orientation": "v",
         "showlegend": true,
         "x": [
          304.0,
          304.0,
          304.0,
          304.0,
          301.0,
          292.0,
          304.0,
          304.0,
          304.0,
          304.0,
          304.0,
          304.0,
          289.0,
          304.0,
          304.0,
          304.0,
          304.0,
          304.0,
          304.0,
          302.0,
          304.0,
          304.0,
          296.0,
          304.0,
          305.0,
          304.0,
          304.0,
          296.0,
          305.0,
          304.0,
          304.0,
          304.0,
          304.0,
          304.0,
          304.0,
          304.0,
          304.0,
          304.0,
          304.0,
          304.0,
          304.0,
          304.0,
          304.0,
          304.0,
          297.0,
          297.0,
          297.0,
          297.0,
          304.0,
          304.0,
          304.0,
          304.0,
          304.0
         ],
         "xaxis": "x",
         "yaxis": "y",
         "type": "histogram"
        }
       ],
       "layout": {
        "template": {
         "data": {
          "histogram2dcontour": [
           {
            "type": "histogram2dcontour",
            "colorbar": {
             "outlinewidth": 0,
             "ticks": ""
            },
            "colorscale": [
             [
              0.0,
              "#0d0887"
             ],
             [
              0.1111111111111111,
              "#46039f"
             ],
             [
              0.2222222222222222,
              "#7201a8"
             ],
             [
              0.3333333333333333,
              "#9c179e"
             ],
             [
              0.4444444444444444,
              "#bd3786"
             ],
             [
              0.5555555555555556,
              "#d8576b"
             ],
             [
              0.6666666666666666,
              "#ed7953"
             ],
             [
              0.7777777777777778,
              "#fb9f3a"
             ],
             [
              0.8888888888888888,
              "#fdca26"
             ],
             [
              1.0,
              "#f0f921"
             ]
            ]
           }
          ],
          "choropleth": [
           {
            "type": "choropleth",
            "colorbar": {
             "outlinewidth": 0,
             "ticks": ""
            }
           }
          ],
          "histogram2d": [
           {
            "type": "histogram2d",
            "colorbar": {
             "outlinewidth": 0,
             "ticks": ""
            },
            "colorscale": [
             [
              0.0,
              "#0d0887"
             ],
             [
              0.1111111111111111,
              "#46039f"
             ],
             [
              0.2222222222222222,
              "#7201a8"
             ],
             [
              0.3333333333333333,
              "#9c179e"
             ],
             [
              0.4444444444444444,
              "#bd3786"
             ],
             [
              0.5555555555555556,
              "#d8576b"
             ],
             [
              0.6666666666666666,
              "#ed7953"
             ],
             [
              0.7777777777777778,
              "#fb9f3a"
             ],
             [
              0.8888888888888888,
              "#fdca26"
             ],
             [
              1.0,
              "#f0f921"
             ]
            ]
           }
          ],
          "heatmap": [
           {
            "type": "heatmap",
            "colorbar": {
             "outlinewidth": 0,
             "ticks": ""
            },
            "colorscale": [
             [
              0.0,
              "#0d0887"
             ],
             [
              0.1111111111111111,
              "#46039f"
             ],
             [
              0.2222222222222222,
              "#7201a8"
             ],
             [
              0.3333333333333333,
              "#9c179e"
             ],
             [
              0.4444444444444444,
              "#bd3786"
             ],
             [
              0.5555555555555556,
              "#d8576b"
             ],
             [
              0.6666666666666666,
              "#ed7953"
             ],
             [
              0.7777777777777778,
              "#fb9f3a"
             ],
             [
              0.8888888888888888,
              "#fdca26"
             ],
             [
              1.0,
              "#f0f921"
             ]
            ]
           }
          ],
          "heatmapgl": [
           {
            "type": "heatmapgl",
            "colorbar": {
             "outlinewidth": 0,
             "ticks": ""
            },
            "colorscale": [
             [
              0.0,
              "#0d0887"
             ],
             [
              0.1111111111111111,
              "#46039f"
             ],
             [
              0.2222222222222222,
              "#7201a8"
             ],
             [
              0.3333333333333333,
              "#9c179e"
             ],
             [
              0.4444444444444444,
              "#bd3786"
             ],
             [
              0.5555555555555556,
              "#d8576b"
             ],
             [
              0.6666666666666666,
              "#ed7953"
             ],
             [
              0.7777777777777778,
              "#fb9f3a"
             ],
             [
              0.8888888888888888,
              "#fdca26"
             ],
             [
              1.0,
              "#f0f921"
             ]
            ]
           }
          ],
          "contourcarpet": [
           {
            "type": "contourcarpet",
            "colorbar": {
             "outlinewidth": 0,
             "ticks": ""
            }
           }
          ],
          "contour": [
           {
            "type": "contour",
            "colorbar": {
             "outlinewidth": 0,
             "ticks": ""
            },
            "colorscale": [
             [
              0.0,
              "#0d0887"
             ],
             [
              0.1111111111111111,
              "#46039f"
             ],
             [
              0.2222222222222222,
              "#7201a8"
             ],
             [
              0.3333333333333333,
              "#9c179e"
             ],
             [
              0.4444444444444444,
              "#bd3786"
             ],
             [
              0.5555555555555556,
              "#d8576b"
             ],
             [
              0.6666666666666666,
              "#ed7953"
             ],
             [
              0.7777777777777778,
              "#fb9f3a"
             ],
             [
              0.8888888888888888,
              "#fdca26"
             ],
             [
              1.0,
              "#f0f921"
             ]
            ]
           }
          ],
          "surface": [
           {
            "type": "surface",
            "colorbar": {
             "outlinewidth": 0,
             "ticks": ""
            },
            "colorscale": [
             [
              0.0,
              "#0d0887"
             ],
             [
              0.1111111111111111,
              "#46039f"
             ],
             [
              0.2222222222222222,
              "#7201a8"
             ],
             [
              0.3333333333333333,
              "#9c179e"
             ],
             [
              0.4444444444444444,
              "#bd3786"
             ],
             [
              0.5555555555555556,
              "#d8576b"
             ],
             [
              0.6666666666666666,
              "#ed7953"
             ],
             [
              0.7777777777777778,
              "#fb9f3a"
             ],
             [
              0.8888888888888888,
              "#fdca26"
             ],
             [
              1.0,
              "#f0f921"
             ]
            ]
           }
          ],
          "mesh3d": [
           {
            "type": "mesh3d",
            "colorbar": {
             "outlinewidth": 0,
             "ticks": ""
            }
           }
          ],
          "scatter": [
           {
            "marker": {
             "line": {
              "color": "#283442"
             }
            },
            "type": "scatter"
           }
          ],
          "parcoords": [
           {
            "type": "parcoords",
            "line": {
             "colorbar": {
              "outlinewidth": 0,
              "ticks": ""
             }
            }
           }
          ],
          "scatterpolargl": [
           {
            "type": "scatterpolargl",
            "marker": {
             "colorbar": {
              "outlinewidth": 0,
              "ticks": ""
             }
            }
           }
          ],
          "bar": [
           {
            "error_x": {
             "color": "#f2f5fa"
            },
            "error_y": {
             "color": "#f2f5fa"
            },
            "marker": {
             "line": {
              "color": "rgb(17,17,17)",
              "width": 0.5
             },
             "pattern": {
              "fillmode": "overlay",
              "size": 10,
              "solidity": 0.2
             }
            },
            "type": "bar"
           }
          ],
          "scattergeo": [
           {
            "type": "scattergeo",
            "marker": {
             "colorbar": {
              "outlinewidth": 0,
              "ticks": ""
             }
            }
           }
          ],
          "scatterpolar": [
           {
            "type": "scatterpolar",
            "marker": {
             "colorbar": {
              "outlinewidth": 0,
              "ticks": ""
             }
            }
           }
          ],
          "histogram": [
           {
            "marker": {
             "pattern": {
              "fillmode": "overlay",
              "size": 10,
              "solidity": 0.2
             }
            },
            "type": "histogram"
           }
          ],
          "scattergl": [
           {
            "marker": {
             "line": {
              "color": "#283442"
             }
            },
            "type": "scattergl"
           }
          ],
          "scatter3d": [
           {
            "type": "scatter3d",
            "line": {
             "colorbar": {
              "outlinewidth": 0,
              "ticks": ""
             }
            },
            "marker": {
             "colorbar": {
              "outlinewidth": 0,
              "ticks": ""
             }
            }
           }
          ],
          "scattermapbox": [
           {
            "type": "scattermapbox",
            "marker": {
             "colorbar": {
              "outlinewidth": 0,
              "ticks": ""
             }
            }
           }
          ],
          "scatterternary": [
           {
            "type": "scatterternary",
            "marker": {
             "colorbar": {
              "outlinewidth": 0,
              "ticks": ""
             }
            }
           }
          ],
          "scattercarpet": [
           {
            "type": "scattercarpet",
            "marker": {
             "colorbar": {
              "outlinewidth": 0,
              "ticks": ""
             }
            }
           }
          ],
          "carpet": [
           {
            "aaxis": {
             "endlinecolor": "#A2B1C6",
             "gridcolor": "#506784",
             "linecolor": "#506784",
             "minorgridcolor": "#506784",
             "startlinecolor": "#A2B1C6"
            },
            "baxis": {
             "endlinecolor": "#A2B1C6",
             "gridcolor": "#506784",
             "linecolor": "#506784",
             "minorgridcolor": "#506784",
             "startlinecolor": "#A2B1C6"
            },
            "type": "carpet"
           }
          ],
          "table": [
           {
            "cells": {
             "fill": {
              "color": "#506784"
             },
             "line": {
              "color": "rgb(17,17,17)"
             }
            },
            "header": {
             "fill": {
              "color": "#2a3f5f"
             },
             "line": {
              "color": "rgb(17,17,17)"
             }
            },
            "type": "table"
           }
          ],
          "barpolar": [
           {
            "marker": {
             "line": {
              "color": "rgb(17,17,17)",
              "width": 0.5
             },
             "pattern": {
              "fillmode": "overlay",
              "size": 10,
              "solidity": 0.2
             }
            },
            "type": "barpolar"
           }
          ],
          "pie": [
           {
            "automargin": true,
            "type": "pie"
           }
          ]
         },
         "layout": {
          "autotypenumbers": "strict",
          "colorway": [
           "#636efa",
           "#EF553B",
           "#00cc96",
           "#ab63fa",
           "#FFA15A",
           "#19d3f3",
           "#FF6692",
           "#B6E880",
           "#FF97FF",
           "#FECB52"
          ],
          "font": {
           "color": "#f2f5fa"
          },
          "hovermode": "closest",
          "hoverlabel": {
           "align": "left"
          },
          "paper_bgcolor": "rgb(17,17,17)",
          "plot_bgcolor": "rgb(17,17,17)",
          "polar": {
           "bgcolor": "rgb(17,17,17)",
           "angularaxis": {
            "gridcolor": "#506784",
            "linecolor": "#506784",
            "ticks": ""
           },
           "radialaxis": {
            "gridcolor": "#506784",
            "linecolor": "#506784",
            "ticks": ""
           }
          },
          "ternary": {
           "bgcolor": "rgb(17,17,17)",
           "aaxis": {
            "gridcolor": "#506784",
            "linecolor": "#506784",
            "ticks": ""
           },
           "baxis": {
            "gridcolor": "#506784",
            "linecolor": "#506784",
            "ticks": ""
           },
           "caxis": {
            "gridcolor": "#506784",
            "linecolor": "#506784",
            "ticks": ""
           }
          },
          "coloraxis": {
           "colorbar": {
            "outlinewidth": 0,
            "ticks": ""
           }
          },
          "colorscale": {
           "sequential": [
            [
             0.0,
             "#0d0887"
            ],
            [
             0.1111111111111111,
             "#46039f"
            ],
            [
             0.2222222222222222,
             "#7201a8"
            ],
            [
             0.3333333333333333,
             "#9c179e"
            ],
            [
             0.4444444444444444,
             "#bd3786"
            ],
            [
             0.5555555555555556,
             "#d8576b"
            ],
            [
             0.6666666666666666,
             "#ed7953"
            ],
            [
             0.7777777777777778,
             "#fb9f3a"
            ],
            [
             0.8888888888888888,
             "#fdca26"
            ],
            [
             1.0,
             "#f0f921"
            ]
           ],
           "sequentialminus": [
            [
             0.0,
             "#0d0887"
            ],
            [
             0.1111111111111111,
             "#46039f"
            ],
            [
             0.2222222222222222,
             "#7201a8"
            ],
            [
             0.3333333333333333,
             "#9c179e"
            ],
            [
             0.4444444444444444,
             "#bd3786"
            ],
            [
             0.5555555555555556,
             "#d8576b"
            ],
            [
             0.6666666666666666,
             "#ed7953"
            ],
            [
             0.7777777777777778,
             "#fb9f3a"
            ],
            [
             0.8888888888888888,
             "#fdca26"
            ],
            [
             1.0,
             "#f0f921"
            ]
           ],
           "diverging": [
            [
             0,
             "#8e0152"
            ],
            [
             0.1,
             "#c51b7d"
            ],
            [
             0.2,
             "#de77ae"
            ],
            [
             0.3,
             "#f1b6da"
            ],
            [
             0.4,
             "#fde0ef"
            ],
            [
             0.5,
             "#f7f7f7"
            ],
            [
             0.6,
             "#e6f5d0"
            ],
            [
             0.7,
             "#b8e186"
            ],
            [
             0.8,
             "#7fbc41"
            ],
            [
             0.9,
             "#4d9221"
            ],
            [
             1,
             "#276419"
            ]
           ]
          },
          "xaxis": {
           "gridcolor": "#283442",
           "linecolor": "#506784",
           "ticks": "",
           "title": {
            "standoff": 15
           },
           "zerolinecolor": "#283442",
           "automargin": true,
           "zerolinewidth": 2
          },
          "yaxis": {
           "gridcolor": "#283442",
           "linecolor": "#506784",
           "ticks": "",
           "title": {
            "standoff": 15
           },
           "zerolinecolor": "#283442",
           "automargin": true,
           "zerolinewidth": 2
          },
          "scene": {
           "xaxis": {
            "backgroundcolor": "rgb(17,17,17)",
            "gridcolor": "#506784",
            "linecolor": "#506784",
            "showbackground": true,
            "ticks": "",
            "zerolinecolor": "#C8D4E3",
            "gridwidth": 2
           },
           "yaxis": {
            "backgroundcolor": "rgb(17,17,17)",
            "gridcolor": "#506784",
            "linecolor": "#506784",
            "showbackground": true,
            "ticks": "",
            "zerolinecolor": "#C8D4E3",
            "gridwidth": 2
           },
           "zaxis": {
            "backgroundcolor": "rgb(17,17,17)",
            "gridcolor": "#506784",
            "linecolor": "#506784",
            "showbackground": true,
            "ticks": "",
            "zerolinecolor": "#C8D4E3",
            "gridwidth": 2
           }
          },
          "shapedefaults": {
           "line": {
            "color": "#f2f5fa"
           }
          },
          "annotationdefaults": {
           "arrowcolor": "#f2f5fa",
           "arrowhead": 0,
           "arrowwidth": 1
          },
          "geo": {
           "bgcolor": "rgb(17,17,17)",
           "landcolor": "rgb(17,17,17)",
           "subunitcolor": "#506784",
           "showland": true,
           "showlakes": true,
           "lakecolor": "rgb(17,17,17)"
          },
          "title": {
           "x": 0.05
          },
          "updatemenudefaults": {
           "bgcolor": "#506784",
           "borderwidth": 0
          },
          "sliderdefaults": {
           "bgcolor": "#C8D4E3",
           "borderwidth": 1,
           "bordercolor": "rgb(17,17,17)",
           "tickwidth": 0
          },
          "mapbox": {
           "style": "dark"
          }
         }
        },
        "xaxis": {
         "anchor": "y",
         "domain": [
          0.0,
          1.0
         ],
         "title": {
          "text": "value"
         }
        },
        "yaxis": {
         "anchor": "x",
         "domain": [
          0.0,
          1.0
         ],
         "title": {
          "text": "count"
         }
        },
        "legend": {
         "title": {
          "text": "variable"
         },
         "tracegroupgap": 0
        },
        "margin": {
         "t": 60
        },
        "barmode": "relative"
       },
       "config": {
        "plotlyServerURL": "https://plot.ly"
       }
      },
      "text/html": "<div>                            <div id=\"5b5398b5-c04a-4848-a8b4-c57006793db0\" class=\"plotly-graph-div\" style=\"height:525px; width:100%;\"></div>            <script type=\"text/javascript\">                require([\"plotly\"], function(Plotly) {                    window.PLOTLYENV=window.PLOTLYENV || {};                                    if (document.getElementById(\"5b5398b5-c04a-4848-a8b4-c57006793db0\")) {                    Plotly.newPlot(                        \"5b5398b5-c04a-4848-a8b4-c57006793db0\",                        [{\"alignmentgroup\":\"True\",\"bingroup\":\"x\",\"hovertemplate\":\"variable=0\\u003cbr\\u003evalue=%{x}\\u003cbr\\u003ecount=%{y}\\u003cextra\\u003e\\u003c\\u002fextra\\u003e\",\"legendgroup\":\"0\",\"marker\":{\"color\":\"#636efa\",\"pattern\":{\"shape\":\"\"}},\"name\":\"0\",\"offsetgroup\":\"0\",\"orientation\":\"v\",\"showlegend\":true,\"x\":[304.0,304.0,304.0,304.0,301.0,292.0,304.0,304.0,304.0,304.0,304.0,304.0,289.0,304.0,304.0,304.0,304.0,304.0,304.0,302.0,304.0,304.0,296.0,304.0,305.0,304.0,304.0,296.0,305.0,304.0,304.0,304.0,304.0,304.0,304.0,304.0,304.0,304.0,304.0,304.0,304.0,304.0,304.0,304.0,297.0,297.0,297.0,297.0,304.0,304.0,304.0,304.0,304.0],\"xaxis\":\"x\",\"yaxis\":\"y\",\"type\":\"histogram\"}],                        {\"template\":{\"data\":{\"histogram2dcontour\":[{\"type\":\"histogram2dcontour\",\"colorbar\":{\"outlinewidth\":0,\"ticks\":\"\"},\"colorscale\":[[0.0,\"#0d0887\"],[0.1111111111111111,\"#46039f\"],[0.2222222222222222,\"#7201a8\"],[0.3333333333333333,\"#9c179e\"],[0.4444444444444444,\"#bd3786\"],[0.5555555555555556,\"#d8576b\"],[0.6666666666666666,\"#ed7953\"],[0.7777777777777778,\"#fb9f3a\"],[0.8888888888888888,\"#fdca26\"],[1.0,\"#f0f921\"]]}],\"choropleth\":[{\"type\":\"choropleth\",\"colorbar\":{\"outlinewidth\":0,\"ticks\":\"\"}}],\"histogram2d\":[{\"type\":\"histogram2d\",\"colorbar\":{\"outlinewidth\":0,\"ticks\":\"\"},\"colorscale\":[[0.0,\"#0d0887\"],[0.1111111111111111,\"#46039f\"],[0.2222222222222222,\"#7201a8\"],[0.3333333333333333,\"#9c179e\"],[0.4444444444444444,\"#bd3786\"],[0.5555555555555556,\"#d8576b\"],[0.6666666666666666,\"#ed7953\"],[0.7777777777777778,\"#fb9f3a\"],[0.8888888888888888,\"#fdca26\"],[1.0,\"#f0f921\"]]}],\"heatmap\":[{\"type\":\"heatmap\",\"colorbar\":{\"outlinewidth\":0,\"ticks\":\"\"},\"colorscale\":[[0.0,\"#0d0887\"],[0.1111111111111111,\"#46039f\"],[0.2222222222222222,\"#7201a8\"],[0.3333333333333333,\"#9c179e\"],[0.4444444444444444,\"#bd3786\"],[0.5555555555555556,\"#d8576b\"],[0.6666666666666666,\"#ed7953\"],[0.7777777777777778,\"#fb9f3a\"],[0.8888888888888888,\"#fdca26\"],[1.0,\"#f0f921\"]]}],\"heatmapgl\":[{\"type\":\"heatmapgl\",\"colorbar\":{\"outlinewidth\":0,\"ticks\":\"\"},\"colorscale\":[[0.0,\"#0d0887\"],[0.1111111111111111,\"#46039f\"],[0.2222222222222222,\"#7201a8\"],[0.3333333333333333,\"#9c179e\"],[0.4444444444444444,\"#bd3786\"],[0.5555555555555556,\"#d8576b\"],[0.6666666666666666,\"#ed7953\"],[0.7777777777777778,\"#fb9f3a\"],[0.8888888888888888,\"#fdca26\"],[1.0,\"#f0f921\"]]}],\"contourcarpet\":[{\"type\":\"contourcarpet\",\"colorbar\":{\"outlinewidth\":0,\"ticks\":\"\"}}],\"contour\":[{\"type\":\"contour\",\"colorbar\":{\"outlinewidth\":0,\"ticks\":\"\"},\"colorscale\":[[0.0,\"#0d0887\"],[0.1111111111111111,\"#46039f\"],[0.2222222222222222,\"#7201a8\"],[0.3333333333333333,\"#9c179e\"],[0.4444444444444444,\"#bd3786\"],[0.5555555555555556,\"#d8576b\"],[0.6666666666666666,\"#ed7953\"],[0.7777777777777778,\"#fb9f3a\"],[0.8888888888888888,\"#fdca26\"],[1.0,\"#f0f921\"]]}],\"surface\":[{\"type\":\"surface\",\"colorbar\":{\"outlinewidth\":0,\"ticks\":\"\"},\"colorscale\":[[0.0,\"#0d0887\"],[0.1111111111111111,\"#46039f\"],[0.2222222222222222,\"#7201a8\"],[0.3333333333333333,\"#9c179e\"],[0.4444444444444444,\"#bd3786\"],[0.5555555555555556,\"#d8576b\"],[0.6666666666666666,\"#ed7953\"],[0.7777777777777778,\"#fb9f3a\"],[0.8888888888888888,\"#fdca26\"],[1.0,\"#f0f921\"]]}],\"mesh3d\":[{\"type\":\"mesh3d\",\"colorbar\":{\"outlinewidth\":0,\"ticks\":\"\"}}],\"scatter\":[{\"marker\":{\"line\":{\"color\":\"#283442\"}},\"type\":\"scatter\"}],\"parcoords\":[{\"type\":\"parcoords\",\"line\":{\"colorbar\":{\"outlinewidth\":0,\"ticks\":\"\"}}}],\"scatterpolargl\":[{\"type\":\"scatterpolargl\",\"marker\":{\"colorbar\":{\"outlinewidth\":0,\"ticks\":\"\"}}}],\"bar\":[{\"error_x\":{\"color\":\"#f2f5fa\"},\"error_y\":{\"color\":\"#f2f5fa\"},\"marker\":{\"line\":{\"color\":\"rgb(17,17,17)\",\"width\":0.5},\"pattern\":{\"fillmode\":\"overlay\",\"size\":10,\"solidity\":0.2}},\"type\":\"bar\"}],\"scattergeo\":[{\"type\":\"scattergeo\",\"marker\":{\"colorbar\":{\"outlinewidth\":0,\"ticks\":\"\"}}}],\"scatterpolar\":[{\"type\":\"scatterpolar\",\"marker\":{\"colorbar\":{\"outlinewidth\":0,\"ticks\":\"\"}}}],\"histogram\":[{\"marker\":{\"pattern\":{\"fillmode\":\"overlay\",\"size\":10,\"solidity\":0.2}},\"type\":\"histogram\"}],\"scattergl\":[{\"marker\":{\"line\":{\"color\":\"#283442\"}},\"type\":\"scattergl\"}],\"scatter3d\":[{\"type\":\"scatter3d\",\"line\":{\"colorbar\":{\"outlinewidth\":0,\"ticks\":\"\"}},\"marker\":{\"colorbar\":{\"outlinewidth\":0,\"ticks\":\"\"}}}],\"scattermapbox\":[{\"type\":\"scattermapbox\",\"marker\":{\"colorbar\":{\"outlinewidth\":0,\"ticks\":\"\"}}}],\"scatterternary\":[{\"type\":\"scatterternary\",\"marker\":{\"colorbar\":{\"outlinewidth\":0,\"ticks\":\"\"}}}],\"scattercarpet\":[{\"type\":\"scattercarpet\",\"marker\":{\"colorbar\":{\"outlinewidth\":0,\"ticks\":\"\"}}}],\"carpet\":[{\"aaxis\":{\"endlinecolor\":\"#A2B1C6\",\"gridcolor\":\"#506784\",\"linecolor\":\"#506784\",\"minorgridcolor\":\"#506784\",\"startlinecolor\":\"#A2B1C6\"},\"baxis\":{\"endlinecolor\":\"#A2B1C6\",\"gridcolor\":\"#506784\",\"linecolor\":\"#506784\",\"minorgridcolor\":\"#506784\",\"startlinecolor\":\"#A2B1C6\"},\"type\":\"carpet\"}],\"table\":[{\"cells\":{\"fill\":{\"color\":\"#506784\"},\"line\":{\"color\":\"rgb(17,17,17)\"}},\"header\":{\"fill\":{\"color\":\"#2a3f5f\"},\"line\":{\"color\":\"rgb(17,17,17)\"}},\"type\":\"table\"}],\"barpolar\":[{\"marker\":{\"line\":{\"color\":\"rgb(17,17,17)\",\"width\":0.5},\"pattern\":{\"fillmode\":\"overlay\",\"size\":10,\"solidity\":0.2}},\"type\":\"barpolar\"}],\"pie\":[{\"automargin\":true,\"type\":\"pie\"}]},\"layout\":{\"autotypenumbers\":\"strict\",\"colorway\":[\"#636efa\",\"#EF553B\",\"#00cc96\",\"#ab63fa\",\"#FFA15A\",\"#19d3f3\",\"#FF6692\",\"#B6E880\",\"#FF97FF\",\"#FECB52\"],\"font\":{\"color\":\"#f2f5fa\"},\"hovermode\":\"closest\",\"hoverlabel\":{\"align\":\"left\"},\"paper_bgcolor\":\"rgb(17,17,17)\",\"plot_bgcolor\":\"rgb(17,17,17)\",\"polar\":{\"bgcolor\":\"rgb(17,17,17)\",\"angularaxis\":{\"gridcolor\":\"#506784\",\"linecolor\":\"#506784\",\"ticks\":\"\"},\"radialaxis\":{\"gridcolor\":\"#506784\",\"linecolor\":\"#506784\",\"ticks\":\"\"}},\"ternary\":{\"bgcolor\":\"rgb(17,17,17)\",\"aaxis\":{\"gridcolor\":\"#506784\",\"linecolor\":\"#506784\",\"ticks\":\"\"},\"baxis\":{\"gridcolor\":\"#506784\",\"linecolor\":\"#506784\",\"ticks\":\"\"},\"caxis\":{\"gridcolor\":\"#506784\",\"linecolor\":\"#506784\",\"ticks\":\"\"}},\"coloraxis\":{\"colorbar\":{\"outlinewidth\":0,\"ticks\":\"\"}},\"colorscale\":{\"sequential\":[[0.0,\"#0d0887\"],[0.1111111111111111,\"#46039f\"],[0.2222222222222222,\"#7201a8\"],[0.3333333333333333,\"#9c179e\"],[0.4444444444444444,\"#bd3786\"],[0.5555555555555556,\"#d8576b\"],[0.6666666666666666,\"#ed7953\"],[0.7777777777777778,\"#fb9f3a\"],[0.8888888888888888,\"#fdca26\"],[1.0,\"#f0f921\"]],\"sequentialminus\":[[0.0,\"#0d0887\"],[0.1111111111111111,\"#46039f\"],[0.2222222222222222,\"#7201a8\"],[0.3333333333333333,\"#9c179e\"],[0.4444444444444444,\"#bd3786\"],[0.5555555555555556,\"#d8576b\"],[0.6666666666666666,\"#ed7953\"],[0.7777777777777778,\"#fb9f3a\"],[0.8888888888888888,\"#fdca26\"],[1.0,\"#f0f921\"]],\"diverging\":[[0,\"#8e0152\"],[0.1,\"#c51b7d\"],[0.2,\"#de77ae\"],[0.3,\"#f1b6da\"],[0.4,\"#fde0ef\"],[0.5,\"#f7f7f7\"],[0.6,\"#e6f5d0\"],[0.7,\"#b8e186\"],[0.8,\"#7fbc41\"],[0.9,\"#4d9221\"],[1,\"#276419\"]]},\"xaxis\":{\"gridcolor\":\"#283442\",\"linecolor\":\"#506784\",\"ticks\":\"\",\"title\":{\"standoff\":15},\"zerolinecolor\":\"#283442\",\"automargin\":true,\"zerolinewidth\":2},\"yaxis\":{\"gridcolor\":\"#283442\",\"linecolor\":\"#506784\",\"ticks\":\"\",\"title\":{\"standoff\":15},\"zerolinecolor\":\"#283442\",\"automargin\":true,\"zerolinewidth\":2},\"scene\":{\"xaxis\":{\"backgroundcolor\":\"rgb(17,17,17)\",\"gridcolor\":\"#506784\",\"linecolor\":\"#506784\",\"showbackground\":true,\"ticks\":\"\",\"zerolinecolor\":\"#C8D4E3\",\"gridwidth\":2},\"yaxis\":{\"backgroundcolor\":\"rgb(17,17,17)\",\"gridcolor\":\"#506784\",\"linecolor\":\"#506784\",\"showbackground\":true,\"ticks\":\"\",\"zerolinecolor\":\"#C8D4E3\",\"gridwidth\":2},\"zaxis\":{\"backgroundcolor\":\"rgb(17,17,17)\",\"gridcolor\":\"#506784\",\"linecolor\":\"#506784\",\"showbackground\":true,\"ticks\":\"\",\"zerolinecolor\":\"#C8D4E3\",\"gridwidth\":2}},\"shapedefaults\":{\"line\":{\"color\":\"#f2f5fa\"}},\"annotationdefaults\":{\"arrowcolor\":\"#f2f5fa\",\"arrowhead\":0,\"arrowwidth\":1},\"geo\":{\"bgcolor\":\"rgb(17,17,17)\",\"landcolor\":\"rgb(17,17,17)\",\"subunitcolor\":\"#506784\",\"showland\":true,\"showlakes\":true,\"lakecolor\":\"rgb(17,17,17)\"},\"title\":{\"x\":0.05},\"updatemenudefaults\":{\"bgcolor\":\"#506784\",\"borderwidth\":0},\"sliderdefaults\":{\"bgcolor\":\"#C8D4E3\",\"borderwidth\":1,\"bordercolor\":\"rgb(17,17,17)\",\"tickwidth\":0},\"mapbox\":{\"style\":\"dark\"}}},\"xaxis\":{\"anchor\":\"y\",\"domain\":[0.0,1.0],\"title\":{\"text\":\"value\"}},\"yaxis\":{\"anchor\":\"x\",\"domain\":[0.0,1.0],\"title\":{\"text\":\"count\"}},\"legend\":{\"title\":{\"text\":\"variable\"},\"tracegroupgap\":0},\"margin\":{\"t\":60},\"barmode\":\"relative\"},                        {\"responsive\": true}                    ).then(function(){\n                            \nvar gd = document.getElementById('5b5398b5-c04a-4848-a8b4-c57006793db0');\nvar x = new MutationObserver(function (mutations, observer) {{\n        var display = window.getComputedStyle(gd).display;\n        if (!display || display === 'none') {{\n            console.log([gd, 'removed!']);\n            Plotly.purge(gd);\n            observer.disconnect();\n        }}\n}});\n\n// Listen for the removal of the full notebook cells\nvar notebookContainer = gd.closest('#notebook-container');\nif (notebookContainer) {{\n    x.observe(notebookContainer, {childList: true});\n}}\n\n// Listen for the clearing of the current output cell\nvar outputEl = gd.closest('.output');\nif (outputEl) {{\n    x.observe(outputEl, {childList: true});\n}}\n\n                        })                };                });            </script>        </div>"
     },
     "metadata": {},
     "output_type": "display_data"
    }
   ],
   "source": [
    "px.histogram(coverages)"
   ],
   "metadata": {
    "collapsed": false,
    "ExecuteTime": {
     "end_time": "2024-02-21T20:07:49.175035Z",
     "start_time": "2024-02-21T20:07:49.040724Z"
    }
   },
   "id": "d7b602203b975024",
   "execution_count": 57
  },
  {
   "cell_type": "code",
   "outputs": [
    {
     "data": {
      "text/plain": "434"
     },
     "execution_count": 58,
     "metadata": {},
     "output_type": "execute_result"
    }
   ],
   "source": [
    "tsd.sequence_length"
   ],
   "metadata": {
    "collapsed": false,
    "ExecuteTime": {
     "end_time": "2024-02-21T20:07:49.177080Z",
     "start_time": "2024-02-21T20:07:49.086965Z"
    }
   },
   "id": "c55c9ceaca449fa1",
   "execution_count": 58
  },
  {
   "cell_type": "markdown",
   "source": [
    "# Plot Experimental Structures"
   ],
   "metadata": {
    "collapsed": false
   },
   "id": "bda0222b022fa793"
  },
  {
   "cell_type": "markdown",
   "source": [
    "1) violin plot with dots only\n",
    "2) color by category\n",
    "2) size is the % sequence coverage"
   ],
   "metadata": {
    "collapsed": false
   },
   "id": "1c42925ce2f294c5"
  },
  {
   "cell_type": "markdown",
   "source": [],
   "metadata": {
    "collapsed": false
   },
   "id": "3b182fea98345d94"
  },
  {
   "cell_type": "markdown",
   "source": [
    "## make tidy dataframe"
   ],
   "metadata": {
    "collapsed": false
   },
   "id": "70877585d0460c5a"
  },
  {
   "cell_type": "code",
   "outputs": [
    {
     "name": "stderr",
     "output_type": "stream",
     "text": [
      "/Users/alexpayne/miniforge-pypy3/envs/asapdiscovery/lib/python3.10/site-packages/numpy/core/fromnumeric.py:3432: RuntimeWarning:\n",
      "\n",
      "Mean of empty slice.\n",
      "\n",
      "/Users/alexpayne/miniforge-pypy3/envs/asapdiscovery/lib/python3.10/site-packages/numpy/core/_methods.py:190: RuntimeWarning:\n",
      "\n",
      "invalid value encountered in double_scalars\n",
      "\n"
     ]
    }
   ],
   "source": [
    "import avoidome.structures as structures\n",
    "import pandas as pd\n",
    "df = pd.concat([pd.DataFrame({'Protein Name': [f'{tsd.target_name.split(\"_\")[0]} ({tsd.uniprot_id})' for exp_struc in tsd.structures],\n",
    "                   'Category': [category_dict[tsd.uniprot_id] for exp_struc in tsd.structures],\n",
    "                   'Average Sequence Coverage': tsd.average_coverage,\n",
    "                   'Number of Experimental Structures': [tsd.n_experimental_structures for exp_struc in tsd.structures],\n",
    "                  \"Sequence Length\": [tsd.sequence_length for exp_struc in tsd.structures],\n",
    "                          \"Resolution (A)\": [exp_struc.resolution for exp_struc in tsd.experimental_structures] + [2],\n",
    "                                    \"Method\": [exp_struc.method for exp_struc in tsd.experimental_structures] + ['AlphaFold'],\n",
    "                   }) for tsd in tsds]) "
   ],
   "metadata": {
    "collapsed": false,
    "ExecuteTime": {
     "end_time": "2024-02-21T21:05:25.349255Z",
     "start_time": "2024-02-21T21:05:25.319542Z"
    }
   },
   "id": "5622fcbb7c0e884f",
   "execution_count": 144
  },
  {
   "cell_type": "code",
   "outputs": [],
   "source": [
    "tsd_dict = {f'{tsd.target_name.split(\"_\")[0]} ({tsd.uniprot_id})': tsd for tsd in tsds}\n",
    "symbols = {'X-ray': 'diamond-tall-open', 'EM': 'circle', 'AlphaFold': 'asterisk'}\n",
    "colors = {'metabolism_redox': '#d07c09', 'metabolism': '#ffb418', 'absorption': '#11efb7', 'drug_transporter': '#9553ff', 'toxicity': '#5e2bcb'}\n",
    "category_list = sorted(list(colors.keys()))\n",
    "\n",
    "# Map Protein Name to numerical values\n",
    "df.sort_values(['Category', 'Protein Name'], inplace=True)\n",
    "protein_names = df['Protein Name'].unique()\n",
    "protein_name_mapping = {name: i for i, name in enumerate(protein_names)}\n",
    "jitter_amount = 0.2"
   ],
   "metadata": {
    "collapsed": false,
    "ExecuteTime": {
     "end_time": "2024-02-21T22:00:15.257100Z",
     "start_time": "2024-02-21T22:00:15.232203Z"
    }
   },
   "id": "cae561a06cc09eb1",
   "execution_count": 247
  },
  {
   "cell_type": "code",
   "outputs": [
    {
     "data": {
      "application/vnd.plotly.v1+json": {
       "data": [
        {
         "marker": {
          "color": "#11efb7",
          "line": {
           "color": "black",
           "width": 2
          },
          "size": 10,
          "symbol": "diamond-tall-open"
         },
         "mode": "markers",
         "name": "absorption (X-ray)",
         "opacity": 1,
         "showlegend": true,
         "x": [
          -0.05801715773319091
         ],
         "y": [
          1.8
         ],
         "type": "scatter"
        },
        {
         "marker": {
          "color": "#11efb7",
          "line": {
           "color": "black",
           "width": 2
          },
          "size": 10,
          "symbol": "asterisk"
         },
         "mode": "markers",
         "name": "absorption (AlphaFold)",
         "opacity": 0,
         "showlegend": false,
         "x": [
          0,
          1
         ],
         "y": [
          2.0,
          2.0
         ],
         "type": "scatter"
        },
        {
         "marker": {
          "color": "#11efb7",
          "line": {
           "color": "black",
           "width": 2
          },
          "size": 10,
          "symbol": "circle"
         },
         "mode": "markers",
         "name": "absorption (EM)",
         "opacity": 1,
         "showlegend": true,
         "x": [
          0.9795171053064005,
          1.0392888906160727
         ],
         "y": [
          2.89,
          3.7
         ],
         "type": "scatter"
        },
        {
         "marker": {
          "color": "#9553ff",
          "line": {
           "color": "black",
           "width": 2
          },
          "size": 10,
          "symbol": "diamond-tall-open"
         },
         "mode": "markers",
         "name": "drug_transporter (X-ray)",
         "opacity": 1,
         "showlegend": true,
         "x": [
          4.967157150211791,
          5.091351229324583
         ],
         "y": [
          1.5,
          2.1
         ],
         "type": "scatter"
        },
        {
         "marker": {
          "color": "#9553ff",
          "line": {
           "color": "black",
           "width": 2
          },
          "size": 10,
          "symbol": "asterisk"
         },
         "mode": "markers",
         "name": "drug_transporter (AlphaFold)",
         "opacity": 0,
         "showlegend": false,
         "x": [
          2,
          3,
          4,
          5,
          6,
          7,
          8,
          9,
          10,
          11
         ],
         "y": [
          2.0,
          2.0,
          2.0,
          2.0,
          2.0,
          2.0,
          2.0,
          2.0,
          2.0,
          2.0
         ],
         "type": "scatter"
        },
        {
         "marker": {
          "color": "#9553ff",
          "line": {
           "color": "black",
           "width": 2
          },
          "size": 10,
          "symbol": "circle"
         },
         "mode": "markers",
         "name": "drug_transporter (EM)",
         "opacity": 1,
         "showlegend": true,
         "x": [
          2.0260285411441727,
          1.9004635363435547,
          2.0967050216164798,
          2.987202729773458,
          2.984817770550709,
          3.017264546158193,
          2.8499538415069052,
          3.11917225601205,
          2.9664409046792564,
          3.156798623576728,
          3.1086694308959206,
          3.179181803553144,
          2.87811044526514,
          2.927510297579749,
          2.972410856185005,
          2.9785185963704524,
          2.933653623775053,
          2.89281038011284,
          2.9687197518383455,
          2.880475586193639,
          2.9760717799502783,
          2.9057295436140578,
          3.1396833800448185,
          3.136938709132218,
          2.972379697704931,
          3.06831320325301,
          2.81829007495249,
          4.195951430094927,
          3.9202317090113947,
          4.008214081867375,
          4.1182951634788285,
          4.097411813680673,
          3.938844996545681,
          4.040019889200416,
          4.082785068662461,
          3.8350885117834252,
          3.8206512872635976,
          6.033583840935436,
          6.015700827457215,
          6.056379871877281,
          9.994597898299041,
          9.955596991265985,
          10.125275604839752,
          9.931149650407793,
          10.1100469982052,
          10.042627194327954,
          11.031662703808323
         ],
         "y": [
          3.66,
          3.7,
          3.5,
          3.1,
          3.04,
          3.1,
          3.4,
          3.2,
          3.4,
          3.7,
          3.39,
          3.12,
          4.1,
          3.2,
          3.58,
          4.0,
          3.5,
          3.51,
          3.49,
          3.56,
          3.09,
          3.56,
          3.6,
          3.1,
          3.78,
          3.78,
          3.09,
          3.58,
          4.14,
          3.6,
          3.9,
          3.2,
          3.6,
          3.5,
          3.5,
          3.4,
          3.6,
          3.5,
          3.9,
          4.1,
          3.19,
          3.73,
          2.92,
          3.53,
          3.73,
          3.6,
          2.97
         ],
         "type": "scatter"
        },
        {
         "marker": {
          "color": "#ffb418",
          "line": {
           "color": "black",
           "width": 2
          },
          "size": 10,
          "symbol": "diamond-tall-open"
         },
         "mode": "markers",
         "name": "metabolism (X-ray)",
         "opacity": 1,
         "showlegend": true,
         "x": [
          11.912610813154998,
          13.085240995602842,
          13.175646889519484,
          13.116515009738647,
          12.879336756493112,
          12.956924449730263,
          12.88183445363601,
          13.154050271370131,
          13.189843637832695,
          12.908085112725987,
          13.120848902613549,
          12.854353384225929,
          12.938068230548526,
          12.973998643514376,
          13.108028710941234,
          13.06175827009,
          12.946607619662666,
          13.067221461807943,
          13.154466782151829,
          12.913257702456567,
          12.87149242655251,
          12.854062608004504,
          12.910311686964837,
          13.002120304252776,
          12.929182955604537,
          13.00480293060045,
          13.041414255303417,
          13.019546650186994,
          12.91876320887526,
          12.835115512480254,
          12.813811234804444,
          13.101163129826014,
          13.016539831911324,
          13.158308420416274,
          13.181865100609722,
          12.979536151867899,
          12.922260093072795,
          12.98221084405193,
          12.91339227806674,
          13.079001368580679,
          13.903014800639147,
          13.849220861497301,
          13.830543817781328,
          14.118086738125802,
          13.82363987073833,
          14.138690425678961,
          13.865133244719772,
          13.899378746220357,
          13.955400063908268,
          13.89701635133521,
          13.942486991782072,
          13.861514965116536,
          14.098365525099005,
          13.917832967981811,
          14.147804323585655,
          13.965424497782656,
          13.891943558529038,
          14.117861115119057,
          14.076610607060449,
          14.191989504043207,
          14.108412386644593,
          14.131696123497486,
          14.040324485955953,
          14.002304137567503,
          13.957822118301882,
          13.968501778783994,
          13.88353958421677,
          14.193855508017831,
          13.847533125853312,
          14.121328722396122,
          14.021912177478127,
          13.98487856530454,
          13.88567127319037,
          13.94226639374049,
          13.821051944915808,
          14.148068569026826,
          13.908880113905894,
          14.152425946569599,
          14.138939199481827,
          14.062304764186056,
          14.101199640404042,
          14.19586548113076,
          13.91415866345164,
          14.000763696333271,
          14.194648887027425,
          13.804868978798142,
          13.887739727268132,
          13.991581911921797,
          14.194944536941758,
          14.111114186227931,
          14.053108397572737,
          13.883360078327282,
          14.005247688506106,
          14.90043956969709,
          15.060424113094939,
          15.863289705818486,
          15.88986887031131,
          16.09388817562447,
          15.99402412131501,
          16.1415894799874,
          16.092727554538403,
          16.087838749263998,
          16.09179203187414,
          16.091435632614967,
          15.937863792850251,
          16.081223843931305
         ],
         "y": [
          3.3,
          2.33,
          1.6,
          1.55,
          1.7,
          2.0,
          1.29,
          2.46,
          2.03,
          1.56,
          2.1,
          1.93,
          2.19,
          1.87,
          1.88,
          2.0,
          2.6,
          1.5,
          1.8,
          1.3,
          1.86,
          2.0,
          2.1,
          1.75,
          1.8,
          2.07,
          1.85,
          1.95,
          1.8,
          2.51,
          2.38,
          1.98,
          2.2,
          1.75,
          2.13,
          2.7,
          1.79,
          2.2,
          1.86,
          2.5,
          2.15,
          2.3,
          2.0,
          2.5,
          2.26,
          2.48,
          2.05,
          2.2,
          2.1,
          2.25,
          2.76,
          2.2,
          2.8,
          2.8,
          3.14,
          2.0,
          2.25,
          2.58,
          2.4,
          2.25,
          2.3,
          2.3,
          2.37,
          2.55,
          2.7,
          2.15,
          2.0,
          2.8,
          2.67,
          2.8,
          2.8,
          2.0,
          2.1,
          2.8,
          2.8,
          2.22,
          2.27,
          2.3,
          2.7,
          1.85,
          2.27,
          2.15,
          2.25,
          2.8,
          2.26,
          2.55,
          2.05,
          2.65,
          1.9,
          2.45,
          2.28,
          2.56,
          2.52,
          2.6,
          2.7,
          2.36,
          2.56,
          2.36,
          2.3,
          2.7,
          2.35,
          2.5,
          1.9,
          2.3,
          2.3,
          2.0
         ],
         "type": "scatter"
        },
        {
         "marker": {
          "color": "#ffb418",
          "line": {
           "color": "black",
           "width": 2
          },
          "size": 10,
          "symbol": "asterisk"
         },
         "mode": "markers",
         "name": "metabolism (AlphaFold)",
         "opacity": 0,
         "showlegend": false,
         "x": [
          12,
          13,
          14,
          15,
          16
         ],
         "y": [
          2.0,
          2.0,
          2.0,
          2.0,
          2.0
         ],
         "type": "scatter"
        },
        {
         "marker": {
          "color": "#ffb418",
          "line": {
           "color": "black",
           "width": 2
          },
          "size": 10,
          "symbol": "circle"
         },
         "mode": "markers",
         "name": "metabolism (EM)",
         "opacity": 1,
         "showlegend": true,
         "x": [
          12.080988585821803
         ],
         "y": [
          2.85
         ],
         "type": "scatter"
        },
        {
         "marker": {
          "color": "#d07c09",
          "line": {
           "color": "black",
           "width": 2
          },
          "size": 10,
          "symbol": "diamond-tall-open"
         },
         "mode": "markers",
         "name": "metabolism_redox (X-ray)",
         "opacity": 1,
         "showlegend": true,
         "x": [
          16.810559206818898,
          17.050820352868296,
          17.948761996822853,
          18.034413014395906,
          17.914596070497723,
          18.139248532433292,
          18.09109719622574,
          17.930245737393697,
          18.181956900276816,
          17.9725051355902,
          17.88269528451681,
          17.885206189989756,
          18.16248171131548,
          18.061490754796058,
          17.943385838717063,
          17.82148938569003,
          18.086422931890556,
          17.888377389603235,
          17.895642603614398,
          19.171512327722176,
          18.99760639273254,
          19.042599568164295,
          18.872285325911665,
          20.156447606791254,
          19.80836370674705,
          19.807534116018353,
          20.127301769528927,
          19.973416140910118,
          20.106408096028314,
          20.13277526627731,
          20.014024223688278,
          19.96793082005054,
          19.84062136596296,
          20.05953961982442,
          19.80309990854699,
          20.025820375813524,
          20.057769239858477,
          20.170055184506598,
          19.924442009737575,
          19.997911006880173,
          20.101098216038153,
          20.08569267258206,
          19.929891859547524,
          20.010750499895185,
          19.82844895323452,
          19.875378647132088,
          19.858271433664555,
          19.94577595683525,
          19.836771895768585,
          20.14928301855566,
          20.029996036725226,
          20.171294024632346,
          20.050931082181396,
          20.022927024200285,
          19.80612383269247,
          19.852763399745204,
          20.011748981770097,
          20.111238859848008,
          19.98784463347551,
          20.074007460527056,
          19.82594694294471,
          19.915268877102122,
          20.110404030810344,
          20.18971013746563,
          19.803853984365503,
          19.851289521144718,
          19.99953069238718,
          19.809225781509756,
          19.91898518533512,
          19.93590347227958,
          19.82427184885198,
          19.822013057209105,
          19.869902126699913,
          19.960071784043183,
          19.85832976619547,
          20.86573265942212,
          20.923102114464996,
          21.04132179845517,
          21.142326303742504,
          20.9702742104561,
          20.833592363911,
          21.951416926348102,
          23.104973594739715,
          23.926638783963288,
          23.884977322411814,
          24.03959573213161,
          24.14185299110442,
          23.876634128562024,
          24.051691663688892,
          24.157896579706556,
          24.0953148388271,
          24.19647038099442,
          23.882400860590266,
          24.11456162720597,
          24.18556547005421,
          23.946741420268555,
          24.93598128126459,
          24.902389886724563,
          25.10791296095209,
          25.020469838620055,
          25.192455877104823,
          25.117270255157713,
          25.107249207173666,
          25.06720100139215,
          24.890437209390353,
          25.127833959025658,
          24.846944488878385,
          25.08852186555971,
          24.814999069546957,
          25.93255171858275,
          27.158469118761758,
          27.058065917617,
          27.01796113258464,
          26.844980508411673,
          27.052956565295446,
          26.916255280433294,
          27.17245788853256,
          26.99888771243153,
          27.11615242850075,
          27.005835440977624,
          26.987654643023475,
          26.87686434150856,
          27.009600544362247,
          27.055776539949793,
          27.88149701125663,
          27.845565415417855,
          28.006708887358148,
          28.14268702963427,
          27.95211109089657,
          27.894738909447756,
          28.00242848735403,
          28.02252448061775,
          27.904591381675203,
          27.995619152550034,
          28.04064026409932,
          27.97230019582454,
          27.83653068441152,
          28.064459811985625,
          27.970928360260217,
          27.84788443495451,
          27.947431123616717,
          27.903035126809783,
          27.917631339130434,
          28.129985588458393,
          27.805996322992662,
          28.06420114124617,
          27.969528936144417,
          28.012545801969395,
          28.010737715139467,
          28.020351745020367,
          28.026526567348085,
          28.145618166905734,
          28.140312690939364,
          28.198062225840673,
          27.83656749883872,
          28.07780783181914,
          27.87723491491175,
          28.081098521250883,
          28.161217650439045,
          27.899143867390478,
          27.87698708277801,
          27.87459858235084,
          27.972821527067044,
          27.874807082586052,
          28.02351156074933,
          27.84590421981062,
          28.125871832687288,
          28.144387597095566,
          28.181113771323233,
          27.964164782142845,
          27.955488213932938,
          28.116552939816778,
          27.91819978686332,
          27.855395864924965,
          28.16172797295494,
          27.90363897134242,
          28.053692632368143,
          28.163981624083217,
          28.17906393587878,
          27.957975981341523,
          27.918262298863855,
          27.94069062624934,
          27.87193686252948,
          28.078557561175998,
          28.149710396333116,
          28.138212724689915,
          28.139124397366242,
          28.172560614149866,
          27.90994216485144,
          27.881588763021384,
          28.15512350432627,
          27.94637187546226,
          28.109476119234998,
          27.832772234823278,
          27.89019260842313,
          28.103406328862544,
          28.136404491641184,
          28.159996132128974,
          27.85272975987481,
          28.019223447956026,
          28.14015430524818,
          27.85348738165199,
          29.138623707209316,
          28.849312321242714,
          29.129265487398662,
          28.95341334563508,
          29.18578982765485,
          29.037226210263526,
          29.104356716121966,
          28.827190053091766,
          29.052566993236436,
          28.966138773416667,
          28.929495319922143,
          28.947435957216843,
          29.06494186086416,
          29.109632358009602,
          29.10190511575079,
          29.036075412544474,
          29.121828162311132,
          28.946098232526325,
          29.153756886092758,
          29.192214205846874,
          28.891561788907516,
          28.8466039592637,
          29.11094120044705,
          28.868852521339146,
          28.87534154202718,
          29.000051797699633,
          28.96258104921333,
          29.04045866032495,
          28.81991151347233,
          29.07719723765764,
          28.937792769972447,
          28.88384668399276,
          28.977489419513738,
          29.128884716941325,
          28.98215803421088,
          28.9756056589725,
          28.922304310913148,
          29.065924356775763,
          29.031330826273813,
          29.190232878313907,
          30.94813431068647,
          30.943372018751262
         ],
         "y": [
          2.49,
          2.5,
          1.8,
          1.6,
          1.6,
          1.8,
          2.07,
          1.74,
          1.8,
          1.9,
          1.85,
          1.85,
          1.95,
          1.7,
          2.05,
          2.1,
          2.0,
          1.6,
          1.7,
          2.2,
          3.0,
          3.15,
          2.17,
          2.0,
          2.2,
          1.83,
          1.9,
          1.8,
          1.6,
          1.65,
          2.12,
          2.07,
          3.1,
          2.4,
          1.7,
          2.3,
          3.0,
          2.3,
          1.89,
          1.8,
          2.42,
          1.8,
          1.8,
          1.6,
          1.7,
          2.3,
          1.7,
          2.3,
          1.8,
          2.3,
          2.1,
          1.7,
          2.2,
          2.1,
          1.7,
          2.5,
          1.7,
          2.06,
          2.0,
          2.2,
          1.7,
          1.7,
          1.6,
          1.7,
          2.0,
          2.3,
          2.3,
          1.9,
          1.6,
          2.1,
          1.66,
          2.2,
          2.2,
          2.4,
          2.2,
          2.7,
          2.6,
          3.39,
          2.7,
          3.1,
          2.6,
          3.0,
          1.95,
          2.1,
          2.0,
          2.8,
          2.24,
          2.0,
          2.2,
          1.93,
          2.27,
          2.8,
          1.76,
          2.1,
          2.03,
          2.99,
          2.6,
          2.23,
          3.12,
          2.3,
          2.48,
          2.0,
          2.3,
          2.0,
          2.45,
          2.0,
          2.55,
          2.0,
          2.9,
          2.87,
          2.67,
          2.39,
          3.0,
          2.85,
          2.6,
          2.26,
          2.35,
          2.1,
          2.5,
          2.4,
          2.71,
          2.75,
          2.39,
          3.3,
          2.4,
          2.15,
          2.05,
          2.05,
          2.15,
          2.2,
          2.25,
          2.1,
          2.65,
          2.35,
          2.2,
          2.2,
          1.95,
          1.7,
          2.7,
          2.7,
          2.6,
          2.45,
          2.5,
          2.95,
          2.76,
          2.4,
          2.6,
          2.85,
          2.5,
          2.9,
          2.72,
          2.3,
          2.05,
          2.8,
          2.65,
          2.74,
          2.75,
          2.23,
          2.8,
          2.25,
          2.15,
          1.93,
          2.25,
          2.8,
          2.76,
          2.0,
          2.5,
          2.6,
          2.42,
          2.75,
          2.5,
          2.75,
          2.78,
          2.45,
          2.25,
          2.75,
          2.35,
          2.5,
          2.9,
          2.4,
          2.7,
          2.4,
          2.2,
          2.3,
          2.65,
          2.5,
          2.75,
          2.25,
          2.57,
          2.7,
          2.52,
          2.25,
          2.38,
          2.67,
          2.2,
          2.6,
          2.5,
          2.79,
          2.55,
          2.65,
          2.55,
          2.5,
          2.55,
          1.91,
          2.73,
          2.2,
          2.16,
          1.96,
          2.35,
          2.35,
          2.35,
          3.2,
          2.35,
          2.35,
          2.37,
          2.5,
          1.8,
          2.07,
          2.19,
          2.72,
          2.35,
          2.6,
          2.45,
          1.8,
          1.55,
          2.11,
          2.3,
          3.1,
          1.9,
          2.69,
          2.3,
          2.25,
          2.6,
          2.5,
          2.55,
          3.0,
          2.65,
          2.3,
          2.19,
          2.3,
          2.35,
          2.8,
          2.6,
          3.59
         ],
         "type": "scatter"
        },
        {
         "marker": {
          "color": "#d07c09",
          "line": {
           "color": "black",
           "width": 2
          },
          "size": 10,
          "symbol": "asterisk"
         },
         "mode": "markers",
         "name": "metabolism_redox (AlphaFold)",
         "opacity": 0,
         "showlegend": false,
         "x": [
          17,
          18,
          19,
          20,
          21,
          22,
          23,
          24,
          25,
          26,
          27,
          28,
          29,
          30,
          31
         ],
         "y": [
          2.0,
          2.0,
          2.0,
          2.0,
          2.0,
          2.0,
          2.0,
          2.0,
          2.0,
          2.0,
          2.0,
          2.0,
          2.0,
          2.0,
          2.0
         ],
         "type": "scatter"
        },
        {
         "marker": {
          "color": "#d07c09",
          "line": {
           "color": "black",
           "width": 2
          },
          "size": 10,
          "symbol": "circle"
         },
         "mode": "markers",
         "name": "metabolism_redox (EM)",
         "opacity": 1,
         "showlegend": true,
         "x": [
          18.17306356897593,
          18.17920804982123,
          17.80450205751081,
          20.844631237858174
         ],
         "y": [
          2.64,
          3.4,
          2.84,
          2.92
         ],
         "type": "scatter"
        },
        {
         "marker": {
          "color": "#5e2bcb",
          "line": {
           "color": "black",
           "width": 2
          },
          "size": 10,
          "symbol": "diamond-tall-open"
         },
         "mode": "markers",
         "name": "toxicity (X-ray)",
         "opacity": 1,
         "showlegend": true,
         "x": [
          32.15154168494507,
          32.16795560311019,
          31.84716757353215,
          32.0921112013945,
          32.16820367486837,
          31.92448622306252,
          32.0487584308625,
          31.82302764168255,
          33.909891049705664,
          33.82410357041571,
          33.99671271586903,
          36.192671665585024,
          36.074603474432415,
          36.17214150169552,
          35.97918271589775,
          36.14710544480251,
          35.85259969825967,
          37.06270864322231,
          37.09900774364235,
          37.04400439877699,
          37.01169636688415,
          38.07299208041301,
          37.845097039184104,
          37.926441462989835,
          37.843171216532006,
          37.96591970407555,
          38.89971652766763,
          38.8620283020189,
          39.13222511408173,
          39.081760580756914,
          39.00492416400721,
          38.97534068352853,
          38.929992434620424,
          38.90594727150498,
          41.90618739950965,
          41.83307031780545,
          42.8599259461649,
          43.02380554883064,
          42.98999732221165,
          42.9491777406489,
          43.86522646548505,
          44.00944600272491,
          43.87445423074838,
          44.14641909312045,
          43.93103869928438,
          43.94328220223866,
          43.985482331380126,
          43.992089429789395,
          44.00268928227561,
          43.85530142197742,
          44.01136880947172,
          44.15835773128117,
          44.01354170952804,
          44.13114158948026,
          43.878150262256796,
          44.0256073049226,
          43.87789254807354,
          44.189435328062444,
          44.06361737324324,
          43.850587765523116,
          43.86283609042497,
          43.99130981232528,
          44.16924492076156,
          44.125656886088976,
          43.9295886510239,
          44.0964265255358,
          43.80251136766791,
          43.86730325057193,
          43.912596162267775,
          43.8479443483693,
          43.9759967740935,
          43.86929187800274,
          43.862968369473926,
          44.025483503800594,
          43.99427970687609,
          43.84212261412837,
          44.98715695125808,
          44.898306045972994,
          45.922939250726856,
          46.10811484201556,
          45.86124056283783,
          45.935527186911536,
          46.050608601779984,
          46.11064573710582,
          45.999540258943675,
          45.96924735804189,
          46.14160617003044,
          45.88281379713073,
          46.13016928949875,
          45.89909607506995,
          45.80394860738516,
          46.118949499673995,
          45.85466901504929,
          48.10103453197487,
          47.97740841712329,
          48.00420967476278,
          47.98456701687615,
          47.94749599745662,
          47.9939670106849,
          48.091467385138294,
          49.06465946844411,
          48.90779540813873,
          49.886225948077616,
          49.876676319753024,
          51.068194870284465,
          52.06509269349007,
          52.18864815063238,
          51.827674922452864,
          52.106262561116935,
          55.061493314280774,
          54.87731104227733,
          54.87502537033787,
          54.88523357127233,
          54.92548568584693,
          54.88344086281728,
          54.91512750700397,
          55.00520168337155,
          55.15346955195654,
          54.92383388276498,
          54.86587009420231,
          54.876470085049164,
          55.80794147557665,
          55.88232472047205,
          56.12152614582494,
          55.81844392324114,
          56.13404212475374,
          56.09780911199536
         ],
         "y": [
          3.19,
          2.92,
          3.1,
          2.9,
          3.0,
          2.8,
          2.7,
          3.1,
          1.9,
          1.93,
          2.0,
          2.15,
          2.85,
          2.4,
          2.2,
          2.38,
          2.38,
          1.8,
          1.71,
          2.7,
          2.26,
          2.33,
          2.5,
          2.17,
          2.55,
          2.7,
          3.5,
          3.7,
          2.3,
          2.95,
          3.0,
          2.6,
          2.5,
          3.0,
          3.2,
          2.7,
          3.13,
          2.5,
          2.6,
          2.7,
          3.2,
          2.7,
          3.2,
          3.2,
          3.8,
          2.48,
          3.3,
          2.4,
          3.1,
          3.99,
          2.8,
          3.4,
          2.84,
          2.84,
          3.16,
          3.5,
          3.5,
          3.2,
          2.79,
          3.1,
          1.9,
          3.4,
          3.4,
          2.7,
          2.6,
          2.5,
          2.4,
          2.9,
          3.4,
          2.8,
          3.1,
          3.2,
          2.96,
          3.7,
          3.2,
          3.4,
          3.0,
          2.6,
          2.0,
          2.0,
          1.45,
          1.6,
          2.1,
          2.55,
          1.65,
          2.0,
          2.4,
          2.4,
          1.65,
          1.7,
          1.75,
          1.7,
          2.0,
          2.95,
          2.8,
          2.7,
          2.8,
          3.25,
          2.6,
          3.29,
          2.8,
          3.2,
          3.45,
          3.2,
          3.1,
          1.5,
          1.96,
          2.12,
          2.6,
          3.4,
          3.62,
          3.49,
          3.15,
          3.14,
          3.53,
          4.53,
          3.8,
          3.24,
          4.05,
          6.3,
          4.7,
          2.69,
          2.25,
          2.8,
          3.84,
          1.35,
          2.2
         ],
         "type": "scatter"
        },
        {
         "marker": {
          "color": "#5e2bcb",
          "line": {
           "color": "black",
           "width": 2
          },
          "size": 10,
          "symbol": "asterisk"
         },
         "mode": "markers",
         "name": "toxicity (AlphaFold)",
         "opacity": 0,
         "showlegend": false,
         "x": [
          32,
          33,
          34,
          35,
          36,
          37,
          38,
          39,
          40,
          41,
          42,
          43,
          44,
          45,
          46,
          47,
          48,
          49,
          50,
          51,
          52,
          53,
          54,
          55,
          56
         ],
         "y": [
          2.0,
          2.0,
          2.0,
          2.0,
          2.0,
          2.0,
          2.0,
          2.0,
          2.0,
          2.0,
          2.0,
          2.0,
          2.0,
          2.0,
          2.0,
          2.0,
          2.0,
          2.0,
          2.0,
          2.0,
          2.0,
          2.0,
          2.0,
          2.0,
          2.0
         ],
         "type": "scatter"
        },
        {
         "marker": {
          "color": "#5e2bcb",
          "line": {
           "color": "black",
           "width": 2
          },
          "size": 10,
          "symbol": "circle"
         },
         "mode": "markers",
         "name": "toxicity (EM)",
         "opacity": 1,
         "showlegend": true,
         "x": [
          32.02325094287846,
          32.01194970529835,
          32.09468870639904,
          34.116906204053876,
          34.05591568114162,
          35.9929506669494,
          35.933142555702226,
          36.13953101651305,
          36.112993017753475,
          36.02490356740194,
          35.826564376659626,
          35.83794599202246,
          35.9516535718106,
          35.910258957223135,
          36.142891012544354,
          36.1992287978218,
          37.862270381619965,
          39.01096434413677,
          38.98533290471837,
          39.15497349738339,
          38.89326486343735,
          39.0182942242922,
          38.80521734808433,
          40.15503619506337,
          39.84066831493091,
          40.07952278945526,
          39.9283696205729,
          41.11640514004001,
          41.054604468503044,
          42.144135913612054,
          41.999161945363724,
          42.183569463013576,
          42.07150637545567,
          42.17926921257862,
          41.95578669587002,
          42.19770226628856,
          44.03980215595718,
          44.02494322345019,
          43.94097303805403,
          44.13592202161186,
          43.95686429239148,
          44.01989773700109,
          45.90465190416749,
          45.82472468902978,
          46.97862856186441,
          47.12240404612451,
          46.839506510601524,
          46.87773931895931,
          47.14624927137964,
          48.175287312954765,
          48.02316192271871,
          48.125222797130604,
          48.02389624601346,
          48.93834032200539,
          48.80024197771201,
          48.92331532523508,
          49.07791907086985,
          49.14953950017841,
          48.98199024256921,
          49.93077004324943,
          49.83296541889557,
          49.804396678940684,
          50.10415404176923,
          50.15903903758657,
          49.82793553311576,
          49.97133654570577,
          49.954301119523706,
          50.122047584579505,
          50.01649687365077,
          49.977451575898705,
          50.15559156192408,
          50.08280359524852,
          50.151107940963925,
          49.839026319307926,
          50.089828395377914,
          50.01385235341059,
          50.03529935478474,
          49.8166540218268,
          50.08749763289388,
          50.066330773363426,
          49.888350586896486,
          50.12647879792556,
          49.97554242188903,
          50.052058740551644,
          49.84730959292682,
          50.13947600192662,
          50.82727497099246,
          51.806951330936876,
          51.960973532408026,
          52.02337385597174,
          54.986143502552075,
          55.01631231159116,
          54.97922870238373,
          54.95889786579491,
          55.052836873933686,
          55.036820988449705,
          55.10821203284133,
          55.12009064703594,
          55.01805579078758,
          55.14743747337219,
          55.038116670432174,
          55.17065039294073,
          54.9661242235211,
          54.9974956377197,
          54.80271617028806,
          55.81304672814164,
          56.142199468179676
         ],
         "y": [
          2.9,
          3.3,
          2.7,
          3.34,
          3.87,
          2.3,
          3.4,
          3.02,
          4.4,
          2.8,
          2.7,
          3.6,
          3.0,
          2.85,
          3.18,
          2.7,
          3.3,
          3.22,
          3.32,
          3.6,
          3.21,
          4.0,
          3.16,
          2.79,
          2.69,
          2.56,
          2.69,
          3.1,
          2.6,
          3.4,
          3.0,
          3.2,
          4.1,
          3.47,
          3.4,
          3.6,
          3.4,
          3.8,
          3.26,
          3.82,
          3.2,
          3.8,
          3.4,
          3.1,
          2.8,
          3.1,
          3.3,
          3.0,
          3.0,
          3.0,
          2.8,
          3.36,
          3.0,
          2.97,
          2.84,
          3.08,
          2.9,
          2.98,
          3.2,
          3.8,
          3.8,
          3.1,
          3.04,
          3.69,
          3.26,
          3.58,
          3.2,
          2.55,
          3.49,
          3.5,
          2.92,
          3.23,
          3.3,
          3.04,
          2.86,
          2.71,
          2.98,
          2.65,
          2.9,
          3.12,
          3.0,
          3.0,
          2.7,
          3.0,
          2.79,
          2.9,
          3.3,
          4.0,
          3.8,
          3.7,
          3.5,
          3.65,
          4.2,
          3.0,
          3.3,
          3.9,
          3.9,
          3.5,
          4.1,
          3.8,
          4.1,
          3.3,
          3.6,
          4.1,
          4.3,
          3.3,
          3.3
         ],
         "type": "scatter"
        }
       ],
       "layout": {
        "height": 600,
        "template": {
         "data": {
          "barpolar": [
           {
            "marker": {
             "line": {
              "color": "white",
              "width": 0.5
             },
             "pattern": {
              "fillmode": "overlay",
              "size": 10,
              "solidity": 0.2
             }
            },
            "type": "barpolar"
           }
          ],
          "bar": [
           {
            "error_x": {
             "color": "rgb(36,36,36)"
            },
            "error_y": {
             "color": "rgb(36,36,36)"
            },
            "marker": {
             "line": {
              "color": "white",
              "width": 0.5
             },
             "pattern": {
              "fillmode": "overlay",
              "size": 10,
              "solidity": 0.2
             }
            },
            "type": "bar"
           }
          ],
          "carpet": [
           {
            "aaxis": {
             "endlinecolor": "rgb(36,36,36)",
             "gridcolor": "white",
             "linecolor": "white",
             "minorgridcolor": "white",
             "startlinecolor": "rgb(36,36,36)"
            },
            "baxis": {
             "endlinecolor": "rgb(36,36,36)",
             "gridcolor": "white",
             "linecolor": "white",
             "minorgridcolor": "white",
             "startlinecolor": "rgb(36,36,36)"
            },
            "type": "carpet"
           }
          ],
          "choropleth": [
           {
            "colorbar": {
             "outlinewidth": 1,
             "tickcolor": "rgb(36,36,36)",
             "ticks": "outside"
            },
            "type": "choropleth"
           }
          ],
          "contourcarpet": [
           {
            "colorbar": {
             "outlinewidth": 1,
             "tickcolor": "rgb(36,36,36)",
             "ticks": "outside"
            },
            "type": "contourcarpet"
           }
          ],
          "contour": [
           {
            "colorbar": {
             "outlinewidth": 1,
             "tickcolor": "rgb(36,36,36)",
             "ticks": "outside"
            },
            "colorscale": [
             [
              0.0,
              "#440154"
             ],
             [
              0.1111111111111111,
              "#482878"
             ],
             [
              0.2222222222222222,
              "#3e4989"
             ],
             [
              0.3333333333333333,
              "#31688e"
             ],
             [
              0.4444444444444444,
              "#26828e"
             ],
             [
              0.5555555555555556,
              "#1f9e89"
             ],
             [
              0.6666666666666666,
              "#35b779"
             ],
             [
              0.7777777777777778,
              "#6ece58"
             ],
             [
              0.8888888888888888,
              "#b5de2b"
             ],
             [
              1.0,
              "#fde725"
             ]
            ],
            "type": "contour"
           }
          ],
          "heatmapgl": [
           {
            "colorbar": {
             "outlinewidth": 1,
             "tickcolor": "rgb(36,36,36)",
             "ticks": "outside"
            },
            "colorscale": [
             [
              0.0,
              "#440154"
             ],
             [
              0.1111111111111111,
              "#482878"
             ],
             [
              0.2222222222222222,
              "#3e4989"
             ],
             [
              0.3333333333333333,
              "#31688e"
             ],
             [
              0.4444444444444444,
              "#26828e"
             ],
             [
              0.5555555555555556,
              "#1f9e89"
             ],
             [
              0.6666666666666666,
              "#35b779"
             ],
             [
              0.7777777777777778,
              "#6ece58"
             ],
             [
              0.8888888888888888,
              "#b5de2b"
             ],
             [
              1.0,
              "#fde725"
             ]
            ],
            "type": "heatmapgl"
           }
          ],
          "heatmap": [
           {
            "colorbar": {
             "outlinewidth": 1,
             "tickcolor": "rgb(36,36,36)",
             "ticks": "outside"
            },
            "colorscale": [
             [
              0.0,
              "#440154"
             ],
             [
              0.1111111111111111,
              "#482878"
             ],
             [
              0.2222222222222222,
              "#3e4989"
             ],
             [
              0.3333333333333333,
              "#31688e"
             ],
             [
              0.4444444444444444,
              "#26828e"
             ],
             [
              0.5555555555555556,
              "#1f9e89"
             ],
             [
              0.6666666666666666,
              "#35b779"
             ],
             [
              0.7777777777777778,
              "#6ece58"
             ],
             [
              0.8888888888888888,
              "#b5de2b"
             ],
             [
              1.0,
              "#fde725"
             ]
            ],
            "type": "heatmap"
           }
          ],
          "histogram2dcontour": [
           {
            "colorbar": {
             "outlinewidth": 1,
             "tickcolor": "rgb(36,36,36)",
             "ticks": "outside"
            },
            "colorscale": [
             [
              0.0,
              "#440154"
             ],
             [
              0.1111111111111111,
              "#482878"
             ],
             [
              0.2222222222222222,
              "#3e4989"
             ],
             [
              0.3333333333333333,
              "#31688e"
             ],
             [
              0.4444444444444444,
              "#26828e"
             ],
             [
              0.5555555555555556,
              "#1f9e89"
             ],
             [
              0.6666666666666666,
              "#35b779"
             ],
             [
              0.7777777777777778,
              "#6ece58"
             ],
             [
              0.8888888888888888,
              "#b5de2b"
             ],
             [
              1.0,
              "#fde725"
             ]
            ],
            "type": "histogram2dcontour"
           }
          ],
          "histogram2d": [
           {
            "colorbar": {
             "outlinewidth": 1,
             "tickcolor": "rgb(36,36,36)",
             "ticks": "outside"
            },
            "colorscale": [
             [
              0.0,
              "#440154"
             ],
             [
              0.1111111111111111,
              "#482878"
             ],
             [
              0.2222222222222222,
              "#3e4989"
             ],
             [
              0.3333333333333333,
              "#31688e"
             ],
             [
              0.4444444444444444,
              "#26828e"
             ],
             [
              0.5555555555555556,
              "#1f9e89"
             ],
             [
              0.6666666666666666,
              "#35b779"
             ],
             [
              0.7777777777777778,
              "#6ece58"
             ],
             [
              0.8888888888888888,
              "#b5de2b"
             ],
             [
              1.0,
              "#fde725"
             ]
            ],
            "type": "histogram2d"
           }
          ],
          "histogram": [
           {
            "marker": {
             "line": {
              "color": "white",
              "width": 0.6
             }
            },
            "type": "histogram"
           }
          ],
          "mesh3d": [
           {
            "colorbar": {
             "outlinewidth": 1,
             "tickcolor": "rgb(36,36,36)",
             "ticks": "outside"
            },
            "type": "mesh3d"
           }
          ],
          "parcoords": [
           {
            "line": {
             "colorbar": {
              "outlinewidth": 1,
              "tickcolor": "rgb(36,36,36)",
              "ticks": "outside"
             }
            },
            "type": "parcoords"
           }
          ],
          "pie": [
           {
            "automargin": true,
            "type": "pie"
           }
          ],
          "scatter3d": [
           {
            "line": {
             "colorbar": {
              "outlinewidth": 1,
              "tickcolor": "rgb(36,36,36)",
              "ticks": "outside"
             }
            },
            "marker": {
             "colorbar": {
              "outlinewidth": 1,
              "tickcolor": "rgb(36,36,36)",
              "ticks": "outside"
             }
            },
            "type": "scatter3d"
           }
          ],
          "scattercarpet": [
           {
            "marker": {
             "colorbar": {
              "outlinewidth": 1,
              "tickcolor": "rgb(36,36,36)",
              "ticks": "outside"
             }
            },
            "type": "scattercarpet"
           }
          ],
          "scattergeo": [
           {
            "marker": {
             "colorbar": {
              "outlinewidth": 1,
              "tickcolor": "rgb(36,36,36)",
              "ticks": "outside"
             }
            },
            "type": "scattergeo"
           }
          ],
          "scattergl": [
           {
            "marker": {
             "colorbar": {
              "outlinewidth": 1,
              "tickcolor": "rgb(36,36,36)",
              "ticks": "outside"
             }
            },
            "type": "scattergl"
           }
          ],
          "scattermapbox": [
           {
            "marker": {
             "colorbar": {
              "outlinewidth": 1,
              "tickcolor": "rgb(36,36,36)",
              "ticks": "outside"
             }
            },
            "type": "scattermapbox"
           }
          ],
          "scatterpolargl": [
           {
            "marker": {
             "colorbar": {
              "outlinewidth": 1,
              "tickcolor": "rgb(36,36,36)",
              "ticks": "outside"
             }
            },
            "type": "scatterpolargl"
           }
          ],
          "scatterpolar": [
           {
            "marker": {
             "colorbar": {
              "outlinewidth": 1,
              "tickcolor": "rgb(36,36,36)",
              "ticks": "outside"
             }
            },
            "type": "scatterpolar"
           }
          ],
          "scatter": [
           {
            "fillpattern": {
             "fillmode": "overlay",
             "size": 10,
             "solidity": 0.2
            },
            "type": "scatter"
           }
          ],
          "scatterternary": [
           {
            "marker": {
             "colorbar": {
              "outlinewidth": 1,
              "tickcolor": "rgb(36,36,36)",
              "ticks": "outside"
             }
            },
            "type": "scatterternary"
           }
          ],
          "surface": [
           {
            "colorbar": {
             "outlinewidth": 1,
             "tickcolor": "rgb(36,36,36)",
             "ticks": "outside"
            },
            "colorscale": [
             [
              0.0,
              "#440154"
             ],
             [
              0.1111111111111111,
              "#482878"
             ],
             [
              0.2222222222222222,
              "#3e4989"
             ],
             [
              0.3333333333333333,
              "#31688e"
             ],
             [
              0.4444444444444444,
              "#26828e"
             ],
             [
              0.5555555555555556,
              "#1f9e89"
             ],
             [
              0.6666666666666666,
              "#35b779"
             ],
             [
              0.7777777777777778,
              "#6ece58"
             ],
             [
              0.8888888888888888,
              "#b5de2b"
             ],
             [
              1.0,
              "#fde725"
             ]
            ],
            "type": "surface"
           }
          ],
          "table": [
           {
            "cells": {
             "fill": {
              "color": "rgb(237,237,237)"
             },
             "line": {
              "color": "white"
             }
            },
            "header": {
             "fill": {
              "color": "rgb(217,217,217)"
             },
             "line": {
              "color": "white"
             }
            },
            "type": "table"
           }
          ]
         },
         "layout": {
          "annotationdefaults": {
           "arrowhead": 0,
           "arrowwidth": 1
          },
          "autotypenumbers": "strict",
          "coloraxis": {
           "colorbar": {
            "outlinewidth": 1,
            "tickcolor": "rgb(36,36,36)",
            "ticks": "outside"
           }
          },
          "colorscale": {
           "diverging": [
            [
             0.0,
             "rgb(103,0,31)"
            ],
            [
             0.1,
             "rgb(178,24,43)"
            ],
            [
             0.2,
             "rgb(214,96,77)"
            ],
            [
             0.3,
             "rgb(244,165,130)"
            ],
            [
             0.4,
             "rgb(253,219,199)"
            ],
            [
             0.5,
             "rgb(247,247,247)"
            ],
            [
             0.6,
             "rgb(209,229,240)"
            ],
            [
             0.7,
             "rgb(146,197,222)"
            ],
            [
             0.8,
             "rgb(67,147,195)"
            ],
            [
             0.9,
             "rgb(33,102,172)"
            ],
            [
             1.0,
             "rgb(5,48,97)"
            ]
           ],
           "sequential": [
            [
             0.0,
             "#440154"
            ],
            [
             0.1111111111111111,
             "#482878"
            ],
            [
             0.2222222222222222,
             "#3e4989"
            ],
            [
             0.3333333333333333,
             "#31688e"
            ],
            [
             0.4444444444444444,
             "#26828e"
            ],
            [
             0.5555555555555556,
             "#1f9e89"
            ],
            [
             0.6666666666666666,
             "#35b779"
            ],
            [
             0.7777777777777778,
             "#6ece58"
            ],
            [
             0.8888888888888888,
             "#b5de2b"
            ],
            [
             1.0,
             "#fde725"
            ]
           ],
           "sequentialminus": [
            [
             0.0,
             "#440154"
            ],
            [
             0.1111111111111111,
             "#482878"
            ],
            [
             0.2222222222222222,
             "#3e4989"
            ],
            [
             0.3333333333333333,
             "#31688e"
            ],
            [
             0.4444444444444444,
             "#26828e"
            ],
            [
             0.5555555555555556,
             "#1f9e89"
            ],
            [
             0.6666666666666666,
             "#35b779"
            ],
            [
             0.7777777777777778,
             "#6ece58"
            ],
            [
             0.8888888888888888,
             "#b5de2b"
            ],
            [
             1.0,
             "#fde725"
            ]
           ]
          },
          "colorway": [
           "#1F77B4",
           "#FF7F0E",
           "#2CA02C",
           "#D62728",
           "#9467BD",
           "#8C564B",
           "#E377C2",
           "#7F7F7F",
           "#BCBD22",
           "#17BECF"
          ],
          "font": {
           "color": "rgb(36,36,36)"
          },
          "geo": {
           "bgcolor": "white",
           "lakecolor": "white",
           "landcolor": "white",
           "showlakes": true,
           "showland": true,
           "subunitcolor": "white"
          },
          "hoverlabel": {
           "align": "left"
          },
          "hovermode": "closest",
          "mapbox": {
           "style": "light"
          },
          "paper_bgcolor": "white",
          "plot_bgcolor": "white",
          "polar": {
           "angularaxis": {
            "gridcolor": "rgb(232,232,232)",
            "linecolor": "rgb(36,36,36)",
            "showgrid": false,
            "showline": true,
            "ticks": "outside"
           },
           "bgcolor": "white",
           "radialaxis": {
            "gridcolor": "rgb(232,232,232)",
            "linecolor": "rgb(36,36,36)",
            "showgrid": false,
            "showline": true,
            "ticks": "outside"
           }
          },
          "scene": {
           "xaxis": {
            "backgroundcolor": "white",
            "gridcolor": "rgb(232,232,232)",
            "gridwidth": 2,
            "linecolor": "rgb(36,36,36)",
            "showbackground": true,
            "showgrid": false,
            "showline": true,
            "ticks": "outside",
            "zeroline": false,
            "zerolinecolor": "rgb(36,36,36)"
           },
           "yaxis": {
            "backgroundcolor": "white",
            "gridcolor": "rgb(232,232,232)",
            "gridwidth": 2,
            "linecolor": "rgb(36,36,36)",
            "showbackground": true,
            "showgrid": false,
            "showline": true,
            "ticks": "outside",
            "zeroline": false,
            "zerolinecolor": "rgb(36,36,36)"
           },
           "zaxis": {
            "backgroundcolor": "white",
            "gridcolor": "rgb(232,232,232)",
            "gridwidth": 2,
            "linecolor": "rgb(36,36,36)",
            "showbackground": true,
            "showgrid": false,
            "showline": true,
            "ticks": "outside",
            "zeroline": false,
            "zerolinecolor": "rgb(36,36,36)"
           }
          },
          "shapedefaults": {
           "fillcolor": "black",
           "line": {
            "width": 0
           },
           "opacity": 0.3
          },
          "ternary": {
           "aaxis": {
            "gridcolor": "rgb(232,232,232)",
            "linecolor": "rgb(36,36,36)",
            "showgrid": false,
            "showline": true,
            "ticks": "outside"
           },
           "baxis": {
            "gridcolor": "rgb(232,232,232)",
            "linecolor": "rgb(36,36,36)",
            "showgrid": false,
            "showline": true,
            "ticks": "outside"
           },
           "bgcolor": "white",
           "caxis": {
            "gridcolor": "rgb(232,232,232)",
            "linecolor": "rgb(36,36,36)",
            "showgrid": false,
            "showline": true,
            "ticks": "outside"
           }
          },
          "title": {
           "x": 0.05
          },
          "xaxis": {
           "automargin": true,
           "gridcolor": "rgb(232,232,232)",
           "linecolor": "rgb(36,36,36)",
           "showgrid": false,
           "showline": true,
           "ticks": "outside",
           "title": {
            "standoff": 15
           },
           "zeroline": false,
           "zerolinecolor": "rgb(36,36,36)"
          },
          "yaxis": {
           "automargin": true,
           "gridcolor": "rgb(232,232,232)",
           "linecolor": "rgb(36,36,36)",
           "showgrid": false,
           "showline": true,
           "ticks": "outside",
           "title": {
            "standoff": 15
           },
           "zeroline": false,
           "zerolinecolor": "rgb(36,36,36)"
          }
         }
        },
        "title": {
         "text": "Protein Analysis"
        },
        "width": 1600,
        "xaxis": {
         "range": [
          -0.5,
          57.5
         ],
         "ticktext": [
          "A1AG1 (P02763)",
          "OXA1L (Q15070)",
          "ABCBB (O95342)",
          "ABCG2 (Q9UNQ0)",
          "MDR1 (P08183)",
          "MRP1 (P33527)",
          "S15A1 (P46059)",
          "S22A6 (Q4U2R8)",
          "S22A8 (Q8TCC7)",
          "S47A1 (Q96FL8)",
          "SO1B1 (Q9Y6L6)",
          "SO1B3 (Q9NPD5)",
          "AHR (P35869)",
          "GSTA1 (P08263)",
          "NR1I2 (O75469)",
          "NR1I3 (Q14994)",
          "ST1A1 (P50225)",
          "ADH1A (P07327)",
          "AL1A1 (P00352)",
          "AOFA (P21397)",
          "AOFB (P27338)",
          "AOXA (Q06278)",
          "ARK73 (O95154)",
          "CP1A2 (P05177)",
          "CP2B6 (P20813)",
          "CP2C9 (P11712)",
          "CP2CJ (P33261)",
          "CP2D6 (P10635)",
          "CP3A4 (P08684)",
          "DHI1 (P28845)",
          "FMO1 (Q01740)",
          "XDH (P47989)",
          "5HT2B (P41595)",
          "ACH10 (Q9GZZ6)",
          "ACHA3 (P32297)",
          "ACHA5 (P30532)",
          "ACHA7 (P36544)",
          "ACHA9 (Q9UGM1)",
          "ACM1 (P11229)",
          "ACM2 (P08172)",
          "ACM3 (P20309)",
          "ADA1A (P35348)",
          "ADA2A (P08913)",
          "ADRB1 (P08588)",
          "ADRB2 (P07550)",
          "ASM3A (Q92484)",
          "CAC1C (Q13936)",
          "CACB1 (Q02641)",
          "CNR1 (P21554)",
          "CNR2 (P34972)",
          "GBRA1 (P14867)",
          "HRH1 (P35367)",
          "KCNH2 (Q12809)",
          "SC6A2 (P23975)",
          "SC6A3 (Q01959)",
          "SC6A4 (P31645)",
          "SCN5A (Q14524)"
         ],
         "tickvals": [
          0,
          1,
          2,
          3,
          4,
          5,
          6,
          7,
          8,
          9,
          10,
          11,
          12,
          13,
          14,
          15,
          16,
          17,
          18,
          19,
          20,
          21,
          22,
          23,
          24,
          25,
          26,
          27,
          28,
          29,
          30,
          31,
          32,
          33,
          34,
          35,
          36,
          37,
          38,
          39,
          40,
          41,
          42,
          43,
          44,
          45,
          46,
          47,
          48,
          49,
          50,
          51,
          52,
          53,
          54,
          55,
          56
         ],
         "title": {
          "text": "Protein Name"
         }
        },
        "yaxis": {
         "title": {
          "text": "Resolution(A)"
         }
        }
       },
       "config": {
        "plotlyServerURL": "https://plot.ly"
       }
      },
      "text/html": "<div>                            <div id=\"53ae72bd-c098-4efe-9de3-b35730114638\" class=\"plotly-graph-div\" style=\"height:600px; width:1600px;\"></div>            <script type=\"text/javascript\">                require([\"plotly\"], function(Plotly) {                    window.PLOTLYENV=window.PLOTLYENV || {};                                    if (document.getElementById(\"53ae72bd-c098-4efe-9de3-b35730114638\")) {                    Plotly.newPlot(                        \"53ae72bd-c098-4efe-9de3-b35730114638\",                        [{\"marker\":{\"color\":\"#11efb7\",\"line\":{\"color\":\"black\",\"width\":2},\"size\":10,\"symbol\":\"diamond-tall-open\"},\"mode\":\"markers\",\"name\":\"absorption (X-ray)\",\"opacity\":1,\"showlegend\":true,\"x\":[-0.05801715773319091],\"y\":[1.8],\"type\":\"scatter\"},{\"marker\":{\"color\":\"#11efb7\",\"line\":{\"color\":\"black\",\"width\":2},\"size\":10,\"symbol\":\"asterisk\"},\"mode\":\"markers\",\"name\":\"absorption (AlphaFold)\",\"opacity\":0,\"showlegend\":false,\"x\":[0,1],\"y\":[2.0,2.0],\"type\":\"scatter\"},{\"marker\":{\"color\":\"#11efb7\",\"line\":{\"color\":\"black\",\"width\":2},\"size\":10,\"symbol\":\"circle\"},\"mode\":\"markers\",\"name\":\"absorption (EM)\",\"opacity\":1,\"showlegend\":true,\"x\":[0.9795171053064005,1.0392888906160727],\"y\":[2.89,3.7],\"type\":\"scatter\"},{\"marker\":{\"color\":\"#9553ff\",\"line\":{\"color\":\"black\",\"width\":2},\"size\":10,\"symbol\":\"diamond-tall-open\"},\"mode\":\"markers\",\"name\":\"drug_transporter (X-ray)\",\"opacity\":1,\"showlegend\":true,\"x\":[4.967157150211791,5.091351229324583],\"y\":[1.5,2.1],\"type\":\"scatter\"},{\"marker\":{\"color\":\"#9553ff\",\"line\":{\"color\":\"black\",\"width\":2},\"size\":10,\"symbol\":\"asterisk\"},\"mode\":\"markers\",\"name\":\"drug_transporter (AlphaFold)\",\"opacity\":0,\"showlegend\":false,\"x\":[2,3,4,5,6,7,8,9,10,11],\"y\":[2.0,2.0,2.0,2.0,2.0,2.0,2.0,2.0,2.0,2.0],\"type\":\"scatter\"},{\"marker\":{\"color\":\"#9553ff\",\"line\":{\"color\":\"black\",\"width\":2},\"size\":10,\"symbol\":\"circle\"},\"mode\":\"markers\",\"name\":\"drug_transporter (EM)\",\"opacity\":1,\"showlegend\":true,\"x\":[2.0260285411441727,1.9004635363435547,2.0967050216164798,2.987202729773458,2.984817770550709,3.017264546158193,2.8499538415069052,3.11917225601205,2.9664409046792564,3.156798623576728,3.1086694308959206,3.179181803553144,2.87811044526514,2.927510297579749,2.972410856185005,2.9785185963704524,2.933653623775053,2.89281038011284,2.9687197518383455,2.880475586193639,2.9760717799502783,2.9057295436140578,3.1396833800448185,3.136938709132218,2.972379697704931,3.06831320325301,2.81829007495249,4.195951430094927,3.9202317090113947,4.008214081867375,4.1182951634788285,4.097411813680673,3.938844996545681,4.040019889200416,4.082785068662461,3.8350885117834252,3.8206512872635976,6.033583840935436,6.015700827457215,6.056379871877281,9.994597898299041,9.955596991265985,10.125275604839752,9.931149650407793,10.1100469982052,10.042627194327954,11.031662703808323],\"y\":[3.66,3.7,3.5,3.1,3.04,3.1,3.4,3.2,3.4,3.7,3.39,3.12,4.1,3.2,3.58,4.0,3.5,3.51,3.49,3.56,3.09,3.56,3.6,3.1,3.78,3.78,3.09,3.58,4.14,3.6,3.9,3.2,3.6,3.5,3.5,3.4,3.6,3.5,3.9,4.1,3.19,3.73,2.92,3.53,3.73,3.6,2.97],\"type\":\"scatter\"},{\"marker\":{\"color\":\"#ffb418\",\"line\":{\"color\":\"black\",\"width\":2},\"size\":10,\"symbol\":\"diamond-tall-open\"},\"mode\":\"markers\",\"name\":\"metabolism (X-ray)\",\"opacity\":1,\"showlegend\":true,\"x\":[11.912610813154998,13.085240995602842,13.175646889519484,13.116515009738647,12.879336756493112,12.956924449730263,12.88183445363601,13.154050271370131,13.189843637832695,12.908085112725987,13.120848902613549,12.854353384225929,12.938068230548526,12.973998643514376,13.108028710941234,13.06175827009,12.946607619662666,13.067221461807943,13.154466782151829,12.913257702456567,12.87149242655251,12.854062608004504,12.910311686964837,13.002120304252776,12.929182955604537,13.00480293060045,13.041414255303417,13.019546650186994,12.91876320887526,12.835115512480254,12.813811234804444,13.101163129826014,13.016539831911324,13.158308420416274,13.181865100609722,12.979536151867899,12.922260093072795,12.98221084405193,12.91339227806674,13.079001368580679,13.903014800639147,13.849220861497301,13.830543817781328,14.118086738125802,13.82363987073833,14.138690425678961,13.865133244719772,13.899378746220357,13.955400063908268,13.89701635133521,13.942486991782072,13.861514965116536,14.098365525099005,13.917832967981811,14.147804323585655,13.965424497782656,13.891943558529038,14.117861115119057,14.076610607060449,14.191989504043207,14.108412386644593,14.131696123497486,14.040324485955953,14.002304137567503,13.957822118301882,13.968501778783994,13.88353958421677,14.193855508017831,13.847533125853312,14.121328722396122,14.021912177478127,13.98487856530454,13.88567127319037,13.94226639374049,13.821051944915808,14.148068569026826,13.908880113905894,14.152425946569599,14.138939199481827,14.062304764186056,14.101199640404042,14.19586548113076,13.91415866345164,14.000763696333271,14.194648887027425,13.804868978798142,13.887739727268132,13.991581911921797,14.194944536941758,14.111114186227931,14.053108397572737,13.883360078327282,14.005247688506106,14.90043956969709,15.060424113094939,15.863289705818486,15.88986887031131,16.09388817562447,15.99402412131501,16.1415894799874,16.092727554538403,16.087838749263998,16.09179203187414,16.091435632614967,15.937863792850251,16.081223843931305],\"y\":[3.3,2.33,1.6,1.55,1.7,2.0,1.29,2.46,2.03,1.56,2.1,1.93,2.19,1.87,1.88,2.0,2.6,1.5,1.8,1.3,1.86,2.0,2.1,1.75,1.8,2.07,1.85,1.95,1.8,2.51,2.38,1.98,2.2,1.75,2.13,2.7,1.79,2.2,1.86,2.5,2.15,2.3,2.0,2.5,2.26,2.48,2.05,2.2,2.1,2.25,2.76,2.2,2.8,2.8,3.14,2.0,2.25,2.58,2.4,2.25,2.3,2.3,2.37,2.55,2.7,2.15,2.0,2.8,2.67,2.8,2.8,2.0,2.1,2.8,2.8,2.22,2.27,2.3,2.7,1.85,2.27,2.15,2.25,2.8,2.26,2.55,2.05,2.65,1.9,2.45,2.28,2.56,2.52,2.6,2.7,2.36,2.56,2.36,2.3,2.7,2.35,2.5,1.9,2.3,2.3,2.0],\"type\":\"scatter\"},{\"marker\":{\"color\":\"#ffb418\",\"line\":{\"color\":\"black\",\"width\":2},\"size\":10,\"symbol\":\"asterisk\"},\"mode\":\"markers\",\"name\":\"metabolism (AlphaFold)\",\"opacity\":0,\"showlegend\":false,\"x\":[12,13,14,15,16],\"y\":[2.0,2.0,2.0,2.0,2.0],\"type\":\"scatter\"},{\"marker\":{\"color\":\"#ffb418\",\"line\":{\"color\":\"black\",\"width\":2},\"size\":10,\"symbol\":\"circle\"},\"mode\":\"markers\",\"name\":\"metabolism (EM)\",\"opacity\":1,\"showlegend\":true,\"x\":[12.080988585821803],\"y\":[2.85],\"type\":\"scatter\"},{\"marker\":{\"color\":\"#d07c09\",\"line\":{\"color\":\"black\",\"width\":2},\"size\":10,\"symbol\":\"diamond-tall-open\"},\"mode\":\"markers\",\"name\":\"metabolism_redox (X-ray)\",\"opacity\":1,\"showlegend\":true,\"x\":[16.810559206818898,17.050820352868296,17.948761996822853,18.034413014395906,17.914596070497723,18.139248532433292,18.09109719622574,17.930245737393697,18.181956900276816,17.9725051355902,17.88269528451681,17.885206189989756,18.16248171131548,18.061490754796058,17.943385838717063,17.82148938569003,18.086422931890556,17.888377389603235,17.895642603614398,19.171512327722176,18.99760639273254,19.042599568164295,18.872285325911665,20.156447606791254,19.80836370674705,19.807534116018353,20.127301769528927,19.973416140910118,20.106408096028314,20.13277526627731,20.014024223688278,19.96793082005054,19.84062136596296,20.05953961982442,19.80309990854699,20.025820375813524,20.057769239858477,20.170055184506598,19.924442009737575,19.997911006880173,20.101098216038153,20.08569267258206,19.929891859547524,20.010750499895185,19.82844895323452,19.875378647132088,19.858271433664555,19.94577595683525,19.836771895768585,20.14928301855566,20.029996036725226,20.171294024632346,20.050931082181396,20.022927024200285,19.80612383269247,19.852763399745204,20.011748981770097,20.111238859848008,19.98784463347551,20.074007460527056,19.82594694294471,19.915268877102122,20.110404030810344,20.18971013746563,19.803853984365503,19.851289521144718,19.99953069238718,19.809225781509756,19.91898518533512,19.93590347227958,19.82427184885198,19.822013057209105,19.869902126699913,19.960071784043183,19.85832976619547,20.86573265942212,20.923102114464996,21.04132179845517,21.142326303742504,20.9702742104561,20.833592363911,21.951416926348102,23.104973594739715,23.926638783963288,23.884977322411814,24.03959573213161,24.14185299110442,23.876634128562024,24.051691663688892,24.157896579706556,24.0953148388271,24.19647038099442,23.882400860590266,24.11456162720597,24.18556547005421,23.946741420268555,24.93598128126459,24.902389886724563,25.10791296095209,25.020469838620055,25.192455877104823,25.117270255157713,25.107249207173666,25.06720100139215,24.890437209390353,25.127833959025658,24.846944488878385,25.08852186555971,24.814999069546957,25.93255171858275,27.158469118761758,27.058065917617,27.01796113258464,26.844980508411673,27.052956565295446,26.916255280433294,27.17245788853256,26.99888771243153,27.11615242850075,27.005835440977624,26.987654643023475,26.87686434150856,27.009600544362247,27.055776539949793,27.88149701125663,27.845565415417855,28.006708887358148,28.14268702963427,27.95211109089657,27.894738909447756,28.00242848735403,28.02252448061775,27.904591381675203,27.995619152550034,28.04064026409932,27.97230019582454,27.83653068441152,28.064459811985625,27.970928360260217,27.84788443495451,27.947431123616717,27.903035126809783,27.917631339130434,28.129985588458393,27.805996322992662,28.06420114124617,27.969528936144417,28.012545801969395,28.010737715139467,28.020351745020367,28.026526567348085,28.145618166905734,28.140312690939364,28.198062225840673,27.83656749883872,28.07780783181914,27.87723491491175,28.081098521250883,28.161217650439045,27.899143867390478,27.87698708277801,27.87459858235084,27.972821527067044,27.874807082586052,28.02351156074933,27.84590421981062,28.125871832687288,28.144387597095566,28.181113771323233,27.964164782142845,27.955488213932938,28.116552939816778,27.91819978686332,27.855395864924965,28.16172797295494,27.90363897134242,28.053692632368143,28.163981624083217,28.17906393587878,27.957975981341523,27.918262298863855,27.94069062624934,27.87193686252948,28.078557561175998,28.149710396333116,28.138212724689915,28.139124397366242,28.172560614149866,27.90994216485144,27.881588763021384,28.15512350432627,27.94637187546226,28.109476119234998,27.832772234823278,27.89019260842313,28.103406328862544,28.136404491641184,28.159996132128974,27.85272975987481,28.019223447956026,28.14015430524818,27.85348738165199,29.138623707209316,28.849312321242714,29.129265487398662,28.95341334563508,29.18578982765485,29.037226210263526,29.104356716121966,28.827190053091766,29.052566993236436,28.966138773416667,28.929495319922143,28.947435957216843,29.06494186086416,29.109632358009602,29.10190511575079,29.036075412544474,29.121828162311132,28.946098232526325,29.153756886092758,29.192214205846874,28.891561788907516,28.8466039592637,29.11094120044705,28.868852521339146,28.87534154202718,29.000051797699633,28.96258104921333,29.04045866032495,28.81991151347233,29.07719723765764,28.937792769972447,28.88384668399276,28.977489419513738,29.128884716941325,28.98215803421088,28.9756056589725,28.922304310913148,29.065924356775763,29.031330826273813,29.190232878313907,30.94813431068647,30.943372018751262],\"y\":[2.49,2.5,1.8,1.6,1.6,1.8,2.07,1.74,1.8,1.9,1.85,1.85,1.95,1.7,2.05,2.1,2.0,1.6,1.7,2.2,3.0,3.15,2.17,2.0,2.2,1.83,1.9,1.8,1.6,1.65,2.12,2.07,3.1,2.4,1.7,2.3,3.0,2.3,1.89,1.8,2.42,1.8,1.8,1.6,1.7,2.3,1.7,2.3,1.8,2.3,2.1,1.7,2.2,2.1,1.7,2.5,1.7,2.06,2.0,2.2,1.7,1.7,1.6,1.7,2.0,2.3,2.3,1.9,1.6,2.1,1.66,2.2,2.2,2.4,2.2,2.7,2.6,3.39,2.7,3.1,2.6,3.0,1.95,2.1,2.0,2.8,2.24,2.0,2.2,1.93,2.27,2.8,1.76,2.1,2.03,2.99,2.6,2.23,3.12,2.3,2.48,2.0,2.3,2.0,2.45,2.0,2.55,2.0,2.9,2.87,2.67,2.39,3.0,2.85,2.6,2.26,2.35,2.1,2.5,2.4,2.71,2.75,2.39,3.3,2.4,2.15,2.05,2.05,2.15,2.2,2.25,2.1,2.65,2.35,2.2,2.2,1.95,1.7,2.7,2.7,2.6,2.45,2.5,2.95,2.76,2.4,2.6,2.85,2.5,2.9,2.72,2.3,2.05,2.8,2.65,2.74,2.75,2.23,2.8,2.25,2.15,1.93,2.25,2.8,2.76,2.0,2.5,2.6,2.42,2.75,2.5,2.75,2.78,2.45,2.25,2.75,2.35,2.5,2.9,2.4,2.7,2.4,2.2,2.3,2.65,2.5,2.75,2.25,2.57,2.7,2.52,2.25,2.38,2.67,2.2,2.6,2.5,2.79,2.55,2.65,2.55,2.5,2.55,1.91,2.73,2.2,2.16,1.96,2.35,2.35,2.35,3.2,2.35,2.35,2.37,2.5,1.8,2.07,2.19,2.72,2.35,2.6,2.45,1.8,1.55,2.11,2.3,3.1,1.9,2.69,2.3,2.25,2.6,2.5,2.55,3.0,2.65,2.3,2.19,2.3,2.35,2.8,2.6,3.59],\"type\":\"scatter\"},{\"marker\":{\"color\":\"#d07c09\",\"line\":{\"color\":\"black\",\"width\":2},\"size\":10,\"symbol\":\"asterisk\"},\"mode\":\"markers\",\"name\":\"metabolism_redox (AlphaFold)\",\"opacity\":0,\"showlegend\":false,\"x\":[17,18,19,20,21,22,23,24,25,26,27,28,29,30,31],\"y\":[2.0,2.0,2.0,2.0,2.0,2.0,2.0,2.0,2.0,2.0,2.0,2.0,2.0,2.0,2.0],\"type\":\"scatter\"},{\"marker\":{\"color\":\"#d07c09\",\"line\":{\"color\":\"black\",\"width\":2},\"size\":10,\"symbol\":\"circle\"},\"mode\":\"markers\",\"name\":\"metabolism_redox (EM)\",\"opacity\":1,\"showlegend\":true,\"x\":[18.17306356897593,18.17920804982123,17.80450205751081,20.844631237858174],\"y\":[2.64,3.4,2.84,2.92],\"type\":\"scatter\"},{\"marker\":{\"color\":\"#5e2bcb\",\"line\":{\"color\":\"black\",\"width\":2},\"size\":10,\"symbol\":\"diamond-tall-open\"},\"mode\":\"markers\",\"name\":\"toxicity (X-ray)\",\"opacity\":1,\"showlegend\":true,\"x\":[32.15154168494507,32.16795560311019,31.84716757353215,32.0921112013945,32.16820367486837,31.92448622306252,32.0487584308625,31.82302764168255,33.909891049705664,33.82410357041571,33.99671271586903,36.192671665585024,36.074603474432415,36.17214150169552,35.97918271589775,36.14710544480251,35.85259969825967,37.06270864322231,37.09900774364235,37.04400439877699,37.01169636688415,38.07299208041301,37.845097039184104,37.926441462989835,37.843171216532006,37.96591970407555,38.89971652766763,38.8620283020189,39.13222511408173,39.081760580756914,39.00492416400721,38.97534068352853,38.929992434620424,38.90594727150498,41.90618739950965,41.83307031780545,42.8599259461649,43.02380554883064,42.98999732221165,42.9491777406489,43.86522646548505,44.00944600272491,43.87445423074838,44.14641909312045,43.93103869928438,43.94328220223866,43.985482331380126,43.992089429789395,44.00268928227561,43.85530142197742,44.01136880947172,44.15835773128117,44.01354170952804,44.13114158948026,43.878150262256796,44.0256073049226,43.87789254807354,44.189435328062444,44.06361737324324,43.850587765523116,43.86283609042497,43.99130981232528,44.16924492076156,44.125656886088976,43.9295886510239,44.0964265255358,43.80251136766791,43.86730325057193,43.912596162267775,43.8479443483693,43.9759967740935,43.86929187800274,43.862968369473926,44.025483503800594,43.99427970687609,43.84212261412837,44.98715695125808,44.898306045972994,45.922939250726856,46.10811484201556,45.86124056283783,45.935527186911536,46.050608601779984,46.11064573710582,45.999540258943675,45.96924735804189,46.14160617003044,45.88281379713073,46.13016928949875,45.89909607506995,45.80394860738516,46.118949499673995,45.85466901504929,48.10103453197487,47.97740841712329,48.00420967476278,47.98456701687615,47.94749599745662,47.9939670106849,48.091467385138294,49.06465946844411,48.90779540813873,49.886225948077616,49.876676319753024,51.068194870284465,52.06509269349007,52.18864815063238,51.827674922452864,52.106262561116935,55.061493314280774,54.87731104227733,54.87502537033787,54.88523357127233,54.92548568584693,54.88344086281728,54.91512750700397,55.00520168337155,55.15346955195654,54.92383388276498,54.86587009420231,54.876470085049164,55.80794147557665,55.88232472047205,56.12152614582494,55.81844392324114,56.13404212475374,56.09780911199536],\"y\":[3.19,2.92,3.1,2.9,3.0,2.8,2.7,3.1,1.9,1.93,2.0,2.15,2.85,2.4,2.2,2.38,2.38,1.8,1.71,2.7,2.26,2.33,2.5,2.17,2.55,2.7,3.5,3.7,2.3,2.95,3.0,2.6,2.5,3.0,3.2,2.7,3.13,2.5,2.6,2.7,3.2,2.7,3.2,3.2,3.8,2.48,3.3,2.4,3.1,3.99,2.8,3.4,2.84,2.84,3.16,3.5,3.5,3.2,2.79,3.1,1.9,3.4,3.4,2.7,2.6,2.5,2.4,2.9,3.4,2.8,3.1,3.2,2.96,3.7,3.2,3.4,3.0,2.6,2.0,2.0,1.45,1.6,2.1,2.55,1.65,2.0,2.4,2.4,1.65,1.7,1.75,1.7,2.0,2.95,2.8,2.7,2.8,3.25,2.6,3.29,2.8,3.2,3.45,3.2,3.1,1.5,1.96,2.12,2.6,3.4,3.62,3.49,3.15,3.14,3.53,4.53,3.8,3.24,4.05,6.3,4.7,2.69,2.25,2.8,3.84,1.35,2.2],\"type\":\"scatter\"},{\"marker\":{\"color\":\"#5e2bcb\",\"line\":{\"color\":\"black\",\"width\":2},\"size\":10,\"symbol\":\"asterisk\"},\"mode\":\"markers\",\"name\":\"toxicity (AlphaFold)\",\"opacity\":0,\"showlegend\":false,\"x\":[32,33,34,35,36,37,38,39,40,41,42,43,44,45,46,47,48,49,50,51,52,53,54,55,56],\"y\":[2.0,2.0,2.0,2.0,2.0,2.0,2.0,2.0,2.0,2.0,2.0,2.0,2.0,2.0,2.0,2.0,2.0,2.0,2.0,2.0,2.0,2.0,2.0,2.0,2.0],\"type\":\"scatter\"},{\"marker\":{\"color\":\"#5e2bcb\",\"line\":{\"color\":\"black\",\"width\":2},\"size\":10,\"symbol\":\"circle\"},\"mode\":\"markers\",\"name\":\"toxicity (EM)\",\"opacity\":1,\"showlegend\":true,\"x\":[32.02325094287846,32.01194970529835,32.09468870639904,34.116906204053876,34.05591568114162,35.9929506669494,35.933142555702226,36.13953101651305,36.112993017753475,36.02490356740194,35.826564376659626,35.83794599202246,35.9516535718106,35.910258957223135,36.142891012544354,36.1992287978218,37.862270381619965,39.01096434413677,38.98533290471837,39.15497349738339,38.89326486343735,39.0182942242922,38.80521734808433,40.15503619506337,39.84066831493091,40.07952278945526,39.9283696205729,41.11640514004001,41.054604468503044,42.144135913612054,41.999161945363724,42.183569463013576,42.07150637545567,42.17926921257862,41.95578669587002,42.19770226628856,44.03980215595718,44.02494322345019,43.94097303805403,44.13592202161186,43.95686429239148,44.01989773700109,45.90465190416749,45.82472468902978,46.97862856186441,47.12240404612451,46.839506510601524,46.87773931895931,47.14624927137964,48.175287312954765,48.02316192271871,48.125222797130604,48.02389624601346,48.93834032200539,48.80024197771201,48.92331532523508,49.07791907086985,49.14953950017841,48.98199024256921,49.93077004324943,49.83296541889557,49.804396678940684,50.10415404176923,50.15903903758657,49.82793553311576,49.97133654570577,49.954301119523706,50.122047584579505,50.01649687365077,49.977451575898705,50.15559156192408,50.08280359524852,50.151107940963925,49.839026319307926,50.089828395377914,50.01385235341059,50.03529935478474,49.8166540218268,50.08749763289388,50.066330773363426,49.888350586896486,50.12647879792556,49.97554242188903,50.052058740551644,49.84730959292682,50.13947600192662,50.82727497099246,51.806951330936876,51.960973532408026,52.02337385597174,54.986143502552075,55.01631231159116,54.97922870238373,54.95889786579491,55.052836873933686,55.036820988449705,55.10821203284133,55.12009064703594,55.01805579078758,55.14743747337219,55.038116670432174,55.17065039294073,54.9661242235211,54.9974956377197,54.80271617028806,55.81304672814164,56.142199468179676],\"y\":[2.9,3.3,2.7,3.34,3.87,2.3,3.4,3.02,4.4,2.8,2.7,3.6,3.0,2.85,3.18,2.7,3.3,3.22,3.32,3.6,3.21,4.0,3.16,2.79,2.69,2.56,2.69,3.1,2.6,3.4,3.0,3.2,4.1,3.47,3.4,3.6,3.4,3.8,3.26,3.82,3.2,3.8,3.4,3.1,2.8,3.1,3.3,3.0,3.0,3.0,2.8,3.36,3.0,2.97,2.84,3.08,2.9,2.98,3.2,3.8,3.8,3.1,3.04,3.69,3.26,3.58,3.2,2.55,3.49,3.5,2.92,3.23,3.3,3.04,2.86,2.71,2.98,2.65,2.9,3.12,3.0,3.0,2.7,3.0,2.79,2.9,3.3,4.0,3.8,3.7,3.5,3.65,4.2,3.0,3.3,3.9,3.9,3.5,4.1,3.8,4.1,3.3,3.6,4.1,4.3,3.3,3.3],\"type\":\"scatter\"}],                        {\"height\":600,\"template\":{\"data\":{\"barpolar\":[{\"marker\":{\"line\":{\"color\":\"white\",\"width\":0.5},\"pattern\":{\"fillmode\":\"overlay\",\"size\":10,\"solidity\":0.2}},\"type\":\"barpolar\"}],\"bar\":[{\"error_x\":{\"color\":\"rgb(36,36,36)\"},\"error_y\":{\"color\":\"rgb(36,36,36)\"},\"marker\":{\"line\":{\"color\":\"white\",\"width\":0.5},\"pattern\":{\"fillmode\":\"overlay\",\"size\":10,\"solidity\":0.2}},\"type\":\"bar\"}],\"carpet\":[{\"aaxis\":{\"endlinecolor\":\"rgb(36,36,36)\",\"gridcolor\":\"white\",\"linecolor\":\"white\",\"minorgridcolor\":\"white\",\"startlinecolor\":\"rgb(36,36,36)\"},\"baxis\":{\"endlinecolor\":\"rgb(36,36,36)\",\"gridcolor\":\"white\",\"linecolor\":\"white\",\"minorgridcolor\":\"white\",\"startlinecolor\":\"rgb(36,36,36)\"},\"type\":\"carpet\"}],\"choropleth\":[{\"colorbar\":{\"outlinewidth\":1,\"tickcolor\":\"rgb(36,36,36)\",\"ticks\":\"outside\"},\"type\":\"choropleth\"}],\"contourcarpet\":[{\"colorbar\":{\"outlinewidth\":1,\"tickcolor\":\"rgb(36,36,36)\",\"ticks\":\"outside\"},\"type\":\"contourcarpet\"}],\"contour\":[{\"colorbar\":{\"outlinewidth\":1,\"tickcolor\":\"rgb(36,36,36)\",\"ticks\":\"outside\"},\"colorscale\":[[0.0,\"#440154\"],[0.1111111111111111,\"#482878\"],[0.2222222222222222,\"#3e4989\"],[0.3333333333333333,\"#31688e\"],[0.4444444444444444,\"#26828e\"],[0.5555555555555556,\"#1f9e89\"],[0.6666666666666666,\"#35b779\"],[0.7777777777777778,\"#6ece58\"],[0.8888888888888888,\"#b5de2b\"],[1.0,\"#fde725\"]],\"type\":\"contour\"}],\"heatmapgl\":[{\"colorbar\":{\"outlinewidth\":1,\"tickcolor\":\"rgb(36,36,36)\",\"ticks\":\"outside\"},\"colorscale\":[[0.0,\"#440154\"],[0.1111111111111111,\"#482878\"],[0.2222222222222222,\"#3e4989\"],[0.3333333333333333,\"#31688e\"],[0.4444444444444444,\"#26828e\"],[0.5555555555555556,\"#1f9e89\"],[0.6666666666666666,\"#35b779\"],[0.7777777777777778,\"#6ece58\"],[0.8888888888888888,\"#b5de2b\"],[1.0,\"#fde725\"]],\"type\":\"heatmapgl\"}],\"heatmap\":[{\"colorbar\":{\"outlinewidth\":1,\"tickcolor\":\"rgb(36,36,36)\",\"ticks\":\"outside\"},\"colorscale\":[[0.0,\"#440154\"],[0.1111111111111111,\"#482878\"],[0.2222222222222222,\"#3e4989\"],[0.3333333333333333,\"#31688e\"],[0.4444444444444444,\"#26828e\"],[0.5555555555555556,\"#1f9e89\"],[0.6666666666666666,\"#35b779\"],[0.7777777777777778,\"#6ece58\"],[0.8888888888888888,\"#b5de2b\"],[1.0,\"#fde725\"]],\"type\":\"heatmap\"}],\"histogram2dcontour\":[{\"colorbar\":{\"outlinewidth\":1,\"tickcolor\":\"rgb(36,36,36)\",\"ticks\":\"outside\"},\"colorscale\":[[0.0,\"#440154\"],[0.1111111111111111,\"#482878\"],[0.2222222222222222,\"#3e4989\"],[0.3333333333333333,\"#31688e\"],[0.4444444444444444,\"#26828e\"],[0.5555555555555556,\"#1f9e89\"],[0.6666666666666666,\"#35b779\"],[0.7777777777777778,\"#6ece58\"],[0.8888888888888888,\"#b5de2b\"],[1.0,\"#fde725\"]],\"type\":\"histogram2dcontour\"}],\"histogram2d\":[{\"colorbar\":{\"outlinewidth\":1,\"tickcolor\":\"rgb(36,36,36)\",\"ticks\":\"outside\"},\"colorscale\":[[0.0,\"#440154\"],[0.1111111111111111,\"#482878\"],[0.2222222222222222,\"#3e4989\"],[0.3333333333333333,\"#31688e\"],[0.4444444444444444,\"#26828e\"],[0.5555555555555556,\"#1f9e89\"],[0.6666666666666666,\"#35b779\"],[0.7777777777777778,\"#6ece58\"],[0.8888888888888888,\"#b5de2b\"],[1.0,\"#fde725\"]],\"type\":\"histogram2d\"}],\"histogram\":[{\"marker\":{\"line\":{\"color\":\"white\",\"width\":0.6}},\"type\":\"histogram\"}],\"mesh3d\":[{\"colorbar\":{\"outlinewidth\":1,\"tickcolor\":\"rgb(36,36,36)\",\"ticks\":\"outside\"},\"type\":\"mesh3d\"}],\"parcoords\":[{\"line\":{\"colorbar\":{\"outlinewidth\":1,\"tickcolor\":\"rgb(36,36,36)\",\"ticks\":\"outside\"}},\"type\":\"parcoords\"}],\"pie\":[{\"automargin\":true,\"type\":\"pie\"}],\"scatter3d\":[{\"line\":{\"colorbar\":{\"outlinewidth\":1,\"tickcolor\":\"rgb(36,36,36)\",\"ticks\":\"outside\"}},\"marker\":{\"colorbar\":{\"outlinewidth\":1,\"tickcolor\":\"rgb(36,36,36)\",\"ticks\":\"outside\"}},\"type\":\"scatter3d\"}],\"scattercarpet\":[{\"marker\":{\"colorbar\":{\"outlinewidth\":1,\"tickcolor\":\"rgb(36,36,36)\",\"ticks\":\"outside\"}},\"type\":\"scattercarpet\"}],\"scattergeo\":[{\"marker\":{\"colorbar\":{\"outlinewidth\":1,\"tickcolor\":\"rgb(36,36,36)\",\"ticks\":\"outside\"}},\"type\":\"scattergeo\"}],\"scattergl\":[{\"marker\":{\"colorbar\":{\"outlinewidth\":1,\"tickcolor\":\"rgb(36,36,36)\",\"ticks\":\"outside\"}},\"type\":\"scattergl\"}],\"scattermapbox\":[{\"marker\":{\"colorbar\":{\"outlinewidth\":1,\"tickcolor\":\"rgb(36,36,36)\",\"ticks\":\"outside\"}},\"type\":\"scattermapbox\"}],\"scatterpolargl\":[{\"marker\":{\"colorbar\":{\"outlinewidth\":1,\"tickcolor\":\"rgb(36,36,36)\",\"ticks\":\"outside\"}},\"type\":\"scatterpolargl\"}],\"scatterpolar\":[{\"marker\":{\"colorbar\":{\"outlinewidth\":1,\"tickcolor\":\"rgb(36,36,36)\",\"ticks\":\"outside\"}},\"type\":\"scatterpolar\"}],\"scatter\":[{\"fillpattern\":{\"fillmode\":\"overlay\",\"size\":10,\"solidity\":0.2},\"type\":\"scatter\"}],\"scatterternary\":[{\"marker\":{\"colorbar\":{\"outlinewidth\":1,\"tickcolor\":\"rgb(36,36,36)\",\"ticks\":\"outside\"}},\"type\":\"scatterternary\"}],\"surface\":[{\"colorbar\":{\"outlinewidth\":1,\"tickcolor\":\"rgb(36,36,36)\",\"ticks\":\"outside\"},\"colorscale\":[[0.0,\"#440154\"],[0.1111111111111111,\"#482878\"],[0.2222222222222222,\"#3e4989\"],[0.3333333333333333,\"#31688e\"],[0.4444444444444444,\"#26828e\"],[0.5555555555555556,\"#1f9e89\"],[0.6666666666666666,\"#35b779\"],[0.7777777777777778,\"#6ece58\"],[0.8888888888888888,\"#b5de2b\"],[1.0,\"#fde725\"]],\"type\":\"surface\"}],\"table\":[{\"cells\":{\"fill\":{\"color\":\"rgb(237,237,237)\"},\"line\":{\"color\":\"white\"}},\"header\":{\"fill\":{\"color\":\"rgb(217,217,217)\"},\"line\":{\"color\":\"white\"}},\"type\":\"table\"}]},\"layout\":{\"annotationdefaults\":{\"arrowhead\":0,\"arrowwidth\":1},\"autotypenumbers\":\"strict\",\"coloraxis\":{\"colorbar\":{\"outlinewidth\":1,\"tickcolor\":\"rgb(36,36,36)\",\"ticks\":\"outside\"}},\"colorscale\":{\"diverging\":[[0.0,\"rgb(103,0,31)\"],[0.1,\"rgb(178,24,43)\"],[0.2,\"rgb(214,96,77)\"],[0.3,\"rgb(244,165,130)\"],[0.4,\"rgb(253,219,199)\"],[0.5,\"rgb(247,247,247)\"],[0.6,\"rgb(209,229,240)\"],[0.7,\"rgb(146,197,222)\"],[0.8,\"rgb(67,147,195)\"],[0.9,\"rgb(33,102,172)\"],[1.0,\"rgb(5,48,97)\"]],\"sequential\":[[0.0,\"#440154\"],[0.1111111111111111,\"#482878\"],[0.2222222222222222,\"#3e4989\"],[0.3333333333333333,\"#31688e\"],[0.4444444444444444,\"#26828e\"],[0.5555555555555556,\"#1f9e89\"],[0.6666666666666666,\"#35b779\"],[0.7777777777777778,\"#6ece58\"],[0.8888888888888888,\"#b5de2b\"],[1.0,\"#fde725\"]],\"sequentialminus\":[[0.0,\"#440154\"],[0.1111111111111111,\"#482878\"],[0.2222222222222222,\"#3e4989\"],[0.3333333333333333,\"#31688e\"],[0.4444444444444444,\"#26828e\"],[0.5555555555555556,\"#1f9e89\"],[0.6666666666666666,\"#35b779\"],[0.7777777777777778,\"#6ece58\"],[0.8888888888888888,\"#b5de2b\"],[1.0,\"#fde725\"]]},\"colorway\":[\"#1F77B4\",\"#FF7F0E\",\"#2CA02C\",\"#D62728\",\"#9467BD\",\"#8C564B\",\"#E377C2\",\"#7F7F7F\",\"#BCBD22\",\"#17BECF\"],\"font\":{\"color\":\"rgb(36,36,36)\"},\"geo\":{\"bgcolor\":\"white\",\"lakecolor\":\"white\",\"landcolor\":\"white\",\"showlakes\":true,\"showland\":true,\"subunitcolor\":\"white\"},\"hoverlabel\":{\"align\":\"left\"},\"hovermode\":\"closest\",\"mapbox\":{\"style\":\"light\"},\"paper_bgcolor\":\"white\",\"plot_bgcolor\":\"white\",\"polar\":{\"angularaxis\":{\"gridcolor\":\"rgb(232,232,232)\",\"linecolor\":\"rgb(36,36,36)\",\"showgrid\":false,\"showline\":true,\"ticks\":\"outside\"},\"bgcolor\":\"white\",\"radialaxis\":{\"gridcolor\":\"rgb(232,232,232)\",\"linecolor\":\"rgb(36,36,36)\",\"showgrid\":false,\"showline\":true,\"ticks\":\"outside\"}},\"scene\":{\"xaxis\":{\"backgroundcolor\":\"white\",\"gridcolor\":\"rgb(232,232,232)\",\"gridwidth\":2,\"linecolor\":\"rgb(36,36,36)\",\"showbackground\":true,\"showgrid\":false,\"showline\":true,\"ticks\":\"outside\",\"zeroline\":false,\"zerolinecolor\":\"rgb(36,36,36)\"},\"yaxis\":{\"backgroundcolor\":\"white\",\"gridcolor\":\"rgb(232,232,232)\",\"gridwidth\":2,\"linecolor\":\"rgb(36,36,36)\",\"showbackground\":true,\"showgrid\":false,\"showline\":true,\"ticks\":\"outside\",\"zeroline\":false,\"zerolinecolor\":\"rgb(36,36,36)\"},\"zaxis\":{\"backgroundcolor\":\"white\",\"gridcolor\":\"rgb(232,232,232)\",\"gridwidth\":2,\"linecolor\":\"rgb(36,36,36)\",\"showbackground\":true,\"showgrid\":false,\"showline\":true,\"ticks\":\"outside\",\"zeroline\":false,\"zerolinecolor\":\"rgb(36,36,36)\"}},\"shapedefaults\":{\"fillcolor\":\"black\",\"line\":{\"width\":0},\"opacity\":0.3},\"ternary\":{\"aaxis\":{\"gridcolor\":\"rgb(232,232,232)\",\"linecolor\":\"rgb(36,36,36)\",\"showgrid\":false,\"showline\":true,\"ticks\":\"outside\"},\"baxis\":{\"gridcolor\":\"rgb(232,232,232)\",\"linecolor\":\"rgb(36,36,36)\",\"showgrid\":false,\"showline\":true,\"ticks\":\"outside\"},\"bgcolor\":\"white\",\"caxis\":{\"gridcolor\":\"rgb(232,232,232)\",\"linecolor\":\"rgb(36,36,36)\",\"showgrid\":false,\"showline\":true,\"ticks\":\"outside\"}},\"title\":{\"x\":0.05},\"xaxis\":{\"automargin\":true,\"gridcolor\":\"rgb(232,232,232)\",\"linecolor\":\"rgb(36,36,36)\",\"showgrid\":false,\"showline\":true,\"ticks\":\"outside\",\"title\":{\"standoff\":15},\"zeroline\":false,\"zerolinecolor\":\"rgb(36,36,36)\"},\"yaxis\":{\"automargin\":true,\"gridcolor\":\"rgb(232,232,232)\",\"linecolor\":\"rgb(36,36,36)\",\"showgrid\":false,\"showline\":true,\"ticks\":\"outside\",\"title\":{\"standoff\":15},\"zeroline\":false,\"zerolinecolor\":\"rgb(36,36,36)\"}}},\"title\":{\"text\":\"Protein Analysis\"},\"width\":1600,\"xaxis\":{\"range\":[-0.5,57.5],\"ticktext\":[\"A1AG1 (P02763)\",\"OXA1L (Q15070)\",\"ABCBB (O95342)\",\"ABCG2 (Q9UNQ0)\",\"MDR1 (P08183)\",\"MRP1 (P33527)\",\"S15A1 (P46059)\",\"S22A6 (Q4U2R8)\",\"S22A8 (Q8TCC7)\",\"S47A1 (Q96FL8)\",\"SO1B1 (Q9Y6L6)\",\"SO1B3 (Q9NPD5)\",\"AHR (P35869)\",\"GSTA1 (P08263)\",\"NR1I2 (O75469)\",\"NR1I3 (Q14994)\",\"ST1A1 (P50225)\",\"ADH1A (P07327)\",\"AL1A1 (P00352)\",\"AOFA (P21397)\",\"AOFB (P27338)\",\"AOXA (Q06278)\",\"ARK73 (O95154)\",\"CP1A2 (P05177)\",\"CP2B6 (P20813)\",\"CP2C9 (P11712)\",\"CP2CJ (P33261)\",\"CP2D6 (P10635)\",\"CP3A4 (P08684)\",\"DHI1 (P28845)\",\"FMO1 (Q01740)\",\"XDH (P47989)\",\"5HT2B (P41595)\",\"ACH10 (Q9GZZ6)\",\"ACHA3 (P32297)\",\"ACHA5 (P30532)\",\"ACHA7 (P36544)\",\"ACHA9 (Q9UGM1)\",\"ACM1 (P11229)\",\"ACM2 (P08172)\",\"ACM3 (P20309)\",\"ADA1A (P35348)\",\"ADA2A (P08913)\",\"ADRB1 (P08588)\",\"ADRB2 (P07550)\",\"ASM3A (Q92484)\",\"CAC1C (Q13936)\",\"CACB1 (Q02641)\",\"CNR1 (P21554)\",\"CNR2 (P34972)\",\"GBRA1 (P14867)\",\"HRH1 (P35367)\",\"KCNH2 (Q12809)\",\"SC6A2 (P23975)\",\"SC6A3 (Q01959)\",\"SC6A4 (P31645)\",\"SCN5A (Q14524)\"],\"tickvals\":[0,1,2,3,4,5,6,7,8,9,10,11,12,13,14,15,16,17,18,19,20,21,22,23,24,25,26,27,28,29,30,31,32,33,34,35,36,37,38,39,40,41,42,43,44,45,46,47,48,49,50,51,52,53,54,55,56],\"title\":{\"text\":\"Protein Name\"}},\"yaxis\":{\"title\":{\"text\":\"Resolution(A)\"}}},                        {\"responsive\": true}                    ).then(function(){\n                            \nvar gd = document.getElementById('53ae72bd-c098-4efe-9de3-b35730114638');\nvar x = new MutationObserver(function (mutations, observer) {{\n        var display = window.getComputedStyle(gd).display;\n        if (!display || display === 'none') {{\n            console.log([gd, 'removed!']);\n            Plotly.purge(gd);\n            observer.disconnect();\n        }}\n}});\n\n// Listen for the removal of the full notebook cells\nvar notebookContainer = gd.closest('#notebook-container');\nif (notebookContainer) {{\n    x.observe(notebookContainer, {childList: true});\n}}\n\n// Listen for the clearing of the current output cell\nvar outputEl = gd.closest('.output');\nif (outputEl) {{\n    x.observe(outputEl, {childList: true});\n}}\n\n                        })                };                });            </script>        </div>"
     },
     "metadata": {},
     "output_type": "display_data"
    }
   ],
   "source": [
    "import plotly.graph_objects as go\n",
    "import numpy as np\n",
    "# Create traces for each unique value in 'Method'\n",
    "traces = []\n",
    "\n",
    "for category in category_list:\n",
    "    for method in df['Method'].unique():\n",
    "        df_subset = df[(df['Method'] == method) & (df['Category'] == category)]\n",
    "        \n",
    "        # marker_size = df_subset[\"Average Sequence Coverage\"].apply(lambda x: x * 16 if not np.isnan(x) else 10)\n",
    "        \n",
    "        # Add random jitter to the x-axis values\n",
    "        if method == 'AlphaFold':\n",
    "            x_values = [protein_name_mapping[name] for name in df_subset['Protein Name']]\n",
    "        else:\n",
    "            jitter = np.random.uniform(low=-jitter_amount, high=jitter_amount, size=len(df_subset))\n",
    "            x_values = [protein_name_mapping[name] + jitter[i] for i, name in enumerate(df_subset['Protein Name'])]\n",
    "        trace = go.Scatter(\n",
    "            x=x_values,\n",
    "            y=df_subset['Resolution (A)'],\n",
    "            mode='markers',\n",
    "            name=f\"{category} ({method})\",\n",
    "            marker=dict(size=10, color=colors[category], symbol=symbols[method], line_width=2, line_color='black'),\n",
    "            showlegend=False if method == 'AlphaFold' else True,\n",
    "            opacity=0 if method == 'AlphaFold' else 1,\n",
    "        )\n",
    "        traces.append(trace)\n",
    "\n",
    "# Create layout\n",
    "layout = go.Layout(\n",
    "    title=\"Protein Analysis\",\n",
    "    xaxis=dict(title='Protein Name',\n",
    "               range=[-0.5, len(protein_name_mapping) + 0.5],\n",
    "               tickvals=list(protein_name_mapping.values()), \n",
    "               ticktext=protein_names),\n",
    "    yaxis=dict(title='Resolution(A)'),\n",
    "    template='simple_white',\n",
    "    width=1600,\n",
    "    height=600\n",
    ")\n",
    "\n",
    "# Create figure\n",
    "fig = go.Figure(data=traces, layout=layout)\n",
    "\n",
    "# Show plot\n",
    "fig.show()"
   ],
   "metadata": {
    "collapsed": false,
    "ExecuteTime": {
     "end_time": "2024-02-21T22:03:34.103801Z",
     "start_time": "2024-02-21T22:03:33.964765Z"
    }
   },
   "id": "74abbe1841059fa1",
   "execution_count": 250
  },
  {
   "cell_type": "code",
   "outputs": [],
   "source": [
    "fig.write_image(fig_dir / 'experimental_structure_analysis.png')\n",
    "fig.write_image(fig_dir / 'experimental_structure_analysis.svg')"
   ],
   "metadata": {
    "collapsed": false,
    "ExecuteTime": {
     "end_time": "2024-02-21T21:17:50.919609Z",
     "start_time": "2024-02-21T21:17:49.975858Z"
    }
   },
   "id": "973db30c96756fc3",
   "execution_count": 163
  },
  {
   "cell_type": "code",
   "outputs": [
    {
     "data": {
      "text/plain": "     Protein Name          Category  Average Sequence Coverage  \\\n3  ABCBB (O95342)  drug_transporter                   0.986374   \n2  ABCBB (O95342)  drug_transporter                   0.986374   \n1  ABCBB (O95342)  drug_transporter                   0.986374   \n0  ABCBB (O95342)  drug_transporter                   0.986374   \n\n   Number of Experimental Structures  Sequence Length  Resolution (A)  \\\n3                                  3             1321            2.00   \n2                                  3             1321            3.66   \n1                                  3             1321            3.70   \n0                                  3             1321            3.50   \n\n      Method  \n3  AlphaFold  \n2         EM  \n1         EM  \n0         EM  ",
      "text/html": "<div>\n<style scoped>\n    .dataframe tbody tr th:only-of-type {\n        vertical-align: middle;\n    }\n\n    .dataframe tbody tr th {\n        vertical-align: top;\n    }\n\n    .dataframe thead th {\n        text-align: right;\n    }\n</style>\n<table border=\"1\" class=\"dataframe\">\n  <thead>\n    <tr style=\"text-align: right;\">\n      <th></th>\n      <th>Protein Name</th>\n      <th>Category</th>\n      <th>Average Sequence Coverage</th>\n      <th>Number of Experimental Structures</th>\n      <th>Sequence Length</th>\n      <th>Resolution (A)</th>\n      <th>Method</th>\n    </tr>\n  </thead>\n  <tbody>\n    <tr>\n      <th>3</th>\n      <td>ABCBB (O95342)</td>\n      <td>drug_transporter</td>\n      <td>0.986374</td>\n      <td>3</td>\n      <td>1321</td>\n      <td>2.00</td>\n      <td>AlphaFold</td>\n    </tr>\n    <tr>\n      <th>2</th>\n      <td>ABCBB (O95342)</td>\n      <td>drug_transporter</td>\n      <td>0.986374</td>\n      <td>3</td>\n      <td>1321</td>\n      <td>3.66</td>\n      <td>EM</td>\n    </tr>\n    <tr>\n      <th>1</th>\n      <td>ABCBB (O95342)</td>\n      <td>drug_transporter</td>\n      <td>0.986374</td>\n      <td>3</td>\n      <td>1321</td>\n      <td>3.70</td>\n      <td>EM</td>\n    </tr>\n    <tr>\n      <th>0</th>\n      <td>ABCBB (O95342)</td>\n      <td>drug_transporter</td>\n      <td>0.986374</td>\n      <td>3</td>\n      <td>1321</td>\n      <td>3.50</td>\n      <td>EM</td>\n    </tr>\n  </tbody>\n</table>\n</div>"
     },
     "execution_count": 189,
     "metadata": {},
     "output_type": "execute_result"
    }
   ],
   "source": [
    "df[df[\"Protein Name\"] == \"ABCBB (O95342)\"]"
   ],
   "metadata": {
    "collapsed": false,
    "ExecuteTime": {
     "end_time": "2024-02-21T21:37:49.789429Z",
     "start_time": "2024-02-21T21:37:49.722482Z"
    }
   },
   "id": "d0aeeb69f72019b9",
   "execution_count": 189
  },
  {
   "cell_type": "code",
   "outputs": [],
   "source": [],
   "metadata": {
    "collapsed": false
   },
   "id": "9a484bff9ac47038"
  }
 ],
 "metadata": {
  "kernelspec": {
   "display_name": "Python 3",
   "language": "python",
   "name": "python3"
  },
  "language_info": {
   "codemirror_mode": {
    "name": "ipython",
    "version": 2
   },
   "file_extension": ".py",
   "mimetype": "text/x-python",
   "name": "python",
   "nbconvert_exporter": "python",
   "pygments_lexer": "ipython2",
   "version": "2.7.6"
  }
 },
 "nbformat": 4,
 "nbformat_minor": 5
}
