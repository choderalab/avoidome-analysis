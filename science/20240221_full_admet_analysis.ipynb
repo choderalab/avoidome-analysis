{
 "cells": [
  {
   "cell_type": "code",
   "outputs": [],
   "source": [
    "from pathlib import Path\n",
    "import yaml\n",
    "from tqdm import tqdm\n",
    "import avoidome.uniprot as uniprot\n",
    "import avoidome.schema as schema\n",
    "from importlib import reload"
   ],
   "metadata": {
    "collapsed": false,
    "ExecuteTime": {
     "end_time": "2024-02-22T16:29:58.302027Z",
     "start_time": "2024-02-22T16:29:55.972233Z"
    }
   },
   "id": "36832d2df695415b",
   "execution_count": 1
  },
  {
   "cell_type": "markdown",
   "source": [
    "# Download"
   ],
   "metadata": {
    "collapsed": false
   },
   "id": "bda07ac731f1ad0e"
  },
  {
   "cell_type": "code",
   "outputs": [],
   "source": [
    "data_dir = Path('../data')\n",
    "fig_dir = Path('../figures')\n",
    "uniprot_dir = data_dir / 'uniprot_downloads'\n",
    "af_dir = data_dir / 'alphafold_downloads'"
   ],
   "metadata": {
    "collapsed": false,
    "ExecuteTime": {
     "end_time": "2024-02-22T16:29:58.306945Z",
     "start_time": "2024-02-22T16:29:58.302798Z"
    }
   },
   "id": "f5db180a4d9f06ff",
   "execution_count": 2
  },
  {
   "cell_type": "markdown",
   "source": [
    "## use curated data this time"
   ],
   "metadata": {
    "collapsed": false
   },
   "id": "e46331ebfbc360e"
  },
  {
   "cell_type": "code",
   "outputs": [],
   "source": [
    "with open(data_dir / 'admet_names_curated.yml') as f:\n",
    "    adme_names = yaml.safe_load(f)"
   ],
   "metadata": {
    "collapsed": false,
    "ExecuteTime": {
     "end_time": "2024-02-22T16:29:58.364706Z",
     "start_time": "2024-02-22T16:29:58.306512Z"
    }
   },
   "id": "2f53257fc18e498e",
   "execution_count": 3
  },
  {
   "cell_type": "code",
   "outputs": [
    {
     "name": "stderr",
     "output_type": "stream",
     "text": [
      "100%|██████████| 57/57 [00:39<00:00,  1.45it/s]\n"
     ]
    }
   ],
   "source": [
    "exp_structure_dict = {}\n",
    "failed = []\n",
    "success = []\n",
    "for protein in tqdm(adme_names):\n",
    "    uniprot_id = protein['uniprot']\n",
    "    ue = uniprot.UniprotEntry.from_uniprot_id(uniprot_id)\n",
    "    try:\n",
    "        exp_structure_dict[ue.name] = ue.get_experimental_structures()\n",
    "        success.append(ue)\n",
    "    except:\n",
    "        failed.append(ue)"
   ],
   "metadata": {
    "collapsed": false,
    "ExecuteTime": {
     "end_time": "2024-02-22T16:30:37.693160Z",
     "start_time": "2024-02-22T16:29:58.342451Z"
    }
   },
   "id": "b40e306c5e2519c9",
   "execution_count": 4
  },
  {
   "cell_type": "code",
   "outputs": [
    {
     "data": {
      "text/plain": "0"
     },
     "execution_count": 5,
     "metadata": {},
     "output_type": "execute_result"
    }
   ],
   "source": [
    "len(failed)"
   ],
   "metadata": {
    "collapsed": false,
    "ExecuteTime": {
     "end_time": "2024-02-22T16:30:37.694447Z",
     "start_time": "2024-02-22T16:30:37.677078Z"
    }
   },
   "id": "3a24f11a4669886b",
   "execution_count": 5
  },
  {
   "cell_type": "code",
   "outputs": [
    {
     "data": {
      "text/plain": "57"
     },
     "execution_count": 6,
     "metadata": {},
     "output_type": "execute_result"
    }
   ],
   "source": [
    "len(success)"
   ],
   "metadata": {
    "collapsed": false,
    "ExecuteTime": {
     "end_time": "2024-02-22T16:30:37.697832Z",
     "start_time": "2024-02-22T16:30:37.686511Z"
    }
   },
   "id": "eb2c1e80d26fc7e0",
   "execution_count": 6
  },
  {
   "cell_type": "code",
   "outputs": [
    {
     "name": "stderr",
     "output_type": "stream",
     "text": [
      "100%|██████████| 57/57 [00:14<00:00,  3.97it/s]\n"
     ]
    }
   ],
   "source": [
    "for ue in tqdm(success):\n",
    "    yaml.safe_dump(ue.dict(), open(f\"{uniprot_dir / ue.data['id']}.yml\", 'w'))"
   ],
   "metadata": {
    "collapsed": false,
    "ExecuteTime": {
     "end_time": "2024-02-22T16:30:52.116802Z",
     "start_time": "2024-02-22T16:30:37.693528Z"
    }
   },
   "id": "b84e45ca9255ce92",
   "execution_count": 7
  },
  {
   "cell_type": "markdown",
   "source": [
    "# Reload"
   ],
   "metadata": {
    "collapsed": false
   },
   "id": "9fb724eb90983b7b"
  },
  {
   "cell_type": "code",
   "outputs": [
    {
     "name": "stderr",
     "output_type": "stream",
     "text": [
      "100%|██████████| 57/57 [00:26<00:00,  2.18it/s]\n"
     ]
    }
   ],
   "source": [
    "entries = list(uniprot_dir.glob('*.yml'))\n",
    "uniprot_entries = [uniprot.UniprotEntry.from_dict(yaml.safe_load(open(file, 'r'))) for file in tqdm(entries)]"
   ],
   "metadata": {
    "collapsed": false,
    "ExecuteTime": {
     "end_time": "2024-02-22T16:31:18.180475Z",
     "start_time": "2024-02-22T16:30:52.050261Z"
    }
   },
   "id": "256ee51ebb113b30",
   "execution_count": 8
  },
  {
   "cell_type": "markdown",
   "source": [
    "# Get AlphaFold Structures"
   ],
   "metadata": {
    "collapsed": false
   },
   "id": "13898a7e3e7ba37b"
  },
  {
   "cell_type": "code",
   "outputs": [
    {
     "name": "stderr",
     "output_type": "stream",
     "text": [
      "100%|██████████| 57/57 [00:08<00:00,  6.92it/s]\n"
     ]
    }
   ],
   "source": [
    "# i've made this return a list but it's only ever going to be one\n",
    "af_structures = [u.get_alphafold_structures()[0] for u in tqdm(uniprot_entries)]"
   ],
   "metadata": {
    "collapsed": false,
    "ExecuteTime": {
     "end_time": "2024-02-22T16:31:26.427430Z",
     "start_time": "2024-02-22T16:31:18.179992Z"
    }
   },
   "id": "10f7ba645a6fe281",
   "execution_count": 9
  },
  {
   "cell_type": "markdown",
   "source": [
    "## Download the structures"
   ],
   "metadata": {
    "collapsed": false
   },
   "id": "f12d5fd2a75a8022"
  },
  {
   "cell_type": "code",
   "outputs": [],
   "source": [
    "from asapdiscovery.data.utils import download_file"
   ],
   "metadata": {
    "collapsed": false,
    "ExecuteTime": {
     "end_time": "2024-02-22T16:31:27.101270Z",
     "start_time": "2024-02-22T16:31:26.429695Z"
    }
   },
   "id": "fdb82d6b72f68ec9",
   "execution_count": 10
  },
  {
   "cell_type": "code",
   "outputs": [],
   "source": [
    "for p in af_structures:\n",
    "    if not (af_dir / f\"{p.af_id}.cif\").exists():\n",
    "        download_file(p.model_url, af_dir / f\"{p.af_id}.cif\")"
   ],
   "metadata": {
    "collapsed": false,
    "ExecuteTime": {
     "end_time": "2024-02-22T16:31:32.510086Z",
     "start_time": "2024-02-22T16:31:27.087604Z"
    }
   },
   "id": "19914cd49e0d7fc",
   "execution_count": 11
  },
  {
   "cell_type": "markdown",
   "source": [
    "# Calculate the pLDDT"
   ],
   "metadata": {
    "collapsed": false
   },
   "id": "48a7c9452a9f4b3c"
  },
  {
   "cell_type": "code",
   "outputs": [],
   "source": [
    "from asapdiscovery.data.openeye import load_openeye_cif, oechem\n",
    "import numpy as np"
   ],
   "metadata": {
    "collapsed": false,
    "ExecuteTime": {
     "end_time": "2024-02-22T16:31:32.539064Z",
     "start_time": "2024-02-22T16:31:32.510499Z"
    }
   },
   "id": "4fda2697dbfe7f35",
   "execution_count": 12
  },
  {
   "cell_type": "code",
   "outputs": [],
   "source": [
    "def calculate_high_confidence(af_id, af_dir, cutoff=90):\n",
    "    \"\"\"\n",
    "    Load the downloaded model with openeye, get the residues.\n",
    "    Get the bfactor of each residue (which is the pLDDT score for this case)\n",
    "    Calculate the number of residues with high confidence (>90)\n",
    "    :param af_id: \n",
    "    :return: \n",
    "    \"\"\"\n",
    "    mol = load_openeye_cif(af_dir / f\"{af_id}.cif\")\n",
    "    residues = {oechem.OEAtomGetResidue(atom) for atom in mol.GetAtoms() if oechem.OEHasResidue(atom)}\n",
    "    bfactors = np.array([res.GetBFactor() for res in residues])\n",
    "    return sum(bfactors > cutoff)"
   ],
   "metadata": {
    "collapsed": false,
    "ExecuteTime": {
     "end_time": "2024-02-22T16:31:32.541411Z",
     "start_time": "2024-02-22T16:31:32.519141Z"
    }
   },
   "id": "1958e183a5e6ea50",
   "execution_count": 13
  },
  {
   "cell_type": "code",
   "outputs": [
    {
     "name": "stderr",
     "output_type": "stream",
     "text": [
      "100%|██████████| 57/57 [00:05<00:00, 10.95it/s]\n"
     ]
    }
   ],
   "source": [
    "confidence_dict = {p.components[0].name: calculate_high_confidence(p.af_id, af_dir, 90) / p.components[0].length  for p in tqdm(af_structures)}"
   ],
   "metadata": {
    "collapsed": false,
    "ExecuteTime": {
     "end_time": "2024-02-22T16:31:37.740206Z",
     "start_time": "2024-02-22T16:31:32.525670Z"
    }
   },
   "id": "24db9e4c7a2ab4eb",
   "execution_count": 14
  },
  {
   "cell_type": "markdown",
   "source": [
    "# Plot"
   ],
   "metadata": {
    "collapsed": false
   },
   "id": "9f41ac8d626035b1"
  },
  {
   "cell_type": "markdown",
   "source": [
    "## construct plotly df"
   ],
   "metadata": {
    "collapsed": false
   },
   "id": "887f902f1ffe4d7f"
  },
  {
   "cell_type": "code",
   "outputs": [],
   "source": [
    "category_dict = {e['uniprot']: e['admet_category'] for e in adme_names}"
   ],
   "metadata": {
    "collapsed": false,
    "ExecuteTime": {
     "end_time": "2024-02-22T16:31:37.755523Z",
     "start_time": "2024-02-22T16:31:37.738863Z"
    }
   },
   "id": "4d4d91e4568486b2",
   "execution_count": 15
  },
  {
   "cell_type": "code",
   "outputs": [],
   "source": [
    "import pandas as pd"
   ],
   "metadata": {
    "collapsed": false,
    "ExecuteTime": {
     "end_time": "2024-02-22T16:31:37.790681Z",
     "start_time": "2024-02-22T16:31:37.742666Z"
    }
   },
   "id": "ab9f31484c7c300b",
   "execution_count": 16
  },
  {
   "cell_type": "code",
   "outputs": [
    {
     "data": {
      "text/plain": "dict_keys(['NR1I2_HUMAN', 'ACM3_HUMAN', 'ARK73_HUMAN', 'CP2CJ_HUMAN', 'KCNH2_HUMAN', 'DHI1_HUMAN', 'FMO1_HUMAN', 'A1AG1_HUMAN', 'AOFA_HUMAN', 'ASM3A_HUMAN', 'SCN5A_HUMAN', 'AOXA_HUMAN', 'ADA2A_HUMAN', 'NR1I3_HUMAN', 'SO1B1_HUMAN', 'AL1A1_HUMAN', 'ACHA7_HUMAN', 'GSTA1_HUMAN', 'ACM2_HUMAN', 'CNR1_HUMAN', 'CACB1_HUMAN', 'CP2D6_HUMAN', 'S22A8_HUMAN', 'CP3A4_HUMAN', '5HT2B_HUMAN', 'ADRB2_HUMAN', 'ST1A1_HUMAN', 'CP1A2_HUMAN', 'ACM1_HUMAN', 'MDR1_HUMAN', 'SC6A3_HUMAN', 'ABCG2_HUMAN', 'CP2C9_HUMAN', 'ACHA9_HUMAN', 'ALBU_HUMAN', 'XDH_HUMAN', 'CNR2_HUMAN', 'CAC1C_HUMAN', 'GBRA1_HUMAN', 'CP2B6_HUMAN', 'ADRB1_HUMAN', 'S22A6_HUMAN', 'ADH1A_HUMAN', 'SO1B3_HUMAN', 'ACHA5_HUMAN', 'S47A1_HUMAN', 'SC6A2_HUMAN', 'ADA1A_HUMAN', 'MRP1_HUMAN', 'ACH10_HUMAN', 'SC6A4_HUMAN', 'ABCBB_HUMAN', 'S15A1_HUMAN', 'HRH1_HUMAN', 'ACHA3_HUMAN', 'AHR_HUMAN', 'AOFB_HUMAN'])"
     },
     "execution_count": 17,
     "metadata": {},
     "output_type": "execute_result"
    }
   ],
   "source": [
    "confidence_dict.keys()"
   ],
   "metadata": {
    "collapsed": false,
    "ExecuteTime": {
     "end_time": "2024-02-22T16:31:37.815593Z",
     "start_time": "2024-02-22T16:31:37.772777Z"
    }
   },
   "id": "27ce955847551730",
   "execution_count": 17
  },
  {
   "cell_type": "code",
   "outputs": [],
   "source": [
    "name_to_uniprot = {af.components[0].name: af.components[0].uniprot_id for af in af_structures}\n",
    "uniprot_to_name = {v: k for k, v in name_to_uniprot.items()}"
   ],
   "metadata": {
    "collapsed": false,
    "ExecuteTime": {
     "end_time": "2024-02-22T16:31:37.849689Z",
     "start_time": "2024-02-22T16:31:37.795168Z"
    }
   },
   "id": "8d921c324874cf2a",
   "execution_count": 18
  },
  {
   "cell_type": "code",
   "outputs": [],
   "source": [
    "confidence_df = pd.DataFrame({'Protein Name': list(confidence_dict.keys()), \n",
    "                              'Fraction': list(confidence_dict.values()), \n",
    "                              'Category': [category_dict[name_to_uniprot[k]] for k in confidence_dict.keys()]})"
   ],
   "metadata": {
    "collapsed": false,
    "ExecuteTime": {
     "end_time": "2024-02-22T16:31:37.852028Z",
     "start_time": "2024-02-22T16:31:37.802081Z"
    }
   },
   "id": "b9cf1231472bcb25",
   "execution_count": 19
  },
  {
   "cell_type": "code",
   "outputs": [],
   "source": [
    "confidence_df.sort_values('Protein Name', inplace=True)"
   ],
   "metadata": {
    "collapsed": false,
    "ExecuteTime": {
     "end_time": "2024-02-22T16:31:37.869510Z",
     "start_time": "2024-02-22T16:31:37.808403Z"
    }
   },
   "id": "802d3f6a06a24a5b",
   "execution_count": 20
  },
  {
   "cell_type": "code",
   "outputs": [],
   "source": [
    "import plotly.express as px"
   ],
   "metadata": {
    "collapsed": false,
    "ExecuteTime": {
     "end_time": "2024-02-22T16:31:37.949648Z",
     "start_time": "2024-02-22T16:31:37.812749Z"
    }
   },
   "id": "21af9caaf895ba7b",
   "execution_count": 21
  },
  {
   "cell_type": "code",
   "outputs": [],
   "source": [
    "color_sequence = [\"#00bf7d\", \"#00b4c5\", \"#c44601\", \"#2546f0\", \"#5928ed\"] "
   ],
   "metadata": {
    "collapsed": false,
    "ExecuteTime": {
     "end_time": "2024-02-22T16:31:37.952030Z",
     "start_time": "2024-02-22T16:31:37.909555Z"
    }
   },
   "id": "3cd5a82a7df8057b",
   "execution_count": 22
  },
  {
   "cell_type": "code",
   "outputs": [
    {
     "name": "stderr",
     "output_type": "stream",
     "text": [
      "/Users/alexpayne/miniforge-pypy3/envs/asapdiscovery/lib/python3.10/site-packages/plotly/express/_core.py:2065: FutureWarning:\n",
      "\n",
      "When grouping with a length-1 list-like, you will need to pass a length-1 tuple to get_group in a future version of pandas. Pass `(name,)` instead of `name` to silence this warning.\n",
      "\n"
     ]
    }
   ],
   "source": [
    "fig = px.bar(confidence_df,\n",
    "             x='Protein Name',\n",
    "                y='Fraction',\n",
    "             labels={'x': 'Protein', 'y': 'Fraction'}, \n",
    "             title='Fraction of Sequence Modeled with Very High Confidence (pLDDT > 90)', \n",
    "             template='simple_white',\n",
    "             width=1200,\n",
    "             height=600,\n",
    "             category_orders={'Category': ['metabolism', 'distribution', 'transporters', 'toxicity']},\n",
    "             color=\"Category\",\n",
    "             color_discrete_sequence=color_sequence,\n",
    "             )"
   ],
   "metadata": {
    "collapsed": false,
    "ExecuteTime": {
     "end_time": "2024-02-22T16:34:08.046247Z",
     "start_time": "2024-02-22T16:34:07.805917Z"
    }
   },
   "id": "86f3a3dd84b8fdc3",
   "execution_count": 52
  },
  {
   "cell_type": "code",
   "outputs": [
    {
     "data": {
      "application/vnd.plotly.v1+json": {
       "data": [
        {
         "alignmentgroup": "True",
         "hovertemplate": "Category=metabolism<br>Protein Name=%{x}<br>Fraction=%{y}<extra></extra>",
         "legendgroup": "metabolism",
         "marker": {
          "color": "#00bf7d",
          "pattern": {
           "shape": ""
          }
         },
         "name": "metabolism",
         "offsetgroup": "metabolism",
         "orientation": "v",
         "showlegend": true,
         "textposition": "auto",
         "x": [
          "ADH1A_HUMAN",
          "AHR_HUMAN",
          "AL1A1_HUMAN",
          "AOFA_HUMAN",
          "AOFB_HUMAN",
          "AOXA_HUMAN",
          "ARK73_HUMAN",
          "CP1A2_HUMAN",
          "CP2B6_HUMAN",
          "CP2C9_HUMAN",
          "CP2CJ_HUMAN",
          "CP2D6_HUMAN",
          "CP3A4_HUMAN",
          "DHI1_HUMAN",
          "FMO1_HUMAN",
          "GSTA1_HUMAN",
          "NR1I2_HUMAN",
          "NR1I3_HUMAN",
          "ST1A1_HUMAN",
          "XDH_HUMAN"
         ],
         "xaxis": "x",
         "y": [
          0.9973262032085561,
          0.21251475796930341,
          0.98,
          0.9695817490494296,
          0.9171483622350675,
          0.9214659685863874,
          0.9606060606060606,
          0.916504854368932,
          0.9040816326530612,
          0.787321063394683,
          0.8609406952965235,
          0.8568548387096774,
          0.8147410358565738,
          0.8694158075601375,
          0.8606403013182674,
          0.9773755656108597,
          0.6859122401847575,
          0.7293447293447294,
          0.9761904761904762,
          0.9346846846846847
         ],
         "yaxis": "y",
         "type": "bar"
        },
        {
         "alignmentgroup": "True",
         "hovertemplate": "Category=distribution<br>Protein Name=%{x}<br>Fraction=%{y}<extra></extra>",
         "legendgroup": "distribution",
         "marker": {
          "color": "#00b4c5",
          "pattern": {
           "shape": ""
          }
         },
         "name": "distribution",
         "offsetgroup": "distribution",
         "orientation": "v",
         "showlegend": true,
         "textposition": "auto",
         "x": [
          "A1AG1_HUMAN",
          "ALBU_HUMAN"
         ],
         "xaxis": "x",
         "y": [
          0.72,
          0.8832236842105263
         ],
         "yaxis": "y",
         "type": "bar"
        },
        {
         "alignmentgroup": "True",
         "hovertemplate": "Category=transporters<br>Protein Name=%{x}<br>Fraction=%{y}<extra></extra>",
         "legendgroup": "transporters",
         "marker": {
          "color": "#c44601",
          "pattern": {
           "shape": ""
          }
         },
         "name": "transporters",
         "offsetgroup": "transporters",
         "orientation": "v",
         "showlegend": true,
         "textposition": "auto",
         "x": [
          "ABCBB_HUMAN",
          "ABCG2_HUMAN",
          "MDR1_HUMAN",
          "MRP1_HUMAN",
          "S15A1_HUMAN",
          "S22A6_HUMAN",
          "S22A8_HUMAN",
          "S47A1_HUMAN",
          "SO1B1_HUMAN",
          "SO1B3_HUMAN"
         ],
         "xaxis": "x",
         "y": [
          0.47954545454545455,
          0.6498470948012233,
          0.5504300234558248,
          0.4071895424836601,
          0.5190947666195191,
          0.39679715302491103,
          0.5138632162661737,
          0.7873462214411248,
          0.5173913043478261,
          0.4964336661911555
         ],
         "yaxis": "y",
         "type": "bar"
        },
        {
         "alignmentgroup": "True",
         "hovertemplate": "Category=toxicity<br>Protein Name=%{x}<br>Fraction=%{y}<extra></extra>",
         "legendgroup": "toxicity",
         "marker": {
          "color": "#2546f0",
          "pattern": {
           "shape": ""
          }
         },
         "name": "toxicity",
         "offsetgroup": "toxicity",
         "orientation": "v",
         "showlegend": true,
         "textposition": "auto",
         "x": [
          "5HT2B_HUMAN",
          "ACH10_HUMAN",
          "ACHA3_HUMAN",
          "ACHA5_HUMAN",
          "ACHA7_HUMAN",
          "ACHA9_HUMAN",
          "ACM1_HUMAN",
          "ACM2_HUMAN",
          "ACM3_HUMAN",
          "ADA1A_HUMAN",
          "ADA2A_HUMAN",
          "ADRB1_HUMAN",
          "ADRB2_HUMAN",
          "ASM3A_HUMAN",
          "CAC1C_HUMAN",
          "CACB1_HUMAN",
          "CNR1_HUMAN",
          "CNR2_HUMAN",
          "GBRA1_HUMAN",
          "HRH1_HUMAN",
          "KCNH2_HUMAN",
          "SC6A2_HUMAN",
          "SC6A3_HUMAN",
          "SC6A4_HUMAN",
          "SCN5A_HUMAN"
         ],
         "xaxis": "x",
         "y": [
          0.38125,
          0.5033407572383074,
          0.6011904761904762,
          0.4518201284796574,
          0.3772455089820359,
          0.45188284518828453,
          0.5054466230936819,
          0.5118279569892473,
          0.32088285229202035,
          0.4236559139784946,
          0.47413793103448276,
          0.4831932773109244,
          0.587378640776699,
          0.9048672566371682,
          0.09684684684684684,
          0.4221105527638191,
          0.46284501061571126,
          0.637883008356546,
          0.6505494505494506,
          0.3991769547325103,
          0.25734024179620035,
          0.7386363636363636,
          0.7382875605815832,
          0.7567567567567568,
          0.11017369727047147
         ],
         "yaxis": "y",
         "type": "bar"
        }
       ],
       "layout": {
        "template": {
         "data": {
          "barpolar": [
           {
            "marker": {
             "line": {
              "color": "white",
              "width": 0.5
             },
             "pattern": {
              "fillmode": "overlay",
              "size": 10,
              "solidity": 0.2
             }
            },
            "type": "barpolar"
           }
          ],
          "bar": [
           {
            "error_x": {
             "color": "rgb(36,36,36)"
            },
            "error_y": {
             "color": "rgb(36,36,36)"
            },
            "marker": {
             "line": {
              "color": "white",
              "width": 0.5
             },
             "pattern": {
              "fillmode": "overlay",
              "size": 10,
              "solidity": 0.2
             }
            },
            "type": "bar"
           }
          ],
          "carpet": [
           {
            "aaxis": {
             "endlinecolor": "rgb(36,36,36)",
             "gridcolor": "white",
             "linecolor": "white",
             "minorgridcolor": "white",
             "startlinecolor": "rgb(36,36,36)"
            },
            "baxis": {
             "endlinecolor": "rgb(36,36,36)",
             "gridcolor": "white",
             "linecolor": "white",
             "minorgridcolor": "white",
             "startlinecolor": "rgb(36,36,36)"
            },
            "type": "carpet"
           }
          ],
          "choropleth": [
           {
            "colorbar": {
             "outlinewidth": 1,
             "tickcolor": "rgb(36,36,36)",
             "ticks": "outside"
            },
            "type": "choropleth"
           }
          ],
          "contourcarpet": [
           {
            "colorbar": {
             "outlinewidth": 1,
             "tickcolor": "rgb(36,36,36)",
             "ticks": "outside"
            },
            "type": "contourcarpet"
           }
          ],
          "contour": [
           {
            "colorbar": {
             "outlinewidth": 1,
             "tickcolor": "rgb(36,36,36)",
             "ticks": "outside"
            },
            "colorscale": [
             [
              0.0,
              "#440154"
             ],
             [
              0.1111111111111111,
              "#482878"
             ],
             [
              0.2222222222222222,
              "#3e4989"
             ],
             [
              0.3333333333333333,
              "#31688e"
             ],
             [
              0.4444444444444444,
              "#26828e"
             ],
             [
              0.5555555555555556,
              "#1f9e89"
             ],
             [
              0.6666666666666666,
              "#35b779"
             ],
             [
              0.7777777777777778,
              "#6ece58"
             ],
             [
              0.8888888888888888,
              "#b5de2b"
             ],
             [
              1.0,
              "#fde725"
             ]
            ],
            "type": "contour"
           }
          ],
          "heatmapgl": [
           {
            "colorbar": {
             "outlinewidth": 1,
             "tickcolor": "rgb(36,36,36)",
             "ticks": "outside"
            },
            "colorscale": [
             [
              0.0,
              "#440154"
             ],
             [
              0.1111111111111111,
              "#482878"
             ],
             [
              0.2222222222222222,
              "#3e4989"
             ],
             [
              0.3333333333333333,
              "#31688e"
             ],
             [
              0.4444444444444444,
              "#26828e"
             ],
             [
              0.5555555555555556,
              "#1f9e89"
             ],
             [
              0.6666666666666666,
              "#35b779"
             ],
             [
              0.7777777777777778,
              "#6ece58"
             ],
             [
              0.8888888888888888,
              "#b5de2b"
             ],
             [
              1.0,
              "#fde725"
             ]
            ],
            "type": "heatmapgl"
           }
          ],
          "heatmap": [
           {
            "colorbar": {
             "outlinewidth": 1,
             "tickcolor": "rgb(36,36,36)",
             "ticks": "outside"
            },
            "colorscale": [
             [
              0.0,
              "#440154"
             ],
             [
              0.1111111111111111,
              "#482878"
             ],
             [
              0.2222222222222222,
              "#3e4989"
             ],
             [
              0.3333333333333333,
              "#31688e"
             ],
             [
              0.4444444444444444,
              "#26828e"
             ],
             [
              0.5555555555555556,
              "#1f9e89"
             ],
             [
              0.6666666666666666,
              "#35b779"
             ],
             [
              0.7777777777777778,
              "#6ece58"
             ],
             [
              0.8888888888888888,
              "#b5de2b"
             ],
             [
              1.0,
              "#fde725"
             ]
            ],
            "type": "heatmap"
           }
          ],
          "histogram2dcontour": [
           {
            "colorbar": {
             "outlinewidth": 1,
             "tickcolor": "rgb(36,36,36)",
             "ticks": "outside"
            },
            "colorscale": [
             [
              0.0,
              "#440154"
             ],
             [
              0.1111111111111111,
              "#482878"
             ],
             [
              0.2222222222222222,
              "#3e4989"
             ],
             [
              0.3333333333333333,
              "#31688e"
             ],
             [
              0.4444444444444444,
              "#26828e"
             ],
             [
              0.5555555555555556,
              "#1f9e89"
             ],
             [
              0.6666666666666666,
              "#35b779"
             ],
             [
              0.7777777777777778,
              "#6ece58"
             ],
             [
              0.8888888888888888,
              "#b5de2b"
             ],
             [
              1.0,
              "#fde725"
             ]
            ],
            "type": "histogram2dcontour"
           }
          ],
          "histogram2d": [
           {
            "colorbar": {
             "outlinewidth": 1,
             "tickcolor": "rgb(36,36,36)",
             "ticks": "outside"
            },
            "colorscale": [
             [
              0.0,
              "#440154"
             ],
             [
              0.1111111111111111,
              "#482878"
             ],
             [
              0.2222222222222222,
              "#3e4989"
             ],
             [
              0.3333333333333333,
              "#31688e"
             ],
             [
              0.4444444444444444,
              "#26828e"
             ],
             [
              0.5555555555555556,
              "#1f9e89"
             ],
             [
              0.6666666666666666,
              "#35b779"
             ],
             [
              0.7777777777777778,
              "#6ece58"
             ],
             [
              0.8888888888888888,
              "#b5de2b"
             ],
             [
              1.0,
              "#fde725"
             ]
            ],
            "type": "histogram2d"
           }
          ],
          "histogram": [
           {
            "marker": {
             "line": {
              "color": "white",
              "width": 0.6
             }
            },
            "type": "histogram"
           }
          ],
          "mesh3d": [
           {
            "colorbar": {
             "outlinewidth": 1,
             "tickcolor": "rgb(36,36,36)",
             "ticks": "outside"
            },
            "type": "mesh3d"
           }
          ],
          "parcoords": [
           {
            "line": {
             "colorbar": {
              "outlinewidth": 1,
              "tickcolor": "rgb(36,36,36)",
              "ticks": "outside"
             }
            },
            "type": "parcoords"
           }
          ],
          "pie": [
           {
            "automargin": true,
            "type": "pie"
           }
          ],
          "scatter3d": [
           {
            "line": {
             "colorbar": {
              "outlinewidth": 1,
              "tickcolor": "rgb(36,36,36)",
              "ticks": "outside"
             }
            },
            "marker": {
             "colorbar": {
              "outlinewidth": 1,
              "tickcolor": "rgb(36,36,36)",
              "ticks": "outside"
             }
            },
            "type": "scatter3d"
           }
          ],
          "scattercarpet": [
           {
            "marker": {
             "colorbar": {
              "outlinewidth": 1,
              "tickcolor": "rgb(36,36,36)",
              "ticks": "outside"
             }
            },
            "type": "scattercarpet"
           }
          ],
          "scattergeo": [
           {
            "marker": {
             "colorbar": {
              "outlinewidth": 1,
              "tickcolor": "rgb(36,36,36)",
              "ticks": "outside"
             }
            },
            "type": "scattergeo"
           }
          ],
          "scattergl": [
           {
            "marker": {
             "colorbar": {
              "outlinewidth": 1,
              "tickcolor": "rgb(36,36,36)",
              "ticks": "outside"
             }
            },
            "type": "scattergl"
           }
          ],
          "scattermapbox": [
           {
            "marker": {
             "colorbar": {
              "outlinewidth": 1,
              "tickcolor": "rgb(36,36,36)",
              "ticks": "outside"
             }
            },
            "type": "scattermapbox"
           }
          ],
          "scatterpolargl": [
           {
            "marker": {
             "colorbar": {
              "outlinewidth": 1,
              "tickcolor": "rgb(36,36,36)",
              "ticks": "outside"
             }
            },
            "type": "scatterpolargl"
           }
          ],
          "scatterpolar": [
           {
            "marker": {
             "colorbar": {
              "outlinewidth": 1,
              "tickcolor": "rgb(36,36,36)",
              "ticks": "outside"
             }
            },
            "type": "scatterpolar"
           }
          ],
          "scatter": [
           {
            "fillpattern": {
             "fillmode": "overlay",
             "size": 10,
             "solidity": 0.2
            },
            "type": "scatter"
           }
          ],
          "scatterternary": [
           {
            "marker": {
             "colorbar": {
              "outlinewidth": 1,
              "tickcolor": "rgb(36,36,36)",
              "ticks": "outside"
             }
            },
            "type": "scatterternary"
           }
          ],
          "surface": [
           {
            "colorbar": {
             "outlinewidth": 1,
             "tickcolor": "rgb(36,36,36)",
             "ticks": "outside"
            },
            "colorscale": [
             [
              0.0,
              "#440154"
             ],
             [
              0.1111111111111111,
              "#482878"
             ],
             [
              0.2222222222222222,
              "#3e4989"
             ],
             [
              0.3333333333333333,
              "#31688e"
             ],
             [
              0.4444444444444444,
              "#26828e"
             ],
             [
              0.5555555555555556,
              "#1f9e89"
             ],
             [
              0.6666666666666666,
              "#35b779"
             ],
             [
              0.7777777777777778,
              "#6ece58"
             ],
             [
              0.8888888888888888,
              "#b5de2b"
             ],
             [
              1.0,
              "#fde725"
             ]
            ],
            "type": "surface"
           }
          ],
          "table": [
           {
            "cells": {
             "fill": {
              "color": "rgb(237,237,237)"
             },
             "line": {
              "color": "white"
             }
            },
            "header": {
             "fill": {
              "color": "rgb(217,217,217)"
             },
             "line": {
              "color": "white"
             }
            },
            "type": "table"
           }
          ]
         },
         "layout": {
          "annotationdefaults": {
           "arrowhead": 0,
           "arrowwidth": 1
          },
          "autotypenumbers": "strict",
          "coloraxis": {
           "colorbar": {
            "outlinewidth": 1,
            "tickcolor": "rgb(36,36,36)",
            "ticks": "outside"
           }
          },
          "colorscale": {
           "diverging": [
            [
             0.0,
             "rgb(103,0,31)"
            ],
            [
             0.1,
             "rgb(178,24,43)"
            ],
            [
             0.2,
             "rgb(214,96,77)"
            ],
            [
             0.3,
             "rgb(244,165,130)"
            ],
            [
             0.4,
             "rgb(253,219,199)"
            ],
            [
             0.5,
             "rgb(247,247,247)"
            ],
            [
             0.6,
             "rgb(209,229,240)"
            ],
            [
             0.7,
             "rgb(146,197,222)"
            ],
            [
             0.8,
             "rgb(67,147,195)"
            ],
            [
             0.9,
             "rgb(33,102,172)"
            ],
            [
             1.0,
             "rgb(5,48,97)"
            ]
           ],
           "sequential": [
            [
             0.0,
             "#440154"
            ],
            [
             0.1111111111111111,
             "#482878"
            ],
            [
             0.2222222222222222,
             "#3e4989"
            ],
            [
             0.3333333333333333,
             "#31688e"
            ],
            [
             0.4444444444444444,
             "#26828e"
            ],
            [
             0.5555555555555556,
             "#1f9e89"
            ],
            [
             0.6666666666666666,
             "#35b779"
            ],
            [
             0.7777777777777778,
             "#6ece58"
            ],
            [
             0.8888888888888888,
             "#b5de2b"
            ],
            [
             1.0,
             "#fde725"
            ]
           ],
           "sequentialminus": [
            [
             0.0,
             "#440154"
            ],
            [
             0.1111111111111111,
             "#482878"
            ],
            [
             0.2222222222222222,
             "#3e4989"
            ],
            [
             0.3333333333333333,
             "#31688e"
            ],
            [
             0.4444444444444444,
             "#26828e"
            ],
            [
             0.5555555555555556,
             "#1f9e89"
            ],
            [
             0.6666666666666666,
             "#35b779"
            ],
            [
             0.7777777777777778,
             "#6ece58"
            ],
            [
             0.8888888888888888,
             "#b5de2b"
            ],
            [
             1.0,
             "#fde725"
            ]
           ]
          },
          "colorway": [
           "#1F77B4",
           "#FF7F0E",
           "#2CA02C",
           "#D62728",
           "#9467BD",
           "#8C564B",
           "#E377C2",
           "#7F7F7F",
           "#BCBD22",
           "#17BECF"
          ],
          "font": {
           "color": "rgb(36,36,36)"
          },
          "geo": {
           "bgcolor": "white",
           "lakecolor": "white",
           "landcolor": "white",
           "showlakes": true,
           "showland": true,
           "subunitcolor": "white"
          },
          "hoverlabel": {
           "align": "left"
          },
          "hovermode": "closest",
          "mapbox": {
           "style": "light"
          },
          "paper_bgcolor": "white",
          "plot_bgcolor": "white",
          "polar": {
           "angularaxis": {
            "gridcolor": "rgb(232,232,232)",
            "linecolor": "rgb(36,36,36)",
            "showgrid": false,
            "showline": true,
            "ticks": "outside"
           },
           "bgcolor": "white",
           "radialaxis": {
            "gridcolor": "rgb(232,232,232)",
            "linecolor": "rgb(36,36,36)",
            "showgrid": false,
            "showline": true,
            "ticks": "outside"
           }
          },
          "scene": {
           "xaxis": {
            "backgroundcolor": "white",
            "gridcolor": "rgb(232,232,232)",
            "gridwidth": 2,
            "linecolor": "rgb(36,36,36)",
            "showbackground": true,
            "showgrid": false,
            "showline": true,
            "ticks": "outside",
            "zeroline": false,
            "zerolinecolor": "rgb(36,36,36)"
           },
           "yaxis": {
            "backgroundcolor": "white",
            "gridcolor": "rgb(232,232,232)",
            "gridwidth": 2,
            "linecolor": "rgb(36,36,36)",
            "showbackground": true,
            "showgrid": false,
            "showline": true,
            "ticks": "outside",
            "zeroline": false,
            "zerolinecolor": "rgb(36,36,36)"
           },
           "zaxis": {
            "backgroundcolor": "white",
            "gridcolor": "rgb(232,232,232)",
            "gridwidth": 2,
            "linecolor": "rgb(36,36,36)",
            "showbackground": true,
            "showgrid": false,
            "showline": true,
            "ticks": "outside",
            "zeroline": false,
            "zerolinecolor": "rgb(36,36,36)"
           }
          },
          "shapedefaults": {
           "fillcolor": "black",
           "line": {
            "width": 0
           },
           "opacity": 0.3
          },
          "ternary": {
           "aaxis": {
            "gridcolor": "rgb(232,232,232)",
            "linecolor": "rgb(36,36,36)",
            "showgrid": false,
            "showline": true,
            "ticks": "outside"
           },
           "baxis": {
            "gridcolor": "rgb(232,232,232)",
            "linecolor": "rgb(36,36,36)",
            "showgrid": false,
            "showline": true,
            "ticks": "outside"
           },
           "bgcolor": "white",
           "caxis": {
            "gridcolor": "rgb(232,232,232)",
            "linecolor": "rgb(36,36,36)",
            "showgrid": false,
            "showline": true,
            "ticks": "outside"
           }
          },
          "title": {
           "x": 0.05
          },
          "xaxis": {
           "automargin": true,
           "gridcolor": "rgb(232,232,232)",
           "linecolor": "rgb(36,36,36)",
           "showgrid": false,
           "showline": true,
           "ticks": "outside",
           "title": {
            "standoff": 15
           },
           "zeroline": false,
           "zerolinecolor": "rgb(36,36,36)"
          },
          "yaxis": {
           "automargin": true,
           "gridcolor": "rgb(232,232,232)",
           "linecolor": "rgb(36,36,36)",
           "showgrid": false,
           "showline": true,
           "ticks": "outside",
           "title": {
            "standoff": 15
           },
           "zeroline": false,
           "zerolinecolor": "rgb(36,36,36)"
          }
         }
        },
        "xaxis": {
         "anchor": "y",
         "domain": [
          0.0,
          1.0
         ],
         "title": {
          "text": "Protein Name"
         }
        },
        "yaxis": {
         "anchor": "x",
         "domain": [
          0.0,
          1.0
         ],
         "title": {
          "text": "Fraction"
         }
        },
        "legend": {
         "title": {
          "text": "Category"
         },
         "tracegroupgap": 0
        },
        "title": {
         "text": "Fraction of Sequence Modeled with Very High Confidence (pLDDT > 90)"
        },
        "barmode": "relative",
        "height": 600,
        "width": 1200
       },
       "config": {
        "plotlyServerURL": "https://plot.ly"
       }
      },
      "text/html": "<div>                            <div id=\"2413a593-fa49-4c0b-acbb-7d96ea018700\" class=\"plotly-graph-div\" style=\"height:600px; width:1200px;\"></div>            <script type=\"text/javascript\">                require([\"plotly\"], function(Plotly) {                    window.PLOTLYENV=window.PLOTLYENV || {};                                    if (document.getElementById(\"2413a593-fa49-4c0b-acbb-7d96ea018700\")) {                    Plotly.newPlot(                        \"2413a593-fa49-4c0b-acbb-7d96ea018700\",                        [{\"alignmentgroup\":\"True\",\"hovertemplate\":\"Category=metabolism\\u003cbr\\u003eProtein Name=%{x}\\u003cbr\\u003eFraction=%{y}\\u003cextra\\u003e\\u003c\\u002fextra\\u003e\",\"legendgroup\":\"metabolism\",\"marker\":{\"color\":\"#00bf7d\",\"pattern\":{\"shape\":\"\"}},\"name\":\"metabolism\",\"offsetgroup\":\"metabolism\",\"orientation\":\"v\",\"showlegend\":true,\"textposition\":\"auto\",\"x\":[\"ADH1A_HUMAN\",\"AHR_HUMAN\",\"AL1A1_HUMAN\",\"AOFA_HUMAN\",\"AOFB_HUMAN\",\"AOXA_HUMAN\",\"ARK73_HUMAN\",\"CP1A2_HUMAN\",\"CP2B6_HUMAN\",\"CP2C9_HUMAN\",\"CP2CJ_HUMAN\",\"CP2D6_HUMAN\",\"CP3A4_HUMAN\",\"DHI1_HUMAN\",\"FMO1_HUMAN\",\"GSTA1_HUMAN\",\"NR1I2_HUMAN\",\"NR1I3_HUMAN\",\"ST1A1_HUMAN\",\"XDH_HUMAN\"],\"xaxis\":\"x\",\"y\":[0.9973262032085561,0.21251475796930341,0.98,0.9695817490494296,0.9171483622350675,0.9214659685863874,0.9606060606060606,0.916504854368932,0.9040816326530612,0.787321063394683,0.8609406952965235,0.8568548387096774,0.8147410358565738,0.8694158075601375,0.8606403013182674,0.9773755656108597,0.6859122401847575,0.7293447293447294,0.9761904761904762,0.9346846846846847],\"yaxis\":\"y\",\"type\":\"bar\"},{\"alignmentgroup\":\"True\",\"hovertemplate\":\"Category=distribution\\u003cbr\\u003eProtein Name=%{x}\\u003cbr\\u003eFraction=%{y}\\u003cextra\\u003e\\u003c\\u002fextra\\u003e\",\"legendgroup\":\"distribution\",\"marker\":{\"color\":\"#00b4c5\",\"pattern\":{\"shape\":\"\"}},\"name\":\"distribution\",\"offsetgroup\":\"distribution\",\"orientation\":\"v\",\"showlegend\":true,\"textposition\":\"auto\",\"x\":[\"A1AG1_HUMAN\",\"ALBU_HUMAN\"],\"xaxis\":\"x\",\"y\":[0.72,0.8832236842105263],\"yaxis\":\"y\",\"type\":\"bar\"},{\"alignmentgroup\":\"True\",\"hovertemplate\":\"Category=transporters\\u003cbr\\u003eProtein Name=%{x}\\u003cbr\\u003eFraction=%{y}\\u003cextra\\u003e\\u003c\\u002fextra\\u003e\",\"legendgroup\":\"transporters\",\"marker\":{\"color\":\"#c44601\",\"pattern\":{\"shape\":\"\"}},\"name\":\"transporters\",\"offsetgroup\":\"transporters\",\"orientation\":\"v\",\"showlegend\":true,\"textposition\":\"auto\",\"x\":[\"ABCBB_HUMAN\",\"ABCG2_HUMAN\",\"MDR1_HUMAN\",\"MRP1_HUMAN\",\"S15A1_HUMAN\",\"S22A6_HUMAN\",\"S22A8_HUMAN\",\"S47A1_HUMAN\",\"SO1B1_HUMAN\",\"SO1B3_HUMAN\"],\"xaxis\":\"x\",\"y\":[0.47954545454545455,0.6498470948012233,0.5504300234558248,0.4071895424836601,0.5190947666195191,0.39679715302491103,0.5138632162661737,0.7873462214411248,0.5173913043478261,0.4964336661911555],\"yaxis\":\"y\",\"type\":\"bar\"},{\"alignmentgroup\":\"True\",\"hovertemplate\":\"Category=toxicity\\u003cbr\\u003eProtein Name=%{x}\\u003cbr\\u003eFraction=%{y}\\u003cextra\\u003e\\u003c\\u002fextra\\u003e\",\"legendgroup\":\"toxicity\",\"marker\":{\"color\":\"#2546f0\",\"pattern\":{\"shape\":\"\"}},\"name\":\"toxicity\",\"offsetgroup\":\"toxicity\",\"orientation\":\"v\",\"showlegend\":true,\"textposition\":\"auto\",\"x\":[\"5HT2B_HUMAN\",\"ACH10_HUMAN\",\"ACHA3_HUMAN\",\"ACHA5_HUMAN\",\"ACHA7_HUMAN\",\"ACHA9_HUMAN\",\"ACM1_HUMAN\",\"ACM2_HUMAN\",\"ACM3_HUMAN\",\"ADA1A_HUMAN\",\"ADA2A_HUMAN\",\"ADRB1_HUMAN\",\"ADRB2_HUMAN\",\"ASM3A_HUMAN\",\"CAC1C_HUMAN\",\"CACB1_HUMAN\",\"CNR1_HUMAN\",\"CNR2_HUMAN\",\"GBRA1_HUMAN\",\"HRH1_HUMAN\",\"KCNH2_HUMAN\",\"SC6A2_HUMAN\",\"SC6A3_HUMAN\",\"SC6A4_HUMAN\",\"SCN5A_HUMAN\"],\"xaxis\":\"x\",\"y\":[0.38125,0.5033407572383074,0.6011904761904762,0.4518201284796574,0.3772455089820359,0.45188284518828453,0.5054466230936819,0.5118279569892473,0.32088285229202035,0.4236559139784946,0.47413793103448276,0.4831932773109244,0.587378640776699,0.9048672566371682,0.09684684684684684,0.4221105527638191,0.46284501061571126,0.637883008356546,0.6505494505494506,0.3991769547325103,0.25734024179620035,0.7386363636363636,0.7382875605815832,0.7567567567567568,0.11017369727047147],\"yaxis\":\"y\",\"type\":\"bar\"}],                        {\"template\":{\"data\":{\"barpolar\":[{\"marker\":{\"line\":{\"color\":\"white\",\"width\":0.5},\"pattern\":{\"fillmode\":\"overlay\",\"size\":10,\"solidity\":0.2}},\"type\":\"barpolar\"}],\"bar\":[{\"error_x\":{\"color\":\"rgb(36,36,36)\"},\"error_y\":{\"color\":\"rgb(36,36,36)\"},\"marker\":{\"line\":{\"color\":\"white\",\"width\":0.5},\"pattern\":{\"fillmode\":\"overlay\",\"size\":10,\"solidity\":0.2}},\"type\":\"bar\"}],\"carpet\":[{\"aaxis\":{\"endlinecolor\":\"rgb(36,36,36)\",\"gridcolor\":\"white\",\"linecolor\":\"white\",\"minorgridcolor\":\"white\",\"startlinecolor\":\"rgb(36,36,36)\"},\"baxis\":{\"endlinecolor\":\"rgb(36,36,36)\",\"gridcolor\":\"white\",\"linecolor\":\"white\",\"minorgridcolor\":\"white\",\"startlinecolor\":\"rgb(36,36,36)\"},\"type\":\"carpet\"}],\"choropleth\":[{\"colorbar\":{\"outlinewidth\":1,\"tickcolor\":\"rgb(36,36,36)\",\"ticks\":\"outside\"},\"type\":\"choropleth\"}],\"contourcarpet\":[{\"colorbar\":{\"outlinewidth\":1,\"tickcolor\":\"rgb(36,36,36)\",\"ticks\":\"outside\"},\"type\":\"contourcarpet\"}],\"contour\":[{\"colorbar\":{\"outlinewidth\":1,\"tickcolor\":\"rgb(36,36,36)\",\"ticks\":\"outside\"},\"colorscale\":[[0.0,\"#440154\"],[0.1111111111111111,\"#482878\"],[0.2222222222222222,\"#3e4989\"],[0.3333333333333333,\"#31688e\"],[0.4444444444444444,\"#26828e\"],[0.5555555555555556,\"#1f9e89\"],[0.6666666666666666,\"#35b779\"],[0.7777777777777778,\"#6ece58\"],[0.8888888888888888,\"#b5de2b\"],[1.0,\"#fde725\"]],\"type\":\"contour\"}],\"heatmapgl\":[{\"colorbar\":{\"outlinewidth\":1,\"tickcolor\":\"rgb(36,36,36)\",\"ticks\":\"outside\"},\"colorscale\":[[0.0,\"#440154\"],[0.1111111111111111,\"#482878\"],[0.2222222222222222,\"#3e4989\"],[0.3333333333333333,\"#31688e\"],[0.4444444444444444,\"#26828e\"],[0.5555555555555556,\"#1f9e89\"],[0.6666666666666666,\"#35b779\"],[0.7777777777777778,\"#6ece58\"],[0.8888888888888888,\"#b5de2b\"],[1.0,\"#fde725\"]],\"type\":\"heatmapgl\"}],\"heatmap\":[{\"colorbar\":{\"outlinewidth\":1,\"tickcolor\":\"rgb(36,36,36)\",\"ticks\":\"outside\"},\"colorscale\":[[0.0,\"#440154\"],[0.1111111111111111,\"#482878\"],[0.2222222222222222,\"#3e4989\"],[0.3333333333333333,\"#31688e\"],[0.4444444444444444,\"#26828e\"],[0.5555555555555556,\"#1f9e89\"],[0.6666666666666666,\"#35b779\"],[0.7777777777777778,\"#6ece58\"],[0.8888888888888888,\"#b5de2b\"],[1.0,\"#fde725\"]],\"type\":\"heatmap\"}],\"histogram2dcontour\":[{\"colorbar\":{\"outlinewidth\":1,\"tickcolor\":\"rgb(36,36,36)\",\"ticks\":\"outside\"},\"colorscale\":[[0.0,\"#440154\"],[0.1111111111111111,\"#482878\"],[0.2222222222222222,\"#3e4989\"],[0.3333333333333333,\"#31688e\"],[0.4444444444444444,\"#26828e\"],[0.5555555555555556,\"#1f9e89\"],[0.6666666666666666,\"#35b779\"],[0.7777777777777778,\"#6ece58\"],[0.8888888888888888,\"#b5de2b\"],[1.0,\"#fde725\"]],\"type\":\"histogram2dcontour\"}],\"histogram2d\":[{\"colorbar\":{\"outlinewidth\":1,\"tickcolor\":\"rgb(36,36,36)\",\"ticks\":\"outside\"},\"colorscale\":[[0.0,\"#440154\"],[0.1111111111111111,\"#482878\"],[0.2222222222222222,\"#3e4989\"],[0.3333333333333333,\"#31688e\"],[0.4444444444444444,\"#26828e\"],[0.5555555555555556,\"#1f9e89\"],[0.6666666666666666,\"#35b779\"],[0.7777777777777778,\"#6ece58\"],[0.8888888888888888,\"#b5de2b\"],[1.0,\"#fde725\"]],\"type\":\"histogram2d\"}],\"histogram\":[{\"marker\":{\"line\":{\"color\":\"white\",\"width\":0.6}},\"type\":\"histogram\"}],\"mesh3d\":[{\"colorbar\":{\"outlinewidth\":1,\"tickcolor\":\"rgb(36,36,36)\",\"ticks\":\"outside\"},\"type\":\"mesh3d\"}],\"parcoords\":[{\"line\":{\"colorbar\":{\"outlinewidth\":1,\"tickcolor\":\"rgb(36,36,36)\",\"ticks\":\"outside\"}},\"type\":\"parcoords\"}],\"pie\":[{\"automargin\":true,\"type\":\"pie\"}],\"scatter3d\":[{\"line\":{\"colorbar\":{\"outlinewidth\":1,\"tickcolor\":\"rgb(36,36,36)\",\"ticks\":\"outside\"}},\"marker\":{\"colorbar\":{\"outlinewidth\":1,\"tickcolor\":\"rgb(36,36,36)\",\"ticks\":\"outside\"}},\"type\":\"scatter3d\"}],\"scattercarpet\":[{\"marker\":{\"colorbar\":{\"outlinewidth\":1,\"tickcolor\":\"rgb(36,36,36)\",\"ticks\":\"outside\"}},\"type\":\"scattercarpet\"}],\"scattergeo\":[{\"marker\":{\"colorbar\":{\"outlinewidth\":1,\"tickcolor\":\"rgb(36,36,36)\",\"ticks\":\"outside\"}},\"type\":\"scattergeo\"}],\"scattergl\":[{\"marker\":{\"colorbar\":{\"outlinewidth\":1,\"tickcolor\":\"rgb(36,36,36)\",\"ticks\":\"outside\"}},\"type\":\"scattergl\"}],\"scattermapbox\":[{\"marker\":{\"colorbar\":{\"outlinewidth\":1,\"tickcolor\":\"rgb(36,36,36)\",\"ticks\":\"outside\"}},\"type\":\"scattermapbox\"}],\"scatterpolargl\":[{\"marker\":{\"colorbar\":{\"outlinewidth\":1,\"tickcolor\":\"rgb(36,36,36)\",\"ticks\":\"outside\"}},\"type\":\"scatterpolargl\"}],\"scatterpolar\":[{\"marker\":{\"colorbar\":{\"outlinewidth\":1,\"tickcolor\":\"rgb(36,36,36)\",\"ticks\":\"outside\"}},\"type\":\"scatterpolar\"}],\"scatter\":[{\"fillpattern\":{\"fillmode\":\"overlay\",\"size\":10,\"solidity\":0.2},\"type\":\"scatter\"}],\"scatterternary\":[{\"marker\":{\"colorbar\":{\"outlinewidth\":1,\"tickcolor\":\"rgb(36,36,36)\",\"ticks\":\"outside\"}},\"type\":\"scatterternary\"}],\"surface\":[{\"colorbar\":{\"outlinewidth\":1,\"tickcolor\":\"rgb(36,36,36)\",\"ticks\":\"outside\"},\"colorscale\":[[0.0,\"#440154\"],[0.1111111111111111,\"#482878\"],[0.2222222222222222,\"#3e4989\"],[0.3333333333333333,\"#31688e\"],[0.4444444444444444,\"#26828e\"],[0.5555555555555556,\"#1f9e89\"],[0.6666666666666666,\"#35b779\"],[0.7777777777777778,\"#6ece58\"],[0.8888888888888888,\"#b5de2b\"],[1.0,\"#fde725\"]],\"type\":\"surface\"}],\"table\":[{\"cells\":{\"fill\":{\"color\":\"rgb(237,237,237)\"},\"line\":{\"color\":\"white\"}},\"header\":{\"fill\":{\"color\":\"rgb(217,217,217)\"},\"line\":{\"color\":\"white\"}},\"type\":\"table\"}]},\"layout\":{\"annotationdefaults\":{\"arrowhead\":0,\"arrowwidth\":1},\"autotypenumbers\":\"strict\",\"coloraxis\":{\"colorbar\":{\"outlinewidth\":1,\"tickcolor\":\"rgb(36,36,36)\",\"ticks\":\"outside\"}},\"colorscale\":{\"diverging\":[[0.0,\"rgb(103,0,31)\"],[0.1,\"rgb(178,24,43)\"],[0.2,\"rgb(214,96,77)\"],[0.3,\"rgb(244,165,130)\"],[0.4,\"rgb(253,219,199)\"],[0.5,\"rgb(247,247,247)\"],[0.6,\"rgb(209,229,240)\"],[0.7,\"rgb(146,197,222)\"],[0.8,\"rgb(67,147,195)\"],[0.9,\"rgb(33,102,172)\"],[1.0,\"rgb(5,48,97)\"]],\"sequential\":[[0.0,\"#440154\"],[0.1111111111111111,\"#482878\"],[0.2222222222222222,\"#3e4989\"],[0.3333333333333333,\"#31688e\"],[0.4444444444444444,\"#26828e\"],[0.5555555555555556,\"#1f9e89\"],[0.6666666666666666,\"#35b779\"],[0.7777777777777778,\"#6ece58\"],[0.8888888888888888,\"#b5de2b\"],[1.0,\"#fde725\"]],\"sequentialminus\":[[0.0,\"#440154\"],[0.1111111111111111,\"#482878\"],[0.2222222222222222,\"#3e4989\"],[0.3333333333333333,\"#31688e\"],[0.4444444444444444,\"#26828e\"],[0.5555555555555556,\"#1f9e89\"],[0.6666666666666666,\"#35b779\"],[0.7777777777777778,\"#6ece58\"],[0.8888888888888888,\"#b5de2b\"],[1.0,\"#fde725\"]]},\"colorway\":[\"#1F77B4\",\"#FF7F0E\",\"#2CA02C\",\"#D62728\",\"#9467BD\",\"#8C564B\",\"#E377C2\",\"#7F7F7F\",\"#BCBD22\",\"#17BECF\"],\"font\":{\"color\":\"rgb(36,36,36)\"},\"geo\":{\"bgcolor\":\"white\",\"lakecolor\":\"white\",\"landcolor\":\"white\",\"showlakes\":true,\"showland\":true,\"subunitcolor\":\"white\"},\"hoverlabel\":{\"align\":\"left\"},\"hovermode\":\"closest\",\"mapbox\":{\"style\":\"light\"},\"paper_bgcolor\":\"white\",\"plot_bgcolor\":\"white\",\"polar\":{\"angularaxis\":{\"gridcolor\":\"rgb(232,232,232)\",\"linecolor\":\"rgb(36,36,36)\",\"showgrid\":false,\"showline\":true,\"ticks\":\"outside\"},\"bgcolor\":\"white\",\"radialaxis\":{\"gridcolor\":\"rgb(232,232,232)\",\"linecolor\":\"rgb(36,36,36)\",\"showgrid\":false,\"showline\":true,\"ticks\":\"outside\"}},\"scene\":{\"xaxis\":{\"backgroundcolor\":\"white\",\"gridcolor\":\"rgb(232,232,232)\",\"gridwidth\":2,\"linecolor\":\"rgb(36,36,36)\",\"showbackground\":true,\"showgrid\":false,\"showline\":true,\"ticks\":\"outside\",\"zeroline\":false,\"zerolinecolor\":\"rgb(36,36,36)\"},\"yaxis\":{\"backgroundcolor\":\"white\",\"gridcolor\":\"rgb(232,232,232)\",\"gridwidth\":2,\"linecolor\":\"rgb(36,36,36)\",\"showbackground\":true,\"showgrid\":false,\"showline\":true,\"ticks\":\"outside\",\"zeroline\":false,\"zerolinecolor\":\"rgb(36,36,36)\"},\"zaxis\":{\"backgroundcolor\":\"white\",\"gridcolor\":\"rgb(232,232,232)\",\"gridwidth\":2,\"linecolor\":\"rgb(36,36,36)\",\"showbackground\":true,\"showgrid\":false,\"showline\":true,\"ticks\":\"outside\",\"zeroline\":false,\"zerolinecolor\":\"rgb(36,36,36)\"}},\"shapedefaults\":{\"fillcolor\":\"black\",\"line\":{\"width\":0},\"opacity\":0.3},\"ternary\":{\"aaxis\":{\"gridcolor\":\"rgb(232,232,232)\",\"linecolor\":\"rgb(36,36,36)\",\"showgrid\":false,\"showline\":true,\"ticks\":\"outside\"},\"baxis\":{\"gridcolor\":\"rgb(232,232,232)\",\"linecolor\":\"rgb(36,36,36)\",\"showgrid\":false,\"showline\":true,\"ticks\":\"outside\"},\"bgcolor\":\"white\",\"caxis\":{\"gridcolor\":\"rgb(232,232,232)\",\"linecolor\":\"rgb(36,36,36)\",\"showgrid\":false,\"showline\":true,\"ticks\":\"outside\"}},\"title\":{\"x\":0.05},\"xaxis\":{\"automargin\":true,\"gridcolor\":\"rgb(232,232,232)\",\"linecolor\":\"rgb(36,36,36)\",\"showgrid\":false,\"showline\":true,\"ticks\":\"outside\",\"title\":{\"standoff\":15},\"zeroline\":false,\"zerolinecolor\":\"rgb(36,36,36)\"},\"yaxis\":{\"automargin\":true,\"gridcolor\":\"rgb(232,232,232)\",\"linecolor\":\"rgb(36,36,36)\",\"showgrid\":false,\"showline\":true,\"ticks\":\"outside\",\"title\":{\"standoff\":15},\"zeroline\":false,\"zerolinecolor\":\"rgb(36,36,36)\"}}},\"xaxis\":{\"anchor\":\"y\",\"domain\":[0.0,1.0],\"title\":{\"text\":\"Protein Name\"}},\"yaxis\":{\"anchor\":\"x\",\"domain\":[0.0,1.0],\"title\":{\"text\":\"Fraction\"}},\"legend\":{\"title\":{\"text\":\"Category\"},\"tracegroupgap\":0},\"title\":{\"text\":\"Fraction of Sequence Modeled with Very High Confidence (pLDDT \\u003e 90)\"},\"barmode\":\"relative\",\"height\":600,\"width\":1200},                        {\"responsive\": true}                    ).then(function(){\n                            \nvar gd = document.getElementById('2413a593-fa49-4c0b-acbb-7d96ea018700');\nvar x = new MutationObserver(function (mutations, observer) {{\n        var display = window.getComputedStyle(gd).display;\n        if (!display || display === 'none') {{\n            console.log([gd, 'removed!']);\n            Plotly.purge(gd);\n            observer.disconnect();\n        }}\n}});\n\n// Listen for the removal of the full notebook cells\nvar notebookContainer = gd.closest('#notebook-container');\nif (notebookContainer) {{\n    x.observe(notebookContainer, {childList: true});\n}}\n\n// Listen for the clearing of the current output cell\nvar outputEl = gd.closest('.output');\nif (outputEl) {{\n    x.observe(outputEl, {childList: true});\n}}\n\n                        })                };                });            </script>        </div>"
     },
     "metadata": {},
     "output_type": "display_data"
    }
   ],
   "source": [
    "fig.show()"
   ],
   "metadata": {
    "collapsed": false,
    "ExecuteTime": {
     "end_time": "2024-02-22T16:34:28.339849Z",
     "start_time": "2024-02-22T16:34:28.271644Z"
    }
   },
   "id": "c866f08d914ec541",
   "execution_count": 54
  },
  {
   "cell_type": "code",
   "outputs": [],
   "source": [
    "fig.write_image(Path('..') / 'figures' / 'alphafold_confidence.png')"
   ],
   "metadata": {
    "collapsed": false,
    "ExecuteTime": {
     "end_time": "2024-02-22T16:34:51.417692Z",
     "start_time": "2024-02-22T16:34:51.238897Z"
    }
   },
   "id": "3e3c59c981eadc19",
   "execution_count": 55
  },
  {
   "cell_type": "code",
   "outputs": [
    {
     "data": {
      "text/plain": "57"
     },
     "execution_count": 56,
     "metadata": {},
     "output_type": "execute_result"
    }
   ],
   "source": [
    "len(confidence_dict)"
   ],
   "metadata": {
    "collapsed": false,
    "ExecuteTime": {
     "end_time": "2024-02-22T16:34:51.729717Z",
     "start_time": "2024-02-22T16:34:51.640150Z"
    }
   },
   "id": "2eaa5d7e31548fce",
   "execution_count": 56
  },
  {
   "cell_type": "markdown",
   "source": [
    "# Combine info"
   ],
   "metadata": {
    "collapsed": false
   },
   "id": "d281869d41d518f7"
  },
  {
   "cell_type": "code",
   "outputs": [],
   "source": [
    "data_dict = {af.components[0].name: af for af in af_structures}"
   ],
   "metadata": {
    "collapsed": false,
    "ExecuteTime": {
     "end_time": "2024-02-22T16:34:52.881940Z",
     "start_time": "2024-02-22T16:34:52.806170Z"
    }
   },
   "id": "f6b8ba8c664ab315",
   "execution_count": 57
  },
  {
   "cell_type": "code",
   "outputs": [
    {
     "data": {
      "text/plain": "57"
     },
     "execution_count": 58,
     "metadata": {},
     "output_type": "execute_result"
    }
   ],
   "source": [
    "len(data_dict)"
   ],
   "metadata": {
    "collapsed": false,
    "ExecuteTime": {
     "end_time": "2024-02-22T16:34:53.197291Z",
     "start_time": "2024-02-22T16:34:53.117363Z"
    }
   },
   "id": "1c5ccbda62291c0",
   "execution_count": 58
  },
  {
   "cell_type": "markdown",
   "source": [
    "# Analyze Experimental Structures"
   ],
   "metadata": {
    "collapsed": false
   },
   "id": "69f85610f85fd454"
  },
  {
   "cell_type": "code",
   "outputs": [
    {
     "data": {
      "text/plain": "<module 'avoidome.target' from '/Users/alexpayne/Scientific_Projects/avoidome-analysis/avoidome/target.py'>"
     },
     "execution_count": 59,
     "metadata": {},
     "output_type": "execute_result"
    }
   ],
   "source": [
    "import avoidome.target as target\n",
    "reload(target)"
   ],
   "metadata": {
    "collapsed": false,
    "ExecuteTime": {
     "end_time": "2024-02-22T16:34:54.343850Z",
     "start_time": "2024-02-22T16:34:54.244258Z"
    }
   },
   "id": "c5865a0b4af05091",
   "execution_count": 59
  },
  {
   "cell_type": "code",
   "outputs": [
    {
     "name": "stderr",
     "output_type": "stream",
     "text": [
      "100%|██████████| 57/57 [00:07<00:00,  7.35it/s]\n"
     ]
    }
   ],
   "source": [
    "tsds = [target.TargetStructureData.from_uniprot_entry(ue) for ue in tqdm(uniprot_entries)]"
   ],
   "metadata": {
    "collapsed": false,
    "ExecuteTime": {
     "end_time": "2024-02-22T16:35:02.305259Z",
     "start_time": "2024-02-22T16:34:54.538963Z"
    }
   },
   "id": "69abd50b9ec82c05",
   "execution_count": 60
  },
  {
   "cell_type": "code",
   "outputs": [
    {
     "data": {
      "text/plain": "57"
     },
     "execution_count": 61,
     "metadata": {},
     "output_type": "execute_result"
    }
   ],
   "source": [
    "len(tsds)"
   ],
   "metadata": {
    "collapsed": false,
    "ExecuteTime": {
     "end_time": "2024-02-22T16:35:02.328594Z",
     "start_time": "2024-02-22T16:35:02.303956Z"
    }
   },
   "id": "6916933b39c15d9c",
   "execution_count": 61
  },
  {
   "cell_type": "code",
   "outputs": [],
   "source": [
    "tsd = tsds[0]"
   ],
   "metadata": {
    "collapsed": false,
    "ExecuteTime": {
     "end_time": "2024-02-22T16:35:02.346698Z",
     "start_time": "2024-02-22T16:35:02.308944Z"
    }
   },
   "id": "d22edd9d663b6cbc",
   "execution_count": 62
  },
  {
   "cell_type": "code",
   "outputs": [
    {
     "data": {
      "text/plain": "'NR1I2_HUMAN'"
     },
     "execution_count": 63,
     "metadata": {},
     "output_type": "execute_result"
    }
   ],
   "source": [
    "tsd.target_name"
   ],
   "metadata": {
    "collapsed": false,
    "ExecuteTime": {
     "end_time": "2024-02-22T16:35:02.375769Z",
     "start_time": "2024-02-22T16:35:02.316431Z"
    }
   },
   "id": "99c9155d60076f6c",
   "execution_count": 63
  },
  {
   "cell_type": "code",
   "outputs": [
    {
     "data": {
      "text/plain": "53"
     },
     "execution_count": 64,
     "metadata": {},
     "output_type": "execute_result"
    }
   ],
   "source": [
    "tsd.n_experimental_structures"
   ],
   "metadata": {
    "collapsed": false,
    "ExecuteTime": {
     "end_time": "2024-02-22T16:35:02.404806Z",
     "start_time": "2024-02-22T16:35:02.322852Z"
    }
   },
   "id": "6a98d60eb597428",
   "execution_count": 64
  },
  {
   "cell_type": "code",
   "outputs": [
    {
     "data": {
      "text/plain": "1"
     },
     "execution_count": 65,
     "metadata": {},
     "output_type": "execute_result"
    }
   ],
   "source": [
    "tsd.n_predicted_structures"
   ],
   "metadata": {
    "collapsed": false,
    "ExecuteTime": {
     "end_time": "2024-02-22T16:35:02.428735Z",
     "start_time": "2024-02-22T16:35:02.330701Z"
    }
   },
   "id": "f335c1276e2d046",
   "execution_count": 65
  },
  {
   "cell_type": "code",
   "outputs": [
    {
     "data": {
      "text/plain": "0.6972437179375708"
     },
     "execution_count": 66,
     "metadata": {},
     "output_type": "execute_result"
    }
   ],
   "source": [
    "tsd.average_coverage"
   ],
   "metadata": {
    "collapsed": false,
    "ExecuteTime": {
     "end_time": "2024-02-22T16:35:02.428990Z",
     "start_time": "2024-02-22T16:35:02.335926Z"
    }
   },
   "id": "fc673df4902c3606",
   "execution_count": 66
  },
  {
   "cell_type": "code",
   "outputs": [
    {
     "data": {
      "text/plain": "85.43"
     },
     "execution_count": 67,
     "metadata": {},
     "output_type": "execute_result"
    }
   ],
   "source": [
    "tsd.average_confidence"
   ],
   "metadata": {
    "collapsed": false,
    "ExecuteTime": {
     "end_time": "2024-02-22T16:35:02.466794Z",
     "start_time": "2024-02-22T16:35:02.344649Z"
    }
   },
   "id": "256ef885ac25dafa",
   "execution_count": 67
  },
  {
   "cell_type": "code",
   "outputs": [],
   "source": [
    "coverages = [exp_struc.sequence_coverage for exp_struc in tsd.experimental_structures]"
   ],
   "metadata": {
    "collapsed": false,
    "ExecuteTime": {
     "end_time": "2024-02-22T16:35:02.471189Z",
     "start_time": "2024-02-22T16:35:02.353094Z"
    }
   },
   "id": "2c6b62a89e05f892",
   "execution_count": 68
  },
  {
   "cell_type": "code",
   "outputs": [
    {
     "data": {
      "application/vnd.plotly.v1+json": {
       "data": [
        {
         "alignmentgroup": "True",
         "bingroup": "x",
         "hovertemplate": "variable=0<br>value=%{x}<br>count=%{y}<extra></extra>",
         "legendgroup": "0",
         "marker": {
          "color": "#636efa",
          "pattern": {
           "shape": ""
          }
         },
         "name": "0",
         "offsetgroup": "0",
         "orientation": "v",
         "showlegend": true,
         "x": [
          304.0,
          304.0,
          304.0,
          304.0,
          301.0,
          292.0,
          304.0,
          304.0,
          304.0,
          304.0,
          304.0,
          304.0,
          289.0,
          304.0,
          304.0,
          304.0,
          304.0,
          304.0,
          304.0,
          302.0,
          304.0,
          304.0,
          296.0,
          304.0,
          305.0,
          304.0,
          304.0,
          296.0,
          305.0,
          304.0,
          304.0,
          304.0,
          304.0,
          304.0,
          304.0,
          304.0,
          304.0,
          304.0,
          304.0,
          304.0,
          304.0,
          304.0,
          304.0,
          304.0,
          297.0,
          297.0,
          297.0,
          297.0,
          304.0,
          304.0,
          304.0,
          304.0,
          304.0
         ],
         "xaxis": "x",
         "yaxis": "y",
         "type": "histogram"
        }
       ],
       "layout": {
        "template": {
         "data": {
          "histogram2dcontour": [
           {
            "type": "histogram2dcontour",
            "colorbar": {
             "outlinewidth": 0,
             "ticks": ""
            },
            "colorscale": [
             [
              0.0,
              "#0d0887"
             ],
             [
              0.1111111111111111,
              "#46039f"
             ],
             [
              0.2222222222222222,
              "#7201a8"
             ],
             [
              0.3333333333333333,
              "#9c179e"
             ],
             [
              0.4444444444444444,
              "#bd3786"
             ],
             [
              0.5555555555555556,
              "#d8576b"
             ],
             [
              0.6666666666666666,
              "#ed7953"
             ],
             [
              0.7777777777777778,
              "#fb9f3a"
             ],
             [
              0.8888888888888888,
              "#fdca26"
             ],
             [
              1.0,
              "#f0f921"
             ]
            ]
           }
          ],
          "choropleth": [
           {
            "type": "choropleth",
            "colorbar": {
             "outlinewidth": 0,
             "ticks": ""
            }
           }
          ],
          "histogram2d": [
           {
            "type": "histogram2d",
            "colorbar": {
             "outlinewidth": 0,
             "ticks": ""
            },
            "colorscale": [
             [
              0.0,
              "#0d0887"
             ],
             [
              0.1111111111111111,
              "#46039f"
             ],
             [
              0.2222222222222222,
              "#7201a8"
             ],
             [
              0.3333333333333333,
              "#9c179e"
             ],
             [
              0.4444444444444444,
              "#bd3786"
             ],
             [
              0.5555555555555556,
              "#d8576b"
             ],
             [
              0.6666666666666666,
              "#ed7953"
             ],
             [
              0.7777777777777778,
              "#fb9f3a"
             ],
             [
              0.8888888888888888,
              "#fdca26"
             ],
             [
              1.0,
              "#f0f921"
             ]
            ]
           }
          ],
          "heatmap": [
           {
            "type": "heatmap",
            "colorbar": {
             "outlinewidth": 0,
             "ticks": ""
            },
            "colorscale": [
             [
              0.0,
              "#0d0887"
             ],
             [
              0.1111111111111111,
              "#46039f"
             ],
             [
              0.2222222222222222,
              "#7201a8"
             ],
             [
              0.3333333333333333,
              "#9c179e"
             ],
             [
              0.4444444444444444,
              "#bd3786"
             ],
             [
              0.5555555555555556,
              "#d8576b"
             ],
             [
              0.6666666666666666,
              "#ed7953"
             ],
             [
              0.7777777777777778,
              "#fb9f3a"
             ],
             [
              0.8888888888888888,
              "#fdca26"
             ],
             [
              1.0,
              "#f0f921"
             ]
            ]
           }
          ],
          "heatmapgl": [
           {
            "type": "heatmapgl",
            "colorbar": {
             "outlinewidth": 0,
             "ticks": ""
            },
            "colorscale": [
             [
              0.0,
              "#0d0887"
             ],
             [
              0.1111111111111111,
              "#46039f"
             ],
             [
              0.2222222222222222,
              "#7201a8"
             ],
             [
              0.3333333333333333,
              "#9c179e"
             ],
             [
              0.4444444444444444,
              "#bd3786"
             ],
             [
              0.5555555555555556,
              "#d8576b"
             ],
             [
              0.6666666666666666,
              "#ed7953"
             ],
             [
              0.7777777777777778,
              "#fb9f3a"
             ],
             [
              0.8888888888888888,
              "#fdca26"
             ],
             [
              1.0,
              "#f0f921"
             ]
            ]
           }
          ],
          "contourcarpet": [
           {
            "type": "contourcarpet",
            "colorbar": {
             "outlinewidth": 0,
             "ticks": ""
            }
           }
          ],
          "contour": [
           {
            "type": "contour",
            "colorbar": {
             "outlinewidth": 0,
             "ticks": ""
            },
            "colorscale": [
             [
              0.0,
              "#0d0887"
             ],
             [
              0.1111111111111111,
              "#46039f"
             ],
             [
              0.2222222222222222,
              "#7201a8"
             ],
             [
              0.3333333333333333,
              "#9c179e"
             ],
             [
              0.4444444444444444,
              "#bd3786"
             ],
             [
              0.5555555555555556,
              "#d8576b"
             ],
             [
              0.6666666666666666,
              "#ed7953"
             ],
             [
              0.7777777777777778,
              "#fb9f3a"
             ],
             [
              0.8888888888888888,
              "#fdca26"
             ],
             [
              1.0,
              "#f0f921"
             ]
            ]
           }
          ],
          "surface": [
           {
            "type": "surface",
            "colorbar": {
             "outlinewidth": 0,
             "ticks": ""
            },
            "colorscale": [
             [
              0.0,
              "#0d0887"
             ],
             [
              0.1111111111111111,
              "#46039f"
             ],
             [
              0.2222222222222222,
              "#7201a8"
             ],
             [
              0.3333333333333333,
              "#9c179e"
             ],
             [
              0.4444444444444444,
              "#bd3786"
             ],
             [
              0.5555555555555556,
              "#d8576b"
             ],
             [
              0.6666666666666666,
              "#ed7953"
             ],
             [
              0.7777777777777778,
              "#fb9f3a"
             ],
             [
              0.8888888888888888,
              "#fdca26"
             ],
             [
              1.0,
              "#f0f921"
             ]
            ]
           }
          ],
          "mesh3d": [
           {
            "type": "mesh3d",
            "colorbar": {
             "outlinewidth": 0,
             "ticks": ""
            }
           }
          ],
          "scatter": [
           {
            "marker": {
             "line": {
              "color": "#283442"
             }
            },
            "type": "scatter"
           }
          ],
          "parcoords": [
           {
            "type": "parcoords",
            "line": {
             "colorbar": {
              "outlinewidth": 0,
              "ticks": ""
             }
            }
           }
          ],
          "scatterpolargl": [
           {
            "type": "scatterpolargl",
            "marker": {
             "colorbar": {
              "outlinewidth": 0,
              "ticks": ""
             }
            }
           }
          ],
          "bar": [
           {
            "error_x": {
             "color": "#f2f5fa"
            },
            "error_y": {
             "color": "#f2f5fa"
            },
            "marker": {
             "line": {
              "color": "rgb(17,17,17)",
              "width": 0.5
             },
             "pattern": {
              "fillmode": "overlay",
              "size": 10,
              "solidity": 0.2
             }
            },
            "type": "bar"
           }
          ],
          "scattergeo": [
           {
            "type": "scattergeo",
            "marker": {
             "colorbar": {
              "outlinewidth": 0,
              "ticks": ""
             }
            }
           }
          ],
          "scatterpolar": [
           {
            "type": "scatterpolar",
            "marker": {
             "colorbar": {
              "outlinewidth": 0,
              "ticks": ""
             }
            }
           }
          ],
          "histogram": [
           {
            "marker": {
             "pattern": {
              "fillmode": "overlay",
              "size": 10,
              "solidity": 0.2
             }
            },
            "type": "histogram"
           }
          ],
          "scattergl": [
           {
            "marker": {
             "line": {
              "color": "#283442"
             }
            },
            "type": "scattergl"
           }
          ],
          "scatter3d": [
           {
            "type": "scatter3d",
            "line": {
             "colorbar": {
              "outlinewidth": 0,
              "ticks": ""
             }
            },
            "marker": {
             "colorbar": {
              "outlinewidth": 0,
              "ticks": ""
             }
            }
           }
          ],
          "scattermapbox": [
           {
            "type": "scattermapbox",
            "marker": {
             "colorbar": {
              "outlinewidth": 0,
              "ticks": ""
             }
            }
           }
          ],
          "scatterternary": [
           {
            "type": "scatterternary",
            "marker": {
             "colorbar": {
              "outlinewidth": 0,
              "ticks": ""
             }
            }
           }
          ],
          "scattercarpet": [
           {
            "type": "scattercarpet",
            "marker": {
             "colorbar": {
              "outlinewidth": 0,
              "ticks": ""
             }
            }
           }
          ],
          "carpet": [
           {
            "aaxis": {
             "endlinecolor": "#A2B1C6",
             "gridcolor": "#506784",
             "linecolor": "#506784",
             "minorgridcolor": "#506784",
             "startlinecolor": "#A2B1C6"
            },
            "baxis": {
             "endlinecolor": "#A2B1C6",
             "gridcolor": "#506784",
             "linecolor": "#506784",
             "minorgridcolor": "#506784",
             "startlinecolor": "#A2B1C6"
            },
            "type": "carpet"
           }
          ],
          "table": [
           {
            "cells": {
             "fill": {
              "color": "#506784"
             },
             "line": {
              "color": "rgb(17,17,17)"
             }
            },
            "header": {
             "fill": {
              "color": "#2a3f5f"
             },
             "line": {
              "color": "rgb(17,17,17)"
             }
            },
            "type": "table"
           }
          ],
          "barpolar": [
           {
            "marker": {
             "line": {
              "color": "rgb(17,17,17)",
              "width": 0.5
             },
             "pattern": {
              "fillmode": "overlay",
              "size": 10,
              "solidity": 0.2
             }
            },
            "type": "barpolar"
           }
          ],
          "pie": [
           {
            "automargin": true,
            "type": "pie"
           }
          ]
         },
         "layout": {
          "autotypenumbers": "strict",
          "colorway": [
           "#636efa",
           "#EF553B",
           "#00cc96",
           "#ab63fa",
           "#FFA15A",
           "#19d3f3",
           "#FF6692",
           "#B6E880",
           "#FF97FF",
           "#FECB52"
          ],
          "font": {
           "color": "#f2f5fa"
          },
          "hovermode": "closest",
          "hoverlabel": {
           "align": "left"
          },
          "paper_bgcolor": "rgb(17,17,17)",
          "plot_bgcolor": "rgb(17,17,17)",
          "polar": {
           "bgcolor": "rgb(17,17,17)",
           "angularaxis": {
            "gridcolor": "#506784",
            "linecolor": "#506784",
            "ticks": ""
           },
           "radialaxis": {
            "gridcolor": "#506784",
            "linecolor": "#506784",
            "ticks": ""
           }
          },
          "ternary": {
           "bgcolor": "rgb(17,17,17)",
           "aaxis": {
            "gridcolor": "#506784",
            "linecolor": "#506784",
            "ticks": ""
           },
           "baxis": {
            "gridcolor": "#506784",
            "linecolor": "#506784",
            "ticks": ""
           },
           "caxis": {
            "gridcolor": "#506784",
            "linecolor": "#506784",
            "ticks": ""
           }
          },
          "coloraxis": {
           "colorbar": {
            "outlinewidth": 0,
            "ticks": ""
           }
          },
          "colorscale": {
           "sequential": [
            [
             0.0,
             "#0d0887"
            ],
            [
             0.1111111111111111,
             "#46039f"
            ],
            [
             0.2222222222222222,
             "#7201a8"
            ],
            [
             0.3333333333333333,
             "#9c179e"
            ],
            [
             0.4444444444444444,
             "#bd3786"
            ],
            [
             0.5555555555555556,
             "#d8576b"
            ],
            [
             0.6666666666666666,
             "#ed7953"
            ],
            [
             0.7777777777777778,
             "#fb9f3a"
            ],
            [
             0.8888888888888888,
             "#fdca26"
            ],
            [
             1.0,
             "#f0f921"
            ]
           ],
           "sequentialminus": [
            [
             0.0,
             "#0d0887"
            ],
            [
             0.1111111111111111,
             "#46039f"
            ],
            [
             0.2222222222222222,
             "#7201a8"
            ],
            [
             0.3333333333333333,
             "#9c179e"
            ],
            [
             0.4444444444444444,
             "#bd3786"
            ],
            [
             0.5555555555555556,
             "#d8576b"
            ],
            [
             0.6666666666666666,
             "#ed7953"
            ],
            [
             0.7777777777777778,
             "#fb9f3a"
            ],
            [
             0.8888888888888888,
             "#fdca26"
            ],
            [
             1.0,
             "#f0f921"
            ]
           ],
           "diverging": [
            [
             0,
             "#8e0152"
            ],
            [
             0.1,
             "#c51b7d"
            ],
            [
             0.2,
             "#de77ae"
            ],
            [
             0.3,
             "#f1b6da"
            ],
            [
             0.4,
             "#fde0ef"
            ],
            [
             0.5,
             "#f7f7f7"
            ],
            [
             0.6,
             "#e6f5d0"
            ],
            [
             0.7,
             "#b8e186"
            ],
            [
             0.8,
             "#7fbc41"
            ],
            [
             0.9,
             "#4d9221"
            ],
            [
             1,
             "#276419"
            ]
           ]
          },
          "xaxis": {
           "gridcolor": "#283442",
           "linecolor": "#506784",
           "ticks": "",
           "title": {
            "standoff": 15
           },
           "zerolinecolor": "#283442",
           "automargin": true,
           "zerolinewidth": 2
          },
          "yaxis": {
           "gridcolor": "#283442",
           "linecolor": "#506784",
           "ticks": "",
           "title": {
            "standoff": 15
           },
           "zerolinecolor": "#283442",
           "automargin": true,
           "zerolinewidth": 2
          },
          "scene": {
           "xaxis": {
            "backgroundcolor": "rgb(17,17,17)",
            "gridcolor": "#506784",
            "linecolor": "#506784",
            "showbackground": true,
            "ticks": "",
            "zerolinecolor": "#C8D4E3",
            "gridwidth": 2
           },
           "yaxis": {
            "backgroundcolor": "rgb(17,17,17)",
            "gridcolor": "#506784",
            "linecolor": "#506784",
            "showbackground": true,
            "ticks": "",
            "zerolinecolor": "#C8D4E3",
            "gridwidth": 2
           },
           "zaxis": {
            "backgroundcolor": "rgb(17,17,17)",
            "gridcolor": "#506784",
            "linecolor": "#506784",
            "showbackground": true,
            "ticks": "",
            "zerolinecolor": "#C8D4E3",
            "gridwidth": 2
           }
          },
          "shapedefaults": {
           "line": {
            "color": "#f2f5fa"
           }
          },
          "annotationdefaults": {
           "arrowcolor": "#f2f5fa",
           "arrowhead": 0,
           "arrowwidth": 1
          },
          "geo": {
           "bgcolor": "rgb(17,17,17)",
           "landcolor": "rgb(17,17,17)",
           "subunitcolor": "#506784",
           "showland": true,
           "showlakes": true,
           "lakecolor": "rgb(17,17,17)"
          },
          "title": {
           "x": 0.05
          },
          "updatemenudefaults": {
           "bgcolor": "#506784",
           "borderwidth": 0
          },
          "sliderdefaults": {
           "bgcolor": "#C8D4E3",
           "borderwidth": 1,
           "bordercolor": "rgb(17,17,17)",
           "tickwidth": 0
          },
          "mapbox": {
           "style": "dark"
          }
         }
        },
        "xaxis": {
         "anchor": "y",
         "domain": [
          0.0,
          1.0
         ],
         "title": {
          "text": "value"
         }
        },
        "yaxis": {
         "anchor": "x",
         "domain": [
          0.0,
          1.0
         ],
         "title": {
          "text": "count"
         }
        },
        "legend": {
         "title": {
          "text": "variable"
         },
         "tracegroupgap": 0
        },
        "margin": {
         "t": 60
        },
        "barmode": "relative"
       },
       "config": {
        "plotlyServerURL": "https://plot.ly"
       }
      },
      "text/html": "<div>                            <div id=\"becb4c53-fbc0-4cc8-8fa7-c807e9850b79\" class=\"plotly-graph-div\" style=\"height:525px; width:100%;\"></div>            <script type=\"text/javascript\">                require([\"plotly\"], function(Plotly) {                    window.PLOTLYENV=window.PLOTLYENV || {};                                    if (document.getElementById(\"becb4c53-fbc0-4cc8-8fa7-c807e9850b79\")) {                    Plotly.newPlot(                        \"becb4c53-fbc0-4cc8-8fa7-c807e9850b79\",                        [{\"alignmentgroup\":\"True\",\"bingroup\":\"x\",\"hovertemplate\":\"variable=0\\u003cbr\\u003evalue=%{x}\\u003cbr\\u003ecount=%{y}\\u003cextra\\u003e\\u003c\\u002fextra\\u003e\",\"legendgroup\":\"0\",\"marker\":{\"color\":\"#636efa\",\"pattern\":{\"shape\":\"\"}},\"name\":\"0\",\"offsetgroup\":\"0\",\"orientation\":\"v\",\"showlegend\":true,\"x\":[304.0,304.0,304.0,304.0,301.0,292.0,304.0,304.0,304.0,304.0,304.0,304.0,289.0,304.0,304.0,304.0,304.0,304.0,304.0,302.0,304.0,304.0,296.0,304.0,305.0,304.0,304.0,296.0,305.0,304.0,304.0,304.0,304.0,304.0,304.0,304.0,304.0,304.0,304.0,304.0,304.0,304.0,304.0,304.0,297.0,297.0,297.0,297.0,304.0,304.0,304.0,304.0,304.0],\"xaxis\":\"x\",\"yaxis\":\"y\",\"type\":\"histogram\"}],                        {\"template\":{\"data\":{\"histogram2dcontour\":[{\"type\":\"histogram2dcontour\",\"colorbar\":{\"outlinewidth\":0,\"ticks\":\"\"},\"colorscale\":[[0.0,\"#0d0887\"],[0.1111111111111111,\"#46039f\"],[0.2222222222222222,\"#7201a8\"],[0.3333333333333333,\"#9c179e\"],[0.4444444444444444,\"#bd3786\"],[0.5555555555555556,\"#d8576b\"],[0.6666666666666666,\"#ed7953\"],[0.7777777777777778,\"#fb9f3a\"],[0.8888888888888888,\"#fdca26\"],[1.0,\"#f0f921\"]]}],\"choropleth\":[{\"type\":\"choropleth\",\"colorbar\":{\"outlinewidth\":0,\"ticks\":\"\"}}],\"histogram2d\":[{\"type\":\"histogram2d\",\"colorbar\":{\"outlinewidth\":0,\"ticks\":\"\"},\"colorscale\":[[0.0,\"#0d0887\"],[0.1111111111111111,\"#46039f\"],[0.2222222222222222,\"#7201a8\"],[0.3333333333333333,\"#9c179e\"],[0.4444444444444444,\"#bd3786\"],[0.5555555555555556,\"#d8576b\"],[0.6666666666666666,\"#ed7953\"],[0.7777777777777778,\"#fb9f3a\"],[0.8888888888888888,\"#fdca26\"],[1.0,\"#f0f921\"]]}],\"heatmap\":[{\"type\":\"heatmap\",\"colorbar\":{\"outlinewidth\":0,\"ticks\":\"\"},\"colorscale\":[[0.0,\"#0d0887\"],[0.1111111111111111,\"#46039f\"],[0.2222222222222222,\"#7201a8\"],[0.3333333333333333,\"#9c179e\"],[0.4444444444444444,\"#bd3786\"],[0.5555555555555556,\"#d8576b\"],[0.6666666666666666,\"#ed7953\"],[0.7777777777777778,\"#fb9f3a\"],[0.8888888888888888,\"#fdca26\"],[1.0,\"#f0f921\"]]}],\"heatmapgl\":[{\"type\":\"heatmapgl\",\"colorbar\":{\"outlinewidth\":0,\"ticks\":\"\"},\"colorscale\":[[0.0,\"#0d0887\"],[0.1111111111111111,\"#46039f\"],[0.2222222222222222,\"#7201a8\"],[0.3333333333333333,\"#9c179e\"],[0.4444444444444444,\"#bd3786\"],[0.5555555555555556,\"#d8576b\"],[0.6666666666666666,\"#ed7953\"],[0.7777777777777778,\"#fb9f3a\"],[0.8888888888888888,\"#fdca26\"],[1.0,\"#f0f921\"]]}],\"contourcarpet\":[{\"type\":\"contourcarpet\",\"colorbar\":{\"outlinewidth\":0,\"ticks\":\"\"}}],\"contour\":[{\"type\":\"contour\",\"colorbar\":{\"outlinewidth\":0,\"ticks\":\"\"},\"colorscale\":[[0.0,\"#0d0887\"],[0.1111111111111111,\"#46039f\"],[0.2222222222222222,\"#7201a8\"],[0.3333333333333333,\"#9c179e\"],[0.4444444444444444,\"#bd3786\"],[0.5555555555555556,\"#d8576b\"],[0.6666666666666666,\"#ed7953\"],[0.7777777777777778,\"#fb9f3a\"],[0.8888888888888888,\"#fdca26\"],[1.0,\"#f0f921\"]]}],\"surface\":[{\"type\":\"surface\",\"colorbar\":{\"outlinewidth\":0,\"ticks\":\"\"},\"colorscale\":[[0.0,\"#0d0887\"],[0.1111111111111111,\"#46039f\"],[0.2222222222222222,\"#7201a8\"],[0.3333333333333333,\"#9c179e\"],[0.4444444444444444,\"#bd3786\"],[0.5555555555555556,\"#d8576b\"],[0.6666666666666666,\"#ed7953\"],[0.7777777777777778,\"#fb9f3a\"],[0.8888888888888888,\"#fdca26\"],[1.0,\"#f0f921\"]]}],\"mesh3d\":[{\"type\":\"mesh3d\",\"colorbar\":{\"outlinewidth\":0,\"ticks\":\"\"}}],\"scatter\":[{\"marker\":{\"line\":{\"color\":\"#283442\"}},\"type\":\"scatter\"}],\"parcoords\":[{\"type\":\"parcoords\",\"line\":{\"colorbar\":{\"outlinewidth\":0,\"ticks\":\"\"}}}],\"scatterpolargl\":[{\"type\":\"scatterpolargl\",\"marker\":{\"colorbar\":{\"outlinewidth\":0,\"ticks\":\"\"}}}],\"bar\":[{\"error_x\":{\"color\":\"#f2f5fa\"},\"error_y\":{\"color\":\"#f2f5fa\"},\"marker\":{\"line\":{\"color\":\"rgb(17,17,17)\",\"width\":0.5},\"pattern\":{\"fillmode\":\"overlay\",\"size\":10,\"solidity\":0.2}},\"type\":\"bar\"}],\"scattergeo\":[{\"type\":\"scattergeo\",\"marker\":{\"colorbar\":{\"outlinewidth\":0,\"ticks\":\"\"}}}],\"scatterpolar\":[{\"type\":\"scatterpolar\",\"marker\":{\"colorbar\":{\"outlinewidth\":0,\"ticks\":\"\"}}}],\"histogram\":[{\"marker\":{\"pattern\":{\"fillmode\":\"overlay\",\"size\":10,\"solidity\":0.2}},\"type\":\"histogram\"}],\"scattergl\":[{\"marker\":{\"line\":{\"color\":\"#283442\"}},\"type\":\"scattergl\"}],\"scatter3d\":[{\"type\":\"scatter3d\",\"line\":{\"colorbar\":{\"outlinewidth\":0,\"ticks\":\"\"}},\"marker\":{\"colorbar\":{\"outlinewidth\":0,\"ticks\":\"\"}}}],\"scattermapbox\":[{\"type\":\"scattermapbox\",\"marker\":{\"colorbar\":{\"outlinewidth\":0,\"ticks\":\"\"}}}],\"scatterternary\":[{\"type\":\"scatterternary\",\"marker\":{\"colorbar\":{\"outlinewidth\":0,\"ticks\":\"\"}}}],\"scattercarpet\":[{\"type\":\"scattercarpet\",\"marker\":{\"colorbar\":{\"outlinewidth\":0,\"ticks\":\"\"}}}],\"carpet\":[{\"aaxis\":{\"endlinecolor\":\"#A2B1C6\",\"gridcolor\":\"#506784\",\"linecolor\":\"#506784\",\"minorgridcolor\":\"#506784\",\"startlinecolor\":\"#A2B1C6\"},\"baxis\":{\"endlinecolor\":\"#A2B1C6\",\"gridcolor\":\"#506784\",\"linecolor\":\"#506784\",\"minorgridcolor\":\"#506784\",\"startlinecolor\":\"#A2B1C6\"},\"type\":\"carpet\"}],\"table\":[{\"cells\":{\"fill\":{\"color\":\"#506784\"},\"line\":{\"color\":\"rgb(17,17,17)\"}},\"header\":{\"fill\":{\"color\":\"#2a3f5f\"},\"line\":{\"color\":\"rgb(17,17,17)\"}},\"type\":\"table\"}],\"barpolar\":[{\"marker\":{\"line\":{\"color\":\"rgb(17,17,17)\",\"width\":0.5},\"pattern\":{\"fillmode\":\"overlay\",\"size\":10,\"solidity\":0.2}},\"type\":\"barpolar\"}],\"pie\":[{\"automargin\":true,\"type\":\"pie\"}]},\"layout\":{\"autotypenumbers\":\"strict\",\"colorway\":[\"#636efa\",\"#EF553B\",\"#00cc96\",\"#ab63fa\",\"#FFA15A\",\"#19d3f3\",\"#FF6692\",\"#B6E880\",\"#FF97FF\",\"#FECB52\"],\"font\":{\"color\":\"#f2f5fa\"},\"hovermode\":\"closest\",\"hoverlabel\":{\"align\":\"left\"},\"paper_bgcolor\":\"rgb(17,17,17)\",\"plot_bgcolor\":\"rgb(17,17,17)\",\"polar\":{\"bgcolor\":\"rgb(17,17,17)\",\"angularaxis\":{\"gridcolor\":\"#506784\",\"linecolor\":\"#506784\",\"ticks\":\"\"},\"radialaxis\":{\"gridcolor\":\"#506784\",\"linecolor\":\"#506784\",\"ticks\":\"\"}},\"ternary\":{\"bgcolor\":\"rgb(17,17,17)\",\"aaxis\":{\"gridcolor\":\"#506784\",\"linecolor\":\"#506784\",\"ticks\":\"\"},\"baxis\":{\"gridcolor\":\"#506784\",\"linecolor\":\"#506784\",\"ticks\":\"\"},\"caxis\":{\"gridcolor\":\"#506784\",\"linecolor\":\"#506784\",\"ticks\":\"\"}},\"coloraxis\":{\"colorbar\":{\"outlinewidth\":0,\"ticks\":\"\"}},\"colorscale\":{\"sequential\":[[0.0,\"#0d0887\"],[0.1111111111111111,\"#46039f\"],[0.2222222222222222,\"#7201a8\"],[0.3333333333333333,\"#9c179e\"],[0.4444444444444444,\"#bd3786\"],[0.5555555555555556,\"#d8576b\"],[0.6666666666666666,\"#ed7953\"],[0.7777777777777778,\"#fb9f3a\"],[0.8888888888888888,\"#fdca26\"],[1.0,\"#f0f921\"]],\"sequentialminus\":[[0.0,\"#0d0887\"],[0.1111111111111111,\"#46039f\"],[0.2222222222222222,\"#7201a8\"],[0.3333333333333333,\"#9c179e\"],[0.4444444444444444,\"#bd3786\"],[0.5555555555555556,\"#d8576b\"],[0.6666666666666666,\"#ed7953\"],[0.7777777777777778,\"#fb9f3a\"],[0.8888888888888888,\"#fdca26\"],[1.0,\"#f0f921\"]],\"diverging\":[[0,\"#8e0152\"],[0.1,\"#c51b7d\"],[0.2,\"#de77ae\"],[0.3,\"#f1b6da\"],[0.4,\"#fde0ef\"],[0.5,\"#f7f7f7\"],[0.6,\"#e6f5d0\"],[0.7,\"#b8e186\"],[0.8,\"#7fbc41\"],[0.9,\"#4d9221\"],[1,\"#276419\"]]},\"xaxis\":{\"gridcolor\":\"#283442\",\"linecolor\":\"#506784\",\"ticks\":\"\",\"title\":{\"standoff\":15},\"zerolinecolor\":\"#283442\",\"automargin\":true,\"zerolinewidth\":2},\"yaxis\":{\"gridcolor\":\"#283442\",\"linecolor\":\"#506784\",\"ticks\":\"\",\"title\":{\"standoff\":15},\"zerolinecolor\":\"#283442\",\"automargin\":true,\"zerolinewidth\":2},\"scene\":{\"xaxis\":{\"backgroundcolor\":\"rgb(17,17,17)\",\"gridcolor\":\"#506784\",\"linecolor\":\"#506784\",\"showbackground\":true,\"ticks\":\"\",\"zerolinecolor\":\"#C8D4E3\",\"gridwidth\":2},\"yaxis\":{\"backgroundcolor\":\"rgb(17,17,17)\",\"gridcolor\":\"#506784\",\"linecolor\":\"#506784\",\"showbackground\":true,\"ticks\":\"\",\"zerolinecolor\":\"#C8D4E3\",\"gridwidth\":2},\"zaxis\":{\"backgroundcolor\":\"rgb(17,17,17)\",\"gridcolor\":\"#506784\",\"linecolor\":\"#506784\",\"showbackground\":true,\"ticks\":\"\",\"zerolinecolor\":\"#C8D4E3\",\"gridwidth\":2}},\"shapedefaults\":{\"line\":{\"color\":\"#f2f5fa\"}},\"annotationdefaults\":{\"arrowcolor\":\"#f2f5fa\",\"arrowhead\":0,\"arrowwidth\":1},\"geo\":{\"bgcolor\":\"rgb(17,17,17)\",\"landcolor\":\"rgb(17,17,17)\",\"subunitcolor\":\"#506784\",\"showland\":true,\"showlakes\":true,\"lakecolor\":\"rgb(17,17,17)\"},\"title\":{\"x\":0.05},\"updatemenudefaults\":{\"bgcolor\":\"#506784\",\"borderwidth\":0},\"sliderdefaults\":{\"bgcolor\":\"#C8D4E3\",\"borderwidth\":1,\"bordercolor\":\"rgb(17,17,17)\",\"tickwidth\":0},\"mapbox\":{\"style\":\"dark\"}}},\"xaxis\":{\"anchor\":\"y\",\"domain\":[0.0,1.0],\"title\":{\"text\":\"value\"}},\"yaxis\":{\"anchor\":\"x\",\"domain\":[0.0,1.0],\"title\":{\"text\":\"count\"}},\"legend\":{\"title\":{\"text\":\"variable\"},\"tracegroupgap\":0},\"margin\":{\"t\":60},\"barmode\":\"relative\"},                        {\"responsive\": true}                    ).then(function(){\n                            \nvar gd = document.getElementById('becb4c53-fbc0-4cc8-8fa7-c807e9850b79');\nvar x = new MutationObserver(function (mutations, observer) {{\n        var display = window.getComputedStyle(gd).display;\n        if (!display || display === 'none') {{\n            console.log([gd, 'removed!']);\n            Plotly.purge(gd);\n            observer.disconnect();\n        }}\n}});\n\n// Listen for the removal of the full notebook cells\nvar notebookContainer = gd.closest('#notebook-container');\nif (notebookContainer) {{\n    x.observe(notebookContainer, {childList: true});\n}}\n\n// Listen for the clearing of the current output cell\nvar outputEl = gd.closest('.output');\nif (outputEl) {{\n    x.observe(outputEl, {childList: true});\n}}\n\n                        })                };                });            </script>        </div>"
     },
     "metadata": {},
     "output_type": "display_data"
    }
   ],
   "source": [
    "px.histogram(coverages)"
   ],
   "metadata": {
    "collapsed": false,
    "ExecuteTime": {
     "end_time": "2024-02-22T16:35:02.656329Z",
     "start_time": "2024-02-22T16:35:02.412708Z"
    }
   },
   "id": "d7b602203b975024",
   "execution_count": 69
  },
  {
   "cell_type": "code",
   "outputs": [
    {
     "data": {
      "text/plain": "434"
     },
     "execution_count": 70,
     "metadata": {},
     "output_type": "execute_result"
    }
   ],
   "source": [
    "tsd.sequence_length"
   ],
   "metadata": {
    "collapsed": false,
    "ExecuteTime": {
     "end_time": "2024-02-22T16:35:02.675332Z",
     "start_time": "2024-02-22T16:35:02.420021Z"
    }
   },
   "id": "c55c9ceaca449fa1",
   "execution_count": 70
  },
  {
   "cell_type": "markdown",
   "source": [
    "# Plot Experimental Structures"
   ],
   "metadata": {
    "collapsed": false
   },
   "id": "bda0222b022fa793"
  },
  {
   "cell_type": "markdown",
   "source": [
    "1) violin plot with dots only\n",
    "2) color by category\n",
    "2) size is the % sequence coverage"
   ],
   "metadata": {
    "collapsed": false
   },
   "id": "1c42925ce2f294c5"
  },
  {
   "cell_type": "markdown",
   "source": [],
   "metadata": {
    "collapsed": false
   },
   "id": "3b182fea98345d94"
  },
  {
   "cell_type": "markdown",
   "source": [
    "## make tidy dataframe"
   ],
   "metadata": {
    "collapsed": false
   },
   "id": "70877585d0460c5a"
  },
  {
   "cell_type": "code",
   "outputs": [
    {
     "name": "stderr",
     "output_type": "stream",
     "text": [
      "/Users/alexpayne/miniforge-pypy3/envs/asapdiscovery/lib/python3.10/site-packages/numpy/core/fromnumeric.py:3432: RuntimeWarning:\n",
      "\n",
      "Mean of empty slice.\n",
      "\n",
      "/Users/alexpayne/miniforge-pypy3/envs/asapdiscovery/lib/python3.10/site-packages/numpy/core/_methods.py:190: RuntimeWarning:\n",
      "\n",
      "invalid value encountered in double_scalars\n",
      "\n"
     ]
    }
   ],
   "source": [
    "import avoidome.structures as structures\n",
    "import pandas as pd\n",
    "df = pd.concat([pd.DataFrame({'Uniprot ID': tsd.uniprot_id,\n",
    "    'Protein Name': [f'{tsd.target_name.split(\"_\")[0]} ({tsd.uniprot_id})' for exp_struc in tsd.structures],\n",
    "                   'Category': [category_dict[tsd.uniprot_id] for exp_struc in tsd.structures],\n",
    "                   'Average Sequence Coverage': tsd.average_coverage,\n",
    "                              \"Sequence Coverage\": [exp_struc.sequence_coverage / tsd.sequence_length for exp_struc in tsd.experimental_structures] + [tsd.average_coverage],\n",
    "                   'Number of Experimental Structures': [tsd.n_experimental_structures for exp_struc in tsd.structures],\n",
    "                  \"Sequence Length\": [tsd.sequence_length for exp_struc in tsd.structures],\n",
    "                          \"Resolution (A)\": [exp_struc.resolution for exp_struc in tsd.experimental_structures] + [2],\n",
    "                                    \"Method\": [exp_struc.method for exp_struc in tsd.experimental_structures] + ['AlphaFold'],\n",
    "                   }) for tsd in tsds]) "
   ],
   "metadata": {
    "collapsed": false,
    "ExecuteTime": {
     "end_time": "2024-02-22T16:35:02.707572Z",
     "start_time": "2024-02-22T16:35:02.466562Z"
    }
   },
   "id": "5622fcbb7c0e884f",
   "execution_count": 71
  },
  {
   "cell_type": "code",
   "outputs": [],
   "source": [
    "tsd_dict = {f'{tsd.target_name.split(\"_\")[0]} ({tsd.uniprot_id})': tsd for tsd in tsds}\n",
    "symbols = {'X-ray': 'diamond-tall', 'EM': 'circle', 'AlphaFold': 'circle-open'}\n",
    "# colors = {'metabolism_redox': '#d07c09', 'metabolism': '#ffb418', 'absorption': '#11efb7', 'drug_transporter': '#9553ff', 'toxicity': '#5e2bcb'}\n",
    "colors = {'metabolism': '#ffb418', 'distribution': '#11efb7', 'transporters': '#d07c09', 'toxicity': '#5e2bcb'}\n",
    "category_list = sorted(list(colors.keys()))\n",
    "\n",
    "# Map Protein Name to numerical values\n",
    "df.sort_values(['Category', 'Protein Name'], inplace=True)\n",
    "protein_names = df['Protein Name'].unique()\n",
    "protein_name_mapping = {name: i for i, name in enumerate(protein_names)}\n",
    "jitter_amount = 0.2"
   ],
   "metadata": {
    "collapsed": false,
    "ExecuteTime": {
     "end_time": "2024-02-22T16:42:22.229700Z",
     "start_time": "2024-02-22T16:42:22.135498Z"
    }
   },
   "id": "cae561a06cc09eb1",
   "execution_count": 88
  },
  {
   "cell_type": "code",
   "outputs": [
    {
     "data": {
      "application/vnd.plotly.v1+json": {
       "data": [
        {
         "marker": {
          "color": "#11efb7",
          "line": {
           "color": "black",
           "width": 1
          },
          "size": 10,
          "symbol": "diamond-tall"
         },
         "mode": "markers",
         "name": "distribution (X-ray)",
         "opacity": 1,
         "showlegend": true,
         "x": [
          0.02641118206682394,
          1.1959935632543008,
          1.1914810197195884,
          1.0668889600876064,
          0.9132115744678239,
          0.908607249902293,
          1.0572510250494056,
          1.1320470253850172,
          1.0627765997349523,
          0.8088355355204568,
          1.0652868875677688,
          1.02962616347584,
          1.1006946364663597,
          0.8648033634038785,
          1.0014357075334515,
          0.8879460982157986,
          0.8012426579774953,
          0.8060853141066913,
          0.9368768266118039,
          0.9903991832848371,
          0.8618641740178286,
          1.1942694520338386,
          1.1801280678920547,
          1.0664281858425038,
          1.01480892311364,
          0.8758364764525752,
          1.1157809984519067,
          0.9869950971994842,
          1.1192552198094545,
          0.9537545151795986,
          1.0823039009483595,
          1.1634544003388276,
          0.8276478657504105,
          0.9904706565876003,
          1.1690189372084756,
          0.8862308373113904,
          0.8527438621340475,
          1.1296337616393872,
          1.034967775530091,
          0.8137179824785485,
          0.97786052090411,
          1.0660550176175683,
          1.0744776942577785,
          1.1591416105929886,
          1.1514793314480587,
          0.8233955899819518,
          1.012872735373406,
          1.1750408276176252,
          1.084523521308075,
          1.0101481396453902,
          0.8002173838448037,
          0.815581179468849,
          0.9207205831581428,
          0.8175294833715414,
          0.971186696251921,
          0.9273923216879522,
          1.0496696462928747,
          1.1643398281294006,
          1.1604661986694689,
          0.8341361883985638,
          1.0563143125449908,
          1.1162948962473138,
          0.9561818829531559,
          1.1442647511017632,
          1.0485921215697676,
          1.1081021162764337,
          1.0357155165589251,
          1.0397416926785155,
          1.1365704370716732,
          0.8558503582489888,
          1.14779333227958,
          0.8299855926973633,
          1.194449687073959,
          0.863221531927531,
          1.1969264254437675,
          0.9243693569631118,
          0.9107896163207796,
          1.0323545283542501,
          1.0741517751344163,
          1.0610568313754047,
          1.170480611431997,
          0.9099075006925481,
          1.1031468718537722,
          1.131292334311589,
          0.8121266103802013,
          0.8120966791471312,
          1.0447950165549773,
          1.0349533191503084,
          0.8007550177267698,
          0.9384255783267439,
          0.8797979860897555,
          0.864602594717857,
          0.9568532426861092,
          1.1262322465293277,
          1.1917621869075126,
          1.079486523052712,
          1.024784805182569,
          0.8173829569763825,
          1.0856631128952847,
          1.0953738979843497,
          1.1350059965872294,
          1.1693101787991595,
          1.0486217766026729,
          1.1776992252274012,
          1.042004476684137,
          0.909119877258795,
          1.143927840349045,
          1.0710960090871264,
          1.1065548035892352,
          1.0899136615209168,
          0.8575176489609146,
          0.946079067656913,
          1.038186963600771,
          0.9000340101316012,
          0.8141360371649956,
          1.1015505818469316,
          1.1711560275199855,
          1.0215335850969711,
          0.9586077762498839,
          0.9007782934642037,
          1.184196532537737,
          1.0001464219471248,
          1.0118741063320245,
          1.0351243106492132,
          1.1817065262455992,
          0.8712887875390654,
          1.0054232465026385,
          1.144684244185978,
          0.9041640191418739,
          0.8051207683110212,
          0.9093465412987097,
          1.1626338126886875,
          0.8197731768610859,
          0.8945677990010545,
          1.1964195440957555,
          0.9026355053448128,
          0.8895915344485503,
          0.9978327458618494,
          0.9110634559423783,
          0.8703575796052124,
          0.9624311990445755,
          1.1757538891156596,
          1.0687678406505436,
          0.8849387799002701,
          0.937266303863666,
          0.8456820710287333,
          0.9174195302017932,
          1.0603911623933049
         ],
         "y": [
          1.8,
          2.5,
          2.5,
          3.15,
          2.5,
          2.6,
          2.2,
          2.38,
          2.4,
          2.5,
          2.43,
          2.5,
          2.43,
          2.7,
          2.4,
          2.6,
          2.5,
          2.5,
          2.65,
          2.8,
          2.8,
          2.4,
          2.7,
          1.9,
          3.2,
          2.7,
          2.8,
          2.7,
          2.35,
          3.2,
          3.1,
          3.05,
          2.95,
          2.95,
          2.7,
          2.25,
          2.5,
          2.4,
          2.6,
          2.5,
          2.65,
          2.6,
          2.3,
          2.6,
          2.7,
          2.9,
          2.52,
          2.42,
          3.05,
          2.7,
          2.9,
          2.6,
          2.4,
          2.65,
          2.4,
          2.5,
          2.75,
          2.19,
          2.6,
          2.7,
          2.8,
          3.3,
          2.3,
          2.7,
          2.8,
          2.6,
          2.05,
          2.6,
          2.2,
          2.35,
          2.3,
          2.3,
          2.22,
          2.3,
          3.04,
          2.34,
          2.56,
          2.41,
          3.23,
          2.4,
          2.01,
          2.4,
          2.7,
          2.4,
          2.8,
          2.7,
          3.02,
          3.8,
          3.16,
          2.19,
          3.6,
          2.8,
          2.54,
          2.26,
          3.2,
          2.65,
          2.7,
          2.6,
          3.0,
          2.62,
          2.65,
          2.17,
          2.28,
          2.39,
          1.9,
          3.9,
          2.09,
          2.49,
          2.95,
          2.6,
          2.8,
          1.95,
          2.45,
          2.21,
          2.2,
          3.0,
          1.89,
          3.27,
          2.75,
          2.27,
          2.1,
          3.29,
          2.04,
          2.4,
          2.5,
          2.31,
          2.05,
          2.6,
          1.9,
          1.9,
          1.9,
          2.2,
          1.98,
          2.3,
          2.99,
          2.4,
          2.89,
          2.9,
          2.83,
          2.1,
          2.0,
          2.2,
          2.0,
          2.6,
          2.4,
          3.3,
          3.1,
          2.48
         ],
         "type": "scatter"
        },
        {
         "marker": {
          "color": "#11efb7",
          "line": {
           "color": "black",
           "width": 1
          },
          "size": 10,
          "symbol": "circle-open"
         },
         "mode": "markers",
         "name": "distribution (AlphaFold)",
         "opacity": 0,
         "showlegend": false,
         "x": [
          0,
          1
         ],
         "y": [
          2.0,
          2.0
         ],
         "type": "scatter"
        },
        {
         "marker": {
          "color": "#11efb7",
          "line": {
           "color": "black",
           "width": 2
          },
          "size": 10,
          "symbol": "circle"
         },
         "mode": "markers",
         "name": "distribution (EM)",
         "opacity": 1,
         "showlegend": true,
         "x": [
          0.8899446467038534
         ],
         "y": [
          3.77
         ],
         "type": "scatter"
        },
        {
         "marker": {
          "color": "#ffb418",
          "line": {
           "color": "black",
           "width": 1
          },
          "size": 10,
          "symbol": "diamond-tall"
         },
         "mode": "markers",
         "name": "metabolism (X-ray)",
         "opacity": 1,
         "showlegend": true,
         "x": [
          1.9302425255412208,
          1.9174177557886871,
          2.891486708818145,
          4.007480408460496,
          4.190853956539604,
          3.988211916245148,
          4.17185593995739,
          4.1618358586956115,
          4.175841690486104,
          4.011272727145729,
          4.179854455339531,
          4.0628506194612894,
          4.002765528842175,
          3.9820067593969344,
          3.843904726723896,
          4.1401952155327635,
          3.9989804569527463,
          4.1401751504487585,
          3.8626168368036113,
          3.811216927901593,
          5.099716012828162,
          5.016711685331138,
          4.867672775800427,
          5.048591961572646,
          6.119947432570389,
          5.951731727833793,
          5.923415925072268,
          5.982216501913288,
          5.9955075463003595,
          5.861211424354523,
          5.984485663407429,
          6.166242372513246,
          5.836052316297413,
          5.994260787243964,
          6.111620175865333,
          5.905470763304839,
          5.920488832398514,
          5.9688645323736855,
          6.060462520464538,
          5.889712908846942,
          6.185788613968491,
          6.144026221205021,
          6.0097808680206475,
          6.076763951393694,
          6.155310214941018,
          5.909999120867239,
          6.121826908376281,
          5.947045393530915,
          6.066934494233239,
          5.800963002841164,
          5.852189965795134,
          6.069226631595775,
          5.818152848374404,
          6.19833211228655,
          5.8959398167802295,
          5.9562721208400236,
          6.125643445690504,
          5.827372558109032,
          6.085633752387723,
          5.991529226590743,
          5.906797550555641,
          6.186165649790505,
          5.869380102288271,
          6.0128622991077165,
          6.028417728512726,
          5.821165373616258,
          6.108186904900555,
          5.944483619064126,
          5.97334205977581,
          6.155851665952985,
          6.01581856621268,
          6.173840614432907,
          5.850443726448779,
          5.9035705211852125,
          6.06282706240315,
          6.189575583542758,
          7.087184013935891,
          7.053430036484586,
          6.821741393939003,
          7.133261111619107,
          7.028492984373533,
          6.809223585184043,
          8.002177804508188,
          8.934344071294381,
          9.875864924907466,
          9.824303512012015,
          9.972822537341024,
          9.828236099123677,
          10.152791736910352,
          10.09602915964373,
          10.038293067842572,
          9.841002933501024,
          9.81556508907382,
          10.076912460661935,
          10.156155429695547,
          9.934217493874339,
          9.81275223368117,
          11.11907236699855,
          11.177327305728468,
          10.840858617850376,
          10.823634980134484,
          11.009623208234913,
          11.09092954319413,
          10.898672477166006,
          11.008110855919144,
          10.958224986821705,
          10.965729848493162,
          10.963251692614739,
          11.04246491815722,
          11.016477352196322,
          12.016471444571588,
          12.952135355278864,
          12.97452537343097,
          13.104390396888785,
          12.911574924634873,
          12.88438354716824,
          12.984861665132692,
          13.185115152287628,
          12.823405789007156,
          12.842735476661026,
          12.832219438943017,
          13.001612267658501,
          13.169667598611621,
          12.940613580511446,
          12.941702894408431,
          13.958443661364143,
          13.98865834803563,
          14.090190177924109,
          14.160925802624455,
          13.843223339574822,
          13.94194373212486,
          13.929905688449916,
          14.038823329677928,
          13.948001562547113,
          13.810022931213549,
          13.98827573397302,
          13.83265727004762,
          14.029007010029094,
          13.832771292627385,
          14.101426562443587,
          13.933565658220733,
          14.188845579047,
          14.153340885776512,
          13.934030096331776,
          13.96331008492389,
          13.856817776203865,
          14.178117773265331,
          14.004466967843888,
          14.019510792296835,
          14.120758635061929,
          13.807733788539823,
          14.00088678323215,
          14.068265796249815,
          13.962740649030719,
          14.176633496903216,
          13.993616102023696,
          13.8673814716476,
          13.886507423953663,
          13.965135620870033,
          14.187613847089022,
          13.952052191997105,
          13.880780978668714,
          14.184452888540624,
          14.16893145685404,
          13.860827865068952,
          14.130423695912338,
          14.057135983516199,
          13.907513260173632,
          13.825699845372812,
          13.838358492097724,
          14.155033060752306,
          14.064507606673583,
          13.938841673535599,
          14.02862259951808,
          13.994057885512841,
          13.832487059344457,
          14.140876083360101,
          14.185954395800048,
          14.149768502962594,
          14.017006974345396,
          14.045081120487078,
          13.932285533399762,
          13.804753818163022,
          13.808312952071855,
          13.837945507457924,
          13.891946974205181,
          14.086111736802676,
          13.83639771635049,
          13.9738687846844,
          13.909698776881159,
          13.887623066862115,
          13.955221298914202,
          13.987910388632681,
          13.987177477915866,
          13.878072315901344,
          13.900830693978815,
          14.107630999513807,
          14.051857010976013,
          14.050237121476654,
          13.99806854658949,
          13.899511257339597,
          14.176207281743741,
          13.852473440583024,
          15.071286614542887,
          15.027746001577976,
          15.05724709699618,
          15.00011130423677,
          14.825664803996673,
          14.924501121313096,
          14.820879496704766,
          14.849042631954934,
          14.826927562306944,
          15.07852701518754,
          14.923485153936237,
          14.911991192306612,
          14.812224156041996,
          15.000895732209182,
          14.958262221821053,
          14.964574876842219,
          15.05089953092096,
          14.993425243961392,
          14.961731086509134,
          14.962900498927056,
          15.164786083638269,
          15.049199645749036,
          15.077846641339358,
          15.015517336912662,
          14.904210925272862,
          14.999237882444428,
          15.076891587179372,
          14.801222107901165,
          14.814302671774385,
          14.93420451915936,
          15.015644723756,
          14.990580245603608,
          15.190627753759793,
          15.196525793978642,
          15.175259765790974,
          14.949034759802423,
          15.126996917476266,
          15.170086340120596,
          15.14328485017687,
          14.920675877726516,
          17.078039336876746,
          16.99190342270457,
          16.93412692006776,
          16.97145896037361,
          17.176664060254744,
          17.111145952994935,
          16.826549037051485,
          16.918145955332925,
          17.038281973404647,
          17.030323530064585,
          17.18956846188044,
          16.89890049526861,
          17.0199181302438,
          16.844517363560946,
          17.086622959239005,
          17.15327189726214,
          16.985127996458814,
          16.894462247571823,
          16.863100010345697,
          17.033809502931923,
          17.106698388338597,
          16.822886378550464,
          16.930564011901605,
          16.902498811549552,
          16.885301720449824,
          16.996953085547077,
          16.91316559740955,
          17.117544023415476,
          16.989469295360802,
          16.924602791546132,
          17.095657742603077,
          16.982141109717674,
          16.98472281062154,
          17.02195468567094,
          17.041303764686237,
          16.953415685245268,
          17.129839232304207,
          16.96841548985774,
          16.877469286620187,
          18.125058269234444,
          17.841632480483902,
          18.0015491739694,
          17.936580130782396,
          18.118003225304502,
          17.88092244665749,
          17.920154932906343,
          17.856367808602567,
          18.11590390731923,
          17.850167825530505,
          18.144469222276225,
          18.069639755570677,
          18.10624707679788,
          18.04469121845721,
          18.07032082941641,
          17.90847972399477,
          17.846857843859596,
          17.814733130408037,
          18.114049718117187,
          17.81360708373421,
          18.032164054783877,
          17.857568238181145,
          18.133634698232417,
          18.085723005921125,
          18.053103812842043,
          17.930641260105688,
          18.142059316474263,
          17.950962953809547,
          18.023066824115016,
          18.103236458612,
          18.080351149321995,
          18.08504815644627,
          18.059836478718847,
          17.999865174576893,
          18.15511566686539,
          17.90521842430913,
          17.887119697548094,
          18.168873544193808,
          17.803595893946074,
          17.86379282286162,
          17.921436602753534,
          18.070794628172724,
          18.153694255996673,
          17.827786355510977,
          17.895278250668635,
          18.12076498527149,
          18.057789353216386,
          17.93412808799241,
          17.829734203330922,
          18.176660854828782,
          18.06678970263563,
          18.012982471674356,
          18.0935353967362,
          19.063887768958164,
          19.165805340214828,
          19.89739983637847,
          20.043157591758423,
          19.82340657528462,
          19.82652556620454,
          20.174486434361953,
          20.137594002614804,
          19.991117450826977,
          19.931301268342235,
          20.1768709318526,
          20.003933087937043,
          19.91062219019677,
          21.02884447880547,
          20.8862782333319
         ],
         "y": [
          2.5,
          2.49,
          3.3,
          2.07,
          1.74,
          1.8,
          1.95,
          1.85,
          1.85,
          1.7,
          1.7,
          2.05,
          2.1,
          2.0,
          1.6,
          1.8,
          1.9,
          1.6,
          1.6,
          1.8,
          3.0,
          3.15,
          2.2,
          2.17,
          3.0,
          2.3,
          1.7,
          2.4,
          3.1,
          2.07,
          2.12,
          1.65,
          1.6,
          1.8,
          1.9,
          1.83,
          2.2,
          2.2,
          1.7,
          2.5,
          1.7,
          2.06,
          2.0,
          2.2,
          1.7,
          1.7,
          1.6,
          2.0,
          1.7,
          2.4,
          2.3,
          2.3,
          1.9,
          1.6,
          2.1,
          1.66,
          2.2,
          2.2,
          1.8,
          2.2,
          1.89,
          1.7,
          1.8,
          2.42,
          1.8,
          1.6,
          1.7,
          2.3,
          1.7,
          2.3,
          1.8,
          2.3,
          2.1,
          2.3,
          2.1,
          2.0,
          2.6,
          2.7,
          3.39,
          3.1,
          2.6,
          2.7,
          3.0,
          1.95,
          2.0,
          2.1,
          2.8,
          2.8,
          2.0,
          2.1,
          2.2,
          2.24,
          2.03,
          1.93,
          2.27,
          1.76,
          2.99,
          2.6,
          2.55,
          2.0,
          2.45,
          2.0,
          2.9,
          2.3,
          2.0,
          2.0,
          2.48,
          2.3,
          3.12,
          2.23,
          2.87,
          3.0,
          2.85,
          2.1,
          2.67,
          2.6,
          2.26,
          2.35,
          3.3,
          2.5,
          2.4,
          2.71,
          2.75,
          2.39,
          2.39,
          2.05,
          2.8,
          2.65,
          2.74,
          2.75,
          2.8,
          2.0,
          2.25,
          2.15,
          1.93,
          2.25,
          2.8,
          2.76,
          2.6,
          2.72,
          2.9,
          2.5,
          2.85,
          2.6,
          2.4,
          2.76,
          2.95,
          2.5,
          2.45,
          2.6,
          2.7,
          2.7,
          1.7,
          1.95,
          2.2,
          2.2,
          2.23,
          2.5,
          2.5,
          2.42,
          2.38,
          2.25,
          2.57,
          2.67,
          2.6,
          2.25,
          2.52,
          2.2,
          2.5,
          2.5,
          2.79,
          2.55,
          2.65,
          2.55,
          2.75,
          2.7,
          2.65,
          2.75,
          2.75,
          2.5,
          2.75,
          2.78,
          2.65,
          2.45,
          2.5,
          2.25,
          2.35,
          2.9,
          2.4,
          2.7,
          2.4,
          2.2,
          2.3,
          2.35,
          2.3,
          2.1,
          2.4,
          2.25,
          2.2,
          2.15,
          2.05,
          2.05,
          2.15,
          1.8,
          1.55,
          2.11,
          2.3,
          3.1,
          1.9,
          2.69,
          2.25,
          2.35,
          2.35,
          2.6,
          2.5,
          2.55,
          3.0,
          2.65,
          2.3,
          2.19,
          2.3,
          2.6,
          2.3,
          2.72,
          1.8,
          2.2,
          2.55,
          2.16,
          1.91,
          2.73,
          2.19,
          2.35,
          2.35,
          2.35,
          1.96,
          2.8,
          3.2,
          2.35,
          2.35,
          2.37,
          2.5,
          2.07,
          2.45,
          2.5,
          2.0,
          2.7,
          2.6,
          1.5,
          1.8,
          1.3,
          1.86,
          2.0,
          2.1,
          1.75,
          1.8,
          2.07,
          1.85,
          1.95,
          1.8,
          2.51,
          2.38,
          1.98,
          2.2,
          1.75,
          2.13,
          1.79,
          2.2,
          1.86,
          1.88,
          2.1,
          1.93,
          2.33,
          1.6,
          1.55,
          1.7,
          2.0,
          1.29,
          2.19,
          2.03,
          2.46,
          1.56,
          1.87,
          2.52,
          2.76,
          2.15,
          2.0,
          2.8,
          2.8,
          2.8,
          2.0,
          2.1,
          2.8,
          2.8,
          2.8,
          2.8,
          2.8,
          3.14,
          2.0,
          2.25,
          2.58,
          2.4,
          2.25,
          2.67,
          2.56,
          2.3,
          2.28,
          2.22,
          2.27,
          2.3,
          2.7,
          1.85,
          2.27,
          2.15,
          2.25,
          2.26,
          2.55,
          2.05,
          2.65,
          1.9,
          2.45,
          2.7,
          2.55,
          2.15,
          2.3,
          2.0,
          2.5,
          2.26,
          2.48,
          2.05,
          2.2,
          2.1,
          2.25,
          2.37,
          2.3,
          2.2,
          2.7,
          2.6,
          1.9,
          2.3,
          2.3,
          2.5,
          2.35,
          2.7,
          2.36,
          2.3,
          2.0,
          2.36,
          2.56,
          3.59,
          2.6
         ],
         "type": "scatter"
        },
        {
         "marker": {
          "color": "#ffb418",
          "line": {
           "color": "black",
           "width": 1
          },
          "size": 10,
          "symbol": "circle-open"
         },
         "mode": "markers",
         "name": "metabolism (AlphaFold)",
         "opacity": 0,
         "showlegend": false,
         "x": [
          2,
          3,
          4,
          5,
          6,
          7,
          8,
          9,
          10,
          11,
          12,
          13,
          14,
          15,
          16,
          17,
          18,
          19,
          20,
          21
         ],
         "y": [
          2.0,
          2.0,
          2.0,
          2.0,
          2.0,
          2.0,
          2.0,
          2.0,
          2.0,
          2.0,
          2.0,
          2.0,
          2.0,
          2.0,
          2.0,
          2.0,
          2.0,
          2.0,
          2.0,
          2.0
         ],
         "type": "scatter"
        },
        {
         "marker": {
          "color": "#ffb418",
          "line": {
           "color": "black",
           "width": 2
          },
          "size": 10,
          "symbol": "circle"
         },
         "mode": "markers",
         "name": "metabolism (EM)",
         "opacity": 1,
         "showlegend": true,
         "x": [
          2.8513573697590697,
          3.9179673570679805,
          4.135951558330529,
          4.183861269228788,
          7.156846368783637
         ],
         "y": [
          2.85,
          2.84,
          3.4,
          2.64,
          2.92
         ],
         "type": "scatter"
        },
        {
         "marker": {
          "color": "#5e2bcb",
          "line": {
           "color": "black",
           "width": 1
          },
          "size": 10,
          "symbol": "diamond-tall"
         },
         "mode": "markers",
         "name": "toxicity (X-ray)",
         "opacity": 1,
         "showlegend": true,
         "x": [
          22.038638579318665,
          21.8203837466605,
          21.86173443629005,
          21.9907061221017,
          21.97024469014152,
          22.083611572640358,
          21.959651714127713,
          22.183409922096956,
          23.899222443512127,
          24.122802334392535,
          24.131619728578038,
          26.032776048239214,
          26.01966403070984,
          25.902581793210228,
          25.93765144452371,
          26.184366550096254,
          26.14930035399893,
          26.80386561443156,
          26.899575379888013,
          26.839901781950385,
          26.959430469927888,
          27.94397079907322,
          28.028912769808777,
          28.15977980122751,
          28.005519014942053,
          28.020451861793735,
          29.1466236366533,
          29.09298188571847,
          28.819875414360528,
          29.048524115494587,
          29.055456519674014,
          29.061929569717755,
          28.858692909293108,
          28.86519873930939,
          32.09452463249548,
          31.906045962057455,
          33.192300258770246,
          33.171770397512304,
          33.130540075448934,
          32.844116884777954,
          34.13963794913548,
          34.090951361862054,
          34.01201630353165,
          34.047935502989766,
          34.19250116068122,
          34.1716586130797,
          34.17148690117381,
          34.19788060060723,
          34.04563122097894,
          33.942933220052595,
          34.16619865456045,
          33.92017690907329,
          33.93743780842903,
          33.96838763765097,
          33.9841381166154,
          34.11172409992926,
          34.140539723086555,
          33.9626137049927,
          33.97397542002353,
          33.98343912803342,
          33.83551260361684,
          33.98547211231433,
          34.11723935913539,
          33.886630729032795,
          34.17195159310621,
          33.811843844588914,
          33.8255071223154,
          34.09989208592859,
          33.96838157879639,
          33.97143908764947,
          33.805508850745106,
          33.948253476771455,
          33.83305330413846,
          34.01367854106237,
          33.89266961090374,
          33.806886007446074,
          35.191935725247816,
          34.98086919577146,
          36.17792803816998,
          35.83608410070275,
          36.0897317058406,
          36.14140266745036,
          35.93826242864719,
          36.11718216426083,
          36.11615942704546,
          35.87975530589561,
          35.844572705779534,
          36.02933670578204,
          36.1932772558619,
          35.8432879835839,
          36.14224950296245,
          35.85313751036639,
          35.845585266155766,
          38.17941905415364,
          38.02007110768491,
          38.059293822880576,
          37.95227727844961,
          38.02728667552753,
          38.051872721945315,
          37.80017263273756,
          39.09446826215341,
          38.901959702642735,
          39.849479736537745,
          39.93559539816981,
          41.19350265058048,
          42.12743898440597,
          41.99735404242434,
          42.00925919527932,
          42.103219613997936,
          44.928583170716095,
          44.92361099974214,
          44.87941650303839,
          45.007903908176324,
          45.133340928745824,
          44.876572314976656,
          45.13923798123713,
          45.141390360932334,
          45.04857148559199,
          44.83126659393179,
          44.83752303889105,
          45.085298266378786,
          46.12007119017903,
          45.86569694622822,
          46.070914883196274,
          46.13847433764313,
          45.877287451033354,
          46.19555410480948
         ],
         "y": [
          2.7,
          2.8,
          3.0,
          2.9,
          3.1,
          2.92,
          3.1,
          3.19,
          1.9,
          2.0,
          1.93,
          2.4,
          2.2,
          2.38,
          2.38,
          2.85,
          2.15,
          1.8,
          1.71,
          2.7,
          2.26,
          2.7,
          2.55,
          2.17,
          2.33,
          2.5,
          3.0,
          3.5,
          3.7,
          2.5,
          2.6,
          3.0,
          2.95,
          2.3,
          2.7,
          3.2,
          3.13,
          2.7,
          2.6,
          2.5,
          1.9,
          3.4,
          3.4,
          2.4,
          2.8,
          3.4,
          2.84,
          2.84,
          3.16,
          3.5,
          3.5,
          3.2,
          3.99,
          2.79,
          3.1,
          3.2,
          3.3,
          2.48,
          3.8,
          3.2,
          3.2,
          2.7,
          3.7,
          2.96,
          3.2,
          3.1,
          2.8,
          3.4,
          3.2,
          2.4,
          2.5,
          2.6,
          2.9,
          2.7,
          3.4,
          3.1,
          2.6,
          3.0,
          2.0,
          2.0,
          1.45,
          1.6,
          2.1,
          2.55,
          2.0,
          1.7,
          1.65,
          2.0,
          2.4,
          2.4,
          1.65,
          1.7,
          1.75,
          2.8,
          2.6,
          2.95,
          2.8,
          3.25,
          2.7,
          3.29,
          2.8,
          3.2,
          3.45,
          3.2,
          3.1,
          2.6,
          2.12,
          1.96,
          1.5,
          3.14,
          4.53,
          3.15,
          3.24,
          3.4,
          3.49,
          3.62,
          3.53,
          3.8,
          4.05,
          4.7,
          6.3,
          2.2,
          1.35,
          3.84,
          2.8,
          2.25,
          2.69
         ],
         "type": "scatter"
        },
        {
         "marker": {
          "color": "#5e2bcb",
          "line": {
           "color": "black",
           "width": 1
          },
          "size": 10,
          "symbol": "circle-open"
         },
         "mode": "markers",
         "name": "toxicity (AlphaFold)",
         "opacity": 0,
         "showlegend": false,
         "x": [
          22,
          23,
          24,
          25,
          26,
          27,
          28,
          29,
          30,
          31,
          32,
          33,
          34,
          35,
          36,
          37,
          38,
          39,
          40,
          41,
          42,
          43,
          44,
          45,
          46
         ],
         "y": [
          2.0,
          2.0,
          2.0,
          2.0,
          2.0,
          2.0,
          2.0,
          2.0,
          2.0,
          2.0,
          2.0,
          2.0,
          2.0,
          2.0,
          2.0,
          2.0,
          2.0,
          2.0,
          2.0,
          2.0,
          2.0,
          2.0,
          2.0,
          2.0,
          2.0
         ],
         "type": "scatter"
        },
        {
         "marker": {
          "color": "#5e2bcb",
          "line": {
           "color": "black",
           "width": 2
          },
          "size": 10,
          "symbol": "circle"
         },
         "mode": "markers",
         "name": "toxicity (EM)",
         "opacity": 1,
         "showlegend": true,
         "x": [
          22.02013798402121,
          22.009467880798816,
          22.04510297770695,
          24.031939510384138,
          24.131247687921793,
          26.11112678868515,
          25.813178104643974,
          26.047362487422088,
          25.906897951575456,
          26.02152927429354,
          25.895061594735623,
          25.929743616125684,
          26.003922119094003,
          25.87321808111737,
          26.10941711702596,
          25.93469212444338,
          27.94785239101716,
          29.08470207932214,
          28.95222191725561,
          28.837378803575103,
          29.07191594310785,
          29.168663078453715,
          28.89313806397301,
          30.024896827160607,
          30.178423876155197,
          30.05958708530538,
          30.053020711105074,
          31.114879447937554,
          31.16003471166357,
          31.962020360568314,
          32.11753929233173,
          32.03964890480817,
          32.019156216974636,
          31.806110583825046,
          31.874788629632782,
          32.14994518932509,
          34.14838108097838,
          33.98823809340993,
          33.922250366208814,
          33.9740025912241,
          33.948113065635354,
          34.119336964082336,
          36.079502028102816,
          35.87361368345454,
          37.079294722930804,
          37.004569834103556,
          37.12133843821358,
          36.88431892865101,
          37.17384314807763,
          37.91412855020285,
          38.067751791976676,
          38.195127368314544,
          37.97720598544492,
          39.012973356755204,
          38.96967146951148,
          39.09422528710695,
          38.96701942143354,
          39.19563884690424,
          39.07361530826464,
          39.84541433812177,
          40.14810414043578,
          40.10499118301277,
          39.84616518385767,
          39.8491913750725,
          39.87940965062975,
          39.96543360524632,
          40.09497184043391,
          39.98676766549146,
          39.810110058038646,
          40.197318847872154,
          39.90673890368215,
          39.93239667308145,
          40.0070756012752,
          40.01685294235917,
          40.07176981747805,
          40.10904967135043,
          39.880049699135505,
          39.84901298033059,
          39.85836160787039,
          40.189228174468845,
          40.18310670787206,
          40.112130388701324,
          39.84422724660577,
          40.024106819573795,
          40.06223102791822,
          40.02831370608644,
          41.10631270240279,
          42.05358254321029,
          41.81614586424926,
          42.09274519965099,
          44.83282143292469,
          44.819597153285024,
          45.15301969837467,
          44.84080958674241,
          45.190863911012684,
          44.836153871876874,
          45.08655030096517,
          44.95614470079377,
          45.042881887597794,
          44.95993088765022,
          45.1322524649068,
          45.1799582656521,
          44.80323313761011,
          44.80951968013014,
          45.10160144274175,
          45.96732445265197,
          46.041971735867115
         ],
         "y": [
          2.7,
          2.9,
          3.3,
          3.34,
          3.87,
          3.18,
          2.85,
          3.02,
          3.0,
          3.6,
          2.7,
          2.3,
          3.4,
          2.7,
          2.8,
          4.4,
          3.3,
          3.6,
          4.0,
          3.21,
          3.32,
          3.16,
          3.22,
          2.69,
          2.79,
          2.69,
          2.56,
          2.6,
          3.1,
          4.1,
          3.2,
          3.0,
          3.6,
          3.4,
          3.47,
          3.4,
          3.8,
          3.82,
          3.26,
          3.8,
          3.2,
          3.4,
          3.4,
          3.1,
          2.8,
          3.0,
          3.0,
          3.3,
          3.1,
          3.0,
          3.0,
          3.36,
          2.8,
          2.9,
          3.2,
          3.08,
          2.84,
          2.97,
          2.98,
          3.8,
          3.8,
          3.1,
          3.04,
          3.69,
          3.26,
          3.58,
          3.2,
          3.12,
          2.55,
          3.49,
          3.5,
          3.3,
          2.92,
          3.23,
          2.86,
          3.04,
          2.79,
          3.0,
          2.7,
          3.0,
          3.0,
          2.9,
          2.9,
          2.65,
          2.98,
          2.71,
          3.3,
          3.7,
          3.8,
          4.0,
          4.2,
          4.3,
          4.1,
          3.6,
          3.3,
          4.1,
          3.8,
          3.5,
          4.1,
          3.9,
          3.9,
          3.3,
          3.65,
          3.5,
          3.0,
          3.3,
          3.3
         ],
         "type": "scatter"
        },
        {
         "marker": {
          "color": "#d07c09",
          "line": {
           "color": "black",
           "width": 1
          },
          "size": 10,
          "symbol": "diamond-tall"
         },
         "mode": "markers",
         "name": "transporters (X-ray)",
         "opacity": 1,
         "showlegend": true,
         "x": [
          49.84834476741518,
          50.00086342771286
         ],
         "y": [
          1.5,
          2.1
         ],
         "type": "scatter"
        },
        {
         "marker": {
          "color": "#d07c09",
          "line": {
           "color": "black",
           "width": 1
          },
          "size": 10,
          "symbol": "circle-open"
         },
         "mode": "markers",
         "name": "transporters (AlphaFold)",
         "opacity": 0,
         "showlegend": false,
         "x": [
          47,
          48,
          49,
          50,
          51,
          52,
          53,
          54,
          55,
          56
         ],
         "y": [
          2.0,
          2.0,
          2.0,
          2.0,
          2.0,
          2.0,
          2.0,
          2.0,
          2.0,
          2.0
         ],
         "type": "scatter"
        },
        {
         "marker": {
          "color": "#d07c09",
          "line": {
           "color": "black",
           "width": 2
          },
          "size": 10,
          "symbol": "circle"
         },
         "mode": "markers",
         "name": "transporters (EM)",
         "opacity": 1,
         "showlegend": true,
         "x": [
          47.0092645841072,
          47.16361720369811,
          47.106246665386585,
          48.1507308743569,
          48.14022077289364,
          47.83574573866951,
          47.83703173727836,
          48.017299965802536,
          47.99901102087763,
          47.93937693925998,
          47.85345482597172,
          47.83107058420237,
          47.85915580599064,
          47.91345171626228,
          48.05544100639489,
          48.007234486089466,
          47.84264735864225,
          47.91259601925182,
          48.100880452089996,
          48.129465686866205,
          47.98720678158958,
          47.87552161470202,
          47.871911595998355,
          48.183471209655195,
          48.066449869486945,
          47.88513571954464,
          47.82777425477417,
          48.95435167293757,
          48.892649000201395,
          49.120461600716915,
          49.12615643130597,
          48.863283276637745,
          49.18654698238893,
          49.18174242001173,
          49.15159179059417,
          48.83555254729413,
          48.80228476197383,
          51.02375057453452,
          50.93560044559817,
          51.03568207036113,
          55.18495603721888,
          54.9997186502767,
          55.17062507943147,
          54.80124728133031,
          55.19688438257511,
          54.9666004147902,
          56.02623099210084
         ],
         "y": [
          3.5,
          3.7,
          3.66,
          3.78,
          3.78,
          3.1,
          3.6,
          3.56,
          3.09,
          3.58,
          3.56,
          3.09,
          3.5,
          4.0,
          3.7,
          4.1,
          3.12,
          3.39,
          3.51,
          3.4,
          3.1,
          3.4,
          3.1,
          3.2,
          3.04,
          3.2,
          3.49,
          3.4,
          3.58,
          4.14,
          3.6,
          3.9,
          3.2,
          3.6,
          3.6,
          3.5,
          3.5,
          4.1,
          3.5,
          3.9,
          3.53,
          3.73,
          3.19,
          3.73,
          2.92,
          3.6,
          2.97
         ],
         "type": "scatter"
        }
       ],
       "layout": {
        "height": 600,
        "template": {
         "data": {
          "barpolar": [
           {
            "marker": {
             "line": {
              "color": "white",
              "width": 0.5
             },
             "pattern": {
              "fillmode": "overlay",
              "size": 10,
              "solidity": 0.2
             }
            },
            "type": "barpolar"
           }
          ],
          "bar": [
           {
            "error_x": {
             "color": "rgb(36,36,36)"
            },
            "error_y": {
             "color": "rgb(36,36,36)"
            },
            "marker": {
             "line": {
              "color": "white",
              "width": 0.5
             },
             "pattern": {
              "fillmode": "overlay",
              "size": 10,
              "solidity": 0.2
             }
            },
            "type": "bar"
           }
          ],
          "carpet": [
           {
            "aaxis": {
             "endlinecolor": "rgb(36,36,36)",
             "gridcolor": "white",
             "linecolor": "white",
             "minorgridcolor": "white",
             "startlinecolor": "rgb(36,36,36)"
            },
            "baxis": {
             "endlinecolor": "rgb(36,36,36)",
             "gridcolor": "white",
             "linecolor": "white",
             "minorgridcolor": "white",
             "startlinecolor": "rgb(36,36,36)"
            },
            "type": "carpet"
           }
          ],
          "choropleth": [
           {
            "colorbar": {
             "outlinewidth": 1,
             "tickcolor": "rgb(36,36,36)",
             "ticks": "outside"
            },
            "type": "choropleth"
           }
          ],
          "contourcarpet": [
           {
            "colorbar": {
             "outlinewidth": 1,
             "tickcolor": "rgb(36,36,36)",
             "ticks": "outside"
            },
            "type": "contourcarpet"
           }
          ],
          "contour": [
           {
            "colorbar": {
             "outlinewidth": 1,
             "tickcolor": "rgb(36,36,36)",
             "ticks": "outside"
            },
            "colorscale": [
             [
              0.0,
              "#440154"
             ],
             [
              0.1111111111111111,
              "#482878"
             ],
             [
              0.2222222222222222,
              "#3e4989"
             ],
             [
              0.3333333333333333,
              "#31688e"
             ],
             [
              0.4444444444444444,
              "#26828e"
             ],
             [
              0.5555555555555556,
              "#1f9e89"
             ],
             [
              0.6666666666666666,
              "#35b779"
             ],
             [
              0.7777777777777778,
              "#6ece58"
             ],
             [
              0.8888888888888888,
              "#b5de2b"
             ],
             [
              1.0,
              "#fde725"
             ]
            ],
            "type": "contour"
           }
          ],
          "heatmapgl": [
           {
            "colorbar": {
             "outlinewidth": 1,
             "tickcolor": "rgb(36,36,36)",
             "ticks": "outside"
            },
            "colorscale": [
             [
              0.0,
              "#440154"
             ],
             [
              0.1111111111111111,
              "#482878"
             ],
             [
              0.2222222222222222,
              "#3e4989"
             ],
             [
              0.3333333333333333,
              "#31688e"
             ],
             [
              0.4444444444444444,
              "#26828e"
             ],
             [
              0.5555555555555556,
              "#1f9e89"
             ],
             [
              0.6666666666666666,
              "#35b779"
             ],
             [
              0.7777777777777778,
              "#6ece58"
             ],
             [
              0.8888888888888888,
              "#b5de2b"
             ],
             [
              1.0,
              "#fde725"
             ]
            ],
            "type": "heatmapgl"
           }
          ],
          "heatmap": [
           {
            "colorbar": {
             "outlinewidth": 1,
             "tickcolor": "rgb(36,36,36)",
             "ticks": "outside"
            },
            "colorscale": [
             [
              0.0,
              "#440154"
             ],
             [
              0.1111111111111111,
              "#482878"
             ],
             [
              0.2222222222222222,
              "#3e4989"
             ],
             [
              0.3333333333333333,
              "#31688e"
             ],
             [
              0.4444444444444444,
              "#26828e"
             ],
             [
              0.5555555555555556,
              "#1f9e89"
             ],
             [
              0.6666666666666666,
              "#35b779"
             ],
             [
              0.7777777777777778,
              "#6ece58"
             ],
             [
              0.8888888888888888,
              "#b5de2b"
             ],
             [
              1.0,
              "#fde725"
             ]
            ],
            "type": "heatmap"
           }
          ],
          "histogram2dcontour": [
           {
            "colorbar": {
             "outlinewidth": 1,
             "tickcolor": "rgb(36,36,36)",
             "ticks": "outside"
            },
            "colorscale": [
             [
              0.0,
              "#440154"
             ],
             [
              0.1111111111111111,
              "#482878"
             ],
             [
              0.2222222222222222,
              "#3e4989"
             ],
             [
              0.3333333333333333,
              "#31688e"
             ],
             [
              0.4444444444444444,
              "#26828e"
             ],
             [
              0.5555555555555556,
              "#1f9e89"
             ],
             [
              0.6666666666666666,
              "#35b779"
             ],
             [
              0.7777777777777778,
              "#6ece58"
             ],
             [
              0.8888888888888888,
              "#b5de2b"
             ],
             [
              1.0,
              "#fde725"
             ]
            ],
            "type": "histogram2dcontour"
           }
          ],
          "histogram2d": [
           {
            "colorbar": {
             "outlinewidth": 1,
             "tickcolor": "rgb(36,36,36)",
             "ticks": "outside"
            },
            "colorscale": [
             [
              0.0,
              "#440154"
             ],
             [
              0.1111111111111111,
              "#482878"
             ],
             [
              0.2222222222222222,
              "#3e4989"
             ],
             [
              0.3333333333333333,
              "#31688e"
             ],
             [
              0.4444444444444444,
              "#26828e"
             ],
             [
              0.5555555555555556,
              "#1f9e89"
             ],
             [
              0.6666666666666666,
              "#35b779"
             ],
             [
              0.7777777777777778,
              "#6ece58"
             ],
             [
              0.8888888888888888,
              "#b5de2b"
             ],
             [
              1.0,
              "#fde725"
             ]
            ],
            "type": "histogram2d"
           }
          ],
          "histogram": [
           {
            "marker": {
             "line": {
              "color": "white",
              "width": 0.6
             }
            },
            "type": "histogram"
           }
          ],
          "mesh3d": [
           {
            "colorbar": {
             "outlinewidth": 1,
             "tickcolor": "rgb(36,36,36)",
             "ticks": "outside"
            },
            "type": "mesh3d"
           }
          ],
          "parcoords": [
           {
            "line": {
             "colorbar": {
              "outlinewidth": 1,
              "tickcolor": "rgb(36,36,36)",
              "ticks": "outside"
             }
            },
            "type": "parcoords"
           }
          ],
          "pie": [
           {
            "automargin": true,
            "type": "pie"
           }
          ],
          "scatter3d": [
           {
            "line": {
             "colorbar": {
              "outlinewidth": 1,
              "tickcolor": "rgb(36,36,36)",
              "ticks": "outside"
             }
            },
            "marker": {
             "colorbar": {
              "outlinewidth": 1,
              "tickcolor": "rgb(36,36,36)",
              "ticks": "outside"
             }
            },
            "type": "scatter3d"
           }
          ],
          "scattercarpet": [
           {
            "marker": {
             "colorbar": {
              "outlinewidth": 1,
              "tickcolor": "rgb(36,36,36)",
              "ticks": "outside"
             }
            },
            "type": "scattercarpet"
           }
          ],
          "scattergeo": [
           {
            "marker": {
             "colorbar": {
              "outlinewidth": 1,
              "tickcolor": "rgb(36,36,36)",
              "ticks": "outside"
             }
            },
            "type": "scattergeo"
           }
          ],
          "scattergl": [
           {
            "marker": {
             "colorbar": {
              "outlinewidth": 1,
              "tickcolor": "rgb(36,36,36)",
              "ticks": "outside"
             }
            },
            "type": "scattergl"
           }
          ],
          "scattermapbox": [
           {
            "marker": {
             "colorbar": {
              "outlinewidth": 1,
              "tickcolor": "rgb(36,36,36)",
              "ticks": "outside"
             }
            },
            "type": "scattermapbox"
           }
          ],
          "scatterpolargl": [
           {
            "marker": {
             "colorbar": {
              "outlinewidth": 1,
              "tickcolor": "rgb(36,36,36)",
              "ticks": "outside"
             }
            },
            "type": "scatterpolargl"
           }
          ],
          "scatterpolar": [
           {
            "marker": {
             "colorbar": {
              "outlinewidth": 1,
              "tickcolor": "rgb(36,36,36)",
              "ticks": "outside"
             }
            },
            "type": "scatterpolar"
           }
          ],
          "scatter": [
           {
            "fillpattern": {
             "fillmode": "overlay",
             "size": 10,
             "solidity": 0.2
            },
            "type": "scatter"
           }
          ],
          "scatterternary": [
           {
            "marker": {
             "colorbar": {
              "outlinewidth": 1,
              "tickcolor": "rgb(36,36,36)",
              "ticks": "outside"
             }
            },
            "type": "scatterternary"
           }
          ],
          "surface": [
           {
            "colorbar": {
             "outlinewidth": 1,
             "tickcolor": "rgb(36,36,36)",
             "ticks": "outside"
            },
            "colorscale": [
             [
              0.0,
              "#440154"
             ],
             [
              0.1111111111111111,
              "#482878"
             ],
             [
              0.2222222222222222,
              "#3e4989"
             ],
             [
              0.3333333333333333,
              "#31688e"
             ],
             [
              0.4444444444444444,
              "#26828e"
             ],
             [
              0.5555555555555556,
              "#1f9e89"
             ],
             [
              0.6666666666666666,
              "#35b779"
             ],
             [
              0.7777777777777778,
              "#6ece58"
             ],
             [
              0.8888888888888888,
              "#b5de2b"
             ],
             [
              1.0,
              "#fde725"
             ]
            ],
            "type": "surface"
           }
          ],
          "table": [
           {
            "cells": {
             "fill": {
              "color": "rgb(237,237,237)"
             },
             "line": {
              "color": "white"
             }
            },
            "header": {
             "fill": {
              "color": "rgb(217,217,217)"
             },
             "line": {
              "color": "white"
             }
            },
            "type": "table"
           }
          ]
         },
         "layout": {
          "annotationdefaults": {
           "arrowhead": 0,
           "arrowwidth": 1
          },
          "autotypenumbers": "strict",
          "coloraxis": {
           "colorbar": {
            "outlinewidth": 1,
            "tickcolor": "rgb(36,36,36)",
            "ticks": "outside"
           }
          },
          "colorscale": {
           "diverging": [
            [
             0.0,
             "rgb(103,0,31)"
            ],
            [
             0.1,
             "rgb(178,24,43)"
            ],
            [
             0.2,
             "rgb(214,96,77)"
            ],
            [
             0.3,
             "rgb(244,165,130)"
            ],
            [
             0.4,
             "rgb(253,219,199)"
            ],
            [
             0.5,
             "rgb(247,247,247)"
            ],
            [
             0.6,
             "rgb(209,229,240)"
            ],
            [
             0.7,
             "rgb(146,197,222)"
            ],
            [
             0.8,
             "rgb(67,147,195)"
            ],
            [
             0.9,
             "rgb(33,102,172)"
            ],
            [
             1.0,
             "rgb(5,48,97)"
            ]
           ],
           "sequential": [
            [
             0.0,
             "#440154"
            ],
            [
             0.1111111111111111,
             "#482878"
            ],
            [
             0.2222222222222222,
             "#3e4989"
            ],
            [
             0.3333333333333333,
             "#31688e"
            ],
            [
             0.4444444444444444,
             "#26828e"
            ],
            [
             0.5555555555555556,
             "#1f9e89"
            ],
            [
             0.6666666666666666,
             "#35b779"
            ],
            [
             0.7777777777777778,
             "#6ece58"
            ],
            [
             0.8888888888888888,
             "#b5de2b"
            ],
            [
             1.0,
             "#fde725"
            ]
           ],
           "sequentialminus": [
            [
             0.0,
             "#440154"
            ],
            [
             0.1111111111111111,
             "#482878"
            ],
            [
             0.2222222222222222,
             "#3e4989"
            ],
            [
             0.3333333333333333,
             "#31688e"
            ],
            [
             0.4444444444444444,
             "#26828e"
            ],
            [
             0.5555555555555556,
             "#1f9e89"
            ],
            [
             0.6666666666666666,
             "#35b779"
            ],
            [
             0.7777777777777778,
             "#6ece58"
            ],
            [
             0.8888888888888888,
             "#b5de2b"
            ],
            [
             1.0,
             "#fde725"
            ]
           ]
          },
          "colorway": [
           "#1F77B4",
           "#FF7F0E",
           "#2CA02C",
           "#D62728",
           "#9467BD",
           "#8C564B",
           "#E377C2",
           "#7F7F7F",
           "#BCBD22",
           "#17BECF"
          ],
          "font": {
           "color": "rgb(36,36,36)"
          },
          "geo": {
           "bgcolor": "white",
           "lakecolor": "white",
           "landcolor": "white",
           "showlakes": true,
           "showland": true,
           "subunitcolor": "white"
          },
          "hoverlabel": {
           "align": "left"
          },
          "hovermode": "closest",
          "mapbox": {
           "style": "light"
          },
          "paper_bgcolor": "white",
          "plot_bgcolor": "white",
          "polar": {
           "angularaxis": {
            "gridcolor": "rgb(232,232,232)",
            "linecolor": "rgb(36,36,36)",
            "showgrid": false,
            "showline": true,
            "ticks": "outside"
           },
           "bgcolor": "white",
           "radialaxis": {
            "gridcolor": "rgb(232,232,232)",
            "linecolor": "rgb(36,36,36)",
            "showgrid": false,
            "showline": true,
            "ticks": "outside"
           }
          },
          "scene": {
           "xaxis": {
            "backgroundcolor": "white",
            "gridcolor": "rgb(232,232,232)",
            "gridwidth": 2,
            "linecolor": "rgb(36,36,36)",
            "showbackground": true,
            "showgrid": false,
            "showline": true,
            "ticks": "outside",
            "zeroline": false,
            "zerolinecolor": "rgb(36,36,36)"
           },
           "yaxis": {
            "backgroundcolor": "white",
            "gridcolor": "rgb(232,232,232)",
            "gridwidth": 2,
            "linecolor": "rgb(36,36,36)",
            "showbackground": true,
            "showgrid": false,
            "showline": true,
            "ticks": "outside",
            "zeroline": false,
            "zerolinecolor": "rgb(36,36,36)"
           },
           "zaxis": {
            "backgroundcolor": "white",
            "gridcolor": "rgb(232,232,232)",
            "gridwidth": 2,
            "linecolor": "rgb(36,36,36)",
            "showbackground": true,
            "showgrid": false,
            "showline": true,
            "ticks": "outside",
            "zeroline": false,
            "zerolinecolor": "rgb(36,36,36)"
           }
          },
          "shapedefaults": {
           "fillcolor": "black",
           "line": {
            "width": 0
           },
           "opacity": 0.3
          },
          "ternary": {
           "aaxis": {
            "gridcolor": "rgb(232,232,232)",
            "linecolor": "rgb(36,36,36)",
            "showgrid": false,
            "showline": true,
            "ticks": "outside"
           },
           "baxis": {
            "gridcolor": "rgb(232,232,232)",
            "linecolor": "rgb(36,36,36)",
            "showgrid": false,
            "showline": true,
            "ticks": "outside"
           },
           "bgcolor": "white",
           "caxis": {
            "gridcolor": "rgb(232,232,232)",
            "linecolor": "rgb(36,36,36)",
            "showgrid": false,
            "showline": true,
            "ticks": "outside"
           }
          },
          "title": {
           "x": 0.05
          },
          "xaxis": {
           "automargin": true,
           "gridcolor": "rgb(232,232,232)",
           "linecolor": "rgb(36,36,36)",
           "showgrid": false,
           "showline": true,
           "ticks": "outside",
           "title": {
            "standoff": 15
           },
           "zeroline": false,
           "zerolinecolor": "rgb(36,36,36)"
          },
          "yaxis": {
           "automargin": true,
           "gridcolor": "rgb(232,232,232)",
           "linecolor": "rgb(36,36,36)",
           "showgrid": false,
           "showline": true,
           "ticks": "outside",
           "title": {
            "standoff": 15
           },
           "zeroline": false,
           "zerolinecolor": "rgb(36,36,36)"
          }
         }
        },
        "title": {
         "text": "Analysis of Experimental Structure Quality for ADMET Targets"
        },
        "width": 1600,
        "xaxis": {
         "range": [
          -0.5,
          57.5
         ],
         "ticktext": [
          "A1AG1 (P02763)",
          "ALBU (P02768)",
          "ADH1A (P07327)",
          "AHR (P35869)",
          "AL1A1 (P00352)",
          "AOFA (P21397)",
          "AOFB (P27338)",
          "AOXA (Q06278)",
          "ARK73 (O95154)",
          "CP1A2 (P05177)",
          "CP2B6 (P20813)",
          "CP2C9 (P11712)",
          "CP2CJ (P33261)",
          "CP2D6 (P10635)",
          "CP3A4 (P08684)",
          "DHI1 (P28845)",
          "FMO1 (Q01740)",
          "GSTA1 (P08263)",
          "NR1I2 (O75469)",
          "NR1I3 (Q14994)",
          "ST1A1 (P50225)",
          "XDH (P47989)",
          "5HT2B (P41595)",
          "ACH10 (Q9GZZ6)",
          "ACHA3 (P32297)",
          "ACHA5 (P30532)",
          "ACHA7 (P36544)",
          "ACHA9 (Q9UGM1)",
          "ACM1 (P11229)",
          "ACM2 (P08172)",
          "ACM3 (P20309)",
          "ADA1A (P35348)",
          "ADA2A (P08913)",
          "ADRB1 (P08588)",
          "ADRB2 (P07550)",
          "ASM3A (Q92484)",
          "CAC1C (Q13936)",
          "CACB1 (Q02641)",
          "CNR1 (P21554)",
          "CNR2 (P34972)",
          "GBRA1 (P14867)",
          "HRH1 (P35367)",
          "KCNH2 (Q12809)",
          "SC6A2 (P23975)",
          "SC6A3 (Q01959)",
          "SC6A4 (P31645)",
          "SCN5A (Q14524)",
          "ABCBB (O95342)",
          "ABCG2 (Q9UNQ0)",
          "MDR1 (P08183)",
          "MRP1 (P33527)",
          "S15A1 (P46059)",
          "S22A6 (Q4U2R8)",
          "S22A8 (Q8TCC7)",
          "S47A1 (Q96FL8)",
          "SO1B1 (Q9Y6L6)",
          "SO1B3 (Q9NPD5)"
         ],
         "tickvals": [
          0,
          1,
          2,
          3,
          4,
          5,
          6,
          7,
          8,
          9,
          10,
          11,
          12,
          13,
          14,
          15,
          16,
          17,
          18,
          19,
          20,
          21,
          22,
          23,
          24,
          25,
          26,
          27,
          28,
          29,
          30,
          31,
          32,
          33,
          34,
          35,
          36,
          37,
          38,
          39,
          40,
          41,
          42,
          43,
          44,
          45,
          46,
          47,
          48,
          49,
          50,
          51,
          52,
          53,
          54,
          55,
          56
         ],
         "title": {
          "text": "Protein Name (Uniprot ID)"
         }
        },
        "yaxis": {
         "title": {
          "text": "Resolution(A)"
         }
        }
       },
       "config": {
        "plotlyServerURL": "https://plot.ly"
       }
      },
      "text/html": "<div>                            <div id=\"91848828-339e-43f2-9375-f0674f2d2eaa\" class=\"plotly-graph-div\" style=\"height:600px; width:1600px;\"></div>            <script type=\"text/javascript\">                require([\"plotly\"], function(Plotly) {                    window.PLOTLYENV=window.PLOTLYENV || {};                                    if (document.getElementById(\"91848828-339e-43f2-9375-f0674f2d2eaa\")) {                    Plotly.newPlot(                        \"91848828-339e-43f2-9375-f0674f2d2eaa\",                        [{\"marker\":{\"color\":\"#11efb7\",\"line\":{\"color\":\"black\",\"width\":1},\"size\":10,\"symbol\":\"diamond-tall\"},\"mode\":\"markers\",\"name\":\"distribution (X-ray)\",\"opacity\":1,\"showlegend\":true,\"x\":[0.02641118206682394,1.1959935632543008,1.1914810197195884,1.0668889600876064,0.9132115744678239,0.908607249902293,1.0572510250494056,1.1320470253850172,1.0627765997349523,0.8088355355204568,1.0652868875677688,1.02962616347584,1.1006946364663597,0.8648033634038785,1.0014357075334515,0.8879460982157986,0.8012426579774953,0.8060853141066913,0.9368768266118039,0.9903991832848371,0.8618641740178286,1.1942694520338386,1.1801280678920547,1.0664281858425038,1.01480892311364,0.8758364764525752,1.1157809984519067,0.9869950971994842,1.1192552198094545,0.9537545151795986,1.0823039009483595,1.1634544003388276,0.8276478657504105,0.9904706565876003,1.1690189372084756,0.8862308373113904,0.8527438621340475,1.1296337616393872,1.034967775530091,0.8137179824785485,0.97786052090411,1.0660550176175683,1.0744776942577785,1.1591416105929886,1.1514793314480587,0.8233955899819518,1.012872735373406,1.1750408276176252,1.084523521308075,1.0101481396453902,0.8002173838448037,0.815581179468849,0.9207205831581428,0.8175294833715414,0.971186696251921,0.9273923216879522,1.0496696462928747,1.1643398281294006,1.1604661986694689,0.8341361883985638,1.0563143125449908,1.1162948962473138,0.9561818829531559,1.1442647511017632,1.0485921215697676,1.1081021162764337,1.0357155165589251,1.0397416926785155,1.1365704370716732,0.8558503582489888,1.14779333227958,0.8299855926973633,1.194449687073959,0.863221531927531,1.1969264254437675,0.9243693569631118,0.9107896163207796,1.0323545283542501,1.0741517751344163,1.0610568313754047,1.170480611431997,0.9099075006925481,1.1031468718537722,1.131292334311589,0.8121266103802013,0.8120966791471312,1.0447950165549773,1.0349533191503084,0.8007550177267698,0.9384255783267439,0.8797979860897555,0.864602594717857,0.9568532426861092,1.1262322465293277,1.1917621869075126,1.079486523052712,1.024784805182569,0.8173829569763825,1.0856631128952847,1.0953738979843497,1.1350059965872294,1.1693101787991595,1.0486217766026729,1.1776992252274012,1.042004476684137,0.909119877258795,1.143927840349045,1.0710960090871264,1.1065548035892352,1.0899136615209168,0.8575176489609146,0.946079067656913,1.038186963600771,0.9000340101316012,0.8141360371649956,1.1015505818469316,1.1711560275199855,1.0215335850969711,0.9586077762498839,0.9007782934642037,1.184196532537737,1.0001464219471248,1.0118741063320245,1.0351243106492132,1.1817065262455992,0.8712887875390654,1.0054232465026385,1.144684244185978,0.9041640191418739,0.8051207683110212,0.9093465412987097,1.1626338126886875,0.8197731768610859,0.8945677990010545,1.1964195440957555,0.9026355053448128,0.8895915344485503,0.9978327458618494,0.9110634559423783,0.8703575796052124,0.9624311990445755,1.1757538891156596,1.0687678406505436,0.8849387799002701,0.937266303863666,0.8456820710287333,0.9174195302017932,1.0603911623933049],\"y\":[1.8,2.5,2.5,3.15,2.5,2.6,2.2,2.38,2.4,2.5,2.43,2.5,2.43,2.7,2.4,2.6,2.5,2.5,2.65,2.8,2.8,2.4,2.7,1.9,3.2,2.7,2.8,2.7,2.35,3.2,3.1,3.05,2.95,2.95,2.7,2.25,2.5,2.4,2.6,2.5,2.65,2.6,2.3,2.6,2.7,2.9,2.52,2.42,3.05,2.7,2.9,2.6,2.4,2.65,2.4,2.5,2.75,2.19,2.6,2.7,2.8,3.3,2.3,2.7,2.8,2.6,2.05,2.6,2.2,2.35,2.3,2.3,2.22,2.3,3.04,2.34,2.56,2.41,3.23,2.4,2.01,2.4,2.7,2.4,2.8,2.7,3.02,3.8,3.16,2.19,3.6,2.8,2.54,2.26,3.2,2.65,2.7,2.6,3.0,2.62,2.65,2.17,2.28,2.39,1.9,3.9,2.09,2.49,2.95,2.6,2.8,1.95,2.45,2.21,2.2,3.0,1.89,3.27,2.75,2.27,2.1,3.29,2.04,2.4,2.5,2.31,2.05,2.6,1.9,1.9,1.9,2.2,1.98,2.3,2.99,2.4,2.89,2.9,2.83,2.1,2.0,2.2,2.0,2.6,2.4,3.3,3.1,2.48],\"type\":\"scatter\"},{\"marker\":{\"color\":\"#11efb7\",\"line\":{\"color\":\"black\",\"width\":1},\"size\":10,\"symbol\":\"circle-open\"},\"mode\":\"markers\",\"name\":\"distribution (AlphaFold)\",\"opacity\":0,\"showlegend\":false,\"x\":[0,1],\"y\":[2.0,2.0],\"type\":\"scatter\"},{\"marker\":{\"color\":\"#11efb7\",\"line\":{\"color\":\"black\",\"width\":2},\"size\":10,\"symbol\":\"circle\"},\"mode\":\"markers\",\"name\":\"distribution (EM)\",\"opacity\":1,\"showlegend\":true,\"x\":[0.8899446467038534],\"y\":[3.77],\"type\":\"scatter\"},{\"marker\":{\"color\":\"#ffb418\",\"line\":{\"color\":\"black\",\"width\":1},\"size\":10,\"symbol\":\"diamond-tall\"},\"mode\":\"markers\",\"name\":\"metabolism (X-ray)\",\"opacity\":1,\"showlegend\":true,\"x\":[1.9302425255412208,1.9174177557886871,2.891486708818145,4.007480408460496,4.190853956539604,3.988211916245148,4.17185593995739,4.1618358586956115,4.175841690486104,4.011272727145729,4.179854455339531,4.0628506194612894,4.002765528842175,3.9820067593969344,3.843904726723896,4.1401952155327635,3.9989804569527463,4.1401751504487585,3.8626168368036113,3.811216927901593,5.099716012828162,5.016711685331138,4.867672775800427,5.048591961572646,6.119947432570389,5.951731727833793,5.923415925072268,5.982216501913288,5.9955075463003595,5.861211424354523,5.984485663407429,6.166242372513246,5.836052316297413,5.994260787243964,6.111620175865333,5.905470763304839,5.920488832398514,5.9688645323736855,6.060462520464538,5.889712908846942,6.185788613968491,6.144026221205021,6.0097808680206475,6.076763951393694,6.155310214941018,5.909999120867239,6.121826908376281,5.947045393530915,6.066934494233239,5.800963002841164,5.852189965795134,6.069226631595775,5.818152848374404,6.19833211228655,5.8959398167802295,5.9562721208400236,6.125643445690504,5.827372558109032,6.085633752387723,5.991529226590743,5.906797550555641,6.186165649790505,5.869380102288271,6.0128622991077165,6.028417728512726,5.821165373616258,6.108186904900555,5.944483619064126,5.97334205977581,6.155851665952985,6.01581856621268,6.173840614432907,5.850443726448779,5.9035705211852125,6.06282706240315,6.189575583542758,7.087184013935891,7.053430036484586,6.821741393939003,7.133261111619107,7.028492984373533,6.809223585184043,8.002177804508188,8.934344071294381,9.875864924907466,9.824303512012015,9.972822537341024,9.828236099123677,10.152791736910352,10.09602915964373,10.038293067842572,9.841002933501024,9.81556508907382,10.076912460661935,10.156155429695547,9.934217493874339,9.81275223368117,11.11907236699855,11.177327305728468,10.840858617850376,10.823634980134484,11.009623208234913,11.09092954319413,10.898672477166006,11.008110855919144,10.958224986821705,10.965729848493162,10.963251692614739,11.04246491815722,11.016477352196322,12.016471444571588,12.952135355278864,12.97452537343097,13.104390396888785,12.911574924634873,12.88438354716824,12.984861665132692,13.185115152287628,12.823405789007156,12.842735476661026,12.832219438943017,13.001612267658501,13.169667598611621,12.940613580511446,12.941702894408431,13.958443661364143,13.98865834803563,14.090190177924109,14.160925802624455,13.843223339574822,13.94194373212486,13.929905688449916,14.038823329677928,13.948001562547113,13.810022931213549,13.98827573397302,13.83265727004762,14.029007010029094,13.832771292627385,14.101426562443587,13.933565658220733,14.188845579047,14.153340885776512,13.934030096331776,13.96331008492389,13.856817776203865,14.178117773265331,14.004466967843888,14.019510792296835,14.120758635061929,13.807733788539823,14.00088678323215,14.068265796249815,13.962740649030719,14.176633496903216,13.993616102023696,13.8673814716476,13.886507423953663,13.965135620870033,14.187613847089022,13.952052191997105,13.880780978668714,14.184452888540624,14.16893145685404,13.860827865068952,14.130423695912338,14.057135983516199,13.907513260173632,13.825699845372812,13.838358492097724,14.155033060752306,14.064507606673583,13.938841673535599,14.02862259951808,13.994057885512841,13.832487059344457,14.140876083360101,14.185954395800048,14.149768502962594,14.017006974345396,14.045081120487078,13.932285533399762,13.804753818163022,13.808312952071855,13.837945507457924,13.891946974205181,14.086111736802676,13.83639771635049,13.9738687846844,13.909698776881159,13.887623066862115,13.955221298914202,13.987910388632681,13.987177477915866,13.878072315901344,13.900830693978815,14.107630999513807,14.051857010976013,14.050237121476654,13.99806854658949,13.899511257339597,14.176207281743741,13.852473440583024,15.071286614542887,15.027746001577976,15.05724709699618,15.00011130423677,14.825664803996673,14.924501121313096,14.820879496704766,14.849042631954934,14.826927562306944,15.07852701518754,14.923485153936237,14.911991192306612,14.812224156041996,15.000895732209182,14.958262221821053,14.964574876842219,15.05089953092096,14.993425243961392,14.961731086509134,14.962900498927056,15.164786083638269,15.049199645749036,15.077846641339358,15.015517336912662,14.904210925272862,14.999237882444428,15.076891587179372,14.801222107901165,14.814302671774385,14.93420451915936,15.015644723756,14.990580245603608,15.190627753759793,15.196525793978642,15.175259765790974,14.949034759802423,15.126996917476266,15.170086340120596,15.14328485017687,14.920675877726516,17.078039336876746,16.99190342270457,16.93412692006776,16.97145896037361,17.176664060254744,17.111145952994935,16.826549037051485,16.918145955332925,17.038281973404647,17.030323530064585,17.18956846188044,16.89890049526861,17.0199181302438,16.844517363560946,17.086622959239005,17.15327189726214,16.985127996458814,16.894462247571823,16.863100010345697,17.033809502931923,17.106698388338597,16.822886378550464,16.930564011901605,16.902498811549552,16.885301720449824,16.996953085547077,16.91316559740955,17.117544023415476,16.989469295360802,16.924602791546132,17.095657742603077,16.982141109717674,16.98472281062154,17.02195468567094,17.041303764686237,16.953415685245268,17.129839232304207,16.96841548985774,16.877469286620187,18.125058269234444,17.841632480483902,18.0015491739694,17.936580130782396,18.118003225304502,17.88092244665749,17.920154932906343,17.856367808602567,18.11590390731923,17.850167825530505,18.144469222276225,18.069639755570677,18.10624707679788,18.04469121845721,18.07032082941641,17.90847972399477,17.846857843859596,17.814733130408037,18.114049718117187,17.81360708373421,18.032164054783877,17.857568238181145,18.133634698232417,18.085723005921125,18.053103812842043,17.930641260105688,18.142059316474263,17.950962953809547,18.023066824115016,18.103236458612,18.080351149321995,18.08504815644627,18.059836478718847,17.999865174576893,18.15511566686539,17.90521842430913,17.887119697548094,18.168873544193808,17.803595893946074,17.86379282286162,17.921436602753534,18.070794628172724,18.153694255996673,17.827786355510977,17.895278250668635,18.12076498527149,18.057789353216386,17.93412808799241,17.829734203330922,18.176660854828782,18.06678970263563,18.012982471674356,18.0935353967362,19.063887768958164,19.165805340214828,19.89739983637847,20.043157591758423,19.82340657528462,19.82652556620454,20.174486434361953,20.137594002614804,19.991117450826977,19.931301268342235,20.1768709318526,20.003933087937043,19.91062219019677,21.02884447880547,20.8862782333319],\"y\":[2.5,2.49,3.3,2.07,1.74,1.8,1.95,1.85,1.85,1.7,1.7,2.05,2.1,2.0,1.6,1.8,1.9,1.6,1.6,1.8,3.0,3.15,2.2,2.17,3.0,2.3,1.7,2.4,3.1,2.07,2.12,1.65,1.6,1.8,1.9,1.83,2.2,2.2,1.7,2.5,1.7,2.06,2.0,2.2,1.7,1.7,1.6,2.0,1.7,2.4,2.3,2.3,1.9,1.6,2.1,1.66,2.2,2.2,1.8,2.2,1.89,1.7,1.8,2.42,1.8,1.6,1.7,2.3,1.7,2.3,1.8,2.3,2.1,2.3,2.1,2.0,2.6,2.7,3.39,3.1,2.6,2.7,3.0,1.95,2.0,2.1,2.8,2.8,2.0,2.1,2.2,2.24,2.03,1.93,2.27,1.76,2.99,2.6,2.55,2.0,2.45,2.0,2.9,2.3,2.0,2.0,2.48,2.3,3.12,2.23,2.87,3.0,2.85,2.1,2.67,2.6,2.26,2.35,3.3,2.5,2.4,2.71,2.75,2.39,2.39,2.05,2.8,2.65,2.74,2.75,2.8,2.0,2.25,2.15,1.93,2.25,2.8,2.76,2.6,2.72,2.9,2.5,2.85,2.6,2.4,2.76,2.95,2.5,2.45,2.6,2.7,2.7,1.7,1.95,2.2,2.2,2.23,2.5,2.5,2.42,2.38,2.25,2.57,2.67,2.6,2.25,2.52,2.2,2.5,2.5,2.79,2.55,2.65,2.55,2.75,2.7,2.65,2.75,2.75,2.5,2.75,2.78,2.65,2.45,2.5,2.25,2.35,2.9,2.4,2.7,2.4,2.2,2.3,2.35,2.3,2.1,2.4,2.25,2.2,2.15,2.05,2.05,2.15,1.8,1.55,2.11,2.3,3.1,1.9,2.69,2.25,2.35,2.35,2.6,2.5,2.55,3.0,2.65,2.3,2.19,2.3,2.6,2.3,2.72,1.8,2.2,2.55,2.16,1.91,2.73,2.19,2.35,2.35,2.35,1.96,2.8,3.2,2.35,2.35,2.37,2.5,2.07,2.45,2.5,2.0,2.7,2.6,1.5,1.8,1.3,1.86,2.0,2.1,1.75,1.8,2.07,1.85,1.95,1.8,2.51,2.38,1.98,2.2,1.75,2.13,1.79,2.2,1.86,1.88,2.1,1.93,2.33,1.6,1.55,1.7,2.0,1.29,2.19,2.03,2.46,1.56,1.87,2.52,2.76,2.15,2.0,2.8,2.8,2.8,2.0,2.1,2.8,2.8,2.8,2.8,2.8,3.14,2.0,2.25,2.58,2.4,2.25,2.67,2.56,2.3,2.28,2.22,2.27,2.3,2.7,1.85,2.27,2.15,2.25,2.26,2.55,2.05,2.65,1.9,2.45,2.7,2.55,2.15,2.3,2.0,2.5,2.26,2.48,2.05,2.2,2.1,2.25,2.37,2.3,2.2,2.7,2.6,1.9,2.3,2.3,2.5,2.35,2.7,2.36,2.3,2.0,2.36,2.56,3.59,2.6],\"type\":\"scatter\"},{\"marker\":{\"color\":\"#ffb418\",\"line\":{\"color\":\"black\",\"width\":1},\"size\":10,\"symbol\":\"circle-open\"},\"mode\":\"markers\",\"name\":\"metabolism (AlphaFold)\",\"opacity\":0,\"showlegend\":false,\"x\":[2,3,4,5,6,7,8,9,10,11,12,13,14,15,16,17,18,19,20,21],\"y\":[2.0,2.0,2.0,2.0,2.0,2.0,2.0,2.0,2.0,2.0,2.0,2.0,2.0,2.0,2.0,2.0,2.0,2.0,2.0,2.0],\"type\":\"scatter\"},{\"marker\":{\"color\":\"#ffb418\",\"line\":{\"color\":\"black\",\"width\":2},\"size\":10,\"symbol\":\"circle\"},\"mode\":\"markers\",\"name\":\"metabolism (EM)\",\"opacity\":1,\"showlegend\":true,\"x\":[2.8513573697590697,3.9179673570679805,4.135951558330529,4.183861269228788,7.156846368783637],\"y\":[2.85,2.84,3.4,2.64,2.92],\"type\":\"scatter\"},{\"marker\":{\"color\":\"#5e2bcb\",\"line\":{\"color\":\"black\",\"width\":1},\"size\":10,\"symbol\":\"diamond-tall\"},\"mode\":\"markers\",\"name\":\"toxicity (X-ray)\",\"opacity\":1,\"showlegend\":true,\"x\":[22.038638579318665,21.8203837466605,21.86173443629005,21.9907061221017,21.97024469014152,22.083611572640358,21.959651714127713,22.183409922096956,23.899222443512127,24.122802334392535,24.131619728578038,26.032776048239214,26.01966403070984,25.902581793210228,25.93765144452371,26.184366550096254,26.14930035399893,26.80386561443156,26.899575379888013,26.839901781950385,26.959430469927888,27.94397079907322,28.028912769808777,28.15977980122751,28.005519014942053,28.020451861793735,29.1466236366533,29.09298188571847,28.819875414360528,29.048524115494587,29.055456519674014,29.061929569717755,28.858692909293108,28.86519873930939,32.09452463249548,31.906045962057455,33.192300258770246,33.171770397512304,33.130540075448934,32.844116884777954,34.13963794913548,34.090951361862054,34.01201630353165,34.047935502989766,34.19250116068122,34.1716586130797,34.17148690117381,34.19788060060723,34.04563122097894,33.942933220052595,34.16619865456045,33.92017690907329,33.93743780842903,33.96838763765097,33.9841381166154,34.11172409992926,34.140539723086555,33.9626137049927,33.97397542002353,33.98343912803342,33.83551260361684,33.98547211231433,34.11723935913539,33.886630729032795,34.17195159310621,33.811843844588914,33.8255071223154,34.09989208592859,33.96838157879639,33.97143908764947,33.805508850745106,33.948253476771455,33.83305330413846,34.01367854106237,33.89266961090374,33.806886007446074,35.191935725247816,34.98086919577146,36.17792803816998,35.83608410070275,36.0897317058406,36.14140266745036,35.93826242864719,36.11718216426083,36.11615942704546,35.87975530589561,35.844572705779534,36.02933670578204,36.1932772558619,35.8432879835839,36.14224950296245,35.85313751036639,35.845585266155766,38.17941905415364,38.02007110768491,38.059293822880576,37.95227727844961,38.02728667552753,38.051872721945315,37.80017263273756,39.09446826215341,38.901959702642735,39.849479736537745,39.93559539816981,41.19350265058048,42.12743898440597,41.99735404242434,42.00925919527932,42.103219613997936,44.928583170716095,44.92361099974214,44.87941650303839,45.007903908176324,45.133340928745824,44.876572314976656,45.13923798123713,45.141390360932334,45.04857148559199,44.83126659393179,44.83752303889105,45.085298266378786,46.12007119017903,45.86569694622822,46.070914883196274,46.13847433764313,45.877287451033354,46.19555410480948],\"y\":[2.7,2.8,3.0,2.9,3.1,2.92,3.1,3.19,1.9,2.0,1.93,2.4,2.2,2.38,2.38,2.85,2.15,1.8,1.71,2.7,2.26,2.7,2.55,2.17,2.33,2.5,3.0,3.5,3.7,2.5,2.6,3.0,2.95,2.3,2.7,3.2,3.13,2.7,2.6,2.5,1.9,3.4,3.4,2.4,2.8,3.4,2.84,2.84,3.16,3.5,3.5,3.2,3.99,2.79,3.1,3.2,3.3,2.48,3.8,3.2,3.2,2.7,3.7,2.96,3.2,3.1,2.8,3.4,3.2,2.4,2.5,2.6,2.9,2.7,3.4,3.1,2.6,3.0,2.0,2.0,1.45,1.6,2.1,2.55,2.0,1.7,1.65,2.0,2.4,2.4,1.65,1.7,1.75,2.8,2.6,2.95,2.8,3.25,2.7,3.29,2.8,3.2,3.45,3.2,3.1,2.6,2.12,1.96,1.5,3.14,4.53,3.15,3.24,3.4,3.49,3.62,3.53,3.8,4.05,4.7,6.3,2.2,1.35,3.84,2.8,2.25,2.69],\"type\":\"scatter\"},{\"marker\":{\"color\":\"#5e2bcb\",\"line\":{\"color\":\"black\",\"width\":1},\"size\":10,\"symbol\":\"circle-open\"},\"mode\":\"markers\",\"name\":\"toxicity (AlphaFold)\",\"opacity\":0,\"showlegend\":false,\"x\":[22,23,24,25,26,27,28,29,30,31,32,33,34,35,36,37,38,39,40,41,42,43,44,45,46],\"y\":[2.0,2.0,2.0,2.0,2.0,2.0,2.0,2.0,2.0,2.0,2.0,2.0,2.0,2.0,2.0,2.0,2.0,2.0,2.0,2.0,2.0,2.0,2.0,2.0,2.0],\"type\":\"scatter\"},{\"marker\":{\"color\":\"#5e2bcb\",\"line\":{\"color\":\"black\",\"width\":2},\"size\":10,\"symbol\":\"circle\"},\"mode\":\"markers\",\"name\":\"toxicity (EM)\",\"opacity\":1,\"showlegend\":true,\"x\":[22.02013798402121,22.009467880798816,22.04510297770695,24.031939510384138,24.131247687921793,26.11112678868515,25.813178104643974,26.047362487422088,25.906897951575456,26.02152927429354,25.895061594735623,25.929743616125684,26.003922119094003,25.87321808111737,26.10941711702596,25.93469212444338,27.94785239101716,29.08470207932214,28.95222191725561,28.837378803575103,29.07191594310785,29.168663078453715,28.89313806397301,30.024896827160607,30.178423876155197,30.05958708530538,30.053020711105074,31.114879447937554,31.16003471166357,31.962020360568314,32.11753929233173,32.03964890480817,32.019156216974636,31.806110583825046,31.874788629632782,32.14994518932509,34.14838108097838,33.98823809340993,33.922250366208814,33.9740025912241,33.948113065635354,34.119336964082336,36.079502028102816,35.87361368345454,37.079294722930804,37.004569834103556,37.12133843821358,36.88431892865101,37.17384314807763,37.91412855020285,38.067751791976676,38.195127368314544,37.97720598544492,39.012973356755204,38.96967146951148,39.09422528710695,38.96701942143354,39.19563884690424,39.07361530826464,39.84541433812177,40.14810414043578,40.10499118301277,39.84616518385767,39.8491913750725,39.87940965062975,39.96543360524632,40.09497184043391,39.98676766549146,39.810110058038646,40.197318847872154,39.90673890368215,39.93239667308145,40.0070756012752,40.01685294235917,40.07176981747805,40.10904967135043,39.880049699135505,39.84901298033059,39.85836160787039,40.189228174468845,40.18310670787206,40.112130388701324,39.84422724660577,40.024106819573795,40.06223102791822,40.02831370608644,41.10631270240279,42.05358254321029,41.81614586424926,42.09274519965099,44.83282143292469,44.819597153285024,45.15301969837467,44.84080958674241,45.190863911012684,44.836153871876874,45.08655030096517,44.95614470079377,45.042881887597794,44.95993088765022,45.1322524649068,45.1799582656521,44.80323313761011,44.80951968013014,45.10160144274175,45.96732445265197,46.041971735867115],\"y\":[2.7,2.9,3.3,3.34,3.87,3.18,2.85,3.02,3.0,3.6,2.7,2.3,3.4,2.7,2.8,4.4,3.3,3.6,4.0,3.21,3.32,3.16,3.22,2.69,2.79,2.69,2.56,2.6,3.1,4.1,3.2,3.0,3.6,3.4,3.47,3.4,3.8,3.82,3.26,3.8,3.2,3.4,3.4,3.1,2.8,3.0,3.0,3.3,3.1,3.0,3.0,3.36,2.8,2.9,3.2,3.08,2.84,2.97,2.98,3.8,3.8,3.1,3.04,3.69,3.26,3.58,3.2,3.12,2.55,3.49,3.5,3.3,2.92,3.23,2.86,3.04,2.79,3.0,2.7,3.0,3.0,2.9,2.9,2.65,2.98,2.71,3.3,3.7,3.8,4.0,4.2,4.3,4.1,3.6,3.3,4.1,3.8,3.5,4.1,3.9,3.9,3.3,3.65,3.5,3.0,3.3,3.3],\"type\":\"scatter\"},{\"marker\":{\"color\":\"#d07c09\",\"line\":{\"color\":\"black\",\"width\":1},\"size\":10,\"symbol\":\"diamond-tall\"},\"mode\":\"markers\",\"name\":\"transporters (X-ray)\",\"opacity\":1,\"showlegend\":true,\"x\":[49.84834476741518,50.00086342771286],\"y\":[1.5,2.1],\"type\":\"scatter\"},{\"marker\":{\"color\":\"#d07c09\",\"line\":{\"color\":\"black\",\"width\":1},\"size\":10,\"symbol\":\"circle-open\"},\"mode\":\"markers\",\"name\":\"transporters (AlphaFold)\",\"opacity\":0,\"showlegend\":false,\"x\":[47,48,49,50,51,52,53,54,55,56],\"y\":[2.0,2.0,2.0,2.0,2.0,2.0,2.0,2.0,2.0,2.0],\"type\":\"scatter\"},{\"marker\":{\"color\":\"#d07c09\",\"line\":{\"color\":\"black\",\"width\":2},\"size\":10,\"symbol\":\"circle\"},\"mode\":\"markers\",\"name\":\"transporters (EM)\",\"opacity\":1,\"showlegend\":true,\"x\":[47.0092645841072,47.16361720369811,47.106246665386585,48.1507308743569,48.14022077289364,47.83574573866951,47.83703173727836,48.017299965802536,47.99901102087763,47.93937693925998,47.85345482597172,47.83107058420237,47.85915580599064,47.91345171626228,48.05544100639489,48.007234486089466,47.84264735864225,47.91259601925182,48.100880452089996,48.129465686866205,47.98720678158958,47.87552161470202,47.871911595998355,48.183471209655195,48.066449869486945,47.88513571954464,47.82777425477417,48.95435167293757,48.892649000201395,49.120461600716915,49.12615643130597,48.863283276637745,49.18654698238893,49.18174242001173,49.15159179059417,48.83555254729413,48.80228476197383,51.02375057453452,50.93560044559817,51.03568207036113,55.18495603721888,54.9997186502767,55.17062507943147,54.80124728133031,55.19688438257511,54.9666004147902,56.02623099210084],\"y\":[3.5,3.7,3.66,3.78,3.78,3.1,3.6,3.56,3.09,3.58,3.56,3.09,3.5,4.0,3.7,4.1,3.12,3.39,3.51,3.4,3.1,3.4,3.1,3.2,3.04,3.2,3.49,3.4,3.58,4.14,3.6,3.9,3.2,3.6,3.6,3.5,3.5,4.1,3.5,3.9,3.53,3.73,3.19,3.73,2.92,3.6,2.97],\"type\":\"scatter\"}],                        {\"height\":600,\"template\":{\"data\":{\"barpolar\":[{\"marker\":{\"line\":{\"color\":\"white\",\"width\":0.5},\"pattern\":{\"fillmode\":\"overlay\",\"size\":10,\"solidity\":0.2}},\"type\":\"barpolar\"}],\"bar\":[{\"error_x\":{\"color\":\"rgb(36,36,36)\"},\"error_y\":{\"color\":\"rgb(36,36,36)\"},\"marker\":{\"line\":{\"color\":\"white\",\"width\":0.5},\"pattern\":{\"fillmode\":\"overlay\",\"size\":10,\"solidity\":0.2}},\"type\":\"bar\"}],\"carpet\":[{\"aaxis\":{\"endlinecolor\":\"rgb(36,36,36)\",\"gridcolor\":\"white\",\"linecolor\":\"white\",\"minorgridcolor\":\"white\",\"startlinecolor\":\"rgb(36,36,36)\"},\"baxis\":{\"endlinecolor\":\"rgb(36,36,36)\",\"gridcolor\":\"white\",\"linecolor\":\"white\",\"minorgridcolor\":\"white\",\"startlinecolor\":\"rgb(36,36,36)\"},\"type\":\"carpet\"}],\"choropleth\":[{\"colorbar\":{\"outlinewidth\":1,\"tickcolor\":\"rgb(36,36,36)\",\"ticks\":\"outside\"},\"type\":\"choropleth\"}],\"contourcarpet\":[{\"colorbar\":{\"outlinewidth\":1,\"tickcolor\":\"rgb(36,36,36)\",\"ticks\":\"outside\"},\"type\":\"contourcarpet\"}],\"contour\":[{\"colorbar\":{\"outlinewidth\":1,\"tickcolor\":\"rgb(36,36,36)\",\"ticks\":\"outside\"},\"colorscale\":[[0.0,\"#440154\"],[0.1111111111111111,\"#482878\"],[0.2222222222222222,\"#3e4989\"],[0.3333333333333333,\"#31688e\"],[0.4444444444444444,\"#26828e\"],[0.5555555555555556,\"#1f9e89\"],[0.6666666666666666,\"#35b779\"],[0.7777777777777778,\"#6ece58\"],[0.8888888888888888,\"#b5de2b\"],[1.0,\"#fde725\"]],\"type\":\"contour\"}],\"heatmapgl\":[{\"colorbar\":{\"outlinewidth\":1,\"tickcolor\":\"rgb(36,36,36)\",\"ticks\":\"outside\"},\"colorscale\":[[0.0,\"#440154\"],[0.1111111111111111,\"#482878\"],[0.2222222222222222,\"#3e4989\"],[0.3333333333333333,\"#31688e\"],[0.4444444444444444,\"#26828e\"],[0.5555555555555556,\"#1f9e89\"],[0.6666666666666666,\"#35b779\"],[0.7777777777777778,\"#6ece58\"],[0.8888888888888888,\"#b5de2b\"],[1.0,\"#fde725\"]],\"type\":\"heatmapgl\"}],\"heatmap\":[{\"colorbar\":{\"outlinewidth\":1,\"tickcolor\":\"rgb(36,36,36)\",\"ticks\":\"outside\"},\"colorscale\":[[0.0,\"#440154\"],[0.1111111111111111,\"#482878\"],[0.2222222222222222,\"#3e4989\"],[0.3333333333333333,\"#31688e\"],[0.4444444444444444,\"#26828e\"],[0.5555555555555556,\"#1f9e89\"],[0.6666666666666666,\"#35b779\"],[0.7777777777777778,\"#6ece58\"],[0.8888888888888888,\"#b5de2b\"],[1.0,\"#fde725\"]],\"type\":\"heatmap\"}],\"histogram2dcontour\":[{\"colorbar\":{\"outlinewidth\":1,\"tickcolor\":\"rgb(36,36,36)\",\"ticks\":\"outside\"},\"colorscale\":[[0.0,\"#440154\"],[0.1111111111111111,\"#482878\"],[0.2222222222222222,\"#3e4989\"],[0.3333333333333333,\"#31688e\"],[0.4444444444444444,\"#26828e\"],[0.5555555555555556,\"#1f9e89\"],[0.6666666666666666,\"#35b779\"],[0.7777777777777778,\"#6ece58\"],[0.8888888888888888,\"#b5de2b\"],[1.0,\"#fde725\"]],\"type\":\"histogram2dcontour\"}],\"histogram2d\":[{\"colorbar\":{\"outlinewidth\":1,\"tickcolor\":\"rgb(36,36,36)\",\"ticks\":\"outside\"},\"colorscale\":[[0.0,\"#440154\"],[0.1111111111111111,\"#482878\"],[0.2222222222222222,\"#3e4989\"],[0.3333333333333333,\"#31688e\"],[0.4444444444444444,\"#26828e\"],[0.5555555555555556,\"#1f9e89\"],[0.6666666666666666,\"#35b779\"],[0.7777777777777778,\"#6ece58\"],[0.8888888888888888,\"#b5de2b\"],[1.0,\"#fde725\"]],\"type\":\"histogram2d\"}],\"histogram\":[{\"marker\":{\"line\":{\"color\":\"white\",\"width\":0.6}},\"type\":\"histogram\"}],\"mesh3d\":[{\"colorbar\":{\"outlinewidth\":1,\"tickcolor\":\"rgb(36,36,36)\",\"ticks\":\"outside\"},\"type\":\"mesh3d\"}],\"parcoords\":[{\"line\":{\"colorbar\":{\"outlinewidth\":1,\"tickcolor\":\"rgb(36,36,36)\",\"ticks\":\"outside\"}},\"type\":\"parcoords\"}],\"pie\":[{\"automargin\":true,\"type\":\"pie\"}],\"scatter3d\":[{\"line\":{\"colorbar\":{\"outlinewidth\":1,\"tickcolor\":\"rgb(36,36,36)\",\"ticks\":\"outside\"}},\"marker\":{\"colorbar\":{\"outlinewidth\":1,\"tickcolor\":\"rgb(36,36,36)\",\"ticks\":\"outside\"}},\"type\":\"scatter3d\"}],\"scattercarpet\":[{\"marker\":{\"colorbar\":{\"outlinewidth\":1,\"tickcolor\":\"rgb(36,36,36)\",\"ticks\":\"outside\"}},\"type\":\"scattercarpet\"}],\"scattergeo\":[{\"marker\":{\"colorbar\":{\"outlinewidth\":1,\"tickcolor\":\"rgb(36,36,36)\",\"ticks\":\"outside\"}},\"type\":\"scattergeo\"}],\"scattergl\":[{\"marker\":{\"colorbar\":{\"outlinewidth\":1,\"tickcolor\":\"rgb(36,36,36)\",\"ticks\":\"outside\"}},\"type\":\"scattergl\"}],\"scattermapbox\":[{\"marker\":{\"colorbar\":{\"outlinewidth\":1,\"tickcolor\":\"rgb(36,36,36)\",\"ticks\":\"outside\"}},\"type\":\"scattermapbox\"}],\"scatterpolargl\":[{\"marker\":{\"colorbar\":{\"outlinewidth\":1,\"tickcolor\":\"rgb(36,36,36)\",\"ticks\":\"outside\"}},\"type\":\"scatterpolargl\"}],\"scatterpolar\":[{\"marker\":{\"colorbar\":{\"outlinewidth\":1,\"tickcolor\":\"rgb(36,36,36)\",\"ticks\":\"outside\"}},\"type\":\"scatterpolar\"}],\"scatter\":[{\"fillpattern\":{\"fillmode\":\"overlay\",\"size\":10,\"solidity\":0.2},\"type\":\"scatter\"}],\"scatterternary\":[{\"marker\":{\"colorbar\":{\"outlinewidth\":1,\"tickcolor\":\"rgb(36,36,36)\",\"ticks\":\"outside\"}},\"type\":\"scatterternary\"}],\"surface\":[{\"colorbar\":{\"outlinewidth\":1,\"tickcolor\":\"rgb(36,36,36)\",\"ticks\":\"outside\"},\"colorscale\":[[0.0,\"#440154\"],[0.1111111111111111,\"#482878\"],[0.2222222222222222,\"#3e4989\"],[0.3333333333333333,\"#31688e\"],[0.4444444444444444,\"#26828e\"],[0.5555555555555556,\"#1f9e89\"],[0.6666666666666666,\"#35b779\"],[0.7777777777777778,\"#6ece58\"],[0.8888888888888888,\"#b5de2b\"],[1.0,\"#fde725\"]],\"type\":\"surface\"}],\"table\":[{\"cells\":{\"fill\":{\"color\":\"rgb(237,237,237)\"},\"line\":{\"color\":\"white\"}},\"header\":{\"fill\":{\"color\":\"rgb(217,217,217)\"},\"line\":{\"color\":\"white\"}},\"type\":\"table\"}]},\"layout\":{\"annotationdefaults\":{\"arrowhead\":0,\"arrowwidth\":1},\"autotypenumbers\":\"strict\",\"coloraxis\":{\"colorbar\":{\"outlinewidth\":1,\"tickcolor\":\"rgb(36,36,36)\",\"ticks\":\"outside\"}},\"colorscale\":{\"diverging\":[[0.0,\"rgb(103,0,31)\"],[0.1,\"rgb(178,24,43)\"],[0.2,\"rgb(214,96,77)\"],[0.3,\"rgb(244,165,130)\"],[0.4,\"rgb(253,219,199)\"],[0.5,\"rgb(247,247,247)\"],[0.6,\"rgb(209,229,240)\"],[0.7,\"rgb(146,197,222)\"],[0.8,\"rgb(67,147,195)\"],[0.9,\"rgb(33,102,172)\"],[1.0,\"rgb(5,48,97)\"]],\"sequential\":[[0.0,\"#440154\"],[0.1111111111111111,\"#482878\"],[0.2222222222222222,\"#3e4989\"],[0.3333333333333333,\"#31688e\"],[0.4444444444444444,\"#26828e\"],[0.5555555555555556,\"#1f9e89\"],[0.6666666666666666,\"#35b779\"],[0.7777777777777778,\"#6ece58\"],[0.8888888888888888,\"#b5de2b\"],[1.0,\"#fde725\"]],\"sequentialminus\":[[0.0,\"#440154\"],[0.1111111111111111,\"#482878\"],[0.2222222222222222,\"#3e4989\"],[0.3333333333333333,\"#31688e\"],[0.4444444444444444,\"#26828e\"],[0.5555555555555556,\"#1f9e89\"],[0.6666666666666666,\"#35b779\"],[0.7777777777777778,\"#6ece58\"],[0.8888888888888888,\"#b5de2b\"],[1.0,\"#fde725\"]]},\"colorway\":[\"#1F77B4\",\"#FF7F0E\",\"#2CA02C\",\"#D62728\",\"#9467BD\",\"#8C564B\",\"#E377C2\",\"#7F7F7F\",\"#BCBD22\",\"#17BECF\"],\"font\":{\"color\":\"rgb(36,36,36)\"},\"geo\":{\"bgcolor\":\"white\",\"lakecolor\":\"white\",\"landcolor\":\"white\",\"showlakes\":true,\"showland\":true,\"subunitcolor\":\"white\"},\"hoverlabel\":{\"align\":\"left\"},\"hovermode\":\"closest\",\"mapbox\":{\"style\":\"light\"},\"paper_bgcolor\":\"white\",\"plot_bgcolor\":\"white\",\"polar\":{\"angularaxis\":{\"gridcolor\":\"rgb(232,232,232)\",\"linecolor\":\"rgb(36,36,36)\",\"showgrid\":false,\"showline\":true,\"ticks\":\"outside\"},\"bgcolor\":\"white\",\"radialaxis\":{\"gridcolor\":\"rgb(232,232,232)\",\"linecolor\":\"rgb(36,36,36)\",\"showgrid\":false,\"showline\":true,\"ticks\":\"outside\"}},\"scene\":{\"xaxis\":{\"backgroundcolor\":\"white\",\"gridcolor\":\"rgb(232,232,232)\",\"gridwidth\":2,\"linecolor\":\"rgb(36,36,36)\",\"showbackground\":true,\"showgrid\":false,\"showline\":true,\"ticks\":\"outside\",\"zeroline\":false,\"zerolinecolor\":\"rgb(36,36,36)\"},\"yaxis\":{\"backgroundcolor\":\"white\",\"gridcolor\":\"rgb(232,232,232)\",\"gridwidth\":2,\"linecolor\":\"rgb(36,36,36)\",\"showbackground\":true,\"showgrid\":false,\"showline\":true,\"ticks\":\"outside\",\"zeroline\":false,\"zerolinecolor\":\"rgb(36,36,36)\"},\"zaxis\":{\"backgroundcolor\":\"white\",\"gridcolor\":\"rgb(232,232,232)\",\"gridwidth\":2,\"linecolor\":\"rgb(36,36,36)\",\"showbackground\":true,\"showgrid\":false,\"showline\":true,\"ticks\":\"outside\",\"zeroline\":false,\"zerolinecolor\":\"rgb(36,36,36)\"}},\"shapedefaults\":{\"fillcolor\":\"black\",\"line\":{\"width\":0},\"opacity\":0.3},\"ternary\":{\"aaxis\":{\"gridcolor\":\"rgb(232,232,232)\",\"linecolor\":\"rgb(36,36,36)\",\"showgrid\":false,\"showline\":true,\"ticks\":\"outside\"},\"baxis\":{\"gridcolor\":\"rgb(232,232,232)\",\"linecolor\":\"rgb(36,36,36)\",\"showgrid\":false,\"showline\":true,\"ticks\":\"outside\"},\"bgcolor\":\"white\",\"caxis\":{\"gridcolor\":\"rgb(232,232,232)\",\"linecolor\":\"rgb(36,36,36)\",\"showgrid\":false,\"showline\":true,\"ticks\":\"outside\"}},\"title\":{\"x\":0.05},\"xaxis\":{\"automargin\":true,\"gridcolor\":\"rgb(232,232,232)\",\"linecolor\":\"rgb(36,36,36)\",\"showgrid\":false,\"showline\":true,\"ticks\":\"outside\",\"title\":{\"standoff\":15},\"zeroline\":false,\"zerolinecolor\":\"rgb(36,36,36)\"},\"yaxis\":{\"automargin\":true,\"gridcolor\":\"rgb(232,232,232)\",\"linecolor\":\"rgb(36,36,36)\",\"showgrid\":false,\"showline\":true,\"ticks\":\"outside\",\"title\":{\"standoff\":15},\"zeroline\":false,\"zerolinecolor\":\"rgb(36,36,36)\"}}},\"title\":{\"text\":\"Analysis of Experimental Structure Quality for ADMET Targets\"},\"width\":1600,\"xaxis\":{\"range\":[-0.5,57.5],\"ticktext\":[\"A1AG1 (P02763)\",\"ALBU (P02768)\",\"ADH1A (P07327)\",\"AHR (P35869)\",\"AL1A1 (P00352)\",\"AOFA (P21397)\",\"AOFB (P27338)\",\"AOXA (Q06278)\",\"ARK73 (O95154)\",\"CP1A2 (P05177)\",\"CP2B6 (P20813)\",\"CP2C9 (P11712)\",\"CP2CJ (P33261)\",\"CP2D6 (P10635)\",\"CP3A4 (P08684)\",\"DHI1 (P28845)\",\"FMO1 (Q01740)\",\"GSTA1 (P08263)\",\"NR1I2 (O75469)\",\"NR1I3 (Q14994)\",\"ST1A1 (P50225)\",\"XDH (P47989)\",\"5HT2B (P41595)\",\"ACH10 (Q9GZZ6)\",\"ACHA3 (P32297)\",\"ACHA5 (P30532)\",\"ACHA7 (P36544)\",\"ACHA9 (Q9UGM1)\",\"ACM1 (P11229)\",\"ACM2 (P08172)\",\"ACM3 (P20309)\",\"ADA1A (P35348)\",\"ADA2A (P08913)\",\"ADRB1 (P08588)\",\"ADRB2 (P07550)\",\"ASM3A (Q92484)\",\"CAC1C (Q13936)\",\"CACB1 (Q02641)\",\"CNR1 (P21554)\",\"CNR2 (P34972)\",\"GBRA1 (P14867)\",\"HRH1 (P35367)\",\"KCNH2 (Q12809)\",\"SC6A2 (P23975)\",\"SC6A3 (Q01959)\",\"SC6A4 (P31645)\",\"SCN5A (Q14524)\",\"ABCBB (O95342)\",\"ABCG2 (Q9UNQ0)\",\"MDR1 (P08183)\",\"MRP1 (P33527)\",\"S15A1 (P46059)\",\"S22A6 (Q4U2R8)\",\"S22A8 (Q8TCC7)\",\"S47A1 (Q96FL8)\",\"SO1B1 (Q9Y6L6)\",\"SO1B3 (Q9NPD5)\"],\"tickvals\":[0,1,2,3,4,5,6,7,8,9,10,11,12,13,14,15,16,17,18,19,20,21,22,23,24,25,26,27,28,29,30,31,32,33,34,35,36,37,38,39,40,41,42,43,44,45,46,47,48,49,50,51,52,53,54,55,56],\"title\":{\"text\":\"Protein Name (Uniprot ID)\"}},\"yaxis\":{\"title\":{\"text\":\"Resolution(A)\"}}},                        {\"responsive\": true}                    ).then(function(){\n                            \nvar gd = document.getElementById('91848828-339e-43f2-9375-f0674f2d2eaa');\nvar x = new MutationObserver(function (mutations, observer) {{\n        var display = window.getComputedStyle(gd).display;\n        if (!display || display === 'none') {{\n            console.log([gd, 'removed!']);\n            Plotly.purge(gd);\n            observer.disconnect();\n        }}\n}});\n\n// Listen for the removal of the full notebook cells\nvar notebookContainer = gd.closest('#notebook-container');\nif (notebookContainer) {{\n    x.observe(notebookContainer, {childList: true});\n}}\n\n// Listen for the clearing of the current output cell\nvar outputEl = gd.closest('.output');\nif (outputEl) {{\n    x.observe(outputEl, {childList: true});\n}}\n\n                        })                };                });            </script>        </div>"
     },
     "metadata": {},
     "output_type": "display_data"
    }
   ],
   "source": [
    "import plotly.graph_objects as go\n",
    "import numpy as np\n",
    "# Create traces for each unique value in 'Method'\n",
    "resolution_traces = []\n",
    "\n",
    "for category in category_list:\n",
    "    for method in df['Method'].unique():\n",
    "        df_subset = df[(df['Method'] == method) & (df['Category'] == category)]\n",
    "        \n",
    "        # marker_size = df_subset[\"Average Sequence Coverage\"].apply(lambda x: x * 16 if not np.isnan(x) else 10)\n",
    "        \n",
    "        # Add random jitter to the x-axis values\n",
    "        if method == 'AlphaFold':\n",
    "            x_values = [protein_name_mapping[name] for name in df_subset['Protein Name']]\n",
    "        else:\n",
    "            jitter = np.random.uniform(low=-jitter_amount, high=jitter_amount, size=len(df_subset))\n",
    "            x_values = [protein_name_mapping[name] + jitter[i] for i, name in enumerate(df_subset['Protein Name'])]\n",
    "        trace = go.Scatter(\n",
    "            x=x_values,\n",
    "            y=df_subset['Resolution (A)'],\n",
    "            mode='markers',\n",
    "            name=f\"{category} ({method})\",\n",
    "            marker=dict(size=10, color=colors[category], symbol=symbols[method], line_width=2 if method==\"EM\" else 1, line_color='black'),\n",
    "            showlegend=False if method == 'AlphaFold' else True,\n",
    "            opacity=0 if method == 'AlphaFold' else 1,\n",
    "        )\n",
    "        resolution_traces.append(trace)\n",
    "\n",
    "# Create layout\n",
    "layout = go.Layout(\n",
    "    title=\"Analysis of Experimental Structure Quality for ADMET Targets\",\n",
    "    xaxis=dict(title='Protein Name (Uniprot ID)',\n",
    "               range=[-0.5, len(protein_name_mapping) + 0.5],\n",
    "               tickvals=list(protein_name_mapping.values()), \n",
    "               ticktext=protein_names),\n",
    "    yaxis=dict(title='Resolution(A)'),\n",
    "    template='simple_white',\n",
    "    width=1600,\n",
    "    height=600\n",
    ")\n",
    "\n",
    "# Create figure\n",
    "fig = go.Figure(data=resolution_traces, layout=layout)\n",
    "\n",
    "# Show plot\n",
    "fig.show()"
   ],
   "metadata": {
    "collapsed": false,
    "ExecuteTime": {
     "end_time": "2024-02-22T16:42:22.753056Z",
     "start_time": "2024-02-22T16:42:22.665556Z"
    }
   },
   "id": "74abbe1841059fa1",
   "execution_count": 89
  },
  {
   "cell_type": "code",
   "outputs": [],
   "source": [
    "fig.write_image(fig_dir / 'experimental_structure_analysis.png')\n",
    "fig.write_image(fig_dir / 'experimental_structure_analysis.svg')"
   ],
   "metadata": {
    "collapsed": false,
    "ExecuteTime": {
     "end_time": "2024-02-22T16:42:25.056962Z",
     "start_time": "2024-02-22T16:42:23.564703Z"
    }
   },
   "id": "973db30c96756fc3",
   "execution_count": 90
  },
  {
   "cell_type": "markdown",
   "source": [
    "# Make similar plot for coverage"
   ],
   "metadata": {
    "collapsed": false
   },
   "id": "6107ed8dbf4eeb2b"
  },
  {
   "cell_type": "code",
   "outputs": [
    {
     "data": {
      "application/vnd.plotly.v1+json": {
       "data": [
        {
         "marker": {
          "color": "#11efb7",
          "line": {
           "color": "black",
           "width": 1
          },
          "size": 10,
          "symbol": "diamond-tall"
         },
         "mode": "markers",
         "name": "distribution (X-ray)",
         "opacity": 1,
         "showlegend": true,
         "x": [
          0.17320681629938528,
          0.9014864510834539,
          1.113983776641709,
          1.009869659794227,
          0.8432484303420325,
          1.0702418769225641,
          1.1572124819729341,
          0.8720489069208378,
          1.0071524173004267,
          1.007141133824388,
          1.0559132090644485,
          1.0507431640364548,
          0.882264628628395,
          1.1056551554745626,
          1.0649388805002364,
          1.1024362972168738,
          0.9723201477642781,
          1.0005016640622262,
          1.0705000641047857,
          1.1853926931574215,
          1.1208430451440665,
          0.8082988052413932,
          0.9312569758475235,
          1.0640177275168732,
          0.8671838044989149,
          1.0875569827679727,
          0.8942457270704421,
          0.9669633255414787,
          1.1133244021807043,
          0.8900595498817795,
          1.1924753811087765,
          0.9613796622341967,
          0.8722626138670783,
          1.0146914761790968,
          1.16512501000709,
          0.9664731785858374,
          0.999523259009311,
          1.070985939594582,
          0.948898300360823,
          0.9521722616035753,
          0.9993189456417212,
          1.0125073513954526,
          0.8520926597284573,
          1.0815087086803519,
          0.960521580937129,
          0.8464628847421153,
          0.9667301223290544,
          1.0423935221703482,
          1.1613853733708424,
          1.0333993621636648,
          1.1199380379455275,
          1.0931034762308052,
          1.0245764591713518,
          1.188743498384153,
          1.1225523716234904,
          1.1116730683180756,
          1.0638806162759513,
          1.0275645501058206,
          0.8454340491427498,
          1.190290233973459,
          1.0839409517540657,
          0.8933875345605338,
          1.0955291364080706,
          0.9150488236733558,
          1.1280501774752096,
          0.861172776592891,
          0.9370193995636971,
          1.0141403926940542,
          1.0576419095422152,
          0.8004068029135033,
          1.0693797288863127,
          1.0823056664207749,
          0.8762057791886753,
          1.1416883804922908,
          0.8783650998767869,
          0.914081067440922,
          0.8449911259577794,
          1.0063913419036525,
          0.9174813043686363,
          1.0765574988935693,
          0.8360579061859688,
          0.966123312269714,
          0.819519506038451,
          1.0313604430975662,
          1.1135924753174011,
          0.8761815683382129,
          1.1647214065863527,
          0.9415911195155506,
          1.1617588821920193,
          1.0934911151646454,
          0.8242758308468342,
          0.9035599380615594,
          0.8563761292277992,
          0.9714074496733838,
          0.8908753095077409,
          0.9622293415738304,
          1.1160589674442147,
          0.8897217799217416,
          1.158897832531105,
          1.0564731147675372,
          0.970670423261032,
          0.9285014160599527,
          1.1355653757327029,
          1.143427420272161,
          0.9667251902526366,
          0.8295101504572683,
          1.0273529774496226,
          0.9662213531391661,
          0.8019616506238866,
          1.0204207255000397,
          0.8603186285230181,
          0.972034467140858,
          1.0007935067132994,
          1.146376530346782,
          0.8018501970969076,
          1.0813487966069504,
          0.9470687073498448,
          1.049842509138182,
          0.8687513174012337,
          0.8915012592405789,
          1.033247309393949,
          1.0952682863623082,
          1.063130811714979,
          1.1956075297827038,
          0.9732611098496313,
          1.09113489194054,
          1.1909534490058695,
          0.9856394256252972,
          1.1613885137171702,
          1.1992891428943557,
          0.97306788726696,
          0.8016385991853261,
          1.1494777099163265,
          0.8868776647189895,
          0.9830234887049709,
          1.0670397930082363,
          0.8936380956871625,
          0.8148237552455754,
          0.9274862270821633,
          1.0702786924643797,
          0.8147909914210267,
          1.0850180001954721,
          0.8228395927628251,
          1.0467157080227305,
          0.9714013641143386,
          0.8233535700944525,
          1.1780448930557808,
          0.8673716850127593
         ],
         "y": [
          0.9054726368159204,
          0.9589490968801314,
          0.9589490968801314,
          0.9523809523809523,
          0.9589490968801314,
          0.9589490968801314,
          0.9589490968801314,
          0.9589490968801314,
          0.9589490968801314,
          0.9589490968801314,
          0.9589490968801314,
          0.9589490968801314,
          0.9589490968801314,
          0.9589490968801314,
          0.9589490968801314,
          0.9589490968801314,
          0.9589490968801314,
          0.9589490968801314,
          0.9589490968801314,
          0.9589490968801314,
          0.9589490968801314,
          0.9589490968801314,
          0.9589490968801314,
          0.9589490968801314,
          0.9589490968801314,
          0.9376026272577996,
          0.9589490968801314,
          0.9589490968801314,
          0.9589490968801314,
          0.9589490968801314,
          0.9589490968801314,
          0.9589490968801314,
          0.9589490968801314,
          0.9589490968801314,
          0.9589490968801314,
          0.9589490968801314,
          0.9589490968801314,
          0.9589490968801314,
          0.9589490968801314,
          0.9589490968801314,
          0.9589490968801314,
          0.9589490968801314,
          0.9589490968801314,
          0.9589490968801314,
          0.9589490968801314,
          0.9589490968801314,
          0.9490968801313628,
          0.9589490968801314,
          0.9589490968801314,
          0.9589490968801314,
          0.9589490968801314,
          0.9589490968801314,
          0.9589490968801314,
          0.9589490968801314,
          0.9589490968801314,
          0.9589490968801314,
          0.9589490968801314,
          0.9589490968801314,
          0.9589490968801314,
          0.9589490968801314,
          0.9540229885057471,
          0.9589490968801314,
          0.9589490968801314,
          0.9589490968801314,
          0.9589490968801314,
          0.9589490968801314,
          0.9540229885057471,
          0.9589490968801314,
          0.9589490968801314,
          0.9983579638752053,
          0.9589490968801314,
          0.9589490968801314,
          0.9589490968801314,
          0.9589490968801314,
          0.9589490968801314,
          0.9589490968801314,
          0.9589490968801314,
          0.9589490968801314,
          0.9589490968801314,
          0.9589490968801314,
          0.9589490968801314,
          0.9589490968801314,
          0.9589490968801314,
          0.9589490968801314,
          0.9589490968801314,
          0.9589490968801314,
          0.9589490968801314,
          0.9556650246305419,
          0.9589490968801314,
          0.9589490968801314,
          0.9589490968801314,
          0.9523809523809523,
          0.9523809523809523,
          0.9589490968801314,
          0.9589490968801314,
          0.9589490968801314,
          0.9983579638752053,
          0.9589490968801314,
          0.9589490968801314,
          0.9523809523809523,
          0.9589490968801314,
          0.9589490968801314,
          0.9589490968801314,
          0.9589490968801314,
          0.9983579638752053,
          0.9556650246305419,
          0.9523809523809523,
          0.9589490968801314,
          0.9589490968801314,
          0.9490968801313628,
          0.9589490968801314,
          0.9589490968801314,
          0.9589490968801314,
          0.9589490968801314,
          0.9589490968801314,
          0.9589490968801314,
          0.9589490968801314,
          0.9983579638752053,
          0.9589490968801314,
          0.9573070607553367,
          0.9573070607553367,
          0.9589490968801314,
          0.9589490968801314,
          0.9589490968801314,
          0.9556650246305419,
          0.9589490968801314,
          0.9589490968801314,
          0.9573070607553367,
          0.9983579638752053,
          0.9983579638752053,
          0.9983579638752053,
          0.9589490968801314,
          0.9589490968801314,
          0.9589490968801314,
          0.9589490968801314,
          0.9589490968801314,
          0.9983579638752053,
          0.9983579638752053,
          0.9523809523809523,
          0.9589490968801314,
          0.9523809523809523,
          0.9573070607553367,
          0.9589490968801314,
          0.9589490968801314,
          0.9589490968801314,
          0.9589490968801314,
          0.9589490968801314,
          0.9589490968801314
         ],
         "type": "scatter"
        },
        {
         "marker": {
          "color": "#11efb7",
          "line": {
           "color": "black",
           "width": 1
          },
          "size": 10,
          "symbol": "circle-open"
         },
         "mode": "markers",
         "name": "distribution (AlphaFold)",
         "opacity": 0,
         "showlegend": false,
         "x": [
          0,
          1
         ],
         "y": [
          0.9054726368159204,
          0.960580038166245
         ],
         "type": "scatter"
        },
        {
         "marker": {
          "color": "#11efb7",
          "line": {
           "color": "black",
           "width": 2
          },
          "size": 10,
          "symbol": "circle"
         },
         "mode": "markers",
         "name": "distribution (EM)",
         "opacity": 1,
         "showlegend": true,
         "x": [
          0.9245035113069753
         ],
         "y": [
          0.9589490968801314
         ],
         "type": "scatter"
        },
        {
         "marker": {
          "color": "#ffb418",
          "line": {
           "color": "black",
           "width": 1
          },
          "size": 10,
          "symbol": "diamond-tall"
         },
         "mode": "markers",
         "name": "metabolism (X-ray)",
         "opacity": 1,
         "showlegend": true,
         "x": [
          2.0157703457279017,
          2.0989829772335677,
          3.114565538463056,
          4.089233488923316,
          3.942067211906714,
          3.9816070032075412,
          3.854902322761748,
          3.883822296384361,
          4.092690379534404,
          4.105484236898907,
          3.858154566155389,
          3.8537966448932974,
          3.9929607564418674,
          3.9838526980309044,
          4.066929064518698,
          3.980929382854571,
          3.937570721814948,
          3.810443711854817,
          4.170099293770329,
          3.9645757856055384,
          5.061950536751287,
          5.030559031093894,
          5.121756670351047,
          4.874128349982702,
          6.028135120460885,
          5.971552509097634,
          5.86608500244011,
          5.943008114898626,
          6.056586459481058,
          5.995175692911914,
          6.069213773077566,
          6.055558362978232,
          6.147183737238772,
          5.941894716360831,
          5.950985616366393,
          5.902896519474099,
          5.937237004430742,
          6.071244837973941,
          5.8800131471043136,
          6.018995163611208,
          6.079528809429369,
          6.1491877491454225,
          5.827953276264297,
          6.04298132807334,
          6.067285751836833,
          6.163376320853379,
          6.088428419333695,
          5.876536298134478,
          5.913450790760765,
          6.021691333470097,
          6.023285315427869,
          5.9005879038656595,
          5.9721038840039835,
          5.828744693721562,
          5.944154310961213,
          5.907275687722454,
          6.008222771907846,
          5.981406000957777,
          6.197735256110866,
          6.083686027670883,
          6.091124026904684,
          6.022239048968354,
          5.97962865907106,
          5.994075713683549,
          6.045286144242301,
          6.1693796185578345,
          6.093864568900953,
          5.947107481423999,
          6.032293703437149,
          6.013206076012609,
          6.067697860795825,
          6.004126940748567,
          5.934554195830412,
          6.181624025191392,
          6.107507702597248,
          6.076756758911237,
          7.072093736117255,
          6.93617055088972,
          6.976966708118288,
          7.178753874503118,
          6.931028195183522,
          7.1684329917462035,
          8.17003193636033,
          9.099705813398637,
          10.195159343768044,
          10.176995132657504,
          10.006967290398393,
          10.087017828118185,
          10.112817983318935,
          10.18840263858881,
          9.823709836184086,
          10.023503584751122,
          9.845949354799359,
          10.058336827579149,
          10.13541180541369,
          10.037691900214453,
          10.072945234750827,
          10.826891110077849,
          11.005727735274528,
          10.897408448992978,
          10.816958742552918,
          10.82877604600586,
          11.077780864678282,
          11.142517855939495,
          11.149868307316979,
          11.00157917387327,
          10.829788169862537,
          10.891897161923533,
          11.125136068551496,
          11.06007037458701,
          11.937548815885407,
          13.192364000226233,
          13.071712347100677,
          13.155984658359337,
          13.099454566998483,
          12.838924194787793,
          13.187195257387234,
          13.199223311664168,
          12.861564912742415,
          12.847729980364159,
          13.059315981024946,
          12.936563118798642,
          12.95009916895261,
          12.8660258917259,
          13.098190223684101,
          13.817340907523157,
          14.019090865293045,
          14.181743926412093,
          13.925319682647105,
          13.878886874311322,
          13.8346183748824,
          14.143066354174007,
          13.851460454352702,
          14.192866683047985,
          13.90054187494842,
          14.18360044899398,
          14.039563930113921,
          13.87959450874463,
          13.845313408389687,
          13.902030315670364,
          13.979084605876075,
          14.056074633794042,
          14.139627665569822,
          13.975801654641057,
          13.944181281909477,
          13.811525534479326,
          14.123431904542272,
          14.180333616884154,
          14.15279903856185,
          14.17093132987558,
          14.056956613346323,
          14.146974432429753,
          13.91092100657794,
          14.08871831608907,
          13.964380900940414,
          14.033045680857601,
          13.887821790596089,
          13.810414921084206,
          13.895391298214623,
          14.07706546318018,
          14.171771133735453,
          13.855228286602623,
          13.843790066738455,
          14.08070035338737,
          13.993462089377447,
          13.819901280702249,
          13.985784065753045,
          14.016658206494506,
          13.849761231180716,
          14.035413586307062,
          13.897651861002444,
          13.933558519317586,
          13.906857208786636,
          13.806303739661095,
          14.124427390299848,
          14.152296696741638,
          13.953627507869058,
          13.969232430338309,
          13.869886364021024,
          13.97899059801282,
          13.93577559581625,
          13.955736745925728,
          14.031492517688154,
          14.016136869794789,
          13.93582366577525,
          14.103594928491662,
          13.918843895488962,
          13.924358612366342,
          14.078254023475486,
          13.926086473828716,
          13.969537397549985,
          13.979596001946074,
          13.93824794583158,
          13.854885708877525,
          13.958503066025653,
          13.839575067522444,
          14.071459380297764,
          14.041729397747524,
          13.855021333483155,
          14.01163430597913,
          14.174039685803637,
          13.914813343639004,
          13.923832993026311,
          14.908652314458177,
          15.049753370152466,
          15.03577407874639,
          14.845150451570046,
          15.021350420186248,
          15.174846135099694,
          15.101695932450092,
          14.861705967870355,
          14.900096204634522,
          15.009226555926078,
          14.995735986900563,
          15.09249294490063,
          14.815737389453783,
          15.10270284834107,
          14.984239965277535,
          14.879472872931506,
          15.01022067830326,
          14.955676320218114,
          15.12180067176642,
          15.037785050493031,
          14.981429662014081,
          14.887631235540228,
          14.9820152203176,
          14.890446524018044,
          14.868063027918083,
          14.966260522909836,
          14.829113308404027,
          15.06304227650161,
          14.903277867830118,
          14.996653180016809,
          14.961944901339344,
          14.889044378304627,
          14.820315835758388,
          14.806053696868002,
          14.872619745756948,
          15.110648205719917,
          15.068150340412245,
          15.09482906718219,
          14.866844965218855,
          14.923578242848478,
          17.022676643818702,
          17.069730290061933,
          17.09810079172834,
          17.19080727176568,
          17.058204496959934,
          16.926928751539478,
          17.042106912114726,
          16.868767002602514,
          16.974603349098803,
          16.96630933905424,
          16.992018483037768,
          16.818716807215807,
          17.143669409559916,
          16.898446731537216,
          16.845590274906847,
          16.976869381001023,
          17.118428993400187,
          16.898440464444835,
          16.88325389285735,
          16.907026282110454,
          17.062286650900973,
          17.16698013284062,
          16.94526458709052,
          16.867253734514644,
          17.114658566358408,
          17.00286125458714,
          16.87346142941299,
          17.11376504587709,
          17.08198394104525,
          17.197163686222588,
          16.961917778997954,
          17.165898592282538,
          17.11117716159665,
          16.822605014084033,
          16.977646549729887,
          16.919896703801843,
          17.105501506837058,
          16.870412168319387,
          16.93412584307831,
          17.969623559658263,
          17.975260850008322,
          17.82815400201427,
          17.861688673539774,
          18.087246027931524,
          18.074112141343356,
          18.123151238750435,
          17.976218473017035,
          18.029755767360285,
          17.861069788311827,
          17.930377612488083,
          17.87795474374807,
          18.0766653077996,
          18.135899685687203,
          17.89528907485793,
          18.007387090569843,
          17.93983526108669,
          18.192242469758853,
          17.86837918386887,
          18.088261903831075,
          18.094843377968626,
          18.113894240116654,
          18.181649553021135,
          17.93137262280561,
          18.036024282677644,
          17.808750843976036,
          18.099664054617303,
          17.876245543268457,
          17.914343269780815,
          18.13054944519438,
          17.8575059174278,
          18.076000522396523,
          17.862644042569777,
          17.925646070125225,
          18.090486484011148,
          17.880517109290796,
          17.843583378927338,
          17.959473268218527,
          18.191680133456977,
          17.95572684409549,
          17.80706445263004,
          17.874274480179082,
          18.195602402617986,
          18.115404337209124,
          18.15320352134036,
          17.975045933165113,
          18.093829061480214,
          18.17697154326449,
          17.822393079811444,
          18.193083150548006,
          17.933860629388384,
          17.961906930333715,
          17.97023420992087,
          18.841196163623803,
          19.083022336813194,
          20.12430893630901,
          20.18494785429802,
          20.06829803002939,
          19.847049299184697,
          20.12773088036517,
          19.911149066847415,
          19.9166595516617,
          20.059436662008032,
          19.80001818354646,
          20.029922408687046,
          20.11302660695249,
          20.975449449466225,
          21.186259981903397
         ],
         "y": [
          0.9946666666666667,
          0.9946666666666667,
          0.294811320754717,
          0.998003992015968,
          0.998003992015968,
          0.998003992015968,
          0.998003992015968,
          0.998003992015968,
          0.998003992015968,
          0.998003992015968,
          0.998003992015968,
          0.998003992015968,
          0.998003992015968,
          0.998003992015968,
          0.998003992015968,
          0.998003992015968,
          0.998003992015968,
          0.998003992015968,
          0.998003992015968,
          0.998003992015968,
          0.9981024667931688,
          0.9981024667931688,
          0.9715370018975332,
          0.9715370018975332,
          0.9961538461538462,
          0.9961538461538462,
          0.9961538461538462,
          0.9961538461538462,
          0.9961538461538462,
          0.9980769230769231,
          0.9980769230769231,
          0.9980769230769231,
          0.9980769230769231,
          0.9961538461538462,
          0.9961538461538462,
          0.9980769230769231,
          0.9961538461538462,
          0.9961538461538462,
          0.9961538461538462,
          0.9961538461538462,
          0.9961538461538462,
          0.9961538461538462,
          0.9961538461538462,
          0.9961538461538462,
          0.9961538461538462,
          0.9961538461538462,
          0.9961538461538462,
          0.9961538461538462,
          0.9961538461538462,
          0.9980769230769231,
          0.9980769230769231,
          0.9980769230769231,
          0.9980769230769231,
          0.9980769230769231,
          0.9980769230769231,
          0.9980769230769231,
          0.9980769230769231,
          0.9961538461538462,
          0.9980769230769231,
          0.9961538461538462,
          0.9980769230769231,
          0.9980769230769231,
          0.9980769230769231,
          0.9980769230769231,
          0.9980769230769231,
          0.9980769230769231,
          0.9980769230769231,
          0.9980769230769231,
          0.9980769230769231,
          0.9980769230769231,
          0.9961538461538462,
          0.9980769230769231,
          0.9980769230769231,
          0.9980769230769231,
          0.9980769230769231,
          0.9980769230769231,
          0.9992526158445441,
          0.9992526158445441,
          0.9992526158445441,
          0.9992526158445441,
          0.9992526158445441,
          0.9992526158445441,
          0.9758308157099698,
          0.9476744186046512,
          0.9389002036659878,
          0.945010183299389,
          0.945010183299389,
          0.945010183299389,
          0.945010183299389,
          0.945010183299389,
          0.945010183299389,
          0.9389002036659878,
          0.9592668024439919,
          0.9592668024439919,
          0.9592668024439919,
          0.9592668024439919,
          0.9592668024439919,
          0.9387755102040817,
          0.9387755102040817,
          0.963265306122449,
          0.9387755102040817,
          0.9510204081632653,
          0.9510204081632653,
          0.9510204081632653,
          0.9612244897959183,
          0.9612244897959183,
          0.9612244897959183,
          0.9408163265306122,
          0.9612244897959183,
          0.9510204081632653,
          0.9510204081632653,
          0.93158953722334,
          0.93158953722334,
          0.93158953722334,
          0.93158953722334,
          0.93158953722334,
          0.93158953722334,
          0.903420523138833,
          0.93158953722334,
          0.93158953722334,
          0.93158953722334,
          0.93158953722334,
          0.93158953722334,
          0.93158953722334,
          0.93158953722334,
          0.952286282306163,
          0.9502982107355865,
          0.9502982107355865,
          0.9502982107355865,
          0.9502982107355865,
          0.9502982107355865,
          0.9502982107355865,
          0.9542743538767395,
          0.9542743538767395,
          0.9542743538767395,
          0.9542743538767395,
          0.9542743538767395,
          0.9542743538767395,
          0.9542743538767395,
          0.9542743538767395,
          0.9542743538767395,
          0.9542743538767395,
          0.9542743538767395,
          0.9542743538767395,
          0.9542743538767395,
          0.9542743538767395,
          0.9502982107355865,
          0.9542743538767395,
          0.9542743538767395,
          0.9582504970178927,
          0.9542743538767395,
          0.9582504970178927,
          0.9582504970178927,
          0.9582504970178927,
          0.9582504970178927,
          0.9582504970178927,
          0.9582504970178927,
          0.9582504970178927,
          0.9582504970178927,
          0.9582504970178927,
          0.9582504970178927,
          0.9582504970178927,
          0.9582504970178927,
          0.9582504970178927,
          0.9582504970178927,
          0.9582504970178927,
          0.9582504970178927,
          0.9582504970178927,
          0.9582504970178927,
          0.9582504970178927,
          0.9582504970178927,
          0.9582504970178927,
          0.9582504970178927,
          0.9582504970178927,
          0.9582504970178927,
          0.9582504970178927,
          0.9582504970178927,
          0.9582504970178927,
          0.9582504970178927,
          0.9582504970178927,
          0.9542743538767395,
          0.9582504970178927,
          0.9582504970178927,
          0.9582504970178927,
          0.9582504970178927,
          0.9582504970178927,
          0.9582504970178927,
          0.9582504970178927,
          0.9582504970178927,
          0.9582504970178927,
          0.9582504970178927,
          0.9582504970178927,
          0.9582504970178927,
          0.9582504970178927,
          0.9582504970178927,
          0.9582504970178927,
          0.9582504970178927,
          0.9582504970178927,
          0.9582504970178927,
          0.9582504970178927,
          0.9582504970178927,
          0.9582504970178927,
          0.9582504970178927,
          0.9178082191780822,
          0.9178082191780822,
          0.8835616438356164,
          0.8938356164383562,
          0.9006849315068494,
          0.9143835616438356,
          0.9143835616438356,
          0.9178082191780822,
          0.9178082191780822,
          0.9178082191780822,
          0.9178082191780822,
          0.9178082191780822,
          0.9178082191780822,
          0.9143835616438356,
          0.9143835616438356,
          0.9178082191780822,
          0.9178082191780822,
          0.9178082191780822,
          0.9178082191780822,
          0.9178082191780822,
          0.9178082191780822,
          0.9178082191780822,
          0.9965753424657534,
          0.9965753424657534,
          0.9178082191780822,
          0.9178082191780822,
          0.9178082191780822,
          0.9178082191780822,
          0.9178082191780822,
          0.9178082191780822,
          0.9178082191780822,
          0.9178082191780822,
          0.9041095890410958,
          0.8835616438356164,
          0.9178082191780822,
          0.9178082191780822,
          0.9178082191780822,
          0.9178082191780822,
          0.9178082191780822,
          0.9178082191780822,
          0.990990990990991,
          0.990990990990991,
          0.990990990990991,
          0.990990990990991,
          0.990990990990991,
          0.990990990990991,
          0.990990990990991,
          0.02252252252252252,
          0.9954954954954955,
          0.9954954954954955,
          0.9954954954954955,
          0.9954954954954955,
          0.990990990990991,
          0.990990990990991,
          0.9954954954954955,
          0.9954954954954955,
          0.9954954954954955,
          0.9954954954954955,
          0.9954954954954955,
          0.9954954954954955,
          0.990990990990991,
          0.9954954954954955,
          0.990990990990991,
          0.9954954954954955,
          0.9954954954954955,
          0.9954954954954955,
          0.972972972972973,
          0.990990990990991,
          0.2702702702702703,
          0.2072072072072072,
          0.990990990990991,
          0.990990990990991,
          0.990990990990991,
          0.990990990990991,
          0.9954954954954955,
          0.9954954954954955,
          0.9954954954954955,
          0.9954954954954955,
          0.9954954954954955,
          0.7004608294930875,
          0.7004608294930875,
          0.7004608294930875,
          0.7004608294930875,
          0.6935483870967742,
          0.6728110599078341,
          0.7004608294930875,
          0.7004608294930875,
          0.7004608294930875,
          0.7004608294930875,
          0.7004608294930875,
          0.7004608294930875,
          0.6658986175115207,
          0.7004608294930875,
          0.7004608294930875,
          0.7004608294930875,
          0.7004608294930875,
          0.7004608294930875,
          0.7004608294930875,
          0.695852534562212,
          0.7004608294930875,
          0.7004608294930875,
          0.6820276497695853,
          0.7004608294930875,
          0.7027649769585254,
          0.7004608294930875,
          0.7004608294930875,
          0.6820276497695853,
          0.7027649769585254,
          0.7004608294930875,
          0.7004608294930875,
          0.7004608294930875,
          0.7004608294930875,
          0.7004608294930875,
          0.7004608294930875,
          0.7004608294930875,
          0.7004608294930875,
          0.7004608294930875,
          0.7004608294930875,
          0.7004608294930875,
          0.7004608294930875,
          0.7004608294930875,
          0.7004608294930875,
          0.7004608294930875,
          0.684331797235023,
          0.684331797235023,
          0.684331797235023,
          0.684331797235023,
          0.7004608294930875,
          0.7004608294930875,
          0.7004608294930875,
          0.7004608294930875,
          0.7004608294930875,
          0.7073863636363636,
          0.7073863636363636,
          0.9966101694915255,
          0.9966101694915255,
          0.9966101694915255,
          0.9966101694915255,
          0.9966101694915255,
          0.9932203389830508,
          0.9966101694915255,
          0.9966101694915255,
          0.9966101694915255,
          0.9966101694915255,
          0.9966101694915255,
          0.9984996249062266,
          0.9992498124531133
         ],
         "type": "scatter"
        },
        {
         "marker": {
          "color": "#ffb418",
          "line": {
           "color": "black",
           "width": 1
          },
          "size": 10,
          "symbol": "circle-open"
         },
         "mode": "markers",
         "name": "metabolism (AlphaFold)",
         "opacity": 0,
         "showlegend": false,
         "x": [
          2,
          3,
          4,
          5,
          6,
          7,
          8,
          9,
          10,
          11,
          12,
          13,
          14,
          15,
          16,
          17,
          18,
          19,
          20,
          21
         ],
         "y": [
          0.9946666666666667,
          0.40448113207547176,
          0.9980039920159678,
          0.9848197343453511,
          0.9972263313609466,
          0.9992526158445438,
          0.9758308157099698,
          0.9476744186046512,
          0.9495535014883283,
          0.95149136577708,
          0.9510204081632653,
          0.9295774647887324,
          0.9565427945149612,
          0.9183219178082191,
          null,
          0.9293139293139294,
          0.6972437179375708,
          0.7073863636363636,
          0.9963020030816641,
          0.9988747186796699
         ],
         "type": "scatter"
        },
        {
         "marker": {
          "color": "#ffb418",
          "line": {
           "color": "black",
           "width": 2
          },
          "size": 10,
          "symbol": "circle"
         },
         "mode": "markers",
         "name": "metabolism (EM)",
         "opacity": 1,
         "showlegend": true,
         "x": [
          2.9597341907542893,
          4.084064578497806,
          4.03791425908669,
          3.920503158660433,
          6.812907139946511
         ],
         "y": [
          0.5141509433962265,
          0.998003992015968,
          0.998003992015968,
          0.998003992015968,
          0.9992526158445441
         ],
         "type": "scatter"
        },
        {
         "marker": {
          "color": "#5e2bcb",
          "line": {
           "color": "black",
           "width": 1
          },
          "size": 10,
          "symbol": "diamond-tall"
         },
         "mode": "markers",
         "name": "toxicity (X-ray)",
         "opacity": 1,
         "showlegend": true,
         "x": [
          21.96521778680734,
          22.055036663946385,
          22.020752481156418,
          21.938679119552507,
          22.15163109546022,
          22.006645069359166,
          22.162167734336617,
          21.882414950570464,
          24.066332102290627,
          23.831206296794672,
          24.176770921768707,
          25.96727691948941,
          26.025950247900198,
          25.826916024470993,
          26.083945664380774,
          26.188949215146494,
          26.090099630116416,
          26.800584289903803,
          27.142452838534805,
          26.95479102784048,
          26.82313681298991,
          28.05665708525861,
          27.974679988922414,
          27.977346520409732,
          28.004651360340095,
          27.823322122474956,
          29.165779066626417,
          29.023641768993375,
          29.073101515258045,
          28.840113813998116,
          29.022850414774837,
          29.075948761160905,
          29.130167193401828,
          29.18650747320112,
          31.968807648391696,
          32.130559954429636,
          33.07522830064391,
          32.90771712510545,
          32.98672270499095,
          32.86574984977021,
          33.908059215360716,
          33.8933710574914,
          33.832808101139605,
          34.088855316362704,
          34.19346347756626,
          33.82781266249426,
          34.162436128805716,
          33.90082263175531,
          34.18427794432297,
          33.91759972606281,
          33.80546275692807,
          34.047172541070346,
          34.01222409807459,
          33.956523918680034,
          33.85594017841969,
          34.17649952491813,
          34.19307038345475,
          33.962280998720445,
          33.80734825090006,
          33.94766321417714,
          33.95645416407186,
          34.06412827495748,
          33.899136916689244,
          34.08796988828222,
          34.05151017080392,
          33.858028131439646,
          33.981574061898996,
          34.19569454083383,
          33.91226985598034,
          34.19253888876172,
          33.80714740346185,
          33.902847349976675,
          34.05834272142747,
          33.86898698657627,
          34.069214793637954,
          34.03083853430438,
          34.80281222528929,
          35.12416409451102,
          36.023838008007836,
          36.02484480118126,
          36.111138190739965,
          35.819001991166836,
          35.840029336188316,
          35.92023257595107,
          36.137514924682954,
          35.87329020519299,
          36.07427399700045,
          35.82704758073256,
          36.00655991847875,
          35.86075355052097,
          35.83847664534749,
          35.92645273316875,
          36.119564042871104,
          38.067087147095286,
          37.96925500004348,
          38.05176981670916,
          37.979414580617615,
          38.171060913028455,
          37.855382800163135,
          37.93583275381627,
          39.14033559776939,
          38.97322387332172,
          39.866573575940016,
          40.18716674942962,
          41.0459299961104,
          41.963520302205694,
          42.103305263135404,
          42.102538133332544,
          41.868054307083284,
          45.06082551914666,
          45.0733378923695,
          44.94894361236681,
          45.16471275687028,
          45.120606503356996,
          45.175344419665706,
          44.85050293992238,
          45.00535974217626,
          45.17856242207287,
          44.874800502512215,
          44.96131754728673,
          44.86780838096809,
          46.16479516773898,
          46.144745870512814,
          46.16476039663466,
          45.979469581718384,
          46.057691032511535,
          46.05675919421913
         ],
         "y": [
          0.31496881496881496,
          0.31496881496881496,
          0.31496881496881496,
          0.30561330561330563,
          0.31392931392931395,
          0.31496881496881496,
          0.31496881496881496,
          0.31392931392931395,
          0.0297029702970297,
          0.0297029702970297,
          0.0297029702970297,
          0.4063745019920319,
          0.4063745019920319,
          0.4063745019920319,
          0.4063745019920319,
          0.4063745019920319,
          0.4063745019920319,
          0.4405010438413361,
          0.4405010438413361,
          0.4405010438413361,
          0.4405010438413361,
          0.34891304347826085,
          0.34891304347826085,
          0.29891304347826086,
          0.29891304347826086,
          0.29891304347826086,
          0.3272532188841202,
          0.9978540772532188,
          0.9978540772532188,
          0.9785407725321889,
          0.9785407725321889,
          0.9785407725321889,
          0.9785407725321889,
          0.9785407725321889,
          0.9139784946236559,
          0.9139784946236559,
          0.7232704402515723,
          0.7232704402515723,
          0.7232704402515723,
          0.7232704402515723,
          0.009685230024213076,
          0.8813559322033898,
          0.8256658595641646,
          0.400726392251816,
          0.3801452784503632,
          0.8789346246973365,
          0.3801452784503632,
          0.3801452784503632,
          0.3801452784503632,
          0.400726392251816,
          0.3498789346246973,
          0.8135593220338984,
          0.8135593220338984,
          0.7723970944309927,
          0.7723970944309927,
          0.7723970944309927,
          0.7723970944309927,
          0.400726392251816,
          0.400726392251816,
          0.3910411622276029,
          0.7699757869249395,
          0.39951573849878935,
          0.39709443099273606,
          0.8135593220338984,
          0.7723970944309927,
          0.39951573849878935,
          0.3789346246973366,
          0.3789346246973366,
          0.3789346246973366,
          0.3789346246973366,
          0.3789346246973366,
          0.3789346246973366,
          0.3789346246973366,
          0.3789346246973366,
          0.7723970944309927,
          0.7723970944309927,
          0.9028697571743929,
          0.9161147902869757,
          0.00765420981539847,
          0.014858171994597028,
          0.009004952723998198,
          0.009004952723998198,
          0.03286807744259343,
          0.034218820351193155,
          0.00810445745159838,
          0.00810445745159838,
          0.014858171994597028,
          0.014858171994597028,
          0.014858171994597028,
          0.014858171994597028,
          0.014858171994597028,
          0.014858171994597028,
          0.014858171994597028,
          0.3061440677966102,
          0.3167372881355932,
          0.3061440677966102,
          0.3061440677966102,
          0.3029661016949153,
          0.3305084745762712,
          0.298728813559322,
          0.4041666666666667,
          0.4041666666666667,
          0.13157894736842105,
          0.13157894736842105,
          0.29055441478439425,
          0.09404659188955997,
          0.10785159620362382,
          0.11561691113028473,
          0.11216566005176877,
          0.8603174603174604,
          0.8603174603174604,
          0.8603174603174604,
          0.8603174603174604,
          0.8603174603174604,
          0.8603174603174604,
          0.8603174603174604,
          0.8603174603174604,
          0.8603174603174604,
          0.8603174603174604,
          0.8603174603174604,
          0.8603174603174604,
          0.08283730158730158,
          0.015376984126984126,
          0.08283730158730158,
          0.07738095238095238,
          0.022817460317460316,
          0.06746031746031746
         ],
         "type": "scatter"
        },
        {
         "marker": {
          "color": "#5e2bcb",
          "line": {
           "color": "black",
           "width": 1
          },
          "size": 10,
          "symbol": "circle-open"
         },
         "mode": "markers",
         "name": "toxicity (AlphaFold)",
         "opacity": 0,
         "showlegend": false,
         "x": [
          22,
          23,
          24,
          25,
          26,
          27,
          28,
          29,
          30,
          31,
          32,
          33,
          34,
          35,
          36,
          37,
          38,
          39,
          40,
          41,
          42,
          43,
          44,
          45,
          46
         ],
         "y": [
          0.4484029484029484,
          null,
          0.18297029702970297,
          null,
          0.5399578157956411,
          0.4405010438413361,
          0.4317028985507246,
          0.7574340895156348,
          0.9220338983050848,
          0.7188841201716738,
          0.8700119474313023,
          0.7232704402515723,
          0.5635881471232561,
          0.9094922737306843,
          0.09931933151468601,
          0.9983277591973245,
          0.5373651771956857,
          0.842013888888889,
          0.5310798548094374,
          0.6442505133470227,
          0.4895846172809072,
          null,
          null,
          0.8725455614344504,
          0.29346478174603174
         ],
         "type": "scatter"
        },
        {
         "marker": {
          "color": "#5e2bcb",
          "line": {
           "color": "black",
           "width": 2
          },
          "size": 10,
          "symbol": "circle"
         },
         "mode": "markers",
         "name": "toxicity (EM)",
         "opacity": 1,
         "showlegend": true,
         "x": [
          21.813864180748766,
          21.92188118416276,
          21.937171263856598,
          23.968682181069227,
          24.182228997007194,
          25.999069779115104,
          25.906412993020183,
          25.855657372049915,
          25.965936690049638,
          26.065741697739977,
          25.809141871727427,
          25.907506856687583,
          25.8947813678579,
          25.89612174937129,
          25.95330630879868,
          25.828370667347862,
          28.04932940604158,
          28.91695046784645,
          29.02851358510513,
          28.86322614063315,
          29.00591451198071,
          28.90055765522524,
          28.98264824283905,
          30.045743360958674,
          30.041074774960872,
          29.830139546728358,
          29.963388990482937,
          31.17396560161625,
          30.81571378640819,
          32.09805437449944,
          32.03140347800647,
          32.14392590059361,
          32.03028168111964,
          31.92006467691231,
          32.01604711887496,
          32.190896594369946,
          34.06851752976472,
          34.191651284468264,
          34.11722668366937,
          34.148876842820265,
          33.9670970483128,
          33.93438502266143,
          35.8647403550611,
          36.002918312021954,
          37.12847683142128,
          37.011578221293846,
          36.948392418089504,
          37.08442283459722,
          37.18130138753811,
          38.172639441701854,
          37.831359824030784,
          38.00540755714684,
          37.9200441613623,
          39.14959728740817,
          38.82549502799552,
          39.06820380216467,
          39.07299851814134,
          38.80292482840267,
          38.82323507501716,
          39.98151022308805,
          39.895532419763605,
          40.181223328846855,
          39.83001201196413,
          40.098406740332265,
          39.8109932732663,
          40.04062676022343,
          40.06824620116784,
          39.840819783532766,
          40.07842723278524,
          40.07692700171708,
          40.057436118914616,
          40.07536507868005,
          40.15142981539505,
          39.95943836243238,
          40.04502780048075,
          40.1946291149767,
          40.085386781324395,
          40.09395537975185,
          39.87060825638185,
          39.96015905689696,
          40.17312679454035,
          39.9573539794411,
          40.10244163504838,
          39.82216455822784,
          39.89337562503897,
          39.85153999650176,
          41.04756256093125,
          42.01649000041578,
          42.04805115361537,
          42.00722392728185,
          45.175776148577,
          44.94968808139621,
          44.92423567729467,
          44.998598205447394,
          45.158949556060875,
          44.89064651058535,
          45.15891708966926,
          45.16276948404744,
          45.137841471524084,
          45.022454223461004,
          45.038196901485186,
          45.164101173731176,
          44.96541055601927,
          45.181654781404056,
          45.06655678546792,
          46.047806717173785,
          45.98242597855963
         ],
         "y": [
          0.7671517671517671,
          0.7671517671517671,
          0.8898128898128899,
          0.41287128712871285,
          0.41287128712871285,
          0.99800796812749,
          0.99800796812749,
          0.99800796812749,
          0.4402390438247012,
          0.4402390438247012,
          0.4402390438247012,
          0.36852589641434264,
          0.952191235059761,
          0.36852589641434264,
          0.36852589641434264,
          0.36852589641434264,
          0.9956521739130435,
          0.9935622317596566,
          0.9957081545064378,
          0.3497854077253219,
          0.3497854077253219,
          0.3497854077253219,
          0.3497854077253219,
          0.9220338983050848,
          0.9220338983050848,
          0.9220338983050848,
          0.9220338983050848,
          0.7188841201716738,
          0.7188841201716738,
          0.015053763440860216,
          0.9978494623655914,
          0.9978494623655914,
          0.9978494623655914,
          0.9978494623655914,
          0.9978494623655914,
          0.9978494623655914,
          0.7554479418886199,
          0.8401937046004843,
          0.8401937046004843,
          0.8401937046004843,
          0.3365617433414044,
          0.7530266343825666,
          0.6974335884736605,
          0.7631697433588474,
          0.9983277591973244,
          0.9983277591973244,
          0.9983277591973244,
          0.9983277591973244,
          0.9983277591973244,
          0.75,
          0.9978813559322034,
          0.9978813559322034,
          0.9978813559322034,
          0.9972222222222222,
          0.9972222222222222,
          0.9972222222222222,
          0.9972222222222222,
          0.9972222222222222,
          0.9416666666666667,
          0.3826754385964912,
          0.3826754385964912,
          0.9385964912280702,
          0.9978070175438597,
          0.9978070175438597,
          0.9978070175438597,
          0.9978070175438597,
          0.9978070175438597,
          0.3826754385964912,
          0.3815789473684211,
          0.3815789473684211,
          0.3826754385964912,
          0.3826754385964912,
          0.3826754385964912,
          0.3826754385964912,
          0.3826754385964912,
          0.3782894736842105,
          0.3782894736842105,
          0.3782894736842105,
          0.9978070175438597,
          0.3706140350877193,
          0.3706140350877193,
          0.6820175438596491,
          0.6820175438596491,
          0.3826754385964912,
          0.3826754385964912,
          0.3826754385964912,
          0.997946611909651,
          0.999137187230371,
          0.999137187230371,
          0.999137187230371,
          0.8507936507936508,
          0.8507936507936508,
          0.8507936507936508,
          0.8555555555555555,
          0.9984126984126984,
          0.9984126984126984,
          0.9984126984126984,
          0.8539682539682539,
          0.8507936507936508,
          0.8539682539682539,
          0.8539682539682539,
          0.8539682539682539,
          0.8571428571428571,
          0.8507936507936508,
          0.8571428571428571,
          0.9995039682539683,
          0.9995039682539683
         ],
         "type": "scatter"
        },
        {
         "marker": {
          "color": "#d07c09",
          "line": {
           "color": "black",
           "width": 1
          },
          "size": 10,
          "symbol": "diamond-tall"
         },
         "mode": "markers",
         "name": "transporters (X-ray)",
         "opacity": 1,
         "showlegend": true,
         "x": [
          50.07030442373468,
          49.95820349904716
         ],
         "y": [
          0.1495754408883083,
          0.16525146962769433
         ],
         "type": "scatter"
        },
        {
         "marker": {
          "color": "#d07c09",
          "line": {
           "color": "black",
           "width": 1
          },
          "size": 10,
          "symbol": "circle-open"
         },
         "mode": "markers",
         "name": "transporters (AlphaFold)",
         "opacity": 0,
         "showlegend": false,
         "x": [
          47,
          48,
          49,
          50,
          51,
          52,
          53,
          54,
          55,
          56
         ],
         "y": [
          0.9863739591218774,
          0.9979007633587788,
          0.9966406250000002,
          0.15741345525800132,
          0.998587570621469,
          null,
          null,
          null,
          0.9985528219971055,
          0.9985754985754985
         ],
         "type": "scatter"
        },
        {
         "marker": {
          "color": "#d07c09",
          "line": {
           "color": "black",
           "width": 2
          },
          "size": 10,
          "symbol": "circle"
         },
         "mode": "markers",
         "name": "transporters (EM)",
         "opacity": 1,
         "showlegend": true,
         "x": [
          47.118166801161344,
          47.10641885138579,
          47.04973698339921,
          48.04498249501111,
          48.19392498075944,
          48.0283685524042,
          47.871994230916336,
          48.04976958323314,
          47.81118482001984,
          48.141718127088794,
          48.00451266314382,
          48.14975734601564,
          48.00526920883536,
          48.107038128551714,
          48.071398138076596,
          47.85871683012528,
          48.08921786189658,
          48.11669807102675,
          48.07833151871349,
          47.9024208584416,
          47.93156643463201,
          47.97761466192836,
          48.0231704574904,
          47.87720309674601,
          47.80199309189598,
          47.85503363135619,
          48.10841387811147,
          48.984668712021815,
          49.16186631076512,
          49.10655663130235,
          48.8496165266408,
          49.087190062721994,
          49.00988087170404,
          49.10768385209403,
          48.86266167623805,
          48.91742039159954,
          48.90214855658229,
          51.12757030987719,
          50.858777107558936,
          51.0500185897912,
          54.988809257215884,
          54.95580107993157,
          55.121891137672016,
          54.838651328009675,
          55.1525051540723,
          54.93233434363199,
          55.96116174834259
         ],
         "y": [
          0.9992429977289932,
          0.9606358819076457,
          0.9992429977289932,
          0.9969465648854962,
          0.9969465648854962,
          0.9984732824427481,
          0.9984732824427481,
          0.9969465648854962,
          0.9984732824427481,
          0.9969465648854962,
          0.9984732824427481,
          0.9984732824427481,
          0.9984732824427481,
          0.9984732824427481,
          0.9984732824427481,
          0.9984732824427481,
          0.9984732824427481,
          0.9984732824427481,
          0.9984732824427481,
          0.9969465648854962,
          0.9969465648854962,
          0.9969465648854962,
          0.9969465648854962,
          0.9969465648854962,
          0.9984732824427481,
          0.9984732824427481,
          0.9984732824427481,
          0.99921875,
          0.97421875,
          0.9984375,
          0.99921875,
          0.99921875,
          0.99921875,
          0.99921875,
          0.99921875,
          0.99921875,
          0.99921875,
          0.998587570621469,
          0.998587570621469,
          0.998587570621469,
          0.9985528219971056,
          0.9985528219971056,
          0.9985528219971056,
          0.9985528219971056,
          0.9985528219971056,
          0.9985528219971056,
          0.9985754985754985
         ],
         "type": "scatter"
        }
       ],
       "layout": {
        "height": 600,
        "template": {
         "data": {
          "barpolar": [
           {
            "marker": {
             "line": {
              "color": "white",
              "width": 0.5
             },
             "pattern": {
              "fillmode": "overlay",
              "size": 10,
              "solidity": 0.2
             }
            },
            "type": "barpolar"
           }
          ],
          "bar": [
           {
            "error_x": {
             "color": "rgb(36,36,36)"
            },
            "error_y": {
             "color": "rgb(36,36,36)"
            },
            "marker": {
             "line": {
              "color": "white",
              "width": 0.5
             },
             "pattern": {
              "fillmode": "overlay",
              "size": 10,
              "solidity": 0.2
             }
            },
            "type": "bar"
           }
          ],
          "carpet": [
           {
            "aaxis": {
             "endlinecolor": "rgb(36,36,36)",
             "gridcolor": "white",
             "linecolor": "white",
             "minorgridcolor": "white",
             "startlinecolor": "rgb(36,36,36)"
            },
            "baxis": {
             "endlinecolor": "rgb(36,36,36)",
             "gridcolor": "white",
             "linecolor": "white",
             "minorgridcolor": "white",
             "startlinecolor": "rgb(36,36,36)"
            },
            "type": "carpet"
           }
          ],
          "choropleth": [
           {
            "colorbar": {
             "outlinewidth": 1,
             "tickcolor": "rgb(36,36,36)",
             "ticks": "outside"
            },
            "type": "choropleth"
           }
          ],
          "contourcarpet": [
           {
            "colorbar": {
             "outlinewidth": 1,
             "tickcolor": "rgb(36,36,36)",
             "ticks": "outside"
            },
            "type": "contourcarpet"
           }
          ],
          "contour": [
           {
            "colorbar": {
             "outlinewidth": 1,
             "tickcolor": "rgb(36,36,36)",
             "ticks": "outside"
            },
            "colorscale": [
             [
              0.0,
              "#440154"
             ],
             [
              0.1111111111111111,
              "#482878"
             ],
             [
              0.2222222222222222,
              "#3e4989"
             ],
             [
              0.3333333333333333,
              "#31688e"
             ],
             [
              0.4444444444444444,
              "#26828e"
             ],
             [
              0.5555555555555556,
              "#1f9e89"
             ],
             [
              0.6666666666666666,
              "#35b779"
             ],
             [
              0.7777777777777778,
              "#6ece58"
             ],
             [
              0.8888888888888888,
              "#b5de2b"
             ],
             [
              1.0,
              "#fde725"
             ]
            ],
            "type": "contour"
           }
          ],
          "heatmapgl": [
           {
            "colorbar": {
             "outlinewidth": 1,
             "tickcolor": "rgb(36,36,36)",
             "ticks": "outside"
            },
            "colorscale": [
             [
              0.0,
              "#440154"
             ],
             [
              0.1111111111111111,
              "#482878"
             ],
             [
              0.2222222222222222,
              "#3e4989"
             ],
             [
              0.3333333333333333,
              "#31688e"
             ],
             [
              0.4444444444444444,
              "#26828e"
             ],
             [
              0.5555555555555556,
              "#1f9e89"
             ],
             [
              0.6666666666666666,
              "#35b779"
             ],
             [
              0.7777777777777778,
              "#6ece58"
             ],
             [
              0.8888888888888888,
              "#b5de2b"
             ],
             [
              1.0,
              "#fde725"
             ]
            ],
            "type": "heatmapgl"
           }
          ],
          "heatmap": [
           {
            "colorbar": {
             "outlinewidth": 1,
             "tickcolor": "rgb(36,36,36)",
             "ticks": "outside"
            },
            "colorscale": [
             [
              0.0,
              "#440154"
             ],
             [
              0.1111111111111111,
              "#482878"
             ],
             [
              0.2222222222222222,
              "#3e4989"
             ],
             [
              0.3333333333333333,
              "#31688e"
             ],
             [
              0.4444444444444444,
              "#26828e"
             ],
             [
              0.5555555555555556,
              "#1f9e89"
             ],
             [
              0.6666666666666666,
              "#35b779"
             ],
             [
              0.7777777777777778,
              "#6ece58"
             ],
             [
              0.8888888888888888,
              "#b5de2b"
             ],
             [
              1.0,
              "#fde725"
             ]
            ],
            "type": "heatmap"
           }
          ],
          "histogram2dcontour": [
           {
            "colorbar": {
             "outlinewidth": 1,
             "tickcolor": "rgb(36,36,36)",
             "ticks": "outside"
            },
            "colorscale": [
             [
              0.0,
              "#440154"
             ],
             [
              0.1111111111111111,
              "#482878"
             ],
             [
              0.2222222222222222,
              "#3e4989"
             ],
             [
              0.3333333333333333,
              "#31688e"
             ],
             [
              0.4444444444444444,
              "#26828e"
             ],
             [
              0.5555555555555556,
              "#1f9e89"
             ],
             [
              0.6666666666666666,
              "#35b779"
             ],
             [
              0.7777777777777778,
              "#6ece58"
             ],
             [
              0.8888888888888888,
              "#b5de2b"
             ],
             [
              1.0,
              "#fde725"
             ]
            ],
            "type": "histogram2dcontour"
           }
          ],
          "histogram2d": [
           {
            "colorbar": {
             "outlinewidth": 1,
             "tickcolor": "rgb(36,36,36)",
             "ticks": "outside"
            },
            "colorscale": [
             [
              0.0,
              "#440154"
             ],
             [
              0.1111111111111111,
              "#482878"
             ],
             [
              0.2222222222222222,
              "#3e4989"
             ],
             [
              0.3333333333333333,
              "#31688e"
             ],
             [
              0.4444444444444444,
              "#26828e"
             ],
             [
              0.5555555555555556,
              "#1f9e89"
             ],
             [
              0.6666666666666666,
              "#35b779"
             ],
             [
              0.7777777777777778,
              "#6ece58"
             ],
             [
              0.8888888888888888,
              "#b5de2b"
             ],
             [
              1.0,
              "#fde725"
             ]
            ],
            "type": "histogram2d"
           }
          ],
          "histogram": [
           {
            "marker": {
             "line": {
              "color": "white",
              "width": 0.6
             }
            },
            "type": "histogram"
           }
          ],
          "mesh3d": [
           {
            "colorbar": {
             "outlinewidth": 1,
             "tickcolor": "rgb(36,36,36)",
             "ticks": "outside"
            },
            "type": "mesh3d"
           }
          ],
          "parcoords": [
           {
            "line": {
             "colorbar": {
              "outlinewidth": 1,
              "tickcolor": "rgb(36,36,36)",
              "ticks": "outside"
             }
            },
            "type": "parcoords"
           }
          ],
          "pie": [
           {
            "automargin": true,
            "type": "pie"
           }
          ],
          "scatter3d": [
           {
            "line": {
             "colorbar": {
              "outlinewidth": 1,
              "tickcolor": "rgb(36,36,36)",
              "ticks": "outside"
             }
            },
            "marker": {
             "colorbar": {
              "outlinewidth": 1,
              "tickcolor": "rgb(36,36,36)",
              "ticks": "outside"
             }
            },
            "type": "scatter3d"
           }
          ],
          "scattercarpet": [
           {
            "marker": {
             "colorbar": {
              "outlinewidth": 1,
              "tickcolor": "rgb(36,36,36)",
              "ticks": "outside"
             }
            },
            "type": "scattercarpet"
           }
          ],
          "scattergeo": [
           {
            "marker": {
             "colorbar": {
              "outlinewidth": 1,
              "tickcolor": "rgb(36,36,36)",
              "ticks": "outside"
             }
            },
            "type": "scattergeo"
           }
          ],
          "scattergl": [
           {
            "marker": {
             "colorbar": {
              "outlinewidth": 1,
              "tickcolor": "rgb(36,36,36)",
              "ticks": "outside"
             }
            },
            "type": "scattergl"
           }
          ],
          "scattermapbox": [
           {
            "marker": {
             "colorbar": {
              "outlinewidth": 1,
              "tickcolor": "rgb(36,36,36)",
              "ticks": "outside"
             }
            },
            "type": "scattermapbox"
           }
          ],
          "scatterpolargl": [
           {
            "marker": {
             "colorbar": {
              "outlinewidth": 1,
              "tickcolor": "rgb(36,36,36)",
              "ticks": "outside"
             }
            },
            "type": "scatterpolargl"
           }
          ],
          "scatterpolar": [
           {
            "marker": {
             "colorbar": {
              "outlinewidth": 1,
              "tickcolor": "rgb(36,36,36)",
              "ticks": "outside"
             }
            },
            "type": "scatterpolar"
           }
          ],
          "scatter": [
           {
            "fillpattern": {
             "fillmode": "overlay",
             "size": 10,
             "solidity": 0.2
            },
            "type": "scatter"
           }
          ],
          "scatterternary": [
           {
            "marker": {
             "colorbar": {
              "outlinewidth": 1,
              "tickcolor": "rgb(36,36,36)",
              "ticks": "outside"
             }
            },
            "type": "scatterternary"
           }
          ],
          "surface": [
           {
            "colorbar": {
             "outlinewidth": 1,
             "tickcolor": "rgb(36,36,36)",
             "ticks": "outside"
            },
            "colorscale": [
             [
              0.0,
              "#440154"
             ],
             [
              0.1111111111111111,
              "#482878"
             ],
             [
              0.2222222222222222,
              "#3e4989"
             ],
             [
              0.3333333333333333,
              "#31688e"
             ],
             [
              0.4444444444444444,
              "#26828e"
             ],
             [
              0.5555555555555556,
              "#1f9e89"
             ],
             [
              0.6666666666666666,
              "#35b779"
             ],
             [
              0.7777777777777778,
              "#6ece58"
             ],
             [
              0.8888888888888888,
              "#b5de2b"
             ],
             [
              1.0,
              "#fde725"
             ]
            ],
            "type": "surface"
           }
          ],
          "table": [
           {
            "cells": {
             "fill": {
              "color": "rgb(237,237,237)"
             },
             "line": {
              "color": "white"
             }
            },
            "header": {
             "fill": {
              "color": "rgb(217,217,217)"
             },
             "line": {
              "color": "white"
             }
            },
            "type": "table"
           }
          ]
         },
         "layout": {
          "annotationdefaults": {
           "arrowhead": 0,
           "arrowwidth": 1
          },
          "autotypenumbers": "strict",
          "coloraxis": {
           "colorbar": {
            "outlinewidth": 1,
            "tickcolor": "rgb(36,36,36)",
            "ticks": "outside"
           }
          },
          "colorscale": {
           "diverging": [
            [
             0.0,
             "rgb(103,0,31)"
            ],
            [
             0.1,
             "rgb(178,24,43)"
            ],
            [
             0.2,
             "rgb(214,96,77)"
            ],
            [
             0.3,
             "rgb(244,165,130)"
            ],
            [
             0.4,
             "rgb(253,219,199)"
            ],
            [
             0.5,
             "rgb(247,247,247)"
            ],
            [
             0.6,
             "rgb(209,229,240)"
            ],
            [
             0.7,
             "rgb(146,197,222)"
            ],
            [
             0.8,
             "rgb(67,147,195)"
            ],
            [
             0.9,
             "rgb(33,102,172)"
            ],
            [
             1.0,
             "rgb(5,48,97)"
            ]
           ],
           "sequential": [
            [
             0.0,
             "#440154"
            ],
            [
             0.1111111111111111,
             "#482878"
            ],
            [
             0.2222222222222222,
             "#3e4989"
            ],
            [
             0.3333333333333333,
             "#31688e"
            ],
            [
             0.4444444444444444,
             "#26828e"
            ],
            [
             0.5555555555555556,
             "#1f9e89"
            ],
            [
             0.6666666666666666,
             "#35b779"
            ],
            [
             0.7777777777777778,
             "#6ece58"
            ],
            [
             0.8888888888888888,
             "#b5de2b"
            ],
            [
             1.0,
             "#fde725"
            ]
           ],
           "sequentialminus": [
            [
             0.0,
             "#440154"
            ],
            [
             0.1111111111111111,
             "#482878"
            ],
            [
             0.2222222222222222,
             "#3e4989"
            ],
            [
             0.3333333333333333,
             "#31688e"
            ],
            [
             0.4444444444444444,
             "#26828e"
            ],
            [
             0.5555555555555556,
             "#1f9e89"
            ],
            [
             0.6666666666666666,
             "#35b779"
            ],
            [
             0.7777777777777778,
             "#6ece58"
            ],
            [
             0.8888888888888888,
             "#b5de2b"
            ],
            [
             1.0,
             "#fde725"
            ]
           ]
          },
          "colorway": [
           "#1F77B4",
           "#FF7F0E",
           "#2CA02C",
           "#D62728",
           "#9467BD",
           "#8C564B",
           "#E377C2",
           "#7F7F7F",
           "#BCBD22",
           "#17BECF"
          ],
          "font": {
           "color": "rgb(36,36,36)"
          },
          "geo": {
           "bgcolor": "white",
           "lakecolor": "white",
           "landcolor": "white",
           "showlakes": true,
           "showland": true,
           "subunitcolor": "white"
          },
          "hoverlabel": {
           "align": "left"
          },
          "hovermode": "closest",
          "mapbox": {
           "style": "light"
          },
          "paper_bgcolor": "white",
          "plot_bgcolor": "white",
          "polar": {
           "angularaxis": {
            "gridcolor": "rgb(232,232,232)",
            "linecolor": "rgb(36,36,36)",
            "showgrid": false,
            "showline": true,
            "ticks": "outside"
           },
           "bgcolor": "white",
           "radialaxis": {
            "gridcolor": "rgb(232,232,232)",
            "linecolor": "rgb(36,36,36)",
            "showgrid": false,
            "showline": true,
            "ticks": "outside"
           }
          },
          "scene": {
           "xaxis": {
            "backgroundcolor": "white",
            "gridcolor": "rgb(232,232,232)",
            "gridwidth": 2,
            "linecolor": "rgb(36,36,36)",
            "showbackground": true,
            "showgrid": false,
            "showline": true,
            "ticks": "outside",
            "zeroline": false,
            "zerolinecolor": "rgb(36,36,36)"
           },
           "yaxis": {
            "backgroundcolor": "white",
            "gridcolor": "rgb(232,232,232)",
            "gridwidth": 2,
            "linecolor": "rgb(36,36,36)",
            "showbackground": true,
            "showgrid": false,
            "showline": true,
            "ticks": "outside",
            "zeroline": false,
            "zerolinecolor": "rgb(36,36,36)"
           },
           "zaxis": {
            "backgroundcolor": "white",
            "gridcolor": "rgb(232,232,232)",
            "gridwidth": 2,
            "linecolor": "rgb(36,36,36)",
            "showbackground": true,
            "showgrid": false,
            "showline": true,
            "ticks": "outside",
            "zeroline": false,
            "zerolinecolor": "rgb(36,36,36)"
           }
          },
          "shapedefaults": {
           "fillcolor": "black",
           "line": {
            "width": 0
           },
           "opacity": 0.3
          },
          "ternary": {
           "aaxis": {
            "gridcolor": "rgb(232,232,232)",
            "linecolor": "rgb(36,36,36)",
            "showgrid": false,
            "showline": true,
            "ticks": "outside"
           },
           "baxis": {
            "gridcolor": "rgb(232,232,232)",
            "linecolor": "rgb(36,36,36)",
            "showgrid": false,
            "showline": true,
            "ticks": "outside"
           },
           "bgcolor": "white",
           "caxis": {
            "gridcolor": "rgb(232,232,232)",
            "linecolor": "rgb(36,36,36)",
            "showgrid": false,
            "showline": true,
            "ticks": "outside"
           }
          },
          "title": {
           "x": 0.05
          },
          "xaxis": {
           "automargin": true,
           "gridcolor": "rgb(232,232,232)",
           "linecolor": "rgb(36,36,36)",
           "showgrid": false,
           "showline": true,
           "ticks": "outside",
           "title": {
            "standoff": 15
           },
           "zeroline": false,
           "zerolinecolor": "rgb(36,36,36)"
          },
          "yaxis": {
           "automargin": true,
           "gridcolor": "rgb(232,232,232)",
           "linecolor": "rgb(36,36,36)",
           "showgrid": false,
           "showline": true,
           "ticks": "outside",
           "title": {
            "standoff": 15
           },
           "zeroline": false,
           "zerolinecolor": "rgb(36,36,36)"
          }
         }
        },
        "title": {
         "text": "Analysis of Experimental Structure Quality for ADMET Targets"
        },
        "width": 1600,
        "xaxis": {
         "range": [
          -0.5,
          57.5
         ],
         "ticktext": [
          "A1AG1 (P02763)",
          "ALBU (P02768)",
          "ADH1A (P07327)",
          "AHR (P35869)",
          "AL1A1 (P00352)",
          "AOFA (P21397)",
          "AOFB (P27338)",
          "AOXA (Q06278)",
          "ARK73 (O95154)",
          "CP1A2 (P05177)",
          "CP2B6 (P20813)",
          "CP2C9 (P11712)",
          "CP2CJ (P33261)",
          "CP2D6 (P10635)",
          "CP3A4 (P08684)",
          "DHI1 (P28845)",
          "FMO1 (Q01740)",
          "GSTA1 (P08263)",
          "NR1I2 (O75469)",
          "NR1I3 (Q14994)",
          "ST1A1 (P50225)",
          "XDH (P47989)",
          "5HT2B (P41595)",
          "ACH10 (Q9GZZ6)",
          "ACHA3 (P32297)",
          "ACHA5 (P30532)",
          "ACHA7 (P36544)",
          "ACHA9 (Q9UGM1)",
          "ACM1 (P11229)",
          "ACM2 (P08172)",
          "ACM3 (P20309)",
          "ADA1A (P35348)",
          "ADA2A (P08913)",
          "ADRB1 (P08588)",
          "ADRB2 (P07550)",
          "ASM3A (Q92484)",
          "CAC1C (Q13936)",
          "CACB1 (Q02641)",
          "CNR1 (P21554)",
          "CNR2 (P34972)",
          "GBRA1 (P14867)",
          "HRH1 (P35367)",
          "KCNH2 (Q12809)",
          "SC6A2 (P23975)",
          "SC6A3 (Q01959)",
          "SC6A4 (P31645)",
          "SCN5A (Q14524)",
          "ABCBB (O95342)",
          "ABCG2 (Q9UNQ0)",
          "MDR1 (P08183)",
          "MRP1 (P33527)",
          "S15A1 (P46059)",
          "S22A6 (Q4U2R8)",
          "S22A8 (Q8TCC7)",
          "S47A1 (Q96FL8)",
          "SO1B1 (Q9Y6L6)",
          "SO1B3 (Q9NPD5)"
         ],
         "tickvals": [
          0,
          1,
          2,
          3,
          4,
          5,
          6,
          7,
          8,
          9,
          10,
          11,
          12,
          13,
          14,
          15,
          16,
          17,
          18,
          19,
          20,
          21,
          22,
          23,
          24,
          25,
          26,
          27,
          28,
          29,
          30,
          31,
          32,
          33,
          34,
          35,
          36,
          37,
          38,
          39,
          40,
          41,
          42,
          43,
          44,
          45,
          46,
          47,
          48,
          49,
          50,
          51,
          52,
          53,
          54,
          55,
          56
         ],
         "title": {
          "text": "Protein Name (Uniprot ID)"
         }
        },
        "yaxis": {
         "title": {
          "text": "Sequence Coverage"
         }
        }
       },
       "config": {
        "plotlyServerURL": "https://plot.ly"
       }
      },
      "text/html": "<div>                            <div id=\"93a65194-5444-4f47-967e-37ed03b2c1a3\" class=\"plotly-graph-div\" style=\"height:600px; width:1600px;\"></div>            <script type=\"text/javascript\">                require([\"plotly\"], function(Plotly) {                    window.PLOTLYENV=window.PLOTLYENV || {};                                    if (document.getElementById(\"93a65194-5444-4f47-967e-37ed03b2c1a3\")) {                    Plotly.newPlot(                        \"93a65194-5444-4f47-967e-37ed03b2c1a3\",                        [{\"marker\":{\"color\":\"#11efb7\",\"line\":{\"color\":\"black\",\"width\":1},\"size\":10,\"symbol\":\"diamond-tall\"},\"mode\":\"markers\",\"name\":\"distribution (X-ray)\",\"opacity\":1,\"showlegend\":true,\"x\":[0.17320681629938528,0.9014864510834539,1.113983776641709,1.009869659794227,0.8432484303420325,1.0702418769225641,1.1572124819729341,0.8720489069208378,1.0071524173004267,1.007141133824388,1.0559132090644485,1.0507431640364548,0.882264628628395,1.1056551554745626,1.0649388805002364,1.1024362972168738,0.9723201477642781,1.0005016640622262,1.0705000641047857,1.1853926931574215,1.1208430451440665,0.8082988052413932,0.9312569758475235,1.0640177275168732,0.8671838044989149,1.0875569827679727,0.8942457270704421,0.9669633255414787,1.1133244021807043,0.8900595498817795,1.1924753811087765,0.9613796622341967,0.8722626138670783,1.0146914761790968,1.16512501000709,0.9664731785858374,0.999523259009311,1.070985939594582,0.948898300360823,0.9521722616035753,0.9993189456417212,1.0125073513954526,0.8520926597284573,1.0815087086803519,0.960521580937129,0.8464628847421153,0.9667301223290544,1.0423935221703482,1.1613853733708424,1.0333993621636648,1.1199380379455275,1.0931034762308052,1.0245764591713518,1.188743498384153,1.1225523716234904,1.1116730683180756,1.0638806162759513,1.0275645501058206,0.8454340491427498,1.190290233973459,1.0839409517540657,0.8933875345605338,1.0955291364080706,0.9150488236733558,1.1280501774752096,0.861172776592891,0.9370193995636971,1.0141403926940542,1.0576419095422152,0.8004068029135033,1.0693797288863127,1.0823056664207749,0.8762057791886753,1.1416883804922908,0.8783650998767869,0.914081067440922,0.8449911259577794,1.0063913419036525,0.9174813043686363,1.0765574988935693,0.8360579061859688,0.966123312269714,0.819519506038451,1.0313604430975662,1.1135924753174011,0.8761815683382129,1.1647214065863527,0.9415911195155506,1.1617588821920193,1.0934911151646454,0.8242758308468342,0.9035599380615594,0.8563761292277992,0.9714074496733838,0.8908753095077409,0.9622293415738304,1.1160589674442147,0.8897217799217416,1.158897832531105,1.0564731147675372,0.970670423261032,0.9285014160599527,1.1355653757327029,1.143427420272161,0.9667251902526366,0.8295101504572683,1.0273529774496226,0.9662213531391661,0.8019616506238866,1.0204207255000397,0.8603186285230181,0.972034467140858,1.0007935067132994,1.146376530346782,0.8018501970969076,1.0813487966069504,0.9470687073498448,1.049842509138182,0.8687513174012337,0.8915012592405789,1.033247309393949,1.0952682863623082,1.063130811714979,1.1956075297827038,0.9732611098496313,1.09113489194054,1.1909534490058695,0.9856394256252972,1.1613885137171702,1.1992891428943557,0.97306788726696,0.8016385991853261,1.1494777099163265,0.8868776647189895,0.9830234887049709,1.0670397930082363,0.8936380956871625,0.8148237552455754,0.9274862270821633,1.0702786924643797,0.8147909914210267,1.0850180001954721,0.8228395927628251,1.0467157080227305,0.9714013641143386,0.8233535700944525,1.1780448930557808,0.8673716850127593],\"y\":[0.9054726368159204,0.9589490968801314,0.9589490968801314,0.9523809523809523,0.9589490968801314,0.9589490968801314,0.9589490968801314,0.9589490968801314,0.9589490968801314,0.9589490968801314,0.9589490968801314,0.9589490968801314,0.9589490968801314,0.9589490968801314,0.9589490968801314,0.9589490968801314,0.9589490968801314,0.9589490968801314,0.9589490968801314,0.9589490968801314,0.9589490968801314,0.9589490968801314,0.9589490968801314,0.9589490968801314,0.9589490968801314,0.9376026272577996,0.9589490968801314,0.9589490968801314,0.9589490968801314,0.9589490968801314,0.9589490968801314,0.9589490968801314,0.9589490968801314,0.9589490968801314,0.9589490968801314,0.9589490968801314,0.9589490968801314,0.9589490968801314,0.9589490968801314,0.9589490968801314,0.9589490968801314,0.9589490968801314,0.9589490968801314,0.9589490968801314,0.9589490968801314,0.9589490968801314,0.9490968801313628,0.9589490968801314,0.9589490968801314,0.9589490968801314,0.9589490968801314,0.9589490968801314,0.9589490968801314,0.9589490968801314,0.9589490968801314,0.9589490968801314,0.9589490968801314,0.9589490968801314,0.9589490968801314,0.9589490968801314,0.9540229885057471,0.9589490968801314,0.9589490968801314,0.9589490968801314,0.9589490968801314,0.9589490968801314,0.9540229885057471,0.9589490968801314,0.9589490968801314,0.9983579638752053,0.9589490968801314,0.9589490968801314,0.9589490968801314,0.9589490968801314,0.9589490968801314,0.9589490968801314,0.9589490968801314,0.9589490968801314,0.9589490968801314,0.9589490968801314,0.9589490968801314,0.9589490968801314,0.9589490968801314,0.9589490968801314,0.9589490968801314,0.9589490968801314,0.9589490968801314,0.9556650246305419,0.9589490968801314,0.9589490968801314,0.9589490968801314,0.9523809523809523,0.9523809523809523,0.9589490968801314,0.9589490968801314,0.9589490968801314,0.9983579638752053,0.9589490968801314,0.9589490968801314,0.9523809523809523,0.9589490968801314,0.9589490968801314,0.9589490968801314,0.9589490968801314,0.9983579638752053,0.9556650246305419,0.9523809523809523,0.9589490968801314,0.9589490968801314,0.9490968801313628,0.9589490968801314,0.9589490968801314,0.9589490968801314,0.9589490968801314,0.9589490968801314,0.9589490968801314,0.9589490968801314,0.9983579638752053,0.9589490968801314,0.9573070607553367,0.9573070607553367,0.9589490968801314,0.9589490968801314,0.9589490968801314,0.9556650246305419,0.9589490968801314,0.9589490968801314,0.9573070607553367,0.9983579638752053,0.9983579638752053,0.9983579638752053,0.9589490968801314,0.9589490968801314,0.9589490968801314,0.9589490968801314,0.9589490968801314,0.9983579638752053,0.9983579638752053,0.9523809523809523,0.9589490968801314,0.9523809523809523,0.9573070607553367,0.9589490968801314,0.9589490968801314,0.9589490968801314,0.9589490968801314,0.9589490968801314,0.9589490968801314],\"type\":\"scatter\"},{\"marker\":{\"color\":\"#11efb7\",\"line\":{\"color\":\"black\",\"width\":1},\"size\":10,\"symbol\":\"circle-open\"},\"mode\":\"markers\",\"name\":\"distribution (AlphaFold)\",\"opacity\":0,\"showlegend\":false,\"x\":[0,1],\"y\":[0.9054726368159204,0.960580038166245],\"type\":\"scatter\"},{\"marker\":{\"color\":\"#11efb7\",\"line\":{\"color\":\"black\",\"width\":2},\"size\":10,\"symbol\":\"circle\"},\"mode\":\"markers\",\"name\":\"distribution (EM)\",\"opacity\":1,\"showlegend\":true,\"x\":[0.9245035113069753],\"y\":[0.9589490968801314],\"type\":\"scatter\"},{\"marker\":{\"color\":\"#ffb418\",\"line\":{\"color\":\"black\",\"width\":1},\"size\":10,\"symbol\":\"diamond-tall\"},\"mode\":\"markers\",\"name\":\"metabolism (X-ray)\",\"opacity\":1,\"showlegend\":true,\"x\":[2.0157703457279017,2.0989829772335677,3.114565538463056,4.089233488923316,3.942067211906714,3.9816070032075412,3.854902322761748,3.883822296384361,4.092690379534404,4.105484236898907,3.858154566155389,3.8537966448932974,3.9929607564418674,3.9838526980309044,4.066929064518698,3.980929382854571,3.937570721814948,3.810443711854817,4.170099293770329,3.9645757856055384,5.061950536751287,5.030559031093894,5.121756670351047,4.874128349982702,6.028135120460885,5.971552509097634,5.86608500244011,5.943008114898626,6.056586459481058,5.995175692911914,6.069213773077566,6.055558362978232,6.147183737238772,5.941894716360831,5.950985616366393,5.902896519474099,5.937237004430742,6.071244837973941,5.8800131471043136,6.018995163611208,6.079528809429369,6.1491877491454225,5.827953276264297,6.04298132807334,6.067285751836833,6.163376320853379,6.088428419333695,5.876536298134478,5.913450790760765,6.021691333470097,6.023285315427869,5.9005879038656595,5.9721038840039835,5.828744693721562,5.944154310961213,5.907275687722454,6.008222771907846,5.981406000957777,6.197735256110866,6.083686027670883,6.091124026904684,6.022239048968354,5.97962865907106,5.994075713683549,6.045286144242301,6.1693796185578345,6.093864568900953,5.947107481423999,6.032293703437149,6.013206076012609,6.067697860795825,6.004126940748567,5.934554195830412,6.181624025191392,6.107507702597248,6.076756758911237,7.072093736117255,6.93617055088972,6.976966708118288,7.178753874503118,6.931028195183522,7.1684329917462035,8.17003193636033,9.099705813398637,10.195159343768044,10.176995132657504,10.006967290398393,10.087017828118185,10.112817983318935,10.18840263858881,9.823709836184086,10.023503584751122,9.845949354799359,10.058336827579149,10.13541180541369,10.037691900214453,10.072945234750827,10.826891110077849,11.005727735274528,10.897408448992978,10.816958742552918,10.82877604600586,11.077780864678282,11.142517855939495,11.149868307316979,11.00157917387327,10.829788169862537,10.891897161923533,11.125136068551496,11.06007037458701,11.937548815885407,13.192364000226233,13.071712347100677,13.155984658359337,13.099454566998483,12.838924194787793,13.187195257387234,13.199223311664168,12.861564912742415,12.847729980364159,13.059315981024946,12.936563118798642,12.95009916895261,12.8660258917259,13.098190223684101,13.817340907523157,14.019090865293045,14.181743926412093,13.925319682647105,13.878886874311322,13.8346183748824,14.143066354174007,13.851460454352702,14.192866683047985,13.90054187494842,14.18360044899398,14.039563930113921,13.87959450874463,13.845313408389687,13.902030315670364,13.979084605876075,14.056074633794042,14.139627665569822,13.975801654641057,13.944181281909477,13.811525534479326,14.123431904542272,14.180333616884154,14.15279903856185,14.17093132987558,14.056956613346323,14.146974432429753,13.91092100657794,14.08871831608907,13.964380900940414,14.033045680857601,13.887821790596089,13.810414921084206,13.895391298214623,14.07706546318018,14.171771133735453,13.855228286602623,13.843790066738455,14.08070035338737,13.993462089377447,13.819901280702249,13.985784065753045,14.016658206494506,13.849761231180716,14.035413586307062,13.897651861002444,13.933558519317586,13.906857208786636,13.806303739661095,14.124427390299848,14.152296696741638,13.953627507869058,13.969232430338309,13.869886364021024,13.97899059801282,13.93577559581625,13.955736745925728,14.031492517688154,14.016136869794789,13.93582366577525,14.103594928491662,13.918843895488962,13.924358612366342,14.078254023475486,13.926086473828716,13.969537397549985,13.979596001946074,13.93824794583158,13.854885708877525,13.958503066025653,13.839575067522444,14.071459380297764,14.041729397747524,13.855021333483155,14.01163430597913,14.174039685803637,13.914813343639004,13.923832993026311,14.908652314458177,15.049753370152466,15.03577407874639,14.845150451570046,15.021350420186248,15.174846135099694,15.101695932450092,14.861705967870355,14.900096204634522,15.009226555926078,14.995735986900563,15.09249294490063,14.815737389453783,15.10270284834107,14.984239965277535,14.879472872931506,15.01022067830326,14.955676320218114,15.12180067176642,15.037785050493031,14.981429662014081,14.887631235540228,14.9820152203176,14.890446524018044,14.868063027918083,14.966260522909836,14.829113308404027,15.06304227650161,14.903277867830118,14.996653180016809,14.961944901339344,14.889044378304627,14.820315835758388,14.806053696868002,14.872619745756948,15.110648205719917,15.068150340412245,15.09482906718219,14.866844965218855,14.923578242848478,17.022676643818702,17.069730290061933,17.09810079172834,17.19080727176568,17.058204496959934,16.926928751539478,17.042106912114726,16.868767002602514,16.974603349098803,16.96630933905424,16.992018483037768,16.818716807215807,17.143669409559916,16.898446731537216,16.845590274906847,16.976869381001023,17.118428993400187,16.898440464444835,16.88325389285735,16.907026282110454,17.062286650900973,17.16698013284062,16.94526458709052,16.867253734514644,17.114658566358408,17.00286125458714,16.87346142941299,17.11376504587709,17.08198394104525,17.197163686222588,16.961917778997954,17.165898592282538,17.11117716159665,16.822605014084033,16.977646549729887,16.919896703801843,17.105501506837058,16.870412168319387,16.93412584307831,17.969623559658263,17.975260850008322,17.82815400201427,17.861688673539774,18.087246027931524,18.074112141343356,18.123151238750435,17.976218473017035,18.029755767360285,17.861069788311827,17.930377612488083,17.87795474374807,18.0766653077996,18.135899685687203,17.89528907485793,18.007387090569843,17.93983526108669,18.192242469758853,17.86837918386887,18.088261903831075,18.094843377968626,18.113894240116654,18.181649553021135,17.93137262280561,18.036024282677644,17.808750843976036,18.099664054617303,17.876245543268457,17.914343269780815,18.13054944519438,17.8575059174278,18.076000522396523,17.862644042569777,17.925646070125225,18.090486484011148,17.880517109290796,17.843583378927338,17.959473268218527,18.191680133456977,17.95572684409549,17.80706445263004,17.874274480179082,18.195602402617986,18.115404337209124,18.15320352134036,17.975045933165113,18.093829061480214,18.17697154326449,17.822393079811444,18.193083150548006,17.933860629388384,17.961906930333715,17.97023420992087,18.841196163623803,19.083022336813194,20.12430893630901,20.18494785429802,20.06829803002939,19.847049299184697,20.12773088036517,19.911149066847415,19.9166595516617,20.059436662008032,19.80001818354646,20.029922408687046,20.11302660695249,20.975449449466225,21.186259981903397],\"y\":[0.9946666666666667,0.9946666666666667,0.294811320754717,0.998003992015968,0.998003992015968,0.998003992015968,0.998003992015968,0.998003992015968,0.998003992015968,0.998003992015968,0.998003992015968,0.998003992015968,0.998003992015968,0.998003992015968,0.998003992015968,0.998003992015968,0.998003992015968,0.998003992015968,0.998003992015968,0.998003992015968,0.9981024667931688,0.9981024667931688,0.9715370018975332,0.9715370018975332,0.9961538461538462,0.9961538461538462,0.9961538461538462,0.9961538461538462,0.9961538461538462,0.9980769230769231,0.9980769230769231,0.9980769230769231,0.9980769230769231,0.9961538461538462,0.9961538461538462,0.9980769230769231,0.9961538461538462,0.9961538461538462,0.9961538461538462,0.9961538461538462,0.9961538461538462,0.9961538461538462,0.9961538461538462,0.9961538461538462,0.9961538461538462,0.9961538461538462,0.9961538461538462,0.9961538461538462,0.9961538461538462,0.9980769230769231,0.9980769230769231,0.9980769230769231,0.9980769230769231,0.9980769230769231,0.9980769230769231,0.9980769230769231,0.9980769230769231,0.9961538461538462,0.9980769230769231,0.9961538461538462,0.9980769230769231,0.9980769230769231,0.9980769230769231,0.9980769230769231,0.9980769230769231,0.9980769230769231,0.9980769230769231,0.9980769230769231,0.9980769230769231,0.9980769230769231,0.9961538461538462,0.9980769230769231,0.9980769230769231,0.9980769230769231,0.9980769230769231,0.9980769230769231,0.9992526158445441,0.9992526158445441,0.9992526158445441,0.9992526158445441,0.9992526158445441,0.9992526158445441,0.9758308157099698,0.9476744186046512,0.9389002036659878,0.945010183299389,0.945010183299389,0.945010183299389,0.945010183299389,0.945010183299389,0.945010183299389,0.9389002036659878,0.9592668024439919,0.9592668024439919,0.9592668024439919,0.9592668024439919,0.9592668024439919,0.9387755102040817,0.9387755102040817,0.963265306122449,0.9387755102040817,0.9510204081632653,0.9510204081632653,0.9510204081632653,0.9612244897959183,0.9612244897959183,0.9612244897959183,0.9408163265306122,0.9612244897959183,0.9510204081632653,0.9510204081632653,0.93158953722334,0.93158953722334,0.93158953722334,0.93158953722334,0.93158953722334,0.93158953722334,0.903420523138833,0.93158953722334,0.93158953722334,0.93158953722334,0.93158953722334,0.93158953722334,0.93158953722334,0.93158953722334,0.952286282306163,0.9502982107355865,0.9502982107355865,0.9502982107355865,0.9502982107355865,0.9502982107355865,0.9502982107355865,0.9542743538767395,0.9542743538767395,0.9542743538767395,0.9542743538767395,0.9542743538767395,0.9542743538767395,0.9542743538767395,0.9542743538767395,0.9542743538767395,0.9542743538767395,0.9542743538767395,0.9542743538767395,0.9542743538767395,0.9542743538767395,0.9502982107355865,0.9542743538767395,0.9542743538767395,0.9582504970178927,0.9542743538767395,0.9582504970178927,0.9582504970178927,0.9582504970178927,0.9582504970178927,0.9582504970178927,0.9582504970178927,0.9582504970178927,0.9582504970178927,0.9582504970178927,0.9582504970178927,0.9582504970178927,0.9582504970178927,0.9582504970178927,0.9582504970178927,0.9582504970178927,0.9582504970178927,0.9582504970178927,0.9582504970178927,0.9582504970178927,0.9582504970178927,0.9582504970178927,0.9582504970178927,0.9582504970178927,0.9582504970178927,0.9582504970178927,0.9582504970178927,0.9582504970178927,0.9582504970178927,0.9582504970178927,0.9542743538767395,0.9582504970178927,0.9582504970178927,0.9582504970178927,0.9582504970178927,0.9582504970178927,0.9582504970178927,0.9582504970178927,0.9582504970178927,0.9582504970178927,0.9582504970178927,0.9582504970178927,0.9582504970178927,0.9582504970178927,0.9582504970178927,0.9582504970178927,0.9582504970178927,0.9582504970178927,0.9582504970178927,0.9582504970178927,0.9582504970178927,0.9582504970178927,0.9582504970178927,0.9178082191780822,0.9178082191780822,0.8835616438356164,0.8938356164383562,0.9006849315068494,0.9143835616438356,0.9143835616438356,0.9178082191780822,0.9178082191780822,0.9178082191780822,0.9178082191780822,0.9178082191780822,0.9178082191780822,0.9143835616438356,0.9143835616438356,0.9178082191780822,0.9178082191780822,0.9178082191780822,0.9178082191780822,0.9178082191780822,0.9178082191780822,0.9178082191780822,0.9965753424657534,0.9965753424657534,0.9178082191780822,0.9178082191780822,0.9178082191780822,0.9178082191780822,0.9178082191780822,0.9178082191780822,0.9178082191780822,0.9178082191780822,0.9041095890410958,0.8835616438356164,0.9178082191780822,0.9178082191780822,0.9178082191780822,0.9178082191780822,0.9178082191780822,0.9178082191780822,0.990990990990991,0.990990990990991,0.990990990990991,0.990990990990991,0.990990990990991,0.990990990990991,0.990990990990991,0.02252252252252252,0.9954954954954955,0.9954954954954955,0.9954954954954955,0.9954954954954955,0.990990990990991,0.990990990990991,0.9954954954954955,0.9954954954954955,0.9954954954954955,0.9954954954954955,0.9954954954954955,0.9954954954954955,0.990990990990991,0.9954954954954955,0.990990990990991,0.9954954954954955,0.9954954954954955,0.9954954954954955,0.972972972972973,0.990990990990991,0.2702702702702703,0.2072072072072072,0.990990990990991,0.990990990990991,0.990990990990991,0.990990990990991,0.9954954954954955,0.9954954954954955,0.9954954954954955,0.9954954954954955,0.9954954954954955,0.7004608294930875,0.7004608294930875,0.7004608294930875,0.7004608294930875,0.6935483870967742,0.6728110599078341,0.7004608294930875,0.7004608294930875,0.7004608294930875,0.7004608294930875,0.7004608294930875,0.7004608294930875,0.6658986175115207,0.7004608294930875,0.7004608294930875,0.7004608294930875,0.7004608294930875,0.7004608294930875,0.7004608294930875,0.695852534562212,0.7004608294930875,0.7004608294930875,0.6820276497695853,0.7004608294930875,0.7027649769585254,0.7004608294930875,0.7004608294930875,0.6820276497695853,0.7027649769585254,0.7004608294930875,0.7004608294930875,0.7004608294930875,0.7004608294930875,0.7004608294930875,0.7004608294930875,0.7004608294930875,0.7004608294930875,0.7004608294930875,0.7004608294930875,0.7004608294930875,0.7004608294930875,0.7004608294930875,0.7004608294930875,0.7004608294930875,0.684331797235023,0.684331797235023,0.684331797235023,0.684331797235023,0.7004608294930875,0.7004608294930875,0.7004608294930875,0.7004608294930875,0.7004608294930875,0.7073863636363636,0.7073863636363636,0.9966101694915255,0.9966101694915255,0.9966101694915255,0.9966101694915255,0.9966101694915255,0.9932203389830508,0.9966101694915255,0.9966101694915255,0.9966101694915255,0.9966101694915255,0.9966101694915255,0.9984996249062266,0.9992498124531133],\"type\":\"scatter\"},{\"marker\":{\"color\":\"#ffb418\",\"line\":{\"color\":\"black\",\"width\":1},\"size\":10,\"symbol\":\"circle-open\"},\"mode\":\"markers\",\"name\":\"metabolism (AlphaFold)\",\"opacity\":0,\"showlegend\":false,\"x\":[2,3,4,5,6,7,8,9,10,11,12,13,14,15,16,17,18,19,20,21],\"y\":[0.9946666666666667,0.40448113207547176,0.9980039920159678,0.9848197343453511,0.9972263313609466,0.9992526158445438,0.9758308157099698,0.9476744186046512,0.9495535014883283,0.95149136577708,0.9510204081632653,0.9295774647887324,0.9565427945149612,0.9183219178082191,null,0.9293139293139294,0.6972437179375708,0.7073863636363636,0.9963020030816641,0.9988747186796699],\"type\":\"scatter\"},{\"marker\":{\"color\":\"#ffb418\",\"line\":{\"color\":\"black\",\"width\":2},\"size\":10,\"symbol\":\"circle\"},\"mode\":\"markers\",\"name\":\"metabolism (EM)\",\"opacity\":1,\"showlegend\":true,\"x\":[2.9597341907542893,4.084064578497806,4.03791425908669,3.920503158660433,6.812907139946511],\"y\":[0.5141509433962265,0.998003992015968,0.998003992015968,0.998003992015968,0.9992526158445441],\"type\":\"scatter\"},{\"marker\":{\"color\":\"#5e2bcb\",\"line\":{\"color\":\"black\",\"width\":1},\"size\":10,\"symbol\":\"diamond-tall\"},\"mode\":\"markers\",\"name\":\"toxicity (X-ray)\",\"opacity\":1,\"showlegend\":true,\"x\":[21.96521778680734,22.055036663946385,22.020752481156418,21.938679119552507,22.15163109546022,22.006645069359166,22.162167734336617,21.882414950570464,24.066332102290627,23.831206296794672,24.176770921768707,25.96727691948941,26.025950247900198,25.826916024470993,26.083945664380774,26.188949215146494,26.090099630116416,26.800584289903803,27.142452838534805,26.95479102784048,26.82313681298991,28.05665708525861,27.974679988922414,27.977346520409732,28.004651360340095,27.823322122474956,29.165779066626417,29.023641768993375,29.073101515258045,28.840113813998116,29.022850414774837,29.075948761160905,29.130167193401828,29.18650747320112,31.968807648391696,32.130559954429636,33.07522830064391,32.90771712510545,32.98672270499095,32.86574984977021,33.908059215360716,33.8933710574914,33.832808101139605,34.088855316362704,34.19346347756626,33.82781266249426,34.162436128805716,33.90082263175531,34.18427794432297,33.91759972606281,33.80546275692807,34.047172541070346,34.01222409807459,33.956523918680034,33.85594017841969,34.17649952491813,34.19307038345475,33.962280998720445,33.80734825090006,33.94766321417714,33.95645416407186,34.06412827495748,33.899136916689244,34.08796988828222,34.05151017080392,33.858028131439646,33.981574061898996,34.19569454083383,33.91226985598034,34.19253888876172,33.80714740346185,33.902847349976675,34.05834272142747,33.86898698657627,34.069214793637954,34.03083853430438,34.80281222528929,35.12416409451102,36.023838008007836,36.02484480118126,36.111138190739965,35.819001991166836,35.840029336188316,35.92023257595107,36.137514924682954,35.87329020519299,36.07427399700045,35.82704758073256,36.00655991847875,35.86075355052097,35.83847664534749,35.92645273316875,36.119564042871104,38.067087147095286,37.96925500004348,38.05176981670916,37.979414580617615,38.171060913028455,37.855382800163135,37.93583275381627,39.14033559776939,38.97322387332172,39.866573575940016,40.18716674942962,41.0459299961104,41.963520302205694,42.103305263135404,42.102538133332544,41.868054307083284,45.06082551914666,45.0733378923695,44.94894361236681,45.16471275687028,45.120606503356996,45.175344419665706,44.85050293992238,45.00535974217626,45.17856242207287,44.874800502512215,44.96131754728673,44.86780838096809,46.16479516773898,46.144745870512814,46.16476039663466,45.979469581718384,46.057691032511535,46.05675919421913],\"y\":[0.31496881496881496,0.31496881496881496,0.31496881496881496,0.30561330561330563,0.31392931392931395,0.31496881496881496,0.31496881496881496,0.31392931392931395,0.0297029702970297,0.0297029702970297,0.0297029702970297,0.4063745019920319,0.4063745019920319,0.4063745019920319,0.4063745019920319,0.4063745019920319,0.4063745019920319,0.4405010438413361,0.4405010438413361,0.4405010438413361,0.4405010438413361,0.34891304347826085,0.34891304347826085,0.29891304347826086,0.29891304347826086,0.29891304347826086,0.3272532188841202,0.9978540772532188,0.9978540772532188,0.9785407725321889,0.9785407725321889,0.9785407725321889,0.9785407725321889,0.9785407725321889,0.9139784946236559,0.9139784946236559,0.7232704402515723,0.7232704402515723,0.7232704402515723,0.7232704402515723,0.009685230024213076,0.8813559322033898,0.8256658595641646,0.400726392251816,0.3801452784503632,0.8789346246973365,0.3801452784503632,0.3801452784503632,0.3801452784503632,0.400726392251816,0.3498789346246973,0.8135593220338984,0.8135593220338984,0.7723970944309927,0.7723970944309927,0.7723970944309927,0.7723970944309927,0.400726392251816,0.400726392251816,0.3910411622276029,0.7699757869249395,0.39951573849878935,0.39709443099273606,0.8135593220338984,0.7723970944309927,0.39951573849878935,0.3789346246973366,0.3789346246973366,0.3789346246973366,0.3789346246973366,0.3789346246973366,0.3789346246973366,0.3789346246973366,0.3789346246973366,0.7723970944309927,0.7723970944309927,0.9028697571743929,0.9161147902869757,0.00765420981539847,0.014858171994597028,0.009004952723998198,0.009004952723998198,0.03286807744259343,0.034218820351193155,0.00810445745159838,0.00810445745159838,0.014858171994597028,0.014858171994597028,0.014858171994597028,0.014858171994597028,0.014858171994597028,0.014858171994597028,0.014858171994597028,0.3061440677966102,0.3167372881355932,0.3061440677966102,0.3061440677966102,0.3029661016949153,0.3305084745762712,0.298728813559322,0.4041666666666667,0.4041666666666667,0.13157894736842105,0.13157894736842105,0.29055441478439425,0.09404659188955997,0.10785159620362382,0.11561691113028473,0.11216566005176877,0.8603174603174604,0.8603174603174604,0.8603174603174604,0.8603174603174604,0.8603174603174604,0.8603174603174604,0.8603174603174604,0.8603174603174604,0.8603174603174604,0.8603174603174604,0.8603174603174604,0.8603174603174604,0.08283730158730158,0.015376984126984126,0.08283730158730158,0.07738095238095238,0.022817460317460316,0.06746031746031746],\"type\":\"scatter\"},{\"marker\":{\"color\":\"#5e2bcb\",\"line\":{\"color\":\"black\",\"width\":1},\"size\":10,\"symbol\":\"circle-open\"},\"mode\":\"markers\",\"name\":\"toxicity (AlphaFold)\",\"opacity\":0,\"showlegend\":false,\"x\":[22,23,24,25,26,27,28,29,30,31,32,33,34,35,36,37,38,39,40,41,42,43,44,45,46],\"y\":[0.4484029484029484,null,0.18297029702970297,null,0.5399578157956411,0.4405010438413361,0.4317028985507246,0.7574340895156348,0.9220338983050848,0.7188841201716738,0.8700119474313023,0.7232704402515723,0.5635881471232561,0.9094922737306843,0.09931933151468601,0.9983277591973245,0.5373651771956857,0.842013888888889,0.5310798548094374,0.6442505133470227,0.4895846172809072,null,null,0.8725455614344504,0.29346478174603174],\"type\":\"scatter\"},{\"marker\":{\"color\":\"#5e2bcb\",\"line\":{\"color\":\"black\",\"width\":2},\"size\":10,\"symbol\":\"circle\"},\"mode\":\"markers\",\"name\":\"toxicity (EM)\",\"opacity\":1,\"showlegend\":true,\"x\":[21.813864180748766,21.92188118416276,21.937171263856598,23.968682181069227,24.182228997007194,25.999069779115104,25.906412993020183,25.855657372049915,25.965936690049638,26.065741697739977,25.809141871727427,25.907506856687583,25.8947813678579,25.89612174937129,25.95330630879868,25.828370667347862,28.04932940604158,28.91695046784645,29.02851358510513,28.86322614063315,29.00591451198071,28.90055765522524,28.98264824283905,30.045743360958674,30.041074774960872,29.830139546728358,29.963388990482937,31.17396560161625,30.81571378640819,32.09805437449944,32.03140347800647,32.14392590059361,32.03028168111964,31.92006467691231,32.01604711887496,32.190896594369946,34.06851752976472,34.191651284468264,34.11722668366937,34.148876842820265,33.9670970483128,33.93438502266143,35.8647403550611,36.002918312021954,37.12847683142128,37.011578221293846,36.948392418089504,37.08442283459722,37.18130138753811,38.172639441701854,37.831359824030784,38.00540755714684,37.9200441613623,39.14959728740817,38.82549502799552,39.06820380216467,39.07299851814134,38.80292482840267,38.82323507501716,39.98151022308805,39.895532419763605,40.181223328846855,39.83001201196413,40.098406740332265,39.8109932732663,40.04062676022343,40.06824620116784,39.840819783532766,40.07842723278524,40.07692700171708,40.057436118914616,40.07536507868005,40.15142981539505,39.95943836243238,40.04502780048075,40.1946291149767,40.085386781324395,40.09395537975185,39.87060825638185,39.96015905689696,40.17312679454035,39.9573539794411,40.10244163504838,39.82216455822784,39.89337562503897,39.85153999650176,41.04756256093125,42.01649000041578,42.04805115361537,42.00722392728185,45.175776148577,44.94968808139621,44.92423567729467,44.998598205447394,45.158949556060875,44.89064651058535,45.15891708966926,45.16276948404744,45.137841471524084,45.022454223461004,45.038196901485186,45.164101173731176,44.96541055601927,45.181654781404056,45.06655678546792,46.047806717173785,45.98242597855963],\"y\":[0.7671517671517671,0.7671517671517671,0.8898128898128899,0.41287128712871285,0.41287128712871285,0.99800796812749,0.99800796812749,0.99800796812749,0.4402390438247012,0.4402390438247012,0.4402390438247012,0.36852589641434264,0.952191235059761,0.36852589641434264,0.36852589641434264,0.36852589641434264,0.9956521739130435,0.9935622317596566,0.9957081545064378,0.3497854077253219,0.3497854077253219,0.3497854077253219,0.3497854077253219,0.9220338983050848,0.9220338983050848,0.9220338983050848,0.9220338983050848,0.7188841201716738,0.7188841201716738,0.015053763440860216,0.9978494623655914,0.9978494623655914,0.9978494623655914,0.9978494623655914,0.9978494623655914,0.9978494623655914,0.7554479418886199,0.8401937046004843,0.8401937046004843,0.8401937046004843,0.3365617433414044,0.7530266343825666,0.6974335884736605,0.7631697433588474,0.9983277591973244,0.9983277591973244,0.9983277591973244,0.9983277591973244,0.9983277591973244,0.75,0.9978813559322034,0.9978813559322034,0.9978813559322034,0.9972222222222222,0.9972222222222222,0.9972222222222222,0.9972222222222222,0.9972222222222222,0.9416666666666667,0.3826754385964912,0.3826754385964912,0.9385964912280702,0.9978070175438597,0.9978070175438597,0.9978070175438597,0.9978070175438597,0.9978070175438597,0.3826754385964912,0.3815789473684211,0.3815789473684211,0.3826754385964912,0.3826754385964912,0.3826754385964912,0.3826754385964912,0.3826754385964912,0.3782894736842105,0.3782894736842105,0.3782894736842105,0.9978070175438597,0.3706140350877193,0.3706140350877193,0.6820175438596491,0.6820175438596491,0.3826754385964912,0.3826754385964912,0.3826754385964912,0.997946611909651,0.999137187230371,0.999137187230371,0.999137187230371,0.8507936507936508,0.8507936507936508,0.8507936507936508,0.8555555555555555,0.9984126984126984,0.9984126984126984,0.9984126984126984,0.8539682539682539,0.8507936507936508,0.8539682539682539,0.8539682539682539,0.8539682539682539,0.8571428571428571,0.8507936507936508,0.8571428571428571,0.9995039682539683,0.9995039682539683],\"type\":\"scatter\"},{\"marker\":{\"color\":\"#d07c09\",\"line\":{\"color\":\"black\",\"width\":1},\"size\":10,\"symbol\":\"diamond-tall\"},\"mode\":\"markers\",\"name\":\"transporters (X-ray)\",\"opacity\":1,\"showlegend\":true,\"x\":[50.07030442373468,49.95820349904716],\"y\":[0.1495754408883083,0.16525146962769433],\"type\":\"scatter\"},{\"marker\":{\"color\":\"#d07c09\",\"line\":{\"color\":\"black\",\"width\":1},\"size\":10,\"symbol\":\"circle-open\"},\"mode\":\"markers\",\"name\":\"transporters (AlphaFold)\",\"opacity\":0,\"showlegend\":false,\"x\":[47,48,49,50,51,52,53,54,55,56],\"y\":[0.9863739591218774,0.9979007633587788,0.9966406250000002,0.15741345525800132,0.998587570621469,null,null,null,0.9985528219971055,0.9985754985754985],\"type\":\"scatter\"},{\"marker\":{\"color\":\"#d07c09\",\"line\":{\"color\":\"black\",\"width\":2},\"size\":10,\"symbol\":\"circle\"},\"mode\":\"markers\",\"name\":\"transporters (EM)\",\"opacity\":1,\"showlegend\":true,\"x\":[47.118166801161344,47.10641885138579,47.04973698339921,48.04498249501111,48.19392498075944,48.0283685524042,47.871994230916336,48.04976958323314,47.81118482001984,48.141718127088794,48.00451266314382,48.14975734601564,48.00526920883536,48.107038128551714,48.071398138076596,47.85871683012528,48.08921786189658,48.11669807102675,48.07833151871349,47.9024208584416,47.93156643463201,47.97761466192836,48.0231704574904,47.87720309674601,47.80199309189598,47.85503363135619,48.10841387811147,48.984668712021815,49.16186631076512,49.10655663130235,48.8496165266408,49.087190062721994,49.00988087170404,49.10768385209403,48.86266167623805,48.91742039159954,48.90214855658229,51.12757030987719,50.858777107558936,51.0500185897912,54.988809257215884,54.95580107993157,55.121891137672016,54.838651328009675,55.1525051540723,54.93233434363199,55.96116174834259],\"y\":[0.9992429977289932,0.9606358819076457,0.9992429977289932,0.9969465648854962,0.9969465648854962,0.9984732824427481,0.9984732824427481,0.9969465648854962,0.9984732824427481,0.9969465648854962,0.9984732824427481,0.9984732824427481,0.9984732824427481,0.9984732824427481,0.9984732824427481,0.9984732824427481,0.9984732824427481,0.9984732824427481,0.9984732824427481,0.9969465648854962,0.9969465648854962,0.9969465648854962,0.9969465648854962,0.9969465648854962,0.9984732824427481,0.9984732824427481,0.9984732824427481,0.99921875,0.97421875,0.9984375,0.99921875,0.99921875,0.99921875,0.99921875,0.99921875,0.99921875,0.99921875,0.998587570621469,0.998587570621469,0.998587570621469,0.9985528219971056,0.9985528219971056,0.9985528219971056,0.9985528219971056,0.9985528219971056,0.9985528219971056,0.9985754985754985],\"type\":\"scatter\"}],                        {\"height\":600,\"template\":{\"data\":{\"barpolar\":[{\"marker\":{\"line\":{\"color\":\"white\",\"width\":0.5},\"pattern\":{\"fillmode\":\"overlay\",\"size\":10,\"solidity\":0.2}},\"type\":\"barpolar\"}],\"bar\":[{\"error_x\":{\"color\":\"rgb(36,36,36)\"},\"error_y\":{\"color\":\"rgb(36,36,36)\"},\"marker\":{\"line\":{\"color\":\"white\",\"width\":0.5},\"pattern\":{\"fillmode\":\"overlay\",\"size\":10,\"solidity\":0.2}},\"type\":\"bar\"}],\"carpet\":[{\"aaxis\":{\"endlinecolor\":\"rgb(36,36,36)\",\"gridcolor\":\"white\",\"linecolor\":\"white\",\"minorgridcolor\":\"white\",\"startlinecolor\":\"rgb(36,36,36)\"},\"baxis\":{\"endlinecolor\":\"rgb(36,36,36)\",\"gridcolor\":\"white\",\"linecolor\":\"white\",\"minorgridcolor\":\"white\",\"startlinecolor\":\"rgb(36,36,36)\"},\"type\":\"carpet\"}],\"choropleth\":[{\"colorbar\":{\"outlinewidth\":1,\"tickcolor\":\"rgb(36,36,36)\",\"ticks\":\"outside\"},\"type\":\"choropleth\"}],\"contourcarpet\":[{\"colorbar\":{\"outlinewidth\":1,\"tickcolor\":\"rgb(36,36,36)\",\"ticks\":\"outside\"},\"type\":\"contourcarpet\"}],\"contour\":[{\"colorbar\":{\"outlinewidth\":1,\"tickcolor\":\"rgb(36,36,36)\",\"ticks\":\"outside\"},\"colorscale\":[[0.0,\"#440154\"],[0.1111111111111111,\"#482878\"],[0.2222222222222222,\"#3e4989\"],[0.3333333333333333,\"#31688e\"],[0.4444444444444444,\"#26828e\"],[0.5555555555555556,\"#1f9e89\"],[0.6666666666666666,\"#35b779\"],[0.7777777777777778,\"#6ece58\"],[0.8888888888888888,\"#b5de2b\"],[1.0,\"#fde725\"]],\"type\":\"contour\"}],\"heatmapgl\":[{\"colorbar\":{\"outlinewidth\":1,\"tickcolor\":\"rgb(36,36,36)\",\"ticks\":\"outside\"},\"colorscale\":[[0.0,\"#440154\"],[0.1111111111111111,\"#482878\"],[0.2222222222222222,\"#3e4989\"],[0.3333333333333333,\"#31688e\"],[0.4444444444444444,\"#26828e\"],[0.5555555555555556,\"#1f9e89\"],[0.6666666666666666,\"#35b779\"],[0.7777777777777778,\"#6ece58\"],[0.8888888888888888,\"#b5de2b\"],[1.0,\"#fde725\"]],\"type\":\"heatmapgl\"}],\"heatmap\":[{\"colorbar\":{\"outlinewidth\":1,\"tickcolor\":\"rgb(36,36,36)\",\"ticks\":\"outside\"},\"colorscale\":[[0.0,\"#440154\"],[0.1111111111111111,\"#482878\"],[0.2222222222222222,\"#3e4989\"],[0.3333333333333333,\"#31688e\"],[0.4444444444444444,\"#26828e\"],[0.5555555555555556,\"#1f9e89\"],[0.6666666666666666,\"#35b779\"],[0.7777777777777778,\"#6ece58\"],[0.8888888888888888,\"#b5de2b\"],[1.0,\"#fde725\"]],\"type\":\"heatmap\"}],\"histogram2dcontour\":[{\"colorbar\":{\"outlinewidth\":1,\"tickcolor\":\"rgb(36,36,36)\",\"ticks\":\"outside\"},\"colorscale\":[[0.0,\"#440154\"],[0.1111111111111111,\"#482878\"],[0.2222222222222222,\"#3e4989\"],[0.3333333333333333,\"#31688e\"],[0.4444444444444444,\"#26828e\"],[0.5555555555555556,\"#1f9e89\"],[0.6666666666666666,\"#35b779\"],[0.7777777777777778,\"#6ece58\"],[0.8888888888888888,\"#b5de2b\"],[1.0,\"#fde725\"]],\"type\":\"histogram2dcontour\"}],\"histogram2d\":[{\"colorbar\":{\"outlinewidth\":1,\"tickcolor\":\"rgb(36,36,36)\",\"ticks\":\"outside\"},\"colorscale\":[[0.0,\"#440154\"],[0.1111111111111111,\"#482878\"],[0.2222222222222222,\"#3e4989\"],[0.3333333333333333,\"#31688e\"],[0.4444444444444444,\"#26828e\"],[0.5555555555555556,\"#1f9e89\"],[0.6666666666666666,\"#35b779\"],[0.7777777777777778,\"#6ece58\"],[0.8888888888888888,\"#b5de2b\"],[1.0,\"#fde725\"]],\"type\":\"histogram2d\"}],\"histogram\":[{\"marker\":{\"line\":{\"color\":\"white\",\"width\":0.6}},\"type\":\"histogram\"}],\"mesh3d\":[{\"colorbar\":{\"outlinewidth\":1,\"tickcolor\":\"rgb(36,36,36)\",\"ticks\":\"outside\"},\"type\":\"mesh3d\"}],\"parcoords\":[{\"line\":{\"colorbar\":{\"outlinewidth\":1,\"tickcolor\":\"rgb(36,36,36)\",\"ticks\":\"outside\"}},\"type\":\"parcoords\"}],\"pie\":[{\"automargin\":true,\"type\":\"pie\"}],\"scatter3d\":[{\"line\":{\"colorbar\":{\"outlinewidth\":1,\"tickcolor\":\"rgb(36,36,36)\",\"ticks\":\"outside\"}},\"marker\":{\"colorbar\":{\"outlinewidth\":1,\"tickcolor\":\"rgb(36,36,36)\",\"ticks\":\"outside\"}},\"type\":\"scatter3d\"}],\"scattercarpet\":[{\"marker\":{\"colorbar\":{\"outlinewidth\":1,\"tickcolor\":\"rgb(36,36,36)\",\"ticks\":\"outside\"}},\"type\":\"scattercarpet\"}],\"scattergeo\":[{\"marker\":{\"colorbar\":{\"outlinewidth\":1,\"tickcolor\":\"rgb(36,36,36)\",\"ticks\":\"outside\"}},\"type\":\"scattergeo\"}],\"scattergl\":[{\"marker\":{\"colorbar\":{\"outlinewidth\":1,\"tickcolor\":\"rgb(36,36,36)\",\"ticks\":\"outside\"}},\"type\":\"scattergl\"}],\"scattermapbox\":[{\"marker\":{\"colorbar\":{\"outlinewidth\":1,\"tickcolor\":\"rgb(36,36,36)\",\"ticks\":\"outside\"}},\"type\":\"scattermapbox\"}],\"scatterpolargl\":[{\"marker\":{\"colorbar\":{\"outlinewidth\":1,\"tickcolor\":\"rgb(36,36,36)\",\"ticks\":\"outside\"}},\"type\":\"scatterpolargl\"}],\"scatterpolar\":[{\"marker\":{\"colorbar\":{\"outlinewidth\":1,\"tickcolor\":\"rgb(36,36,36)\",\"ticks\":\"outside\"}},\"type\":\"scatterpolar\"}],\"scatter\":[{\"fillpattern\":{\"fillmode\":\"overlay\",\"size\":10,\"solidity\":0.2},\"type\":\"scatter\"}],\"scatterternary\":[{\"marker\":{\"colorbar\":{\"outlinewidth\":1,\"tickcolor\":\"rgb(36,36,36)\",\"ticks\":\"outside\"}},\"type\":\"scatterternary\"}],\"surface\":[{\"colorbar\":{\"outlinewidth\":1,\"tickcolor\":\"rgb(36,36,36)\",\"ticks\":\"outside\"},\"colorscale\":[[0.0,\"#440154\"],[0.1111111111111111,\"#482878\"],[0.2222222222222222,\"#3e4989\"],[0.3333333333333333,\"#31688e\"],[0.4444444444444444,\"#26828e\"],[0.5555555555555556,\"#1f9e89\"],[0.6666666666666666,\"#35b779\"],[0.7777777777777778,\"#6ece58\"],[0.8888888888888888,\"#b5de2b\"],[1.0,\"#fde725\"]],\"type\":\"surface\"}],\"table\":[{\"cells\":{\"fill\":{\"color\":\"rgb(237,237,237)\"},\"line\":{\"color\":\"white\"}},\"header\":{\"fill\":{\"color\":\"rgb(217,217,217)\"},\"line\":{\"color\":\"white\"}},\"type\":\"table\"}]},\"layout\":{\"annotationdefaults\":{\"arrowhead\":0,\"arrowwidth\":1},\"autotypenumbers\":\"strict\",\"coloraxis\":{\"colorbar\":{\"outlinewidth\":1,\"tickcolor\":\"rgb(36,36,36)\",\"ticks\":\"outside\"}},\"colorscale\":{\"diverging\":[[0.0,\"rgb(103,0,31)\"],[0.1,\"rgb(178,24,43)\"],[0.2,\"rgb(214,96,77)\"],[0.3,\"rgb(244,165,130)\"],[0.4,\"rgb(253,219,199)\"],[0.5,\"rgb(247,247,247)\"],[0.6,\"rgb(209,229,240)\"],[0.7,\"rgb(146,197,222)\"],[0.8,\"rgb(67,147,195)\"],[0.9,\"rgb(33,102,172)\"],[1.0,\"rgb(5,48,97)\"]],\"sequential\":[[0.0,\"#440154\"],[0.1111111111111111,\"#482878\"],[0.2222222222222222,\"#3e4989\"],[0.3333333333333333,\"#31688e\"],[0.4444444444444444,\"#26828e\"],[0.5555555555555556,\"#1f9e89\"],[0.6666666666666666,\"#35b779\"],[0.7777777777777778,\"#6ece58\"],[0.8888888888888888,\"#b5de2b\"],[1.0,\"#fde725\"]],\"sequentialminus\":[[0.0,\"#440154\"],[0.1111111111111111,\"#482878\"],[0.2222222222222222,\"#3e4989\"],[0.3333333333333333,\"#31688e\"],[0.4444444444444444,\"#26828e\"],[0.5555555555555556,\"#1f9e89\"],[0.6666666666666666,\"#35b779\"],[0.7777777777777778,\"#6ece58\"],[0.8888888888888888,\"#b5de2b\"],[1.0,\"#fde725\"]]},\"colorway\":[\"#1F77B4\",\"#FF7F0E\",\"#2CA02C\",\"#D62728\",\"#9467BD\",\"#8C564B\",\"#E377C2\",\"#7F7F7F\",\"#BCBD22\",\"#17BECF\"],\"font\":{\"color\":\"rgb(36,36,36)\"},\"geo\":{\"bgcolor\":\"white\",\"lakecolor\":\"white\",\"landcolor\":\"white\",\"showlakes\":true,\"showland\":true,\"subunitcolor\":\"white\"},\"hoverlabel\":{\"align\":\"left\"},\"hovermode\":\"closest\",\"mapbox\":{\"style\":\"light\"},\"paper_bgcolor\":\"white\",\"plot_bgcolor\":\"white\",\"polar\":{\"angularaxis\":{\"gridcolor\":\"rgb(232,232,232)\",\"linecolor\":\"rgb(36,36,36)\",\"showgrid\":false,\"showline\":true,\"ticks\":\"outside\"},\"bgcolor\":\"white\",\"radialaxis\":{\"gridcolor\":\"rgb(232,232,232)\",\"linecolor\":\"rgb(36,36,36)\",\"showgrid\":false,\"showline\":true,\"ticks\":\"outside\"}},\"scene\":{\"xaxis\":{\"backgroundcolor\":\"white\",\"gridcolor\":\"rgb(232,232,232)\",\"gridwidth\":2,\"linecolor\":\"rgb(36,36,36)\",\"showbackground\":true,\"showgrid\":false,\"showline\":true,\"ticks\":\"outside\",\"zeroline\":false,\"zerolinecolor\":\"rgb(36,36,36)\"},\"yaxis\":{\"backgroundcolor\":\"white\",\"gridcolor\":\"rgb(232,232,232)\",\"gridwidth\":2,\"linecolor\":\"rgb(36,36,36)\",\"showbackground\":true,\"showgrid\":false,\"showline\":true,\"ticks\":\"outside\",\"zeroline\":false,\"zerolinecolor\":\"rgb(36,36,36)\"},\"zaxis\":{\"backgroundcolor\":\"white\",\"gridcolor\":\"rgb(232,232,232)\",\"gridwidth\":2,\"linecolor\":\"rgb(36,36,36)\",\"showbackground\":true,\"showgrid\":false,\"showline\":true,\"ticks\":\"outside\",\"zeroline\":false,\"zerolinecolor\":\"rgb(36,36,36)\"}},\"shapedefaults\":{\"fillcolor\":\"black\",\"line\":{\"width\":0},\"opacity\":0.3},\"ternary\":{\"aaxis\":{\"gridcolor\":\"rgb(232,232,232)\",\"linecolor\":\"rgb(36,36,36)\",\"showgrid\":false,\"showline\":true,\"ticks\":\"outside\"},\"baxis\":{\"gridcolor\":\"rgb(232,232,232)\",\"linecolor\":\"rgb(36,36,36)\",\"showgrid\":false,\"showline\":true,\"ticks\":\"outside\"},\"bgcolor\":\"white\",\"caxis\":{\"gridcolor\":\"rgb(232,232,232)\",\"linecolor\":\"rgb(36,36,36)\",\"showgrid\":false,\"showline\":true,\"ticks\":\"outside\"}},\"title\":{\"x\":0.05},\"xaxis\":{\"automargin\":true,\"gridcolor\":\"rgb(232,232,232)\",\"linecolor\":\"rgb(36,36,36)\",\"showgrid\":false,\"showline\":true,\"ticks\":\"outside\",\"title\":{\"standoff\":15},\"zeroline\":false,\"zerolinecolor\":\"rgb(36,36,36)\"},\"yaxis\":{\"automargin\":true,\"gridcolor\":\"rgb(232,232,232)\",\"linecolor\":\"rgb(36,36,36)\",\"showgrid\":false,\"showline\":true,\"ticks\":\"outside\",\"title\":{\"standoff\":15},\"zeroline\":false,\"zerolinecolor\":\"rgb(36,36,36)\"}}},\"title\":{\"text\":\"Analysis of Experimental Structure Quality for ADMET Targets\"},\"width\":1600,\"xaxis\":{\"range\":[-0.5,57.5],\"ticktext\":[\"A1AG1 (P02763)\",\"ALBU (P02768)\",\"ADH1A (P07327)\",\"AHR (P35869)\",\"AL1A1 (P00352)\",\"AOFA (P21397)\",\"AOFB (P27338)\",\"AOXA (Q06278)\",\"ARK73 (O95154)\",\"CP1A2 (P05177)\",\"CP2B6 (P20813)\",\"CP2C9 (P11712)\",\"CP2CJ (P33261)\",\"CP2D6 (P10635)\",\"CP3A4 (P08684)\",\"DHI1 (P28845)\",\"FMO1 (Q01740)\",\"GSTA1 (P08263)\",\"NR1I2 (O75469)\",\"NR1I3 (Q14994)\",\"ST1A1 (P50225)\",\"XDH (P47989)\",\"5HT2B (P41595)\",\"ACH10 (Q9GZZ6)\",\"ACHA3 (P32297)\",\"ACHA5 (P30532)\",\"ACHA7 (P36544)\",\"ACHA9 (Q9UGM1)\",\"ACM1 (P11229)\",\"ACM2 (P08172)\",\"ACM3 (P20309)\",\"ADA1A (P35348)\",\"ADA2A (P08913)\",\"ADRB1 (P08588)\",\"ADRB2 (P07550)\",\"ASM3A (Q92484)\",\"CAC1C (Q13936)\",\"CACB1 (Q02641)\",\"CNR1 (P21554)\",\"CNR2 (P34972)\",\"GBRA1 (P14867)\",\"HRH1 (P35367)\",\"KCNH2 (Q12809)\",\"SC6A2 (P23975)\",\"SC6A3 (Q01959)\",\"SC6A4 (P31645)\",\"SCN5A (Q14524)\",\"ABCBB (O95342)\",\"ABCG2 (Q9UNQ0)\",\"MDR1 (P08183)\",\"MRP1 (P33527)\",\"S15A1 (P46059)\",\"S22A6 (Q4U2R8)\",\"S22A8 (Q8TCC7)\",\"S47A1 (Q96FL8)\",\"SO1B1 (Q9Y6L6)\",\"SO1B3 (Q9NPD5)\"],\"tickvals\":[0,1,2,3,4,5,6,7,8,9,10,11,12,13,14,15,16,17,18,19,20,21,22,23,24,25,26,27,28,29,30,31,32,33,34,35,36,37,38,39,40,41,42,43,44,45,46,47,48,49,50,51,52,53,54,55,56],\"title\":{\"text\":\"Protein Name (Uniprot ID)\"}},\"yaxis\":{\"title\":{\"text\":\"Sequence Coverage\"}}},                        {\"responsive\": true}                    ).then(function(){\n                            \nvar gd = document.getElementById('93a65194-5444-4f47-967e-37ed03b2c1a3');\nvar x = new MutationObserver(function (mutations, observer) {{\n        var display = window.getComputedStyle(gd).display;\n        if (!display || display === 'none') {{\n            console.log([gd, 'removed!']);\n            Plotly.purge(gd);\n            observer.disconnect();\n        }}\n}});\n\n// Listen for the removal of the full notebook cells\nvar notebookContainer = gd.closest('#notebook-container');\nif (notebookContainer) {{\n    x.observe(notebookContainer, {childList: true});\n}}\n\n// Listen for the clearing of the current output cell\nvar outputEl = gd.closest('.output');\nif (outputEl) {{\n    x.observe(outputEl, {childList: true});\n}}\n\n                        })                };                });            </script>        </div>"
     },
     "metadata": {},
     "output_type": "display_data"
    }
   ],
   "source": [
    "# Create traces for each unique value in 'Method'\n",
    "coverage_traces = []\n",
    "\n",
    "for category in category_list:\n",
    "    for method in df['Method'].unique():\n",
    "        df_subset = df[(df['Method'] == method) & (df['Category'] == category)]\n",
    "        \n",
    "        # marker_size = df_subset[\"Average Sequence Coverage\"].apply(lambda x: x * 16 if not np.isnan(x) else 10)\n",
    "        \n",
    "        # Add random jitter to the x-axis values\n",
    "        if method == 'AlphaFold':\n",
    "            x_values = [protein_name_mapping[name] for name in df_subset['Protein Name']]\n",
    "        else:\n",
    "            jitter = np.random.uniform(low=-jitter_amount, high=jitter_amount, size=len(df_subset))\n",
    "            x_values = [protein_name_mapping[name] + jitter[i] for i, name in enumerate(df_subset['Protein Name'])]\n",
    "        trace = go.Scatter(\n",
    "            x=x_values,\n",
    "            y=df_subset['Sequence Coverage'],\n",
    "            mode='markers',\n",
    "            name=f\"{category} ({method})\",\n",
    "            marker=dict(size=10, color=colors[category], symbol=symbols[method], line_width=2 if method==\"EM\" else 1, line_color='black'),\n",
    "            showlegend=False if method == 'AlphaFold' else True,\n",
    "            opacity=0 if method == 'AlphaFold' else 1,\n",
    "        )\n",
    "        coverage_traces.append(trace)\n",
    "\n",
    "# Create layout\n",
    "layout = go.Layout(\n",
    "    title=\"Analysis of Experimental Structure Quality for ADMET Targets\",\n",
    "    xaxis=dict(title='Protein Name (Uniprot ID)',\n",
    "               range=[-0.5, len(protein_name_mapping) + 0.5],\n",
    "               tickvals=list(protein_name_mapping.values()), \n",
    "               ticktext=protein_names),\n",
    "    yaxis=dict(title='Sequence Coverage'),\n",
    "    template='simple_white',\n",
    "    width=1600,\n",
    "    height=600\n",
    ")\n",
    "\n",
    "# Create figure\n",
    "fig = go.Figure(data=coverage_traces, layout=layout)\n",
    "\n",
    "# Show plot\n",
    "fig.show()"
   ],
   "metadata": {
    "collapsed": false,
    "ExecuteTime": {
     "end_time": "2024-02-22T16:42:26.781702Z",
     "start_time": "2024-02-22T16:42:25.351667Z"
    }
   },
   "id": "9ef46f9e1076268c",
   "execution_count": 91
  },
  {
   "cell_type": "markdown",
   "source": [
    "# Make Combined Figure"
   ],
   "metadata": {
    "collapsed": false
   },
   "id": "e765125348ed1de2"
  },
  {
   "cell_type": "code",
   "outputs": [],
   "source": [
    "# Create traces for each unique value in 'Method'\n",
    "coverage_traces = []\n",
    "resolution_traces = []\n",
    "confidence_trace = []\n",
    "for category in category_list:\n",
    "    for method in df['Method'].unique():\n",
    "        df_subset = df[(df['Method'] == method) & (df['Category'] == category)]\n",
    "        \n",
    "        # marker_size = df_subset[\"Average Sequence Coverage\"].apply(lambda x: x * 16 if not np.isnan(x) else 10)\n",
    "        \n",
    "        # Add random jitter to the x-axis values\n",
    "        if method == 'AlphaFold':\n",
    "            x_values = [protein_name_mapping[name] for name in df_subset['Protein Name']]\n",
    "            af_confidence = [confidence_dict[uniprot_to_name[uniprot]] for uniprot in df_subset['Uniprot ID']]\n",
    "        else:\n",
    "            jitter = np.random.uniform(low=-jitter_amount, high=jitter_amount, size=len(df_subset))\n",
    "            x_values = [protein_name_mapping[name] + jitter[i] for i, name in enumerate(df_subset['Protein Name'])]\n",
    "        \n",
    "        name = f\"{category} ({method})\"\n",
    "        marker_dict = dict(size=10, color=colors[category], symbol=symbols[method], line_width=2 if method==\"EM\" else 1, line_color='black')\n",
    "        if not method == 'AlphaFold':\n",
    "            trace = go.Scatter(\n",
    "                x=x_values,\n",
    "                y=df_subset['Resolution (A)'],\n",
    "                mode='markers',\n",
    "                name=category,\n",
    "                marker=marker_dict,\n",
    "                showlegend=True if method == 'X-ray' else False,\n",
    "                opacity=1,\n",
    "                legendgroup=category,\n",
    "                legendgrouptitle=dict(text=\"ADMET Category (Color)\") if category == category_list[0] else None,\n",
    "            )\n",
    "            resolution_traces.append(trace)\n",
    "            \n",
    "            trace = go.Scatter(\n",
    "                x=x_values,\n",
    "                y=df_subset['Sequence Coverage'],\n",
    "                mode='markers',\n",
    "                name=method,\n",
    "                marker=marker_dict,\n",
    "                showlegend=True if category == category_list[-1] else False,\n",
    "                opacity=1,\n",
    "                legendgroup=method,\n",
    "                legendgrouptitle=dict(text=\"Method (Symbol)\") if method == 'X-ray' else None,\n",
    "            )\n",
    "            coverage_traces.append(trace)\n",
    "        \n",
    "        elif method == 'AlphaFold':\n",
    "            trace = go.Scatter(\n",
    "                x=x_values,\n",
    "                y=af_confidence,\n",
    "                mode='markers',\n",
    "                name=method,\n",
    "                marker=marker_dict,\n",
    "                showlegend=True if category == category_list[-1] else False,\n",
    "                legendgroup=method,\n",
    "            )\n",
    "            confidence_trace.append(trace)\n",
    "        "
   ],
   "metadata": {
    "collapsed": false,
    "ExecuteTime": {
     "end_time": "2024-02-22T16:42:26.917092Z",
     "start_time": "2024-02-22T16:42:26.590569Z"
    }
   },
   "id": "da7305103326588f",
   "execution_count": 92
  },
  {
   "cell_type": "code",
   "outputs": [],
   "source": [
    "from plotly.subplots import make_subplots"
   ],
   "metadata": {
    "collapsed": false,
    "ExecuteTime": {
     "end_time": "2024-02-22T16:42:27.132594Z",
     "start_time": "2024-02-22T16:42:26.918566Z"
    }
   },
   "id": "3e8d2e0664abc5ab",
   "execution_count": 93
  },
  {
   "cell_type": "code",
   "outputs": [],
   "source": [
    "# Create subplot figure with two rows and one column\n",
    "fig = make_subplots(rows=3, cols=1, shared_xaxes=True, vertical_spacing=0.01, row_heights=[0.4, 0.3, 0.3])"
   ],
   "metadata": {
    "collapsed": false,
    "ExecuteTime": {
     "end_time": "2024-02-22T16:42:27.240293Z",
     "start_time": "2024-02-22T16:42:27.148094Z"
    }
   },
   "id": "9be68b9e22f711fa",
   "execution_count": 94
  },
  {
   "cell_type": "code",
   "outputs": [],
   "source": [
    "for trace in resolution_traces:\n",
    "    fig.add_trace(trace, row=1, col=1)\n",
    "for trace in coverage_traces:\n",
    "    fig.add_trace(trace, row=2, col=1)\n",
    "for trace in confidence_trace:\n",
    "    fig.add_trace(trace, row=3, col=1)"
   ],
   "metadata": {
    "collapsed": false,
    "ExecuteTime": {
     "end_time": "2024-02-22T16:42:27.317285Z",
     "start_time": "2024-02-22T16:42:27.246042Z"
    }
   },
   "id": "835d8be140f35688",
   "execution_count": 95
  },
  {
   "cell_type": "markdown",
   "source": [
    "# get correct protein names"
   ],
   "metadata": {
    "collapsed": false
   },
   "id": "e801570be9e4a65b"
  },
  {
   "cell_type": "code",
   "outputs": [],
   "source": [
    "uniprot_to_grant_name = {}\n",
    "for ref in adme_names:\n",
    "    uniprot_to_grant_name[ref['uniprot']] = ref['grant_name']"
   ],
   "metadata": {
    "collapsed": false,
    "ExecuteTime": {
     "end_time": "2024-02-22T16:42:27.546284Z",
     "start_time": "2024-02-22T16:42:27.476072Z"
    }
   },
   "id": "3e73f58561ac26c7",
   "execution_count": 96
  },
  {
   "cell_type": "code",
   "outputs": [
    {
     "data": {
      "application/vnd.plotly.v1+json": {
       "data": [
        {
         "legendgroup": "distribution",
         "legendgrouptitle": {
          "text": "ADMET Category (Color)"
         },
         "marker": {
          "color": "#11efb7",
          "line": {
           "color": "black",
           "width": 1
          },
          "size": 10,
          "symbol": "diamond-tall"
         },
         "mode": "markers",
         "name": "distribution",
         "opacity": 1,
         "showlegend": true,
         "x": [
          0.035150129095559146,
          1.0998587667518964,
          0.9883219733619312,
          1.002814031036596,
          1.1532371510462514,
          0.9407751860010973,
          0.8586578125350484,
          1.0494615170020605,
          1.095656693700851,
          1.1948874174413868,
          1.1996015428130171,
          1.022528786144714,
          0.8377158748709506,
          1.0994283266689309,
          0.9070854927618168,
          1.160438713884907,
          1.1307081081378505,
          0.8418745349807689,
          1.0727429941231477,
          0.8594216191927027,
          0.815176182232686,
          0.8452246127854504,
          0.9594270638769141,
          0.8568677610573907,
          1.0057158543997744,
          1.0812877003122132,
          1.0774350655615983,
          0.9226233909019772,
          0.9994844827331815,
          1.090003821115574,
          0.8305146654891704,
          0.8987131719979636,
          0.9642396379939684,
          1.160395814582074,
          0.9548640799964497,
          1.0579063856565818,
          0.9228615482388989,
          0.8111547279385706,
          0.9506516943025617,
          0.9161394117822251,
          0.8375443091765866,
          1.1829087544679568,
          1.0150155593147265,
          0.9345623837885745,
          0.9335584991544832,
          1.1473385150560897,
          1.17933748742382,
          1.1038752900053344,
          0.9568503536066139,
          1.111822302971408,
          1.1574769620272254,
          1.038277748098823,
          1.068978241194112,
          0.9888019477833478,
          0.9574154427365227,
          0.8052080401102284,
          1.075323655680473,
          0.861768159319469,
          0.8045156181255754,
          0.9992870863438916,
          0.9425790671999645,
          1.0236436482027162,
          0.8745261552184267,
          1.1816711351256597,
          1.1999319183355692,
          0.9218328515569342,
          0.8657379344521325,
          1.1949647603971827,
          1.1018257087811363,
          1.1617080052618556,
          0.839387303543401,
          0.9809490171853762,
          1.1305306170374376,
          1.0626775810607312,
          0.9890672190178281,
          1.0688736225844064,
          1.0654608731394246,
          0.9879667548664616,
          0.8954546351769317,
          0.9817335873424162,
          0.9107769262354661,
          0.832842125647815,
          1.0980279548128404,
          1.070738588899859,
          1.1909435348188127,
          1.079682747805065,
          0.8724547455744008,
          0.8550591255893965,
          1.1859497728063346,
          0.8981328969144508,
          1.0208936028428484,
          0.9714185116475977,
          1.005696947716407,
          0.8147741448789583,
          0.8134557566927443,
          0.9790078621764863,
          0.9983376879344725,
          1.0647157354256729,
          1.1875104602798081,
          0.9338037168006683,
          1.167422027171044,
          0.9869467710403372,
          0.9316147924131518,
          1.0965586966616334,
          1.19619809016439,
          1.0927455833063704,
          1.1156789077749172,
          0.9420611055317447,
          0.8855921274130607,
          0.9964707479569855,
          1.1858977124921501,
          0.903929162986516,
          1.0868417013130072,
          0.9509479216274684,
          0.9771773659481684,
          1.0951997393606907,
          0.8526182976351371,
          0.930640022989621,
          0.9120345107629392,
          0.8894225049548113,
          1.1530897418639827,
          0.9488350748545866,
          0.8834817466754344,
          1.000810189885723,
          1.1315331488214553,
          0.80648866875025,
          1.1529929663531124,
          0.9312807677846762,
          1.0683248522410231,
          0.8473947841142765,
          0.8956246465730622,
          0.8951263855427026,
          1.100830146997431,
          0.9603562493345543,
          0.9931770108991128,
          1.0614532434601565,
          1.1647361546953081,
          0.9602707954919252,
          1.0930016115850099,
          1.088645158959141,
          0.8473267454084432,
          0.9186251807623457,
          1.1215169879214604,
          0.8571870295283327,
          1.0124915233059066,
          1.18993373353792,
          0.8894930689763147,
          1.105357004081378
         ],
         "y": [
          1.8,
          2.5,
          2.5,
          3.15,
          2.5,
          2.6,
          2.2,
          2.38,
          2.4,
          2.5,
          2.43,
          2.5,
          2.43,
          2.7,
          2.4,
          2.6,
          2.5,
          2.5,
          2.65,
          2.8,
          2.8,
          2.4,
          2.7,
          1.9,
          3.2,
          2.7,
          2.8,
          2.7,
          2.35,
          3.2,
          3.1,
          3.05,
          2.95,
          2.95,
          2.7,
          2.25,
          2.5,
          2.4,
          2.6,
          2.5,
          2.65,
          2.6,
          2.3,
          2.6,
          2.7,
          2.9,
          2.52,
          2.42,
          3.05,
          2.7,
          2.9,
          2.6,
          2.4,
          2.65,
          2.4,
          2.5,
          2.75,
          2.19,
          2.6,
          2.7,
          2.8,
          3.3,
          2.3,
          2.7,
          2.8,
          2.6,
          2.05,
          2.6,
          2.2,
          2.35,
          2.3,
          2.3,
          2.22,
          2.3,
          3.04,
          2.34,
          2.56,
          2.41,
          3.23,
          2.4,
          2.01,
          2.4,
          2.7,
          2.4,
          2.8,
          2.7,
          3.02,
          3.8,
          3.16,
          2.19,
          3.6,
          2.8,
          2.54,
          2.26,
          3.2,
          2.65,
          2.7,
          2.6,
          3.0,
          2.62,
          2.65,
          2.17,
          2.28,
          2.39,
          1.9,
          3.9,
          2.09,
          2.49,
          2.95,
          2.6,
          2.8,
          1.95,
          2.45,
          2.21,
          2.2,
          3.0,
          1.89,
          3.27,
          2.75,
          2.27,
          2.1,
          3.29,
          2.04,
          2.4,
          2.5,
          2.31,
          2.05,
          2.6,
          1.9,
          1.9,
          1.9,
          2.2,
          1.98,
          2.3,
          2.99,
          2.4,
          2.89,
          2.9,
          2.83,
          2.1,
          2.0,
          2.2,
          2.0,
          2.6,
          2.4,
          3.3,
          3.1,
          2.48
         ],
         "type": "scatter",
         "xaxis": "x",
         "yaxis": "y"
        },
        {
         "legendgroup": "distribution",
         "legendgrouptitle": {
          "text": "ADMET Category (Color)"
         },
         "marker": {
          "color": "#11efb7",
          "line": {
           "color": "black",
           "width": 2
          },
          "size": 10,
          "symbol": "circle"
         },
         "mode": "markers",
         "name": "distribution",
         "opacity": 1,
         "showlegend": false,
         "x": [
          1.0045244716981354
         ],
         "y": [
          3.77
         ],
         "type": "scatter",
         "xaxis": "x",
         "yaxis": "y"
        },
        {
         "legendgroup": "metabolism",
         "marker": {
          "color": "#ffb418",
          "line": {
           "color": "black",
           "width": 1
          },
          "size": 10,
          "symbol": "diamond-tall"
         },
         "mode": "markers",
         "name": "metabolism",
         "opacity": 1,
         "showlegend": true,
         "x": [
          2.17666588838936,
          2.1718349984820193,
          3.023395792614759,
          4.088693888790619,
          4.002465699967264,
          3.9794124347002904,
          3.8000547636467035,
          4.065845573178093,
          3.935576387926228,
          4.077443125648106,
          4.174847346580062,
          4.080119400039341,
          4.089167162371475,
          3.8671841039625083,
          3.925008345074087,
          3.864486647452158,
          3.9573681295742684,
          4.010629773835942,
          3.9457485991382306,
          4.186827499432707,
          5.011370706689778,
          4.9822320667639834,
          4.951409031026369,
          4.891026542824982,
          5.912784422075774,
          5.813385961895817,
          6.164529386996548,
          6.167858564615884,
          6.163238083855454,
          6.159669069206732,
          5.844817020811284,
          5.851723533159829,
          6.148988616844409,
          6.1273596591241155,
          5.978522551979719,
          6.182489879841958,
          5.922317372789273,
          5.907071578450841,
          6.021240760076616,
          6.1096271189234805,
          5.971417563976164,
          5.902787054573581,
          5.892101088590981,
          6.096124659614341,
          5.931605323480008,
          6.061183158823049,
          6.086962659636429,
          5.98602846401343,
          5.97790106571442,
          5.924056299152284,
          5.966285510194293,
          5.958589655591075,
          5.992355393926723,
          6.122355909584687,
          6.196134864769233,
          6.040022363816148,
          6.055881198580257,
          6.1152215517339386,
          6.090310921557799,
          6.025814573340236,
          6.153409449059236,
          6.0970664902160605,
          5.93316314170972,
          5.927168676994694,
          5.903271788831676,
          6.014161211827125,
          5.935396216368936,
          6.055515370081114,
          6.075298782435088,
          5.8482335103279715,
          5.929070897608533,
          6.146013021052151,
          5.9434358066381385,
          6.152201689728267,
          5.897227555805751,
          6.098743087474982,
          7.103777946242837,
          6.905640271204251,
          7.166411715951404,
          7.190849402062417,
          6.839239809353327,
          6.823478982934708,
          8.079528304409509,
          9.115437105202888,
          9.833809754604605,
          9.994945035759121,
          10.187553616408854,
          9.805412083051774,
          9.87018919804045,
          9.919294557611872,
          10.108502423625966,
          10.120345883134362,
          9.978891362122733,
          10.115546749848086,
          9.977470612555665,
          9.946317406735325,
          10.194132904468393,
          10.84051035002388,
          11.093667982688352,
          10.906172364982055,
          11.175893415127181,
          10.960377438629024,
          11.115627042084855,
          11.18109190933895,
          11.111201696289125,
          10.974895482385758,
          10.879594636967454,
          10.81310495291353,
          11.122158143775446,
          11.146467524575902,
          12.042250718870868,
          12.926220663952925,
          12.985150435560517,
          12.901949817746587,
          13.124837673978599,
          12.878520253271205,
          12.910905999611174,
          12.978201716470958,
          13.156278471810833,
          13.068201972563676,
          12.973182528569467,
          13.052830704780371,
          12.89470760403736,
          12.846244451481901,
          12.978993580029778,
          13.820284366613185,
          14.146850256993998,
          14.11892921723456,
          13.903339948460081,
          13.952730083773465,
          14.115349193572719,
          13.956112281000745,
          13.983037738212827,
          13.9264711329839,
          14.091494456915036,
          13.962933501646136,
          13.96585134504939,
          14.060778073246661,
          14.123403003150564,
          14.178290378270557,
          14.121949386093537,
          13.905099937888295,
          13.90822596189142,
          13.818943462690012,
          13.992580760935363,
          14.12279723151536,
          13.970437569434383,
          13.806241019763423,
          14.008383977253471,
          13.919984586855334,
          14.16508648859019,
          14.097234966339293,
          13.91872429251152,
          14.115486043622537,
          14.106412637512157,
          14.039361901828384,
          13.81472893604751,
          14.00253487192467,
          14.11616090275776,
          14.15323593501595,
          13.94903723110345,
          14.005842276734082,
          13.876096871865414,
          14.06344787695084,
          14.093563712619337,
          14.046978766610767,
          13.981836467877672,
          13.966955324772815,
          13.968102669336206,
          13.994237134634982,
          14.012977435492633,
          13.988275021039676,
          13.8577244914694,
          13.827329101257602,
          13.973152528511719,
          14.155129790606077,
          14.160505800925282,
          14.055557566990995,
          13.925379787916658,
          13.963230767832213,
          13.906665402772479,
          13.901739067452045,
          13.90431344258677,
          14.121394208363796,
          14.048777493285085,
          13.817928713002521,
          14.140432573515483,
          13.906361800906044,
          14.103277703430862,
          13.931691551970447,
          14.199429866105815,
          14.064945469021694,
          13.900110661710174,
          14.090069765178907,
          13.837311586696202,
          13.89080714235128,
          13.865721306023955,
          14.186045338243037,
          14.103374411118525,
          13.905335076552731,
          14.141323555394557,
          13.85761440884729,
          13.903045465486016,
          15.159432177781937,
          14.882817753393125,
          14.97784993264886,
          15.137268664726014,
          15.173510452243125,
          15.183610094170005,
          14.915453153422025,
          14.994937207185997,
          15.033073990351246,
          14.891349444959744,
          15.183414150491686,
          14.858826803878245,
          14.873499027587847,
          14.92272237026854,
          14.920554944857699,
          15.112478366914772,
          15.119637165717512,
          15.032733161656559,
          15.193596021121705,
          15.14821346022121,
          14.899892855578452,
          15.113587508016149,
          15.127680726065577,
          15.031499735964626,
          15.002355950551086,
          14.874358061156695,
          14.93747353829339,
          14.926444393200576,
          14.85329346609426,
          15.102575512279554,
          14.857119518259795,
          15.093275191460325,
          15.192823251113591,
          14.952309062303604,
          14.876430694028961,
          15.047065727530475,
          15.109356034443381,
          15.069267039453736,
          14.806712501089864,
          14.854273016888762,
          16.97556667749409,
          16.979207334934674,
          17.134073015493637,
          17.0712090351777,
          17.09829750744298,
          16.924651745111852,
          17.023030692053354,
          17.00286679555136,
          17.125642371004513,
          16.850129788164338,
          16.803930427984206,
          16.872171826377073,
          16.823900026955922,
          17.099394033551686,
          16.964810835261343,
          17.150805507865158,
          16.94566952214555,
          16.971957781711595,
          17.136914228047946,
          17.062364725576497,
          17.14447003820312,
          17.062764570282596,
          16.969924175777578,
          17.183443765707715,
          17.032047088321555,
          16.95588325461066,
          17.17586557017419,
          17.08378546945579,
          16.923296062603214,
          16.948217921101726,
          17.159572679947864,
          17.162177384553317,
          16.948877269015515,
          16.818533712876643,
          16.911747568583593,
          16.972867552773007,
          17.084218040000646,
          16.909033602484584,
          17.058767685799022,
          18.028019849852885,
          18.192097941286253,
          17.983967335256082,
          18.040137885911804,
          17.989158515521243,
          18.15820039142075,
          18.038737151299767,
          18.000271034644427,
          17.838019812754943,
          17.838508560059722,
          18.011899408296287,
          17.806168334433046,
          17.897307086610496,
          18.029206150737966,
          18.13830207796193,
          18.123475624723586,
          17.841310634167435,
          18.192322631950738,
          18.134677184061555,
          17.992194515392544,
          17.83731246973314,
          18.14032639345066,
          17.828251870186943,
          18.11698411840203,
          17.972817760238513,
          18.19814897581298,
          18.01731471026747,
          17.84987830114466,
          18.126793904327187,
          17.819820357670267,
          17.92893735198927,
          17.918807703050593,
          17.984196407193707,
          17.942567593560618,
          18.109704603712043,
          18.14587268964399,
          17.944758597754,
          18.02923422292335,
          18.041181206264632,
          18.138606449446385,
          18.043490892198868,
          17.84318995673619,
          17.833525556593894,
          17.985898211525452,
          18.153773100991565,
          18.153738342150444,
          17.94821662419058,
          17.906236493790296,
          17.807752077332708,
          18.190296795988186,
          18.10627679574848,
          18.09083390607133,
          17.883697972585082,
          19.066868138893398,
          19.061963482833217,
          19.995264061976798,
          20.114056649194215,
          20.081621929435183,
          19.805669633269574,
          19.88853889458983,
          19.812691924915708,
          19.9540634669753,
          20.11109508981073,
          20.054277098627352,
          20.0858832765535,
          20.168828001876435,
          20.811395148736462,
          21.067162878877852
         ],
         "y": [
          2.5,
          2.49,
          3.3,
          2.07,
          1.74,
          1.8,
          1.95,
          1.85,
          1.85,
          1.7,
          1.7,
          2.05,
          2.1,
          2.0,
          1.6,
          1.8,
          1.9,
          1.6,
          1.6,
          1.8,
          3.0,
          3.15,
          2.2,
          2.17,
          3.0,
          2.3,
          1.7,
          2.4,
          3.1,
          2.07,
          2.12,
          1.65,
          1.6,
          1.8,
          1.9,
          1.83,
          2.2,
          2.2,
          1.7,
          2.5,
          1.7,
          2.06,
          2.0,
          2.2,
          1.7,
          1.7,
          1.6,
          2.0,
          1.7,
          2.4,
          2.3,
          2.3,
          1.9,
          1.6,
          2.1,
          1.66,
          2.2,
          2.2,
          1.8,
          2.2,
          1.89,
          1.7,
          1.8,
          2.42,
          1.8,
          1.6,
          1.7,
          2.3,
          1.7,
          2.3,
          1.8,
          2.3,
          2.1,
          2.3,
          2.1,
          2.0,
          2.6,
          2.7,
          3.39,
          3.1,
          2.6,
          2.7,
          3.0,
          1.95,
          2.0,
          2.1,
          2.8,
          2.8,
          2.0,
          2.1,
          2.2,
          2.24,
          2.03,
          1.93,
          2.27,
          1.76,
          2.99,
          2.6,
          2.55,
          2.0,
          2.45,
          2.0,
          2.9,
          2.3,
          2.0,
          2.0,
          2.48,
          2.3,
          3.12,
          2.23,
          2.87,
          3.0,
          2.85,
          2.1,
          2.67,
          2.6,
          2.26,
          2.35,
          3.3,
          2.5,
          2.4,
          2.71,
          2.75,
          2.39,
          2.39,
          2.05,
          2.8,
          2.65,
          2.74,
          2.75,
          2.8,
          2.0,
          2.25,
          2.15,
          1.93,
          2.25,
          2.8,
          2.76,
          2.6,
          2.72,
          2.9,
          2.5,
          2.85,
          2.6,
          2.4,
          2.76,
          2.95,
          2.5,
          2.45,
          2.6,
          2.7,
          2.7,
          1.7,
          1.95,
          2.2,
          2.2,
          2.23,
          2.5,
          2.5,
          2.42,
          2.38,
          2.25,
          2.57,
          2.67,
          2.6,
          2.25,
          2.52,
          2.2,
          2.5,
          2.5,
          2.79,
          2.55,
          2.65,
          2.55,
          2.75,
          2.7,
          2.65,
          2.75,
          2.75,
          2.5,
          2.75,
          2.78,
          2.65,
          2.45,
          2.5,
          2.25,
          2.35,
          2.9,
          2.4,
          2.7,
          2.4,
          2.2,
          2.3,
          2.35,
          2.3,
          2.1,
          2.4,
          2.25,
          2.2,
          2.15,
          2.05,
          2.05,
          2.15,
          1.8,
          1.55,
          2.11,
          2.3,
          3.1,
          1.9,
          2.69,
          2.25,
          2.35,
          2.35,
          2.6,
          2.5,
          2.55,
          3.0,
          2.65,
          2.3,
          2.19,
          2.3,
          2.6,
          2.3,
          2.72,
          1.8,
          2.2,
          2.55,
          2.16,
          1.91,
          2.73,
          2.19,
          2.35,
          2.35,
          2.35,
          1.96,
          2.8,
          3.2,
          2.35,
          2.35,
          2.37,
          2.5,
          2.07,
          2.45,
          2.5,
          2.0,
          2.7,
          2.6,
          1.5,
          1.8,
          1.3,
          1.86,
          2.0,
          2.1,
          1.75,
          1.8,
          2.07,
          1.85,
          1.95,
          1.8,
          2.51,
          2.38,
          1.98,
          2.2,
          1.75,
          2.13,
          1.79,
          2.2,
          1.86,
          1.88,
          2.1,
          1.93,
          2.33,
          1.6,
          1.55,
          1.7,
          2.0,
          1.29,
          2.19,
          2.03,
          2.46,
          1.56,
          1.87,
          2.52,
          2.76,
          2.15,
          2.0,
          2.8,
          2.8,
          2.8,
          2.0,
          2.1,
          2.8,
          2.8,
          2.8,
          2.8,
          2.8,
          3.14,
          2.0,
          2.25,
          2.58,
          2.4,
          2.25,
          2.67,
          2.56,
          2.3,
          2.28,
          2.22,
          2.27,
          2.3,
          2.7,
          1.85,
          2.27,
          2.15,
          2.25,
          2.26,
          2.55,
          2.05,
          2.65,
          1.9,
          2.45,
          2.7,
          2.55,
          2.15,
          2.3,
          2.0,
          2.5,
          2.26,
          2.48,
          2.05,
          2.2,
          2.1,
          2.25,
          2.37,
          2.3,
          2.2,
          2.7,
          2.6,
          1.9,
          2.3,
          2.3,
          2.5,
          2.35,
          2.7,
          2.36,
          2.3,
          2.0,
          2.36,
          2.56,
          3.59,
          2.6
         ],
         "type": "scatter",
         "xaxis": "x",
         "yaxis": "y"
        },
        {
         "legendgroup": "metabolism",
         "marker": {
          "color": "#ffb418",
          "line": {
           "color": "black",
           "width": 2
          },
          "size": 10,
          "symbol": "circle"
         },
         "mode": "markers",
         "name": "metabolism",
         "opacity": 1,
         "showlegend": false,
         "x": [
          2.901444297487227,
          4.1860241689738995,
          4.146193063943567,
          3.8019079404689857,
          6.874262127455804
         ],
         "y": [
          2.85,
          2.84,
          3.4,
          2.64,
          2.92
         ],
         "type": "scatter",
         "xaxis": "x",
         "yaxis": "y"
        },
        {
         "legendgroup": "toxicity",
         "marker": {
          "color": "#5e2bcb",
          "line": {
           "color": "black",
           "width": 1
          },
          "size": 10,
          "symbol": "diamond-tall"
         },
         "mode": "markers",
         "name": "toxicity",
         "opacity": 1,
         "showlegend": true,
         "x": [
          21.82746730584963,
          21.918420837345465,
          22.12376097274692,
          22.071884397065826,
          22.080691064621853,
          21.81191447928996,
          21.830180929702852,
          21.871929434397106,
          23.830041426779744,
          24.114187910875756,
          24.083712521876407,
          26.118669779866096,
          26.11477342524872,
          25.900591780386634,
          26.140392899078197,
          26.1497347966421,
          25.970765137989,
          27.121658461182143,
          27.13813433443586,
          27.10731783414947,
          27.101501172161075,
          27.992464693224193,
          27.804301553966365,
          28.05819789931197,
          28.10232137657852,
          27.928267227924852,
          29.047957322756844,
          28.81729866412326,
          28.857374175833623,
          29.162170566863544,
          29.023400841790313,
          29.13999681288858,
          29.051451174242967,
          29.163456041805023,
          31.805545231183338,
          31.993168277140374,
          33.08859370068898,
          33.10747697753854,
          32.85889622000481,
          33.12634559132819,
          33.84750832218313,
          33.93072087036492,
          33.992186184799884,
          34.00521730415189,
          34.06775402801132,
          34.03213634628739,
          33.96024796704519,
          34.08154949951738,
          34.175467480242816,
          33.89624643729725,
          34.085486757082194,
          34.066375492002436,
          34.19620419698181,
          34.02839123485124,
          34.02296252397079,
          33.95080684786359,
          33.94988282431249,
          34.03097146274122,
          34.123339943720474,
          33.81963038335136,
          33.87621455922339,
          33.82473720043995,
          34.141108294587276,
          33.85275293488528,
          33.89353884931609,
          33.92336801708006,
          33.87511747266241,
          33.88772114124394,
          33.91013334449843,
          33.82997984194824,
          34.00973945852014,
          33.808763212724585,
          34.15983566720917,
          33.936866409413526,
          34.173511885605464,
          33.983403222451486,
          35.00347502440087,
          35.18750911818349,
          35.95899358055148,
          36.1852793326305,
          35.96360595309531,
          35.818211741880724,
          35.95075386635055,
          36.09271433263572,
          35.91730427686398,
          36.021222172795746,
          36.02349506250966,
          35.80282184754955,
          35.89507644150942,
          35.98257826711942,
          35.83017271138416,
          36.09451398274134,
          36.04460751299422,
          38.100807250549295,
          37.98187067252479,
          38.144497004341815,
          37.87601738979779,
          37.84190166891095,
          37.9223907006644,
          38.06297380970547,
          39.11298041508097,
          38.942234149193126,
          40.16598972162652,
          40.01651872238241,
          41.05881516082886,
          41.935626499808016,
          41.81048804141722,
          42.090635518921765,
          41.827285960475415,
          44.8557174563915,
          45.00505651586101,
          44.91848149910878,
          44.83889153284456,
          45.11701163569584,
          44.8335122753834,
          45.02324285077912,
          44.902748515959765,
          44.90158999053511,
          45.00870369472845,
          45.128473942783984,
          45.133062380517245,
          46.032979971710176,
          46.03041326188413,
          46.04280050282028,
          46.18853967152968,
          45.91126943697565,
          46.17540695724077
         ],
         "y": [
          2.7,
          2.8,
          3.0,
          2.9,
          3.1,
          2.92,
          3.1,
          3.19,
          1.9,
          2.0,
          1.93,
          2.4,
          2.2,
          2.38,
          2.38,
          2.85,
          2.15,
          1.8,
          1.71,
          2.7,
          2.26,
          2.7,
          2.55,
          2.17,
          2.33,
          2.5,
          3.0,
          3.5,
          3.7,
          2.5,
          2.6,
          3.0,
          2.95,
          2.3,
          2.7,
          3.2,
          3.13,
          2.7,
          2.6,
          2.5,
          1.9,
          3.4,
          3.4,
          2.4,
          2.8,
          3.4,
          2.84,
          2.84,
          3.16,
          3.5,
          3.5,
          3.2,
          3.99,
          2.79,
          3.1,
          3.2,
          3.3,
          2.48,
          3.8,
          3.2,
          3.2,
          2.7,
          3.7,
          2.96,
          3.2,
          3.1,
          2.8,
          3.4,
          3.2,
          2.4,
          2.5,
          2.6,
          2.9,
          2.7,
          3.4,
          3.1,
          2.6,
          3.0,
          2.0,
          2.0,
          1.45,
          1.6,
          2.1,
          2.55,
          2.0,
          1.7,
          1.65,
          2.0,
          2.4,
          2.4,
          1.65,
          1.7,
          1.75,
          2.8,
          2.6,
          2.95,
          2.8,
          3.25,
          2.7,
          3.29,
          2.8,
          3.2,
          3.45,
          3.2,
          3.1,
          2.6,
          2.12,
          1.96,
          1.5,
          3.14,
          4.53,
          3.15,
          3.24,
          3.4,
          3.49,
          3.62,
          3.53,
          3.8,
          4.05,
          4.7,
          6.3,
          2.2,
          1.35,
          3.84,
          2.8,
          2.25,
          2.69
         ],
         "type": "scatter",
         "xaxis": "x",
         "yaxis": "y"
        },
        {
         "legendgroup": "toxicity",
         "marker": {
          "color": "#5e2bcb",
          "line": {
           "color": "black",
           "width": 2
          },
          "size": 10,
          "symbol": "circle"
         },
         "mode": "markers",
         "name": "toxicity",
         "opacity": 1,
         "showlegend": false,
         "x": [
          22.091515363000674,
          22.076299887411274,
          22.160315298428515,
          24.182271688112632,
          23.89272273010821,
          26.085404772335995,
          26.196815478591994,
          26.088179110594556,
          26.1568675658687,
          25.99283907226468,
          26.167375328222427,
          25.85837518011748,
          25.92505009744424,
          26.104706696316576,
          25.862066991936373,
          25.815179879575165,
          27.97945581812405,
          29.086428769594818,
          29.116247729757358,
          28.97754774175338,
          28.842927340976082,
          28.926910774452118,
          28.86424443319671,
          30.07696365791219,
          29.823534709376148,
          29.87512536294062,
          29.995873273116334,
          31.127118032026846,
          31.15553085662465,
          32.0786359169946,
          32.14031712378502,
          31.931942129275765,
          31.95429628861584,
          31.973000433692135,
          31.87302279971655,
          32.03466630854058,
          34.105620432448006,
          34.19338820965784,
          34.075816970549425,
          33.88490111521281,
          34.19955561760287,
          34.15540215780749,
          36.170834156716346,
          35.85314065437856,
          36.872160754922305,
          37.18341411769235,
          36.83268203459796,
          36.843664608897576,
          37.09447361464872,
          37.86907682453034,
          38.06002566470231,
          37.81125153298958,
          38.02480404040918,
          38.90808733862562,
          39.137833559184635,
          38.803247836324864,
          38.85664344003284,
          38.92795903198823,
          38.97797093783675,
          39.8736770499803,
          39.86396956572018,
          39.80457550981009,
          40.07895071454672,
          39.85371610252674,
          39.96390408583115,
          40.13554683457767,
          40.11667891534104,
          40.179672744843884,
          40.03577744137167,
          40.165553131356944,
          39.987331201942176,
          39.96309690280426,
          39.82949932795028,
          40.11360654699611,
          39.913604269522295,
          40.065208586919425,
          39.880278175793705,
          39.92018455134377,
          40.03516270838121,
          39.8630363810995,
          39.996455440858846,
          40.06508859869283,
          40.02471612545185,
          39.89890404625574,
          39.91112567247866,
          39.815529487864026,
          41.16314025163932,
          42.054055529628606,
          42.18349038627082,
          42.036366351534035,
          45.04274124101762,
          44.967384124706285,
          44.98478369000199,
          45.07534360712053,
          44.81655055318411,
          44.969563289514284,
          45.02372376646711,
          44.93105247573206,
          45.102687755488155,
          45.1977290987875,
          44.84663692652139,
          45.00978728971917,
          45.19317755094891,
          45.14501913321295,
          44.81093499548569,
          45.941411499481255,
          45.862136325741545
         ],
         "y": [
          2.7,
          2.9,
          3.3,
          3.34,
          3.87,
          3.18,
          2.85,
          3.02,
          3.0,
          3.6,
          2.7,
          2.3,
          3.4,
          2.7,
          2.8,
          4.4,
          3.3,
          3.6,
          4.0,
          3.21,
          3.32,
          3.16,
          3.22,
          2.69,
          2.79,
          2.69,
          2.56,
          2.6,
          3.1,
          4.1,
          3.2,
          3.0,
          3.6,
          3.4,
          3.47,
          3.4,
          3.8,
          3.82,
          3.26,
          3.8,
          3.2,
          3.4,
          3.4,
          3.1,
          2.8,
          3.0,
          3.0,
          3.3,
          3.1,
          3.0,
          3.0,
          3.36,
          2.8,
          2.9,
          3.2,
          3.08,
          2.84,
          2.97,
          2.98,
          3.8,
          3.8,
          3.1,
          3.04,
          3.69,
          3.26,
          3.58,
          3.2,
          3.12,
          2.55,
          3.49,
          3.5,
          3.3,
          2.92,
          3.23,
          2.86,
          3.04,
          2.79,
          3.0,
          2.7,
          3.0,
          3.0,
          2.9,
          2.9,
          2.65,
          2.98,
          2.71,
          3.3,
          3.7,
          3.8,
          4.0,
          4.2,
          4.3,
          4.1,
          3.6,
          3.3,
          4.1,
          3.8,
          3.5,
          4.1,
          3.9,
          3.9,
          3.3,
          3.65,
          3.5,
          3.0,
          3.3,
          3.3
         ],
         "type": "scatter",
         "xaxis": "x",
         "yaxis": "y"
        },
        {
         "legendgroup": "transporters",
         "marker": {
          "color": "#d07c09",
          "line": {
           "color": "black",
           "width": 1
          },
          "size": 10,
          "symbol": "diamond-tall"
         },
         "mode": "markers",
         "name": "transporters",
         "opacity": 1,
         "showlegend": true,
         "x": [
          49.84466455050718,
          49.86754336514165
         ],
         "y": [
          1.5,
          2.1
         ],
         "type": "scatter",
         "xaxis": "x",
         "yaxis": "y"
        },
        {
         "legendgroup": "transporters",
         "marker": {
          "color": "#d07c09",
          "line": {
           "color": "black",
           "width": 2
          },
          "size": 10,
          "symbol": "circle"
         },
         "mode": "markers",
         "name": "transporters",
         "opacity": 1,
         "showlegend": false,
         "x": [
          46.801197406305754,
          47.04461059649178,
          46.8264945811856,
          48.09943329289255,
          47.985029205858176,
          48.19006046978348,
          48.110009559173776,
          47.83489947380001,
          48.105498280701234,
          47.910156409793956,
          47.897260146590874,
          48.02737408580343,
          48.15837595686872,
          47.993428442205115,
          48.065918077135,
          47.881029913816676,
          47.90845459146845,
          48.16489612379223,
          47.9707670605277,
          47.91001106153318,
          48.092637266820184,
          47.996098598417476,
          47.856628508285944,
          48.083406511609724,
          48.06424414821321,
          47.85081229516932,
          48.16211994754214,
          49.127206810231364,
          49.141493067820456,
          48.889815625220976,
          48.80876541374354,
          48.97327742089169,
          49.03886903067274,
          48.8227448833182,
          48.92533374573999,
          48.98837477350138,
          48.90304537834785,
          51.11765972716566,
          50.92058152070497,
          50.97428078144036,
          55.0502812264241,
          55.079891598322575,
          55.01569888670801,
          54.966438505577166,
          54.854023187148165,
          55.01587009730921,
          56.12701772912532
         ],
         "y": [
          3.5,
          3.7,
          3.66,
          3.78,
          3.78,
          3.1,
          3.6,
          3.56,
          3.09,
          3.58,
          3.56,
          3.09,
          3.5,
          4.0,
          3.7,
          4.1,
          3.12,
          3.39,
          3.51,
          3.4,
          3.1,
          3.4,
          3.1,
          3.2,
          3.04,
          3.2,
          3.49,
          3.4,
          3.58,
          4.14,
          3.6,
          3.9,
          3.2,
          3.6,
          3.6,
          3.5,
          3.5,
          4.1,
          3.5,
          3.9,
          3.53,
          3.73,
          3.19,
          3.73,
          2.92,
          3.6,
          2.97
         ],
         "type": "scatter",
         "xaxis": "x",
         "yaxis": "y"
        },
        {
         "legendgroup": "X-ray",
         "legendgrouptitle": {
          "text": "Method (Symbol)"
         },
         "marker": {
          "color": "#11efb7",
          "line": {
           "color": "black",
           "width": 1
          },
          "size": 10,
          "symbol": "diamond-tall"
         },
         "mode": "markers",
         "name": "X-ray",
         "opacity": 1,
         "showlegend": false,
         "x": [
          0.035150129095559146,
          1.0998587667518964,
          0.9883219733619312,
          1.002814031036596,
          1.1532371510462514,
          0.9407751860010973,
          0.8586578125350484,
          1.0494615170020605,
          1.095656693700851,
          1.1948874174413868,
          1.1996015428130171,
          1.022528786144714,
          0.8377158748709506,
          1.0994283266689309,
          0.9070854927618168,
          1.160438713884907,
          1.1307081081378505,
          0.8418745349807689,
          1.0727429941231477,
          0.8594216191927027,
          0.815176182232686,
          0.8452246127854504,
          0.9594270638769141,
          0.8568677610573907,
          1.0057158543997744,
          1.0812877003122132,
          1.0774350655615983,
          0.9226233909019772,
          0.9994844827331815,
          1.090003821115574,
          0.8305146654891704,
          0.8987131719979636,
          0.9642396379939684,
          1.160395814582074,
          0.9548640799964497,
          1.0579063856565818,
          0.9228615482388989,
          0.8111547279385706,
          0.9506516943025617,
          0.9161394117822251,
          0.8375443091765866,
          1.1829087544679568,
          1.0150155593147265,
          0.9345623837885745,
          0.9335584991544832,
          1.1473385150560897,
          1.17933748742382,
          1.1038752900053344,
          0.9568503536066139,
          1.111822302971408,
          1.1574769620272254,
          1.038277748098823,
          1.068978241194112,
          0.9888019477833478,
          0.9574154427365227,
          0.8052080401102284,
          1.075323655680473,
          0.861768159319469,
          0.8045156181255754,
          0.9992870863438916,
          0.9425790671999645,
          1.0236436482027162,
          0.8745261552184267,
          1.1816711351256597,
          1.1999319183355692,
          0.9218328515569342,
          0.8657379344521325,
          1.1949647603971827,
          1.1018257087811363,
          1.1617080052618556,
          0.839387303543401,
          0.9809490171853762,
          1.1305306170374376,
          1.0626775810607312,
          0.9890672190178281,
          1.0688736225844064,
          1.0654608731394246,
          0.9879667548664616,
          0.8954546351769317,
          0.9817335873424162,
          0.9107769262354661,
          0.832842125647815,
          1.0980279548128404,
          1.070738588899859,
          1.1909435348188127,
          1.079682747805065,
          0.8724547455744008,
          0.8550591255893965,
          1.1859497728063346,
          0.8981328969144508,
          1.0208936028428484,
          0.9714185116475977,
          1.005696947716407,
          0.8147741448789583,
          0.8134557566927443,
          0.9790078621764863,
          0.9983376879344725,
          1.0647157354256729,
          1.1875104602798081,
          0.9338037168006683,
          1.167422027171044,
          0.9869467710403372,
          0.9316147924131518,
          1.0965586966616334,
          1.19619809016439,
          1.0927455833063704,
          1.1156789077749172,
          0.9420611055317447,
          0.8855921274130607,
          0.9964707479569855,
          1.1858977124921501,
          0.903929162986516,
          1.0868417013130072,
          0.9509479216274684,
          0.9771773659481684,
          1.0951997393606907,
          0.8526182976351371,
          0.930640022989621,
          0.9120345107629392,
          0.8894225049548113,
          1.1530897418639827,
          0.9488350748545866,
          0.8834817466754344,
          1.000810189885723,
          1.1315331488214553,
          0.80648866875025,
          1.1529929663531124,
          0.9312807677846762,
          1.0683248522410231,
          0.8473947841142765,
          0.8956246465730622,
          0.8951263855427026,
          1.100830146997431,
          0.9603562493345543,
          0.9931770108991128,
          1.0614532434601565,
          1.1647361546953081,
          0.9602707954919252,
          1.0930016115850099,
          1.088645158959141,
          0.8473267454084432,
          0.9186251807623457,
          1.1215169879214604,
          0.8571870295283327,
          1.0124915233059066,
          1.18993373353792,
          0.8894930689763147,
          1.105357004081378
         ],
         "y": [
          0.9054726368159204,
          0.9589490968801314,
          0.9589490968801314,
          0.9523809523809523,
          0.9589490968801314,
          0.9589490968801314,
          0.9589490968801314,
          0.9589490968801314,
          0.9589490968801314,
          0.9589490968801314,
          0.9589490968801314,
          0.9589490968801314,
          0.9589490968801314,
          0.9589490968801314,
          0.9589490968801314,
          0.9589490968801314,
          0.9589490968801314,
          0.9589490968801314,
          0.9589490968801314,
          0.9589490968801314,
          0.9589490968801314,
          0.9589490968801314,
          0.9589490968801314,
          0.9589490968801314,
          0.9589490968801314,
          0.9376026272577996,
          0.9589490968801314,
          0.9589490968801314,
          0.9589490968801314,
          0.9589490968801314,
          0.9589490968801314,
          0.9589490968801314,
          0.9589490968801314,
          0.9589490968801314,
          0.9589490968801314,
          0.9589490968801314,
          0.9589490968801314,
          0.9589490968801314,
          0.9589490968801314,
          0.9589490968801314,
          0.9589490968801314,
          0.9589490968801314,
          0.9589490968801314,
          0.9589490968801314,
          0.9589490968801314,
          0.9589490968801314,
          0.9490968801313628,
          0.9589490968801314,
          0.9589490968801314,
          0.9589490968801314,
          0.9589490968801314,
          0.9589490968801314,
          0.9589490968801314,
          0.9589490968801314,
          0.9589490968801314,
          0.9589490968801314,
          0.9589490968801314,
          0.9589490968801314,
          0.9589490968801314,
          0.9589490968801314,
          0.9540229885057471,
          0.9589490968801314,
          0.9589490968801314,
          0.9589490968801314,
          0.9589490968801314,
          0.9589490968801314,
          0.9540229885057471,
          0.9589490968801314,
          0.9589490968801314,
          0.9983579638752053,
          0.9589490968801314,
          0.9589490968801314,
          0.9589490968801314,
          0.9589490968801314,
          0.9589490968801314,
          0.9589490968801314,
          0.9589490968801314,
          0.9589490968801314,
          0.9589490968801314,
          0.9589490968801314,
          0.9589490968801314,
          0.9589490968801314,
          0.9589490968801314,
          0.9589490968801314,
          0.9589490968801314,
          0.9589490968801314,
          0.9589490968801314,
          0.9556650246305419,
          0.9589490968801314,
          0.9589490968801314,
          0.9589490968801314,
          0.9523809523809523,
          0.9523809523809523,
          0.9589490968801314,
          0.9589490968801314,
          0.9589490968801314,
          0.9983579638752053,
          0.9589490968801314,
          0.9589490968801314,
          0.9523809523809523,
          0.9589490968801314,
          0.9589490968801314,
          0.9589490968801314,
          0.9589490968801314,
          0.9983579638752053,
          0.9556650246305419,
          0.9523809523809523,
          0.9589490968801314,
          0.9589490968801314,
          0.9490968801313628,
          0.9589490968801314,
          0.9589490968801314,
          0.9589490968801314,
          0.9589490968801314,
          0.9589490968801314,
          0.9589490968801314,
          0.9589490968801314,
          0.9983579638752053,
          0.9589490968801314,
          0.9573070607553367,
          0.9573070607553367,
          0.9589490968801314,
          0.9589490968801314,
          0.9589490968801314,
          0.9556650246305419,
          0.9589490968801314,
          0.9589490968801314,
          0.9573070607553367,
          0.9983579638752053,
          0.9983579638752053,
          0.9983579638752053,
          0.9589490968801314,
          0.9589490968801314,
          0.9589490968801314,
          0.9589490968801314,
          0.9589490968801314,
          0.9983579638752053,
          0.9983579638752053,
          0.9523809523809523,
          0.9589490968801314,
          0.9523809523809523,
          0.9573070607553367,
          0.9589490968801314,
          0.9589490968801314,
          0.9589490968801314,
          0.9589490968801314,
          0.9589490968801314,
          0.9589490968801314
         ],
         "type": "scatter",
         "xaxis": "x2",
         "yaxis": "y2"
        },
        {
         "legendgroup": "EM",
         "marker": {
          "color": "#11efb7",
          "line": {
           "color": "black",
           "width": 2
          },
          "size": 10,
          "symbol": "circle"
         },
         "mode": "markers",
         "name": "EM",
         "opacity": 1,
         "showlegend": false,
         "x": [
          1.0045244716981354
         ],
         "y": [
          0.9589490968801314
         ],
         "type": "scatter",
         "xaxis": "x2",
         "yaxis": "y2"
        },
        {
         "legendgroup": "X-ray",
         "legendgrouptitle": {
          "text": "Method (Symbol)"
         },
         "marker": {
          "color": "#ffb418",
          "line": {
           "color": "black",
           "width": 1
          },
          "size": 10,
          "symbol": "diamond-tall"
         },
         "mode": "markers",
         "name": "X-ray",
         "opacity": 1,
         "showlegend": false,
         "x": [
          2.17666588838936,
          2.1718349984820193,
          3.023395792614759,
          4.088693888790619,
          4.002465699967264,
          3.9794124347002904,
          3.8000547636467035,
          4.065845573178093,
          3.935576387926228,
          4.077443125648106,
          4.174847346580062,
          4.080119400039341,
          4.089167162371475,
          3.8671841039625083,
          3.925008345074087,
          3.864486647452158,
          3.9573681295742684,
          4.010629773835942,
          3.9457485991382306,
          4.186827499432707,
          5.011370706689778,
          4.9822320667639834,
          4.951409031026369,
          4.891026542824982,
          5.912784422075774,
          5.813385961895817,
          6.164529386996548,
          6.167858564615884,
          6.163238083855454,
          6.159669069206732,
          5.844817020811284,
          5.851723533159829,
          6.148988616844409,
          6.1273596591241155,
          5.978522551979719,
          6.182489879841958,
          5.922317372789273,
          5.907071578450841,
          6.021240760076616,
          6.1096271189234805,
          5.971417563976164,
          5.902787054573581,
          5.892101088590981,
          6.096124659614341,
          5.931605323480008,
          6.061183158823049,
          6.086962659636429,
          5.98602846401343,
          5.97790106571442,
          5.924056299152284,
          5.966285510194293,
          5.958589655591075,
          5.992355393926723,
          6.122355909584687,
          6.196134864769233,
          6.040022363816148,
          6.055881198580257,
          6.1152215517339386,
          6.090310921557799,
          6.025814573340236,
          6.153409449059236,
          6.0970664902160605,
          5.93316314170972,
          5.927168676994694,
          5.903271788831676,
          6.014161211827125,
          5.935396216368936,
          6.055515370081114,
          6.075298782435088,
          5.8482335103279715,
          5.929070897608533,
          6.146013021052151,
          5.9434358066381385,
          6.152201689728267,
          5.897227555805751,
          6.098743087474982,
          7.103777946242837,
          6.905640271204251,
          7.166411715951404,
          7.190849402062417,
          6.839239809353327,
          6.823478982934708,
          8.079528304409509,
          9.115437105202888,
          9.833809754604605,
          9.994945035759121,
          10.187553616408854,
          9.805412083051774,
          9.87018919804045,
          9.919294557611872,
          10.108502423625966,
          10.120345883134362,
          9.978891362122733,
          10.115546749848086,
          9.977470612555665,
          9.946317406735325,
          10.194132904468393,
          10.84051035002388,
          11.093667982688352,
          10.906172364982055,
          11.175893415127181,
          10.960377438629024,
          11.115627042084855,
          11.18109190933895,
          11.111201696289125,
          10.974895482385758,
          10.879594636967454,
          10.81310495291353,
          11.122158143775446,
          11.146467524575902,
          12.042250718870868,
          12.926220663952925,
          12.985150435560517,
          12.901949817746587,
          13.124837673978599,
          12.878520253271205,
          12.910905999611174,
          12.978201716470958,
          13.156278471810833,
          13.068201972563676,
          12.973182528569467,
          13.052830704780371,
          12.89470760403736,
          12.846244451481901,
          12.978993580029778,
          13.820284366613185,
          14.146850256993998,
          14.11892921723456,
          13.903339948460081,
          13.952730083773465,
          14.115349193572719,
          13.956112281000745,
          13.983037738212827,
          13.9264711329839,
          14.091494456915036,
          13.962933501646136,
          13.96585134504939,
          14.060778073246661,
          14.123403003150564,
          14.178290378270557,
          14.121949386093537,
          13.905099937888295,
          13.90822596189142,
          13.818943462690012,
          13.992580760935363,
          14.12279723151536,
          13.970437569434383,
          13.806241019763423,
          14.008383977253471,
          13.919984586855334,
          14.16508648859019,
          14.097234966339293,
          13.91872429251152,
          14.115486043622537,
          14.106412637512157,
          14.039361901828384,
          13.81472893604751,
          14.00253487192467,
          14.11616090275776,
          14.15323593501595,
          13.94903723110345,
          14.005842276734082,
          13.876096871865414,
          14.06344787695084,
          14.093563712619337,
          14.046978766610767,
          13.981836467877672,
          13.966955324772815,
          13.968102669336206,
          13.994237134634982,
          14.012977435492633,
          13.988275021039676,
          13.8577244914694,
          13.827329101257602,
          13.973152528511719,
          14.155129790606077,
          14.160505800925282,
          14.055557566990995,
          13.925379787916658,
          13.963230767832213,
          13.906665402772479,
          13.901739067452045,
          13.90431344258677,
          14.121394208363796,
          14.048777493285085,
          13.817928713002521,
          14.140432573515483,
          13.906361800906044,
          14.103277703430862,
          13.931691551970447,
          14.199429866105815,
          14.064945469021694,
          13.900110661710174,
          14.090069765178907,
          13.837311586696202,
          13.89080714235128,
          13.865721306023955,
          14.186045338243037,
          14.103374411118525,
          13.905335076552731,
          14.141323555394557,
          13.85761440884729,
          13.903045465486016,
          15.159432177781937,
          14.882817753393125,
          14.97784993264886,
          15.137268664726014,
          15.173510452243125,
          15.183610094170005,
          14.915453153422025,
          14.994937207185997,
          15.033073990351246,
          14.891349444959744,
          15.183414150491686,
          14.858826803878245,
          14.873499027587847,
          14.92272237026854,
          14.920554944857699,
          15.112478366914772,
          15.119637165717512,
          15.032733161656559,
          15.193596021121705,
          15.14821346022121,
          14.899892855578452,
          15.113587508016149,
          15.127680726065577,
          15.031499735964626,
          15.002355950551086,
          14.874358061156695,
          14.93747353829339,
          14.926444393200576,
          14.85329346609426,
          15.102575512279554,
          14.857119518259795,
          15.093275191460325,
          15.192823251113591,
          14.952309062303604,
          14.876430694028961,
          15.047065727530475,
          15.109356034443381,
          15.069267039453736,
          14.806712501089864,
          14.854273016888762,
          16.97556667749409,
          16.979207334934674,
          17.134073015493637,
          17.0712090351777,
          17.09829750744298,
          16.924651745111852,
          17.023030692053354,
          17.00286679555136,
          17.125642371004513,
          16.850129788164338,
          16.803930427984206,
          16.872171826377073,
          16.823900026955922,
          17.099394033551686,
          16.964810835261343,
          17.150805507865158,
          16.94566952214555,
          16.971957781711595,
          17.136914228047946,
          17.062364725576497,
          17.14447003820312,
          17.062764570282596,
          16.969924175777578,
          17.183443765707715,
          17.032047088321555,
          16.95588325461066,
          17.17586557017419,
          17.08378546945579,
          16.923296062603214,
          16.948217921101726,
          17.159572679947864,
          17.162177384553317,
          16.948877269015515,
          16.818533712876643,
          16.911747568583593,
          16.972867552773007,
          17.084218040000646,
          16.909033602484584,
          17.058767685799022,
          18.028019849852885,
          18.192097941286253,
          17.983967335256082,
          18.040137885911804,
          17.989158515521243,
          18.15820039142075,
          18.038737151299767,
          18.000271034644427,
          17.838019812754943,
          17.838508560059722,
          18.011899408296287,
          17.806168334433046,
          17.897307086610496,
          18.029206150737966,
          18.13830207796193,
          18.123475624723586,
          17.841310634167435,
          18.192322631950738,
          18.134677184061555,
          17.992194515392544,
          17.83731246973314,
          18.14032639345066,
          17.828251870186943,
          18.11698411840203,
          17.972817760238513,
          18.19814897581298,
          18.01731471026747,
          17.84987830114466,
          18.126793904327187,
          17.819820357670267,
          17.92893735198927,
          17.918807703050593,
          17.984196407193707,
          17.942567593560618,
          18.109704603712043,
          18.14587268964399,
          17.944758597754,
          18.02923422292335,
          18.041181206264632,
          18.138606449446385,
          18.043490892198868,
          17.84318995673619,
          17.833525556593894,
          17.985898211525452,
          18.153773100991565,
          18.153738342150444,
          17.94821662419058,
          17.906236493790296,
          17.807752077332708,
          18.190296795988186,
          18.10627679574848,
          18.09083390607133,
          17.883697972585082,
          19.066868138893398,
          19.061963482833217,
          19.995264061976798,
          20.114056649194215,
          20.081621929435183,
          19.805669633269574,
          19.88853889458983,
          19.812691924915708,
          19.9540634669753,
          20.11109508981073,
          20.054277098627352,
          20.0858832765535,
          20.168828001876435,
          20.811395148736462,
          21.067162878877852
         ],
         "y": [
          0.9946666666666667,
          0.9946666666666667,
          0.294811320754717,
          0.998003992015968,
          0.998003992015968,
          0.998003992015968,
          0.998003992015968,
          0.998003992015968,
          0.998003992015968,
          0.998003992015968,
          0.998003992015968,
          0.998003992015968,
          0.998003992015968,
          0.998003992015968,
          0.998003992015968,
          0.998003992015968,
          0.998003992015968,
          0.998003992015968,
          0.998003992015968,
          0.998003992015968,
          0.9981024667931688,
          0.9981024667931688,
          0.9715370018975332,
          0.9715370018975332,
          0.9961538461538462,
          0.9961538461538462,
          0.9961538461538462,
          0.9961538461538462,
          0.9961538461538462,
          0.9980769230769231,
          0.9980769230769231,
          0.9980769230769231,
          0.9980769230769231,
          0.9961538461538462,
          0.9961538461538462,
          0.9980769230769231,
          0.9961538461538462,
          0.9961538461538462,
          0.9961538461538462,
          0.9961538461538462,
          0.9961538461538462,
          0.9961538461538462,
          0.9961538461538462,
          0.9961538461538462,
          0.9961538461538462,
          0.9961538461538462,
          0.9961538461538462,
          0.9961538461538462,
          0.9961538461538462,
          0.9980769230769231,
          0.9980769230769231,
          0.9980769230769231,
          0.9980769230769231,
          0.9980769230769231,
          0.9980769230769231,
          0.9980769230769231,
          0.9980769230769231,
          0.9961538461538462,
          0.9980769230769231,
          0.9961538461538462,
          0.9980769230769231,
          0.9980769230769231,
          0.9980769230769231,
          0.9980769230769231,
          0.9980769230769231,
          0.9980769230769231,
          0.9980769230769231,
          0.9980769230769231,
          0.9980769230769231,
          0.9980769230769231,
          0.9961538461538462,
          0.9980769230769231,
          0.9980769230769231,
          0.9980769230769231,
          0.9980769230769231,
          0.9980769230769231,
          0.9992526158445441,
          0.9992526158445441,
          0.9992526158445441,
          0.9992526158445441,
          0.9992526158445441,
          0.9992526158445441,
          0.9758308157099698,
          0.9476744186046512,
          0.9389002036659878,
          0.945010183299389,
          0.945010183299389,
          0.945010183299389,
          0.945010183299389,
          0.945010183299389,
          0.945010183299389,
          0.9389002036659878,
          0.9592668024439919,
          0.9592668024439919,
          0.9592668024439919,
          0.9592668024439919,
          0.9592668024439919,
          0.9387755102040817,
          0.9387755102040817,
          0.963265306122449,
          0.9387755102040817,
          0.9510204081632653,
          0.9510204081632653,
          0.9510204081632653,
          0.9612244897959183,
          0.9612244897959183,
          0.9612244897959183,
          0.9408163265306122,
          0.9612244897959183,
          0.9510204081632653,
          0.9510204081632653,
          0.93158953722334,
          0.93158953722334,
          0.93158953722334,
          0.93158953722334,
          0.93158953722334,
          0.93158953722334,
          0.903420523138833,
          0.93158953722334,
          0.93158953722334,
          0.93158953722334,
          0.93158953722334,
          0.93158953722334,
          0.93158953722334,
          0.93158953722334,
          0.952286282306163,
          0.9502982107355865,
          0.9502982107355865,
          0.9502982107355865,
          0.9502982107355865,
          0.9502982107355865,
          0.9502982107355865,
          0.9542743538767395,
          0.9542743538767395,
          0.9542743538767395,
          0.9542743538767395,
          0.9542743538767395,
          0.9542743538767395,
          0.9542743538767395,
          0.9542743538767395,
          0.9542743538767395,
          0.9542743538767395,
          0.9542743538767395,
          0.9542743538767395,
          0.9542743538767395,
          0.9542743538767395,
          0.9502982107355865,
          0.9542743538767395,
          0.9542743538767395,
          0.9582504970178927,
          0.9542743538767395,
          0.9582504970178927,
          0.9582504970178927,
          0.9582504970178927,
          0.9582504970178927,
          0.9582504970178927,
          0.9582504970178927,
          0.9582504970178927,
          0.9582504970178927,
          0.9582504970178927,
          0.9582504970178927,
          0.9582504970178927,
          0.9582504970178927,
          0.9582504970178927,
          0.9582504970178927,
          0.9582504970178927,
          0.9582504970178927,
          0.9582504970178927,
          0.9582504970178927,
          0.9582504970178927,
          0.9582504970178927,
          0.9582504970178927,
          0.9582504970178927,
          0.9582504970178927,
          0.9582504970178927,
          0.9582504970178927,
          0.9582504970178927,
          0.9582504970178927,
          0.9582504970178927,
          0.9582504970178927,
          0.9542743538767395,
          0.9582504970178927,
          0.9582504970178927,
          0.9582504970178927,
          0.9582504970178927,
          0.9582504970178927,
          0.9582504970178927,
          0.9582504970178927,
          0.9582504970178927,
          0.9582504970178927,
          0.9582504970178927,
          0.9582504970178927,
          0.9582504970178927,
          0.9582504970178927,
          0.9582504970178927,
          0.9582504970178927,
          0.9582504970178927,
          0.9582504970178927,
          0.9582504970178927,
          0.9582504970178927,
          0.9582504970178927,
          0.9582504970178927,
          0.9582504970178927,
          0.9178082191780822,
          0.9178082191780822,
          0.8835616438356164,
          0.8938356164383562,
          0.9006849315068494,
          0.9143835616438356,
          0.9143835616438356,
          0.9178082191780822,
          0.9178082191780822,
          0.9178082191780822,
          0.9178082191780822,
          0.9178082191780822,
          0.9178082191780822,
          0.9143835616438356,
          0.9143835616438356,
          0.9178082191780822,
          0.9178082191780822,
          0.9178082191780822,
          0.9178082191780822,
          0.9178082191780822,
          0.9178082191780822,
          0.9178082191780822,
          0.9965753424657534,
          0.9965753424657534,
          0.9178082191780822,
          0.9178082191780822,
          0.9178082191780822,
          0.9178082191780822,
          0.9178082191780822,
          0.9178082191780822,
          0.9178082191780822,
          0.9178082191780822,
          0.9041095890410958,
          0.8835616438356164,
          0.9178082191780822,
          0.9178082191780822,
          0.9178082191780822,
          0.9178082191780822,
          0.9178082191780822,
          0.9178082191780822,
          0.990990990990991,
          0.990990990990991,
          0.990990990990991,
          0.990990990990991,
          0.990990990990991,
          0.990990990990991,
          0.990990990990991,
          0.02252252252252252,
          0.9954954954954955,
          0.9954954954954955,
          0.9954954954954955,
          0.9954954954954955,
          0.990990990990991,
          0.990990990990991,
          0.9954954954954955,
          0.9954954954954955,
          0.9954954954954955,
          0.9954954954954955,
          0.9954954954954955,
          0.9954954954954955,
          0.990990990990991,
          0.9954954954954955,
          0.990990990990991,
          0.9954954954954955,
          0.9954954954954955,
          0.9954954954954955,
          0.972972972972973,
          0.990990990990991,
          0.2702702702702703,
          0.2072072072072072,
          0.990990990990991,
          0.990990990990991,
          0.990990990990991,
          0.990990990990991,
          0.9954954954954955,
          0.9954954954954955,
          0.9954954954954955,
          0.9954954954954955,
          0.9954954954954955,
          0.7004608294930875,
          0.7004608294930875,
          0.7004608294930875,
          0.7004608294930875,
          0.6935483870967742,
          0.6728110599078341,
          0.7004608294930875,
          0.7004608294930875,
          0.7004608294930875,
          0.7004608294930875,
          0.7004608294930875,
          0.7004608294930875,
          0.6658986175115207,
          0.7004608294930875,
          0.7004608294930875,
          0.7004608294930875,
          0.7004608294930875,
          0.7004608294930875,
          0.7004608294930875,
          0.695852534562212,
          0.7004608294930875,
          0.7004608294930875,
          0.6820276497695853,
          0.7004608294930875,
          0.7027649769585254,
          0.7004608294930875,
          0.7004608294930875,
          0.6820276497695853,
          0.7027649769585254,
          0.7004608294930875,
          0.7004608294930875,
          0.7004608294930875,
          0.7004608294930875,
          0.7004608294930875,
          0.7004608294930875,
          0.7004608294930875,
          0.7004608294930875,
          0.7004608294930875,
          0.7004608294930875,
          0.7004608294930875,
          0.7004608294930875,
          0.7004608294930875,
          0.7004608294930875,
          0.7004608294930875,
          0.684331797235023,
          0.684331797235023,
          0.684331797235023,
          0.684331797235023,
          0.7004608294930875,
          0.7004608294930875,
          0.7004608294930875,
          0.7004608294930875,
          0.7004608294930875,
          0.7073863636363636,
          0.7073863636363636,
          0.9966101694915255,
          0.9966101694915255,
          0.9966101694915255,
          0.9966101694915255,
          0.9966101694915255,
          0.9932203389830508,
          0.9966101694915255,
          0.9966101694915255,
          0.9966101694915255,
          0.9966101694915255,
          0.9966101694915255,
          0.9984996249062266,
          0.9992498124531133
         ],
         "type": "scatter",
         "xaxis": "x2",
         "yaxis": "y2"
        },
        {
         "legendgroup": "EM",
         "marker": {
          "color": "#ffb418",
          "line": {
           "color": "black",
           "width": 2
          },
          "size": 10,
          "symbol": "circle"
         },
         "mode": "markers",
         "name": "EM",
         "opacity": 1,
         "showlegend": false,
         "x": [
          2.901444297487227,
          4.1860241689738995,
          4.146193063943567,
          3.8019079404689857,
          6.874262127455804
         ],
         "y": [
          0.5141509433962265,
          0.998003992015968,
          0.998003992015968,
          0.998003992015968,
          0.9992526158445441
         ],
         "type": "scatter",
         "xaxis": "x2",
         "yaxis": "y2"
        },
        {
         "legendgroup": "X-ray",
         "legendgrouptitle": {
          "text": "Method (Symbol)"
         },
         "marker": {
          "color": "#5e2bcb",
          "line": {
           "color": "black",
           "width": 1
          },
          "size": 10,
          "symbol": "diamond-tall"
         },
         "mode": "markers",
         "name": "X-ray",
         "opacity": 1,
         "showlegend": false,
         "x": [
          21.82746730584963,
          21.918420837345465,
          22.12376097274692,
          22.071884397065826,
          22.080691064621853,
          21.81191447928996,
          21.830180929702852,
          21.871929434397106,
          23.830041426779744,
          24.114187910875756,
          24.083712521876407,
          26.118669779866096,
          26.11477342524872,
          25.900591780386634,
          26.140392899078197,
          26.1497347966421,
          25.970765137989,
          27.121658461182143,
          27.13813433443586,
          27.10731783414947,
          27.101501172161075,
          27.992464693224193,
          27.804301553966365,
          28.05819789931197,
          28.10232137657852,
          27.928267227924852,
          29.047957322756844,
          28.81729866412326,
          28.857374175833623,
          29.162170566863544,
          29.023400841790313,
          29.13999681288858,
          29.051451174242967,
          29.163456041805023,
          31.805545231183338,
          31.993168277140374,
          33.08859370068898,
          33.10747697753854,
          32.85889622000481,
          33.12634559132819,
          33.84750832218313,
          33.93072087036492,
          33.992186184799884,
          34.00521730415189,
          34.06775402801132,
          34.03213634628739,
          33.96024796704519,
          34.08154949951738,
          34.175467480242816,
          33.89624643729725,
          34.085486757082194,
          34.066375492002436,
          34.19620419698181,
          34.02839123485124,
          34.02296252397079,
          33.95080684786359,
          33.94988282431249,
          34.03097146274122,
          34.123339943720474,
          33.81963038335136,
          33.87621455922339,
          33.82473720043995,
          34.141108294587276,
          33.85275293488528,
          33.89353884931609,
          33.92336801708006,
          33.87511747266241,
          33.88772114124394,
          33.91013334449843,
          33.82997984194824,
          34.00973945852014,
          33.808763212724585,
          34.15983566720917,
          33.936866409413526,
          34.173511885605464,
          33.983403222451486,
          35.00347502440087,
          35.18750911818349,
          35.95899358055148,
          36.1852793326305,
          35.96360595309531,
          35.818211741880724,
          35.95075386635055,
          36.09271433263572,
          35.91730427686398,
          36.021222172795746,
          36.02349506250966,
          35.80282184754955,
          35.89507644150942,
          35.98257826711942,
          35.83017271138416,
          36.09451398274134,
          36.04460751299422,
          38.100807250549295,
          37.98187067252479,
          38.144497004341815,
          37.87601738979779,
          37.84190166891095,
          37.9223907006644,
          38.06297380970547,
          39.11298041508097,
          38.942234149193126,
          40.16598972162652,
          40.01651872238241,
          41.05881516082886,
          41.935626499808016,
          41.81048804141722,
          42.090635518921765,
          41.827285960475415,
          44.8557174563915,
          45.00505651586101,
          44.91848149910878,
          44.83889153284456,
          45.11701163569584,
          44.8335122753834,
          45.02324285077912,
          44.902748515959765,
          44.90158999053511,
          45.00870369472845,
          45.128473942783984,
          45.133062380517245,
          46.032979971710176,
          46.03041326188413,
          46.04280050282028,
          46.18853967152968,
          45.91126943697565,
          46.17540695724077
         ],
         "y": [
          0.31496881496881496,
          0.31496881496881496,
          0.31496881496881496,
          0.30561330561330563,
          0.31392931392931395,
          0.31496881496881496,
          0.31496881496881496,
          0.31392931392931395,
          0.0297029702970297,
          0.0297029702970297,
          0.0297029702970297,
          0.4063745019920319,
          0.4063745019920319,
          0.4063745019920319,
          0.4063745019920319,
          0.4063745019920319,
          0.4063745019920319,
          0.4405010438413361,
          0.4405010438413361,
          0.4405010438413361,
          0.4405010438413361,
          0.34891304347826085,
          0.34891304347826085,
          0.29891304347826086,
          0.29891304347826086,
          0.29891304347826086,
          0.3272532188841202,
          0.9978540772532188,
          0.9978540772532188,
          0.9785407725321889,
          0.9785407725321889,
          0.9785407725321889,
          0.9785407725321889,
          0.9785407725321889,
          0.9139784946236559,
          0.9139784946236559,
          0.7232704402515723,
          0.7232704402515723,
          0.7232704402515723,
          0.7232704402515723,
          0.009685230024213076,
          0.8813559322033898,
          0.8256658595641646,
          0.400726392251816,
          0.3801452784503632,
          0.8789346246973365,
          0.3801452784503632,
          0.3801452784503632,
          0.3801452784503632,
          0.400726392251816,
          0.3498789346246973,
          0.8135593220338984,
          0.8135593220338984,
          0.7723970944309927,
          0.7723970944309927,
          0.7723970944309927,
          0.7723970944309927,
          0.400726392251816,
          0.400726392251816,
          0.3910411622276029,
          0.7699757869249395,
          0.39951573849878935,
          0.39709443099273606,
          0.8135593220338984,
          0.7723970944309927,
          0.39951573849878935,
          0.3789346246973366,
          0.3789346246973366,
          0.3789346246973366,
          0.3789346246973366,
          0.3789346246973366,
          0.3789346246973366,
          0.3789346246973366,
          0.3789346246973366,
          0.7723970944309927,
          0.7723970944309927,
          0.9028697571743929,
          0.9161147902869757,
          0.00765420981539847,
          0.014858171994597028,
          0.009004952723998198,
          0.009004952723998198,
          0.03286807744259343,
          0.034218820351193155,
          0.00810445745159838,
          0.00810445745159838,
          0.014858171994597028,
          0.014858171994597028,
          0.014858171994597028,
          0.014858171994597028,
          0.014858171994597028,
          0.014858171994597028,
          0.014858171994597028,
          0.3061440677966102,
          0.3167372881355932,
          0.3061440677966102,
          0.3061440677966102,
          0.3029661016949153,
          0.3305084745762712,
          0.298728813559322,
          0.4041666666666667,
          0.4041666666666667,
          0.13157894736842105,
          0.13157894736842105,
          0.29055441478439425,
          0.09404659188955997,
          0.10785159620362382,
          0.11561691113028473,
          0.11216566005176877,
          0.8603174603174604,
          0.8603174603174604,
          0.8603174603174604,
          0.8603174603174604,
          0.8603174603174604,
          0.8603174603174604,
          0.8603174603174604,
          0.8603174603174604,
          0.8603174603174604,
          0.8603174603174604,
          0.8603174603174604,
          0.8603174603174604,
          0.08283730158730158,
          0.015376984126984126,
          0.08283730158730158,
          0.07738095238095238,
          0.022817460317460316,
          0.06746031746031746
         ],
         "type": "scatter",
         "xaxis": "x2",
         "yaxis": "y2"
        },
        {
         "legendgroup": "EM",
         "marker": {
          "color": "#5e2bcb",
          "line": {
           "color": "black",
           "width": 2
          },
          "size": 10,
          "symbol": "circle"
         },
         "mode": "markers",
         "name": "EM",
         "opacity": 1,
         "showlegend": false,
         "x": [
          22.091515363000674,
          22.076299887411274,
          22.160315298428515,
          24.182271688112632,
          23.89272273010821,
          26.085404772335995,
          26.196815478591994,
          26.088179110594556,
          26.1568675658687,
          25.99283907226468,
          26.167375328222427,
          25.85837518011748,
          25.92505009744424,
          26.104706696316576,
          25.862066991936373,
          25.815179879575165,
          27.97945581812405,
          29.086428769594818,
          29.116247729757358,
          28.97754774175338,
          28.842927340976082,
          28.926910774452118,
          28.86424443319671,
          30.07696365791219,
          29.823534709376148,
          29.87512536294062,
          29.995873273116334,
          31.127118032026846,
          31.15553085662465,
          32.0786359169946,
          32.14031712378502,
          31.931942129275765,
          31.95429628861584,
          31.973000433692135,
          31.87302279971655,
          32.03466630854058,
          34.105620432448006,
          34.19338820965784,
          34.075816970549425,
          33.88490111521281,
          34.19955561760287,
          34.15540215780749,
          36.170834156716346,
          35.85314065437856,
          36.872160754922305,
          37.18341411769235,
          36.83268203459796,
          36.843664608897576,
          37.09447361464872,
          37.86907682453034,
          38.06002566470231,
          37.81125153298958,
          38.02480404040918,
          38.90808733862562,
          39.137833559184635,
          38.803247836324864,
          38.85664344003284,
          38.92795903198823,
          38.97797093783675,
          39.8736770499803,
          39.86396956572018,
          39.80457550981009,
          40.07895071454672,
          39.85371610252674,
          39.96390408583115,
          40.13554683457767,
          40.11667891534104,
          40.179672744843884,
          40.03577744137167,
          40.165553131356944,
          39.987331201942176,
          39.96309690280426,
          39.82949932795028,
          40.11360654699611,
          39.913604269522295,
          40.065208586919425,
          39.880278175793705,
          39.92018455134377,
          40.03516270838121,
          39.8630363810995,
          39.996455440858846,
          40.06508859869283,
          40.02471612545185,
          39.89890404625574,
          39.91112567247866,
          39.815529487864026,
          41.16314025163932,
          42.054055529628606,
          42.18349038627082,
          42.036366351534035,
          45.04274124101762,
          44.967384124706285,
          44.98478369000199,
          45.07534360712053,
          44.81655055318411,
          44.969563289514284,
          45.02372376646711,
          44.93105247573206,
          45.102687755488155,
          45.1977290987875,
          44.84663692652139,
          45.00978728971917,
          45.19317755094891,
          45.14501913321295,
          44.81093499548569,
          45.941411499481255,
          45.862136325741545
         ],
         "y": [
          0.7671517671517671,
          0.7671517671517671,
          0.8898128898128899,
          0.41287128712871285,
          0.41287128712871285,
          0.99800796812749,
          0.99800796812749,
          0.99800796812749,
          0.4402390438247012,
          0.4402390438247012,
          0.4402390438247012,
          0.36852589641434264,
          0.952191235059761,
          0.36852589641434264,
          0.36852589641434264,
          0.36852589641434264,
          0.9956521739130435,
          0.9935622317596566,
          0.9957081545064378,
          0.3497854077253219,
          0.3497854077253219,
          0.3497854077253219,
          0.3497854077253219,
          0.9220338983050848,
          0.9220338983050848,
          0.9220338983050848,
          0.9220338983050848,
          0.7188841201716738,
          0.7188841201716738,
          0.015053763440860216,
          0.9978494623655914,
          0.9978494623655914,
          0.9978494623655914,
          0.9978494623655914,
          0.9978494623655914,
          0.9978494623655914,
          0.7554479418886199,
          0.8401937046004843,
          0.8401937046004843,
          0.8401937046004843,
          0.3365617433414044,
          0.7530266343825666,
          0.6974335884736605,
          0.7631697433588474,
          0.9983277591973244,
          0.9983277591973244,
          0.9983277591973244,
          0.9983277591973244,
          0.9983277591973244,
          0.75,
          0.9978813559322034,
          0.9978813559322034,
          0.9978813559322034,
          0.9972222222222222,
          0.9972222222222222,
          0.9972222222222222,
          0.9972222222222222,
          0.9972222222222222,
          0.9416666666666667,
          0.3826754385964912,
          0.3826754385964912,
          0.9385964912280702,
          0.9978070175438597,
          0.9978070175438597,
          0.9978070175438597,
          0.9978070175438597,
          0.9978070175438597,
          0.3826754385964912,
          0.3815789473684211,
          0.3815789473684211,
          0.3826754385964912,
          0.3826754385964912,
          0.3826754385964912,
          0.3826754385964912,
          0.3826754385964912,
          0.3782894736842105,
          0.3782894736842105,
          0.3782894736842105,
          0.9978070175438597,
          0.3706140350877193,
          0.3706140350877193,
          0.6820175438596491,
          0.6820175438596491,
          0.3826754385964912,
          0.3826754385964912,
          0.3826754385964912,
          0.997946611909651,
          0.999137187230371,
          0.999137187230371,
          0.999137187230371,
          0.8507936507936508,
          0.8507936507936508,
          0.8507936507936508,
          0.8555555555555555,
          0.9984126984126984,
          0.9984126984126984,
          0.9984126984126984,
          0.8539682539682539,
          0.8507936507936508,
          0.8539682539682539,
          0.8539682539682539,
          0.8539682539682539,
          0.8571428571428571,
          0.8507936507936508,
          0.8571428571428571,
          0.9995039682539683,
          0.9995039682539683
         ],
         "type": "scatter",
         "xaxis": "x2",
         "yaxis": "y2"
        },
        {
         "legendgroup": "X-ray",
         "legendgrouptitle": {
          "text": "Method (Symbol)"
         },
         "marker": {
          "color": "#d07c09",
          "line": {
           "color": "black",
           "width": 1
          },
          "size": 10,
          "symbol": "diamond-tall"
         },
         "mode": "markers",
         "name": "X-ray",
         "opacity": 1,
         "showlegend": true,
         "x": [
          49.84466455050718,
          49.86754336514165
         ],
         "y": [
          0.1495754408883083,
          0.16525146962769433
         ],
         "type": "scatter",
         "xaxis": "x2",
         "yaxis": "y2"
        },
        {
         "legendgroup": "EM",
         "marker": {
          "color": "#d07c09",
          "line": {
           "color": "black",
           "width": 2
          },
          "size": 10,
          "symbol": "circle"
         },
         "mode": "markers",
         "name": "EM",
         "opacity": 1,
         "showlegend": true,
         "x": [
          46.801197406305754,
          47.04461059649178,
          46.8264945811856,
          48.09943329289255,
          47.985029205858176,
          48.19006046978348,
          48.110009559173776,
          47.83489947380001,
          48.105498280701234,
          47.910156409793956,
          47.897260146590874,
          48.02737408580343,
          48.15837595686872,
          47.993428442205115,
          48.065918077135,
          47.881029913816676,
          47.90845459146845,
          48.16489612379223,
          47.9707670605277,
          47.91001106153318,
          48.092637266820184,
          47.996098598417476,
          47.856628508285944,
          48.083406511609724,
          48.06424414821321,
          47.85081229516932,
          48.16211994754214,
          49.127206810231364,
          49.141493067820456,
          48.889815625220976,
          48.80876541374354,
          48.97327742089169,
          49.03886903067274,
          48.8227448833182,
          48.92533374573999,
          48.98837477350138,
          48.90304537834785,
          51.11765972716566,
          50.92058152070497,
          50.97428078144036,
          55.0502812264241,
          55.079891598322575,
          55.01569888670801,
          54.966438505577166,
          54.854023187148165,
          55.01587009730921,
          56.12701772912532
         ],
         "y": [
          0.9992429977289932,
          0.9606358819076457,
          0.9992429977289932,
          0.9969465648854962,
          0.9969465648854962,
          0.9984732824427481,
          0.9984732824427481,
          0.9969465648854962,
          0.9984732824427481,
          0.9969465648854962,
          0.9984732824427481,
          0.9984732824427481,
          0.9984732824427481,
          0.9984732824427481,
          0.9984732824427481,
          0.9984732824427481,
          0.9984732824427481,
          0.9984732824427481,
          0.9984732824427481,
          0.9969465648854962,
          0.9969465648854962,
          0.9969465648854962,
          0.9969465648854962,
          0.9969465648854962,
          0.9984732824427481,
          0.9984732824427481,
          0.9984732824427481,
          0.99921875,
          0.97421875,
          0.9984375,
          0.99921875,
          0.99921875,
          0.99921875,
          0.99921875,
          0.99921875,
          0.99921875,
          0.99921875,
          0.998587570621469,
          0.998587570621469,
          0.998587570621469,
          0.9985528219971056,
          0.9985528219971056,
          0.9985528219971056,
          0.9985528219971056,
          0.9985528219971056,
          0.9985528219971056,
          0.9985754985754985
         ],
         "type": "scatter",
         "xaxis": "x2",
         "yaxis": "y2"
        },
        {
         "legendgroup": "AlphaFold",
         "marker": {
          "color": "#11efb7",
          "line": {
           "color": "black",
           "width": 1
          },
          "size": 10,
          "symbol": "circle-open"
         },
         "mode": "markers",
         "name": "AlphaFold",
         "showlegend": false,
         "x": [
          0,
          1
         ],
         "y": [
          0.72,
          0.8832236842105263
         ],
         "type": "scatter",
         "xaxis": "x3",
         "yaxis": "y3"
        },
        {
         "legendgroup": "AlphaFold",
         "marker": {
          "color": "#ffb418",
          "line": {
           "color": "black",
           "width": 1
          },
          "size": 10,
          "symbol": "circle-open"
         },
         "mode": "markers",
         "name": "AlphaFold",
         "showlegend": false,
         "x": [
          2,
          3,
          4,
          5,
          6,
          7,
          8,
          9,
          10,
          11,
          12,
          13,
          14,
          15,
          16,
          17,
          18,
          19,
          20,
          21
         ],
         "y": [
          0.9973262032085561,
          0.21251475796930341,
          0.98,
          0.9695817490494296,
          0.9171483622350675,
          0.9214659685863874,
          0.9606060606060606,
          0.916504854368932,
          0.9040816326530612,
          0.787321063394683,
          0.8609406952965235,
          0.8568548387096774,
          0.8147410358565738,
          0.8694158075601375,
          0.8606403013182674,
          0.9773755656108597,
          0.6859122401847575,
          0.7293447293447294,
          0.9761904761904762,
          0.9346846846846847
         ],
         "type": "scatter",
         "xaxis": "x3",
         "yaxis": "y3"
        },
        {
         "legendgroup": "AlphaFold",
         "marker": {
          "color": "#5e2bcb",
          "line": {
           "color": "black",
           "width": 1
          },
          "size": 10,
          "symbol": "circle-open"
         },
         "mode": "markers",
         "name": "AlphaFold",
         "showlegend": false,
         "x": [
          22,
          23,
          24,
          25,
          26,
          27,
          28,
          29,
          30,
          31,
          32,
          33,
          34,
          35,
          36,
          37,
          38,
          39,
          40,
          41,
          42,
          43,
          44,
          45,
          46
         ],
         "y": [
          0.38125,
          0.5033407572383074,
          0.6011904761904762,
          0.4518201284796574,
          0.3772455089820359,
          0.45188284518828453,
          0.5054466230936819,
          0.5118279569892473,
          0.32088285229202035,
          0.4236559139784946,
          0.47413793103448276,
          0.4831932773109244,
          0.587378640776699,
          0.9048672566371682,
          0.09684684684684684,
          0.4221105527638191,
          0.46284501061571126,
          0.637883008356546,
          0.6505494505494506,
          0.3991769547325103,
          0.25734024179620035,
          0.7386363636363636,
          0.7382875605815832,
          0.7567567567567568,
          0.11017369727047147
         ],
         "type": "scatter",
         "xaxis": "x3",
         "yaxis": "y3"
        },
        {
         "legendgroup": "AlphaFold",
         "marker": {
          "color": "#d07c09",
          "line": {
           "color": "black",
           "width": 1
          },
          "size": 10,
          "symbol": "circle-open"
         },
         "mode": "markers",
         "name": "AlphaFold",
         "showlegend": true,
         "x": [
          47,
          48,
          49,
          50,
          51,
          52,
          53,
          54,
          55,
          56
         ],
         "y": [
          0.47954545454545455,
          0.6498470948012233,
          0.5504300234558248,
          0.4071895424836601,
          0.5190947666195191,
          0.39679715302491103,
          0.5138632162661737,
          0.7873462214411248,
          0.5173913043478261,
          0.4964336661911555
         ],
         "type": "scatter",
         "xaxis": "x3",
         "yaxis": "y3"
        }
       ],
       "layout": {
        "template": {
         "data": {
          "histogram2dcontour": [
           {
            "type": "histogram2dcontour",
            "colorbar": {
             "outlinewidth": 1,
             "ticks": "outside",
             "tickcolor": "rgb(36,36,36)"
            },
            "colorscale": [
             [
              0.0,
              "#440154"
             ],
             [
              0.1111111111111111,
              "#482878"
             ],
             [
              0.2222222222222222,
              "#3e4989"
             ],
             [
              0.3333333333333333,
              "#31688e"
             ],
             [
              0.4444444444444444,
              "#26828e"
             ],
             [
              0.5555555555555556,
              "#1f9e89"
             ],
             [
              0.6666666666666666,
              "#35b779"
             ],
             [
              0.7777777777777778,
              "#6ece58"
             ],
             [
              0.8888888888888888,
              "#b5de2b"
             ],
             [
              1.0,
              "#fde725"
             ]
            ]
           }
          ],
          "choropleth": [
           {
            "type": "choropleth",
            "colorbar": {
             "outlinewidth": 1,
             "ticks": "outside",
             "tickcolor": "rgb(36,36,36)"
            }
           }
          ],
          "histogram2d": [
           {
            "type": "histogram2d",
            "colorbar": {
             "outlinewidth": 1,
             "ticks": "outside",
             "tickcolor": "rgb(36,36,36)"
            },
            "colorscale": [
             [
              0.0,
              "#440154"
             ],
             [
              0.1111111111111111,
              "#482878"
             ],
             [
              0.2222222222222222,
              "#3e4989"
             ],
             [
              0.3333333333333333,
              "#31688e"
             ],
             [
              0.4444444444444444,
              "#26828e"
             ],
             [
              0.5555555555555556,
              "#1f9e89"
             ],
             [
              0.6666666666666666,
              "#35b779"
             ],
             [
              0.7777777777777778,
              "#6ece58"
             ],
             [
              0.8888888888888888,
              "#b5de2b"
             ],
             [
              1.0,
              "#fde725"
             ]
            ]
           }
          ],
          "heatmap": [
           {
            "type": "heatmap",
            "colorbar": {
             "outlinewidth": 1,
             "ticks": "outside",
             "tickcolor": "rgb(36,36,36)"
            },
            "colorscale": [
             [
              0.0,
              "#440154"
             ],
             [
              0.1111111111111111,
              "#482878"
             ],
             [
              0.2222222222222222,
              "#3e4989"
             ],
             [
              0.3333333333333333,
              "#31688e"
             ],
             [
              0.4444444444444444,
              "#26828e"
             ],
             [
              0.5555555555555556,
              "#1f9e89"
             ],
             [
              0.6666666666666666,
              "#35b779"
             ],
             [
              0.7777777777777778,
              "#6ece58"
             ],
             [
              0.8888888888888888,
              "#b5de2b"
             ],
             [
              1.0,
              "#fde725"
             ]
            ]
           }
          ],
          "heatmapgl": [
           {
            "type": "heatmapgl",
            "colorbar": {
             "outlinewidth": 1,
             "ticks": "outside",
             "tickcolor": "rgb(36,36,36)"
            },
            "colorscale": [
             [
              0.0,
              "#440154"
             ],
             [
              0.1111111111111111,
              "#482878"
             ],
             [
              0.2222222222222222,
              "#3e4989"
             ],
             [
              0.3333333333333333,
              "#31688e"
             ],
             [
              0.4444444444444444,
              "#26828e"
             ],
             [
              0.5555555555555556,
              "#1f9e89"
             ],
             [
              0.6666666666666666,
              "#35b779"
             ],
             [
              0.7777777777777778,
              "#6ece58"
             ],
             [
              0.8888888888888888,
              "#b5de2b"
             ],
             [
              1.0,
              "#fde725"
             ]
            ]
           }
          ],
          "contourcarpet": [
           {
            "type": "contourcarpet",
            "colorbar": {
             "outlinewidth": 1,
             "ticks": "outside",
             "tickcolor": "rgb(36,36,36)"
            }
           }
          ],
          "contour": [
           {
            "type": "contour",
            "colorbar": {
             "outlinewidth": 1,
             "ticks": "outside",
             "tickcolor": "rgb(36,36,36)"
            },
            "colorscale": [
             [
              0.0,
              "#440154"
             ],
             [
              0.1111111111111111,
              "#482878"
             ],
             [
              0.2222222222222222,
              "#3e4989"
             ],
             [
              0.3333333333333333,
              "#31688e"
             ],
             [
              0.4444444444444444,
              "#26828e"
             ],
             [
              0.5555555555555556,
              "#1f9e89"
             ],
             [
              0.6666666666666666,
              "#35b779"
             ],
             [
              0.7777777777777778,
              "#6ece58"
             ],
             [
              0.8888888888888888,
              "#b5de2b"
             ],
             [
              1.0,
              "#fde725"
             ]
            ]
           }
          ],
          "surface": [
           {
            "type": "surface",
            "colorbar": {
             "outlinewidth": 1,
             "ticks": "outside",
             "tickcolor": "rgb(36,36,36)"
            },
            "colorscale": [
             [
              0.0,
              "#440154"
             ],
             [
              0.1111111111111111,
              "#482878"
             ],
             [
              0.2222222222222222,
              "#3e4989"
             ],
             [
              0.3333333333333333,
              "#31688e"
             ],
             [
              0.4444444444444444,
              "#26828e"
             ],
             [
              0.5555555555555556,
              "#1f9e89"
             ],
             [
              0.6666666666666666,
              "#35b779"
             ],
             [
              0.7777777777777778,
              "#6ece58"
             ],
             [
              0.8888888888888888,
              "#b5de2b"
             ],
             [
              1.0,
              "#fde725"
             ]
            ]
           }
          ],
          "mesh3d": [
           {
            "type": "mesh3d",
            "colorbar": {
             "outlinewidth": 1,
             "ticks": "outside",
             "tickcolor": "rgb(36,36,36)"
            }
           }
          ],
          "scatter": [
           {
            "marker": {
             "line": {
              "color": "#283442"
             }
            },
            "type": "scatter",
            "fillpattern": {
             "fillmode": "overlay",
             "size": 10,
             "solidity": 0.2
            }
           }
          ],
          "parcoords": [
           {
            "type": "parcoords",
            "line": {
             "colorbar": {
              "outlinewidth": 1,
              "ticks": "outside",
              "tickcolor": "rgb(36,36,36)"
             }
            }
           }
          ],
          "scatterpolargl": [
           {
            "type": "scatterpolargl",
            "marker": {
             "colorbar": {
              "outlinewidth": 1,
              "ticks": "outside",
              "tickcolor": "rgb(36,36,36)"
             }
            }
           }
          ],
          "bar": [
           {
            "error_x": {
             "color": "rgb(36,36,36)"
            },
            "error_y": {
             "color": "rgb(36,36,36)"
            },
            "marker": {
             "line": {
              "color": "white",
              "width": 0.5
             },
             "pattern": {
              "fillmode": "overlay",
              "size": 10,
              "solidity": 0.2
             }
            },
            "type": "bar"
           }
          ],
          "scattergeo": [
           {
            "type": "scattergeo",
            "marker": {
             "colorbar": {
              "outlinewidth": 1,
              "ticks": "outside",
              "tickcolor": "rgb(36,36,36)"
             }
            }
           }
          ],
          "scatterpolar": [
           {
            "type": "scatterpolar",
            "marker": {
             "colorbar": {
              "outlinewidth": 1,
              "ticks": "outside",
              "tickcolor": "rgb(36,36,36)"
             }
            }
           }
          ],
          "histogram": [
           {
            "marker": {
             "pattern": {
              "fillmode": "overlay",
              "size": 10,
              "solidity": 0.2
             },
             "line": {
              "color": "white",
              "width": 0.6
             }
            },
            "type": "histogram"
           }
          ],
          "scattergl": [
           {
            "marker": {
             "line": {
              "color": "#283442"
             },
             "colorbar": {
              "outlinewidth": 1,
              "tickcolor": "rgb(36,36,36)",
              "ticks": "outside"
             }
            },
            "type": "scattergl"
           }
          ],
          "scatter3d": [
           {
            "type": "scatter3d",
            "line": {
             "colorbar": {
              "outlinewidth": 1,
              "ticks": "outside",
              "tickcolor": "rgb(36,36,36)"
             }
            },
            "marker": {
             "colorbar": {
              "outlinewidth": 1,
              "ticks": "outside",
              "tickcolor": "rgb(36,36,36)"
             }
            }
           }
          ],
          "scattermapbox": [
           {
            "type": "scattermapbox",
            "marker": {
             "colorbar": {
              "outlinewidth": 1,
              "ticks": "outside",
              "tickcolor": "rgb(36,36,36)"
             }
            }
           }
          ],
          "scatterternary": [
           {
            "type": "scatterternary",
            "marker": {
             "colorbar": {
              "outlinewidth": 1,
              "ticks": "outside",
              "tickcolor": "rgb(36,36,36)"
             }
            }
           }
          ],
          "scattercarpet": [
           {
            "type": "scattercarpet",
            "marker": {
             "colorbar": {
              "outlinewidth": 1,
              "ticks": "outside",
              "tickcolor": "rgb(36,36,36)"
             }
            }
           }
          ],
          "carpet": [
           {
            "aaxis": {
             "endlinecolor": "rgb(36,36,36)",
             "gridcolor": "white",
             "linecolor": "white",
             "minorgridcolor": "white",
             "startlinecolor": "rgb(36,36,36)"
            },
            "baxis": {
             "endlinecolor": "rgb(36,36,36)",
             "gridcolor": "white",
             "linecolor": "white",
             "minorgridcolor": "white",
             "startlinecolor": "rgb(36,36,36)"
            },
            "type": "carpet"
           }
          ],
          "table": [
           {
            "cells": {
             "fill": {
              "color": "rgb(237,237,237)"
             },
             "line": {
              "color": "white"
             }
            },
            "header": {
             "fill": {
              "color": "rgb(217,217,217)"
             },
             "line": {
              "color": "white"
             }
            },
            "type": "table"
           }
          ],
          "barpolar": [
           {
            "marker": {
             "line": {
              "color": "white",
              "width": 0.5
             },
             "pattern": {
              "fillmode": "overlay",
              "size": 10,
              "solidity": 0.2
             }
            },
            "type": "barpolar"
           }
          ],
          "pie": [
           {
            "automargin": true,
            "type": "pie"
           }
          ]
         },
         "layout": {
          "autotypenumbers": "strict",
          "colorway": [
           "#1F77B4",
           "#FF7F0E",
           "#2CA02C",
           "#D62728",
           "#9467BD",
           "#8C564B",
           "#E377C2",
           "#7F7F7F",
           "#BCBD22",
           "#17BECF"
          ],
          "font": {
           "color": "rgb(36,36,36)"
          },
          "hovermode": "closest",
          "hoverlabel": {
           "align": "left"
          },
          "paper_bgcolor": "white",
          "plot_bgcolor": "white",
          "polar": {
           "bgcolor": "white",
           "angularaxis": {
            "gridcolor": "rgb(232,232,232)",
            "linecolor": "rgb(36,36,36)",
            "ticks": "outside",
            "showgrid": false,
            "showline": true
           },
           "radialaxis": {
            "gridcolor": "rgb(232,232,232)",
            "linecolor": "rgb(36,36,36)",
            "ticks": "outside",
            "showgrid": false,
            "showline": true
           }
          },
          "ternary": {
           "bgcolor": "white",
           "aaxis": {
            "gridcolor": "rgb(232,232,232)",
            "linecolor": "rgb(36,36,36)",
            "ticks": "outside",
            "showgrid": false,
            "showline": true
           },
           "baxis": {
            "gridcolor": "rgb(232,232,232)",
            "linecolor": "rgb(36,36,36)",
            "ticks": "outside",
            "showgrid": false,
            "showline": true
           },
           "caxis": {
            "gridcolor": "rgb(232,232,232)",
            "linecolor": "rgb(36,36,36)",
            "ticks": "outside",
            "showgrid": false,
            "showline": true
           }
          },
          "coloraxis": {
           "colorbar": {
            "outlinewidth": 1,
            "ticks": "outside",
            "tickcolor": "rgb(36,36,36)"
           }
          },
          "colorscale": {
           "sequential": [
            [
             0.0,
             "#440154"
            ],
            [
             0.1111111111111111,
             "#482878"
            ],
            [
             0.2222222222222222,
             "#3e4989"
            ],
            [
             0.3333333333333333,
             "#31688e"
            ],
            [
             0.4444444444444444,
             "#26828e"
            ],
            [
             0.5555555555555556,
             "#1f9e89"
            ],
            [
             0.6666666666666666,
             "#35b779"
            ],
            [
             0.7777777777777778,
             "#6ece58"
            ],
            [
             0.8888888888888888,
             "#b5de2b"
            ],
            [
             1.0,
             "#fde725"
            ]
           ],
           "sequentialminus": [
            [
             0.0,
             "#440154"
            ],
            [
             0.1111111111111111,
             "#482878"
            ],
            [
             0.2222222222222222,
             "#3e4989"
            ],
            [
             0.3333333333333333,
             "#31688e"
            ],
            [
             0.4444444444444444,
             "#26828e"
            ],
            [
             0.5555555555555556,
             "#1f9e89"
            ],
            [
             0.6666666666666666,
             "#35b779"
            ],
            [
             0.7777777777777778,
             "#6ece58"
            ],
            [
             0.8888888888888888,
             "#b5de2b"
            ],
            [
             1.0,
             "#fde725"
            ]
           ],
           "diverging": [
            [
             0.0,
             "rgb(103,0,31)"
            ],
            [
             0.1,
             "rgb(178,24,43)"
            ],
            [
             0.2,
             "rgb(214,96,77)"
            ],
            [
             0.3,
             "rgb(244,165,130)"
            ],
            [
             0.4,
             "rgb(253,219,199)"
            ],
            [
             0.5,
             "rgb(247,247,247)"
            ],
            [
             0.6,
             "rgb(209,229,240)"
            ],
            [
             0.7,
             "rgb(146,197,222)"
            ],
            [
             0.8,
             "rgb(67,147,195)"
            ],
            [
             0.9,
             "rgb(33,102,172)"
            ],
            [
             1.0,
             "rgb(5,48,97)"
            ]
           ]
          },
          "xaxis": {
           "gridcolor": "rgb(232,232,232)",
           "linecolor": "rgb(36,36,36)",
           "ticks": "outside",
           "title": {
            "standoff": 15
           },
           "zerolinecolor": "rgb(36,36,36)",
           "automargin": true,
           "zerolinewidth": 2,
           "showgrid": false,
           "showline": true,
           "zeroline": false
          },
          "yaxis": {
           "gridcolor": "rgb(232,232,232)",
           "linecolor": "rgb(36,36,36)",
           "ticks": "outside",
           "title": {
            "standoff": 15
           },
           "zerolinecolor": "rgb(36,36,36)",
           "automargin": true,
           "zerolinewidth": 2,
           "showgrid": false,
           "showline": true,
           "zeroline": false
          },
          "scene": {
           "xaxis": {
            "backgroundcolor": "white",
            "gridcolor": "rgb(232,232,232)",
            "linecolor": "rgb(36,36,36)",
            "showbackground": true,
            "ticks": "outside",
            "zerolinecolor": "rgb(36,36,36)",
            "gridwidth": 2,
            "showgrid": false,
            "showline": true,
            "zeroline": false
           },
           "yaxis": {
            "backgroundcolor": "white",
            "gridcolor": "rgb(232,232,232)",
            "linecolor": "rgb(36,36,36)",
            "showbackground": true,
            "ticks": "outside",
            "zerolinecolor": "rgb(36,36,36)",
            "gridwidth": 2,
            "showgrid": false,
            "showline": true,
            "zeroline": false
           },
           "zaxis": {
            "backgroundcolor": "white",
            "gridcolor": "rgb(232,232,232)",
            "linecolor": "rgb(36,36,36)",
            "showbackground": true,
            "ticks": "outside",
            "zerolinecolor": "rgb(36,36,36)",
            "gridwidth": 2,
            "showgrid": false,
            "showline": true,
            "zeroline": false
           }
          },
          "shapedefaults": {
           "line": {
            "color": "#f2f5fa",
            "width": 0
           },
           "fillcolor": "black",
           "opacity": 0.3
          },
          "annotationdefaults": {
           "arrowcolor": "#f2f5fa",
           "arrowhead": 0,
           "arrowwidth": 1
          },
          "geo": {
           "bgcolor": "white",
           "landcolor": "white",
           "subunitcolor": "white",
           "showland": true,
           "showlakes": true,
           "lakecolor": "white"
          },
          "title": {
           "x": 0.05
          },
          "updatemenudefaults": {
           "bgcolor": "#506784",
           "borderwidth": 0
          },
          "sliderdefaults": {
           "bgcolor": "#C8D4E3",
           "borderwidth": 1,
           "bordercolor": "rgb(17,17,17)",
           "tickwidth": 0
          },
          "mapbox": {
           "style": "light"
          }
         }
        },
        "xaxis": {
         "anchor": "y",
         "domain": [
          0.0,
          1.0
         ],
         "matches": "x3",
         "showticklabels": false
        },
        "yaxis": {
         "anchor": "x",
         "domain": [
          0.608,
          1.0
         ],
         "title": {
          "text": "Resolution (A)"
         }
        },
        "xaxis2": {
         "anchor": "y2",
         "domain": [
          0.0,
          1.0
         ],
         "matches": "x3",
         "showticklabels": false
        },
        "yaxis2": {
         "anchor": "x2",
         "domain": [
          0.304,
          0.598
         ],
         "title": {
          "text": "Fraction of Sequence <br> Covered by Structure"
         }
        },
        "xaxis3": {
         "anchor": "y3",
         "domain": [
          0.0,
          1.0
         ],
         "title": {
          "text": "Protein Name (Uniprot ID)"
         },
         "range": [
          -0.5,
          57.5
         ],
         "ticktext": [
          "Alpha-1-acid glycoprotein",
          "Human serum albumin",
          "Alcohol dehydrogenase 1A",
          "Aryl hydrocarbon receptor",
          "Aldehyde dehydrogenase 1A1",
          "Monoamine oxidase A",
          "Monoamine oxidase B",
          "Aldehyde oxidase",
          "Aldehyde reductase",
          "Cytochrome P450 1A2",
          "Cytochrome P450 2B6",
          "Cytochrome P450 2C9",
          "Cytochrome P450 2C19",
          "Cytochrome P450 2D6",
          "Cytochrome P450 3A4",
          "Hydroxysteroid dehydrogenase 11-beta",
          "Flavin monooxygenase 1",
          "Glutathione S-transferase A1",
          "Pregnane X receptor",
          "Constitutive androstane receptor",
          "Sulfotransferase 1A1",
          "Xanthine oxidase",
          "HTR2B",
          "Nicotinic nAChR alpha-10",
          "Nicotinic nAChR alpha-3",
          "Nicotinic nAChR alpha-5",
          "Nicotinic nAChR alpha-7",
          "Nicotinic nAChR alpha-9",
          "Muscarinic receptor M1",
          "Muscarinic receptor M2",
          "Muscarinic receptor M3",
          "Adrenergic receptor A1",
          "Adrenergic receptor A2",
          "Adrenergic receptor B1",
          "Adrenergic receptor B2",
          "Phosphodiesterase 3A",
          "CaV 1.2",
          "Calcium L-channel",
          "Cannabinoid receptor CB1",
          "Cannabinoid receptor CB2",
          "GABA receptor alpha-1",
          "Histamine H1 receptor",
          "HERG (Kv11.1)",
          "Noradrenaline transporter",
          "Dopamine transporter",
          "Serotonin transporter",
          "NaV1.5",
          "BSEP",
          "BCRP",
          "P-gp",
          "MRP1",
          "PEPT1",
          "OAT1",
          "OAT3",
          "MATE",
          "OATP1B1",
          "OATP1B3"
         ],
         "tickvals": [
          0,
          1,
          2,
          3,
          4,
          5,
          6,
          7,
          8,
          9,
          10,
          11,
          12,
          13,
          14,
          15,
          16,
          17,
          18,
          19,
          20,
          21,
          22,
          23,
          24,
          25,
          26,
          27,
          28,
          29,
          30,
          31,
          32,
          33,
          34,
          35,
          36,
          37,
          38,
          39,
          40,
          41,
          42,
          43,
          44,
          45,
          46,
          47,
          48,
          49,
          50,
          51,
          52,
          53,
          54,
          55,
          56
         ]
        },
        "yaxis3": {
         "anchor": "x3",
         "domain": [
          0.0,
          0.294
         ],
         "title": {
          "text": "Fraction Modeled with <br> Very High Confidence <br> (pLDDT > 90)"
         }
        },
        "title": {
         "text": "Analysis of Structural Data for ADMET Targets"
        },
        "height": 800,
        "width": 1600
       },
       "config": {
        "plotlyServerURL": "https://plot.ly"
       }
      },
      "text/html": "<div>                            <div id=\"867b28c7-a5af-4509-948f-ae8321b92a3f\" class=\"plotly-graph-div\" style=\"height:800px; width:1600px;\"></div>            <script type=\"text/javascript\">                require([\"plotly\"], function(Plotly) {                    window.PLOTLYENV=window.PLOTLYENV || {};                                    if (document.getElementById(\"867b28c7-a5af-4509-948f-ae8321b92a3f\")) {                    Plotly.newPlot(                        \"867b28c7-a5af-4509-948f-ae8321b92a3f\",                        [{\"legendgroup\":\"distribution\",\"legendgrouptitle\":{\"text\":\"ADMET Category (Color)\"},\"marker\":{\"color\":\"#11efb7\",\"line\":{\"color\":\"black\",\"width\":1},\"size\":10,\"symbol\":\"diamond-tall\"},\"mode\":\"markers\",\"name\":\"distribution\",\"opacity\":1,\"showlegend\":true,\"x\":[0.035150129095559146,1.0998587667518964,0.9883219733619312,1.002814031036596,1.1532371510462514,0.9407751860010973,0.8586578125350484,1.0494615170020605,1.095656693700851,1.1948874174413868,1.1996015428130171,1.022528786144714,0.8377158748709506,1.0994283266689309,0.9070854927618168,1.160438713884907,1.1307081081378505,0.8418745349807689,1.0727429941231477,0.8594216191927027,0.815176182232686,0.8452246127854504,0.9594270638769141,0.8568677610573907,1.0057158543997744,1.0812877003122132,1.0774350655615983,0.9226233909019772,0.9994844827331815,1.090003821115574,0.8305146654891704,0.8987131719979636,0.9642396379939684,1.160395814582074,0.9548640799964497,1.0579063856565818,0.9228615482388989,0.8111547279385706,0.9506516943025617,0.9161394117822251,0.8375443091765866,1.1829087544679568,1.0150155593147265,0.9345623837885745,0.9335584991544832,1.1473385150560897,1.17933748742382,1.1038752900053344,0.9568503536066139,1.111822302971408,1.1574769620272254,1.038277748098823,1.068978241194112,0.9888019477833478,0.9574154427365227,0.8052080401102284,1.075323655680473,0.861768159319469,0.8045156181255754,0.9992870863438916,0.9425790671999645,1.0236436482027162,0.8745261552184267,1.1816711351256597,1.1999319183355692,0.9218328515569342,0.8657379344521325,1.1949647603971827,1.1018257087811363,1.1617080052618556,0.839387303543401,0.9809490171853762,1.1305306170374376,1.0626775810607312,0.9890672190178281,1.0688736225844064,1.0654608731394246,0.9879667548664616,0.8954546351769317,0.9817335873424162,0.9107769262354661,0.832842125647815,1.0980279548128404,1.070738588899859,1.1909435348188127,1.079682747805065,0.8724547455744008,0.8550591255893965,1.1859497728063346,0.8981328969144508,1.0208936028428484,0.9714185116475977,1.005696947716407,0.8147741448789583,0.8134557566927443,0.9790078621764863,0.9983376879344725,1.0647157354256729,1.1875104602798081,0.9338037168006683,1.167422027171044,0.9869467710403372,0.9316147924131518,1.0965586966616334,1.19619809016439,1.0927455833063704,1.1156789077749172,0.9420611055317447,0.8855921274130607,0.9964707479569855,1.1858977124921501,0.903929162986516,1.0868417013130072,0.9509479216274684,0.9771773659481684,1.0951997393606907,0.8526182976351371,0.930640022989621,0.9120345107629392,0.8894225049548113,1.1530897418639827,0.9488350748545866,0.8834817466754344,1.000810189885723,1.1315331488214553,0.80648866875025,1.1529929663531124,0.9312807677846762,1.0683248522410231,0.8473947841142765,0.8956246465730622,0.8951263855427026,1.100830146997431,0.9603562493345543,0.9931770108991128,1.0614532434601565,1.1647361546953081,0.9602707954919252,1.0930016115850099,1.088645158959141,0.8473267454084432,0.9186251807623457,1.1215169879214604,0.8571870295283327,1.0124915233059066,1.18993373353792,0.8894930689763147,1.105357004081378],\"y\":[1.8,2.5,2.5,3.15,2.5,2.6,2.2,2.38,2.4,2.5,2.43,2.5,2.43,2.7,2.4,2.6,2.5,2.5,2.65,2.8,2.8,2.4,2.7,1.9,3.2,2.7,2.8,2.7,2.35,3.2,3.1,3.05,2.95,2.95,2.7,2.25,2.5,2.4,2.6,2.5,2.65,2.6,2.3,2.6,2.7,2.9,2.52,2.42,3.05,2.7,2.9,2.6,2.4,2.65,2.4,2.5,2.75,2.19,2.6,2.7,2.8,3.3,2.3,2.7,2.8,2.6,2.05,2.6,2.2,2.35,2.3,2.3,2.22,2.3,3.04,2.34,2.56,2.41,3.23,2.4,2.01,2.4,2.7,2.4,2.8,2.7,3.02,3.8,3.16,2.19,3.6,2.8,2.54,2.26,3.2,2.65,2.7,2.6,3.0,2.62,2.65,2.17,2.28,2.39,1.9,3.9,2.09,2.49,2.95,2.6,2.8,1.95,2.45,2.21,2.2,3.0,1.89,3.27,2.75,2.27,2.1,3.29,2.04,2.4,2.5,2.31,2.05,2.6,1.9,1.9,1.9,2.2,1.98,2.3,2.99,2.4,2.89,2.9,2.83,2.1,2.0,2.2,2.0,2.6,2.4,3.3,3.1,2.48],\"type\":\"scatter\",\"xaxis\":\"x\",\"yaxis\":\"y\"},{\"legendgroup\":\"distribution\",\"legendgrouptitle\":{\"text\":\"ADMET Category (Color)\"},\"marker\":{\"color\":\"#11efb7\",\"line\":{\"color\":\"black\",\"width\":2},\"size\":10,\"symbol\":\"circle\"},\"mode\":\"markers\",\"name\":\"distribution\",\"opacity\":1,\"showlegend\":false,\"x\":[1.0045244716981354],\"y\":[3.77],\"type\":\"scatter\",\"xaxis\":\"x\",\"yaxis\":\"y\"},{\"legendgroup\":\"metabolism\",\"marker\":{\"color\":\"#ffb418\",\"line\":{\"color\":\"black\",\"width\":1},\"size\":10,\"symbol\":\"diamond-tall\"},\"mode\":\"markers\",\"name\":\"metabolism\",\"opacity\":1,\"showlegend\":true,\"x\":[2.17666588838936,2.1718349984820193,3.023395792614759,4.088693888790619,4.002465699967264,3.9794124347002904,3.8000547636467035,4.065845573178093,3.935576387926228,4.077443125648106,4.174847346580062,4.080119400039341,4.089167162371475,3.8671841039625083,3.925008345074087,3.864486647452158,3.9573681295742684,4.010629773835942,3.9457485991382306,4.186827499432707,5.011370706689778,4.9822320667639834,4.951409031026369,4.891026542824982,5.912784422075774,5.813385961895817,6.164529386996548,6.167858564615884,6.163238083855454,6.159669069206732,5.844817020811284,5.851723533159829,6.148988616844409,6.1273596591241155,5.978522551979719,6.182489879841958,5.922317372789273,5.907071578450841,6.021240760076616,6.1096271189234805,5.971417563976164,5.902787054573581,5.892101088590981,6.096124659614341,5.931605323480008,6.061183158823049,6.086962659636429,5.98602846401343,5.97790106571442,5.924056299152284,5.966285510194293,5.958589655591075,5.992355393926723,6.122355909584687,6.196134864769233,6.040022363816148,6.055881198580257,6.1152215517339386,6.090310921557799,6.025814573340236,6.153409449059236,6.0970664902160605,5.93316314170972,5.927168676994694,5.903271788831676,6.014161211827125,5.935396216368936,6.055515370081114,6.075298782435088,5.8482335103279715,5.929070897608533,6.146013021052151,5.9434358066381385,6.152201689728267,5.897227555805751,6.098743087474982,7.103777946242837,6.905640271204251,7.166411715951404,7.190849402062417,6.839239809353327,6.823478982934708,8.079528304409509,9.115437105202888,9.833809754604605,9.994945035759121,10.187553616408854,9.805412083051774,9.87018919804045,9.919294557611872,10.108502423625966,10.120345883134362,9.978891362122733,10.115546749848086,9.977470612555665,9.946317406735325,10.194132904468393,10.84051035002388,11.093667982688352,10.906172364982055,11.175893415127181,10.960377438629024,11.115627042084855,11.18109190933895,11.111201696289125,10.974895482385758,10.879594636967454,10.81310495291353,11.122158143775446,11.146467524575902,12.042250718870868,12.926220663952925,12.985150435560517,12.901949817746587,13.124837673978599,12.878520253271205,12.910905999611174,12.978201716470958,13.156278471810833,13.068201972563676,12.973182528569467,13.052830704780371,12.89470760403736,12.846244451481901,12.978993580029778,13.820284366613185,14.146850256993998,14.11892921723456,13.903339948460081,13.952730083773465,14.115349193572719,13.956112281000745,13.983037738212827,13.9264711329839,14.091494456915036,13.962933501646136,13.96585134504939,14.060778073246661,14.123403003150564,14.178290378270557,14.121949386093537,13.905099937888295,13.90822596189142,13.818943462690012,13.992580760935363,14.12279723151536,13.970437569434383,13.806241019763423,14.008383977253471,13.919984586855334,14.16508648859019,14.097234966339293,13.91872429251152,14.115486043622537,14.106412637512157,14.039361901828384,13.81472893604751,14.00253487192467,14.11616090275776,14.15323593501595,13.94903723110345,14.005842276734082,13.876096871865414,14.06344787695084,14.093563712619337,14.046978766610767,13.981836467877672,13.966955324772815,13.968102669336206,13.994237134634982,14.012977435492633,13.988275021039676,13.8577244914694,13.827329101257602,13.973152528511719,14.155129790606077,14.160505800925282,14.055557566990995,13.925379787916658,13.963230767832213,13.906665402772479,13.901739067452045,13.90431344258677,14.121394208363796,14.048777493285085,13.817928713002521,14.140432573515483,13.906361800906044,14.103277703430862,13.931691551970447,14.199429866105815,14.064945469021694,13.900110661710174,14.090069765178907,13.837311586696202,13.89080714235128,13.865721306023955,14.186045338243037,14.103374411118525,13.905335076552731,14.141323555394557,13.85761440884729,13.903045465486016,15.159432177781937,14.882817753393125,14.97784993264886,15.137268664726014,15.173510452243125,15.183610094170005,14.915453153422025,14.994937207185997,15.033073990351246,14.891349444959744,15.183414150491686,14.858826803878245,14.873499027587847,14.92272237026854,14.920554944857699,15.112478366914772,15.119637165717512,15.032733161656559,15.193596021121705,15.14821346022121,14.899892855578452,15.113587508016149,15.127680726065577,15.031499735964626,15.002355950551086,14.874358061156695,14.93747353829339,14.926444393200576,14.85329346609426,15.102575512279554,14.857119518259795,15.093275191460325,15.192823251113591,14.952309062303604,14.876430694028961,15.047065727530475,15.109356034443381,15.069267039453736,14.806712501089864,14.854273016888762,16.97556667749409,16.979207334934674,17.134073015493637,17.0712090351777,17.09829750744298,16.924651745111852,17.023030692053354,17.00286679555136,17.125642371004513,16.850129788164338,16.803930427984206,16.872171826377073,16.823900026955922,17.099394033551686,16.964810835261343,17.150805507865158,16.94566952214555,16.971957781711595,17.136914228047946,17.062364725576497,17.14447003820312,17.062764570282596,16.969924175777578,17.183443765707715,17.032047088321555,16.95588325461066,17.17586557017419,17.08378546945579,16.923296062603214,16.948217921101726,17.159572679947864,17.162177384553317,16.948877269015515,16.818533712876643,16.911747568583593,16.972867552773007,17.084218040000646,16.909033602484584,17.058767685799022,18.028019849852885,18.192097941286253,17.983967335256082,18.040137885911804,17.989158515521243,18.15820039142075,18.038737151299767,18.000271034644427,17.838019812754943,17.838508560059722,18.011899408296287,17.806168334433046,17.897307086610496,18.029206150737966,18.13830207796193,18.123475624723586,17.841310634167435,18.192322631950738,18.134677184061555,17.992194515392544,17.83731246973314,18.14032639345066,17.828251870186943,18.11698411840203,17.972817760238513,18.19814897581298,18.01731471026747,17.84987830114466,18.126793904327187,17.819820357670267,17.92893735198927,17.918807703050593,17.984196407193707,17.942567593560618,18.109704603712043,18.14587268964399,17.944758597754,18.02923422292335,18.041181206264632,18.138606449446385,18.043490892198868,17.84318995673619,17.833525556593894,17.985898211525452,18.153773100991565,18.153738342150444,17.94821662419058,17.906236493790296,17.807752077332708,18.190296795988186,18.10627679574848,18.09083390607133,17.883697972585082,19.066868138893398,19.061963482833217,19.995264061976798,20.114056649194215,20.081621929435183,19.805669633269574,19.88853889458983,19.812691924915708,19.9540634669753,20.11109508981073,20.054277098627352,20.0858832765535,20.168828001876435,20.811395148736462,21.067162878877852],\"y\":[2.5,2.49,3.3,2.07,1.74,1.8,1.95,1.85,1.85,1.7,1.7,2.05,2.1,2.0,1.6,1.8,1.9,1.6,1.6,1.8,3.0,3.15,2.2,2.17,3.0,2.3,1.7,2.4,3.1,2.07,2.12,1.65,1.6,1.8,1.9,1.83,2.2,2.2,1.7,2.5,1.7,2.06,2.0,2.2,1.7,1.7,1.6,2.0,1.7,2.4,2.3,2.3,1.9,1.6,2.1,1.66,2.2,2.2,1.8,2.2,1.89,1.7,1.8,2.42,1.8,1.6,1.7,2.3,1.7,2.3,1.8,2.3,2.1,2.3,2.1,2.0,2.6,2.7,3.39,3.1,2.6,2.7,3.0,1.95,2.0,2.1,2.8,2.8,2.0,2.1,2.2,2.24,2.03,1.93,2.27,1.76,2.99,2.6,2.55,2.0,2.45,2.0,2.9,2.3,2.0,2.0,2.48,2.3,3.12,2.23,2.87,3.0,2.85,2.1,2.67,2.6,2.26,2.35,3.3,2.5,2.4,2.71,2.75,2.39,2.39,2.05,2.8,2.65,2.74,2.75,2.8,2.0,2.25,2.15,1.93,2.25,2.8,2.76,2.6,2.72,2.9,2.5,2.85,2.6,2.4,2.76,2.95,2.5,2.45,2.6,2.7,2.7,1.7,1.95,2.2,2.2,2.23,2.5,2.5,2.42,2.38,2.25,2.57,2.67,2.6,2.25,2.52,2.2,2.5,2.5,2.79,2.55,2.65,2.55,2.75,2.7,2.65,2.75,2.75,2.5,2.75,2.78,2.65,2.45,2.5,2.25,2.35,2.9,2.4,2.7,2.4,2.2,2.3,2.35,2.3,2.1,2.4,2.25,2.2,2.15,2.05,2.05,2.15,1.8,1.55,2.11,2.3,3.1,1.9,2.69,2.25,2.35,2.35,2.6,2.5,2.55,3.0,2.65,2.3,2.19,2.3,2.6,2.3,2.72,1.8,2.2,2.55,2.16,1.91,2.73,2.19,2.35,2.35,2.35,1.96,2.8,3.2,2.35,2.35,2.37,2.5,2.07,2.45,2.5,2.0,2.7,2.6,1.5,1.8,1.3,1.86,2.0,2.1,1.75,1.8,2.07,1.85,1.95,1.8,2.51,2.38,1.98,2.2,1.75,2.13,1.79,2.2,1.86,1.88,2.1,1.93,2.33,1.6,1.55,1.7,2.0,1.29,2.19,2.03,2.46,1.56,1.87,2.52,2.76,2.15,2.0,2.8,2.8,2.8,2.0,2.1,2.8,2.8,2.8,2.8,2.8,3.14,2.0,2.25,2.58,2.4,2.25,2.67,2.56,2.3,2.28,2.22,2.27,2.3,2.7,1.85,2.27,2.15,2.25,2.26,2.55,2.05,2.65,1.9,2.45,2.7,2.55,2.15,2.3,2.0,2.5,2.26,2.48,2.05,2.2,2.1,2.25,2.37,2.3,2.2,2.7,2.6,1.9,2.3,2.3,2.5,2.35,2.7,2.36,2.3,2.0,2.36,2.56,3.59,2.6],\"type\":\"scatter\",\"xaxis\":\"x\",\"yaxis\":\"y\"},{\"legendgroup\":\"metabolism\",\"marker\":{\"color\":\"#ffb418\",\"line\":{\"color\":\"black\",\"width\":2},\"size\":10,\"symbol\":\"circle\"},\"mode\":\"markers\",\"name\":\"metabolism\",\"opacity\":1,\"showlegend\":false,\"x\":[2.901444297487227,4.1860241689738995,4.146193063943567,3.8019079404689857,6.874262127455804],\"y\":[2.85,2.84,3.4,2.64,2.92],\"type\":\"scatter\",\"xaxis\":\"x\",\"yaxis\":\"y\"},{\"legendgroup\":\"toxicity\",\"marker\":{\"color\":\"#5e2bcb\",\"line\":{\"color\":\"black\",\"width\":1},\"size\":10,\"symbol\":\"diamond-tall\"},\"mode\":\"markers\",\"name\":\"toxicity\",\"opacity\":1,\"showlegend\":true,\"x\":[21.82746730584963,21.918420837345465,22.12376097274692,22.071884397065826,22.080691064621853,21.81191447928996,21.830180929702852,21.871929434397106,23.830041426779744,24.114187910875756,24.083712521876407,26.118669779866096,26.11477342524872,25.900591780386634,26.140392899078197,26.1497347966421,25.970765137989,27.121658461182143,27.13813433443586,27.10731783414947,27.101501172161075,27.992464693224193,27.804301553966365,28.05819789931197,28.10232137657852,27.928267227924852,29.047957322756844,28.81729866412326,28.857374175833623,29.162170566863544,29.023400841790313,29.13999681288858,29.051451174242967,29.163456041805023,31.805545231183338,31.993168277140374,33.08859370068898,33.10747697753854,32.85889622000481,33.12634559132819,33.84750832218313,33.93072087036492,33.992186184799884,34.00521730415189,34.06775402801132,34.03213634628739,33.96024796704519,34.08154949951738,34.175467480242816,33.89624643729725,34.085486757082194,34.066375492002436,34.19620419698181,34.02839123485124,34.02296252397079,33.95080684786359,33.94988282431249,34.03097146274122,34.123339943720474,33.81963038335136,33.87621455922339,33.82473720043995,34.141108294587276,33.85275293488528,33.89353884931609,33.92336801708006,33.87511747266241,33.88772114124394,33.91013334449843,33.82997984194824,34.00973945852014,33.808763212724585,34.15983566720917,33.936866409413526,34.173511885605464,33.983403222451486,35.00347502440087,35.18750911818349,35.95899358055148,36.1852793326305,35.96360595309531,35.818211741880724,35.95075386635055,36.09271433263572,35.91730427686398,36.021222172795746,36.02349506250966,35.80282184754955,35.89507644150942,35.98257826711942,35.83017271138416,36.09451398274134,36.04460751299422,38.100807250549295,37.98187067252479,38.144497004341815,37.87601738979779,37.84190166891095,37.9223907006644,38.06297380970547,39.11298041508097,38.942234149193126,40.16598972162652,40.01651872238241,41.05881516082886,41.935626499808016,41.81048804141722,42.090635518921765,41.827285960475415,44.8557174563915,45.00505651586101,44.91848149910878,44.83889153284456,45.11701163569584,44.8335122753834,45.02324285077912,44.902748515959765,44.90158999053511,45.00870369472845,45.128473942783984,45.133062380517245,46.032979971710176,46.03041326188413,46.04280050282028,46.18853967152968,45.91126943697565,46.17540695724077],\"y\":[2.7,2.8,3.0,2.9,3.1,2.92,3.1,3.19,1.9,2.0,1.93,2.4,2.2,2.38,2.38,2.85,2.15,1.8,1.71,2.7,2.26,2.7,2.55,2.17,2.33,2.5,3.0,3.5,3.7,2.5,2.6,3.0,2.95,2.3,2.7,3.2,3.13,2.7,2.6,2.5,1.9,3.4,3.4,2.4,2.8,3.4,2.84,2.84,3.16,3.5,3.5,3.2,3.99,2.79,3.1,3.2,3.3,2.48,3.8,3.2,3.2,2.7,3.7,2.96,3.2,3.1,2.8,3.4,3.2,2.4,2.5,2.6,2.9,2.7,3.4,3.1,2.6,3.0,2.0,2.0,1.45,1.6,2.1,2.55,2.0,1.7,1.65,2.0,2.4,2.4,1.65,1.7,1.75,2.8,2.6,2.95,2.8,3.25,2.7,3.29,2.8,3.2,3.45,3.2,3.1,2.6,2.12,1.96,1.5,3.14,4.53,3.15,3.24,3.4,3.49,3.62,3.53,3.8,4.05,4.7,6.3,2.2,1.35,3.84,2.8,2.25,2.69],\"type\":\"scatter\",\"xaxis\":\"x\",\"yaxis\":\"y\"},{\"legendgroup\":\"toxicity\",\"marker\":{\"color\":\"#5e2bcb\",\"line\":{\"color\":\"black\",\"width\":2},\"size\":10,\"symbol\":\"circle\"},\"mode\":\"markers\",\"name\":\"toxicity\",\"opacity\":1,\"showlegend\":false,\"x\":[22.091515363000674,22.076299887411274,22.160315298428515,24.182271688112632,23.89272273010821,26.085404772335995,26.196815478591994,26.088179110594556,26.1568675658687,25.99283907226468,26.167375328222427,25.85837518011748,25.92505009744424,26.104706696316576,25.862066991936373,25.815179879575165,27.97945581812405,29.086428769594818,29.116247729757358,28.97754774175338,28.842927340976082,28.926910774452118,28.86424443319671,30.07696365791219,29.823534709376148,29.87512536294062,29.995873273116334,31.127118032026846,31.15553085662465,32.0786359169946,32.14031712378502,31.931942129275765,31.95429628861584,31.973000433692135,31.87302279971655,32.03466630854058,34.105620432448006,34.19338820965784,34.075816970549425,33.88490111521281,34.19955561760287,34.15540215780749,36.170834156716346,35.85314065437856,36.872160754922305,37.18341411769235,36.83268203459796,36.843664608897576,37.09447361464872,37.86907682453034,38.06002566470231,37.81125153298958,38.02480404040918,38.90808733862562,39.137833559184635,38.803247836324864,38.85664344003284,38.92795903198823,38.97797093783675,39.8736770499803,39.86396956572018,39.80457550981009,40.07895071454672,39.85371610252674,39.96390408583115,40.13554683457767,40.11667891534104,40.179672744843884,40.03577744137167,40.165553131356944,39.987331201942176,39.96309690280426,39.82949932795028,40.11360654699611,39.913604269522295,40.065208586919425,39.880278175793705,39.92018455134377,40.03516270838121,39.8630363810995,39.996455440858846,40.06508859869283,40.02471612545185,39.89890404625574,39.91112567247866,39.815529487864026,41.16314025163932,42.054055529628606,42.18349038627082,42.036366351534035,45.04274124101762,44.967384124706285,44.98478369000199,45.07534360712053,44.81655055318411,44.969563289514284,45.02372376646711,44.93105247573206,45.102687755488155,45.1977290987875,44.84663692652139,45.00978728971917,45.19317755094891,45.14501913321295,44.81093499548569,45.941411499481255,45.862136325741545],\"y\":[2.7,2.9,3.3,3.34,3.87,3.18,2.85,3.02,3.0,3.6,2.7,2.3,3.4,2.7,2.8,4.4,3.3,3.6,4.0,3.21,3.32,3.16,3.22,2.69,2.79,2.69,2.56,2.6,3.1,4.1,3.2,3.0,3.6,3.4,3.47,3.4,3.8,3.82,3.26,3.8,3.2,3.4,3.4,3.1,2.8,3.0,3.0,3.3,3.1,3.0,3.0,3.36,2.8,2.9,3.2,3.08,2.84,2.97,2.98,3.8,3.8,3.1,3.04,3.69,3.26,3.58,3.2,3.12,2.55,3.49,3.5,3.3,2.92,3.23,2.86,3.04,2.79,3.0,2.7,3.0,3.0,2.9,2.9,2.65,2.98,2.71,3.3,3.7,3.8,4.0,4.2,4.3,4.1,3.6,3.3,4.1,3.8,3.5,4.1,3.9,3.9,3.3,3.65,3.5,3.0,3.3,3.3],\"type\":\"scatter\",\"xaxis\":\"x\",\"yaxis\":\"y\"},{\"legendgroup\":\"transporters\",\"marker\":{\"color\":\"#d07c09\",\"line\":{\"color\":\"black\",\"width\":1},\"size\":10,\"symbol\":\"diamond-tall\"},\"mode\":\"markers\",\"name\":\"transporters\",\"opacity\":1,\"showlegend\":true,\"x\":[49.84466455050718,49.86754336514165],\"y\":[1.5,2.1],\"type\":\"scatter\",\"xaxis\":\"x\",\"yaxis\":\"y\"},{\"legendgroup\":\"transporters\",\"marker\":{\"color\":\"#d07c09\",\"line\":{\"color\":\"black\",\"width\":2},\"size\":10,\"symbol\":\"circle\"},\"mode\":\"markers\",\"name\":\"transporters\",\"opacity\":1,\"showlegend\":false,\"x\":[46.801197406305754,47.04461059649178,46.8264945811856,48.09943329289255,47.985029205858176,48.19006046978348,48.110009559173776,47.83489947380001,48.105498280701234,47.910156409793956,47.897260146590874,48.02737408580343,48.15837595686872,47.993428442205115,48.065918077135,47.881029913816676,47.90845459146845,48.16489612379223,47.9707670605277,47.91001106153318,48.092637266820184,47.996098598417476,47.856628508285944,48.083406511609724,48.06424414821321,47.85081229516932,48.16211994754214,49.127206810231364,49.141493067820456,48.889815625220976,48.80876541374354,48.97327742089169,49.03886903067274,48.8227448833182,48.92533374573999,48.98837477350138,48.90304537834785,51.11765972716566,50.92058152070497,50.97428078144036,55.0502812264241,55.079891598322575,55.01569888670801,54.966438505577166,54.854023187148165,55.01587009730921,56.12701772912532],\"y\":[3.5,3.7,3.66,3.78,3.78,3.1,3.6,3.56,3.09,3.58,3.56,3.09,3.5,4.0,3.7,4.1,3.12,3.39,3.51,3.4,3.1,3.4,3.1,3.2,3.04,3.2,3.49,3.4,3.58,4.14,3.6,3.9,3.2,3.6,3.6,3.5,3.5,4.1,3.5,3.9,3.53,3.73,3.19,3.73,2.92,3.6,2.97],\"type\":\"scatter\",\"xaxis\":\"x\",\"yaxis\":\"y\"},{\"legendgroup\":\"X-ray\",\"legendgrouptitle\":{\"text\":\"Method (Symbol)\"},\"marker\":{\"color\":\"#11efb7\",\"line\":{\"color\":\"black\",\"width\":1},\"size\":10,\"symbol\":\"diamond-tall\"},\"mode\":\"markers\",\"name\":\"X-ray\",\"opacity\":1,\"showlegend\":false,\"x\":[0.035150129095559146,1.0998587667518964,0.9883219733619312,1.002814031036596,1.1532371510462514,0.9407751860010973,0.8586578125350484,1.0494615170020605,1.095656693700851,1.1948874174413868,1.1996015428130171,1.022528786144714,0.8377158748709506,1.0994283266689309,0.9070854927618168,1.160438713884907,1.1307081081378505,0.8418745349807689,1.0727429941231477,0.8594216191927027,0.815176182232686,0.8452246127854504,0.9594270638769141,0.8568677610573907,1.0057158543997744,1.0812877003122132,1.0774350655615983,0.9226233909019772,0.9994844827331815,1.090003821115574,0.8305146654891704,0.8987131719979636,0.9642396379939684,1.160395814582074,0.9548640799964497,1.0579063856565818,0.9228615482388989,0.8111547279385706,0.9506516943025617,0.9161394117822251,0.8375443091765866,1.1829087544679568,1.0150155593147265,0.9345623837885745,0.9335584991544832,1.1473385150560897,1.17933748742382,1.1038752900053344,0.9568503536066139,1.111822302971408,1.1574769620272254,1.038277748098823,1.068978241194112,0.9888019477833478,0.9574154427365227,0.8052080401102284,1.075323655680473,0.861768159319469,0.8045156181255754,0.9992870863438916,0.9425790671999645,1.0236436482027162,0.8745261552184267,1.1816711351256597,1.1999319183355692,0.9218328515569342,0.8657379344521325,1.1949647603971827,1.1018257087811363,1.1617080052618556,0.839387303543401,0.9809490171853762,1.1305306170374376,1.0626775810607312,0.9890672190178281,1.0688736225844064,1.0654608731394246,0.9879667548664616,0.8954546351769317,0.9817335873424162,0.9107769262354661,0.832842125647815,1.0980279548128404,1.070738588899859,1.1909435348188127,1.079682747805065,0.8724547455744008,0.8550591255893965,1.1859497728063346,0.8981328969144508,1.0208936028428484,0.9714185116475977,1.005696947716407,0.8147741448789583,0.8134557566927443,0.9790078621764863,0.9983376879344725,1.0647157354256729,1.1875104602798081,0.9338037168006683,1.167422027171044,0.9869467710403372,0.9316147924131518,1.0965586966616334,1.19619809016439,1.0927455833063704,1.1156789077749172,0.9420611055317447,0.8855921274130607,0.9964707479569855,1.1858977124921501,0.903929162986516,1.0868417013130072,0.9509479216274684,0.9771773659481684,1.0951997393606907,0.8526182976351371,0.930640022989621,0.9120345107629392,0.8894225049548113,1.1530897418639827,0.9488350748545866,0.8834817466754344,1.000810189885723,1.1315331488214553,0.80648866875025,1.1529929663531124,0.9312807677846762,1.0683248522410231,0.8473947841142765,0.8956246465730622,0.8951263855427026,1.100830146997431,0.9603562493345543,0.9931770108991128,1.0614532434601565,1.1647361546953081,0.9602707954919252,1.0930016115850099,1.088645158959141,0.8473267454084432,0.9186251807623457,1.1215169879214604,0.8571870295283327,1.0124915233059066,1.18993373353792,0.8894930689763147,1.105357004081378],\"y\":[0.9054726368159204,0.9589490968801314,0.9589490968801314,0.9523809523809523,0.9589490968801314,0.9589490968801314,0.9589490968801314,0.9589490968801314,0.9589490968801314,0.9589490968801314,0.9589490968801314,0.9589490968801314,0.9589490968801314,0.9589490968801314,0.9589490968801314,0.9589490968801314,0.9589490968801314,0.9589490968801314,0.9589490968801314,0.9589490968801314,0.9589490968801314,0.9589490968801314,0.9589490968801314,0.9589490968801314,0.9589490968801314,0.9376026272577996,0.9589490968801314,0.9589490968801314,0.9589490968801314,0.9589490968801314,0.9589490968801314,0.9589490968801314,0.9589490968801314,0.9589490968801314,0.9589490968801314,0.9589490968801314,0.9589490968801314,0.9589490968801314,0.9589490968801314,0.9589490968801314,0.9589490968801314,0.9589490968801314,0.9589490968801314,0.9589490968801314,0.9589490968801314,0.9589490968801314,0.9490968801313628,0.9589490968801314,0.9589490968801314,0.9589490968801314,0.9589490968801314,0.9589490968801314,0.9589490968801314,0.9589490968801314,0.9589490968801314,0.9589490968801314,0.9589490968801314,0.9589490968801314,0.9589490968801314,0.9589490968801314,0.9540229885057471,0.9589490968801314,0.9589490968801314,0.9589490968801314,0.9589490968801314,0.9589490968801314,0.9540229885057471,0.9589490968801314,0.9589490968801314,0.9983579638752053,0.9589490968801314,0.9589490968801314,0.9589490968801314,0.9589490968801314,0.9589490968801314,0.9589490968801314,0.9589490968801314,0.9589490968801314,0.9589490968801314,0.9589490968801314,0.9589490968801314,0.9589490968801314,0.9589490968801314,0.9589490968801314,0.9589490968801314,0.9589490968801314,0.9589490968801314,0.9556650246305419,0.9589490968801314,0.9589490968801314,0.9589490968801314,0.9523809523809523,0.9523809523809523,0.9589490968801314,0.9589490968801314,0.9589490968801314,0.9983579638752053,0.9589490968801314,0.9589490968801314,0.9523809523809523,0.9589490968801314,0.9589490968801314,0.9589490968801314,0.9589490968801314,0.9983579638752053,0.9556650246305419,0.9523809523809523,0.9589490968801314,0.9589490968801314,0.9490968801313628,0.9589490968801314,0.9589490968801314,0.9589490968801314,0.9589490968801314,0.9589490968801314,0.9589490968801314,0.9589490968801314,0.9983579638752053,0.9589490968801314,0.9573070607553367,0.9573070607553367,0.9589490968801314,0.9589490968801314,0.9589490968801314,0.9556650246305419,0.9589490968801314,0.9589490968801314,0.9573070607553367,0.9983579638752053,0.9983579638752053,0.9983579638752053,0.9589490968801314,0.9589490968801314,0.9589490968801314,0.9589490968801314,0.9589490968801314,0.9983579638752053,0.9983579638752053,0.9523809523809523,0.9589490968801314,0.9523809523809523,0.9573070607553367,0.9589490968801314,0.9589490968801314,0.9589490968801314,0.9589490968801314,0.9589490968801314,0.9589490968801314],\"type\":\"scatter\",\"xaxis\":\"x2\",\"yaxis\":\"y2\"},{\"legendgroup\":\"EM\",\"marker\":{\"color\":\"#11efb7\",\"line\":{\"color\":\"black\",\"width\":2},\"size\":10,\"symbol\":\"circle\"},\"mode\":\"markers\",\"name\":\"EM\",\"opacity\":1,\"showlegend\":false,\"x\":[1.0045244716981354],\"y\":[0.9589490968801314],\"type\":\"scatter\",\"xaxis\":\"x2\",\"yaxis\":\"y2\"},{\"legendgroup\":\"X-ray\",\"legendgrouptitle\":{\"text\":\"Method (Symbol)\"},\"marker\":{\"color\":\"#ffb418\",\"line\":{\"color\":\"black\",\"width\":1},\"size\":10,\"symbol\":\"diamond-tall\"},\"mode\":\"markers\",\"name\":\"X-ray\",\"opacity\":1,\"showlegend\":false,\"x\":[2.17666588838936,2.1718349984820193,3.023395792614759,4.088693888790619,4.002465699967264,3.9794124347002904,3.8000547636467035,4.065845573178093,3.935576387926228,4.077443125648106,4.174847346580062,4.080119400039341,4.089167162371475,3.8671841039625083,3.925008345074087,3.864486647452158,3.9573681295742684,4.010629773835942,3.9457485991382306,4.186827499432707,5.011370706689778,4.9822320667639834,4.951409031026369,4.891026542824982,5.912784422075774,5.813385961895817,6.164529386996548,6.167858564615884,6.163238083855454,6.159669069206732,5.844817020811284,5.851723533159829,6.148988616844409,6.1273596591241155,5.978522551979719,6.182489879841958,5.922317372789273,5.907071578450841,6.021240760076616,6.1096271189234805,5.971417563976164,5.902787054573581,5.892101088590981,6.096124659614341,5.931605323480008,6.061183158823049,6.086962659636429,5.98602846401343,5.97790106571442,5.924056299152284,5.966285510194293,5.958589655591075,5.992355393926723,6.122355909584687,6.196134864769233,6.040022363816148,6.055881198580257,6.1152215517339386,6.090310921557799,6.025814573340236,6.153409449059236,6.0970664902160605,5.93316314170972,5.927168676994694,5.903271788831676,6.014161211827125,5.935396216368936,6.055515370081114,6.075298782435088,5.8482335103279715,5.929070897608533,6.146013021052151,5.9434358066381385,6.152201689728267,5.897227555805751,6.098743087474982,7.103777946242837,6.905640271204251,7.166411715951404,7.190849402062417,6.839239809353327,6.823478982934708,8.079528304409509,9.115437105202888,9.833809754604605,9.994945035759121,10.187553616408854,9.805412083051774,9.87018919804045,9.919294557611872,10.108502423625966,10.120345883134362,9.978891362122733,10.115546749848086,9.977470612555665,9.946317406735325,10.194132904468393,10.84051035002388,11.093667982688352,10.906172364982055,11.175893415127181,10.960377438629024,11.115627042084855,11.18109190933895,11.111201696289125,10.974895482385758,10.879594636967454,10.81310495291353,11.122158143775446,11.146467524575902,12.042250718870868,12.926220663952925,12.985150435560517,12.901949817746587,13.124837673978599,12.878520253271205,12.910905999611174,12.978201716470958,13.156278471810833,13.068201972563676,12.973182528569467,13.052830704780371,12.89470760403736,12.846244451481901,12.978993580029778,13.820284366613185,14.146850256993998,14.11892921723456,13.903339948460081,13.952730083773465,14.115349193572719,13.956112281000745,13.983037738212827,13.9264711329839,14.091494456915036,13.962933501646136,13.96585134504939,14.060778073246661,14.123403003150564,14.178290378270557,14.121949386093537,13.905099937888295,13.90822596189142,13.818943462690012,13.992580760935363,14.12279723151536,13.970437569434383,13.806241019763423,14.008383977253471,13.919984586855334,14.16508648859019,14.097234966339293,13.91872429251152,14.115486043622537,14.106412637512157,14.039361901828384,13.81472893604751,14.00253487192467,14.11616090275776,14.15323593501595,13.94903723110345,14.005842276734082,13.876096871865414,14.06344787695084,14.093563712619337,14.046978766610767,13.981836467877672,13.966955324772815,13.968102669336206,13.994237134634982,14.012977435492633,13.988275021039676,13.8577244914694,13.827329101257602,13.973152528511719,14.155129790606077,14.160505800925282,14.055557566990995,13.925379787916658,13.963230767832213,13.906665402772479,13.901739067452045,13.90431344258677,14.121394208363796,14.048777493285085,13.817928713002521,14.140432573515483,13.906361800906044,14.103277703430862,13.931691551970447,14.199429866105815,14.064945469021694,13.900110661710174,14.090069765178907,13.837311586696202,13.89080714235128,13.865721306023955,14.186045338243037,14.103374411118525,13.905335076552731,14.141323555394557,13.85761440884729,13.903045465486016,15.159432177781937,14.882817753393125,14.97784993264886,15.137268664726014,15.173510452243125,15.183610094170005,14.915453153422025,14.994937207185997,15.033073990351246,14.891349444959744,15.183414150491686,14.858826803878245,14.873499027587847,14.92272237026854,14.920554944857699,15.112478366914772,15.119637165717512,15.032733161656559,15.193596021121705,15.14821346022121,14.899892855578452,15.113587508016149,15.127680726065577,15.031499735964626,15.002355950551086,14.874358061156695,14.93747353829339,14.926444393200576,14.85329346609426,15.102575512279554,14.857119518259795,15.093275191460325,15.192823251113591,14.952309062303604,14.876430694028961,15.047065727530475,15.109356034443381,15.069267039453736,14.806712501089864,14.854273016888762,16.97556667749409,16.979207334934674,17.134073015493637,17.0712090351777,17.09829750744298,16.924651745111852,17.023030692053354,17.00286679555136,17.125642371004513,16.850129788164338,16.803930427984206,16.872171826377073,16.823900026955922,17.099394033551686,16.964810835261343,17.150805507865158,16.94566952214555,16.971957781711595,17.136914228047946,17.062364725576497,17.14447003820312,17.062764570282596,16.969924175777578,17.183443765707715,17.032047088321555,16.95588325461066,17.17586557017419,17.08378546945579,16.923296062603214,16.948217921101726,17.159572679947864,17.162177384553317,16.948877269015515,16.818533712876643,16.911747568583593,16.972867552773007,17.084218040000646,16.909033602484584,17.058767685799022,18.028019849852885,18.192097941286253,17.983967335256082,18.040137885911804,17.989158515521243,18.15820039142075,18.038737151299767,18.000271034644427,17.838019812754943,17.838508560059722,18.011899408296287,17.806168334433046,17.897307086610496,18.029206150737966,18.13830207796193,18.123475624723586,17.841310634167435,18.192322631950738,18.134677184061555,17.992194515392544,17.83731246973314,18.14032639345066,17.828251870186943,18.11698411840203,17.972817760238513,18.19814897581298,18.01731471026747,17.84987830114466,18.126793904327187,17.819820357670267,17.92893735198927,17.918807703050593,17.984196407193707,17.942567593560618,18.109704603712043,18.14587268964399,17.944758597754,18.02923422292335,18.041181206264632,18.138606449446385,18.043490892198868,17.84318995673619,17.833525556593894,17.985898211525452,18.153773100991565,18.153738342150444,17.94821662419058,17.906236493790296,17.807752077332708,18.190296795988186,18.10627679574848,18.09083390607133,17.883697972585082,19.066868138893398,19.061963482833217,19.995264061976798,20.114056649194215,20.081621929435183,19.805669633269574,19.88853889458983,19.812691924915708,19.9540634669753,20.11109508981073,20.054277098627352,20.0858832765535,20.168828001876435,20.811395148736462,21.067162878877852],\"y\":[0.9946666666666667,0.9946666666666667,0.294811320754717,0.998003992015968,0.998003992015968,0.998003992015968,0.998003992015968,0.998003992015968,0.998003992015968,0.998003992015968,0.998003992015968,0.998003992015968,0.998003992015968,0.998003992015968,0.998003992015968,0.998003992015968,0.998003992015968,0.998003992015968,0.998003992015968,0.998003992015968,0.9981024667931688,0.9981024667931688,0.9715370018975332,0.9715370018975332,0.9961538461538462,0.9961538461538462,0.9961538461538462,0.9961538461538462,0.9961538461538462,0.9980769230769231,0.9980769230769231,0.9980769230769231,0.9980769230769231,0.9961538461538462,0.9961538461538462,0.9980769230769231,0.9961538461538462,0.9961538461538462,0.9961538461538462,0.9961538461538462,0.9961538461538462,0.9961538461538462,0.9961538461538462,0.9961538461538462,0.9961538461538462,0.9961538461538462,0.9961538461538462,0.9961538461538462,0.9961538461538462,0.9980769230769231,0.9980769230769231,0.9980769230769231,0.9980769230769231,0.9980769230769231,0.9980769230769231,0.9980769230769231,0.9980769230769231,0.9961538461538462,0.9980769230769231,0.9961538461538462,0.9980769230769231,0.9980769230769231,0.9980769230769231,0.9980769230769231,0.9980769230769231,0.9980769230769231,0.9980769230769231,0.9980769230769231,0.9980769230769231,0.9980769230769231,0.9961538461538462,0.9980769230769231,0.9980769230769231,0.9980769230769231,0.9980769230769231,0.9980769230769231,0.9992526158445441,0.9992526158445441,0.9992526158445441,0.9992526158445441,0.9992526158445441,0.9992526158445441,0.9758308157099698,0.9476744186046512,0.9389002036659878,0.945010183299389,0.945010183299389,0.945010183299389,0.945010183299389,0.945010183299389,0.945010183299389,0.9389002036659878,0.9592668024439919,0.9592668024439919,0.9592668024439919,0.9592668024439919,0.9592668024439919,0.9387755102040817,0.9387755102040817,0.963265306122449,0.9387755102040817,0.9510204081632653,0.9510204081632653,0.9510204081632653,0.9612244897959183,0.9612244897959183,0.9612244897959183,0.9408163265306122,0.9612244897959183,0.9510204081632653,0.9510204081632653,0.93158953722334,0.93158953722334,0.93158953722334,0.93158953722334,0.93158953722334,0.93158953722334,0.903420523138833,0.93158953722334,0.93158953722334,0.93158953722334,0.93158953722334,0.93158953722334,0.93158953722334,0.93158953722334,0.952286282306163,0.9502982107355865,0.9502982107355865,0.9502982107355865,0.9502982107355865,0.9502982107355865,0.9502982107355865,0.9542743538767395,0.9542743538767395,0.9542743538767395,0.9542743538767395,0.9542743538767395,0.9542743538767395,0.9542743538767395,0.9542743538767395,0.9542743538767395,0.9542743538767395,0.9542743538767395,0.9542743538767395,0.9542743538767395,0.9542743538767395,0.9502982107355865,0.9542743538767395,0.9542743538767395,0.9582504970178927,0.9542743538767395,0.9582504970178927,0.9582504970178927,0.9582504970178927,0.9582504970178927,0.9582504970178927,0.9582504970178927,0.9582504970178927,0.9582504970178927,0.9582504970178927,0.9582504970178927,0.9582504970178927,0.9582504970178927,0.9582504970178927,0.9582504970178927,0.9582504970178927,0.9582504970178927,0.9582504970178927,0.9582504970178927,0.9582504970178927,0.9582504970178927,0.9582504970178927,0.9582504970178927,0.9582504970178927,0.9582504970178927,0.9582504970178927,0.9582504970178927,0.9582504970178927,0.9582504970178927,0.9582504970178927,0.9542743538767395,0.9582504970178927,0.9582504970178927,0.9582504970178927,0.9582504970178927,0.9582504970178927,0.9582504970178927,0.9582504970178927,0.9582504970178927,0.9582504970178927,0.9582504970178927,0.9582504970178927,0.9582504970178927,0.9582504970178927,0.9582504970178927,0.9582504970178927,0.9582504970178927,0.9582504970178927,0.9582504970178927,0.9582504970178927,0.9582504970178927,0.9582504970178927,0.9582504970178927,0.9178082191780822,0.9178082191780822,0.8835616438356164,0.8938356164383562,0.9006849315068494,0.9143835616438356,0.9143835616438356,0.9178082191780822,0.9178082191780822,0.9178082191780822,0.9178082191780822,0.9178082191780822,0.9178082191780822,0.9143835616438356,0.9143835616438356,0.9178082191780822,0.9178082191780822,0.9178082191780822,0.9178082191780822,0.9178082191780822,0.9178082191780822,0.9178082191780822,0.9965753424657534,0.9965753424657534,0.9178082191780822,0.9178082191780822,0.9178082191780822,0.9178082191780822,0.9178082191780822,0.9178082191780822,0.9178082191780822,0.9178082191780822,0.9041095890410958,0.8835616438356164,0.9178082191780822,0.9178082191780822,0.9178082191780822,0.9178082191780822,0.9178082191780822,0.9178082191780822,0.990990990990991,0.990990990990991,0.990990990990991,0.990990990990991,0.990990990990991,0.990990990990991,0.990990990990991,0.02252252252252252,0.9954954954954955,0.9954954954954955,0.9954954954954955,0.9954954954954955,0.990990990990991,0.990990990990991,0.9954954954954955,0.9954954954954955,0.9954954954954955,0.9954954954954955,0.9954954954954955,0.9954954954954955,0.990990990990991,0.9954954954954955,0.990990990990991,0.9954954954954955,0.9954954954954955,0.9954954954954955,0.972972972972973,0.990990990990991,0.2702702702702703,0.2072072072072072,0.990990990990991,0.990990990990991,0.990990990990991,0.990990990990991,0.9954954954954955,0.9954954954954955,0.9954954954954955,0.9954954954954955,0.9954954954954955,0.7004608294930875,0.7004608294930875,0.7004608294930875,0.7004608294930875,0.6935483870967742,0.6728110599078341,0.7004608294930875,0.7004608294930875,0.7004608294930875,0.7004608294930875,0.7004608294930875,0.7004608294930875,0.6658986175115207,0.7004608294930875,0.7004608294930875,0.7004608294930875,0.7004608294930875,0.7004608294930875,0.7004608294930875,0.695852534562212,0.7004608294930875,0.7004608294930875,0.6820276497695853,0.7004608294930875,0.7027649769585254,0.7004608294930875,0.7004608294930875,0.6820276497695853,0.7027649769585254,0.7004608294930875,0.7004608294930875,0.7004608294930875,0.7004608294930875,0.7004608294930875,0.7004608294930875,0.7004608294930875,0.7004608294930875,0.7004608294930875,0.7004608294930875,0.7004608294930875,0.7004608294930875,0.7004608294930875,0.7004608294930875,0.7004608294930875,0.684331797235023,0.684331797235023,0.684331797235023,0.684331797235023,0.7004608294930875,0.7004608294930875,0.7004608294930875,0.7004608294930875,0.7004608294930875,0.7073863636363636,0.7073863636363636,0.9966101694915255,0.9966101694915255,0.9966101694915255,0.9966101694915255,0.9966101694915255,0.9932203389830508,0.9966101694915255,0.9966101694915255,0.9966101694915255,0.9966101694915255,0.9966101694915255,0.9984996249062266,0.9992498124531133],\"type\":\"scatter\",\"xaxis\":\"x2\",\"yaxis\":\"y2\"},{\"legendgroup\":\"EM\",\"marker\":{\"color\":\"#ffb418\",\"line\":{\"color\":\"black\",\"width\":2},\"size\":10,\"symbol\":\"circle\"},\"mode\":\"markers\",\"name\":\"EM\",\"opacity\":1,\"showlegend\":false,\"x\":[2.901444297487227,4.1860241689738995,4.146193063943567,3.8019079404689857,6.874262127455804],\"y\":[0.5141509433962265,0.998003992015968,0.998003992015968,0.998003992015968,0.9992526158445441],\"type\":\"scatter\",\"xaxis\":\"x2\",\"yaxis\":\"y2\"},{\"legendgroup\":\"X-ray\",\"legendgrouptitle\":{\"text\":\"Method (Symbol)\"},\"marker\":{\"color\":\"#5e2bcb\",\"line\":{\"color\":\"black\",\"width\":1},\"size\":10,\"symbol\":\"diamond-tall\"},\"mode\":\"markers\",\"name\":\"X-ray\",\"opacity\":1,\"showlegend\":false,\"x\":[21.82746730584963,21.918420837345465,22.12376097274692,22.071884397065826,22.080691064621853,21.81191447928996,21.830180929702852,21.871929434397106,23.830041426779744,24.114187910875756,24.083712521876407,26.118669779866096,26.11477342524872,25.900591780386634,26.140392899078197,26.1497347966421,25.970765137989,27.121658461182143,27.13813433443586,27.10731783414947,27.101501172161075,27.992464693224193,27.804301553966365,28.05819789931197,28.10232137657852,27.928267227924852,29.047957322756844,28.81729866412326,28.857374175833623,29.162170566863544,29.023400841790313,29.13999681288858,29.051451174242967,29.163456041805023,31.805545231183338,31.993168277140374,33.08859370068898,33.10747697753854,32.85889622000481,33.12634559132819,33.84750832218313,33.93072087036492,33.992186184799884,34.00521730415189,34.06775402801132,34.03213634628739,33.96024796704519,34.08154949951738,34.175467480242816,33.89624643729725,34.085486757082194,34.066375492002436,34.19620419698181,34.02839123485124,34.02296252397079,33.95080684786359,33.94988282431249,34.03097146274122,34.123339943720474,33.81963038335136,33.87621455922339,33.82473720043995,34.141108294587276,33.85275293488528,33.89353884931609,33.92336801708006,33.87511747266241,33.88772114124394,33.91013334449843,33.82997984194824,34.00973945852014,33.808763212724585,34.15983566720917,33.936866409413526,34.173511885605464,33.983403222451486,35.00347502440087,35.18750911818349,35.95899358055148,36.1852793326305,35.96360595309531,35.818211741880724,35.95075386635055,36.09271433263572,35.91730427686398,36.021222172795746,36.02349506250966,35.80282184754955,35.89507644150942,35.98257826711942,35.83017271138416,36.09451398274134,36.04460751299422,38.100807250549295,37.98187067252479,38.144497004341815,37.87601738979779,37.84190166891095,37.9223907006644,38.06297380970547,39.11298041508097,38.942234149193126,40.16598972162652,40.01651872238241,41.05881516082886,41.935626499808016,41.81048804141722,42.090635518921765,41.827285960475415,44.8557174563915,45.00505651586101,44.91848149910878,44.83889153284456,45.11701163569584,44.8335122753834,45.02324285077912,44.902748515959765,44.90158999053511,45.00870369472845,45.128473942783984,45.133062380517245,46.032979971710176,46.03041326188413,46.04280050282028,46.18853967152968,45.91126943697565,46.17540695724077],\"y\":[0.31496881496881496,0.31496881496881496,0.31496881496881496,0.30561330561330563,0.31392931392931395,0.31496881496881496,0.31496881496881496,0.31392931392931395,0.0297029702970297,0.0297029702970297,0.0297029702970297,0.4063745019920319,0.4063745019920319,0.4063745019920319,0.4063745019920319,0.4063745019920319,0.4063745019920319,0.4405010438413361,0.4405010438413361,0.4405010438413361,0.4405010438413361,0.34891304347826085,0.34891304347826085,0.29891304347826086,0.29891304347826086,0.29891304347826086,0.3272532188841202,0.9978540772532188,0.9978540772532188,0.9785407725321889,0.9785407725321889,0.9785407725321889,0.9785407725321889,0.9785407725321889,0.9139784946236559,0.9139784946236559,0.7232704402515723,0.7232704402515723,0.7232704402515723,0.7232704402515723,0.009685230024213076,0.8813559322033898,0.8256658595641646,0.400726392251816,0.3801452784503632,0.8789346246973365,0.3801452784503632,0.3801452784503632,0.3801452784503632,0.400726392251816,0.3498789346246973,0.8135593220338984,0.8135593220338984,0.7723970944309927,0.7723970944309927,0.7723970944309927,0.7723970944309927,0.400726392251816,0.400726392251816,0.3910411622276029,0.7699757869249395,0.39951573849878935,0.39709443099273606,0.8135593220338984,0.7723970944309927,0.39951573849878935,0.3789346246973366,0.3789346246973366,0.3789346246973366,0.3789346246973366,0.3789346246973366,0.3789346246973366,0.3789346246973366,0.3789346246973366,0.7723970944309927,0.7723970944309927,0.9028697571743929,0.9161147902869757,0.00765420981539847,0.014858171994597028,0.009004952723998198,0.009004952723998198,0.03286807744259343,0.034218820351193155,0.00810445745159838,0.00810445745159838,0.014858171994597028,0.014858171994597028,0.014858171994597028,0.014858171994597028,0.014858171994597028,0.014858171994597028,0.014858171994597028,0.3061440677966102,0.3167372881355932,0.3061440677966102,0.3061440677966102,0.3029661016949153,0.3305084745762712,0.298728813559322,0.4041666666666667,0.4041666666666667,0.13157894736842105,0.13157894736842105,0.29055441478439425,0.09404659188955997,0.10785159620362382,0.11561691113028473,0.11216566005176877,0.8603174603174604,0.8603174603174604,0.8603174603174604,0.8603174603174604,0.8603174603174604,0.8603174603174604,0.8603174603174604,0.8603174603174604,0.8603174603174604,0.8603174603174604,0.8603174603174604,0.8603174603174604,0.08283730158730158,0.015376984126984126,0.08283730158730158,0.07738095238095238,0.022817460317460316,0.06746031746031746],\"type\":\"scatter\",\"xaxis\":\"x2\",\"yaxis\":\"y2\"},{\"legendgroup\":\"EM\",\"marker\":{\"color\":\"#5e2bcb\",\"line\":{\"color\":\"black\",\"width\":2},\"size\":10,\"symbol\":\"circle\"},\"mode\":\"markers\",\"name\":\"EM\",\"opacity\":1,\"showlegend\":false,\"x\":[22.091515363000674,22.076299887411274,22.160315298428515,24.182271688112632,23.89272273010821,26.085404772335995,26.196815478591994,26.088179110594556,26.1568675658687,25.99283907226468,26.167375328222427,25.85837518011748,25.92505009744424,26.104706696316576,25.862066991936373,25.815179879575165,27.97945581812405,29.086428769594818,29.116247729757358,28.97754774175338,28.842927340976082,28.926910774452118,28.86424443319671,30.07696365791219,29.823534709376148,29.87512536294062,29.995873273116334,31.127118032026846,31.15553085662465,32.0786359169946,32.14031712378502,31.931942129275765,31.95429628861584,31.973000433692135,31.87302279971655,32.03466630854058,34.105620432448006,34.19338820965784,34.075816970549425,33.88490111521281,34.19955561760287,34.15540215780749,36.170834156716346,35.85314065437856,36.872160754922305,37.18341411769235,36.83268203459796,36.843664608897576,37.09447361464872,37.86907682453034,38.06002566470231,37.81125153298958,38.02480404040918,38.90808733862562,39.137833559184635,38.803247836324864,38.85664344003284,38.92795903198823,38.97797093783675,39.8736770499803,39.86396956572018,39.80457550981009,40.07895071454672,39.85371610252674,39.96390408583115,40.13554683457767,40.11667891534104,40.179672744843884,40.03577744137167,40.165553131356944,39.987331201942176,39.96309690280426,39.82949932795028,40.11360654699611,39.913604269522295,40.065208586919425,39.880278175793705,39.92018455134377,40.03516270838121,39.8630363810995,39.996455440858846,40.06508859869283,40.02471612545185,39.89890404625574,39.91112567247866,39.815529487864026,41.16314025163932,42.054055529628606,42.18349038627082,42.036366351534035,45.04274124101762,44.967384124706285,44.98478369000199,45.07534360712053,44.81655055318411,44.969563289514284,45.02372376646711,44.93105247573206,45.102687755488155,45.1977290987875,44.84663692652139,45.00978728971917,45.19317755094891,45.14501913321295,44.81093499548569,45.941411499481255,45.862136325741545],\"y\":[0.7671517671517671,0.7671517671517671,0.8898128898128899,0.41287128712871285,0.41287128712871285,0.99800796812749,0.99800796812749,0.99800796812749,0.4402390438247012,0.4402390438247012,0.4402390438247012,0.36852589641434264,0.952191235059761,0.36852589641434264,0.36852589641434264,0.36852589641434264,0.9956521739130435,0.9935622317596566,0.9957081545064378,0.3497854077253219,0.3497854077253219,0.3497854077253219,0.3497854077253219,0.9220338983050848,0.9220338983050848,0.9220338983050848,0.9220338983050848,0.7188841201716738,0.7188841201716738,0.015053763440860216,0.9978494623655914,0.9978494623655914,0.9978494623655914,0.9978494623655914,0.9978494623655914,0.9978494623655914,0.7554479418886199,0.8401937046004843,0.8401937046004843,0.8401937046004843,0.3365617433414044,0.7530266343825666,0.6974335884736605,0.7631697433588474,0.9983277591973244,0.9983277591973244,0.9983277591973244,0.9983277591973244,0.9983277591973244,0.75,0.9978813559322034,0.9978813559322034,0.9978813559322034,0.9972222222222222,0.9972222222222222,0.9972222222222222,0.9972222222222222,0.9972222222222222,0.9416666666666667,0.3826754385964912,0.3826754385964912,0.9385964912280702,0.9978070175438597,0.9978070175438597,0.9978070175438597,0.9978070175438597,0.9978070175438597,0.3826754385964912,0.3815789473684211,0.3815789473684211,0.3826754385964912,0.3826754385964912,0.3826754385964912,0.3826754385964912,0.3826754385964912,0.3782894736842105,0.3782894736842105,0.3782894736842105,0.9978070175438597,0.3706140350877193,0.3706140350877193,0.6820175438596491,0.6820175438596491,0.3826754385964912,0.3826754385964912,0.3826754385964912,0.997946611909651,0.999137187230371,0.999137187230371,0.999137187230371,0.8507936507936508,0.8507936507936508,0.8507936507936508,0.8555555555555555,0.9984126984126984,0.9984126984126984,0.9984126984126984,0.8539682539682539,0.8507936507936508,0.8539682539682539,0.8539682539682539,0.8539682539682539,0.8571428571428571,0.8507936507936508,0.8571428571428571,0.9995039682539683,0.9995039682539683],\"type\":\"scatter\",\"xaxis\":\"x2\",\"yaxis\":\"y2\"},{\"legendgroup\":\"X-ray\",\"legendgrouptitle\":{\"text\":\"Method (Symbol)\"},\"marker\":{\"color\":\"#d07c09\",\"line\":{\"color\":\"black\",\"width\":1},\"size\":10,\"symbol\":\"diamond-tall\"},\"mode\":\"markers\",\"name\":\"X-ray\",\"opacity\":1,\"showlegend\":true,\"x\":[49.84466455050718,49.86754336514165],\"y\":[0.1495754408883083,0.16525146962769433],\"type\":\"scatter\",\"xaxis\":\"x2\",\"yaxis\":\"y2\"},{\"legendgroup\":\"EM\",\"marker\":{\"color\":\"#d07c09\",\"line\":{\"color\":\"black\",\"width\":2},\"size\":10,\"symbol\":\"circle\"},\"mode\":\"markers\",\"name\":\"EM\",\"opacity\":1,\"showlegend\":true,\"x\":[46.801197406305754,47.04461059649178,46.8264945811856,48.09943329289255,47.985029205858176,48.19006046978348,48.110009559173776,47.83489947380001,48.105498280701234,47.910156409793956,47.897260146590874,48.02737408580343,48.15837595686872,47.993428442205115,48.065918077135,47.881029913816676,47.90845459146845,48.16489612379223,47.9707670605277,47.91001106153318,48.092637266820184,47.996098598417476,47.856628508285944,48.083406511609724,48.06424414821321,47.85081229516932,48.16211994754214,49.127206810231364,49.141493067820456,48.889815625220976,48.80876541374354,48.97327742089169,49.03886903067274,48.8227448833182,48.92533374573999,48.98837477350138,48.90304537834785,51.11765972716566,50.92058152070497,50.97428078144036,55.0502812264241,55.079891598322575,55.01569888670801,54.966438505577166,54.854023187148165,55.01587009730921,56.12701772912532],\"y\":[0.9992429977289932,0.9606358819076457,0.9992429977289932,0.9969465648854962,0.9969465648854962,0.9984732824427481,0.9984732824427481,0.9969465648854962,0.9984732824427481,0.9969465648854962,0.9984732824427481,0.9984732824427481,0.9984732824427481,0.9984732824427481,0.9984732824427481,0.9984732824427481,0.9984732824427481,0.9984732824427481,0.9984732824427481,0.9969465648854962,0.9969465648854962,0.9969465648854962,0.9969465648854962,0.9969465648854962,0.9984732824427481,0.9984732824427481,0.9984732824427481,0.99921875,0.97421875,0.9984375,0.99921875,0.99921875,0.99921875,0.99921875,0.99921875,0.99921875,0.99921875,0.998587570621469,0.998587570621469,0.998587570621469,0.9985528219971056,0.9985528219971056,0.9985528219971056,0.9985528219971056,0.9985528219971056,0.9985528219971056,0.9985754985754985],\"type\":\"scatter\",\"xaxis\":\"x2\",\"yaxis\":\"y2\"},{\"legendgroup\":\"AlphaFold\",\"marker\":{\"color\":\"#11efb7\",\"line\":{\"color\":\"black\",\"width\":1},\"size\":10,\"symbol\":\"circle-open\"},\"mode\":\"markers\",\"name\":\"AlphaFold\",\"showlegend\":false,\"x\":[0,1],\"y\":[0.72,0.8832236842105263],\"type\":\"scatter\",\"xaxis\":\"x3\",\"yaxis\":\"y3\"},{\"legendgroup\":\"AlphaFold\",\"marker\":{\"color\":\"#ffb418\",\"line\":{\"color\":\"black\",\"width\":1},\"size\":10,\"symbol\":\"circle-open\"},\"mode\":\"markers\",\"name\":\"AlphaFold\",\"showlegend\":false,\"x\":[2,3,4,5,6,7,8,9,10,11,12,13,14,15,16,17,18,19,20,21],\"y\":[0.9973262032085561,0.21251475796930341,0.98,0.9695817490494296,0.9171483622350675,0.9214659685863874,0.9606060606060606,0.916504854368932,0.9040816326530612,0.787321063394683,0.8609406952965235,0.8568548387096774,0.8147410358565738,0.8694158075601375,0.8606403013182674,0.9773755656108597,0.6859122401847575,0.7293447293447294,0.9761904761904762,0.9346846846846847],\"type\":\"scatter\",\"xaxis\":\"x3\",\"yaxis\":\"y3\"},{\"legendgroup\":\"AlphaFold\",\"marker\":{\"color\":\"#5e2bcb\",\"line\":{\"color\":\"black\",\"width\":1},\"size\":10,\"symbol\":\"circle-open\"},\"mode\":\"markers\",\"name\":\"AlphaFold\",\"showlegend\":false,\"x\":[22,23,24,25,26,27,28,29,30,31,32,33,34,35,36,37,38,39,40,41,42,43,44,45,46],\"y\":[0.38125,0.5033407572383074,0.6011904761904762,0.4518201284796574,0.3772455089820359,0.45188284518828453,0.5054466230936819,0.5118279569892473,0.32088285229202035,0.4236559139784946,0.47413793103448276,0.4831932773109244,0.587378640776699,0.9048672566371682,0.09684684684684684,0.4221105527638191,0.46284501061571126,0.637883008356546,0.6505494505494506,0.3991769547325103,0.25734024179620035,0.7386363636363636,0.7382875605815832,0.7567567567567568,0.11017369727047147],\"type\":\"scatter\",\"xaxis\":\"x3\",\"yaxis\":\"y3\"},{\"legendgroup\":\"AlphaFold\",\"marker\":{\"color\":\"#d07c09\",\"line\":{\"color\":\"black\",\"width\":1},\"size\":10,\"symbol\":\"circle-open\"},\"mode\":\"markers\",\"name\":\"AlphaFold\",\"showlegend\":true,\"x\":[47,48,49,50,51,52,53,54,55,56],\"y\":[0.47954545454545455,0.6498470948012233,0.5504300234558248,0.4071895424836601,0.5190947666195191,0.39679715302491103,0.5138632162661737,0.7873462214411248,0.5173913043478261,0.4964336661911555],\"type\":\"scatter\",\"xaxis\":\"x3\",\"yaxis\":\"y3\"}],                        {\"template\":{\"data\":{\"histogram2dcontour\":[{\"type\":\"histogram2dcontour\",\"colorbar\":{\"outlinewidth\":1,\"ticks\":\"outside\",\"tickcolor\":\"rgb(36,36,36)\"},\"colorscale\":[[0.0,\"#440154\"],[0.1111111111111111,\"#482878\"],[0.2222222222222222,\"#3e4989\"],[0.3333333333333333,\"#31688e\"],[0.4444444444444444,\"#26828e\"],[0.5555555555555556,\"#1f9e89\"],[0.6666666666666666,\"#35b779\"],[0.7777777777777778,\"#6ece58\"],[0.8888888888888888,\"#b5de2b\"],[1.0,\"#fde725\"]]}],\"choropleth\":[{\"type\":\"choropleth\",\"colorbar\":{\"outlinewidth\":1,\"ticks\":\"outside\",\"tickcolor\":\"rgb(36,36,36)\"}}],\"histogram2d\":[{\"type\":\"histogram2d\",\"colorbar\":{\"outlinewidth\":1,\"ticks\":\"outside\",\"tickcolor\":\"rgb(36,36,36)\"},\"colorscale\":[[0.0,\"#440154\"],[0.1111111111111111,\"#482878\"],[0.2222222222222222,\"#3e4989\"],[0.3333333333333333,\"#31688e\"],[0.4444444444444444,\"#26828e\"],[0.5555555555555556,\"#1f9e89\"],[0.6666666666666666,\"#35b779\"],[0.7777777777777778,\"#6ece58\"],[0.8888888888888888,\"#b5de2b\"],[1.0,\"#fde725\"]]}],\"heatmap\":[{\"type\":\"heatmap\",\"colorbar\":{\"outlinewidth\":1,\"ticks\":\"outside\",\"tickcolor\":\"rgb(36,36,36)\"},\"colorscale\":[[0.0,\"#440154\"],[0.1111111111111111,\"#482878\"],[0.2222222222222222,\"#3e4989\"],[0.3333333333333333,\"#31688e\"],[0.4444444444444444,\"#26828e\"],[0.5555555555555556,\"#1f9e89\"],[0.6666666666666666,\"#35b779\"],[0.7777777777777778,\"#6ece58\"],[0.8888888888888888,\"#b5de2b\"],[1.0,\"#fde725\"]]}],\"heatmapgl\":[{\"type\":\"heatmapgl\",\"colorbar\":{\"outlinewidth\":1,\"ticks\":\"outside\",\"tickcolor\":\"rgb(36,36,36)\"},\"colorscale\":[[0.0,\"#440154\"],[0.1111111111111111,\"#482878\"],[0.2222222222222222,\"#3e4989\"],[0.3333333333333333,\"#31688e\"],[0.4444444444444444,\"#26828e\"],[0.5555555555555556,\"#1f9e89\"],[0.6666666666666666,\"#35b779\"],[0.7777777777777778,\"#6ece58\"],[0.8888888888888888,\"#b5de2b\"],[1.0,\"#fde725\"]]}],\"contourcarpet\":[{\"type\":\"contourcarpet\",\"colorbar\":{\"outlinewidth\":1,\"ticks\":\"outside\",\"tickcolor\":\"rgb(36,36,36)\"}}],\"contour\":[{\"type\":\"contour\",\"colorbar\":{\"outlinewidth\":1,\"ticks\":\"outside\",\"tickcolor\":\"rgb(36,36,36)\"},\"colorscale\":[[0.0,\"#440154\"],[0.1111111111111111,\"#482878\"],[0.2222222222222222,\"#3e4989\"],[0.3333333333333333,\"#31688e\"],[0.4444444444444444,\"#26828e\"],[0.5555555555555556,\"#1f9e89\"],[0.6666666666666666,\"#35b779\"],[0.7777777777777778,\"#6ece58\"],[0.8888888888888888,\"#b5de2b\"],[1.0,\"#fde725\"]]}],\"surface\":[{\"type\":\"surface\",\"colorbar\":{\"outlinewidth\":1,\"ticks\":\"outside\",\"tickcolor\":\"rgb(36,36,36)\"},\"colorscale\":[[0.0,\"#440154\"],[0.1111111111111111,\"#482878\"],[0.2222222222222222,\"#3e4989\"],[0.3333333333333333,\"#31688e\"],[0.4444444444444444,\"#26828e\"],[0.5555555555555556,\"#1f9e89\"],[0.6666666666666666,\"#35b779\"],[0.7777777777777778,\"#6ece58\"],[0.8888888888888888,\"#b5de2b\"],[1.0,\"#fde725\"]]}],\"mesh3d\":[{\"type\":\"mesh3d\",\"colorbar\":{\"outlinewidth\":1,\"ticks\":\"outside\",\"tickcolor\":\"rgb(36,36,36)\"}}],\"scatter\":[{\"marker\":{\"line\":{\"color\":\"#283442\"}},\"type\":\"scatter\",\"fillpattern\":{\"fillmode\":\"overlay\",\"size\":10,\"solidity\":0.2}}],\"parcoords\":[{\"type\":\"parcoords\",\"line\":{\"colorbar\":{\"outlinewidth\":1,\"ticks\":\"outside\",\"tickcolor\":\"rgb(36,36,36)\"}}}],\"scatterpolargl\":[{\"type\":\"scatterpolargl\",\"marker\":{\"colorbar\":{\"outlinewidth\":1,\"ticks\":\"outside\",\"tickcolor\":\"rgb(36,36,36)\"}}}],\"bar\":[{\"error_x\":{\"color\":\"rgb(36,36,36)\"},\"error_y\":{\"color\":\"rgb(36,36,36)\"},\"marker\":{\"line\":{\"color\":\"white\",\"width\":0.5},\"pattern\":{\"fillmode\":\"overlay\",\"size\":10,\"solidity\":0.2}},\"type\":\"bar\"}],\"scattergeo\":[{\"type\":\"scattergeo\",\"marker\":{\"colorbar\":{\"outlinewidth\":1,\"ticks\":\"outside\",\"tickcolor\":\"rgb(36,36,36)\"}}}],\"scatterpolar\":[{\"type\":\"scatterpolar\",\"marker\":{\"colorbar\":{\"outlinewidth\":1,\"ticks\":\"outside\",\"tickcolor\":\"rgb(36,36,36)\"}}}],\"histogram\":[{\"marker\":{\"pattern\":{\"fillmode\":\"overlay\",\"size\":10,\"solidity\":0.2},\"line\":{\"color\":\"white\",\"width\":0.6}},\"type\":\"histogram\"}],\"scattergl\":[{\"marker\":{\"line\":{\"color\":\"#283442\"},\"colorbar\":{\"outlinewidth\":1,\"tickcolor\":\"rgb(36,36,36)\",\"ticks\":\"outside\"}},\"type\":\"scattergl\"}],\"scatter3d\":[{\"type\":\"scatter3d\",\"line\":{\"colorbar\":{\"outlinewidth\":1,\"ticks\":\"outside\",\"tickcolor\":\"rgb(36,36,36)\"}},\"marker\":{\"colorbar\":{\"outlinewidth\":1,\"ticks\":\"outside\",\"tickcolor\":\"rgb(36,36,36)\"}}}],\"scattermapbox\":[{\"type\":\"scattermapbox\",\"marker\":{\"colorbar\":{\"outlinewidth\":1,\"ticks\":\"outside\",\"tickcolor\":\"rgb(36,36,36)\"}}}],\"scatterternary\":[{\"type\":\"scatterternary\",\"marker\":{\"colorbar\":{\"outlinewidth\":1,\"ticks\":\"outside\",\"tickcolor\":\"rgb(36,36,36)\"}}}],\"scattercarpet\":[{\"type\":\"scattercarpet\",\"marker\":{\"colorbar\":{\"outlinewidth\":1,\"ticks\":\"outside\",\"tickcolor\":\"rgb(36,36,36)\"}}}],\"carpet\":[{\"aaxis\":{\"endlinecolor\":\"rgb(36,36,36)\",\"gridcolor\":\"white\",\"linecolor\":\"white\",\"minorgridcolor\":\"white\",\"startlinecolor\":\"rgb(36,36,36)\"},\"baxis\":{\"endlinecolor\":\"rgb(36,36,36)\",\"gridcolor\":\"white\",\"linecolor\":\"white\",\"minorgridcolor\":\"white\",\"startlinecolor\":\"rgb(36,36,36)\"},\"type\":\"carpet\"}],\"table\":[{\"cells\":{\"fill\":{\"color\":\"rgb(237,237,237)\"},\"line\":{\"color\":\"white\"}},\"header\":{\"fill\":{\"color\":\"rgb(217,217,217)\"},\"line\":{\"color\":\"white\"}},\"type\":\"table\"}],\"barpolar\":[{\"marker\":{\"line\":{\"color\":\"white\",\"width\":0.5},\"pattern\":{\"fillmode\":\"overlay\",\"size\":10,\"solidity\":0.2}},\"type\":\"barpolar\"}],\"pie\":[{\"automargin\":true,\"type\":\"pie\"}]},\"layout\":{\"autotypenumbers\":\"strict\",\"colorway\":[\"#1F77B4\",\"#FF7F0E\",\"#2CA02C\",\"#D62728\",\"#9467BD\",\"#8C564B\",\"#E377C2\",\"#7F7F7F\",\"#BCBD22\",\"#17BECF\"],\"font\":{\"color\":\"rgb(36,36,36)\"},\"hovermode\":\"closest\",\"hoverlabel\":{\"align\":\"left\"},\"paper_bgcolor\":\"white\",\"plot_bgcolor\":\"white\",\"polar\":{\"bgcolor\":\"white\",\"angularaxis\":{\"gridcolor\":\"rgb(232,232,232)\",\"linecolor\":\"rgb(36,36,36)\",\"ticks\":\"outside\",\"showgrid\":false,\"showline\":true},\"radialaxis\":{\"gridcolor\":\"rgb(232,232,232)\",\"linecolor\":\"rgb(36,36,36)\",\"ticks\":\"outside\",\"showgrid\":false,\"showline\":true}},\"ternary\":{\"bgcolor\":\"white\",\"aaxis\":{\"gridcolor\":\"rgb(232,232,232)\",\"linecolor\":\"rgb(36,36,36)\",\"ticks\":\"outside\",\"showgrid\":false,\"showline\":true},\"baxis\":{\"gridcolor\":\"rgb(232,232,232)\",\"linecolor\":\"rgb(36,36,36)\",\"ticks\":\"outside\",\"showgrid\":false,\"showline\":true},\"caxis\":{\"gridcolor\":\"rgb(232,232,232)\",\"linecolor\":\"rgb(36,36,36)\",\"ticks\":\"outside\",\"showgrid\":false,\"showline\":true}},\"coloraxis\":{\"colorbar\":{\"outlinewidth\":1,\"ticks\":\"outside\",\"tickcolor\":\"rgb(36,36,36)\"}},\"colorscale\":{\"sequential\":[[0.0,\"#440154\"],[0.1111111111111111,\"#482878\"],[0.2222222222222222,\"#3e4989\"],[0.3333333333333333,\"#31688e\"],[0.4444444444444444,\"#26828e\"],[0.5555555555555556,\"#1f9e89\"],[0.6666666666666666,\"#35b779\"],[0.7777777777777778,\"#6ece58\"],[0.8888888888888888,\"#b5de2b\"],[1.0,\"#fde725\"]],\"sequentialminus\":[[0.0,\"#440154\"],[0.1111111111111111,\"#482878\"],[0.2222222222222222,\"#3e4989\"],[0.3333333333333333,\"#31688e\"],[0.4444444444444444,\"#26828e\"],[0.5555555555555556,\"#1f9e89\"],[0.6666666666666666,\"#35b779\"],[0.7777777777777778,\"#6ece58\"],[0.8888888888888888,\"#b5de2b\"],[1.0,\"#fde725\"]],\"diverging\":[[0.0,\"rgb(103,0,31)\"],[0.1,\"rgb(178,24,43)\"],[0.2,\"rgb(214,96,77)\"],[0.3,\"rgb(244,165,130)\"],[0.4,\"rgb(253,219,199)\"],[0.5,\"rgb(247,247,247)\"],[0.6,\"rgb(209,229,240)\"],[0.7,\"rgb(146,197,222)\"],[0.8,\"rgb(67,147,195)\"],[0.9,\"rgb(33,102,172)\"],[1.0,\"rgb(5,48,97)\"]]},\"xaxis\":{\"gridcolor\":\"rgb(232,232,232)\",\"linecolor\":\"rgb(36,36,36)\",\"ticks\":\"outside\",\"title\":{\"standoff\":15},\"zerolinecolor\":\"rgb(36,36,36)\",\"automargin\":true,\"zerolinewidth\":2,\"showgrid\":false,\"showline\":true,\"zeroline\":false},\"yaxis\":{\"gridcolor\":\"rgb(232,232,232)\",\"linecolor\":\"rgb(36,36,36)\",\"ticks\":\"outside\",\"title\":{\"standoff\":15},\"zerolinecolor\":\"rgb(36,36,36)\",\"automargin\":true,\"zerolinewidth\":2,\"showgrid\":false,\"showline\":true,\"zeroline\":false},\"scene\":{\"xaxis\":{\"backgroundcolor\":\"white\",\"gridcolor\":\"rgb(232,232,232)\",\"linecolor\":\"rgb(36,36,36)\",\"showbackground\":true,\"ticks\":\"outside\",\"zerolinecolor\":\"rgb(36,36,36)\",\"gridwidth\":2,\"showgrid\":false,\"showline\":true,\"zeroline\":false},\"yaxis\":{\"backgroundcolor\":\"white\",\"gridcolor\":\"rgb(232,232,232)\",\"linecolor\":\"rgb(36,36,36)\",\"showbackground\":true,\"ticks\":\"outside\",\"zerolinecolor\":\"rgb(36,36,36)\",\"gridwidth\":2,\"showgrid\":false,\"showline\":true,\"zeroline\":false},\"zaxis\":{\"backgroundcolor\":\"white\",\"gridcolor\":\"rgb(232,232,232)\",\"linecolor\":\"rgb(36,36,36)\",\"showbackground\":true,\"ticks\":\"outside\",\"zerolinecolor\":\"rgb(36,36,36)\",\"gridwidth\":2,\"showgrid\":false,\"showline\":true,\"zeroline\":false}},\"shapedefaults\":{\"line\":{\"color\":\"#f2f5fa\",\"width\":0},\"fillcolor\":\"black\",\"opacity\":0.3},\"annotationdefaults\":{\"arrowcolor\":\"#f2f5fa\",\"arrowhead\":0,\"arrowwidth\":1},\"geo\":{\"bgcolor\":\"white\",\"landcolor\":\"white\",\"subunitcolor\":\"white\",\"showland\":true,\"showlakes\":true,\"lakecolor\":\"white\"},\"title\":{\"x\":0.05},\"updatemenudefaults\":{\"bgcolor\":\"#506784\",\"borderwidth\":0},\"sliderdefaults\":{\"bgcolor\":\"#C8D4E3\",\"borderwidth\":1,\"bordercolor\":\"rgb(17,17,17)\",\"tickwidth\":0},\"mapbox\":{\"style\":\"light\"}}},\"xaxis\":{\"anchor\":\"y\",\"domain\":[0.0,1.0],\"matches\":\"x3\",\"showticklabels\":false},\"yaxis\":{\"anchor\":\"x\",\"domain\":[0.608,1.0],\"title\":{\"text\":\"Resolution (A)\"}},\"xaxis2\":{\"anchor\":\"y2\",\"domain\":[0.0,1.0],\"matches\":\"x3\",\"showticklabels\":false},\"yaxis2\":{\"anchor\":\"x2\",\"domain\":[0.304,0.598],\"title\":{\"text\":\"Fraction of Sequence \\u003cbr\\u003e Covered by Structure\"}},\"xaxis3\":{\"anchor\":\"y3\",\"domain\":[0.0,1.0],\"title\":{\"text\":\"Protein Name (Uniprot ID)\"},\"range\":[-0.5,57.5],\"ticktext\":[\"Alpha-1-acid glycoprotein\",\"Human serum albumin\",\"Alcohol dehydrogenase 1A\",\"Aryl hydrocarbon receptor\",\"Aldehyde dehydrogenase 1A1\",\"Monoamine oxidase A\",\"Monoamine oxidase B\",\"Aldehyde oxidase\",\"Aldehyde reductase\",\"Cytochrome P450 1A2\",\"Cytochrome P450 2B6\",\"Cytochrome P450 2C9\",\"Cytochrome P450 2C19\",\"Cytochrome P450 2D6\",\"Cytochrome P450 3A4\",\"Hydroxysteroid dehydrogenase 11-beta\",\"Flavin monooxygenase 1\",\"Glutathione S-transferase A1\",\"Pregnane X receptor\",\"Constitutive androstane receptor\",\"Sulfotransferase 1A1\",\"Xanthine oxidase\",\"HTR2B\",\"Nicotinic nAChR alpha-10\",\"Nicotinic nAChR alpha-3\",\"Nicotinic nAChR alpha-5\",\"Nicotinic nAChR alpha-7\",\"Nicotinic nAChR alpha-9\",\"Muscarinic receptor M1\",\"Muscarinic receptor M2\",\"Muscarinic receptor M3\",\"Adrenergic receptor A1\",\"Adrenergic receptor A2\",\"Adrenergic receptor B1\",\"Adrenergic receptor B2\",\"Phosphodiesterase 3A\",\"CaV 1.2\",\"Calcium L-channel\",\"Cannabinoid receptor CB1\",\"Cannabinoid receptor CB2\",\"GABA receptor alpha-1\",\"Histamine H1 receptor\",\"HERG (Kv11.1)\",\"Noradrenaline transporter\",\"Dopamine transporter\",\"Serotonin transporter\",\"NaV1.5\",\"BSEP\",\"BCRP\",\"P-gp\",\"MRP1\",\"PEPT1\",\"OAT1\",\"OAT3\",\"MATE\",\"OATP1B1\",\"OATP1B3\"],\"tickvals\":[0,1,2,3,4,5,6,7,8,9,10,11,12,13,14,15,16,17,18,19,20,21,22,23,24,25,26,27,28,29,30,31,32,33,34,35,36,37,38,39,40,41,42,43,44,45,46,47,48,49,50,51,52,53,54,55,56]},\"yaxis3\":{\"anchor\":\"x3\",\"domain\":[0.0,0.294],\"title\":{\"text\":\"Fraction Modeled with \\u003cbr\\u003e Very High Confidence \\u003cbr\\u003e (pLDDT \\u003e 90)\"}},\"title\":{\"text\":\"Analysis of Structural Data for ADMET Targets\"},\"height\":800,\"width\":1600},                        {\"responsive\": true}                    ).then(function(){\n                            \nvar gd = document.getElementById('867b28c7-a5af-4509-948f-ae8321b92a3f');\nvar x = new MutationObserver(function (mutations, observer) {{\n        var display = window.getComputedStyle(gd).display;\n        if (!display || display === 'none') {{\n            console.log([gd, 'removed!']);\n            Plotly.purge(gd);\n            observer.disconnect();\n        }}\n}});\n\n// Listen for the removal of the full notebook cells\nvar notebookContainer = gd.closest('#notebook-container');\nif (notebookContainer) {{\n    x.observe(notebookContainer, {childList: true});\n}}\n\n// Listen for the clearing of the current output cell\nvar outputEl = gd.closest('.output');\nif (outputEl) {{\n    x.observe(outputEl, {childList: true});\n}}\n\n                        })                };                });            </script>        </div>"
     },
     "metadata": {},
     "output_type": "display_data"
    }
   ],
   "source": [
    "# Create layout\n",
    "layout = go.Layout(\n",
    "    title=\"Analysis of Structural Data for ADMET Targets\",\n",
    "    xaxis3=dict(title='Protein Name (Uniprot ID)',\n",
    "               range=[-0.5, len(protein_name_mapping) + 0.5],\n",
    "               tickvals=list(protein_name_mapping.values()), \n",
    "               ticktext=[uniprot_to_grant_name[protein_name] for protein_name in df['Uniprot ID'].unique()]),\n",
    "    yaxis=dict(title='Resolution (A)'),\n",
    "    yaxis2=dict(title='Fraction of Sequence <br> Covered by Structure'),\n",
    "    yaxis3=dict(title='Fraction Modeled with <br> Very High Confidence <br> (pLDDT > 90)'),\n",
    "    template='simple_white',\n",
    "    width=1600,\n",
    "    height=800,\n",
    ")\n",
    "fig.update_layout(layout)\n",
    "fig.show()"
   ],
   "metadata": {
    "collapsed": false,
    "ExecuteTime": {
     "end_time": "2024-02-22T16:42:30.254147Z",
     "start_time": "2024-02-22T16:42:28.942293Z"
    }
   },
   "id": "2f0a184d607f42b6",
   "execution_count": 97
  },
  {
   "cell_type": "code",
   "outputs": [],
   "source": [
    "fig.write_image(fig_dir / 'combined_structure_analysis.png')\n",
    "fig.write_image(fig_dir / 'combined_structure_analysis.svg')"
   ],
   "metadata": {
    "collapsed": false,
    "ExecuteTime": {
     "end_time": "2024-02-22T16:42:32.758493Z",
     "start_time": "2024-02-22T16:42:30.295665Z"
    }
   },
   "id": "c98a0830bf540a40",
   "execution_count": 98
  },
  {
   "cell_type": "code",
   "outputs": [],
   "source": [],
   "metadata": {
    "collapsed": false,
    "ExecuteTime": {
     "end_time": "2024-02-22T16:31:53.265061Z",
     "start_time": "2024-02-22T16:31:53.260224Z"
    }
   },
   "id": "5928e00a69061dff",
   "execution_count": 51
  }
 ],
 "metadata": {
  "kernelspec": {
   "display_name": "Python 3",
   "language": "python",
   "name": "python3"
  },
  "language_info": {
   "codemirror_mode": {
    "name": "ipython",
    "version": 2
   },
   "file_extension": ".py",
   "mimetype": "text/x-python",
   "name": "python",
   "nbconvert_exporter": "python",
   "pygments_lexer": "ipython2",
   "version": "2.7.6"
  }
 },
 "nbformat": 4,
 "nbformat_minor": 5
}
