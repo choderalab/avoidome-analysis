{
 "cells": [
  {
   "cell_type": "markdown",
   "source": [
    "# Goals"
   ],
   "metadata": {
    "collapsed": false
   },
   "id": "37a55d67c4bec007"
  },
  {
   "cell_type": "markdown",
   "source": [
    "I'd like to load in, process, and save the data so that I can just load it in for the figure plotting"
   ],
   "metadata": {
    "collapsed": false
   },
   "id": "36d21b5e38b84c6e"
  },
  {
   "cell_type": "markdown",
   "source": [
    "# Imports"
   ],
   "metadata": {
    "collapsed": false
   },
   "id": "c35360861c967c2c"
  },
  {
   "cell_type": "code",
   "outputs": [],
   "source": [
    "from pathlib import Path\n",
    "import yaml\n",
    "from tqdm import tqdm\n",
    "import avoidome.uniprot as uniprot\n",
    "from importlib import reload"
   ],
   "metadata": {
    "collapsed": false
   },
   "id": "ddc88c16bf6a784e",
   "execution_count": null
  },
  {
   "cell_type": "code",
   "outputs": [],
   "source": [
    "data_dir = Path('../data')\n",
    "fig_dir = Path('../figures')\n",
    "uniprot_dir = data_dir / 'uniprot_downloads'\n",
    "af_dir = data_dir / 'alphafold_downloads'\n",
    "schema_cache = data_dir / 'schema_cache'"
   ],
   "metadata": {
    "collapsed": false
   },
   "id": "b390b6d1b89e4f1e",
   "execution_count": null
  },
  {
   "cell_type": "code",
   "outputs": [],
   "source": [
    "with open(data_dir / 'admet_names_curated.yml') as f:\n",
    "    adme_names = yaml.safe_load(f)"
   ],
   "metadata": {
    "collapsed": false
   },
   "id": "ee90f6e1d7ef1beb",
   "execution_count": null
  },
  {
   "cell_type": "markdown",
   "source": [
    "# Fetch Uniprot Entries"
   ],
   "metadata": {
    "collapsed": false
   },
   "id": "5cd39d328e428dbd"
  },
  {
   "cell_type": "code",
   "outputs": [],
   "source": [
    "exp_structure_dict = {}\n",
    "failed = {}\n",
    "success = {}\n",
    "for protein in tqdm(adme_names):\n",
    "    uniprot_id = protein['uniprot']\n",
    "    ue = uniprot.UniprotEntry.from_uniprot_id(uniprot_id)\n",
    "    try:\n",
    "        success[uniprot_id] = ue\n",
    "    except:\n",
    "        failed[uniprot_id] = ue"
   ],
   "metadata": {
    "collapsed": false
   },
   "id": "9e3c0f085dcfef26",
   "execution_count": null
  },
  {
   "cell_type": "markdown",
   "source": [
    "## Save to local"
   ],
   "metadata": {
    "collapsed": false
   },
   "id": "9be8e2630368d74"
  },
  {
   "cell_type": "code",
   "outputs": [],
   "source": [
    "for uniprot_id, ue in success.items():\n",
    "    yaml.safe_dump(ue.dict(), open(f\"{uniprot_dir / ue.data['id']}.yml\", 'w'))"
   ],
   "metadata": {
    "collapsed": false
   },
   "id": "ddfde9c81fed1c8",
   "execution_count": null
  },
  {
   "cell_type": "markdown",
   "source": [
    "# Reload"
   ],
   "metadata": {
    "collapsed": false
   },
   "id": "1421ede40d37325c"
  },
  {
   "cell_type": "code",
   "outputs": [],
   "source": [
    "entries = list(uniprot_dir.glob('*.yml'))\n",
    "reload(uniprot)\n",
    "uniprot_entries = [uniprot.UniprotEntry.from_dict(yaml.safe_load(open(file, 'r'))) for file in tqdm(entries)]"
   ],
   "metadata": {
    "collapsed": false
   },
   "id": "f08358c90fd1c16f",
   "execution_count": null
  },
  {
   "cell_type": "markdown",
   "source": [
    "# Download AF Structures"
   ],
   "metadata": {
    "collapsed": false
   },
   "id": "8a2ce01615df7012"
  },
  {
   "cell_type": "code",
   "outputs": [],
   "source": [
    "# i've made this return a list but it's only ever going to be one\n",
    "af_structures = [u.get_alphafold_structures()[0] for u in tqdm(uniprot_entries)]"
   ],
   "metadata": {
    "collapsed": false
   },
   "id": "41e60d3e21b8805d",
   "execution_count": null
  },
  {
   "cell_type": "code",
   "outputs": [],
   "source": [
    "af_structures[0]"
   ],
   "metadata": {
    "collapsed": false
   },
   "id": "d7a6f106fa662788",
   "execution_count": null
  },
  {
   "cell_type": "code",
   "outputs": [],
   "source": [
    "from asapdiscovery.data.utils import download_file"
   ],
   "metadata": {
    "collapsed": false
   },
   "id": "b4c0164d75f648ff",
   "execution_count": null
  },
  {
   "cell_type": "code",
   "outputs": [],
   "source": [
    "for p in af_structures:\n",
    "    file_path = af_dir / f\"{p.components[0].name}.cif\"\n",
    "    if not file_path.exists():\n",
    "        download_file(p.model_url, file_path)"
   ],
   "metadata": {
    "collapsed": false
   },
   "id": "45eec138044fc6e1",
   "execution_count": null
  },
  {
   "cell_type": "markdown",
   "source": [
    "# Get TargetStructureData from Uniprot Entries"
   ],
   "metadata": {
    "collapsed": false
   },
   "id": "aaa3f103e2ae34f"
  },
  {
   "cell_type": "code",
   "outputs": [],
   "source": [
    "import avoidome.target as target\n",
    "reload(target)\n",
    "tsds = [target.TargetStructureData.from_uniprot_entry(ue) for ue in tqdm(uniprot_entries)]"
   ],
   "metadata": {
    "collapsed": false
   },
   "id": "267eddbed95ee198",
   "execution_count": null
  },
  {
   "cell_type": "markdown",
   "source": [
    "## Save to schema_cache"
   ],
   "metadata": {
    "collapsed": false
   },
   "id": "9b5954f193a7d294"
  },
  {
   "cell_type": "code",
   "outputs": [],
   "source": [
    "for tsd in tsds:\n",
    "    yaml.safe_dump(tsd.dict(), open(f\"{schema_cache / tsd.target_name}.yml\", 'w'))"
   ],
   "metadata": {
    "collapsed": false
   },
   "id": "5e66a48d618c8930",
   "execution_count": null
  },
  {
   "cell_type": "code",
   "outputs": [],
   "source": [],
   "metadata": {
    "collapsed": false
   },
   "id": "fd93293f741f67eb"
  }
 ],
 "metadata": {
  "kernelspec": {
   "display_name": "Python 3",
   "language": "python",
   "name": "python3"
  },
  "language_info": {
   "codemirror_mode": {
    "name": "ipython",
    "version": 2
   },
   "file_extension": ".py",
   "mimetype": "text/x-python",
   "name": "python",
   "nbconvert_exporter": "python",
   "pygments_lexer": "ipython2",
   "version": "2.7.6"
  }
 },
 "nbformat": 4,
 "nbformat_minor": 5
}
