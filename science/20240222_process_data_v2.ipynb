{
 "cells": [
  {
   "cell_type": "markdown",
   "source": [
    "# Goals"
   ],
   "metadata": {
    "collapsed": false
   },
   "id": "37a55d67c4bec007"
  },
  {
   "cell_type": "markdown",
   "source": [
    "I'd like to load in, process, and save the data so that I can just load it in for the figure plotting"
   ],
   "metadata": {
    "collapsed": false
   },
   "id": "36d21b5e38b84c6e"
  },
  {
   "cell_type": "markdown",
   "source": [],
   "metadata": {
    "collapsed": false
   },
   "id": "aa9bdf2b3d333fd6"
  },
  {
   "cell_type": "markdown",
   "source": [
    "# Imports"
   ],
   "metadata": {
    "collapsed": false
   },
   "id": "c35360861c967c2c"
  },
  {
   "cell_type": "code",
   "outputs": [],
   "source": [
    "from pathlib import Path\n",
    "import yaml\n",
    "from tqdm import tqdm\n",
    "import avoidome.uniprot as uniprot\n",
    "from importlib import reload"
   ],
   "metadata": {
    "collapsed": false,
    "ExecuteTime": {
     "end_time": "2024-02-22T14:33:42.424423Z",
     "start_time": "2024-02-22T14:33:42.418657Z"
    }
   },
   "id": "ddc88c16bf6a784e",
   "execution_count": 3
  },
  {
   "cell_type": "code",
   "outputs": [],
   "source": [
    "data_dir = Path('../data')\n",
    "fig_dir = Path('../figures')\n",
    "uniprot_dir = data_dir / 'uniprot_downloads'\n",
    "af_dir = data_dir / 'alphafold_downloads'"
   ],
   "metadata": {
    "collapsed": false,
    "ExecuteTime": {
     "end_time": "2024-02-22T14:33:42.706157Z",
     "start_time": "2024-02-22T14:33:42.701309Z"
    }
   },
   "id": "b390b6d1b89e4f1e",
   "execution_count": 4
  },
  {
   "cell_type": "code",
   "outputs": [],
   "source": [
    "with open(data_dir / 'admet_names_curated.yml') as f:\n",
    "    adme_names = yaml.safe_load(f)"
   ],
   "metadata": {
    "collapsed": false,
    "ExecuteTime": {
     "end_time": "2024-02-22T14:33:36.389577Z",
     "start_time": "2024-02-22T14:33:36.386239Z"
    }
   },
   "id": "ee90f6e1d7ef1beb",
   "execution_count": 2
  }
 ],
 "metadata": {
  "kernelspec": {
   "display_name": "Python 3",
   "language": "python",
   "name": "python3"
  },
  "language_info": {
   "codemirror_mode": {
    "name": "ipython",
    "version": 2
   },
   "file_extension": ".py",
   "mimetype": "text/x-python",
   "name": "python",
   "nbconvert_exporter": "python",
   "pygments_lexer": "ipython2",
   "version": "2.7.6"
  }
 },
 "nbformat": 4,
 "nbformat_minor": 5
}
