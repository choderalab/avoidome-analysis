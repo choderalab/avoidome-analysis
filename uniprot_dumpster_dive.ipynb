{
 "cells": [
  {
   "cell_type": "markdown",
   "id": "d27375c8-e7c2-45a8-936a-e2be44fdefed",
   "metadata": {},
   "source": [
    "## Accessing the UniProt API\n",
    "### Trying to write a simple script or utility to look up aliases in Uniprot"
   ]
  },
  {
   "cell_type": "markdown",
   "id": "b2149120-ad99-4682-9748-d8fb3712b6c5",
   "metadata": {},
   "source": [
    "https://www.uniprot.org/help/api_queries"
   ]
  },
  {
   "cell_type": "code",
   "execution_count": null,
   "id": "fd18dbfe-8413-4838-9a36-6db6a3a3995c",
   "metadata": {},
   "outputs": [],
   "source": [
    "import requests\n",
    "import re\n",
    "from pathlib import Path\n",
    "import yaml"
   ]
  },
  {
   "cell_type": "code",
   "execution_count": null,
   "id": "e6b2c3a1-ac31-43eb-8591-b5c12e9c96f0",
   "metadata": {},
   "outputs": [],
   "source": [
    "# file with genes that would like to know alternative names and uniprot id of\n",
    "local_path = Path(\"/Users/choderalab/asapdiscovery/notebook/\")\n",
    "file_path = local_path / 'genes_of_interest.txt'"
   ]
  },
  {
   "cell_type": "code",
   "execution_count": null,
   "id": "a3dca9ab-44e9-415f-babc-c8cd463cc168",
   "metadata": {},
   "outputs": [],
   "source": [
    "# Homo sapien organism id\n",
    "human = 'organism_id:9606'"
   ]
  },
  {
   "cell_type": "code",
   "execution_count": null,
   "id": "680b5c58-9b15-42a0-8c00-62631a34fc03",
   "metadata": {},
   "outputs": [],
   "source": [
    "# Generate URL based on the input\n",
    "# Get url for gene is the intended format\n",
    "def gen_url_gene(gene, format):\n",
    "    url = 'https://rest.uniprot.org/uniprotkb/search?query=' + gene\n",
    "    url = url + '+AND+reviewed:true+AND+organism_id:9606&' + format\n",
    "    return url\n"
   ]
  },
  {
   "cell_type": "code",
   "execution_count": null,
   "id": "63a24620-55e3-446c-8d44-bc0158abc494",
   "metadata": {},
   "outputs": [],
   "source": [
    "# Get uniprot id from the fasta string requested\n",
    "def get_uniprot_id(fasta_match,gene):\n",
    "    match = re.search(r'\\|(\\w+)\\|', fasta_match)\n",
    "    if match:\n",
    "        uniprot_id = match.group(1)\n",
    "        return uniprot_id\n",
    "    else:\n",
    "        print(\"Uniprot id not found for\" + gene)\n",
    "    "
   ]
  },
  {
   "cell_type": "code",
   "execution_count": null,
   "id": "2eed76cf-8924-41e8-9b6a-49e9bf98ab3f",
   "metadata": {},
   "outputs": [],
   "source": [
    "# Get names of the gene from the fasta string requested\n",
    "def get_names(fasta_match,gene):\n",
    "    match = re.search(r'\\|[^|]*\\|([^|]*)OS=', fasta_match)\n",
    "    if match:\n",
    "        gene_names = match.group(1)\n",
    "        return gene_names\n",
    "    else:\n",
    "        print(\"Gene names not found \" + gene)"
   ]
  },
  {
   "cell_type": "code",
   "execution_count": null,
   "id": "a1db34a8",
   "metadata": {},
   "outputs": [],
   "source": [
    "# Make this into a \n",
    "def parse_file(file_path):\n",
    "    entries = []\n",
    "    with open(file_path, 'r') as file:\n",
    "        for line in file:\n",
    "            # Splitting each line by commas and appending to the entries list\n",
    "            entries.extend(line.strip().split(','))\n",
    "    return entries\n"
   ]
  },
  {
   "cell_type": "code",
   "execution_count": null,
   "id": "c22618fc-bfaa-4171-b862-e86875d6b3f6",
   "metadata": {},
   "outputs": [],
   "source": [
    "gene_list = parse_file(file_path)\n",
    "print(gene_list)"
   ]
  },
  {
   "cell_type": "code",
   "execution_count": null,
   "id": "9a55efe5-28a8-4aca-9f90-ad1d53b847c3",
   "metadata": {},
   "outputs": [],
   "source": [
    "def split_names(gene_names):\n",
    "    # Check if parentheses are present in the string\n",
    "    if '(' in gene_names and ')' in gene_names:\n",
    "        # Use regular expression to split the string\n",
    "        parts = re.split(r'\\s*\\(([^)]+)\\)\\s*', gene_names)\n",
    "        # Remove empty strings from the split result\n",
    "        parts = [part for part in parts if part.strip()]\n",
    "        return parts\n",
    "    else:\n",
    "        return [gene_names]"
   ]
  },
  {
   "cell_type": "markdown",
   "id": "d146f516-c33f-4b59-9bb7-039b2e0ab450",
   "metadata": {},
   "source": [
    "# Make a file with only the best matched entry"
   ]
  },
  {
   "cell_type": "code",
   "execution_count": null,
   "id": "b18dc49d-c3fe-4562-85a3-9e2a64d55125",
   "metadata": {},
   "outputs": [],
   "source": [
    "# Make dictionary of lists that consist of: gene, other names for gene, uniprot id\n",
    "# Key is the gene querying\n",
    "uniprot_dict = dict()\n",
    "# Loop through list of genes of interest\n",
    "fastas_list = []\n",
    "format = \"format=fasta\"\n",
    "for gene in gene_list:\n",
    "    # Some genes have alternative name provided in brackets, separate into two names\n",
    "    name_list = split_names(gene)\n",
    "    if len(name_list) == 2:\n",
    "        # Go with the first name first\n",
    "        # May want to get the second name if find that the first one isnt working well\n",
    "        # May want to iterate through\n",
    "        gene1 = name_list[0]\n",
    "    # If just one name provided, use that one\n",
    "    else:\n",
    "        gene1 = gene\n",
    "    \n",
    "    url = gen_url_gene(gene1, format)\n",
    "    all_fastas = requests.get(url).text\n",
    "    fasta_list = re.split(r'\\n(?=>)', all_fastas)\n",
    "    # Getting the first \n",
    "    fastas_list.append(fasta_list)\n",
    "    probable_match = fasta_list[0]\n",
    "    # Get the Uniprot name of the first match\n",
    "    uniprot_id = get_uniprot_id(probable_match,gene)\n",
    "    gene_names = get_names(probable_match,gene)\n",
    "    # Update found things to list\n",
    "    uniprot_dict[gene] = [gene, gene_names, uniprot_id]"
   ]
  },
  {
   "cell_type": "markdown",
   "id": "8ac6a767-d682-4dbd-a410-7b82e58f189b",
   "metadata": {},
   "source": [
    "The target structure want out put to have:\n",
    " - name: ABCB1\n",
    "  alternatives: P-gp, MDR1\n",
    "  uniprot: P08183\n",
    "\n",
    "Want yaml file output"
   ]
  },
  {
   "cell_type": "code",
   "execution_count": null,
   "id": "e595637c-db3c-4c59-be48-e9f363987fb8",
   "metadata": {},
   "outputs": [],
   "source": [
    "# Open a file in write mode\n",
    "with open('adme.yml', 'w') as file:\n",
    "    # Iterate through the list of lists\n",
    "    for key in uniprot_dict:\n",
    "        # Convert the inner list to YAML format\n",
    "        inner_list = uniprot_dict[key]\n",
    "        # Write each item in the inner list with appropriate headings\n",
    "        file.write(\"- name: {}\\n\".format(inner_list[0]))\n",
    "        file.write(\"  alternatives: {}\\n\".format(inner_list[1]))\n",
    "        file.write(\"  uniprot: {}\\n\".format(inner_list[2]))\n",
    "file.close()"
   ]
  },
  {
   "cell_type": "markdown",
   "id": "7a2fa4da-b6db-4c53-b411-8e17c3c97591",
   "metadata": {},
   "source": [
    "# Make a file with all the fasta entries that match"
   ]
  },
  {
   "cell_type": "code",
   "execution_count": null,
   "id": "5f3037c8-315e-4762-8ae3-33c2beee6dda",
   "metadata": {},
   "outputs": [],
   "source": [
    "all_uniprot_dict = dict()\n",
    "# Get all the names that were pulled down\n",
    "for gene in gene_list:\n",
    "    # Some genes have alternative name provided in brackets, separate into two names\n",
    "    name_list = split_names(gene)\n",
    "    if len(name_list) == 2:\n",
    "        # Go with the first name first\n",
    "        # May want to get the second name if find that the first one isnt working well\n",
    "        # May want to iterate through\n",
    "        gene1 = name_list[0]\n",
    "    # If just one name provided, use that one\n",
    "    else:\n",
    "        gene1 = gene\n",
    "    \n",
    "    url = gen_url_gene(gene1, format)\n",
    "    all_fastas = requests.get(url).text\n",
    "    fasta_list = re.split(r'\\n(?=>)', all_fastas)\n",
    "    # Getting all\n",
    "    for fasta in fasta_list:\n",
    "        # Get the Uniprot name of the first match\n",
    "        uniprot_id = get_uniprot_id(fasta,gene)\n",
    "        gene_names = get_names(fasta,gene)\n",
    "        if gene in all_uniprot_dict:\n",
    "            all_uniprot_dict[gene].append([gene, gene_names, uniprot_id])\n",
    "        else:\n",
    "            all_uniprot_dict[gene] = [[gene, gene_names, uniprot_id]]"
   ]
  },
  {
   "cell_type": "code",
   "execution_count": null,
   "id": "e9cf37f0-b5c4-4275-86ee-00dcb53a101e",
   "metadata": {},
   "outputs": [],
   "source": [
    "with open('adme_all_found.yml', 'w') as file:\n",
    "    # Iterate through the list of lists\n",
    "    for key in all_uniprot_dict:\n",
    "        # Convert the inner list to YAML format\n",
    "        outer_list = all_uniprot_dict[key]\n",
    "        for inner_list in outer_list:\n",
    "            # Write each item in the inner list with appropriate headings\n",
    "            file.write(\"- name: {}\\n\".format(inner_list[0]))\n",
    "            file.write(\"  alternatives: {}\\n\".format(inner_list[1]))\n",
    "            file.write(\"  uniprot: {}\\n\".format(inner_list[2]))\n",
    "file.close()"
   ]
  },
  {
   "cell_type": "code",
   "execution_count": null,
   "id": "ae1fd0f6-b912-4f40-9e0f-e8acb8e04cab",
   "metadata": {},
   "outputs": [],
   "source": []
  }
 ],
 "metadata": {
  "kernelspec": {
   "display_name": "Python 3 (ipykernel)",
   "language": "python",
   "name": "python3"
  },
  "language_info": {
   "codemirror_mode": {
    "name": "ipython",
    "version": 3
   },
   "file_extension": ".py",
   "mimetype": "text/x-python",
   "name": "python",
   "nbconvert_exporter": "python",
   "pygments_lexer": "ipython3",
   "version": "3.10.13"
  },
  "vscode": {
   "interpreter": {
    "hash": "31f2aee4e71d21fbe5cf8b01ff0e069b9275f58929596ceb00d14d90e3e16cd6"
   }
  }
 },
 "nbformat": 4,
 "nbformat_minor": 5
}
